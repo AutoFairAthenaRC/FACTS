{
 "cells": [
  {
   "cell_type": "markdown",
   "metadata": {},
   "source": [
    "Datasets used: \n",
    "- `adult (Adult)` :<br>The UCI Adult dataset contains 14 features, which can be divided into two categories: demographic and income-related.<br> The demographic features include:\n",
    "\n",
    "    age: continuous.<br>\n",
    "    fnlwgt : continuous, represents final weight, which is the number of units in the target population that the responding unit represents.<br>\n",
    "    workclass: categorical, with values 'Private', 'Local-gov', 'Self-emp-not-inc', 'Federal-gov', 'State-gov', 'Self-emp-inc', 'Without-pay'.<br>\n",
    "    education: categorical, with values '11th', 'HS-grad', 'Assoc-acdm', 'Some-college', '10th', ..., '9th', 'Doctorate', '12th', '1st-4th', 'Preschool'.<br>\n",
    "    education-num: continuous with values 1 to 16, one number assigned to each label of education feature.<br>\n",
    "    marital-status: categorical, with values 'Never-married', 'Married-civ-spouse', 'Widowed', 'Separated', 'Divorced', 'Married-spouse-absent', 'Married-AF-spouse'.<br>\n",
    "    occupation: categorical, with values such as 'Machine-op-inspct', 'Farming-fishing', 'Protective-serv'.<br>\n",
    "    relationship: categorical, with values 'Own-child', 'Husband', 'Not-in-family', 'Unmarried', 'Wife', 'Other-relative'.<br>\n",
    "    race: categorical, with values such as white, black, and Asian.<br>\n",
    "    sex: categorical, with values male and female.<br>\n",
    "    \n",
    "    The income-related features include:<br>\n",
    "\n",
    "    hours-per-week: continuous.<br>\n",
    "    native-country: categorical, with values such as United-States, Mexico, and Germany.<br>\n",
    "    capital-gain: continuous, represent the amount of money an individual has gained from the sale of investments such as stocks, bonds, or real estate.<br>\n",
    "    capital-loss: continuous, represent the amount of money an individual has lost from the sale of investments such as stocks, bonds, or real estate..<br>\n",
    "    The target feature is the income, which is binary:<br>\n",
    "    income: categorical, with values less than or equal to 50K and greater than 50K.<br>\n",
    "\n",
    "Reference Links: https://archive.ics.uci.edu/ml/datasets/adult"
   ]
  },
  {
   "cell_type": "code",
   "execution_count": 1,
   "metadata": {
    "tags": []
   },
   "outputs": [],
   "source": [
    "import pandas as pd\n",
    "import numpy as np\n",
    "from pprint import pprint\n",
    "\n",
    "from sklearn.model_selection import train_test_split\n",
    "from sklearn.metrics import classification_report, confusion_matrix, ConfusionMatrixDisplay\n",
    "\n",
    "import os\n",
    "import sys\n",
    "module_path = os.path.abspath(os.path.join('..'))\n",
    "if module_path not in sys.path:\n",
    "    sys.path.append(module_path)\n",
    "\n",
    "import gfacts\n",
    "from gfacts import valid_ifthens_with_coverage_correctness, rules2rulesbyif\n",
    "from gfacts.models import customLogisticRegression\n",
    "from gfacts.parameters import ParameterProxy\n",
    "from gfacts.formatting import recourse_report_reverse\n",
    "from aif360.sklearn.datasets import fetch_adult\n",
    "import matplotlib.pyplot as plt\n",
    "\n",
    "from IPython.display import Markdown, display"
   ]
  },
  {
   "cell_type": "markdown",
   "metadata": {},
   "source": [
    "## Load Dataset"
   ]
  },
  {
   "cell_type": "code",
   "execution_count": 2,
   "metadata": {
    "tags": []
   },
   "outputs": [
    {
     "data": {
      "text/html": [
       "<div>\n",
       "<style scoped>\n",
       "    .dataframe tbody tr th:only-of-type {\n",
       "        vertical-align: middle;\n",
       "    }\n",
       "\n",
       "    .dataframe tbody tr th {\n",
       "        vertical-align: top;\n",
       "    }\n",
       "\n",
       "    .dataframe thead th {\n",
       "        text-align: right;\n",
       "    }\n",
       "</style>\n",
       "<table border=\"1\" class=\"dataframe\">\n",
       "  <thead>\n",
       "    <tr style=\"text-align: right;\">\n",
       "      <th></th>\n",
       "      <th>age</th>\n",
       "      <th>Workclass</th>\n",
       "      <th>education-num</th>\n",
       "      <th>marital-status</th>\n",
       "      <th>occupation</th>\n",
       "      <th>relationship</th>\n",
       "      <th>race</th>\n",
       "      <th>sex</th>\n",
       "      <th>capital-gain</th>\n",
       "      <th>capital-loss</th>\n",
       "      <th>hours-per-week</th>\n",
       "      <th>native-country</th>\n",
       "      <th>income</th>\n",
       "    </tr>\n",
       "  </thead>\n",
       "  <tbody>\n",
       "    <tr>\n",
       "      <th>0</th>\n",
       "      <td>39</td>\n",
       "      <td>State-gov</td>\n",
       "      <td>13</td>\n",
       "      <td>Never-married</td>\n",
       "      <td>Adm-clerical</td>\n",
       "      <td>Not-in-family</td>\n",
       "      <td>White</td>\n",
       "      <td>Male</td>\n",
       "      <td>2174</td>\n",
       "      <td>0</td>\n",
       "      <td>40</td>\n",
       "      <td>United-States</td>\n",
       "      <td>0</td>\n",
       "    </tr>\n",
       "    <tr>\n",
       "      <th>1</th>\n",
       "      <td>50</td>\n",
       "      <td>Self-emp-not-inc</td>\n",
       "      <td>13</td>\n",
       "      <td>Married-civ-spouse</td>\n",
       "      <td>Exec-managerial</td>\n",
       "      <td>Husband</td>\n",
       "      <td>White</td>\n",
       "      <td>Male</td>\n",
       "      <td>0</td>\n",
       "      <td>0</td>\n",
       "      <td>13</td>\n",
       "      <td>United-States</td>\n",
       "      <td>0</td>\n",
       "    </tr>\n",
       "    <tr>\n",
       "      <th>2</th>\n",
       "      <td>38</td>\n",
       "      <td>Private</td>\n",
       "      <td>9</td>\n",
       "      <td>Divorced</td>\n",
       "      <td>Handlers-cleaners</td>\n",
       "      <td>Not-in-family</td>\n",
       "      <td>White</td>\n",
       "      <td>Male</td>\n",
       "      <td>0</td>\n",
       "      <td>0</td>\n",
       "      <td>40</td>\n",
       "      <td>United-States</td>\n",
       "      <td>0</td>\n",
       "    </tr>\n",
       "    <tr>\n",
       "      <th>3</th>\n",
       "      <td>53</td>\n",
       "      <td>Private</td>\n",
       "      <td>7</td>\n",
       "      <td>Married-civ-spouse</td>\n",
       "      <td>Handlers-cleaners</td>\n",
       "      <td>Husband</td>\n",
       "      <td>Black</td>\n",
       "      <td>Male</td>\n",
       "      <td>0</td>\n",
       "      <td>0</td>\n",
       "      <td>40</td>\n",
       "      <td>United-States</td>\n",
       "      <td>0</td>\n",
       "    </tr>\n",
       "    <tr>\n",
       "      <th>4</th>\n",
       "      <td>28</td>\n",
       "      <td>Private</td>\n",
       "      <td>13</td>\n",
       "      <td>Married-civ-spouse</td>\n",
       "      <td>Prof-specialty</td>\n",
       "      <td>Wife</td>\n",
       "      <td>Black</td>\n",
       "      <td>Female</td>\n",
       "      <td>0</td>\n",
       "      <td>0</td>\n",
       "      <td>40</td>\n",
       "      <td>Cuba</td>\n",
       "      <td>0</td>\n",
       "    </tr>\n",
       "  </tbody>\n",
       "</table>\n",
       "</div>"
      ],
      "text/plain": [
       "   age          Workclass  education-num       marital-status  \\\n",
       "0   39          State-gov             13        Never-married   \n",
       "1   50   Self-emp-not-inc             13   Married-civ-spouse   \n",
       "2   38            Private              9             Divorced   \n",
       "3   53            Private              7   Married-civ-spouse   \n",
       "4   28            Private             13   Married-civ-spouse   \n",
       "\n",
       "           occupation    relationship    race      sex  capital-gain  \\\n",
       "0        Adm-clerical   Not-in-family   White     Male          2174   \n",
       "1     Exec-managerial         Husband   White     Male             0   \n",
       "2   Handlers-cleaners   Not-in-family   White     Male             0   \n",
       "3   Handlers-cleaners         Husband   Black     Male             0   \n",
       "4      Prof-specialty            Wife   Black   Female             0   \n",
       "\n",
       "   capital-loss  hours-per-week  native-country  income  \n",
       "0             0              40   United-States       0  \n",
       "1             0              13   United-States       0  \n",
       "2             0              40   United-States       0  \n",
       "3             0              40   United-States       0  \n",
       "4             0              40            Cuba       0  "
      ]
     },
     "execution_count": 2,
     "metadata": {},
     "output_type": "execute_result"
    }
   ],
   "source": [
    "urlfile= \"https://raw.githubusercontent.com/columbia/fairtest/master/data/adult/adult.csv\"\n",
    "\n",
    "X = pd.read_csv(urlfile)\n",
    "X = X.drop(columns=['fnlwgt','education'])\n",
    "num_features = X._get_numeric_data().columns.to_list()\n",
    "\n",
    "X['income'] = np.where((X['income'] == ' <=50K') , 0, 1)\n",
    "df = X.copy()\n",
    "cate_features = df.select_dtypes(include=['object']).columns.to_list()\n",
    "\n",
    "df.head()"
   ]
  },
  {
   "cell_type": "markdown",
   "metadata": {},
   "source": [
    "## Model training and test"
   ]
  },
  {
   "cell_type": "code",
   "execution_count": 3,
   "metadata": {
    "tags": []
   },
   "outputs": [],
   "source": [
    "X = df.drop('income', axis=1)\n",
    "y = df['income']\n",
    "\n",
    "X_train, X_test, y_train, y_test = train_test_split(X, y, train_size=0.7, random_state=None, stratify=y)\n",
    "\n",
    "X_train = X_train.reset_index(drop=True)\n",
    "X_test = X_test.reset_index(drop=True)\n",
    "y_train = y_train.reset_index(drop=True)\n",
    "y_test = y_test.reset_index(drop=True)"
   ]
  },
  {
   "cell_type": "code",
   "execution_count": 4,
   "metadata": {
    "tags": []
   },
   "outputs": [
    {
     "name": "stdout",
     "output_type": "stream",
     "text": [
      "Wall time: 16.4 s\n"
     ]
    },
    {
     "name": "stderr",
     "output_type": "stream",
     "text": [
      "lbfgs failed to converge (status=1):\n",
      "STOP: TOTAL NO. of ITERATIONS REACHED LIMIT.\n",
      "\n",
      "Increase the number of iterations (max_iter) or scale the data as shown in:\n",
      "    https://scikit-learn.org/stable/modules/preprocessing.html\n",
      "Please also refer to the documentation for alternative solver options:\n",
      "    https://scikit-learn.org/stable/modules/linear_model.html#logistic-regression\n"
     ]
    },
    {
     "data": {
      "text/plain": [
       "array([0., 1., 0., 0., 0., 1., 1., 0., 0., 0., 0., 0., 0., 1., 1., 0., 0.,\n",
       "       0., 0., 0., 0., 0., 0., 0., 0., 0., 0., 0., 0., 1., 0., 0., 0., 0.,\n",
       "       0., 0., 0., 1., 0., 0., 0., 0., 0., 1., 0., 0., 0., 0., 0., 0., 0.,\n",
       "       0., 1., 0., 0., 0., 0., 0., 0., 1., 0., 0., 0., 1., 0., 0., 0., 1.,\n",
       "       0., 0., 0., 0., 0., 0., 0., 0., 0., 0., 0., 0., 0., 1., 0., 0., 0.,\n",
       "       0., 0., 0., 0., 0., 0., 0., 0., 1., 0., 0., 1., 0., 1., 0.])"
      ]
     },
     "execution_count": 4,
     "metadata": {},
     "output_type": "execute_result"
    }
   ],
   "source": [
    "%%time\n",
    "\n",
    "model = customLogisticRegression(max_iter = 1500)\n",
    "model.fit(X_train, y_train, cate_columns=cate_features, target_column='income')\n",
    "model.predict(X_test.iloc[:100, :])"
   ]
  },
  {
   "cell_type": "code",
   "execution_count": 5,
   "metadata": {
    "tags": []
   },
   "outputs": [
    {
     "name": "stdout",
     "output_type": "stream",
     "text": [
      "              precision    recall  f1-score   support\n",
      "\n",
      "           0       0.88      0.93      0.91     11147\n",
      "           1       0.73      0.60      0.66      3506\n",
      "\n",
      "    accuracy                           0.85     14653\n",
      "   macro avg       0.81      0.76      0.78     14653\n",
      "weighted avg       0.84      0.85      0.85     14653\n",
      "\n"
     ]
    }
   ],
   "source": [
    "positive_label = 1\n",
    "negative_label = 0\n",
    "preds = model.predict(X_test)\n",
    "print(classification_report(y_test.map({negative_label: 0, positive_label: 1}), preds))"
   ]
  },
  {
   "cell_type": "code",
   "execution_count": 6,
   "metadata": {
    "tags": []
   },
   "outputs": [
    {
     "data": {
      "image/png": "[encoded data removed]",
      "text/plain": [
       "<Figure size 640x480 with 2 Axes>"
      ]
     },
     "metadata": {},
     "output_type": "display_data"
    }
   ],
   "source": [
    "conf_matrix = confusion_matrix(y_test, preds)\n",
    "cm_disp = ConfusionMatrixDisplay(confusion_matrix=conf_matrix)\n",
    "cm_disp.plot()\n",
    "plt.show()"
   ]
  },
  {
   "cell_type": "markdown",
   "metadata": {},
   "source": [
    "## Find all valid if-thens with all respective coverages and correctness, for all subgroups.\n",
    "\n",
    "**Caution!** This step takes time. Uncomment the following block if you wish to run."
   ]
  },
  {
   "cell_type": "code",
   "execution_count": 7,
   "metadata": {
    "tags": []
   },
   "outputs": [],
   "source": [
    "for col in cate_features:\n",
    "    X_test[col] = X_test[col].astype('object')"
   ]
  },
  {
   "cell_type": "code",
   "execution_count": 8,
   "metadata": {
    "tags": []
   },
   "outputs": [
    {
     "name": "stdout",
     "output_type": "stream",
     "text": [
      "Computing frequent itemsets for each subgroup of the affected instances.\n"
     ]
    },
    {
     "name": "stderr",
     "output_type": "stream",
     "text": [
      "100%|██████████| 2/2 [00:02<00:00,  1.00s/it]"
     ]
    },
    {
     "name": "stdout",
     "output_type": "stream",
     "text": [
      "Computing the intersection between the frequent itemsets of each subgroup of the affected instances.\n"
     ]
    },
    {
     "name": "stderr",
     "output_type": "stream",
     "text": [
      "\n",
      "100%|██████████| 2/2 [00:33<00:00, 16.96s/it]\n"
     ]
    },
    {
     "name": "stdout",
     "output_type": "stream",
     "text": [
      "Computing all valid if-then pairs between the common frequent itemsets of each subgroup of the affected instances and the frequent itemsets of the unaffacted instances.\n"
     ]
    },
    {
     "name": "stderr",
     "output_type": "stream",
     "text": [
      "100%|██████████| 7977/7977 [03:37<00:00, 36.73it/s]"
     ]
    },
    {
     "name": "stdout",
     "output_type": "stream",
     "text": [
      "Computing correctenesses for all valid if-thens.\n"
     ]
    },
    {
     "name": "stderr",
     "output_type": "stream",
     "text": [
      "\n",
      "100%|██████████| 41337/41337 [10:40<00:00, 64.51it/s] \n"
     ]
    },
    {
     "name": "stdout",
     "output_type": "stream",
     "text": [
      "Number of if-thens: 41337\n"
     ]
    }
   ],
   "source": [
    "ifthens_coverage_correctness = valid_ifthens_with_coverage_correctness(\n",
    "    X_test,\n",
    "    model=model,\n",
    "    sensitive_attribute='sex',\n",
    "    missing_subgroup_val=\"Unknown\"\n",
    ")\n",
    "\n",
    "print(f\"Number of if-thens: {len(ifthens_coverage_correctness)}\")\n",
    "rules_by_if = rules2rulesbyif(ifthens_coverage_correctness)"
   ]
  },
  {
   "cell_type": "code",
   "execution_count": 9,
   "metadata": {
    "tags": []
   },
   "outputs": [],
   "source": [
    " ### Uncomment if you wish to save rules object on disk\n",
    "\n",
    "import dill\n",
    "\n",
    "with open(\"rulesAdultFairTest.data\", \"wb\") as outf:\n",
    "    dill.dump(rules_by_if, outf)"
   ]
  },
  {
   "cell_type": "code",
   "execution_count": 10,
   "metadata": {
    "tags": []
   },
   "outputs": [],
   "source": [
    "\n",
    "# import dill\n",
    "\n",
    "# with open(\"rulesAdultFairTest.data\", \"rb\") as inf:\n",
    "#     rules_by_if = dill.load(inf)\n"
   ]
  },
  {
   "cell_type": "code",
   "execution_count": 22,
   "metadata": {
    "tags": []
   },
   "outputs": [
    {
     "name": "stdout",
     "output_type": "stream",
     "text": [
      "If \u001b[1mcapital-gain = 0, race =  White, education-num = 9, occupation =  Exec-managerial, capital-loss = 0, native-country =  United-States\u001b[0m:\n",
      "\tSubgroup '\u001b[1m Female\u001b[0m', \u001b[34m2.1749%\u001b[39m covered\n",
      "\t\tMake \u001b[1m\u001b[31meducation-num = 14\u001b[39m\u001b[0m with correctness \u001b[32m9.1837%\u001b[39m.\n",
      "\tSubgroup '\u001b[1m Male\u001b[0m', \u001b[34m1.7513%\u001b[39m covered\n",
      "\t\tMake \u001b[1m\u001b[31meducation-num = 14\u001b[39m\u001b[0m with correctness \u001b[32m76.5625%\u001b[39m.\n",
      "If \u001b[1mcapital-gain = 0, race =  White, education-num = 9, occupation =  Exec-managerial, native-country =  United-States\u001b[0m:\n",
      "\tSubgroup '\u001b[1m Female\u001b[0m', \u001b[34m2.2415%\u001b[39m covered\n",
      "\t\tMake \u001b[1m\u001b[31meducation-num = 14\u001b[39m\u001b[0m with correctness \u001b[32m9.9010%\u001b[39m.\n",
      "\tSubgroup '\u001b[1m Male\u001b[0m', \u001b[34m1.7513%\u001b[39m covered\n",
      "\t\tMake \u001b[1m\u001b[31meducation-num = 14\u001b[39m\u001b[0m with correctness \u001b[32m76.5625%\u001b[39m.\n",
      "If \u001b[1mcapital-gain = 0, race =  White, education-num = 9, occupation =  Exec-managerial, capital-loss = 0\u001b[0m:\n",
      "\tSubgroup '\u001b[1m Female\u001b[0m', \u001b[34m2.1971%\u001b[39m covered\n",
      "\t\tMake \u001b[1m\u001b[31meducation-num = 14\u001b[39m\u001b[0m with correctness \u001b[32m9.0909%\u001b[39m.\n",
      "\tSubgroup '\u001b[1m Male\u001b[0m', \u001b[34m1.7923%\u001b[39m covered\n",
      "\t\tMake \u001b[1m\u001b[31meducation-num = 14\u001b[39m\u001b[0m with correctness \u001b[32m74.8092%\u001b[39m.\n",
      "If \u001b[1mrace =  White, education-num = 9, occupation =  Exec-managerial, capital-loss = 0, native-country =  United-States\u001b[0m:\n",
      "\tSubgroup '\u001b[1m Female\u001b[0m', \u001b[34m2.2858%\u001b[39m covered\n",
      "\t\tMake \u001b[1m\u001b[31meducation-num = 14\u001b[39m\u001b[0m with correctness \u001b[32m9.7087%\u001b[39m.\n",
      "\tSubgroup '\u001b[1m Male\u001b[0m', \u001b[34m1.7923%\u001b[39m covered\n",
      "\t\tMake \u001b[1m\u001b[31meducation-num = 14\u001b[39m\u001b[0m with correctness \u001b[32m74.8092%\u001b[39m.\n",
      "If \u001b[1meducation-num = 9, occupation =  Exec-managerial, capital-gain = 0, race =  White\u001b[0m:\n",
      "\tSubgroup '\u001b[1m Female\u001b[0m', \u001b[34m2.2636%\u001b[39m covered\n",
      "\t\tMake \u001b[1m\u001b[31meducation-num = 14\u001b[39m\u001b[0m with correctness \u001b[32m9.8039%\u001b[39m.\n",
      "\t\tMake \u001b[1m\u001b[31meducation-num = 12\u001b[39m\u001b[0m with correctness \u001b[32m7.8431%\u001b[39m.\n",
      "\t\tMake \u001b[1m\u001b[31meducation-num = 11\u001b[39m\u001b[0m with correctness \u001b[32m7.8431%\u001b[39m.\n",
      "\tSubgroup '\u001b[1m Male\u001b[0m', \u001b[34m1.7923%\u001b[39m covered\n",
      "\t\tMake \u001b[1m\u001b[31meducation-num = 14\u001b[39m\u001b[0m with correctness \u001b[32m74.8092%\u001b[39m.\n",
      "\t\tMake \u001b[1m\u001b[31meducation-num = 12\u001b[39m\u001b[0m with correctness \u001b[32m68.7023%\u001b[39m.\n",
      "\t\tMake \u001b[1m\u001b[31meducation-num = 11\u001b[39m\u001b[0m with correctness \u001b[32m51.9084%\u001b[39m.\n",
      "If \u001b[1meducation-num = 9, occupation =  Exec-managerial, capital-loss = 0, race =  White\u001b[0m:\n",
      "\tSubgroup '\u001b[1m Female\u001b[0m', \u001b[34m2.3080%\u001b[39m covered\n",
      "\t\tMake \u001b[1m\u001b[31meducation-num = 14\u001b[39m, \u001b[31moccupation =  Prof-specialty\u001b[39m\u001b[0m with correctness \u001b[32m9.6154%\u001b[39m.\n",
      "\t\tMake \u001b[1m\u001b[31meducation-num = 14\u001b[39m\u001b[0m with correctness \u001b[32m9.6154%\u001b[39m.\n",
      "\t\tMake \u001b[1m\u001b[31meducation-num = 11\u001b[39m\u001b[0m with correctness \u001b[32m7.6923%\u001b[39m.\n",
      "\tSubgroup '\u001b[1m Male\u001b[0m', \u001b[34m1.8334%\u001b[39m covered\n",
      "\t\tMake \u001b[1m\u001b[31meducation-num = 14\u001b[39m, \u001b[31moccupation =  Prof-specialty\u001b[39m\u001b[0m with correctness \u001b[32m73.1343%\u001b[39m.\n",
      "\t\tMake \u001b[1m\u001b[31meducation-num = 14\u001b[39m\u001b[0m with correctness \u001b[32m73.1343%\u001b[39m.\n",
      "\t\tMake \u001b[1m\u001b[31meducation-num = 11\u001b[39m\u001b[0m with correctness \u001b[32m50.7463%\u001b[39m.\n",
      "If \u001b[1mnative-country =  United-States, occupation =  Exec-managerial, capital-loss = 0, education-num = 9\u001b[0m:\n",
      "\tSubgroup '\u001b[1m Female\u001b[0m', \u001b[34m2.5300%\u001b[39m covered\n",
      "\t\tMake \u001b[1m\u001b[31moccupation =  Prof-specialty\u001b[39m, \u001b[31meducation-num = 15\u001b[39m\u001b[0m with correctness \u001b[32m9.6491%\u001b[39m.\n",
      "\tSubgroup '\u001b[1m Male\u001b[0m', \u001b[34m1.9702%\u001b[39m covered\n",
      "\t\tMake \u001b[1m\u001b[31moccupation =  Prof-specialty\u001b[39m, \u001b[31meducation-num = 15\u001b[39m\u001b[0m with correctness \u001b[32m72.9167%\u001b[39m.\n",
      "If \u001b[1mnative-country =  United-States, occupation =  Exec-managerial, education-num = 9, race =  White\u001b[0m:\n",
      "\tSubgroup '\u001b[1m Female\u001b[0m', \u001b[34m2.3524%\u001b[39m covered\n",
      "\t\tMake \u001b[1m\u001b[31meducation-num = 13\u001b[39m\u001b[0m with correctness \u001b[32m10.3774%\u001b[39m.\n",
      "\t\tMake \u001b[1m\u001b[31moccupation =  Prof-specialty\u001b[39m, \u001b[31meducation-num = 13\u001b[39m\u001b[0m with correctness \u001b[32m8.4906%\u001b[39m.\n",
      "\t\tMake \u001b[1m\u001b[31meducation-num = 10\u001b[39m\u001b[0m with correctness \u001b[32m3.7736%\u001b[39m.\n",
      "\t\tMake \u001b[1m\u001b[31meducation-num = 12\u001b[39m\u001b[0m with correctness \u001b[32m8.4906%\u001b[39m.\n",
      "\tSubgroup '\u001b[1m Male\u001b[0m', \u001b[34m1.7923%\u001b[39m covered\n",
      "\t\tMake \u001b[1m\u001b[31meducation-num = 13\u001b[39m\u001b[0m with correctness \u001b[32m73.2824%\u001b[39m.\n",
      "\t\tMake \u001b[1m\u001b[31moccupation =  Prof-specialty\u001b[39m, \u001b[31meducation-num = 13\u001b[39m\u001b[0m with correctness \u001b[32m69.4656%\u001b[39m.\n",
      "\t\tMake \u001b[1m\u001b[31meducation-num = 10\u001b[39m\u001b[0m with correctness \u001b[32m29.0076%\u001b[39m.\n",
      "\t\tMake \u001b[1m\u001b[31meducation-num = 12\u001b[39m\u001b[0m with correctness \u001b[32m68.7023%\u001b[39m.\n",
      "If \u001b[1moccupation =  Other-service, race =  White, Workclass =  Private, marital-status =  Never-married, capital-loss = 0, native-country =  United-States, relationship =  Not-in-family\u001b[0m:\n",
      "\tSubgroup '\u001b[1m Female\u001b[0m', \u001b[34m1.6201%\u001b[39m covered\n",
      "\t\tMake \u001b[1m\u001b[31moccupation =  Prof-specialty\u001b[39m, \u001b[31mmarital-status =  Married-civ-spouse\u001b[39m, \u001b[31mrelationship =  Wife\u001b[39m\u001b[0m with correctness \u001b[32m19.1781%\u001b[39m.\n",
      "\tSubgroup '\u001b[1m Male\u001b[0m', \u001b[34m1.0672%\u001b[39m covered\n",
      "\t\tMake \u001b[1m\u001b[31moccupation =  Prof-specialty\u001b[39m, \u001b[31mmarital-status =  Married-civ-spouse\u001b[39m, \u001b[31mrelationship =  Wife\u001b[39m\u001b[0m with correctness \u001b[32m82.0513%\u001b[39m.\n",
      "If \u001b[1meducation-num = 9, occupation =  Exec-managerial, race =  White\u001b[0m:\n",
      "\tSubgroup '\u001b[1m Female\u001b[0m', \u001b[34m2.3746%\u001b[39m covered\n",
      "\t\tMake \u001b[1m\u001b[31meducation-num = 14\u001b[39m, \u001b[31moccupation =  Prof-specialty\u001b[39m\u001b[0m with correctness \u001b[32m10.2804%\u001b[39m.\n",
      "\t\tMake \u001b[1m\u001b[31meducation-num = 14\u001b[39m\u001b[0m with correctness \u001b[32m10.2804%\u001b[39m.\n",
      "\t\tMake \u001b[1m\u001b[31meducation-num = 13\u001b[39m, \u001b[31moccupation =  Adm-clerical\u001b[39m\u001b[0m with correctness \u001b[32m6.5421%\u001b[39m.\n",
      "\t\tMake \u001b[1m\u001b[31meducation-num = 11\u001b[39m\u001b[0m with correctness \u001b[32m8.4112%\u001b[39m.\n",
      "\tSubgroup '\u001b[1m Male\u001b[0m', \u001b[34m1.8334%\u001b[39m covered\n",
      "\t\tMake \u001b[1m\u001b[31meducation-num = 14\u001b[39m, \u001b[31moccupation =  Prof-specialty\u001b[39m\u001b[0m with correctness \u001b[32m73.1343%\u001b[39m.\n",
      "\t\tMake \u001b[1m\u001b[31meducation-num = 14\u001b[39m\u001b[0m with correctness \u001b[32m73.1343%\u001b[39m.\n",
      "\t\tMake \u001b[1m\u001b[31meducation-num = 13\u001b[39m, \u001b[31moccupation =  Adm-clerical\u001b[39m\u001b[0m with correctness \u001b[32m38.0597%\u001b[39m.\n",
      "\t\tMake \u001b[1m\u001b[31meducation-num = 11\u001b[39m\u001b[0m with correctness \u001b[32m50.7463%\u001b[39m.\n",
      "\n"
     ]
    }
   ],
   "source": [
    "K = 10\n",
    "\n",
    "# keep K ifs with maximum coverage on Females\n",
    "# TODO: the below is currently dataset dependent\n",
    "# rules_by_if_filtered = sorted(rules_by_if.items(), key=lambda e: e[1][\"F\"][0][1], reverse=True)[:K]\n",
    "\n",
    "# keep K ifs with maximum absolute difference in correctness between Males and Females.\n",
    "# TODO: the below is currently dataset dependent\n",
    "rules_by_if_filtered = sorted(rules_by_if.items(), key=lambda e: abs(e[1][\" Male\"][1][0][1]-e[1][\" Female\"][1][0][1]), reverse=True)[:K]\n",
    "\n",
    "rules_by_if_filtered = dict(rules_by_if_filtered)\n",
    "\n",
    "print(recourse_report_reverse(rules_by_if_filtered))"
   ]
  },
  {
   "attachments": {},
   "cell_type": "markdown",
   "metadata": {},
   "source": [
    "# Filter rules by different fairness definitions\n",
    "\n",
    "Here, we explore more sophisticated ways of picking the \"top\" K rules and showing only those.\n",
    "\n",
    "We start ranking the rule \"groups\" (all recourses for a single \"if\") by averaging out the costs of all suggested recourses, weighted by the respective correctness. For now, the \"cost\" of a recourse is simply the number of features whose value changes (and the magnitude of the change for numerical features, but here there are none)."
   ]
  },
  {
   "cell_type": "code",
   "execution_count": 23,
   "metadata": {},
   "outputs": [],
   "source": [
    "feature_weights = {\"sex\": 1, \"age\": 1}\n",
    "comparators = gfacts.naive_feature_change_builder(num_cols=num_features, cate_cols=cate_features, feature_weights=feature_weights)\n",
    "params = ParameterProxy(featureChanges=comparators)"
   ]
  },
  {
   "attachments": {},
   "cell_type": "markdown",
   "metadata": {},
   "source": [
    "## Weighted Average Score"
   ]
  },
  {
   "cell_type": "code",
   "execution_count": 24,
   "metadata": {},
   "outputs": [
    {
     "name": "stdout",
     "output_type": "stream",
     "text": [
      "If \u001b[1moccupation =  Other-service, race =  White, Workclass =  Private, marital-status =  Never-married, capital-loss = 0, native-country =  United-States, relationship =  Not-in-family\u001b[0m:\n",
      "\tSubgroup '\u001b[1m Female\u001b[0m', \u001b[34m1.6201%\u001b[39m covered out of 16192\n",
      "\t\tMake \u001b[1m\u001b[31moccupation =  Prof-specialty\u001b[39m, \u001b[31mmarital-status =  Married-civ-spouse\u001b[39m, \u001b[31mrelationship =  Wife\u001b[39m\u001b[0m with correctness \u001b[32m19.1781%\u001b[39m.\n",
      "\t\t\u001b[1mAggregate cost\u001b[0m of the above recourses = \u001b[35m0.575342\u001b[39m\n",
      "\tSubgroup '\u001b[1m Male\u001b[0m', \u001b[34m1.0672%\u001b[39m covered out of 32650\n",
      "\t\tMake \u001b[1m\u001b[31moccupation =  Prof-specialty\u001b[39m, \u001b[31mmarital-status =  Married-civ-spouse\u001b[39m, \u001b[31mrelationship =  Wife\u001b[39m\u001b[0m with correctness \u001b[32m82.0513%\u001b[39m.\n",
      "\t\t\u001b[1mAggregate cost\u001b[0m of the above recourses = \u001b[35m2.46154\u001b[39m\n",
      "If \u001b[1moccupation =  Other-service, Workclass =  Private, marital-status =  Never-married, capital-loss = 0, native-country =  United-States, relationship =  Not-in-family\u001b[0m:\n",
      "\tSubgroup '\u001b[1m Female\u001b[0m', \u001b[34m1.8864%\u001b[39m covered out of 16192\n",
      "\t\tMake \u001b[1m\u001b[31moccupation =  Prof-specialty\u001b[39m, \u001b[31mmarital-status =  Married-civ-spouse\u001b[39m, \u001b[31mrelationship =  Wife\u001b[39m\u001b[0m with correctness \u001b[32m20.0000%\u001b[39m.\n",
      "\t\t\u001b[1mAggregate cost\u001b[0m of the above recourses = \u001b[35m0.6\u001b[39m\n",
      "\tSubgroup '\u001b[1m Male\u001b[0m', \u001b[34m1.2998%\u001b[39m covered out of 32650\n",
      "\t\tMake \u001b[1m\u001b[31moccupation =  Prof-specialty\u001b[39m, \u001b[31mmarital-status =  Married-civ-spouse\u001b[39m, \u001b[31mrelationship =  Wife\u001b[39m\u001b[0m with correctness \u001b[32m82.1053%\u001b[39m.\n",
      "\t\t\u001b[1mAggregate cost\u001b[0m of the above recourses = \u001b[35m2.46316\u001b[39m\n",
      "If \u001b[1mcapital-gain = 0, occupation =  Other-service, Workclass =  Private, marital-status =  Never-married, native-country =  United-States, relationship =  Not-in-family\u001b[0m:\n",
      "\tSubgroup '\u001b[1m Female\u001b[0m', \u001b[34m1.9086%\u001b[39m covered out of 16192\n",
      "\t\tMake \u001b[1m\u001b[31moccupation =  Prof-specialty\u001b[39m, \u001b[31mmarital-status =  Married-civ-spouse\u001b[39m, \u001b[31mrelationship =  Wife\u001b[39m\u001b[0m with correctness \u001b[32m20.9302%\u001b[39m.\n",
      "\t\t\u001b[1mAggregate cost\u001b[0m of the above recourses = \u001b[35m0.627907\u001b[39m\n",
      "\tSubgroup '\u001b[1m Male\u001b[0m', \u001b[34m1.2724%\u001b[39m covered out of 32650\n",
      "\t\tMake \u001b[1m\u001b[31moccupation =  Prof-specialty\u001b[39m, \u001b[31mmarital-status =  Married-civ-spouse\u001b[39m, \u001b[31mrelationship =  Wife\u001b[39m\u001b[0m with correctness \u001b[32m81.7204%\u001b[39m.\n",
      "\t\t\u001b[1mAggregate cost\u001b[0m of the above recourses = \u001b[35m2.45161\u001b[39m\n",
      "If \u001b[1mcapital-gain = 0, occupation =  Other-service, race =  White, Workclass =  Private, marital-status =  Never-married, native-country =  United-States, relationship =  Not-in-family\u001b[0m:\n",
      "\tSubgroup '\u001b[1m Female\u001b[0m', \u001b[34m1.6644%\u001b[39m covered out of 16192\n",
      "\t\tMake \u001b[1m\u001b[31moccupation =  Prof-specialty\u001b[39m, \u001b[31mmarital-status =  Married-civ-spouse\u001b[39m, \u001b[31mrelationship =  Wife\u001b[39m\u001b[0m with correctness \u001b[32m21.3333%\u001b[39m.\n",
      "\t\t\u001b[1mAggregate cost\u001b[0m of the above recourses = \u001b[35m0.64\u001b[39m\n",
      "\tSubgroup '\u001b[1m Male\u001b[0m', \u001b[34m1.0261%\u001b[39m covered out of 32650\n",
      "\t\tMake \u001b[1m\u001b[31moccupation =  Prof-specialty\u001b[39m, \u001b[31mmarital-status =  Married-civ-spouse\u001b[39m, \u001b[31mrelationship =  Wife\u001b[39m\u001b[0m with correctness \u001b[32m81.3333%\u001b[39m.\n",
      "\t\t\u001b[1mAggregate cost\u001b[0m of the above recourses = \u001b[35m2.44\u001b[39m\n",
      "If \u001b[1moccupation =  Other-service, race =  White, Workclass =  Private, marital-status =  Never-married, native-country =  United-States, relationship =  Not-in-family\u001b[0m:\n",
      "\tSubgroup '\u001b[1m Female\u001b[0m', \u001b[34m1.6866%\u001b[39m covered out of 16192\n",
      "\t\tMake \u001b[1m\u001b[31moccupation =  Prof-specialty\u001b[39m, \u001b[31mmarital-status =  Married-civ-spouse\u001b[39m, \u001b[31mrelationship =  Wife\u001b[39m\u001b[0m with correctness \u001b[32m22.3684%\u001b[39m.\n",
      "\t\t\u001b[1mAggregate cost\u001b[0m of the above recourses = \u001b[35m0.671053\u001b[39m\n",
      "\tSubgroup '\u001b[1m Male\u001b[0m', \u001b[34m1.0672%\u001b[39m covered out of 32650\n",
      "\t\tMake \u001b[1m\u001b[31moccupation =  Prof-specialty\u001b[39m, \u001b[31mmarital-status =  Married-civ-spouse\u001b[39m, \u001b[31mrelationship =  Wife\u001b[39m\u001b[0m with correctness \u001b[32m82.0513%\u001b[39m.\n",
      "\t\t\u001b[1mAggregate cost\u001b[0m of the above recourses = \u001b[35m2.46154\u001b[39m\n",
      "If \u001b[1moccupation =  Other-service, Workclass =  Private, marital-status =  Never-married, native-country =  United-States, relationship =  Not-in-family\u001b[0m:\n",
      "\tSubgroup '\u001b[1m Female\u001b[0m', \u001b[34m1.9530%\u001b[39m covered out of 16192\n",
      "\t\tMake \u001b[1m\u001b[31moccupation =  Prof-specialty\u001b[39m, \u001b[31mmarital-status =  Married-civ-spouse\u001b[39m, \u001b[31mrelationship =  Wife\u001b[39m\u001b[0m with correctness \u001b[32m22.7273%\u001b[39m.\n",
      "\t\t\u001b[1mAggregate cost\u001b[0m of the above recourses = \u001b[35m0.681818\u001b[39m\n",
      "\tSubgroup '\u001b[1m Male\u001b[0m', \u001b[34m1.3134%\u001b[39m covered out of 32650\n",
      "\t\tMake \u001b[1m\u001b[31moccupation =  Prof-specialty\u001b[39m, \u001b[31mmarital-status =  Married-civ-spouse\u001b[39m, \u001b[31mrelationship =  Wife\u001b[39m\u001b[0m with correctness \u001b[32m82.2917%\u001b[39m.\n",
      "\t\t\u001b[1mAggregate cost\u001b[0m of the above recourses = \u001b[35m2.46875\u001b[39m\n",
      "If \u001b[1mcapital-gain = 0, occupation =  Other-service, race =  White, marital-status =  Never-married, capital-loss = 0, native-country =  United-States, relationship =  Not-in-family\u001b[0m:\n",
      "\tSubgroup '\u001b[1m Female\u001b[0m', \u001b[34m1.7976%\u001b[39m covered out of 16192\n",
      "\t\tMake \u001b[1m\u001b[31moccupation =  Prof-specialty\u001b[39m, \u001b[31mmarital-status =  Married-civ-spouse\u001b[39m, \u001b[31mrelationship =  Wife\u001b[39m\u001b[0m with correctness \u001b[32m20.9877%\u001b[39m.\n",
      "\t\t\u001b[1mAggregate cost\u001b[0m of the above recourses = \u001b[35m0.62963\u001b[39m\n",
      "\tSubgroup '\u001b[1m Male\u001b[0m', \u001b[34m1.2450%\u001b[39m covered out of 32650\n",
      "\t\tMake \u001b[1m\u001b[31moccupation =  Prof-specialty\u001b[39m, \u001b[31mmarital-status =  Married-civ-spouse\u001b[39m, \u001b[31mrelationship =  Wife\u001b[39m\u001b[0m with correctness \u001b[32m79.1209%\u001b[39m.\n",
      "\t\t\u001b[1mAggregate cost\u001b[0m of the above recourses = \u001b[35m2.37363\u001b[39m\n",
      "If \u001b[1mcapital-gain = 0, occupation =  Other-service, marital-status =  Never-married, capital-loss = 0, native-country =  United-States, relationship =  Not-in-family\u001b[0m:\n",
      "\tSubgroup '\u001b[1m Female\u001b[0m', \u001b[34m2.0861%\u001b[39m covered out of 16192\n",
      "\t\tMake \u001b[1m\u001b[31moccupation =  Prof-specialty\u001b[39m, \u001b[31mmarital-status =  Married-civ-spouse\u001b[39m, \u001b[31mrelationship =  Wife\u001b[39m\u001b[0m with correctness \u001b[32m21.2766%\u001b[39m.\n",
      "\t\t\u001b[1mAggregate cost\u001b[0m of the above recourses = \u001b[35m0.638298\u001b[39m\n",
      "\tSubgroup '\u001b[1m Male\u001b[0m', \u001b[34m1.5460%\u001b[39m covered out of 32650\n",
      "\t\tMake \u001b[1m\u001b[31moccupation =  Prof-specialty\u001b[39m, \u001b[31mmarital-status =  Married-civ-spouse\u001b[39m, \u001b[31mrelationship =  Wife\u001b[39m\u001b[0m with correctness \u001b[32m78.7611%\u001b[39m.\n",
      "\t\t\u001b[1mAggregate cost\u001b[0m of the above recourses = \u001b[35m2.36283\u001b[39m\n",
      "If \u001b[1moccupation =  Other-service, race =  White, marital-status =  Never-married, capital-loss = 0, native-country =  United-States, relationship =  Not-in-family\u001b[0m:\n",
      "\tSubgroup '\u001b[1m Female\u001b[0m', \u001b[34m1.8420%\u001b[39m covered out of 16192\n",
      "\t\tMake \u001b[1m\u001b[31moccupation =  Prof-specialty\u001b[39m, \u001b[31mmarital-status =  Married-civ-spouse\u001b[39m, \u001b[31mrelationship =  Wife\u001b[39m\u001b[0m with correctness \u001b[32m22.8916%\u001b[39m.\n",
      "\t\t\u001b[1mAggregate cost\u001b[0m of the above recourses = \u001b[35m0.686747\u001b[39m\n",
      "\tSubgroup '\u001b[1m Male\u001b[0m', \u001b[34m1.2861%\u001b[39m covered out of 32650\n",
      "\t\tMake \u001b[1m\u001b[31moccupation =  Prof-specialty\u001b[39m, \u001b[31mmarital-status =  Married-civ-spouse\u001b[39m, \u001b[31mrelationship =  Wife\u001b[39m\u001b[0m with correctness \u001b[32m79.7872%\u001b[39m.\n",
      "\t\t\u001b[1mAggregate cost\u001b[0m of the above recourses = \u001b[35m2.39362\u001b[39m\n",
      "If \u001b[1moccupation =  Other-service, marital-status =  Never-married, capital-loss = 0, native-country =  United-States, relationship =  Not-in-family\u001b[0m:\n",
      "\tSubgroup '\u001b[1m Female\u001b[0m', \u001b[34m2.1527%\u001b[39m covered out of 16192\n",
      "\t\tMake \u001b[1m\u001b[31moccupation =  Prof-specialty\u001b[39m, \u001b[31mmarital-status =  Married-civ-spouse\u001b[39m, \u001b[31mrelationship =  Wife\u001b[39m\u001b[0m with correctness \u001b[32m23.7113%\u001b[39m.\n",
      "\t\t\u001b[1mAggregate cost\u001b[0m of the above recourses = \u001b[35m0.71134\u001b[39m\n",
      "\tSubgroup '\u001b[1m Male\u001b[0m', \u001b[34m1.5871%\u001b[39m covered out of 32650\n",
      "\t\tMake \u001b[1m\u001b[31moccupation =  Prof-specialty\u001b[39m, \u001b[31mmarital-status =  Married-civ-spouse\u001b[39m, \u001b[31mrelationship =  Wife\u001b[39m\u001b[0m with correctness \u001b[32m79.3103%\u001b[39m.\n",
      "\t\t\u001b[1mAggregate cost\u001b[0m of the above recourses = \u001b[35m2.37931\u001b[39m\n",
      "\n"
     ]
    }
   ],
   "source": [
    "top_rules = gfacts.select_rules_subset(\n",
    "    rules_by_if,\n",
    "    metric = \"weighted-average\",\n",
    "    sort_strategy = \"abs-diff-decr\",\n",
    "    top_count = 10\n",
    ")\n",
    "\n",
    "pop_sizes = {sg: (X[\"sex\"] == sg).sum() for sg in X[\"sex\"].unique()}\n",
    "print(recourse_report_reverse(\n",
    "    top_rules,\n",
    "    population_sizes=pop_sizes,\n",
    "    subgroup_costs=gfacts.calculate_all_if_subgroup_costs(list(top_rules.keys()), list(top_rules.values()))\n",
    "))"
   ]
  },
  {
   "attachments": {},
   "cell_type": "markdown",
   "metadata": {},
   "source": [
    "## Minimum cost above threshold"
   ]
  },
  {
   "cell_type": "code",
   "execution_count": 25,
   "metadata": {},
   "outputs": [
    {
     "name": "stdout",
     "output_type": "stream",
     "text": [
      "If \u001b[1mcapital-gain = 0, capital-loss = 0\u001b[0m:\n",
      "\tSubgroup '\u001b[1m Female\u001b[0m', \u001b[34m93.4976%\u001b[39m covered out of 16192\n",
      "\t\t\u001b[31mNo recourses for this subgroup!\n",
      "\u001b[39m\t\t\u001b[1mAggregate cost\u001b[0m of the above recourses = \u001b[35minf\u001b[39m\n",
      "\tSubgroup '\u001b[1m Male\u001b[0m', \u001b[34m93.9116%\u001b[39m covered out of 32650\n",
      "\t\tMake \u001b[1m\u001b[31mcapital-gain = 7688\u001b[39m\u001b[0m with correctness \u001b[32m53.8316%\u001b[39m.\n",
      "\t\tMake \u001b[1m\u001b[31mcapital-gain = 7298\u001b[39m\u001b[0m with correctness \u001b[32m51.7337%\u001b[39m.\n",
      "\t\t\u001b[1mAggregate cost\u001b[0m of the above recourses = \u001b[35m1.0\u001b[39m\n",
      "If \u001b[1mnative-country =  United-States, capital-gain = 0, capital-loss = 0\u001b[0m:\n",
      "\tSubgroup '\u001b[1m Female\u001b[0m', \u001b[34m84.1545%\u001b[39m covered out of 16192\n",
      "\t\t\u001b[31mNo recourses for this subgroup!\n",
      "\u001b[39m\t\t\u001b[1mAggregate cost\u001b[0m of the above recourses = \u001b[35minf\u001b[39m\n",
      "\tSubgroup '\u001b[1m Male\u001b[0m', \u001b[34m83.6777%\u001b[39m covered out of 32650\n",
      "\t\tMake \u001b[1m\u001b[31mcapital-gain = 7688\u001b[39m\u001b[0m with correctness \u001b[32m55.6082%\u001b[39m.\n",
      "\t\tMake \u001b[1m\u001b[31mcapital-gain = 7298\u001b[39m\u001b[0m with correctness \u001b[32m53.4990%\u001b[39m.\n",
      "\t\t\u001b[1mAggregate cost\u001b[0m of the above recourses = \u001b[35m1.0\u001b[39m\n",
      "If \u001b[1mcapital-gain = 0, capital-loss = 0, race =  White\u001b[0m:\n",
      "\tSubgroup '\u001b[1m Female\u001b[0m', \u001b[34m74.5007%\u001b[39m covered out of 16192\n",
      "\t\t\u001b[31mNo recourses for this subgroup!\n",
      "\u001b[39m\t\t\u001b[1mAggregate cost\u001b[0m of the above recourses = \u001b[35minf\u001b[39m\n",
      "\tSubgroup '\u001b[1m Male\u001b[0m', \u001b[34m81.4475%\u001b[39m covered out of 32650\n",
      "\t\tMake \u001b[1m\u001b[31mcapital-gain = 7688\u001b[39m\u001b[0m with correctness \u001b[32m56.1734%\u001b[39m.\n",
      "\t\tMake \u001b[1m\u001b[31mcapital-gain = 7298\u001b[39m\u001b[0m with correctness \u001b[32m54.0904%\u001b[39m.\n",
      "\t\t\u001b[1mAggregate cost\u001b[0m of the above recourses = \u001b[35m1.0\u001b[39m\n",
      "If \u001b[1mnative-country =  United-States, capital-gain = 0, capital-loss = 0, race =  White\u001b[0m:\n",
      "\tSubgroup '\u001b[1m Female\u001b[0m', \u001b[34m68.7972%\u001b[39m covered out of 16192\n",
      "\t\t\u001b[31mNo recourses for this subgroup!\n",
      "\u001b[39m\t\t\u001b[1mAggregate cost\u001b[0m of the above recourses = \u001b[35minf\u001b[39m\n",
      "\tSubgroup '\u001b[1m Male\u001b[0m', \u001b[34m74.4698%\u001b[39m covered out of 32650\n",
      "\t\tMake \u001b[1m\u001b[31mcapital-gain = 7688\u001b[39m\u001b[0m with correctness \u001b[32m57.8909%\u001b[39m.\n",
      "\t\tMake \u001b[1m\u001b[31mcapital-gain = 7298\u001b[39m\u001b[0m with correctness \u001b[32m55.8148%\u001b[39m.\n",
      "\t\t\u001b[1mAggregate cost\u001b[0m of the above recourses = \u001b[35m1.0\u001b[39m\n",
      "If \u001b[1mWorkclass =  Private, capital-gain = 0, capital-loss = 0\u001b[0m:\n",
      "\tSubgroup '\u001b[1m Female\u001b[0m', \u001b[34m68.0426%\u001b[39m covered out of 16192\n",
      "\t\t\u001b[31mNo recourses for this subgroup!\n",
      "\u001b[39m\t\t\u001b[1mAggregate cost\u001b[0m of the above recourses = \u001b[35minf\u001b[39m\n",
      "\tSubgroup '\u001b[1m Male\u001b[0m', \u001b[34m67.1090%\u001b[39m covered out of 32650\n",
      "\t\tMake \u001b[1m\u001b[31mcapital-gain = 7688\u001b[39m\u001b[0m with correctness \u001b[32m51.6412%\u001b[39m.\n",
      "\t\t\u001b[1mAggregate cost\u001b[0m of the above recourses = \u001b[35m1.0\u001b[39m\n",
      "If \u001b[1mWorkclass =  Private, capital-gain = 0, capital-loss = 0, race =  White\u001b[0m:\n",
      "\tSubgroup '\u001b[1m Female\u001b[0m', \u001b[34m55.0599%\u001b[39m covered out of 16192\n",
      "\t\t\u001b[31mNo recourses for this subgroup!\n",
      "\u001b[39m\t\t\u001b[1mAggregate cost\u001b[0m of the above recourses = \u001b[35minf\u001b[39m\n",
      "\tSubgroup '\u001b[1m Male\u001b[0m', \u001b[34m58.1885%\u001b[39m covered out of 32650\n",
      "\t\tMake \u001b[1m\u001b[31mcapital-gain = 7298\u001b[39m\u001b[0m with correctness \u001b[32m51.9633%\u001b[39m.\n",
      "\t\tMake \u001b[1m\u001b[31mcapital-gain = 7688\u001b[39m\u001b[0m with correctness \u001b[32m54.0324%\u001b[39m.\n",
      "\t\t\u001b[1mAggregate cost\u001b[0m of the above recourses = \u001b[35m1.0\u001b[39m\n",
      "If \u001b[1mcapital-gain = 0, hours-per-week = 40\u001b[0m:\n",
      "\tSubgroup '\u001b[1m Female\u001b[0m', \u001b[34m44.3187%\u001b[39m covered out of 16192\n",
      "\t\t\u001b[31mNo recourses for this subgroup!\n",
      "\u001b[39m\t\t\u001b[1mAggregate cost\u001b[0m of the above recourses = \u001b[35minf\u001b[39m\n",
      "\tSubgroup '\u001b[1m Male\u001b[0m', \u001b[34m49.9658%\u001b[39m covered out of 32650\n",
      "\t\tMake \u001b[1m\u001b[31mcapital-gain = 7298\u001b[39m\u001b[0m with correctness \u001b[32m52.4644%\u001b[39m.\n",
      "\t\tMake \u001b[1m\u001b[31mcapital-gain = 7688\u001b[39m\u001b[0m with correctness \u001b[32m54.6824%\u001b[39m.\n",
      "\t\t\u001b[1mAggregate cost\u001b[0m of the above recourses = \u001b[35m1.0\u001b[39m\n",
      "If \u001b[1mcapital-gain = 0, capital-loss = 0, hours-per-week = 40\u001b[0m:\n",
      "\tSubgroup '\u001b[1m Female\u001b[0m', \u001b[34m43.1647%\u001b[39m covered out of 16192\n",
      "\t\t\u001b[31mNo recourses for this subgroup!\n",
      "\u001b[39m\t\t\u001b[1mAggregate cost\u001b[0m of the above recourses = \u001b[35minf\u001b[39m\n",
      "\tSubgroup '\u001b[1m Male\u001b[0m', \u001b[34m48.5839%\u001b[39m covered out of 32650\n",
      "\t\tMake \u001b[1m\u001b[31mcapital-gain = 7298\u001b[39m\u001b[0m with correctness \u001b[32m51.8164%\u001b[39m.\n",
      "\t\tMake \u001b[1m\u001b[31mcapital-gain = 7688\u001b[39m\u001b[0m with correctness \u001b[32m54.0411%\u001b[39m.\n",
      "\t\t\u001b[1mAggregate cost\u001b[0m of the above recourses = \u001b[35m1.0\u001b[39m\n",
      "If \u001b[1mnative-country =  United-States, capital-gain = 0, hours-per-week = 40\u001b[0m:\n",
      "\tSubgroup '\u001b[1m Female\u001b[0m', \u001b[34m39.4807%\u001b[39m covered out of 16192\n",
      "\t\t\u001b[31mNo recourses for this subgroup!\n",
      "\u001b[39m\t\t\u001b[1mAggregate cost\u001b[0m of the above recourses = \u001b[35minf\u001b[39m\n",
      "\tSubgroup '\u001b[1m Male\u001b[0m', \u001b[34m44.1100%\u001b[39m covered out of 32650\n",
      "\t\tMake \u001b[1m\u001b[31mcapital-gain = 7298\u001b[39m\u001b[0m with correctness \u001b[32m54.5285%\u001b[39m.\n",
      "\t\tMake \u001b[1m\u001b[31mcapital-gain = 7688\u001b[39m\u001b[0m with correctness \u001b[32m56.8238%\u001b[39m.\n",
      "\t\t\u001b[1mAggregate cost\u001b[0m of the above recourses = \u001b[35m1.0\u001b[39m\n",
      "If \u001b[1mnative-country =  United-States, capital-gain = 0, capital-loss = 0, hours-per-week = 40\u001b[0m:\n",
      "\tSubgroup '\u001b[1m Female\u001b[0m', \u001b[34m38.4598%\u001b[39m covered out of 16192\n",
      "\t\t\u001b[31mNo recourses for this subgroup!\n",
      "\u001b[39m\t\t\u001b[1mAggregate cost\u001b[0m of the above recourses = \u001b[35minf\u001b[39m\n",
      "\tSubgroup '\u001b[1m Male\u001b[0m', \u001b[34m42.8513%\u001b[39m covered out of 32650\n",
      "\t\tMake \u001b[1m\u001b[31mcapital-gain = 7298\u001b[39m\u001b[0m with correctness \u001b[32m53.8633%\u001b[39m.\n",
      "\t\tMake \u001b[1m\u001b[31mcapital-gain = 7688\u001b[39m\u001b[0m with correctness \u001b[32m56.1622%\u001b[39m.\n",
      "\t\t\u001b[1mAggregate cost\u001b[0m of the above recourses = \u001b[35m1.0\u001b[39m\n",
      "\n"
     ]
    }
   ],
   "source": [
    "top_rules = gfacts.select_rules_subset(\n",
    "    rules_by_if,\n",
    "    metric=\"min-above-thr\",\n",
    "    sort_strategy=\"abs-diff-decr-ignore-forall-subgroups-empty\",\n",
    "    top_count=10,\n",
    "    cor_threshold=0.5,\n",
    "    filter_sequence=[\"remove-below-thr\"]\n",
    ")\n",
    "\n",
    "pop_sizes = {sg: (X[\"sex\"] == sg).sum() for sg in X[\"sex\"].unique()}\n",
    "print(recourse_report_reverse(\n",
    "    top_rules,\n",
    "    population_sizes = pop_sizes,\n",
    "    subgroup_costs=gfacts.calculate_all_if_subgroup_costs(\n",
    "        list(top_rules.keys()),\n",
    "        list(top_rules.values()),\n",
    "        group_calculator=gfacts.if_group_cost_min_change_correctness_threshold,\n",
    "        cor_thres=0.5\n",
    "    )\n",
    "))"
   ]
  },
  {
   "attachments": {},
   "cell_type": "markdown",
   "metadata": {},
   "source": [
    "## Cost above threshold"
   ]
  },
  {
   "cell_type": "code",
   "execution_count": 26,
   "metadata": {},
   "outputs": [
    {
     "name": "stdout",
     "output_type": "stream",
     "text": [
      "If \u001b[1mcapital-gain = 0, capital-loss = 0\u001b[0m:\n",
      "\tSubgroup '\u001b[1m Female\u001b[0m', \u001b[34m93.4976%\u001b[39m covered out of 16192\n",
      "\t\t\u001b[31mNo recourses for this subgroup!\n",
      "\u001b[39m\t\t\u001b[1mAggregate cost\u001b[0m of the above recourses = \u001b[35minf\u001b[39m\n",
      "\tSubgroup '\u001b[1m Male\u001b[0m', \u001b[34m93.9116%\u001b[39m covered out of 32650\n",
      "\t\tMake \u001b[1m\u001b[31mcapital-gain = 7688\u001b[39m\u001b[0m with correctness \u001b[32m53.8316%\u001b[39m.\n",
      "\t\tMake \u001b[1m\u001b[31mcapital-gain = 7298\u001b[39m\u001b[0m with correctness \u001b[32m51.7337%\u001b[39m.\n",
      "\t\t\u001b[1mAggregate cost\u001b[0m of the above recourses = \u001b[35m2.0\u001b[39m\n",
      "If \u001b[1mnative-country =  United-States, capital-gain = 0, capital-loss = 0\u001b[0m:\n",
      "\tSubgroup '\u001b[1m Female\u001b[0m', \u001b[34m84.1545%\u001b[39m covered out of 16192\n",
      "\t\t\u001b[31mNo recourses for this subgroup!\n",
      "\u001b[39m\t\t\u001b[1mAggregate cost\u001b[0m of the above recourses = \u001b[35minf\u001b[39m\n",
      "\tSubgroup '\u001b[1m Male\u001b[0m', \u001b[34m83.6777%\u001b[39m covered out of 32650\n",
      "\t\tMake \u001b[1m\u001b[31mcapital-gain = 7688\u001b[39m\u001b[0m with correctness \u001b[32m55.6082%\u001b[39m.\n",
      "\t\tMake \u001b[1m\u001b[31mcapital-gain = 7298\u001b[39m\u001b[0m with correctness \u001b[32m53.4990%\u001b[39m.\n",
      "\t\t\u001b[1mAggregate cost\u001b[0m of the above recourses = \u001b[35m2.0\u001b[39m\n",
      "If \u001b[1mcapital-gain = 0, capital-loss = 0, race =  White\u001b[0m:\n",
      "\tSubgroup '\u001b[1m Female\u001b[0m', \u001b[34m74.5007%\u001b[39m covered out of 16192\n",
      "\t\t\u001b[31mNo recourses for this subgroup!\n",
      "\u001b[39m\t\t\u001b[1mAggregate cost\u001b[0m of the above recourses = \u001b[35minf\u001b[39m\n",
      "\tSubgroup '\u001b[1m Male\u001b[0m', \u001b[34m81.4475%\u001b[39m covered out of 32650\n",
      "\t\tMake \u001b[1m\u001b[31mcapital-gain = 7688\u001b[39m\u001b[0m with correctness \u001b[32m56.1734%\u001b[39m.\n",
      "\t\tMake \u001b[1m\u001b[31mcapital-gain = 7298\u001b[39m\u001b[0m with correctness \u001b[32m54.0904%\u001b[39m.\n",
      "\t\t\u001b[1mAggregate cost\u001b[0m of the above recourses = \u001b[35m2.0\u001b[39m\n",
      "If \u001b[1mnative-country =  United-States, capital-gain = 0, capital-loss = 0, race =  White\u001b[0m:\n",
      "\tSubgroup '\u001b[1m Female\u001b[0m', \u001b[34m68.7972%\u001b[39m covered out of 16192\n",
      "\t\t\u001b[31mNo recourses for this subgroup!\n",
      "\u001b[39m\t\t\u001b[1mAggregate cost\u001b[0m of the above recourses = \u001b[35minf\u001b[39m\n",
      "\tSubgroup '\u001b[1m Male\u001b[0m', \u001b[34m74.4698%\u001b[39m covered out of 32650\n",
      "\t\tMake \u001b[1m\u001b[31mcapital-gain = 7688\u001b[39m\u001b[0m with correctness \u001b[32m57.8909%\u001b[39m.\n",
      "\t\tMake \u001b[1m\u001b[31mcapital-gain = 7298\u001b[39m\u001b[0m with correctness \u001b[32m55.8148%\u001b[39m.\n",
      "\t\t\u001b[1mAggregate cost\u001b[0m of the above recourses = \u001b[35m2.0\u001b[39m\n",
      "If \u001b[1mWorkclass =  Private, capital-gain = 0, capital-loss = 0\u001b[0m:\n",
      "\tSubgroup '\u001b[1m Female\u001b[0m', \u001b[34m68.0426%\u001b[39m covered out of 16192\n",
      "\t\t\u001b[31mNo recourses for this subgroup!\n",
      "\u001b[39m\t\t\u001b[1mAggregate cost\u001b[0m of the above recourses = \u001b[35minf\u001b[39m\n",
      "\tSubgroup '\u001b[1m Male\u001b[0m', \u001b[34m67.1090%\u001b[39m covered out of 32650\n",
      "\t\tMake \u001b[1m\u001b[31mcapital-gain = 7688\u001b[39m\u001b[0m with correctness \u001b[32m51.6412%\u001b[39m.\n",
      "\t\t\u001b[1mAggregate cost\u001b[0m of the above recourses = \u001b[35m1.0\u001b[39m\n",
      "If \u001b[1mWorkclass =  Private, capital-gain = 0, capital-loss = 0, race =  White\u001b[0m:\n",
      "\tSubgroup '\u001b[1m Female\u001b[0m', \u001b[34m55.0599%\u001b[39m covered out of 16192\n",
      "\t\t\u001b[31mNo recourses for this subgroup!\n",
      "\u001b[39m\t\t\u001b[1mAggregate cost\u001b[0m of the above recourses = \u001b[35minf\u001b[39m\n",
      "\tSubgroup '\u001b[1m Male\u001b[0m', \u001b[34m58.1885%\u001b[39m covered out of 32650\n",
      "\t\tMake \u001b[1m\u001b[31mcapital-gain = 7298\u001b[39m\u001b[0m with correctness \u001b[32m51.9633%\u001b[39m.\n",
      "\t\tMake \u001b[1m\u001b[31mcapital-gain = 7688\u001b[39m\u001b[0m with correctness \u001b[32m54.0324%\u001b[39m.\n",
      "\t\t\u001b[1mAggregate cost\u001b[0m of the above recourses = \u001b[35m2.0\u001b[39m\n",
      "If \u001b[1mcapital-gain = 0, hours-per-week = 40\u001b[0m:\n",
      "\tSubgroup '\u001b[1m Female\u001b[0m', \u001b[34m44.3187%\u001b[39m covered out of 16192\n",
      "\t\t\u001b[31mNo recourses for this subgroup!\n",
      "\u001b[39m\t\t\u001b[1mAggregate cost\u001b[0m of the above recourses = \u001b[35minf\u001b[39m\n",
      "\tSubgroup '\u001b[1m Male\u001b[0m', \u001b[34m49.9658%\u001b[39m covered out of 32650\n",
      "\t\tMake \u001b[1m\u001b[31mcapital-gain = 7298\u001b[39m\u001b[0m with correctness \u001b[32m52.4644%\u001b[39m.\n",
      "\t\tMake \u001b[1m\u001b[31mcapital-gain = 7688\u001b[39m\u001b[0m with correctness \u001b[32m54.6824%\u001b[39m.\n",
      "\t\t\u001b[1mAggregate cost\u001b[0m of the above recourses = \u001b[35m2.0\u001b[39m\n",
      "If \u001b[1mcapital-gain = 0, capital-loss = 0, hours-per-week = 40\u001b[0m:\n",
      "\tSubgroup '\u001b[1m Female\u001b[0m', \u001b[34m43.1647%\u001b[39m covered out of 16192\n",
      "\t\t\u001b[31mNo recourses for this subgroup!\n",
      "\u001b[39m\t\t\u001b[1mAggregate cost\u001b[0m of the above recourses = \u001b[35minf\u001b[39m\n",
      "\tSubgroup '\u001b[1m Male\u001b[0m', \u001b[34m48.5839%\u001b[39m covered out of 32650\n",
      "\t\tMake \u001b[1m\u001b[31mcapital-gain = 7298\u001b[39m\u001b[0m with correctness \u001b[32m51.8164%\u001b[39m.\n",
      "\t\tMake \u001b[1m\u001b[31mcapital-gain = 7688\u001b[39m\u001b[0m with correctness \u001b[32m54.0411%\u001b[39m.\n",
      "\t\t\u001b[1mAggregate cost\u001b[0m of the above recourses = \u001b[35m2.0\u001b[39m\n",
      "If \u001b[1mnative-country =  United-States, capital-gain = 0, hours-per-week = 40\u001b[0m:\n",
      "\tSubgroup '\u001b[1m Female\u001b[0m', \u001b[34m39.4807%\u001b[39m covered out of 16192\n",
      "\t\t\u001b[31mNo recourses for this subgroup!\n",
      "\u001b[39m\t\t\u001b[1mAggregate cost\u001b[0m of the above recourses = \u001b[35minf\u001b[39m\n",
      "\tSubgroup '\u001b[1m Male\u001b[0m', \u001b[34m44.1100%\u001b[39m covered out of 32650\n",
      "\t\tMake \u001b[1m\u001b[31mcapital-gain = 7298\u001b[39m\u001b[0m with correctness \u001b[32m54.5285%\u001b[39m.\n",
      "\t\tMake \u001b[1m\u001b[31mcapital-gain = 7688\u001b[39m\u001b[0m with correctness \u001b[32m56.8238%\u001b[39m.\n",
      "\t\t\u001b[1mAggregate cost\u001b[0m of the above recourses = \u001b[35m2.0\u001b[39m\n",
      "If \u001b[1mnative-country =  United-States, capital-gain = 0, capital-loss = 0, hours-per-week = 40\u001b[0m:\n",
      "\tSubgroup '\u001b[1m Female\u001b[0m', \u001b[34m38.4598%\u001b[39m covered out of 16192\n",
      "\t\t\u001b[31mNo recourses for this subgroup!\n",
      "\u001b[39m\t\t\u001b[1mAggregate cost\u001b[0m of the above recourses = \u001b[35minf\u001b[39m\n",
      "\tSubgroup '\u001b[1m Male\u001b[0m', \u001b[34m42.8513%\u001b[39m covered out of 32650\n",
      "\t\tMake \u001b[1m\u001b[31mcapital-gain = 7298\u001b[39m\u001b[0m with correctness \u001b[32m53.8633%\u001b[39m.\n",
      "\t\tMake \u001b[1m\u001b[31mcapital-gain = 7688\u001b[39m\u001b[0m with correctness \u001b[32m56.1622%\u001b[39m.\n",
      "\t\t\u001b[1mAggregate cost\u001b[0m of the above recourses = \u001b[35m2.0\u001b[39m\n",
      "\n"
     ]
    }
   ],
   "source": [
    "top_rules = gfacts.select_rules_subset(\n",
    "    rules_by_if,\n",
    "    metric=\"total-above-thr\",\n",
    "    sort_strategy=\"abs-diff-decr-ignore-forall-subgroups-empty\",\n",
    "    top_count=10,\n",
    "    cor_threshold=0.5,\n",
    "    filter_sequence=[\"remove-below-thr\"]\n",
    ")\n",
    "\n",
    "pop_sizes = {sg: (X[\"sex\"] == sg).sum() for sg in X[\"sex\"].unique()}\n",
    "print(recourse_report_reverse(\n",
    "    top_rules,\n",
    "    population_sizes = pop_sizes,\n",
    "    subgroup_costs=gfacts.calculate_all_if_subgroup_costs(\n",
    "        list(top_rules.keys()),\n",
    "        list(top_rules.values()),\n",
    "        group_calculator=gfacts.if_group_cost_sum_change_correctness_threshold,\n",
    "        cor_thres=0.5\n",
    "    )\n",
    "))"
   ]
  },
  {
   "attachments": {},
   "cell_type": "markdown",
   "metadata": {},
   "source": [
    "## Number above threshold"
   ]
  },
  {
   "cell_type": "code",
   "execution_count": 27,
   "metadata": {},
   "outputs": [
    {
     "name": "stdout",
     "output_type": "stream",
     "text": [
      "If \u001b[1moccupation =  Prof-specialty, marital-status =  Never-married, hours-per-week = 40\u001b[0m:\n",
      "\tSubgroup '\u001b[1m Female\u001b[0m', \u001b[34m2.7963%\u001b[39m covered out of 16192\n",
      "\t\t\u001b[31mNo recourses for this subgroup!\n",
      "\u001b[39m\t\t\u001b[1mAggregate cost\u001b[0m of the above recourses = \u001b[35m0.0\u001b[39m\n",
      "\tSubgroup '\u001b[1m Male\u001b[0m', \u001b[34m1.3408%\u001b[39m covered out of 32650\n",
      "\t\tMake \u001b[1m\u001b[31moccupation =  Exec-managerial\u001b[39m, \u001b[31mmarital-status =  Married-civ-spouse\u001b[39m\u001b[0m with correctness \u001b[32m54.0816%\u001b[39m.\n",
      "\t\tMake \u001b[1m\u001b[31moccupation =  Exec-managerial\u001b[39m, \u001b[31mmarital-status =  Married-civ-spouse\u001b[39m, \u001b[31mhours-per-week = 50\u001b[39m\u001b[0m with correctness \u001b[32m67.3469%\u001b[39m.\n",
      "\t\tMake \u001b[1m\u001b[31mmarital-status =  Married-civ-spouse\u001b[39m, \u001b[31mhours-per-week = 50\u001b[39m\u001b[0m with correctness \u001b[32m57.1429%\u001b[39m.\n",
      "\t\tMake \u001b[1m\u001b[31moccupation =  Exec-managerial\u001b[39m, \u001b[31mmarital-status =  Married-civ-spouse\u001b[39m, \u001b[31mhours-per-week = 45\u001b[39m\u001b[0m with correctness \u001b[32m64.2857%\u001b[39m.\n",
      "\t\tMake \u001b[1m\u001b[31moccupation =  Exec-managerial\u001b[39m, \u001b[31mmarital-status =  Married-civ-spouse\u001b[39m, \u001b[31mhours-per-week = 60\u001b[39m\u001b[0m with correctness \u001b[32m75.5102%\u001b[39m.\n",
      "\t\tMake \u001b[1m\u001b[31mmarital-status =  Married-civ-spouse\u001b[39m, \u001b[31mhours-per-week = 45\u001b[39m\u001b[0m with correctness \u001b[32m50.0000%\u001b[39m.\n",
      "\t\tMake \u001b[1m\u001b[31mmarital-status =  Married-civ-spouse\u001b[39m, \u001b[31mhours-per-week = 60\u001b[39m\u001b[0m with correctness \u001b[32m68.3673%\u001b[39m.\n",
      "\t\tMake \u001b[1m\u001b[31moccupation =  Exec-managerial\u001b[39m, \u001b[31mmarital-status =  Married-civ-spouse\u001b[39m, \u001b[31mhours-per-week = 55\u001b[39m\u001b[0m with correctness \u001b[32m69.3878%\u001b[39m.\n",
      "\t\tMake \u001b[1m\u001b[31mmarital-status =  Married-civ-spouse\u001b[39m, \u001b[31mhours-per-week = 55\u001b[39m\u001b[0m with correctness \u001b[32m64.2857%\u001b[39m.\n",
      "\t\t\u001b[1mAggregate cost\u001b[0m of the above recourses = \u001b[35m9.0\u001b[39m\n",
      "If \u001b[1moccupation =  Prof-specialty, marital-status =  Never-married, hours-per-week = 40, race =  White\u001b[0m:\n",
      "\tSubgroup '\u001b[1m Female\u001b[0m', \u001b[34m2.2415%\u001b[39m covered out of 16192\n",
      "\t\t\u001b[31mNo recourses for this subgroup!\n",
      "\u001b[39m\t\t\u001b[1mAggregate cost\u001b[0m of the above recourses = \u001b[35m0.0\u001b[39m\n",
      "\tSubgroup '\u001b[1m Male\u001b[0m', \u001b[34m1.1082%\u001b[39m covered out of 32650\n",
      "\t\tMake \u001b[1m\u001b[31moccupation =  Exec-managerial\u001b[39m, \u001b[31mmarital-status =  Married-civ-spouse\u001b[39m\u001b[0m with correctness \u001b[32m55.5556%\u001b[39m.\n",
      "\t\tMake \u001b[1m\u001b[31moccupation =  Exec-managerial\u001b[39m, \u001b[31mmarital-status =  Married-civ-spouse\u001b[39m, \u001b[31mhours-per-week = 50\u001b[39m\u001b[0m with correctness \u001b[32m69.1358%\u001b[39m.\n",
      "\t\tMake \u001b[1m\u001b[31mmarital-status =  Married-civ-spouse\u001b[39m, \u001b[31mhours-per-week = 50\u001b[39m\u001b[0m with correctness \u001b[32m58.0247%\u001b[39m.\n",
      "\t\tMake \u001b[1m\u001b[31moccupation =  Exec-managerial\u001b[39m, \u001b[31mmarital-status =  Married-civ-spouse\u001b[39m, \u001b[31mhours-per-week = 45\u001b[39m\u001b[0m with correctness \u001b[32m66.6667%\u001b[39m.\n",
      "\t\tMake \u001b[1m\u001b[31moccupation =  Exec-managerial\u001b[39m, \u001b[31mmarital-status =  Married-civ-spouse\u001b[39m, \u001b[31mhours-per-week = 60\u001b[39m\u001b[0m with correctness \u001b[32m76.5432%\u001b[39m.\n",
      "\t\tMake \u001b[1m\u001b[31mmarital-status =  Married-civ-spouse\u001b[39m, \u001b[31mhours-per-week = 45\u001b[39m\u001b[0m with correctness \u001b[32m51.8519%\u001b[39m.\n",
      "\t\tMake \u001b[1m\u001b[31mmarital-status =  Married-civ-spouse\u001b[39m, \u001b[31mhours-per-week = 60\u001b[39m\u001b[0m with correctness \u001b[32m70.3704%\u001b[39m.\n",
      "\t\tMake \u001b[1m\u001b[31moccupation =  Exec-managerial\u001b[39m, \u001b[31mmarital-status =  Married-civ-spouse\u001b[39m, \u001b[31mhours-per-week = 55\u001b[39m\u001b[0m with correctness \u001b[32m71.6049%\u001b[39m.\n",
      "\t\tMake \u001b[1m\u001b[31mmarital-status =  Married-civ-spouse\u001b[39m, \u001b[31mhours-per-week = 55\u001b[39m\u001b[0m with correctness \u001b[32m66.6667%\u001b[39m.\n",
      "\t\t\u001b[1mAggregate cost\u001b[0m of the above recourses = \u001b[35m9.0\u001b[39m\n",
      "If \u001b[1moccupation =  Exec-managerial, education-num = 10, hours-per-week = 40\u001b[0m:\n",
      "\tSubgroup '\u001b[1m Female\u001b[0m', \u001b[34m1.4203%\u001b[39m covered out of 16192\n",
      "\t\t\u001b[31mNo recourses for this subgroup!\n",
      "\u001b[39m\t\t\u001b[1mAggregate cost\u001b[0m of the above recourses = \u001b[35m0.0\u001b[39m\n",
      "\tSubgroup '\u001b[1m Male\u001b[0m', \u001b[34m1.2177%\u001b[39m covered out of 32650\n",
      "\t\tMake \u001b[1m\u001b[31meducation-num = 13\u001b[39m\u001b[0m with correctness \u001b[32m57.3034%\u001b[39m.\n",
      "\t\tMake \u001b[1m\u001b[31moccupation =  Prof-specialty\u001b[39m, \u001b[31meducation-num = 13\u001b[39m\u001b[0m with correctness \u001b[32m53.9326%\u001b[39m.\n",
      "\t\tMake \u001b[1m\u001b[31moccupation =  Prof-specialty\u001b[39m, \u001b[31meducation-num = 14\u001b[39m\u001b[0m with correctness \u001b[32m57.3034%\u001b[39m.\n",
      "\t\tMake \u001b[1m\u001b[31meducation-num = 13\u001b[39m, \u001b[31mhours-per-week = 50\u001b[39m\u001b[0m with correctness \u001b[32m59.5506%\u001b[39m.\n",
      "\t\tMake \u001b[1m\u001b[31moccupation =  Prof-specialty\u001b[39m, \u001b[31meducation-num = 13\u001b[39m, \u001b[31mhours-per-week = 50\u001b[39m\u001b[0m with correctness \u001b[32m57.3034%\u001b[39m.\n",
      "\t\tMake \u001b[1m\u001b[31meducation-num = 13\u001b[39m, \u001b[31mhours-per-week = 45\u001b[39m\u001b[0m with correctness \u001b[32m58.4270%\u001b[39m.\n",
      "\t\tMake \u001b[1m\u001b[31moccupation =  Prof-specialty\u001b[39m, \u001b[31meducation-num = 16\u001b[39m\u001b[0m with correctness \u001b[32m62.9213%\u001b[39m.\n",
      "\t\tMake \u001b[1m\u001b[31meducation-num = 13\u001b[39m, \u001b[31mhours-per-week = 60\u001b[39m\u001b[0m with correctness \u001b[32m61.7978%\u001b[39m.\n",
      "\t\tMake \u001b[1m\u001b[31moccupation =  Prof-specialty\u001b[39m, \u001b[31meducation-num = 13\u001b[39m, \u001b[31mhours-per-week = 45\u001b[39m\u001b[0m with correctness \u001b[32m55.0562%\u001b[39m.\n",
      "\t\t\u001b[1mAggregate cost\u001b[0m of the above recourses = \u001b[35m9.0\u001b[39m\n",
      "If \u001b[1moccupation =  Prof-specialty, capital-gain = 0, marital-status =  Never-married, hours-per-week = 40\u001b[0m:\n",
      "\tSubgroup '\u001b[1m Female\u001b[0m', \u001b[34m2.7075%\u001b[39m covered out of 16192\n",
      "\t\t\u001b[31mNo recourses for this subgroup!\n",
      "\u001b[39m\t\t\u001b[1mAggregate cost\u001b[0m of the above recourses = \u001b[35m0.0\u001b[39m\n",
      "\tSubgroup '\u001b[1m Male\u001b[0m', \u001b[34m1.2861%\u001b[39m covered out of 32650\n",
      "\t\tMake \u001b[1m\u001b[31moccupation =  Exec-managerial\u001b[39m, \u001b[31mmarital-status =  Married-civ-spouse\u001b[39m\u001b[0m with correctness \u001b[32m53.1915%\u001b[39m.\n",
      "\t\tMake \u001b[1m\u001b[31moccupation =  Exec-managerial\u001b[39m, \u001b[31mmarital-status =  Married-civ-spouse\u001b[39m, \u001b[31mhours-per-week = 50\u001b[39m\u001b[0m with correctness \u001b[32m67.0213%\u001b[39m.\n",
      "\t\tMake \u001b[1m\u001b[31mmarital-status =  Married-civ-spouse\u001b[39m, \u001b[31mhours-per-week = 50\u001b[39m\u001b[0m with correctness \u001b[32m56.3830%\u001b[39m.\n",
      "\t\tMake \u001b[1m\u001b[31moccupation =  Exec-managerial\u001b[39m, \u001b[31mmarital-status =  Married-civ-spouse\u001b[39m, \u001b[31mhours-per-week = 45\u001b[39m\u001b[0m with correctness \u001b[32m63.8298%\u001b[39m.\n",
      "\t\tMake \u001b[1m\u001b[31moccupation =  Exec-managerial\u001b[39m, \u001b[31mmarital-status =  Married-civ-spouse\u001b[39m, \u001b[31mhours-per-week = 60\u001b[39m\u001b[0m with correctness \u001b[32m75.5319%\u001b[39m.\n",
      "\t\tMake \u001b[1m\u001b[31mmarital-status =  Married-civ-spouse\u001b[39m, \u001b[31mhours-per-week = 60\u001b[39m\u001b[0m with correctness \u001b[32m68.0851%\u001b[39m.\n",
      "\t\tMake \u001b[1m\u001b[31moccupation =  Exec-managerial\u001b[39m, \u001b[31mmarital-status =  Married-civ-spouse\u001b[39m, \u001b[31mhours-per-week = 55\u001b[39m\u001b[0m with correctness \u001b[32m69.1489%\u001b[39m.\n",
      "\t\tMake \u001b[1m\u001b[31mmarital-status =  Married-civ-spouse\u001b[39m, \u001b[31mhours-per-week = 55\u001b[39m\u001b[0m with correctness \u001b[32m63.8298%\u001b[39m.\n",
      "\t\t\u001b[1mAggregate cost\u001b[0m of the above recourses = \u001b[35m8.0\u001b[39m\n",
      "If \u001b[1moccupation =  Exec-managerial, education-num = 10, hours-per-week = 40, race =  White\u001b[0m:\n",
      "\tSubgroup '\u001b[1m Female\u001b[0m', \u001b[34m1.0431%\u001b[39m covered out of 16192\n",
      "\t\t\u001b[31mNo recourses for this subgroup!\n",
      "\u001b[39m\t\t\u001b[1mAggregate cost\u001b[0m of the above recourses = \u001b[35m0.0\u001b[39m\n",
      "\tSubgroup '\u001b[1m Male\u001b[0m', \u001b[34m1.0535%\u001b[39m covered out of 32650\n",
      "\t\tMake \u001b[1m\u001b[31meducation-num = 13\u001b[39m\u001b[0m with correctness \u001b[32m61.0390%\u001b[39m.\n",
      "\t\tMake \u001b[1m\u001b[31moccupation =  Prof-specialty\u001b[39m, \u001b[31meducation-num = 13\u001b[39m\u001b[0m with correctness \u001b[32m57.1429%\u001b[39m.\n",
      "\t\tMake \u001b[1m\u001b[31meducation-num = 13\u001b[39m, \u001b[31mhours-per-week = 50\u001b[39m\u001b[0m with correctness \u001b[32m62.3377%\u001b[39m.\n",
      "\t\tMake \u001b[1m\u001b[31moccupation =  Prof-specialty\u001b[39m, \u001b[31meducation-num = 14\u001b[39m\u001b[0m with correctness \u001b[32m61.0390%\u001b[39m.\n",
      "\t\tMake \u001b[1m\u001b[31moccupation =  Prof-specialty\u001b[39m, \u001b[31meducation-num = 13\u001b[39m, \u001b[31mhours-per-week = 50\u001b[39m\u001b[0m with correctness \u001b[32m61.0390%\u001b[39m.\n",
      "\t\tMake \u001b[1m\u001b[31meducation-num = 13\u001b[39m, \u001b[31mhours-per-week = 45\u001b[39m\u001b[0m with correctness \u001b[32m61.0390%\u001b[39m.\n",
      "\t\tMake \u001b[1m\u001b[31meducation-num = 13\u001b[39m, \u001b[31mhours-per-week = 60\u001b[39m\u001b[0m with correctness \u001b[32m63.6364%\u001b[39m.\n",
      "\t\tMake \u001b[1m\u001b[31moccupation =  Prof-specialty\u001b[39m, \u001b[31meducation-num = 13\u001b[39m, \u001b[31mhours-per-week = 45\u001b[39m\u001b[0m with correctness \u001b[32m58.4416%\u001b[39m.\n",
      "\t\t\u001b[1mAggregate cost\u001b[0m of the above recourses = \u001b[35m8.0\u001b[39m\n",
      "If \u001b[1moccupation =  Exec-managerial, education-num = 10, capital-loss = 0, hours-per-week = 40\u001b[0m:\n",
      "\tSubgroup '\u001b[1m Female\u001b[0m', \u001b[34m1.4203%\u001b[39m covered out of 16192\n",
      "\t\t\u001b[31mNo recourses for this subgroup!\n",
      "\u001b[39m\t\t\u001b[1mAggregate cost\u001b[0m of the above recourses = \u001b[35m0.0\u001b[39m\n",
      "\tSubgroup '\u001b[1m Male\u001b[0m', \u001b[34m1.1766%\u001b[39m covered out of 32650\n",
      "\t\tMake \u001b[1m\u001b[31meducation-num = 13\u001b[39m\u001b[0m with correctness \u001b[32m56.9767%\u001b[39m.\n",
      "\t\tMake \u001b[1m\u001b[31moccupation =  Prof-specialty\u001b[39m, \u001b[31meducation-num = 13\u001b[39m\u001b[0m with correctness \u001b[32m54.6512%\u001b[39m.\n",
      "\t\tMake \u001b[1m\u001b[31meducation-num = 13\u001b[39m, \u001b[31mhours-per-week = 50\u001b[39m\u001b[0m with correctness \u001b[32m59.3023%\u001b[39m.\n",
      "\t\tMake \u001b[1m\u001b[31moccupation =  Prof-specialty\u001b[39m, \u001b[31meducation-num = 13\u001b[39m, \u001b[31mhours-per-week = 50\u001b[39m\u001b[0m with correctness \u001b[32m56.9767%\u001b[39m.\n",
      "\t\tMake \u001b[1m\u001b[31meducation-num = 13\u001b[39m, \u001b[31mhours-per-week = 45\u001b[39m\u001b[0m with correctness \u001b[32m58.1395%\u001b[39m.\n",
      "\t\tMake \u001b[1m\u001b[31moccupation =  Prof-specialty\u001b[39m, \u001b[31meducation-num = 16\u001b[39m\u001b[0m with correctness \u001b[32m62.7907%\u001b[39m.\n",
      "\t\t\u001b[1mAggregate cost\u001b[0m of the above recourses = \u001b[35m6.0\u001b[39m\n",
      "If \u001b[1mnative-country =  United-States, occupation =  Adm-clerical, education-num = 9, hours-per-week = 40\u001b[0m:\n",
      "\tSubgroup '\u001b[1m Female\u001b[0m', \u001b[34m5.7257%\u001b[39m covered out of 16192\n",
      "\t\t\u001b[31mNo recourses for this subgroup!\n",
      "\u001b[39m\t\t\u001b[1mAggregate cost\u001b[0m of the above recourses = \u001b[35m0.0\u001b[39m\n",
      "\tSubgroup '\u001b[1m Male\u001b[0m', \u001b[34m1.4092%\u001b[39m covered out of 32650\n",
      "\t\tMake \u001b[1m\u001b[31moccupation =  Prof-specialty\u001b[39m, \u001b[31meducation-num = 13\u001b[39m\u001b[0m with correctness \u001b[32m53.3981%\u001b[39m.\n",
      "\t\tMake \u001b[1m\u001b[31moccupation =  Exec-managerial\u001b[39m, \u001b[31meducation-num = 13\u001b[39m\u001b[0m with correctness \u001b[32m54.3689%\u001b[39m.\n",
      "\t\tMake \u001b[1m\u001b[31moccupation =  Exec-managerial\u001b[39m, \u001b[31meducation-num = 13\u001b[39m, \u001b[31mhours-per-week = 50\u001b[39m\u001b[0m with correctness \u001b[32m58.2524%\u001b[39m.\n",
      "\t\tMake \u001b[1m\u001b[31moccupation =  Exec-managerial\u001b[39m, \u001b[31meducation-num = 13\u001b[39m, \u001b[31mhours-per-week = 45\u001b[39m\u001b[0m with correctness \u001b[32m56.3107%\u001b[39m.\n",
      "\t\tMake \u001b[1m\u001b[31moccupation =  Prof-specialty\u001b[39m, \u001b[31meducation-num = 13\u001b[39m, \u001b[31mhours-per-week = 50\u001b[39m\u001b[0m with correctness \u001b[32m54.3689%\u001b[39m.\n",
      "\t\t\u001b[1mAggregate cost\u001b[0m of the above recourses = \u001b[35m5.0\u001b[39m\n",
      "If \u001b[1mWorkclass =  Private, occupation =  Machine-op-inspct, education-num = 9\u001b[0m:\n",
      "\tSubgroup '\u001b[1m Female\u001b[0m', \u001b[34m2.3968%\u001b[39m covered out of 16192\n",
      "\t\t\u001b[31mNo recourses for this subgroup!\n",
      "\u001b[39m\t\t\u001b[1mAggregate cost\u001b[0m of the above recourses = \u001b[35m0.0\u001b[39m\n",
      "\tSubgroup '\u001b[1m Male\u001b[0m', \u001b[34m4.3098%\u001b[39m covered out of 32650\n",
      "\t\tMake \u001b[1m\u001b[31moccupation =  Exec-managerial\u001b[39m, \u001b[31meducation-num = 13\u001b[39m\u001b[0m with correctness \u001b[32m62.2222%\u001b[39m.\n",
      "\t\tMake \u001b[1m\u001b[31moccupation =  Prof-specialty\u001b[39m, \u001b[31meducation-num = 13\u001b[39m\u001b[0m with correctness \u001b[32m59.6825%\u001b[39m.\n",
      "\t\tMake \u001b[1m\u001b[31mWorkclass =  Local-gov\u001b[39m, \u001b[31moccupation =  Prof-specialty\u001b[39m, \u001b[31meducation-num = 13\u001b[39m\u001b[0m with correctness \u001b[32m56.5079%\u001b[39m.\n",
      "\t\tMake \u001b[1m\u001b[31moccupation =  Prof-specialty\u001b[39m, \u001b[31meducation-num = 15\u001b[39m\u001b[0m with correctness \u001b[32m64.7619%\u001b[39m.\n",
      "\t\tMake \u001b[1m\u001b[31moccupation =  Exec-managerial\u001b[39m, \u001b[31meducation-num = 12\u001b[39m\u001b[0m with correctness \u001b[32m58.7302%\u001b[39m.\n",
      "\t\t\u001b[1mAggregate cost\u001b[0m of the above recourses = \u001b[35m5.0\u001b[39m\n",
      "If \u001b[1mWorkclass =  Private, occupation =  Exec-managerial, education-num = 9\u001b[0m:\n",
      "\tSubgroup '\u001b[1m Female\u001b[0m', \u001b[34m2.1305%\u001b[39m covered out of 16192\n",
      "\t\t\u001b[31mNo recourses for this subgroup!\n",
      "\u001b[39m\t\t\u001b[1mAggregate cost\u001b[0m of the above recourses = \u001b[35m0.0\u001b[39m\n",
      "\tSubgroup '\u001b[1m Male\u001b[0m', \u001b[34m1.0672%\u001b[39m covered out of 32650\n",
      "\t\tMake \u001b[1m\u001b[31meducation-num = 13\u001b[39m\u001b[0m with correctness \u001b[32m64.1026%\u001b[39m.\n",
      "\t\tMake \u001b[1m\u001b[31moccupation =  Prof-specialty\u001b[39m, \u001b[31meducation-num = 13\u001b[39m\u001b[0m with correctness \u001b[32m61.5385%\u001b[39m.\n",
      "\t\tMake \u001b[1m\u001b[31mWorkclass =  Local-gov\u001b[39m, \u001b[31moccupation =  Prof-specialty\u001b[39m, \u001b[31meducation-num = 13\u001b[39m\u001b[0m with correctness \u001b[32m60.2564%\u001b[39m.\n",
      "\t\tMake \u001b[1m\u001b[31moccupation =  Prof-specialty\u001b[39m, \u001b[31meducation-num = 15\u001b[39m\u001b[0m with correctness \u001b[32m65.3846%\u001b[39m.\n",
      "\t\tMake \u001b[1m\u001b[31meducation-num = 12\u001b[39m\u001b[0m with correctness \u001b[32m61.5385%\u001b[39m.\n",
      "\t\t\u001b[1mAggregate cost\u001b[0m of the above recourses = \u001b[35m5.0\u001b[39m\n",
      "If \u001b[1mnative-country =  United-States, occupation =  Exec-managerial, education-num = 10, hours-per-week = 40\u001b[0m:\n",
      "\tSubgroup '\u001b[1m Female\u001b[0m', \u001b[34m1.3094%\u001b[39m covered out of 16192\n",
      "\t\t\u001b[31mNo recourses for this subgroup!\n",
      "\u001b[39m\t\t\u001b[1mAggregate cost\u001b[0m of the above recourses = \u001b[35m0.0\u001b[39m\n",
      "\tSubgroup '\u001b[1m Male\u001b[0m', \u001b[34m1.1629%\u001b[39m covered out of 32650\n",
      "\t\tMake \u001b[1m\u001b[31moccupation =  Prof-specialty\u001b[39m, \u001b[31meducation-num = 13\u001b[39m\u001b[0m with correctness \u001b[32m55.2941%\u001b[39m.\n",
      "\t\tMake \u001b[1m\u001b[31meducation-num = 13\u001b[39m\u001b[0m with correctness \u001b[32m58.8235%\u001b[39m.\n",
      "\t\tMake \u001b[1m\u001b[31meducation-num = 13\u001b[39m, \u001b[31mhours-per-week = 50\u001b[39m\u001b[0m with correctness \u001b[32m61.1765%\u001b[39m.\n",
      "\t\tMake \u001b[1m\u001b[31meducation-num = 13\u001b[39m, \u001b[31mhours-per-week = 45\u001b[39m\u001b[0m with correctness \u001b[32m60.0000%\u001b[39m.\n",
      "\t\tMake \u001b[1m\u001b[31moccupation =  Prof-specialty\u001b[39m, \u001b[31meducation-num = 13\u001b[39m, \u001b[31mhours-per-week = 50\u001b[39m\u001b[0m with correctness \u001b[32m58.8235%\u001b[39m.\n",
      "\t\t\u001b[1mAggregate cost\u001b[0m of the above recourses = \u001b[35m5.0\u001b[39m\n",
      "\n"
     ]
    }
   ],
   "source": [
    "top_rules = gfacts.select_rules_subset(\n",
    "    rules_by_if,\n",
    "    metric=\"num-above-thr\",\n",
    "    sort_strategy=\"abs-diff-decr-ignore-forall-subgroups-empty\",\n",
    "    top_count=10,\n",
    "    cor_threshold=0.5,\n",
    "    filter_sequence=[\"remove-below-thr\"]\n",
    ")\n",
    "\n",
    "pop_sizes = {sg: (X[\"sex\"] == sg).sum() for sg in X[\"sex\"].unique()}\n",
    "print(recourse_report_reverse(\n",
    "    top_rules,\n",
    "    population_sizes = pop_sizes,\n",
    "    subgroup_costs=gfacts.calculate_all_if_subgroup_costs(\n",
    "        list(top_rules.keys()),\n",
    "        list(top_rules.values()),\n",
    "        group_calculator=gfacts.if_group_cost_recoursescount_correctness_threshold,\n",
    "        cor_thres=0.5\n",
    "    )\n",
    "))"
   ]
  }
 ],
 "metadata": {
  "kernelspec": {
   "display_name": "Python 3 (ipykernel)",
   "language": "python",
   "name": "python3"
  },
  "language_info": {
   "codemirror_mode": {
    "name": "ipython",
    "version": 3
   },
   "file_extension": ".py",
   "mimetype": "text/x-python",
   "name": "python",
   "nbconvert_exporter": "python",
   "pygments_lexer": "ipython3",
   "version": "3.8.2"
  },
  "vscode": {
   "interpreter": {
    "hash": "362842c44ed7d38e9c92d488ead4445e1c745f35479a5810177dacafb6456c39"
   }
  }
 },
 "nbformat": 4,
 "nbformat_minor": 4
}
