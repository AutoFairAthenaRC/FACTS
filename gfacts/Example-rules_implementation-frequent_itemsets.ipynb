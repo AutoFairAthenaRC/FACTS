{
 "cells": [
  {
   "cell_type": "code",
   "execution_count": 1,
   "id": "2c19ee61",
   "metadata": {},
   "outputs": [],
   "source": [
    "# Location of adult dataset\n",
    "ADULT_DATAFILE = '../adult.data'"
   ]
  },
  {
   "cell_type": "code",
   "execution_count": 2,
   "id": "2680d6a2",
   "metadata": {},
   "outputs": [],
   "source": [
    "import numpy as np\n",
    "import pandas as pd\n",
    "# from apriori_python import apriori\n",
    "from pprint import pprint\n",
    "\n",
    "import lib\n",
    "from models import customXGB"
   ]
  },
  {
   "cell_type": "code",
   "execution_count": 3,
   "id": "b988ac0f",
   "metadata": {},
   "outputs": [],
   "source": [
    "feature_names = [\n",
    "   \"Age\", \"Workclass\", \"fnlwgt\", \"Education\",\n",
    "   \"Education-Num\", \"Marital Status\", \"Occupation\",\n",
    "   \"Relationship\", \"Race\", \"Sex\", \"Capital Gain\",\n",
    "   \"Capital Loss\", \"Hours per week\", \"Country\", \"label\"\n",
    "]\n",
    "data = pd.DataFrame(\n",
    "  np.genfromtxt(ADULT_DATAFILE, delimiter=', ', dtype=str),\n",
    "  columns=feature_names\n",
    ")\n",
    "cate_columns = ['Workclass', 'Education', 'Marital Status', 'Occupation', 'Relationship', 'Race', 'Sex', 'Country']"
   ]
  },
  {
   "cell_type": "code",
   "execution_count": 4,
   "id": "a1d74946",
   "metadata": {},
   "outputs": [],
   "source": [
    "d = data[[\"Education\", \"Race\", \"Age\", \"Sex\", \"Country\"]]\n",
    "y = data[\"label\"]\n",
    "\n",
    "RecourseRulesMale = [\n",
    "    ({\"Education\":\"Bachelors\", \"Race\":\"White\", \"Country\":\"Greece\"},\n",
    "     {\"Education\":\"Bachelors\", \"Race\":\"White\", \"Country\":\"United-States\"}),\n",
    "    ({\"Race\":\"White\", \"Country\":\"Greece\"}, {\"Race\":\"Black\", \"Country\":\"Greece\"}),\n",
    "    ({\"Sex\":\"Male\", \"Country\":\"Greece\"}, {\"Sex\":\"Female\", \"Country\":\"Greece\"})\n",
    "]\n",
    "\n",
    "RecourseRulesFemale = [\n",
    "    ({\"Education\":\"Bachelors\", \"Race\":\"White\", \"Country\":\"Greece\"},\n",
    "     {\"Education\":\"Bachelors\", \"Race\":\"White\", \"Country\":\"United-States\"}),\n",
    "    ({\"Race\":\"White\", \"Country\":\"Greece\"}, {\"Race\":\"Black\", \"Country\":\"Greece\"})\n",
    "]\n",
    "\n",
    "sex = lib.TwoLevelRecourseSet(\"Sex\", [\"Male\", \"Female\"])\n",
    "sex.addRules(\"Male\", RecourseRulesMale)\n",
    "sex.addRules(\"Female\", RecourseRulesFemale)"
   ]
  },
  {
   "cell_type": "code",
   "execution_count": 5,
   "id": "cd362eb2",
   "metadata": {},
   "outputs": [
    {
     "data": {
      "text/plain": [
       "[Predicate(features=['Education', 'Race', 'Country'], values=['Bachelors', 'White', 'United-States']),\n",
       " Predicate(features=['Race', 'Country'], values=['Black', 'Greece']),\n",
       " Predicate(features=['Sex', 'Country'], values=['Female', 'Greece'])]"
      ]
     },
     "execution_count": 5,
     "metadata": {},
     "output_type": "execute_result"
    }
   ],
   "source": [
    "list(sex.suggest(d.iloc[5839]))"
   ]
  },
  {
   "cell_type": "code",
   "execution_count": 6,
   "id": "2c1842fb",
   "metadata": {},
   "outputs": [
    {
     "data": {
      "text/plain": [
       "<models.customXGB at 0x19cb23bb9a0>"
      ]
     },
     "execution_count": 6,
     "metadata": {},
     "output_type": "execute_result"
    }
   ],
   "source": [
    "model = customXGB(n_estimators=300, max_depth=5)\n",
    "model.fit(data, cate_columns=cate_columns)"
   ]
  },
  {
   "cell_type": "code",
   "execution_count": 7,
   "id": "17042664",
   "metadata": {},
   "outputs": [
    {
     "data": {
      "text/plain": [
       "numpy.ndarray"
      ]
     },
     "execution_count": 7,
     "metadata": {},
     "output_type": "execute_result"
    }
   ],
   "source": [
    "type(model.predict(data.iloc[:100, :]))"
   ]
  },
  {
   "cell_type": "code",
   "execution_count": 8,
   "id": "b11315da",
   "metadata": {},
   "outputs": [
    {
     "name": "stdout",
     "output_type": "stream",
     "text": [
      "(32561, 15)\n",
      "(25534,)\n",
      "(25534, 15)\n",
      "<class 'pandas.core.frame.DataFrame'>\n"
     ]
    }
   ],
   "source": [
    "X_aff_idxs = np.where(model.predict(data) == 0)[0]\n",
    "print(data.shape)\n",
    "print(X_aff_idxs.shape)\n",
    "X_aff = data.iloc[X_aff_idxs, :]\n",
    "print(X_aff.shape)\n",
    "print(type(X_aff))\n",
    "# X_aff.reset_index(inplace=True, drop=True)\n",
    "# print(X_aff.shape)\n",
    "# print(type(X_aff))"
   ]
  },
  {
   "cell_type": "code",
   "execution_count": 8,
   "id": "91d0dd54",
   "metadata": {},
   "outputs": [
    {
     "name": "stdout",
     "output_type": "stream",
     "text": [
      "Number of suggested actions (recourses) that have no effect: 11\n",
      "Number of individuals for which there is a suggestion: 7\n",
      "Total cost of changed features, based on change / no change, over all rules: 104\n",
      "Total cost of changed features, based on magnitude of changed, over all rules: 5\n",
      "Total number of triples / rules in our set: 5\n",
      "Maximum number of predicates in a triple / rule: 3\n",
      "138929\n",
      "7\n",
      "13896\n",
      "135\n"
     ]
    }
   ],
   "source": [
    "print(f\"Number of suggested actions (recourses) that have no effect: {lib.incorrectRecourses(sex, X_aff, model)}\")\n",
    "print(f\"Number of individuals for which there is a suggestion: {lib.cover(sex, X_aff)}\")\n",
    "print(f\"Total cost of changed features, based on change / no change, over all rules: {lib.featureCost(sex)}\")\n",
    "print(f\"Total cost of changed features, based on magnitude of changed, over all rules: {lib.featureChange(sex)}\")\n",
    "print(f\"Total number of triples / rules in our set: {lib.size(sex)}\")\n",
    "print(f\"Maximum number of predicates in a triple / rule: {lib.maxwidth(sex)}\")\n",
    "\n",
    "print(lib.reward1(sex, X_aff, model))\n",
    "print(lib.reward2(sex, X_aff))\n",
    "print(lib.reward3(sex))\n",
    "print(lib.reward4(sex))"
   ]
  },
  {
   "cell_type": "code",
   "execution_count": 18,
   "id": "cd0b037b",
   "metadata": {},
   "outputs": [
    {
     "data": {
      "text/plain": [
       "5979"
      ]
     },
     "execution_count": 18,
     "metadata": {},
     "output_type": "execute_result"
    }
   ],
   "source": [
    "len(X_aff[X_aff[\"Sex\"] == \"Male\"])"
   ]
  },
  {
   "cell_type": "code",
   "execution_count": 15,
   "id": "de74cda9",
   "metadata": {},
   "outputs": [
    {
     "data": {
      "text/plain": [
       "(10771, 15)"
      ]
     },
     "execution_count": 15,
     "metadata": {},
     "output_type": "execute_result"
    }
   ],
   "source": [
    "data[data.Sex == \"Female\"].shape"
   ]
  },
  {
   "cell_type": "code",
   "execution_count": 10,
   "id": "0dc55eb1",
   "metadata": {},
   "outputs": [
    {
     "name": "stdout",
     "output_type": "stream",
     "text": [
      "       support                             itemsets\n",
      "0     0.895857                      (United-States)\n",
      "1     0.854274                              (White)\n",
      "2     0.669205                               (Male)\n",
      "3     0.164461                          (Bachelors)\n",
      "4     0.025061                                 (39)\n",
      "...        ...                                  ...\n",
      "3072  0.001290                        (Japan, Male)\n",
      "3073  0.001167          (Japan, Asian-Pac-Islander)\n",
      "3074  0.001996        (Vietnam, Asian-Pac-Islander)\n",
      "3075  0.001351                      (Vietnam, Male)\n",
      "3076  0.001321  (Vietnam, Male, Asian-Pac-Islander)\n",
      "\n",
      "[3077 rows x 2 columns]\n",
      "[Predicate(features=['Country'], values=['United-States']),\n",
      " Predicate(features=['Race'], values=['White']),\n",
      " Predicate(features=['Sex'], values=['Male']),\n",
      " Predicate(features=['Education'], values=['Bachelors']),\n",
      " Predicate(features=['Age'], values=['39']),\n",
      " Predicate(features=['Age'], values=['50']),\n",
      " Predicate(features=['Education'], values=['HS-grad']),\n",
      " Predicate(features=['Age'], values=['38']),\n",
      " Predicate(features=['Race'], values=['Black']),\n",
      " Predicate(features=['Education'], values=['11th'])]\n",
      "3077\n"
     ]
    }
   ],
   "source": [
    "freq_itemsets = lib.runApriori(d, min_support=0.001)\n",
    "print(freq_itemsets)\n",
    "RL = lib.aprioriout2predicateList(freq_itemsets, d)\n",
    "pprint(RL[:10])\n",
    "print(len(RL))"
   ]
  }
 ],
 "metadata": {
  "kernelspec": {
   "display_name": "Python 3 (ipykernel)",
   "language": "python",
   "name": "python3"
  },
  "language_info": {
   "codemirror_mode": {
    "name": "ipython",
    "version": 3
   },
   "file_extension": ".py",
   "mimetype": "text/x-python",
   "name": "python",
   "nbconvert_exporter": "python",
   "pygments_lexer": "ipython3",
   "version": "3.9.15"
  }
 },
 "nbformat": 4,
 "nbformat_minor": 5
}
