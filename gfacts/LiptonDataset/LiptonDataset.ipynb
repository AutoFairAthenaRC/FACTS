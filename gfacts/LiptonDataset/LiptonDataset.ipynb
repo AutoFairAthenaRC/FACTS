{
 "cells": [
  {
   "cell_type": "markdown",
   "metadata": {},
   "source": [
    "Datasets used: \n",
    "- `LiptonDataset` :<br>This dataset consists of two features, hair length and\n",
    "work experience, and supposes a binary classifier that uses these\n",
    "features to decide whether a given person should be hired.\n",
    "\n",
    "Reference Links: https://archive.ics.uci.edu/ml/datasets/adult"
   ]
  },
  {
   "cell_type": "code",
   "execution_count": 1,
   "metadata": {
    "tags": []
   },
   "outputs": [
    {
     "name": "stderr",
     "output_type": "stream",
     "text": [
      "Importing display from IPython.core.display is deprecated since IPython 7.14, please import from IPython display\n",
      "Importing display from IPython.core.display is deprecated since IPython 7.14, please import from IPython display\n",
      "Importing display from IPython.core.display is deprecated since IPython 7.14, please import from IPython display\n"
     ]
    }
   ],
   "source": [
    "import pandas as pd\n",
    "import numpy as np\n",
    "from pprint import pprint\n",
    "\n",
    "from sklearn.model_selection import train_test_split\n",
    "from sklearn.metrics import classification_report, confusion_matrix, ConfusionMatrixDisplay\n",
    "\n",
    "import os\n",
    "import sys\n",
    "module_path = os.path.abspath(os.path.join('..'))\n",
    "if module_path not in sys.path:\n",
    "    sys.path.append(module_path)\n",
    "\n",
    "import gfacts\n",
    "from gfacts import valid_ifthens_with_coverage_correctness, rules2rulesbyif\n",
    "from gfacts.models import customLogisticRegression\n",
    "from gfacts.parameters import ParameterProxy\n",
    "from gfacts.formatting import recourse_report_reverse\n",
    "from aif360.sklearn.datasets import fetch_adult\n",
    "import matplotlib.pyplot as plt\n",
    "from sklearn import preprocessing\n",
    "\n",
    "from IPython.display import Markdown, display"
   ]
  },
  {
   "cell_type": "markdown",
   "metadata": {},
   "source": [
    "## Function to generate synthetic data used by Lipton et al. in arXiv:1711.07076"
   ]
  },
  {
   "cell_type": "code",
   "execution_count": 2,
   "metadata": {
    "tags": []
   },
   "outputs": [],
   "source": [
    "def generate_lipton(scale=True, num_pts=1000, seed=0):\n",
    "    '''\n",
    "    Synthetic data used by Lipton et al. in arXiv:1711.07076\n",
    "    '''\n",
    "    np.random.seed(seed)\n",
    "    work_exp_m = np.random.poisson(31, size=num_pts) - np.random.normal(20, 0.2, size=num_pts)\n",
    "    work_exp_f = np.random.poisson(25, size=num_pts) - np.random.normal(20, 0.2, size=num_pts)\n",
    "    \n",
    "    np.random.seed(seed+1)\n",
    "    hair_len_m = 35 * np.random.beta(2, 7, size=num_pts)\n",
    "    hair_len_f = 35 * np.random.beta(2, 2, size=num_pts)\n",
    "    \n",
    "    np.random.seed(seed+2)\n",
    "    ym = np.random.uniform(size=num_pts) < 1 / (1 + np.exp(25.5 - 2.5*work_exp_m))\n",
    "    yf = np.random.uniform(size=num_pts) < 1 / (1 + np.exp(25.5 - 2.5*work_exp_f))\n",
    "    \n",
    "    if scale: #scale the input attributes to zero mean and unit variance\n",
    "        work_exp = np.concatenate((work_exp_m, work_exp_f))\n",
    "        work_exp = preprocessing.scale(work_exp)\n",
    "        work_exp_m = work_exp[:num_pts]\n",
    "        work_exp_f = work_exp[num_pts:]\n",
    "        hair_len = np.concatenate((hair_len_m, hair_len_f))\n",
    "        hair_len = preprocessing.scale(hair_len)\n",
    "        hair_len_m = hair_len[:num_pts]\n",
    "        hair_len_f = hair_len[num_pts:]\n",
    "    \n",
    "    #combine the input attributes to create the input matrix\n",
    "    Xm = np.stack((work_exp_m, hair_len_m), axis=1)\n",
    "    Xf = np.stack((work_exp_f, hair_len_f), axis=1)\n",
    "    columns = ['work_exp', 'hair_len']\n",
    "    \n",
    "    return Xm, Xf, ym, yf, columns"
   ]
  },
  {
   "cell_type": "markdown",
   "metadata": {},
   "source": [
    "## Load Dataset"
   ]
  },
  {
   "cell_type": "code",
   "execution_count": 3,
   "metadata": {
    "tags": []
   },
   "outputs": [],
   "source": [
    "Xm, Xf, ym, yf, columns = generate_lipton()\n",
    "Xm = pd.DataFrame(Xm,columns = columns)\n",
    "Xf = pd.DataFrame(Xm,columns = columns)\n",
    "Xm['labels'] = ym\n",
    "Xf['labels'] = yf\n",
    "Xm['labels'] = np.where((Xm['labels'] == True) , 1, 0)\n",
    "Xf['labels'] = np.where((Xf['labels'] == True) , 1, 0)\n",
    "Xm['gender'] = 'Male'\n",
    "Xf['gender'] = 'Female'\n",
    "df = pd.concat([Xm,Xf],ignore_index=True, sort=False)\n",
    "df = df.sample(frac=1).reset_index(drop=True)\n",
    "df['work_exp'], cut_bin = pd.qcut(df['work_exp'], q = 3, retbins = True,labels=['Small','Medium','Big'])\n",
    "df['hair_len'], cut_bin = pd.qcut(df['hair_len'], q = 3, retbins = True,labels=['Short','Medium','Long'])\n"
   ]
  },
  {
   "cell_type": "code",
   "execution_count": 4,
   "metadata": {
    "tags": []
   },
   "outputs": [],
   "source": [
    "num_features = df._get_numeric_data().columns.to_list()\n",
    "cate_features = df.select_dtypes(include=['category','object']).columns.to_list()"
   ]
  },
  {
   "cell_type": "markdown",
   "metadata": {},
   "source": [
    "## Model training and test"
   ]
  },
  {
   "cell_type": "code",
   "execution_count": 5,
   "metadata": {
    "tags": []
   },
   "outputs": [],
   "source": [
    "X = df.drop('labels', axis=1)\n",
    "y = df['labels']\n",
    "\n",
    "X_train, X_test, y_train, y_test = train_test_split(X, y, train_size=0.7, random_state=None, stratify=y)\n",
    "\n",
    "X_train = X_train.reset_index(drop=True)\n",
    "X_test = X_test.reset_index(drop=True)\n",
    "y_train = y_train.reset_index(drop=True)\n",
    "y_test = y_test.reset_index(drop=True)"
   ]
  },
  {
   "cell_type": "code",
   "execution_count": 6,
   "metadata": {
    "tags": []
   },
   "outputs": [
    {
     "name": "stdout",
     "output_type": "stream",
     "text": [
      "CPU times: total: 15.6 ms\n",
      "Wall time: 22.7 ms\n"
     ]
    },
    {
     "data": {
      "text/plain": [
       "array([0., 1., 1., 0., 0., 0., 0., 1., 0., 0., 1., 0., 1., 0., 1., 1., 0.,\n",
       "       0., 1., 1., 0., 1., 0., 0., 0., 0., 0., 1., 1., 0., 0., 0., 1., 0.,\n",
       "       0., 1., 0., 1., 0., 1., 0., 1., 0., 1., 0., 0., 0., 1., 0., 0., 0.,\n",
       "       1., 0., 0., 0., 0., 0., 1., 0., 0., 1., 1., 1., 0., 1., 1., 0., 0.,\n",
       "       0., 0., 0., 0., 0., 0., 1., 0., 0., 0., 0., 1., 0., 1., 0., 0., 0.,\n",
       "       0., 0., 0., 1., 1., 1., 0., 0., 1., 0., 0., 0., 1., 0., 0.])"
      ]
     },
     "execution_count": 6,
     "metadata": {},
     "output_type": "execute_result"
    }
   ],
   "source": [
    "%%time\n",
    "\n",
    "model = customLogisticRegression(max_iter = 1500)\n",
    "model.fit(X_train, y_train, cate_columns=cate_features, target_column='labels')\n",
    "model.predict(X_test.iloc[:100, :])"
   ]
  },
  {
   "cell_type": "code",
   "execution_count": 7,
   "metadata": {
    "tags": []
   },
   "outputs": [
    {
     "name": "stdout",
     "output_type": "stream",
     "text": [
      "              precision    recall  f1-score   support\n",
      "\n",
      "           0       0.90      0.92      0.91       391\n",
      "           1       0.84      0.80      0.82       209\n",
      "\n",
      "    accuracy                           0.88       600\n",
      "   macro avg       0.87      0.86      0.86       600\n",
      "weighted avg       0.88      0.88      0.88       600\n",
      "\n"
     ]
    }
   ],
   "source": [
    "positive_label = 1\n",
    "negative_label = 0\n",
    "preds = model.predict(X_test)\n",
    "print(classification_report(y_test.map({negative_label: 0, positive_label: 1}), preds))"
   ]
  },
  {
   "cell_type": "code",
   "execution_count": 8,
   "metadata": {
    "tags": []
   },
   "outputs": [
    {
     "data": {
      "image/png": "[encoded data removed]",
      "text/plain": [
       "<Figure size 640x480 with 2 Axes>"
      ]
     },
     "metadata": {},
     "output_type": "display_data"
    }
   ],
   "source": [
    "conf_matrix = confusion_matrix(y_test, preds)\n",
    "cm_disp = ConfusionMatrixDisplay(confusion_matrix=conf_matrix)\n",
    "cm_disp.plot()\n",
    "plt.show()"
   ]
  },
  {
   "cell_type": "markdown",
   "metadata": {},
   "source": [
    "## Find all valid if-thens with all respective coverages and correctness, for all subgroups.\n",
    "\n",
    "**Caution!** This step takes time. Uncomment the following block if you wish to run."
   ]
  },
  {
   "cell_type": "code",
   "execution_count": 9,
   "metadata": {
    "tags": []
   },
   "outputs": [],
   "source": [
    "for col in cate_features:\n",
    "    X_test[col] = X_test[col].astype('object')"
   ]
  },
  {
   "cell_type": "code",
   "execution_count": 16,
   "metadata": {},
   "outputs": [
    {
     "name": "stdout",
     "output_type": "stream",
     "text": [
      "Computing frequent itemsets for each subgroup of the affected instances.\n"
     ]
    },
    {
     "name": "stderr",
     "output_type": "stream",
     "text": [
      "100%|██████████| 2/2 [00:00<00:00, 133.64it/s]"
     ]
    },
    {
     "name": "stdout",
     "output_type": "stream",
     "text": [
      "Computing the intersection between the frequent itemsets of each subgroup of the affected instances.\n"
     ]
    },
    {
     "name": "stderr",
     "output_type": "stream",
     "text": [
      "\n",
      "100%|██████████| 2/2 [00:00<?, ?it/s]"
     ]
    },
    {
     "name": "stdout",
     "output_type": "stream",
     "text": [
      "Computing all valid if-then pairs between the common frequent itemsets of each subgroup of the affected instances and the frequent itemsets of the unaffacted instances.\n"
     ]
    },
    {
     "name": "stderr",
     "output_type": "stream",
     "text": [
      "\n",
      "100%|██████████| 7/7 [00:00<00:00, 7022.27it/s]"
     ]
    },
    {
     "name": "stdout",
     "output_type": "stream",
     "text": [
      "Computing correctenesses for all valid if-thens.\n"
     ]
    },
    {
     "name": "stderr",
     "output_type": "stream",
     "text": [
      "\n",
      "100%|██████████| 19/19 [00:00<00:00, 71.86it/s]"
     ]
    },
    {
     "name": "stdout",
     "output_type": "stream",
     "text": [
      "Number of if-thens: 19\n"
     ]
    },
    {
     "name": "stderr",
     "output_type": "stream",
     "text": [
      "\n"
     ]
    }
   ],
   "source": [
    "ifthens_coverage_correctness = valid_ifthens_with_coverage_correctness(\n",
    "     X_test,\n",
    "     model=model,\n",
    "     sensitive_attribute='gender',\n",
    "     missing_subgroup_val=\"Unknown\"\n",
    " )\n",
    "\n",
    "print(f\"Number of if-thens: {len(ifthens_coverage_correctness)}\")\n",
    "rules_by_if = rules2rulesbyif(ifthens_coverage_correctness)"
   ]
  },
  {
   "cell_type": "code",
   "execution_count": 17,
   "metadata": {},
   "outputs": [],
   "source": [
    " ### Uncomment if you wish to save rules object on disk\n",
    "\n",
    "import dill\n",
    "\n",
    "with open(\"rulesAdultFairTest.data\", \"wb\") as outf:\n",
    "    dill.dump(rules_by_if, outf)"
   ]
  },
  {
   "cell_type": "code",
   "execution_count": 10,
   "metadata": {
    "tags": []
   },
   "outputs": [],
   "source": [
    "\n",
    "# import dill\n",
    "\n",
    "# with open(\"rulesAdultFairTest.data\", \"rb\") as inf:\n",
    "#     rules_by_if = dill.load(inf)\n"
   ]
  },
  {
   "cell_type": "code",
   "execution_count": 11,
   "metadata": {
    "tags": []
   },
   "outputs": [
    {
     "name": "stdout",
     "output_type": "stream",
     "text": [
      "If \u001b[1mwork_exp = Small\u001b[0m:\n",
      "\tSubgroup '\u001b[1mFemale\u001b[0m', \u001b[34m31.1258%\u001b[39m covered\n",
      "\t\tMake \u001b[1m\u001b[31mwork_exp = Big\u001b[39m\u001b[0m with correctness \u001b[32m0.0000%\u001b[39m.\n",
      "\t\tMake \u001b[1m\u001b[31mwork_exp = Medium\u001b[39m\u001b[0m with correctness \u001b[32m0.0000%\u001b[39m.\n",
      "\tSubgroup '\u001b[1mMale\u001b[0m', \u001b[34m100.0000%\u001b[39m covered\n",
      "\t\tMake \u001b[1m\u001b[31mwork_exp = Big\u001b[39m\u001b[0m with correctness \u001b[32m100.0000%\u001b[39m.\n",
      "\t\tMake \u001b[1m\u001b[31mwork_exp = Medium\u001b[39m\u001b[0m with correctness \u001b[32m100.0000%\u001b[39m.\n",
      "If \u001b[1mwork_exp = Small, hair_len = Long\u001b[0m:\n",
      "\tSubgroup '\u001b[1mFemale\u001b[0m', \u001b[34m11.9205%\u001b[39m covered\n",
      "\t\tMake \u001b[1m\u001b[31mwork_exp = Medium\u001b[39m\u001b[0m with correctness \u001b[32m0.0000%\u001b[39m.\n",
      "\tSubgroup '\u001b[1mMale\u001b[0m', \u001b[34m34.0000%\u001b[39m covered\n",
      "\t\tMake \u001b[1m\u001b[31mwork_exp = Medium\u001b[39m\u001b[0m with correctness \u001b[32m100.0000%\u001b[39m.\n",
      "If \u001b[1mhair_len = Short, work_exp = Small\u001b[0m:\n",
      "\tSubgroup '\u001b[1mFemale\u001b[0m', \u001b[34m10.5960%\u001b[39m covered\n",
      "\t\tMake \u001b[1m\u001b[31mhair_len = Long\u001b[39m, \u001b[31mwork_exp = Big\u001b[39m\u001b[0m with correctness \u001b[32m0.0000%\u001b[39m.\n",
      "\t\tMake \u001b[1m\u001b[31mhair_len = Medium\u001b[39m, \u001b[31mwork_exp = Medium\u001b[39m\u001b[0m with correctness \u001b[32m0.0000%\u001b[39m.\n",
      "\t\tMake \u001b[1m\u001b[31mwork_exp = Big\u001b[39m\u001b[0m with correctness \u001b[32m0.0000%\u001b[39m.\n",
      "\t\tMake \u001b[1m\u001b[31mhair_len = Medium\u001b[39m, \u001b[31mwork_exp = Big\u001b[39m\u001b[0m with correctness \u001b[32m0.0000%\u001b[39m.\n",
      "\t\tMake \u001b[1m\u001b[31mwork_exp = Medium\u001b[39m\u001b[0m with correctness \u001b[32m0.0000%\u001b[39m.\n",
      "\tSubgroup '\u001b[1mMale\u001b[0m', \u001b[34m30.0000%\u001b[39m covered\n",
      "\t\tMake \u001b[1m\u001b[31mhair_len = Long\u001b[39m, \u001b[31mwork_exp = Big\u001b[39m\u001b[0m with correctness \u001b[32m100.0000%\u001b[39m.\n",
      "\t\tMake \u001b[1m\u001b[31mhair_len = Medium\u001b[39m, \u001b[31mwork_exp = Medium\u001b[39m\u001b[0m with correctness \u001b[32m100.0000%\u001b[39m.\n",
      "\t\tMake \u001b[1m\u001b[31mwork_exp = Big\u001b[39m\u001b[0m with correctness \u001b[32m100.0000%\u001b[39m.\n",
      "\t\tMake \u001b[1m\u001b[31mhair_len = Medium\u001b[39m, \u001b[31mwork_exp = Big\u001b[39m\u001b[0m with correctness \u001b[32m100.0000%\u001b[39m.\n",
      "\t\tMake \u001b[1m\u001b[31mwork_exp = Medium\u001b[39m\u001b[0m with correctness \u001b[32m100.0000%\u001b[39m.\n",
      "If \u001b[1mhair_len = Medium, work_exp = Small\u001b[0m:\n",
      "\tSubgroup '\u001b[1mFemale\u001b[0m', \u001b[34m8.6093%\u001b[39m covered\n",
      "\t\tMake \u001b[1m\u001b[31mhair_len = Long\u001b[39m, \u001b[31mwork_exp = Big\u001b[39m\u001b[0m with correctness \u001b[32m0.0000%\u001b[39m.\n",
      "\t\tMake \u001b[1m\u001b[31mwork_exp = Medium\u001b[39m\u001b[0m with correctness \u001b[32m0.0000%\u001b[39m.\n",
      "\t\tMake \u001b[1m\u001b[31mhair_len = Short\u001b[39m, \u001b[31mwork_exp = Big\u001b[39m\u001b[0m with correctness \u001b[32m0.0000%\u001b[39m.\n",
      "\t\tMake \u001b[1m\u001b[31mwork_exp = Big\u001b[39m\u001b[0m with correctness \u001b[32m0.0000%\u001b[39m.\n",
      "\t\tMake \u001b[1m\u001b[31mhair_len = Short\u001b[39m, \u001b[31mwork_exp = Medium\u001b[39m\u001b[0m with correctness \u001b[32m0.0000%\u001b[39m.\n",
      "\tSubgroup '\u001b[1mMale\u001b[0m', \u001b[34m36.0000%\u001b[39m covered\n",
      "\t\tMake \u001b[1m\u001b[31mhair_len = Long\u001b[39m, \u001b[31mwork_exp = Big\u001b[39m\u001b[0m with correctness \u001b[32m100.0000%\u001b[39m.\n",
      "\t\tMake \u001b[1m\u001b[31mwork_exp = Medium\u001b[39m\u001b[0m with correctness \u001b[32m100.0000%\u001b[39m.\n",
      "\t\tMake \u001b[1m\u001b[31mhair_len = Short\u001b[39m, \u001b[31mwork_exp = Big\u001b[39m\u001b[0m with correctness \u001b[32m100.0000%\u001b[39m.\n",
      "\t\tMake \u001b[1m\u001b[31mwork_exp = Big\u001b[39m\u001b[0m with correctness \u001b[32m100.0000%\u001b[39m.\n",
      "\t\tMake \u001b[1m\u001b[31mhair_len = Short\u001b[39m, \u001b[31mwork_exp = Medium\u001b[39m\u001b[0m with correctness \u001b[32m100.0000%\u001b[39m.\n",
      "If \u001b[1mhair_len = Long\u001b[0m:\n",
      "\tSubgroup '\u001b[1mFemale\u001b[0m', \u001b[34m36.4238%\u001b[39m covered\n",
      "\t\tMake \u001b[1m\u001b[31mhair_len = Medium\u001b[39m\u001b[0m with correctness \u001b[32m-0.0000%\u001b[39m.\n",
      "\t\tMake \u001b[1m\u001b[31mhair_len = Short\u001b[39m\u001b[0m with correctness \u001b[32m-0.0000%\u001b[39m.\n",
      "\tSubgroup '\u001b[1mMale\u001b[0m', \u001b[34m34.0000%\u001b[39m covered\n",
      "\t\tMake \u001b[1m\u001b[31mhair_len = Medium\u001b[39m\u001b[0m with correctness \u001b[32m0.0000%\u001b[39m.\n",
      "\t\tMake \u001b[1m\u001b[31mhair_len = Short\u001b[39m\u001b[0m with correctness \u001b[32m0.0000%\u001b[39m.\n",
      "If \u001b[1mhair_len = Short\u001b[0m:\n",
      "\tSubgroup '\u001b[1mFemale\u001b[0m', \u001b[34m32.1192%\u001b[39m covered\n",
      "\t\tMake \u001b[1m\u001b[31mhair_len = Medium\u001b[39m\u001b[0m with correctness \u001b[32m-0.0000%\u001b[39m.\n",
      "\t\tMake \u001b[1m\u001b[31mhair_len = Long\u001b[39m\u001b[0m with correctness \u001b[32m-0.0000%\u001b[39m.\n",
      "\tSubgroup '\u001b[1mMale\u001b[0m', \u001b[34m30.0000%\u001b[39m covered\n",
      "\t\tMake \u001b[1m\u001b[31mhair_len = Medium\u001b[39m\u001b[0m with correctness \u001b[32m0.0000%\u001b[39m.\n",
      "\t\tMake \u001b[1m\u001b[31mhair_len = Long\u001b[39m\u001b[0m with correctness \u001b[32m0.0000%\u001b[39m.\n",
      "If \u001b[1mhair_len = Medium\u001b[0m:\n",
      "\tSubgroup '\u001b[1mFemale\u001b[0m', \u001b[34m31.4570%\u001b[39m covered\n",
      "\t\tMake \u001b[1m\u001b[31mhair_len = Short\u001b[39m\u001b[0m with correctness \u001b[32m0.0000%\u001b[39m.\n",
      "\t\tMake \u001b[1m\u001b[31mhair_len = Long\u001b[39m\u001b[0m with correctness \u001b[32m0.0000%\u001b[39m.\n",
      "\tSubgroup '\u001b[1mMale\u001b[0m', \u001b[34m36.0000%\u001b[39m covered\n",
      "\t\tMake \u001b[1m\u001b[31mhair_len = Short\u001b[39m\u001b[0m with correctness \u001b[32m0.0000%\u001b[39m.\n",
      "\t\tMake \u001b[1m\u001b[31mhair_len = Long\u001b[39m\u001b[0m with correctness \u001b[32m0.0000%\u001b[39m.\n",
      "\n"
     ]
    }
   ],
   "source": [
    "K = 10\n",
    "\n",
    "# keep K ifs with maximum coverage on Females\n",
    "# TODO: the below is currently dataset dependent\n",
    "# rules_by_if_filtered = sorted(rules_by_if.items(), key=lambda e: e[1][\"F\"][0][1], reverse=True)[:K]\n",
    "\n",
    "# keep K ifs with maximum absolute difference in correctness between Males and Females.\n",
    "# TODO: the below is currently dataset dependent\n",
    "rules_by_if_filtered = sorted(rules_by_if.items(), key=lambda e: abs(e[1][\"Male\"][1][0][1]-e[1][\"Female\"][1][0][1]), reverse=True)[:K]\n",
    "\n",
    "rules_by_if_filtered = dict(rules_by_if_filtered)\n",
    "\n",
    "print(recourse_report_reverse(rules_by_if_filtered))"
   ]
  },
  {
   "cell_type": "markdown",
   "metadata": {},
   "source": [
    "# Filter rules by different fairness definitions"
   ]
  },
  {
   "cell_type": "markdown",
   "metadata": {},
   "source": [
    "Here, we explore more sophisticated ways of picking the \"top\" K rules and showing only those.\n",
    "\n",
    "We start ranking the rule \"groups\" (all recourses for a single \"if\") by averaging out the costs of all suggested recourses, weighted by the respective correctness. For now, the \"cost\" of a recourse is simply the number of features whose value changes (and the magnitude of the change for numerical features, but here there are none)."
   ]
  },
  {
   "cell_type": "code",
   "execution_count": 12,
   "metadata": {
    "tags": []
   },
   "outputs": [],
   "source": [
    "feature_weights = {\"hair_len\": 1, \"work_exp\": 1}\n",
    "comparators = gfacts.naive_feature_change_builder(num_cols=num_features, cate_cols=cate_features, feature_weights=feature_weights)\n",
    "params = ParameterProxy(featureChanges=comparators)"
   ]
  },
  {
   "cell_type": "markdown",
   "metadata": {},
   "source": [
    "## Weighted Average Score"
   ]
  },
  {
   "cell_type": "code",
   "execution_count": 13,
   "metadata": {
    "tags": []
   },
   "outputs": [
    {
     "name": "stdout",
     "output_type": "stream",
     "text": [
      "If \u001b[1mhair_len = Short, work_exp = Small\u001b[0m:\n",
      "\tSubgroup '\u001b[1mFemale\u001b[0m', \u001b[34m10.5960%\u001b[39m covered out of 1000\n",
      "\t\tMake \u001b[1m\u001b[31mhair_len = Long\u001b[39m, \u001b[31mwork_exp = Big\u001b[39m\u001b[0m with correctness \u001b[32m0.0000%\u001b[39m.\n",
      "\t\tMake \u001b[1m\u001b[31mhair_len = Medium\u001b[39m, \u001b[31mwork_exp = Medium\u001b[39m\u001b[0m with correctness \u001b[32m0.0000%\u001b[39m.\n",
      "\t\tMake \u001b[1m\u001b[31mwork_exp = Big\u001b[39m\u001b[0m with correctness \u001b[32m0.0000%\u001b[39m.\n",
      "\t\tMake \u001b[1m\u001b[31mhair_len = Medium\u001b[39m, \u001b[31mwork_exp = Big\u001b[39m\u001b[0m with correctness \u001b[32m0.0000%\u001b[39m.\n",
      "\t\tMake \u001b[1m\u001b[31mwork_exp = Medium\u001b[39m\u001b[0m with correctness \u001b[32m0.0000%\u001b[39m.\n",
      "\t\t\u001b[1mAggregate cost\u001b[0m of the above recourses = \u001b[35m0.0\u001b[39m\n",
      "\tSubgroup '\u001b[1mMale\u001b[0m', \u001b[34m30.0000%\u001b[39m covered out of 1000\n",
      "\t\tMake \u001b[1m\u001b[31mhair_len = Long\u001b[39m, \u001b[31mwork_exp = Big\u001b[39m\u001b[0m with correctness \u001b[32m100.0000%\u001b[39m.\n",
      "\t\tMake \u001b[1m\u001b[31mhair_len = Medium\u001b[39m, \u001b[31mwork_exp = Medium\u001b[39m\u001b[0m with correctness \u001b[32m100.0000%\u001b[39m.\n",
      "\t\tMake \u001b[1m\u001b[31mwork_exp = Big\u001b[39m\u001b[0m with correctness \u001b[32m100.0000%\u001b[39m.\n",
      "\t\tMake \u001b[1m\u001b[31mhair_len = Medium\u001b[39m, \u001b[31mwork_exp = Big\u001b[39m\u001b[0m with correctness \u001b[32m100.0000%\u001b[39m.\n",
      "\t\tMake \u001b[1m\u001b[31mwork_exp = Medium\u001b[39m\u001b[0m with correctness \u001b[32m100.0000%\u001b[39m.\n",
      "\t\t\u001b[1mAggregate cost\u001b[0m of the above recourses = \u001b[35m1.6\u001b[39m\n",
      "If \u001b[1mhair_len = Medium, work_exp = Small\u001b[0m:\n",
      "\tSubgroup '\u001b[1mFemale\u001b[0m', \u001b[34m8.6093%\u001b[39m covered out of 1000\n",
      "\t\tMake \u001b[1m\u001b[31mhair_len = Long\u001b[39m, \u001b[31mwork_exp = Big\u001b[39m\u001b[0m with correctness \u001b[32m0.0000%\u001b[39m.\n",
      "\t\tMake \u001b[1m\u001b[31mwork_exp = Medium\u001b[39m\u001b[0m with correctness \u001b[32m0.0000%\u001b[39m.\n",
      "\t\tMake \u001b[1m\u001b[31mhair_len = Short\u001b[39m, \u001b[31mwork_exp = Big\u001b[39m\u001b[0m with correctness \u001b[32m0.0000%\u001b[39m.\n",
      "\t\tMake \u001b[1m\u001b[31mwork_exp = Big\u001b[39m\u001b[0m with correctness \u001b[32m0.0000%\u001b[39m.\n",
      "\t\tMake \u001b[1m\u001b[31mhair_len = Short\u001b[39m, \u001b[31mwork_exp = Medium\u001b[39m\u001b[0m with correctness \u001b[32m0.0000%\u001b[39m.\n",
      "\t\t\u001b[1mAggregate cost\u001b[0m of the above recourses = \u001b[35m0.0\u001b[39m\n",
      "\tSubgroup '\u001b[1mMale\u001b[0m', \u001b[34m36.0000%\u001b[39m covered out of 1000\n",
      "\t\tMake \u001b[1m\u001b[31mhair_len = Long\u001b[39m, \u001b[31mwork_exp = Big\u001b[39m\u001b[0m with correctness \u001b[32m100.0000%\u001b[39m.\n",
      "\t\tMake \u001b[1m\u001b[31mwork_exp = Medium\u001b[39m\u001b[0m with correctness \u001b[32m100.0000%\u001b[39m.\n",
      "\t\tMake \u001b[1m\u001b[31mhair_len = Short\u001b[39m, \u001b[31mwork_exp = Big\u001b[39m\u001b[0m with correctness \u001b[32m100.0000%\u001b[39m.\n",
      "\t\tMake \u001b[1m\u001b[31mwork_exp = Big\u001b[39m\u001b[0m with correctness \u001b[32m100.0000%\u001b[39m.\n",
      "\t\tMake \u001b[1m\u001b[31mhair_len = Short\u001b[39m, \u001b[31mwork_exp = Medium\u001b[39m\u001b[0m with correctness \u001b[32m100.0000%\u001b[39m.\n",
      "\t\t\u001b[1mAggregate cost\u001b[0m of the above recourses = \u001b[35m1.6\u001b[39m\n",
      "If \u001b[1mwork_exp = Small\u001b[0m:\n",
      "\tSubgroup '\u001b[1mFemale\u001b[0m', \u001b[34m31.1258%\u001b[39m covered out of 1000\n",
      "\t\tMake \u001b[1m\u001b[31mwork_exp = Big\u001b[39m\u001b[0m with correctness \u001b[32m0.0000%\u001b[39m.\n",
      "\t\tMake \u001b[1m\u001b[31mwork_exp = Medium\u001b[39m\u001b[0m with correctness \u001b[32m0.0000%\u001b[39m.\n",
      "\t\t\u001b[1mAggregate cost\u001b[0m of the above recourses = \u001b[35m0.0\u001b[39m\n",
      "\tSubgroup '\u001b[1mMale\u001b[0m', \u001b[34m100.0000%\u001b[39m covered out of 1000\n",
      "\t\tMake \u001b[1m\u001b[31mwork_exp = Big\u001b[39m\u001b[0m with correctness \u001b[32m100.0000%\u001b[39m.\n",
      "\t\tMake \u001b[1m\u001b[31mwork_exp = Medium\u001b[39m\u001b[0m with correctness \u001b[32m100.0000%\u001b[39m.\n",
      "\t\t\u001b[1mAggregate cost\u001b[0m of the above recourses = \u001b[35m1.0\u001b[39m\n",
      "If \u001b[1mwork_exp = Small, hair_len = Long\u001b[0m:\n",
      "\tSubgroup '\u001b[1mFemale\u001b[0m', \u001b[34m11.9205%\u001b[39m covered out of 1000\n",
      "\t\tMake \u001b[1m\u001b[31mwork_exp = Medium\u001b[39m\u001b[0m with correctness \u001b[32m0.0000%\u001b[39m.\n",
      "\t\t\u001b[1mAggregate cost\u001b[0m of the above recourses = \u001b[35m0.0\u001b[39m\n",
      "\tSubgroup '\u001b[1mMale\u001b[0m', \u001b[34m34.0000%\u001b[39m covered out of 1000\n",
      "\t\tMake \u001b[1m\u001b[31mwork_exp = Medium\u001b[39m\u001b[0m with correctness \u001b[32m100.0000%\u001b[39m.\n",
      "\t\t\u001b[1mAggregate cost\u001b[0m of the above recourses = \u001b[35m1.0\u001b[39m\n",
      "If \u001b[1mhair_len = Long\u001b[0m:\n",
      "\tSubgroup '\u001b[1mFemale\u001b[0m', \u001b[34m36.4238%\u001b[39m covered out of 1000\n",
      "\t\tMake \u001b[1m\u001b[31mhair_len = Medium\u001b[39m\u001b[0m with correctness \u001b[32m-0.0000%\u001b[39m.\n",
      "\t\tMake \u001b[1m\u001b[31mhair_len = Short\u001b[39m\u001b[0m with correctness \u001b[32m-0.0000%\u001b[39m.\n",
      "\t\t\u001b[1mAggregate cost\u001b[0m of the above recourses = \u001b[35m-2.22045e-16\u001b[39m\n",
      "\tSubgroup '\u001b[1mMale\u001b[0m', \u001b[34m34.0000%\u001b[39m covered out of 1000\n",
      "\t\tMake \u001b[1m\u001b[31mhair_len = Medium\u001b[39m\u001b[0m with correctness \u001b[32m0.0000%\u001b[39m.\n",
      "\t\tMake \u001b[1m\u001b[31mhair_len = Short\u001b[39m\u001b[0m with correctness \u001b[32m0.0000%\u001b[39m.\n",
      "\t\t\u001b[1mAggregate cost\u001b[0m of the above recourses = \u001b[35m0.0\u001b[39m\n",
      "If \u001b[1mhair_len = Short\u001b[0m:\n",
      "\tSubgroup '\u001b[1mFemale\u001b[0m', \u001b[34m32.1192%\u001b[39m covered out of 1000\n",
      "\t\tMake \u001b[1m\u001b[31mhair_len = Medium\u001b[39m\u001b[0m with correctness \u001b[32m-0.0000%\u001b[39m.\n",
      "\t\tMake \u001b[1m\u001b[31mhair_len = Long\u001b[39m\u001b[0m with correctness \u001b[32m-0.0000%\u001b[39m.\n",
      "\t\t\u001b[1mAggregate cost\u001b[0m of the above recourses = \u001b[35m-2.22045e-16\u001b[39m\n",
      "\tSubgroup '\u001b[1mMale\u001b[0m', \u001b[34m30.0000%\u001b[39m covered out of 1000\n",
      "\t\tMake \u001b[1m\u001b[31mhair_len = Medium\u001b[39m\u001b[0m with correctness \u001b[32m0.0000%\u001b[39m.\n",
      "\t\tMake \u001b[1m\u001b[31mhair_len = Long\u001b[39m\u001b[0m with correctness \u001b[32m0.0000%\u001b[39m.\n",
      "\t\t\u001b[1mAggregate cost\u001b[0m of the above recourses = \u001b[35m0.0\u001b[39m\n",
      "If \u001b[1mhair_len = Medium\u001b[0m:\n",
      "\tSubgroup '\u001b[1mFemale\u001b[0m', \u001b[34m31.4570%\u001b[39m covered out of 1000\n",
      "\t\tMake \u001b[1m\u001b[31mhair_len = Short\u001b[39m\u001b[0m with correctness \u001b[32m0.0000%\u001b[39m.\n",
      "\t\tMake \u001b[1m\u001b[31mhair_len = Long\u001b[39m\u001b[0m with correctness \u001b[32m0.0000%\u001b[39m.\n",
      "\t\t\u001b[1mAggregate cost\u001b[0m of the above recourses = \u001b[35m0.0\u001b[39m\n",
      "\tSubgroup '\u001b[1mMale\u001b[0m', \u001b[34m36.0000%\u001b[39m covered out of 1000\n",
      "\t\tMake \u001b[1m\u001b[31mhair_len = Short\u001b[39m\u001b[0m with correctness \u001b[32m0.0000%\u001b[39m.\n",
      "\t\tMake \u001b[1m\u001b[31mhair_len = Long\u001b[39m\u001b[0m with correctness \u001b[32m0.0000%\u001b[39m.\n",
      "\t\t\u001b[1mAggregate cost\u001b[0m of the above recourses = \u001b[35m0.0\u001b[39m\n",
      "\n"
     ]
    }
   ],
   "source": [
    "top_rules, subgroup_costs = gfacts.select_rules_subset(\n",
    "    rules_by_if,\n",
    "    metric = \"weighted-average\",\n",
    "    sort_strategy = \"abs-diff-decr\",\n",
    "    top_count = 10\n",
    ")\n",
    "\n",
    "pop_sizes = {sg: (X[\"gender\"] == sg).sum() for sg in X[\"gender\"].unique()}\n",
    "print(recourse_report_reverse(\n",
    "    top_rules,\n",
    "    population_sizes=pop_sizes,\n",
    "    subgroup_costs=subgroup_costs\n",
    "))"
   ]
  },
  {
   "cell_type": "markdown",
   "metadata": {},
   "source": [
    "## Minimum cost above threshold"
   ]
  },
  {
   "cell_type": "code",
   "execution_count": 17,
   "metadata": {
    "tags": []
   },
   "outputs": [
    {
     "name": "stdout",
     "output_type": "stream",
     "text": [
      "If \u001b[1mwork_exp = Small\u001b[0m:\n",
      "\tSubgroup '\u001b[1mFemale\u001b[0m', \u001b[34m31.1258%\u001b[39m covered out of 1000\n",
      "\t\t\u001b[31mNo recourses for this subgroup!\n",
      "\u001b[39m\t\t\u001b[1mAggregate cost\u001b[0m of the above recourses = \u001b[35minf\u001b[39m\n",
      "\tSubgroup '\u001b[1mMale\u001b[0m', \u001b[34m100.0000%\u001b[39m covered out of 1000\n",
      "\t\tMake \u001b[1m\u001b[31mwork_exp = Big\u001b[39m\u001b[0m with correctness \u001b[32m100.0000%\u001b[39m.\n",
      "\t\tMake \u001b[1m\u001b[31mwork_exp = Medium\u001b[39m\u001b[0m with correctness \u001b[32m100.0000%\u001b[39m.\n",
      "\t\t\u001b[1mAggregate cost\u001b[0m of the above recourses = \u001b[35m1.0\u001b[39m\n",
      "If \u001b[1mwork_exp = Small, hair_len = Long\u001b[0m:\n",
      "\tSubgroup '\u001b[1mFemale\u001b[0m', \u001b[34m11.9205%\u001b[39m covered out of 1000\n",
      "\t\t\u001b[31mNo recourses for this subgroup!\n",
      "\u001b[39m\t\t\u001b[1mAggregate cost\u001b[0m of the above recourses = \u001b[35minf\u001b[39m\n",
      "\tSubgroup '\u001b[1mMale\u001b[0m', \u001b[34m34.0000%\u001b[39m covered out of 1000\n",
      "\t\tMake \u001b[1m\u001b[31mwork_exp = Medium\u001b[39m\u001b[0m with correctness \u001b[32m100.0000%\u001b[39m.\n",
      "\t\t\u001b[1mAggregate cost\u001b[0m of the above recourses = \u001b[35m1.0\u001b[39m\n",
      "If \u001b[1mhair_len = Short, work_exp = Small\u001b[0m:\n",
      "\tSubgroup '\u001b[1mFemale\u001b[0m', \u001b[34m10.5960%\u001b[39m covered out of 1000\n",
      "\t\t\u001b[31mNo recourses for this subgroup!\n",
      "\u001b[39m\t\t\u001b[1mAggregate cost\u001b[0m of the above recourses = \u001b[35minf\u001b[39m\n",
      "\tSubgroup '\u001b[1mMale\u001b[0m', \u001b[34m30.0000%\u001b[39m covered out of 1000\n",
      "\t\tMake \u001b[1m\u001b[31mhair_len = Long\u001b[39m, \u001b[31mwork_exp = Big\u001b[39m\u001b[0m with correctness \u001b[32m100.0000%\u001b[39m.\n",
      "\t\tMake \u001b[1m\u001b[31mhair_len = Medium\u001b[39m, \u001b[31mwork_exp = Medium\u001b[39m\u001b[0m with correctness \u001b[32m100.0000%\u001b[39m.\n",
      "\t\tMake \u001b[1m\u001b[31mwork_exp = Big\u001b[39m\u001b[0m with correctness \u001b[32m100.0000%\u001b[39m.\n",
      "\t\tMake \u001b[1m\u001b[31mhair_len = Medium\u001b[39m, \u001b[31mwork_exp = Big\u001b[39m\u001b[0m with correctness \u001b[32m100.0000%\u001b[39m.\n",
      "\t\tMake \u001b[1m\u001b[31mwork_exp = Medium\u001b[39m\u001b[0m with correctness \u001b[32m100.0000%\u001b[39m.\n",
      "\t\t\u001b[1mAggregate cost\u001b[0m of the above recourses = \u001b[35m1.0\u001b[39m\n",
      "If \u001b[1mhair_len = Medium, work_exp = Small\u001b[0m:\n",
      "\tSubgroup '\u001b[1mFemale\u001b[0m', \u001b[34m8.6093%\u001b[39m covered out of 1000\n",
      "\t\t\u001b[31mNo recourses for this subgroup!\n",
      "\u001b[39m\t\t\u001b[1mAggregate cost\u001b[0m of the above recourses = \u001b[35minf\u001b[39m\n",
      "\tSubgroup '\u001b[1mMale\u001b[0m', \u001b[34m36.0000%\u001b[39m covered out of 1000\n",
      "\t\tMake \u001b[1m\u001b[31mhair_len = Long\u001b[39m, \u001b[31mwork_exp = Big\u001b[39m\u001b[0m with correctness \u001b[32m100.0000%\u001b[39m.\n",
      "\t\tMake \u001b[1m\u001b[31mwork_exp = Medium\u001b[39m\u001b[0m with correctness \u001b[32m100.0000%\u001b[39m.\n",
      "\t\tMake \u001b[1m\u001b[31mhair_len = Short\u001b[39m, \u001b[31mwork_exp = Big\u001b[39m\u001b[0m with correctness \u001b[32m100.0000%\u001b[39m.\n",
      "\t\tMake \u001b[1m\u001b[31mwork_exp = Big\u001b[39m\u001b[0m with correctness \u001b[32m100.0000%\u001b[39m.\n",
      "\t\tMake \u001b[1m\u001b[31mhair_len = Short\u001b[39m, \u001b[31mwork_exp = Medium\u001b[39m\u001b[0m with correctness \u001b[32m100.0000%\u001b[39m.\n",
      "\t\t\u001b[1mAggregate cost\u001b[0m of the above recourses = \u001b[35m1.0\u001b[39m\n",
      "If \u001b[1mhair_len = Long\u001b[0m:\n",
      "\tSubgroup '\u001b[1mFemale\u001b[0m', \u001b[34m36.4238%\u001b[39m covered out of 1000\n",
      "\t\t\u001b[31mNo recourses for this subgroup!\n",
      "\u001b[39m\t\t\u001b[1mAggregate cost\u001b[0m of the above recourses = \u001b[35minf\u001b[39m\n",
      "\tSubgroup '\u001b[1mMale\u001b[0m', \u001b[34m34.0000%\u001b[39m covered out of 1000\n",
      "\t\t\u001b[31mNo recourses for this subgroup!\n",
      "\u001b[39m\t\t\u001b[1mAggregate cost\u001b[0m of the above recourses = \u001b[35minf\u001b[39m\n",
      "If \u001b[1mhair_len = Short\u001b[0m:\n",
      "\tSubgroup '\u001b[1mFemale\u001b[0m', \u001b[34m32.1192%\u001b[39m covered out of 1000\n",
      "\t\t\u001b[31mNo recourses for this subgroup!\n",
      "\u001b[39m\t\t\u001b[1mAggregate cost\u001b[0m of the above recourses = \u001b[35minf\u001b[39m\n",
      "\tSubgroup '\u001b[1mMale\u001b[0m', \u001b[34m30.0000%\u001b[39m covered out of 1000\n",
      "\t\t\u001b[31mNo recourses for this subgroup!\n",
      "\u001b[39m\t\t\u001b[1mAggregate cost\u001b[0m of the above recourses = \u001b[35minf\u001b[39m\n",
      "If \u001b[1mhair_len = Medium\u001b[0m:\n",
      "\tSubgroup '\u001b[1mFemale\u001b[0m', \u001b[34m31.4570%\u001b[39m covered out of 1000\n",
      "\t\t\u001b[31mNo recourses for this subgroup!\n",
      "\u001b[39m\t\t\u001b[1mAggregate cost\u001b[0m of the above recourses = \u001b[35minf\u001b[39m\n",
      "\tSubgroup '\u001b[1mMale\u001b[0m', \u001b[34m36.0000%\u001b[39m covered out of 1000\n",
      "\t\t\u001b[31mNo recourses for this subgroup!\n",
      "\u001b[39m\t\t\u001b[1mAggregate cost\u001b[0m of the above recourses = \u001b[35minf\u001b[39m\n",
      "\n"
     ]
    }
   ],
   "source": [
    "top_rules, subgroup_costs = gfacts.select_rules_subset(\n",
    "    rules_by_if,\n",
    "    metric=\"min-above-thr\",\n",
    "    sort_strategy=\"abs-diff-decr-ignore-forall-subgroups-empty\",\n",
    "    top_count=10,\n",
    "    cor_threshold=0.5,\n",
    "    filter_sequence=[\"remove-below-thr\"]\n",
    ")\n",
    "\n",
    "pop_sizes = {sg: (X[\"gender\"] == sg).sum() for sg in X[\"gender\"].unique()}\n",
    "print(recourse_report_reverse(\n",
    "    top_rules,\n",
    "    population_sizes = pop_sizes,\n",
    "    subgroup_costs=subgroup_costs\n",
    "))"
   ]
  },
  {
   "cell_type": "markdown",
   "metadata": {},
   "source": [
    "## Cost above threshold"
   ]
  },
  {
   "cell_type": "code",
   "execution_count": 19,
   "metadata": {
    "tags": []
   },
   "outputs": [
    {
     "name": "stdout",
     "output_type": "stream",
     "text": [
      "If \u001b[1mwork_exp = Small\u001b[0m:\n",
      "\tSubgroup '\u001b[1mFemale\u001b[0m', \u001b[34m31.1258%\u001b[39m covered out of 1000\n",
      "\t\t\u001b[31mNo recourses for this subgroup!\n",
      "\u001b[39m\t\t\u001b[1mAggregate cost\u001b[0m of the above recourses = \u001b[35minf\u001b[39m\n",
      "\tSubgroup '\u001b[1mMale\u001b[0m', \u001b[34m100.0000%\u001b[39m covered out of 1000\n",
      "\t\tMake \u001b[1m\u001b[31mwork_exp = Big\u001b[39m\u001b[0m with correctness \u001b[32m100.0000%\u001b[39m.\n",
      "\t\tMake \u001b[1m\u001b[31mwork_exp = Medium\u001b[39m\u001b[0m with correctness \u001b[32m100.0000%\u001b[39m.\n",
      "\t\t\u001b[1mAggregate cost\u001b[0m of the above recourses = \u001b[35m2.0\u001b[39m\n",
      "If \u001b[1mwork_exp = Small, hair_len = Long\u001b[0m:\n",
      "\tSubgroup '\u001b[1mFemale\u001b[0m', \u001b[34m11.9205%\u001b[39m covered out of 1000\n",
      "\t\t\u001b[31mNo recourses for this subgroup!\n",
      "\u001b[39m\t\t\u001b[1mAggregate cost\u001b[0m of the above recourses = \u001b[35minf\u001b[39m\n",
      "\tSubgroup '\u001b[1mMale\u001b[0m', \u001b[34m34.0000%\u001b[39m covered out of 1000\n",
      "\t\tMake \u001b[1m\u001b[31mwork_exp = Medium\u001b[39m\u001b[0m with correctness \u001b[32m100.0000%\u001b[39m.\n",
      "\t\t\u001b[1mAggregate cost\u001b[0m of the above recourses = \u001b[35m1.0\u001b[39m\n",
      "If \u001b[1mhair_len = Short, work_exp = Small\u001b[0m:\n",
      "\tSubgroup '\u001b[1mFemale\u001b[0m', \u001b[34m10.5960%\u001b[39m covered out of 1000\n",
      "\t\t\u001b[31mNo recourses for this subgroup!\n",
      "\u001b[39m\t\t\u001b[1mAggregate cost\u001b[0m of the above recourses = \u001b[35minf\u001b[39m\n",
      "\tSubgroup '\u001b[1mMale\u001b[0m', \u001b[34m30.0000%\u001b[39m covered out of 1000\n",
      "\t\tMake \u001b[1m\u001b[31mhair_len = Long\u001b[39m, \u001b[31mwork_exp = Big\u001b[39m\u001b[0m with correctness \u001b[32m100.0000%\u001b[39m.\n",
      "\t\tMake \u001b[1m\u001b[31mhair_len = Medium\u001b[39m, \u001b[31mwork_exp = Medium\u001b[39m\u001b[0m with correctness \u001b[32m100.0000%\u001b[39m.\n",
      "\t\tMake \u001b[1m\u001b[31mwork_exp = Big\u001b[39m\u001b[0m with correctness \u001b[32m100.0000%\u001b[39m.\n",
      "\t\tMake \u001b[1m\u001b[31mhair_len = Medium\u001b[39m, \u001b[31mwork_exp = Big\u001b[39m\u001b[0m with correctness \u001b[32m100.0000%\u001b[39m.\n",
      "\t\tMake \u001b[1m\u001b[31mwork_exp = Medium\u001b[39m\u001b[0m with correctness \u001b[32m100.0000%\u001b[39m.\n",
      "\t\t\u001b[1mAggregate cost\u001b[0m of the above recourses = \u001b[35m8.0\u001b[39m\n",
      "If \u001b[1mhair_len = Medium, work_exp = Small\u001b[0m:\n",
      "\tSubgroup '\u001b[1mFemale\u001b[0m', \u001b[34m8.6093%\u001b[39m covered out of 1000\n",
      "\t\t\u001b[31mNo recourses for this subgroup!\n",
      "\u001b[39m\t\t\u001b[1mAggregate cost\u001b[0m of the above recourses = \u001b[35minf\u001b[39m\n",
      "\tSubgroup '\u001b[1mMale\u001b[0m', \u001b[34m36.0000%\u001b[39m covered out of 1000\n",
      "\t\tMake \u001b[1m\u001b[31mhair_len = Long\u001b[39m, \u001b[31mwork_exp = Big\u001b[39m\u001b[0m with correctness \u001b[32m100.0000%\u001b[39m.\n",
      "\t\tMake \u001b[1m\u001b[31mwork_exp = Medium\u001b[39m\u001b[0m with correctness \u001b[32m100.0000%\u001b[39m.\n",
      "\t\tMake \u001b[1m\u001b[31mhair_len = Short\u001b[39m, \u001b[31mwork_exp = Big\u001b[39m\u001b[0m with correctness \u001b[32m100.0000%\u001b[39m.\n",
      "\t\tMake \u001b[1m\u001b[31mwork_exp = Big\u001b[39m\u001b[0m with correctness \u001b[32m100.0000%\u001b[39m.\n",
      "\t\tMake \u001b[1m\u001b[31mhair_len = Short\u001b[39m, \u001b[31mwork_exp = Medium\u001b[39m\u001b[0m with correctness \u001b[32m100.0000%\u001b[39m.\n",
      "\t\t\u001b[1mAggregate cost\u001b[0m of the above recourses = \u001b[35m8.0\u001b[39m\n",
      "If \u001b[1mhair_len = Long\u001b[0m:\n",
      "\tSubgroup '\u001b[1mFemale\u001b[0m', \u001b[34m36.4238%\u001b[39m covered out of 1000\n",
      "\t\t\u001b[31mNo recourses for this subgroup!\n",
      "\u001b[39m\t\t\u001b[1mAggregate cost\u001b[0m of the above recourses = \u001b[35minf\u001b[39m\n",
      "\tSubgroup '\u001b[1mMale\u001b[0m', \u001b[34m34.0000%\u001b[39m covered out of 1000\n",
      "\t\t\u001b[31mNo recourses for this subgroup!\n",
      "\u001b[39m\t\t\u001b[1mAggregate cost\u001b[0m of the above recourses = \u001b[35minf\u001b[39m\n",
      "If \u001b[1mhair_len = Short\u001b[0m:\n",
      "\tSubgroup '\u001b[1mFemale\u001b[0m', \u001b[34m32.1192%\u001b[39m covered out of 1000\n",
      "\t\t\u001b[31mNo recourses for this subgroup!\n",
      "\u001b[39m\t\t\u001b[1mAggregate cost\u001b[0m of the above recourses = \u001b[35minf\u001b[39m\n",
      "\tSubgroup '\u001b[1mMale\u001b[0m', \u001b[34m30.0000%\u001b[39m covered out of 1000\n",
      "\t\t\u001b[31mNo recourses for this subgroup!\n",
      "\u001b[39m\t\t\u001b[1mAggregate cost\u001b[0m of the above recourses = \u001b[35minf\u001b[39m\n",
      "If \u001b[1mhair_len = Medium\u001b[0m:\n",
      "\tSubgroup '\u001b[1mFemale\u001b[0m', \u001b[34m31.4570%\u001b[39m covered out of 1000\n",
      "\t\t\u001b[31mNo recourses for this subgroup!\n",
      "\u001b[39m\t\t\u001b[1mAggregate cost\u001b[0m of the above recourses = \u001b[35minf\u001b[39m\n",
      "\tSubgroup '\u001b[1mMale\u001b[0m', \u001b[34m36.0000%\u001b[39m covered out of 1000\n",
      "\t\t\u001b[31mNo recourses for this subgroup!\n",
      "\u001b[39m\t\t\u001b[1mAggregate cost\u001b[0m of the above recourses = \u001b[35minf\u001b[39m\n",
      "\n"
     ]
    }
   ],
   "source": [
    "top_rules, subgroup_costs = gfacts.select_rules_subset(\n",
    "    rules_by_if,\n",
    "    metric=\"total-above-thr\",\n",
    "    sort_strategy=\"abs-diff-decr-ignore-forall-subgroups-empty\",\n",
    "    top_count=10,\n",
    "    cor_threshold=0.5,\n",
    "    filter_sequence=[\"remove-below-thr\"]\n",
    ")\n",
    "\n",
    "pop_sizes = {sg: (X[\"gender\"] == sg).sum() for sg in X[\"gender\"].unique()}\n",
    "print(recourse_report_reverse(\n",
    "    top_rules,\n",
    "    population_sizes = pop_sizes,\n",
    "    subgroup_costs=subgroup_costs\n",
    "))"
   ]
  },
  {
   "cell_type": "markdown",
   "metadata": {},
   "source": [
    "## Number above threshold"
   ]
  },
  {
   "cell_type": "code",
   "execution_count": 21,
   "metadata": {
    "tags": []
   },
   "outputs": [
    {
     "name": "stdout",
     "output_type": "stream",
     "text": [
      "If \u001b[1mhair_len = Short, work_exp = Small\u001b[0m:\n",
      "\tSubgroup '\u001b[1mFemale\u001b[0m', \u001b[34m10.5960%\u001b[39m covered out of 1000\n",
      "\t\t\u001b[31mNo recourses for this subgroup!\n",
      "\u001b[39m\t\t\u001b[1mAggregate cost\u001b[0m of the above recourses = \u001b[35m0.0\u001b[39m\n",
      "\tSubgroup '\u001b[1mMale\u001b[0m', \u001b[34m30.0000%\u001b[39m covered out of 1000\n",
      "\t\tMake \u001b[1m\u001b[31mhair_len = Long\u001b[39m, \u001b[31mwork_exp = Big\u001b[39m\u001b[0m with correctness \u001b[32m100.0000%\u001b[39m.\n",
      "\t\tMake \u001b[1m\u001b[31mhair_len = Medium\u001b[39m, \u001b[31mwork_exp = Medium\u001b[39m\u001b[0m with correctness \u001b[32m100.0000%\u001b[39m.\n",
      "\t\tMake \u001b[1m\u001b[31mwork_exp = Big\u001b[39m\u001b[0m with correctness \u001b[32m100.0000%\u001b[39m.\n",
      "\t\tMake \u001b[1m\u001b[31mhair_len = Medium\u001b[39m, \u001b[31mwork_exp = Big\u001b[39m\u001b[0m with correctness \u001b[32m100.0000%\u001b[39m.\n",
      "\t\tMake \u001b[1m\u001b[31mwork_exp = Medium\u001b[39m\u001b[0m with correctness \u001b[32m100.0000%\u001b[39m.\n",
      "\t\t\u001b[1mAggregate cost\u001b[0m of the above recourses = \u001b[35m5.0\u001b[39m\n",
      "If \u001b[1mhair_len = Medium, work_exp = Small\u001b[0m:\n",
      "\tSubgroup '\u001b[1mFemale\u001b[0m', \u001b[34m8.6093%\u001b[39m covered out of 1000\n",
      "\t\t\u001b[31mNo recourses for this subgroup!\n",
      "\u001b[39m\t\t\u001b[1mAggregate cost\u001b[0m of the above recourses = \u001b[35m0.0\u001b[39m\n",
      "\tSubgroup '\u001b[1mMale\u001b[0m', \u001b[34m36.0000%\u001b[39m covered out of 1000\n",
      "\t\tMake \u001b[1m\u001b[31mhair_len = Long\u001b[39m, \u001b[31mwork_exp = Big\u001b[39m\u001b[0m with correctness \u001b[32m100.0000%\u001b[39m.\n",
      "\t\tMake \u001b[1m\u001b[31mwork_exp = Medium\u001b[39m\u001b[0m with correctness \u001b[32m100.0000%\u001b[39m.\n",
      "\t\tMake \u001b[1m\u001b[31mhair_len = Short\u001b[39m, \u001b[31mwork_exp = Big\u001b[39m\u001b[0m with correctness \u001b[32m100.0000%\u001b[39m.\n",
      "\t\tMake \u001b[1m\u001b[31mwork_exp = Big\u001b[39m\u001b[0m with correctness \u001b[32m100.0000%\u001b[39m.\n",
      "\t\tMake \u001b[1m\u001b[31mhair_len = Short\u001b[39m, \u001b[31mwork_exp = Medium\u001b[39m\u001b[0m with correctness \u001b[32m100.0000%\u001b[39m.\n",
      "\t\t\u001b[1mAggregate cost\u001b[0m of the above recourses = \u001b[35m5.0\u001b[39m\n",
      "If \u001b[1mwork_exp = Small\u001b[0m:\n",
      "\tSubgroup '\u001b[1mFemale\u001b[0m', \u001b[34m31.1258%\u001b[39m covered out of 1000\n",
      "\t\t\u001b[31mNo recourses for this subgroup!\n",
      "\u001b[39m\t\t\u001b[1mAggregate cost\u001b[0m of the above recourses = \u001b[35m0.0\u001b[39m\n",
      "\tSubgroup '\u001b[1mMale\u001b[0m', \u001b[34m100.0000%\u001b[39m covered out of 1000\n",
      "\t\tMake \u001b[1m\u001b[31mwork_exp = Big\u001b[39m\u001b[0m with correctness \u001b[32m100.0000%\u001b[39m.\n",
      "\t\tMake \u001b[1m\u001b[31mwork_exp = Medium\u001b[39m\u001b[0m with correctness \u001b[32m100.0000%\u001b[39m.\n",
      "\t\t\u001b[1mAggregate cost\u001b[0m of the above recourses = \u001b[35m2.0\u001b[39m\n",
      "If \u001b[1mwork_exp = Small, hair_len = Long\u001b[0m:\n",
      "\tSubgroup '\u001b[1mFemale\u001b[0m', \u001b[34m11.9205%\u001b[39m covered out of 1000\n",
      "\t\t\u001b[31mNo recourses for this subgroup!\n",
      "\u001b[39m\t\t\u001b[1mAggregate cost\u001b[0m of the above recourses = \u001b[35m0.0\u001b[39m\n",
      "\tSubgroup '\u001b[1mMale\u001b[0m', \u001b[34m34.0000%\u001b[39m covered out of 1000\n",
      "\t\tMake \u001b[1m\u001b[31mwork_exp = Medium\u001b[39m\u001b[0m with correctness \u001b[32m100.0000%\u001b[39m.\n",
      "\t\t\u001b[1mAggregate cost\u001b[0m of the above recourses = \u001b[35m1.0\u001b[39m\n",
      "If \u001b[1mhair_len = Long\u001b[0m:\n",
      "\tSubgroup '\u001b[1mFemale\u001b[0m', \u001b[34m36.4238%\u001b[39m covered out of 1000\n",
      "\t\t\u001b[31mNo recourses for this subgroup!\n",
      "\u001b[39m\t\t\u001b[1mAggregate cost\u001b[0m of the above recourses = \u001b[35m0.0\u001b[39m\n",
      "\tSubgroup '\u001b[1mMale\u001b[0m', \u001b[34m34.0000%\u001b[39m covered out of 1000\n",
      "\t\t\u001b[31mNo recourses for this subgroup!\n",
      "\u001b[39m\t\t\u001b[1mAggregate cost\u001b[0m of the above recourses = \u001b[35m0.0\u001b[39m\n",
      "If \u001b[1mhair_len = Short\u001b[0m:\n",
      "\tSubgroup '\u001b[1mFemale\u001b[0m', \u001b[34m32.1192%\u001b[39m covered out of 1000\n",
      "\t\t\u001b[31mNo recourses for this subgroup!\n",
      "\u001b[39m\t\t\u001b[1mAggregate cost\u001b[0m of the above recourses = \u001b[35m0.0\u001b[39m\n",
      "\tSubgroup '\u001b[1mMale\u001b[0m', \u001b[34m30.0000%\u001b[39m covered out of 1000\n",
      "\t\t\u001b[31mNo recourses for this subgroup!\n",
      "\u001b[39m\t\t\u001b[1mAggregate cost\u001b[0m of the above recourses = \u001b[35m0.0\u001b[39m\n",
      "If \u001b[1mhair_len = Medium\u001b[0m:\n",
      "\tSubgroup '\u001b[1mFemale\u001b[0m', \u001b[34m31.4570%\u001b[39m covered out of 1000\n",
      "\t\t\u001b[31mNo recourses for this subgroup!\n",
      "\u001b[39m\t\t\u001b[1mAggregate cost\u001b[0m of the above recourses = \u001b[35m0.0\u001b[39m\n",
      "\tSubgroup '\u001b[1mMale\u001b[0m', \u001b[34m36.0000%\u001b[39m covered out of 1000\n",
      "\t\t\u001b[31mNo recourses for this subgroup!\n",
      "\u001b[39m\t\t\u001b[1mAggregate cost\u001b[0m of the above recourses = \u001b[35m0.0\u001b[39m\n",
      "\n"
     ]
    }
   ],
   "source": [
    "top_rules, subgroup_costs = gfacts.select_rules_subset(\n",
    "    rules_by_if,\n",
    "    metric=\"num-above-thr\",\n",
    "    sort_strategy=\"abs-diff-decr-ignore-forall-subgroups-empty\",\n",
    "    top_count=10,\n",
    "    cor_threshold=0.5,\n",
    "    filter_sequence=[\"remove-below-thr\"]\n",
    ")\n",
    "\n",
    "pop_sizes = {sg: (X[\"gender\"] == sg).sum() for sg in X[\"gender\"].unique()}\n",
    "print(recourse_report_reverse(\n",
    "    top_rules,\n",
    "    population_sizes = pop_sizes,\n",
    "    subgroup_costs=subgroup_costs\n",
    "))"
   ]
  }
 ],
 "metadata": {
  "kernelspec": {
   "display_name": "Python 3 (ipykernel)",
   "language": "python",
   "name": "python3"
  },
  "language_info": {
   "codemirror_mode": {
    "name": "ipython",
    "version": 3
   },
   "file_extension": ".py",
   "mimetype": "text/x-python",
   "name": "python",
   "nbconvert_exporter": "python",
   "pygments_lexer": "ipython3",
   "version": "3.9.15"
  },
  "vscode": {
   "interpreter": {
    "hash": "362842c44ed7d38e9c92d488ead4445e1c745f35479a5810177dacafb6456c39"
   }
  }
 },
 "nbformat": 4,
 "nbformat_minor": 4
}
