{
 "cells": [
  {
   "cell_type": "markdown",
   "id": "a4164f0d",
   "metadata": {},
   "source": [
    "## Import libraries"
   ]
  },
  {
   "cell_type": "code",
   "execution_count": 1,
   "id": "50536eb3",
   "metadata": {
    "tags": []
   },
   "outputs": [],
   "source": [
    "import pandas as pd\n",
    "import numpy as np\n",
    "from pprint import pprint\n",
    "\n",
    "from sklearn.model_selection import train_test_split\n",
    "from sklearn.metrics import classification_report, confusion_matrix, ConfusionMatrixDisplay\n",
    "\n",
    "import gfacts\n",
    "from gfacts import valid_ifthens_with_coverage_correctness, rules2rulesbyif\n",
    "from gfacts.models import customLogisticRegression\n",
    "from gfacts.parameters import ParameterProxy\n",
    "from gfacts.formatting import recourse_report_reverse, print_recourse_report\n",
    "\n",
    "import matplotlib.pyplot as plt"
   ]
  },
  {
   "cell_type": "code",
   "execution_count": 2,
   "id": "99fb977c",
   "metadata": {
    "tags": []
   },
   "outputs": [],
   "source": [
    "DATAFILE = '../ad_campaign_data.csv' # location of dataset\n",
    "random_state = None # change to something for exactly reproducible results\n",
    "\n",
    "# as selected in \"tutorial_bias_advertising\" notebook\n",
    "selected_features = ['gender', 'parents', 'age', 'income', 'area', 'college_educated', 'homeowner']\n",
    "cate_features = ['gender', 'parents', 'age', 'income', 'area', 'college_educated']\n",
    "num_features = ['homeowner']\n",
    "\n",
    "# if not specified, set to 1\n",
    "feature_weights = {\"gender\": 1, \"parents\": 1, \"age\": 1}\n",
    "\n",
    "target_name = \"true_conversion\"\n",
    "positive_label = 1\n",
    "negative_label = 0\n",
    "\n",
    "model_train_fraction = 0.7\n",
    "learning_class_weights = {0: 0.5, 1: 265}\n",
    "\n",
    "sensitive_attribute = \"gender\"\n",
    "sensitive_alias = {\"M\": \"Male\", \"F\": \"Female\", \"Unknown\": \"Unknown\"}"
   ]
  },
  {
   "cell_type": "code",
   "execution_count": 3,
   "id": "897fbfbd-1667-46e5-8015-fa43a1709905",
   "metadata": {
    "tags": []
   },
   "outputs": [],
   "source": [
    "# collect necessary parameters into a ParameterProxy object\n",
    "\n",
    "comparators = gfacts.naive_feature_change_builder(num_cols=num_features, cate_cols=cate_features, feature_weights=feature_weights)\n",
    "params = ParameterProxy(featureChanges=comparators)"
   ]
  },
  {
   "cell_type": "markdown",
   "id": "7f50c922",
   "metadata": {},
   "source": [
    "## Load Dataset"
   ]
  },
  {
   "cell_type": "code",
   "execution_count": 4,
   "id": "7ec3f668",
   "metadata": {
    "tags": []
   },
   "outputs": [
    {
     "data": {
      "text/html": [
       "<div>\n",
       "<style scoped>\n",
       "    .dataframe tbody tr th:only-of-type {\n",
       "        vertical-align: middle;\n",
       "    }\n",
       "\n",
       "    .dataframe tbody tr th {\n",
       "        vertical-align: top;\n",
       "    }\n",
       "\n",
       "    .dataframe thead th {\n",
       "        text-align: right;\n",
       "    }\n",
       "</style>\n",
       "<table border=\"1\" class=\"dataframe\">\n",
       "  <thead>\n",
       "    <tr style=\"text-align: right;\">\n",
       "      <th></th>\n",
       "      <th>religion</th>\n",
       "      <th>politics</th>\n",
       "      <th>college_educated</th>\n",
       "      <th>parents</th>\n",
       "      <th>homeowner</th>\n",
       "      <th>gender</th>\n",
       "      <th>age</th>\n",
       "      <th>income</th>\n",
       "      <th>area</th>\n",
       "      <th>true_conversion</th>\n",
       "      <th>predicted_conversion</th>\n",
       "      <th>predicted_probability</th>\n",
       "    </tr>\n",
       "  </thead>\n",
       "  <tbody>\n",
       "    <tr>\n",
       "      <th>0</th>\n",
       "      <td>Unknown</td>\n",
       "      <td>Unknown</td>\n",
       "      <td>1</td>\n",
       "      <td>1</td>\n",
       "      <td>1</td>\n",
       "      <td>Unknown</td>\n",
       "      <td>55-64</td>\n",
       "      <td>Unknown</td>\n",
       "      <td>Unknown</td>\n",
       "      <td>0</td>\n",
       "      <td>0</td>\n",
       "      <td>0.001351</td>\n",
       "    </tr>\n",
       "    <tr>\n",
       "      <th>1</th>\n",
       "      <td>Other</td>\n",
       "      <td>Unknown</td>\n",
       "      <td>1</td>\n",
       "      <td>1</td>\n",
       "      <td>1</td>\n",
       "      <td>Unknown</td>\n",
       "      <td>55-64</td>\n",
       "      <td>Unknown</td>\n",
       "      <td>Urban</td>\n",
       "      <td>0</td>\n",
       "      <td>0</td>\n",
       "      <td>0.002238</td>\n",
       "    </tr>\n",
       "    <tr>\n",
       "      <th>2</th>\n",
       "      <td>Unknown</td>\n",
       "      <td>Unknown</td>\n",
       "      <td>1</td>\n",
       "      <td>1</td>\n",
       "      <td>1</td>\n",
       "      <td>F</td>\n",
       "      <td>55-64</td>\n",
       "      <td>Unknown</td>\n",
       "      <td>Unknown</td>\n",
       "      <td>0</td>\n",
       "      <td>0</td>\n",
       "      <td>0.002704</td>\n",
       "    </tr>\n",
       "    <tr>\n",
       "      <th>3</th>\n",
       "      <td>Unknown</td>\n",
       "      <td>Unknown</td>\n",
       "      <td>1</td>\n",
       "      <td>1</td>\n",
       "      <td>1</td>\n",
       "      <td>F</td>\n",
       "      <td>55-64</td>\n",
       "      <td>Unknown</td>\n",
       "      <td>Unknown</td>\n",
       "      <td>0</td>\n",
       "      <td>0</td>\n",
       "      <td>0.001967</td>\n",
       "    </tr>\n",
       "    <tr>\n",
       "      <th>4</th>\n",
       "      <td>Unknown</td>\n",
       "      <td>Unknown</td>\n",
       "      <td>1</td>\n",
       "      <td>1</td>\n",
       "      <td>1</td>\n",
       "      <td>F</td>\n",
       "      <td>55-64</td>\n",
       "      <td>Unknown</td>\n",
       "      <td>Urban</td>\n",
       "      <td>0</td>\n",
       "      <td>0</td>\n",
       "      <td>0.001681</td>\n",
       "    </tr>\n",
       "  </tbody>\n",
       "</table>\n",
       "</div>"
      ],
      "text/plain": [
       "  religion politics  college_educated  parents  homeowner   gender    age  \\\n",
       "0  Unknown  Unknown                 1        1          1  Unknown  55-64   \n",
       "1    Other  Unknown                 1        1          1  Unknown  55-64   \n",
       "2  Unknown  Unknown                 1        1          1        F  55-64   \n",
       "3  Unknown  Unknown                 1        1          1        F  55-64   \n",
       "4  Unknown  Unknown                 1        1          1        F  55-64   \n",
       "\n",
       "    income     area  true_conversion  predicted_conversion  \\\n",
       "0  Unknown  Unknown                0                     0   \n",
       "1  Unknown    Urban                0                     0   \n",
       "2  Unknown  Unknown                0                     0   \n",
       "3  Unknown  Unknown                0                     0   \n",
       "4  Unknown    Urban                0                     0   \n",
       "\n",
       "   predicted_probability  \n",
       "0               0.001351  \n",
       "1               0.002238  \n",
       "2               0.002704  \n",
       "3               0.001967  \n",
       "4               0.001681  "
      ]
     },
     "execution_count": 4,
     "metadata": {},
     "output_type": "execute_result"
    }
   ],
   "source": [
    "ad_conversion_dataset = pd.read_csv(DATAFILE)\n",
    "ad_conversion_dataset.head()"
   ]
  },
  {
   "cell_type": "code",
   "execution_count": 5,
   "id": "17d5220d",
   "metadata": {
    "tags": []
   },
   "outputs": [],
   "source": [
    "ad_conversion_dataset.gender = ad_conversion_dataset.gender.map(sensitive_alias)"
   ]
  },
  {
   "cell_type": "markdown",
   "id": "c01544c3",
   "metadata": {},
   "source": [
    "### Print some statistics for the dataset"
   ]
  },
  {
   "cell_type": "code",
   "execution_count": 6,
   "id": "3710bcf3",
   "metadata": {
    "tags": []
   },
   "outputs": [
    {
     "name": "stdout",
     "output_type": "stream",
     "text": [
      "Number of (instances, attributes) in the dataset = (1443140, 12)\n",
      "\n",
      "Statistics of true conversions (0=no, 1=yes)\n",
      "0    1440766\n",
      "1       2374\n",
      "Name: true_conversion, dtype: int64\n",
      "\n",
      "Statistics of predicted conversions (0=no, 1=yes)\n",
      "0    1440773\n",
      "1       2367\n",
      "Name: predicted_conversion, dtype: int64\n"
     ]
    }
   ],
   "source": [
    "print(f\"Number of (instances, attributes) in the dataset = {ad_conversion_dataset.shape}\")\n",
    "print()\n",
    "\n",
    "print(f\"Statistics of true conversions (0=no, 1=yes)\")\n",
    "print(ad_conversion_dataset.true_conversion.value_counts())\n",
    "print()\n",
    "\n",
    "print(f\"Statistics of predicted conversions (0=no, 1=yes)\")\n",
    "print(ad_conversion_dataset.predicted_conversion.value_counts())"
   ]
  },
  {
   "cell_type": "markdown",
   "id": "6774262f",
   "metadata": {},
   "source": [
    "### Warning!\n",
    "\n",
    "There is no model!\n",
    "\n",
    "Predictions (from whatever model has been used) have been incorporated into the dataset, in the columns \"predicted_conversion\" (which is the predicted label) and \"predicted_probability\" (which is the predicted probability of belonging to the positive class).\n",
    "\n",
    "Moreover, the dataset is highly unbalanced, and this is also evident in the poor efficiency of the model, as demonstrated in the confusion matrix below."
   ]
  },
  {
   "cell_type": "code",
   "execution_count": 7,
   "id": "03eb55a7-2240-4244-8c9e-c005e36e8f0f",
   "metadata": {
    "tags": []
   },
   "outputs": [
    {
     "data": {
      "image/png": "[encoded data removed]",
      "text/plain": [
       "<Figure size 640x480 with 2 Axes>"
      ]
     },
     "metadata": {},
     "output_type": "display_data"
    }
   ],
   "source": [
    "conf_matrix = confusion_matrix(ad_conversion_dataset.true_conversion, ad_conversion_dataset.predicted_conversion)\n",
    "cm_disp = ConfusionMatrixDisplay(confusion_matrix=conf_matrix)\n",
    "cm_disp.plot()\n",
    "plt.show()"
   ]
  },
  {
   "cell_type": "markdown",
   "id": "5f1b33fa-c6c9-4770-8123-0f69f918e265",
   "metadata": {},
   "source": [
    "# Preprocessing"
   ]
  },
  {
   "cell_type": "code",
   "execution_count": 8,
   "id": "8ee07f88",
   "metadata": {
    "tags": []
   },
   "outputs": [
    {
     "data": {
      "text/html": [
       "<div>\n",
       "<style scoped>\n",
       "    .dataframe tbody tr th:only-of-type {\n",
       "        vertical-align: middle;\n",
       "    }\n",
       "\n",
       "    .dataframe tbody tr th {\n",
       "        vertical-align: top;\n",
       "    }\n",
       "\n",
       "    .dataframe thead th {\n",
       "        text-align: right;\n",
       "    }\n",
       "</style>\n",
       "<table border=\"1\" class=\"dataframe\">\n",
       "  <thead>\n",
       "    <tr style=\"text-align: right;\">\n",
       "      <th></th>\n",
       "      <th>gender</th>\n",
       "      <th>parents</th>\n",
       "      <th>age</th>\n",
       "      <th>income</th>\n",
       "      <th>area</th>\n",
       "      <th>college_educated</th>\n",
       "      <th>homeowner</th>\n",
       "      <th>true_conversion</th>\n",
       "    </tr>\n",
       "  </thead>\n",
       "  <tbody>\n",
       "    <tr>\n",
       "      <th>0</th>\n",
       "      <td>Unknown</td>\n",
       "      <td>1</td>\n",
       "      <td>55-64</td>\n",
       "      <td>Unknown</td>\n",
       "      <td>Unknown</td>\n",
       "      <td>1</td>\n",
       "      <td>1</td>\n",
       "      <td>0</td>\n",
       "    </tr>\n",
       "    <tr>\n",
       "      <th>1</th>\n",
       "      <td>Unknown</td>\n",
       "      <td>1</td>\n",
       "      <td>55-64</td>\n",
       "      <td>Unknown</td>\n",
       "      <td>Urban</td>\n",
       "      <td>1</td>\n",
       "      <td>1</td>\n",
       "      <td>0</td>\n",
       "    </tr>\n",
       "    <tr>\n",
       "      <th>2</th>\n",
       "      <td>Female</td>\n",
       "      <td>1</td>\n",
       "      <td>55-64</td>\n",
       "      <td>Unknown</td>\n",
       "      <td>Unknown</td>\n",
       "      <td>1</td>\n",
       "      <td>1</td>\n",
       "      <td>0</td>\n",
       "    </tr>\n",
       "    <tr>\n",
       "      <th>3</th>\n",
       "      <td>Female</td>\n",
       "      <td>1</td>\n",
       "      <td>55-64</td>\n",
       "      <td>Unknown</td>\n",
       "      <td>Unknown</td>\n",
       "      <td>1</td>\n",
       "      <td>1</td>\n",
       "      <td>0</td>\n",
       "    </tr>\n",
       "    <tr>\n",
       "      <th>4</th>\n",
       "      <td>Female</td>\n",
       "      <td>1</td>\n",
       "      <td>55-64</td>\n",
       "      <td>Unknown</td>\n",
       "      <td>Urban</td>\n",
       "      <td>1</td>\n",
       "      <td>1</td>\n",
       "      <td>0</td>\n",
       "    </tr>\n",
       "    <tr>\n",
       "      <th>...</th>\n",
       "      <td>...</td>\n",
       "      <td>...</td>\n",
       "      <td>...</td>\n",
       "      <td>...</td>\n",
       "      <td>...</td>\n",
       "      <td>...</td>\n",
       "      <td>...</td>\n",
       "      <td>...</td>\n",
       "    </tr>\n",
       "    <tr>\n",
       "      <th>1443135</th>\n",
       "      <td>Female</td>\n",
       "      <td>1</td>\n",
       "      <td>25-34</td>\n",
       "      <td>Unknown</td>\n",
       "      <td>Unknown</td>\n",
       "      <td>1</td>\n",
       "      <td>1</td>\n",
       "      <td>0</td>\n",
       "    </tr>\n",
       "    <tr>\n",
       "      <th>1443136</th>\n",
       "      <td>Female</td>\n",
       "      <td>1</td>\n",
       "      <td>55-64</td>\n",
       "      <td>Unknown</td>\n",
       "      <td>Unknown</td>\n",
       "      <td>1</td>\n",
       "      <td>0</td>\n",
       "      <td>0</td>\n",
       "    </tr>\n",
       "    <tr>\n",
       "      <th>1443137</th>\n",
       "      <td>Unknown</td>\n",
       "      <td>1</td>\n",
       "      <td>55-64</td>\n",
       "      <td>Unknown</td>\n",
       "      <td>Unknown</td>\n",
       "      <td>1</td>\n",
       "      <td>1</td>\n",
       "      <td>0</td>\n",
       "    </tr>\n",
       "    <tr>\n",
       "      <th>1443138</th>\n",
       "      <td>Female</td>\n",
       "      <td>1</td>\n",
       "      <td>55-64</td>\n",
       "      <td>Unknown</td>\n",
       "      <td>Unknown</td>\n",
       "      <td>1</td>\n",
       "      <td>1</td>\n",
       "      <td>0</td>\n",
       "    </tr>\n",
       "    <tr>\n",
       "      <th>1443139</th>\n",
       "      <td>Female</td>\n",
       "      <td>1</td>\n",
       "      <td>55-64</td>\n",
       "      <td>Unknown</td>\n",
       "      <td>Unknown</td>\n",
       "      <td>1</td>\n",
       "      <td>1</td>\n",
       "      <td>0</td>\n",
       "    </tr>\n",
       "  </tbody>\n",
       "</table>\n",
       "<p>1443140 rows × 8 columns</p>\n",
       "</div>"
      ],
      "text/plain": [
       "          gender  parents    age   income     area  college_educated  \\\n",
       "0        Unknown        1  55-64  Unknown  Unknown                 1   \n",
       "1        Unknown        1  55-64  Unknown    Urban                 1   \n",
       "2         Female        1  55-64  Unknown  Unknown                 1   \n",
       "3         Female        1  55-64  Unknown  Unknown                 1   \n",
       "4         Female        1  55-64  Unknown    Urban                 1   \n",
       "...          ...      ...    ...      ...      ...               ...   \n",
       "1443135   Female        1  25-34  Unknown  Unknown                 1   \n",
       "1443136   Female        1  55-64  Unknown  Unknown                 1   \n",
       "1443137  Unknown        1  55-64  Unknown  Unknown                 1   \n",
       "1443138   Female        1  55-64  Unknown  Unknown                 1   \n",
       "1443139   Female        1  55-64  Unknown  Unknown                 1   \n",
       "\n",
       "         homeowner  true_conversion  \n",
       "0                1                0  \n",
       "1                1                0  \n",
       "2                1                0  \n",
       "3                1                0  \n",
       "4                1                0  \n",
       "...            ...              ...  \n",
       "1443135          1                0  \n",
       "1443136          0                0  \n",
       "1443137          1                0  \n",
       "1443138          1                0  \n",
       "1443139          1                0  \n",
       "\n",
       "[1443140 rows x 8 columns]"
      ]
     },
     "execution_count": 8,
     "metadata": {},
     "output_type": "execute_result"
    }
   ],
   "source": [
    "## keep only the columns in selected_features, plus the label column\n",
    "ad_conversion_dataset = ad_conversion_dataset[selected_features + [target_name]]\n",
    "ad_conversion_dataset"
   ]
  },
  {
   "cell_type": "code",
   "execution_count": 9,
   "id": "e2d5162d",
   "metadata": {
    "tags": []
   },
   "outputs": [],
   "source": [
    "## train-test split\n",
    "\n",
    "X = ad_conversion_dataset.drop(target_name, axis=1)\n",
    "y = ad_conversion_dataset[target_name]\n",
    "\n",
    "X_train, X_test, y_train, y_test = train_test_split(X, y, train_size=model_train_fraction, random_state=random_state, stratify=y)\n",
    "\n",
    "X_train = X_train.reset_index(drop=True)\n",
    "X_test = X_test.reset_index(drop=True)\n",
    "y_train = y_train.reset_index(drop=True)\n",
    "y_test = y_test.reset_index(drop=True)"
   ]
  },
  {
   "cell_type": "markdown",
   "id": "17c32fa1-337a-45e0-ae5c-914575a2cbb6",
   "metadata": {},
   "source": [
    "# Model training"
   ]
  },
  {
   "cell_type": "code",
   "execution_count": 10,
   "id": "d613bdf8",
   "metadata": {
    "tags": []
   },
   "outputs": [
    {
     "name": "stdout",
     "output_type": "stream",
     "text": [
      "CPU times: total: 1.91 s\n",
      "Wall time: 7.58 s\n"
     ]
    },
    {
     "data": {
      "text/plain": [
       "array([0., 0., 0., 0., 0., 0., 0., 0., 0., 0., 0., 0., 0., 0., 0., 0., 1.,\n",
       "       0., 0., 0., 0., 0., 0., 0., 0., 0., 0., 0., 1., 0., 0., 0., 0., 0.,\n",
       "       0., 0., 0., 0., 0., 1., 0., 0., 0., 0., 0., 0., 0., 0., 0., 0., 0.,\n",
       "       0., 0., 0., 0., 0., 0., 0., 0., 0., 0., 0., 0., 1., 0., 0., 0., 0.,\n",
       "       0., 1., 1., 0., 0., 0., 0., 0., 0., 0., 0., 0., 0., 0., 1., 0., 0.,\n",
       "       0., 0., 0., 0., 0., 0., 0., 0., 1., 0., 0., 1., 0., 0., 0.])"
      ]
     },
     "execution_count": 10,
     "metadata": {},
     "output_type": "execute_result"
    }
   ],
   "source": [
    "%%time\n",
    "\n",
    "model = customLogisticRegression(class_weight=learning_class_weights)\n",
    "model.fit(X_train, y_train, cate_columns=cate_features, target_column=target_name)\n",
    "model.predict(X_test.iloc[:100, :])"
   ]
  },
  {
   "cell_type": "markdown",
   "id": "13d583ac",
   "metadata": {},
   "source": [
    "# Testing the model\n",
    "\n",
    "We check if the model is satisfactory."
   ]
  },
  {
   "cell_type": "code",
   "execution_count": 11,
   "id": "2fbd7b2e",
   "metadata": {
    "tags": []
   },
   "outputs": [
    {
     "name": "stdout",
     "output_type": "stream",
     "text": [
      "              precision    recall  f1-score   support\n",
      "\n",
      "           0       1.00      0.91      0.95    432231\n",
      "           1       0.00      0.10      0.00       712\n",
      "\n",
      "    accuracy                           0.91    432943\n",
      "   macro avg       0.50      0.51      0.48    432943\n",
      "weighted avg       1.00      0.91      0.95    432943\n",
      "\n"
     ]
    }
   ],
   "source": [
    "preds = model.predict(X_test)\n",
    "print(classification_report(y_test.map({negative_label: 0, positive_label: 1}), preds))"
   ]
  },
  {
   "cell_type": "code",
   "execution_count": 12,
   "id": "a82b48f8-408b-43a0-99fc-c21ff8a63718",
   "metadata": {
    "tags": []
   },
   "outputs": [
    {
     "data": {
      "image/png": "[encoded data removed]",
      "text/plain": [
       "<Figure size 640x480 with 2 Axes>"
      ]
     },
     "metadata": {},
     "output_type": "display_data"
    }
   ],
   "source": [
    "conf_matrix = confusion_matrix(y_test, preds)\n",
    "cm_disp = ConfusionMatrixDisplay(confusion_matrix=conf_matrix)\n",
    "cm_disp.plot()\n",
    "plt.show()"
   ]
  },
  {
   "cell_type": "markdown",
   "id": "11452631",
   "metadata": {},
   "source": [
    "Given the high imbalance of the dataset, we consider that the above results, for a simple logistic regression, are good enough."
   ]
  },
  {
   "cell_type": "markdown",
   "id": "66bafa9b-95db-49c6-b116-9ebb65c13fc8",
   "metadata": {},
   "source": [
    "# Find all valid if-thens with all respective coverages and correctness, for all subgroups.\n",
    "\n",
    "**Caution!** This step takes time. Uncomment the following block if you wish to run."
   ]
  },
  {
   "cell_type": "code",
   "execution_count": 13,
   "id": "297d9256",
   "metadata": {
    "tags": []
   },
   "outputs": [
    {
     "name": "stdout",
     "output_type": "stream",
     "text": [
      "Computing frequent itemsets for each subgroup of the affected instances.\n"
     ]
    },
    {
     "name": "stderr",
     "output_type": "stream",
     "text": [
      "100%|████████████████████████████████████████████████████████████████████████████████████| 2/2 [00:04<00:00,  2.29s/it]"
     ]
    },
    {
     "name": "stdout",
     "output_type": "stream",
     "text": [
      "Computing the intersection between the frequent itemsets of each subgroup of the affected instances.\n"
     ]
    },
    {
     "name": "stderr",
     "output_type": "stream",
     "text": [
      "\n",
      "100%|███████████████████████████████████████████████████████████████████████████████████| 2/2 [00:00<00:00, 141.96it/s]\n"
     ]
    },
    {
     "name": "stdout",
     "output_type": "stream",
     "text": [
      "Computing all valid if-then pairs between the common frequent itemsets of each subgroup of the affected instances and the frequent itemsets of the unaffacted instances.\n"
     ]
    },
    {
     "name": "stderr",
     "output_type": "stream",
     "text": [
      "100%|██████████████████████████████████████████████████████████████████████████████| 378/378 [00:00<00:00, 1494.75it/s]"
     ]
    },
    {
     "name": "stdout",
     "output_type": "stream",
     "text": [
      "Computing correctenesses for all valid if-thens.\n"
     ]
    },
    {
     "name": "stderr",
     "output_type": "stream",
     "text": [
      "\n",
      "100%|██████████████████████████████████████████████████████████████████████████████| 2317/2317 [05:21<00:00,  7.20it/s]"
     ]
    },
    {
     "name": "stdout",
     "output_type": "stream",
     "text": [
      "Number of if-thens: 2317\n"
     ]
    },
    {
     "name": "stderr",
     "output_type": "stream",
     "text": [
      "\n"
     ]
    }
   ],
   "source": [
    "ifthens_coverage_correctness = valid_ifthens_with_coverage_correctness(\n",
    "    X_test,\n",
    "    model,\n",
    "    sensitive_attribute,\n",
    "    missing_subgroup_val=\"Unknown\"\n",
    ")\n",
    "\n",
    "print(f\"Number of if-thens: {len(ifthens_coverage_correctness)}\")\n",
    "rules_by_if = rules2rulesbyif(ifthens_coverage_correctness)"
   ]
  },
  {
   "cell_type": "markdown",
   "id": "d17cb30e-0a36-43cb-9f95-2b2e93634e5a",
   "metadata": {},
   "source": [
    "Uncomment the following block if you wish to load rules object from disk."
   ]
  },
  {
   "cell_type": "code",
   "execution_count": 13,
   "id": "c22dbaba-1ccb-4db3-84de-21227328e07c",
   "metadata": {
    "tags": []
   },
   "outputs": [],
   "source": [
    "import dill\n",
    "\n",
    "with open(\"rules.data\", \"rb\") as inf:\n",
    "    rules_by_if = dill.load(inf)"
   ]
  },
  {
   "cell_type": "code",
   "execution_count": 14,
   "id": "8a13da8a-e2a3-481f-9b1b-bc1803f4eccf",
   "metadata": {
    "tags": []
   },
   "outputs": [
    {
     "name": "stdout",
     "output_type": "stream",
     "text": [
      "If \u001b[1mage = 55-64, area = Unknown, college_educated = 1, homeowner = 1, income = <100K, parents = 1\u001b[0m:\n",
      "\tSubgroup '\u001b[1mFemale\u001b[0m', \u001b[34m1.14%\u001b[39m covered\n",
      "\t\tMake \u001b[1m\u001b[31marea = Urban\u001b[39m, \u001b[31mincome = Unknown\u001b[39m\u001b[0m with correctness \u001b[32m-0.00%\u001b[39m.\n",
      "\t\tMake \u001b[1m\u001b[31mhomeowner = 0\u001b[39m, \u001b[31mincome = Unknown\u001b[39m\u001b[0m with correctness \u001b[32m-0.00%\u001b[39m.\n",
      "\t\tMake \u001b[1m\u001b[31marea = Rural\u001b[39m, \u001b[31mincome = Unknown\u001b[39m\u001b[0m with correctness \u001b[32m-0.00%\u001b[39m.\n",
      "\t\tMake \u001b[1m\u001b[31mcollege_educated = 0\u001b[39m, \u001b[31mhomeowner = 0\u001b[39m, \u001b[31mincome = Unknown\u001b[39m\u001b[0m with correctness \u001b[32m100.00%\u001b[39m.\n",
      "\t\tMake \u001b[1m\u001b[31marea = Urban\u001b[39m, \u001b[31mcollege_educated = 0\u001b[39m, \u001b[31mincome = Unknown\u001b[39m\u001b[0m with correctness \u001b[32m-0.00%\u001b[39m.\n",
      "\t\tMake \u001b[1m\u001b[31mage = 45-54\u001b[39m, \u001b[31marea = Urban\u001b[39m, \u001b[31mincome = Unknown\u001b[39m\u001b[0m with correctness \u001b[32m100.00%\u001b[39m.\n",
      "\t\tMake \u001b[1m\u001b[31mhomeowner = 0\u001b[39m, \u001b[31mincome = >100K\u001b[39m\u001b[0m with correctness \u001b[32m-0.00%\u001b[39m.\n",
      "\t\tMake \u001b[1m\u001b[31mage = 45-54\u001b[39m, \u001b[31mhomeowner = 0\u001b[39m, \u001b[31mincome = Unknown\u001b[39m\u001b[0m with correctness \u001b[32m100.00%\u001b[39m.\n",
      "\t\tMake \u001b[1m\u001b[31marea = Urban\u001b[39m, \u001b[31mhomeowner = 0\u001b[39m, \u001b[31mincome = Unknown\u001b[39m\u001b[0m with correctness \u001b[32m100.00%\u001b[39m.\n",
      "\tSubgroup '\u001b[1mMale\u001b[0m', \u001b[34m1.62%\u001b[39m covered\n",
      "\t\tMake \u001b[1m\u001b[31marea = Urban\u001b[39m, \u001b[31mincome = Unknown\u001b[39m\u001b[0m with correctness \u001b[32m100.00%\u001b[39m.\n",
      "\t\tMake \u001b[1m\u001b[31mhomeowner = 0\u001b[39m, \u001b[31mincome = Unknown\u001b[39m\u001b[0m with correctness \u001b[32m100.00%\u001b[39m.\n",
      "\t\tMake \u001b[1m\u001b[31marea = Rural\u001b[39m, \u001b[31mincome = Unknown\u001b[39m\u001b[0m with correctness \u001b[32m100.00%\u001b[39m.\n",
      "\t\tMake \u001b[1m\u001b[31mcollege_educated = 0\u001b[39m, \u001b[31mhomeowner = 0\u001b[39m, \u001b[31mincome = Unknown\u001b[39m\u001b[0m with correctness \u001b[32m100.00%\u001b[39m.\n",
      "\t\tMake \u001b[1m\u001b[31marea = Urban\u001b[39m, \u001b[31mcollege_educated = 0\u001b[39m, \u001b[31mincome = Unknown\u001b[39m\u001b[0m with correctness \u001b[32m100.00%\u001b[39m.\n",
      "\t\tMake \u001b[1m\u001b[31mage = 45-54\u001b[39m, \u001b[31marea = Urban\u001b[39m, \u001b[31mincome = Unknown\u001b[39m\u001b[0m with correctness \u001b[32m100.00%\u001b[39m.\n",
      "\t\tMake \u001b[1m\u001b[31mhomeowner = 0\u001b[39m, \u001b[31mincome = >100K\u001b[39m\u001b[0m with correctness \u001b[32m100.00%\u001b[39m.\n",
      "\t\tMake \u001b[1m\u001b[31mage = 45-54\u001b[39m, \u001b[31mhomeowner = 0\u001b[39m, \u001b[31mincome = Unknown\u001b[39m\u001b[0m with correctness \u001b[32m100.00%\u001b[39m.\n",
      "\t\tMake \u001b[1m\u001b[31marea = Urban\u001b[39m, \u001b[31mhomeowner = 0\u001b[39m, \u001b[31mincome = Unknown\u001b[39m\u001b[0m with correctness \u001b[32m100.00%\u001b[39m.\n",
      "If \u001b[1mage = 55-64, area = Urban, homeowner = 1, income = Unknown, parents = 0\u001b[0m:\n",
      "\tSubgroup '\u001b[1mFemale\u001b[0m', \u001b[34m1.12%\u001b[39m covered\n",
      "\t\tMake \u001b[1m\u001b[31mparents = 1\u001b[39m\u001b[0m with correctness \u001b[32m-0.00%\u001b[39m.\n",
      "\t\tMake \u001b[1m\u001b[31marea = Unknown\u001b[39m, \u001b[31mhomeowner = 0\u001b[39m, \u001b[31mparents = 1\u001b[39m\u001b[0m with correctness \u001b[32m5.84%\u001b[39m.\n",
      "\t\tMake \u001b[1m\u001b[31marea = Rural\u001b[39m, \u001b[31mparents = 1\u001b[39m\u001b[0m with correctness \u001b[32m-0.00%\u001b[39m.\n",
      "\t\tMake \u001b[1m\u001b[31mage = 45-54\u001b[39m, \u001b[31mparents = 1\u001b[39m\u001b[0m with correctness \u001b[32m100.00%\u001b[39m.\n",
      "\t\tMake \u001b[1m\u001b[31marea = Unknown\u001b[39m, \u001b[31mhomeowner = 0\u001b[39m, \u001b[31mincome = >100K\u001b[39m, \u001b[31mparents = 1\u001b[39m\u001b[0m with correctness \u001b[32m5.84%\u001b[39m.\n",
      "\t\tMake \u001b[1m\u001b[31mage = 45-54\u001b[39m, \u001b[31marea = Unknown\u001b[39m, \u001b[31mhomeowner = 0\u001b[39m, \u001b[31mparents = 1\u001b[39m\u001b[0m with correctness \u001b[32m100.00%\u001b[39m.\n",
      "\t\tMake \u001b[1m\u001b[31mhomeowner = 0\u001b[39m, \u001b[31mparents = 1\u001b[39m\u001b[0m with correctness \u001b[32m100.00%\u001b[39m.\n",
      "\tSubgroup '\u001b[1mMale\u001b[0m', \u001b[34m1.62%\u001b[39m covered\n",
      "\t\tMake \u001b[1m\u001b[31mparents = 1\u001b[39m\u001b[0m with correctness \u001b[32m100.00%\u001b[39m.\n",
      "\t\tMake \u001b[1m\u001b[31marea = Unknown\u001b[39m, \u001b[31mhomeowner = 0\u001b[39m, \u001b[31mparents = 1\u001b[39m\u001b[0m with correctness \u001b[32m100.00%\u001b[39m.\n",
      "\t\tMake \u001b[1m\u001b[31marea = Rural\u001b[39m, \u001b[31mparents = 1\u001b[39m\u001b[0m with correctness \u001b[32m100.00%\u001b[39m.\n",
      "\t\tMake \u001b[1m\u001b[31mage = 45-54\u001b[39m, \u001b[31mparents = 1\u001b[39m\u001b[0m with correctness \u001b[32m100.00%\u001b[39m.\n",
      "\t\tMake \u001b[1m\u001b[31marea = Unknown\u001b[39m, \u001b[31mhomeowner = 0\u001b[39m, \u001b[31mincome = >100K\u001b[39m, \u001b[31mparents = 1\u001b[39m\u001b[0m with correctness \u001b[32m100.00%\u001b[39m.\n",
      "\t\tMake \u001b[1m\u001b[31mage = 45-54\u001b[39m, \u001b[31marea = Unknown\u001b[39m, \u001b[31mhomeowner = 0\u001b[39m, \u001b[31mparents = 1\u001b[39m\u001b[0m with correctness \u001b[32m100.00%\u001b[39m.\n",
      "\t\tMake \u001b[1m\u001b[31mhomeowner = 0\u001b[39m, \u001b[31mparents = 1\u001b[39m\u001b[0m with correctness \u001b[32m100.00%\u001b[39m.\n",
      "If \u001b[1mage = 55-64, area = Unknown, homeowner = 1, income = Unknown, parents = 1\u001b[0m:\n",
      "\tSubgroup '\u001b[1mFemale\u001b[0m', \u001b[34m53.61%\u001b[39m covered\n",
      "\t\tMake \u001b[1m\u001b[31marea = Urban\u001b[39m\u001b[0m with correctness \u001b[32m0.00%\u001b[39m.\n",
      "\t\tMake \u001b[1m\u001b[31mhomeowner = 0\u001b[39m\u001b[0m with correctness \u001b[32m5.78%\u001b[39m.\n",
      "\t\tMake \u001b[1m\u001b[31marea = Rural\u001b[39m\u001b[0m with correctness \u001b[32m0.00%\u001b[39m.\n",
      "\t\tMake \u001b[1m\u001b[31mage = 45-54\u001b[39m, \u001b[31marea = Urban\u001b[39m\u001b[0m with correctness \u001b[32m100.00%\u001b[39m.\n",
      "\t\tMake \u001b[1m\u001b[31mhomeowner = 0\u001b[39m, \u001b[31mincome = >100K\u001b[39m\u001b[0m with correctness \u001b[32m5.78%\u001b[39m.\n",
      "\t\tMake \u001b[1m\u001b[31mage = 45-54\u001b[39m, \u001b[31mhomeowner = 0\u001b[39m\u001b[0m with correctness \u001b[32m100.00%\u001b[39m.\n",
      "\t\tMake \u001b[1m\u001b[31marea = Urban\u001b[39m, \u001b[31mhomeowner = 0\u001b[39m\u001b[0m with correctness \u001b[32m100.00%\u001b[39m.\n",
      "\tSubgroup '\u001b[1mMale\u001b[0m', \u001b[34m78.92%\u001b[39m covered\n",
      "\t\tMake \u001b[1m\u001b[31marea = Urban\u001b[39m\u001b[0m with correctness \u001b[32m100.00%\u001b[39m.\n",
      "\t\tMake \u001b[1m\u001b[31mhomeowner = 0\u001b[39m\u001b[0m with correctness \u001b[32m100.00%\u001b[39m.\n",
      "\t\tMake \u001b[1m\u001b[31marea = Rural\u001b[39m\u001b[0m with correctness \u001b[32m100.00%\u001b[39m.\n",
      "\t\tMake \u001b[1m\u001b[31mage = 45-54\u001b[39m, \u001b[31marea = Urban\u001b[39m\u001b[0m with correctness \u001b[32m100.00%\u001b[39m.\n",
      "\t\tMake \u001b[1m\u001b[31mhomeowner = 0\u001b[39m, \u001b[31mincome = >100K\u001b[39m\u001b[0m with correctness \u001b[32m100.00%\u001b[39m.\n",
      "\t\tMake \u001b[1m\u001b[31mage = 45-54\u001b[39m, \u001b[31mhomeowner = 0\u001b[39m\u001b[0m with correctness \u001b[32m100.00%\u001b[39m.\n",
      "\t\tMake \u001b[1m\u001b[31marea = Urban\u001b[39m, \u001b[31mhomeowner = 0\u001b[39m\u001b[0m with correctness \u001b[32m100.00%\u001b[39m.\n",
      "If \u001b[1mage = 55-64, area = Unknown, college_educated = 1, homeowner = 1, income = Unknown, parents = 1\u001b[0m:\n",
      "\tSubgroup '\u001b[1mFemale\u001b[0m', \u001b[34m50.52%\u001b[39m covered\n",
      "\t\tMake \u001b[1m\u001b[31marea = Urban\u001b[39m\u001b[0m with correctness \u001b[32m0.00%\u001b[39m.\n",
      "\t\tMake \u001b[1m\u001b[31mhomeowner = 0\u001b[39m\u001b[0m with correctness \u001b[32m0.00%\u001b[39m.\n",
      "\t\tMake \u001b[1m\u001b[31marea = Rural\u001b[39m\u001b[0m with correctness \u001b[32m0.00%\u001b[39m.\n",
      "\t\tMake \u001b[1m\u001b[31mcollege_educated = 0\u001b[39m, \u001b[31mhomeowner = 0\u001b[39m\u001b[0m with correctness \u001b[32m100.00%\u001b[39m.\n",
      "\t\tMake \u001b[1m\u001b[31marea = Urban\u001b[39m, \u001b[31mcollege_educated = 0\u001b[39m\u001b[0m with correctness \u001b[32m0.00%\u001b[39m.\n",
      "\t\tMake \u001b[1m\u001b[31mage = 45-54\u001b[39m, \u001b[31marea = Urban\u001b[39m\u001b[0m with correctness \u001b[32m100.00%\u001b[39m.\n",
      "\t\tMake \u001b[1m\u001b[31mhomeowner = 0\u001b[39m, \u001b[31mincome = >100K\u001b[39m\u001b[0m with correctness \u001b[32m0.00%\u001b[39m.\n",
      "\t\tMake \u001b[1m\u001b[31mage = 45-54\u001b[39m, \u001b[31mhomeowner = 0\u001b[39m\u001b[0m with correctness \u001b[32m100.00%\u001b[39m.\n",
      "\t\tMake \u001b[1m\u001b[31marea = Urban\u001b[39m, \u001b[31mhomeowner = 0\u001b[39m\u001b[0m with correctness \u001b[32m100.00%\u001b[39m.\n",
      "\tSubgroup '\u001b[1mMale\u001b[0m', \u001b[34m74.48%\u001b[39m covered\n",
      "\t\tMake \u001b[1m\u001b[31marea = Urban\u001b[39m\u001b[0m with correctness \u001b[32m100.00%\u001b[39m.\n",
      "\t\tMake \u001b[1m\u001b[31mhomeowner = 0\u001b[39m\u001b[0m with correctness \u001b[32m100.00%\u001b[39m.\n",
      "\t\tMake \u001b[1m\u001b[31marea = Rural\u001b[39m\u001b[0m with correctness \u001b[32m100.00%\u001b[39m.\n",
      "\t\tMake \u001b[1m\u001b[31mcollege_educated = 0\u001b[39m, \u001b[31mhomeowner = 0\u001b[39m\u001b[0m with correctness \u001b[32m100.00%\u001b[39m.\n",
      "\t\tMake \u001b[1m\u001b[31marea = Urban\u001b[39m, \u001b[31mcollege_educated = 0\u001b[39m\u001b[0m with correctness \u001b[32m100.00%\u001b[39m.\n",
      "\t\tMake \u001b[1m\u001b[31mage = 45-54\u001b[39m, \u001b[31marea = Urban\u001b[39m\u001b[0m with correctness \u001b[32m100.00%\u001b[39m.\n",
      "\t\tMake \u001b[1m\u001b[31mhomeowner = 0\u001b[39m, \u001b[31mincome = >100K\u001b[39m\u001b[0m with correctness \u001b[32m100.00%\u001b[39m.\n",
      "\t\tMake \u001b[1m\u001b[31mage = 45-54\u001b[39m, \u001b[31mhomeowner = 0\u001b[39m\u001b[0m with correctness \u001b[32m100.00%\u001b[39m.\n",
      "\t\tMake \u001b[1m\u001b[31marea = Urban\u001b[39m, \u001b[31mhomeowner = 0\u001b[39m\u001b[0m with correctness \u001b[32m100.00%\u001b[39m.\n",
      "If \u001b[1mage = 55-64, area = Unknown, college_educated = 0, income = Unknown, parents = 1\u001b[0m:\n",
      "\tSubgroup '\u001b[1mFemale\u001b[0m', \u001b[34m3.10%\u001b[39m covered\n",
      "\t\tMake \u001b[1m\u001b[31marea = Urban\u001b[39m, \u001b[31mcollege_educated = 1\u001b[39m\u001b[0m with correctness \u001b[32m0.00%\u001b[39m.\n",
      "\t\tMake \u001b[1m\u001b[31mcollege_educated = 1\u001b[39m\u001b[0m with correctness \u001b[32m0.00%\u001b[39m.\n",
      "\t\tMake \u001b[1m\u001b[31marea = Rural\u001b[39m, \u001b[31mcollege_educated = 1\u001b[39m\u001b[0m with correctness \u001b[32m0.00%\u001b[39m.\n",
      "\t\tMake \u001b[1m\u001b[31marea = Urban\u001b[39m\u001b[0m with correctness \u001b[32m0.00%\u001b[39m.\n",
      "\t\tMake \u001b[1m\u001b[31mage = 45-54\u001b[39m, \u001b[31marea = Urban\u001b[39m, \u001b[31mcollege_educated = 1\u001b[39m\u001b[0m with correctness \u001b[32m100.00%\u001b[39m.\n",
      "\t\tMake \u001b[1m\u001b[31mcollege_educated = 1\u001b[39m, \u001b[31mincome = >100K\u001b[39m\u001b[0m with correctness \u001b[32m0.00%\u001b[39m.\n",
      "\t\tMake \u001b[1m\u001b[31mage = 45-54\u001b[39m, \u001b[31mcollege_educated = 1\u001b[39m\u001b[0m with correctness \u001b[32m0.00%\u001b[39m.\n",
      "\tSubgroup '\u001b[1mMale\u001b[0m', \u001b[34m4.44%\u001b[39m covered\n",
      "\t\tMake \u001b[1m\u001b[31marea = Urban\u001b[39m, \u001b[31mcollege_educated = 1\u001b[39m\u001b[0m with correctness \u001b[32m100.00%\u001b[39m.\n",
      "\t\tMake \u001b[1m\u001b[31mcollege_educated = 1\u001b[39m\u001b[0m with correctness \u001b[32m0.00%\u001b[39m.\n",
      "\t\tMake \u001b[1m\u001b[31marea = Rural\u001b[39m, \u001b[31mcollege_educated = 1\u001b[39m\u001b[0m with correctness \u001b[32m100.00%\u001b[39m.\n",
      "\t\tMake \u001b[1m\u001b[31marea = Urban\u001b[39m\u001b[0m with correctness \u001b[32m100.00%\u001b[39m.\n",
      "\t\tMake \u001b[1m\u001b[31mage = 45-54\u001b[39m, \u001b[31marea = Urban\u001b[39m, \u001b[31mcollege_educated = 1\u001b[39m\u001b[0m with correctness \u001b[32m100.00%\u001b[39m.\n",
      "\t\tMake \u001b[1m\u001b[31mcollege_educated = 1\u001b[39m, \u001b[31mincome = >100K\u001b[39m\u001b[0m with correctness \u001b[32m0.00%\u001b[39m.\n",
      "\t\tMake \u001b[1m\u001b[31mage = 45-54\u001b[39m, \u001b[31mcollege_educated = 1\u001b[39m\u001b[0m with correctness \u001b[32m0.00%\u001b[39m.\n",
      "If \u001b[1mage = 55-64, area = Unknown, college_educated = 0, homeowner = 1, income = Unknown, parents = 1\u001b[0m:\n",
      "\tSubgroup '\u001b[1mFemale\u001b[0m', \u001b[34m3.10%\u001b[39m covered\n",
      "\t\tMake \u001b[1m\u001b[31marea = Urban\u001b[39m, \u001b[31mcollege_educated = 1\u001b[39m\u001b[0m with correctness \u001b[32m0.00%\u001b[39m.\n",
      "\t\tMake \u001b[1m\u001b[31mcollege_educated = 1\u001b[39m, \u001b[31mhomeowner = 0\u001b[39m\u001b[0m with correctness \u001b[32m0.00%\u001b[39m.\n",
      "\t\tMake \u001b[1m\u001b[31marea = Rural\u001b[39m, \u001b[31mcollege_educated = 1\u001b[39m\u001b[0m with correctness \u001b[32m0.00%\u001b[39m.\n",
      "\t\tMake \u001b[1m\u001b[31mhomeowner = 0\u001b[39m\u001b[0m with correctness \u001b[32m100.00%\u001b[39m.\n",
      "\t\tMake \u001b[1m\u001b[31marea = Urban\u001b[39m\u001b[0m with correctness \u001b[32m0.00%\u001b[39m.\n",
      "\t\tMake \u001b[1m\u001b[31mage = 45-54\u001b[39m, \u001b[31marea = Urban\u001b[39m, \u001b[31mcollege_educated = 1\u001b[39m\u001b[0m with correctness \u001b[32m100.00%\u001b[39m.\n",
      "\t\tMake \u001b[1m\u001b[31mcollege_educated = 1\u001b[39m, \u001b[31mhomeowner = 0\u001b[39m, \u001b[31mincome = >100K\u001b[39m\u001b[0m with correctness \u001b[32m0.00%\u001b[39m.\n",
      "\t\tMake \u001b[1m\u001b[31mage = 45-54\u001b[39m, \u001b[31mcollege_educated = 1\u001b[39m, \u001b[31mhomeowner = 0\u001b[39m\u001b[0m with correctness \u001b[32m100.00%\u001b[39m.\n",
      "\t\tMake \u001b[1m\u001b[31marea = Urban\u001b[39m, \u001b[31mcollege_educated = 1\u001b[39m, \u001b[31mhomeowner = 0\u001b[39m\u001b[0m with correctness \u001b[32m100.00%\u001b[39m.\n",
      "\tSubgroup '\u001b[1mMale\u001b[0m', \u001b[34m4.44%\u001b[39m covered\n",
      "\t\tMake \u001b[1m\u001b[31marea = Urban\u001b[39m, \u001b[31mcollege_educated = 1\u001b[39m\u001b[0m with correctness \u001b[32m100.00%\u001b[39m.\n",
      "\t\tMake \u001b[1m\u001b[31mcollege_educated = 1\u001b[39m, \u001b[31mhomeowner = 0\u001b[39m\u001b[0m with correctness \u001b[32m100.00%\u001b[39m.\n",
      "\t\tMake \u001b[1m\u001b[31marea = Rural\u001b[39m, \u001b[31mcollege_educated = 1\u001b[39m\u001b[0m with correctness \u001b[32m100.00%\u001b[39m.\n",
      "\t\tMake \u001b[1m\u001b[31mhomeowner = 0\u001b[39m\u001b[0m with correctness \u001b[32m100.00%\u001b[39m.\n",
      "\t\tMake \u001b[1m\u001b[31marea = Urban\u001b[39m\u001b[0m with correctness \u001b[32m100.00%\u001b[39m.\n",
      "\t\tMake \u001b[1m\u001b[31mage = 45-54\u001b[39m, \u001b[31marea = Urban\u001b[39m, \u001b[31mcollege_educated = 1\u001b[39m\u001b[0m with correctness \u001b[32m100.00%\u001b[39m.\n",
      "\t\tMake \u001b[1m\u001b[31mcollege_educated = 1\u001b[39m, \u001b[31mhomeowner = 0\u001b[39m, \u001b[31mincome = >100K\u001b[39m\u001b[0m with correctness \u001b[32m100.00%\u001b[39m.\n",
      "\t\tMake \u001b[1m\u001b[31mage = 45-54\u001b[39m, \u001b[31mcollege_educated = 1\u001b[39m, \u001b[31mhomeowner = 0\u001b[39m\u001b[0m with correctness \u001b[32m100.00%\u001b[39m.\n",
      "\t\tMake \u001b[1m\u001b[31marea = Urban\u001b[39m, \u001b[31mcollege_educated = 1\u001b[39m, \u001b[31mhomeowner = 0\u001b[39m\u001b[0m with correctness \u001b[32m100.00%\u001b[39m.\n",
      "If \u001b[1mage = 55-64, area = Unknown, homeowner = 1, income = Unknown, parents = 0\u001b[0m:\n",
      "\tSubgroup '\u001b[1mFemale\u001b[0m', \u001b[34m3.06%\u001b[39m covered\n",
      "\t\tMake \u001b[1m\u001b[31marea = Urban\u001b[39m, \u001b[31mparents = 1\u001b[39m\u001b[0m with correctness \u001b[32m0.00%\u001b[39m.\n",
      "\t\tMake \u001b[1m\u001b[31mhomeowner = 0\u001b[39m, \u001b[31mparents = 1\u001b[39m\u001b[0m with correctness \u001b[32m5.47%\u001b[39m.\n",
      "\t\tMake \u001b[1m\u001b[31marea = Rural\u001b[39m, \u001b[31mparents = 1\u001b[39m\u001b[0m with correctness \u001b[32m0.00%\u001b[39m.\n",
      "\t\tMake \u001b[1m\u001b[31mage = 45-54\u001b[39m, \u001b[31marea = Urban\u001b[39m, \u001b[31mparents = 1\u001b[39m\u001b[0m with correctness \u001b[32m100.00%\u001b[39m.\n",
      "\t\tMake \u001b[1m\u001b[31mhomeowner = 0\u001b[39m, \u001b[31mincome = >100K\u001b[39m, \u001b[31mparents = 1\u001b[39m\u001b[0m with correctness \u001b[32m5.47%\u001b[39m.\n",
      "\t\tMake \u001b[1m\u001b[31mage = 45-54\u001b[39m, \u001b[31mhomeowner = 0\u001b[39m, \u001b[31mparents = 1\u001b[39m\u001b[0m with correctness \u001b[32m100.00%\u001b[39m.\n",
      "\t\tMake \u001b[1m\u001b[31marea = Urban\u001b[39m, \u001b[31mhomeowner = 0\u001b[39m, \u001b[31mparents = 1\u001b[39m\u001b[0m with correctness \u001b[32m100.00%\u001b[39m.\n",
      "\tSubgroup '\u001b[1mMale\u001b[0m', \u001b[34m4.54%\u001b[39m covered\n",
      "\t\tMake \u001b[1m\u001b[31marea = Urban\u001b[39m, \u001b[31mparents = 1\u001b[39m\u001b[0m with correctness \u001b[32m100.00%\u001b[39m.\n",
      "\t\tMake \u001b[1m\u001b[31mhomeowner = 0\u001b[39m, \u001b[31mparents = 1\u001b[39m\u001b[0m with correctness \u001b[32m100.00%\u001b[39m.\n",
      "\t\tMake \u001b[1m\u001b[31marea = Rural\u001b[39m, \u001b[31mparents = 1\u001b[39m\u001b[0m with correctness \u001b[32m100.00%\u001b[39m.\n",
      "\t\tMake \u001b[1m\u001b[31mage = 45-54\u001b[39m, \u001b[31marea = Urban\u001b[39m, \u001b[31mparents = 1\u001b[39m\u001b[0m with correctness \u001b[32m100.00%\u001b[39m.\n",
      "\t\tMake \u001b[1m\u001b[31mhomeowner = 0\u001b[39m, \u001b[31mincome = >100K\u001b[39m, \u001b[31mparents = 1\u001b[39m\u001b[0m with correctness \u001b[32m100.00%\u001b[39m.\n",
      "\t\tMake \u001b[1m\u001b[31mage = 45-54\u001b[39m, \u001b[31mhomeowner = 0\u001b[39m, \u001b[31mparents = 1\u001b[39m\u001b[0m with correctness \u001b[32m100.00%\u001b[39m.\n",
      "\t\tMake \u001b[1m\u001b[31marea = Urban\u001b[39m, \u001b[31mhomeowner = 0\u001b[39m, \u001b[31mparents = 1\u001b[39m\u001b[0m with correctness \u001b[32m100.00%\u001b[39m.\n",
      "If \u001b[1mage = 55-64, area = Unknown, college_educated = 1, homeowner = 1, income = Unknown, parents = 0\u001b[0m:\n",
      "\tSubgroup '\u001b[1mFemale\u001b[0m', \u001b[34m2.89%\u001b[39m covered\n",
      "\t\tMake \u001b[1m\u001b[31marea = Urban\u001b[39m, \u001b[31mparents = 1\u001b[39m\u001b[0m with correctness \u001b[32m0.00%\u001b[39m.\n",
      "\t\tMake \u001b[1m\u001b[31mhomeowner = 0\u001b[39m, \u001b[31mparents = 1\u001b[39m\u001b[0m with correctness \u001b[32m0.00%\u001b[39m.\n",
      "\t\tMake \u001b[1m\u001b[31marea = Rural\u001b[39m, \u001b[31mparents = 1\u001b[39m\u001b[0m with correctness \u001b[32m0.00%\u001b[39m.\n",
      "\t\tMake \u001b[1m\u001b[31mcollege_educated = 0\u001b[39m, \u001b[31mhomeowner = 0\u001b[39m, \u001b[31mparents = 1\u001b[39m\u001b[0m with correctness \u001b[32m100.00%\u001b[39m.\n",
      "\t\tMake \u001b[1m\u001b[31marea = Urban\u001b[39m, \u001b[31mcollege_educated = 0\u001b[39m, \u001b[31mparents = 1\u001b[39m\u001b[0m with correctness \u001b[32m0.00%\u001b[39m.\n",
      "\t\tMake \u001b[1m\u001b[31mage = 45-54\u001b[39m, \u001b[31marea = Urban\u001b[39m, \u001b[31mparents = 1\u001b[39m\u001b[0m with correctness \u001b[32m100.00%\u001b[39m.\n",
      "\t\tMake \u001b[1m\u001b[31mhomeowner = 0\u001b[39m, \u001b[31mincome = >100K\u001b[39m, \u001b[31mparents = 1\u001b[39m\u001b[0m with correctness \u001b[32m0.00%\u001b[39m.\n",
      "\t\tMake \u001b[1m\u001b[31mage = 45-54\u001b[39m, \u001b[31mhomeowner = 0\u001b[39m, \u001b[31mparents = 1\u001b[39m\u001b[0m with correctness \u001b[32m100.00%\u001b[39m.\n",
      "\t\tMake \u001b[1m\u001b[31marea = Urban\u001b[39m, \u001b[31mhomeowner = 0\u001b[39m, \u001b[31mparents = 1\u001b[39m\u001b[0m with correctness \u001b[32m100.00%\u001b[39m.\n",
      "\tSubgroup '\u001b[1mMale\u001b[0m', \u001b[34m4.31%\u001b[39m covered\n",
      "\t\tMake \u001b[1m\u001b[31marea = Urban\u001b[39m, \u001b[31mparents = 1\u001b[39m\u001b[0m with correctness \u001b[32m100.00%\u001b[39m.\n",
      "\t\tMake \u001b[1m\u001b[31mhomeowner = 0\u001b[39m, \u001b[31mparents = 1\u001b[39m\u001b[0m with correctness \u001b[32m100.00%\u001b[39m.\n",
      "\t\tMake \u001b[1m\u001b[31marea = Rural\u001b[39m, \u001b[31mparents = 1\u001b[39m\u001b[0m with correctness \u001b[32m100.00%\u001b[39m.\n",
      "\t\tMake \u001b[1m\u001b[31mcollege_educated = 0\u001b[39m, \u001b[31mhomeowner = 0\u001b[39m, \u001b[31mparents = 1\u001b[39m\u001b[0m with correctness \u001b[32m100.00%\u001b[39m.\n",
      "\t\tMake \u001b[1m\u001b[31marea = Urban\u001b[39m, \u001b[31mcollege_educated = 0\u001b[39m, \u001b[31mparents = 1\u001b[39m\u001b[0m with correctness \u001b[32m100.00%\u001b[39m.\n",
      "\t\tMake \u001b[1m\u001b[31mage = 45-54\u001b[39m, \u001b[31marea = Urban\u001b[39m, \u001b[31mparents = 1\u001b[39m\u001b[0m with correctness \u001b[32m100.00%\u001b[39m.\n",
      "\t\tMake \u001b[1m\u001b[31mhomeowner = 0\u001b[39m, \u001b[31mincome = >100K\u001b[39m, \u001b[31mparents = 1\u001b[39m\u001b[0m with correctness \u001b[32m100.00%\u001b[39m.\n",
      "\t\tMake \u001b[1m\u001b[31mage = 45-54\u001b[39m, \u001b[31mhomeowner = 0\u001b[39m, \u001b[31mparents = 1\u001b[39m\u001b[0m with correctness \u001b[32m100.00%\u001b[39m.\n",
      "\t\tMake \u001b[1m\u001b[31marea = Urban\u001b[39m, \u001b[31mhomeowner = 0\u001b[39m, \u001b[31mparents = 1\u001b[39m\u001b[0m with correctness \u001b[32m100.00%\u001b[39m.\n",
      "If \u001b[1mage = Unknown, area = Unknown, homeowner = 1, income = Unknown, parents = 1\u001b[0m:\n",
      "\tSubgroup '\u001b[1mFemale\u001b[0m', \u001b[34m1.58%\u001b[39m covered\n",
      "\t\tMake \u001b[1m\u001b[31mage = 55-64\u001b[39m, \u001b[31marea = Urban\u001b[39m\u001b[0m with correctness \u001b[32m0.00%\u001b[39m.\n",
      "\t\tMake \u001b[1m\u001b[31mage = 55-64\u001b[39m, \u001b[31mhomeowner = 0\u001b[39m\u001b[0m with correctness \u001b[32m5.64%\u001b[39m.\n",
      "\t\tMake \u001b[1m\u001b[31mage = 55-64\u001b[39m, \u001b[31marea = Rural\u001b[39m\u001b[0m with correctness \u001b[32m0.00%\u001b[39m.\n",
      "\t\tMake \u001b[1m\u001b[31mage = 45-54\u001b[39m, \u001b[31marea = Urban\u001b[39m\u001b[0m with correctness \u001b[32m100.00%\u001b[39m.\n",
      "\t\tMake \u001b[1m\u001b[31mage = 55-64\u001b[39m, \u001b[31mhomeowner = 0\u001b[39m, \u001b[31mincome = >100K\u001b[39m\u001b[0m with correctness \u001b[32m5.64%\u001b[39m.\n",
      "\t\tMake \u001b[1m\u001b[31mage = 45-54\u001b[39m, \u001b[31mhomeowner = 0\u001b[39m\u001b[0m with correctness \u001b[32m100.00%\u001b[39m.\n",
      "\t\tMake \u001b[1m\u001b[31mage = 55-64\u001b[39m, \u001b[31marea = Urban\u001b[39m, \u001b[31mhomeowner = 0\u001b[39m\u001b[0m with correctness \u001b[32m100.00%\u001b[39m.\n",
      "\tSubgroup '\u001b[1mMale\u001b[0m', \u001b[34m2.25%\u001b[39m covered\n",
      "\t\tMake \u001b[1m\u001b[31mage = 55-64\u001b[39m, \u001b[31marea = Urban\u001b[39m\u001b[0m with correctness \u001b[32m100.00%\u001b[39m.\n",
      "\t\tMake \u001b[1m\u001b[31mage = 55-64\u001b[39m, \u001b[31mhomeowner = 0\u001b[39m\u001b[0m with correctness \u001b[32m100.00%\u001b[39m.\n",
      "\t\tMake \u001b[1m\u001b[31mage = 55-64\u001b[39m, \u001b[31marea = Rural\u001b[39m\u001b[0m with correctness \u001b[32m100.00%\u001b[39m.\n",
      "\t\tMake \u001b[1m\u001b[31mage = 45-54\u001b[39m, \u001b[31marea = Urban\u001b[39m\u001b[0m with correctness \u001b[32m100.00%\u001b[39m.\n",
      "\t\tMake \u001b[1m\u001b[31mage = 55-64\u001b[39m, \u001b[31mhomeowner = 0\u001b[39m, \u001b[31mincome = >100K\u001b[39m\u001b[0m with correctness \u001b[32m100.00%\u001b[39m.\n",
      "\t\tMake \u001b[1m\u001b[31mage = 45-54\u001b[39m, \u001b[31mhomeowner = 0\u001b[39m\u001b[0m with correctness \u001b[32m100.00%\u001b[39m.\n",
      "\t\tMake \u001b[1m\u001b[31mage = 55-64\u001b[39m, \u001b[31marea = Urban\u001b[39m, \u001b[31mhomeowner = 0\u001b[39m\u001b[0m with correctness \u001b[32m100.00%\u001b[39m.\n",
      "If \u001b[1mage = Unknown, area = Unknown, college_educated = 1, homeowner = 1, income = Unknown, parents = 1\u001b[0m:\n",
      "\tSubgroup '\u001b[1mFemale\u001b[0m', \u001b[34m1.49%\u001b[39m covered\n",
      "\t\tMake \u001b[1m\u001b[31mage = 55-64\u001b[39m, \u001b[31marea = Urban\u001b[39m\u001b[0m with correctness \u001b[32m0.00%\u001b[39m.\n",
      "\t\tMake \u001b[1m\u001b[31mage = 55-64\u001b[39m, \u001b[31mhomeowner = 0\u001b[39m\u001b[0m with correctness \u001b[32m0.00%\u001b[39m.\n",
      "\t\tMake \u001b[1m\u001b[31mage = 55-64\u001b[39m, \u001b[31marea = Rural\u001b[39m\u001b[0m with correctness \u001b[32m0.00%\u001b[39m.\n",
      "\t\tMake \u001b[1m\u001b[31mage = 55-64\u001b[39m, \u001b[31mcollege_educated = 0\u001b[39m, \u001b[31mhomeowner = 0\u001b[39m\u001b[0m with correctness \u001b[32m100.00%\u001b[39m.\n",
      "\t\tMake \u001b[1m\u001b[31mage = 55-64\u001b[39m, \u001b[31marea = Urban\u001b[39m, \u001b[31mcollege_educated = 0\u001b[39m\u001b[0m with correctness \u001b[32m0.00%\u001b[39m.\n",
      "\t\tMake \u001b[1m\u001b[31mage = 45-54\u001b[39m, \u001b[31marea = Urban\u001b[39m\u001b[0m with correctness \u001b[32m100.00%\u001b[39m.\n",
      "\t\tMake \u001b[1m\u001b[31mage = 55-64\u001b[39m, \u001b[31mhomeowner = 0\u001b[39m, \u001b[31mincome = >100K\u001b[39m\u001b[0m with correctness \u001b[32m0.00%\u001b[39m.\n",
      "\t\tMake \u001b[1m\u001b[31mage = 45-54\u001b[39m, \u001b[31mhomeowner = 0\u001b[39m\u001b[0m with correctness \u001b[32m100.00%\u001b[39m.\n",
      "\t\tMake \u001b[1m\u001b[31mage = 55-64\u001b[39m, \u001b[31marea = Urban\u001b[39m, \u001b[31mhomeowner = 0\u001b[39m\u001b[0m with correctness \u001b[32m100.00%\u001b[39m.\n",
      "\tSubgroup '\u001b[1mMale\u001b[0m', \u001b[34m2.10%\u001b[39m covered\n",
      "\t\tMake \u001b[1m\u001b[31mage = 55-64\u001b[39m, \u001b[31marea = Urban\u001b[39m\u001b[0m with correctness \u001b[32m100.00%\u001b[39m.\n",
      "\t\tMake \u001b[1m\u001b[31mage = 55-64\u001b[39m, \u001b[31mhomeowner = 0\u001b[39m\u001b[0m with correctness \u001b[32m100.00%\u001b[39m.\n",
      "\t\tMake \u001b[1m\u001b[31mage = 55-64\u001b[39m, \u001b[31marea = Rural\u001b[39m\u001b[0m with correctness \u001b[32m100.00%\u001b[39m.\n",
      "\t\tMake \u001b[1m\u001b[31mage = 55-64\u001b[39m, \u001b[31mcollege_educated = 0\u001b[39m, \u001b[31mhomeowner = 0\u001b[39m\u001b[0m with correctness \u001b[32m100.00%\u001b[39m.\n",
      "\t\tMake \u001b[1m\u001b[31mage = 55-64\u001b[39m, \u001b[31marea = Urban\u001b[39m, \u001b[31mcollege_educated = 0\u001b[39m\u001b[0m with correctness \u001b[32m100.00%\u001b[39m.\n",
      "\t\tMake \u001b[1m\u001b[31mage = 45-54\u001b[39m, \u001b[31marea = Urban\u001b[39m\u001b[0m with correctness \u001b[32m100.00%\u001b[39m.\n",
      "\t\tMake \u001b[1m\u001b[31mage = 55-64\u001b[39m, \u001b[31mhomeowner = 0\u001b[39m, \u001b[31mincome = >100K\u001b[39m\u001b[0m with correctness \u001b[32m100.00%\u001b[39m.\n",
      "\t\tMake \u001b[1m\u001b[31mage = 45-54\u001b[39m, \u001b[31mhomeowner = 0\u001b[39m\u001b[0m with correctness \u001b[32m100.00%\u001b[39m.\n",
      "\t\tMake \u001b[1m\u001b[31mage = 55-64\u001b[39m, \u001b[31marea = Urban\u001b[39m, \u001b[31mhomeowner = 0\u001b[39m\u001b[0m with correctness \u001b[32m100.00%\u001b[39m.\n",
      "\n"
     ]
    }
   ],
   "source": [
    "K = 10\n",
    "\n",
    "# keep K ifs with maximum coverage on Females\n",
    "# TODO: the below is currently dataset dependent\n",
    "# rules_by_if_filtered = sorted(rules_by_if.items(), key=lambda e: e[1][\"F\"][0][1], reverse=True)[:K]\n",
    "\n",
    "# keep K ifs with maximum absolute difference in correctness between Males and Females.\n",
    "# TODO: the below is currently dataset dependent\n",
    "rules_by_if_filtered = sorted(rules_by_if.items(), key=lambda e: abs(e[1][\"Male\"][1][0][1]-e[1][\"Female\"][1][0][1]), reverse=True)[:K]\n",
    "\n",
    "rules_by_if_filtered = dict(rules_by_if_filtered)\n",
    "\n",
    "print(recourse_report_reverse(rules_by_if_filtered))"
   ]
  },
  {
   "cell_type": "code",
   "execution_count": 16,
   "id": "c3d9345a-d3f6-4db1-9fa2-887cf76c0149",
   "metadata": {
    "tags": []
   },
   "outputs": [],
   "source": [
    "# #### Uncomment if you wish to save rules object on disk\n",
    "\n",
    "# import dill\n",
    "\n",
    "# with open(\"rules.data\", \"wb\") as outf:\n",
    "#     dill.dump(rules_by_if, outf)"
   ]
  },
  {
   "cell_type": "markdown",
   "id": "680049be-1176-44d9-ba37-61b194dfb97f",
   "metadata": {},
   "source": [
    "# Filter rules by different fairness definitions"
   ]
  },
  {
   "cell_type": "markdown",
   "id": "07e10fea-1fb4-4028-813a-e21b0767983f",
   "metadata": {},
   "source": [
    "Here, we explore more sophisticated ways of picking the \"top\" K rules and showing only those.\n",
    "\n",
    "We start ranking the rule \"groups\" (all recourses for a single \"if\") by averaging out the costs of all suggested recourses, weighted by the respective correctness. For now, the \"cost\" of a recourse is simply the number of features whose value changes (and the magnitude of the change for numerical features, but here there are none)."
   ]
  },
  {
   "cell_type": "markdown",
   "id": "3083f9ee-9126-4cd4-a84a-5816e32e1cb8",
   "metadata": {},
   "source": [
    "## Weighted Average Score"
   ]
  },
  {
   "cell_type": "code",
   "execution_count": 15,
   "id": "7b51ca0b-5aa1-4868-9aa7-5582e7e2e00d",
   "metadata": {
    "tags": []
   },
   "outputs": [
    {
     "name": "stdout",
     "output_type": "stream",
     "text": [
      "If \u001b[1marea = Urban, homeowner = 1, income = Unknown, parents = 0\u001b[0m:\n",
      "\tSubgroup '\u001b[1mFemale\u001b[0m', \u001b[34m1.19%\u001b[39m covered out of 600135\n",
      "\t\tMake \u001b[1m\u001b[31mparents = 1\u001b[39m\u001b[0m with correctness \u001b[32m1.81%\u001b[39m.\n",
      "\t\tMake \u001b[1m\u001b[31marea = Unknown\u001b[39m, \u001b[31mhomeowner = 0\u001b[39m, \u001b[31mparents = 1\u001b[39m\u001b[0m with correctness \u001b[32m7.32%\u001b[39m.\n",
      "\t\tMake \u001b[1m\u001b[31marea = Rural\u001b[39m, \u001b[31mparents = 1\u001b[39m\u001b[0m with correctness \u001b[32m1.81%\u001b[39m.\n",
      "\t\tMake \u001b[1m\u001b[31marea = Unknown\u001b[39m, \u001b[31mhomeowner = 0\u001b[39m, \u001b[31mincome = >100K\u001b[39m, \u001b[31mparents = 1\u001b[39m\u001b[0m with correctness \u001b[32m7.32%\u001b[39m.\n",
      "\t\tMake \u001b[1m\u001b[31mhomeowner = 0\u001b[39m, \u001b[31mparents = 1\u001b[39m\u001b[0m with correctness \u001b[32m96.15%\u001b[39m.\n",
      "\t\t\u001b[1mAggregate cost\u001b[0m of the above recourses = \u001b[35m-0.5\u001b[39m\n",
      "\tSubgroup '\u001b[1mMale\u001b[0m', \u001b[34m1.74%\u001b[39m covered out of 314181\n",
      "\t\tMake \u001b[1m\u001b[31mparents = 1\u001b[39m\u001b[0m with correctness \u001b[32m94.80%\u001b[39m.\n",
      "\t\tMake \u001b[1m\u001b[31marea = Unknown\u001b[39m, \u001b[31mhomeowner = 0\u001b[39m, \u001b[31mparents = 1\u001b[39m\u001b[0m with correctness \u001b[32m94.80%\u001b[39m.\n",
      "\t\tMake \u001b[1m\u001b[31marea = Rural\u001b[39m, \u001b[31mparents = 1\u001b[39m\u001b[0m with correctness \u001b[32m94.80%\u001b[39m.\n",
      "\t\tMake \u001b[1m\u001b[31marea = Unknown\u001b[39m, \u001b[31mhomeowner = 0\u001b[39m, \u001b[31mincome = >100K\u001b[39m, \u001b[31mparents = 1\u001b[39m\u001b[0m with correctness \u001b[32m94.80%\u001b[39m.\n",
      "\t\tMake \u001b[1m\u001b[31mhomeowner = 0\u001b[39m, \u001b[31mparents = 1\u001b[39m\u001b[0m with correctness \u001b[32m96.62%\u001b[39m.\n",
      "\t\t\u001b[1mAggregate cost\u001b[0m of the above recourses = \u001b[35m-2e+00\u001b[39m\n",
      "\t\u001b[35mBias against Female. Unfairness measure = 1.78.\u001b[39m\n",
      "If \u001b[1marea = Unknown, college_educated = 1, homeowner = 0, income = <100K, parents = 1\u001b[0m:\n",
      "\tSubgroup '\u001b[1mFemale\u001b[0m', \u001b[34m1.18%\u001b[39m covered out of 600135\n",
      "\t\tMake \u001b[1m\u001b[31marea = Urban\u001b[39m, \u001b[31mhomeowner = 1\u001b[39m, \u001b[31mincome = Unknown\u001b[39m\u001b[0m with correctness \u001b[32m0.00%\u001b[39m.\n",
      "\t\tMake \u001b[1m\u001b[31mincome = Unknown\u001b[39m\u001b[0m with correctness \u001b[32m0.00%\u001b[39m.\n",
      "\t\tMake \u001b[1m\u001b[31marea = Rural\u001b[39m, \u001b[31mhomeowner = 1\u001b[39m, \u001b[31mincome = Unknown\u001b[39m\u001b[0m with correctness \u001b[32m0.00%\u001b[39m.\n",
      "\t\tMake \u001b[1m\u001b[31mcollege_educated = 0\u001b[39m, \u001b[31mincome = Unknown\u001b[39m\u001b[0m with correctness \u001b[32m94.34%\u001b[39m.\n",
      "\t\tMake \u001b[1m\u001b[31marea = Urban\u001b[39m, \u001b[31mcollege_educated = 0\u001b[39m, \u001b[31mhomeowner = 1\u001b[39m, \u001b[31mincome = Unknown\u001b[39m\u001b[0m with correctness \u001b[32m0.00%\u001b[39m.\n",
      "\t\tMake \u001b[1m\u001b[31mincome = >100K\u001b[39m\u001b[0m with correctness \u001b[32m0.00%\u001b[39m.\n",
      "\t\tMake \u001b[1m\u001b[31marea = Urban\u001b[39m, \u001b[31mincome = Unknown\u001b[39m\u001b[0m with correctness \u001b[32m94.34%\u001b[39m.\n",
      "\t\t\u001b[1mAggregate cost\u001b[0m of the above recourses = \u001b[35m-0.5\u001b[39m\n",
      "\tSubgroup '\u001b[1mMale\u001b[0m', \u001b[34m1.73%\u001b[39m covered out of 314181\n",
      "\t\tMake \u001b[1m\u001b[31marea = Urban\u001b[39m, \u001b[31mhomeowner = 1\u001b[39m, \u001b[31mincome = Unknown\u001b[39m\u001b[0m with correctness \u001b[32m95.70%\u001b[39m.\n",
      "\t\tMake \u001b[1m\u001b[31mincome = Unknown\u001b[39m\u001b[0m with correctness \u001b[32m95.70%\u001b[39m.\n",
      "\t\tMake \u001b[1m\u001b[31marea = Rural\u001b[39m, \u001b[31mhomeowner = 1\u001b[39m, \u001b[31mincome = Unknown\u001b[39m\u001b[0m with correctness \u001b[32m95.70%\u001b[39m.\n",
      "\t\tMake \u001b[1m\u001b[31mcollege_educated = 0\u001b[39m, \u001b[31mincome = Unknown\u001b[39m\u001b[0m with correctness \u001b[32m95.70%\u001b[39m.\n",
      "\t\tMake \u001b[1m\u001b[31marea = Urban\u001b[39m, \u001b[31mcollege_educated = 0\u001b[39m, \u001b[31mhomeowner = 1\u001b[39m, \u001b[31mincome = Unknown\u001b[39m\u001b[0m with correctness \u001b[32m95.70%\u001b[39m.\n",
      "\t\tMake \u001b[1m\u001b[31mincome = >100K\u001b[39m\u001b[0m with correctness \u001b[32m95.70%\u001b[39m.\n",
      "\t\tMake \u001b[1m\u001b[31marea = Urban\u001b[39m, \u001b[31mincome = Unknown\u001b[39m\u001b[0m with correctness \u001b[32m97.53%\u001b[39m.\n",
      "\t\t\u001b[1mAggregate cost\u001b[0m of the above recourses = \u001b[35m-2e+00\u001b[39m\n",
      "\t\u001b[35mBias against Female. Unfairness measure = 1.65.\u001b[39m\n",
      "If \u001b[1marea = Unknown, homeowner = 1, income = Unknown, parents = 0\u001b[0m:\n",
      "\tSubgroup '\u001b[1mFemale\u001b[0m', \u001b[34m3.27%\u001b[39m covered out of 600135\n",
      "\t\tMake \u001b[1m\u001b[31marea = Urban\u001b[39m, \u001b[31mparents = 1\u001b[39m\u001b[0m with correctness \u001b[32m1.79%\u001b[39m.\n",
      "\t\tMake \u001b[1m\u001b[31mhomeowner = 0\u001b[39m, \u001b[31mparents = 1\u001b[39m\u001b[0m with correctness \u001b[32m6.91%\u001b[39m.\n",
      "\t\tMake \u001b[1m\u001b[31marea = Rural\u001b[39m, \u001b[31mparents = 1\u001b[39m\u001b[0m with correctness \u001b[32m1.79%\u001b[39m.\n",
      "\t\tMake \u001b[1m\u001b[31mhomeowner = 0\u001b[39m, \u001b[31mincome = >100K\u001b[39m, \u001b[31mparents = 1\u001b[39m\u001b[0m with correctness \u001b[32m6.91%\u001b[39m.\n",
      "\t\tMake \u001b[1m\u001b[31marea = Urban\u001b[39m, \u001b[31mhomeowner = 0\u001b[39m, \u001b[31mparents = 1\u001b[39m\u001b[0m with correctness \u001b[32m95.38%\u001b[39m.\n",
      "\t\t\u001b[1mAggregate cost\u001b[0m of the above recourses = \u001b[35m-0.7\u001b[39m\n",
      "\tSubgroup '\u001b[1mMale\u001b[0m', \u001b[34m4.86%\u001b[39m covered out of 314181\n",
      "\t\tMake \u001b[1m\u001b[31marea = Urban\u001b[39m, \u001b[31mparents = 1\u001b[39m\u001b[0m with correctness \u001b[32m95.17%\u001b[39m.\n",
      "\t\tMake \u001b[1m\u001b[31mhomeowner = 0\u001b[39m, \u001b[31mparents = 1\u001b[39m\u001b[0m with correctness \u001b[32m95.17%\u001b[39m.\n",
      "\t\tMake \u001b[1m\u001b[31marea = Rural\u001b[39m, \u001b[31mparents = 1\u001b[39m\u001b[0m with correctness \u001b[32m95.17%\u001b[39m.\n",
      "\t\tMake \u001b[1m\u001b[31mhomeowner = 0\u001b[39m, \u001b[31mincome = >100K\u001b[39m, \u001b[31mparents = 1\u001b[39m\u001b[0m with correctness \u001b[32m95.17%\u001b[39m.\n",
      "\t\tMake \u001b[1m\u001b[31marea = Urban\u001b[39m, \u001b[31mhomeowner = 0\u001b[39m, \u001b[31mparents = 1\u001b[39m\u001b[0m with correctness \u001b[32m97.35%\u001b[39m.\n",
      "\t\t\u001b[1mAggregate cost\u001b[0m of the above recourses = \u001b[35m-2e+00\u001b[39m\n",
      "\t\u001b[35mBias against Female. Unfairness measure = 1.64.\u001b[39m\n",
      "If \u001b[1marea = Unknown, college_educated = 1, homeowner = 1, income = Unknown, parents = 0\u001b[0m:\n",
      "\tSubgroup '\u001b[1mFemale\u001b[0m', \u001b[34m3.09%\u001b[39m covered out of 600135\n",
      "\t\tMake \u001b[1m\u001b[31marea = Urban\u001b[39m, \u001b[31mparents = 1\u001b[39m\u001b[0m with correctness \u001b[32m1.79%\u001b[39m.\n",
      "\t\tMake \u001b[1m\u001b[31mhomeowner = 0\u001b[39m, \u001b[31mparents = 1\u001b[39m\u001b[0m with correctness \u001b[32m1.79%\u001b[39m.\n",
      "\t\tMake \u001b[1m\u001b[31marea = Rural\u001b[39m, \u001b[31mparents = 1\u001b[39m\u001b[0m with correctness \u001b[32m1.79%\u001b[39m.\n",
      "\t\tMake \u001b[1m\u001b[31mcollege_educated = 0\u001b[39m, \u001b[31mhomeowner = 0\u001b[39m, \u001b[31mparents = 1\u001b[39m\u001b[0m with correctness \u001b[32m95.37%\u001b[39m.\n",
      "\t\tMake \u001b[1m\u001b[31marea = Urban\u001b[39m, \u001b[31mcollege_educated = 0\u001b[39m, \u001b[31mparents = 1\u001b[39m\u001b[0m with correctness \u001b[32m1.79%\u001b[39m.\n",
      "\t\tMake \u001b[1m\u001b[31mhomeowner = 0\u001b[39m, \u001b[31mincome = >100K\u001b[39m, \u001b[31mparents = 1\u001b[39m\u001b[0m with correctness \u001b[32m1.79%\u001b[39m.\n",
      "\t\tMake \u001b[1m\u001b[31marea = Urban\u001b[39m, \u001b[31mhomeowner = 0\u001b[39m, \u001b[31mparents = 1\u001b[39m\u001b[0m with correctness \u001b[32m95.37%\u001b[39m.\n",
      "\t\t\u001b[1mAggregate cost\u001b[0m of the above recourses = \u001b[35m-0.8\u001b[39m\n",
      "\tSubgroup '\u001b[1mMale\u001b[0m', \u001b[34m4.60%\u001b[39m covered out of 314181\n",
      "\t\tMake \u001b[1m\u001b[31marea = Urban\u001b[39m, \u001b[31mparents = 1\u001b[39m\u001b[0m with correctness \u001b[32m95.21%\u001b[39m.\n",
      "\t\tMake \u001b[1m\u001b[31mhomeowner = 0\u001b[39m, \u001b[31mparents = 1\u001b[39m\u001b[0m with correctness \u001b[32m95.21%\u001b[39m.\n",
      "\t\tMake \u001b[1m\u001b[31marea = Rural\u001b[39m, \u001b[31mparents = 1\u001b[39m\u001b[0m with correctness \u001b[32m95.21%\u001b[39m.\n",
      "\t\tMake \u001b[1m\u001b[31mcollege_educated = 0\u001b[39m, \u001b[31mhomeowner = 0\u001b[39m, \u001b[31mparents = 1\u001b[39m\u001b[0m with correctness \u001b[32m95.21%\u001b[39m.\n",
      "\t\tMake \u001b[1m\u001b[31marea = Urban\u001b[39m, \u001b[31mcollege_educated = 0\u001b[39m, \u001b[31mparents = 1\u001b[39m\u001b[0m with correctness \u001b[32m95.21%\u001b[39m.\n",
      "\t\tMake \u001b[1m\u001b[31mhomeowner = 0\u001b[39m, \u001b[31mincome = >100K\u001b[39m, \u001b[31mparents = 1\u001b[39m\u001b[0m with correctness \u001b[32m95.21%\u001b[39m.\n",
      "\t\tMake \u001b[1m\u001b[31marea = Urban\u001b[39m, \u001b[31mhomeowner = 0\u001b[39m, \u001b[31mparents = 1\u001b[39m\u001b[0m with correctness \u001b[32m97.24%\u001b[39m.\n",
      "\t\t\u001b[1mAggregate cost\u001b[0m of the above recourses = \u001b[35m-2e+00\u001b[39m\n",
      "\t\u001b[35mBias against Female. Unfairness measure = 1.61.\u001b[39m\n",
      "If \u001b[1marea = Urban, college_educated = 1, homeowner = 1, income = Unknown, parents = 0\u001b[0m:\n",
      "\tSubgroup '\u001b[1mFemale\u001b[0m', \u001b[34m1.12%\u001b[39m covered out of 600135\n",
      "\t\tMake \u001b[1m\u001b[31mparents = 1\u001b[39m\u001b[0m with correctness \u001b[32m1.77%\u001b[39m.\n",
      "\t\tMake \u001b[1m\u001b[31marea = Unknown\u001b[39m, \u001b[31mhomeowner = 0\u001b[39m, \u001b[31mparents = 1\u001b[39m\u001b[0m with correctness \u001b[32m1.77%\u001b[39m.\n",
      "\t\tMake \u001b[1m\u001b[31marea = Rural\u001b[39m, \u001b[31mparents = 1\u001b[39m\u001b[0m with correctness \u001b[32m1.77%\u001b[39m.\n",
      "\t\tMake \u001b[1m\u001b[31marea = Unknown\u001b[39m, \u001b[31mcollege_educated = 0\u001b[39m, \u001b[31mhomeowner = 0\u001b[39m, \u001b[31mparents = 1\u001b[39m\u001b[0m with correctness \u001b[32m96.11%\u001b[39m.\n",
      "\t\tMake \u001b[1m\u001b[31mcollege_educated = 0\u001b[39m, \u001b[31mparents = 1\u001b[39m\u001b[0m with correctness \u001b[32m1.77%\u001b[39m.\n",
      "\t\tMake \u001b[1m\u001b[31marea = Unknown\u001b[39m, \u001b[31mhomeowner = 0\u001b[39m, \u001b[31mincome = >100K\u001b[39m, \u001b[31mparents = 1\u001b[39m\u001b[0m with correctness \u001b[32m1.77%\u001b[39m.\n",
      "\t\tMake \u001b[1m\u001b[31mhomeowner = 0\u001b[39m, \u001b[31mparents = 1\u001b[39m\u001b[0m with correctness \u001b[32m96.11%\u001b[39m.\n",
      "\t\t\u001b[1mAggregate cost\u001b[0m of the above recourses = \u001b[35m-0.9\u001b[39m\n",
      "\tSubgroup '\u001b[1mMale\u001b[0m', \u001b[34m1.64%\u001b[39m covered out of 314181\n",
      "\t\tMake \u001b[1m\u001b[31mparents = 1\u001b[39m\u001b[0m with correctness \u001b[32m94.88%\u001b[39m.\n",
      "\t\tMake \u001b[1m\u001b[31marea = Unknown\u001b[39m, \u001b[31mhomeowner = 0\u001b[39m, \u001b[31mparents = 1\u001b[39m\u001b[0m with correctness \u001b[32m94.88%\u001b[39m.\n",
      "\t\tMake \u001b[1m\u001b[31marea = Rural\u001b[39m, \u001b[31mparents = 1\u001b[39m\u001b[0m with correctness \u001b[32m94.88%\u001b[39m.\n",
      "\t\tMake \u001b[1m\u001b[31marea = Unknown\u001b[39m, \u001b[31mcollege_educated = 0\u001b[39m, \u001b[31mhomeowner = 0\u001b[39m, \u001b[31mparents = 1\u001b[39m\u001b[0m with correctness \u001b[32m94.88%\u001b[39m.\n",
      "\t\tMake \u001b[1m\u001b[31mcollege_educated = 0\u001b[39m, \u001b[31mparents = 1\u001b[39m\u001b[0m with correctness \u001b[32m94.88%\u001b[39m.\n",
      "\t\tMake \u001b[1m\u001b[31marea = Unknown\u001b[39m, \u001b[31mhomeowner = 0\u001b[39m, \u001b[31mincome = >100K\u001b[39m, \u001b[31mparents = 1\u001b[39m\u001b[0m with correctness \u001b[32m94.88%\u001b[39m.\n",
      "\t\tMake \u001b[1m\u001b[31mhomeowner = 0\u001b[39m, \u001b[31mparents = 1\u001b[39m\u001b[0m with correctness \u001b[32m96.43%\u001b[39m.\n",
      "\t\t\u001b[1mAggregate cost\u001b[0m of the above recourses = \u001b[35m-2e+00\u001b[39m\n",
      "\t\u001b[35mBias against Female. Unfairness measure = 1.59.\u001b[39m\n",
      "If \u001b[1marea = Unknown, college_educated = 1, homeowner = 0, income = <100K\u001b[0m:\n",
      "\tSubgroup '\u001b[1mFemale\u001b[0m', \u001b[34m1.24%\u001b[39m covered out of 600135\n",
      "\t\tMake \u001b[1m\u001b[31marea = Urban\u001b[39m, \u001b[31mhomeowner = 1\u001b[39m, \u001b[31mincome = Unknown\u001b[39m\u001b[0m with correctness \u001b[32m0.00%\u001b[39m.\n",
      "\t\tMake \u001b[1m\u001b[31mincome = Unknown\u001b[39m\u001b[0m with correctness \u001b[32m0.00%\u001b[39m.\n",
      "\t\tMake \u001b[1m\u001b[31marea = Rural\u001b[39m, \u001b[31mhomeowner = 1\u001b[39m, \u001b[31mincome = Unknown\u001b[39m\u001b[0m with correctness \u001b[32m0.00%\u001b[39m.\n",
      "\t\tMake \u001b[1m\u001b[31mcollege_educated = 0\u001b[39m, \u001b[31mincome = Unknown\u001b[39m\u001b[0m with correctness \u001b[32m89.45%\u001b[39m.\n",
      "\t\tMake \u001b[1m\u001b[31marea = Urban\u001b[39m, \u001b[31mcollege_educated = 0\u001b[39m, \u001b[31mhomeowner = 1\u001b[39m, \u001b[31mincome = Unknown\u001b[39m\u001b[0m with correctness \u001b[32m0.00%\u001b[39m.\n",
      "\t\tMake \u001b[1m\u001b[31mincome = >100K\u001b[39m\u001b[0m with correctness \u001b[32m0.00%\u001b[39m.\n",
      "\t\tMake \u001b[1m\u001b[31marea = Urban\u001b[39m, \u001b[31mincome = Unknown\u001b[39m\u001b[0m with correctness \u001b[32m89.50%\u001b[39m.\n",
      "\t\t\u001b[1mAggregate cost\u001b[0m of the above recourses = \u001b[35m-0.5\u001b[39m\n",
      "\tSubgroup '\u001b[1mMale\u001b[0m', \u001b[34m1.82%\u001b[39m covered out of 314181\n",
      "\t\tMake \u001b[1m\u001b[31marea = Urban\u001b[39m, \u001b[31mhomeowner = 1\u001b[39m, \u001b[31mincome = Unknown\u001b[39m\u001b[0m with correctness \u001b[32m90.96%\u001b[39m.\n",
      "\t\tMake \u001b[1m\u001b[31mincome = Unknown\u001b[39m\u001b[0m with correctness \u001b[32m90.96%\u001b[39m.\n",
      "\t\tMake \u001b[1m\u001b[31marea = Rural\u001b[39m, \u001b[31mhomeowner = 1\u001b[39m, \u001b[31mincome = Unknown\u001b[39m\u001b[0m with correctness \u001b[32m90.96%\u001b[39m.\n",
      "\t\tMake \u001b[1m\u001b[31mcollege_educated = 0\u001b[39m, \u001b[31mincome = Unknown\u001b[39m\u001b[0m with correctness \u001b[32m90.96%\u001b[39m.\n",
      "\t\tMake \u001b[1m\u001b[31marea = Urban\u001b[39m, \u001b[31mcollege_educated = 0\u001b[39m, \u001b[31mhomeowner = 1\u001b[39m, \u001b[31mincome = Unknown\u001b[39m\u001b[0m with correctness \u001b[32m90.96%\u001b[39m.\n",
      "\t\tMake \u001b[1m\u001b[31mincome = >100K\u001b[39m\u001b[0m with correctness \u001b[32m90.96%\u001b[39m.\n",
      "\t\tMake \u001b[1m\u001b[31marea = Urban\u001b[39m, \u001b[31mincome = Unknown\u001b[39m\u001b[0m with correctness \u001b[32m97.13%\u001b[39m.\n",
      "\t\t\u001b[1mAggregate cost\u001b[0m of the above recourses = \u001b[35m-2e+00\u001b[39m\n",
      "\t\u001b[35mBias against Female. Unfairness measure = 1.59.\u001b[39m\n",
      "If \u001b[1marea = Unknown, homeowner = 0, income = <100K, parents = 1\u001b[0m:\n",
      "\tSubgroup '\u001b[1mFemale\u001b[0m', \u001b[34m1.24%\u001b[39m covered out of 600135\n",
      "\t\tMake \u001b[1m\u001b[31marea = Urban\u001b[39m, \u001b[31mhomeowner = 1\u001b[39m, \u001b[31mincome = Unknown\u001b[39m\u001b[0m with correctness \u001b[32m0.00%\u001b[39m.\n",
      "\t\tMake \u001b[1m\u001b[31mincome = Unknown\u001b[39m\u001b[0m with correctness \u001b[32m5.22%\u001b[39m.\n",
      "\t\tMake \u001b[1m\u001b[31marea = Rural\u001b[39m, \u001b[31mhomeowner = 1\u001b[39m, \u001b[31mincome = Unknown\u001b[39m\u001b[0m with correctness \u001b[32m0.00%\u001b[39m.\n",
      "\t\tMake \u001b[1m\u001b[31mincome = >100K\u001b[39m\u001b[0m with correctness \u001b[32m5.22%\u001b[39m.\n",
      "\t\tMake \u001b[1m\u001b[31marea = Urban\u001b[39m, \u001b[31mincome = Unknown\u001b[39m\u001b[0m with correctness \u001b[32m94.60%\u001b[39m.\n",
      "\t\t\u001b[1mAggregate cost\u001b[0m of the above recourses = \u001b[35m-0.4\u001b[39m\n",
      "\tSubgroup '\u001b[1mMale\u001b[0m', \u001b[34m1.74%\u001b[39m covered out of 314181\n",
      "\t\tMake \u001b[1m\u001b[31marea = Urban\u001b[39m, \u001b[31mhomeowner = 1\u001b[39m, \u001b[31mincome = Unknown\u001b[39m\u001b[0m with correctness \u001b[32m95.44%\u001b[39m.\n",
      "\t\tMake \u001b[1m\u001b[31mincome = Unknown\u001b[39m\u001b[0m with correctness \u001b[32m95.44%\u001b[39m.\n",
      "\t\tMake \u001b[1m\u001b[31marea = Rural\u001b[39m, \u001b[31mhomeowner = 1\u001b[39m, \u001b[31mincome = Unknown\u001b[39m\u001b[0m with correctness \u001b[32m95.44%\u001b[39m.\n",
      "\t\tMake \u001b[1m\u001b[31mincome = >100K\u001b[39m\u001b[0m with correctness \u001b[32m95.44%\u001b[39m.\n",
      "\t\tMake \u001b[1m\u001b[31marea = Urban\u001b[39m, \u001b[31mincome = Unknown\u001b[39m\u001b[0m with correctness \u001b[32m97.54%\u001b[39m.\n",
      "\t\t\u001b[1mAggregate cost\u001b[0m of the above recourses = \u001b[35m-2e+00\u001b[39m\n",
      "\t\u001b[35mBias against Female. Unfairness measure = 1.52.\u001b[39m\n",
      "If \u001b[1marea = Unknown, college_educated = 1, homeowner = 1, income = <100K, parents = 1\u001b[0m:\n",
      "\tSubgroup '\u001b[1mFemale\u001b[0m', \u001b[34m1.21%\u001b[39m covered out of 600135\n",
      "\t\tMake \u001b[1m\u001b[31marea = Urban\u001b[39m, \u001b[31mincome = Unknown\u001b[39m\u001b[0m with correctness \u001b[32m1.53%\u001b[39m.\n",
      "\t\tMake \u001b[1m\u001b[31mhomeowner = 0\u001b[39m, \u001b[31mincome = Unknown\u001b[39m\u001b[0m with correctness \u001b[32m1.53%\u001b[39m.\n",
      "\t\tMake \u001b[1m\u001b[31marea = Rural\u001b[39m, \u001b[31mincome = Unknown\u001b[39m\u001b[0m with correctness \u001b[32m1.53%\u001b[39m.\n",
      "\t\tMake \u001b[1m\u001b[31mcollege_educated = 0\u001b[39m, \u001b[31mhomeowner = 0\u001b[39m, \u001b[31mincome = Unknown\u001b[39m\u001b[0m with correctness \u001b[32m95.44%\u001b[39m.\n",
      "\t\tMake \u001b[1m\u001b[31marea = Urban\u001b[39m, \u001b[31mcollege_educated = 0\u001b[39m, \u001b[31mincome = Unknown\u001b[39m\u001b[0m with correctness \u001b[32m1.53%\u001b[39m.\n",
      "\t\tMake \u001b[1m\u001b[31mhomeowner = 0\u001b[39m, \u001b[31mincome = >100K\u001b[39m\u001b[0m with correctness \u001b[32m1.53%\u001b[39m.\n",
      "\t\tMake \u001b[1m\u001b[31marea = Urban\u001b[39m, \u001b[31mhomeowner = 0\u001b[39m, \u001b[31mincome = Unknown\u001b[39m\u001b[0m with correctness \u001b[32m95.44%\u001b[39m.\n",
      "\t\t\u001b[1mAggregate cost\u001b[0m of the above recourses = \u001b[35m-0.8\u001b[39m\n",
      "\tSubgroup '\u001b[1mMale\u001b[0m', \u001b[34m1.72%\u001b[39m covered out of 314181\n",
      "\t\tMake \u001b[1m\u001b[31marea = Urban\u001b[39m, \u001b[31mincome = Unknown\u001b[39m\u001b[0m with correctness \u001b[32m95.75%\u001b[39m.\n",
      "\t\tMake \u001b[1m\u001b[31mhomeowner = 0\u001b[39m, \u001b[31mincome = Unknown\u001b[39m\u001b[0m with correctness \u001b[32m95.75%\u001b[39m.\n",
      "\t\tMake \u001b[1m\u001b[31marea = Rural\u001b[39m, \u001b[31mincome = Unknown\u001b[39m\u001b[0m with correctness \u001b[32m95.75%\u001b[39m.\n",
      "\t\tMake \u001b[1m\u001b[31mcollege_educated = 0\u001b[39m, \u001b[31mhomeowner = 0\u001b[39m, \u001b[31mincome = Unknown\u001b[39m\u001b[0m with correctness \u001b[32m95.75%\u001b[39m.\n",
      "\t\tMake \u001b[1m\u001b[31marea = Urban\u001b[39m, \u001b[31mcollege_educated = 0\u001b[39m, \u001b[31mincome = Unknown\u001b[39m\u001b[0m with correctness \u001b[32m95.75%\u001b[39m.\n",
      "\t\tMake \u001b[1m\u001b[31mhomeowner = 0\u001b[39m, \u001b[31mincome = >100K\u001b[39m\u001b[0m with correctness \u001b[32m95.75%\u001b[39m.\n",
      "\t\tMake \u001b[1m\u001b[31marea = Urban\u001b[39m, \u001b[31mhomeowner = 0\u001b[39m, \u001b[31mincome = Unknown\u001b[39m\u001b[0m with correctness \u001b[32m97.60%\u001b[39m.\n",
      "\t\t\u001b[1mAggregate cost\u001b[0m of the above recourses = \u001b[35m-2e+00\u001b[39m\n",
      "\t\u001b[35mBias against Female. Unfairness measure = 1.49.\u001b[39m\n",
      "If \u001b[1marea = Unknown, homeowner = 1, income = <100K, parents = 1\u001b[0m:\n",
      "\tSubgroup '\u001b[1mFemale\u001b[0m', \u001b[34m1.28%\u001b[39m covered out of 600135\n",
      "\t\tMake \u001b[1m\u001b[31marea = Urban\u001b[39m, \u001b[31mincome = Unknown\u001b[39m\u001b[0m with correctness \u001b[32m1.54%\u001b[39m.\n",
      "\t\tMake \u001b[1m\u001b[31mhomeowner = 0\u001b[39m, \u001b[31mincome = Unknown\u001b[39m\u001b[0m with correctness \u001b[32m6.61%\u001b[39m.\n",
      "\t\tMake \u001b[1m\u001b[31marea = Rural\u001b[39m, \u001b[31mincome = Unknown\u001b[39m\u001b[0m with correctness \u001b[32m1.54%\u001b[39m.\n",
      "\t\tMake \u001b[1m\u001b[31mhomeowner = 0\u001b[39m, \u001b[31mincome = >100K\u001b[39m\u001b[0m with correctness \u001b[32m6.61%\u001b[39m.\n",
      "\t\tMake \u001b[1m\u001b[31marea = Urban\u001b[39m, \u001b[31mhomeowner = 0\u001b[39m, \u001b[31mincome = Unknown\u001b[39m\u001b[0m with correctness \u001b[32m95.59%\u001b[39m.\n",
      "\t\t\u001b[1mAggregate cost\u001b[0m of the above recourses = \u001b[35m-0.6\u001b[39m\n",
      "\tSubgroup '\u001b[1mMale\u001b[0m', \u001b[34m1.81%\u001b[39m covered out of 314181\n",
      "\t\tMake \u001b[1m\u001b[31marea = Urban\u001b[39m, \u001b[31mincome = Unknown\u001b[39m\u001b[0m with correctness \u001b[32m95.88%\u001b[39m.\n",
      "\t\tMake \u001b[1m\u001b[31mhomeowner = 0\u001b[39m, \u001b[31mincome = Unknown\u001b[39m\u001b[0m with correctness \u001b[32m95.88%\u001b[39m.\n",
      "\t\tMake \u001b[1m\u001b[31marea = Rural\u001b[39m, \u001b[31mincome = Unknown\u001b[39m\u001b[0m with correctness \u001b[32m95.88%\u001b[39m.\n",
      "\t\tMake \u001b[1m\u001b[31mhomeowner = 0\u001b[39m, \u001b[31mincome = >100K\u001b[39m\u001b[0m with correctness \u001b[32m95.88%\u001b[39m.\n",
      "\t\tMake \u001b[1m\u001b[31marea = Urban\u001b[39m, \u001b[31mhomeowner = 0\u001b[39m, \u001b[31mincome = Unknown\u001b[39m\u001b[0m with correctness \u001b[32m97.72%\u001b[39m.\n",
      "\t\t\u001b[1mAggregate cost\u001b[0m of the above recourses = \u001b[35m-2e+00\u001b[39m\n",
      "\t\u001b[35mBias against Female. Unfairness measure = 1.48.\u001b[39m\n",
      "If \u001b[1marea = Unknown, homeowner = 0, income = <100K\u001b[0m:\n",
      "\tSubgroup '\u001b[1mFemale\u001b[0m', \u001b[34m1.31%\u001b[39m covered out of 600135\n",
      "\t\tMake \u001b[1m\u001b[31marea = Urban\u001b[39m, \u001b[31mhomeowner = 1\u001b[39m, \u001b[31mincome = Unknown\u001b[39m\u001b[0m with correctness \u001b[32m0.00%\u001b[39m.\n",
      "\t\tMake \u001b[1m\u001b[31mincome = Unknown\u001b[39m\u001b[0m with correctness \u001b[32m4.94%\u001b[39m.\n",
      "\t\tMake \u001b[1m\u001b[31marea = Rural\u001b[39m, \u001b[31mhomeowner = 1\u001b[39m, \u001b[31mincome = Unknown\u001b[39m\u001b[0m with correctness \u001b[32m0.00%\u001b[39m.\n",
      "\t\tMake \u001b[1m\u001b[31mincome = >100K\u001b[39m\u001b[0m with correctness \u001b[32m4.94%\u001b[39m.\n",
      "\t\tMake \u001b[1m\u001b[31marea = Urban\u001b[39m, \u001b[31mincome = Unknown\u001b[39m\u001b[0m with correctness \u001b[32m89.94%\u001b[39m.\n",
      "\t\t\u001b[1mAggregate cost\u001b[0m of the above recourses = \u001b[35m-0.4\u001b[39m\n",
      "\tSubgroup '\u001b[1mMale\u001b[0m', \u001b[34m1.83%\u001b[39m covered out of 314181\n",
      "\t\tMake \u001b[1m\u001b[31marea = Urban\u001b[39m, \u001b[31mhomeowner = 1\u001b[39m, \u001b[31mincome = Unknown\u001b[39m\u001b[0m with correctness \u001b[32m90.56%\u001b[39m.\n",
      "\t\tMake \u001b[1m\u001b[31mincome = Unknown\u001b[39m\u001b[0m with correctness \u001b[32m90.56%\u001b[39m.\n",
      "\t\tMake \u001b[1m\u001b[31marea = Rural\u001b[39m, \u001b[31mhomeowner = 1\u001b[39m, \u001b[31mincome = Unknown\u001b[39m\u001b[0m with correctness \u001b[32m90.56%\u001b[39m.\n",
      "\t\tMake \u001b[1m\u001b[31mincome = >100K\u001b[39m\u001b[0m with correctness \u001b[32m90.56%\u001b[39m.\n",
      "\t\tMake \u001b[1m\u001b[31marea = Urban\u001b[39m, \u001b[31mincome = Unknown\u001b[39m\u001b[0m with correctness \u001b[32m97.14%\u001b[39m.\n",
      "\t\t\u001b[1mAggregate cost\u001b[0m of the above recourses = \u001b[35m-2e+00\u001b[39m\n",
      "\t\u001b[35mBias against Female. Unfairness measure = 1.46.\u001b[39m\n",
      "\n"
     ]
    }
   ],
   "source": [
    "top_rules, subgroup_costs = gfacts.select_rules_subset(\n",
    "    rules_by_if,\n",
    "    metric = \"weighted-average\",\n",
    "    sort_strategy = \"abs-diff-decr\",\n",
    "    top_count = 10\n",
    ")\n",
    "\n",
    "pop_sizes = {sg: (ad_conversion_dataset[\"gender\"] == sg).sum() for sg in ad_conversion_dataset[\"gender\"].unique()}\n",
    "print(recourse_report_reverse(\n",
    "    top_rules,\n",
    "    population_sizes=pop_sizes,\n",
    "    subgroup_costs=subgroup_costs,\n",
    "    show_subgroup_costs=True\n",
    "))"
   ]
  },
  {
   "cell_type": "markdown",
   "id": "b68eb89f-39e1-4143-93aa-5367b5356b40",
   "metadata": {},
   "source": [
    "## Minimum cost above threshold"
   ]
  },
  {
   "cell_type": "code",
   "execution_count": 16,
   "id": "df56bb6f-2359-4108-8b03-326caf4f37a4",
   "metadata": {
    "tags": []
   },
   "outputs": [
    {
     "name": "stdout",
     "output_type": "stream",
     "text": [
      "If \u001b[1mhomeowner = 1\u001b[0m:\n",
      "\tSubgroup '\u001b[1mFemale\u001b[0m', \u001b[34m88.78%\u001b[39m covered out of 600135\n",
      "\t\t\u001b[31mNo recourses for this subgroup!\n",
      "\u001b[39m\t\t\u001b[1mAggregate cost\u001b[0m of the above recourses = \u001b[35minf\u001b[39m\n",
      "\tSubgroup '\u001b[1mMale\u001b[0m', \u001b[34m96.57%\u001b[39m covered out of 314181\n",
      "\t\tMake \u001b[1m\u001b[31mhomeowner = 0\u001b[39m\u001b[0m with correctness \u001b[32m87.70%\u001b[39m.\n",
      "\t\t\u001b[1mAggregate cost\u001b[0m of the above recourses = \u001b[35m1e+00\u001b[39m\n",
      "\t\u001b[35mBias against Female. Unfairness measure = inf.\u001b[39m\n",
      "If \u001b[1mhomeowner = 1, income = Unknown\u001b[0m:\n",
      "\tSubgroup '\u001b[1mFemale\u001b[0m', \u001b[34m86.17%\u001b[39m covered out of 600135\n",
      "\t\t\u001b[31mNo recourses for this subgroup!\n",
      "\u001b[39m\t\t\u001b[1mAggregate cost\u001b[0m of the above recourses = \u001b[35minf\u001b[39m\n",
      "\tSubgroup '\u001b[1mMale\u001b[0m', \u001b[34m93.09%\u001b[39m covered out of 314181\n",
      "\t\tMake \u001b[1m\u001b[31mhomeowner = 0\u001b[39m\u001b[0m with correctness \u001b[32m89.30%\u001b[39m.\n",
      "\t\tMake \u001b[1m\u001b[31mhomeowner = 0\u001b[39m, \u001b[31mincome = >100K\u001b[39m\u001b[0m with correctness \u001b[32m89.31%\u001b[39m.\n",
      "\t\t\u001b[1mAggregate cost\u001b[0m of the above recourses = \u001b[35m1e+00\u001b[39m\n",
      "\t\u001b[35mBias against Female. Unfairness measure = inf.\u001b[39m\n",
      "If \u001b[1mhomeowner = 1, parents = 1\u001b[0m:\n",
      "\tSubgroup '\u001b[1mFemale\u001b[0m', \u001b[34m83.92%\u001b[39m covered out of 600135\n",
      "\t\t\u001b[31mNo recourses for this subgroup!\n",
      "\u001b[39m\t\t\u001b[1mAggregate cost\u001b[0m of the above recourses = \u001b[35minf\u001b[39m\n",
      "\tSubgroup '\u001b[1mMale\u001b[0m', \u001b[34m89.45%\u001b[39m covered out of 314181\n",
      "\t\tMake \u001b[1m\u001b[31mhomeowner = 0\u001b[39m\u001b[0m with correctness \u001b[32m92.43%\u001b[39m.\n",
      "\t\t\u001b[1mAggregate cost\u001b[0m of the above recourses = \u001b[35m1e+00\u001b[39m\n",
      "\t\u001b[35mBias against Female. Unfairness measure = inf.\u001b[39m\n",
      "If \u001b[1mhomeowner = 1, income = Unknown, parents = 1\u001b[0m:\n",
      "\tSubgroup '\u001b[1mFemale\u001b[0m', \u001b[34m81.45%\u001b[39m covered out of 600135\n",
      "\t\t\u001b[31mNo recourses for this subgroup!\n",
      "\u001b[39m\t\t\u001b[1mAggregate cost\u001b[0m of the above recourses = \u001b[35minf\u001b[39m\n",
      "\tSubgroup '\u001b[1mMale\u001b[0m', \u001b[34m86.13%\u001b[39m covered out of 314181\n",
      "\t\tMake \u001b[1m\u001b[31mhomeowner = 0\u001b[39m\u001b[0m with correctness \u001b[32m94.19%\u001b[39m.\n",
      "\t\tMake \u001b[1m\u001b[31mhomeowner = 0\u001b[39m, \u001b[31mincome = >100K\u001b[39m\u001b[0m with correctness \u001b[32m94.20%\u001b[39m.\n",
      "\t\t\u001b[1mAggregate cost\u001b[0m of the above recourses = \u001b[35m1e+00\u001b[39m\n",
      "\t\u001b[35mBias against Female. Unfairness measure = inf.\u001b[39m\n",
      "If \u001b[1marea = Unknown\u001b[0m:\n",
      "\tSubgroup '\u001b[1mFemale\u001b[0m', \u001b[34m73.97%\u001b[39m covered out of 600135\n",
      "\t\t\u001b[31mNo recourses for this subgroup!\n",
      "\u001b[39m\t\t\u001b[1mAggregate cost\u001b[0m of the above recourses = \u001b[35minf\u001b[39m\n",
      "\tSubgroup '\u001b[1mMale\u001b[0m', \u001b[34m95.80%\u001b[39m covered out of 314181\n",
      "\t\tMake \u001b[1m\u001b[31marea = Urban\u001b[39m\u001b[0m with correctness \u001b[32m88.31%\u001b[39m.\n",
      "\t\tMake \u001b[1m\u001b[31marea = Rural\u001b[39m\u001b[0m with correctness \u001b[32m88.25%\u001b[39m.\n",
      "\t\t\u001b[1mAggregate cost\u001b[0m of the above recourses = \u001b[35m1e+00\u001b[39m\n",
      "\t\u001b[35mBias against Female. Unfairness measure = inf.\u001b[39m\n",
      "If \u001b[1marea = Unknown, college_educated = 1\u001b[0m:\n",
      "\tSubgroup '\u001b[1mFemale\u001b[0m', \u001b[34m70.24%\u001b[39m covered out of 600135\n",
      "\t\t\u001b[31mNo recourses for this subgroup!\n",
      "\u001b[39m\t\t\u001b[1mAggregate cost\u001b[0m of the above recourses = \u001b[35minf\u001b[39m\n",
      "\tSubgroup '\u001b[1mMale\u001b[0m', \u001b[34m90.51%\u001b[39m covered out of 314181\n",
      "\t\tMake \u001b[1m\u001b[31marea = Urban\u001b[39m\u001b[0m with correctness \u001b[32m88.20%\u001b[39m.\n",
      "\t\tMake \u001b[1m\u001b[31marea = Rural\u001b[39m\u001b[0m with correctness \u001b[32m88.16%\u001b[39m.\n",
      "\t\tMake \u001b[1m\u001b[31marea = Urban\u001b[39m, \u001b[31mcollege_educated = 0\u001b[39m\u001b[0m with correctness \u001b[32m90.44%\u001b[39m.\n",
      "\t\t\u001b[1mAggregate cost\u001b[0m of the above recourses = \u001b[35m1e+00\u001b[39m\n",
      "\t\u001b[35mBias against Female. Unfairness measure = inf.\u001b[39m\n",
      "If \u001b[1marea = Unknown, parents = 1\u001b[0m:\n",
      "\tSubgroup '\u001b[1mFemale\u001b[0m', \u001b[34m69.95%\u001b[39m covered out of 600135\n",
      "\t\t\u001b[31mNo recourses for this subgroup!\n",
      "\u001b[39m\t\t\u001b[1mAggregate cost\u001b[0m of the above recourses = \u001b[35minf\u001b[39m\n",
      "\tSubgroup '\u001b[1mMale\u001b[0m', \u001b[34m89.84%\u001b[39m covered out of 314181\n",
      "\t\tMake \u001b[1m\u001b[31marea = Urban\u001b[39m\u001b[0m with correctness \u001b[32m93.19%\u001b[39m.\n",
      "\t\tMake \u001b[1m\u001b[31marea = Rural\u001b[39m\u001b[0m with correctness \u001b[32m93.12%\u001b[39m.\n",
      "\t\t\u001b[1mAggregate cost\u001b[0m of the above recourses = \u001b[35m1e+00\u001b[39m\n",
      "\t\u001b[35mBias against Female. Unfairness measure = inf.\u001b[39m\n",
      "If \u001b[1marea = Unknown, income = Unknown\u001b[0m:\n",
      "\tSubgroup '\u001b[1mFemale\u001b[0m', \u001b[34m69.70%\u001b[39m covered out of 600135\n",
      "\t\t\u001b[31mNo recourses for this subgroup!\n",
      "\u001b[39m\t\t\u001b[1mAggregate cost\u001b[0m of the above recourses = \u001b[35minf\u001b[39m\n",
      "\tSubgroup '\u001b[1mMale\u001b[0m', \u001b[34m90.63%\u001b[39m covered out of 314181\n",
      "\t\tMake \u001b[1m\u001b[31marea = Urban\u001b[39m\u001b[0m with correctness \u001b[32m89.84%\u001b[39m.\n",
      "\t\tMake \u001b[1m\u001b[31marea = Rural\u001b[39m\u001b[0m with correctness \u001b[32m89.81%\u001b[39m.\n",
      "\t\t\u001b[1mAggregate cost\u001b[0m of the above recourses = \u001b[35m1e+00\u001b[39m\n",
      "\t\u001b[35mBias against Female. Unfairness measure = inf.\u001b[39m\n",
      "If \u001b[1marea = Unknown, college_educated = 1, parents = 1\u001b[0m:\n",
      "\tSubgroup '\u001b[1mFemale\u001b[0m', \u001b[34m66.44%\u001b[39m covered out of 600135\n",
      "\t\t\u001b[31mNo recourses for this subgroup!\n",
      "\u001b[39m\t\t\u001b[1mAggregate cost\u001b[0m of the above recourses = \u001b[35minf\u001b[39m\n",
      "\tSubgroup '\u001b[1mMale\u001b[0m', \u001b[34m84.87%\u001b[39m covered out of 314181\n",
      "\t\tMake \u001b[1m\u001b[31marea = Urban\u001b[39m\u001b[0m with correctness \u001b[32m93.08%\u001b[39m.\n",
      "\t\tMake \u001b[1m\u001b[31marea = Rural\u001b[39m\u001b[0m with correctness \u001b[32m93.04%\u001b[39m.\n",
      "\t\tMake \u001b[1m\u001b[31marea = Urban\u001b[39m, \u001b[31mcollege_educated = 0\u001b[39m\u001b[0m with correctness \u001b[32m95.47%\u001b[39m.\n",
      "\t\t\u001b[1mAggregate cost\u001b[0m of the above recourses = \u001b[35m1e+00\u001b[39m\n",
      "\t\u001b[35mBias against Female. Unfairness measure = inf.\u001b[39m\n",
      "If \u001b[1marea = Unknown, college_educated = 1, income = Unknown\u001b[0m:\n",
      "\tSubgroup '\u001b[1mFemale\u001b[0m', \u001b[34m66.16%\u001b[39m covered out of 600135\n",
      "\t\t\u001b[31mNo recourses for this subgroup!\n",
      "\u001b[39m\t\t\u001b[1mAggregate cost\u001b[0m of the above recourses = \u001b[35minf\u001b[39m\n",
      "\tSubgroup '\u001b[1mMale\u001b[0m', \u001b[34m85.52%\u001b[39m covered out of 314181\n",
      "\t\tMake \u001b[1m\u001b[31marea = Urban\u001b[39m\u001b[0m with correctness \u001b[32m89.82%\u001b[39m.\n",
      "\t\tMake \u001b[1m\u001b[31marea = Rural\u001b[39m\u001b[0m with correctness \u001b[32m89.82%\u001b[39m.\n",
      "\t\tMake \u001b[1m\u001b[31marea = Urban\u001b[39m, \u001b[31mcollege_educated = 0\u001b[39m\u001b[0m with correctness \u001b[32m90.26%\u001b[39m.\n",
      "\t\t\u001b[1mAggregate cost\u001b[0m of the above recourses = \u001b[35m1e+00\u001b[39m\n",
      "\t\u001b[35mBias against Female. Unfairness measure = inf.\u001b[39m\n",
      "\n"
     ]
    }
   ],
   "source": [
    "top_rules, subgroup_costs = gfacts.select_rules_subset(\n",
    "    rules_by_if,\n",
    "    metric=\"min-above-thr\",\n",
    "    sort_strategy=\"abs-diff-decr-ignore-forall-subgroups-empty\",\n",
    "    top_count=10,\n",
    "    cor_threshold=0.5,\n",
    "    filter_sequence=[\"remove-below-thr\", \"remove-fair-rules\"],\n",
    "    secondary_sorting=True\n",
    ")\n",
    "\n",
    "pop_sizes = {sg: (ad_conversion_dataset[\"gender\"] == sg).sum() for sg in ad_conversion_dataset[\"gender\"].unique()}\n",
    "print(recourse_report_reverse(\n",
    "    top_rules,\n",
    "    population_sizes = pop_sizes,\n",
    "    subgroup_costs=subgroup_costs,\n",
    "    show_subgroup_costs=True\n",
    "))"
   ]
  },
  {
   "cell_type": "code",
   "execution_count": 16,
   "id": "35f49080-8d08-4c43-aac7-02b0a466dd5e",
   "metadata": {
    "tags": []
   },
   "outputs": [
    {
     "name": "stdout",
     "output_type": "stream",
     "text": [
      "If \u001b[1mage = 55-64, homeowner = 0\u001b[0m:\n",
      "\tSubgroup '\u001b[1mFemale\u001b[0m', \u001b[34m1.94%\u001b[39m covered out of 600135\n",
      "\t\t\u001b[31mNo recourses for this subgroup!\n",
      "\u001b[39m\t\t\u001b[1mAggregate cost\u001b[0m of the above recourses = \u001b[35minf\u001b[39m\n",
      "\tSubgroup '\u001b[1mMale\u001b[0m', \u001b[34m1.90%\u001b[39m covered out of 314181\n",
      "\t\tMake \u001b[1m\u001b[31mage = 25-34\u001b[39m\u001b[0m with correctness \u001b[32m66.44%\u001b[39m.\n",
      "\t\t\u001b[1mAggregate cost\u001b[0m of the above recourses = \u001b[35m1e+00\u001b[39m\n",
      "\t\u001b[35mBias against Female. Unfairness measure = inf.\u001b[39m\n",
      "If \u001b[1marea = Unknown, age = 55-64, homeowner = 0\u001b[0m:\n",
      "\tSubgroup '\u001b[1mFemale\u001b[0m', \u001b[34m1.93%\u001b[39m covered out of 600135\n",
      "\t\t\u001b[31mNo recourses for this subgroup!\n",
      "\u001b[39m\t\t\u001b[1mAggregate cost\u001b[0m of the above recourses = \u001b[35minf\u001b[39m\n",
      "\tSubgroup '\u001b[1mMale\u001b[0m', \u001b[34m1.89%\u001b[39m covered out of 314181\n",
      "\t\tMake \u001b[1m\u001b[31mage = 25-34\u001b[39m\u001b[0m with correctness \u001b[32m66.35%\u001b[39m.\n",
      "\t\t\u001b[1mAggregate cost\u001b[0m of the above recourses = \u001b[35m1e+00\u001b[39m\n",
      "\t\u001b[35mBias against Female. Unfairness measure = inf.\u001b[39m\n",
      "If \u001b[1mage = 55-64, homeowner = 0, college_educated = 1\u001b[0m:\n",
      "\tSubgroup '\u001b[1mFemale\u001b[0m', \u001b[34m1.84%\u001b[39m covered out of 600135\n",
      "\t\t\u001b[31mNo recourses for this subgroup!\n",
      "\u001b[39m\t\t\u001b[1mAggregate cost\u001b[0m of the above recourses = \u001b[35minf\u001b[39m\n",
      "\tSubgroup '\u001b[1mMale\u001b[0m', \u001b[34m1.80%\u001b[39m covered out of 314181\n",
      "\t\tMake \u001b[1m\u001b[31mage = 25-34\u001b[39m\u001b[0m with correctness \u001b[32m66.67%\u001b[39m.\n",
      "\t\t\u001b[1mAggregate cost\u001b[0m of the above recourses = \u001b[35m1e+00\u001b[39m\n",
      "\t\u001b[35mBias against Female. Unfairness measure = inf.\u001b[39m\n",
      "If \u001b[1marea = Unknown, age = 55-64, homeowner = 0, college_educated = 1\u001b[0m:\n",
      "\tSubgroup '\u001b[1mFemale\u001b[0m', \u001b[34m1.82%\u001b[39m covered out of 600135\n",
      "\t\t\u001b[31mNo recourses for this subgroup!\n",
      "\u001b[39m\t\t\u001b[1mAggregate cost\u001b[0m of the above recourses = \u001b[35minf\u001b[39m\n",
      "\tSubgroup '\u001b[1mMale\u001b[0m', \u001b[34m1.79%\u001b[39m covered out of 314181\n",
      "\t\tMake \u001b[1m\u001b[31mage = 25-34\u001b[39m\u001b[0m with correctness \u001b[32m66.58%\u001b[39m.\n",
      "\t\t\u001b[1mAggregate cost\u001b[0m of the above recourses = \u001b[35m1e+00\u001b[39m\n",
      "\t\u001b[35mBias against Female. Unfairness measure = inf.\u001b[39m\n",
      "If \u001b[1mage = 55-64, parents = 1, homeowner = 0\u001b[0m:\n",
      "\tSubgroup '\u001b[1mFemale\u001b[0m', \u001b[34m1.26%\u001b[39m covered out of 600135\n",
      "\t\t\u001b[31mNo recourses for this subgroup!\n",
      "\u001b[39m\t\t\u001b[1mAggregate cost\u001b[0m of the above recourses = \u001b[35minf\u001b[39m\n",
      "\tSubgroup '\u001b[1mMale\u001b[0m', \u001b[34m1.26%\u001b[39m covered out of 314181\n",
      "\t\tMake \u001b[1m\u001b[31mage = 25-34\u001b[39m\u001b[0m with correctness \u001b[32m100.00%\u001b[39m.\n",
      "\t\t\u001b[1mAggregate cost\u001b[0m of the above recourses = \u001b[35m1e+00\u001b[39m\n",
      "\t\u001b[35mBias against Female. Unfairness measure = inf.\u001b[39m\n",
      "If \u001b[1marea = Unknown, age = 55-64, parents = 1, homeowner = 0\u001b[0m:\n",
      "\tSubgroup '\u001b[1mFemale\u001b[0m', \u001b[34m1.26%\u001b[39m covered out of 600135\n",
      "\t\t\u001b[31mNo recourses for this subgroup!\n",
      "\u001b[39m\t\t\u001b[1mAggregate cost\u001b[0m of the above recourses = \u001b[35minf\u001b[39m\n",
      "\tSubgroup '\u001b[1mMale\u001b[0m', \u001b[34m1.26%\u001b[39m covered out of 314181\n",
      "\t\tMake \u001b[1m\u001b[31mage = 25-34\u001b[39m\u001b[0m with correctness \u001b[32m100.00%\u001b[39m.\n",
      "\t\t\u001b[1mAggregate cost\u001b[0m of the above recourses = \u001b[35m1e+00\u001b[39m\n",
      "\t\u001b[35mBias against Female. Unfairness measure = inf.\u001b[39m\n",
      "If \u001b[1mage = 55-64, parents = 1, homeowner = 0, college_educated = 1\u001b[0m:\n",
      "\tSubgroup '\u001b[1mFemale\u001b[0m', \u001b[34m1.19%\u001b[39m covered out of 600135\n",
      "\t\t\u001b[31mNo recourses for this subgroup!\n",
      "\u001b[39m\t\t\u001b[1mAggregate cost\u001b[0m of the above recourses = \u001b[35minf\u001b[39m\n",
      "\tSubgroup '\u001b[1mMale\u001b[0m', \u001b[34m1.19%\u001b[39m covered out of 314181\n",
      "\t\tMake \u001b[1m\u001b[31mage = 25-34\u001b[39m\u001b[0m with correctness \u001b[32m100.00%\u001b[39m.\n",
      "\t\t\u001b[1mAggregate cost\u001b[0m of the above recourses = \u001b[35m1e+00\u001b[39m\n",
      "\t\u001b[35mBias against Female. Unfairness measure = inf.\u001b[39m\n",
      "\n"
     ]
    }
   ],
   "source": [
    "top_rules, subgroup_costs = gfacts.select_rules_subset(\n",
    "    rules_by_if,\n",
    "    metric=\"min-above-thr\",\n",
    "    sort_strategy=\"abs-diff-decr-ignore-forall-subgroups-empty\",\n",
    "    top_count=10,\n",
    "    cor_threshold=0.5,\n",
    "    filter_sequence=[\"remove-below-thr\", \"remove-fair-rules\"],\n",
    "    secondary_sorting=True\n",
    ")\n",
    "\n",
    "pop_sizes = {sg: (ad_conversion_dataset[\"gender\"] == sg).sum() for sg in ad_conversion_dataset[\"gender\"].unique()}\n",
    "print(recourse_report_reverse(\n",
    "    top_rules,\n",
    "    population_sizes = pop_sizes,\n",
    "    subgroup_costs=subgroup_costs,\n",
    "    show_subgroup_costs=True\n",
    "))"
   ]
  },
  {
   "cell_type": "markdown",
   "id": "0803e721-32f6-476e-b105-cff1c7e8bba0",
   "metadata": {},
   "source": [
    "## Mean cost above threshold"
   ]
  },
  {
   "cell_type": "code",
   "execution_count": 17,
   "id": "e4368275-1328-4cbd-ae81-e1facb6a4bc3",
   "metadata": {
    "tags": []
   },
   "outputs": [
    {
     "name": "stdout",
     "output_type": "stream",
     "text": [
      "If \u001b[1mage = 55-64, homeowner = 0\u001b[0m:\n",
      "\tSubgroup '\u001b[1mFemale\u001b[0m', \u001b[34m1.94%\u001b[39m covered out of 600135\n",
      "\t\t\u001b[31mNo recourses for this subgroup!\n",
      "\u001b[39m\t\t\u001b[1mAggregate cost\u001b[0m of the above recourses = \u001b[35minf\u001b[39m\n",
      "\tSubgroup '\u001b[1mMale\u001b[0m', \u001b[34m1.90%\u001b[39m covered out of 314181\n",
      "\t\tMake \u001b[1m\u001b[31mage = 25-34\u001b[39m\u001b[0m with correctness \u001b[32m66.44%\u001b[39m.\n",
      "\t\t\u001b[1mAggregate cost\u001b[0m of the above recourses = \u001b[35m1e+00\u001b[39m\n",
      "\t\u001b[35mBias against Female. Unfairness measure = inf.\u001b[39m\n",
      "If \u001b[1marea = Unknown, age = 55-64, homeowner = 0\u001b[0m:\n",
      "\tSubgroup '\u001b[1mFemale\u001b[0m', \u001b[34m1.93%\u001b[39m covered out of 600135\n",
      "\t\t\u001b[31mNo recourses for this subgroup!\n",
      "\u001b[39m\t\t\u001b[1mAggregate cost\u001b[0m of the above recourses = \u001b[35minf\u001b[39m\n",
      "\tSubgroup '\u001b[1mMale\u001b[0m', \u001b[34m1.89%\u001b[39m covered out of 314181\n",
      "\t\tMake \u001b[1m\u001b[31mage = 25-34\u001b[39m\u001b[0m with correctness \u001b[32m66.35%\u001b[39m.\n",
      "\t\t\u001b[1mAggregate cost\u001b[0m of the above recourses = \u001b[35m1e+00\u001b[39m\n",
      "\t\u001b[35mBias against Female. Unfairness measure = inf.\u001b[39m\n",
      "If \u001b[1mage = 55-64, homeowner = 0, college_educated = 1\u001b[0m:\n",
      "\tSubgroup '\u001b[1mFemale\u001b[0m', \u001b[34m1.84%\u001b[39m covered out of 600135\n",
      "\t\t\u001b[31mNo recourses for this subgroup!\n",
      "\u001b[39m\t\t\u001b[1mAggregate cost\u001b[0m of the above recourses = \u001b[35minf\u001b[39m\n",
      "\tSubgroup '\u001b[1mMale\u001b[0m', \u001b[34m1.80%\u001b[39m covered out of 314181\n",
      "\t\tMake \u001b[1m\u001b[31mage = 25-34\u001b[39m\u001b[0m with correctness \u001b[32m66.67%\u001b[39m.\n",
      "\t\t\u001b[1mAggregate cost\u001b[0m of the above recourses = \u001b[35m1e+00\u001b[39m\n",
      "\t\u001b[35mBias against Female. Unfairness measure = inf.\u001b[39m\n",
      "If \u001b[1marea = Unknown, age = 55-64, homeowner = 0, college_educated = 1\u001b[0m:\n",
      "\tSubgroup '\u001b[1mFemale\u001b[0m', \u001b[34m1.82%\u001b[39m covered out of 600135\n",
      "\t\t\u001b[31mNo recourses for this subgroup!\n",
      "\u001b[39m\t\t\u001b[1mAggregate cost\u001b[0m of the above recourses = \u001b[35minf\u001b[39m\n",
      "\tSubgroup '\u001b[1mMale\u001b[0m', \u001b[34m1.79%\u001b[39m covered out of 314181\n",
      "\t\tMake \u001b[1m\u001b[31mage = 25-34\u001b[39m\u001b[0m with correctness \u001b[32m66.58%\u001b[39m.\n",
      "\t\t\u001b[1mAggregate cost\u001b[0m of the above recourses = \u001b[35m1e+00\u001b[39m\n",
      "\t\u001b[35mBias against Female. Unfairness measure = inf.\u001b[39m\n",
      "If \u001b[1mage = 55-64, parents = 1, homeowner = 0\u001b[0m:\n",
      "\tSubgroup '\u001b[1mFemale\u001b[0m', \u001b[34m1.26%\u001b[39m covered out of 600135\n",
      "\t\t\u001b[31mNo recourses for this subgroup!\n",
      "\u001b[39m\t\t\u001b[1mAggregate cost\u001b[0m of the above recourses = \u001b[35minf\u001b[39m\n",
      "\tSubgroup '\u001b[1mMale\u001b[0m', \u001b[34m1.26%\u001b[39m covered out of 314181\n",
      "\t\tMake \u001b[1m\u001b[31mage = 25-34\u001b[39m\u001b[0m with correctness \u001b[32m100.00%\u001b[39m.\n",
      "\t\t\u001b[1mAggregate cost\u001b[0m of the above recourses = \u001b[35m1e+00\u001b[39m\n",
      "\t\u001b[35mBias against Female. Unfairness measure = inf.\u001b[39m\n",
      "If \u001b[1marea = Unknown, age = 55-64, parents = 1, homeowner = 0\u001b[0m:\n",
      "\tSubgroup '\u001b[1mFemale\u001b[0m', \u001b[34m1.26%\u001b[39m covered out of 600135\n",
      "\t\t\u001b[31mNo recourses for this subgroup!\n",
      "\u001b[39m\t\t\u001b[1mAggregate cost\u001b[0m of the above recourses = \u001b[35minf\u001b[39m\n",
      "\tSubgroup '\u001b[1mMale\u001b[0m', \u001b[34m1.26%\u001b[39m covered out of 314181\n",
      "\t\tMake \u001b[1m\u001b[31mage = 25-34\u001b[39m\u001b[0m with correctness \u001b[32m100.00%\u001b[39m.\n",
      "\t\t\u001b[1mAggregate cost\u001b[0m of the above recourses = \u001b[35m1e+00\u001b[39m\n",
      "\t\u001b[35mBias against Female. Unfairness measure = inf.\u001b[39m\n",
      "If \u001b[1mage = 55-64, parents = 1, homeowner = 0, college_educated = 1\u001b[0m:\n",
      "\tSubgroup '\u001b[1mFemale\u001b[0m', \u001b[34m1.19%\u001b[39m covered out of 600135\n",
      "\t\t\u001b[31mNo recourses for this subgroup!\n",
      "\u001b[39m\t\t\u001b[1mAggregate cost\u001b[0m of the above recourses = \u001b[35minf\u001b[39m\n",
      "\tSubgroup '\u001b[1mMale\u001b[0m', \u001b[34m1.19%\u001b[39m covered out of 314181\n",
      "\t\tMake \u001b[1m\u001b[31mage = 25-34\u001b[39m\u001b[0m with correctness \u001b[32m100.00%\u001b[39m.\n",
      "\t\t\u001b[1mAggregate cost\u001b[0m of the above recourses = \u001b[35m1e+00\u001b[39m\n",
      "\t\u001b[35mBias against Female. Unfairness measure = inf.\u001b[39m\n",
      "\n"
     ]
    }
   ],
   "source": [
    "top_rules, subgroup_costs = gfacts.select_rules_subset(\n",
    "    rules_by_if,\n",
    "    metric=\"mean-above-thr\",\n",
    "    sort_strategy=\"abs-diff-decr-ignore-forall-subgroups-empty\",\n",
    "    top_count=10,\n",
    "    cor_threshold=0.5,\n",
    "    filter_sequence=[\"remove-below-thr\", \"remove-fair-rules\"]\n",
    ")\n",
    "\n",
    "pop_sizes = {sg: (ad_conversion_dataset[\"gender\"] == sg).sum() for sg in ad_conversion_dataset[\"gender\"].unique()}\n",
    "print(recourse_report_reverse(\n",
    "    top_rules,\n",
    "    population_sizes = pop_sizes,\n",
    "    subgroup_costs=subgroup_costs,\n",
    "    show_subgroup_costs=True\n",
    "))"
   ]
  },
  {
   "cell_type": "markdown",
   "id": "1e6b8414-7b1a-4bec-92cb-1e8eae446e34",
   "metadata": {},
   "source": [
    "## Number above threshold"
   ]
  },
  {
   "cell_type": "code",
   "execution_count": 18,
   "id": "0fbbdba8-cec7-420e-812b-925948519167",
   "metadata": {
    "tags": []
   },
   "outputs": [
    {
     "name": "stdout",
     "output_type": "stream",
     "text": [
      "If \u001b[1mage = 55-64, homeowner = 0\u001b[0m:\n",
      "\tSubgroup '\u001b[1mFemale\u001b[0m', \u001b[34m1.94%\u001b[39m covered out of 600135\n",
      "\t\t\u001b[31mNo recourses for this subgroup!\n",
      "\u001b[39m\t\t\u001b[1mAggregate cost\u001b[0m of the above recourses = \u001b[35m0e+00\u001b[39m\n",
      "\tSubgroup '\u001b[1mMale\u001b[0m', \u001b[34m1.90%\u001b[39m covered out of 314181\n",
      "\t\tMake \u001b[1m\u001b[31mage = 25-34\u001b[39m\u001b[0m with correctness \u001b[32m66.44%\u001b[39m.\n",
      "\t\t\u001b[1mAggregate cost\u001b[0m of the above recourses = \u001b[35m-1e+00\u001b[39m\n",
      "\t\u001b[35mBias against Female. Unfairness measure = 1.\u001b[39m\n",
      "If \u001b[1marea = Unknown, age = 55-64, homeowner = 0\u001b[0m:\n",
      "\tSubgroup '\u001b[1mFemale\u001b[0m', \u001b[34m1.93%\u001b[39m covered out of 600135\n",
      "\t\t\u001b[31mNo recourses for this subgroup!\n",
      "\u001b[39m\t\t\u001b[1mAggregate cost\u001b[0m of the above recourses = \u001b[35m0e+00\u001b[39m\n",
      "\tSubgroup '\u001b[1mMale\u001b[0m', \u001b[34m1.89%\u001b[39m covered out of 314181\n",
      "\t\tMake \u001b[1m\u001b[31mage = 25-34\u001b[39m\u001b[0m with correctness \u001b[32m66.35%\u001b[39m.\n",
      "\t\t\u001b[1mAggregate cost\u001b[0m of the above recourses = \u001b[35m-1e+00\u001b[39m\n",
      "\t\u001b[35mBias against Female. Unfairness measure = 1.\u001b[39m\n",
      "If \u001b[1mage = 55-64, homeowner = 0, college_educated = 1\u001b[0m:\n",
      "\tSubgroup '\u001b[1mFemale\u001b[0m', \u001b[34m1.84%\u001b[39m covered out of 600135\n",
      "\t\t\u001b[31mNo recourses for this subgroup!\n",
      "\u001b[39m\t\t\u001b[1mAggregate cost\u001b[0m of the above recourses = \u001b[35m0e+00\u001b[39m\n",
      "\tSubgroup '\u001b[1mMale\u001b[0m', \u001b[34m1.80%\u001b[39m covered out of 314181\n",
      "\t\tMake \u001b[1m\u001b[31mage = 25-34\u001b[39m\u001b[0m with correctness \u001b[32m66.67%\u001b[39m.\n",
      "\t\t\u001b[1mAggregate cost\u001b[0m of the above recourses = \u001b[35m-1e+00\u001b[39m\n",
      "\t\u001b[35mBias against Female. Unfairness measure = 1.\u001b[39m\n",
      "If \u001b[1marea = Unknown, age = 55-64, homeowner = 0, college_educated = 1\u001b[0m:\n",
      "\tSubgroup '\u001b[1mFemale\u001b[0m', \u001b[34m1.82%\u001b[39m covered out of 600135\n",
      "\t\t\u001b[31mNo recourses for this subgroup!\n",
      "\u001b[39m\t\t\u001b[1mAggregate cost\u001b[0m of the above recourses = \u001b[35m0e+00\u001b[39m\n",
      "\tSubgroup '\u001b[1mMale\u001b[0m', \u001b[34m1.79%\u001b[39m covered out of 314181\n",
      "\t\tMake \u001b[1m\u001b[31mage = 25-34\u001b[39m\u001b[0m with correctness \u001b[32m66.58%\u001b[39m.\n",
      "\t\t\u001b[1mAggregate cost\u001b[0m of the above recourses = \u001b[35m-1e+00\u001b[39m\n",
      "\t\u001b[35mBias against Female. Unfairness measure = 1.\u001b[39m\n",
      "If \u001b[1mage = 55-64, parents = 1, homeowner = 0\u001b[0m:\n",
      "\tSubgroup '\u001b[1mFemale\u001b[0m', \u001b[34m1.26%\u001b[39m covered out of 600135\n",
      "\t\t\u001b[31mNo recourses for this subgroup!\n",
      "\u001b[39m\t\t\u001b[1mAggregate cost\u001b[0m of the above recourses = \u001b[35m0e+00\u001b[39m\n",
      "\tSubgroup '\u001b[1mMale\u001b[0m', \u001b[34m1.26%\u001b[39m covered out of 314181\n",
      "\t\tMake \u001b[1m\u001b[31mage = 25-34\u001b[39m\u001b[0m with correctness \u001b[32m100.00%\u001b[39m.\n",
      "\t\t\u001b[1mAggregate cost\u001b[0m of the above recourses = \u001b[35m-1e+00\u001b[39m\n",
      "\t\u001b[35mBias against Female. Unfairness measure = 1.\u001b[39m\n",
      "If \u001b[1marea = Unknown, age = 55-64, parents = 1, homeowner = 0\u001b[0m:\n",
      "\tSubgroup '\u001b[1mFemale\u001b[0m', \u001b[34m1.26%\u001b[39m covered out of 600135\n",
      "\t\t\u001b[31mNo recourses for this subgroup!\n",
      "\u001b[39m\t\t\u001b[1mAggregate cost\u001b[0m of the above recourses = \u001b[35m0e+00\u001b[39m\n",
      "\tSubgroup '\u001b[1mMale\u001b[0m', \u001b[34m1.26%\u001b[39m covered out of 314181\n",
      "\t\tMake \u001b[1m\u001b[31mage = 25-34\u001b[39m\u001b[0m with correctness \u001b[32m100.00%\u001b[39m.\n",
      "\t\t\u001b[1mAggregate cost\u001b[0m of the above recourses = \u001b[35m-1e+00\u001b[39m\n",
      "\t\u001b[35mBias against Female. Unfairness measure = 1.\u001b[39m\n",
      "If \u001b[1mage = 55-64, parents = 1, homeowner = 0, college_educated = 1\u001b[0m:\n",
      "\tSubgroup '\u001b[1mFemale\u001b[0m', \u001b[34m1.19%\u001b[39m covered out of 600135\n",
      "\t\t\u001b[31mNo recourses for this subgroup!\n",
      "\u001b[39m\t\t\u001b[1mAggregate cost\u001b[0m of the above recourses = \u001b[35m0e+00\u001b[39m\n",
      "\tSubgroup '\u001b[1mMale\u001b[0m', \u001b[34m1.19%\u001b[39m covered out of 314181\n",
      "\t\tMake \u001b[1m\u001b[31mage = 25-34\u001b[39m\u001b[0m with correctness \u001b[32m100.00%\u001b[39m.\n",
      "\t\t\u001b[1mAggregate cost\u001b[0m of the above recourses = \u001b[35m-1e+00\u001b[39m\n",
      "\t\u001b[35mBias against Female. Unfairness measure = 1.\u001b[39m\n",
      "If \u001b[1mhomeowner = 1\u001b[0m:\n",
      "\tSubgroup '\u001b[1mFemale\u001b[0m', \u001b[34m97.60%\u001b[39m covered out of 600135\n",
      "\t\tMake \u001b[1m\u001b[31mhomeowner = 0\u001b[39m\u001b[0m with correctness \u001b[32m91.13%\u001b[39m.\n",
      "\t\t\u001b[1mAggregate cost\u001b[0m of the above recourses = \u001b[35m-1e+00\u001b[39m\n",
      "\tSubgroup '\u001b[1mMale\u001b[0m', \u001b[34m97.67%\u001b[39m covered out of 314181\n",
      "\t\tMake \u001b[1m\u001b[31mhomeowner = 0\u001b[39m\u001b[0m with correctness \u001b[32m91.33%\u001b[39m.\n",
      "\t\t\u001b[1mAggregate cost\u001b[0m of the above recourses = \u001b[35m-1e+00\u001b[39m\n",
      "\tNo bias!\n",
      "If \u001b[1mincome = Unknown\u001b[0m:\n",
      "\tSubgroup '\u001b[1mFemale\u001b[0m', \u001b[34m95.59%\u001b[39m covered out of 600135\n",
      "\t\t\u001b[31mNo recourses for this subgroup!\n",
      "\u001b[39m\t\t\u001b[1mAggregate cost\u001b[0m of the above recourses = \u001b[35m0e+00\u001b[39m\n",
      "\tSubgroup '\u001b[1mMale\u001b[0m', \u001b[34m95.66%\u001b[39m covered out of 314181\n",
      "\t\t\u001b[31mNo recourses for this subgroup!\n",
      "\u001b[39m\t\t\u001b[1mAggregate cost\u001b[0m of the above recourses = \u001b[35m0e+00\u001b[39m\n",
      "\tNo bias!\n",
      "If \u001b[1mhomeowner = 1, income = Unknown\u001b[0m:\n",
      "\tSubgroup '\u001b[1mFemale\u001b[0m', \u001b[34m94.70%\u001b[39m covered out of 600135\n",
      "\t\tMake \u001b[1m\u001b[31mhomeowner = 0\u001b[39m\u001b[0m with correctness \u001b[32m92.57%\u001b[39m.\n",
      "\t\t\u001b[1mAggregate cost\u001b[0m of the above recourses = \u001b[35m-1e+00\u001b[39m\n",
      "\tSubgroup '\u001b[1mMale\u001b[0m', \u001b[34m94.78%\u001b[39m covered out of 314181\n",
      "\t\tMake \u001b[1m\u001b[31mhomeowner = 0\u001b[39m\u001b[0m with correctness \u001b[32m92.73%\u001b[39m.\n",
      "\t\t\u001b[1mAggregate cost\u001b[0m of the above recourses = \u001b[35m-1e+00\u001b[39m\n",
      "\tNo bias!\n",
      "\n"
     ]
    }
   ],
   "source": [
    "top_rules, subgroup_costs = gfacts.select_rules_subset(\n",
    "    rules_by_if,\n",
    "    metric=\"num-above-thr\",\n",
    "    sort_strategy=\"abs-diff-decr-ignore-forall-subgroups-empty\",\n",
    "    top_count=10,\n",
    "    cor_threshold=0.5,\n",
    "    filter_sequence=[\"remove-below-thr\"]\n",
    ")\n",
    "\n",
    "pop_sizes = {sg: (ad_conversion_dataset[\"gender\"] == sg).sum() for sg in ad_conversion_dataset[\"gender\"].unique()}\n",
    "print(recourse_report_reverse(\n",
    "    top_rules,\n",
    "    population_sizes = pop_sizes,\n",
    "    subgroup_costs=subgroup_costs,\n",
    "    show_subgroup_costs=True\n",
    "))"
   ]
  },
  {
   "cell_type": "markdown",
   "id": "69b7315b-c508-4eb8-9e4b-3d3339ad2ec4",
   "metadata": {},
   "source": [
    "# Aggregate correctness of rules and cost correctness plots"
   ]
  },
  {
   "cell_type": "markdown",
   "id": "61cbd791-81bc-4d50-a386-14ddbfba14af",
   "metadata": {},
   "source": [
    "Load state from disk, if you wish."
   ]
  },
  {
   "cell_type": "code",
   "execution_count": 21,
   "id": "417510c5-247f-4199-9d00-8957e6b12c94",
   "metadata": {
    "tags": []
   },
   "outputs": [],
   "source": [
    "import dill\n",
    "\n",
    "with open(\"state.data\", \"rb\") as inf:\n",
    "    rules_by_if, model, X_test = dill.load(inf)"
   ]
  },
  {
   "cell_type": "code",
   "execution_count": 19,
   "id": "9f865d1e",
   "metadata": {
    "tags": []
   },
   "outputs": [
    {
     "name": "stdout",
     "output_type": "stream",
     "text": [
      "If \u001b[1marea = Unknown, age = 55-64, parents = 1, homeowner = 0\u001b[0m:\n",
      "\tSubgroup '\u001b[1mFemale\u001b[0m', \u001b[34m1.26%\u001b[39m covered out of 600135\n",
      "\t\tMake \u001b[1m\u001b[31mage = 25-34\u001b[39m\u001b[0m with correctness \u001b[32m5.68%\u001b[39m.\n",
      "\tSubgroup '\u001b[1mMale\u001b[0m', \u001b[34m1.26%\u001b[39m covered out of 314181\n",
      "\t\tMake \u001b[1m\u001b[31mage = 25-34\u001b[39m\u001b[0m with correctness \u001b[32m100.00%\u001b[39m.\n",
      "\t\u001b[35mBias against Female. Unfairness measure = 0.94.\u001b[39m\n",
      "\t\u001b[36mCumulative correctness plot for the above recourses:\u001b[39m\n"
     ]
    },
    {
     "data": {
      "image/png": "[encoded data removed]",
      "text/plain": [
       "<Figure size 640x480 with 1 Axes>"
      ]
     },
     "metadata": {},
     "output_type": "display_data"
    },
    {
     "name": "stdout",
     "output_type": "stream",
     "text": [
      "If \u001b[1marea = Unknown, age = 55-64, homeowner = 0\u001b[0m:\n",
      "\tSubgroup '\u001b[1mFemale\u001b[0m', \u001b[34m1.93%\u001b[39m covered out of 600135\n",
      "\t\tMake \u001b[1m\u001b[31mage = 25-34\u001b[39m\u001b[0m with correctness \u001b[32m3.72%\u001b[39m.\n",
      "\tSubgroup '\u001b[1mMale\u001b[0m', \u001b[34m1.89%\u001b[39m covered out of 314181\n",
      "\t\tMake \u001b[1m\u001b[31mage = 25-34\u001b[39m\u001b[0m with correctness \u001b[32m66.35%\u001b[39m.\n",
      "\t\u001b[35mBias against Female. Unfairness measure = 0.63.\u001b[39m\n",
      "\t\u001b[36mCumulative correctness plot for the above recourses:\u001b[39m\n"
     ]
    },
    {
     "data": {
      "image/png": "[encoded data removed]",
      "text/plain": [
       "<Figure size 640x480 with 1 Axes>"
      ]
     },
     "metadata": {},
     "output_type": "display_data"
    },
    {
     "name": "stdout",
     "output_type": "stream",
     "text": [
      "If \u001b[1marea = Unknown, age = 55-64, homeowner = 0, college_educated = 1\u001b[0m:\n",
      "\tSubgroup '\u001b[1mFemale\u001b[0m', \u001b[34m1.82%\u001b[39m covered out of 600135\n",
      "\t\tMake \u001b[1m\u001b[31mcollege_educated = 0\u001b[39m\u001b[0m with correctness \u001b[32m0.00%\u001b[39m.\n",
      "\t\tMake \u001b[1m\u001b[31mage = 25-34\u001b[39m\u001b[0m with correctness \u001b[32m0.00%\u001b[39m.\n",
      "\tSubgroup '\u001b[1mMale\u001b[0m', \u001b[34m1.79%\u001b[39m covered out of 314181\n",
      "\t\tMake \u001b[1m\u001b[31mcollege_educated = 0\u001b[39m\u001b[0m with correctness \u001b[32m-0.00%\u001b[39m.\n",
      "\t\tMake \u001b[1m\u001b[31mage = 25-34\u001b[39m\u001b[0m with correctness \u001b[32m66.58%\u001b[39m.\n",
      "\t\u001b[35mBias against Female. Unfairness measure = 0.33.\u001b[39m\n",
      "\t\u001b[36mCumulative correctness plot for the above recourses:\u001b[39m\n"
     ]
    },
    {
     "data": {
      "image/png": "[encoded data removed]",
      "text/plain": [
       "<Figure size 640x480 with 1 Axes>"
      ]
     },
     "metadata": {},
     "output_type": "display_data"
    },
    {
     "name": "stdout",
     "output_type": "stream",
     "text": [
      "If \u001b[1mage = 55-64, parents = 1, homeowner = 0\u001b[0m:\n",
      "\tSubgroup '\u001b[1mFemale\u001b[0m', \u001b[34m1.26%\u001b[39m covered out of 600135\n",
      "\t\tMake \u001b[1m\u001b[31mage = 25-34\u001b[39m, \u001b[31mhomeowner = 1\u001b[39m\u001b[0m with correctness \u001b[32m0.00%\u001b[39m.\n",
      "\t\tMake \u001b[1m\u001b[31mage = 25-34\u001b[39m\u001b[0m with correctness \u001b[32m5.68%\u001b[39m.\n",
      "\t\tMake \u001b[1m\u001b[31mage = 45-54\u001b[39m\u001b[0m with correctness \u001b[32m0.00%\u001b[39m.\n",
      "\tSubgroup '\u001b[1mMale\u001b[0m', \u001b[34m1.26%\u001b[39m covered out of 314181\n",
      "\t\tMake \u001b[1m\u001b[31mage = 25-34\u001b[39m, \u001b[31mhomeowner = 1\u001b[39m\u001b[0m with correctness \u001b[32m0.00%\u001b[39m.\n",
      "\t\tMake \u001b[1m\u001b[31mage = 25-34\u001b[39m\u001b[0m with correctness \u001b[32m100.00%\u001b[39m.\n",
      "\t\tMake \u001b[1m\u001b[31mage = 45-54\u001b[39m\u001b[0m with correctness \u001b[32m0.00%\u001b[39m.\n",
      "\t\u001b[35mBias against Female. Unfairness measure = 0.31.\u001b[39m\n",
      "\t\u001b[36mCumulative correctness plot for the above recourses:\u001b[39m\n"
     ]
    },
    {
     "data": {
      "image/png": "[encoded data removed]",
      "text/plain": [
       "<Figure size 640x480 with 1 Axes>"
      ]
     },
     "metadata": {},
     "output_type": "display_data"
    },
    {
     "name": "stdout",
     "output_type": "stream",
     "text": [
      "If \u001b[1mage = 55-64, parents = 1, homeowner = 0, college_educated = 1\u001b[0m:\n",
      "\tSubgroup '\u001b[1mFemale\u001b[0m', \u001b[34m1.19%\u001b[39m covered out of 600135\n",
      "\t\tMake \u001b[1m\u001b[31mcollege_educated = 0\u001b[39m\u001b[0m with correctness \u001b[32m0.00%\u001b[39m.\n",
      "\t\tMake \u001b[1m\u001b[31mage = 25-34\u001b[39m, \u001b[31mhomeowner = 1\u001b[39m\u001b[0m with correctness \u001b[32m0.00%\u001b[39m.\n",
      "\t\tMake \u001b[1m\u001b[31mage = 25-34\u001b[39m\u001b[0m with correctness \u001b[32m0.00%\u001b[39m.\n",
      "\t\tMake \u001b[1m\u001b[31mage = 45-54\u001b[39m\u001b[0m with correctness \u001b[32m0.00%\u001b[39m.\n",
      "\tSubgroup '\u001b[1mMale\u001b[0m', \u001b[34m1.19%\u001b[39m covered out of 314181\n",
      "\t\tMake \u001b[1m\u001b[31mcollege_educated = 0\u001b[39m\u001b[0m with correctness \u001b[32m0.00%\u001b[39m.\n",
      "\t\tMake \u001b[1m\u001b[31mage = 25-34\u001b[39m, \u001b[31mhomeowner = 1\u001b[39m\u001b[0m with correctness \u001b[32m0.00%\u001b[39m.\n",
      "\t\tMake \u001b[1m\u001b[31mage = 25-34\u001b[39m\u001b[0m with correctness \u001b[32m100.00%\u001b[39m.\n",
      "\t\tMake \u001b[1m\u001b[31mage = 45-54\u001b[39m\u001b[0m with correctness \u001b[32m0.00%\u001b[39m.\n",
      "\t\u001b[35mBias against Female. Unfairness measure = 0.25.\u001b[39m\n",
      "\t\u001b[36mCumulative correctness plot for the above recourses:\u001b[39m\n"
     ]
    },
    {
     "data": {
      "image/png": "[encoded data removed]",
      "text/plain": [
       "<Figure size 640x480 with 1 Axes>"
      ]
     },
     "metadata": {},
     "output_type": "display_data"
    },
    {
     "name": "stdout",
     "output_type": "stream",
     "text": [
      "If \u001b[1mage = 55-64, homeowner = 0\u001b[0m:\n",
      "\tSubgroup '\u001b[1mFemale\u001b[0m', \u001b[34m1.94%\u001b[39m covered out of 600135\n",
      "\t\tMake \u001b[1m\u001b[31mage = 25-34\u001b[39m, \u001b[31mhomeowner = 1\u001b[39m\u001b[0m with correctness \u001b[32m0.00%\u001b[39m.\n",
      "\t\tMake \u001b[1m\u001b[31mage = 25-34\u001b[39m\u001b[0m with correctness \u001b[32m4.36%\u001b[39m.\n",
      "\t\tMake \u001b[1m\u001b[31mage = 45-54\u001b[39m\u001b[0m with correctness \u001b[32m0.00%\u001b[39m.\n",
      "\tSubgroup '\u001b[1mMale\u001b[0m', \u001b[34m1.90%\u001b[39m covered out of 314181\n",
      "\t\tMake \u001b[1m\u001b[31mage = 25-34\u001b[39m, \u001b[31mhomeowner = 1\u001b[39m\u001b[0m with correctness \u001b[32m0.00%\u001b[39m.\n",
      "\t\tMake \u001b[1m\u001b[31mage = 25-34\u001b[39m\u001b[0m with correctness \u001b[32m66.44%\u001b[39m.\n",
      "\t\tMake \u001b[1m\u001b[31mage = 45-54\u001b[39m\u001b[0m with correctness \u001b[32m0.00%\u001b[39m.\n",
      "\t\u001b[35mBias against Female. Unfairness measure = 0.21.\u001b[39m\n",
      "\t\u001b[36mCumulative correctness plot for the above recourses:\u001b[39m\n"
     ]
    },
    {
     "data": {
      "image/png": "[encoded data removed]",
      "text/plain": [
       "<Figure size 640x480 with 1 Axes>"
      ]
     },
     "metadata": {},
     "output_type": "display_data"
    },
    {
     "name": "stdout",
     "output_type": "stream",
     "text": [
      "If \u001b[1mage = 55-64, homeowner = 0, college_educated = 1\u001b[0m:\n",
      "\tSubgroup '\u001b[1mFemale\u001b[0m', \u001b[34m1.84%\u001b[39m covered out of 600135\n",
      "\t\tMake \u001b[1m\u001b[31mcollege_educated = 0\u001b[39m\u001b[0m with correctness \u001b[32m0.54%\u001b[39m.\n",
      "\t\tMake \u001b[1m\u001b[31mage = 25-34\u001b[39m, \u001b[31mhomeowner = 1\u001b[39m\u001b[0m with correctness \u001b[32m0.00%\u001b[39m.\n",
      "\t\tMake \u001b[1m\u001b[31mage = 25-34\u001b[39m\u001b[0m with correctness \u001b[32m0.71%\u001b[39m.\n",
      "\t\tMake \u001b[1m\u001b[31mage = 45-54\u001b[39m\u001b[0m with correctness \u001b[32m0.00%\u001b[39m.\n",
      "\tSubgroup '\u001b[1mMale\u001b[0m', \u001b[34m1.80%\u001b[39m covered out of 314181\n",
      "\t\tMake \u001b[1m\u001b[31mcollege_educated = 0\u001b[39m\u001b[0m with correctness \u001b[32m0.53%\u001b[39m.\n",
      "\t\tMake \u001b[1m\u001b[31mage = 25-34\u001b[39m, \u001b[31mhomeowner = 1\u001b[39m\u001b[0m with correctness \u001b[32m0.00%\u001b[39m.\n",
      "\t\tMake \u001b[1m\u001b[31mage = 25-34\u001b[39m\u001b[0m with correctness \u001b[32m66.67%\u001b[39m.\n",
      "\t\tMake \u001b[1m\u001b[31mage = 45-54\u001b[39m\u001b[0m with correctness \u001b[32m0.00%\u001b[39m.\n",
      "\t\u001b[35mBias against Female. Unfairness measure = 0.16.\u001b[39m\n",
      "\t\u001b[36mCumulative correctness plot for the above recourses:\u001b[39m\n"
     ]
    },
    {
     "data": {
      "image/png": "[encoded data removed]",
      "text/plain": [
       "<Figure size 640x480 with 1 Axes>"
      ]
     },
     "metadata": {},
     "output_type": "display_data"
    },
    {
     "name": "stdout",
     "output_type": "stream",
     "text": [
      "If \u001b[1mparents = 1, homeowner = 1, income = Unknown, college_educated = 1, age = 45-54\u001b[0m:\n",
      "\tSubgroup '\u001b[1mFemale\u001b[0m', \u001b[34m1.41%\u001b[39m covered out of 600135\n",
      "\t\tMake \u001b[1m\u001b[31mage = 25-34\u001b[39m\u001b[0m with correctness \u001b[32m24.66%\u001b[39m.\n",
      "\tSubgroup '\u001b[1mMale\u001b[0m', \u001b[34m1.42%\u001b[39m covered out of 314181\n",
      "\t\tMake \u001b[1m\u001b[31mage = 25-34\u001b[39m\u001b[0m with correctness \u001b[32m30.47%\u001b[39m.\n",
      "\t\u001b[35mBias against Female. Unfairness measure = 0.06.\u001b[39m\n",
      "\t\u001b[36mCumulative correctness plot for the above recourses:\u001b[39m\n"
     ]
    },
    {
     "data": {
      "image/png": "[encoded data removed]",
      "text/plain": [
       "<Figure size 640x480 with 1 Axes>"
      ]
     },
     "metadata": {},
     "output_type": "display_data"
    },
    {
     "name": "stdout",
     "output_type": "stream",
     "text": [
      "If \u001b[1mage = 55-64, area = Urban, homeowner = 1, college_educated = 0\u001b[0m:\n",
      "\tSubgroup '\u001b[1mFemale\u001b[0m', \u001b[34m1.33%\u001b[39m covered out of 600135\n",
      "\t\tMake \u001b[1m\u001b[31mage = 25-34\u001b[39m, \u001b[31mcollege_educated = 1\u001b[39m\u001b[0m with correctness \u001b[32m94.67%\u001b[39m.\n",
      "\t\tMake \u001b[1m\u001b[31mhomeowner = 0\u001b[39m, \u001b[31mcollege_educated = 1\u001b[39m\u001b[0m with correctness \u001b[32m95.87%\u001b[39m.\n",
      "\t\tMake \u001b[1m\u001b[31mage = 45-54\u001b[39m, \u001b[31marea = Unknown\u001b[39m, \u001b[31mhomeowner = 0\u001b[39m, \u001b[31mcollege_educated = 1\u001b[39m\u001b[0m with correctness \u001b[32m95.27%\u001b[39m.\n",
      "\tSubgroup '\u001b[1mMale\u001b[0m', \u001b[34m1.26%\u001b[39m covered out of 314181\n",
      "\t\tMake \u001b[1m\u001b[31mage = 25-34\u001b[39m, \u001b[31mcollege_educated = 1\u001b[39m\u001b[0m with correctness \u001b[32m92.95%\u001b[39m.\n",
      "\t\tMake \u001b[1m\u001b[31mhomeowner = 0\u001b[39m, \u001b[31mcollege_educated = 1\u001b[39m\u001b[0m with correctness \u001b[32m93.98%\u001b[39m.\n",
      "\t\tMake \u001b[1m\u001b[31mage = 45-54\u001b[39m, \u001b[31marea = Unknown\u001b[39m, \u001b[31mhomeowner = 0\u001b[39m, \u001b[31mcollege_educated = 1\u001b[39m\u001b[0m with correctness \u001b[32m92.95%\u001b[39m.\n",
      "\t\u001b[35mBias against Male. Unfairness measure = 0.05.\u001b[39m\n",
      "\t\u001b[36mCumulative correctness plot for the above recourses:\u001b[39m\n"
     ]
    },
    {
     "data": {
      "image/png": "[encoded data removed]",
      "text/plain": [
       "<Figure size 640x480 with 1 Axes>"
      ]
     },
     "metadata": {},
     "output_type": "display_data"
    },
    {
     "name": "stdout",
     "output_type": "stream",
     "text": [
      "If \u001b[1mparents = 1, homeowner = 1, income = Unknown, college_educated = 1, age = 55-64\u001b[0m:\n",
      "\tSubgroup '\u001b[1mFemale\u001b[0m', \u001b[34m79.39%\u001b[39m covered out of 600135\n",
      "\t\tMake \u001b[1m\u001b[31mage = 25-34\u001b[39m\u001b[0m with correctness \u001b[32m24.86%\u001b[39m.\n",
      "\tSubgroup '\u001b[1mMale\u001b[0m', \u001b[34m79.65%\u001b[39m covered out of 314181\n",
      "\t\tMake \u001b[1m\u001b[31mage = 25-34\u001b[39m\u001b[0m with correctness \u001b[32m30.13%\u001b[39m.\n",
      "\t\u001b[35mBias against Female. Unfairness measure = 0.05.\u001b[39m\n",
      "\t\u001b[36mCumulative correctness plot for the above recourses:\u001b[39m\n"
     ]
    },
    {
     "data": {
      "image/png": "[encoded data removed]",
      "text/plain": [
       "<Figure size 640x480 with 1 Axes>"
      ]
     },
     "metadata": {},
     "output_type": "display_data"
    }
   ],
   "source": [
    "top_rules, subgroup_costs = gfacts.select_rules_subset(\n",
    "    rules_by_if,\n",
    "    metric=\"weighted-average\",\n",
    "    sort_strategy=\"abs-diff-decr-ignore-forall-subgroups-empty\",\n",
    "    top_count=10\n",
    ")\n",
    "\n",
    "cum_cors = gfacts.cumcorr_all(top_rules, X_test, model, sensitive_attribute=sensitive_attribute)\n",
    "\n",
    "pop_sizes = {sg: (ad_conversion_dataset[\"gender\"] == sg).sum() for sg in ad_conversion_dataset[\"gender\"].unique()}\n",
    "print_recourse_report(\n",
    "    top_rules,\n",
    "    population_sizes = pop_sizes,\n",
    "    subgroup_costs=subgroup_costs,\n",
    "    aggregate_cors_costs=cum_cors\n",
    ")"
   ]
  },
  {
   "cell_type": "markdown",
   "id": "3a9e9155",
   "metadata": {},
   "source": [
    "Finally, save state, if you wish."
   ]
  },
  {
   "cell_type": "code",
   "execution_count": 23,
   "id": "67939cc1",
   "metadata": {},
   "outputs": [],
   "source": [
    "# import dill\n",
    "\n",
    "# with open(\"state.data\", \"wb\") as outf:\n",
    "#     dill.dump((rules_by_if, model, X_test), outf)"
   ]
  }
 ],
 "metadata": {
  "kernelspec": {
   "display_name": "Python 3 (ipykernel)",
   "language": "python",
   "name": "python3"
  },
  "language_info": {
   "codemirror_mode": {
    "name": "ipython",
    "version": 3
   },
   "file_extension": ".py",
   "mimetype": "text/x-python",
   "name": "python",
   "nbconvert_exporter": "python",
   "pygments_lexer": "ipython3",
   "version": "3.9.16"
  }
 },
 "nbformat": 4,
 "nbformat_minor": 5
}
