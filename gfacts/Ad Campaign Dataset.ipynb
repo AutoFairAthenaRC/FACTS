{
 "cells": [
  {
   "cell_type": "markdown",
   "id": "a4164f0d",
   "metadata": {},
   "source": [
    "## Import libraries"
   ]
  },
  {
   "cell_type": "code",
   "execution_count": 1,
   "id": "50536eb3",
   "metadata": {
    "tags": []
   },
   "outputs": [],
   "source": [
    "import pandas as pd\n",
    "import numpy as np\n",
    "from pprint import pprint\n",
    "\n",
    "from sklearn.model_selection import train_test_split\n",
    "from sklearn.metrics import classification_report, confusion_matrix, ConfusionMatrixDisplay\n",
    "\n",
    "import gfacts\n",
    "from gfacts import valid_ifthens_with_coverage_correctness, rules2rulesbyif\n",
    "from gfacts.models import customLogisticRegression\n",
    "from gfacts.parameters import ParameterProxy\n",
    "from gfacts.formatting import recourse_report_reverse\n",
    "\n",
    "import matplotlib.pyplot as plt"
   ]
  },
  {
   "cell_type": "code",
   "execution_count": 2,
   "id": "99fb977c",
   "metadata": {
    "tags": []
   },
   "outputs": [],
   "source": [
    "DATAFILE = '../ad_campaign_data.csv' # location of dataset\n",
    "random_state = None # change to something for exactly reproducible results\n",
    "\n",
    "# as selected in \"tutorial_bias_advertising\" notebook\n",
    "selected_features = ['gender', 'parents', 'age', 'income', 'area', 'college_educated', 'homeowner']\n",
    "cate_features = ['gender', 'parents', 'age', 'income', 'area', 'college_educated']\n",
    "num_features = ['homeowner']\n",
    "\n",
    "# if not specified, set to 1\n",
    "feature_weights = {\"gender\": 1, \"parents\": 1, \"age\": 1}\n",
    "\n",
    "target_name = \"true_conversion\"\n",
    "positive_label = 1\n",
    "negative_label = 0\n",
    "\n",
    "model_train_fraction = 0.7\n",
    "learning_class_weights = {0: 0.5, 1: 265}\n",
    "\n",
    "sensitive_attribute = \"gender\"\n",
    "sensitive_subgroups = [\"M\", \"F\"]\n",
    "sensitive_alias = {\"Male\": \"M\", \"Female\": \"F\"}"
   ]
  },
  {
   "cell_type": "markdown",
   "id": "7f50c922",
   "metadata": {},
   "source": [
    "## Load Dataset"
   ]
  },
  {
   "cell_type": "code",
   "execution_count": 3,
   "id": "7ec3f668",
   "metadata": {
    "tags": []
   },
   "outputs": [
    {
     "data": {
      "text/html": [
       "<div>\n",
       "<style scoped>\n",
       "    .dataframe tbody tr th:only-of-type {\n",
       "        vertical-align: middle;\n",
       "    }\n",
       "\n",
       "    .dataframe tbody tr th {\n",
       "        vertical-align: top;\n",
       "    }\n",
       "\n",
       "    .dataframe thead th {\n",
       "        text-align: right;\n",
       "    }\n",
       "</style>\n",
       "<table border=\"1\" class=\"dataframe\">\n",
       "  <thead>\n",
       "    <tr style=\"text-align: right;\">\n",
       "      <th></th>\n",
       "      <th>religion</th>\n",
       "      <th>politics</th>\n",
       "      <th>college_educated</th>\n",
       "      <th>parents</th>\n",
       "      <th>homeowner</th>\n",
       "      <th>gender</th>\n",
       "      <th>age</th>\n",
       "      <th>income</th>\n",
       "      <th>area</th>\n",
       "      <th>true_conversion</th>\n",
       "      <th>predicted_conversion</th>\n",
       "      <th>predicted_probability</th>\n",
       "    </tr>\n",
       "  </thead>\n",
       "  <tbody>\n",
       "    <tr>\n",
       "      <th>0</th>\n",
       "      <td>Unknown</td>\n",
       "      <td>Unknown</td>\n",
       "      <td>1</td>\n",
       "      <td>1</td>\n",
       "      <td>1</td>\n",
       "      <td>Unknown</td>\n",
       "      <td>55-64</td>\n",
       "      <td>Unknown</td>\n",
       "      <td>Unknown</td>\n",
       "      <td>0</td>\n",
       "      <td>0</td>\n",
       "      <td>0.001351</td>\n",
       "    </tr>\n",
       "    <tr>\n",
       "      <th>1</th>\n",
       "      <td>Other</td>\n",
       "      <td>Unknown</td>\n",
       "      <td>1</td>\n",
       "      <td>1</td>\n",
       "      <td>1</td>\n",
       "      <td>Unknown</td>\n",
       "      <td>55-64</td>\n",
       "      <td>Unknown</td>\n",
       "      <td>Urban</td>\n",
       "      <td>0</td>\n",
       "      <td>0</td>\n",
       "      <td>0.002238</td>\n",
       "    </tr>\n",
       "    <tr>\n",
       "      <th>2</th>\n",
       "      <td>Unknown</td>\n",
       "      <td>Unknown</td>\n",
       "      <td>1</td>\n",
       "      <td>1</td>\n",
       "      <td>1</td>\n",
       "      <td>F</td>\n",
       "      <td>55-64</td>\n",
       "      <td>Unknown</td>\n",
       "      <td>Unknown</td>\n",
       "      <td>0</td>\n",
       "      <td>0</td>\n",
       "      <td>0.002704</td>\n",
       "    </tr>\n",
       "    <tr>\n",
       "      <th>3</th>\n",
       "      <td>Unknown</td>\n",
       "      <td>Unknown</td>\n",
       "      <td>1</td>\n",
       "      <td>1</td>\n",
       "      <td>1</td>\n",
       "      <td>F</td>\n",
       "      <td>55-64</td>\n",
       "      <td>Unknown</td>\n",
       "      <td>Unknown</td>\n",
       "      <td>0</td>\n",
       "      <td>0</td>\n",
       "      <td>0.001967</td>\n",
       "    </tr>\n",
       "    <tr>\n",
       "      <th>4</th>\n",
       "      <td>Unknown</td>\n",
       "      <td>Unknown</td>\n",
       "      <td>1</td>\n",
       "      <td>1</td>\n",
       "      <td>1</td>\n",
       "      <td>F</td>\n",
       "      <td>55-64</td>\n",
       "      <td>Unknown</td>\n",
       "      <td>Urban</td>\n",
       "      <td>0</td>\n",
       "      <td>0</td>\n",
       "      <td>0.001681</td>\n",
       "    </tr>\n",
       "  </tbody>\n",
       "</table>\n",
       "</div>"
      ],
      "text/plain": [
       "  religion politics  college_educated  parents  homeowner   gender    age  \\\n",
       "0  Unknown  Unknown                 1        1          1  Unknown  55-64   \n",
       "1    Other  Unknown                 1        1          1  Unknown  55-64   \n",
       "2  Unknown  Unknown                 1        1          1        F  55-64   \n",
       "3  Unknown  Unknown                 1        1          1        F  55-64   \n",
       "4  Unknown  Unknown                 1        1          1        F  55-64   \n",
       "\n",
       "    income     area  true_conversion  predicted_conversion  \\\n",
       "0  Unknown  Unknown                0                     0   \n",
       "1  Unknown    Urban                0                     0   \n",
       "2  Unknown  Unknown                0                     0   \n",
       "3  Unknown  Unknown                0                     0   \n",
       "4  Unknown    Urban                0                     0   \n",
       "\n",
       "   predicted_probability  \n",
       "0               0.001351  \n",
       "1               0.002238  \n",
       "2               0.002704  \n",
       "3               0.001967  \n",
       "4               0.001681  "
      ]
     },
     "execution_count": 3,
     "metadata": {},
     "output_type": "execute_result"
    }
   ],
   "source": [
    "ad_conversion_dataset = pd.read_csv(DATAFILE)\n",
    "ad_conversion_dataset.head()"
   ]
  },
  {
   "cell_type": "markdown",
   "id": "c01544c3",
   "metadata": {},
   "source": [
    "### Print some statistics for the dataset"
   ]
  },
  {
   "cell_type": "code",
   "execution_count": 4,
   "id": "3710bcf3",
   "metadata": {
    "tags": []
   },
   "outputs": [
    {
     "name": "stdout",
     "output_type": "stream",
     "text": [
      "Number of (instances, attributes) in the dataset = (1443140, 12)\n",
      "\n",
      "Statistics of true conversions (0=no, 1=yes)\n",
      "0    1440766\n",
      "1       2374\n",
      "Name: true_conversion, dtype: int64\n",
      "\n",
      "Statistics of predicted conversions (0=no, 1=yes)\n",
      "0    1440773\n",
      "1       2367\n",
      "Name: predicted_conversion, dtype: int64\n"
     ]
    }
   ],
   "source": [
    "print(f\"Number of (instances, attributes) in the dataset = {ad_conversion_dataset.shape}\")\n",
    "print()\n",
    "\n",
    "print(f\"Statistics of true conversions (0=no, 1=yes)\")\n",
    "print(ad_conversion_dataset.true_conversion.value_counts())\n",
    "print()\n",
    "\n",
    "print(f\"Statistics of predicted conversions (0=no, 1=yes)\")\n",
    "print(ad_conversion_dataset.predicted_conversion.value_counts())"
   ]
  },
  {
   "cell_type": "markdown",
   "id": "6774262f",
   "metadata": {},
   "source": [
    "### Warning!\n",
    "\n",
    "There is no model!\n",
    "\n",
    "Predictions (from whatever model has been used) have been incorporated into the dataset, in the columns \"predicted_conversion\" (which is the predicted label) and \"predicted_probability\" (which is the predicted probability of belonging to the positive class).\n",
    "\n",
    "Moreover, the dataset is highly unbalanced, and this is also evident in the poor efficiency of the model, as demonstrated in the confusion matrix below."
   ]
  },
  {
   "cell_type": "code",
   "execution_count": 5,
   "id": "03eb55a7-2240-4244-8c9e-c005e36e8f0f",
   "metadata": {
    "tags": []
   },
   "outputs": [
    {
     "data": {
      "image/png": "[encoded data removed]",
      "text/plain": [
       "<Figure size 640x480 with 2 Axes>"
      ]
     },
     "metadata": {},
     "output_type": "display_data"
    }
   ],
   "source": [
    "conf_matrix = confusion_matrix(ad_conversion_dataset.true_conversion, ad_conversion_dataset.predicted_conversion)\n",
    "cm_disp = ConfusionMatrixDisplay(confusion_matrix=conf_matrix)\n",
    "cm_disp.plot()\n",
    "plt.show()"
   ]
  },
  {
   "cell_type": "markdown",
   "id": "5f1b33fa-c6c9-4770-8123-0f69f918e265",
   "metadata": {},
   "source": [
    "# Preprocessing"
   ]
  },
  {
   "cell_type": "code",
   "execution_count": 6,
   "id": "8ee07f88",
   "metadata": {
    "tags": []
   },
   "outputs": [
    {
     "data": {
      "text/html": [
       "<div>\n",
       "<style scoped>\n",
       "    .dataframe tbody tr th:only-of-type {\n",
       "        vertical-align: middle;\n",
       "    }\n",
       "\n",
       "    .dataframe tbody tr th {\n",
       "        vertical-align: top;\n",
       "    }\n",
       "\n",
       "    .dataframe thead th {\n",
       "        text-align: right;\n",
       "    }\n",
       "</style>\n",
       "<table border=\"1\" class=\"dataframe\">\n",
       "  <thead>\n",
       "    <tr style=\"text-align: right;\">\n",
       "      <th></th>\n",
       "      <th>gender</th>\n",
       "      <th>parents</th>\n",
       "      <th>age</th>\n",
       "      <th>income</th>\n",
       "      <th>area</th>\n",
       "      <th>college_educated</th>\n",
       "      <th>homeowner</th>\n",
       "      <th>true_conversion</th>\n",
       "    </tr>\n",
       "  </thead>\n",
       "  <tbody>\n",
       "    <tr>\n",
       "      <th>0</th>\n",
       "      <td>Unknown</td>\n",
       "      <td>1</td>\n",
       "      <td>55-64</td>\n",
       "      <td>Unknown</td>\n",
       "      <td>Unknown</td>\n",
       "      <td>1</td>\n",
       "      <td>1</td>\n",
       "      <td>0</td>\n",
       "    </tr>\n",
       "    <tr>\n",
       "      <th>1</th>\n",
       "      <td>Unknown</td>\n",
       "      <td>1</td>\n",
       "      <td>55-64</td>\n",
       "      <td>Unknown</td>\n",
       "      <td>Urban</td>\n",
       "      <td>1</td>\n",
       "      <td>1</td>\n",
       "      <td>0</td>\n",
       "    </tr>\n",
       "    <tr>\n",
       "      <th>2</th>\n",
       "      <td>F</td>\n",
       "      <td>1</td>\n",
       "      <td>55-64</td>\n",
       "      <td>Unknown</td>\n",
       "      <td>Unknown</td>\n",
       "      <td>1</td>\n",
       "      <td>1</td>\n",
       "      <td>0</td>\n",
       "    </tr>\n",
       "    <tr>\n",
       "      <th>3</th>\n",
       "      <td>F</td>\n",
       "      <td>1</td>\n",
       "      <td>55-64</td>\n",
       "      <td>Unknown</td>\n",
       "      <td>Unknown</td>\n",
       "      <td>1</td>\n",
       "      <td>1</td>\n",
       "      <td>0</td>\n",
       "    </tr>\n",
       "    <tr>\n",
       "      <th>4</th>\n",
       "      <td>F</td>\n",
       "      <td>1</td>\n",
       "      <td>55-64</td>\n",
       "      <td>Unknown</td>\n",
       "      <td>Urban</td>\n",
       "      <td>1</td>\n",
       "      <td>1</td>\n",
       "      <td>0</td>\n",
       "    </tr>\n",
       "    <tr>\n",
       "      <th>...</th>\n",
       "      <td>...</td>\n",
       "      <td>...</td>\n",
       "      <td>...</td>\n",
       "      <td>...</td>\n",
       "      <td>...</td>\n",
       "      <td>...</td>\n",
       "      <td>...</td>\n",
       "      <td>...</td>\n",
       "    </tr>\n",
       "    <tr>\n",
       "      <th>1443135</th>\n",
       "      <td>F</td>\n",
       "      <td>1</td>\n",
       "      <td>25-34</td>\n",
       "      <td>Unknown</td>\n",
       "      <td>Unknown</td>\n",
       "      <td>1</td>\n",
       "      <td>1</td>\n",
       "      <td>0</td>\n",
       "    </tr>\n",
       "    <tr>\n",
       "      <th>1443136</th>\n",
       "      <td>F</td>\n",
       "      <td>1</td>\n",
       "      <td>55-64</td>\n",
       "      <td>Unknown</td>\n",
       "      <td>Unknown</td>\n",
       "      <td>1</td>\n",
       "      <td>0</td>\n",
       "      <td>0</td>\n",
       "    </tr>\n",
       "    <tr>\n",
       "      <th>1443137</th>\n",
       "      <td>Unknown</td>\n",
       "      <td>1</td>\n",
       "      <td>55-64</td>\n",
       "      <td>Unknown</td>\n",
       "      <td>Unknown</td>\n",
       "      <td>1</td>\n",
       "      <td>1</td>\n",
       "      <td>0</td>\n",
       "    </tr>\n",
       "    <tr>\n",
       "      <th>1443138</th>\n",
       "      <td>F</td>\n",
       "      <td>1</td>\n",
       "      <td>55-64</td>\n",
       "      <td>Unknown</td>\n",
       "      <td>Unknown</td>\n",
       "      <td>1</td>\n",
       "      <td>1</td>\n",
       "      <td>0</td>\n",
       "    </tr>\n",
       "    <tr>\n",
       "      <th>1443139</th>\n",
       "      <td>F</td>\n",
       "      <td>1</td>\n",
       "      <td>55-64</td>\n",
       "      <td>Unknown</td>\n",
       "      <td>Unknown</td>\n",
       "      <td>1</td>\n",
       "      <td>1</td>\n",
       "      <td>0</td>\n",
       "    </tr>\n",
       "  </tbody>\n",
       "</table>\n",
       "<p>1443140 rows × 8 columns</p>\n",
       "</div>"
      ],
      "text/plain": [
       "          gender  parents    age   income     area  college_educated  \\\n",
       "0        Unknown        1  55-64  Unknown  Unknown                 1   \n",
       "1        Unknown        1  55-64  Unknown    Urban                 1   \n",
       "2              F        1  55-64  Unknown  Unknown                 1   \n",
       "3              F        1  55-64  Unknown  Unknown                 1   \n",
       "4              F        1  55-64  Unknown    Urban                 1   \n",
       "...          ...      ...    ...      ...      ...               ...   \n",
       "1443135        F        1  25-34  Unknown  Unknown                 1   \n",
       "1443136        F        1  55-64  Unknown  Unknown                 1   \n",
       "1443137  Unknown        1  55-64  Unknown  Unknown                 1   \n",
       "1443138        F        1  55-64  Unknown  Unknown                 1   \n",
       "1443139        F        1  55-64  Unknown  Unknown                 1   \n",
       "\n",
       "         homeowner  true_conversion  \n",
       "0                1                0  \n",
       "1                1                0  \n",
       "2                1                0  \n",
       "3                1                0  \n",
       "4                1                0  \n",
       "...            ...              ...  \n",
       "1443135          1                0  \n",
       "1443136          0                0  \n",
       "1443137          1                0  \n",
       "1443138          1                0  \n",
       "1443139          1                0  \n",
       "\n",
       "[1443140 rows x 8 columns]"
      ]
     },
     "execution_count": 6,
     "metadata": {},
     "output_type": "execute_result"
    }
   ],
   "source": [
    "## keep only the columns in selected_features, plus the label column\n",
    "ad_conversion_dataset = ad_conversion_dataset[selected_features + [target_name]]\n",
    "ad_conversion_dataset"
   ]
  },
  {
   "cell_type": "code",
   "execution_count": 7,
   "id": "e2d5162d",
   "metadata": {
    "tags": []
   },
   "outputs": [],
   "source": [
    "## train-test split\n",
    "\n",
    "X = ad_conversion_dataset.drop(target_name, axis=1)\n",
    "y = ad_conversion_dataset[target_name]\n",
    "\n",
    "X_train, X_test, y_train, y_test = train_test_split(X, y, train_size=model_train_fraction, random_state=random_state, stratify=y)\n",
    "\n",
    "X_train = X_train.reset_index(drop=True)\n",
    "X_test = X_test.reset_index(drop=True)\n",
    "y_train = y_train.reset_index(drop=True)\n",
    "y_test = y_test.reset_index(drop=True)"
   ]
  },
  {
   "cell_type": "markdown",
   "id": "17c32fa1-337a-45e0-ae5c-914575a2cbb6",
   "metadata": {},
   "source": [
    "# Model training"
   ]
  },
  {
   "cell_type": "code",
   "execution_count": 8,
   "id": "d613bdf8",
   "metadata": {
    "tags": []
   },
   "outputs": [
    {
     "name": "stdout",
     "output_type": "stream",
     "text": [
      "CPU times: total: 1.86 s\n",
      "Wall time: 7.95 s\n"
     ]
    },
    {
     "data": {
      "text/plain": [
       "array([0., 0., 1., 0., 0., 0., 0., 0., 0., 0., 0., 0., 0., 0., 0., 0., 0.,\n",
       "       0., 0., 0., 0., 0., 0., 0., 0., 1., 0., 0., 0., 0., 0., 0., 0., 0.,\n",
       "       0., 0., 0., 0., 0., 0., 0., 0., 0., 0., 1., 0., 0., 0., 0., 0., 0.,\n",
       "       0., 0., 0., 0., 0., 0., 0., 0., 0., 0., 0., 0., 1., 0., 0., 0., 0.,\n",
       "       0., 0., 0., 0., 0., 0., 0., 0., 0., 0., 1., 0., 0., 0., 0., 0., 0.,\n",
       "       0., 0., 0., 0., 0., 0., 0., 0., 0., 0., 0., 0., 0., 0., 0.])"
      ]
     },
     "execution_count": 8,
     "metadata": {},
     "output_type": "execute_result"
    }
   ],
   "source": [
    "%%time\n",
    "\n",
    "model = customLogisticRegression(class_weight=learning_class_weights)\n",
    "model.fit(X_train, y_train, cate_columns=cate_features, target_column=target_name)\n",
    "model.predict(X_test.iloc[:100, :])"
   ]
  },
  {
   "cell_type": "markdown",
   "id": "13d583ac",
   "metadata": {},
   "source": [
    "# Testing the model\n",
    "\n",
    "We check if the model is satisfactory."
   ]
  },
  {
   "cell_type": "code",
   "execution_count": 9,
   "id": "2fbd7b2e",
   "metadata": {
    "tags": []
   },
   "outputs": [
    {
     "name": "stdout",
     "output_type": "stream",
     "text": [
      "              precision    recall  f1-score   support\n",
      "\n",
      "           0       1.00      0.93      0.96    432231\n",
      "           1       0.00      0.05      0.00       712\n",
      "\n",
      "    accuracy                           0.93    432943\n",
      "   macro avg       0.50      0.49      0.48    432943\n",
      "weighted avg       1.00      0.93      0.96    432943\n",
      "\n"
     ]
    }
   ],
   "source": [
    "preds = model.predict(X_test)\n",
    "print(classification_report(y_test.map({negative_label: 0, positive_label: 1}), preds))"
   ]
  },
  {
   "cell_type": "code",
   "execution_count": 10,
   "id": "a82b48f8-408b-43a0-99fc-c21ff8a63718",
   "metadata": {
    "tags": []
   },
   "outputs": [
    {
     "data": {
      "image/png": "[encoded data removed]",
      "text/plain": [
       "<Figure size 640x480 with 2 Axes>"
      ]
     },
     "metadata": {},
     "output_type": "display_data"
    }
   ],
   "source": [
    "conf_matrix = confusion_matrix(y_test, preds)\n",
    "cm_disp = ConfusionMatrixDisplay(confusion_matrix=conf_matrix)\n",
    "cm_disp.plot()\n",
    "plt.show()"
   ]
  },
  {
   "cell_type": "markdown",
   "id": "11452631",
   "metadata": {},
   "source": [
    "Given the high imbalance of the dataset, we consider that the above results, for a simple logistic regression, are good enough."
   ]
  },
  {
   "cell_type": "markdown",
   "id": "66bafa9b-95db-49c6-b116-9ebb65c13fc8",
   "metadata": {},
   "source": [
    "# Find all valid if-thens with all respective coverages and correctness, for all subgroups.\n",
    "\n",
    "**Caution!** This step takes time. Uncomment the following block if you wish to run."
   ]
  },
  {
   "cell_type": "code",
   "execution_count": 11,
   "id": "297d9256",
   "metadata": {
    "tags": []
   },
   "outputs": [
    {
     "name": "stderr",
     "output_type": "stream",
     "text": [
      "100%|██████████| 363/363 [00:00<00:00, 1925.83it/s]\n",
      "100%|██████████| 401/401 [00:56<00:00,  7.13it/s]\n"
     ]
    },
    {
     "name": "stdout",
     "output_type": "stream",
     "text": [
      "Number of if-thens: 401\n"
     ]
    }
   ],
   "source": [
    "ifthens_coverage_correctness = valid_ifthens_with_coverage_correctness(\n",
    "    X_test,\n",
    "    model,\n",
    "    sensitive_attribute,\n",
    "    missing_subgroup_val=\"Unknown\"\n",
    ")\n",
    "\n",
    "print(f\"Number of if-thens: {len(ifthens_coverage_correctness)}\")\n",
    "rules_by_if = rules2rulesbyif(ifthens_coverage_correctness)"
   ]
  },
  {
   "cell_type": "markdown",
   "id": "d17cb30e-0a36-43cb-9f95-2b2e93634e5a",
   "metadata": {},
   "source": [
    "Uncomment the following block if you wish to load rules object from disk."
   ]
  },
  {
   "cell_type": "code",
   "execution_count": 12,
   "id": "c22dbaba-1ccb-4db3-84de-21227328e07c",
   "metadata": {
    "tags": []
   },
   "outputs": [],
   "source": [
    "# import dill\n",
    "\n",
    "# with open(\"rules.data\", \"rb\") as inf:\n",
    "#     rules_by_if = dill.load(inf)"
   ]
  },
  {
   "cell_type": "code",
   "execution_count": 13,
   "id": "8a13da8a-e2a3-481f-9b1b-bc1803f4eccf",
   "metadata": {
    "tags": []
   },
   "outputs": [
    {
     "name": "stdout",
     "output_type": "stream",
     "text": [
      "If \u001b[1mparents = 1, homeowner = 0, age = 55-64, income = Unknown\u001b[0m:\n",
      "\tSubgroup '\u001b[1mF\u001b[0m', \u001b[34m8.7012%\u001b[39m covered\n",
      "\t\tMake \u001b[1m\u001b[31mage = 25-34\u001b[39m\u001b[0m with correctness \u001b[32m0.0000%\u001b[39m.\n",
      "\tSubgroup '\u001b[1mM\u001b[0m', \u001b[34m8.7055%\u001b[39m covered\n",
      "\t\tMake \u001b[1m\u001b[31mage = 25-34\u001b[39m\u001b[0m with correctness \u001b[32m100.0000%\u001b[39m.\n",
      "If \u001b[1mparents = 1, homeowner = 0, age = 55-64\u001b[0m:\n",
      "\tSubgroup '\u001b[1mF\u001b[0m', \u001b[34m9.9026%\u001b[39m covered\n",
      "\t\tMake \u001b[1m\u001b[31mage = 25-34\u001b[39m\u001b[0m with correctness \u001b[32m0.0000%\u001b[39m.\n",
      "\tSubgroup '\u001b[1mM\u001b[0m', \u001b[34m9.9081%\u001b[39m covered\n",
      "\t\tMake \u001b[1m\u001b[31mage = 25-34\u001b[39m\u001b[0m with correctness \u001b[32m87.8631%\u001b[39m.\n",
      "If \u001b[1mparents = 1, homeowner = 0, age = 55-64, college_educated = 1\u001b[0m:\n",
      "\tSubgroup '\u001b[1mF\u001b[0m', \u001b[34m9.9026%\u001b[39m covered\n",
      "\t\tMake \u001b[1m\u001b[31mage = 25-34\u001b[39m\u001b[0m with correctness \u001b[32m0.0000%\u001b[39m.\n",
      "\t\tMake \u001b[1m\u001b[31mhomeowner = 1\u001b[39m, \u001b[31mage = 25-34\u001b[39m\u001b[0m with correctness \u001b[32m0.0000%\u001b[39m.\n",
      "\tSubgroup '\u001b[1mM\u001b[0m', \u001b[34m9.9081%\u001b[39m covered\n",
      "\t\tMake \u001b[1m\u001b[31mage = 25-34\u001b[39m\u001b[0m with correctness \u001b[32m87.8631%\u001b[39m.\n",
      "\t\tMake \u001b[1m\u001b[31mhomeowner = 1\u001b[39m, \u001b[31mage = 25-34\u001b[39m\u001b[0m with correctness \u001b[32m0.0000%\u001b[39m.\n",
      "If \u001b[1mhomeowner = 0, age = 55-64, college_educated = 1\u001b[0m:\n",
      "\tSubgroup '\u001b[1mF\u001b[0m', \u001b[34m10.5158%\u001b[39m covered\n",
      "\t\tMake \u001b[1m\u001b[31mage = 25-34\u001b[39m\u001b[0m with correctness \u001b[32m0.0000%\u001b[39m.\n",
      "\t\tMake \u001b[1m\u001b[31mhomeowner = 1\u001b[39m, \u001b[31mage = 25-34\u001b[39m\u001b[0m with correctness \u001b[32m0.0000%\u001b[39m.\n",
      "\tSubgroup '\u001b[1mM\u001b[0m', \u001b[34m10.4883%\u001b[39m covered\n",
      "\t\tMake \u001b[1m\u001b[31mage = 25-34\u001b[39m\u001b[0m with correctness \u001b[32m83.0025%\u001b[39m.\n",
      "\t\tMake \u001b[1m\u001b[31mhomeowner = 1\u001b[39m, \u001b[31mage = 25-34\u001b[39m\u001b[0m with correctness \u001b[32m0.0000%\u001b[39m.\n",
      "If \u001b[1marea = Unknown, homeowner = 0, age = 55-64\u001b[0m:\n",
      "\tSubgroup '\u001b[1mF\u001b[0m', \u001b[34m10.5301%\u001b[39m covered\n",
      "\t\tMake \u001b[1m\u001b[31mage = 25-34\u001b[39m\u001b[0m with correctness \u001b[32m0.0000%\u001b[39m.\n",
      "\tSubgroup '\u001b[1mM\u001b[0m', \u001b[34m10.5213%\u001b[39m covered\n",
      "\t\tMake \u001b[1m\u001b[31mage = 25-34\u001b[39m\u001b[0m with correctness \u001b[32m82.7422%\u001b[39m.\n",
      "If \u001b[1mhomeowner = 0, age = 55-64\u001b[0m:\n",
      "\tSubgroup '\u001b[1mF\u001b[0m', \u001b[34m10.5396%\u001b[39m covered\n",
      "\t\tMake \u001b[1m\u001b[31mage = 25-34\u001b[39m\u001b[0m with correctness \u001b[32m0.0000%\u001b[39m.\n",
      "\tSubgroup '\u001b[1mM\u001b[0m', \u001b[34m10.5224%\u001b[39m covered\n",
      "\t\tMake \u001b[1m\u001b[31mage = 25-34\u001b[39m\u001b[0m with correctness \u001b[32m82.7333%\u001b[39m.\n",
      "If \u001b[1marea = Unknown, income = Unknown, age = 25-34, college_educated = 1\u001b[0m:\n",
      "\tSubgroup '\u001b[1mF\u001b[0m', \u001b[34m1.2664%\u001b[39m covered\n",
      "\t\tMake \u001b[1m\u001b[31mage = 55-64\u001b[39m, \u001b[31mcollege_educated = 0\u001b[39m\u001b[0m with correctness \u001b[32m13.9294%\u001b[39m.\n",
      "\tSubgroup '\u001b[1mM\u001b[0m', \u001b[34m1.0740%\u001b[39m covered\n",
      "\t\tMake \u001b[1m\u001b[31mage = 55-64\u001b[39m, \u001b[31mcollege_educated = 0\u001b[39m\u001b[0m with correctness \u001b[32m0.0000%\u001b[39m.\n",
      "If \u001b[1mparents = 1, income = Unknown, age = 25-34, area = Unknown\u001b[0m:\n",
      "\tSubgroup '\u001b[1mF\u001b[0m', \u001b[34m1.2634%\u001b[39m covered\n",
      "\t\tMake \u001b[1m\u001b[31mage = 55-64\u001b[39m, \u001b[31marea = Urban\u001b[39m\u001b[0m with correctness \u001b[32m19.0566%\u001b[39m.\n",
      "\tSubgroup '\u001b[1mM\u001b[0m', \u001b[34m1.0489%\u001b[39m covered\n",
      "\t\tMake \u001b[1m\u001b[31mage = 55-64\u001b[39m, \u001b[31marea = Urban\u001b[39m\u001b[0m with correctness \u001b[32m5.4230%\u001b[39m.\n",
      "If \u001b[1marea = Unknown, parents = 1, age = 55-64, college_educated = 1\u001b[0m:\n",
      "\tSubgroup '\u001b[1mF\u001b[0m', \u001b[34m65.2156%\u001b[39m covered\n",
      "\t\tMake \u001b[1m\u001b[31mage = 25-34\u001b[39m\u001b[0m with correctness \u001b[32m-0.0000%\u001b[39m.\n",
      "\tSubgroup '\u001b[1mM\u001b[0m', \u001b[34m65.5442%\u001b[39m covered\n",
      "\t\tMake \u001b[1m\u001b[31mage = 25-34\u001b[39m\u001b[0m with correctness \u001b[32m13.2820%\u001b[39m.\n",
      "If \u001b[1marea = Unknown, parents = 1, age = 55-64\u001b[0m:\n",
      "\tSubgroup '\u001b[1mF\u001b[0m', \u001b[34m68.5456%\u001b[39m covered\n",
      "\t\tMake \u001b[1m\u001b[31mage = 25-34\u001b[39m\u001b[0m with correctness \u001b[32m0.0000%\u001b[39m.\n",
      "\tSubgroup '\u001b[1mM\u001b[0m', \u001b[34m68.8457%\u001b[39m covered\n",
      "\t\tMake \u001b[1m\u001b[31mage = 25-34\u001b[39m\u001b[0m with correctness \u001b[32m12.6450%\u001b[39m.\n",
      "\n"
     ]
    }
   ],
   "source": [
    "K = 10\n",
    "\n",
    "# keep K ifs with maximum coverage on Females\n",
    "# TODO: the below is currently dataset dependent\n",
    "# rules_by_if_filtered = sorted(rules_by_if.items(), key=lambda e: e[1][\"F\"][0][1], reverse=True)[:K]\n",
    "\n",
    "# keep K ifs with maximum absolute difference in correctness between Males and Females.\n",
    "# TODO: the below is currently dataset dependent\n",
    "rules_by_if_filtered = sorted(rules_by_if.items(), key=lambda e: abs(e[1][\"M\"][1][0][1]-e[1][\"F\"][1][0][1]), reverse=True)[:K]\n",
    "\n",
    "rules_by_if_filtered = dict(rules_by_if_filtered)\n",
    "\n",
    "print(recourse_report_reverse(rules_by_if_filtered))"
   ]
  },
  {
   "cell_type": "code",
   "execution_count": 14,
   "id": "c3d9345a-d3f6-4db1-9fa2-887cf76c0149",
   "metadata": {},
   "outputs": [],
   "source": [
    "# #### Uncomment if you wish to save rules object on disk\n",
    "\n",
    "# import dill\n",
    "\n",
    "# with open(\"rules.data\", \"wb\") as outf:\n",
    "#     dill.dump(rules_by_if, outf)"
   ]
  },
  {
   "cell_type": "markdown",
   "id": "680049be-1176-44d9-ba37-61b194dfb97f",
   "metadata": {},
   "source": [
    "# Filter rules by different fairness definitions"
   ]
  },
  {
   "cell_type": "markdown",
   "id": "07e10fea-1fb4-4028-813a-e21b0767983f",
   "metadata": {},
   "source": [
    "Here, we explore more sophisticated ways of picking the \"top\" K rules and showing only those.\n",
    "\n",
    "We start ranking the rule \"groups\" (all recourses for a single \"if\") by averaging out the costs of all suggested recourses, weighted by the respective correctness. For now, the \"cost\" of a recourse is simply the number of features whose value changes (and the magnitude of the change for numerical features, but here there are none)."
   ]
  },
  {
   "cell_type": "code",
   "execution_count": 15,
   "id": "897fbfbd-1667-46e5-8015-fa43a1709905",
   "metadata": {
    "tags": []
   },
   "outputs": [],
   "source": [
    "comparators = gfacts.naive_feature_change_builder(num_cols=num_features, cate_cols=cate_features, feature_weights=feature_weights)\n",
    "params = ParameterProxy(featureChanges=comparators)"
   ]
  },
  {
   "cell_type": "markdown",
   "id": "3083f9ee-9126-4cd4-a84a-5816e32e1cb8",
   "metadata": {},
   "source": [
    "## Weighted Average Score"
   ]
  },
  {
   "cell_type": "code",
   "execution_count": 16,
   "id": "7b51ca0b-5aa1-4868-9aa7-5582e7e2e00d",
   "metadata": {
    "tags": []
   },
   "outputs": [
    {
     "name": "stdout",
     "output_type": "stream",
     "text": [
      "If \u001b[1mparents = 1, homeowner = 0, age = 55-64, income = Unknown\u001b[0m:\n",
      "\tSubgroup '\u001b[1mF\u001b[0m', \u001b[34m8.7012%\u001b[39m covered out of 600135\n",
      "\t\tMake \u001b[1m\u001b[31mage = 25-34\u001b[39m\u001b[0m with correctness \u001b[32m0.0000%\u001b[39m.\n",
      "\t\t\u001b[1mAggregate cost\u001b[0m of the above recourses = \u001b[35m0.0\u001b[39m\n",
      "\tSubgroup '\u001b[1mM\u001b[0m', \u001b[34m8.7055%\u001b[39m covered out of 314181\n",
      "\t\tMake \u001b[1m\u001b[31mage = 25-34\u001b[39m\u001b[0m with correctness \u001b[32m100.0000%\u001b[39m.\n",
      "\t\t\u001b[1mAggregate cost\u001b[0m of the above recourses = \u001b[35m1.0\u001b[39m\n",
      "If \u001b[1mparents = 1, homeowner = 0, age = 55-64, income = <100K\u001b[0m:\n",
      "\tSubgroup '\u001b[1mF\u001b[0m', \u001b[34m1.2014%\u001b[39m covered out of 600135\n",
      "\t\tMake \u001b[1m\u001b[31mincome = Unknown\u001b[39m\u001b[0m with correctness \u001b[32m0.0000%\u001b[39m.\n",
      "\t\tMake \u001b[1m\u001b[31mage = 25-34\u001b[39m, \u001b[31mincome = Unknown\u001b[39m\u001b[0m with correctness \u001b[32m0.0000%\u001b[39m.\n",
      "\t\t\u001b[1mAggregate cost\u001b[0m of the above recourses = \u001b[35m0.0\u001b[39m\n",
      "\tSubgroup '\u001b[1mM\u001b[0m', \u001b[34m1.2025%\u001b[39m covered out of 314181\n",
      "\t\tMake \u001b[1m\u001b[31mincome = Unknown\u001b[39m\u001b[0m with correctness \u001b[32m0.0000%\u001b[39m.\n",
      "\t\tMake \u001b[1m\u001b[31mage = 25-34\u001b[39m, \u001b[31mincome = Unknown\u001b[39m\u001b[0m with correctness \u001b[32m100.0000%\u001b[39m.\n",
      "\t\t\u001b[1mAggregate cost\u001b[0m of the above recourses = \u001b[35m1.0\u001b[39m\n",
      "If \u001b[1mhomeowner = 0, age = 55-64, income = <100K\u001b[0m:\n",
      "\tSubgroup '\u001b[1mF\u001b[0m', \u001b[34m1.2693%\u001b[39m covered out of 600135\n",
      "\t\tMake \u001b[1m\u001b[31mincome = Unknown\u001b[39m\u001b[0m with correctness \u001b[32m0.0000%\u001b[39m.\n",
      "\t\tMake \u001b[1m\u001b[31mage = 25-34\u001b[39m, \u001b[31mincome = Unknown\u001b[39m\u001b[0m with correctness \u001b[32m0.0000%\u001b[39m.\n",
      "\t\t\u001b[1mAggregate cost\u001b[0m of the above recourses = \u001b[35m0.0\u001b[39m\n",
      "\tSubgroup '\u001b[1mM\u001b[0m', \u001b[34m1.2765%\u001b[39m covered out of 314181\n",
      "\t\tMake \u001b[1m\u001b[31mincome = Unknown\u001b[39m\u001b[0m with correctness \u001b[32m0.0891%\u001b[39m.\n",
      "\t\tMake \u001b[1m\u001b[31mage = 25-34\u001b[39m, \u001b[31mincome = Unknown\u001b[39m\u001b[0m with correctness \u001b[32m94.2959%\u001b[39m.\n",
      "\t\t\u001b[1mAggregate cost\u001b[0m of the above recourses = \u001b[35m0.943405\u001b[39m\n",
      "If \u001b[1mparents = 1, homeowner = 0, age = 55-64\u001b[0m:\n",
      "\tSubgroup '\u001b[1mF\u001b[0m', \u001b[34m9.9026%\u001b[39m covered out of 600135\n",
      "\t\tMake \u001b[1m\u001b[31mage = 25-34\u001b[39m\u001b[0m with correctness \u001b[32m0.0000%\u001b[39m.\n",
      "\t\t\u001b[1mAggregate cost\u001b[0m of the above recourses = \u001b[35m0.0\u001b[39m\n",
      "\tSubgroup '\u001b[1mM\u001b[0m', \u001b[34m9.9081%\u001b[39m covered out of 314181\n",
      "\t\tMake \u001b[1m\u001b[31mage = 25-34\u001b[39m\u001b[0m with correctness \u001b[32m87.8631%\u001b[39m.\n",
      "\t\t\u001b[1mAggregate cost\u001b[0m of the above recourses = \u001b[35m0.878631\u001b[39m\n",
      "If \u001b[1marea = Unknown, homeowner = 0, age = 55-64\u001b[0m:\n",
      "\tSubgroup '\u001b[1mF\u001b[0m', \u001b[34m10.5301%\u001b[39m covered out of 600135\n",
      "\t\tMake \u001b[1m\u001b[31mage = 25-34\u001b[39m\u001b[0m with correctness \u001b[32m0.0000%\u001b[39m.\n",
      "\t\t\u001b[1mAggregate cost\u001b[0m of the above recourses = \u001b[35m0.0\u001b[39m\n",
      "\tSubgroup '\u001b[1mM\u001b[0m', \u001b[34m10.5213%\u001b[39m covered out of 314181\n",
      "\t\tMake \u001b[1m\u001b[31mage = 25-34\u001b[39m\u001b[0m with correctness \u001b[32m82.7422%\u001b[39m.\n",
      "\t\t\u001b[1mAggregate cost\u001b[0m of the above recourses = \u001b[35m0.827422\u001b[39m\n",
      "If \u001b[1mhomeowner = 0, age = 55-64\u001b[0m:\n",
      "\tSubgroup '\u001b[1mF\u001b[0m', \u001b[34m10.5396%\u001b[39m covered out of 600135\n",
      "\t\tMake \u001b[1m\u001b[31mage = 25-34\u001b[39m\u001b[0m with correctness \u001b[32m0.0000%\u001b[39m.\n",
      "\t\t\u001b[1mAggregate cost\u001b[0m of the above recourses = \u001b[35m0.0\u001b[39m\n",
      "\tSubgroup '\u001b[1mM\u001b[0m', \u001b[34m10.5224%\u001b[39m covered out of 314181\n",
      "\t\tMake \u001b[1m\u001b[31mage = 25-34\u001b[39m\u001b[0m with correctness \u001b[32m82.7333%\u001b[39m.\n",
      "\t\t\u001b[1mAggregate cost\u001b[0m of the above recourses = \u001b[35m0.827333\u001b[39m\n",
      "If \u001b[1mhomeowner = 0, age = 55-64, income = Unknown\u001b[0m:\n",
      "\tSubgroup '\u001b[1mF\u001b[0m', \u001b[34m9.2363%\u001b[39m covered out of 600135\n",
      "\t\tMake \u001b[1m\u001b[31mincome = <100K\u001b[39m\u001b[0m with correctness \u001b[32m0.0000%\u001b[39m.\n",
      "\t\tMake \u001b[1m\u001b[31mage = 25-34\u001b[39m\u001b[0m with correctness \u001b[32m0.0000%\u001b[39m.\n",
      "\t\t\u001b[1mAggregate cost\u001b[0m of the above recourses = \u001b[35m0.0\u001b[39m\n",
      "\tSubgroup '\u001b[1mM\u001b[0m', \u001b[34m9.2118%\u001b[39m covered out of 314181\n",
      "\t\tMake \u001b[1m\u001b[31mincome = <100K\u001b[39m\u001b[0m with correctness \u001b[32m0.0000%\u001b[39m.\n",
      "\t\tMake \u001b[1m\u001b[31mage = 25-34\u001b[39m\u001b[0m with correctness \u001b[32m94.5041%\u001b[39m.\n",
      "\t\t\u001b[1mAggregate cost\u001b[0m of the above recourses = \u001b[35m0.472521\u001b[39m\n",
      "If \u001b[1mparents = 1, homeowner = 0, age = 55-64, college_educated = 1\u001b[0m:\n",
      "\tSubgroup '\u001b[1mF\u001b[0m', \u001b[34m9.9026%\u001b[39m covered out of 600135\n",
      "\t\tMake \u001b[1m\u001b[31mage = 25-34\u001b[39m\u001b[0m with correctness \u001b[32m0.0000%\u001b[39m.\n",
      "\t\tMake \u001b[1m\u001b[31mhomeowner = 1\u001b[39m, \u001b[31mage = 25-34\u001b[39m\u001b[0m with correctness \u001b[32m0.0000%\u001b[39m.\n",
      "\t\t\u001b[1mAggregate cost\u001b[0m of the above recourses = \u001b[35m0.0\u001b[39m\n",
      "\tSubgroup '\u001b[1mM\u001b[0m', \u001b[34m9.9081%\u001b[39m covered out of 314181\n",
      "\t\tMake \u001b[1m\u001b[31mage = 25-34\u001b[39m\u001b[0m with correctness \u001b[32m87.8631%\u001b[39m.\n",
      "\t\tMake \u001b[1m\u001b[31mhomeowner = 1\u001b[39m, \u001b[31mage = 25-34\u001b[39m\u001b[0m with correctness \u001b[32m0.0000%\u001b[39m.\n",
      "\t\t\u001b[1mAggregate cost\u001b[0m of the above recourses = \u001b[35m0.439316\u001b[39m\n",
      "If \u001b[1marea = Unknown, homeowner = 0, age = 55-64, college_educated = 1\u001b[0m:\n",
      "\tSubgroup '\u001b[1mF\u001b[0m', \u001b[34m10.5062%\u001b[39m covered out of 600135\n",
      "\t\tMake \u001b[1m\u001b[31marea = Rural\u001b[39m, \u001b[31mhomeowner = 1\u001b[39m, \u001b[31mage = 25-34\u001b[39m\u001b[0m with correctness \u001b[32m82.8191%\u001b[39m.\n",
      "\t\tMake \u001b[1m\u001b[31mage = 25-34\u001b[39m\u001b[0m with correctness \u001b[32m0.0000%\u001b[39m.\n",
      "\t\t\u001b[1mAggregate cost\u001b[0m of the above recourses = \u001b[35m1.24229\u001b[39m\n",
      "\tSubgroup '\u001b[1mM\u001b[0m', \u001b[34m10.4872%\u001b[39m covered out of 314181\n",
      "\t\tMake \u001b[1m\u001b[31marea = Rural\u001b[39m, \u001b[31mhomeowner = 1\u001b[39m, \u001b[31mage = 25-34\u001b[39m\u001b[0m with correctness \u001b[32m83.0115%\u001b[39m.\n",
      "\t\tMake \u001b[1m\u001b[31mage = 25-34\u001b[39m\u001b[0m with correctness \u001b[32m83.0115%\u001b[39m.\n",
      "\t\t\u001b[1mAggregate cost\u001b[0m of the above recourses = \u001b[35m1.66023\u001b[39m\n",
      "If \u001b[1mhomeowner = 0, age = 55-64, college_educated = 1\u001b[0m:\n",
      "\tSubgroup '\u001b[1mF\u001b[0m', \u001b[34m10.5158%\u001b[39m covered out of 600135\n",
      "\t\tMake \u001b[1m\u001b[31mage = 25-34\u001b[39m\u001b[0m with correctness \u001b[32m0.0000%\u001b[39m.\n",
      "\t\tMake \u001b[1m\u001b[31mhomeowner = 1\u001b[39m, \u001b[31mage = 25-34\u001b[39m\u001b[0m with correctness \u001b[32m0.0000%\u001b[39m.\n",
      "\t\t\u001b[1mAggregate cost\u001b[0m of the above recourses = \u001b[35m0.0\u001b[39m\n",
      "\tSubgroup '\u001b[1mM\u001b[0m', \u001b[34m10.4883%\u001b[39m covered out of 314181\n",
      "\t\tMake \u001b[1m\u001b[31mage = 25-34\u001b[39m\u001b[0m with correctness \u001b[32m83.0025%\u001b[39m.\n",
      "\t\tMake \u001b[1m\u001b[31mhomeowner = 1\u001b[39m, \u001b[31mage = 25-34\u001b[39m\u001b[0m with correctness \u001b[32m0.0000%\u001b[39m.\n",
      "\t\t\u001b[1mAggregate cost\u001b[0m of the above recourses = \u001b[35m0.415012\u001b[39m\n",
      "\n"
     ]
    }
   ],
   "source": [
    "top_rules = gfacts.select_rules_subset(\n",
    "    rules_by_if,\n",
    "    metric = \"weighted-average\",\n",
    "    sort_strategy = \"abs-diff-decr\",\n",
    "    top_count = 10\n",
    ")\n",
    "\n",
    "pop_sizes = {sg: (ad_conversion_dataset[\"gender\"] == sg).sum() for sg in ad_conversion_dataset[\"gender\"].unique()}\n",
    "print(recourse_report_reverse(\n",
    "    top_rules,\n",
    "    population_sizes=pop_sizes,\n",
    "    subgroup_costs=gfacts.calculate_all_if_subgroup_costs(list(top_rules.keys()), list(top_rules.values()))\n",
    "))"
   ]
  },
  {
   "cell_type": "markdown",
   "id": "b68eb89f-39e1-4143-93aa-5367b5356b40",
   "metadata": {},
   "source": [
    "## Minimum cost above threshold"
   ]
  },
  {
   "cell_type": "code",
   "execution_count": 17,
   "id": "df56bb6f-2359-4108-8b03-326caf4f37a4",
   "metadata": {
    "tags": []
   },
   "outputs": [
    {
     "name": "stdout",
     "output_type": "stream",
     "text": [
      "If \u001b[1mhomeowner = 0, age = 55-64\u001b[0m:\n",
      "\tSubgroup '\u001b[1mF\u001b[0m', \u001b[34m10.5396%\u001b[39m covered out of 600135\n",
      "\t\t\u001b[31mNo recourses for this subgroup!\n",
      "\u001b[39m\t\t\u001b[1mAggregate cost\u001b[0m of the above recourses = \u001b[35minf\u001b[39m\n",
      "\tSubgroup '\u001b[1mM\u001b[0m', \u001b[34m10.5224%\u001b[39m covered out of 314181\n",
      "\t\tMake \u001b[1m\u001b[31mage = 25-34\u001b[39m\u001b[0m with correctness \u001b[32m82.7333%\u001b[39m.\n",
      "\t\t\u001b[1mAggregate cost\u001b[0m of the above recourses = \u001b[35m1.0\u001b[39m\n",
      "If \u001b[1marea = Unknown, homeowner = 0, age = 55-64\u001b[0m:\n",
      "\tSubgroup '\u001b[1mF\u001b[0m', \u001b[34m10.5301%\u001b[39m covered out of 600135\n",
      "\t\t\u001b[31mNo recourses for this subgroup!\n",
      "\u001b[39m\t\t\u001b[1mAggregate cost\u001b[0m of the above recourses = \u001b[35minf\u001b[39m\n",
      "\tSubgroup '\u001b[1mM\u001b[0m', \u001b[34m10.5213%\u001b[39m covered out of 314181\n",
      "\t\tMake \u001b[1m\u001b[31mage = 25-34\u001b[39m\u001b[0m with correctness \u001b[32m82.7422%\u001b[39m.\n",
      "\t\t\u001b[1mAggregate cost\u001b[0m of the above recourses = \u001b[35m1.0\u001b[39m\n",
      "If \u001b[1mhomeowner = 0, age = 55-64, college_educated = 1\u001b[0m:\n",
      "\tSubgroup '\u001b[1mF\u001b[0m', \u001b[34m10.5158%\u001b[39m covered out of 600135\n",
      "\t\t\u001b[31mNo recourses for this subgroup!\n",
      "\u001b[39m\t\t\u001b[1mAggregate cost\u001b[0m of the above recourses = \u001b[35minf\u001b[39m\n",
      "\tSubgroup '\u001b[1mM\u001b[0m', \u001b[34m10.4883%\u001b[39m covered out of 314181\n",
      "\t\tMake \u001b[1m\u001b[31mage = 25-34\u001b[39m\u001b[0m with correctness \u001b[32m83.0025%\u001b[39m.\n",
      "\t\t\u001b[1mAggregate cost\u001b[0m of the above recourses = \u001b[35m1.0\u001b[39m\n",
      "If \u001b[1mparents = 1, homeowner = 0, age = 55-64\u001b[0m:\n",
      "\tSubgroup '\u001b[1mF\u001b[0m', \u001b[34m9.9026%\u001b[39m covered out of 600135\n",
      "\t\t\u001b[31mNo recourses for this subgroup!\n",
      "\u001b[39m\t\t\u001b[1mAggregate cost\u001b[0m of the above recourses = \u001b[35minf\u001b[39m\n",
      "\tSubgroup '\u001b[1mM\u001b[0m', \u001b[34m9.9081%\u001b[39m covered out of 314181\n",
      "\t\tMake \u001b[1m\u001b[31mage = 25-34\u001b[39m\u001b[0m with correctness \u001b[32m87.8631%\u001b[39m.\n",
      "\t\t\u001b[1mAggregate cost\u001b[0m of the above recourses = \u001b[35m1.0\u001b[39m\n",
      "If \u001b[1mparents = 1, homeowner = 0, age = 55-64, college_educated = 1\u001b[0m:\n",
      "\tSubgroup '\u001b[1mF\u001b[0m', \u001b[34m9.9026%\u001b[39m covered out of 600135\n",
      "\t\t\u001b[31mNo recourses for this subgroup!\n",
      "\u001b[39m\t\t\u001b[1mAggregate cost\u001b[0m of the above recourses = \u001b[35minf\u001b[39m\n",
      "\tSubgroup '\u001b[1mM\u001b[0m', \u001b[34m9.9081%\u001b[39m covered out of 314181\n",
      "\t\tMake \u001b[1m\u001b[31mage = 25-34\u001b[39m\u001b[0m with correctness \u001b[32m87.8631%\u001b[39m.\n",
      "\t\t\u001b[1mAggregate cost\u001b[0m of the above recourses = \u001b[35m1.0\u001b[39m\n",
      "If \u001b[1mhomeowner = 0, age = 55-64, income = Unknown\u001b[0m:\n",
      "\tSubgroup '\u001b[1mF\u001b[0m', \u001b[34m9.2363%\u001b[39m covered out of 600135\n",
      "\t\t\u001b[31mNo recourses for this subgroup!\n",
      "\u001b[39m\t\t\u001b[1mAggregate cost\u001b[0m of the above recourses = \u001b[35minf\u001b[39m\n",
      "\tSubgroup '\u001b[1mM\u001b[0m', \u001b[34m9.2118%\u001b[39m covered out of 314181\n",
      "\t\tMake \u001b[1m\u001b[31mage = 25-34\u001b[39m\u001b[0m with correctness \u001b[32m94.5041%\u001b[39m.\n",
      "\t\t\u001b[1mAggregate cost\u001b[0m of the above recourses = \u001b[35m1.0\u001b[39m\n",
      "If \u001b[1mparents = 1, homeowner = 0, age = 55-64, income = Unknown\u001b[0m:\n",
      "\tSubgroup '\u001b[1mF\u001b[0m', \u001b[34m8.7012%\u001b[39m covered out of 600135\n",
      "\t\t\u001b[31mNo recourses for this subgroup!\n",
      "\u001b[39m\t\t\u001b[1mAggregate cost\u001b[0m of the above recourses = \u001b[35minf\u001b[39m\n",
      "\tSubgroup '\u001b[1mM\u001b[0m', \u001b[34m8.7055%\u001b[39m covered out of 314181\n",
      "\t\tMake \u001b[1m\u001b[31mage = 25-34\u001b[39m\u001b[0m with correctness \u001b[32m100.0000%\u001b[39m.\n",
      "\t\t\u001b[1mAggregate cost\u001b[0m of the above recourses = \u001b[35m1.0\u001b[39m\n",
      "If \u001b[1mhomeowner = 1, age = 25-34, college_educated = 1\u001b[0m:\n",
      "\tSubgroup '\u001b[1mF\u001b[0m', \u001b[34m1.5351%\u001b[39m covered out of 600135\n",
      "\t\t\u001b[31mNo recourses for this subgroup!\n",
      "\u001b[39m\t\t\u001b[1mAggregate cost\u001b[0m of the above recourses = \u001b[35minf\u001b[39m\n",
      "\tSubgroup '\u001b[1mM\u001b[0m', \u001b[34m1.4574%\u001b[39m covered out of 314181\n",
      "\t\tMake \u001b[1m\u001b[31mhomeowner = 0\u001b[39m\u001b[0m with correctness \u001b[32m93.4426%\u001b[39m.\n",
      "\t\t\u001b[1mAggregate cost\u001b[0m of the above recourses = \u001b[35m1.0\u001b[39m\n",
      "If \u001b[1mparents = 1, homeowner = 1, age = 25-34, college_educated = 1\u001b[0m:\n",
      "\tSubgroup '\u001b[1mF\u001b[0m', \u001b[34m1.4445%\u001b[39m covered out of 600135\n",
      "\t\t\u001b[31mNo recourses for this subgroup!\n",
      "\u001b[39m\t\t\u001b[1mAggregate cost\u001b[0m of the above recourses = \u001b[35minf\u001b[39m\n",
      "\tSubgroup '\u001b[1mM\u001b[0m', \u001b[34m1.3652%\u001b[39m covered out of 314181\n",
      "\t\tMake \u001b[1m\u001b[31mhomeowner = 0\u001b[39m\u001b[0m with correctness \u001b[32m98.6667%\u001b[39m.\n",
      "\t\t\u001b[1mAggregate cost\u001b[0m of the above recourses = \u001b[35m1.0\u001b[39m\n",
      "If \u001b[1mhomeowner = 0, age = 55-64, income = <100K\u001b[0m:\n",
      "\tSubgroup '\u001b[1mF\u001b[0m', \u001b[34m1.2693%\u001b[39m covered out of 600135\n",
      "\t\t\u001b[31mNo recourses for this subgroup!\n",
      "\u001b[39m\t\t\u001b[1mAggregate cost\u001b[0m of the above recourses = \u001b[35minf\u001b[39m\n",
      "\tSubgroup '\u001b[1mM\u001b[0m', \u001b[34m1.2765%\u001b[39m covered out of 314181\n",
      "\t\tMake \u001b[1m\u001b[31mage = 25-34\u001b[39m, \u001b[31mincome = Unknown\u001b[39m\u001b[0m with correctness \u001b[32m94.2959%\u001b[39m.\n",
      "\t\t\u001b[1mAggregate cost\u001b[0m of the above recourses = \u001b[35m2.0\u001b[39m\n",
      "\n"
     ]
    }
   ],
   "source": [
    "top_rules = gfacts.select_rules_subset(\n",
    "    rules_by_if,\n",
    "    metric=\"min-above-thr\",\n",
    "    sort_strategy=\"abs-diff-decr-ignore-forall-subgroups-empty\",\n",
    "    top_count=10,\n",
    "    cor_threshold=0.5,\n",
    "    filter_sequence=[\"remove-below-thr\"]\n",
    ")\n",
    "\n",
    "pop_sizes = {sg: (ad_conversion_dataset[\"gender\"] == sg).sum() for sg in ad_conversion_dataset[\"gender\"].unique()}\n",
    "print(recourse_report_reverse(\n",
    "    top_rules,\n",
    "    population_sizes = pop_sizes,\n",
    "    subgroup_costs=gfacts.calculate_all_if_subgroup_costs(\n",
    "        list(top_rules.keys()),\n",
    "        list(top_rules.values()),\n",
    "        group_calculator=gfacts.if_group_cost_min_change_correctness_threshold,\n",
    "        cor_thres=0.5\n",
    "    )\n",
    "))"
   ]
  },
  {
   "cell_type": "markdown",
   "id": "0803e721-32f6-476e-b105-cff1c7e8bba0",
   "metadata": {},
   "source": [
    "## Cost above threshold"
   ]
  },
  {
   "cell_type": "code",
   "execution_count": 18,
   "id": "e4368275-1328-4cbd-ae81-e1facb6a4bc3",
   "metadata": {
    "tags": []
   },
   "outputs": [
    {
     "name": "stdout",
     "output_type": "stream",
     "text": [
      "If \u001b[1mhomeowner = 0, age = 55-64\u001b[0m:\n",
      "\tSubgroup '\u001b[1mF\u001b[0m', \u001b[34m10.5396%\u001b[39m covered out of 600135\n",
      "\t\t\u001b[31mNo recourses for this subgroup!\n",
      "\u001b[39m\t\t\u001b[1mAggregate cost\u001b[0m of the above recourses = \u001b[35minf\u001b[39m\n",
      "\tSubgroup '\u001b[1mM\u001b[0m', \u001b[34m10.5224%\u001b[39m covered out of 314181\n",
      "\t\tMake \u001b[1m\u001b[31mage = 25-34\u001b[39m\u001b[0m with correctness \u001b[32m82.7333%\u001b[39m.\n",
      "\t\t\u001b[1mAggregate cost\u001b[0m of the above recourses = \u001b[35m1.0\u001b[39m\n",
      "If \u001b[1marea = Unknown, homeowner = 0, age = 55-64\u001b[0m:\n",
      "\tSubgroup '\u001b[1mF\u001b[0m', \u001b[34m10.5301%\u001b[39m covered out of 600135\n",
      "\t\t\u001b[31mNo recourses for this subgroup!\n",
      "\u001b[39m\t\t\u001b[1mAggregate cost\u001b[0m of the above recourses = \u001b[35minf\u001b[39m\n",
      "\tSubgroup '\u001b[1mM\u001b[0m', \u001b[34m10.5213%\u001b[39m covered out of 314181\n",
      "\t\tMake \u001b[1m\u001b[31mage = 25-34\u001b[39m\u001b[0m with correctness \u001b[32m82.7422%\u001b[39m.\n",
      "\t\t\u001b[1mAggregate cost\u001b[0m of the above recourses = \u001b[35m1.0\u001b[39m\n",
      "If \u001b[1mhomeowner = 0, age = 55-64, college_educated = 1\u001b[0m:\n",
      "\tSubgroup '\u001b[1mF\u001b[0m', \u001b[34m10.5158%\u001b[39m covered out of 600135\n",
      "\t\t\u001b[31mNo recourses for this subgroup!\n",
      "\u001b[39m\t\t\u001b[1mAggregate cost\u001b[0m of the above recourses = \u001b[35minf\u001b[39m\n",
      "\tSubgroup '\u001b[1mM\u001b[0m', \u001b[34m10.4883%\u001b[39m covered out of 314181\n",
      "\t\tMake \u001b[1m\u001b[31mage = 25-34\u001b[39m\u001b[0m with correctness \u001b[32m83.0025%\u001b[39m.\n",
      "\t\t\u001b[1mAggregate cost\u001b[0m of the above recourses = \u001b[35m1.0\u001b[39m\n",
      "If \u001b[1mparents = 1, homeowner = 0, age = 55-64\u001b[0m:\n",
      "\tSubgroup '\u001b[1mF\u001b[0m', \u001b[34m9.9026%\u001b[39m covered out of 600135\n",
      "\t\t\u001b[31mNo recourses for this subgroup!\n",
      "\u001b[39m\t\t\u001b[1mAggregate cost\u001b[0m of the above recourses = \u001b[35minf\u001b[39m\n",
      "\tSubgroup '\u001b[1mM\u001b[0m', \u001b[34m9.9081%\u001b[39m covered out of 314181\n",
      "\t\tMake \u001b[1m\u001b[31mage = 25-34\u001b[39m\u001b[0m with correctness \u001b[32m87.8631%\u001b[39m.\n",
      "\t\t\u001b[1mAggregate cost\u001b[0m of the above recourses = \u001b[35m1.0\u001b[39m\n",
      "If \u001b[1mparents = 1, homeowner = 0, age = 55-64, college_educated = 1\u001b[0m:\n",
      "\tSubgroup '\u001b[1mF\u001b[0m', \u001b[34m9.9026%\u001b[39m covered out of 600135\n",
      "\t\t\u001b[31mNo recourses for this subgroup!\n",
      "\u001b[39m\t\t\u001b[1mAggregate cost\u001b[0m of the above recourses = \u001b[35minf\u001b[39m\n",
      "\tSubgroup '\u001b[1mM\u001b[0m', \u001b[34m9.9081%\u001b[39m covered out of 314181\n",
      "\t\tMake \u001b[1m\u001b[31mage = 25-34\u001b[39m\u001b[0m with correctness \u001b[32m87.8631%\u001b[39m.\n",
      "\t\t\u001b[1mAggregate cost\u001b[0m of the above recourses = \u001b[35m1.0\u001b[39m\n",
      "If \u001b[1mhomeowner = 0, age = 55-64, income = Unknown\u001b[0m:\n",
      "\tSubgroup '\u001b[1mF\u001b[0m', \u001b[34m9.2363%\u001b[39m covered out of 600135\n",
      "\t\t\u001b[31mNo recourses for this subgroup!\n",
      "\u001b[39m\t\t\u001b[1mAggregate cost\u001b[0m of the above recourses = \u001b[35minf\u001b[39m\n",
      "\tSubgroup '\u001b[1mM\u001b[0m', \u001b[34m9.2118%\u001b[39m covered out of 314181\n",
      "\t\tMake \u001b[1m\u001b[31mage = 25-34\u001b[39m\u001b[0m with correctness \u001b[32m94.5041%\u001b[39m.\n",
      "\t\t\u001b[1mAggregate cost\u001b[0m of the above recourses = \u001b[35m1.0\u001b[39m\n",
      "If \u001b[1mparents = 1, homeowner = 0, age = 55-64, income = Unknown\u001b[0m:\n",
      "\tSubgroup '\u001b[1mF\u001b[0m', \u001b[34m8.7012%\u001b[39m covered out of 600135\n",
      "\t\t\u001b[31mNo recourses for this subgroup!\n",
      "\u001b[39m\t\t\u001b[1mAggregate cost\u001b[0m of the above recourses = \u001b[35minf\u001b[39m\n",
      "\tSubgroup '\u001b[1mM\u001b[0m', \u001b[34m8.7055%\u001b[39m covered out of 314181\n",
      "\t\tMake \u001b[1m\u001b[31mage = 25-34\u001b[39m\u001b[0m with correctness \u001b[32m100.0000%\u001b[39m.\n",
      "\t\t\u001b[1mAggregate cost\u001b[0m of the above recourses = \u001b[35m1.0\u001b[39m\n",
      "If \u001b[1mhomeowner = 1, age = 25-34, college_educated = 1\u001b[0m:\n",
      "\tSubgroup '\u001b[1mF\u001b[0m', \u001b[34m1.5351%\u001b[39m covered out of 600135\n",
      "\t\t\u001b[31mNo recourses for this subgroup!\n",
      "\u001b[39m\t\t\u001b[1mAggregate cost\u001b[0m of the above recourses = \u001b[35minf\u001b[39m\n",
      "\tSubgroup '\u001b[1mM\u001b[0m', \u001b[34m1.4574%\u001b[39m covered out of 314181\n",
      "\t\tMake \u001b[1m\u001b[31mhomeowner = 0\u001b[39m\u001b[0m with correctness \u001b[32m93.4426%\u001b[39m.\n",
      "\t\t\u001b[1mAggregate cost\u001b[0m of the above recourses = \u001b[35m1.0\u001b[39m\n",
      "If \u001b[1mparents = 1, homeowner = 1, age = 25-34, college_educated = 1\u001b[0m:\n",
      "\tSubgroup '\u001b[1mF\u001b[0m', \u001b[34m1.4445%\u001b[39m covered out of 600135\n",
      "\t\t\u001b[31mNo recourses for this subgroup!\n",
      "\u001b[39m\t\t\u001b[1mAggregate cost\u001b[0m of the above recourses = \u001b[35minf\u001b[39m\n",
      "\tSubgroup '\u001b[1mM\u001b[0m', \u001b[34m1.3652%\u001b[39m covered out of 314181\n",
      "\t\tMake \u001b[1m\u001b[31mhomeowner = 0\u001b[39m\u001b[0m with correctness \u001b[32m98.6667%\u001b[39m.\n",
      "\t\t\u001b[1mAggregate cost\u001b[0m of the above recourses = \u001b[35m1.0\u001b[39m\n",
      "If \u001b[1mhomeowner = 0, age = 55-64, income = <100K\u001b[0m:\n",
      "\tSubgroup '\u001b[1mF\u001b[0m', \u001b[34m1.2693%\u001b[39m covered out of 600135\n",
      "\t\t\u001b[31mNo recourses for this subgroup!\n",
      "\u001b[39m\t\t\u001b[1mAggregate cost\u001b[0m of the above recourses = \u001b[35minf\u001b[39m\n",
      "\tSubgroup '\u001b[1mM\u001b[0m', \u001b[34m1.2765%\u001b[39m covered out of 314181\n",
      "\t\tMake \u001b[1m\u001b[31mage = 25-34\u001b[39m, \u001b[31mincome = Unknown\u001b[39m\u001b[0m with correctness \u001b[32m94.2959%\u001b[39m.\n",
      "\t\t\u001b[1mAggregate cost\u001b[0m of the above recourses = \u001b[35m2.0\u001b[39m\n",
      "\n"
     ]
    }
   ],
   "source": [
    "top_rules = gfacts.select_rules_subset(\n",
    "    rules_by_if,\n",
    "    metric=\"total-above-thr\",\n",
    "    sort_strategy=\"abs-diff-decr-ignore-forall-subgroups-empty\",\n",
    "    top_count=10,\n",
    "    cor_threshold=0.5,\n",
    "    filter_sequence=[\"remove-below-thr\"]\n",
    ")\n",
    "\n",
    "pop_sizes = {sg: (ad_conversion_dataset[\"gender\"] == sg).sum() for sg in ad_conversion_dataset[\"gender\"].unique()}\n",
    "print(recourse_report_reverse(\n",
    "    top_rules,\n",
    "    population_sizes = pop_sizes,\n",
    "    subgroup_costs=gfacts.calculate_all_if_subgroup_costs(\n",
    "        list(top_rules.keys()),\n",
    "        list(top_rules.values()),\n",
    "        group_calculator=gfacts.if_group_cost_sum_change_correctness_threshold,\n",
    "        cor_thres=0.5\n",
    "    )\n",
    "))"
   ]
  },
  {
   "cell_type": "markdown",
   "id": "1e6b8414-7b1a-4bec-92cb-1e8eae446e34",
   "metadata": {},
   "source": [
    "## Number above threshold"
   ]
  },
  {
   "cell_type": "code",
   "execution_count": 19,
   "id": "0fbbdba8-cec7-420e-812b-925948519167",
   "metadata": {
    "tags": []
   },
   "outputs": [
    {
     "name": "stdout",
     "output_type": "stream",
     "text": [
      "If \u001b[1mhomeowner = 0, age = 55-64\u001b[0m:\n",
      "\tSubgroup '\u001b[1mF\u001b[0m', \u001b[34m10.5396%\u001b[39m covered out of 600135\n",
      "\t\t\u001b[31mNo recourses for this subgroup!\n",
      "\u001b[39m\t\t\u001b[1mAggregate cost\u001b[0m of the above recourses = \u001b[35m0.0\u001b[39m\n",
      "\tSubgroup '\u001b[1mM\u001b[0m', \u001b[34m10.5224%\u001b[39m covered out of 314181\n",
      "\t\tMake \u001b[1m\u001b[31mage = 25-34\u001b[39m\u001b[0m with correctness \u001b[32m82.7333%\u001b[39m.\n",
      "\t\t\u001b[1mAggregate cost\u001b[0m of the above recourses = \u001b[35m1.0\u001b[39m\n",
      "If \u001b[1marea = Unknown, homeowner = 0, age = 55-64\u001b[0m:\n",
      "\tSubgroup '\u001b[1mF\u001b[0m', \u001b[34m10.5301%\u001b[39m covered out of 600135\n",
      "\t\t\u001b[31mNo recourses for this subgroup!\n",
      "\u001b[39m\t\t\u001b[1mAggregate cost\u001b[0m of the above recourses = \u001b[35m0.0\u001b[39m\n",
      "\tSubgroup '\u001b[1mM\u001b[0m', \u001b[34m10.5213%\u001b[39m covered out of 314181\n",
      "\t\tMake \u001b[1m\u001b[31mage = 25-34\u001b[39m\u001b[0m with correctness \u001b[32m82.7422%\u001b[39m.\n",
      "\t\t\u001b[1mAggregate cost\u001b[0m of the above recourses = \u001b[35m1.0\u001b[39m\n",
      "If \u001b[1mhomeowner = 0, age = 55-64, college_educated = 1\u001b[0m:\n",
      "\tSubgroup '\u001b[1mF\u001b[0m', \u001b[34m10.5158%\u001b[39m covered out of 600135\n",
      "\t\t\u001b[31mNo recourses for this subgroup!\n",
      "\u001b[39m\t\t\u001b[1mAggregate cost\u001b[0m of the above recourses = \u001b[35m0.0\u001b[39m\n",
      "\tSubgroup '\u001b[1mM\u001b[0m', \u001b[34m10.4883%\u001b[39m covered out of 314181\n",
      "\t\tMake \u001b[1m\u001b[31mage = 25-34\u001b[39m\u001b[0m with correctness \u001b[32m83.0025%\u001b[39m.\n",
      "\t\t\u001b[1mAggregate cost\u001b[0m of the above recourses = \u001b[35m1.0\u001b[39m\n",
      "If \u001b[1marea = Unknown, homeowner = 0, age = 55-64, college_educated = 1\u001b[0m:\n",
      "\tSubgroup '\u001b[1mF\u001b[0m', \u001b[34m10.5062%\u001b[39m covered out of 600135\n",
      "\t\tMake \u001b[1m\u001b[31marea = Rural\u001b[39m, \u001b[31mhomeowner = 1\u001b[39m, \u001b[31mage = 25-34\u001b[39m\u001b[0m with correctness \u001b[32m82.8191%\u001b[39m.\n",
      "\t\t\u001b[1mAggregate cost\u001b[0m of the above recourses = \u001b[35m1.0\u001b[39m\n",
      "\tSubgroup '\u001b[1mM\u001b[0m', \u001b[34m10.4872%\u001b[39m covered out of 314181\n",
      "\t\tMake \u001b[1m\u001b[31marea = Rural\u001b[39m, \u001b[31mhomeowner = 1\u001b[39m, \u001b[31mage = 25-34\u001b[39m\u001b[0m with correctness \u001b[32m83.0115%\u001b[39m.\n",
      "\t\tMake \u001b[1m\u001b[31mage = 25-34\u001b[39m\u001b[0m with correctness \u001b[32m83.0115%\u001b[39m.\n",
      "\t\t\u001b[1mAggregate cost\u001b[0m of the above recourses = \u001b[35m2.0\u001b[39m\n",
      "If \u001b[1mparents = 1, homeowner = 0, age = 55-64\u001b[0m:\n",
      "\tSubgroup '\u001b[1mF\u001b[0m', \u001b[34m9.9026%\u001b[39m covered out of 600135\n",
      "\t\t\u001b[31mNo recourses for this subgroup!\n",
      "\u001b[39m\t\t\u001b[1mAggregate cost\u001b[0m of the above recourses = \u001b[35m0.0\u001b[39m\n",
      "\tSubgroup '\u001b[1mM\u001b[0m', \u001b[34m9.9081%\u001b[39m covered out of 314181\n",
      "\t\tMake \u001b[1m\u001b[31mage = 25-34\u001b[39m\u001b[0m with correctness \u001b[32m87.8631%\u001b[39m.\n",
      "\t\t\u001b[1mAggregate cost\u001b[0m of the above recourses = \u001b[35m1.0\u001b[39m\n",
      "If \u001b[1mparents = 1, homeowner = 0, age = 55-64, college_educated = 1\u001b[0m:\n",
      "\tSubgroup '\u001b[1mF\u001b[0m', \u001b[34m9.9026%\u001b[39m covered out of 600135\n",
      "\t\t\u001b[31mNo recourses for this subgroup!\n",
      "\u001b[39m\t\t\u001b[1mAggregate cost\u001b[0m of the above recourses = \u001b[35m0.0\u001b[39m\n",
      "\tSubgroup '\u001b[1mM\u001b[0m', \u001b[34m9.9081%\u001b[39m covered out of 314181\n",
      "\t\tMake \u001b[1m\u001b[31mage = 25-34\u001b[39m\u001b[0m with correctness \u001b[32m87.8631%\u001b[39m.\n",
      "\t\t\u001b[1mAggregate cost\u001b[0m of the above recourses = \u001b[35m1.0\u001b[39m\n",
      "If \u001b[1mhomeowner = 0, age = 55-64, income = Unknown\u001b[0m:\n",
      "\tSubgroup '\u001b[1mF\u001b[0m', \u001b[34m9.2363%\u001b[39m covered out of 600135\n",
      "\t\t\u001b[31mNo recourses for this subgroup!\n",
      "\u001b[39m\t\t\u001b[1mAggregate cost\u001b[0m of the above recourses = \u001b[35m0.0\u001b[39m\n",
      "\tSubgroup '\u001b[1mM\u001b[0m', \u001b[34m9.2118%\u001b[39m covered out of 314181\n",
      "\t\tMake \u001b[1m\u001b[31mage = 25-34\u001b[39m\u001b[0m with correctness \u001b[32m94.5041%\u001b[39m.\n",
      "\t\t\u001b[1mAggregate cost\u001b[0m of the above recourses = \u001b[35m1.0\u001b[39m\n",
      "If \u001b[1mparents = 1, homeowner = 0, age = 55-64, income = Unknown\u001b[0m:\n",
      "\tSubgroup '\u001b[1mF\u001b[0m', \u001b[34m8.7012%\u001b[39m covered out of 600135\n",
      "\t\t\u001b[31mNo recourses for this subgroup!\n",
      "\u001b[39m\t\t\u001b[1mAggregate cost\u001b[0m of the above recourses = \u001b[35m0.0\u001b[39m\n",
      "\tSubgroup '\u001b[1mM\u001b[0m', \u001b[34m8.7055%\u001b[39m covered out of 314181\n",
      "\t\tMake \u001b[1m\u001b[31mage = 25-34\u001b[39m\u001b[0m with correctness \u001b[32m100.0000%\u001b[39m.\n",
      "\t\t\u001b[1mAggregate cost\u001b[0m of the above recourses = \u001b[35m1.0\u001b[39m\n",
      "If \u001b[1mhomeowner = 1, age = 25-34, college_educated = 1\u001b[0m:\n",
      "\tSubgroup '\u001b[1mF\u001b[0m', \u001b[34m1.5351%\u001b[39m covered out of 600135\n",
      "\t\t\u001b[31mNo recourses for this subgroup!\n",
      "\u001b[39m\t\t\u001b[1mAggregate cost\u001b[0m of the above recourses = \u001b[35m0.0\u001b[39m\n",
      "\tSubgroup '\u001b[1mM\u001b[0m', \u001b[34m1.4574%\u001b[39m covered out of 314181\n",
      "\t\tMake \u001b[1m\u001b[31mhomeowner = 0\u001b[39m\u001b[0m with correctness \u001b[32m93.4426%\u001b[39m.\n",
      "\t\t\u001b[1mAggregate cost\u001b[0m of the above recourses = \u001b[35m1.0\u001b[39m\n",
      "If \u001b[1mparents = 1, homeowner = 1, age = 25-34, college_educated = 1\u001b[0m:\n",
      "\tSubgroup '\u001b[1mF\u001b[0m', \u001b[34m1.4445%\u001b[39m covered out of 600135\n",
      "\t\t\u001b[31mNo recourses for this subgroup!\n",
      "\u001b[39m\t\t\u001b[1mAggregate cost\u001b[0m of the above recourses = \u001b[35m0.0\u001b[39m\n",
      "\tSubgroup '\u001b[1mM\u001b[0m', \u001b[34m1.3652%\u001b[39m covered out of 314181\n",
      "\t\tMake \u001b[1m\u001b[31mhomeowner = 0\u001b[39m\u001b[0m with correctness \u001b[32m98.6667%\u001b[39m.\n",
      "\t\t\u001b[1mAggregate cost\u001b[0m of the above recourses = \u001b[35m1.0\u001b[39m\n",
      "\n"
     ]
    }
   ],
   "source": [
    "top_rules = gfacts.select_rules_subset(\n",
    "    rules_by_if,\n",
    "    metric=\"num-above-thr\",\n",
    "    sort_strategy=\"abs-diff-decr-ignore-forall-subgroups-empty\",\n",
    "    top_count=10,\n",
    "    cor_threshold=0.5,\n",
    "    filter_sequence=[\"remove-below-thr\"]\n",
    ")\n",
    "\n",
    "pop_sizes = {sg: (ad_conversion_dataset[\"gender\"] == sg).sum() for sg in ad_conversion_dataset[\"gender\"].unique()}\n",
    "print(recourse_report_reverse(\n",
    "    top_rules,\n",
    "    population_sizes = pop_sizes,\n",
    "    subgroup_costs=gfacts.calculate_all_if_subgroup_costs(\n",
    "        list(top_rules.keys()),\n",
    "        list(top_rules.values()),\n",
    "        group_calculator=gfacts.if_group_cost_recoursescount_correctness_threshold,\n",
    "        cor_thres=0.5\n",
    "    )\n",
    "))"
   ]
  },
  {
   "cell_type": "markdown",
   "id": "69b7315b-c508-4eb8-9e4b-3d3339ad2ec4",
   "metadata": {},
   "source": [
    "# Experimentation with cumulative correctness plots for each rule"
   ]
  },
  {
   "cell_type": "markdown",
   "id": "61cbd791-81bc-4d50-a386-14ddbfba14af",
   "metadata": {},
   "source": [
    "First, load state"
   ]
  },
  {
   "cell_type": "code",
   "execution_count": 20,
   "id": "417510c5-247f-4199-9d00-8957e6b12c94",
   "metadata": {
    "tags": []
   },
   "outputs": [],
   "source": [
    "import dill\n",
    "\n",
    "with open(\"state.data\", \"rb\") as inf:\n",
    "    rules_by_if, model, X_test = dill.load(inf)"
   ]
  },
  {
   "cell_type": "code",
   "execution_count": 21,
   "id": "09d495a7-b133-4a20-9c0e-9f1816e39245",
   "metadata": {
    "tags": []
   },
   "outputs": [
    {
     "data": {
      "text/plain": [
       "{'F': (0.014086470524868356,\n",
       "  [(Predicate(features=['area', 'age'], values=['Unknown', '55-64']),\n",
       "    0.16464237516869096),\n",
       "   (Predicate(features=['area', 'age'], values=['Urban', '55-64']),\n",
       "    0.2136752136752137),\n",
       "   (Predicate(features=['area', 'age'], values=['Urban', '25-34']),\n",
       "    0.9581646423751687),\n",
       "   (Predicate(features=['area', 'age'], values=['Unknown', '25-34']),\n",
       "    0.16464237516869096)]),\n",
       " 'M': (0.01805976083432731,\n",
       "  [(Predicate(features=['area', 'age'], values=['Unknown', '55-64']),\n",
       "    0.15410668924640136),\n",
       "   (Predicate(features=['area', 'age'], values=['Urban', '55-64']),\n",
       "    0.9576629974597799),\n",
       "   (Predicate(features=['area', 'age'], values=['Urban', '25-34']),\n",
       "    0.9576629974597799),\n",
       "   (Predicate(features=['area', 'age'], values=['Unknown', '25-34']),\n",
       "    0.15410668924640136)])}"
      ]
     },
     "execution_count": 21,
     "metadata": {},
     "output_type": "execute_result"
    }
   ],
   "source": [
    "test_if = gfacts.Predicate.from_dict({\"area\": \"Unknown\", \"age\": \"45-54\"})\n",
    "\n",
    "thens = rules_by_if[test_if]\n",
    "\n",
    "thens"
   ]
  },
  {
   "cell_type": "code",
   "execution_count": 22,
   "id": "c86db786-86dc-4b7f-8538-25b4eda5123f",
   "metadata": {
    "tags": []
   },
   "outputs": [
    {
     "name": "stdout",
     "output_type": "stream",
     "text": [
      "cumcorrs=array([0.16464238, 0.16464238, 0.21367521, 0.95816464])\n"
     ]
    },
    {
     "data": {
      "text/plain": [
       "[(Predicate(features=['area', 'age'], values=['Unknown', '55-64']),\n",
       "  0.16464237516869096,\n",
       "  1.0),\n",
       " (Predicate(features=['area', 'age'], values=['Unknown', '25-34']),\n",
       "  0.16464237516869096,\n",
       "  1.0),\n",
       " (Predicate(features=['area', 'age'], values=['Urban', '55-64']),\n",
       "  0.21367521367521367,\n",
       "  2.0),\n",
       " (Predicate(features=['area', 'age'], values=['Urban', '25-34']),\n",
       "  0.9581646423751687,\n",
       "  2.0)]"
      ]
     },
     "execution_count": 22,
     "metadata": {},
     "output_type": "execute_result"
    }
   ],
   "source": [
    "gender = \"F\"\n",
    "gfacts.cumcorr(test_if, thens[gender][1], X_test[(model.predict(X_test) == 0) & (X_test.gender == gender)], model)"
   ]
  },
  {
   "cell_type": "code",
   "execution_count": 23,
   "id": "a82a8f2d-e4df-4aec-8c22-d4d2fc89d389",
   "metadata": {
    "tags": []
   },
   "outputs": [
    {
     "data": {
      "text/plain": [
       "Text(0, 0.5, 'Correctness percentage')"
      ]
     },
     "execution_count": 23,
     "metadata": {},
     "output_type": "execute_result"
    },
    {
     "data": {
      "image/png": "[encoded data removed]",
      "text/plain": [
       "<Figure size 640x480 with 1 Axes>"
      ]
     },
     "metadata": {},
     "output_type": "display_data"
    }
   ],
   "source": [
    "costs = [1, 1, 2, 2]\n",
    "correctnesses = np.array([0.16464238, 0.16464238, 0.21367521, 0.95816464])\n",
    "\n",
    "fig, ax = plt.subplots()\n",
    "ax.plot(costs, correctnesses, marker=\"o\")\n",
    "ax.set_xlabel(\"Cost of change\")\n",
    "ax.set_ylabel(\"Correctness percentage\")"
   ]
  },
  {
   "cell_type": "markdown",
   "id": "8e571d0f-24c1-4ea2-8ad6-087fb3465e68",
   "metadata": {},
   "source": [
    "Finally, save state"
   ]
  },
  {
   "cell_type": "code",
   "execution_count": 44,
   "id": "de155a94-18f9-4307-a743-b444017fdab7",
   "metadata": {
    "tags": []
   },
   "outputs": [],
   "source": [
    "# import dill\n",
    "\n",
    "with open(\"state.data\", \"wb\") as outf:\n",
    "    dill.dump((rules_by_if, model, X_test), outf)"
   ]
  },
  {
   "cell_type": "code",
   "execution_count": null,
   "id": "8ca365aa-5d2d-400c-9ff8-ed6011e74156",
   "metadata": {},
   "outputs": [],
   "source": []
  }
 ],
 "metadata": {
  "kernelspec": {
   "display_name": "Python 3 (ipykernel)",
   "language": "python",
   "name": "python3"
  },
  "language_info": {
   "codemirror_mode": {
    "name": "ipython",
    "version": 3
   },
   "file_extension": ".py",
   "mimetype": "text/x-python",
   "name": "python",
   "nbconvert_exporter": "python",
   "pygments_lexer": "ipython3",
   "version": "3.9.15"
  }
 },
 "nbformat": 4,
 "nbformat_minor": 5
}
