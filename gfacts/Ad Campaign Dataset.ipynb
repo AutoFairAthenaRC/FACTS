{
 "cells": [
  {
   "cell_type": "markdown",
   "id": "a4164f0d",
   "metadata": {},
   "source": [
    "## Import libraries"
   ]
  },
  {
   "cell_type": "code",
   "execution_count": 27,
   "id": "50536eb3",
   "metadata": {
    "tags": []
   },
   "outputs": [],
   "source": [
    "import pandas as pd\n",
    "import numpy as np\n",
    "from pprint import pprint\n",
    "\n",
    "from sklearn.model_selection import train_test_split\n",
    "from sklearn.metrics import classification_report, confusion_matrix, ConfusionMatrixDisplay\n",
    "\n",
    "import gfacts\n",
    "from gfacts import valid_ifthens_with_coverage_correctness, rules2rulesbyif\n",
    "from gfacts.models import customLogisticRegression\n",
    "from gfacts.parameters import ParameterProxy\n",
    "from gfacts.formatting import recourse_report_reverse\n",
    "\n",
    "import matplotlib.pyplot as plt"
   ]
  },
  {
   "cell_type": "code",
   "execution_count": 28,
   "id": "99fb977c",
   "metadata": {
    "tags": []
   },
   "outputs": [],
   "source": [
    "DATAFILE = '../ad_campaign_data.csv' # location of dataset\n",
    "random_state = None # change to something for exactly reproducible results\n",
    "\n",
    "# as selected in \"tutorial_bias_advertising\" notebook\n",
    "selected_features = ['gender', 'parents', 'age', 'income', 'area', 'college_educated', 'homeowner']\n",
    "cate_features = ['gender', 'parents', 'age', 'income', 'area', 'college_educated']\n",
    "num_features = ['homeowner']\n",
    "\n",
    "# if not specified, set to 1\n",
    "feature_weights = {\"gender\": 1, \"parents\": 1, \"age\": 1}\n",
    "\n",
    "target_name = \"true_conversion\"\n",
    "positive_label = 1\n",
    "negative_label = 0\n",
    "\n",
    "model_train_fraction = 0.7\n",
    "learning_class_weights = {0: 0.5, 1: 265}\n",
    "\n",
    "sensitive_attribute = \"gender\"\n",
    "sensitive_subgroups = [\"M\", \"F\"]\n",
    "sensitive_alias = {\"Male\": \"M\", \"Female\": \"F\"}"
   ]
  },
  {
   "cell_type": "markdown",
   "id": "7f50c922",
   "metadata": {},
   "source": [
    "## Load Dataset"
   ]
  },
  {
   "cell_type": "code",
   "execution_count": 29,
   "id": "7ec3f668",
   "metadata": {
    "tags": []
   },
   "outputs": [
    {
     "data": {
      "text/html": [
       "<div>\n",
       "<style scoped>\n",
       "    .dataframe tbody tr th:only-of-type {\n",
       "        vertical-align: middle;\n",
       "    }\n",
       "\n",
       "    .dataframe tbody tr th {\n",
       "        vertical-align: top;\n",
       "    }\n",
       "\n",
       "    .dataframe thead th {\n",
       "        text-align: right;\n",
       "    }\n",
       "</style>\n",
       "<table border=\"1\" class=\"dataframe\">\n",
       "  <thead>\n",
       "    <tr style=\"text-align: right;\">\n",
       "      <th></th>\n",
       "      <th>religion</th>\n",
       "      <th>politics</th>\n",
       "      <th>college_educated</th>\n",
       "      <th>parents</th>\n",
       "      <th>homeowner</th>\n",
       "      <th>gender</th>\n",
       "      <th>age</th>\n",
       "      <th>income</th>\n",
       "      <th>area</th>\n",
       "      <th>true_conversion</th>\n",
       "      <th>predicted_conversion</th>\n",
       "      <th>predicted_probability</th>\n",
       "    </tr>\n",
       "  </thead>\n",
       "  <tbody>\n",
       "    <tr>\n",
       "      <th>0</th>\n",
       "      <td>Unknown</td>\n",
       "      <td>Unknown</td>\n",
       "      <td>1</td>\n",
       "      <td>1</td>\n",
       "      <td>1</td>\n",
       "      <td>Unknown</td>\n",
       "      <td>55-64</td>\n",
       "      <td>Unknown</td>\n",
       "      <td>Unknown</td>\n",
       "      <td>0</td>\n",
       "      <td>0</td>\n",
       "      <td>0.001351</td>\n",
       "    </tr>\n",
       "    <tr>\n",
       "      <th>1</th>\n",
       "      <td>Other</td>\n",
       "      <td>Unknown</td>\n",
       "      <td>1</td>\n",
       "      <td>1</td>\n",
       "      <td>1</td>\n",
       "      <td>Unknown</td>\n",
       "      <td>55-64</td>\n",
       "      <td>Unknown</td>\n",
       "      <td>Urban</td>\n",
       "      <td>0</td>\n",
       "      <td>0</td>\n",
       "      <td>0.002238</td>\n",
       "    </tr>\n",
       "    <tr>\n",
       "      <th>2</th>\n",
       "      <td>Unknown</td>\n",
       "      <td>Unknown</td>\n",
       "      <td>1</td>\n",
       "      <td>1</td>\n",
       "      <td>1</td>\n",
       "      <td>F</td>\n",
       "      <td>55-64</td>\n",
       "      <td>Unknown</td>\n",
       "      <td>Unknown</td>\n",
       "      <td>0</td>\n",
       "      <td>0</td>\n",
       "      <td>0.002704</td>\n",
       "    </tr>\n",
       "    <tr>\n",
       "      <th>3</th>\n",
       "      <td>Unknown</td>\n",
       "      <td>Unknown</td>\n",
       "      <td>1</td>\n",
       "      <td>1</td>\n",
       "      <td>1</td>\n",
       "      <td>F</td>\n",
       "      <td>55-64</td>\n",
       "      <td>Unknown</td>\n",
       "      <td>Unknown</td>\n",
       "      <td>0</td>\n",
       "      <td>0</td>\n",
       "      <td>0.001967</td>\n",
       "    </tr>\n",
       "    <tr>\n",
       "      <th>4</th>\n",
       "      <td>Unknown</td>\n",
       "      <td>Unknown</td>\n",
       "      <td>1</td>\n",
       "      <td>1</td>\n",
       "      <td>1</td>\n",
       "      <td>F</td>\n",
       "      <td>55-64</td>\n",
       "      <td>Unknown</td>\n",
       "      <td>Urban</td>\n",
       "      <td>0</td>\n",
       "      <td>0</td>\n",
       "      <td>0.001681</td>\n",
       "    </tr>\n",
       "  </tbody>\n",
       "</table>\n",
       "</div>"
      ],
      "text/plain": [
       "  religion politics  college_educated  parents  homeowner   gender    age  \\\n",
       "0  Unknown  Unknown                 1        1          1  Unknown  55-64   \n",
       "1    Other  Unknown                 1        1          1  Unknown  55-64   \n",
       "2  Unknown  Unknown                 1        1          1        F  55-64   \n",
       "3  Unknown  Unknown                 1        1          1        F  55-64   \n",
       "4  Unknown  Unknown                 1        1          1        F  55-64   \n",
       "\n",
       "    income     area  true_conversion  predicted_conversion  \\\n",
       "0  Unknown  Unknown                0                     0   \n",
       "1  Unknown    Urban                0                     0   \n",
       "2  Unknown  Unknown                0                     0   \n",
       "3  Unknown  Unknown                0                     0   \n",
       "4  Unknown    Urban                0                     0   \n",
       "\n",
       "   predicted_probability  \n",
       "0               0.001351  \n",
       "1               0.002238  \n",
       "2               0.002704  \n",
       "3               0.001967  \n",
       "4               0.001681  "
      ]
     },
     "execution_count": 29,
     "metadata": {},
     "output_type": "execute_result"
    }
   ],
   "source": [
    "ad_conversion_dataset = pd.read_csv(DATAFILE)\n",
    "ad_conversion_dataset.head()"
   ]
  },
  {
   "cell_type": "markdown",
   "id": "c01544c3",
   "metadata": {},
   "source": [
    "### Print some statistics for the dataset"
   ]
  },
  {
   "cell_type": "code",
   "execution_count": 30,
   "id": "3710bcf3",
   "metadata": {
    "tags": []
   },
   "outputs": [
    {
     "name": "stdout",
     "output_type": "stream",
     "text": [
      "Number of (instances, attributes) in the dataset = (1443140, 12)\n",
      "\n",
      "Statistics of true conversions (0=no, 1=yes)\n",
      "0    1440766\n",
      "1       2374\n",
      "Name: true_conversion, dtype: int64\n",
      "\n",
      "Statistics of predicted conversions (0=no, 1=yes)\n",
      "0    1440773\n",
      "1       2367\n",
      "Name: predicted_conversion, dtype: int64\n"
     ]
    }
   ],
   "source": [
    "print(f\"Number of (instances, attributes) in the dataset = {ad_conversion_dataset.shape}\")\n",
    "print()\n",
    "\n",
    "print(f\"Statistics of true conversions (0=no, 1=yes)\")\n",
    "print(ad_conversion_dataset.true_conversion.value_counts())\n",
    "print()\n",
    "\n",
    "print(f\"Statistics of predicted conversions (0=no, 1=yes)\")\n",
    "print(ad_conversion_dataset.predicted_conversion.value_counts())"
   ]
  },
  {
   "cell_type": "markdown",
   "id": "6774262f",
   "metadata": {},
   "source": [
    "### Warning!\n",
    "\n",
    "There is no model!\n",
    "\n",
    "Predictions (from whatever model has been used) have been incorporated into the dataset, in the columns \"predicted_conversion\" (which is the predicted label) and \"predicted_probability\" (which is the predicted probability of belonging to the positive class).\n",
    "\n",
    "Moreover, the dataset is highly unbalanced, and this is also evident in the poor efficiency of the model, as demonstrated in the confusion matrix below."
   ]
  },
  {
   "cell_type": "code",
   "execution_count": 31,
   "id": "03eb55a7-2240-4244-8c9e-c005e36e8f0f",
   "metadata": {
    "tags": []
   },
   "outputs": [
    {
     "data": {
      "image/png": "[encoded data removed]",
      "text/plain": [
       "<Figure size 640x480 with 2 Axes>"
      ]
     },
     "metadata": {},
     "output_type": "display_data"
    }
   ],
   "source": [
    "conf_matrix = confusion_matrix(ad_conversion_dataset.true_conversion, ad_conversion_dataset.predicted_conversion)\n",
    "cm_disp = ConfusionMatrixDisplay(confusion_matrix=conf_matrix)\n",
    "cm_disp.plot()\n",
    "plt.show()"
   ]
  },
  {
   "cell_type": "markdown",
   "id": "5f1b33fa-c6c9-4770-8123-0f69f918e265",
   "metadata": {},
   "source": [
    "# Preprocessing"
   ]
  },
  {
   "cell_type": "code",
   "execution_count": 32,
   "id": "8ee07f88",
   "metadata": {
    "tags": []
   },
   "outputs": [
    {
     "data": {
      "text/html": [
       "<div>\n",
       "<style scoped>\n",
       "    .dataframe tbody tr th:only-of-type {\n",
       "        vertical-align: middle;\n",
       "    }\n",
       "\n",
       "    .dataframe tbody tr th {\n",
       "        vertical-align: top;\n",
       "    }\n",
       "\n",
       "    .dataframe thead th {\n",
       "        text-align: right;\n",
       "    }\n",
       "</style>\n",
       "<table border=\"1\" class=\"dataframe\">\n",
       "  <thead>\n",
       "    <tr style=\"text-align: right;\">\n",
       "      <th></th>\n",
       "      <th>gender</th>\n",
       "      <th>parents</th>\n",
       "      <th>age</th>\n",
       "      <th>income</th>\n",
       "      <th>area</th>\n",
       "      <th>college_educated</th>\n",
       "      <th>homeowner</th>\n",
       "      <th>true_conversion</th>\n",
       "    </tr>\n",
       "  </thead>\n",
       "  <tbody>\n",
       "    <tr>\n",
       "      <th>0</th>\n",
       "      <td>Unknown</td>\n",
       "      <td>1</td>\n",
       "      <td>55-64</td>\n",
       "      <td>Unknown</td>\n",
       "      <td>Unknown</td>\n",
       "      <td>1</td>\n",
       "      <td>1</td>\n",
       "      <td>0</td>\n",
       "    </tr>\n",
       "    <tr>\n",
       "      <th>1</th>\n",
       "      <td>Unknown</td>\n",
       "      <td>1</td>\n",
       "      <td>55-64</td>\n",
       "      <td>Unknown</td>\n",
       "      <td>Urban</td>\n",
       "      <td>1</td>\n",
       "      <td>1</td>\n",
       "      <td>0</td>\n",
       "    </tr>\n",
       "    <tr>\n",
       "      <th>2</th>\n",
       "      <td>F</td>\n",
       "      <td>1</td>\n",
       "      <td>55-64</td>\n",
       "      <td>Unknown</td>\n",
       "      <td>Unknown</td>\n",
       "      <td>1</td>\n",
       "      <td>1</td>\n",
       "      <td>0</td>\n",
       "    </tr>\n",
       "    <tr>\n",
       "      <th>3</th>\n",
       "      <td>F</td>\n",
       "      <td>1</td>\n",
       "      <td>55-64</td>\n",
       "      <td>Unknown</td>\n",
       "      <td>Unknown</td>\n",
       "      <td>1</td>\n",
       "      <td>1</td>\n",
       "      <td>0</td>\n",
       "    </tr>\n",
       "    <tr>\n",
       "      <th>4</th>\n",
       "      <td>F</td>\n",
       "      <td>1</td>\n",
       "      <td>55-64</td>\n",
       "      <td>Unknown</td>\n",
       "      <td>Urban</td>\n",
       "      <td>1</td>\n",
       "      <td>1</td>\n",
       "      <td>0</td>\n",
       "    </tr>\n",
       "    <tr>\n",
       "      <th>...</th>\n",
       "      <td>...</td>\n",
       "      <td>...</td>\n",
       "      <td>...</td>\n",
       "      <td>...</td>\n",
       "      <td>...</td>\n",
       "      <td>...</td>\n",
       "      <td>...</td>\n",
       "      <td>...</td>\n",
       "    </tr>\n",
       "    <tr>\n",
       "      <th>1443135</th>\n",
       "      <td>F</td>\n",
       "      <td>1</td>\n",
       "      <td>25-34</td>\n",
       "      <td>Unknown</td>\n",
       "      <td>Unknown</td>\n",
       "      <td>1</td>\n",
       "      <td>1</td>\n",
       "      <td>0</td>\n",
       "    </tr>\n",
       "    <tr>\n",
       "      <th>1443136</th>\n",
       "      <td>F</td>\n",
       "      <td>1</td>\n",
       "      <td>55-64</td>\n",
       "      <td>Unknown</td>\n",
       "      <td>Unknown</td>\n",
       "      <td>1</td>\n",
       "      <td>0</td>\n",
       "      <td>0</td>\n",
       "    </tr>\n",
       "    <tr>\n",
       "      <th>1443137</th>\n",
       "      <td>Unknown</td>\n",
       "      <td>1</td>\n",
       "      <td>55-64</td>\n",
       "      <td>Unknown</td>\n",
       "      <td>Unknown</td>\n",
       "      <td>1</td>\n",
       "      <td>1</td>\n",
       "      <td>0</td>\n",
       "    </tr>\n",
       "    <tr>\n",
       "      <th>1443138</th>\n",
       "      <td>F</td>\n",
       "      <td>1</td>\n",
       "      <td>55-64</td>\n",
       "      <td>Unknown</td>\n",
       "      <td>Unknown</td>\n",
       "      <td>1</td>\n",
       "      <td>1</td>\n",
       "      <td>0</td>\n",
       "    </tr>\n",
       "    <tr>\n",
       "      <th>1443139</th>\n",
       "      <td>F</td>\n",
       "      <td>1</td>\n",
       "      <td>55-64</td>\n",
       "      <td>Unknown</td>\n",
       "      <td>Unknown</td>\n",
       "      <td>1</td>\n",
       "      <td>1</td>\n",
       "      <td>0</td>\n",
       "    </tr>\n",
       "  </tbody>\n",
       "</table>\n",
       "<p>1443140 rows × 8 columns</p>\n",
       "</div>"
      ],
      "text/plain": [
       "          gender  parents    age   income     area  college_educated  \\\n",
       "0        Unknown        1  55-64  Unknown  Unknown                 1   \n",
       "1        Unknown        1  55-64  Unknown    Urban                 1   \n",
       "2              F        1  55-64  Unknown  Unknown                 1   \n",
       "3              F        1  55-64  Unknown  Unknown                 1   \n",
       "4              F        1  55-64  Unknown    Urban                 1   \n",
       "...          ...      ...    ...      ...      ...               ...   \n",
       "1443135        F        1  25-34  Unknown  Unknown                 1   \n",
       "1443136        F        1  55-64  Unknown  Unknown                 1   \n",
       "1443137  Unknown        1  55-64  Unknown  Unknown                 1   \n",
       "1443138        F        1  55-64  Unknown  Unknown                 1   \n",
       "1443139        F        1  55-64  Unknown  Unknown                 1   \n",
       "\n",
       "         homeowner  true_conversion  \n",
       "0                1                0  \n",
       "1                1                0  \n",
       "2                1                0  \n",
       "3                1                0  \n",
       "4                1                0  \n",
       "...            ...              ...  \n",
       "1443135          1                0  \n",
       "1443136          0                0  \n",
       "1443137          1                0  \n",
       "1443138          1                0  \n",
       "1443139          1                0  \n",
       "\n",
       "[1443140 rows x 8 columns]"
      ]
     },
     "execution_count": 32,
     "metadata": {},
     "output_type": "execute_result"
    }
   ],
   "source": [
    "## keep only the columns in selected_features, plus the label column\n",
    "ad_conversion_dataset = ad_conversion_dataset[selected_features + [target_name]]\n",
    "ad_conversion_dataset"
   ]
  },
  {
   "cell_type": "code",
   "execution_count": 33,
   "id": "e2d5162d",
   "metadata": {
    "tags": []
   },
   "outputs": [],
   "source": [
    "## train-test split\n",
    "\n",
    "X = ad_conversion_dataset.drop(target_name, axis=1)\n",
    "y = ad_conversion_dataset[target_name]\n",
    "\n",
    "X_train, X_test, y_train, y_test = train_test_split(X, y, train_size=model_train_fraction, random_state=random_state, stratify=y)\n",
    "\n",
    "X_train = X_train.reset_index(drop=True)\n",
    "X_test = X_test.reset_index(drop=True)\n",
    "y_train = y_train.reset_index(drop=True)\n",
    "y_test = y_test.reset_index(drop=True)"
   ]
  },
  {
   "cell_type": "markdown",
   "id": "17c32fa1-337a-45e0-ae5c-914575a2cbb6",
   "metadata": {},
   "source": [
    "# Model training"
   ]
  },
  {
   "cell_type": "code",
   "execution_count": 34,
   "id": "d613bdf8",
   "metadata": {
    "tags": []
   },
   "outputs": [
    {
     "name": "stdout",
     "output_type": "stream",
     "text": [
      "Wall time: 13.6 s\n"
     ]
    },
    {
     "data": {
      "text/plain": [
       "array([1., 0., 0., 0., 1., 0., 0., 0., 0., 0., 0., 0., 0., 0., 0., 0., 0.,\n",
       "       0., 0., 0., 0., 0., 0., 0., 0., 1., 0., 1., 0., 0., 0., 0., 0., 0.,\n",
       "       0., 0., 0., 0., 0., 1., 0., 0., 0., 0., 0., 0., 0., 1., 0., 1., 0.,\n",
       "       0., 0., 0., 0., 1., 0., 1., 0., 0., 0., 0., 0., 0., 0., 0., 0., 0.,\n",
       "       0., 0., 1., 0., 0., 0., 0., 0., 0., 0., 0., 0., 0., 0., 0., 0., 0.,\n",
       "       0., 0., 0., 0., 0., 0., 0., 0., 0., 0., 0., 0., 0., 0., 0.])"
      ]
     },
     "execution_count": 34,
     "metadata": {},
     "output_type": "execute_result"
    }
   ],
   "source": [
    "%%time\n",
    "\n",
    "model = customLogisticRegression(class_weight=learning_class_weights)\n",
    "model.fit(X_train, y_train, cate_columns=cate_features, target_column=target_name)\n",
    "model.predict(X_test.iloc[:100, :])"
   ]
  },
  {
   "cell_type": "markdown",
   "id": "13d583ac",
   "metadata": {},
   "source": [
    "# Testing the model\n",
    "\n",
    "We check if the model is satisfactory."
   ]
  },
  {
   "cell_type": "code",
   "execution_count": 35,
   "id": "2fbd7b2e",
   "metadata": {
    "tags": []
   },
   "outputs": [
    {
     "name": "stdout",
     "output_type": "stream",
     "text": [
      "              precision    recall  f1-score   support\n",
      "\n",
      "           0       1.00      0.89      0.94    432231\n",
      "           1       0.00      0.11      0.00       712\n",
      "\n",
      "    accuracy                           0.89    432943\n",
      "   macro avg       0.50      0.50      0.47    432943\n",
      "weighted avg       1.00      0.89      0.94    432943\n",
      "\n"
     ]
    }
   ],
   "source": [
    "preds = model.predict(X_test)\n",
    "print(classification_report(y_test.map({negative_label: 0, positive_label: 1}), preds))"
   ]
  },
  {
   "cell_type": "code",
   "execution_count": 36,
   "id": "a82b48f8-408b-43a0-99fc-c21ff8a63718",
   "metadata": {
    "tags": []
   },
   "outputs": [
    {
     "data": {
      "image/png": "[encoded data removed]",
      "text/plain": [
       "<Figure size 640x480 with 2 Axes>"
      ]
     },
     "metadata": {},
     "output_type": "display_data"
    }
   ],
   "source": [
    "conf_matrix = confusion_matrix(y_test, preds)\n",
    "cm_disp = ConfusionMatrixDisplay(confusion_matrix=conf_matrix)\n",
    "cm_disp.plot()\n",
    "plt.show()"
   ]
  },
  {
   "cell_type": "markdown",
   "id": "11452631",
   "metadata": {},
   "source": [
    "Given the high imbalance of the dataset, we consider that the above results, for a simple logistic regression, are good enough."
   ]
  },
  {
   "cell_type": "markdown",
   "id": "66bafa9b-95db-49c6-b116-9ebb65c13fc8",
   "metadata": {},
   "source": [
    "# Find all valid if-thens with all respective coverages and correctness, for all subgroups.\n",
    "\n",
    "**Caution!** This step takes time. Uncomment the following block if you wish to run."
   ]
  },
  {
   "cell_type": "code",
   "execution_count": 37,
   "id": "297d9256",
   "metadata": {
    "tags": []
   },
   "outputs": [
    {
     "name": "stdout",
     "output_type": "stream",
     "text": [
      "Computing frequent itemsets for each subgroup of the affected instances.\n"
     ]
    },
    {
     "name": "stderr",
     "output_type": "stream",
     "text": [
      "100%|██████████| 2/2 [00:04<00:00,  2.11s/it]"
     ]
    },
    {
     "name": "stdout",
     "output_type": "stream",
     "text": [
      "Computing the intersection between the frequent itemsets of each subgroup of the affected instances.\n"
     ]
    },
    {
     "name": "stderr",
     "output_type": "stream",
     "text": [
      "\n",
      "100%|██████████| 2/2 [00:00<00:00, 56.45it/s]\n"
     ]
    },
    {
     "name": "stdout",
     "output_type": "stream",
     "text": [
      "Computing all valid if-then pairs between the common frequent itemsets of each subgroup of the affected instances and the frequent itemsets of the unaffacted instances.\n"
     ]
    },
    {
     "name": "stderr",
     "output_type": "stream",
     "text": [
      "100%|██████████| 359/359 [00:00<00:00, 741.85it/s]"
     ]
    },
    {
     "name": "stdout",
     "output_type": "stream",
     "text": [
      "Computing correctenesses for all valid if-thens.\n"
     ]
    },
    {
     "name": "stderr",
     "output_type": "stream",
     "text": [
      "\n",
      "100%|██████████| 340/340 [01:26<00:00,  3.93it/s]"
     ]
    },
    {
     "name": "stdout",
     "output_type": "stream",
     "text": [
      "Number of if-thens: 340\n"
     ]
    },
    {
     "name": "stderr",
     "output_type": "stream",
     "text": [
      "\n"
     ]
    }
   ],
   "source": [
    "ifthens_coverage_correctness = valid_ifthens_with_coverage_correctness(\n",
    "    X_test,\n",
    "    model,\n",
    "    sensitive_attribute,\n",
    "    missing_subgroup_val=\"Unknown\"\n",
    ")\n",
    "\n",
    "print(f\"Number of if-thens: {len(ifthens_coverage_correctness)}\")\n",
    "rules_by_if = rules2rulesbyif(ifthens_coverage_correctness)"
   ]
  },
  {
   "cell_type": "markdown",
   "id": "d17cb30e-0a36-43cb-9f95-2b2e93634e5a",
   "metadata": {},
   "source": [
    "Uncomment the following block if you wish to load rules object from disk."
   ]
  },
  {
   "cell_type": "code",
   "execution_count": 17,
   "id": "c22dbaba-1ccb-4db3-84de-21227328e07c",
   "metadata": {
    "tags": []
   },
   "outputs": [],
   "source": [
    "# import dill\n",
    "\n",
    "# with open(\"rules.data\", \"rb\") as inf:\n",
    "#     rules_by_if = dill.load(inf)"
   ]
  },
  {
   "cell_type": "code",
   "execution_count": 12,
   "id": "8a13da8a-e2a3-481f-9b1b-bc1803f4eccf",
   "metadata": {
    "tags": []
   },
   "outputs": [
    {
     "name": "stdout",
     "output_type": "stream",
     "text": [
      "If \u001b[1mcollege_educated = 1, area = Urban, age = 55-64, homeowner = 1, income = Unknown\u001b[0m:\n",
      "\tSubgroup '\u001b[1mF\u001b[0m', \u001b[34m21.0252%\u001b[39m covered\n",
      "\t\tMake \u001b[1m\u001b[31mcollege_educated = 0\u001b[39m\u001b[0m with correctness \u001b[32m0.0000%\u001b[39m.\n",
      "\t\tMake \u001b[1m\u001b[31mage = 45-54\u001b[39m\u001b[0m with correctness \u001b[32m5.6243%\u001b[39m.\n",
      "\t\tMake \u001b[1m\u001b[31mage = 25-34\u001b[39m\u001b[0m with correctness \u001b[32m5.6243%\u001b[39m.\n",
      "\tSubgroup '\u001b[1mM\u001b[0m', \u001b[34m21.7668%\u001b[39m covered\n",
      "\t\tMake \u001b[1m\u001b[31mcollege_educated = 0\u001b[39m\u001b[0m with correctness \u001b[32m100.0000%\u001b[39m.\n",
      "\t\tMake \u001b[1m\u001b[31mage = 45-54\u001b[39m\u001b[0m with correctness \u001b[32m100.0000%\u001b[39m.\n",
      "\t\tMake \u001b[1m\u001b[31mage = 25-34\u001b[39m\u001b[0m with correctness \u001b[32m100.0000%\u001b[39m.\n",
      "If \u001b[1mcollege_educated = 1, area = Urban, income = Unknown, age = 55-64\u001b[0m:\n",
      "\tSubgroup '\u001b[1mF\u001b[0m', \u001b[34m21.0252%\u001b[39m covered\n",
      "\t\tMake \u001b[1m\u001b[31mcollege_educated = 0\u001b[39m\u001b[0m with correctness \u001b[32m0.0000%\u001b[39m.\n",
      "\tSubgroup '\u001b[1mM\u001b[0m', \u001b[34m21.7668%\u001b[39m covered\n",
      "\t\tMake \u001b[1m\u001b[31mcollege_educated = 0\u001b[39m\u001b[0m with correctness \u001b[32m100.0000%\u001b[39m.\n",
      "If \u001b[1mcollege_educated = 1, area = Urban, age = 55-64, parents = 1, income = Unknown\u001b[0m:\n",
      "\tSubgroup '\u001b[1mF\u001b[0m', \u001b[34m19.8427%\u001b[39m covered\n",
      "\t\tMake \u001b[1m\u001b[31mcollege_educated = 0\u001b[39m\u001b[0m with correctness \u001b[32m0.0000%\u001b[39m.\n",
      "\tSubgroup '\u001b[1mM\u001b[0m', \u001b[34m20.5686%\u001b[39m covered\n",
      "\t\tMake \u001b[1m\u001b[31mcollege_educated = 0\u001b[39m\u001b[0m with correctness \u001b[32m100.0000%\u001b[39m.\n",
      "If \u001b[1mcollege_educated = 1, area = Urban, age = 55-64, parents = 1, homeowner = 1, income = Unknown\u001b[0m:\n",
      "\tSubgroup '\u001b[1mF\u001b[0m', \u001b[34m19.8427%\u001b[39m covered\n",
      "\t\tMake \u001b[1m\u001b[31mcollege_educated = 0\u001b[39m\u001b[0m with correctness \u001b[32m0.0000%\u001b[39m.\n",
      "\tSubgroup '\u001b[1mM\u001b[0m', \u001b[34m20.5686%\u001b[39m covered\n",
      "\t\tMake \u001b[1m\u001b[31mcollege_educated = 0\u001b[39m\u001b[0m with correctness \u001b[32m100.0000%\u001b[39m.\n",
      "If \u001b[1mcollege_educated = 1, area = Rural, age = 55-64, homeowner = 1, income = Unknown\u001b[0m:\n",
      "\tSubgroup '\u001b[1mF\u001b[0m', \u001b[34m4.5398%\u001b[39m covered\n",
      "\t\tMake \u001b[1m\u001b[31mcollege_educated = 0\u001b[39m, \u001b[31marea = Urban\u001b[39m\u001b[0m with correctness \u001b[32m0.0000%\u001b[39m.\n",
      "\t\tMake \u001b[1m\u001b[31marea = Urban\u001b[39m, \u001b[31mage = 45-54\u001b[39m\u001b[0m with correctness \u001b[32m5.0282%\u001b[39m.\n",
      "\t\tMake \u001b[1m\u001b[31marea = Urban\u001b[39m, \u001b[31mage = 25-34\u001b[39m\u001b[0m with correctness \u001b[32m5.0282%\u001b[39m.\n",
      "\tSubgroup '\u001b[1mM\u001b[0m', \u001b[34m4.5333%\u001b[39m covered\n",
      "\t\tMake \u001b[1m\u001b[31mcollege_educated = 0\u001b[39m, \u001b[31marea = Urban\u001b[39m\u001b[0m with correctness \u001b[32m100.0000%\u001b[39m.\n",
      "\t\tMake \u001b[1m\u001b[31marea = Urban\u001b[39m, \u001b[31mage = 45-54\u001b[39m\u001b[0m with correctness \u001b[32m100.0000%\u001b[39m.\n",
      "\t\tMake \u001b[1m\u001b[31marea = Urban\u001b[39m, \u001b[31mage = 25-34\u001b[39m\u001b[0m with correctness \u001b[32m100.0000%\u001b[39m.\n",
      "If \u001b[1mcollege_educated = 1, area = Rural, age = 55-64, parents = 1, income = Unknown\u001b[0m:\n",
      "\tSubgroup '\u001b[1mF\u001b[0m', \u001b[34m4.3116%\u001b[39m covered\n",
      "\t\tMake \u001b[1m\u001b[31mcollege_educated = 0\u001b[39m, \u001b[31marea = Urban\u001b[39m\u001b[0m with correctness \u001b[32m0.0000%\u001b[39m.\n",
      "\t\tMake \u001b[1m\u001b[31marea = Urban\u001b[39m\u001b[0m with correctness \u001b[32m0.0000%\u001b[39m.\n",
      "\tSubgroup '\u001b[1mM\u001b[0m', \u001b[34m4.2775%\u001b[39m covered\n",
      "\t\tMake \u001b[1m\u001b[31mcollege_educated = 0\u001b[39m, \u001b[31marea = Urban\u001b[39m\u001b[0m with correctness \u001b[32m100.0000%\u001b[39m.\n",
      "\t\tMake \u001b[1m\u001b[31marea = Urban\u001b[39m\u001b[0m with correctness \u001b[32m0.0000%\u001b[39m.\n",
      "If \u001b[1mcollege_educated = 1, area = Rural, age = 55-64, parents = 1, homeowner = 1, income = Unknown\u001b[0m:\n",
      "\tSubgroup '\u001b[1mF\u001b[0m', \u001b[34m4.3116%\u001b[39m covered\n",
      "\t\tMake \u001b[1m\u001b[31mcollege_educated = 0\u001b[39m, \u001b[31marea = Urban\u001b[39m\u001b[0m with correctness \u001b[32m0.0000%\u001b[39m.\n",
      "\tSubgroup '\u001b[1mM\u001b[0m', \u001b[34m4.2775%\u001b[39m covered\n",
      "\t\tMake \u001b[1m\u001b[31mcollege_educated = 0\u001b[39m, \u001b[31marea = Urban\u001b[39m\u001b[0m with correctness \u001b[32m100.0000%\u001b[39m.\n",
      "If \u001b[1mcollege_educated = 1, area = Rural, age = 55-64, parents = 1, homeowner = 1\u001b[0m:\n",
      "\tSubgroup '\u001b[1mF\u001b[0m', \u001b[34m4.3415%\u001b[39m covered\n",
      "\t\tMake \u001b[1m\u001b[31mcollege_educated = 0\u001b[39m, \u001b[31marea = Urban\u001b[39m\u001b[0m with correctness \u001b[32m0.0000%\u001b[39m.\n",
      "\tSubgroup '\u001b[1mM\u001b[0m', \u001b[34m4.3117%\u001b[39m covered\n",
      "\t\tMake \u001b[1m\u001b[31mcollege_educated = 0\u001b[39m, \u001b[31marea = Urban\u001b[39m\u001b[0m with correctness \u001b[32m99.2052%\u001b[39m.\n",
      "If \u001b[1mparents = 0, college_educated = 1, area = Urban, age = 55-64\u001b[0m:\n",
      "\tSubgroup '\u001b[1mF\u001b[0m', \u001b[34m1.2000%\u001b[39m covered\n",
      "\t\tMake \u001b[1m\u001b[31mparents = 1\u001b[39m, \u001b[31mcollege_educated = 0\u001b[39m\u001b[0m with correctness \u001b[32m0.0000%\u001b[39m.\n",
      "\t\tMake \u001b[1m\u001b[31mparents = 1\u001b[39m\u001b[0m with correctness \u001b[32m0.0000%\u001b[39m.\n",
      "\tSubgroup '\u001b[1mM\u001b[0m', \u001b[34m1.2129%\u001b[39m covered\n",
      "\t\tMake \u001b[1m\u001b[31mparents = 1\u001b[39m, \u001b[31mcollege_educated = 0\u001b[39m\u001b[0m with correctness \u001b[32m98.7891%\u001b[39m.\n",
      "\t\tMake \u001b[1m\u001b[31mparents = 1\u001b[39m\u001b[0m with correctness \u001b[32m0.0000%\u001b[39m.\n",
      "If \u001b[1mcollege_educated = 1, area = Urban, age = 55-64\u001b[0m:\n",
      "\tSubgroup '\u001b[1mF\u001b[0m', \u001b[34m21.3115%\u001b[39m covered\n",
      "\t\tMake \u001b[1m\u001b[31mcollege_educated = 0\u001b[39m\u001b[0m with correctness \u001b[32m0.0000%\u001b[39m.\n",
      "\tSubgroup '\u001b[1mM\u001b[0m', \u001b[34m22.0667%\u001b[39m covered\n",
      "\t\tMake \u001b[1m\u001b[31mcollege_educated = 0\u001b[39m\u001b[0m with correctness \u001b[32m98.6744%\u001b[39m.\n",
      "\n"
     ]
    }
   ],
   "source": [
    "K = 10\n",
    "\n",
    "# keep K ifs with maximum coverage on Females\n",
    "# TODO: the below is currently dataset dependent\n",
    "# rules_by_if_filtered = sorted(rules_by_if.items(), key=lambda e: e[1][\"F\"][0][1], reverse=True)[:K]\n",
    "\n",
    "# keep K ifs with maximum absolute difference in correctness between Males and Females.\n",
    "# TODO: the below is currently dataset dependent\n",
    "rules_by_if_filtered = sorted(rules_by_if.items(), key=lambda e: abs(e[1][\"M\"][1][0][1]-e[1][\"F\"][1][0][1]), reverse=True)[:K]\n",
    "\n",
    "rules_by_if_filtered = dict(rules_by_if_filtered)\n",
    "\n",
    "print(recourse_report_reverse(rules_by_if_filtered))"
   ]
  },
  {
   "cell_type": "code",
   "execution_count": 39,
   "id": "c3d9345a-d3f6-4db1-9fa2-887cf76c0149",
   "metadata": {},
   "outputs": [],
   "source": [
    "# #### Uncomment if you wish to save rules object on disk\n",
    "\n",
    "# import dill\n",
    "\n",
    "# with open(\"rules.data\", \"wb\") as outf:\n",
    "#     dill.dump(rules_by_if, outf)"
   ]
  },
  {
   "cell_type": "markdown",
   "id": "680049be-1176-44d9-ba37-61b194dfb97f",
   "metadata": {},
   "source": [
    "# Filter rules by different fairness definitions"
   ]
  },
  {
   "cell_type": "markdown",
   "id": "07e10fea-1fb4-4028-813a-e21b0767983f",
   "metadata": {},
   "source": [
    "Here, we explore more sophisticated ways of picking the \"top\" K rules and showing only those.\n",
    "\n",
    "We start ranking the rule \"groups\" (all recourses for a single \"if\") by averaging out the costs of all suggested recourses, weighted by the respective correctness. For now, the \"cost\" of a recourse is simply the number of features whose value changes (and the magnitude of the change for numerical features, but here there are none)."
   ]
  },
  {
   "cell_type": "code",
   "execution_count": 40,
   "id": "897fbfbd-1667-46e5-8015-fa43a1709905",
   "metadata": {
    "tags": []
   },
   "outputs": [],
   "source": [
    "comparators = gfacts.naive_feature_change_builder(num_cols=num_features, cate_cols=cate_features, feature_weights=feature_weights)\n",
    "params = ParameterProxy(featureChanges=comparators)"
   ]
  },
  {
   "cell_type": "markdown",
   "id": "3083f9ee-9126-4cd4-a84a-5816e32e1cb8",
   "metadata": {},
   "source": [
    "## Weighted Average Score"
   ]
  },
  {
   "cell_type": "code",
   "execution_count": 41,
   "id": "7b51ca0b-5aa1-4868-9aa7-5582e7e2e00d",
   "metadata": {
    "tags": []
   },
   "outputs": [
    {
     "name": "stdout",
     "output_type": "stream",
     "text": [
      "If \u001b[1marea = Rural, income = Unknown, homeowner = 1, age = 55-64\u001b[0m:\n",
      "\tSubgroup '\u001b[1mF\u001b[0m', \u001b[34m4.7008%\u001b[39m covered out of 600135\n",
      "\t\tMake \u001b[1m\u001b[31marea = Unknown\u001b[39m, \u001b[31mhomeowner = 0\u001b[39m\u001b[0m with correctness \u001b[32m94.3766%\u001b[39m.\n",
      "\t\tMake \u001b[1m\u001b[31marea = Unknown\u001b[39m, \u001b[31mincome = <100K\u001b[39m, \u001b[31mhomeowner = 0\u001b[39m\u001b[0m with correctness \u001b[32m0.0000%\u001b[39m.\n",
      "\t\t\u001b[1mAggregate cost\u001b[0m of the above recourses = \u001b[35m0.943766\u001b[39m\n",
      "\tSubgroup '\u001b[1mM\u001b[0m', \u001b[34m4.8609%\u001b[39m covered out of 314181\n",
      "\t\tMake \u001b[1m\u001b[31marea = Unknown\u001b[39m, \u001b[31mhomeowner = 0\u001b[39m\u001b[0m with correctness \u001b[32m99.5830%\u001b[39m.\n",
      "\t\tMake \u001b[1m\u001b[31marea = Unknown\u001b[39m, \u001b[31mincome = <100K\u001b[39m, \u001b[31mhomeowner = 0\u001b[39m\u001b[0m with correctness \u001b[32m89.0361%\u001b[39m.\n",
      "\t\t\u001b[1mAggregate cost\u001b[0m of the above recourses = \u001b[35m2.33137\u001b[39m\n",
      "If \u001b[1mparents = 1, income = Unknown, homeowner = 1, age = Unknown\u001b[0m:\n",
      "\tSubgroup '\u001b[1mF\u001b[0m', \u001b[34m2.6163%\u001b[39m covered out of 600135\n",
      "\t\tMake \u001b[1m\u001b[31mhomeowner = 0\u001b[39m, \u001b[31mage = 55-64\u001b[39m\u001b[0m with correctness \u001b[32m100.0000%\u001b[39m.\n",
      "\t\tMake \u001b[1m\u001b[31mincome = <100K\u001b[39m, \u001b[31mhomeowner = 0\u001b[39m, \u001b[31mage = 55-64\u001b[39m\u001b[0m with correctness \u001b[32m29.6034%\u001b[39m.\n",
      "\t\tMake \u001b[1m\u001b[31mparents = 0\u001b[39m, \u001b[31mhomeowner = 0\u001b[39m, \u001b[31mage = 55-64\u001b[39m\u001b[0m with correctness \u001b[32m30.0283%\u001b[39m.\n",
      "\t\t\u001b[1mAggregate cost\u001b[0m of the above recourses = \u001b[35m1.26298\u001b[39m\n",
      "\tSubgroup '\u001b[1mM\u001b[0m', \u001b[34m2.5479%\u001b[39m covered out of 314181\n",
      "\t\tMake \u001b[1m\u001b[31mhomeowner = 0\u001b[39m, \u001b[31mage = 55-64\u001b[39m\u001b[0m with correctness \u001b[32m100.0000%\u001b[39m.\n",
      "\t\tMake \u001b[1m\u001b[31mincome = <100K\u001b[39m, \u001b[31mhomeowner = 0\u001b[39m, \u001b[31mage = 55-64\u001b[39m\u001b[0m with correctness \u001b[32m96.1628%\u001b[39m.\n",
      "\t\tMake \u001b[1m\u001b[31mparents = 0\u001b[39m, \u001b[31mhomeowner = 0\u001b[39m, \u001b[31mage = 55-64\u001b[39m\u001b[0m with correctness \u001b[32m96.1628%\u001b[39m.\n",
      "\t\t\u001b[1mAggregate cost\u001b[0m of the above recourses = \u001b[35m2.58992\u001b[39m\n",
      "If \u001b[1marea = Rural, income = Unknown, homeowner = 1\u001b[0m:\n",
      "\tSubgroup '\u001b[1mF\u001b[0m', \u001b[34m5.0541%\u001b[39m covered out of 600135\n",
      "\t\tMake \u001b[1m\u001b[31marea = Unknown\u001b[39m, \u001b[31mhomeowner = 0\u001b[39m\u001b[0m with correctness \u001b[32m87.7795%\u001b[39m.\n",
      "\t\tMake \u001b[1m\u001b[31marea = Unknown\u001b[39m, \u001b[31mincome = <100K\u001b[39m, \u001b[31mhomeowner = 0\u001b[39m\u001b[0m with correctness \u001b[32m0.0000%\u001b[39m.\n",
      "\t\t\u001b[1mAggregate cost\u001b[0m of the above recourses = \u001b[35m0.877795\u001b[39m\n",
      "\tSubgroup '\u001b[1mM\u001b[0m', \u001b[34m5.2353%\u001b[39m covered out of 314181\n",
      "\t\tMake \u001b[1m\u001b[31marea = Unknown\u001b[39m, \u001b[31mhomeowner = 0\u001b[39m\u001b[0m with correctness \u001b[32m94.0332%\u001b[39m.\n",
      "\t\tMake \u001b[1m\u001b[31marea = Unknown\u001b[39m, \u001b[31mincome = <100K\u001b[39m, \u001b[31mhomeowner = 0\u001b[39m\u001b[0m with correctness \u001b[32m82.6691%\u001b[39m.\n",
      "\t\t\u001b[1mAggregate cost\u001b[0m of the above recourses = \u001b[35m2.18037\u001b[39m\n",
      "If \u001b[1mparents = 1, college_educated = 1, homeowner = 1, age = Unknown\u001b[0m:\n",
      "\tSubgroup '\u001b[1mF\u001b[0m', \u001b[34m2.5632%\u001b[39m covered out of 600135\n",
      "\t\tMake \u001b[1m\u001b[31mhomeowner = 0\u001b[39m, \u001b[31mage = 55-64\u001b[39m\u001b[0m with correctness \u001b[32m98.1687%\u001b[39m.\n",
      "\t\tMake \u001b[1m\u001b[31mparents = 0\u001b[39m, \u001b[31mhomeowner = 0\u001b[39m, \u001b[31mage = 55-64\u001b[39m\u001b[0m with correctness \u001b[32m30.2169%\u001b[39m.\n",
      "\t\t\u001b[1mAggregate cost\u001b[0m of the above recourses = \u001b[35m1.43494\u001b[39m\n",
      "\tSubgroup '\u001b[1mM\u001b[0m', \u001b[34m2.4907%\u001b[39m covered out of 314181\n",
      "\t\tMake \u001b[1m\u001b[31mhomeowner = 0\u001b[39m, \u001b[31mage = 55-64\u001b[39m\u001b[0m with correctness \u001b[32m100.0000%\u001b[39m.\n",
      "\t\tMake \u001b[1m\u001b[31mparents = 0\u001b[39m, \u001b[31mhomeowner = 0\u001b[39m, \u001b[31mage = 55-64\u001b[39m\u001b[0m with correctness \u001b[32m98.2288%\u001b[39m.\n",
      "\t\t\u001b[1mAggregate cost\u001b[0m of the above recourses = \u001b[35m2.47343\u001b[39m\n",
      "If \u001b[1mparents = 1, college_educated = 0, homeowner = 1, age = 55-64\u001b[0m:\n",
      "\tSubgroup '\u001b[1mF\u001b[0m', \u001b[34m4.8651%\u001b[39m covered out of 600135\n",
      "\t\tMake \u001b[1m\u001b[31mcollege_educated = 1\u001b[39m, \u001b[31mhomeowner = 0\u001b[39m\u001b[0m with correctness \u001b[32m98.4766%\u001b[39m.\n",
      "\t\tMake \u001b[1m\u001b[31mparents = 0\u001b[39m, \u001b[31mcollege_educated = 1\u001b[39m, \u001b[31mhomeowner = 0\u001b[39m\u001b[0m with correctness \u001b[32m31.6364%\u001b[39m.\n",
      "\t\t\u001b[1mAggregate cost\u001b[0m of the above recourses = \u001b[35m1.45931\u001b[39m\n",
      "\tSubgroup '\u001b[1mM\u001b[0m', \u001b[34m4.9658%\u001b[39m covered out of 314181\n",
      "\t\tMake \u001b[1m\u001b[31mcollege_educated = 1\u001b[39m, \u001b[31mhomeowner = 0\u001b[39m\u001b[0m with correctness \u001b[32m100.0000%\u001b[39m.\n",
      "\t\tMake \u001b[1m\u001b[31mparents = 0\u001b[39m, \u001b[31mcollege_educated = 1\u001b[39m, \u001b[31mhomeowner = 0\u001b[39m\u001b[0m with correctness \u001b[32m98.5834%\u001b[39m.\n",
      "\t\t\u001b[1mAggregate cost\u001b[0m of the above recourses = \u001b[35m2.47875\u001b[39m\n",
      "If \u001b[1mparents = 1, homeowner = 1, age = Unknown\u001b[0m:\n",
      "\tSubgroup '\u001b[1mF\u001b[0m', \u001b[34m2.7065%\u001b[39m covered out of 600135\n",
      "\t\tMake \u001b[1m\u001b[31mhomeowner = 0\u001b[39m, \u001b[31mage = 55-64\u001b[39m\u001b[0m with correctness \u001b[32m98.2428%\u001b[39m.\n",
      "\t\tMake \u001b[1m\u001b[31mparents = 0\u001b[39m, \u001b[31mhomeowner = 0\u001b[39m, \u001b[31mage = 55-64\u001b[39m\u001b[0m with correctness \u001b[32m30.5112%\u001b[39m.\n",
      "\t\t\u001b[1mAggregate cost\u001b[0m of the above recourses = \u001b[35m1.4401\u001b[39m\n",
      "\tSubgroup '\u001b[1mM\u001b[0m', \u001b[34m2.6326%\u001b[39m covered out of 314181\n",
      "\t\tMake \u001b[1m\u001b[31mhomeowner = 0\u001b[39m, \u001b[31mage = 55-64\u001b[39m\u001b[0m with correctness \u001b[32m99.9547%\u001b[39m.\n",
      "\t\tMake \u001b[1m\u001b[31mparents = 0\u001b[39m, \u001b[31mhomeowner = 0\u001b[39m, \u001b[31mage = 55-64\u001b[39m\u001b[0m with correctness \u001b[32m94.5652%\u001b[39m.\n",
      "\t\t\u001b[1mAggregate cost\u001b[0m of the above recourses = \u001b[35m2.41803\u001b[39m\n",
      "If \u001b[1mparents = 1, homeowner = 1, age = 45-54\u001b[0m:\n",
      "\tSubgroup '\u001b[1mF\u001b[0m', \u001b[34m1.5787%\u001b[39m covered out of 600135\n",
      "\t\tMake \u001b[1m\u001b[31mhomeowner = 0\u001b[39m, \u001b[31mage = 55-64\u001b[39m\u001b[0m with correctness \u001b[32m98.0438%\u001b[39m.\n",
      "\t\tMake \u001b[1m\u001b[31mparents = 0\u001b[39m, \u001b[31mhomeowner = 0\u001b[39m, \u001b[31mage = 55-64\u001b[39m\u001b[0m with correctness \u001b[32m31.4554%\u001b[39m.\n",
      "\t\t\u001b[1mAggregate cost\u001b[0m of the above recourses = \u001b[35m1.45227\u001b[39m\n",
      "\tSubgroup '\u001b[1mM\u001b[0m', \u001b[34m1.5333%\u001b[39m covered out of 314181\n",
      "\t\tMake \u001b[1m\u001b[31mhomeowner = 0\u001b[39m, \u001b[31mage = 55-64\u001b[39m\u001b[0m with correctness \u001b[32m99.8445%\u001b[39m.\n",
      "\t\tMake \u001b[1m\u001b[31mparents = 0\u001b[39m, \u001b[31mhomeowner = 0\u001b[39m, \u001b[31mage = 55-64\u001b[39m\u001b[0m with correctness \u001b[32m94.9456%\u001b[39m.\n",
      "\t\t\u001b[1mAggregate cost\u001b[0m of the above recourses = \u001b[35m2.42263\u001b[39m\n",
      "If \u001b[1marea = Unknown, income = Unknown, homeowner = 1, age = 55-64\u001b[0m:\n",
      "\tSubgroup '\u001b[1mF\u001b[0m', \u001b[34m61.6304%\u001b[39m covered out of 600135\n",
      "\t\tMake \u001b[1m\u001b[31mhomeowner = 0\u001b[39m\u001b[0m with correctness \u001b[32m94.6013%\u001b[39m.\n",
      "\t\tMake \u001b[1m\u001b[31mincome = <100K\u001b[39m, \u001b[31mhomeowner = 0\u001b[39m\u001b[0m with correctness \u001b[32m0.0000%\u001b[39m.\n",
      "\t\t\u001b[1mAggregate cost\u001b[0m of the above recourses = \u001b[35m0.473007\u001b[39m\n",
      "\tSubgroup '\u001b[1mM\u001b[0m', \u001b[34m62.9368%\u001b[39m covered out of 314181\n",
      "\t\tMake \u001b[1m\u001b[31mhomeowner = 0\u001b[39m\u001b[0m with correctness \u001b[32m99.6704%\u001b[39m.\n",
      "\t\tMake \u001b[1m\u001b[31mincome = <100K\u001b[39m, \u001b[31mhomeowner = 0\u001b[39m\u001b[0m with correctness \u001b[32m89.2796%\u001b[39m.\n",
      "\t\t\u001b[1mAggregate cost\u001b[0m of the above recourses = \u001b[35m1.39115\u001b[39m\n",
      "If \u001b[1mparents = 0, area = Unknown, college_educated = 1, homeowner = 1\u001b[0m:\n",
      "\tSubgroup '\u001b[1mF\u001b[0m', \u001b[34m3.4730%\u001b[39m covered out of 600135\n",
      "\t\tMake \u001b[1m\u001b[31mhomeowner = 0\u001b[39m\u001b[0m with correctness \u001b[32m1.4405%\u001b[39m.\n",
      "\t\t\u001b[1mAggregate cost\u001b[0m of the above recourses = \u001b[35m0.0144051\u001b[39m\n",
      "\tSubgroup '\u001b[1mM\u001b[0m', \u001b[34m3.5125%\u001b[39m covered out of 314181\n",
      "\t\tMake \u001b[1m\u001b[31mhomeowner = 0\u001b[39m\u001b[0m with correctness \u001b[32m92.1928%\u001b[39m.\n",
      "\t\t\u001b[1mAggregate cost\u001b[0m of the above recourses = \u001b[35m0.921928\u001b[39m\n",
      "If \u001b[1mparents = 0, area = Unknown, homeowner = 1, age = 55-64\u001b[0m:\n",
      "\tSubgroup '\u001b[1mF\u001b[0m', \u001b[34m3.4538%\u001b[39m covered out of 600135\n",
      "\t\tMake \u001b[1m\u001b[31mhomeowner = 0\u001b[39m\u001b[0m with correctness \u001b[32m1.4485%\u001b[39m.\n",
      "\t\t\u001b[1mAggregate cost\u001b[0m of the above recourses = \u001b[35m0.014485\u001b[39m\n",
      "\tSubgroup '\u001b[1mM\u001b[0m', \u001b[34m3.5220%\u001b[39m covered out of 314181\n",
      "\t\tMake \u001b[1m\u001b[31mhomeowner = 0\u001b[39m\u001b[0m with correctness \u001b[32m91.9770%\u001b[39m.\n",
      "\t\t\u001b[1mAggregate cost\u001b[0m of the above recourses = \u001b[35m0.91977\u001b[39m\n",
      "\n"
     ]
    }
   ],
   "source": [
    "top_rules = gfacts.select_rules_subset(\n",
    "    rules_by_if,\n",
    "    metric = \"weighted-average\",\n",
    "    sort_strategy = \"abs-diff-decr\",\n",
    "    top_count = 10\n",
    ")\n",
    "\n",
    "pop_sizes = {sg: (ad_conversion_dataset[\"gender\"] == sg).sum() for sg in ad_conversion_dataset[\"gender\"].unique()}\n",
    "print(recourse_report_reverse(\n",
    "    top_rules,\n",
    "    population_sizes=pop_sizes,\n",
    "    subgroup_costs=gfacts.calculate_all_if_subgroup_costs(list(top_rules.keys()), list(top_rules.values()))\n",
    "))"
   ]
  },
  {
   "cell_type": "markdown",
   "id": "b68eb89f-39e1-4143-93aa-5367b5356b40",
   "metadata": {},
   "source": [
    "## Minimum cost above threshold"
   ]
  },
  {
   "cell_type": "code",
   "execution_count": 42,
   "id": "df56bb6f-2359-4108-8b03-326caf4f37a4",
   "metadata": {
    "tags": []
   },
   "outputs": [
    {
     "name": "stdout",
     "output_type": "stream",
     "text": [
      "If \u001b[1mparents = 0, area = Unknown, college_educated = 1, homeowner = 1\u001b[0m:\n",
      "\tSubgroup '\u001b[1mF\u001b[0m', \u001b[34m3.4730%\u001b[39m covered out of 600135\n",
      "\t\t\u001b[31mNo recourses for this subgroup!\n",
      "\u001b[39m\t\t\u001b[1mAggregate cost\u001b[0m of the above recourses = \u001b[35minf\u001b[39m\n",
      "\tSubgroup '\u001b[1mM\u001b[0m', \u001b[34m3.5125%\u001b[39m covered out of 314181\n",
      "\t\tMake \u001b[1m\u001b[31mhomeowner = 0\u001b[39m\u001b[0m with correctness \u001b[32m92.1928%\u001b[39m.\n",
      "\t\t\u001b[1mAggregate cost\u001b[0m of the above recourses = \u001b[35m1.0\u001b[39m\n",
      "If \u001b[1mparents = 0, area = Unknown, homeowner = 1, age = 55-64\u001b[0m:\n",
      "\tSubgroup '\u001b[1mF\u001b[0m', \u001b[34m3.4538%\u001b[39m covered out of 600135\n",
      "\t\t\u001b[31mNo recourses for this subgroup!\n",
      "\u001b[39m\t\t\u001b[1mAggregate cost\u001b[0m of the above recourses = \u001b[35minf\u001b[39m\n",
      "\tSubgroup '\u001b[1mM\u001b[0m', \u001b[34m3.5220%\u001b[39m covered out of 314181\n",
      "\t\tMake \u001b[1m\u001b[31mhomeowner = 0\u001b[39m\u001b[0m with correctness \u001b[32m91.9770%\u001b[39m.\n",
      "\t\t\u001b[1mAggregate cost\u001b[0m of the above recourses = \u001b[35m1.0\u001b[39m\n",
      "If \u001b[1mparents = 0, area = Unknown, homeowner = 1\u001b[0m:\n",
      "\tSubgroup '\u001b[1mF\u001b[0m', \u001b[34m3.6922%\u001b[39m covered out of 600135\n",
      "\t\tMake \u001b[1m\u001b[31mparents = 1\u001b[39m, \u001b[31marea = Urban\u001b[39m, \u001b[31mhomeowner = 0\u001b[39m\u001b[0m with correctness \u001b[32m96.7548%\u001b[39m.\n",
      "\t\t\u001b[1mAggregate cost\u001b[0m of the above recourses = \u001b[35m3.0\u001b[39m\n",
      "\tSubgroup '\u001b[1mM\u001b[0m', \u001b[34m3.7390%\u001b[39m covered out of 314181\n",
      "\t\tMake \u001b[1m\u001b[31mhomeowner = 0\u001b[39m\u001b[0m with correctness \u001b[32m86.6390%\u001b[39m.\n",
      "\t\tMake \u001b[1m\u001b[31mparents = 1\u001b[39m, \u001b[31marea = Urban\u001b[39m, \u001b[31mhomeowner = 0\u001b[39m\u001b[0m with correctness \u001b[32m97.4490%\u001b[39m.\n",
      "\t\t\u001b[1mAggregate cost\u001b[0m of the above recourses = \u001b[35m1.0\u001b[39m\n",
      "If \u001b[1mparents = 0, homeowner = 1\u001b[0m:\n",
      "\tSubgroup '\u001b[1mF\u001b[0m', \u001b[34m5.2505%\u001b[39m covered out of 600135\n",
      "\t\tMake \u001b[1m\u001b[31mparents = 1\u001b[39m, \u001b[31mhomeowner = 0\u001b[39m\u001b[0m with correctness \u001b[32m93.0479%\u001b[39m.\n",
      "\t\t\u001b[1mAggregate cost\u001b[0m of the above recourses = \u001b[35m2.0\u001b[39m\n",
      "\tSubgroup '\u001b[1mM\u001b[0m', \u001b[34m5.3688%\u001b[39m covered out of 314181\n",
      "\t\tMake \u001b[1m\u001b[31mparents = 1\u001b[39m, \u001b[31mhomeowner = 0\u001b[39m\u001b[0m with correctness \u001b[32m96.2469%\u001b[39m.\n",
      "\t\tMake \u001b[1m\u001b[31mhomeowner = 0\u001b[39m\u001b[0m with correctness \u001b[32m89.6069%\u001b[39m.\n",
      "\t\t\u001b[1mAggregate cost\u001b[0m of the above recourses = \u001b[35m1.0\u001b[39m\n",
      "If \u001b[1mparents = 0, income = Unknown, homeowner = 1\u001b[0m:\n",
      "\tSubgroup '\u001b[1mF\u001b[0m', \u001b[34m5.0930%\u001b[39m covered out of 600135\n",
      "\t\tMake \u001b[1m\u001b[31mparents = 1\u001b[39m, \u001b[31mhomeowner = 0\u001b[39m\u001b[0m with correctness \u001b[32m94.4579%\u001b[39m.\n",
      "\t\t\u001b[1mAggregate cost\u001b[0m of the above recourses = \u001b[35m2.0\u001b[39m\n",
      "\tSubgroup '\u001b[1mM\u001b[0m', \u001b[34m5.2138%\u001b[39m covered out of 314181\n",
      "\t\tMake \u001b[1m\u001b[31mparents = 1\u001b[39m, \u001b[31mhomeowner = 0\u001b[39m\u001b[0m with correctness \u001b[32m96.3641%\u001b[39m.\n",
      "\t\tMake \u001b[1m\u001b[31mparents = 1\u001b[39m, \u001b[31mincome = <100K\u001b[39m, \u001b[31mhomeowner = 0\u001b[39m\u001b[0m with correctness \u001b[32m90.8530%\u001b[39m.\n",
      "\t\tMake \u001b[1m\u001b[31mhomeowner = 0\u001b[39m\u001b[0m with correctness \u001b[32m90.8530%\u001b[39m.\n",
      "\t\t\u001b[1mAggregate cost\u001b[0m of the above recourses = \u001b[35m1.0\u001b[39m\n",
      "If \u001b[1mparents = 0, college_educated = 1, homeowner = 1\u001b[0m:\n",
      "\tSubgroup '\u001b[1mF\u001b[0m', \u001b[34m4.9547%\u001b[39m covered out of 600135\n",
      "\t\tMake \u001b[1m\u001b[31mparents = 1\u001b[39m, \u001b[31mhomeowner = 0\u001b[39m\u001b[0m with correctness \u001b[32m93.2062%\u001b[39m.\n",
      "\t\tMake \u001b[1m\u001b[31mparents = 1\u001b[39m, \u001b[31mcollege_educated = 0\u001b[39m, \u001b[31mhomeowner = 0\u001b[39m\u001b[0m with correctness \u001b[32m92.7823%\u001b[39m.\n",
      "\t\t\u001b[1mAggregate cost\u001b[0m of the above recourses = \u001b[35m2.0\u001b[39m\n",
      "\tSubgroup '\u001b[1mM\u001b[0m', \u001b[34m5.0433%\u001b[39m covered out of 314181\n",
      "\t\tMake \u001b[1m\u001b[31mparents = 1\u001b[39m, \u001b[31mhomeowner = 0\u001b[39m\u001b[0m with correctness \u001b[32m96.4539%\u001b[39m.\n",
      "\t\tMake \u001b[1m\u001b[31mparents = 1\u001b[39m, \u001b[31mcollege_educated = 0\u001b[39m, \u001b[31mhomeowner = 0\u001b[39m\u001b[0m with correctness \u001b[32m93.4988%\u001b[39m.\n",
      "\t\tMake \u001b[1m\u001b[31mhomeowner = 0\u001b[39m\u001b[0m with correctness \u001b[32m93.4988%\u001b[39m.\n",
      "\t\t\u001b[1mAggregate cost\u001b[0m of the above recourses = \u001b[35m1.0\u001b[39m\n",
      "If \u001b[1mparents = 0, homeowner = 1, age = 55-64\u001b[0m:\n",
      "\tSubgroup '\u001b[1mF\u001b[0m', \u001b[34m4.9096%\u001b[39m covered out of 600135\n",
      "\t\tMake \u001b[1m\u001b[31mparents = 1\u001b[39m, \u001b[31mhomeowner = 0\u001b[39m\u001b[0m with correctness \u001b[32m98.5281%\u001b[39m.\n",
      "\t\t\u001b[1mAggregate cost\u001b[0m of the above recourses = \u001b[35m2.0\u001b[39m\n",
      "\tSubgroup '\u001b[1mM\u001b[0m', \u001b[34m5.0636%\u001b[39m covered out of 314181\n",
      "\t\tMake \u001b[1m\u001b[31mparents = 1\u001b[39m, \u001b[31mhomeowner = 0\u001b[39m\u001b[0m with correctness \u001b[32m99.8587%\u001b[39m.\n",
      "\t\tMake \u001b[1m\u001b[31mhomeowner = 0\u001b[39m\u001b[0m with correctness \u001b[32m94.4196%\u001b[39m.\n",
      "\t\t\u001b[1mAggregate cost\u001b[0m of the above recourses = \u001b[35m1.0\u001b[39m\n",
      "If \u001b[1mparents = 0, income = Unknown, homeowner = 1, age = 55-64\u001b[0m:\n",
      "\tSubgroup '\u001b[1mF\u001b[0m', \u001b[34m4.7626%\u001b[39m covered out of 600135\n",
      "\t\tMake \u001b[1m\u001b[31mparents = 1\u001b[39m, \u001b[31mhomeowner = 0\u001b[39m\u001b[0m with correctness \u001b[32m100.0000%\u001b[39m.\n",
      "\t\t\u001b[1mAggregate cost\u001b[0m of the above recourses = \u001b[35m2.0\u001b[39m\n",
      "\tSubgroup '\u001b[1mM\u001b[0m', \u001b[34m4.9146%\u001b[39m covered out of 314181\n",
      "\t\tMake \u001b[1m\u001b[31mparents = 1\u001b[39m, \u001b[31mhomeowner = 0\u001b[39m\u001b[0m with correctness \u001b[32m100.0000%\u001b[39m.\n",
      "\t\tMake \u001b[1m\u001b[31mparents = 1\u001b[39m, \u001b[31mincome = <100K\u001b[39m, \u001b[31mhomeowner = 0\u001b[39m\u001b[0m with correctness \u001b[32m95.7787%\u001b[39m.\n",
      "\t\tMake \u001b[1m\u001b[31mhomeowner = 0\u001b[39m\u001b[0m with correctness \u001b[32m95.7787%\u001b[39m.\n",
      "\t\t\u001b[1mAggregate cost\u001b[0m of the above recourses = \u001b[35m1.0\u001b[39m\n",
      "If \u001b[1mparents = 0, college_educated = 1, homeowner = 1, age = 55-64\u001b[0m:\n",
      "\tSubgroup '\u001b[1mF\u001b[0m', \u001b[34m4.6403%\u001b[39m covered out of 600135\n",
      "\t\tMake \u001b[1m\u001b[31mparents = 1\u001b[39m, \u001b[31mhomeowner = 0\u001b[39m\u001b[0m with correctness \u001b[32m98.5093%\u001b[39m.\n",
      "\t\t\u001b[1mAggregate cost\u001b[0m of the above recourses = \u001b[35m2.0\u001b[39m\n",
      "\tSubgroup '\u001b[1mM\u001b[0m', \u001b[34m4.7536%\u001b[39m covered out of 314181\n",
      "\t\tMake \u001b[1m\u001b[31mparents = 1\u001b[39m, \u001b[31mhomeowner = 0\u001b[39m\u001b[0m with correctness \u001b[32m100.0000%\u001b[39m.\n",
      "\t\tMake \u001b[1m\u001b[31mhomeowner = 0\u001b[39m\u001b[0m with correctness \u001b[32m98.5704%\u001b[39m.\n",
      "\t\t\u001b[1mAggregate cost\u001b[0m of the above recourses = \u001b[35m1.0\u001b[39m\n",
      "If \u001b[1mhomeowner = 1\u001b[0m:\n",
      "\tSubgroup '\u001b[1mF\u001b[0m', \u001b[34m97.2966%\u001b[39m covered out of 600135\n",
      "\t\tMake \u001b[1m\u001b[31mhomeowner = 0\u001b[39m\u001b[0m with correctness \u001b[32m89.5201%\u001b[39m.\n",
      "\t\t\u001b[1mAggregate cost\u001b[0m of the above recourses = \u001b[35m1.0\u001b[39m\n",
      "\tSubgroup '\u001b[1mM\u001b[0m', \u001b[34m99.1583%\u001b[39m covered out of 314181\n",
      "\t\tMake \u001b[1m\u001b[31mhomeowner = 0\u001b[39m\u001b[0m with correctness \u001b[32m95.3684%\u001b[39m.\n",
      "\t\t\u001b[1mAggregate cost\u001b[0m of the above recourses = \u001b[35m1.0\u001b[39m\n",
      "\n"
     ]
    }
   ],
   "source": [
    "top_rules = gfacts.select_rules_subset(\n",
    "    rules_by_if,\n",
    "    metric=\"min-above-thr\",\n",
    "    sort_strategy=\"abs-diff-decr-ignore-forall-subgroups-empty\",\n",
    "    top_count=10,\n",
    "    cor_threshold=0.5,\n",
    "    filter_sequence=[\"remove-below-thr\"]\n",
    ")\n",
    "\n",
    "pop_sizes = {sg: (ad_conversion_dataset[\"gender\"] == sg).sum() for sg in ad_conversion_dataset[\"gender\"].unique()}\n",
    "print(recourse_report_reverse(\n",
    "    top_rules,\n",
    "    population_sizes = pop_sizes,\n",
    "    subgroup_costs=gfacts.calculate_all_if_subgroup_costs(\n",
    "        list(top_rules.keys()),\n",
    "        list(top_rules.values()),\n",
    "        group_calculator=gfacts.if_group_cost_min_change_correctness_threshold,\n",
    "        cor_thres=0.5\n",
    "    )\n",
    "))"
   ]
  },
  {
   "cell_type": "markdown",
   "id": "0803e721-32f6-476e-b105-cff1c7e8bba0",
   "metadata": {},
   "source": [
    "## Cost above threshold"
   ]
  },
  {
   "cell_type": "code",
   "execution_count": 43,
   "id": "e4368275-1328-4cbd-ae81-e1facb6a4bc3",
   "metadata": {
    "tags": []
   },
   "outputs": [
    {
     "name": "stdout",
     "output_type": "stream",
     "text": [
      "If \u001b[1mparents = 0, area = Unknown, college_educated = 1, homeowner = 1\u001b[0m:\n",
      "\tSubgroup '\u001b[1mF\u001b[0m', \u001b[34m3.4730%\u001b[39m covered out of 600135\n",
      "\t\t\u001b[31mNo recourses for this subgroup!\n",
      "\u001b[39m\t\t\u001b[1mAggregate cost\u001b[0m of the above recourses = \u001b[35minf\u001b[39m\n",
      "\tSubgroup '\u001b[1mM\u001b[0m', \u001b[34m3.5125%\u001b[39m covered out of 314181\n",
      "\t\tMake \u001b[1m\u001b[31mhomeowner = 0\u001b[39m\u001b[0m with correctness \u001b[32m92.1928%\u001b[39m.\n",
      "\t\t\u001b[1mAggregate cost\u001b[0m of the above recourses = \u001b[35m1.0\u001b[39m\n",
      "If \u001b[1mparents = 0, area = Unknown, homeowner = 1, age = 55-64\u001b[0m:\n",
      "\tSubgroup '\u001b[1mF\u001b[0m', \u001b[34m3.4538%\u001b[39m covered out of 600135\n",
      "\t\t\u001b[31mNo recourses for this subgroup!\n",
      "\u001b[39m\t\t\u001b[1mAggregate cost\u001b[0m of the above recourses = \u001b[35minf\u001b[39m\n",
      "\tSubgroup '\u001b[1mM\u001b[0m', \u001b[34m3.5220%\u001b[39m covered out of 314181\n",
      "\t\tMake \u001b[1m\u001b[31mhomeowner = 0\u001b[39m\u001b[0m with correctness \u001b[32m91.9770%\u001b[39m.\n",
      "\t\t\u001b[1mAggregate cost\u001b[0m of the above recourses = \u001b[35m1.0\u001b[39m\n",
      "If \u001b[1mparents = 1, income = Unknown, homeowner = 1, age = Unknown\u001b[0m:\n",
      "\tSubgroup '\u001b[1mF\u001b[0m', \u001b[34m2.6163%\u001b[39m covered out of 600135\n",
      "\t\tMake \u001b[1m\u001b[31mhomeowner = 0\u001b[39m, \u001b[31mage = 55-64\u001b[39m\u001b[0m with correctness \u001b[32m100.0000%\u001b[39m.\n",
      "\t\t\u001b[1mAggregate cost\u001b[0m of the above recourses = \u001b[35m2.0\u001b[39m\n",
      "\tSubgroup '\u001b[1mM\u001b[0m', \u001b[34m2.5479%\u001b[39m covered out of 314181\n",
      "\t\tMake \u001b[1m\u001b[31mhomeowner = 0\u001b[39m, \u001b[31mage = 55-64\u001b[39m\u001b[0m with correctness \u001b[32m100.0000%\u001b[39m.\n",
      "\t\tMake \u001b[1m\u001b[31mincome = <100K\u001b[39m, \u001b[31mhomeowner = 0\u001b[39m, \u001b[31mage = 55-64\u001b[39m\u001b[0m with correctness \u001b[32m96.1628%\u001b[39m.\n",
      "\t\tMake \u001b[1m\u001b[31mparents = 0\u001b[39m, \u001b[31mhomeowner = 0\u001b[39m, \u001b[31mage = 55-64\u001b[39m\u001b[0m with correctness \u001b[32m96.1628%\u001b[39m.\n",
      "\t\t\u001b[1mAggregate cost\u001b[0m of the above recourses = \u001b[35m8.0\u001b[39m\n",
      "If \u001b[1mparents = 1, income = Unknown, homeowner = 1\u001b[0m:\n",
      "\tSubgroup '\u001b[1mF\u001b[0m', \u001b[34m89.3266%\u001b[39m covered out of 600135\n",
      "\t\tMake \u001b[1m\u001b[31mhomeowner = 0\u001b[39m\u001b[0m with correctness \u001b[32m94.4526%\u001b[39m.\n",
      "\t\t\u001b[1mAggregate cost\u001b[0m of the above recourses = \u001b[35m1.0\u001b[39m\n",
      "\tSubgroup '\u001b[1mM\u001b[0m', \u001b[34m91.1533%\u001b[39m covered out of 314181\n",
      "\t\tMake \u001b[1m\u001b[31mhomeowner = 0\u001b[39m\u001b[0m with correctness \u001b[32m95.8040%\u001b[39m.\n",
      "\t\tMake \u001b[1m\u001b[31mincome = <100K\u001b[39m, \u001b[31mhomeowner = 0\u001b[39m\u001b[0m with correctness \u001b[32m90.5092%\u001b[39m.\n",
      "\t\tMake \u001b[1m\u001b[31mparents = 0\u001b[39m, \u001b[31mhomeowner = 0\u001b[39m\u001b[0m with correctness \u001b[32m90.5092%\u001b[39m.\n",
      "\t\t\u001b[1mAggregate cost\u001b[0m of the above recourses = \u001b[35m5.0\u001b[39m\n",
      "If \u001b[1mparents = 1, income = Unknown, homeowner = 1, age = 55-64\u001b[0m:\n",
      "\tSubgroup '\u001b[1mF\u001b[0m', \u001b[34m83.4893%\u001b[39m covered out of 600135\n",
      "\t\tMake \u001b[1m\u001b[31mhomeowner = 0\u001b[39m\u001b[0m with correctness \u001b[32m100.0000%\u001b[39m.\n",
      "\t\t\u001b[1mAggregate cost\u001b[0m of the above recourses = \u001b[35m1.0\u001b[39m\n",
      "\tSubgroup '\u001b[1mM\u001b[0m', \u001b[34m85.4232%\u001b[39m covered out of 314181\n",
      "\t\tMake \u001b[1m\u001b[31mhomeowner = 0\u001b[39m\u001b[0m with correctness \u001b[32m100.0000%\u001b[39m.\n",
      "\t\tMake \u001b[1m\u001b[31mincome = <100K\u001b[39m, \u001b[31mhomeowner = 0\u001b[39m\u001b[0m with correctness \u001b[32m96.0668%\u001b[39m.\n",
      "\t\tMake \u001b[1m\u001b[31mparents = 0\u001b[39m, \u001b[31mhomeowner = 0\u001b[39m\u001b[0m with correctness \u001b[32m96.0668%\u001b[39m.\n",
      "\t\t\u001b[1mAggregate cost\u001b[0m of the above recourses = \u001b[35m5.0\u001b[39m\n",
      "If \u001b[1mparents = 0, income = Unknown, homeowner = 1\u001b[0m:\n",
      "\tSubgroup '\u001b[1mF\u001b[0m', \u001b[34m5.0930%\u001b[39m covered out of 600135\n",
      "\t\tMake \u001b[1m\u001b[31mparents = 1\u001b[39m, \u001b[31mhomeowner = 0\u001b[39m\u001b[0m with correctness \u001b[32m94.4579%\u001b[39m.\n",
      "\t\t\u001b[1mAggregate cost\u001b[0m of the above recourses = \u001b[35m2.0\u001b[39m\n",
      "\tSubgroup '\u001b[1mM\u001b[0m', \u001b[34m5.2138%\u001b[39m covered out of 314181\n",
      "\t\tMake \u001b[1m\u001b[31mparents = 1\u001b[39m, \u001b[31mhomeowner = 0\u001b[39m\u001b[0m with correctness \u001b[32m96.3641%\u001b[39m.\n",
      "\t\tMake \u001b[1m\u001b[31mparents = 1\u001b[39m, \u001b[31mincome = <100K\u001b[39m, \u001b[31mhomeowner = 0\u001b[39m\u001b[0m with correctness \u001b[32m90.8530%\u001b[39m.\n",
      "\t\tMake \u001b[1m\u001b[31mhomeowner = 0\u001b[39m\u001b[0m with correctness \u001b[32m90.8530%\u001b[39m.\n",
      "\t\t\u001b[1mAggregate cost\u001b[0m of the above recourses = \u001b[35m6.0\u001b[39m\n",
      "If \u001b[1mparents = 0, income = Unknown, homeowner = 1, age = 55-64\u001b[0m:\n",
      "\tSubgroup '\u001b[1mF\u001b[0m', \u001b[34m4.7626%\u001b[39m covered out of 600135\n",
      "\t\tMake \u001b[1m\u001b[31mparents = 1\u001b[39m, \u001b[31mhomeowner = 0\u001b[39m\u001b[0m with correctness \u001b[32m100.0000%\u001b[39m.\n",
      "\t\t\u001b[1mAggregate cost\u001b[0m of the above recourses = \u001b[35m2.0\u001b[39m\n",
      "\tSubgroup '\u001b[1mM\u001b[0m', \u001b[34m4.9146%\u001b[39m covered out of 314181\n",
      "\t\tMake \u001b[1m\u001b[31mparents = 1\u001b[39m, \u001b[31mhomeowner = 0\u001b[39m\u001b[0m with correctness \u001b[32m100.0000%\u001b[39m.\n",
      "\t\tMake \u001b[1m\u001b[31mparents = 1\u001b[39m, \u001b[31mincome = <100K\u001b[39m, \u001b[31mhomeowner = 0\u001b[39m\u001b[0m with correctness \u001b[32m95.7787%\u001b[39m.\n",
      "\t\tMake \u001b[1m\u001b[31mhomeowner = 0\u001b[39m\u001b[0m with correctness \u001b[32m95.7787%\u001b[39m.\n",
      "\t\t\u001b[1mAggregate cost\u001b[0m of the above recourses = \u001b[35m6.0\u001b[39m\n",
      "If \u001b[1mparents = 1, college_educated = 0, homeowner = 1\u001b[0m:\n",
      "\tSubgroup '\u001b[1mF\u001b[0m', \u001b[34m5.1869%\u001b[39m covered out of 600135\n",
      "\t\tMake \u001b[1m\u001b[31mcollege_educated = 1\u001b[39m, \u001b[31mhomeowner = 0\u001b[39m\u001b[0m with correctness \u001b[32m93.4151%\u001b[39m.\n",
      "\t\tMake \u001b[1m\u001b[31mhomeowner = 0\u001b[39m\u001b[0m with correctness \u001b[32m92.9269%\u001b[39m.\n",
      "\t\t\u001b[1mAggregate cost\u001b[0m of the above recourses = \u001b[35m3.0\u001b[39m\n",
      "\tSubgroup '\u001b[1mM\u001b[0m', \u001b[34m5.2878%\u001b[39m covered out of 314181\n",
      "\t\tMake \u001b[1m\u001b[31mcollege_educated = 1\u001b[39m, \u001b[31mhomeowner = 0\u001b[39m\u001b[0m with correctness \u001b[32m96.1443%\u001b[39m.\n",
      "\t\tMake \u001b[1m\u001b[31mhomeowner = 0\u001b[39m\u001b[0m with correctness \u001b[32m93.3033%\u001b[39m.\n",
      "\t\tMake \u001b[1m\u001b[31mparents = 0\u001b[39m, \u001b[31mcollege_educated = 1\u001b[39m, \u001b[31mhomeowner = 0\u001b[39m\u001b[0m with correctness \u001b[32m93.3033%\u001b[39m.\n",
      "\t\t\u001b[1mAggregate cost\u001b[0m of the above recourses = \u001b[35m6.0\u001b[39m\n",
      "If \u001b[1marea = Rural, income = Unknown, homeowner = 1\u001b[0m:\n",
      "\tSubgroup '\u001b[1mF\u001b[0m', \u001b[34m5.0541%\u001b[39m covered out of 600135\n",
      "\t\tMake \u001b[1m\u001b[31marea = Unknown\u001b[39m, \u001b[31mhomeowner = 0\u001b[39m\u001b[0m with correctness \u001b[32m87.7795%\u001b[39m.\n",
      "\t\t\u001b[1mAggregate cost\u001b[0m of the above recourses = \u001b[35m2.0\u001b[39m\n",
      "\tSubgroup '\u001b[1mM\u001b[0m', \u001b[34m5.2353%\u001b[39m covered out of 314181\n",
      "\t\tMake \u001b[1m\u001b[31marea = Unknown\u001b[39m, \u001b[31mhomeowner = 0\u001b[39m\u001b[0m with correctness \u001b[32m94.0332%\u001b[39m.\n",
      "\t\tMake \u001b[1m\u001b[31marea = Unknown\u001b[39m, \u001b[31mincome = <100K\u001b[39m, \u001b[31mhomeowner = 0\u001b[39m\u001b[0m with correctness \u001b[32m82.6691%\u001b[39m.\n",
      "\t\t\u001b[1mAggregate cost\u001b[0m of the above recourses = \u001b[35m5.0\u001b[39m\n",
      "If \u001b[1mparents = 1, college_educated = 0, homeowner = 1, age = 55-64\u001b[0m:\n",
      "\tSubgroup '\u001b[1mF\u001b[0m', \u001b[34m4.8651%\u001b[39m covered out of 600135\n",
      "\t\tMake \u001b[1m\u001b[31mcollege_educated = 1\u001b[39m, \u001b[31mhomeowner = 0\u001b[39m\u001b[0m with correctness \u001b[32m98.4766%\u001b[39m.\n",
      "\t\t\u001b[1mAggregate cost\u001b[0m of the above recourses = \u001b[35m2.0\u001b[39m\n",
      "\tSubgroup '\u001b[1mM\u001b[0m', \u001b[34m4.9658%\u001b[39m covered out of 314181\n",
      "\t\tMake \u001b[1m\u001b[31mcollege_educated = 1\u001b[39m, \u001b[31mhomeowner = 0\u001b[39m\u001b[0m with correctness \u001b[32m100.0000%\u001b[39m.\n",
      "\t\tMake \u001b[1m\u001b[31mparents = 0\u001b[39m, \u001b[31mcollege_educated = 1\u001b[39m, \u001b[31mhomeowner = 0\u001b[39m\u001b[0m with correctness \u001b[32m98.5834%\u001b[39m.\n",
      "\t\t\u001b[1mAggregate cost\u001b[0m of the above recourses = \u001b[35m5.0\u001b[39m\n",
      "\n"
     ]
    }
   ],
   "source": [
    "top_rules = gfacts.select_rules_subset(\n",
    "    rules_by_if,\n",
    "    metric=\"total-above-thr\",\n",
    "    sort_strategy=\"abs-diff-decr-ignore-forall-subgroups-empty\",\n",
    "    top_count=10,\n",
    "    cor_threshold=0.5,\n",
    "    filter_sequence=[\"remove-below-thr\"]\n",
    ")\n",
    "\n",
    "pop_sizes = {sg: (ad_conversion_dataset[\"gender\"] == sg).sum() for sg in ad_conversion_dataset[\"gender\"].unique()}\n",
    "print(recourse_report_reverse(\n",
    "    top_rules,\n",
    "    population_sizes = pop_sizes,\n",
    "    subgroup_costs=gfacts.calculate_all_if_subgroup_costs(\n",
    "        list(top_rules.keys()),\n",
    "        list(top_rules.values()),\n",
    "        group_calculator=gfacts.if_group_cost_sum_change_correctness_threshold,\n",
    "        cor_thres=0.5\n",
    "    )\n",
    "))"
   ]
  },
  {
   "cell_type": "markdown",
   "id": "1e6b8414-7b1a-4bec-92cb-1e8eae446e34",
   "metadata": {},
   "source": [
    "## Number above threshold"
   ]
  },
  {
   "cell_type": "code",
   "execution_count": 44,
   "id": "0fbbdba8-cec7-420e-812b-925948519167",
   "metadata": {
    "tags": []
   },
   "outputs": [
    {
     "name": "stdout",
     "output_type": "stream",
     "text": [
      "If \u001b[1mparents = 1, income = Unknown, homeowner = 1\u001b[0m:\n",
      "\tSubgroup '\u001b[1mF\u001b[0m', \u001b[34m89.3266%\u001b[39m covered out of 600135\n",
      "\t\tMake \u001b[1m\u001b[31mhomeowner = 0\u001b[39m\u001b[0m with correctness \u001b[32m94.4526%\u001b[39m.\n",
      "\t\t\u001b[1mAggregate cost\u001b[0m of the above recourses = \u001b[35m1.0\u001b[39m\n",
      "\tSubgroup '\u001b[1mM\u001b[0m', \u001b[34m91.1533%\u001b[39m covered out of 314181\n",
      "\t\tMake \u001b[1m\u001b[31mhomeowner = 0\u001b[39m\u001b[0m with correctness \u001b[32m95.8040%\u001b[39m.\n",
      "\t\tMake \u001b[1m\u001b[31mincome = <100K\u001b[39m, \u001b[31mhomeowner = 0\u001b[39m\u001b[0m with correctness \u001b[32m90.5092%\u001b[39m.\n",
      "\t\tMake \u001b[1m\u001b[31mparents = 0\u001b[39m, \u001b[31mhomeowner = 0\u001b[39m\u001b[0m with correctness \u001b[32m90.5092%\u001b[39m.\n",
      "\t\t\u001b[1mAggregate cost\u001b[0m of the above recourses = \u001b[35m3.0\u001b[39m\n",
      "If \u001b[1mparents = 1, income = Unknown, homeowner = 1, age = 55-64\u001b[0m:\n",
      "\tSubgroup '\u001b[1mF\u001b[0m', \u001b[34m83.4893%\u001b[39m covered out of 600135\n",
      "\t\tMake \u001b[1m\u001b[31mhomeowner = 0\u001b[39m\u001b[0m with correctness \u001b[32m100.0000%\u001b[39m.\n",
      "\t\t\u001b[1mAggregate cost\u001b[0m of the above recourses = \u001b[35m1.0\u001b[39m\n",
      "\tSubgroup '\u001b[1mM\u001b[0m', \u001b[34m85.4232%\u001b[39m covered out of 314181\n",
      "\t\tMake \u001b[1m\u001b[31mhomeowner = 0\u001b[39m\u001b[0m with correctness \u001b[32m100.0000%\u001b[39m.\n",
      "\t\tMake \u001b[1m\u001b[31mincome = <100K\u001b[39m, \u001b[31mhomeowner = 0\u001b[39m\u001b[0m with correctness \u001b[32m96.0668%\u001b[39m.\n",
      "\t\tMake \u001b[1m\u001b[31mparents = 0\u001b[39m, \u001b[31mhomeowner = 0\u001b[39m\u001b[0m with correctness \u001b[32m96.0668%\u001b[39m.\n",
      "\t\t\u001b[1mAggregate cost\u001b[0m of the above recourses = \u001b[35m3.0\u001b[39m\n",
      "If \u001b[1mparents = 0, income = Unknown, homeowner = 1\u001b[0m:\n",
      "\tSubgroup '\u001b[1mF\u001b[0m', \u001b[34m5.0930%\u001b[39m covered out of 600135\n",
      "\t\tMake \u001b[1m\u001b[31mparents = 1\u001b[39m, \u001b[31mhomeowner = 0\u001b[39m\u001b[0m with correctness \u001b[32m94.4579%\u001b[39m.\n",
      "\t\t\u001b[1mAggregate cost\u001b[0m of the above recourses = \u001b[35m1.0\u001b[39m\n",
      "\tSubgroup '\u001b[1mM\u001b[0m', \u001b[34m5.2138%\u001b[39m covered out of 314181\n",
      "\t\tMake \u001b[1m\u001b[31mparents = 1\u001b[39m, \u001b[31mhomeowner = 0\u001b[39m\u001b[0m with correctness \u001b[32m96.3641%\u001b[39m.\n",
      "\t\tMake \u001b[1m\u001b[31mparents = 1\u001b[39m, \u001b[31mincome = <100K\u001b[39m, \u001b[31mhomeowner = 0\u001b[39m\u001b[0m with correctness \u001b[32m90.8530%\u001b[39m.\n",
      "\t\tMake \u001b[1m\u001b[31mhomeowner = 0\u001b[39m\u001b[0m with correctness \u001b[32m90.8530%\u001b[39m.\n",
      "\t\t\u001b[1mAggregate cost\u001b[0m of the above recourses = \u001b[35m3.0\u001b[39m\n",
      "If \u001b[1mparents = 0, income = Unknown, homeowner = 1, age = 55-64\u001b[0m:\n",
      "\tSubgroup '\u001b[1mF\u001b[0m', \u001b[34m4.7626%\u001b[39m covered out of 600135\n",
      "\t\tMake \u001b[1m\u001b[31mparents = 1\u001b[39m, \u001b[31mhomeowner = 0\u001b[39m\u001b[0m with correctness \u001b[32m100.0000%\u001b[39m.\n",
      "\t\t\u001b[1mAggregate cost\u001b[0m of the above recourses = \u001b[35m1.0\u001b[39m\n",
      "\tSubgroup '\u001b[1mM\u001b[0m', \u001b[34m4.9146%\u001b[39m covered out of 314181\n",
      "\t\tMake \u001b[1m\u001b[31mparents = 1\u001b[39m, \u001b[31mhomeowner = 0\u001b[39m\u001b[0m with correctness \u001b[32m100.0000%\u001b[39m.\n",
      "\t\tMake \u001b[1m\u001b[31mparents = 1\u001b[39m, \u001b[31mincome = <100K\u001b[39m, \u001b[31mhomeowner = 0\u001b[39m\u001b[0m with correctness \u001b[32m95.7787%\u001b[39m.\n",
      "\t\tMake \u001b[1m\u001b[31mhomeowner = 0\u001b[39m\u001b[0m with correctness \u001b[32m95.7787%\u001b[39m.\n",
      "\t\t\u001b[1mAggregate cost\u001b[0m of the above recourses = \u001b[35m3.0\u001b[39m\n",
      "If \u001b[1mparents = 1, income = Unknown, homeowner = 1, age = Unknown\u001b[0m:\n",
      "\tSubgroup '\u001b[1mF\u001b[0m', \u001b[34m2.6163%\u001b[39m covered out of 600135\n",
      "\t\tMake \u001b[1m\u001b[31mhomeowner = 0\u001b[39m, \u001b[31mage = 55-64\u001b[39m\u001b[0m with correctness \u001b[32m100.0000%\u001b[39m.\n",
      "\t\t\u001b[1mAggregate cost\u001b[0m of the above recourses = \u001b[35m1.0\u001b[39m\n",
      "\tSubgroup '\u001b[1mM\u001b[0m', \u001b[34m2.5479%\u001b[39m covered out of 314181\n",
      "\t\tMake \u001b[1m\u001b[31mhomeowner = 0\u001b[39m, \u001b[31mage = 55-64\u001b[39m\u001b[0m with correctness \u001b[32m100.0000%\u001b[39m.\n",
      "\t\tMake \u001b[1m\u001b[31mincome = <100K\u001b[39m, \u001b[31mhomeowner = 0\u001b[39m, \u001b[31mage = 55-64\u001b[39m\u001b[0m with correctness \u001b[32m96.1628%\u001b[39m.\n",
      "\t\tMake \u001b[1m\u001b[31mparents = 0\u001b[39m, \u001b[31mhomeowner = 0\u001b[39m, \u001b[31mage = 55-64\u001b[39m\u001b[0m with correctness \u001b[32m96.1628%\u001b[39m.\n",
      "\t\t\u001b[1mAggregate cost\u001b[0m of the above recourses = \u001b[35m3.0\u001b[39m\n",
      "If \u001b[1mincome = Unknown, homeowner = 1\u001b[0m:\n",
      "\tSubgroup '\u001b[1mF\u001b[0m', \u001b[34m94.4196%\u001b[39m covered out of 600135\n",
      "\t\tMake \u001b[1m\u001b[31mhomeowner = 0\u001b[39m\u001b[0m with correctness \u001b[32m90.8983%\u001b[39m.\n",
      "\t\tMake \u001b[1m\u001b[31mincome = >100K\u001b[39m, \u001b[31mhomeowner = 0\u001b[39m\u001b[0m with correctness \u001b[32m95.3903%\u001b[39m.\n",
      "\t\t\u001b[1mAggregate cost\u001b[0m of the above recourses = \u001b[35m2.0\u001b[39m\n",
      "\tSubgroup '\u001b[1mM\u001b[0m', \u001b[34m96.3671%\u001b[39m covered out of 314181\n",
      "\t\tMake \u001b[1m\u001b[31mhomeowner = 0\u001b[39m\u001b[0m with correctness \u001b[32m95.5361%\u001b[39m.\n",
      "\t\tMake \u001b[1m\u001b[31mincome = >100K\u001b[39m, \u001b[31mhomeowner = 0\u001b[39m\u001b[0m with correctness \u001b[32m97.5565%\u001b[39m.\n",
      "\t\tMake \u001b[1m\u001b[31mincome = <100K\u001b[39m, \u001b[31mhomeowner = 0\u001b[39m\u001b[0m with correctness \u001b[32m87.0994%\u001b[39m.\n",
      "\t\t\u001b[1mAggregate cost\u001b[0m of the above recourses = \u001b[35m3.0\u001b[39m\n",
      "If \u001b[1mparents = 1, homeowner = 1\u001b[0m:\n",
      "\tSubgroup '\u001b[1mF\u001b[0m', \u001b[34m92.0461%\u001b[39m covered out of 600135\n",
      "\t\tMake \u001b[1m\u001b[31mhomeowner = 0\u001b[39m\u001b[0m with correctness \u001b[32m92.9712%\u001b[39m.\n",
      "\t\t\u001b[1mAggregate cost\u001b[0m of the above recourses = \u001b[35m1.0\u001b[39m\n",
      "\tSubgroup '\u001b[1mM\u001b[0m', \u001b[34m93.7894%\u001b[39m covered out of 314181\n",
      "\t\tMake \u001b[1m\u001b[31mhomeowner = 0\u001b[39m\u001b[0m with correctness \u001b[32m95.6982%\u001b[39m.\n",
      "\t\tMake \u001b[1m\u001b[31mparents = 0\u001b[39m, \u001b[31mhomeowner = 0\u001b[39m\u001b[0m with correctness \u001b[32m89.1933%\u001b[39m.\n",
      "\t\t\u001b[1mAggregate cost\u001b[0m of the above recourses = \u001b[35m2.0\u001b[39m\n",
      "If \u001b[1mincome = Unknown, homeowner = 1, age = 55-64\u001b[0m:\n",
      "\tSubgroup '\u001b[1mF\u001b[0m', \u001b[34m88.2519%\u001b[39m covered out of 600135\n",
      "\t\tMake \u001b[1m\u001b[31mhomeowner = 0\u001b[39m\u001b[0m with correctness \u001b[32m96.2299%\u001b[39m.\n",
      "\t\tMake \u001b[1m\u001b[31mincome = >100K\u001b[39m, \u001b[31mhomeowner = 0\u001b[39m\u001b[0m with correctness \u001b[32m99.7802%\u001b[39m.\n",
      "\t\t\u001b[1mAggregate cost\u001b[0m of the above recourses = \u001b[35m2.0\u001b[39m\n",
      "\tSubgroup '\u001b[1mM\u001b[0m', \u001b[34m90.3378%\u001b[39m covered out of 314181\n",
      "\t\tMake \u001b[1m\u001b[31mhomeowner = 0\u001b[39m\u001b[0m with correctness \u001b[32m99.7704%\u001b[39m.\n",
      "\t\tMake \u001b[1m\u001b[31mincome = >100K\u001b[39m, \u001b[31mhomeowner = 0\u001b[39m\u001b[0m with correctness \u001b[32m100.0000%\u001b[39m.\n",
      "\t\tMake \u001b[1m\u001b[31mincome = <100K\u001b[39m, \u001b[31mhomeowner = 0\u001b[39m\u001b[0m with correctness \u001b[32m92.4270%\u001b[39m.\n",
      "\t\t\u001b[1mAggregate cost\u001b[0m of the above recourses = \u001b[35m3.0\u001b[39m\n",
      "If \u001b[1mparents = 1, college_educated = 1, homeowner = 1\u001b[0m:\n",
      "\tSubgroup '\u001b[1mF\u001b[0m', \u001b[34m86.8591%\u001b[39m covered out of 600135\n",
      "\t\tMake \u001b[1m\u001b[31mhomeowner = 0\u001b[39m\u001b[0m with correctness \u001b[32m92.9738%\u001b[39m.\n",
      "\t\tMake \u001b[1m\u001b[31mcollege_educated = 0\u001b[39m, \u001b[31mhomeowner = 0\u001b[39m\u001b[0m with correctness \u001b[32m92.4789%\u001b[39m.\n",
      "\t\t\u001b[1mAggregate cost\u001b[0m of the above recourses = \u001b[35m2.0\u001b[39m\n",
      "\tSubgroup '\u001b[1mM\u001b[0m', \u001b[34m88.5017%\u001b[39m covered out of 314181\n",
      "\t\tMake \u001b[1m\u001b[31mhomeowner = 0\u001b[39m\u001b[0m with correctness \u001b[32m95.8412%\u001b[39m.\n",
      "\t\tMake \u001b[1m\u001b[31mcollege_educated = 0\u001b[39m, \u001b[31mhomeowner = 0\u001b[39m\u001b[0m with correctness \u001b[32m92.8263%\u001b[39m.\n",
      "\t\tMake \u001b[1m\u001b[31mparents = 0\u001b[39m, \u001b[31mhomeowner = 0\u001b[39m\u001b[0m with correctness \u001b[32m92.8020%\u001b[39m.\n",
      "\t\t\u001b[1mAggregate cost\u001b[0m of the above recourses = \u001b[35m3.0\u001b[39m\n",
      "If \u001b[1mparents = 1, homeowner = 1, age = 55-64\u001b[0m:\n",
      "\tSubgroup '\u001b[1mF\u001b[0m', \u001b[34m86.0154%\u001b[39m covered out of 600135\n",
      "\t\tMake \u001b[1m\u001b[31mhomeowner = 0\u001b[39m\u001b[0m with correctness \u001b[32m98.4418%\u001b[39m.\n",
      "\t\t\u001b[1mAggregate cost\u001b[0m of the above recourses = \u001b[35m1.0\u001b[39m\n",
      "\tSubgroup '\u001b[1mM\u001b[0m', \u001b[34m87.8709%\u001b[39m covered out of 314181\n",
      "\t\tMake \u001b[1m\u001b[31mhomeowner = 0\u001b[39m\u001b[0m with correctness \u001b[32m99.9199%\u001b[39m.\n",
      "\t\tMake \u001b[1m\u001b[31mparents = 0\u001b[39m, \u001b[31mhomeowner = 0\u001b[39m\u001b[0m with correctness \u001b[32m94.6947%\u001b[39m.\n",
      "\t\t\u001b[1mAggregate cost\u001b[0m of the above recourses = \u001b[35m2.0\u001b[39m\n",
      "\n"
     ]
    }
   ],
   "source": [
    "top_rules = gfacts.select_rules_subset(\n",
    "    rules_by_if,\n",
    "    metric=\"num-above-thr\",\n",
    "    sort_strategy=\"abs-diff-decr-ignore-forall-subgroups-empty\",\n",
    "    top_count=10,\n",
    "    cor_threshold=0.5,\n",
    "    filter_sequence=[\"remove-below-thr\"]\n",
    ")\n",
    "\n",
    "pop_sizes = {sg: (ad_conversion_dataset[\"gender\"] == sg).sum() for sg in ad_conversion_dataset[\"gender\"].unique()}\n",
    "print(recourse_report_reverse(\n",
    "    top_rules,\n",
    "    population_sizes = pop_sizes,\n",
    "    subgroup_costs=gfacts.calculate_all_if_subgroup_costs(\n",
    "        list(top_rules.keys()),\n",
    "        list(top_rules.values()),\n",
    "        group_calculator=gfacts.if_group_cost_recoursescount_correctness_threshold,\n",
    "        cor_thres=0.5\n",
    "    )\n",
    "))"
   ]
  },
  {
   "cell_type": "markdown",
   "id": "69b7315b-c508-4eb8-9e4b-3d3339ad2ec4",
   "metadata": {},
   "source": [
    "# Experimentation with cumulative correctness plots for each rule"
   ]
  },
  {
   "cell_type": "markdown",
   "id": "61cbd791-81bc-4d50-a386-14ddbfba14af",
   "metadata": {},
   "source": [
    "First, load state"
   ]
  },
  {
   "cell_type": "code",
   "execution_count": 23,
   "id": "417510c5-247f-4199-9d00-8957e6b12c94",
   "metadata": {
    "tags": []
   },
   "outputs": [],
   "source": [
    "import dill\n",
    "\n",
    "with open(\"state.data\", \"rb\") as inf:\n",
    "    rules_by_if, model, X_test = dill.load(inf)"
   ]
  },
  {
   "cell_type": "code",
   "execution_count": 24,
   "id": "09d495a7-b133-4a20-9c0e-9f1816e39245",
   "metadata": {
    "tags": []
   },
   "outputs": [
    {
     "data": {
      "text/plain": [
       "{'F': (0.014086470524868356,\n",
       "  [(Predicate(features=['area', 'age'], values=['Unknown', '55-64']),\n",
       "    0.16464237516869096),\n",
       "   (Predicate(features=['area', 'age'], values=['Urban', '55-64']),\n",
       "    0.2136752136752137),\n",
       "   (Predicate(features=['area', 'age'], values=['Urban', '25-34']),\n",
       "    0.9581646423751687),\n",
       "   (Predicate(features=['area', 'age'], values=['Unknown', '25-34']),\n",
       "    0.16464237516869096)]),\n",
       " 'M': (0.01805976083432731,\n",
       "  [(Predicate(features=['area', 'age'], values=['Unknown', '55-64']),\n",
       "    0.15410668924640136),\n",
       "   (Predicate(features=['area', 'age'], values=['Urban', '55-64']),\n",
       "    0.9576629974597799),\n",
       "   (Predicate(features=['area', 'age'], values=['Urban', '25-34']),\n",
       "    0.9576629974597799),\n",
       "   (Predicate(features=['area', 'age'], values=['Unknown', '25-34']),\n",
       "    0.15410668924640136)])}"
      ]
     },
     "execution_count": 24,
     "metadata": {},
     "output_type": "execute_result"
    }
   ],
   "source": [
    "test_if = gfacts.Predicate.from_dict({\"area\": \"Unknown\", \"age\": \"45-54\"})\n",
    "\n",
    "thens = rules_by_if[test_if]\n",
    "\n",
    "thens"
   ]
  },
  {
   "cell_type": "code",
   "execution_count": 25,
   "id": "c86db786-86dc-4b7f-8538-25b4eda5123f",
   "metadata": {
    "tags": []
   },
   "outputs": [
    {
     "name": "stdout",
     "output_type": "stream",
     "text": [
      "cumcorrs=array([0.16464238, 0.16464238, 0.21367521, 0.95816464])\n"
     ]
    },
    {
     "data": {
      "text/plain": [
       "[(Predicate(features=['area', 'age'], values=['Unknown', '55-64']),\n",
       "  0.16464237516869096,\n",
       "  1.0),\n",
       " (Predicate(features=['area', 'age'], values=['Unknown', '25-34']),\n",
       "  0.16464237516869096,\n",
       "  1.0),\n",
       " (Predicate(features=['area', 'age'], values=['Urban', '55-64']),\n",
       "  0.21367521367521367,\n",
       "  2.0),\n",
       " (Predicate(features=['area', 'age'], values=['Urban', '25-34']),\n",
       "  0.9581646423751687,\n",
       "  2.0)]"
      ]
     },
     "execution_count": 25,
     "metadata": {},
     "output_type": "execute_result"
    }
   ],
   "source": [
    "gender = \"F\"\n",
    "gfacts.cumcorr(test_if, thens[gender][1], X_test[(model.predict(X_test) == 0) & (X_test.gender == gender)], model)"
   ]
  },
  {
   "cell_type": "code",
   "execution_count": 26,
   "id": "a82a8f2d-e4df-4aec-8c22-d4d2fc89d389",
   "metadata": {
    "tags": []
   },
   "outputs": [
    {
     "data": {
      "text/plain": [
       "Text(0, 0.5, 'Correctness percentage')"
      ]
     },
     "execution_count": 26,
     "metadata": {},
     "output_type": "execute_result"
    },
    {
     "data": {
      "image/png": "[encoded data removed]",
      "text/plain": [
       "<Figure size 640x480 with 1 Axes>"
      ]
     },
     "metadata": {},
     "output_type": "display_data"
    }
   ],
   "source": [
    "costs = [1, 1, 2, 2]\n",
    "correctnesses = np.array([0.16464238, 0.16464238, 0.21367521, 0.95816464])\n",
    "\n",
    "fig, ax = plt.subplots()\n",
    "ax.plot(costs, correctnesses, marker=\"o\")\n",
    "ax.set_xlabel(\"Cost of change\")\n",
    "ax.set_ylabel(\"Correctness percentage\")"
   ]
  },
  {
   "cell_type": "markdown",
   "id": "8e571d0f-24c1-4ea2-8ad6-087fb3465e68",
   "metadata": {},
   "source": [
    "Finally, save state"
   ]
  },
  {
   "cell_type": "code",
   "execution_count": 27,
   "id": "de155a94-18f9-4307-a743-b444017fdab7",
   "metadata": {
    "tags": []
   },
   "outputs": [],
   "source": [
    "# import dill\n",
    "\n",
    "with open(\"state.data\", \"wb\") as outf:\n",
    "    dill.dump((rules_by_if, model, X_test), outf)"
   ]
  }
 ],
 "metadata": {
  "kernelspec": {
   "display_name": "Python 3 (ipykernel)",
   "language": "python",
   "name": "python3"
  },
  "language_info": {
   "codemirror_mode": {
    "name": "ipython",
    "version": 3
   },
   "file_extension": ".py",
   "mimetype": "text/x-python",
   "name": "python",
   "nbconvert_exporter": "python",
   "pygments_lexer": "ipython3",
   "version": "3.8.2"
  }
 },
 "nbformat": 4,
 "nbformat_minor": 5
}
