{
 "cells": [
  {
   "cell_type": "markdown",
   "id": "a4164f0d",
   "metadata": {},
   "source": [
    "## Import libraries"
   ]
  },
  {
   "cell_type": "code",
   "execution_count": 1,
   "id": "50536eb3",
   "metadata": {
    "tags": []
   },
   "outputs": [],
   "source": [
    "import pandas as pd\n",
    "import numpy as np\n",
    "from pprint import pprint\n",
    "\n",
    "from sklearn.model_selection import train_test_split\n",
    "from sklearn.metrics import classification_report, confusion_matrix, ConfusionMatrixDisplay\n",
    "\n",
    "from models import customLogisticRegression\n",
    "from parameters import ParameterProxy\n",
    "from lib2 import valid_ifthens_with_coverage_correctness, rules2rulesbyif\n",
    "import lib2\n",
    "from formatting import recourse_report_reverse\n",
    "\n",
    "import matplotlib.pyplot as plt\n",
    "\n",
    "from IPython.display import Markdown, display"
   ]
  },
  {
   "cell_type": "code",
   "execution_count": 2,
   "id": "99fb977c",
   "metadata": {
    "tags": []
   },
   "outputs": [],
   "source": [
    "DATAFILE = '../ad_campaign_data.csv' # location of dataset\n",
    "random_state = None # change to something for exactly reproducible results\n",
    "\n",
    "# as selected in \"tutorial_bias_advertising\" notebook\n",
    "selected_features = ['gender', 'parents', 'age', 'income', 'area', 'college_educated', 'homeowner']\n",
    "cate_features = ['gender', 'parents', 'age', 'income', 'area', 'college_educated']\n",
    "num_features = ['homeowner']\n",
    "\n",
    "# if not specified, set to 1\n",
    "feature_weights = {\"gender\": 1, \"parents\": 1, \"age\": 1}\n",
    "\n",
    "target_name = \"true_conversion\"\n",
    "positive_label = 1\n",
    "negative_label = 0\n",
    "\n",
    "model_train_fraction = 0.7\n",
    "learning_class_weights = {0: 0.5, 1: 265}\n",
    "\n",
    "sensitive_attribute = \"gender\""
   ]
  },
  {
   "cell_type": "markdown",
   "id": "7f50c922",
   "metadata": {},
   "source": [
    "## Load Dataset"
   ]
  },
  {
   "cell_type": "code",
   "execution_count": 3,
   "id": "7ec3f668",
   "metadata": {
    "tags": []
   },
   "outputs": [
    {
     "data": {
      "text/html": [
       "<div>\n",
       "<style scoped>\n",
       "    .dataframe tbody tr th:only-of-type {\n",
       "        vertical-align: middle;\n",
       "    }\n",
       "\n",
       "    .dataframe tbody tr th {\n",
       "        vertical-align: top;\n",
       "    }\n",
       "\n",
       "    .dataframe thead th {\n",
       "        text-align: right;\n",
       "    }\n",
       "</style>\n",
       "<table border=\"1\" class=\"dataframe\">\n",
       "  <thead>\n",
       "    <tr style=\"text-align: right;\">\n",
       "      <th></th>\n",
       "      <th>religion</th>\n",
       "      <th>politics</th>\n",
       "      <th>college_educated</th>\n",
       "      <th>parents</th>\n",
       "      <th>homeowner</th>\n",
       "      <th>gender</th>\n",
       "      <th>age</th>\n",
       "      <th>income</th>\n",
       "      <th>area</th>\n",
       "      <th>true_conversion</th>\n",
       "      <th>predicted_conversion</th>\n",
       "      <th>predicted_probability</th>\n",
       "    </tr>\n",
       "  </thead>\n",
       "  <tbody>\n",
       "    <tr>\n",
       "      <th>0</th>\n",
       "      <td>Unknown</td>\n",
       "      <td>Unknown</td>\n",
       "      <td>1</td>\n",
       "      <td>1</td>\n",
       "      <td>1</td>\n",
       "      <td>Unknown</td>\n",
       "      <td>55-64</td>\n",
       "      <td>Unknown</td>\n",
       "      <td>Unknown</td>\n",
       "      <td>0</td>\n",
       "      <td>0</td>\n",
       "      <td>0.001351</td>\n",
       "    </tr>\n",
       "    <tr>\n",
       "      <th>1</th>\n",
       "      <td>Other</td>\n",
       "      <td>Unknown</td>\n",
       "      <td>1</td>\n",
       "      <td>1</td>\n",
       "      <td>1</td>\n",
       "      <td>Unknown</td>\n",
       "      <td>55-64</td>\n",
       "      <td>Unknown</td>\n",
       "      <td>Urban</td>\n",
       "      <td>0</td>\n",
       "      <td>0</td>\n",
       "      <td>0.002238</td>\n",
       "    </tr>\n",
       "    <tr>\n",
       "      <th>2</th>\n",
       "      <td>Unknown</td>\n",
       "      <td>Unknown</td>\n",
       "      <td>1</td>\n",
       "      <td>1</td>\n",
       "      <td>1</td>\n",
       "      <td>F</td>\n",
       "      <td>55-64</td>\n",
       "      <td>Unknown</td>\n",
       "      <td>Unknown</td>\n",
       "      <td>0</td>\n",
       "      <td>0</td>\n",
       "      <td>0.002704</td>\n",
       "    </tr>\n",
       "    <tr>\n",
       "      <th>3</th>\n",
       "      <td>Unknown</td>\n",
       "      <td>Unknown</td>\n",
       "      <td>1</td>\n",
       "      <td>1</td>\n",
       "      <td>1</td>\n",
       "      <td>F</td>\n",
       "      <td>55-64</td>\n",
       "      <td>Unknown</td>\n",
       "      <td>Unknown</td>\n",
       "      <td>0</td>\n",
       "      <td>0</td>\n",
       "      <td>0.001967</td>\n",
       "    </tr>\n",
       "    <tr>\n",
       "      <th>4</th>\n",
       "      <td>Unknown</td>\n",
       "      <td>Unknown</td>\n",
       "      <td>1</td>\n",
       "      <td>1</td>\n",
       "      <td>1</td>\n",
       "      <td>F</td>\n",
       "      <td>55-64</td>\n",
       "      <td>Unknown</td>\n",
       "      <td>Urban</td>\n",
       "      <td>0</td>\n",
       "      <td>0</td>\n",
       "      <td>0.001681</td>\n",
       "    </tr>\n",
       "  </tbody>\n",
       "</table>\n",
       "</div>"
      ],
      "text/plain": [
       "  religion politics  college_educated  parents  homeowner   gender    age  \\\n",
       "0  Unknown  Unknown                 1        1          1  Unknown  55-64   \n",
       "1    Other  Unknown                 1        1          1  Unknown  55-64   \n",
       "2  Unknown  Unknown                 1        1          1        F  55-64   \n",
       "3  Unknown  Unknown                 1        1          1        F  55-64   \n",
       "4  Unknown  Unknown                 1        1          1        F  55-64   \n",
       "\n",
       "    income     area  true_conversion  predicted_conversion  \\\n",
       "0  Unknown  Unknown                0                     0   \n",
       "1  Unknown    Urban                0                     0   \n",
       "2  Unknown  Unknown                0                     0   \n",
       "3  Unknown  Unknown                0                     0   \n",
       "4  Unknown    Urban                0                     0   \n",
       "\n",
       "   predicted_probability  \n",
       "0               0.001351  \n",
       "1               0.002238  \n",
       "2               0.002704  \n",
       "3               0.001967  \n",
       "4               0.001681  "
      ]
     },
     "execution_count": 3,
     "metadata": {},
     "output_type": "execute_result"
    }
   ],
   "source": [
    "ad_conversion_dataset = pd.read_csv(DATAFILE)\n",
    "ad_conversion_dataset.head()"
   ]
  },
  {
   "cell_type": "markdown",
   "id": "c01544c3",
   "metadata": {},
   "source": [
    "### Print some statistics for the dataset"
   ]
  },
  {
   "cell_type": "code",
   "execution_count": 4,
   "id": "3710bcf3",
   "metadata": {
    "tags": []
   },
   "outputs": [
    {
     "name": "stdout",
     "output_type": "stream",
     "text": [
      "Number of (instances, attributes) in the dataset = (1443140, 12)\n",
      "\n",
      "Statistics of true conversions (0=no, 1=yes)\n",
      "0    1440766\n",
      "1       2374\n",
      "Name: true_conversion, dtype: int64\n",
      "\n",
      "Statistics of predicted conversions (0=no, 1=yes)\n",
      "0    1440773\n",
      "1       2367\n",
      "Name: predicted_conversion, dtype: int64\n"
     ]
    }
   ],
   "source": [
    "print(f\"Number of (instances, attributes) in the dataset = {ad_conversion_dataset.shape}\")\n",
    "print()\n",
    "\n",
    "print(f\"Statistics of true conversions (0=no, 1=yes)\")\n",
    "print(ad_conversion_dataset.true_conversion.value_counts())\n",
    "print()\n",
    "\n",
    "print(f\"Statistics of predicted conversions (0=no, 1=yes)\")\n",
    "print(ad_conversion_dataset.predicted_conversion.value_counts())"
   ]
  },
  {
   "cell_type": "markdown",
   "id": "6774262f",
   "metadata": {},
   "source": [
    "### Warning!\n",
    "\n",
    "There is no model!\n",
    "\n",
    "Predictions (from whatever model has been used) have been incorporated into the dataset, in the columns \"predicted_conversion\" (which is the predicted label) and \"predicted_probability\" (which is the predicted probability of belonging to the positive class).\n",
    "\n",
    "Moreover, the dataset is highly unbalanced, and this is also evident in the poor efficiency of the model, as demonstrated in the confusion matrix below."
   ]
  },
  {
   "cell_type": "code",
   "execution_count": 5,
   "id": "03eb55a7-2240-4244-8c9e-c005e36e8f0f",
   "metadata": {
    "tags": []
   },
   "outputs": [
    {
     "data": {
      "image/png": "[encoded data removed]",
      "text/plain": [
       "<Figure size 640x480 with 2 Axes>"
      ]
     },
     "metadata": {},
     "output_type": "display_data"
    }
   ],
   "source": [
    "conf_matrix = confusion_matrix(ad_conversion_dataset.true_conversion, ad_conversion_dataset.predicted_conversion)\n",
    "cm_disp = ConfusionMatrixDisplay(confusion_matrix=conf_matrix)\n",
    "cm_disp.plot()\n",
    "plt.show()"
   ]
  },
  {
   "cell_type": "markdown",
   "id": "5f1b33fa-c6c9-4770-8123-0f69f918e265",
   "metadata": {},
   "source": [
    "# Preprocessing"
   ]
  },
  {
   "cell_type": "code",
   "execution_count": 6,
   "id": "8ee07f88",
   "metadata": {
    "tags": []
   },
   "outputs": [
    {
     "data": {
      "text/html": [
       "<div>\n",
       "<style scoped>\n",
       "    .dataframe tbody tr th:only-of-type {\n",
       "        vertical-align: middle;\n",
       "    }\n",
       "\n",
       "    .dataframe tbody tr th {\n",
       "        vertical-align: top;\n",
       "    }\n",
       "\n",
       "    .dataframe thead th {\n",
       "        text-align: right;\n",
       "    }\n",
       "</style>\n",
       "<table border=\"1\" class=\"dataframe\">\n",
       "  <thead>\n",
       "    <tr style=\"text-align: right;\">\n",
       "      <th></th>\n",
       "      <th>gender</th>\n",
       "      <th>parents</th>\n",
       "      <th>age</th>\n",
       "      <th>income</th>\n",
       "      <th>area</th>\n",
       "      <th>college_educated</th>\n",
       "      <th>homeowner</th>\n",
       "      <th>true_conversion</th>\n",
       "    </tr>\n",
       "  </thead>\n",
       "  <tbody>\n",
       "    <tr>\n",
       "      <th>0</th>\n",
       "      <td>Unknown</td>\n",
       "      <td>1</td>\n",
       "      <td>55-64</td>\n",
       "      <td>Unknown</td>\n",
       "      <td>Unknown</td>\n",
       "      <td>1</td>\n",
       "      <td>1</td>\n",
       "      <td>0</td>\n",
       "    </tr>\n",
       "    <tr>\n",
       "      <th>1</th>\n",
       "      <td>Unknown</td>\n",
       "      <td>1</td>\n",
       "      <td>55-64</td>\n",
       "      <td>Unknown</td>\n",
       "      <td>Urban</td>\n",
       "      <td>1</td>\n",
       "      <td>1</td>\n",
       "      <td>0</td>\n",
       "    </tr>\n",
       "    <tr>\n",
       "      <th>2</th>\n",
       "      <td>F</td>\n",
       "      <td>1</td>\n",
       "      <td>55-64</td>\n",
       "      <td>Unknown</td>\n",
       "      <td>Unknown</td>\n",
       "      <td>1</td>\n",
       "      <td>1</td>\n",
       "      <td>0</td>\n",
       "    </tr>\n",
       "    <tr>\n",
       "      <th>3</th>\n",
       "      <td>F</td>\n",
       "      <td>1</td>\n",
       "      <td>55-64</td>\n",
       "      <td>Unknown</td>\n",
       "      <td>Unknown</td>\n",
       "      <td>1</td>\n",
       "      <td>1</td>\n",
       "      <td>0</td>\n",
       "    </tr>\n",
       "    <tr>\n",
       "      <th>4</th>\n",
       "      <td>F</td>\n",
       "      <td>1</td>\n",
       "      <td>55-64</td>\n",
       "      <td>Unknown</td>\n",
       "      <td>Urban</td>\n",
       "      <td>1</td>\n",
       "      <td>1</td>\n",
       "      <td>0</td>\n",
       "    </tr>\n",
       "    <tr>\n",
       "      <th>...</th>\n",
       "      <td>...</td>\n",
       "      <td>...</td>\n",
       "      <td>...</td>\n",
       "      <td>...</td>\n",
       "      <td>...</td>\n",
       "      <td>...</td>\n",
       "      <td>...</td>\n",
       "      <td>...</td>\n",
       "    </tr>\n",
       "    <tr>\n",
       "      <th>1443135</th>\n",
       "      <td>F</td>\n",
       "      <td>1</td>\n",
       "      <td>25-34</td>\n",
       "      <td>Unknown</td>\n",
       "      <td>Unknown</td>\n",
       "      <td>1</td>\n",
       "      <td>1</td>\n",
       "      <td>0</td>\n",
       "    </tr>\n",
       "    <tr>\n",
       "      <th>1443136</th>\n",
       "      <td>F</td>\n",
       "      <td>1</td>\n",
       "      <td>55-64</td>\n",
       "      <td>Unknown</td>\n",
       "      <td>Unknown</td>\n",
       "      <td>1</td>\n",
       "      <td>0</td>\n",
       "      <td>0</td>\n",
       "    </tr>\n",
       "    <tr>\n",
       "      <th>1443137</th>\n",
       "      <td>Unknown</td>\n",
       "      <td>1</td>\n",
       "      <td>55-64</td>\n",
       "      <td>Unknown</td>\n",
       "      <td>Unknown</td>\n",
       "      <td>1</td>\n",
       "      <td>1</td>\n",
       "      <td>0</td>\n",
       "    </tr>\n",
       "    <tr>\n",
       "      <th>1443138</th>\n",
       "      <td>F</td>\n",
       "      <td>1</td>\n",
       "      <td>55-64</td>\n",
       "      <td>Unknown</td>\n",
       "      <td>Unknown</td>\n",
       "      <td>1</td>\n",
       "      <td>1</td>\n",
       "      <td>0</td>\n",
       "    </tr>\n",
       "    <tr>\n",
       "      <th>1443139</th>\n",
       "      <td>F</td>\n",
       "      <td>1</td>\n",
       "      <td>55-64</td>\n",
       "      <td>Unknown</td>\n",
       "      <td>Unknown</td>\n",
       "      <td>1</td>\n",
       "      <td>1</td>\n",
       "      <td>0</td>\n",
       "    </tr>\n",
       "  </tbody>\n",
       "</table>\n",
       "<p>1443140 rows × 8 columns</p>\n",
       "</div>"
      ],
      "text/plain": [
       "          gender  parents    age   income     area  college_educated  \\\n",
       "0        Unknown        1  55-64  Unknown  Unknown                 1   \n",
       "1        Unknown        1  55-64  Unknown    Urban                 1   \n",
       "2              F        1  55-64  Unknown  Unknown                 1   \n",
       "3              F        1  55-64  Unknown  Unknown                 1   \n",
       "4              F        1  55-64  Unknown    Urban                 1   \n",
       "...          ...      ...    ...      ...      ...               ...   \n",
       "1443135        F        1  25-34  Unknown  Unknown                 1   \n",
       "1443136        F        1  55-64  Unknown  Unknown                 1   \n",
       "1443137  Unknown        1  55-64  Unknown  Unknown                 1   \n",
       "1443138        F        1  55-64  Unknown  Unknown                 1   \n",
       "1443139        F        1  55-64  Unknown  Unknown                 1   \n",
       "\n",
       "         homeowner  true_conversion  \n",
       "0                1                0  \n",
       "1                1                0  \n",
       "2                1                0  \n",
       "3                1                0  \n",
       "4                1                0  \n",
       "...            ...              ...  \n",
       "1443135          1                0  \n",
       "1443136          0                0  \n",
       "1443137          1                0  \n",
       "1443138          1                0  \n",
       "1443139          1                0  \n",
       "\n",
       "[1443140 rows x 8 columns]"
      ]
     },
     "execution_count": 6,
     "metadata": {},
     "output_type": "execute_result"
    }
   ],
   "source": [
    "## keep only the columns in selected_features, plus the label column\n",
    "ad_conversion_dataset = ad_conversion_dataset[selected_features + [target_name]]\n",
    "ad_conversion_dataset"
   ]
  },
  {
   "cell_type": "code",
   "execution_count": 7,
   "id": "e2d5162d",
   "metadata": {
    "tags": []
   },
   "outputs": [],
   "source": [
    "## train-test split\n",
    "\n",
    "X = ad_conversion_dataset.drop(target_name, axis=1)\n",
    "y = ad_conversion_dataset[target_name]\n",
    "\n",
    "X_train, X_test, y_train, y_test = train_test_split(X, y, train_size=model_train_fraction, random_state=random_state, stratify=y)\n",
    "\n",
    "X_train = X_train.reset_index(drop=True)\n",
    "X_test = X_test.reset_index(drop=True)\n",
    "y_train = y_train.reset_index(drop=True)\n",
    "y_test = y_test.reset_index(drop=True)"
   ]
  },
  {
   "cell_type": "markdown",
   "id": "17c32fa1-337a-45e0-ae5c-914575a2cbb6",
   "metadata": {},
   "source": [
    "# Model training"
   ]
  },
  {
   "cell_type": "code",
   "execution_count": 8,
   "id": "d613bdf8",
   "metadata": {
    "tags": []
   },
   "outputs": [
    {
     "name": "stdout",
     "output_type": "stream",
     "text": [
      "CPU times: total: 1.91 s\n",
      "Wall time: 6.95 s\n"
     ]
    },
    {
     "data": {
      "text/plain": [
       "array([0., 1., 0., 0., 1., 0., 0., 0., 0., 0., 0., 0., 0., 0., 0., 0., 0.,\n",
       "       0., 0., 1., 0., 0., 0., 0., 0., 0., 0., 0., 0., 0., 0., 0., 0., 0.,\n",
       "       0., 0., 0., 0., 0., 0., 0., 0., 0., 0., 0., 0., 0., 0., 0., 0., 0.,\n",
       "       0., 0., 0., 0., 0., 0., 0., 0., 1., 0., 0., 0., 0., 0., 0., 0., 0.,\n",
       "       0., 0., 0., 0., 0., 1., 0., 0., 0., 0., 0., 0., 0., 0., 0., 0., 0.,\n",
       "       1., 0., 0., 0., 0., 0., 0., 0., 0., 0., 0., 0., 0., 1., 0.])"
      ]
     },
     "execution_count": 8,
     "metadata": {},
     "output_type": "execute_result"
    }
   ],
   "source": [
    "%%time\n",
    "\n",
    "model = customLogisticRegression(class_weight=learning_class_weights)\n",
    "model.fit(X_train, y_train, cate_columns=cate_features, target_column=target_name)\n",
    "model.predict(X_test.iloc[:100, :])"
   ]
  },
  {
   "cell_type": "markdown",
   "id": "13d583ac",
   "metadata": {},
   "source": [
    "# Testing the model\n",
    "\n",
    "We check if the model is satisfactory."
   ]
  },
  {
   "cell_type": "code",
   "execution_count": 9,
   "id": "2fbd7b2e",
   "metadata": {
    "tags": []
   },
   "outputs": [
    {
     "name": "stdout",
     "output_type": "stream",
     "text": [
      "              precision    recall  f1-score   support\n",
      "\n",
      "           0       1.00      0.90      0.95    432231\n",
      "           1       0.00      0.12      0.00       712\n",
      "\n",
      "    accuracy                           0.90    432943\n",
      "   macro avg       0.50      0.51      0.47    432943\n",
      "weighted avg       1.00      0.90      0.94    432943\n",
      "\n"
     ]
    }
   ],
   "source": [
    "preds = model.predict(X_test)\n",
    "print(classification_report(y_test.map({negative_label: 0, positive_label: 1}), preds))"
   ]
  },
  {
   "cell_type": "code",
   "execution_count": 10,
   "id": "a82b48f8-408b-43a0-99fc-c21ff8a63718",
   "metadata": {
    "tags": []
   },
   "outputs": [
    {
     "data": {
      "image/png": "[encoded data removed]",
      "text/plain": [
       "<Figure size 640x480 with 2 Axes>"
      ]
     },
     "metadata": {},
     "output_type": "display_data"
    }
   ],
   "source": [
    "conf_matrix = confusion_matrix(y_test, preds)\n",
    "cm_disp = ConfusionMatrixDisplay(confusion_matrix=conf_matrix)\n",
    "cm_disp.plot()\n",
    "plt.show()"
   ]
  },
  {
   "cell_type": "markdown",
   "id": "11452631",
   "metadata": {},
   "source": [
    "Given the high imbalance of the dataset, we consider that the above results, for a simple logistic regression, are good enough."
   ]
  },
  {
   "cell_type": "markdown",
   "id": "66bafa9b-95db-49c6-b116-9ebb65c13fc8",
   "metadata": {},
   "source": [
    "# Find all valid if-thens with all respective coverages and correctness, for all subgroups.\n",
    "\n",
    "**Caution!** This step takes time. Uncomment the following block if you wish to run."
   ]
  },
  {
   "cell_type": "code",
   "execution_count": 11,
   "id": "297d9256",
   "metadata": {
    "tags": []
   },
   "outputs": [
    {
     "name": "stderr",
     "output_type": "stream",
     "text": [
      "100%|████████████████████████████████████████████████████████████████████████████████| 377/377 [00:53<00:00,  7.05it/s]"
     ]
    },
    {
     "name": "stdout",
     "output_type": "stream",
     "text": [
      "Number of if-thens: 377\n"
     ]
    },
    {
     "name": "stderr",
     "output_type": "stream",
     "text": [
      "\n"
     ]
    }
   ],
   "source": [
    "# ifthens_coverage_correctness = valid_ifthens_with_coverage_correctness(\n",
    "#     X_test,\n",
    "#     model,\n",
    "#     sensitive_attribute,\n",
    "#     missing_subgroup_val=\"Unknown\"\n",
    "# )\n",
    "\n",
    "# print(f\"Number of if-thens: {len(ifthens_coverage_correctness)}\")\n",
    "# rules_by_if = rules2rulesbyif(ifthens_coverage_correctness)"
   ]
  },
  {
   "cell_type": "markdown",
   "id": "d17cb30e-0a36-43cb-9f95-2b2e93634e5a",
   "metadata": {},
   "source": [
    "Uncomment the following block if you wish to load rules object from disk."
   ]
  },
  {
   "cell_type": "code",
   "execution_count": 12,
   "id": "c22dbaba-1ccb-4db3-84de-21227328e07c",
   "metadata": {
    "tags": []
   },
   "outputs": [],
   "source": [
    "import dill\n",
    "\n",
    "with open(\"rules.data\", \"rb\") as inf:\n",
    "    rules_by_if = dill.load(inf)"
   ]
  },
  {
   "cell_type": "code",
   "execution_count": 13,
   "id": "8a13da8a-e2a3-481f-9b1b-bc1803f4eccf",
   "metadata": {
    "tags": []
   },
   "outputs": [
    {
     "name": "stdout",
     "output_type": "stream",
     "text": [
      "If \u001b[1marea = Urban, income = Unknown, parents = 1, age = 55-64, homeowner = 1, college_educated = 1\u001b[0m:\n",
      "\tSubgroup '\u001b[1mF\u001b[0m', \u001b[34m20.2942%\u001b[39m covered\n",
      "\t\tMake \u001b[1m\u001b[30marea = Urban\u001b[39m, \u001b[30mincome = Unknown\u001b[39m, \u001b[30mparents = 1\u001b[39m, \u001b[30mage = 55-64\u001b[39m, \u001b[30mhomeowner = 1\u001b[39m, \u001b[31mcollege_educated = 0\u001b[39m\u001b[0m with correctness \u001b[32m100.0000%\u001b[39m.\n",
      "\tSubgroup '\u001b[1mM\u001b[0m', \u001b[34m18.1364%\u001b[39m covered\n",
      "\t\tMake \u001b[1m\u001b[30marea = Urban\u001b[39m, \u001b[30mincome = Unknown\u001b[39m, \u001b[30mparents = 1\u001b[39m, \u001b[30mage = 55-64\u001b[39m, \u001b[30mhomeowner = 1\u001b[39m, \u001b[31mcollege_educated = 0\u001b[39m\u001b[0m with correctness \u001b[32m0.0000%\u001b[39m.\n",
      "If \u001b[1marea = Urban, income = Unknown, parents = 1, age = 55-64, college_educated = 1\u001b[0m:\n",
      "\tSubgroup '\u001b[1mF\u001b[0m', \u001b[34m20.2942%\u001b[39m covered\n",
      "\t\tMake \u001b[1m\u001b[30marea = Urban\u001b[39m, \u001b[30mincome = Unknown\u001b[39m, \u001b[30mparents = 1\u001b[39m, \u001b[30mage = 55-64\u001b[39m, \u001b[31mcollege_educated = 0\u001b[39m\u001b[0m with correctness \u001b[32m100.0000%\u001b[39m.\n",
      "\tSubgroup '\u001b[1mM\u001b[0m', \u001b[34m18.1364%\u001b[39m covered\n",
      "\t\tMake \u001b[1m\u001b[30marea = Urban\u001b[39m, \u001b[30mincome = Unknown\u001b[39m, \u001b[30mparents = 1\u001b[39m, \u001b[30mage = 55-64\u001b[39m, \u001b[31mcollege_educated = 0\u001b[39m\u001b[0m with correctness \u001b[32m0.0000%\u001b[39m.\n",
      "If \u001b[1marea = Urban, income = Unknown, parents = 0, age = 55-64, college_educated = 1\u001b[0m:\n",
      "\tSubgroup '\u001b[1mF\u001b[0m', \u001b[34m1.2129%\u001b[39m covered\n",
      "\t\tMake \u001b[1m\u001b[30marea = Urban\u001b[39m, \u001b[30mincome = Unknown\u001b[39m, \u001b[31mparents = 1\u001b[39m, \u001b[30mage = 55-64\u001b[39m, \u001b[31mcollege_educated = 0\u001b[39m\u001b[0m with correctness \u001b[32m100.0000%\u001b[39m.\n",
      "\t\tMake \u001b[1m\u001b[30marea = Urban\u001b[39m, \u001b[30mincome = Unknown\u001b[39m, \u001b[31mparents = 1\u001b[39m, \u001b[30mage = 55-64\u001b[39m, \u001b[30mcollege_educated = 1\u001b[39m\u001b[0m with correctness \u001b[32m0.0000%\u001b[39m.\n",
      "\tSubgroup '\u001b[1mM\u001b[0m', \u001b[34m1.0614%\u001b[39m covered\n",
      "\t\tMake \u001b[1m\u001b[30marea = Urban\u001b[39m, \u001b[30mincome = Unknown\u001b[39m, \u001b[31mparents = 1\u001b[39m, \u001b[30mage = 55-64\u001b[39m, \u001b[31mcollege_educated = 0\u001b[39m\u001b[0m with correctness \u001b[32m0.0000%\u001b[39m.\n",
      "\t\tMake \u001b[1m\u001b[30marea = Urban\u001b[39m, \u001b[30mincome = Unknown\u001b[39m, \u001b[31mparents = 1\u001b[39m, \u001b[30mage = 55-64\u001b[39m, \u001b[30mcollege_educated = 1\u001b[39m\u001b[0m with correctness \u001b[32m0.0000%\u001b[39m.\n",
      "If \u001b[1marea = Urban, income = Unknown, parents = 0, age = 55-64, homeowner = 1, college_educated = 1\u001b[0m:\n",
      "\tSubgroup '\u001b[1mF\u001b[0m', \u001b[34m1.2129%\u001b[39m covered\n",
      "\t\tMake \u001b[1m\u001b[30marea = Urban\u001b[39m, \u001b[30mincome = Unknown\u001b[39m, \u001b[31mparents = 1\u001b[39m, \u001b[30mage = 55-64\u001b[39m, \u001b[30mhomeowner = 1\u001b[39m, \u001b[31mcollege_educated = 0\u001b[39m\u001b[0m with correctness \u001b[32m100.0000%\u001b[39m.\n",
      "\tSubgroup '\u001b[1mM\u001b[0m', \u001b[34m1.0614%\u001b[39m covered\n",
      "\t\tMake \u001b[1m\u001b[30marea = Urban\u001b[39m, \u001b[30mincome = Unknown\u001b[39m, \u001b[31mparents = 1\u001b[39m, \u001b[30mage = 55-64\u001b[39m, \u001b[30mhomeowner = 1\u001b[39m, \u001b[31mcollege_educated = 0\u001b[39m\u001b[0m with correctness \u001b[32m0.0000%\u001b[39m.\n",
      "If \u001b[1marea = Urban, parents = 0, age = 55-64, homeowner = 1, college_educated = 1\u001b[0m:\n",
      "\tSubgroup '\u001b[1mF\u001b[0m', \u001b[34m1.2224%\u001b[39m covered\n",
      "\t\tMake \u001b[1m\u001b[30marea = Urban\u001b[39m, \u001b[31mparents = 1\u001b[39m, \u001b[30mage = 55-64\u001b[39m, \u001b[30mhomeowner = 1\u001b[39m, \u001b[31mcollege_educated = 0\u001b[39m\u001b[0m with correctness \u001b[32m100.0000%\u001b[39m.\n",
      "\t\tMake \u001b[1m\u001b[30marea = Urban\u001b[39m, \u001b[31mparents = 1\u001b[39m, \u001b[30mage = 55-64\u001b[39m, \u001b[30mhomeowner = 1\u001b[39m, \u001b[30mcollege_educated = 1\u001b[39m\u001b[0m with correctness \u001b[32m0.0000%\u001b[39m.\n",
      "\tSubgroup '\u001b[1mM\u001b[0m', \u001b[34m1.0657%\u001b[39m covered\n",
      "\t\tMake \u001b[1m\u001b[30marea = Urban\u001b[39m, \u001b[31mparents = 1\u001b[39m, \u001b[30mage = 55-64\u001b[39m, \u001b[30mhomeowner = 1\u001b[39m, \u001b[31mcollege_educated = 0\u001b[39m\u001b[0m with correctness \u001b[32m0.4057%\u001b[39m.\n",
      "\t\tMake \u001b[1m\u001b[30marea = Urban\u001b[39m, \u001b[31mparents = 1\u001b[39m, \u001b[30mage = 55-64\u001b[39m, \u001b[30mhomeowner = 1\u001b[39m, \u001b[30mcollege_educated = 1\u001b[39m\u001b[0m with correctness \u001b[32m-0.0000%\u001b[39m.\n",
      "If \u001b[1marea = Urban, parents = 1, age = 55-64, homeowner = 1, college_educated = 1\u001b[0m:\n",
      "\tSubgroup '\u001b[1mF\u001b[0m', \u001b[34m20.4183%\u001b[39m covered\n",
      "\t\tMake \u001b[1m\u001b[30marea = Urban\u001b[39m, \u001b[30mparents = 1\u001b[39m, \u001b[30mage = 55-64\u001b[39m, \u001b[30mhomeowner = 1\u001b[39m, \u001b[31mcollege_educated = 0\u001b[39m\u001b[0m with correctness \u001b[32m100.0000%\u001b[39m.\n",
      "\tSubgroup '\u001b[1mM\u001b[0m', \u001b[34m18.2748%\u001b[39m covered\n",
      "\t\tMake \u001b[1m\u001b[30marea = Urban\u001b[39m, \u001b[30mparents = 1\u001b[39m, \u001b[30mage = 55-64\u001b[39m, \u001b[30mhomeowner = 1\u001b[39m, \u001b[31mcollege_educated = 0\u001b[39m\u001b[0m with correctness \u001b[32m0.7570%\u001b[39m.\n",
      "If \u001b[1marea = Urban, parents = 1, college_educated = 1, age = 55-64\u001b[0m:\n",
      "\tSubgroup '\u001b[1mF\u001b[0m', \u001b[34m20.4183%\u001b[39m covered\n",
      "\t\tMake \u001b[1m\u001b[30marea = Urban\u001b[39m, \u001b[30mparents = 1\u001b[39m, \u001b[31mcollege_educated = 0\u001b[39m, \u001b[30mage = 55-64\u001b[39m\u001b[0m with correctness \u001b[32m100.0000%\u001b[39m.\n",
      "\tSubgroup '\u001b[1mM\u001b[0m', \u001b[34m18.2748%\u001b[39m covered\n",
      "\t\tMake \u001b[1m\u001b[30marea = Urban\u001b[39m, \u001b[30mparents = 1\u001b[39m, \u001b[31mcollege_educated = 0\u001b[39m, \u001b[30mage = 55-64\u001b[39m\u001b[0m with correctness \u001b[32m0.7570%\u001b[39m.\n",
      "If \u001b[1marea = Unknown, parents = 0, age = 55-64, homeowner = 1, college_educated = 1\u001b[0m:\n",
      "\tSubgroup '\u001b[1mF\u001b[0m', \u001b[34m3.3893%\u001b[39m covered\n",
      "\t\tMake \u001b[1m\u001b[31marea = Urban\u001b[39m, \u001b[31mparents = 1\u001b[39m, \u001b[30mage = 55-64\u001b[39m, \u001b[30mhomeowner = 1\u001b[39m, \u001b[31mcollege_educated = 0\u001b[39m\u001b[0m with correctness \u001b[32m100.0000%\u001b[39m.\n",
      "\t\tMake \u001b[1m\u001b[31marea = Urban\u001b[39m, \u001b[31mparents = 1\u001b[39m, \u001b[30mage = 55-64\u001b[39m, \u001b[30mhomeowner = 1\u001b[39m, \u001b[30mcollege_educated = 1\u001b[39m\u001b[0m with correctness \u001b[32m1.6063%\u001b[39m.\n",
      "\tSubgroup '\u001b[1mM\u001b[0m', \u001b[34m3.0328%\u001b[39m covered\n",
      "\t\tMake \u001b[1m\u001b[31marea = Urban\u001b[39m, \u001b[31mparents = 1\u001b[39m, \u001b[30mage = 55-64\u001b[39m, \u001b[30mhomeowner = 1\u001b[39m, \u001b[31mcollege_educated = 0\u001b[39m\u001b[0m with correctness \u001b[32m3.8845%\u001b[39m.\n",
      "\t\tMake \u001b[1m\u001b[31marea = Urban\u001b[39m, \u001b[31mparents = 1\u001b[39m, \u001b[30mage = 55-64\u001b[39m, \u001b[30mhomeowner = 1\u001b[39m, \u001b[30mcollege_educated = 1\u001b[39m\u001b[0m with correctness \u001b[32m1.4968%\u001b[39m.\n",
      "If \u001b[1marea = Urban, income = Unknown, parents = 0, homeowner = 1, college_educated = 1\u001b[0m:\n",
      "\tSubgroup '\u001b[1mF\u001b[0m', \u001b[34m1.2838%\u001b[39m covered\n",
      "\t\tMake \u001b[1m\u001b[30marea = Urban\u001b[39m, \u001b[30mincome = Unknown\u001b[39m, \u001b[31mparents = 1\u001b[39m, \u001b[30mhomeowner = 1\u001b[39m, \u001b[31mcollege_educated = 0\u001b[39m\u001b[0m with correctness \u001b[32m96.1045%\u001b[39m.\n",
      "\tSubgroup '\u001b[1mM\u001b[0m', \u001b[34m1.1327%\u001b[39m covered\n",
      "\t\tMake \u001b[1m\u001b[30marea = Urban\u001b[39m, \u001b[30mincome = Unknown\u001b[39m, \u001b[31mparents = 1\u001b[39m, \u001b[30mhomeowner = 1\u001b[39m, \u001b[31mcollege_educated = 0\u001b[39m\u001b[0m with correctness \u001b[32m0.0000%\u001b[39m.\n",
      "If \u001b[1marea = Urban, income = Unknown, parents = 1, homeowner = 1, college_educated = 1\u001b[0m:\n",
      "\tSubgroup '\u001b[1mF\u001b[0m', \u001b[34m21.6901%\u001b[39m covered\n",
      "\t\tMake \u001b[1m\u001b[30marea = Urban\u001b[39m, \u001b[30mincome = Unknown\u001b[39m, \u001b[30mparents = 1\u001b[39m, \u001b[30mhomeowner = 1\u001b[39m, \u001b[31mcollege_educated = 0\u001b[39m\u001b[0m with correctness \u001b[32m95.3069%\u001b[39m.\n",
      "\tSubgroup '\u001b[1mM\u001b[0m', \u001b[34m19.3783%\u001b[39m covered\n",
      "\t\tMake \u001b[1m\u001b[30marea = Urban\u001b[39m, \u001b[30mincome = Unknown\u001b[39m, \u001b[30mparents = 1\u001b[39m, \u001b[30mhomeowner = 1\u001b[39m, \u001b[31mcollege_educated = 0\u001b[39m\u001b[0m with correctness \u001b[32m0.0000%\u001b[39m.\n",
      "\n"
     ]
    }
   ],
   "source": [
    "K = 10\n",
    "\n",
    "# keep K ifs with maximum coverage on Females\n",
    "# TODO: the below is currently dataset dependent\n",
    "# rules_by_if_filtered = sorted(rules_by_if.items(), key=lambda e: e[1][\"F\"][0][1], reverse=True)[:K]\n",
    "\n",
    "# keep K ifs with maximum absolute difference in correctness between Males and Females.\n",
    "# TODO: the below is currently dataset dependent\n",
    "rules_by_if_filtered = sorted(rules_by_if.items(), key=lambda e: abs(e[1][\"M\"][1][0][1]-e[1][\"F\"][1][0][1]), reverse=True)[:K]\n",
    "\n",
    "rules_by_if_filtered = dict(rules_by_if_filtered)\n",
    "\n",
    "print(recourse_report_reverse(rules_by_if_filtered))"
   ]
  },
  {
   "cell_type": "code",
   "execution_count": 36,
   "id": "c3d9345a-d3f6-4db1-9fa2-887cf76c0149",
   "metadata": {},
   "outputs": [],
   "source": [
    "# #### Uncomment if you wish to save rules object on disk\n",
    "\n",
    "# import dill\n",
    "\n",
    "# with open(\"rules.data\", \"wb\") as outf:\n",
    "#     dill.dump(rules_by_if, outf)"
   ]
  },
  {
   "cell_type": "markdown",
   "id": "680049be-1176-44d9-ba37-61b194dfb97f",
   "metadata": {},
   "source": [
    "# Filter rules by different scoring functions"
   ]
  },
  {
   "cell_type": "markdown",
   "id": "07e10fea-1fb4-4028-813a-e21b0767983f",
   "metadata": {},
   "source": [
    "Here, we explore more sophisticated ways of picking the \"top\" K rules and showing only those.\n",
    "\n",
    "We start ranking the rule \"groups\" (all recourses for a single \"if\") by averaging out the costs of all suggested recourses, weighted by the respective correctness. For now, the \"cost\" of a recourse is simply the number of features whose value changes (and the magnitude of the change for numerical features, but here there are none)."
   ]
  },
  {
   "cell_type": "code",
   "execution_count": 15,
   "id": "897fbfbd-1667-46e5-8015-fa43a1709905",
   "metadata": {
    "tags": []
   },
   "outputs": [],
   "source": [
    "comparators = lib2.naive_feature_change_builder(num_cols=num_features, cate_cols=cate_features, feature_weights=feature_weights)\n",
    "params = ParameterProxy(featureChanges=comparators)"
   ]
  },
  {
   "cell_type": "markdown",
   "id": "3083f9ee-9126-4cd4-a84a-5816e32e1cb8",
   "metadata": {},
   "source": [
    "## For each if-group, inner product of then costs and correctness-es, divided by the number of terms"
   ]
  },
  {
   "cell_type": "code",
   "execution_count": 16,
   "id": "401938ea-8579-4808-86a4-360994295330",
   "metadata": {
    "tags": []
   },
   "outputs": [
    {
     "name": "stdout",
     "output_type": "stream",
     "text": [
      "If \u001b[1mhomeowner = 1, college_educated = 1, area = Unknown, age = 25-34\u001b[0m:\n",
      "\tSubgroup '\u001b[1mF\u001b[0m', \u001b[34m1.1673%\u001b[39m covered out of 600135\n",
      "\t\tMake \u001b[1m\u001b[30mhomeowner = 1\u001b[39m, \u001b[31mcollege_educated = 0\u001b[39m, \u001b[31marea = Rural\u001b[39m, \u001b[31mage = 55-64\u001b[39m\u001b[0m with correctness \u001b[32m95.6616%\u001b[39m.\n",
      "\t\t\u001b[1mAggregate cost\u001b[0m of the above recourses = \u001b[35m2.86985\u001b[39m\n",
      "\tSubgroup '\u001b[1mM\u001b[0m', \u001b[34m1.0527%\u001b[39m covered out of 314181\n",
      "\t\tMake \u001b[1m\u001b[30mhomeowner = 1\u001b[39m, \u001b[31mcollege_educated = 0\u001b[39m, \u001b[31marea = Rural\u001b[39m, \u001b[31mage = 55-64\u001b[39m\u001b[0m with correctness \u001b[32m1.1294%\u001b[39m.\n",
      "\t\t\u001b[1mAggregate cost\u001b[0m of the above recourses = \u001b[35m0.0338809\u001b[39m\n",
      "If \u001b[1mhomeowner = 1, income = Unknown, area = Rural, age = 55-64\u001b[0m:\n",
      "\tSubgroup '\u001b[1mF\u001b[0m', \u001b[34m4.5396%\u001b[39m covered out of 600135\n",
      "\t\tMake \u001b[1m\u001b[31mhomeowner = 0\u001b[39m, \u001b[31mincome = <100K\u001b[39m, \u001b[31marea = Unknown\u001b[39m, \u001b[30mage = 55-64\u001b[39m\u001b[0m with correctness \u001b[32m94.7009%\u001b[39m.\n",
      "\t\t\u001b[1mAggregate cost\u001b[0m of the above recourses = \u001b[35m2.84103\u001b[39m\n",
      "\tSubgroup '\u001b[1mM\u001b[0m', \u001b[34m4.3698%\u001b[39m covered out of 314181\n",
      "\t\tMake \u001b[1m\u001b[31mhomeowner = 0\u001b[39m, \u001b[31mincome = <100K\u001b[39m, \u001b[31marea = Unknown\u001b[39m, \u001b[30mage = 55-64\u001b[39m\u001b[0m with correctness \u001b[32m5.8372%\u001b[39m.\n",
      "\t\t\u001b[1mAggregate cost\u001b[0m of the above recourses = \u001b[35m0.175117\u001b[39m\n",
      "If \u001b[1mincome = Unknown, parents = 1, age = 45-54, area = Unknown, college_educated = 1\u001b[0m:\n",
      "\tSubgroup '\u001b[1mF\u001b[0m', \u001b[34m1.2300%\u001b[39m covered out of 600135\n",
      "\t\tMake \u001b[1m\u001b[30mincome = Unknown\u001b[39m, \u001b[30mparents = 1\u001b[39m, \u001b[31mage = 55-64\u001b[39m, \u001b[31marea = Rural\u001b[39m, \u001b[31mcollege_educated = 0\u001b[39m\u001b[0m with correctness \u001b[32m100.0000%\u001b[39m.\n",
      "\t\t\u001b[1mAggregate cost\u001b[0m of the above recourses = \u001b[35m3.0\u001b[39m\n",
      "\tSubgroup '\u001b[1mM\u001b[0m', \u001b[34m1.0668%\u001b[39m covered out of 314181\n",
      "\t\tMake \u001b[1m\u001b[30mincome = Unknown\u001b[39m, \u001b[30mparents = 1\u001b[39m, \u001b[31mage = 55-64\u001b[39m, \u001b[31marea = Rural\u001b[39m, \u001b[31mcollege_educated = 0\u001b[39m\u001b[0m with correctness \u001b[32m12.9686%\u001b[39m.\n",
      "\t\t\u001b[1mAggregate cost\u001b[0m of the above recourses = \u001b[35m0.389058\u001b[39m\n",
      "If \u001b[1mhomeowner = 1, income = Unknown, area = Rural\u001b[0m:\n",
      "\tSubgroup '\u001b[1mF\u001b[0m', \u001b[34m4.8941%\u001b[39m covered out of 600135\n",
      "\t\tMake \u001b[1m\u001b[31mhomeowner = 0\u001b[39m, \u001b[31mincome = <100K\u001b[39m, \u001b[31marea = Unknown\u001b[39m\u001b[0m with correctness \u001b[32m89.6391%\u001b[39m.\n",
      "\t\t\u001b[1mAggregate cost\u001b[0m of the above recourses = \u001b[35m2.68917\u001b[39m\n",
      "\tSubgroup '\u001b[1mM\u001b[0m', \u001b[34m4.7016%\u001b[39m covered out of 314181\n",
      "\t\tMake \u001b[1m\u001b[31mhomeowner = 0\u001b[39m, \u001b[31mincome = <100K\u001b[39m, \u001b[31marea = Unknown\u001b[39m\u001b[0m with correctness \u001b[32m5.5862%\u001b[39m.\n",
      "\t\t\u001b[1mAggregate cost\u001b[0m of the above recourses = \u001b[35m0.167586\u001b[39m\n",
      "If \u001b[1marea = Urban, income = Unknown, parents = 0, age = 55-64, homeowner = 1, college_educated = 1\u001b[0m:\n",
      "\tSubgroup '\u001b[1mF\u001b[0m', \u001b[34m1.2129%\u001b[39m covered out of 600135\n",
      "\t\tMake \u001b[1m\u001b[30marea = Urban\u001b[39m, \u001b[30mincome = Unknown\u001b[39m, \u001b[31mparents = 1\u001b[39m, \u001b[30mage = 55-64\u001b[39m, \u001b[30mhomeowner = 1\u001b[39m, \u001b[31mcollege_educated = 0\u001b[39m\u001b[0m with correctness \u001b[32m100.0000%\u001b[39m.\n",
      "\t\t\u001b[1mAggregate cost\u001b[0m of the above recourses = \u001b[35m2.0\u001b[39m\n",
      "\tSubgroup '\u001b[1mM\u001b[0m', \u001b[34m1.0614%\u001b[39m covered out of 314181\n",
      "\t\tMake \u001b[1m\u001b[30marea = Urban\u001b[39m, \u001b[30mincome = Unknown\u001b[39m, \u001b[31mparents = 1\u001b[39m, \u001b[30mage = 55-64\u001b[39m, \u001b[30mhomeowner = 1\u001b[39m, \u001b[31mcollege_educated = 0\u001b[39m\u001b[0m with correctness \u001b[32m0.0000%\u001b[39m.\n",
      "\t\t\u001b[1mAggregate cost\u001b[0m of the above recourses = \u001b[35m0.0\u001b[39m\n",
      "If \u001b[1marea = Urban, income = Unknown, parents = 0, homeowner = 1, college_educated = 1\u001b[0m:\n",
      "\tSubgroup '\u001b[1mF\u001b[0m', \u001b[34m1.2838%\u001b[39m covered out of 600135\n",
      "\t\tMake \u001b[1m\u001b[30marea = Urban\u001b[39m, \u001b[30mincome = Unknown\u001b[39m, \u001b[31mparents = 1\u001b[39m, \u001b[30mhomeowner = 1\u001b[39m, \u001b[31mcollege_educated = 0\u001b[39m\u001b[0m with correctness \u001b[32m96.1045%\u001b[39m.\n",
      "\t\t\u001b[1mAggregate cost\u001b[0m of the above recourses = \u001b[35m1.92209\u001b[39m\n",
      "\tSubgroup '\u001b[1mM\u001b[0m', \u001b[34m1.1327%\u001b[39m covered out of 314181\n",
      "\t\tMake \u001b[1m\u001b[30marea = Urban\u001b[39m, \u001b[30mincome = Unknown\u001b[39m, \u001b[31mparents = 1\u001b[39m, \u001b[30mhomeowner = 1\u001b[39m, \u001b[31mcollege_educated = 0\u001b[39m\u001b[0m with correctness \u001b[32m0.0000%\u001b[39m.\n",
      "\t\t\u001b[1mAggregate cost\u001b[0m of the above recourses = \u001b[35m0.0\u001b[39m\n",
      "If \u001b[1mhomeowner = 1, college_educated = 1, area = Unknown, age = 55-64\u001b[0m:\n",
      "\tSubgroup '\u001b[1mF\u001b[0m', \u001b[34m62.1032%\u001b[39m covered out of 600135\n",
      "\t\tMake \u001b[1m\u001b[30mhomeowner = 1\u001b[39m, \u001b[31mcollege_educated = 0\u001b[39m, \u001b[31marea = Rural\u001b[39m, \u001b[30mage = 55-64\u001b[39m\u001b[0m with correctness \u001b[32m94.6301%\u001b[39m.\n",
      "\t\t\u001b[1mAggregate cost\u001b[0m of the above recourses = \u001b[35m1.8926\u001b[39m\n",
      "\tSubgroup '\u001b[1mM\u001b[0m', \u001b[34m55.3550%\u001b[39m covered out of 314181\n",
      "\t\tMake \u001b[1m\u001b[30mhomeowner = 1\u001b[39m, \u001b[31mcollege_educated = 0\u001b[39m, \u001b[31marea = Rural\u001b[39m, \u001b[30mage = 55-64\u001b[39m\u001b[0m with correctness \u001b[32m1.5425%\u001b[39m.\n",
      "\t\t\u001b[1mAggregate cost\u001b[0m of the above recourses = \u001b[35m0.0308503\u001b[39m\n",
      "If \u001b[1mhomeowner = 1, parents = 1, college_educated = 1, area = Unknown\u001b[0m:\n",
      "\tSubgroup '\u001b[1mF\u001b[0m', \u001b[34m62.8483%\u001b[39m covered out of 600135\n",
      "\t\tMake \u001b[1m\u001b[30mhomeowner = 1\u001b[39m, \u001b[30mparents = 1\u001b[39m, \u001b[31mcollege_educated = 0\u001b[39m, \u001b[31marea = Rural\u001b[39m\u001b[0m with correctness \u001b[32m93.5032%\u001b[39m.\n",
      "\t\t\u001b[1mAggregate cost\u001b[0m of the above recourses = \u001b[35m1.87006\u001b[39m\n",
      "\tSubgroup '\u001b[1mM\u001b[0m', \u001b[34m55.7981%\u001b[39m covered out of 314181\n",
      "\t\tMake \u001b[1m\u001b[30mhomeowner = 1\u001b[39m, \u001b[30mparents = 1\u001b[39m, \u001b[31mcollege_educated = 0\u001b[39m, \u001b[31marea = Rural\u001b[39m\u001b[0m with correctness \u001b[32m1.4663%\u001b[39m.\n",
      "\t\t\u001b[1mAggregate cost\u001b[0m of the above recourses = \u001b[35m0.0293269\u001b[39m\n",
      "If \u001b[1mhomeowner = 1, income = Unknown, college_educated = 0, area = Unknown\u001b[0m:\n",
      "\tSubgroup '\u001b[1mF\u001b[0m', \u001b[34m3.8692%\u001b[39m covered out of 600135\n",
      "\t\tMake \u001b[1m\u001b[31mhomeowner = 0\u001b[39m, \u001b[31mincome = <100K\u001b[39m, \u001b[31mcollege_educated = 1\u001b[39m, \u001b[30marea = Unknown\u001b[39m\u001b[0m with correctness \u001b[32m89.9542%\u001b[39m.\n",
      "\t\tMake \u001b[1m\u001b[30mhomeowner = 1\u001b[39m, \u001b[30mincome = Unknown\u001b[39m, \u001b[30mcollege_educated = 0\u001b[39m, \u001b[31marea = Rural\u001b[39m\u001b[0m with correctness \u001b[32m88.1054%\u001b[39m.\n",
      "\t\t\u001b[1mAggregate cost\u001b[0m of the above recourses = \u001b[35m1.78984\u001b[39m\n",
      "\tSubgroup '\u001b[1mM\u001b[0m', \u001b[34m3.4554%\u001b[39m covered out of 314181\n",
      "\t\tMake \u001b[1m\u001b[31mhomeowner = 0\u001b[39m, \u001b[31mincome = <100K\u001b[39m, \u001b[31mcollege_educated = 1\u001b[39m, \u001b[30marea = Unknown\u001b[39m\u001b[0m with correctness \u001b[32m0.0000%\u001b[39m.\n",
      "\t\tMake \u001b[1m\u001b[30mhomeowner = 1\u001b[39m, \u001b[30mincome = Unknown\u001b[39m, \u001b[30mcollege_educated = 0\u001b[39m, \u001b[31marea = Rural\u001b[39m\u001b[0m with correctness \u001b[32m0.0000%\u001b[39m.\n",
      "\t\t\u001b[1mAggregate cost\u001b[0m of the above recourses = \u001b[35m0.0\u001b[39m\n",
      "If \u001b[1mhomeowner = 1, income = Unknown, college_educated = 1, area = Rural\u001b[0m:\n",
      "\tSubgroup '\u001b[1mF\u001b[0m', \u001b[34m4.8631%\u001b[39m covered out of 600135\n",
      "\t\tMake \u001b[1m\u001b[31mhomeowner = 0\u001b[39m, \u001b[31mincome = <100K\u001b[39m, \u001b[30mcollege_educated = 1\u001b[39m, \u001b[31marea = Unknown\u001b[39m\u001b[0m with correctness \u001b[32m89.8594%\u001b[39m.\n",
      "\t\tMake \u001b[1m\u001b[30mhomeowner = 1\u001b[39m, \u001b[30mincome = Unknown\u001b[39m, \u001b[31mcollege_educated = 0\u001b[39m, \u001b[30marea = Rural\u001b[39m\u001b[0m with correctness \u001b[32m88.1541%\u001b[39m.\n",
      "\t\t\u001b[1mAggregate cost\u001b[0m of the above recourses = \u001b[35m1.78866\u001b[39m\n",
      "\tSubgroup '\u001b[1mM\u001b[0m', \u001b[34m4.4228%\u001b[39m covered out of 314181\n",
      "\t\tMake \u001b[1m\u001b[31mhomeowner = 0\u001b[39m, \u001b[31mincome = <100K\u001b[39m, \u001b[30mcollege_educated = 1\u001b[39m, \u001b[31marea = Unknown\u001b[39m\u001b[0m with correctness \u001b[32m0.0000%\u001b[39m.\n",
      "\t\tMake \u001b[1m\u001b[30mhomeowner = 1\u001b[39m, \u001b[30mincome = Unknown\u001b[39m, \u001b[31mcollege_educated = 0\u001b[39m, \u001b[30marea = Rural\u001b[39m\u001b[0m with correctness \u001b[32m0.0000%\u001b[39m.\n",
      "\t\t\u001b[1mAggregate cost\u001b[0m of the above recourses = \u001b[35m0.0\u001b[39m\n",
      "\n"
     ]
    }
   ],
   "source": [
    "rules_max_costdiff_sorted = lib2.sort_triples_by_max_costdiff(rules_by_if, params=params)\n",
    "\n",
    "top = dict(rules_max_costdiff_sorted[:K])\n",
    "print(recourse_report_reverse(\n",
    "    top,\n",
    "    population_sizes = {\"M\": (ad_conversion_dataset.gender == \"M\").sum(), \"F\": (ad_conversion_dataset.gender == \"F\").sum()},\n",
    "    missing_subgroup_val=\"Unknown\",\n",
    "    subgroup_costs=lib2.calculate_all_if_subgroup_costs(list(top.keys()), list(top.values()))\n",
    "))"
   ]
  },
  {
   "cell_type": "markdown",
   "id": "b49fbf42-16ec-4df5-8cc6-225e5087c18d",
   "metadata": {},
   "source": [
    "#### Filter rules that are approximately contained in other rules.\n",
    "\n",
    "First, we filter only the top rules."
   ]
  },
  {
   "cell_type": "code",
   "execution_count": 17,
   "id": "72725daf-4dff-4ef7-9e93-db822c830326",
   "metadata": {},
   "outputs": [
    {
     "name": "stdout",
     "output_type": "stream",
     "text": [
      "If \u001b[1mhomeowner = 1, college_educated = 1, area = Unknown, age = 25-34\u001b[0m:\n",
      "\tSubgroup '\u001b[1mF\u001b[0m', \u001b[34m1.1673%\u001b[39m covered out of 600135\n",
      "\t\tMake \u001b[1m\u001b[30mhomeowner = 1\u001b[39m, \u001b[31mcollege_educated = 0\u001b[39m, \u001b[31marea = Rural\u001b[39m, \u001b[31mage = 55-64\u001b[39m\u001b[0m with correctness \u001b[32m95.6616%\u001b[39m.\n",
      "\t\t\u001b[1mAggregate cost\u001b[0m of the above recourses = \u001b[35m2.86985\u001b[39m\n",
      "\tSubgroup '\u001b[1mM\u001b[0m', \u001b[34m1.0527%\u001b[39m covered out of 314181\n",
      "\t\tMake \u001b[1m\u001b[30mhomeowner = 1\u001b[39m, \u001b[31mcollege_educated = 0\u001b[39m, \u001b[31marea = Rural\u001b[39m, \u001b[31mage = 55-64\u001b[39m\u001b[0m with correctness \u001b[32m1.1294%\u001b[39m.\n",
      "\t\t\u001b[1mAggregate cost\u001b[0m of the above recourses = \u001b[35m0.0338809\u001b[39m\n",
      "If \u001b[1mincome = Unknown, parents = 1, age = 45-54, area = Unknown, college_educated = 1\u001b[0m:\n",
      "\tSubgroup '\u001b[1mF\u001b[0m', \u001b[34m1.2300%\u001b[39m covered out of 600135\n",
      "\t\tMake \u001b[1m\u001b[30mincome = Unknown\u001b[39m, \u001b[30mparents = 1\u001b[39m, \u001b[31mage = 55-64\u001b[39m, \u001b[31marea = Rural\u001b[39m, \u001b[31mcollege_educated = 0\u001b[39m\u001b[0m with correctness \u001b[32m100.0000%\u001b[39m.\n",
      "\t\t\u001b[1mAggregate cost\u001b[0m of the above recourses = \u001b[35m3.0\u001b[39m\n",
      "\tSubgroup '\u001b[1mM\u001b[0m', \u001b[34m1.0668%\u001b[39m covered out of 314181\n",
      "\t\tMake \u001b[1m\u001b[30mincome = Unknown\u001b[39m, \u001b[30mparents = 1\u001b[39m, \u001b[31mage = 55-64\u001b[39m, \u001b[31marea = Rural\u001b[39m, \u001b[31mcollege_educated = 0\u001b[39m\u001b[0m with correctness \u001b[32m12.9686%\u001b[39m.\n",
      "\t\t\u001b[1mAggregate cost\u001b[0m of the above recourses = \u001b[35m0.389058\u001b[39m\n",
      "If \u001b[1mhomeowner = 1, income = Unknown, area = Rural\u001b[0m:\n",
      "\tSubgroup '\u001b[1mF\u001b[0m', \u001b[34m4.8941%\u001b[39m covered out of 600135\n",
      "\t\tMake \u001b[1m\u001b[31mhomeowner = 0\u001b[39m, \u001b[31mincome = <100K\u001b[39m, \u001b[31marea = Unknown\u001b[39m\u001b[0m with correctness \u001b[32m89.6391%\u001b[39m.\n",
      "\t\t\u001b[1mAggregate cost\u001b[0m of the above recourses = \u001b[35m2.68917\u001b[39m\n",
      "\tSubgroup '\u001b[1mM\u001b[0m', \u001b[34m4.7016%\u001b[39m covered out of 314181\n",
      "\t\tMake \u001b[1m\u001b[31mhomeowner = 0\u001b[39m, \u001b[31mincome = <100K\u001b[39m, \u001b[31marea = Unknown\u001b[39m\u001b[0m with correctness \u001b[32m5.5862%\u001b[39m.\n",
      "\t\t\u001b[1mAggregate cost\u001b[0m of the above recourses = \u001b[35m0.167586\u001b[39m\n",
      "If \u001b[1marea = Urban, income = Unknown, parents = 0, homeowner = 1, college_educated = 1\u001b[0m:\n",
      "\tSubgroup '\u001b[1mF\u001b[0m', \u001b[34m1.2838%\u001b[39m covered out of 600135\n",
      "\t\tMake \u001b[1m\u001b[30marea = Urban\u001b[39m, \u001b[30mincome = Unknown\u001b[39m, \u001b[31mparents = 1\u001b[39m, \u001b[30mhomeowner = 1\u001b[39m, \u001b[31mcollege_educated = 0\u001b[39m\u001b[0m with correctness \u001b[32m96.1045%\u001b[39m.\n",
      "\t\t\u001b[1mAggregate cost\u001b[0m of the above recourses = \u001b[35m1.92209\u001b[39m\n",
      "\tSubgroup '\u001b[1mM\u001b[0m', \u001b[34m1.1327%\u001b[39m covered out of 314181\n",
      "\t\tMake \u001b[1m\u001b[30marea = Urban\u001b[39m, \u001b[30mincome = Unknown\u001b[39m, \u001b[31mparents = 1\u001b[39m, \u001b[30mhomeowner = 1\u001b[39m, \u001b[31mcollege_educated = 0\u001b[39m\u001b[0m with correctness \u001b[32m0.0000%\u001b[39m.\n",
      "\t\t\u001b[1mAggregate cost\u001b[0m of the above recourses = \u001b[35m0.0\u001b[39m\n",
      "If \u001b[1mhomeowner = 1, college_educated = 1, area = Unknown, age = 55-64\u001b[0m:\n",
      "\tSubgroup '\u001b[1mF\u001b[0m', \u001b[34m62.1032%\u001b[39m covered out of 600135\n",
      "\t\tMake \u001b[1m\u001b[30mhomeowner = 1\u001b[39m, \u001b[31mcollege_educated = 0\u001b[39m, \u001b[31marea = Rural\u001b[39m, \u001b[30mage = 55-64\u001b[39m\u001b[0m with correctness \u001b[32m94.6301%\u001b[39m.\n",
      "\t\t\u001b[1mAggregate cost\u001b[0m of the above recourses = \u001b[35m1.8926\u001b[39m\n",
      "\tSubgroup '\u001b[1mM\u001b[0m', \u001b[34m55.3550%\u001b[39m covered out of 314181\n",
      "\t\tMake \u001b[1m\u001b[30mhomeowner = 1\u001b[39m, \u001b[31mcollege_educated = 0\u001b[39m, \u001b[31marea = Rural\u001b[39m, \u001b[30mage = 55-64\u001b[39m\u001b[0m with correctness \u001b[32m1.5425%\u001b[39m.\n",
      "\t\t\u001b[1mAggregate cost\u001b[0m of the above recourses = \u001b[35m0.0308503\u001b[39m\n",
      "If \u001b[1mhomeowner = 1, parents = 1, college_educated = 1, area = Unknown\u001b[0m:\n",
      "\tSubgroup '\u001b[1mF\u001b[0m', \u001b[34m62.8483%\u001b[39m covered out of 600135\n",
      "\t\tMake \u001b[1m\u001b[30mhomeowner = 1\u001b[39m, \u001b[30mparents = 1\u001b[39m, \u001b[31mcollege_educated = 0\u001b[39m, \u001b[31marea = Rural\u001b[39m\u001b[0m with correctness \u001b[32m93.5032%\u001b[39m.\n",
      "\t\t\u001b[1mAggregate cost\u001b[0m of the above recourses = \u001b[35m1.87006\u001b[39m\n",
      "\tSubgroup '\u001b[1mM\u001b[0m', \u001b[34m55.7981%\u001b[39m covered out of 314181\n",
      "\t\tMake \u001b[1m\u001b[30mhomeowner = 1\u001b[39m, \u001b[30mparents = 1\u001b[39m, \u001b[31mcollege_educated = 0\u001b[39m, \u001b[31marea = Rural\u001b[39m\u001b[0m with correctness \u001b[32m1.4663%\u001b[39m.\n",
      "\t\t\u001b[1mAggregate cost\u001b[0m of the above recourses = \u001b[35m0.0293269\u001b[39m\n",
      "If \u001b[1mhomeowner = 1, income = Unknown, college_educated = 0, area = Unknown\u001b[0m:\n",
      "\tSubgroup '\u001b[1mF\u001b[0m', \u001b[34m3.8692%\u001b[39m covered out of 600135\n",
      "\t\tMake \u001b[1m\u001b[31mhomeowner = 0\u001b[39m, \u001b[31mincome = <100K\u001b[39m, \u001b[31mcollege_educated = 1\u001b[39m, \u001b[30marea = Unknown\u001b[39m\u001b[0m with correctness \u001b[32m89.9542%\u001b[39m.\n",
      "\t\tMake \u001b[1m\u001b[30mhomeowner = 1\u001b[39m, \u001b[30mincome = Unknown\u001b[39m, \u001b[30mcollege_educated = 0\u001b[39m, \u001b[31marea = Rural\u001b[39m\u001b[0m with correctness \u001b[32m88.1054%\u001b[39m.\n",
      "\t\t\u001b[1mAggregate cost\u001b[0m of the above recourses = \u001b[35m1.78984\u001b[39m\n",
      "\tSubgroup '\u001b[1mM\u001b[0m', \u001b[34m3.4554%\u001b[39m covered out of 314181\n",
      "\t\tMake \u001b[1m\u001b[31mhomeowner = 0\u001b[39m, \u001b[31mincome = <100K\u001b[39m, \u001b[31mcollege_educated = 1\u001b[39m, \u001b[30marea = Unknown\u001b[39m\u001b[0m with correctness \u001b[32m0.0000%\u001b[39m.\n",
      "\t\tMake \u001b[1m\u001b[30mhomeowner = 1\u001b[39m, \u001b[30mincome = Unknown\u001b[39m, \u001b[30mcollege_educated = 0\u001b[39m, \u001b[31marea = Rural\u001b[39m\u001b[0m with correctness \u001b[32m0.0000%\u001b[39m.\n",
      "\t\t\u001b[1mAggregate cost\u001b[0m of the above recourses = \u001b[35m0.0\u001b[39m\n",
      "If \u001b[1mhomeowner = 1, income = Unknown, college_educated = 1, area = Rural\u001b[0m:\n",
      "\tSubgroup '\u001b[1mF\u001b[0m', \u001b[34m4.8631%\u001b[39m covered out of 600135\n",
      "\t\tMake \u001b[1m\u001b[31mhomeowner = 0\u001b[39m, \u001b[31mincome = <100K\u001b[39m, \u001b[30mcollege_educated = 1\u001b[39m, \u001b[31marea = Unknown\u001b[39m\u001b[0m with correctness \u001b[32m89.8594%\u001b[39m.\n",
      "\t\tMake \u001b[1m\u001b[30mhomeowner = 1\u001b[39m, \u001b[30mincome = Unknown\u001b[39m, \u001b[31mcollege_educated = 0\u001b[39m, \u001b[30marea = Rural\u001b[39m\u001b[0m with correctness \u001b[32m88.1541%\u001b[39m.\n",
      "\t\t\u001b[1mAggregate cost\u001b[0m of the above recourses = \u001b[35m1.78866\u001b[39m\n",
      "\tSubgroup '\u001b[1mM\u001b[0m', \u001b[34m4.4228%\u001b[39m covered out of 314181\n",
      "\t\tMake \u001b[1m\u001b[31mhomeowner = 0\u001b[39m, \u001b[31mincome = <100K\u001b[39m, \u001b[30mcollege_educated = 1\u001b[39m, \u001b[31marea = Unknown\u001b[39m\u001b[0m with correctness \u001b[32m0.0000%\u001b[39m.\n",
      "\t\tMake \u001b[1m\u001b[30mhomeowner = 1\u001b[39m, \u001b[30mincome = Unknown\u001b[39m, \u001b[31mcollege_educated = 0\u001b[39m, \u001b[30marea = Rural\u001b[39m\u001b[0m with correctness \u001b[32m0.0000%\u001b[39m.\n",
      "\t\t\u001b[1mAggregate cost\u001b[0m of the above recourses = \u001b[35m0.0\u001b[39m\n",
      "\n"
     ]
    }
   ],
   "source": [
    "print(recourse_report_reverse(\n",
    "    lib2.filter_contained_rules(top),\n",
    "    population_sizes = {\"M\": (ad_conversion_dataset.gender == \"M\").sum(), \"F\": (ad_conversion_dataset.gender == \"F\").sum()},\n",
    "    missing_subgroup_val=\"Unknown\",\n",
    "    subgroup_costs=lib2.calculate_all_if_subgroup_costs(list(top.keys()), list(top.values()))\n",
    "))"
   ]
  },
  {
   "cell_type": "markdown",
   "id": "be1754a8-cea9-4dc1-8c1f-ec39c9f1f0b0",
   "metadata": {},
   "source": [
    "Then, we filter all rules, and then pick the top."
   ]
  },
  {
   "cell_type": "code",
   "execution_count": 28,
   "id": "334d74ec-3961-4524-aa9b-df7edb22246f",
   "metadata": {},
   "outputs": [
    {
     "name": "stdout",
     "output_type": "stream",
     "text": [
      "If \u001b[1mhomeowner = 1, income = Unknown, college_educated = 0, area = Unknown\u001b[0m:\n",
      "\tSubgroup '\u001b[1mF\u001b[0m', \u001b[34m3.8692%\u001b[39m covered out of 600135\n",
      "\t\tMake \u001b[1m\u001b[31mhomeowner = 0\u001b[39m, \u001b[31mincome = <100K\u001b[39m, \u001b[31mcollege_educated = 1\u001b[39m, \u001b[30marea = Unknown\u001b[39m\u001b[0m with correctness \u001b[32m89.9542%\u001b[39m.\n",
      "\t\tMake \u001b[1m\u001b[30mhomeowner = 1\u001b[39m, \u001b[30mincome = Unknown\u001b[39m, \u001b[30mcollege_educated = 0\u001b[39m, \u001b[31marea = Rural\u001b[39m\u001b[0m with correctness \u001b[32m88.1054%\u001b[39m.\n",
      "\t\t\u001b[1mAggregate cost\u001b[0m of the above recourses = \u001b[35m1.78984\u001b[39m\n",
      "\tSubgroup '\u001b[1mM\u001b[0m', \u001b[34m3.4554%\u001b[39m covered out of 314181\n",
      "\t\tMake \u001b[1m\u001b[31mhomeowner = 0\u001b[39m, \u001b[31mincome = <100K\u001b[39m, \u001b[31mcollege_educated = 1\u001b[39m, \u001b[30marea = Unknown\u001b[39m\u001b[0m with correctness \u001b[32m0.0000%\u001b[39m.\n",
      "\t\tMake \u001b[1m\u001b[30mhomeowner = 1\u001b[39m, \u001b[30mincome = Unknown\u001b[39m, \u001b[30mcollege_educated = 0\u001b[39m, \u001b[31marea = Rural\u001b[39m\u001b[0m with correctness \u001b[32m0.0000%\u001b[39m.\n",
      "\t\t\u001b[1mAggregate cost\u001b[0m of the above recourses = \u001b[35m0.0\u001b[39m\n",
      "If \u001b[1mhomeowner = 1, income = Unknown, college_educated = 1, area = Rural\u001b[0m:\n",
      "\tSubgroup '\u001b[1mF\u001b[0m', \u001b[34m4.8631%\u001b[39m covered out of 600135\n",
      "\t\tMake \u001b[1m\u001b[31mhomeowner = 0\u001b[39m, \u001b[31mincome = <100K\u001b[39m, \u001b[30mcollege_educated = 1\u001b[39m, \u001b[31marea = Unknown\u001b[39m\u001b[0m with correctness \u001b[32m89.8594%\u001b[39m.\n",
      "\t\tMake \u001b[1m\u001b[30mhomeowner = 1\u001b[39m, \u001b[30mincome = Unknown\u001b[39m, \u001b[31mcollege_educated = 0\u001b[39m, \u001b[30marea = Rural\u001b[39m\u001b[0m with correctness \u001b[32m88.1541%\u001b[39m.\n",
      "\t\t\u001b[1mAggregate cost\u001b[0m of the above recourses = \u001b[35m1.78866\u001b[39m\n",
      "\tSubgroup '\u001b[1mM\u001b[0m', \u001b[34m4.4228%\u001b[39m covered out of 314181\n",
      "\t\tMake \u001b[1m\u001b[31mhomeowner = 0\u001b[39m, \u001b[31mincome = <100K\u001b[39m, \u001b[30mcollege_educated = 1\u001b[39m, \u001b[31marea = Unknown\u001b[39m\u001b[0m with correctness \u001b[32m0.0000%\u001b[39m.\n",
      "\t\tMake \u001b[1m\u001b[30mhomeowner = 1\u001b[39m, \u001b[30mincome = Unknown\u001b[39m, \u001b[31mcollege_educated = 0\u001b[39m, \u001b[30marea = Rural\u001b[39m\u001b[0m with correctness \u001b[32m0.0000%\u001b[39m.\n",
      "\t\t\u001b[1mAggregate cost\u001b[0m of the above recourses = \u001b[35m0.0\u001b[39m\n",
      "If \u001b[1mhomeowner = 1, income = Unknown, college_educated = 1, area = Unknown\u001b[0m:\n",
      "\tSubgroup '\u001b[1mF\u001b[0m', \u001b[34m64.0207%\u001b[39m covered out of 600135\n",
      "\t\tMake \u001b[1m\u001b[31mhomeowner = 0\u001b[39m, \u001b[31mincome = <100K\u001b[39m, \u001b[30mcollege_educated = 1\u001b[39m, \u001b[30marea = Unknown\u001b[39m\u001b[0m with correctness \u001b[32m90.0515%\u001b[39m.\n",
      "\t\tMake \u001b[1m\u001b[30mhomeowner = 1\u001b[39m, \u001b[30mincome = Unknown\u001b[39m, \u001b[31mcollege_educated = 0\u001b[39m, \u001b[31marea = Rural\u001b[39m\u001b[0m with correctness \u001b[32m88.3656%\u001b[39m.\n",
      "\t\t\u001b[1mAggregate cost\u001b[0m of the above recourses = \u001b[35m1.78417\u001b[39m\n",
      "\tSubgroup '\u001b[1mM\u001b[0m', \u001b[34m56.9038%\u001b[39m covered out of 314181\n",
      "\t\tMake \u001b[1m\u001b[31mhomeowner = 0\u001b[39m, \u001b[31mincome = <100K\u001b[39m, \u001b[30mcollege_educated = 1\u001b[39m, \u001b[30marea = Unknown\u001b[39m\u001b[0m with correctness \u001b[32m0.0000%\u001b[39m.\n",
      "\t\tMake \u001b[1m\u001b[30mhomeowner = 1\u001b[39m, \u001b[30mincome = Unknown\u001b[39m, \u001b[31mcollege_educated = 0\u001b[39m, \u001b[31marea = Rural\u001b[39m\u001b[0m with correctness \u001b[32m0.0000%\u001b[39m.\n",
      "\t\t\u001b[1mAggregate cost\u001b[0m of the above recourses = \u001b[35m2.22045e-16\u001b[39m\n",
      "If \u001b[1mhomeowner = 1, income = <100K, college_educated = 1, area = Unknown\u001b[0m:\n",
      "\tSubgroup '\u001b[1mF\u001b[0m', \u001b[34m1.4351%\u001b[39m covered out of 600135\n",
      "\t\tMake \u001b[1m\u001b[31mhomeowner = 0\u001b[39m, \u001b[30mincome = <100K\u001b[39m, \u001b[30mcollege_educated = 1\u001b[39m, \u001b[30marea = Unknown\u001b[39m\u001b[0m with correctness \u001b[32m89.1487%\u001b[39m.\n",
      "\t\tMake \u001b[1m\u001b[30mhomeowner = 1\u001b[39m, \u001b[31mincome = Unknown\u001b[39m, \u001b[31mcollege_educated = 0\u001b[39m, \u001b[31marea = Rural\u001b[39m\u001b[0m with correctness \u001b[32m87.9135%\u001b[39m.\n",
      "\t\t\u001b[1mAggregate cost\u001b[0m of the above recourses = \u001b[35m1.76445\u001b[39m\n",
      "\tSubgroup '\u001b[1mM\u001b[0m', \u001b[34m1.2386%\u001b[39m covered out of 314181\n",
      "\t\tMake \u001b[1m\u001b[31mhomeowner = 0\u001b[39m, \u001b[30mincome = <100K\u001b[39m, \u001b[30mcollege_educated = 1\u001b[39m, \u001b[30marea = Unknown\u001b[39m\u001b[0m with correctness \u001b[32m0.0000%\u001b[39m.\n",
      "\t\tMake \u001b[1m\u001b[30mhomeowner = 1\u001b[39m, \u001b[31mincome = Unknown\u001b[39m, \u001b[31mcollege_educated = 0\u001b[39m, \u001b[31marea = Rural\u001b[39m\u001b[0m with correctness \u001b[32m0.0000%\u001b[39m.\n",
      "\t\t\u001b[1mAggregate cost\u001b[0m of the above recourses = \u001b[35m0.0\u001b[39m\n",
      "If \u001b[1mhomeowner = 1, income = Unknown, area = Unknown\u001b[0m:\n",
      "\tSubgroup '\u001b[1mF\u001b[0m', \u001b[34m67.8899%\u001b[39m covered out of 600135\n",
      "\t\tMake \u001b[1m\u001b[31mhomeowner = 0\u001b[39m, \u001b[31mincome = <100K\u001b[39m, \u001b[30marea = Unknown\u001b[39m\u001b[0m with correctness \u001b[32m90.3434%\u001b[39m.\n",
      "\t\tMake \u001b[1m\u001b[30mhomeowner = 1\u001b[39m, \u001b[30mincome = Unknown\u001b[39m, \u001b[31marea = Rural\u001b[39m\u001b[0m with correctness \u001b[32m5.0213%\u001b[39m.\n",
      "\t\t\u001b[1mAggregate cost\u001b[0m of the above recourses = \u001b[35m0.928541\u001b[39m\n",
      "\tSubgroup '\u001b[1mM\u001b[0m', \u001b[34m60.3593%\u001b[39m covered out of 314181\n",
      "\t\tMake \u001b[1m\u001b[31mhomeowner = 0\u001b[39m, \u001b[31mincome = <100K\u001b[39m, \u001b[30marea = Unknown\u001b[39m\u001b[0m with correctness \u001b[32m5.4669%\u001b[39m.\n",
      "\t\tMake \u001b[1m\u001b[30mhomeowner = 1\u001b[39m, \u001b[30mincome = Unknown\u001b[39m, \u001b[31marea = Rural\u001b[39m\u001b[0m with correctness \u001b[32m0.0000%\u001b[39m.\n",
      "\t\t\u001b[1mAggregate cost\u001b[0m of the above recourses = \u001b[35m0.0546692\u001b[39m\n",
      "If \u001b[1mhomeowner = 1\u001b[0m:\n",
      "\tSubgroup '\u001b[1mF\u001b[0m', \u001b[34m98.5864%\u001b[39m covered out of 600135\n",
      "\t\tMake \u001b[1m\u001b[31mhomeowner = 0\u001b[39m\u001b[0m with correctness \u001b[32m90.6430%\u001b[39m.\n",
      "\t\t\u001b[1mAggregate cost\u001b[0m of the above recourses = \u001b[35m0.90643\u001b[39m\n",
      "\tSubgroup '\u001b[1mM\u001b[0m', \u001b[34m89.2176%\u001b[39m covered out of 314181\n",
      "\t\tMake \u001b[1m\u001b[31mhomeowner = 0\u001b[39m\u001b[0m with correctness \u001b[32m33.0196%\u001b[39m.\n",
      "\t\t\u001b[1mAggregate cost\u001b[0m of the above recourses = \u001b[35m0.330196\u001b[39m\n",
      "If \u001b[1mhomeowner = 1, income = <100K, area = Unknown\u001b[0m:\n",
      "\tSubgroup '\u001b[1mF\u001b[0m', \u001b[34m1.5124%\u001b[39m covered out of 600135\n",
      "\t\tMake \u001b[1m\u001b[31mhomeowner = 0\u001b[39m, \u001b[30mincome = <100K\u001b[39m, \u001b[30marea = Unknown\u001b[39m\u001b[0m with correctness \u001b[32m89.4517%\u001b[39m.\n",
      "\t\tMake \u001b[1m\u001b[30mhomeowner = 1\u001b[39m, \u001b[31mincome = Unknown\u001b[39m, \u001b[31marea = Rural\u001b[39m\u001b[0m with correctness \u001b[32m4.5207%\u001b[39m.\n",
      "\t\t\u001b[1mAggregate cost\u001b[0m of the above recourses = \u001b[35m0.492465\u001b[39m\n",
      "\tSubgroup '\u001b[1mM\u001b[0m', \u001b[34m1.3229%\u001b[39m covered out of 314181\n",
      "\t\tMake \u001b[1m\u001b[31mhomeowner = 0\u001b[39m, \u001b[30mincome = <100K\u001b[39m, \u001b[30marea = Unknown\u001b[39m\u001b[0m with correctness \u001b[32m6.0458%\u001b[39m.\n",
      "\t\tMake \u001b[1m\u001b[30mhomeowner = 1\u001b[39m, \u001b[31mincome = Unknown\u001b[39m, \u001b[31marea = Rural\u001b[39m\u001b[0m with correctness \u001b[32m0.0000%\u001b[39m.\n",
      "\t\t\u001b[1mAggregate cost\u001b[0m of the above recourses = \u001b[35m0.0302288\u001b[39m\n",
      "If \u001b[1mincome = Unknown, college_educated = 1, area = Unknown\u001b[0m:\n",
      "\tSubgroup '\u001b[1mF\u001b[0m', \u001b[34m65.2197%\u001b[39m covered out of 600135\n",
      "\t\tMake \u001b[1m\u001b[31mincome = <100K\u001b[39m, \u001b[30mcollege_educated = 1\u001b[39m, \u001b[30marea = Unknown\u001b[39m\u001b[0m with correctness \u001b[32m0.2980%\u001b[39m.\n",
      "\t\tMake \u001b[1m\u001b[30mincome = Unknown\u001b[39m, \u001b[31mcollege_educated = 0\u001b[39m, \u001b[30marea = Unknown\u001b[39m\u001b[0m with correctness \u001b[32m1.1007%\u001b[39m.\n",
      "\t\tMake \u001b[1m\u001b[30mincome = Unknown\u001b[39m, \u001b[31mcollege_educated = 0\u001b[39m, \u001b[31marea = Rural\u001b[39m\u001b[0m with correctness \u001b[32m88.0912%\u001b[39m.\n",
      "\t\t\u001b[1mAggregate cost\u001b[0m of the above recourses = \u001b[35m0.591937\u001b[39m\n",
      "\tSubgroup '\u001b[1mM\u001b[0m', \u001b[34m66.3158%\u001b[39m covered out of 314181\n",
      "\t\tMake \u001b[1m\u001b[31mincome = <100K\u001b[39m, \u001b[30mcollege_educated = 1\u001b[39m, \u001b[30marea = Unknown\u001b[39m\u001b[0m with correctness \u001b[32m0.0000%\u001b[39m.\n",
      "\t\tMake \u001b[1m\u001b[30mincome = Unknown\u001b[39m, \u001b[31mcollege_educated = 0\u001b[39m, \u001b[30marea = Unknown\u001b[39m\u001b[0m with correctness \u001b[32m12.8643%\u001b[39m.\n",
      "\t\tMake \u001b[1m\u001b[30mincome = Unknown\u001b[39m, \u001b[31mcollege_educated = 0\u001b[39m, \u001b[31marea = Rural\u001b[39m\u001b[0m with correctness \u001b[32m13.5309%\u001b[39m.\n",
      "\t\t\u001b[1mAggregate cost\u001b[0m of the above recourses = \u001b[35m0.133087\u001b[39m\n",
      "If \u001b[1mhomeowner = 1, area = Unknown\u001b[0m:\n",
      "\tSubgroup '\u001b[1mF\u001b[0m', \u001b[34m70.4133%\u001b[39m covered out of 600135\n",
      "\t\tMake \u001b[1m\u001b[31mhomeowner = 0\u001b[39m, \u001b[30marea = Unknown\u001b[39m\u001b[0m with correctness \u001b[32m88.8545%\u001b[39m.\n",
      "\t\tMake \u001b[1m\u001b[30mhomeowner = 1\u001b[39m, \u001b[31marea = Rural\u001b[39m\u001b[0m with correctness \u001b[32m6.3032%\u001b[39m.\n",
      "\t\t\u001b[1mAggregate cost\u001b[0m of the above recourses = \u001b[35m0.475789\u001b[39m\n",
      "\tSubgroup '\u001b[1mM\u001b[0m', \u001b[34m62.5966%\u001b[39m covered out of 314181\n",
      "\t\tMake \u001b[1m\u001b[31mhomeowner = 0\u001b[39m, \u001b[30marea = Unknown\u001b[39m\u001b[0m with correctness \u001b[32m6.5164%\u001b[39m.\n",
      "\t\tMake \u001b[1m\u001b[30mhomeowner = 1\u001b[39m, \u001b[31marea = Rural\u001b[39m\u001b[0m with correctness \u001b[32m1.3917%\u001b[39m.\n",
      "\t\t\u001b[1mAggregate cost\u001b[0m of the above recourses = \u001b[35m0.0395407\u001b[39m\n",
      "If \u001b[1mcollege_educated = 1, area = Unknown\u001b[0m:\n",
      "\tSubgroup '\u001b[1mF\u001b[0m', \u001b[34m67.8216%\u001b[39m covered out of 600135\n",
      "\t\tMake \u001b[1m\u001b[31mcollege_educated = 0\u001b[39m, \u001b[30marea = Unknown\u001b[39m\u001b[0m with correctness \u001b[32m2.4959%\u001b[39m.\n",
      "\t\tMake \u001b[1m\u001b[31mcollege_educated = 0\u001b[39m, \u001b[31marea = Rural\u001b[39m\u001b[0m with correctness \u001b[32m88.1766%\u001b[39m.\n",
      "\t\tMake \u001b[1m\u001b[30mcollege_educated = 1\u001b[39m, \u001b[31marea = Rural\u001b[39m\u001b[0m with correctness \u001b[32m2.5790%\u001b[39m.\n",
      "\t\t\u001b[1mAggregate cost\u001b[0m of the above recourses = \u001b[35m0.60476\u001b[39m\n",
      "\tSubgroup '\u001b[1mM\u001b[0m', \u001b[34m69.7452%\u001b[39m covered out of 314181\n",
      "\t\tMake \u001b[1m\u001b[31mcollege_educated = 0\u001b[39m, \u001b[30marea = Unknown\u001b[39m\u001b[0m with correctness \u001b[32m15.1296%\u001b[39m.\n",
      "\t\tMake \u001b[1m\u001b[31mcollege_educated = 0\u001b[39m, \u001b[31marea = Rural\u001b[39m\u001b[0m with correctness \u001b[32m15.8766%\u001b[39m.\n",
      "\t\tMake \u001b[1m\u001b[30mcollege_educated = 1\u001b[39m, \u001b[31marea = Rural\u001b[39m\u001b[0m with correctness \u001b[32m15.8471%\u001b[39m.\n",
      "\t\t\u001b[1mAggregate cost\u001b[0m of the above recourses = \u001b[35m0.2091\u001b[39m\n",
      "\n"
     ]
    }
   ],
   "source": [
    "rules_max_costdiff_sorted_filtered = lib2.filter_contained_rules(dict(lib2.sort_triples_by_max_costdiff(rules_by_if, params=params)))\n",
    "\n",
    "top = dict(list(rules_max_costdiff_sorted_filtered.items())[:K])\n",
    "print(recourse_report_reverse(\n",
    "    top,\n",
    "    population_sizes = {\"M\": (ad_conversion_dataset.gender == \"M\").sum(), \"F\": (ad_conversion_dataset.gender == \"F\").sum()},\n",
    "    missing_subgroup_val=\"Unknown\",\n",
    "    subgroup_costs=lib2.calculate_all_if_subgroup_costs(list(top.keys()), list(top.values()))\n",
    "))"
   ]
  },
  {
   "cell_type": "markdown",
   "id": "56de65aa-420e-4afc-86a9-b09686cfaaf2",
   "metadata": {},
   "source": [
    "**Comment**: When we filtered only the top K rules, obviously we cannot know how many rules we will get in the final result, as we see in the second cell, where the result has 8 rules, and could, theoretically, have as few as 1 and as many as 10.\n",
    "\n",
    "However, in the last cell, where we filter all rules, we see that some of the rules we had before, even the best ones, are gone! Most probably, what happens here is that a very good rule is subsumed by a not so good rule, because the check for reduncancy is still too simplistic, since we do not take coverage and correctness metrics into account at all.\n",
    "\n",
    "For example, let us examine the if clause **homeowner = 1, college_educated = 1, area = Unknown, age = 25-34**, which before was at the top but now vanished (warning: this assumes you took the saved rules from disk. For new rules, these may not exist)."
   ]
  },
  {
   "cell_type": "code",
   "execution_count": 37,
   "id": "7959aac7-876b-4079-bc73-1d51971d3667",
   "metadata": {},
   "outputs": [
    {
     "name": "stdout",
     "output_type": "stream",
     "text": [
      "If \u001b[1mhomeowner = 1, college_educated = 1, area = Unknown, age = 25-34\u001b[0m:\n",
      "\tSubgroup '\u001b[1mF\u001b[0m', \u001b[34m1.1673%\u001b[39m covered out of 600135\n",
      "\t\tMake \u001b[1m\u001b[30mhomeowner = 1\u001b[39m, \u001b[31mcollege_educated = 0\u001b[39m, \u001b[31marea = Rural\u001b[39m, \u001b[31mage = 55-64\u001b[39m\u001b[0m with correctness \u001b[32m95.6616%\u001b[39m.\n",
      "\tSubgroup '\u001b[1mM\u001b[0m', \u001b[34m1.0527%\u001b[39m covered out of 314181\n",
      "\t\tMake \u001b[1m\u001b[30mhomeowner = 1\u001b[39m, \u001b[31mcollege_educated = 0\u001b[39m, \u001b[31marea = Rural\u001b[39m, \u001b[31mage = 55-64\u001b[39m\u001b[0m with correctness \u001b[32m1.1294%\u001b[39m.\n",
      "\n"
     ]
    }
   ],
   "source": [
    "print(recourse_report_reverse({\n",
    "    lib2.Predicate.from_dict({\"homeowner\": 1, \"college_educated\": 1, \"area\": \"Unknown\", \"age\": \"25-34\"}):\n",
    "    rules_by_if[lib2.Predicate.from_dict({\"homeowner\": 1, \"college_educated\": 1, \"area\": \"Unknown\", \"age\": \"25-34\"})]\n",
    "    },\n",
    "    population_sizes = {\"M\": (ad_conversion_dataset.gender == \"M\").sum(), \"F\": (ad_conversion_dataset.gender == \"F\").sum()}\n",
    "))"
   ]
  },
  {
   "cell_type": "code",
   "execution_count": 34,
   "id": "e5b2180d-d084-48e0-9f19-9fc240293022",
   "metadata": {},
   "outputs": [
    {
     "name": "stdout",
     "output_type": "stream",
     "text": [
      "If \u001b[1mcollege_educated = 1, area = Unknown, age = 25-34\u001b[0m:\n",
      "\tSubgroup '\u001b[1mF\u001b[0m', \u001b[34m1.3718%\u001b[39m covered out of 600135\n",
      "\t\tMake \u001b[1m\u001b[30mcollege_educated = 1\u001b[39m, \u001b[30marea = Unknown\u001b[39m, \u001b[31mage = 55-64\u001b[39m\u001b[0m with correctness \u001b[32m14.1671%\u001b[39m.\n",
      "\t\tMake \u001b[1m\u001b[31mcollege_educated = 0\u001b[39m, \u001b[30marea = Unknown\u001b[39m, \u001b[31mage = 55-64\u001b[39m\u001b[0m with correctness \u001b[32m16.1975%\u001b[39m.\n",
      "\t\tMake \u001b[1m\u001b[31mcollege_educated = 0\u001b[39m, \u001b[31marea = Rural\u001b[39m, \u001b[31mage = 55-64\u001b[39m\u001b[0m with correctness \u001b[32m96.3083%\u001b[39m.\n",
      "\t\tMake \u001b[1m\u001b[30mcollege_educated = 1\u001b[39m, \u001b[31marea = Rural\u001b[39m, \u001b[31mage = 55-64\u001b[39m\u001b[0m with correctness \u001b[32m16.3359%\u001b[39m.\n",
      "\tSubgroup '\u001b[1mM\u001b[0m', \u001b[34m1.2462%\u001b[39m covered out of 314181\n",
      "\t\tMake \u001b[1m\u001b[30mcollege_educated = 1\u001b[39m, \u001b[30marea = Unknown\u001b[39m, \u001b[31mage = 55-64\u001b[39m\u001b[0m with correctness \u001b[32m0.0000%\u001b[39m.\n",
      "\t\tMake \u001b[1m\u001b[31mcollege_educated = 0\u001b[39m, \u001b[30marea = Unknown\u001b[39m, \u001b[31mage = 55-64\u001b[39m\u001b[0m with correctness \u001b[32m15.3513%\u001b[39m.\n",
      "\t\tMake \u001b[1m\u001b[31mcollege_educated = 0\u001b[39m, \u001b[31marea = Rural\u001b[39m, \u001b[31mage = 55-64\u001b[39m\u001b[0m with correctness \u001b[32m16.4788%\u001b[39m.\n",
      "\t\tMake \u001b[1m\u001b[30mcollege_educated = 1\u001b[39m, \u001b[31marea = Rural\u001b[39m, \u001b[31mage = 55-64\u001b[39m\u001b[0m with correctness \u001b[32m16.4788%\u001b[39m.\n",
      "\n"
     ]
    }
   ],
   "source": [
    "print(recourse_report_reverse({\n",
    "    lib2.Predicate.from_dict({\"college_educated\": 1, \"area\": \"Unknown\", \"age\": \"25-34\"}):\n",
    "    rules_by_if[lib2.Predicate.from_dict({\"college_educated\": 1, \"area\": \"Unknown\", \"age\": \"25-34\"})]\n",
    "    },\n",
    "    population_sizes = {\"M\": (ad_conversion_dataset.gender == \"M\").sum(), \"F\": (ad_conversion_dataset.gender == \"F\").sum()}\n",
    "))"
   ]
  },
  {
   "cell_type": "markdown",
   "id": "b5fa4a4a-b148-4d02-a527-4e41174d2cf2",
   "metadata": {},
   "source": [
    "We see that indeed, both rules are pretty good at establishing unfairness, as measured here by the \"average\". However, the first is comparatively much better. But it gets squashed by the second when we try to filter redundant rules. And then the second does not appear in the final result because it is not high enough in the ranking."
   ]
  },
  {
   "cell_type": "markdown",
   "id": "b68eb89f-39e1-4143-93aa-5367b5356b40",
   "metadata": {},
   "source": [
    "## For each if-group, minimum cost of change among thens that surpass a correctness threshold"
   ]
  },
  {
   "cell_type": "code",
   "execution_count": 38,
   "id": "23015685-bd59-4909-a253-1b07c75b547e",
   "metadata": {
    "tags": []
   },
   "outputs": [
    {
     "name": "stdout",
     "output_type": "stream",
     "text": [
      "If \u001b[1mhomeowner = 1\u001b[0m:\n",
      "\tSubgroup '\u001b[1mF\u001b[0m', \u001b[34m98.5864%\u001b[39m covered out of 600135\n",
      "\t\tMake \u001b[1m\u001b[31mhomeowner = 0\u001b[39m\u001b[0m with correctness \u001b[32m90.6430%\u001b[39m.\n",
      "\t\t\u001b[1mAggregate cost\u001b[0m of the above recourses = \u001b[35m1.0\u001b[39m\n",
      "\tSubgroup '\u001b[1mM\u001b[0m', \u001b[34m89.2176%\u001b[39m covered out of 314181\n",
      "\t\tMake \u001b[1m\u001b[31mhomeowner = 0\u001b[39m\u001b[0m with correctness \u001b[32m33.0196%\u001b[39m.\n",
      "\t\t\u001b[1mAggregate cost\u001b[0m of the above recourses = \u001b[35minf\u001b[39m\n",
      "If \u001b[1mhomeowner = 1, age = 55-64\u001b[0m:\n",
      "\tSubgroup '\u001b[1mF\u001b[0m', \u001b[34m92.0502%\u001b[39m covered out of 600135\n",
      "\t\tMake \u001b[1m\u001b[31mhomeowner = 0\u001b[39m, \u001b[30mage = 55-64\u001b[39m\u001b[0m with correctness \u001b[32m96.3771%\u001b[39m.\n",
      "\t\t\u001b[1mAggregate cost\u001b[0m of the above recourses = \u001b[35m1.0\u001b[39m\n",
      "\tSubgroup '\u001b[1mM\u001b[0m', \u001b[34m83.5659%\u001b[39m covered out of 314181\n",
      "\t\tMake \u001b[1m\u001b[31mhomeowner = 0\u001b[39m, \u001b[30mage = 55-64\u001b[39m\u001b[0m with correctness \u001b[32m34.5750%\u001b[39m.\n",
      "\t\t\u001b[1mAggregate cost\u001b[0m of the above recourses = \u001b[35minf\u001b[39m\n",
      "If \u001b[1mhomeowner = 1, area = Unknown\u001b[0m:\n",
      "\tSubgroup '\u001b[1mF\u001b[0m', \u001b[34m70.4133%\u001b[39m covered out of 600135\n",
      "\t\tMake \u001b[1m\u001b[31mhomeowner = 0\u001b[39m, \u001b[30marea = Unknown\u001b[39m\u001b[0m with correctness \u001b[32m88.8545%\u001b[39m.\n",
      "\t\tMake \u001b[1m\u001b[30mhomeowner = 1\u001b[39m, \u001b[31marea = Rural\u001b[39m\u001b[0m with correctness \u001b[32m6.3032%\u001b[39m.\n",
      "\t\t\u001b[1mAggregate cost\u001b[0m of the above recourses = \u001b[35m1.0\u001b[39m\n",
      "\tSubgroup '\u001b[1mM\u001b[0m', \u001b[34m62.5966%\u001b[39m covered out of 314181\n",
      "\t\tMake \u001b[1m\u001b[31mhomeowner = 0\u001b[39m, \u001b[30marea = Unknown\u001b[39m\u001b[0m with correctness \u001b[32m6.5164%\u001b[39m.\n",
      "\t\tMake \u001b[1m\u001b[30mhomeowner = 1\u001b[39m, \u001b[31marea = Rural\u001b[39m\u001b[0m with correctness \u001b[32m1.3917%\u001b[39m.\n",
      "\t\t\u001b[1mAggregate cost\u001b[0m of the above recourses = \u001b[35minf\u001b[39m\n",
      "If \u001b[1mhomeowner = 1, income = Unknown, area = Unknown\u001b[0m:\n",
      "\tSubgroup '\u001b[1mF\u001b[0m', \u001b[34m67.8899%\u001b[39m covered out of 600135\n",
      "\t\tMake \u001b[1m\u001b[31mhomeowner = 0\u001b[39m, \u001b[31mincome = <100K\u001b[39m, \u001b[30marea = Unknown\u001b[39m\u001b[0m with correctness \u001b[32m90.3434%\u001b[39m.\n",
      "\t\tMake \u001b[1m\u001b[30mhomeowner = 1\u001b[39m, \u001b[30mincome = Unknown\u001b[39m, \u001b[31marea = Rural\u001b[39m\u001b[0m with correctness \u001b[32m5.0213%\u001b[39m.\n",
      "\t\t\u001b[1mAggregate cost\u001b[0m of the above recourses = \u001b[35m2.0\u001b[39m\n",
      "\tSubgroup '\u001b[1mM\u001b[0m', \u001b[34m60.3593%\u001b[39m covered out of 314181\n",
      "\t\tMake \u001b[1m\u001b[31mhomeowner = 0\u001b[39m, \u001b[31mincome = <100K\u001b[39m, \u001b[30marea = Unknown\u001b[39m\u001b[0m with correctness \u001b[32m5.4669%\u001b[39m.\n",
      "\t\tMake \u001b[1m\u001b[30mhomeowner = 1\u001b[39m, \u001b[30mincome = Unknown\u001b[39m, \u001b[31marea = Rural\u001b[39m\u001b[0m with correctness \u001b[32m0.0000%\u001b[39m.\n",
      "\t\t\u001b[1mAggregate cost\u001b[0m of the above recourses = \u001b[35minf\u001b[39m\n",
      "If \u001b[1mcollege_educated = 1, area = Unknown\u001b[0m:\n",
      "\tSubgroup '\u001b[1mF\u001b[0m', \u001b[34m67.8216%\u001b[39m covered out of 600135\n",
      "\t\tMake \u001b[1m\u001b[31mcollege_educated = 0\u001b[39m, \u001b[30marea = Unknown\u001b[39m\u001b[0m with correctness \u001b[32m2.4959%\u001b[39m.\n",
      "\t\tMake \u001b[1m\u001b[31mcollege_educated = 0\u001b[39m, \u001b[31marea = Rural\u001b[39m\u001b[0m with correctness \u001b[32m88.1766%\u001b[39m.\n",
      "\t\tMake \u001b[1m\u001b[30mcollege_educated = 1\u001b[39m, \u001b[31marea = Rural\u001b[39m\u001b[0m with correctness \u001b[32m2.5790%\u001b[39m.\n",
      "\t\t\u001b[1mAggregate cost\u001b[0m of the above recourses = \u001b[35m2.0\u001b[39m\n",
      "\tSubgroup '\u001b[1mM\u001b[0m', \u001b[34m69.7452%\u001b[39m covered out of 314181\n",
      "\t\tMake \u001b[1m\u001b[31mcollege_educated = 0\u001b[39m, \u001b[30marea = Unknown\u001b[39m\u001b[0m with correctness \u001b[32m15.1296%\u001b[39m.\n",
      "\t\tMake \u001b[1m\u001b[31mcollege_educated = 0\u001b[39m, \u001b[31marea = Rural\u001b[39m\u001b[0m with correctness \u001b[32m15.8766%\u001b[39m.\n",
      "\t\tMake \u001b[1m\u001b[30mcollege_educated = 1\u001b[39m, \u001b[31marea = Rural\u001b[39m\u001b[0m with correctness \u001b[32m15.8471%\u001b[39m.\n",
      "\t\t\u001b[1mAggregate cost\u001b[0m of the above recourses = \u001b[35minf\u001b[39m\n",
      "If \u001b[1mhomeowner = 1, college_educated = 1, area = Unknown\u001b[0m:\n",
      "\tSubgroup '\u001b[1mF\u001b[0m', \u001b[34m66.4605%\u001b[39m covered out of 600135\n",
      "\t\tMake \u001b[1m\u001b[30mhomeowner = 1\u001b[39m, \u001b[31mcollege_educated = 0\u001b[39m, \u001b[31marea = Rural\u001b[39m\u001b[0m with correctness \u001b[32m88.5060%\u001b[39m.\n",
      "\t\t\u001b[1mAggregate cost\u001b[0m of the above recourses = \u001b[35m2.0\u001b[39m\n",
      "\tSubgroup '\u001b[1mM\u001b[0m', \u001b[34m59.0471%\u001b[39m covered out of 314181\n",
      "\t\tMake \u001b[1m\u001b[30mhomeowner = 1\u001b[39m, \u001b[31mcollege_educated = 0\u001b[39m, \u001b[31marea = Rural\u001b[39m\u001b[0m with correctness \u001b[32m1.4662%\u001b[39m.\n",
      "\t\t\u001b[1mAggregate cost\u001b[0m of the above recourses = \u001b[35minf\u001b[39m\n",
      "If \u001b[1mincome = Unknown, college_educated = 1, area = Unknown\u001b[0m:\n",
      "\tSubgroup '\u001b[1mF\u001b[0m', \u001b[34m65.2197%\u001b[39m covered out of 600135\n",
      "\t\tMake \u001b[1m\u001b[31mincome = <100K\u001b[39m, \u001b[30mcollege_educated = 1\u001b[39m, \u001b[30marea = Unknown\u001b[39m\u001b[0m with correctness \u001b[32m0.2980%\u001b[39m.\n",
      "\t\tMake \u001b[1m\u001b[30mincome = Unknown\u001b[39m, \u001b[31mcollege_educated = 0\u001b[39m, \u001b[30marea = Unknown\u001b[39m\u001b[0m with correctness \u001b[32m1.1007%\u001b[39m.\n",
      "\t\tMake \u001b[1m\u001b[30mincome = Unknown\u001b[39m, \u001b[31mcollege_educated = 0\u001b[39m, \u001b[31marea = Rural\u001b[39m\u001b[0m with correctness \u001b[32m88.0912%\u001b[39m.\n",
      "\t\t\u001b[1mAggregate cost\u001b[0m of the above recourses = \u001b[35m2.0\u001b[39m\n",
      "\tSubgroup '\u001b[1mM\u001b[0m', \u001b[34m66.3158%\u001b[39m covered out of 314181\n",
      "\t\tMake \u001b[1m\u001b[31mincome = <100K\u001b[39m, \u001b[30mcollege_educated = 1\u001b[39m, \u001b[30marea = Unknown\u001b[39m\u001b[0m with correctness \u001b[32m0.0000%\u001b[39m.\n",
      "\t\tMake \u001b[1m\u001b[30mincome = Unknown\u001b[39m, \u001b[31mcollege_educated = 0\u001b[39m, \u001b[30marea = Unknown\u001b[39m\u001b[0m with correctness \u001b[32m12.8643%\u001b[39m.\n",
      "\t\tMake \u001b[1m\u001b[30mincome = Unknown\u001b[39m, \u001b[31mcollege_educated = 0\u001b[39m, \u001b[31marea = Rural\u001b[39m\u001b[0m with correctness \u001b[32m13.5309%\u001b[39m.\n",
      "\t\t\u001b[1mAggregate cost\u001b[0m of the above recourses = \u001b[35minf\u001b[39m\n",
      "If \u001b[1mhomeowner = 1, income = Unknown, college_educated = 1, area = Unknown\u001b[0m:\n",
      "\tSubgroup '\u001b[1mF\u001b[0m', \u001b[34m64.0207%\u001b[39m covered out of 600135\n",
      "\t\tMake \u001b[1m\u001b[31mhomeowner = 0\u001b[39m, \u001b[31mincome = <100K\u001b[39m, \u001b[30mcollege_educated = 1\u001b[39m, \u001b[30marea = Unknown\u001b[39m\u001b[0m with correctness \u001b[32m90.0515%\u001b[39m.\n",
      "\t\tMake \u001b[1m\u001b[30mhomeowner = 1\u001b[39m, \u001b[30mincome = Unknown\u001b[39m, \u001b[31mcollege_educated = 0\u001b[39m, \u001b[31marea = Rural\u001b[39m\u001b[0m with correctness \u001b[32m88.3656%\u001b[39m.\n",
      "\t\t\u001b[1mAggregate cost\u001b[0m of the above recourses = \u001b[35m2.0\u001b[39m\n",
      "\tSubgroup '\u001b[1mM\u001b[0m', \u001b[34m56.9038%\u001b[39m covered out of 314181\n",
      "\t\tMake \u001b[1m\u001b[31mhomeowner = 0\u001b[39m, \u001b[31mincome = <100K\u001b[39m, \u001b[30mcollege_educated = 1\u001b[39m, \u001b[30marea = Unknown\u001b[39m\u001b[0m with correctness \u001b[32m0.0000%\u001b[39m.\n",
      "\t\tMake \u001b[1m\u001b[30mhomeowner = 1\u001b[39m, \u001b[30mincome = Unknown\u001b[39m, \u001b[31mcollege_educated = 0\u001b[39m, \u001b[31marea = Rural\u001b[39m\u001b[0m with correctness \u001b[32m0.0000%\u001b[39m.\n",
      "\t\t\u001b[1mAggregate cost\u001b[0m of the above recourses = \u001b[35minf\u001b[39m\n",
      "If \u001b[1mparents = 1, college_educated = 1, area = Unknown\u001b[0m:\n",
      "\tSubgroup '\u001b[1mF\u001b[0m', \u001b[34m63.5903%\u001b[39m covered out of 600135\n",
      "\t\tMake \u001b[1m\u001b[30mparents = 1\u001b[39m, \u001b[31mcollege_educated = 0\u001b[39m, \u001b[30marea = Unknown\u001b[39m\u001b[0m with correctness \u001b[32m1.7322%\u001b[39m.\n",
      "\t\tMake \u001b[1m\u001b[30mparents = 1\u001b[39m, \u001b[31mcollege_educated = 0\u001b[39m, \u001b[31marea = Rural\u001b[39m\u001b[0m with correctness \u001b[32m93.0245%\u001b[39m.\n",
      "\t\tMake \u001b[1m\u001b[30mparents = 1\u001b[39m, \u001b[30mcollege_educated = 1\u001b[39m, \u001b[31marea = Rural\u001b[39m\u001b[0m with correctness \u001b[32m1.7322%\u001b[39m.\n",
      "\t\t\u001b[1mAggregate cost\u001b[0m of the above recourses = \u001b[35m2.0\u001b[39m\n",
      "\tSubgroup '\u001b[1mM\u001b[0m', \u001b[34m65.9645%\u001b[39m covered out of 314181\n",
      "\t\tMake \u001b[1m\u001b[30mparents = 1\u001b[39m, \u001b[31mcollege_educated = 0\u001b[39m, \u001b[30marea = Unknown\u001b[39m\u001b[0m with correctness \u001b[32m15.9034%\u001b[39m.\n",
      "\t\tMake \u001b[1m\u001b[30mparents = 1\u001b[39m, \u001b[31mcollege_educated = 0\u001b[39m, \u001b[31marea = Rural\u001b[39m\u001b[0m with correctness \u001b[32m15.9493%\u001b[39m.\n",
      "\t\tMake \u001b[1m\u001b[30mparents = 1\u001b[39m, \u001b[30mcollege_educated = 1\u001b[39m, \u001b[31marea = Rural\u001b[39m\u001b[0m with correctness \u001b[32m15.9181%\u001b[39m.\n",
      "\t\t\u001b[1mAggregate cost\u001b[0m of the above recourses = \u001b[35minf\u001b[39m\n",
      "If \u001b[1mhomeowner = 1, income = Unknown, area = Unknown, age = 55-64\u001b[0m:\n",
      "\tSubgroup '\u001b[1mF\u001b[0m', \u001b[34m63.4390%\u001b[39m covered out of 600135\n",
      "\t\tMake \u001b[1m\u001b[31mhomeowner = 0\u001b[39m, \u001b[31mincome = <100K\u001b[39m, \u001b[30marea = Unknown\u001b[39m, \u001b[30mage = 55-64\u001b[39m\u001b[0m with correctness \u001b[32m94.8619%\u001b[39m.\n",
      "\t\tMake \u001b[1m\u001b[30mhomeowner = 1\u001b[39m, \u001b[30mincome = Unknown\u001b[39m, \u001b[31marea = Rural\u001b[39m, \u001b[30mage = 55-64\u001b[39m\u001b[0m with correctness \u001b[32m5.3736%\u001b[39m.\n",
      "\t\t\u001b[1mAggregate cost\u001b[0m of the above recourses = \u001b[35m2.0\u001b[39m\n",
      "\tSubgroup '\u001b[1mM\u001b[0m', \u001b[34m56.5926%\u001b[39m covered out of 314181\n",
      "\t\tMake \u001b[1m\u001b[31mhomeowner = 0\u001b[39m, \u001b[31mincome = <100K\u001b[39m, \u001b[30marea = Unknown\u001b[39m, \u001b[30mage = 55-64\u001b[39m\u001b[0m with correctness \u001b[32m5.7257%\u001b[39m.\n",
      "\t\tMake \u001b[1m\u001b[30mhomeowner = 1\u001b[39m, \u001b[30mincome = Unknown\u001b[39m, \u001b[31marea = Rural\u001b[39m, \u001b[30mage = 55-64\u001b[39m\u001b[0m with correctness \u001b[32m0.0000%\u001b[39m.\n",
      "\t\t\u001b[1mAggregate cost\u001b[0m of the above recourses = \u001b[35minf\u001b[39m\n",
      "\n"
     ]
    }
   ],
   "source": [
    "rules_max_costdiff_sorted = lib2.sort_triples_by_max_costdiff_ignore_nans(\n",
    "    rules_by_if,\n",
    "    params=params,\n",
    "    group_calculator=lib2.if_group_cost_max_change_correctness_threshold,\n",
    "    cor_thres=0.5\n",
    ")\n",
    "\n",
    "pop_sizes = {sg: (ad_conversion_dataset[\"gender\"] == sg).sum() for sg in ad_conversion_dataset[\"gender\"].unique()}\n",
    "top = dict(rules_max_costdiff_sorted[:K])\n",
    "print(recourse_report_reverse(\n",
    "    top,\n",
    "    population_sizes = pop_sizes,\n",
    "    subgroup_costs=lib2.calculate_all_if_subgroup_costs(\n",
    "        list(top.keys()),\n",
    "        list(top.values()),\n",
    "        group_calculator=lib2.if_group_cost_max_change_correctness_threshold,\n",
    "        cor_thres=0.5\n",
    "    )\n",
    "))"
   ]
  },
  {
   "cell_type": "markdown",
   "id": "b9e54531-616c-4a0a-ba5e-efc32b0f7df5",
   "metadata": {},
   "source": [
    "Now the pruned rules."
   ]
  },
  {
   "cell_type": "code",
   "execution_count": 39,
   "id": "fa73af3a-b59c-479c-860b-77ea88e6fc02",
   "metadata": {},
   "outputs": [
    {
     "name": "stdout",
     "output_type": "stream",
     "text": [
      "If \u001b[1mhomeowner = 1\u001b[0m:\n",
      "\tSubgroup '\u001b[1mF\u001b[0m', \u001b[34m98.5864%\u001b[39m covered out of 600135\n",
      "\t\tMake \u001b[1m\u001b[31mhomeowner = 0\u001b[39m\u001b[0m with correctness \u001b[32m90.6430%\u001b[39m.\n",
      "\t\t\u001b[1mAggregate cost\u001b[0m of the above recourses = \u001b[35m0.90643\u001b[39m\n",
      "\tSubgroup '\u001b[1mM\u001b[0m', \u001b[34m89.2176%\u001b[39m covered out of 314181\n",
      "\t\tMake \u001b[1m\u001b[31mhomeowner = 0\u001b[39m\u001b[0m with correctness \u001b[32m33.0196%\u001b[39m.\n",
      "\t\t\u001b[1mAggregate cost\u001b[0m of the above recourses = \u001b[35m0.330196\u001b[39m\n",
      "If \u001b[1mhomeowner = 1, area = Unknown\u001b[0m:\n",
      "\tSubgroup '\u001b[1mF\u001b[0m', \u001b[34m70.4133%\u001b[39m covered out of 600135\n",
      "\t\tMake \u001b[1m\u001b[31mhomeowner = 0\u001b[39m, \u001b[30marea = Unknown\u001b[39m\u001b[0m with correctness \u001b[32m88.8545%\u001b[39m.\n",
      "\t\tMake \u001b[1m\u001b[30mhomeowner = 1\u001b[39m, \u001b[31marea = Rural\u001b[39m\u001b[0m with correctness \u001b[32m6.3032%\u001b[39m.\n",
      "\t\t\u001b[1mAggregate cost\u001b[0m of the above recourses = \u001b[35m0.475789\u001b[39m\n",
      "\tSubgroup '\u001b[1mM\u001b[0m', \u001b[34m62.5966%\u001b[39m covered out of 314181\n",
      "\t\tMake \u001b[1m\u001b[31mhomeowner = 0\u001b[39m, \u001b[30marea = Unknown\u001b[39m\u001b[0m with correctness \u001b[32m6.5164%\u001b[39m.\n",
      "\t\tMake \u001b[1m\u001b[30mhomeowner = 1\u001b[39m, \u001b[31marea = Rural\u001b[39m\u001b[0m with correctness \u001b[32m1.3917%\u001b[39m.\n",
      "\t\t\u001b[1mAggregate cost\u001b[0m of the above recourses = \u001b[35m0.0395407\u001b[39m\n",
      "If \u001b[1mhomeowner = 1, income = Unknown, area = Unknown\u001b[0m:\n",
      "\tSubgroup '\u001b[1mF\u001b[0m', \u001b[34m67.8899%\u001b[39m covered out of 600135\n",
      "\t\tMake \u001b[1m\u001b[31mhomeowner = 0\u001b[39m, \u001b[31mincome = <100K\u001b[39m, \u001b[30marea = Unknown\u001b[39m\u001b[0m with correctness \u001b[32m90.3434%\u001b[39m.\n",
      "\t\tMake \u001b[1m\u001b[30mhomeowner = 1\u001b[39m, \u001b[30mincome = Unknown\u001b[39m, \u001b[31marea = Rural\u001b[39m\u001b[0m with correctness \u001b[32m5.0213%\u001b[39m.\n",
      "\t\t\u001b[1mAggregate cost\u001b[0m of the above recourses = \u001b[35m0.928541\u001b[39m\n",
      "\tSubgroup '\u001b[1mM\u001b[0m', \u001b[34m60.3593%\u001b[39m covered out of 314181\n",
      "\t\tMake \u001b[1m\u001b[31mhomeowner = 0\u001b[39m, \u001b[31mincome = <100K\u001b[39m, \u001b[30marea = Unknown\u001b[39m\u001b[0m with correctness \u001b[32m5.4669%\u001b[39m.\n",
      "\t\tMake \u001b[1m\u001b[30mhomeowner = 1\u001b[39m, \u001b[30mincome = Unknown\u001b[39m, \u001b[31marea = Rural\u001b[39m\u001b[0m with correctness \u001b[32m0.0000%\u001b[39m.\n",
      "\t\t\u001b[1mAggregate cost\u001b[0m of the above recourses = \u001b[35m0.0546692\u001b[39m\n",
      "If \u001b[1mcollege_educated = 1, area = Unknown\u001b[0m:\n",
      "\tSubgroup '\u001b[1mF\u001b[0m', \u001b[34m67.8216%\u001b[39m covered out of 600135\n",
      "\t\tMake \u001b[1m\u001b[31mcollege_educated = 0\u001b[39m, \u001b[30marea = Unknown\u001b[39m\u001b[0m with correctness \u001b[32m2.4959%\u001b[39m.\n",
      "\t\tMake \u001b[1m\u001b[31mcollege_educated = 0\u001b[39m, \u001b[31marea = Rural\u001b[39m\u001b[0m with correctness \u001b[32m88.1766%\u001b[39m.\n",
      "\t\tMake \u001b[1m\u001b[30mcollege_educated = 1\u001b[39m, \u001b[31marea = Rural\u001b[39m\u001b[0m with correctness \u001b[32m2.5790%\u001b[39m.\n",
      "\t\t\u001b[1mAggregate cost\u001b[0m of the above recourses = \u001b[35m0.60476\u001b[39m\n",
      "\tSubgroup '\u001b[1mM\u001b[0m', \u001b[34m69.7452%\u001b[39m covered out of 314181\n",
      "\t\tMake \u001b[1m\u001b[31mcollege_educated = 0\u001b[39m, \u001b[30marea = Unknown\u001b[39m\u001b[0m with correctness \u001b[32m15.1296%\u001b[39m.\n",
      "\t\tMake \u001b[1m\u001b[31mcollege_educated = 0\u001b[39m, \u001b[31marea = Rural\u001b[39m\u001b[0m with correctness \u001b[32m15.8766%\u001b[39m.\n",
      "\t\tMake \u001b[1m\u001b[30mcollege_educated = 1\u001b[39m, \u001b[31marea = Rural\u001b[39m\u001b[0m with correctness \u001b[32m15.8471%\u001b[39m.\n",
      "\t\t\u001b[1mAggregate cost\u001b[0m of the above recourses = \u001b[35m0.2091\u001b[39m\n",
      "If \u001b[1mincome = Unknown, college_educated = 1, area = Unknown\u001b[0m:\n",
      "\tSubgroup '\u001b[1mF\u001b[0m', \u001b[34m65.2197%\u001b[39m covered out of 600135\n",
      "\t\tMake \u001b[1m\u001b[31mincome = <100K\u001b[39m, \u001b[30mcollege_educated = 1\u001b[39m, \u001b[30marea = Unknown\u001b[39m\u001b[0m with correctness \u001b[32m0.2980%\u001b[39m.\n",
      "\t\tMake \u001b[1m\u001b[30mincome = Unknown\u001b[39m, \u001b[31mcollege_educated = 0\u001b[39m, \u001b[30marea = Unknown\u001b[39m\u001b[0m with correctness \u001b[32m1.1007%\u001b[39m.\n",
      "\t\tMake \u001b[1m\u001b[30mincome = Unknown\u001b[39m, \u001b[31mcollege_educated = 0\u001b[39m, \u001b[31marea = Rural\u001b[39m\u001b[0m with correctness \u001b[32m88.0912%\u001b[39m.\n",
      "\t\t\u001b[1mAggregate cost\u001b[0m of the above recourses = \u001b[35m0.591937\u001b[39m\n",
      "\tSubgroup '\u001b[1mM\u001b[0m', \u001b[34m66.3158%\u001b[39m covered out of 314181\n",
      "\t\tMake \u001b[1m\u001b[31mincome = <100K\u001b[39m, \u001b[30mcollege_educated = 1\u001b[39m, \u001b[30marea = Unknown\u001b[39m\u001b[0m with correctness \u001b[32m0.0000%\u001b[39m.\n",
      "\t\tMake \u001b[1m\u001b[30mincome = Unknown\u001b[39m, \u001b[31mcollege_educated = 0\u001b[39m, \u001b[30marea = Unknown\u001b[39m\u001b[0m with correctness \u001b[32m12.8643%\u001b[39m.\n",
      "\t\tMake \u001b[1m\u001b[30mincome = Unknown\u001b[39m, \u001b[31mcollege_educated = 0\u001b[39m, \u001b[31marea = Rural\u001b[39m\u001b[0m with correctness \u001b[32m13.5309%\u001b[39m.\n",
      "\t\t\u001b[1mAggregate cost\u001b[0m of the above recourses = \u001b[35m0.133087\u001b[39m\n",
      "If \u001b[1mhomeowner = 1, income = Unknown, college_educated = 1, area = Unknown\u001b[0m:\n",
      "\tSubgroup '\u001b[1mF\u001b[0m', \u001b[34m64.0207%\u001b[39m covered out of 600135\n",
      "\t\tMake \u001b[1m\u001b[31mhomeowner = 0\u001b[39m, \u001b[31mincome = <100K\u001b[39m, \u001b[30mcollege_educated = 1\u001b[39m, \u001b[30marea = Unknown\u001b[39m\u001b[0m with correctness \u001b[32m90.0515%\u001b[39m.\n",
      "\t\tMake \u001b[1m\u001b[30mhomeowner = 1\u001b[39m, \u001b[30mincome = Unknown\u001b[39m, \u001b[31mcollege_educated = 0\u001b[39m, \u001b[31marea = Rural\u001b[39m\u001b[0m with correctness \u001b[32m88.3656%\u001b[39m.\n",
      "\t\t\u001b[1mAggregate cost\u001b[0m of the above recourses = \u001b[35m1.78417\u001b[39m\n",
      "\tSubgroup '\u001b[1mM\u001b[0m', \u001b[34m56.9038%\u001b[39m covered out of 314181\n",
      "\t\tMake \u001b[1m\u001b[31mhomeowner = 0\u001b[39m, \u001b[31mincome = <100K\u001b[39m, \u001b[30mcollege_educated = 1\u001b[39m, \u001b[30marea = Unknown\u001b[39m\u001b[0m with correctness \u001b[32m0.0000%\u001b[39m.\n",
      "\t\tMake \u001b[1m\u001b[30mhomeowner = 1\u001b[39m, \u001b[30mincome = Unknown\u001b[39m, \u001b[31mcollege_educated = 0\u001b[39m, \u001b[31marea = Rural\u001b[39m\u001b[0m with correctness \u001b[32m0.0000%\u001b[39m.\n",
      "\t\t\u001b[1mAggregate cost\u001b[0m of the above recourses = \u001b[35m2.22045e-16\u001b[39m\n",
      "\n"
     ]
    }
   ],
   "source": [
    "print(recourse_report_reverse(\n",
    "    lib2.filter_contained_rules(top),\n",
    "    population_sizes = {\"M\": (ad_conversion_dataset.gender == \"M\").sum(), \"F\": (ad_conversion_dataset.gender == \"F\").sum()},\n",
    "    missing_subgroup_val=\"Unknown\",\n",
    "    subgroup_costs=lib2.calculate_all_if_subgroup_costs(list(top.keys()), list(top.values()))\n",
    "))"
   ]
  },
  {
   "cell_type": "markdown",
   "id": "1a53fd71-ae5b-4d51-8276-7ffe71f42e07",
   "metadata": {},
   "source": [
    "## For each if-group, minimum cost of change among thens that surpass a correctness threshold\n",
    "\n",
    "Before, when, for a subgroup, there were no thens that surpassed the threshold, the minimum cost of change was valued as infinity, and thus, as it is evident in the results, the algorithm finds many rules for which some groups surpass the threshold and some groups do not (because for those rules the difference between maximum and minimum cost of the subgroups evaluates to infinity).\n",
    "\n",
    "Here, the difference is that we will ignore altogether rules for which the correctness drops below the threshold for all recourses (for some subgroup), considering them as \"empty\"."
   ]
  },
  {
   "cell_type": "code",
   "execution_count": 40,
   "id": "c9013521-7af1-4980-8af0-a9b49871b69c",
   "metadata": {},
   "outputs": [
    {
     "name": "stdout",
     "output_type": "stream",
     "text": [
      "If \u001b[1marea = Urban, homeowner = 1\u001b[0m:\n",
      "\tSubgroup '\u001b[1mF\u001b[0m', \u001b[34m23.2601%\u001b[39m covered out of 600135\n",
      "\t\tMake \u001b[1m\u001b[30marea = Urban\u001b[39m, \u001b[31mhomeowner = 0\u001b[39m\u001b[0m with correctness \u001b[32m95.1800%\u001b[39m.\n",
      "\t\tMake \u001b[1m\u001b[31marea = Rural\u001b[39m, \u001b[31mhomeowner = 0\u001b[39m\u001b[0m with correctness \u001b[32m95.1800%\u001b[39m.\n",
      "\t\t\u001b[1mAggregate cost\u001b[0m of the above recourses = \u001b[35m1.0\u001b[39m\n",
      "\tSubgroup '\u001b[1mM\u001b[0m', \u001b[34m21.9053%\u001b[39m covered out of 314181\n",
      "\t\tMake \u001b[1m\u001b[30marea = Urban\u001b[39m, \u001b[31mhomeowner = 0\u001b[39m\u001b[0m with correctness \u001b[32m95.4310%\u001b[39m.\n",
      "\t\tMake \u001b[1m\u001b[31marea = Rural\u001b[39m, \u001b[31mhomeowner = 0\u001b[39m\u001b[0m with correctness \u001b[32m95.3570%\u001b[39m.\n",
      "\t\t\u001b[1mAggregate cost\u001b[0m of the above recourses = \u001b[35m1.0\u001b[39m\n",
      "If \u001b[1marea = Urban, college_educated = 1, homeowner = 1\u001b[0m:\n",
      "\tSubgroup '\u001b[1mF\u001b[0m', \u001b[34m23.1290%\u001b[39m covered out of 600135\n",
      "\t\tMake \u001b[1m\u001b[30marea = Urban\u001b[39m, \u001b[31mcollege_educated = 0\u001b[39m, \u001b[30mhomeowner = 1\u001b[39m\u001b[0m with correctness \u001b[32m89.9414%\u001b[39m.\n",
      "\t\tMake \u001b[1m\u001b[30marea = Urban\u001b[39m, \u001b[30mcollege_educated = 1\u001b[39m, \u001b[31mhomeowner = 0\u001b[39m\u001b[0m with correctness \u001b[32m95.3197%\u001b[39m.\n",
      "\t\t\u001b[1mAggregate cost\u001b[0m of the above recourses = \u001b[35m1.0\u001b[39m\n",
      "\tSubgroup '\u001b[1mM\u001b[0m', \u001b[34m20.6667%\u001b[39m covered out of 314181\n",
      "\t\tMake \u001b[1m\u001b[30marea = Urban\u001b[39m, \u001b[30mcollege_educated = 1\u001b[39m, \u001b[31mhomeowner = 0\u001b[39m\u001b[0m with correctness \u001b[32m95.3245%\u001b[39m.\n",
      "\t\t\u001b[1mAggregate cost\u001b[0m of the above recourses = \u001b[35m1.0\u001b[39m\n",
      "If \u001b[1marea = Urban, income = Unknown\u001b[0m:\n",
      "\tSubgroup '\u001b[1mF\u001b[0m', \u001b[34m23.1126%\u001b[39m covered out of 600135\n",
      "\t\tMake \u001b[1m\u001b[30marea = Urban\u001b[39m, \u001b[31mincome = >100K\u001b[39m\u001b[0m with correctness \u001b[32m95.1904%\u001b[39m.\n",
      "\t\t\u001b[1mAggregate cost\u001b[0m of the above recourses = \u001b[35m1.0\u001b[39m\n",
      "\tSubgroup '\u001b[1mM\u001b[0m', \u001b[34m21.7529%\u001b[39m covered out of 314181\n",
      "\t\tMake \u001b[1m\u001b[30marea = Urban\u001b[39m, \u001b[31mincome = >100K\u001b[39m\u001b[0m with correctness \u001b[32m95.3841%\u001b[39m.\n",
      "\t\t\u001b[1mAggregate cost\u001b[0m of the above recourses = \u001b[35m1.0\u001b[39m\n",
      "If \u001b[1marea = Urban, income = Unknown, homeowner = 1\u001b[0m:\n",
      "\tSubgroup '\u001b[1mF\u001b[0m', \u001b[34m23.1043%\u001b[39m covered out of 600135\n",
      "\t\tMake \u001b[1m\u001b[30marea = Urban\u001b[39m, \u001b[30mincome = Unknown\u001b[39m, \u001b[31mhomeowner = 0\u001b[39m\u001b[0m with correctness \u001b[32m95.2106%\u001b[39m.\n",
      "\t\t\u001b[1mAggregate cost\u001b[0m of the above recourses = \u001b[35m1.0\u001b[39m\n",
      "\tSubgroup '\u001b[1mM\u001b[0m', \u001b[34m21.7464%\u001b[39m covered out of 314181\n",
      "\t\tMake \u001b[1m\u001b[30marea = Urban\u001b[39m, \u001b[30mincome = Unknown\u001b[39m, \u001b[31mhomeowner = 0\u001b[39m\u001b[0m with correctness \u001b[32m95.4622%\u001b[39m.\n",
      "\t\t\u001b[1mAggregate cost\u001b[0m of the above recourses = \u001b[35m1.0\u001b[39m\n",
      "If \u001b[1marea = Urban, income = Unknown, college_educated = 1, homeowner = 1\u001b[0m:\n",
      "\tSubgroup '\u001b[1mF\u001b[0m', \u001b[34m22.9739%\u001b[39m covered out of 600135\n",
      "\t\tMake \u001b[1m\u001b[30marea = Urban\u001b[39m, \u001b[30mincome = Unknown\u001b[39m, \u001b[31mcollege_educated = 0\u001b[39m, \u001b[30mhomeowner = 1\u001b[39m\u001b[0m with correctness \u001b[32m89.9810%\u001b[39m.\n",
      "\t\tMake \u001b[1m\u001b[30marea = Urban\u001b[39m, \u001b[30mincome = Unknown\u001b[39m, \u001b[30mcollege_educated = 1\u001b[39m, \u001b[31mhomeowner = 0\u001b[39m\u001b[0m with correctness \u001b[32m95.3515%\u001b[39m.\n",
      "\t\t\u001b[1mAggregate cost\u001b[0m of the above recourses = \u001b[35m1.0\u001b[39m\n",
      "\tSubgroup '\u001b[1mM\u001b[0m', \u001b[34m20.5110%\u001b[39m covered out of 314181\n",
      "\t\tMake \u001b[1m\u001b[30marea = Urban\u001b[39m, \u001b[30mincome = Unknown\u001b[39m, \u001b[30mcollege_educated = 1\u001b[39m, \u001b[31mhomeowner = 0\u001b[39m\u001b[0m with correctness \u001b[32m95.3470%\u001b[39m.\n",
      "\t\t\u001b[1mAggregate cost\u001b[0m of the above recourses = \u001b[35m1.0\u001b[39m\n",
      "If \u001b[1marea = Urban, parents = 1, homeowner = 1\u001b[0m:\n",
      "\tSubgroup '\u001b[1mF\u001b[0m', \u001b[34m21.8921%\u001b[39m covered out of 600135\n",
      "\t\tMake \u001b[1m\u001b[30marea = Urban\u001b[39m, \u001b[30mparents = 1\u001b[39m, \u001b[31mhomeowner = 0\u001b[39m\u001b[0m with correctness \u001b[32m95.1275%\u001b[39m.\n",
      "\t\t\u001b[1mAggregate cost\u001b[0m of the above recourses = \u001b[35m1.0\u001b[39m\n",
      "\tSubgroup '\u001b[1mM\u001b[0m', \u001b[34m20.7045%\u001b[39m covered out of 314181\n",
      "\t\tMake \u001b[1m\u001b[30marea = Urban\u001b[39m, \u001b[30mparents = 1\u001b[39m, \u001b[31mhomeowner = 0\u001b[39m\u001b[0m with correctness \u001b[32m95.4479%\u001b[39m.\n",
      "\t\t\u001b[1mAggregate cost\u001b[0m of the above recourses = \u001b[35m1.0\u001b[39m\n",
      "If \u001b[1marea = Urban, parents = 1, college_educated = 1, homeowner = 1\u001b[0m:\n",
      "\tSubgroup '\u001b[1mF\u001b[0m', \u001b[34m21.8344%\u001b[39m covered out of 600135\n",
      "\t\tMake \u001b[1m\u001b[30marea = Urban\u001b[39m, \u001b[30mparents = 1\u001b[39m, \u001b[31mcollege_educated = 0\u001b[39m, \u001b[30mhomeowner = 1\u001b[39m\u001b[0m with correctness \u001b[32m95.2741%\u001b[39m.\n",
      "\t\tMake \u001b[1m\u001b[30marea = Urban\u001b[39m, \u001b[30mparents = 1\u001b[39m, \u001b[30mcollege_educated = 1\u001b[39m, \u001b[31mhomeowner = 0\u001b[39m\u001b[0m with correctness \u001b[32m95.2741%\u001b[39m.\n",
      "\t\t\u001b[1mAggregate cost\u001b[0m of the above recourses = \u001b[35m1.0\u001b[39m\n",
      "\tSubgroup '\u001b[1mM\u001b[0m', \u001b[34m19.5296%\u001b[39m covered out of 314181\n",
      "\t\tMake \u001b[1m\u001b[30marea = Urban\u001b[39m, \u001b[30mparents = 1\u001b[39m, \u001b[30mcollege_educated = 1\u001b[39m, \u001b[31mhomeowner = 0\u001b[39m\u001b[0m with correctness \u001b[32m95.3346%\u001b[39m.\n",
      "\t\t\u001b[1mAggregate cost\u001b[0m of the above recourses = \u001b[35m1.0\u001b[39m\n",
      "If \u001b[1marea = Urban, income = Unknown, parents = 1, homeowner = 1\u001b[0m:\n",
      "\tSubgroup '\u001b[1mF\u001b[0m', \u001b[34m21.7477%\u001b[39m covered out of 600135\n",
      "\t\tMake \u001b[1m\u001b[30marea = Urban\u001b[39m, \u001b[30mincome = Unknown\u001b[39m, \u001b[30mparents = 1\u001b[39m, \u001b[31mhomeowner = 0\u001b[39m\u001b[0m with correctness \u001b[32m95.1592%\u001b[39m.\n",
      "\t\t\u001b[1mAggregate cost\u001b[0m of the above recourses = \u001b[35m1.0\u001b[39m\n",
      "\tSubgroup '\u001b[1mM\u001b[0m', \u001b[34m20.5510%\u001b[39m covered out of 314181\n",
      "\t\tMake \u001b[1m\u001b[30marea = Urban\u001b[39m, \u001b[30mincome = Unknown\u001b[39m, \u001b[30mparents = 1\u001b[39m, \u001b[31mhomeowner = 0\u001b[39m\u001b[0m with correctness \u001b[32m95.4770%\u001b[39m.\n",
      "\t\t\u001b[1mAggregate cost\u001b[0m of the above recourses = \u001b[35m1.0\u001b[39m\n",
      "If \u001b[1marea = Urban, homeowner = 1, age = 55-64\u001b[0m:\n",
      "\tSubgroup '\u001b[1mF\u001b[0m', \u001b[34m21.7091%\u001b[39m covered out of 600135\n",
      "\t\tMake \u001b[1m\u001b[31marea = Unknown\u001b[39m, \u001b[31mhomeowner = 0\u001b[39m, \u001b[30mage = 55-64\u001b[39m\u001b[0m with correctness \u001b[32m94.3691%\u001b[39m.\n",
      "\t\tMake \u001b[1m\u001b[30marea = Urban\u001b[39m, \u001b[31mhomeowner = 0\u001b[39m, \u001b[30mage = 55-64\u001b[39m\u001b[0m with correctness \u001b[32m100.0000%\u001b[39m.\n",
      "\t\tMake \u001b[1m\u001b[31marea = Rural\u001b[39m, \u001b[31mhomeowner = 0\u001b[39m, \u001b[30mage = 55-64\u001b[39m\u001b[0m with correctness \u001b[32m100.0000%\u001b[39m.\n",
      "\t\t\u001b[1mAggregate cost\u001b[0m of the above recourses = \u001b[35m1.0\u001b[39m\n",
      "\tSubgroup '\u001b[1mM\u001b[0m', \u001b[34m20.5067%\u001b[39m covered out of 314181\n",
      "\t\tMake \u001b[1m\u001b[30marea = Urban\u001b[39m, \u001b[31mhomeowner = 0\u001b[39m, \u001b[30mage = 55-64\u001b[39m\u001b[0m with correctness \u001b[32m100.0000%\u001b[39m.\n",
      "\t\tMake \u001b[1m\u001b[31marea = Rural\u001b[39m, \u001b[31mhomeowner = 0\u001b[39m, \u001b[30mage = 55-64\u001b[39m\u001b[0m with correctness \u001b[32m100.0000%\u001b[39m.\n",
      "\t\t\u001b[1mAggregate cost\u001b[0m of the above recourses = \u001b[35m1.0\u001b[39m\n",
      "If \u001b[1marea = Urban, college_educated = 1, homeowner = 1, age = 55-64\u001b[0m:\n",
      "\tSubgroup '\u001b[1mF\u001b[0m', \u001b[34m21.6407%\u001b[39m covered out of 600135\n",
      "\t\tMake \u001b[1m\u001b[30marea = Urban\u001b[39m, \u001b[31mcollege_educated = 0\u001b[39m, \u001b[30mhomeowner = 1\u001b[39m, \u001b[30mage = 55-64\u001b[39m\u001b[0m with correctness \u001b[32m94.3513%\u001b[39m.\n",
      "\t\tMake \u001b[1m\u001b[30marea = Urban\u001b[39m, \u001b[30mcollege_educated = 1\u001b[39m, \u001b[31mhomeowner = 0\u001b[39m, \u001b[30mage = 55-64\u001b[39m\u001b[0m with correctness \u001b[32m100.0000%\u001b[39m.\n",
      "\t\t\u001b[1mAggregate cost\u001b[0m of the above recourses = \u001b[35m1.0\u001b[39m\n",
      "\tSubgroup '\u001b[1mM\u001b[0m', \u001b[34m19.3405%\u001b[39m covered out of 314181\n",
      "\t\tMake \u001b[1m\u001b[30marea = Urban\u001b[39m, \u001b[30mcollege_educated = 1\u001b[39m, \u001b[31mhomeowner = 0\u001b[39m, \u001b[30mage = 55-64\u001b[39m\u001b[0m with correctness \u001b[32m100.0000%\u001b[39m.\n",
      "\t\t\u001b[1mAggregate cost\u001b[0m of the above recourses = \u001b[35m1.0\u001b[39m\n",
      "\n"
     ]
    }
   ],
   "source": [
    "rules_max_costdiff_sorted = lib2.sort_triples_by_max_costdiff_ignore_nans_infs(\n",
    "    rules_by_if,\n",
    "    params=params,\n",
    "    group_calculator=lib2.if_group_cost_max_change_correctness_threshold,\n",
    "    cor_thres=0.5\n",
    ")\n",
    "\n",
    "pop_sizes = {sg: (ad_conversion_dataset[\"gender\"] == sg).sum() for sg in ad_conversion_dataset[\"gender\"].unique()}\n",
    "top = dict(rules_max_costdiff_sorted[:K])\n",
    "print(recourse_report_reverse(\n",
    "    lib2.filter_by_correctness(top, threshold=0.5),\n",
    "    population_sizes = pop_sizes,\n",
    "    subgroup_costs=lib2.calculate_all_if_subgroup_costs(\n",
    "        list(top.keys()),\n",
    "        list(top.values()),\n",
    "        group_calculator=lib2.if_group_cost_max_change_correctness_threshold,\n",
    "        cor_thres=0.5\n",
    "    )\n",
    "))"
   ]
  },
  {
   "cell_type": "markdown",
   "id": "4d469663-575f-431e-93e7-53637cf51cb1",
   "metadata": {},
   "source": [
    "Now the pruned rules."
   ]
  },
  {
   "cell_type": "code",
   "execution_count": 42,
   "id": "6f91e87f-d6ac-41f9-943a-b7f64d92aa9c",
   "metadata": {},
   "outputs": [
    {
     "name": "stdout",
     "output_type": "stream",
     "text": [
      "If \u001b[1marea = Urban, homeowner = 1\u001b[0m:\n",
      "\tSubgroup '\u001b[1mF\u001b[0m', \u001b[34m23.2601%\u001b[39m covered out of 600135\n",
      "\t\tMake \u001b[1m\u001b[30marea = Urban\u001b[39m, \u001b[31mhomeowner = 0\u001b[39m\u001b[0m with correctness \u001b[32m95.1800%\u001b[39m.\n",
      "\t\tMake \u001b[1m\u001b[31marea = Rural\u001b[39m, \u001b[31mhomeowner = 0\u001b[39m\u001b[0m with correctness \u001b[32m95.1800%\u001b[39m.\n",
      "\t\t\u001b[1mAggregate cost\u001b[0m of the above recourses = \u001b[35m1.4277\u001b[39m\n",
      "\tSubgroup '\u001b[1mM\u001b[0m', \u001b[34m21.9053%\u001b[39m covered out of 314181\n",
      "\t\tMake \u001b[1m\u001b[30marea = Urban\u001b[39m, \u001b[31mhomeowner = 0\u001b[39m\u001b[0m with correctness \u001b[32m95.4310%\u001b[39m.\n",
      "\t\tMake \u001b[1m\u001b[31marea = Rural\u001b[39m, \u001b[31mhomeowner = 0\u001b[39m\u001b[0m with correctness \u001b[32m95.3570%\u001b[39m.\n",
      "\t\t\u001b[1mAggregate cost\u001b[0m of the above recourses = \u001b[35m1.43072\u001b[39m\n",
      "If \u001b[1marea = Urban, college_educated = 1, homeowner = 1\u001b[0m:\n",
      "\tSubgroup '\u001b[1mF\u001b[0m', \u001b[34m23.1290%\u001b[39m covered out of 600135\n",
      "\t\tMake \u001b[1m\u001b[30marea = Urban\u001b[39m, \u001b[31mcollege_educated = 0\u001b[39m, \u001b[30mhomeowner = 1\u001b[39m\u001b[0m with correctness \u001b[32m89.9414%\u001b[39m.\n",
      "\t\tMake \u001b[1m\u001b[30marea = Urban\u001b[39m, \u001b[30mcollege_educated = 1\u001b[39m, \u001b[31mhomeowner = 0\u001b[39m\u001b[0m with correctness \u001b[32m95.3197%\u001b[39m.\n",
      "\t\t\u001b[1mAggregate cost\u001b[0m of the above recourses = \u001b[35m0.926306\u001b[39m\n",
      "\tSubgroup '\u001b[1mM\u001b[0m', \u001b[34m20.6667%\u001b[39m covered out of 314181\n",
      "\t\tMake \u001b[1m\u001b[30marea = Urban\u001b[39m, \u001b[30mcollege_educated = 1\u001b[39m, \u001b[31mhomeowner = 0\u001b[39m\u001b[0m with correctness \u001b[32m95.3245%\u001b[39m.\n",
      "\t\t\u001b[1mAggregate cost\u001b[0m of the above recourses = \u001b[35m0.47997\u001b[39m\n",
      "If \u001b[1marea = Urban, income = Unknown\u001b[0m:\n",
      "\tSubgroup '\u001b[1mF\u001b[0m', \u001b[34m23.1126%\u001b[39m covered out of 600135\n",
      "\t\tMake \u001b[1m\u001b[30marea = Urban\u001b[39m, \u001b[31mincome = >100K\u001b[39m\u001b[0m with correctness \u001b[32m95.1904%\u001b[39m.\n",
      "\t\t\u001b[1mAggregate cost\u001b[0m of the above recourses = \u001b[35m0.951904\u001b[39m\n",
      "\tSubgroup '\u001b[1mM\u001b[0m', \u001b[34m21.7529%\u001b[39m covered out of 314181\n",
      "\t\tMake \u001b[1m\u001b[30marea = Urban\u001b[39m, \u001b[31mincome = >100K\u001b[39m\u001b[0m with correctness \u001b[32m95.3841%\u001b[39m.\n",
      "\t\t\u001b[1mAggregate cost\u001b[0m of the above recourses = \u001b[35m0.953841\u001b[39m\n",
      "\n"
     ]
    }
   ],
   "source": [
    "print(recourse_report_reverse(\n",
    "    lib2.filter_by_correctness(lib2.filter_contained_rules(top), threshold=0.5),\n",
    "    population_sizes = {\"M\": (ad_conversion_dataset.gender == \"M\").sum(), \"F\": (ad_conversion_dataset.gender == \"F\").sum()},\n",
    "    missing_subgroup_val=\"Unknown\",\n",
    "    subgroup_costs=lib2.calculate_all_if_subgroup_costs(list(top.keys()), list(top.values()))\n",
    "))"
   ]
  },
  {
   "cell_type": "markdown",
   "id": "e1b66f6e-9cdf-477e-a924-b6228db92b22",
   "metadata": {},
   "source": [
    "# DEBUG INFO"
   ]
  },
  {
   "cell_type": "code",
   "execution_count": 20,
   "id": "736bd1f6-818a-42e5-8ea0-84584ccf746e",
   "metadata": {},
   "outputs": [
    {
     "data": {
      "text/plain": [
       "inf    340\n",
       "1.0     87\n",
       "2.0     27\n",
       "3.0     12\n",
       "dtype: int64"
      ]
     },
     "execution_count": 20,
     "metadata": {},
     "output_type": "execute_result"
    }
   ],
   "source": [
    "subgroup_costs = lib2.calculate_all_if_subgroup_costs(\n",
    "        list(rules_by_if.keys()),\n",
    "        list(rules_by_if.values()),\n",
    "        group_calculator=lib2.if_group_cost_max_change_correctness_threshold,\n",
    "        cor_thres=0.5\n",
    "    )\n",
    "\n",
    "x = pd.Series([cost for ifc, costs in subgroup_costs.items() for sg, cost in costs.items()])\n",
    "x.value_counts()"
   ]
  },
  {
   "cell_type": "code",
   "execution_count": 21,
   "id": "a766dcd3-47e6-4649-a3df-20f50f839c4c",
   "metadata": {},
   "outputs": [
    {
     "data": {
      "text/plain": [
       "[inf, inf]    131\n",
       "[1, inf]       42\n",
       "[2, inf]       21\n",
       "[1, 1]         20\n",
       "[3, inf]       10\n",
       "[inf, 1]        5\n",
       "[2, 2]          3\n",
       "[3, 3]          1\n",
       "dtype: int64"
      ]
     },
     "execution_count": 21,
     "metadata": {},
     "output_type": "execute_result"
    }
   ],
   "source": [
    "x = pd.Series([[cost for sg, cost in costs.items()] for ifc, costs in subgroup_costs.items()])\n",
    "x.value_counts()"
   ]
  },
  {
   "cell_type": "code",
   "execution_count": null,
   "id": "2f4e7e1a-b911-4d6d-a6bc-ac26d70715cf",
   "metadata": {},
   "outputs": [],
   "source": []
  }
 ],
 "metadata": {
  "kernelspec": {
   "display_name": "Python 3 (ipykernel)",
   "language": "python",
   "name": "python3"
  },
  "language_info": {
   "codemirror_mode": {
    "name": "ipython",
    "version": 3
   },
   "file_extension": ".py",
   "mimetype": "text/x-python",
   "name": "python",
   "nbconvert_exporter": "python",
   "pygments_lexer": "ipython3",
   "version": "3.9.15"
  }
 },
 "nbformat": 4,
 "nbformat_minor": 5
}
