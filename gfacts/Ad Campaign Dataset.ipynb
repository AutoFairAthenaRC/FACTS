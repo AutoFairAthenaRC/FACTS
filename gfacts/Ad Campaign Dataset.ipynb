{
 "cells": [
  {
   "cell_type": "markdown",
   "id": "a4164f0d",
   "metadata": {},
   "source": [
    "## Import libraries"
   ]
  },
  {
   "cell_type": "code",
   "execution_count": 1,
   "id": "50536eb3",
   "metadata": {
    "tags": []
   },
   "outputs": [],
   "source": [
    "import pandas as pd\n",
    "import numpy as np\n",
    "from pprint import pprint\n",
    "\n",
    "from sklearn.model_selection import train_test_split\n",
    "from sklearn.metrics import classification_report, confusion_matrix, ConfusionMatrixDisplay\n",
    "\n",
    "import gfacts\n",
    "from gfacts import valid_ifthens_with_coverage_correctness, rules2rulesbyif\n",
    "from gfacts.models import customLogisticRegression\n",
    "from gfacts.parameters import ParameterProxy\n",
    "from gfacts.formatting import recourse_report_reverse\n",
    "\n",
    "import matplotlib.pyplot as plt"
   ]
  },
  {
   "cell_type": "code",
   "execution_count": 2,
   "id": "99fb977c",
   "metadata": {
    "tags": []
   },
   "outputs": [],
   "source": [
    "DATAFILE = '../ad_campaign_data.csv' # location of dataset\n",
    "random_state = None # change to something for exactly reproducible results\n",
    "\n",
    "# as selected in \"tutorial_bias_advertising\" notebook\n",
    "selected_features = ['gender', 'parents', 'age', 'income', 'area', 'college_educated', 'homeowner']\n",
    "cate_features = ['gender', 'parents', 'age', 'income', 'area', 'college_educated']\n",
    "num_features = ['homeowner']\n",
    "\n",
    "# if not specified, set to 1\n",
    "feature_weights = {\"gender\": 1, \"parents\": 1, \"age\": 1}\n",
    "\n",
    "target_name = \"true_conversion\"\n",
    "positive_label = 1\n",
    "negative_label = 0\n",
    "\n",
    "model_train_fraction = 0.7\n",
    "learning_class_weights = {0: 0.5, 1: 265}\n",
    "\n",
    "sensitive_attribute = \"gender\""
   ]
  },
  {
   "cell_type": "markdown",
   "id": "7f50c922",
   "metadata": {},
   "source": [
    "## Load Dataset"
   ]
  },
  {
   "cell_type": "code",
   "execution_count": 3,
   "id": "7ec3f668",
   "metadata": {
    "tags": []
   },
   "outputs": [
    {
     "data": {
      "text/html": [
       "<div>\n",
       "<style scoped>\n",
       "    .dataframe tbody tr th:only-of-type {\n",
       "        vertical-align: middle;\n",
       "    }\n",
       "\n",
       "    .dataframe tbody tr th {\n",
       "        vertical-align: top;\n",
       "    }\n",
       "\n",
       "    .dataframe thead th {\n",
       "        text-align: right;\n",
       "    }\n",
       "</style>\n",
       "<table border=\"1\" class=\"dataframe\">\n",
       "  <thead>\n",
       "    <tr style=\"text-align: right;\">\n",
       "      <th></th>\n",
       "      <th>religion</th>\n",
       "      <th>politics</th>\n",
       "      <th>college_educated</th>\n",
       "      <th>parents</th>\n",
       "      <th>homeowner</th>\n",
       "      <th>gender</th>\n",
       "      <th>age</th>\n",
       "      <th>income</th>\n",
       "      <th>area</th>\n",
       "      <th>true_conversion</th>\n",
       "      <th>predicted_conversion</th>\n",
       "      <th>predicted_probability</th>\n",
       "    </tr>\n",
       "  </thead>\n",
       "  <tbody>\n",
       "    <tr>\n",
       "      <th>0</th>\n",
       "      <td>Unknown</td>\n",
       "      <td>Unknown</td>\n",
       "      <td>1</td>\n",
       "      <td>1</td>\n",
       "      <td>1</td>\n",
       "      <td>Unknown</td>\n",
       "      <td>55-64</td>\n",
       "      <td>Unknown</td>\n",
       "      <td>Unknown</td>\n",
       "      <td>0</td>\n",
       "      <td>0</td>\n",
       "      <td>0.001351</td>\n",
       "    </tr>\n",
       "    <tr>\n",
       "      <th>1</th>\n",
       "      <td>Other</td>\n",
       "      <td>Unknown</td>\n",
       "      <td>1</td>\n",
       "      <td>1</td>\n",
       "      <td>1</td>\n",
       "      <td>Unknown</td>\n",
       "      <td>55-64</td>\n",
       "      <td>Unknown</td>\n",
       "      <td>Urban</td>\n",
       "      <td>0</td>\n",
       "      <td>0</td>\n",
       "      <td>0.002238</td>\n",
       "    </tr>\n",
       "    <tr>\n",
       "      <th>2</th>\n",
       "      <td>Unknown</td>\n",
       "      <td>Unknown</td>\n",
       "      <td>1</td>\n",
       "      <td>1</td>\n",
       "      <td>1</td>\n",
       "      <td>F</td>\n",
       "      <td>55-64</td>\n",
       "      <td>Unknown</td>\n",
       "      <td>Unknown</td>\n",
       "      <td>0</td>\n",
       "      <td>0</td>\n",
       "      <td>0.002704</td>\n",
       "    </tr>\n",
       "    <tr>\n",
       "      <th>3</th>\n",
       "      <td>Unknown</td>\n",
       "      <td>Unknown</td>\n",
       "      <td>1</td>\n",
       "      <td>1</td>\n",
       "      <td>1</td>\n",
       "      <td>F</td>\n",
       "      <td>55-64</td>\n",
       "      <td>Unknown</td>\n",
       "      <td>Unknown</td>\n",
       "      <td>0</td>\n",
       "      <td>0</td>\n",
       "      <td>0.001967</td>\n",
       "    </tr>\n",
       "    <tr>\n",
       "      <th>4</th>\n",
       "      <td>Unknown</td>\n",
       "      <td>Unknown</td>\n",
       "      <td>1</td>\n",
       "      <td>1</td>\n",
       "      <td>1</td>\n",
       "      <td>F</td>\n",
       "      <td>55-64</td>\n",
       "      <td>Unknown</td>\n",
       "      <td>Urban</td>\n",
       "      <td>0</td>\n",
       "      <td>0</td>\n",
       "      <td>0.001681</td>\n",
       "    </tr>\n",
       "  </tbody>\n",
       "</table>\n",
       "</div>"
      ],
      "text/plain": [
       "  religion politics  college_educated  parents  homeowner   gender    age  \\\n",
       "0  Unknown  Unknown                 1        1          1  Unknown  55-64   \n",
       "1    Other  Unknown                 1        1          1  Unknown  55-64   \n",
       "2  Unknown  Unknown                 1        1          1        F  55-64   \n",
       "3  Unknown  Unknown                 1        1          1        F  55-64   \n",
       "4  Unknown  Unknown                 1        1          1        F  55-64   \n",
       "\n",
       "    income     area  true_conversion  predicted_conversion  \\\n",
       "0  Unknown  Unknown                0                     0   \n",
       "1  Unknown    Urban                0                     0   \n",
       "2  Unknown  Unknown                0                     0   \n",
       "3  Unknown  Unknown                0                     0   \n",
       "4  Unknown    Urban                0                     0   \n",
       "\n",
       "   predicted_probability  \n",
       "0               0.001351  \n",
       "1               0.002238  \n",
       "2               0.002704  \n",
       "3               0.001967  \n",
       "4               0.001681  "
      ]
     },
     "execution_count": 3,
     "metadata": {},
     "output_type": "execute_result"
    }
   ],
   "source": [
    "ad_conversion_dataset = pd.read_csv(DATAFILE)\n",
    "ad_conversion_dataset.head()"
   ]
  },
  {
   "cell_type": "markdown",
   "id": "c01544c3",
   "metadata": {},
   "source": [
    "### Print some statistics for the dataset"
   ]
  },
  {
   "cell_type": "code",
   "execution_count": 4,
   "id": "3710bcf3",
   "metadata": {
    "tags": []
   },
   "outputs": [
    {
     "name": "stdout",
     "output_type": "stream",
     "text": [
      "Number of (instances, attributes) in the dataset = (1443140, 12)\n",
      "\n",
      "Statistics of true conversions (0=no, 1=yes)\n",
      "0    1440766\n",
      "1       2374\n",
      "Name: true_conversion, dtype: int64\n",
      "\n",
      "Statistics of predicted conversions (0=no, 1=yes)\n",
      "0    1440773\n",
      "1       2367\n",
      "Name: predicted_conversion, dtype: int64\n"
     ]
    }
   ],
   "source": [
    "print(f\"Number of (instances, attributes) in the dataset = {ad_conversion_dataset.shape}\")\n",
    "print()\n",
    "\n",
    "print(f\"Statistics of true conversions (0=no, 1=yes)\")\n",
    "print(ad_conversion_dataset.true_conversion.value_counts())\n",
    "print()\n",
    "\n",
    "print(f\"Statistics of predicted conversions (0=no, 1=yes)\")\n",
    "print(ad_conversion_dataset.predicted_conversion.value_counts())"
   ]
  },
  {
   "cell_type": "markdown",
   "id": "6774262f",
   "metadata": {},
   "source": [
    "### Warning!\n",
    "\n",
    "There is no model!\n",
    "\n",
    "Predictions (from whatever model has been used) have been incorporated into the dataset, in the columns \"predicted_conversion\" (which is the predicted label) and \"predicted_probability\" (which is the predicted probability of belonging to the positive class).\n",
    "\n",
    "Moreover, the dataset is highly unbalanced, and this is also evident in the poor efficiency of the model, as demonstrated in the confusion matrix below."
   ]
  },
  {
   "cell_type": "code",
   "execution_count": 5,
   "id": "03eb55a7-2240-4244-8c9e-c005e36e8f0f",
   "metadata": {
    "tags": []
   },
   "outputs": [
    {
     "data": {
      "image/png": "[encoded data removed]",
      "text/plain": [
       "<Figure size 640x480 with 2 Axes>"
      ]
     },
     "metadata": {},
     "output_type": "display_data"
    }
   ],
   "source": [
    "conf_matrix = confusion_matrix(ad_conversion_dataset.true_conversion, ad_conversion_dataset.predicted_conversion)\n",
    "cm_disp = ConfusionMatrixDisplay(confusion_matrix=conf_matrix)\n",
    "cm_disp.plot()\n",
    "plt.show()"
   ]
  },
  {
   "cell_type": "markdown",
   "id": "5f1b33fa-c6c9-4770-8123-0f69f918e265",
   "metadata": {},
   "source": [
    "# Preprocessing"
   ]
  },
  {
   "cell_type": "code",
   "execution_count": 6,
   "id": "8ee07f88",
   "metadata": {
    "tags": []
   },
   "outputs": [
    {
     "data": {
      "text/html": [
       "<div>\n",
       "<style scoped>\n",
       "    .dataframe tbody tr th:only-of-type {\n",
       "        vertical-align: middle;\n",
       "    }\n",
       "\n",
       "    .dataframe tbody tr th {\n",
       "        vertical-align: top;\n",
       "    }\n",
       "\n",
       "    .dataframe thead th {\n",
       "        text-align: right;\n",
       "    }\n",
       "</style>\n",
       "<table border=\"1\" class=\"dataframe\">\n",
       "  <thead>\n",
       "    <tr style=\"text-align: right;\">\n",
       "      <th></th>\n",
       "      <th>gender</th>\n",
       "      <th>parents</th>\n",
       "      <th>age</th>\n",
       "      <th>income</th>\n",
       "      <th>area</th>\n",
       "      <th>college_educated</th>\n",
       "      <th>homeowner</th>\n",
       "      <th>true_conversion</th>\n",
       "    </tr>\n",
       "  </thead>\n",
       "  <tbody>\n",
       "    <tr>\n",
       "      <th>0</th>\n",
       "      <td>Unknown</td>\n",
       "      <td>1</td>\n",
       "      <td>55-64</td>\n",
       "      <td>Unknown</td>\n",
       "      <td>Unknown</td>\n",
       "      <td>1</td>\n",
       "      <td>1</td>\n",
       "      <td>0</td>\n",
       "    </tr>\n",
       "    <tr>\n",
       "      <th>1</th>\n",
       "      <td>Unknown</td>\n",
       "      <td>1</td>\n",
       "      <td>55-64</td>\n",
       "      <td>Unknown</td>\n",
       "      <td>Urban</td>\n",
       "      <td>1</td>\n",
       "      <td>1</td>\n",
       "      <td>0</td>\n",
       "    </tr>\n",
       "    <tr>\n",
       "      <th>2</th>\n",
       "      <td>F</td>\n",
       "      <td>1</td>\n",
       "      <td>55-64</td>\n",
       "      <td>Unknown</td>\n",
       "      <td>Unknown</td>\n",
       "      <td>1</td>\n",
       "      <td>1</td>\n",
       "      <td>0</td>\n",
       "    </tr>\n",
       "    <tr>\n",
       "      <th>3</th>\n",
       "      <td>F</td>\n",
       "      <td>1</td>\n",
       "      <td>55-64</td>\n",
       "      <td>Unknown</td>\n",
       "      <td>Unknown</td>\n",
       "      <td>1</td>\n",
       "      <td>1</td>\n",
       "      <td>0</td>\n",
       "    </tr>\n",
       "    <tr>\n",
       "      <th>4</th>\n",
       "      <td>F</td>\n",
       "      <td>1</td>\n",
       "      <td>55-64</td>\n",
       "      <td>Unknown</td>\n",
       "      <td>Urban</td>\n",
       "      <td>1</td>\n",
       "      <td>1</td>\n",
       "      <td>0</td>\n",
       "    </tr>\n",
       "    <tr>\n",
       "      <th>...</th>\n",
       "      <td>...</td>\n",
       "      <td>...</td>\n",
       "      <td>...</td>\n",
       "      <td>...</td>\n",
       "      <td>...</td>\n",
       "      <td>...</td>\n",
       "      <td>...</td>\n",
       "      <td>...</td>\n",
       "    </tr>\n",
       "    <tr>\n",
       "      <th>1443135</th>\n",
       "      <td>F</td>\n",
       "      <td>1</td>\n",
       "      <td>25-34</td>\n",
       "      <td>Unknown</td>\n",
       "      <td>Unknown</td>\n",
       "      <td>1</td>\n",
       "      <td>1</td>\n",
       "      <td>0</td>\n",
       "    </tr>\n",
       "    <tr>\n",
       "      <th>1443136</th>\n",
       "      <td>F</td>\n",
       "      <td>1</td>\n",
       "      <td>55-64</td>\n",
       "      <td>Unknown</td>\n",
       "      <td>Unknown</td>\n",
       "      <td>1</td>\n",
       "      <td>0</td>\n",
       "      <td>0</td>\n",
       "    </tr>\n",
       "    <tr>\n",
       "      <th>1443137</th>\n",
       "      <td>Unknown</td>\n",
       "      <td>1</td>\n",
       "      <td>55-64</td>\n",
       "      <td>Unknown</td>\n",
       "      <td>Unknown</td>\n",
       "      <td>1</td>\n",
       "      <td>1</td>\n",
       "      <td>0</td>\n",
       "    </tr>\n",
       "    <tr>\n",
       "      <th>1443138</th>\n",
       "      <td>F</td>\n",
       "      <td>1</td>\n",
       "      <td>55-64</td>\n",
       "      <td>Unknown</td>\n",
       "      <td>Unknown</td>\n",
       "      <td>1</td>\n",
       "      <td>1</td>\n",
       "      <td>0</td>\n",
       "    </tr>\n",
       "    <tr>\n",
       "      <th>1443139</th>\n",
       "      <td>F</td>\n",
       "      <td>1</td>\n",
       "      <td>55-64</td>\n",
       "      <td>Unknown</td>\n",
       "      <td>Unknown</td>\n",
       "      <td>1</td>\n",
       "      <td>1</td>\n",
       "      <td>0</td>\n",
       "    </tr>\n",
       "  </tbody>\n",
       "</table>\n",
       "<p>1443140 rows × 8 columns</p>\n",
       "</div>"
      ],
      "text/plain": [
       "          gender  parents    age   income     area  college_educated  \\\n",
       "0        Unknown        1  55-64  Unknown  Unknown                 1   \n",
       "1        Unknown        1  55-64  Unknown    Urban                 1   \n",
       "2              F        1  55-64  Unknown  Unknown                 1   \n",
       "3              F        1  55-64  Unknown  Unknown                 1   \n",
       "4              F        1  55-64  Unknown    Urban                 1   \n",
       "...          ...      ...    ...      ...      ...               ...   \n",
       "1443135        F        1  25-34  Unknown  Unknown                 1   \n",
       "1443136        F        1  55-64  Unknown  Unknown                 1   \n",
       "1443137  Unknown        1  55-64  Unknown  Unknown                 1   \n",
       "1443138        F        1  55-64  Unknown  Unknown                 1   \n",
       "1443139        F        1  55-64  Unknown  Unknown                 1   \n",
       "\n",
       "         homeowner  true_conversion  \n",
       "0                1                0  \n",
       "1                1                0  \n",
       "2                1                0  \n",
       "3                1                0  \n",
       "4                1                0  \n",
       "...            ...              ...  \n",
       "1443135          1                0  \n",
       "1443136          0                0  \n",
       "1443137          1                0  \n",
       "1443138          1                0  \n",
       "1443139          1                0  \n",
       "\n",
       "[1443140 rows x 8 columns]"
      ]
     },
     "execution_count": 6,
     "metadata": {},
     "output_type": "execute_result"
    }
   ],
   "source": [
    "## keep only the columns in selected_features, plus the label column\n",
    "ad_conversion_dataset = ad_conversion_dataset[selected_features + [target_name]]\n",
    "ad_conversion_dataset"
   ]
  },
  {
   "cell_type": "code",
   "execution_count": 7,
   "id": "e2d5162d",
   "metadata": {
    "tags": []
   },
   "outputs": [],
   "source": [
    "## train-test split\n",
    "\n",
    "X = ad_conversion_dataset.drop(target_name, axis=1)\n",
    "y = ad_conversion_dataset[target_name]\n",
    "\n",
    "X_train, X_test, y_train, y_test = train_test_split(X, y, train_size=model_train_fraction, random_state=random_state, stratify=y)\n",
    "\n",
    "X_train = X_train.reset_index(drop=True)\n",
    "X_test = X_test.reset_index(drop=True)\n",
    "y_train = y_train.reset_index(drop=True)\n",
    "y_test = y_test.reset_index(drop=True)"
   ]
  },
  {
   "cell_type": "markdown",
   "id": "17c32fa1-337a-45e0-ae5c-914575a2cbb6",
   "metadata": {},
   "source": [
    "# Model training"
   ]
  },
  {
   "cell_type": "code",
   "execution_count": 8,
   "id": "d613bdf8",
   "metadata": {
    "tags": []
   },
   "outputs": [
    {
     "name": "stdout",
     "output_type": "stream",
     "text": [
      "CPU times: total: 18.6 s\n",
      "Wall time: 6.79 s\n"
     ]
    },
    {
     "data": {
      "text/plain": [
       "array([0., 0., 0., 0., 1., 0., 0., 1., 0., 0., 0., 0., 1., 0., 1., 0., 1.,\n",
       "       0., 0., 0., 0., 1., 0., 0., 1., 0., 0., 1., 1., 0., 0., 0., 0., 0.,\n",
       "       0., 0., 1., 0., 0., 0., 1., 0., 0., 0., 1., 0., 0., 0., 0., 0., 0.,\n",
       "       0., 0., 0., 0., 0., 0., 0., 0., 0., 1., 0., 0., 0., 0., 1., 0., 0.,\n",
       "       0., 0., 0., 0., 0., 0., 0., 0., 1., 0., 0., 0., 1., 0., 0., 0., 0.,\n",
       "       0., 0., 1., 0., 1., 0., 0., 1., 0., 0., 0., 1., 0., 0., 0.])"
      ]
     },
     "execution_count": 8,
     "metadata": {},
     "output_type": "execute_result"
    }
   ],
   "source": [
    "%%time\n",
    "\n",
    "model = customLogisticRegression(class_weight=learning_class_weights)\n",
    "model.fit(X_train, y_train, cate_columns=cate_features, target_column=target_name)\n",
    "model.predict(X_test.iloc[:100, :])"
   ]
  },
  {
   "cell_type": "markdown",
   "id": "13d583ac",
   "metadata": {},
   "source": [
    "# Testing the model\n",
    "\n",
    "We check if the model is satisfactory."
   ]
  },
  {
   "cell_type": "code",
   "execution_count": 9,
   "id": "2fbd7b2e",
   "metadata": {
    "tags": []
   },
   "outputs": [
    {
     "name": "stdout",
     "output_type": "stream",
     "text": [
      "              precision    recall  f1-score   support\n",
      "\n",
      "           0       1.00      0.84      0.91    432231\n",
      "           1       0.00      0.18      0.00       712\n",
      "\n",
      "    accuracy                           0.83    432943\n",
      "   macro avg       0.50      0.51      0.46    432943\n",
      "weighted avg       1.00      0.83      0.91    432943\n",
      "\n"
     ]
    }
   ],
   "source": [
    "preds = model.predict(X_test)\n",
    "print(classification_report(y_test.map({negative_label: 0, positive_label: 1}), preds))"
   ]
  },
  {
   "cell_type": "code",
   "execution_count": 10,
   "id": "a82b48f8-408b-43a0-99fc-c21ff8a63718",
   "metadata": {
    "tags": []
   },
   "outputs": [
    {
     "data": {
      "image/png": "[encoded data removed]",
      "text/plain": [
       "<Figure size 640x480 with 2 Axes>"
      ]
     },
     "metadata": {},
     "output_type": "display_data"
    }
   ],
   "source": [
    "conf_matrix = confusion_matrix(y_test, preds)\n",
    "cm_disp = ConfusionMatrixDisplay(confusion_matrix=conf_matrix)\n",
    "cm_disp.plot()\n",
    "plt.show()"
   ]
  },
  {
   "cell_type": "markdown",
   "id": "11452631",
   "metadata": {},
   "source": [
    "Given the high imbalance of the dataset, we consider that the above results, for a simple logistic regression, are good enough."
   ]
  },
  {
   "cell_type": "markdown",
   "id": "66bafa9b-95db-49c6-b116-9ebb65c13fc8",
   "metadata": {},
   "source": [
    "# Find all valid if-thens with all respective coverages and correctness, for all subgroups.\n",
    "\n",
    "**Caution!** This step takes time. Uncomment the following block if you wish to run."
   ]
  },
  {
   "cell_type": "code",
   "execution_count": 23,
   "id": "297d9256",
   "metadata": {
    "tags": []
   },
   "outputs": [
    {
     "name": "stderr",
     "output_type": "stream",
     "text": [
      "100%|██████████████████████████████████████████████████████████████████████████████| 357/357 [00:00<00:00, 2788.34it/s]\n",
      "100%|████████████████████████████████████████████████████████████████████████████████| 280/280 [00:29<00:00,  9.61it/s]"
     ]
    },
    {
     "name": "stdout",
     "output_type": "stream",
     "text": [
      "Number of if-thens: 280\n"
     ]
    },
    {
     "name": "stderr",
     "output_type": "stream",
     "text": [
      "\n"
     ]
    }
   ],
   "source": [
    "ifthens_coverage_correctness = valid_ifthens_with_coverage_correctness(\n",
    "    X_test,\n",
    "    model,\n",
    "    sensitive_attribute,\n",
    "    missing_subgroup_val=\"Unknown\"\n",
    ")\n",
    "\n",
    "print(f\"Number of if-thens: {len(ifthens_coverage_correctness)}\")\n",
    "rules_by_if = rules2rulesbyif(ifthens_coverage_correctness)"
   ]
  },
  {
   "cell_type": "markdown",
   "id": "d17cb30e-0a36-43cb-9f95-2b2e93634e5a",
   "metadata": {},
   "source": [
    "Uncomment the following block if you wish to load rules object from disk."
   ]
  },
  {
   "cell_type": "code",
   "execution_count": 24,
   "id": "c22dbaba-1ccb-4db3-84de-21227328e07c",
   "metadata": {
    "tags": []
   },
   "outputs": [],
   "source": [
    "# import dill\n",
    "\n",
    "# with open(\"rules.data\", \"rb\") as inf:\n",
    "#     rules_by_if = dill.load(inf)"
   ]
  },
  {
   "cell_type": "code",
   "execution_count": 25,
   "id": "8a13da8a-e2a3-481f-9b1b-bc1803f4eccf",
   "metadata": {
    "tags": []
   },
   "outputs": [
    {
     "name": "stdout",
     "output_type": "stream",
     "text": [
      "If \u001b[1marea = Rural, college_educated = 1, homeowner = 1, age = 55-64, parents = 1\u001b[0m:\n",
      "\tSubgroup '\u001b[1mF\u001b[0m', \u001b[34m4.3989%\u001b[39m covered\n",
      "\t\tMake \u001b[1m\u001b[31marea = Urban\u001b[39m\u001b[0m with correctness \u001b[32m-0.0000%\u001b[39m.\n",
      "\tSubgroup '\u001b[1mM\u001b[0m', \u001b[34m5.5357%\u001b[39m covered\n",
      "\t\tMake \u001b[1m\u001b[31marea = Urban\u001b[39m\u001b[0m with correctness \u001b[32m100.0000%\u001b[39m.\n",
      "If \u001b[1mincome = Unknown, area = Rural, college_educated = 1, homeowner = 1, age = 55-64, parents = 1\u001b[0m:\n",
      "\tSubgroup '\u001b[1mF\u001b[0m', \u001b[34m4.3628%\u001b[39m covered\n",
      "\t\tMake \u001b[1m\u001b[31marea = Urban\u001b[39m\u001b[0m with correctness \u001b[32m-0.0000%\u001b[39m.\n",
      "\tSubgroup '\u001b[1mM\u001b[0m', \u001b[34m5.4852%\u001b[39m covered\n",
      "\t\tMake \u001b[1m\u001b[31marea = Urban\u001b[39m\u001b[0m with correctness \u001b[32m100.0000%\u001b[39m.\n",
      "If \u001b[1mincome = Unknown, area = Rural, college_educated = 1, age = 55-64, parents = 1\u001b[0m:\n",
      "\tSubgroup '\u001b[1mF\u001b[0m', \u001b[34m4.3628%\u001b[39m covered\n",
      "\t\tMake \u001b[1m\u001b[31marea = Urban\u001b[39m\u001b[0m with correctness \u001b[32m-0.0000%\u001b[39m.\n",
      "\tSubgroup '\u001b[1mM\u001b[0m', \u001b[34m5.4852%\u001b[39m covered\n",
      "\t\tMake \u001b[1m\u001b[31marea = Urban\u001b[39m\u001b[0m with correctness \u001b[32m100.0000%\u001b[39m.\n",
      "If \u001b[1marea = Urban, college_educated = 1, age = 55-64, parents = 0\u001b[0m:\n",
      "\tSubgroup '\u001b[1mF\u001b[0m', \u001b[34m1.1552%\u001b[39m covered\n",
      "\t\tMake \u001b[1m\u001b[31mparents = 1\u001b[39m\u001b[0m with correctness \u001b[32m-0.0000%\u001b[39m.\n",
      "\tSubgroup '\u001b[1mM\u001b[0m', \u001b[34m1.4543%\u001b[39m covered\n",
      "\t\tMake \u001b[1m\u001b[31mparents = 1\u001b[39m\u001b[0m with correctness \u001b[32m100.0000%\u001b[39m.\n",
      "If \u001b[1mincome = Unknown, area = Rural, college_educated = 1, homeowner = 1, age = 55-64\u001b[0m:\n",
      "\tSubgroup '\u001b[1mF\u001b[0m', \u001b[34m4.6150%\u001b[39m covered\n",
      "\t\tMake \u001b[1m\u001b[31marea = Urban\u001b[39m\u001b[0m with correctness \u001b[32m0.0000%\u001b[39m.\n",
      "\tSubgroup '\u001b[1mM\u001b[0m', \u001b[34m5.7635%\u001b[39m covered\n",
      "\t\tMake \u001b[1m\u001b[31marea = Urban\u001b[39m\u001b[0m with correctness \u001b[32m95.1711%\u001b[39m.\n",
      "If \u001b[1marea = Urban, college_educated = 1, age = 55-64\u001b[0m:\n",
      "\tSubgroup '\u001b[1mF\u001b[0m', \u001b[34m21.6240%\u001b[39m covered\n",
      "\t\tMake \u001b[1m\u001b[31mage = 25-34\u001b[39m\u001b[0m with correctness \u001b[32m94.6579%\u001b[39m.\n",
      "\tSubgroup '\u001b[1mM\u001b[0m', \u001b[34m1.4543%\u001b[39m covered\n",
      "\t\tMake \u001b[1m\u001b[31mage = 25-34\u001b[39m\u001b[0m with correctness \u001b[32m0.0000%\u001b[39m.\n",
      "If \u001b[1mincome = Unknown, area = Rural, homeowner = 1, age = 55-64, parents = 1\u001b[0m:\n",
      "\tSubgroup '\u001b[1mF\u001b[0m', \u001b[34m4.6156%\u001b[39m covered\n",
      "\t\tMake \u001b[1m\u001b[31marea = Urban\u001b[39m\u001b[0m with correctness \u001b[32m5.4778%\u001b[39m.\n",
      "\tSubgroup '\u001b[1mM\u001b[0m', \u001b[34m5.7987%\u001b[39m covered\n",
      "\t\tMake \u001b[1m\u001b[31marea = Urban\u001b[39m\u001b[0m with correctness \u001b[32m100.0000%\u001b[39m.\n",
      "If \u001b[1marea = Urban, homeowner = 1, age = 55-64\u001b[0m:\n",
      "\tSubgroup '\u001b[1mF\u001b[0m', \u001b[34m21.6937%\u001b[39m covered\n",
      "\t\tMake \u001b[1m\u001b[31mage = 25-34\u001b[39m\u001b[0m with correctness \u001b[32m94.3537%\u001b[39m.\n",
      "\tSubgroup '\u001b[1mM\u001b[0m', \u001b[34m1.5353%\u001b[39m covered\n",
      "\t\tMake \u001b[1m\u001b[31mage = 25-34\u001b[39m\u001b[0m with correctness \u001b[32m0.0000%\u001b[39m.\n",
      "If \u001b[1marea = Unknown, age = 55-64, parents = 1\u001b[0m:\n",
      "\tSubgroup '\u001b[1mF\u001b[0m', \u001b[34m62.4944%\u001b[39m covered\n",
      "\t\tMake \u001b[1m\u001b[31marea = Urban\u001b[39m\u001b[0m with correctness \u001b[32m5.6853%\u001b[39m.\n",
      "\t\tMake \u001b[1m\u001b[31marea = Urban\u001b[39m, \u001b[31mage = 25-34\u001b[39m\u001b[0m with correctness \u001b[32m100.0000%\u001b[39m.\n",
      "\tSubgroup '\u001b[1mM\u001b[0m', \u001b[34m78.4889%\u001b[39m covered\n",
      "\t\tMake \u001b[1m\u001b[31marea = Urban\u001b[39m\u001b[0m with correctness \u001b[32m100.0000%\u001b[39m.\n",
      "\t\tMake \u001b[1m\u001b[31marea = Urban\u001b[39m, \u001b[31mage = 25-34\u001b[39m\u001b[0m with correctness \u001b[32m100.0000%\u001b[39m.\n",
      "If \u001b[1marea = Urban, homeowner = 1, age = 55-64, parents = 0\u001b[0m:\n",
      "\tSubgroup '\u001b[1mF\u001b[0m', \u001b[34m1.2249%\u001b[39m covered\n",
      "\t\tMake \u001b[1m\u001b[31mparents = 1\u001b[39m\u001b[0m with correctness \u001b[32m5.6906%\u001b[39m.\n",
      "\tSubgroup '\u001b[1mM\u001b[0m', \u001b[34m1.5353%\u001b[39m covered\n",
      "\t\tMake \u001b[1m\u001b[31mparents = 1\u001b[39m\u001b[0m with correctness \u001b[32m100.0000%\u001b[39m.\n",
      "\n"
     ]
    }
   ],
   "source": [
    "K = 10\n",
    "\n",
    "# keep K ifs with maximum coverage on Females\n",
    "# TODO: the below is currently dataset dependent\n",
    "# rules_by_if_filtered = sorted(rules_by_if.items(), key=lambda e: e[1][\"F\"][0][1], reverse=True)[:K]\n",
    "\n",
    "# keep K ifs with maximum absolute difference in correctness between Males and Females.\n",
    "# TODO: the below is currently dataset dependent\n",
    "rules_by_if_filtered = sorted(rules_by_if.items(), key=lambda e: abs(e[1][\"M\"][1][0][1]-e[1][\"F\"][1][0][1]), reverse=True)[:K]\n",
    "\n",
    "rules_by_if_filtered = dict(rules_by_if_filtered)\n",
    "\n",
    "print(recourse_report_reverse(rules_by_if_filtered))"
   ]
  },
  {
   "cell_type": "code",
   "execution_count": 26,
   "id": "c3d9345a-d3f6-4db1-9fa2-887cf76c0149",
   "metadata": {},
   "outputs": [],
   "source": [
    "# #### Uncomment if you wish to save rules object on disk\n",
    "\n",
    "# import dill\n",
    "\n",
    "# with open(\"rules.data\", \"wb\") as outf:\n",
    "#     dill.dump(rules_by_if, outf)"
   ]
  },
  {
   "cell_type": "markdown",
   "id": "680049be-1176-44d9-ba37-61b194dfb97f",
   "metadata": {},
   "source": [
    "# Filter rules by different scoring functions"
   ]
  },
  {
   "cell_type": "markdown",
   "id": "07e10fea-1fb4-4028-813a-e21b0767983f",
   "metadata": {},
   "source": [
    "Here, we explore more sophisticated ways of picking the \"top\" K rules and showing only those.\n",
    "\n",
    "We start ranking the rule \"groups\" (all recourses for a single \"if\") by averaging out the costs of all suggested recourses, weighted by the respective correctness. For now, the \"cost\" of a recourse is simply the number of features whose value changes (and the magnitude of the change for numerical features, but here there are none)."
   ]
  },
  {
   "cell_type": "code",
   "execution_count": 27,
   "id": "897fbfbd-1667-46e5-8015-fa43a1709905",
   "metadata": {
    "tags": []
   },
   "outputs": [],
   "source": [
    "comparators = gfacts.naive_feature_change_builder(num_cols=num_features, cate_cols=cate_features, feature_weights=feature_weights)\n",
    "params = ParameterProxy(featureChanges=comparators)"
   ]
  },
  {
   "cell_type": "markdown",
   "id": "3083f9ee-9126-4cd4-a84a-5816e32e1cb8",
   "metadata": {},
   "source": [
    "## For each if-group, inner product of then costs and correctness-es, divided by the number of terms"
   ]
  },
  {
   "cell_type": "code",
   "execution_count": 28,
   "id": "24dcd1f4-ee5c-4d1d-9cc3-5bbf6a085782",
   "metadata": {
    "tags": []
   },
   "outputs": [
    {
     "name": "stdout",
     "output_type": "stream",
     "text": [
      "If \u001b[1mincome = Unknown, homeowner = 1, age = 45-54, area = Unknown\u001b[0m:\n",
      "\tSubgroup '\u001b[1mF\u001b[0m', \u001b[34m1.1336%\u001b[39m covered out of 600135\n",
      "\t\tMake \u001b[1m\u001b[31mage = 55-64\u001b[39m, \u001b[31marea = Urban\u001b[39m\u001b[0m with correctness \u001b[32m4.9748%\u001b[39m.\n",
      "\t\t\u001b[1mAggregate cost\u001b[0m of the above recourses = \u001b[35m0.0994969\u001b[39m\n",
      "\tSubgroup '\u001b[1mM\u001b[0m', \u001b[34m1.4619%\u001b[39m covered out of 314181\n",
      "\t\tMake \u001b[1m\u001b[31mage = 55-64\u001b[39m, \u001b[31marea = Urban\u001b[39m\u001b[0m with correctness \u001b[32m94.8745%\u001b[39m.\n",
      "\t\t\u001b[1mAggregate cost\u001b[0m of the above recourses = \u001b[35m1.89749\u001b[39m\n",
      "If \u001b[1marea = Urban, homeowner = 1\u001b[0m:\n",
      "\tSubgroup '\u001b[1mF\u001b[0m', \u001b[34m22.8222%\u001b[39m covered out of 600135\n",
      "\t\tMake \u001b[1m\u001b[31marea = Unknown\u001b[39m, \u001b[31mhomeowner = 0\u001b[39m\u001b[0m with correctness \u001b[32m89.6935%\u001b[39m.\n",
      "\t\t\u001b[1mAggregate cost\u001b[0m of the above recourses = \u001b[35m1.79387\u001b[39m\n",
      "\tSubgroup '\u001b[1mM\u001b[0m', \u001b[34m3.0202%\u001b[39m covered out of 314181\n",
      "\t\tMake \u001b[1m\u001b[31marea = Unknown\u001b[39m, \u001b[31mhomeowner = 0\u001b[39m\u001b[0m with correctness \u001b[32m0.0000%\u001b[39m.\n",
      "\t\t\u001b[1mAggregate cost\u001b[0m of the above recourses = \u001b[35m0.0\u001b[39m\n",
      "If \u001b[1mincome = <100K, homeowner = 1, age = 55-64, area = Unknown\u001b[0m:\n",
      "\tSubgroup '\u001b[1mF\u001b[0m', \u001b[34m1.4346%\u001b[39m covered out of 600135\n",
      "\t\tMake \u001b[1m\u001b[31mincome = Unknown\u001b[39m, \u001b[31marea = Urban\u001b[39m\u001b[0m with correctness \u001b[32m5.1678%\u001b[39m.\n",
      "\t\t\u001b[1mAggregate cost\u001b[0m of the above recourses = \u001b[35m0.103357\u001b[39m\n",
      "\tSubgroup '\u001b[1mM\u001b[0m', \u001b[34m1.8381%\u001b[39m covered out of 314181\n",
      "\t\tMake \u001b[1m\u001b[31mincome = Unknown\u001b[39m, \u001b[31marea = Urban\u001b[39m\u001b[0m with correctness \u001b[32m94.4260%\u001b[39m.\n",
      "\t\t\u001b[1mAggregate cost\u001b[0m of the above recourses = \u001b[35m1.88852\u001b[39m\n",
      "If \u001b[1marea = Rural, college_educated = 1, homeowner = 1, age = 55-64, parents = 1\u001b[0m:\n",
      "\tSubgroup '\u001b[1mF\u001b[0m', \u001b[34m4.3989%\u001b[39m covered out of 600135\n",
      "\t\tMake \u001b[1m\u001b[31marea = Urban\u001b[39m\u001b[0m with correctness \u001b[32m-0.0000%\u001b[39m.\n",
      "\t\t\u001b[1mAggregate cost\u001b[0m of the above recourses = \u001b[35m-2.22045e-16\u001b[39m\n",
      "\tSubgroup '\u001b[1mM\u001b[0m', \u001b[34m5.5357%\u001b[39m covered out of 314181\n",
      "\t\tMake \u001b[1m\u001b[31marea = Urban\u001b[39m\u001b[0m with correctness \u001b[32m100.0000%\u001b[39m.\n",
      "\t\t\u001b[1mAggregate cost\u001b[0m of the above recourses = \u001b[35m1.0\u001b[39m\n",
      "If \u001b[1mincome = Unknown, area = Rural, college_educated = 1, homeowner = 1, age = 55-64, parents = 1\u001b[0m:\n",
      "\tSubgroup '\u001b[1mF\u001b[0m', \u001b[34m4.3628%\u001b[39m covered out of 600135\n",
      "\t\tMake \u001b[1m\u001b[31marea = Urban\u001b[39m\u001b[0m with correctness \u001b[32m-0.0000%\u001b[39m.\n",
      "\t\t\u001b[1mAggregate cost\u001b[0m of the above recourses = \u001b[35m-2.22045e-16\u001b[39m\n",
      "\tSubgroup '\u001b[1mM\u001b[0m', \u001b[34m5.4852%\u001b[39m covered out of 314181\n",
      "\t\tMake \u001b[1m\u001b[31marea = Urban\u001b[39m\u001b[0m with correctness \u001b[32m100.0000%\u001b[39m.\n",
      "\t\t\u001b[1mAggregate cost\u001b[0m of the above recourses = \u001b[35m1.0\u001b[39m\n",
      "If \u001b[1mincome = Unknown, area = Rural, college_educated = 1, age = 55-64, parents = 1\u001b[0m:\n",
      "\tSubgroup '\u001b[1mF\u001b[0m', \u001b[34m4.3628%\u001b[39m covered out of 600135\n",
      "\t\tMake \u001b[1m\u001b[31marea = Urban\u001b[39m\u001b[0m with correctness \u001b[32m-0.0000%\u001b[39m.\n",
      "\t\t\u001b[1mAggregate cost\u001b[0m of the above recourses = \u001b[35m-2.22045e-16\u001b[39m\n",
      "\tSubgroup '\u001b[1mM\u001b[0m', \u001b[34m5.4852%\u001b[39m covered out of 314181\n",
      "\t\tMake \u001b[1m\u001b[31marea = Urban\u001b[39m\u001b[0m with correctness \u001b[32m100.0000%\u001b[39m.\n",
      "\t\t\u001b[1mAggregate cost\u001b[0m of the above recourses = \u001b[35m1.0\u001b[39m\n",
      "If \u001b[1marea = Urban, college_educated = 1, age = 55-64, parents = 0\u001b[0m:\n",
      "\tSubgroup '\u001b[1mF\u001b[0m', \u001b[34m1.1552%\u001b[39m covered out of 600135\n",
      "\t\tMake \u001b[1m\u001b[31mparents = 1\u001b[39m\u001b[0m with correctness \u001b[32m-0.0000%\u001b[39m.\n",
      "\t\t\u001b[1mAggregate cost\u001b[0m of the above recourses = \u001b[35m-2.22045e-16\u001b[39m\n",
      "\tSubgroup '\u001b[1mM\u001b[0m', \u001b[34m1.4543%\u001b[39m covered out of 314181\n",
      "\t\tMake \u001b[1m\u001b[31mparents = 1\u001b[39m\u001b[0m with correctness \u001b[32m100.0000%\u001b[39m.\n",
      "\t\t\u001b[1mAggregate cost\u001b[0m of the above recourses = \u001b[35m1.0\u001b[39m\n",
      "If \u001b[1mincome = Unknown, area = Rural, college_educated = 1, homeowner = 1, age = 55-64\u001b[0m:\n",
      "\tSubgroup '\u001b[1mF\u001b[0m', \u001b[34m4.6150%\u001b[39m covered out of 600135\n",
      "\t\tMake \u001b[1m\u001b[31marea = Urban\u001b[39m\u001b[0m with correctness \u001b[32m0.0000%\u001b[39m.\n",
      "\t\t\u001b[1mAggregate cost\u001b[0m of the above recourses = \u001b[35m1.11022e-16\u001b[39m\n",
      "\tSubgroup '\u001b[1mM\u001b[0m', \u001b[34m5.7635%\u001b[39m covered out of 314181\n",
      "\t\tMake \u001b[1m\u001b[31marea = Urban\u001b[39m\u001b[0m with correctness \u001b[32m95.1711%\u001b[39m.\n",
      "\t\t\u001b[1mAggregate cost\u001b[0m of the above recourses = \u001b[35m0.951711\u001b[39m\n",
      "If \u001b[1marea = Urban, college_educated = 1, age = 55-64\u001b[0m:\n",
      "\tSubgroup '\u001b[1mF\u001b[0m', \u001b[34m21.6240%\u001b[39m covered out of 600135\n",
      "\t\tMake \u001b[1m\u001b[31mage = 25-34\u001b[39m\u001b[0m with correctness \u001b[32m94.6579%\u001b[39m.\n",
      "\t\t\u001b[1mAggregate cost\u001b[0m of the above recourses = \u001b[35m0.946579\u001b[39m\n",
      "\tSubgroup '\u001b[1mM\u001b[0m', \u001b[34m1.4543%\u001b[39m covered out of 314181\n",
      "\t\tMake \u001b[1m\u001b[31mage = 25-34\u001b[39m\u001b[0m with correctness \u001b[32m0.0000%\u001b[39m.\n",
      "\t\t\u001b[1mAggregate cost\u001b[0m of the above recourses = \u001b[35m0.0\u001b[39m\n",
      "If \u001b[1mincome = Unknown, area = Rural, homeowner = 1, age = 55-64, parents = 1\u001b[0m:\n",
      "\tSubgroup '\u001b[1mF\u001b[0m', \u001b[34m4.6156%\u001b[39m covered out of 600135\n",
      "\t\tMake \u001b[1m\u001b[31marea = Urban\u001b[39m\u001b[0m with correctness \u001b[32m5.4778%\u001b[39m.\n",
      "\t\t\u001b[1mAggregate cost\u001b[0m of the above recourses = \u001b[35m0.0547776\u001b[39m\n",
      "\tSubgroup '\u001b[1mM\u001b[0m', \u001b[34m5.7987%\u001b[39m covered out of 314181\n",
      "\t\tMake \u001b[1m\u001b[31marea = Urban\u001b[39m\u001b[0m with correctness \u001b[32m100.0000%\u001b[39m.\n",
      "\t\t\u001b[1mAggregate cost\u001b[0m of the above recourses = \u001b[35m1.0\u001b[39m\n",
      "\n"
     ]
    }
   ],
   "source": [
    "rules_max_costdiff_sorted = gfacts.sort_triples_by_max_costdiff(rules_by_if, params=params)\n",
    "\n",
    "top = dict(rules_max_costdiff_sorted[:K])\n",
    "print(recourse_report_reverse(\n",
    "    top,\n",
    "    population_sizes = {\"M\": (ad_conversion_dataset.gender == \"M\").sum(), \"F\": (ad_conversion_dataset.gender == \"F\").sum()},\n",
    "    missing_subgroup_val=\"Unknown\",\n",
    "    subgroup_costs=gfacts.calculate_all_if_subgroup_costs(list(top.keys()), list(top.values())),\n",
    "    filtering=None # acceptable values: None, \"remove-contained\"\n",
    "))"
   ]
  },
  {
   "cell_type": "markdown",
   "id": "be1754a8-cea9-4dc1-8c1f-ec39c9f1f0b0",
   "metadata": {},
   "source": [
    "Now, we filter all rules, and then pick the top."
   ]
  },
  {
   "cell_type": "code",
   "execution_count": 30,
   "id": "334d74ec-3961-4524-aa9b-df7edb22246f",
   "metadata": {},
   "outputs": [
    {
     "name": "stdout",
     "output_type": "stream",
     "text": [
      "If \u001b[1marea = Unknown\u001b[0m:\n",
      "\tSubgroup '\u001b[1mF\u001b[0m', \u001b[34m71.8778%\u001b[39m covered out of 600135\n",
      "\t\tMake \u001b[1m\u001b[31marea = Urban\u001b[39m\u001b[0m with correctness \u001b[32m7.9502%\u001b[39m.\n",
      "\t\t\u001b[1mAggregate cost\u001b[0m of the above recourses = \u001b[35m0.0795021\u001b[39m\n",
      "\tSubgroup '\u001b[1mM\u001b[0m', \u001b[34m90.2697%\u001b[39m covered out of 314181\n",
      "\t\tMake \u001b[1m\u001b[31marea = Urban\u001b[39m\u001b[0m with correctness \u001b[32m90.0053%\u001b[39m.\n",
      "\t\t\u001b[1mAggregate cost\u001b[0m of the above recourses = \u001b[35m0.900053\u001b[39m\n",
      "If \u001b[1marea = Unknown, age = 25-34\u001b[0m:\n",
      "\tSubgroup '\u001b[1mF\u001b[0m', \u001b[34m1.2718%\u001b[39m covered out of 600135\n",
      "\t\tMake \u001b[1m\u001b[31mage = 55-64\u001b[39m\u001b[0m with correctness \u001b[32m0.0000%\u001b[39m.\n",
      "\t\tMake \u001b[1m\u001b[31marea = Urban\u001b[39m, \u001b[31mage = 55-64\u001b[39m\u001b[0m with correctness \u001b[32m6.1784%\u001b[39m.\n",
      "\t\tMake \u001b[1m\u001b[31marea = Urban\u001b[39m\u001b[0m with correctness \u001b[32m95.2167%\u001b[39m.\n",
      "\t\t\u001b[1mAggregate cost\u001b[0m of the above recourses = \u001b[35m0.358578\u001b[39m\n",
      "\tSubgroup '\u001b[1mM\u001b[0m', \u001b[34m1.5888%\u001b[39m covered out of 314181\n",
      "\t\tMake \u001b[1m\u001b[31mage = 55-64\u001b[39m\u001b[0m with correctness \u001b[32m0.0000%\u001b[39m.\n",
      "\t\tMake \u001b[1m\u001b[31marea = Urban\u001b[39m, \u001b[31mage = 55-64\u001b[39m\u001b[0m with correctness \u001b[32m94.6102%\u001b[39m.\n",
      "\t\tMake \u001b[1m\u001b[31marea = Urban\u001b[39m\u001b[0m with correctness \u001b[32m94.6102%\u001b[39m.\n",
      "\t\t\u001b[1mAggregate cost\u001b[0m of the above recourses = \u001b[35m0.946102\u001b[39m\n",
      "If \u001b[1marea = Rural\u001b[0m:\n",
      "\tSubgroup '\u001b[1mF\u001b[0m', \u001b[34m5.2956%\u001b[39m covered out of 600135\n",
      "\t\tMake \u001b[1m\u001b[31marea = Unknown\u001b[39m\u001b[0m with correctness \u001b[32m0.0000%\u001b[39m.\n",
      "\t\tMake \u001b[1m\u001b[31marea = Urban\u001b[39m\u001b[0m with correctness \u001b[32m6.8446%\u001b[39m.\n",
      "\t\t\u001b[1mAggregate cost\u001b[0m of the above recourses = \u001b[35m0.0342228\u001b[39m\n",
      "\tSubgroup '\u001b[1mM\u001b[0m', \u001b[34m6.6963%\u001b[39m covered out of 314181\n",
      "\t\tMake \u001b[1m\u001b[31marea = Unknown\u001b[39m\u001b[0m with correctness \u001b[32m0.0000%\u001b[39m.\n",
      "\t\tMake \u001b[1m\u001b[31marea = Urban\u001b[39m\u001b[0m with correctness \u001b[32m89.3583%\u001b[39m.\n",
      "\t\t\u001b[1mAggregate cost\u001b[0m of the above recourses = \u001b[35m0.446792\u001b[39m\n",
      "If \u001b[1marea = Unknown, age = 45-54\u001b[0m:\n",
      "\tSubgroup '\u001b[1mF\u001b[0m', \u001b[34m1.4086%\u001b[39m covered out of 600135\n",
      "\t\tMake \u001b[1m\u001b[31mage = 55-64\u001b[39m\u001b[0m with correctness \u001b[32m16.4642%\u001b[39m.\n",
      "\t\tMake \u001b[1m\u001b[31marea = Urban\u001b[39m, \u001b[31mage = 55-64\u001b[39m\u001b[0m with correctness \u001b[32m21.3675%\u001b[39m.\n",
      "\t\tMake \u001b[1m\u001b[31marea = Urban\u001b[39m, \u001b[31mage = 25-34\u001b[39m\u001b[0m with correctness \u001b[32m95.8165%\u001b[39m.\n",
      "\t\tMake \u001b[1m\u001b[31mage = 25-34\u001b[39m\u001b[0m with correctness \u001b[32m16.4642%\u001b[39m.\n",
      "\t\t\u001b[1mAggregate cost\u001b[0m of the above recourses = \u001b[35m0.668241\u001b[39m\n",
      "\tSubgroup '\u001b[1mM\u001b[0m', \u001b[34m1.8060%\u001b[39m covered out of 314181\n",
      "\t\tMake \u001b[1m\u001b[31mage = 55-64\u001b[39m\u001b[0m with correctness \u001b[32m15.4107%\u001b[39m.\n",
      "\t\tMake \u001b[1m\u001b[31marea = Urban\u001b[39m, \u001b[31mage = 55-64\u001b[39m\u001b[0m with correctness \u001b[32m95.7663%\u001b[39m.\n",
      "\t\tMake \u001b[1m\u001b[31marea = Urban\u001b[39m, \u001b[31mage = 25-34\u001b[39m\u001b[0m with correctness \u001b[32m95.7663%\u001b[39m.\n",
      "\t\tMake \u001b[1m\u001b[31mage = 25-34\u001b[39m\u001b[0m with correctness \u001b[32m15.4107%\u001b[39m.\n",
      "\t\t\u001b[1mAggregate cost\u001b[0m of the above recourses = \u001b[35m1.03472\u001b[39m\n",
      "If \u001b[1marea = Urban, age = 55-64\u001b[0m:\n",
      "\tSubgroup '\u001b[1mF\u001b[0m', \u001b[34m21.6937%\u001b[39m covered out of 600135\n",
      "\t\tMake \u001b[1m\u001b[31marea = Unknown\u001b[39m\u001b[0m with correctness \u001b[32m0.0000%\u001b[39m.\n",
      "\t\tMake \u001b[1m\u001b[31mage = 25-34\u001b[39m\u001b[0m with correctness \u001b[32m94.3537%\u001b[39m.\n",
      "\t\tMake \u001b[1m\u001b[31marea = Unknown\u001b[39m, \u001b[31mage = 25-34\u001b[39m\u001b[0m with correctness \u001b[32m0.0000%\u001b[39m.\n",
      "\t\t\u001b[1mAggregate cost\u001b[0m of the above recourses = \u001b[35m0.314512\u001b[39m\n",
      "\tSubgroup '\u001b[1mM\u001b[0m', \u001b[34m1.5353%\u001b[39m covered out of 314181\n",
      "\t\tMake \u001b[1m\u001b[31marea = Unknown\u001b[39m\u001b[0m with correctness \u001b[32m0.0000%\u001b[39m.\n",
      "\t\tMake \u001b[1m\u001b[31mage = 25-34\u001b[39m\u001b[0m with correctness \u001b[32m0.0000%\u001b[39m.\n",
      "\t\tMake \u001b[1m\u001b[31marea = Unknown\u001b[39m, \u001b[31mage = 25-34\u001b[39m\u001b[0m with correctness \u001b[32m0.0000%\u001b[39m.\n",
      "\t\t\u001b[1mAggregate cost\u001b[0m of the above recourses = \u001b[35m0.0\u001b[39m\n",
      "If \u001b[1marea = Unknown, age = 55-64\u001b[0m:\n",
      "\tSubgroup '\u001b[1mF\u001b[0m', \u001b[34m66.7114%\u001b[39m covered out of 600135\n",
      "\t\tMake \u001b[1m\u001b[31marea = Urban\u001b[39m\u001b[0m with correctness \u001b[32m6.3071%\u001b[39m.\n",
      "\t\tMake \u001b[1m\u001b[31marea = Urban\u001b[39m, \u001b[31mage = 25-34\u001b[39m\u001b[0m with correctness \u001b[32m94.6599%\u001b[39m.\n",
      "\t\tMake \u001b[1m\u001b[31mage = 25-34\u001b[39m\u001b[0m with correctness \u001b[32m0.0000%\u001b[39m.\n",
      "\t\t\u001b[1mAggregate cost\u001b[0m of the above recourses = \u001b[35m0.652089\u001b[39m\n",
      "\tSubgroup '\u001b[1mM\u001b[0m', \u001b[34m83.8089%\u001b[39m covered out of 314181\n",
      "\t\tMake \u001b[1m\u001b[31marea = Urban\u001b[39m\u001b[0m with correctness \u001b[32m94.6995%\u001b[39m.\n",
      "\t\tMake \u001b[1m\u001b[31marea = Urban\u001b[39m, \u001b[31mage = 25-34\u001b[39m\u001b[0m with correctness \u001b[32m94.6995%\u001b[39m.\n",
      "\t\tMake \u001b[1m\u001b[31mage = 25-34\u001b[39m\u001b[0m with correctness \u001b[32m0.0000%\u001b[39m.\n",
      "\t\t\u001b[1mAggregate cost\u001b[0m of the above recourses = \u001b[35m0.946995\u001b[39m\n",
      "If \u001b[1mcollege_educated = 1, age = 55-64\u001b[0m:\n",
      "\tSubgroup '\u001b[1mF\u001b[0m', \u001b[34m89.2181%\u001b[39m covered out of 600135\n",
      "\t\tMake \u001b[1m\u001b[31mcollege_educated = 0\u001b[39m\u001b[0m with correctness \u001b[32m22.9424%\u001b[39m.\n",
      "\t\tMake \u001b[1m\u001b[31mage = 25-34\u001b[39m\u001b[0m with correctness \u001b[32m22.9424%\u001b[39m.\n",
      "\t\t\u001b[1mAggregate cost\u001b[0m of the above recourses = \u001b[35m0.229424\u001b[39m\n",
      "\tSubgroup '\u001b[1mM\u001b[0m', \u001b[34m86.3703%\u001b[39m covered out of 314181\n",
      "\t\tMake \u001b[1m\u001b[31mcollege_educated = 0\u001b[39m\u001b[0m with correctness \u001b[32m0.0000%\u001b[39m.\n",
      "\t\tMake \u001b[1m\u001b[31mage = 25-34\u001b[39m\u001b[0m with correctness \u001b[32m0.0000%\u001b[39m.\n",
      "\t\t\u001b[1mAggregate cost\u001b[0m of the above recourses = \u001b[35m0.0\u001b[39m\n",
      "If \u001b[1mage = 55-64\u001b[0m:\n",
      "\tSubgroup '\u001b[1mF\u001b[0m', \u001b[34m93.3294%\u001b[39m covered out of 600135\n",
      "\t\tMake \u001b[1m\u001b[31mage = 25-34\u001b[39m\u001b[0m with correctness \u001b[32m21.9318%\u001b[39m.\n",
      "\t\t\u001b[1mAggregate cost\u001b[0m of the above recourses = \u001b[35m0.219318\u001b[39m\n",
      "\tSubgroup '\u001b[1mM\u001b[0m', \u001b[34m91.5069%\u001b[39m covered out of 314181\n",
      "\t\tMake \u001b[1m\u001b[31mage = 25-34\u001b[39m\u001b[0m with correctness \u001b[32m0.0000%\u001b[39m.\n",
      "\t\t\u001b[1mAggregate cost\u001b[0m of the above recourses = \u001b[35m0.0\u001b[39m\n",
      "If \u001b[1mcollege_educated = 1\u001b[0m:\n",
      "\tSubgroup '\u001b[1mF\u001b[0m', \u001b[34m95.5092%\u001b[39m covered out of 600135\n",
      "\t\tMake \u001b[1m\u001b[31mcollege_educated = 0\u001b[39m\u001b[0m with correctness \u001b[32m21.4326%\u001b[39m.\n",
      "\t\t\u001b[1mAggregate cost\u001b[0m of the above recourses = \u001b[35m0.214326\u001b[39m\n",
      "\tSubgroup '\u001b[1mM\u001b[0m', \u001b[34m94.3756%\u001b[39m covered out of 314181\n",
      "\t\tMake \u001b[1m\u001b[31mcollege_educated = 0\u001b[39m\u001b[0m with correctness \u001b[32m0.1021%\u001b[39m.\n",
      "\t\t\u001b[1mAggregate cost\u001b[0m of the above recourses = \u001b[35m0.0010208\u001b[39m\n",
      "If \u001b[1mparents = 0\u001b[0m:\n",
      "\tSubgroup '\u001b[1mF\u001b[0m', \u001b[34m6.1117%\u001b[39m covered out of 600135\n",
      "\t\tMake \u001b[1m\u001b[31mparents = 1\u001b[39m\u001b[0m with correctness \u001b[32m12.6179%\u001b[39m.\n",
      "\t\t\u001b[1mAggregate cost\u001b[0m of the above recourses = \u001b[35m0.126179\u001b[39m\n",
      "\tSubgroup '\u001b[1mM\u001b[0m', \u001b[34m7.6460%\u001b[39m covered out of 314181\n",
      "\t\tMake \u001b[1m\u001b[31mparents = 1\u001b[39m\u001b[0m with correctness \u001b[32m32.2600%\u001b[39m.\n",
      "\t\t\u001b[1mAggregate cost\u001b[0m of the above recourses = \u001b[35m0.3226\u001b[39m\n",
      "\n"
     ]
    }
   ],
   "source": [
    "rules_max_costdiff_sorted_filtered = gfacts.filter_contained_rules(dict(gfacts.sort_triples_by_max_costdiff(rules_by_if, params=params)))\n",
    "\n",
    "top = dict(list(rules_max_costdiff_sorted_filtered.items())[:K])\n",
    "print(recourse_report_reverse(\n",
    "    top,\n",
    "    population_sizes = {\"M\": (ad_conversion_dataset.gender == \"M\").sum(), \"F\": (ad_conversion_dataset.gender == \"F\").sum()},\n",
    "    missing_subgroup_val=\"Unknown\",\n",
    "    subgroup_costs=gfacts.calculate_all_if_subgroup_costs(list(top.keys()), list(top.values()))\n",
    "))"
   ]
  },
  {
   "cell_type": "markdown",
   "id": "b68eb89f-39e1-4143-93aa-5367b5356b40",
   "metadata": {},
   "source": [
    "## For each if-group, minimum cost of change among thens that surpass a correctness threshold"
   ]
  },
  {
   "cell_type": "code",
   "execution_count": 31,
   "id": "23015685-bd59-4909-a253-1b07c75b547e",
   "metadata": {
    "tags": []
   },
   "outputs": [
    {
     "name": "stdout",
     "output_type": "stream",
     "text": [
      "If \u001b[1marea = Unknown\u001b[0m:\n",
      "\tSubgroup '\u001b[1mF\u001b[0m', \u001b[34m71.8778%\u001b[39m covered out of 600135\n",
      "\t\tMake \u001b[1m\u001b[31marea = Urban\u001b[39m\u001b[0m with correctness \u001b[32m7.9502%\u001b[39m.\n",
      "\t\t\u001b[1mAggregate cost\u001b[0m of the above recourses = \u001b[35minf\u001b[39m\n",
      "\tSubgroup '\u001b[1mM\u001b[0m', \u001b[34m90.2697%\u001b[39m covered out of 314181\n",
      "\t\tMake \u001b[1m\u001b[31marea = Urban\u001b[39m\u001b[0m with correctness \u001b[32m90.0053%\u001b[39m.\n",
      "\t\t\u001b[1mAggregate cost\u001b[0m of the above recourses = \u001b[35m1.0\u001b[39m\n",
      "If \u001b[1mincome = Unknown, area = Unknown\u001b[0m:\n",
      "\tSubgroup '\u001b[1mF\u001b[0m', \u001b[34m69.0535%\u001b[39m covered out of 600135\n",
      "\t\tMake \u001b[1m\u001b[31marea = Urban\u001b[39m\u001b[0m with correctness \u001b[32m7.8037%\u001b[39m.\n",
      "\t\t\u001b[1mAggregate cost\u001b[0m of the above recourses = \u001b[35minf\u001b[39m\n",
      "\tSubgroup '\u001b[1mM\u001b[0m', \u001b[34m86.6242%\u001b[39m covered out of 314181\n",
      "\t\tMake \u001b[1m\u001b[31marea = Urban\u001b[39m\u001b[0m with correctness \u001b[32m90.0577%\u001b[39m.\n",
      "\t\t\u001b[1mAggregate cost\u001b[0m of the above recourses = \u001b[35m1.0\u001b[39m\n",
      "If \u001b[1mincome = Unknown, homeowner = 1, area = Unknown\u001b[0m:\n",
      "\tSubgroup '\u001b[1mF\u001b[0m', \u001b[34m67.9877%\u001b[39m covered out of 600135\n",
      "\t\tMake \u001b[1m\u001b[31marea = Urban\u001b[39m\u001b[0m with correctness \u001b[32m6.8430%\u001b[39m.\n",
      "\t\t\u001b[1mAggregate cost\u001b[0m of the above recourses = \u001b[35minf\u001b[39m\n",
      "\tSubgroup '\u001b[1mM\u001b[0m', \u001b[34m85.2464%\u001b[39m covered out of 314181\n",
      "\t\tMake \u001b[1m\u001b[31marea = Urban\u001b[39m\u001b[0m with correctness \u001b[32m90.4083%\u001b[39m.\n",
      "\t\t\u001b[1mAggregate cost\u001b[0m of the above recourses = \u001b[35m1.0\u001b[39m\n",
      "If \u001b[1marea = Unknown, parents = 1\u001b[0m:\n",
      "\tSubgroup '\u001b[1mF\u001b[0m', \u001b[34m67.3819%\u001b[39m covered out of 600135\n",
      "\t\tMake \u001b[1m\u001b[31marea = Urban\u001b[39m\u001b[0m with correctness \u001b[32m7.4895%\u001b[39m.\n",
      "\t\t\u001b[1mAggregate cost\u001b[0m of the above recourses = \u001b[35minf\u001b[39m\n",
      "\tSubgroup '\u001b[1mM\u001b[0m', \u001b[34m84.6179%\u001b[39m covered out of 314181\n",
      "\t\tMake \u001b[1m\u001b[31marea = Urban\u001b[39m\u001b[0m with correctness \u001b[32m94.9580%\u001b[39m.\n",
      "\t\t\u001b[1mAggregate cost\u001b[0m of the above recourses = \u001b[35m1.0\u001b[39m\n",
      "If \u001b[1mincome = Unknown, college_educated = 1, area = Unknown\u001b[0m:\n",
      "\tSubgroup '\u001b[1mF\u001b[0m', \u001b[34m65.1298%\u001b[39m covered out of 600135\n",
      "\t\tMake \u001b[1m\u001b[31marea = Urban\u001b[39m\u001b[0m with correctness \u001b[32m2.8361%\u001b[39m.\n",
      "\t\t\u001b[1mAggregate cost\u001b[0m of the above recourses = \u001b[35minf\u001b[39m\n",
      "\tSubgroup '\u001b[1mM\u001b[0m', \u001b[34m81.7399%\u001b[39m covered out of 314181\n",
      "\t\tMake \u001b[1m\u001b[31marea = Urban\u001b[39m\u001b[0m with correctness \u001b[32m90.0623%\u001b[39m.\n",
      "\t\t\u001b[1mAggregate cost\u001b[0m of the above recourses = \u001b[35m1.0\u001b[39m\n",
      "If \u001b[1mincome = Unknown, area = Unknown, parents = 1\u001b[0m:\n",
      "\tSubgroup '\u001b[1mF\u001b[0m', \u001b[34m64.8371%\u001b[39m covered out of 600135\n",
      "\t\tMake \u001b[1m\u001b[31marea = Urban\u001b[39m\u001b[0m with correctness \u001b[32m7.4697%\u001b[39m.\n",
      "\t\t\u001b[1mAggregate cost\u001b[0m of the above recourses = \u001b[35minf\u001b[39m\n",
      "\tSubgroup '\u001b[1mM\u001b[0m', \u001b[34m81.3148%\u001b[39m covered out of 314181\n",
      "\t\tMake \u001b[1m\u001b[31marea = Urban\u001b[39m\u001b[0m with correctness \u001b[32m95.0522%\u001b[39m.\n",
      "\t\t\u001b[1mAggregate cost\u001b[0m of the above recourses = \u001b[35m1.0\u001b[39m\n",
      "If \u001b[1mincome = Unknown, homeowner = 1, age = 55-64, area = Unknown\u001b[0m:\n",
      "\tSubgroup '\u001b[1mF\u001b[0m', \u001b[34m63.6280%\u001b[39m covered out of 600135\n",
      "\t\tMake \u001b[1m\u001b[31marea = Urban\u001b[39m\u001b[0m with correctness \u001b[32m5.3978%\u001b[39m.\n",
      "\t\t\u001b[1mAggregate cost\u001b[0m of the above recourses = \u001b[35minf\u001b[39m\n",
      "\tSubgroup '\u001b[1mM\u001b[0m', \u001b[34m79.8009%\u001b[39m covered out of 314181\n",
      "\t\tMake \u001b[1m\u001b[31marea = Urban\u001b[39m\u001b[0m with correctness \u001b[32m94.6345%\u001b[39m.\n",
      "\t\t\u001b[1mAggregate cost\u001b[0m of the above recourses = \u001b[35m1.0\u001b[39m\n",
      "If \u001b[1marea = Urban, homeowner = 1\u001b[0m:\n",
      "\tSubgroup '\u001b[1mF\u001b[0m', \u001b[34m22.8222%\u001b[39m covered out of 600135\n",
      "\t\tMake \u001b[1m\u001b[31marea = Unknown\u001b[39m, \u001b[31mhomeowner = 0\u001b[39m\u001b[0m with correctness \u001b[32m89.6935%\u001b[39m.\n",
      "\t\t\u001b[1mAggregate cost\u001b[0m of the above recourses = \u001b[35m2.0\u001b[39m\n",
      "\tSubgroup '\u001b[1mM\u001b[0m', \u001b[34m3.0202%\u001b[39m covered out of 314181\n",
      "\t\tMake \u001b[1m\u001b[31marea = Unknown\u001b[39m, \u001b[31mhomeowner = 0\u001b[39m\u001b[0m with correctness \u001b[32m0.0000%\u001b[39m.\n",
      "\t\t\u001b[1mAggregate cost\u001b[0m of the above recourses = \u001b[35minf\u001b[39m\n",
      "If \u001b[1marea = Urban, homeowner = 1, age = 55-64\u001b[0m:\n",
      "\tSubgroup '\u001b[1mF\u001b[0m', \u001b[34m21.6937%\u001b[39m covered out of 600135\n",
      "\t\tMake \u001b[1m\u001b[31mage = 25-34\u001b[39m\u001b[0m with correctness \u001b[32m94.3537%\u001b[39m.\n",
      "\t\t\u001b[1mAggregate cost\u001b[0m of the above recourses = \u001b[35m1.0\u001b[39m\n",
      "\tSubgroup '\u001b[1mM\u001b[0m', \u001b[34m1.5353%\u001b[39m covered out of 314181\n",
      "\t\tMake \u001b[1m\u001b[31mage = 25-34\u001b[39m\u001b[0m with correctness \u001b[32m0.0000%\u001b[39m.\n",
      "\t\t\u001b[1mAggregate cost\u001b[0m of the above recourses = \u001b[35minf\u001b[39m\n",
      "If \u001b[1marea = Urban, age = 55-64\u001b[0m:\n",
      "\tSubgroup '\u001b[1mF\u001b[0m', \u001b[34m21.6937%\u001b[39m covered out of 600135\n",
      "\t\tMake \u001b[1m\u001b[31marea = Unknown\u001b[39m\u001b[0m with correctness \u001b[32m0.0000%\u001b[39m.\n",
      "\t\tMake \u001b[1m\u001b[31mage = 25-34\u001b[39m\u001b[0m with correctness \u001b[32m94.3537%\u001b[39m.\n",
      "\t\tMake \u001b[1m\u001b[31marea = Unknown\u001b[39m, \u001b[31mage = 25-34\u001b[39m\u001b[0m with correctness \u001b[32m0.0000%\u001b[39m.\n",
      "\t\t\u001b[1mAggregate cost\u001b[0m of the above recourses = \u001b[35m1.0\u001b[39m\n",
      "\tSubgroup '\u001b[1mM\u001b[0m', \u001b[34m1.5353%\u001b[39m covered out of 314181\n",
      "\t\tMake \u001b[1m\u001b[31marea = Unknown\u001b[39m\u001b[0m with correctness \u001b[32m0.0000%\u001b[39m.\n",
      "\t\tMake \u001b[1m\u001b[31mage = 25-34\u001b[39m\u001b[0m with correctness \u001b[32m0.0000%\u001b[39m.\n",
      "\t\tMake \u001b[1m\u001b[31marea = Unknown\u001b[39m, \u001b[31mage = 25-34\u001b[39m\u001b[0m with correctness \u001b[32m0.0000%\u001b[39m.\n",
      "\t\t\u001b[1mAggregate cost\u001b[0m of the above recourses = \u001b[35minf\u001b[39m\n",
      "\n"
     ]
    }
   ],
   "source": [
    "rules_max_costdiff_sorted = gfacts.sort_triples_by_max_costdiff_ignore_nans(\n",
    "    rules_by_if,\n",
    "    params=params,\n",
    "    group_calculator=gfacts.if_group_cost_min_change_correctness_threshold,\n",
    "    cor_thres=0.5\n",
    ")\n",
    "\n",
    "pop_sizes = {sg: (ad_conversion_dataset[\"gender\"] == sg).sum() for sg in ad_conversion_dataset[\"gender\"].unique()}\n",
    "top = dict(rules_max_costdiff_sorted[:K])\n",
    "print(recourse_report_reverse(\n",
    "    top,\n",
    "    population_sizes = pop_sizes,\n",
    "    subgroup_costs=gfacts.calculate_all_if_subgroup_costs(\n",
    "        list(top.keys()),\n",
    "        list(top.values()),\n",
    "        group_calculator=gfacts.if_group_cost_min_change_correctness_threshold,\n",
    "        cor_thres=0.5\n",
    "    )\n",
    "))"
   ]
  },
  {
   "cell_type": "markdown",
   "id": "1a53fd71-ae5b-4d51-8276-7ffe71f42e07",
   "metadata": {},
   "source": [
    "## For each if-group, minimum cost of change among thens that surpass a correctness threshold vol. 2\n",
    "\n",
    "Before, when, for a subgroup, there were no thens that surpassed the threshold, the minimum cost of change was valued as infinity, and thus, as it is evident in the results, the algorithm finds many rules for which some groups surpass the threshold and some groups do not (because for those rules the difference between maximum and minimum cost of the subgroups evaluates to infinity).\n",
    "\n",
    "Here, the difference is that we will ignore altogether rules for which the correctness drops below the threshold for all recourses (for some subgroup), considering them as \"empty\"."
   ]
  },
  {
   "cell_type": "code",
   "execution_count": 33,
   "id": "c9013521-7af1-4980-8af0-a9b49871b69c",
   "metadata": {},
   "outputs": [
    {
     "name": "stdout",
     "output_type": "stream",
     "text": [
      "If \u001b[1marea = Unknown, age = 55-64\u001b[0m:\n",
      "\tSubgroup '\u001b[1mF\u001b[0m', \u001b[34m66.7114%\u001b[39m covered out of 600135\n",
      "\t\tMake \u001b[1m\u001b[31marea = Urban\u001b[39m, \u001b[31mage = 25-34\u001b[39m\u001b[0m with correctness \u001b[32m94.6599%\u001b[39m.\n",
      "\t\t\u001b[1mAggregate cost\u001b[0m of the above recourses = \u001b[35m2.0\u001b[39m\n",
      "\tSubgroup '\u001b[1mM\u001b[0m', \u001b[34m83.8089%\u001b[39m covered out of 314181\n",
      "\t\tMake \u001b[1m\u001b[31marea = Urban\u001b[39m\u001b[0m with correctness \u001b[32m94.6995%\u001b[39m.\n",
      "\t\tMake \u001b[1m\u001b[31marea = Urban\u001b[39m, \u001b[31mage = 25-34\u001b[39m\u001b[0m with correctness \u001b[32m94.6995%\u001b[39m.\n",
      "\t\t\u001b[1mAggregate cost\u001b[0m of the above recourses = \u001b[35m1.0\u001b[39m\n",
      "If \u001b[1marea = Unknown, age = 55-64, parents = 1\u001b[0m:\n",
      "\tSubgroup '\u001b[1mF\u001b[0m', \u001b[34m62.4944%\u001b[39m covered out of 600135\n",
      "\t\tMake \u001b[1m\u001b[31marea = Urban\u001b[39m, \u001b[31mage = 25-34\u001b[39m\u001b[0m with correctness \u001b[32m100.0000%\u001b[39m.\n",
      "\t\t\u001b[1mAggregate cost\u001b[0m of the above recourses = \u001b[35m2.0\u001b[39m\n",
      "\tSubgroup '\u001b[1mM\u001b[0m', \u001b[34m78.4889%\u001b[39m covered out of 314181\n",
      "\t\tMake \u001b[1m\u001b[31marea = Urban\u001b[39m\u001b[0m with correctness \u001b[32m100.0000%\u001b[39m.\n",
      "\t\tMake \u001b[1m\u001b[31marea = Urban\u001b[39m, \u001b[31mage = 25-34\u001b[39m\u001b[0m with correctness \u001b[32m100.0000%\u001b[39m.\n",
      "\t\t\u001b[1mAggregate cost\u001b[0m of the above recourses = \u001b[35m1.0\u001b[39m\n",
      "If \u001b[1mincome = Unknown, age = 55-64, area = Rural\u001b[0m:\n",
      "\tSubgroup '\u001b[1mF\u001b[0m', \u001b[34m4.8843%\u001b[39m covered out of 600135\n",
      "\t\tMake \u001b[1m\u001b[31mage = 25-34\u001b[39m, \u001b[31marea = Urban\u001b[39m\u001b[0m with correctness \u001b[32m94.6290%\u001b[39m.\n",
      "\t\t\u001b[1mAggregate cost\u001b[0m of the above recourses = \u001b[35m2.0\u001b[39m\n",
      "\tSubgroup '\u001b[1mM\u001b[0m', \u001b[34m6.1107%\u001b[39m covered out of 314181\n",
      "\t\tMake \u001b[1m\u001b[31marea = Urban\u001b[39m\u001b[0m with correctness \u001b[32m94.9449%\u001b[39m.\n",
      "\t\tMake \u001b[1m\u001b[31mage = 25-34\u001b[39m, \u001b[31marea = Urban\u001b[39m\u001b[0m with correctness \u001b[32m94.9449%\u001b[39m.\n",
      "\t\t\u001b[1mAggregate cost\u001b[0m of the above recourses = \u001b[35m1.0\u001b[39m\n",
      "If \u001b[1marea = Urban, age = 55-64, parents = 0\u001b[0m:\n",
      "\tSubgroup '\u001b[1mF\u001b[0m', \u001b[34m1.2249%\u001b[39m covered out of 600135\n",
      "\t\tMake \u001b[1m\u001b[31mage = 25-34\u001b[39m, \u001b[31mparents = 1\u001b[39m\u001b[0m with correctness \u001b[32m100.0000%\u001b[39m.\n",
      "\t\t\u001b[1mAggregate cost\u001b[0m of the above recourses = \u001b[35m2.0\u001b[39m\n",
      "\tSubgroup '\u001b[1mM\u001b[0m', \u001b[34m1.5353%\u001b[39m covered out of 314181\n",
      "\t\tMake \u001b[1m\u001b[31mparents = 1\u001b[39m\u001b[0m with correctness \u001b[32m100.0000%\u001b[39m.\n",
      "\t\tMake \u001b[1m\u001b[31mage = 25-34\u001b[39m, \u001b[31mparents = 1\u001b[39m\u001b[0m with correctness \u001b[32m100.0000%\u001b[39m.\n",
      "\t\t\u001b[1mAggregate cost\u001b[0m of the above recourses = \u001b[35m1.0\u001b[39m\n",
      "If \u001b[1mhomeowner = 1\u001b[0m:\n",
      "\tSubgroup '\u001b[1mF\u001b[0m', \u001b[34m98.6813%\u001b[39m covered out of 600135\n",
      "\t\tMake \u001b[1m\u001b[31mhomeowner = 0\u001b[39m\u001b[0m with correctness \u001b[32m91.8384%\u001b[39m.\n",
      "\t\t\u001b[1mAggregate cost\u001b[0m of the above recourses = \u001b[35m1.0\u001b[39m\n",
      "\tSubgroup '\u001b[1mM\u001b[0m', \u001b[34m98.2797%\u001b[39m covered out of 314181\n",
      "\t\tMake \u001b[1m\u001b[31mhomeowner = 0\u001b[39m\u001b[0m with correctness \u001b[32m89.6653%\u001b[39m.\n",
      "\t\t\u001b[1mAggregate cost\u001b[0m of the above recourses = \u001b[35m1.0\u001b[39m\n",
      "If \u001b[1mincome = Unknown, homeowner = 1\u001b[0m:\n",
      "\tSubgroup '\u001b[1mF\u001b[0m', \u001b[34m95.7373%\u001b[39m covered out of 600135\n",
      "\t\tMake \u001b[1m\u001b[31mhomeowner = 0\u001b[39m\u001b[0m with correctness \u001b[32m91.8701%\u001b[39m.\n",
      "\t\tMake \u001b[1m\u001b[31mincome = <100K\u001b[39m, \u001b[31mhomeowner = 0\u001b[39m\u001b[0m with correctness \u001b[32m91.8701%\u001b[39m.\n",
      "\t\tMake \u001b[1m\u001b[31mincome = >100K\u001b[39m, \u001b[31mhomeowner = 0\u001b[39m\u001b[0m with correctness \u001b[32m91.8701%\u001b[39m.\n",
      "\t\t\u001b[1mAggregate cost\u001b[0m of the above recourses = \u001b[35m1.0\u001b[39m\n",
      "\tSubgroup '\u001b[1mM\u001b[0m', \u001b[34m94.8589%\u001b[39m covered out of 314181\n",
      "\t\tMake \u001b[1m\u001b[31mhomeowner = 0\u001b[39m\u001b[0m with correctness \u001b[32m89.6521%\u001b[39m.\n",
      "\t\tMake \u001b[1m\u001b[31mincome = <100K\u001b[39m, \u001b[31mhomeowner = 0\u001b[39m\u001b[0m with correctness \u001b[32m89.6521%\u001b[39m.\n",
      "\t\tMake \u001b[1m\u001b[31mincome = >100K\u001b[39m, \u001b[31mhomeowner = 0\u001b[39m\u001b[0m with correctness \u001b[32m89.6553%\u001b[39m.\n",
      "\t\t\u001b[1mAggregate cost\u001b[0m of the above recourses = \u001b[35m1.0\u001b[39m\n",
      "If \u001b[1mcollege_educated = 1, homeowner = 1\u001b[0m:\n",
      "\tSubgroup '\u001b[1mF\u001b[0m', \u001b[34m94.2697%\u001b[39m covered out of 600135\n",
      "\t\tMake \u001b[1m\u001b[31mhomeowner = 0\u001b[39m\u001b[0m with correctness \u001b[32m91.9243%\u001b[39m.\n",
      "\t\tMake \u001b[1m\u001b[31mcollege_educated = 0\u001b[39m, \u001b[31mhomeowner = 0\u001b[39m\u001b[0m with correctness \u001b[32m91.9243%\u001b[39m.\n",
      "\t\t\u001b[1mAggregate cost\u001b[0m of the above recourses = \u001b[35m1.0\u001b[39m\n",
      "\tSubgroup '\u001b[1mM\u001b[0m', \u001b[34m92.7654%\u001b[39m covered out of 314181\n",
      "\t\tMake \u001b[1m\u001b[31mhomeowner = 0\u001b[39m\u001b[0m with correctness \u001b[32m89.6741%\u001b[39m.\n",
      "\t\tMake \u001b[1m\u001b[31mcollege_educated = 0\u001b[39m, \u001b[31mhomeowner = 0\u001b[39m\u001b[0m with correctness \u001b[32m89.6741%\u001b[39m.\n",
      "\t\t\u001b[1mAggregate cost\u001b[0m of the above recourses = \u001b[35m1.0\u001b[39m\n",
      "If \u001b[1mincome = Unknown, college_educated = 1, homeowner = 1\u001b[0m:\n",
      "\tSubgroup '\u001b[1mF\u001b[0m', \u001b[34m91.4670%\u001b[39m covered out of 600135\n",
      "\t\tMake \u001b[1m\u001b[31mhomeowner = 0\u001b[39m\u001b[0m with correctness \u001b[32m91.9568%\u001b[39m.\n",
      "\t\t\u001b[1mAggregate cost\u001b[0m of the above recourses = \u001b[35m1.0\u001b[39m\n",
      "\tSubgroup '\u001b[1mM\u001b[0m', \u001b[34m89.5250%\u001b[39m covered out of 314181\n",
      "\t\tMake \u001b[1m\u001b[31mhomeowner = 0\u001b[39m\u001b[0m with correctness \u001b[32m89.6676%\u001b[39m.\n",
      "\t\t\u001b[1mAggregate cost\u001b[0m of the above recourses = \u001b[35m1.0\u001b[39m\n",
      "If \u001b[1mcollege_educated = 1, age = 55-64, homeowner = 1\u001b[0m:\n",
      "\tSubgroup '\u001b[1mF\u001b[0m', \u001b[34m88.5946%\u001b[39m covered out of 600135\n",
      "\t\tMake \u001b[1m\u001b[31mhomeowner = 0\u001b[39m\u001b[0m with correctness \u001b[32m95.9024%\u001b[39m.\n",
      "\t\tMake \u001b[1m\u001b[31mcollege_educated = 0\u001b[39m, \u001b[31mhomeowner = 0\u001b[39m\u001b[0m with correctness \u001b[32m95.9024%\u001b[39m.\n",
      "\t\tMake \u001b[1m\u001b[31mage = 25-34\u001b[39m, \u001b[31mhomeowner = 0\u001b[39m\u001b[0m with correctness \u001b[32m95.9024%\u001b[39m.\n",
      "\t\t\u001b[1mAggregate cost\u001b[0m of the above recourses = \u001b[35m1.0\u001b[39m\n",
      "\tSubgroup '\u001b[1mM\u001b[0m', \u001b[34m85.5445%\u001b[39m covered out of 314181\n",
      "\t\tMake \u001b[1m\u001b[31mhomeowner = 0\u001b[39m\u001b[0m with correctness \u001b[32m94.7749%\u001b[39m.\n",
      "\t\tMake \u001b[1m\u001b[31mcollege_educated = 0\u001b[39m, \u001b[31mhomeowner = 0\u001b[39m\u001b[0m with correctness \u001b[32m94.7749%\u001b[39m.\n",
      "\t\tMake \u001b[1m\u001b[31mage = 25-34\u001b[39m, \u001b[31mhomeowner = 0\u001b[39m\u001b[0m with correctness \u001b[32m94.7749%\u001b[39m.\n",
      "\t\t\u001b[1mAggregate cost\u001b[0m of the above recourses = \u001b[35m1.0\u001b[39m\n",
      "If \u001b[1mincome = Unknown, college_educated = 1, age = 55-64, homeowner = 1\u001b[0m:\n",
      "\tSubgroup '\u001b[1mF\u001b[0m', \u001b[34m85.9579%\u001b[39m covered out of 600135\n",
      "\t\tMake \u001b[1m\u001b[31mhomeowner = 0\u001b[39m\u001b[0m with correctness \u001b[32m95.9337%\u001b[39m.\n",
      "\t\t\u001b[1mAggregate cost\u001b[0m of the above recourses = \u001b[35m1.0\u001b[39m\n",
      "\tSubgroup '\u001b[1mM\u001b[0m', \u001b[34m82.5167%\u001b[39m covered out of 314181\n",
      "\t\tMake \u001b[1m\u001b[31mhomeowner = 0\u001b[39m\u001b[0m with correctness \u001b[32m94.7722%\u001b[39m.\n",
      "\t\t\u001b[1mAggregate cost\u001b[0m of the above recourses = \u001b[35m1.0\u001b[39m\n",
      "\n"
     ]
    }
   ],
   "source": [
    "rules_max_costdiff_sorted = gfacts.sort_triples_by_max_costdiff_ignore_nans_infs(\n",
    "    rules_by_if,\n",
    "    params=params,\n",
    "    group_calculator=gfacts.if_group_cost_min_change_correctness_threshold,\n",
    "    cor_thres=0.5\n",
    ")\n",
    "\n",
    "pop_sizes = {sg: (ad_conversion_dataset[\"gender\"] == sg).sum() for sg in ad_conversion_dataset[\"gender\"].unique()}\n",
    "top = dict(rules_max_costdiff_sorted[:K])\n",
    "print(recourse_report_reverse(\n",
    "    gfacts.filter_by_correctness(top, threshold=0.5),\n",
    "    population_sizes = pop_sizes,\n",
    "    subgroup_costs=gfacts.calculate_all_if_subgroup_costs(\n",
    "        list(top.keys()),\n",
    "        list(top.values()),\n",
    "        group_calculator=gfacts.if_group_cost_min_change_correctness_threshold,\n",
    "        cor_thres=0.5\n",
    "    )\n",
    "))"
   ]
  },
  {
   "cell_type": "markdown",
   "id": "69b7315b-c508-4eb8-9e4b-3d3339ad2ec4",
   "metadata": {},
   "source": [
    "# Experimentation with cumulative correctness plots for each rule"
   ]
  },
  {
   "cell_type": "markdown",
   "id": "61cbd791-81bc-4d50-a386-14ddbfba14af",
   "metadata": {},
   "source": [
    "First, load state"
   ]
  },
  {
   "cell_type": "code",
   "execution_count": 5,
   "id": "417510c5-247f-4199-9d00-8957e6b12c94",
   "metadata": {
    "tags": []
   },
   "outputs": [],
   "source": [
    "import dill\n",
    "\n",
    "with open(\"state.data\", \"rb\") as inf:\n",
    "    rules_by_if, model, X_test = dill.load(inf)"
   ]
  },
  {
   "cell_type": "code",
   "execution_count": 6,
   "id": "09d495a7-b133-4a20-9c0e-9f1816e39245",
   "metadata": {
    "tags": []
   },
   "outputs": [
    {
     "data": {
      "text/plain": [
       "{'F': (0.014086470524868356,\n",
       "  [(Predicate(features=['area', 'age'], values=['Unknown', '55-64']),\n",
       "    0.16464237516869096),\n",
       "   (Predicate(features=['area', 'age'], values=['Urban', '55-64']),\n",
       "    0.2136752136752137),\n",
       "   (Predicate(features=['area', 'age'], values=['Urban', '25-34']),\n",
       "    0.9581646423751687),\n",
       "   (Predicate(features=['area', 'age'], values=['Unknown', '25-34']),\n",
       "    0.16464237516869096)]),\n",
       " 'M': (0.01805976083432731,\n",
       "  [(Predicate(features=['area', 'age'], values=['Unknown', '55-64']),\n",
       "    0.15410668924640136),\n",
       "   (Predicate(features=['area', 'age'], values=['Urban', '55-64']),\n",
       "    0.9576629974597799),\n",
       "   (Predicate(features=['area', 'age'], values=['Urban', '25-34']),\n",
       "    0.9576629974597799),\n",
       "   (Predicate(features=['area', 'age'], values=['Unknown', '25-34']),\n",
       "    0.15410668924640136)])}"
      ]
     },
     "execution_count": 6,
     "metadata": {},
     "output_type": "execute_result"
    }
   ],
   "source": [
    "test_if = gfacts.Predicate.from_dict({\"area\": \"Unknown\", \"age\": \"45-54\"})\n",
    "\n",
    "thens = rules_by_if[test_if]\n",
    "\n",
    "thens"
   ]
  },
  {
   "cell_type": "code",
   "execution_count": 7,
   "id": "c86db786-86dc-4b7f-8538-25b4eda5123f",
   "metadata": {
    "tags": []
   },
   "outputs": [
    {
     "name": "stdout",
     "output_type": "stream",
     "text": [
      "cumcorrs=array([0.16464238, 0.16464238, 0.21367521, 0.95816464])\n"
     ]
    },
    {
     "data": {
      "text/plain": [
       "[(Predicate(features=['area', 'age'], values=['Unknown', '55-64']),\n",
       "  0.16464237516869096,\n",
       "  1.0),\n",
       " (Predicate(features=['area', 'age'], values=['Unknown', '25-34']),\n",
       "  0.16464237516869096,\n",
       "  1.0),\n",
       " (Predicate(features=['area', 'age'], values=['Urban', '55-64']),\n",
       "  0.21367521367521367,\n",
       "  2.0),\n",
       " (Predicate(features=['area', 'age'], values=['Urban', '25-34']),\n",
       "  0.9581646423751687,\n",
       "  2.0)]"
      ]
     },
     "execution_count": 7,
     "metadata": {},
     "output_type": "execute_result"
    }
   ],
   "source": [
    "gender = \"F\"\n",
    "gfacts.cumcorr(test_if, thens[gender][1], X_test[(model.predict(X_test) == 0) & (X_test.gender == gender)], model)"
   ]
  },
  {
   "cell_type": "code",
   "execution_count": 9,
   "id": "a82a8f2d-e4df-4aec-8c22-d4d2fc89d389",
   "metadata": {
    "tags": []
   },
   "outputs": [
    {
     "data": {
      "text/plain": [
       "Text(0, 0.5, 'Correctness percentage')"
      ]
     },
     "execution_count": 9,
     "metadata": {},
     "output_type": "execute_result"
    },
    {
     "data": {
      "image/png": "[encoded data removed]",
      "text/plain": [
       "<Figure size 640x480 with 1 Axes>"
      ]
     },
     "metadata": {},
     "output_type": "display_data"
    }
   ],
   "source": [
    "costs = [1, 1, 2, 2]\n",
    "correctnesses = np.array([0.16464238, 0.16464238, 0.21367521, 0.95816464])\n",
    "\n",
    "fig, ax = plt.subplots()\n",
    "ax.plot(costs, correctnesses, marker=\"o\")\n",
    "ax.set_xlabel(\"Cost of change\")\n",
    "ax.set_ylabel(\"Correctness percentage\")"
   ]
  },
  {
   "cell_type": "markdown",
   "id": "8e571d0f-24c1-4ea2-8ad6-087fb3465e68",
   "metadata": {},
   "source": [
    "Finally, save state"
   ]
  },
  {
   "cell_type": "code",
   "execution_count": 44,
   "id": "de155a94-18f9-4307-a743-b444017fdab7",
   "metadata": {
    "tags": []
   },
   "outputs": [],
   "source": [
    "# import dill\n",
    "\n",
    "with open(\"state.data\", \"wb\") as outf:\n",
    "    dill.dump((rules_by_if, model, X_test), outf)"
   ]
  },
  {
   "cell_type": "code",
   "execution_count": null,
   "id": "8ca365aa-5d2d-400c-9ff8-ed6011e74156",
   "metadata": {},
   "outputs": [],
   "source": []
  }
 ],
 "metadata": {
  "kernelspec": {
   "display_name": "Python 3 (ipykernel)",
   "language": "python",
   "name": "python3"
  },
  "language_info": {
   "codemirror_mode": {
    "name": "ipython",
    "version": 3
   },
   "file_extension": ".py",
   "mimetype": "text/x-python",
   "name": "python",
   "nbconvert_exporter": "python",
   "pygments_lexer": "ipython3",
   "version": "3.9.15"
  }
 },
 "nbformat": 4,
 "nbformat_minor": 5
}
