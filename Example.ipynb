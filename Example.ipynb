{
 "cells": [
  {
   "cell_type": "code",
   "execution_count": 1,
   "id": "2680d6a2",
   "metadata": {},
   "outputs": [],
   "source": [
    "import numpy as np\n",
    "import pandas as pd\n",
    "# from apriori_python import apriori\n",
    "from pprint import pprint\n",
    "\n",
    "import lib"
   ]
  },
  {
   "cell_type": "code",
   "execution_count": 2,
   "id": "b988ac0f",
   "metadata": {},
   "outputs": [],
   "source": [
    "feature_names = [\n",
    "   \"Age\", \"Workclass\", \"fnlwgt\", \"Education\",\n",
    "   \"Education-Num\", \"Marital Status\", \"Occupation\",\n",
    "   \"Relationship\", \"Race\", \"Sex\", \"Capital Gain\",\n",
    "   \"Capital Loss\", \"Hours per week\", \"Country\", \"label\"\n",
    "]\n",
    "data = pd.DataFrame(\n",
    "  np.genfromtxt('adult.data', delimiter=', ', dtype=str),\n",
    "  columns=feature_names\n",
    ")"
   ]
  },
  {
   "cell_type": "code",
   "execution_count": 3,
   "id": "a1d74946",
   "metadata": {},
   "outputs": [],
   "source": [
    "d = data[[\"Education\", \"Race\", \"Age\", \"Sex\", \"Country\"]]\n",
    "y = data[\"label\"]\n",
    "\n",
    "RecourseRulesMale = [\n",
    "    ({\"Education\":\"Bachelors\", \"Race\":\"White\", \"Country\":\"Greece\"},\n",
    "     {\"Education\":\"Bachelors\", \"Race\":\"White\", \"Country\":\"United-States\"}),\n",
    "    ({\"Race\":\"White\", \"Country\":\"Greece\"}, {\"Race\":\"Black\", \"Country\":\"Greece\"}),\n",
    "    ({\"Sex\":\"Male\", \"Country\":\"Greece\"}, {\"Sex\":\"Female\", \"Country\":\"Greece\"})\n",
    "]\n",
    "\n",
    "RecourseRulesFemale = [\n",
    "    ({\"Education\":\"Bachelors\", \"Race\":\"White\", \"Country\":\"Greece\"},\n",
    "     {\"Education\":\"Bachelors\", \"Race\":\"White\", \"Country\":\"United-States\"}),\n",
    "    ({\"Race\":\"White\", \"Country\":\"Greece\"}, {\"Race\":\"Black\", \"Country\":\"Greece\"})\n",
    "]\n",
    "\n",
    "sex = lib.TwoLevelRecourseSet(\"Sex\", [\"Male\", \"Female\"])\n",
    "sex.addRules(\"Male\", RecourseRulesMale)\n",
    "sex.addRules(\"Female\", RecourseRulesFemale)"
   ]
  },
  {
   "cell_type": "code",
   "execution_count": 4,
   "id": "cd362eb2",
   "metadata": {},
   "outputs": [
    {
     "data": {
      "text/plain": [
       "[Predicate(features=['Education', 'Race', 'Country'], values=['Bachelors', 'White', 'United-States']),\n",
       " Predicate(features=['Race', 'Country'], values=['Black', 'Greece']),\n",
       " Predicate(features=['Sex', 'Country'], values=['Female', 'Greece'])]"
      ]
     },
     "execution_count": 4,
     "metadata": {},
     "output_type": "execute_result"
    }
   ],
   "source": [
    "list(sex.suggest(d.iloc[5839]))"
   ]
  },
  {
   "cell_type": "code",
   "execution_count": 5,
   "id": "2c1842fb",
   "metadata": {},
   "outputs": [],
   "source": [
    "class Dummy:\n",
    "    def predict(self, x):\n",
    "        if x[\"Sex\"] == \"Male\":\n",
    "            return 1\n",
    "        else:\n",
    "            return 0\n",
    "model = Dummy()\n",
    "\n",
    "X_aff = d.iloc[10_000:10_100]"
   ]
  },
  {
   "cell_type": "code",
   "execution_count": 6,
   "id": "91d0dd54",
   "metadata": {},
   "outputs": [
    {
     "name": "stdout",
     "output_type": "stream",
     "text": [
      "0\n",
      "0\n",
      "104\n",
      "5\n",
      "5\n",
      "3\n",
      "2000\n",
      "0\n",
      "13896\n",
      "135\n"
     ]
    }
   ],
   "source": [
    "print(lib.incorrectRecourses(sex, X_aff, model))\n",
    "print(lib.cover(sex, X_aff))\n",
    "print(lib.featureCost(sex))\n",
    "print(lib.featureChange(sex))\n",
    "print(lib.size(sex))\n",
    "print(lib.maxwidth(sex))\n",
    "\n",
    "print(lib.reward1(sex, X_aff, model))\n",
    "print(lib.reward2(sex, X_aff))\n",
    "print(lib.reward3(sex))\n",
    "print(lib.reward4(sex))"
   ]
  },
  {
   "cell_type": "code",
   "execution_count": 7,
   "id": "cd0b037b",
   "metadata": {},
   "outputs": [
    {
     "data": {
      "text/plain": [
       "33"
      ]
     },
     "execution_count": 7,
     "metadata": {},
     "output_type": "execute_result"
    }
   ],
   "source": [
    "len(X_aff[X_aff[\"Sex\"] == \"Female\"])"
   ]
  },
  {
   "cell_type": "code",
   "execution_count": 8,
   "id": "0dc55eb1",
   "metadata": {},
   "outputs": [
    {
     "name": "stdout",
     "output_type": "stream",
     "text": [
      "[Predicate(features=['Country'], values=['United-States']),\n",
      " Predicate(features=['Race'], values=['White']),\n",
      " Predicate(features=['Sex'], values=['Male']),\n",
      " Predicate(features=['Education'], values=['Bachelors']),\n",
      " Predicate(features=['Age'], values=['39']),\n",
      " Predicate(features=['Age'], values=['50']),\n",
      " Predicate(features=['Education'], values=['HS-grad']),\n",
      " Predicate(features=['Age'], values=['38']),\n",
      " Predicate(features=['Race'], values=['Black']),\n",
      " Predicate(features=['Education'], values=['11th'])]\n",
      "3077\n"
     ]
    }
   ],
   "source": [
    "freq_itemsets = lib.runApriori(d, min_support=0.001)\n",
    "RL = lib.aprioriout2predicateList(freq_itemsets, d)\n",
    "pprint(RL[:10])\n",
    "print(len(RL))"
   ]
  }
 ],
 "metadata": {
  "kernelspec": {
   "display_name": "Python 3 (ipykernel)",
   "language": "python",
   "name": "python3"
  },
  "language_info": {
   "codemirror_mode": {
    "name": "ipython",
    "version": 3
   },
   "file_extension": ".py",
   "mimetype": "text/x-python",
   "name": "python",
   "nbconvert_exporter": "python",
   "pygments_lexer": "ipython3",
   "version": "3.9.15"
  }
 },
 "nbformat": 4,
 "nbformat_minor": 5
}
