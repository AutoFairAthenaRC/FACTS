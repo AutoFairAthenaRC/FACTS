{
 "cells": [
  {
   "cell_type": "code",
   "execution_count": 1,
   "metadata": {
    "tags": []
   },
   "outputs": [],
   "source": [
    "import pandas as pd\n",
    "import numpy as np\n",
    "from pprint import pprint\n",
    "\n",
    "from sklearn.model_selection import train_test_split\n",
    "from sklearn.metrics import classification_report, confusion_matrix, ConfusionMatrixDisplay\n",
    "\n",
    "import os\n",
    "import sys\n",
    "module_path = os.path.abspath(os.path.join('..'))\n",
    "if module_path not in sys.path:\n",
    "    sys.path.append(module_path)\n",
    "\n",
    "import facts\n",
    "from facts import valid_ifthens_with_coverage_correctness, rules2rulesbyif\n",
    "from facts.models import customLogisticRegression\n",
    "from facts.parameters import ParameterProxy\n",
    "from facts.formatting import recourse_report_reverse, print_recourse_report\n",
    "import matplotlib.pyplot as plt\n",
    "\n",
    "from IPython.display import Markdown, display"
   ]
  },
  {
   "cell_type": "markdown",
   "metadata": {},
   "source": [
    "## Load Dataset"
   ]
  },
  {
   "cell_type": "code",
   "execution_count": 2,
   "metadata": {
    "tags": []
   },
   "outputs": [
    {
     "data": {
      "text/html": [
       "<div>\n",
       "<style scoped>\n",
       "    .dataframe tbody tr th:only-of-type {\n",
       "        vertical-align: middle;\n",
       "    }\n",
       "\n",
       "    .dataframe tbody tr th {\n",
       "        vertical-align: top;\n",
       "    }\n",
       "\n",
       "    .dataframe thead th {\n",
       "        text-align: right;\n",
       "    }\n",
       "</style>\n",
       "<table border=\"1\" class=\"dataframe\">\n",
       "  <thead>\n",
       "    <tr style=\"text-align: right;\">\n",
       "      <th></th>\n",
       "      <th>gender</th>\n",
       "      <th>department</th>\n",
       "      <th>accepted</th>\n",
       "    </tr>\n",
       "  </thead>\n",
       "  <tbody>\n",
       "    <tr>\n",
       "      <th>0</th>\n",
       "      <td>Male</td>\n",
       "      <td>A</td>\n",
       "      <td>1</td>\n",
       "    </tr>\n",
       "    <tr>\n",
       "      <th>1</th>\n",
       "      <td>Male</td>\n",
       "      <td>A</td>\n",
       "      <td>1</td>\n",
       "    </tr>\n",
       "    <tr>\n",
       "      <th>2</th>\n",
       "      <td>Male</td>\n",
       "      <td>A</td>\n",
       "      <td>1</td>\n",
       "    </tr>\n",
       "    <tr>\n",
       "      <th>3</th>\n",
       "      <td>Male</td>\n",
       "      <td>A</td>\n",
       "      <td>1</td>\n",
       "    </tr>\n",
       "    <tr>\n",
       "      <th>4</th>\n",
       "      <td>Male</td>\n",
       "      <td>A</td>\n",
       "      <td>1</td>\n",
       "    </tr>\n",
       "  </tbody>\n",
       "</table>\n",
       "</div>"
      ],
      "text/plain": [
       "  gender department  accepted\n",
       "0   Male          A         1\n",
       "1   Male          A         1\n",
       "2   Male          A         1\n",
       "3   Male          A         1\n",
       "4   Male          A         1"
      ]
     },
     "execution_count": 2,
     "metadata": {},
     "output_type": "execute_result"
    }
   ],
   "source": [
    "urlfile= \"https://raw.githubusercontent.com/columbia/fairtest/master/data/berkeley/berkeley.csv\"\n",
    "\n",
    "X = pd.read_csv(urlfile)\n",
    "num_features = X._get_numeric_data().columns.to_list()\n",
    "\n",
    "X['accepted'] = np.where((X['accepted'] == ' Yes') , 1, 0)\n",
    "df = X.copy()\n",
    "cate_features = df.select_dtypes(include=['object']).columns.to_list()\n",
    "\n",
    "df.head()"
   ]
  },
  {
   "cell_type": "markdown",
   "metadata": {},
   "source": [
    "## Model training and test"
   ]
  },
  {
   "cell_type": "code",
   "execution_count": 3,
   "metadata": {
    "tags": []
   },
   "outputs": [],
   "source": [
    "X = df.drop('accepted', axis=1)\n",
    "y = df['accepted']\n",
    "\n",
    "X_train, X_test, y_train, y_test = train_test_split(X, y, train_size=0.7, random_state=None, stratify=y)\n",
    "\n",
    "X_train = X_train.reset_index(drop=True)\n",
    "X_test = X_test.reset_index(drop=True)\n",
    "y_train = y_train.reset_index(drop=True)\n",
    "y_test = y_test.reset_index(drop=True)"
   ]
  },
  {
   "cell_type": "code",
   "execution_count": 4,
   "metadata": {
    "tags": []
   },
   "outputs": [
    {
     "name": "stdout",
     "output_type": "stream",
     "text": [
      "CPU times: total: 0 ns\n",
      "Wall time: 30.9 ms\n"
     ]
    },
    {
     "data": {
      "text/plain": [
       "array([0., 0., 1., 1., 0., 1., 0., 1., 1., 1., 0., 0., 1., 0., 1., 1., 0.,\n",
       "       0., 1., 0., 0., 0., 0., 0., 0., 1., 0., 1., 0., 1., 1., 1., 0., 1.,\n",
       "       1., 0., 0., 0., 0., 0., 0., 0., 0., 1., 0., 0., 1., 0., 0., 0., 0.,\n",
       "       0., 0., 1., 0., 1., 0., 1., 0., 0., 1., 1., 0., 0., 0., 1., 0., 1.,\n",
       "       0., 1., 0., 1., 0., 0., 1., 1., 1., 0., 0., 0., 0., 1., 0., 0., 0.,\n",
       "       0., 0., 1., 0., 0., 0., 0., 0., 0., 0., 1., 1., 0., 1., 0.])"
      ]
     },
     "execution_count": 4,
     "metadata": {},
     "output_type": "execute_result"
    }
   ],
   "source": [
    "%%time\n",
    "\n",
    "model = customLogisticRegression(max_iter = 1500)\n",
    "model.fit(X_train, y_train, cate_columns=cate_features, target_column='accepted')\n",
    "model.predict(X_test.iloc[:100, :])"
   ]
  },
  {
   "cell_type": "code",
   "execution_count": 5,
   "metadata": {
    "tags": []
   },
   "outputs": [
    {
     "name": "stdout",
     "output_type": "stream",
     "text": [
      "              precision    recall  f1-score   support\n",
      "\n",
      "           0       0.74      0.80      0.77       802\n",
      "           1       0.65      0.56      0.60       526\n",
      "\n",
      "    accuracy                           0.70      1328\n",
      "   macro avg       0.69      0.68      0.68      1328\n",
      "weighted avg       0.70      0.70      0.70      1328\n",
      "\n"
     ]
    }
   ],
   "source": [
    "positive_label = 1\n",
    "negative_label = 0\n",
    "preds = model.predict(X_test)\n",
    "print(classification_report(y_test.map({negative_label: 0, positive_label: 1}), preds))"
   ]
  },
  {
   "cell_type": "code",
   "execution_count": 6,
   "metadata": {
    "tags": []
   },
   "outputs": [
    {
     "data": {
      "image/png": "[encoded data removed]",
      "text/plain": [
       "<Figure size 640x480 with 2 Axes>"
      ]
     },
     "metadata": {},
     "output_type": "display_data"
    }
   ],
   "source": [
    "conf_matrix = confusion_matrix(y_test, preds)\n",
    "cm_disp = ConfusionMatrixDisplay(confusion_matrix=conf_matrix)\n",
    "cm_disp.plot()\n",
    "plt.show()"
   ]
  },
  {
   "cell_type": "markdown",
   "metadata": {},
   "source": [
    "## Find all valid if-thens with all respective coverages and correctness, for all subgroups.\n",
    "\n",
    "**Caution!** This step takes time. Uncomment the following block if you wish to run."
   ]
  },
  {
   "cell_type": "code",
   "execution_count": 7,
   "metadata": {
    "tags": []
   },
   "outputs": [
    {
     "name": "stdout",
     "output_type": "stream",
     "text": [
      "Computing frequent itemsets for each subgroup of the affected instances.\n"
     ]
    },
    {
     "name": "stderr",
     "output_type": "stream",
     "text": [
      "100%|███████████████████████████████████████████████████████████████████████████████████| 2/2 [00:00<00:00, 157.54it/s]"
     ]
    },
    {
     "name": "stdout",
     "output_type": "stream",
     "text": [
      "Computing the intersection between the frequent itemsets of each subgroup of the affected instances.\n"
     ]
    },
    {
     "name": "stderr",
     "output_type": "stream",
     "text": [
      "\n",
      "100%|████████████████████████████████████████████████████████████████████████████████████████████| 2/2 [00:00<?, ?it/s]\n",
      "100%|████████████████████████████████████████████████████████████████████████████████████████████| 1/1 [00:00<?, ?it/s]"
     ]
    },
    {
     "name": "stdout",
     "output_type": "stream",
     "text": [
      "4 4\n",
      "Computing all valid if-then pairs between the common frequent itemsets of each subgroup of the affected instances and the frequent itemsets of the unaffacted instances.\n"
     ]
    },
    {
     "name": "stderr",
     "output_type": "stream",
     "text": [
      "\n",
      "100%|████████████████████████████████████████████████████████████████████████████████████████████| 4/4 [00:00<?, ?it/s]"
     ]
    },
    {
     "name": "stdout",
     "output_type": "stream",
     "text": [
      "Computing correctenesses for all valid if-thens.\n"
     ]
    },
    {
     "name": "stderr",
     "output_type": "stream",
     "text": [
      "\n",
      "0it [00:00, ?it/s]"
     ]
    },
    {
     "name": "stdout",
     "output_type": "stream",
     "text": [
      "Number of if-thens: 0\n"
     ]
    },
    {
     "name": "stderr",
     "output_type": "stream",
     "text": [
      "\n"
     ]
    }
   ],
   "source": [
    "ifthens_coverage_correctness = valid_ifthens_with_coverage_correctness(\n",
    "    X_test,\n",
    "    model=model,\n",
    "    sensitive_attribute='gender',\n",
    "    missing_subgroup_val=\"Unknown\",\n",
    "    drop_above=False,\n",
    "    drop_infeasible=False\n",
    ")\n",
    "\n",
    "print(f\"Number of if-thens: {len(ifthens_coverage_correctness)}\")\n",
    "rules_by_if = rules2rulesbyif(ifthens_coverage_correctness)"
   ]
  },
  {
   "cell_type": "markdown",
   "metadata": {},
   "source": [
    "### Note\n",
    "\n",
    "As of the time of writing, no if-then rules can be found at all, because we have added the check that each \"recourse\" should not change **all** the features of the dataset (driven by the results on the Lipton dataset). Thus, since here we have essentially only one column, all recourses are deemed invalid."
   ]
  },
  {
   "cell_type": "code",
   "execution_count": 8,
   "metadata": {
    "tags": []
   },
   "outputs": [],
   "source": [
    "# ### Uncomment if you wish to load rules object from disk\n",
    "\n",
    "# import dill\n",
    "\n",
    "# with open(\"rulesAdultFairTest.data\", \"rb\") as inf:\n",
    "#     rules_by_if = dill.load(inf)"
   ]
  },
  {
   "cell_type": "code",
   "execution_count": 9,
   "metadata": {
    "tags": []
   },
   "outputs": [],
   "source": [
    "### Uncomment if you wish to save rules object on disk\n",
    "\n",
    "import dill\n",
    "\n",
    "with open(\"rulesBerkeley.data\", \"wb\") as outf:\n",
    "    dill.dump(rules_by_if, outf)"
   ]
  },
  {
   "cell_type": "code",
   "execution_count": 9,
   "metadata": {
    "tags": []
   },
   "outputs": [
    {
     "name": "stdout",
     "output_type": "stream",
     "text": [
      "\u001b[1mWith the given parameters, no recourses showing unfairness have been found!\u001b[0m\n",
      "\n"
     ]
    }
   ],
   "source": [
    "K = 10\n",
    "\n",
    "# keep K ifs with maximum coverage on Females\n",
    "# TODO: the below is currently dataset dependent\n",
    "# rules_by_if_filtered = sorted(rules_by_if.items(), key=lambda e: e[1][\"F\"][0][1], reverse=True)[:K]\n",
    "\n",
    "# keep K ifs with maximum absolute difference in correctness between Males and Females.\n",
    "# TODO: the below is currently dataset dependent\n",
    "rules_by_if_filtered = sorted(rules_by_if.items(), key=lambda e: abs(e[1][\"Male\"][1][0][1]-e[1][\"Female\"][1][0][1]), reverse=True)[:K]\n",
    "\n",
    "rules_by_if_filtered = dict(rules_by_if_filtered)\n",
    "\n",
    "print(recourse_report_reverse(rules_by_if_filtered))"
   ]
  },
  {
   "cell_type": "markdown",
   "metadata": {},
   "source": [
    "# Filter rules by different fairness definitions\n",
    "\n",
    "Here, we explore more sophisticated ways of picking the \"top\" K rules and showing only those.\n",
    "\n",
    "We start ranking the rule \"groups\" (all recourses for a single \"if\") by averaging out the costs of all suggested recourses, weighted by the respective correctness. For now, the \"cost\" of a recourse is simply the number of features whose value changes (and the magnitude of the change for numerical features, but here there are none)."
   ]
  },
  {
   "cell_type": "code",
   "execution_count": 11,
   "metadata": {
    "tags": []
   },
   "outputs": [],
   "source": [
    "feature_weights = {\"gender\": 1}\n",
    "comparators = facts.naive_feature_change_builder(num_cols=num_features, cate_cols=cate_features, feature_weights=feature_weights)\n",
    "params = ParameterProxy(featureChanges=comparators)"
   ]
  },
  {
   "cell_type": "markdown",
   "metadata": {},
   "source": [
    "## Weighted Average Score"
   ]
  },
  {
   "cell_type": "code",
   "execution_count": 12,
   "metadata": {
    "tags": []
   },
   "outputs": [
    {
     "name": "stdout",
     "output_type": "stream",
     "text": [
      "If \u001b[1mdepartment =  C\u001b[0m:\n",
      "\tSubgroup '\u001b[1mFemale\u001b[0m', \u001b[34m31.89%\u001b[39m covered out of 1835\n",
      "\t\tMake \u001b[1m\u001b[31mdepartment =  A\u001b[39m\u001b[0m with correctness \u001b[32m100.00%\u001b[39m.\n",
      "\t\tMake \u001b[1m\u001b[31mdepartment =  B\u001b[39m\u001b[0m with correctness \u001b[32m100.00%\u001b[39m.\n",
      "\t\t\u001b[1mAggregate cost\u001b[0m of the above recourses = \u001b[35m-1.00\u001b[39m\n",
      "\tSubgroup '\u001b[1mMale\u001b[0m', \u001b[34m28.92%\u001b[39m covered out of 2590\n",
      "\t\tMake \u001b[1m\u001b[31mdepartment =  A\u001b[39m\u001b[0m with correctness \u001b[32m100.00%\u001b[39m.\n",
      "\t\tMake \u001b[1m\u001b[31mdepartment =  B\u001b[39m\u001b[0m with correctness \u001b[32m100.00%\u001b[39m.\n",
      "\t\t\u001b[1mAggregate cost\u001b[0m of the above recourses = \u001b[35m-1.00\u001b[39m\n",
      "\tNo bias!\n",
      "If \u001b[1mdepartment =  E\u001b[0m:\n",
      "\tSubgroup '\u001b[1mFemale\u001b[0m', \u001b[34m25.39%\u001b[39m covered out of 1835\n",
      "\t\tMake \u001b[1m\u001b[31mdepartment =  A\u001b[39m\u001b[0m with correctness \u001b[32m100.00%\u001b[39m.\n",
      "\t\tMake \u001b[1m\u001b[31mdepartment =  B\u001b[39m\u001b[0m with correctness \u001b[32m100.00%\u001b[39m.\n",
      "\t\t\u001b[1mAggregate cost\u001b[0m of the above recourses = \u001b[35m-1.00\u001b[39m\n",
      "\tSubgroup '\u001b[1mMale\u001b[0m', \u001b[34m15.95%\u001b[39m covered out of 2590\n",
      "\t\tMake \u001b[1m\u001b[31mdepartment =  A\u001b[39m\u001b[0m with correctness \u001b[32m100.00%\u001b[39m.\n",
      "\t\tMake \u001b[1m\u001b[31mdepartment =  B\u001b[39m\u001b[0m with correctness \u001b[32m100.00%\u001b[39m.\n",
      "\t\t\u001b[1mAggregate cost\u001b[0m of the above recourses = \u001b[35m-1.00\u001b[39m\n",
      "\tNo bias!\n",
      "If \u001b[1mdepartment =  D\u001b[0m:\n",
      "\tSubgroup '\u001b[1mFemale\u001b[0m', \u001b[34m21.65%\u001b[39m covered out of 1835\n",
      "\t\tMake \u001b[1m\u001b[31mdepartment =  A\u001b[39m\u001b[0m with correctness \u001b[32m100.00%\u001b[39m.\n",
      "\t\tMake \u001b[1m\u001b[31mdepartment =  B\u001b[39m\u001b[0m with correctness \u001b[32m100.00%\u001b[39m.\n",
      "\t\t\u001b[1mAggregate cost\u001b[0m of the above recourses = \u001b[35m-1.00\u001b[39m\n",
      "\tSubgroup '\u001b[1mMale\u001b[0m', \u001b[34m31.35%\u001b[39m covered out of 2590\n",
      "\t\tMake \u001b[1m\u001b[31mdepartment =  A\u001b[39m\u001b[0m with correctness \u001b[32m100.00%\u001b[39m.\n",
      "\t\tMake \u001b[1m\u001b[31mdepartment =  B\u001b[39m\u001b[0m with correctness \u001b[32m100.00%\u001b[39m.\n",
      "\t\t\u001b[1mAggregate cost\u001b[0m of the above recourses = \u001b[35m-1.00\u001b[39m\n",
      "\tNo bias!\n",
      "If \u001b[1mdepartment =  F\u001b[0m:\n",
      "\tSubgroup '\u001b[1mFemale\u001b[0m', \u001b[34m21.06%\u001b[39m covered out of 1835\n",
      "\t\tMake \u001b[1m\u001b[31mdepartment =  A\u001b[39m\u001b[0m with correctness \u001b[32m100.00%\u001b[39m.\n",
      "\t\tMake \u001b[1m\u001b[31mdepartment =  B\u001b[39m\u001b[0m with correctness \u001b[32m100.00%\u001b[39m.\n",
      "\t\t\u001b[1mAggregate cost\u001b[0m of the above recourses = \u001b[35m-1.00\u001b[39m\n",
      "\tSubgroup '\u001b[1mMale\u001b[0m', \u001b[34m23.78%\u001b[39m covered out of 2590\n",
      "\t\tMake \u001b[1m\u001b[31mdepartment =  A\u001b[39m\u001b[0m with correctness \u001b[32m100.00%\u001b[39m.\n",
      "\t\tMake \u001b[1m\u001b[31mdepartment =  B\u001b[39m\u001b[0m with correctness \u001b[32m100.00%\u001b[39m.\n",
      "\t\t\u001b[1mAggregate cost\u001b[0m of the above recourses = \u001b[35m-1.00\u001b[39m\n",
      "\tNo bias!\n",
      "\n"
     ]
    }
   ],
   "source": [
    "top_rules, subgroup_costs = facts.select_rules_subset(\n",
    "    rules_by_if,\n",
    "    metric = \"weighted-average\",\n",
    "    sort_strategy = \"abs-diff-decr\",\n",
    "    top_count = 10\n",
    ")\n",
    "\n",
    "pop_sizes = {sg: (X[\"gender\"] == sg).sum() for sg in X[\"gender\"].unique()}\n",
    "print(recourse_report_reverse(\n",
    "    top_rules,\n",
    "    population_sizes=pop_sizes,\n",
    "    subgroup_costs=subgroup_costs,\n",
    "    show_subgroup_costs=True\n",
    "))"
   ]
  },
  {
   "cell_type": "markdown",
   "metadata": {},
   "source": [
    "## Minimum cost above threshold"
   ]
  },
  {
   "cell_type": "code",
   "execution_count": 13,
   "metadata": {
    "tags": []
   },
   "outputs": [
    {
     "name": "stdout",
     "output_type": "stream",
     "text": [
      "\u001b[1mWith the given parameters, no recourses showing unfairness have been found!\u001b[0m\n",
      "\n"
     ]
    }
   ],
   "source": [
    "top_rules, subgroup_costs = facts.select_rules_subset(\n",
    "    rules_by_if,\n",
    "    metric=\"min-above-thr\",\n",
    "    sort_strategy=\"abs-diff-decr-ignore-forall-subgroups-empty\",\n",
    "    top_count=10,\n",
    "    cor_threshold=0.5,\n",
    "    filter_sequence=[\"remove-below-thr\", \"remove-fair-rules\"],\n",
    "    secondary_sorting=True\n",
    ")\n",
    "\n",
    "pop_sizes = {sg: (X[\"gender\"] == sg).sum() for sg in X[\"gender\"].unique()}\n",
    "print(recourse_report_reverse(\n",
    "    top_rules,\n",
    "    population_sizes = pop_sizes,\n",
    "    subgroup_costs=subgroup_costs,\n",
    "    show_subgroup_costs=True\n",
    "))"
   ]
  },
  {
   "cell_type": "markdown",
   "metadata": {},
   "source": [
    "## Mean cost above threshold"
   ]
  },
  {
   "cell_type": "code",
   "execution_count": 14,
   "metadata": {
    "tags": []
   },
   "outputs": [
    {
     "name": "stdout",
     "output_type": "stream",
     "text": [
      "\u001b[1mWith the given parameters, no recourses showing unfairness have been found!\u001b[0m\n",
      "\n"
     ]
    }
   ],
   "source": [
    "top_rules, subgroup_costs = facts.select_rules_subset(\n",
    "    rules_by_if,\n",
    "    metric=\"mean-above-thr\",\n",
    "    sort_strategy=\"abs-diff-decr-ignore-forall-subgroups-empty\",\n",
    "    top_count=10,\n",
    "    cor_threshold=0.5,\n",
    "    filter_sequence=[\"remove-below-thr\", \"remove-fair-rules\"]\n",
    ")\n",
    "\n",
    "pop_sizes = {sg: (X[\"gender\"] == sg).sum() for sg in X[\"gender\"].unique()}\n",
    "print(recourse_report_reverse(\n",
    "    top_rules,\n",
    "    population_sizes = pop_sizes,\n",
    "    subgroup_costs=subgroup_costs,\n",
    "    show_subgroup_costs=True\n",
    "))"
   ]
  },
  {
   "cell_type": "markdown",
   "metadata": {},
   "source": [
    "## Number above threshold"
   ]
  },
  {
   "cell_type": "code",
   "execution_count": 15,
   "metadata": {
    "tags": []
   },
   "outputs": [
    {
     "name": "stdout",
     "output_type": "stream",
     "text": [
      "\u001b[1mWith the given parameters, no recourses showing unfairness have been found!\u001b[0m\n",
      "\n"
     ]
    }
   ],
   "source": [
    "top_rules, subgroup_costs = facts.select_rules_subset(\n",
    "    rules_by_if,\n",
    "    metric=\"num-above-thr\",\n",
    "    sort_strategy=\"abs-diff-decr-ignore-forall-subgroups-empty\",\n",
    "    top_count=10,\n",
    "    cor_threshold=0.5,\n",
    "    filter_sequence=[\"remove-below-thr\", \"remove-fair-rules\"]\n",
    ")\n",
    "\n",
    "pop_sizes = {sg: (X[\"gender\"] == sg).sum() for sg in X[\"gender\"].unique()}\n",
    "print(recourse_report_reverse(\n",
    "    top_rules,\n",
    "    population_sizes = pop_sizes,\n",
    "    subgroup_costs=subgroup_costs,\n",
    "    show_subgroup_costs=True\n",
    "))"
   ]
  },
  {
   "cell_type": "markdown",
   "metadata": {},
   "source": [
    "# Aggregate correctness of rules and cost correctness plots"
   ]
  },
  {
   "cell_type": "markdown",
   "metadata": {},
   "source": [
    "Load state from disk, if you wish."
   ]
  },
  {
   "cell_type": "code",
   "execution_count": 18,
   "metadata": {
    "tags": []
   },
   "outputs": [],
   "source": [
    "import dill\n",
    "\n",
    "with open(\"stateAdultFairTest.data\", \"rb\") as inf:\n",
    "    rules_by_if, model, X_test = dill.load(inf)"
   ]
  },
  {
   "cell_type": "code",
   "execution_count": 19,
   "metadata": {
    "tags": []
   },
   "outputs": [
    {
     "name": "stdout",
     "output_type": "stream",
     "text": [
      "If \u001b[1mdepartment =  C\u001b[0m:\n",
      "\tSubgroup '\u001b[1mFemale\u001b[0m', \u001b[34m31.89%\u001b[39m covered out of 1835\n",
      "\t\tMake \u001b[1m\u001b[31mdepartment =  A\u001b[39m\u001b[0m with correctness \u001b[32m100.00%\u001b[39m.\n",
      "\t\tMake \u001b[1m\u001b[31mdepartment =  B\u001b[39m\u001b[0m with correctness \u001b[32m100.00%\u001b[39m.\n",
      "\tSubgroup '\u001b[1mMale\u001b[0m', \u001b[34m28.92%\u001b[39m covered out of 2590\n",
      "\t\tMake \u001b[1m\u001b[31mdepartment =  A\u001b[39m\u001b[0m with correctness \u001b[32m100.00%\u001b[39m.\n",
      "\t\tMake \u001b[1m\u001b[31mdepartment =  B\u001b[39m\u001b[0m with correctness \u001b[32m100.00%\u001b[39m.\n",
      "\t\u001b[35mNo bias!\u001b[39m\n",
      "\t\u001b[36mCumulative correctness plot for the above recourses:\u001b[39m\n"
     ]
    },
    {
     "data": {
      "image/png": "[encoded data removed]",
      "text/plain": [
       "<Figure size 640x480 with 1 Axes>"
      ]
     },
     "metadata": {},
     "output_type": "display_data"
    },
    {
     "name": "stdout",
     "output_type": "stream",
     "text": [
      "If \u001b[1mdepartment =  E\u001b[0m:\n",
      "\tSubgroup '\u001b[1mFemale\u001b[0m', \u001b[34m25.39%\u001b[39m covered out of 1835\n",
      "\t\tMake \u001b[1m\u001b[31mdepartment =  A\u001b[39m\u001b[0m with correctness \u001b[32m100.00%\u001b[39m.\n",
      "\t\tMake \u001b[1m\u001b[31mdepartment =  B\u001b[39m\u001b[0m with correctness \u001b[32m100.00%\u001b[39m.\n",
      "\tSubgroup '\u001b[1mMale\u001b[0m', \u001b[34m15.95%\u001b[39m covered out of 2590\n",
      "\t\tMake \u001b[1m\u001b[31mdepartment =  A\u001b[39m\u001b[0m with correctness \u001b[32m100.00%\u001b[39m.\n",
      "\t\tMake \u001b[1m\u001b[31mdepartment =  B\u001b[39m\u001b[0m with correctness \u001b[32m100.00%\u001b[39m.\n",
      "\t\u001b[35mNo bias!\u001b[39m\n",
      "\t\u001b[36mCumulative correctness plot for the above recourses:\u001b[39m\n"
     ]
    },
    {
     "data": {
      "image/png": "[encoded data removed]",
      "text/plain": [
       "<Figure size 640x480 with 1 Axes>"
      ]
     },
     "metadata": {},
     "output_type": "display_data"
    },
    {
     "name": "stdout",
     "output_type": "stream",
     "text": [
      "If \u001b[1mdepartment =  D\u001b[0m:\n",
      "\tSubgroup '\u001b[1mFemale\u001b[0m', \u001b[34m21.65%\u001b[39m covered out of 1835\n",
      "\t\tMake \u001b[1m\u001b[31mdepartment =  A\u001b[39m\u001b[0m with correctness \u001b[32m100.00%\u001b[39m.\n",
      "\t\tMake \u001b[1m\u001b[31mdepartment =  B\u001b[39m\u001b[0m with correctness \u001b[32m100.00%\u001b[39m.\n",
      "\tSubgroup '\u001b[1mMale\u001b[0m', \u001b[34m31.35%\u001b[39m covered out of 2590\n",
      "\t\tMake \u001b[1m\u001b[31mdepartment =  A\u001b[39m\u001b[0m with correctness \u001b[32m100.00%\u001b[39m.\n",
      "\t\tMake \u001b[1m\u001b[31mdepartment =  B\u001b[39m\u001b[0m with correctness \u001b[32m100.00%\u001b[39m.\n",
      "\t\u001b[35mNo bias!\u001b[39m\n",
      "\t\u001b[36mCumulative correctness plot for the above recourses:\u001b[39m\n"
     ]
    },
    {
     "data": {
      "image/png": "[encoded data removed]",
      "text/plain": [
       "<Figure size 640x480 with 1 Axes>"
      ]
     },
     "metadata": {},
     "output_type": "display_data"
    },
    {
     "name": "stdout",
     "output_type": "stream",
     "text": [
      "If \u001b[1mdepartment =  F\u001b[0m:\n",
      "\tSubgroup '\u001b[1mFemale\u001b[0m', \u001b[34m21.06%\u001b[39m covered out of 1835\n",
      "\t\tMake \u001b[1m\u001b[31mdepartment =  A\u001b[39m\u001b[0m with correctness \u001b[32m100.00%\u001b[39m.\n",
      "\t\tMake \u001b[1m\u001b[31mdepartment =  B\u001b[39m\u001b[0m with correctness \u001b[32m100.00%\u001b[39m.\n",
      "\tSubgroup '\u001b[1mMale\u001b[0m', \u001b[34m23.78%\u001b[39m covered out of 2590\n",
      "\t\tMake \u001b[1m\u001b[31mdepartment =  A\u001b[39m\u001b[0m with correctness \u001b[32m100.00%\u001b[39m.\n",
      "\t\tMake \u001b[1m\u001b[31mdepartment =  B\u001b[39m\u001b[0m with correctness \u001b[32m100.00%\u001b[39m.\n",
      "\t\u001b[35mNo bias!\u001b[39m\n",
      "\t\u001b[36mCumulative correctness plot for the above recourses:\u001b[39m\n"
     ]
    },
    {
     "data": {
      "image/png": "[encoded data removed]",
      "text/plain": [
       "<Figure size 640x480 with 1 Axes>"
      ]
     },
     "metadata": {},
     "output_type": "display_data"
    }
   ],
   "source": [
    "top_rules, subgroup_costs = facts.select_rules_subset(\n",
    "    rules_by_if,\n",
    "    metric=\"num-above-thr\",\n",
    "    sort_strategy=\"abs-diff-decr-ignore-forall-subgroups-empty\",\n",
    "    top_count=10,\n",
    "    cor_threshold=0.5,\n",
    "    filter_sequence=[\"remove-below-thr\"]\n",
    ")\n",
    "\n",
    "cum_cors = facts.cumcorr_all(top_rules, X_test, model, sensitive_attribute=\"gender\")\n",
    "\n",
    "pop_sizes = {sg: (X[\"gender\"] == sg).sum() for sg in X[\"gender\"].unique()}\n",
    "print_recourse_report(\n",
    "    top_rules,\n",
    "    population_sizes = pop_sizes,\n",
    "    subgroup_costs=subgroup_costs,\n",
    "    aggregate_cors_costs=cum_cors\n",
    ")"
   ]
  },
  {
   "cell_type": "markdown",
   "metadata": {},
   "source": [
    "Finally, save state, if you wish."
   ]
  },
  {
   "cell_type": "code",
   "execution_count": 17,
   "metadata": {},
   "outputs": [],
   "source": [
    "import dill\n",
    "\n",
    "with open(\"stateAdultFairTest.data\", \"wb\") as outf:\n",
    "    dill.dump((rules_by_if, model, X_test), outf)"
   ]
  },
  {
   "cell_type": "code",
   "execution_count": null,
   "metadata": {},
   "outputs": [],
   "source": []
  }
 ],
 "metadata": {
  "kernelspec": {
   "display_name": "Python 3 (ipykernel)",
   "language": "python",
   "name": "python3"
  },
  "language_info": {
   "codemirror_mode": {
    "name": "ipython",
    "version": 3
   },
   "file_extension": ".py",
   "mimetype": "text/x-python",
   "name": "python",
   "nbconvert_exporter": "python",
   "pygments_lexer": "ipython3",
   "version": "3.9.16"
  },
  "vscode": {
   "interpreter": {
    "hash": "362842c44ed7d38e9c92d488ead4445e1c745f35479a5810177dacafb6456c39"
   }
  }
 },
 "nbformat": 4,
 "nbformat_minor": 4
}
