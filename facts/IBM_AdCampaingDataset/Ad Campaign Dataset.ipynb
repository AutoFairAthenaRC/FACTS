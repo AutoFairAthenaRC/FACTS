{
 "cells": [
  {
   "attachments": {},
   "cell_type": "markdown",
   "id": "a4164f0d",
   "metadata": {},
   "source": [
    "## Import libraries"
   ]
  },
  {
   "cell_type": "code",
   "execution_count": 1,
   "id": "50536eb3",
   "metadata": {
    "tags": []
   },
   "outputs": [],
   "source": [
    "import pandas as pd\n",
    "import numpy as np\n",
    "from pprint import pprint\n",
    "\n",
    "from sklearn.model_selection import train_test_split\n",
    "from sklearn.metrics import classification_report, confusion_matrix, ConfusionMatrixDisplay\n",
    "\n",
    "import os\n",
    "import sys\n",
    "module_path = os.path.abspath(os.path.join('..'))\n",
    "if module_path not in sys.path:\n",
    "    sys.path.append(module_path)\n",
    "import facts\n",
    "from facts import valid_ifthens_with_coverage_correctness, rules2rulesbyif\n",
    "from facts.models import customLogisticRegression\n",
    "from facts.parameters import ParameterProxy\n",
    "from facts.formatting import recourse_report_reverse, print_recourse_report\n",
    "from facts.utils import load_rules_by_if,save_rules_by_if\n",
    "\n",
    "import matplotlib.pyplot as plt"
   ]
  },
  {
   "cell_type": "code",
   "execution_count": 26,
   "id": "99fb977c",
   "metadata": {
    "tags": []
   },
   "outputs": [],
   "source": [
    "DATAFILE = '../../ad_campaign_data.csv' # location of dataset\n",
    "random_state = None # change to something for exactly reproducible results\n",
    "\n",
    "# as selected in \"tutorial_bias_advertising\" notebook\n",
    "selected_features = ['religion','politics','gender', 'parents', 'ages', 'income', 'area', 'college_educated', 'homeowner']\n",
    "cate_features = ['religion','politics','gender', 'parents', 'ages', 'income', 'area', 'college_educated']\n",
    "num_features = ['homeowner']\n",
    "\n",
    "# if not specified, set to 1\n",
    "feature_weights = {\"gender\": 1, \"parents\": 1, \"age\": 1}\n",
    "\n",
    "target_name = \"true_conversion\"\n",
    "positive_label = 1\n",
    "negative_label = 0\n",
    "\n",
    "model_train_fraction = 0.7\n",
    "learning_class_weights = {0: 0.5, 1: 265}\n",
    "\n",
    "sensitive_attribute = \"gender\"\n",
    "sensitive_alias = {\"M\": \"Male\", \"F\": \"Female\", \"Unknown\": \"Unknown\"}"
   ]
  },
  {
   "attachments": {},
   "cell_type": "markdown",
   "id": "7f50c922",
   "metadata": {},
   "source": [
    "## Load Dataset"
   ]
  },
  {
   "cell_type": "code",
   "execution_count": 3,
   "id": "7ec3f668",
   "metadata": {
    "tags": []
   },
   "outputs": [
    {
     "data": {
      "text/html": [
       "<div>\n",
       "<style scoped>\n",
       "    .dataframe tbody tr th:only-of-type {\n",
       "        vertical-align: middle;\n",
       "    }\n",
       "\n",
       "    .dataframe tbody tr th {\n",
       "        vertical-align: top;\n",
       "    }\n",
       "\n",
       "    .dataframe thead th {\n",
       "        text-align: right;\n",
       "    }\n",
       "</style>\n",
       "<table border=\"1\" class=\"dataframe\">\n",
       "  <thead>\n",
       "    <tr style=\"text-align: right;\">\n",
       "      <th></th>\n",
       "      <th>religion</th>\n",
       "      <th>politics</th>\n",
       "      <th>college_educated</th>\n",
       "      <th>parents</th>\n",
       "      <th>homeowner</th>\n",
       "      <th>gender</th>\n",
       "      <th>age</th>\n",
       "      <th>income</th>\n",
       "      <th>area</th>\n",
       "      <th>true_conversion</th>\n",
       "      <th>predicted_conversion</th>\n",
       "      <th>predicted_probability</th>\n",
       "    </tr>\n",
       "  </thead>\n",
       "  <tbody>\n",
       "    <tr>\n",
       "      <th>0</th>\n",
       "      <td>Unknown</td>\n",
       "      <td>Unknown</td>\n",
       "      <td>1</td>\n",
       "      <td>1</td>\n",
       "      <td>1</td>\n",
       "      <td>Unknown</td>\n",
       "      <td>55-64</td>\n",
       "      <td>Unknown</td>\n",
       "      <td>Unknown</td>\n",
       "      <td>0</td>\n",
       "      <td>0</td>\n",
       "      <td>0.001351</td>\n",
       "    </tr>\n",
       "    <tr>\n",
       "      <th>1</th>\n",
       "      <td>Other</td>\n",
       "      <td>Unknown</td>\n",
       "      <td>1</td>\n",
       "      <td>1</td>\n",
       "      <td>1</td>\n",
       "      <td>Unknown</td>\n",
       "      <td>55-64</td>\n",
       "      <td>Unknown</td>\n",
       "      <td>Urban</td>\n",
       "      <td>0</td>\n",
       "      <td>0</td>\n",
       "      <td>0.002238</td>\n",
       "    </tr>\n",
       "    <tr>\n",
       "      <th>2</th>\n",
       "      <td>Unknown</td>\n",
       "      <td>Unknown</td>\n",
       "      <td>1</td>\n",
       "      <td>1</td>\n",
       "      <td>1</td>\n",
       "      <td>F</td>\n",
       "      <td>55-64</td>\n",
       "      <td>Unknown</td>\n",
       "      <td>Unknown</td>\n",
       "      <td>0</td>\n",
       "      <td>0</td>\n",
       "      <td>0.002704</td>\n",
       "    </tr>\n",
       "    <tr>\n",
       "      <th>3</th>\n",
       "      <td>Unknown</td>\n",
       "      <td>Unknown</td>\n",
       "      <td>1</td>\n",
       "      <td>1</td>\n",
       "      <td>1</td>\n",
       "      <td>F</td>\n",
       "      <td>55-64</td>\n",
       "      <td>Unknown</td>\n",
       "      <td>Unknown</td>\n",
       "      <td>0</td>\n",
       "      <td>0</td>\n",
       "      <td>0.001967</td>\n",
       "    </tr>\n",
       "    <tr>\n",
       "      <th>4</th>\n",
       "      <td>Unknown</td>\n",
       "      <td>Unknown</td>\n",
       "      <td>1</td>\n",
       "      <td>1</td>\n",
       "      <td>1</td>\n",
       "      <td>F</td>\n",
       "      <td>55-64</td>\n",
       "      <td>Unknown</td>\n",
       "      <td>Urban</td>\n",
       "      <td>0</td>\n",
       "      <td>0</td>\n",
       "      <td>0.001681</td>\n",
       "    </tr>\n",
       "  </tbody>\n",
       "</table>\n",
       "</div>"
      ],
      "text/plain": [
       "  religion politics  college_educated  parents  homeowner   gender    age  \\\n",
       "0  Unknown  Unknown                 1        1          1  Unknown  55-64   \n",
       "1    Other  Unknown                 1        1          1  Unknown  55-64   \n",
       "2  Unknown  Unknown                 1        1          1        F  55-64   \n",
       "3  Unknown  Unknown                 1        1          1        F  55-64   \n",
       "4  Unknown  Unknown                 1        1          1        F  55-64   \n",
       "\n",
       "    income     area  true_conversion  predicted_conversion  \\\n",
       "0  Unknown  Unknown                0                     0   \n",
       "1  Unknown    Urban                0                     0   \n",
       "2  Unknown  Unknown                0                     0   \n",
       "3  Unknown  Unknown                0                     0   \n",
       "4  Unknown    Urban                0                     0   \n",
       "\n",
       "   predicted_probability  \n",
       "0               0.001351  \n",
       "1               0.002238  \n",
       "2               0.002704  \n",
       "3               0.001967  \n",
       "4               0.001681  "
      ]
     },
     "execution_count": 3,
     "metadata": {},
     "output_type": "execute_result"
    }
   ],
   "source": [
    "ad_conversion_dataset = pd.read_csv(DATAFILE)\n",
    "ad_conversion_dataset.head()"
   ]
  },
  {
   "cell_type": "code",
   "execution_count": 4,
   "id": "17d5220d",
   "metadata": {
    "tags": []
   },
   "outputs": [],
   "source": [
    "ad_conversion_dataset.gender = ad_conversion_dataset.gender.map(sensitive_alias)\n",
    "ad_conversion_dataset.rename(columns = {'age':'ages'}, inplace = True)\n"
   ]
  },
  {
   "attachments": {},
   "cell_type": "markdown",
   "id": "5f1b33fa-c6c9-4770-8123-0f69f918e265",
   "metadata": {},
   "source": [
    "# Preprocessing"
   ]
  },
  {
   "cell_type": "code",
   "execution_count": 5,
   "id": "8ee07f88",
   "metadata": {
    "tags": []
   },
   "outputs": [
    {
     "data": {
      "text/html": [
       "<div>\n",
       "<style scoped>\n",
       "    .dataframe tbody tr th:only-of-type {\n",
       "        vertical-align: middle;\n",
       "    }\n",
       "\n",
       "    .dataframe tbody tr th {\n",
       "        vertical-align: top;\n",
       "    }\n",
       "\n",
       "    .dataframe thead th {\n",
       "        text-align: right;\n",
       "    }\n",
       "</style>\n",
       "<table border=\"1\" class=\"dataframe\">\n",
       "  <thead>\n",
       "    <tr style=\"text-align: right;\">\n",
       "      <th></th>\n",
       "      <th>religion</th>\n",
       "      <th>politics</th>\n",
       "      <th>gender</th>\n",
       "      <th>parents</th>\n",
       "      <th>ages</th>\n",
       "      <th>income</th>\n",
       "      <th>area</th>\n",
       "      <th>college_educated</th>\n",
       "      <th>homeowner</th>\n",
       "      <th>true_conversion</th>\n",
       "    </tr>\n",
       "  </thead>\n",
       "  <tbody>\n",
       "    <tr>\n",
       "      <th>0</th>\n",
       "      <td>Unknown</td>\n",
       "      <td>Unknown</td>\n",
       "      <td>Unknown</td>\n",
       "      <td>1</td>\n",
       "      <td>55-64</td>\n",
       "      <td>Unknown</td>\n",
       "      <td>Unknown</td>\n",
       "      <td>1</td>\n",
       "      <td>1</td>\n",
       "      <td>0</td>\n",
       "    </tr>\n",
       "    <tr>\n",
       "      <th>1</th>\n",
       "      <td>Other</td>\n",
       "      <td>Unknown</td>\n",
       "      <td>Unknown</td>\n",
       "      <td>1</td>\n",
       "      <td>55-64</td>\n",
       "      <td>Unknown</td>\n",
       "      <td>Urban</td>\n",
       "      <td>1</td>\n",
       "      <td>1</td>\n",
       "      <td>0</td>\n",
       "    </tr>\n",
       "    <tr>\n",
       "      <th>2</th>\n",
       "      <td>Unknown</td>\n",
       "      <td>Unknown</td>\n",
       "      <td>Female</td>\n",
       "      <td>1</td>\n",
       "      <td>55-64</td>\n",
       "      <td>Unknown</td>\n",
       "      <td>Unknown</td>\n",
       "      <td>1</td>\n",
       "      <td>1</td>\n",
       "      <td>0</td>\n",
       "    </tr>\n",
       "    <tr>\n",
       "      <th>3</th>\n",
       "      <td>Unknown</td>\n",
       "      <td>Unknown</td>\n",
       "      <td>Female</td>\n",
       "      <td>1</td>\n",
       "      <td>55-64</td>\n",
       "      <td>Unknown</td>\n",
       "      <td>Unknown</td>\n",
       "      <td>1</td>\n",
       "      <td>1</td>\n",
       "      <td>0</td>\n",
       "    </tr>\n",
       "    <tr>\n",
       "      <th>4</th>\n",
       "      <td>Unknown</td>\n",
       "      <td>Unknown</td>\n",
       "      <td>Female</td>\n",
       "      <td>1</td>\n",
       "      <td>55-64</td>\n",
       "      <td>Unknown</td>\n",
       "      <td>Urban</td>\n",
       "      <td>1</td>\n",
       "      <td>1</td>\n",
       "      <td>0</td>\n",
       "    </tr>\n",
       "    <tr>\n",
       "      <th>...</th>\n",
       "      <td>...</td>\n",
       "      <td>...</td>\n",
       "      <td>...</td>\n",
       "      <td>...</td>\n",
       "      <td>...</td>\n",
       "      <td>...</td>\n",
       "      <td>...</td>\n",
       "      <td>...</td>\n",
       "      <td>...</td>\n",
       "      <td>...</td>\n",
       "    </tr>\n",
       "    <tr>\n",
       "      <th>1443135</th>\n",
       "      <td>Other</td>\n",
       "      <td>Unknown</td>\n",
       "      <td>Female</td>\n",
       "      <td>1</td>\n",
       "      <td>25-34</td>\n",
       "      <td>Unknown</td>\n",
       "      <td>Unknown</td>\n",
       "      <td>1</td>\n",
       "      <td>1</td>\n",
       "      <td>0</td>\n",
       "    </tr>\n",
       "    <tr>\n",
       "      <th>1443136</th>\n",
       "      <td>Unknown</td>\n",
       "      <td>Unknown</td>\n",
       "      <td>Female</td>\n",
       "      <td>1</td>\n",
       "      <td>55-64</td>\n",
       "      <td>Unknown</td>\n",
       "      <td>Unknown</td>\n",
       "      <td>1</td>\n",
       "      <td>0</td>\n",
       "      <td>0</td>\n",
       "    </tr>\n",
       "    <tr>\n",
       "      <th>1443137</th>\n",
       "      <td>Unknown</td>\n",
       "      <td>Unknown</td>\n",
       "      <td>Unknown</td>\n",
       "      <td>1</td>\n",
       "      <td>55-64</td>\n",
       "      <td>Unknown</td>\n",
       "      <td>Unknown</td>\n",
       "      <td>1</td>\n",
       "      <td>1</td>\n",
       "      <td>0</td>\n",
       "    </tr>\n",
       "    <tr>\n",
       "      <th>1443138</th>\n",
       "      <td>Unknown</td>\n",
       "      <td>Unknown</td>\n",
       "      <td>Female</td>\n",
       "      <td>1</td>\n",
       "      <td>55-64</td>\n",
       "      <td>Unknown</td>\n",
       "      <td>Unknown</td>\n",
       "      <td>1</td>\n",
       "      <td>1</td>\n",
       "      <td>0</td>\n",
       "    </tr>\n",
       "    <tr>\n",
       "      <th>1443139</th>\n",
       "      <td>Unknown</td>\n",
       "      <td>Unknown</td>\n",
       "      <td>Female</td>\n",
       "      <td>1</td>\n",
       "      <td>55-64</td>\n",
       "      <td>Unknown</td>\n",
       "      <td>Unknown</td>\n",
       "      <td>1</td>\n",
       "      <td>1</td>\n",
       "      <td>0</td>\n",
       "    </tr>\n",
       "  </tbody>\n",
       "</table>\n",
       "<p>1443140 rows × 10 columns</p>\n",
       "</div>"
      ],
      "text/plain": [
       "        religion politics   gender  parents   ages   income     area  \\\n",
       "0        Unknown  Unknown  Unknown        1  55-64  Unknown  Unknown   \n",
       "1          Other  Unknown  Unknown        1  55-64  Unknown    Urban   \n",
       "2        Unknown  Unknown   Female        1  55-64  Unknown  Unknown   \n",
       "3        Unknown  Unknown   Female        1  55-64  Unknown  Unknown   \n",
       "4        Unknown  Unknown   Female        1  55-64  Unknown    Urban   \n",
       "...          ...      ...      ...      ...    ...      ...      ...   \n",
       "1443135    Other  Unknown   Female        1  25-34  Unknown  Unknown   \n",
       "1443136  Unknown  Unknown   Female        1  55-64  Unknown  Unknown   \n",
       "1443137  Unknown  Unknown  Unknown        1  55-64  Unknown  Unknown   \n",
       "1443138  Unknown  Unknown   Female        1  55-64  Unknown  Unknown   \n",
       "1443139  Unknown  Unknown   Female        1  55-64  Unknown  Unknown   \n",
       "\n",
       "         college_educated  homeowner  true_conversion  \n",
       "0                       1          1                0  \n",
       "1                       1          1                0  \n",
       "2                       1          1                0  \n",
       "3                       1          1                0  \n",
       "4                       1          1                0  \n",
       "...                   ...        ...              ...  \n",
       "1443135                 1          1                0  \n",
       "1443136                 1          0                0  \n",
       "1443137                 1          1                0  \n",
       "1443138                 1          1                0  \n",
       "1443139                 1          1                0  \n",
       "\n",
       "[1443140 rows x 10 columns]"
      ]
     },
     "execution_count": 5,
     "metadata": {},
     "output_type": "execute_result"
    }
   ],
   "source": [
    "## keep only the columns in selected_features, plus the label column\n",
    "ad_conversion_dataset = ad_conversion_dataset[selected_features + [target_name]]\n",
    "ad_conversion_dataset"
   ]
  },
  {
   "cell_type": "code",
   "execution_count": 6,
   "id": "e2d5162d",
   "metadata": {
    "tags": []
   },
   "outputs": [],
   "source": [
    "## train-test split\n",
    "\n",
    "X = ad_conversion_dataset.drop(target_name, axis=1)\n",
    "y = ad_conversion_dataset[target_name]\n",
    "\n",
    "X_train, X_test, y_train, y_test = train_test_split(X, y, train_size=model_train_fraction, random_state=random_state, stratify=y)\n",
    "\n",
    "X_train = X_train.reset_index(drop=True)\n",
    "X_test = X_test.reset_index(drop=True)\n",
    "y_train = y_train.reset_index(drop=True)\n",
    "y_test = y_test.reset_index(drop=True)"
   ]
  },
  {
   "attachments": {},
   "cell_type": "markdown",
   "id": "17c32fa1-337a-45e0-ae5c-914575a2cbb6",
   "metadata": {},
   "source": [
    "# Model training"
   ]
  },
  {
   "cell_type": "code",
   "execution_count": 27,
   "id": "d613bdf8",
   "metadata": {
    "tags": []
   },
   "outputs": [
    {
     "name": "stdout",
     "output_type": "stream",
     "text": [
      "Wall time: 40.7 s\n"
     ]
    },
    {
     "name": "stderr",
     "output_type": "stream",
     "text": [
      "c:\\Users\\Nikolas Theol\\AppData\\Local\\Programs\\Python\\Python38\\lib\\site-packages\\sklearn\\linear_model\\_logistic.py:814: ConvergenceWarning: lbfgs failed to converge (status=1):\n",
      "STOP: TOTAL NO. of ITERATIONS REACHED LIMIT.\n",
      "\n",
      "Increase the number of iterations (max_iter) or scale the data as shown in:\n",
      "    https://scikit-learn.org/stable/modules/preprocessing.html\n",
      "Please also refer to the documentation for alternative solver options:\n",
      "    https://scikit-learn.org/stable/modules/linear_model.html#logistic-regression\n",
      "  n_iter_i = _check_optimize_result(\n"
     ]
    }
   ],
   "source": [
    "%%time\n",
    "\n",
    "model = customLogisticRegression(class_weight=learning_class_weights)\n",
    "model.fit(X_train, y_train, cate_columns=cate_features, target_column=target_name)\n",
    "model.predict(X_test.iloc[:100, :])"
   ]
  },
  {
   "attachments": {},
   "cell_type": "markdown",
   "id": "13d583ac",
   "metadata": {},
   "source": [
    "# Testing the model\n",
    "\n",
    "We check if the model is satisfactory."
   ]
  },
  {
   "cell_type": "code",
   "execution_count": 29,
   "id": "2fbd7b2e",
   "metadata": {
    "tags": []
   },
   "outputs": [
    {
     "name": "stdout",
     "output_type": "stream",
     "text": [
      "              precision    recall  f1-score   support\n",
      "\n",
      "           0       1.00      0.87      0.93    432231\n",
      "           1       0.00      0.13      0.00       712\n",
      "\n",
      "    accuracy                           0.87    432943\n",
      "   macro avg       0.50      0.50      0.47    432943\n",
      "weighted avg       1.00      0.87      0.93    432943\n",
      "\n"
     ]
    }
   ],
   "source": [
    "positive_label = 1\n",
    "negative_label = 0\n",
    "preds_Xtest = model.predict(X_test)\n",
    "print(classification_report(y_test.map({negative_label: 0, positive_label: 1}), preds_Xtest))"
   ]
  },
  {
   "cell_type": "code",
   "execution_count": 30,
   "id": "a82b48f8-408b-43a0-99fc-c21ff8a63718",
   "metadata": {
    "tags": []
   },
   "outputs": [
    {
     "data": {
      "image/png": "[encoded data removed]",
      "text/plain": [
       "<Figure size 640x480 with 2 Axes>"
      ]
     },
     "metadata": {},
     "output_type": "display_data"
    }
   ],
   "source": [
    "conf_matrix = confusion_matrix(y_test, preds_Xtest)\n",
    "cm_disp = ConfusionMatrixDisplay(confusion_matrix=conf_matrix)\n",
    "cm_disp.plot()\n",
    "plt.show()"
   ]
  },
  {
   "attachments": {},
   "cell_type": "markdown",
   "id": "11452631",
   "metadata": {},
   "source": [
    "Given the high imbalance of the dataset, we consider that the above results, for a simple logistic regression, are good enough."
   ]
  },
  {
   "attachments": {},
   "cell_type": "markdown",
   "id": "66bafa9b-95db-49c6-b116-9ebb65c13fc8",
   "metadata": {},
   "source": [
    "# Find all valid if-thens with all respective coverages and correctness, for all subgroups.\n",
    "\n",
    "**Caution!** This step takes time. Uncomment the following block if you wish to run."
   ]
  },
  {
   "cell_type": "code",
   "execution_count": 16,
   "id": "297d9256",
   "metadata": {
    "tags": []
   },
   "outputs": [
    {
     "name": "stdout",
     "output_type": "stream",
     "text": [
      "Computing frequent itemsets for each subgroup of the affected instances.\n"
     ]
    },
    {
     "name": "stderr",
     "output_type": "stream",
     "text": [
      "100%|██████████| 2/2 [00:03<00:00,  1.72s/it]"
     ]
    },
    {
     "name": "stdout",
     "output_type": "stream",
     "text": [
      "Computing the intersection between the frequent itemsets of each subgroup of the affected instances.\n"
     ]
    },
    {
     "name": "stderr",
     "output_type": "stream",
     "text": [
      "\n",
      "100%|██████████| 1625/1625 [00:00<00:00, 313872.62it/s]\n"
     ]
    },
    {
     "name": "stdout",
     "output_type": "stream",
     "text": [
      "Computing all valid if-then pairs between the common frequent itemsets of each subgroup of the affected instances and the frequent itemsets of the unaffacted instances.\n"
     ]
    },
    {
     "name": "stderr",
     "output_type": "stream",
     "text": [
      "100%|██████████| 1595/1595 [00:00<00:00, 6822.57it/s]"
     ]
    },
    {
     "name": "stdout",
     "output_type": "stream",
     "text": [
      "Computing correctenesses for all valid if-thens.\n"
     ]
    },
    {
     "name": "stderr",
     "output_type": "stream",
     "text": [
      "\n",
      "100%|██████████| 6038/6038 [29:05<00:00,  3.46it/s]  \n"
     ]
    },
    {
     "name": "stdout",
     "output_type": "stream",
     "text": [
      "Number of if-thens: 6038\n"
     ]
    }
   ],
   "source": [
    "#Uncomment if you want to find new rules with different support\n",
    "\n",
    "ifthens_coverage_correctness = valid_ifthens_with_coverage_correctness(\n",
    "    X_test,\n",
    "    model=model,\n",
    "    sensitive_attribute='gender',\n",
    "    freqitem_minsupp = 0.01,\n",
    "    missing_subgroup_val=\"Unknown\",\n",
    "    drop_infeasible = True,\n",
    "    drop_above = False\n",
    ")\n",
    "\n",
    "print(f\"Number of if-thens: {len(ifthens_coverage_correctness)}\")\n",
    "rules_by_if = rules2rulesbyif(ifthens_coverage_correctness)"
   ]
  },
  {
   "attachments": {},
   "cell_type": "markdown",
   "id": "d17cb30e-0a36-43cb-9f95-2b2e93634e5a",
   "metadata": {},
   "source": [
    "Uncomment the following block if you wish to load rules object from disk."
   ]
  },
  {
   "cell_type": "code",
   "execution_count": 13,
   "id": "c22dbaba-1ccb-4db3-84de-21227328e07c",
   "metadata": {
    "tags": []
   },
   "outputs": [],
   "source": [
    "# import dill\n",
    "\n",
    "# with open(\"rulesAdCampaing_atomic.data\", \"rb\") as inf:\n",
    "#     rules_by_if = dill.load(inf)"
   ]
  },
  {
   "cell_type": "code",
   "execution_count": 17,
   "id": "8a13da8a-e2a3-481f-9b1b-bc1803f4eccf",
   "metadata": {
    "tags": []
   },
   "outputs": [
    {
     "name": "stdout",
     "output_type": "stream",
     "text": [
      "If \u001b[1mages = 55-64, area = Urban, college_educated = 1, homeowner = 1, income = Unknown, parents = 1, politics = Unknown, religion = Unknown\u001b[0m:\n",
      "\tProtected Subgroup '\u001b[1mMale\u001b[0m', \u001b[34m15.09%\u001b[39m covered\n",
      "\t\tMake \u001b[1m\u001b[31mreligion = Christianity\u001b[39m\u001b[0m with correctness \u001b[32m100.00%\u001b[39m.\n",
      "\t\tMake \u001b[1m\u001b[31mreligion = Other\u001b[39m\u001b[0m with correctness \u001b[32m100.00%\u001b[39m.\n",
      "\t\tMake \u001b[1m\u001b[31marea = Rural\u001b[39m, \u001b[31mreligion = Other\u001b[39m\u001b[0m with correctness \u001b[32m100.00%\u001b[39m.\n",
      "\t\tMake \u001b[1m\u001b[31marea = Rural\u001b[39m, \u001b[31mreligion = Christianity\u001b[39m\u001b[0m with correctness \u001b[32m100.00%\u001b[39m.\n",
      "\tProtected Subgroup '\u001b[1mFemale\u001b[0m', \u001b[34m13.68%\u001b[39m covered\n",
      "\t\tMake \u001b[1m\u001b[31mreligion = Christianity\u001b[39m\u001b[0m with correctness \u001b[32m0.00%\u001b[39m.\n",
      "\t\tMake \u001b[1m\u001b[31mreligion = Other\u001b[39m\u001b[0m with correctness \u001b[32m0.00%\u001b[39m.\n",
      "\t\tMake \u001b[1m\u001b[31marea = Rural\u001b[39m, \u001b[31mreligion = Other\u001b[39m\u001b[0m with correctness \u001b[32m0.00%\u001b[39m.\n",
      "\t\tMake \u001b[1m\u001b[31marea = Rural\u001b[39m, \u001b[31mreligion = Christianity\u001b[39m\u001b[0m with correctness \u001b[32m0.00%\u001b[39m.\n",
      "If \u001b[1mages = 55-64, area = Urban, college_educated = 1, income = Unknown, parents = 1, politics = Unknown, religion = Unknown\u001b[0m:\n",
      "\tProtected Subgroup '\u001b[1mMale\u001b[0m', \u001b[34m15.09%\u001b[39m covered\n",
      "\t\tMake \u001b[1m\u001b[31mreligion = Christianity\u001b[39m\u001b[0m with correctness \u001b[32m100.00%\u001b[39m.\n",
      "\t\tMake \u001b[1m\u001b[31mreligion = Other\u001b[39m\u001b[0m with correctness \u001b[32m100.00%\u001b[39m.\n",
      "\t\tMake \u001b[1m\u001b[31marea = Rural\u001b[39m, \u001b[31mreligion = Other\u001b[39m\u001b[0m with correctness \u001b[32m100.00%\u001b[39m.\n",
      "\t\tMake \u001b[1m\u001b[31marea = Rural\u001b[39m, \u001b[31mreligion = Christianity\u001b[39m\u001b[0m with correctness \u001b[32m100.00%\u001b[39m.\n",
      "\tProtected Subgroup '\u001b[1mFemale\u001b[0m', \u001b[34m13.68%\u001b[39m covered\n",
      "\t\tMake \u001b[1m\u001b[31mreligion = Christianity\u001b[39m\u001b[0m with correctness \u001b[32m0.00%\u001b[39m.\n",
      "\t\tMake \u001b[1m\u001b[31mreligion = Other\u001b[39m\u001b[0m with correctness \u001b[32m0.00%\u001b[39m.\n",
      "\t\tMake \u001b[1m\u001b[31marea = Rural\u001b[39m, \u001b[31mreligion = Other\u001b[39m\u001b[0m with correctness \u001b[32m0.00%\u001b[39m.\n",
      "\t\tMake \u001b[1m\u001b[31marea = Rural\u001b[39m, \u001b[31mreligion = Christianity\u001b[39m\u001b[0m with correctness \u001b[32m0.00%\u001b[39m.\n",
      "If \u001b[1mages = 55-64, area = Rural, college_educated = 1, homeowner = 1, income = Unknown, parents = 1, politics = Unknown, religion = Unknown\u001b[0m:\n",
      "\tProtected Subgroup '\u001b[1mMale\u001b[0m', \u001b[34m3.23%\u001b[39m covered\n",
      "\t\tMake \u001b[1m\u001b[31marea = Urban\u001b[39m, \u001b[31mreligion = Christianity\u001b[39m\u001b[0m with correctness \u001b[32m100.00%\u001b[39m.\n",
      "\t\tMake \u001b[1m\u001b[31marea = Urban\u001b[39m, \u001b[31mreligion = Other\u001b[39m\u001b[0m with correctness \u001b[32m100.00%\u001b[39m.\n",
      "\t\tMake \u001b[1m\u001b[31mreligion = Other\u001b[39m\u001b[0m with correctness \u001b[32m100.00%\u001b[39m.\n",
      "\t\tMake \u001b[1m\u001b[31mreligion = Christianity\u001b[39m\u001b[0m with correctness \u001b[32m100.00%\u001b[39m.\n",
      "\tProtected Subgroup '\u001b[1mFemale\u001b[0m', \u001b[34m2.86%\u001b[39m covered\n",
      "\t\tMake \u001b[1m\u001b[31marea = Urban\u001b[39m, \u001b[31mreligion = Christianity\u001b[39m\u001b[0m with correctness \u001b[32m0.00%\u001b[39m.\n",
      "\t\tMake \u001b[1m\u001b[31marea = Urban\u001b[39m, \u001b[31mreligion = Other\u001b[39m\u001b[0m with correctness \u001b[32m0.00%\u001b[39m.\n",
      "\t\tMake \u001b[1m\u001b[31mreligion = Other\u001b[39m\u001b[0m with correctness \u001b[32m0.00%\u001b[39m.\n",
      "\t\tMake \u001b[1m\u001b[31mreligion = Christianity\u001b[39m\u001b[0m with correctness \u001b[32m0.00%\u001b[39m.\n",
      "If \u001b[1mages = 55-64, area = Rural, college_educated = 1, income = Unknown, parents = 1, politics = Unknown, religion = Unknown\u001b[0m:\n",
      "\tProtected Subgroup '\u001b[1mMale\u001b[0m', \u001b[34m3.23%\u001b[39m covered\n",
      "\t\tMake \u001b[1m\u001b[31marea = Urban\u001b[39m, \u001b[31mreligion = Christianity\u001b[39m\u001b[0m with correctness \u001b[32m100.00%\u001b[39m.\n",
      "\t\tMake \u001b[1m\u001b[31marea = Urban\u001b[39m, \u001b[31mreligion = Other\u001b[39m\u001b[0m with correctness \u001b[32m100.00%\u001b[39m.\n",
      "\t\tMake \u001b[1m\u001b[31mreligion = Other\u001b[39m\u001b[0m with correctness \u001b[32m100.00%\u001b[39m.\n",
      "\t\tMake \u001b[1m\u001b[31mreligion = Christianity\u001b[39m\u001b[0m with correctness \u001b[32m100.00%\u001b[39m.\n",
      "\tProtected Subgroup '\u001b[1mFemale\u001b[0m', \u001b[34m2.86%\u001b[39m covered\n",
      "\t\tMake \u001b[1m\u001b[31marea = Urban\u001b[39m, \u001b[31mreligion = Christianity\u001b[39m\u001b[0m with correctness \u001b[32m0.00%\u001b[39m.\n",
      "\t\tMake \u001b[1m\u001b[31marea = Urban\u001b[39m, \u001b[31mreligion = Other\u001b[39m\u001b[0m with correctness \u001b[32m0.00%\u001b[39m.\n",
      "\t\tMake \u001b[1m\u001b[31mreligion = Other\u001b[39m\u001b[0m with correctness \u001b[32m0.00%\u001b[39m.\n",
      "\t\tMake \u001b[1m\u001b[31mreligion = Christianity\u001b[39m\u001b[0m with correctness \u001b[32m0.00%\u001b[39m.\n",
      "If \u001b[1mages = 55-64, area = Rural, college_educated = 1, homeowner = 1, parents = 1, politics = Unknown, religion = Unknown\u001b[0m:\n",
      "\tProtected Subgroup '\u001b[1mMale\u001b[0m', \u001b[34m3.25%\u001b[39m covered\n",
      "\t\tMake \u001b[1m\u001b[31marea = Urban\u001b[39m, \u001b[31mreligion = Christianity\u001b[39m\u001b[0m with correctness \u001b[32m99.60%\u001b[39m.\n",
      "\t\tMake \u001b[1m\u001b[31marea = Urban\u001b[39m, \u001b[31mreligion = Other\u001b[39m\u001b[0m with correctness \u001b[32m99.60%\u001b[39m.\n",
      "\t\tMake \u001b[1m\u001b[31mreligion = Other\u001b[39m\u001b[0m with correctness \u001b[32m99.60%\u001b[39m.\n",
      "\t\tMake \u001b[1m\u001b[31mreligion = Christianity\u001b[39m\u001b[0m with correctness \u001b[32m99.60%\u001b[39m.\n",
      "\tProtected Subgroup '\u001b[1mFemale\u001b[0m', \u001b[34m2.87%\u001b[39m covered\n",
      "\t\tMake \u001b[1m\u001b[31marea = Urban\u001b[39m, \u001b[31mreligion = Christianity\u001b[39m\u001b[0m with correctness \u001b[32m0.00%\u001b[39m.\n",
      "\t\tMake \u001b[1m\u001b[31marea = Urban\u001b[39m, \u001b[31mreligion = Other\u001b[39m\u001b[0m with correctness \u001b[32m0.00%\u001b[39m.\n",
      "\t\tMake \u001b[1m\u001b[31mreligion = Other\u001b[39m\u001b[0m with correctness \u001b[32m0.00%\u001b[39m.\n",
      "\t\tMake \u001b[1m\u001b[31mreligion = Christianity\u001b[39m\u001b[0m with correctness \u001b[32m0.00%\u001b[39m.\n",
      "If \u001b[1mages = 55-64, area = Rural, college_educated = 1, parents = 1, politics = Unknown, religion = Unknown\u001b[0m:\n",
      "\tProtected Subgroup '\u001b[1mMale\u001b[0m', \u001b[34m3.25%\u001b[39m covered\n",
      "\t\tMake \u001b[1m\u001b[31marea = Urban\u001b[39m, \u001b[31mreligion = Christianity\u001b[39m\u001b[0m with correctness \u001b[32m99.60%\u001b[39m.\n",
      "\t\tMake \u001b[1m\u001b[31marea = Urban\u001b[39m, \u001b[31mreligion = Other\u001b[39m\u001b[0m with correctness \u001b[32m99.60%\u001b[39m.\n",
      "\t\tMake \u001b[1m\u001b[31mreligion = Christianity\u001b[39m\u001b[0m with correctness \u001b[32m99.60%\u001b[39m.\n",
      "\t\tMake \u001b[1m\u001b[31mreligion = Other\u001b[39m\u001b[0m with correctness \u001b[32m99.60%\u001b[39m.\n",
      "\tProtected Subgroup '\u001b[1mFemale\u001b[0m', \u001b[34m2.87%\u001b[39m covered\n",
      "\t\tMake \u001b[1m\u001b[31marea = Urban\u001b[39m, \u001b[31mreligion = Christianity\u001b[39m\u001b[0m with correctness \u001b[32m0.00%\u001b[39m.\n",
      "\t\tMake \u001b[1m\u001b[31marea = Urban\u001b[39m, \u001b[31mreligion = Other\u001b[39m\u001b[0m with correctness \u001b[32m0.00%\u001b[39m.\n",
      "\t\tMake \u001b[1m\u001b[31mreligion = Christianity\u001b[39m\u001b[0m with correctness \u001b[32m0.00%\u001b[39m.\n",
      "\t\tMake \u001b[1m\u001b[31mreligion = Other\u001b[39m\u001b[0m with correctness \u001b[32m0.00%\u001b[39m.\n",
      "If \u001b[1mages = 55-64, area = Rural, college_educated = 1, income = Unknown, parents = 1, religion = Unknown\u001b[0m:\n",
      "\tProtected Subgroup '\u001b[1mMale\u001b[0m', \u001b[34m3.25%\u001b[39m covered\n",
      "\t\tMake \u001b[1m\u001b[31marea = Urban\u001b[39m, \u001b[31mreligion = Christianity\u001b[39m\u001b[0m with correctness \u001b[32m99.52%\u001b[39m.\n",
      "\t\tMake \u001b[1m\u001b[31marea = Urban\u001b[39m, \u001b[31mreligion = Other\u001b[39m\u001b[0m with correctness \u001b[32m99.52%\u001b[39m.\n",
      "\t\tMake \u001b[1m\u001b[31mreligion = Other\u001b[39m\u001b[0m with correctness \u001b[32m99.68%\u001b[39m.\n",
      "\t\tMake \u001b[1m\u001b[31mreligion = Christianity\u001b[39m\u001b[0m with correctness \u001b[32m99.68%\u001b[39m.\n",
      "\tProtected Subgroup '\u001b[1mFemale\u001b[0m', \u001b[34m2.88%\u001b[39m covered\n",
      "\t\tMake \u001b[1m\u001b[31marea = Urban\u001b[39m, \u001b[31mreligion = Christianity\u001b[39m\u001b[0m with correctness \u001b[32m0.00%\u001b[39m.\n",
      "\t\tMake \u001b[1m\u001b[31marea = Urban\u001b[39m, \u001b[31mreligion = Other\u001b[39m\u001b[0m with correctness \u001b[32m0.00%\u001b[39m.\n",
      "\t\tMake \u001b[1m\u001b[31mreligion = Other\u001b[39m\u001b[0m with correctness \u001b[32m0.00%\u001b[39m.\n",
      "\t\tMake \u001b[1m\u001b[31mreligion = Christianity\u001b[39m\u001b[0m with correctness \u001b[32m0.00%\u001b[39m.\n",
      "If \u001b[1mages = 55-64, area = Rural, college_educated = 1, homeowner = 1, income = Unknown, parents = 1, religion = Unknown\u001b[0m:\n",
      "\tProtected Subgroup '\u001b[1mMale\u001b[0m', \u001b[34m3.25%\u001b[39m covered\n",
      "\t\tMake \u001b[1m\u001b[31marea = Urban\u001b[39m, \u001b[31mreligion = Christianity\u001b[39m\u001b[0m with correctness \u001b[32m99.52%\u001b[39m.\n",
      "\t\tMake \u001b[1m\u001b[31marea = Urban\u001b[39m, \u001b[31mreligion = Other\u001b[39m\u001b[0m with correctness \u001b[32m99.52%\u001b[39m.\n",
      "\t\tMake \u001b[1m\u001b[31mreligion = Other\u001b[39m\u001b[0m with correctness \u001b[32m99.68%\u001b[39m.\n",
      "\t\tMake \u001b[1m\u001b[31mreligion = Christianity\u001b[39m\u001b[0m with correctness \u001b[32m99.68%\u001b[39m.\n",
      "\tProtected Subgroup '\u001b[1mFemale\u001b[0m', \u001b[34m2.88%\u001b[39m covered\n",
      "\t\tMake \u001b[1m\u001b[31marea = Urban\u001b[39m, \u001b[31mreligion = Christianity\u001b[39m\u001b[0m with correctness \u001b[32m0.00%\u001b[39m.\n",
      "\t\tMake \u001b[1m\u001b[31marea = Urban\u001b[39m, \u001b[31mreligion = Other\u001b[39m\u001b[0m with correctness \u001b[32m0.00%\u001b[39m.\n",
      "\t\tMake \u001b[1m\u001b[31mreligion = Other\u001b[39m\u001b[0m with correctness \u001b[32m0.00%\u001b[39m.\n",
      "\t\tMake \u001b[1m\u001b[31mreligion = Christianity\u001b[39m\u001b[0m with correctness \u001b[32m0.00%\u001b[39m.\n",
      "If \u001b[1mages = 55-64, area = Urban, college_educated = 1, income = Unknown, parents = 1, religion = Unknown\u001b[0m:\n",
      "\tProtected Subgroup '\u001b[1mMale\u001b[0m', \u001b[34m15.18%\u001b[39m covered\n",
      "\t\tMake \u001b[1m\u001b[31mreligion = Christianity\u001b[39m\u001b[0m with correctness \u001b[32m99.45%\u001b[39m.\n",
      "\t\tMake \u001b[1m\u001b[31mreligion = Other\u001b[39m\u001b[0m with correctness \u001b[32m99.45%\u001b[39m.\n",
      "\t\tMake \u001b[1m\u001b[31marea = Rural\u001b[39m, \u001b[31mreligion = Other\u001b[39m\u001b[0m with correctness \u001b[32m99.84%\u001b[39m.\n",
      "\t\tMake \u001b[1m\u001b[31marea = Rural\u001b[39m, \u001b[31mreligion = Christianity\u001b[39m\u001b[0m with correctness \u001b[32m99.84%\u001b[39m.\n",
      "\tProtected Subgroup '\u001b[1mFemale\u001b[0m', \u001b[34m13.75%\u001b[39m covered\n",
      "\t\tMake \u001b[1m\u001b[31mreligion = Christianity\u001b[39m\u001b[0m with correctness \u001b[32m0.00%\u001b[39m.\n",
      "\t\tMake \u001b[1m\u001b[31mreligion = Other\u001b[39m\u001b[0m with correctness \u001b[32m0.00%\u001b[39m.\n",
      "\t\tMake \u001b[1m\u001b[31marea = Rural\u001b[39m, \u001b[31mreligion = Other\u001b[39m\u001b[0m with correctness \u001b[32m0.00%\u001b[39m.\n",
      "\t\tMake \u001b[1m\u001b[31marea = Rural\u001b[39m, \u001b[31mreligion = Christianity\u001b[39m\u001b[0m with correctness \u001b[32m0.00%\u001b[39m.\n",
      "If \u001b[1mages = 55-64, area = Urban, college_educated = 1, homeowner = 1, income = Unknown, parents = 1, religion = Unknown\u001b[0m:\n",
      "\tProtected Subgroup '\u001b[1mMale\u001b[0m', \u001b[34m15.18%\u001b[39m covered\n",
      "\t\tMake \u001b[1m\u001b[31mreligion = Christianity\u001b[39m\u001b[0m with correctness \u001b[32m99.45%\u001b[39m.\n",
      "\t\tMake \u001b[1m\u001b[31mreligion = Other\u001b[39m\u001b[0m with correctness \u001b[32m99.45%\u001b[39m.\n",
      "\t\tMake \u001b[1m\u001b[31marea = Rural\u001b[39m, \u001b[31mreligion = Other\u001b[39m\u001b[0m with correctness \u001b[32m99.84%\u001b[39m.\n",
      "\t\tMake \u001b[1m\u001b[31marea = Rural\u001b[39m, \u001b[31mreligion = Christianity\u001b[39m\u001b[0m with correctness \u001b[32m99.84%\u001b[39m.\n",
      "\tProtected Subgroup '\u001b[1mFemale\u001b[0m', \u001b[34m13.75%\u001b[39m covered\n",
      "\t\tMake \u001b[1m\u001b[31mreligion = Christianity\u001b[39m\u001b[0m with correctness \u001b[32m0.00%\u001b[39m.\n",
      "\t\tMake \u001b[1m\u001b[31mreligion = Other\u001b[39m\u001b[0m with correctness \u001b[32m0.00%\u001b[39m.\n",
      "\t\tMake \u001b[1m\u001b[31marea = Rural\u001b[39m, \u001b[31mreligion = Other\u001b[39m\u001b[0m with correctness \u001b[32m0.00%\u001b[39m.\n",
      "\t\tMake \u001b[1m\u001b[31marea = Rural\u001b[39m, \u001b[31mreligion = Christianity\u001b[39m\u001b[0m with correctness \u001b[32m0.00%\u001b[39m.\n",
      "\n"
     ]
    }
   ],
   "source": [
    "K = 10\n",
    "\n",
    "# keep K ifs with maximum coverage on Females\n",
    "# TODO: the below is currently dataset dependent\n",
    "# rules_by_if_filtered = sorted(rules_by_if.items(), key=lambda e: e[1][\"F\"][0][1], reverse=True)[:K]\n",
    "\n",
    "# keep K ifs with maximum absolute difference in correctness between Males and Females.\n",
    "# TODO: the below is currently dataset dependent\n",
    "rules_by_if_filtered = sorted(rules_by_if.items(), key=lambda e: abs(e[1][\"Male\"][1][0][1]-e[1][\"Female\"][1][0][1]), reverse=True)[:K]\n",
    "\n",
    "rules_by_if_filtered = dict(rules_by_if_filtered)\n",
    "\n",
    "print(recourse_report_reverse(rules_by_if_filtered))"
   ]
  },
  {
   "cell_type": "code",
   "execution_count": 18,
   "id": "c3d9345a-d3f6-4db1-9fa2-887cf76c0149",
   "metadata": {
    "tags": []
   },
   "outputs": [],
   "source": [
    "#### Uncomment if you wish to save rules object on disk\n",
    "\n",
    "import dill\n",
    "\n",
    "with open(\"rulesAdCampaing_atomic.data\", \"wb\") as outf:\n",
    "    dill.dump(rules_by_if, outf)"
   ]
  },
  {
   "attachments": {},
   "cell_type": "markdown",
   "id": "680049be-1176-44d9-ba37-61b194dfb97f",
   "metadata": {},
   "source": [
    "# Filter rules by different fairness definitions"
   ]
  },
  {
   "attachments": {},
   "cell_type": "markdown",
   "id": "07e10fea-1fb4-4028-813a-e21b0767983f",
   "metadata": {},
   "source": [
    "Here, we explore more sophisticated ways of picking the \"top\" K rules and showing only those.\n",
    "\n",
    "We start ranking the rule \"groups\" (all recourses for a single \"if\") by averaging out the costs of all suggested recourses, weighted by the respective correctness. For now, the \"cost\" of a recourse is simply the number of features whose value changes (and the magnitude of the change for numerical features, but here there are none)."
   ]
  },
  {
   "cell_type": "code",
   "execution_count": 21,
   "id": "49e6a012",
   "metadata": {},
   "outputs": [],
   "source": [
    "num_features = []\n",
    "cate_features = ['religion','politics', 'parents', 'ages', 'income', 'area', 'college_educated', 'homeowner']\n",
    "ord_features = []\n",
    "\n",
    "feature_weights = {'religion':5,'politics':2, 'parents':3, 'ages':10, 'income':3, 'area':2, 'college_educated':3, 'homeowner':1}\n",
    "features_with_binary_cost = cate_features\n",
    "features_with_proportional_cost = num_features\n",
    "\n",
    "\n",
    "comparators = facts.feature_change_builder(\n",
    "    X_test,\n",
    "    num_cols=features_with_proportional_cost,\n",
    "    cate_cols=features_with_binary_cost,\n",
    "    ord_cols=ord_features,\n",
    "    feature_weights=feature_weights,\n",
    "    num_normalization=False,\n",
    ")\n",
    "params = ParameterProxy(featureChanges=comparators)"
   ]
  },
  {
   "cell_type": "code",
   "execution_count": 23,
   "id": "e31046ea",
   "metadata": {},
   "outputs": [
    {
     "name": "stderr",
     "output_type": "stream",
     "text": [
      "100%|██████████| 1432/1432 [14:28<00:00,  1.65it/s] \n"
     ]
    }
   ],
   "source": [
    "rules_with_cumulative = facts.cum_corr_costs_all(rules_by_if, X_test, model, sensitive_attribute=\"gender\", params=params)"
   ]
  },
  {
   "cell_type": "code",
   "execution_count": 24,
   "id": "22146293",
   "metadata": {},
   "outputs": [],
   "source": [
    "#### Uncomment if you wish to save rules object on disk\n",
    "\n",
    "import dill\n",
    "\n",
    "with open(\"rulesAdCampaing_cumulative.data\", \"wb\") as outf:\n",
    "    dill.dump(rules_with_cumulative, outf)"
   ]
  },
  {
   "attachments": {},
   "cell_type": "markdown",
   "id": "b68eb89f-39e1-4143-93aa-5367b5356b40",
   "metadata": {},
   "source": [
    "## Minimum cost above threshold"
   ]
  },
  {
   "cell_type": "code",
   "execution_count": 32,
   "id": "df56bb6f-2359-4108-8b03-326caf4f37a4",
   "metadata": {
    "tags": []
   },
   "outputs": [
    {
     "name": "stdout",
     "output_type": "stream",
     "text": [
      "If \u001b[1mhomeowner = 1, parents = 0\u001b[0m:\n",
      "\tProtected Subgroup '\u001b[1mMale\u001b[0m', \u001b[34m5.74%\u001b[39m covered out of 76769\n",
      "\t\tMake \u001b[1m\u001b[31mhomeowner = 0\u001b[39m\u001b[0m with effectiveness \u001b[32m51.94%\u001b[39m.\n",
      "\t\t\u001b[1mAggregate cost\u001b[0m of the above recourses = \u001b[35m1.00\u001b[39m\n",
      "\tProtected Subgroup '\u001b[1mFemale\u001b[0m', \u001b[34m5.25%\u001b[39m covered out of 160992\n",
      "\t\tMake \u001b[1m\u001b[31mhomeowner = 0\u001b[39m, \u001b[31mparents = 1\u001b[39m\u001b[0m with effectiveness \u001b[32m96.52%\u001b[39m.\n",
      "\t\t\u001b[1mAggregate cost\u001b[0m of the above recourses = \u001b[35m4.00\u001b[39m\n",
      "\t\u001b[35mBias against Female due to Equal Effectiveness. Unfairness score = 3.\u001b[39m\n",
      "If \u001b[1mcollege_educated = 1, homeowner = 1, parents = 0\u001b[0m:\n",
      "\tProtected Subgroup '\u001b[1mMale\u001b[0m', \u001b[34m5.41%\u001b[39m covered out of 76769\n",
      "\t\tMake \u001b[1m\u001b[31mhomeowner = 0\u001b[39m\u001b[0m with effectiveness \u001b[32m52.13%\u001b[39m.\n",
      "\t\t\u001b[1mAggregate cost\u001b[0m of the above recourses = \u001b[35m1.00\u001b[39m\n",
      "\tProtected Subgroup '\u001b[1mFemale\u001b[0m', \u001b[34m4.97%\u001b[39m covered out of 160992\n",
      "\t\tMake \u001b[1m\u001b[31mhomeowner = 0\u001b[39m, \u001b[31mparents = 1\u001b[39m\u001b[0m with effectiveness \u001b[32m96.60%\u001b[39m.\n",
      "\t\t\u001b[1mAggregate cost\u001b[0m of the above recourses = \u001b[35m4.00\u001b[39m\n",
      "\t\u001b[35mBias against Female due to Equal Effectiveness. Unfairness score = 3.\u001b[39m\n"
     ]
    }
   ],
   "source": [
    "top_rules, subgroup_costs = facts.select_rules_subset(\n",
    "    rules_by_if,\n",
    "    metric=\"min-above-thr\",\n",
    "    sort_strategy=\"generic-sorting-ignore-exists-subgroup-empty\",\n",
    "    top_count=50,\n",
    "    filter_sequence = [\n",
    "        \"remove-contained\",\n",
    "        \"remove-below-thr\",        \n",
    "        \"remove-fair-rules\",\n",
    "        \"keep-only-min-change\"\n",
    "    ],\n",
    "    cor_threshold=0.5,\n",
    "    secondary_sorting_objectives=[\n",
    "        # \"min-group-cost\",\n",
    "        \"max-group-corr\"\n",
    "    ],\n",
    "    params=params\n",
    ")\n",
    "\n",
    "# cum_cors = facts.cum_corr_costs_all_minimal(top_rules, X_test, model, sensitive_attribute=\"sex\", params=params)\n",
    "cum_cors = dict()\n",
    "\n",
    "pop_sizes = {sg: ((X_test[\"gender\"] == sg) & (preds_Xtest == 0)).sum() for sg in X_test[\"gender\"].unique()}\n",
    "print_recourse_report(\n",
    "    top_rules,\n",
    "    population_sizes=pop_sizes,\n",
    "    subgroup_costs=subgroup_costs,\n",
    "    aggregate_cors_costs=cum_cors,\n",
    "    show_subgroup_costs=True\n",
    ")"
   ]
  },
  {
   "attachments": {},
   "cell_type": "markdown",
   "id": "1e6b8414-7b1a-4bec-92cb-1e8eae446e34",
   "metadata": {},
   "source": [
    "## Number above threshold"
   ]
  },
  {
   "cell_type": "code",
   "execution_count": 34,
   "id": "0fbbdba8-cec7-420e-812b-925948519167",
   "metadata": {
    "tags": []
   },
   "outputs": [
    {
     "name": "stdout",
     "output_type": "stream",
     "text": [
      "If \u001b[1marea = Unknown, religion = Unknown\u001b[0m:\n",
      "\tProtected Subgroup '\u001b[1mMale\u001b[0m', \u001b[34m53.09%\u001b[39m covered out of 76769\n",
      "\t\tMake \u001b[1m\u001b[31marea = Urban\u001b[39m, \u001b[31mreligion = Christianity\u001b[39m\u001b[0m with effectiveness \u001b[32m85.47%\u001b[39m.\n",
      "\t\tMake \u001b[1m\u001b[31marea = Urban\u001b[39m, \u001b[31mreligion = Other\u001b[39m\u001b[0m with effectiveness \u001b[32m85.47%\u001b[39m.\n",
      "\t\tMake \u001b[1m\u001b[31marea = Rural\u001b[39m, \u001b[31mreligion = Christianity\u001b[39m\u001b[0m with effectiveness \u001b[32m90.52%\u001b[39m.\n",
      "\t\tMake \u001b[1m\u001b[31marea = Rural\u001b[39m, \u001b[31mreligion = Other\u001b[39m\u001b[0m with effectiveness \u001b[32m90.52%\u001b[39m.\n",
      "\t\t\u001b[1mAggregate cost\u001b[0m of the above recourses = \u001b[35m-4.00\u001b[39m\n",
      "\tProtected Subgroup '\u001b[1mFemale\u001b[0m', \u001b[34m48.86%\u001b[39m covered out of 160992\n",
      "\t\t\u001b[31mNo recourses for this subgroup!\u001b[39m\n",
      "\t\t\u001b[1mAggregate cost\u001b[0m of the above recourses = \u001b[35m0.00\u001b[39m\n",
      "\t\u001b[35mBias against Female due to Equal Effectiveness. Unfairness score = 4.\u001b[39m\n",
      "If \u001b[1marea = Unknown, homeowner = 1, religion = Unknown\u001b[0m:\n",
      "\tProtected Subgroup '\u001b[1mMale\u001b[0m', \u001b[34m51.81%\u001b[39m covered out of 76769\n",
      "\t\tMake \u001b[1m\u001b[31mhomeowner = 0\u001b[39m\u001b[0m with effectiveness \u001b[32m90.59%\u001b[39m.\n",
      "\t\tMake \u001b[1m\u001b[31mhomeowner = 0\u001b[39m, \u001b[31mreligion = Christianity\u001b[39m\u001b[0m with effectiveness \u001b[32m99.24%\u001b[39m.\n",
      "\t\tMake \u001b[1m\u001b[31mhomeowner = 0\u001b[39m, \u001b[31mreligion = Other\u001b[39m\u001b[0m with effectiveness \u001b[32m99.27%\u001b[39m.\n",
      "\t\tMake \u001b[1m\u001b[31marea = Urban\u001b[39m, \u001b[31mreligion = Christianity\u001b[39m\u001b[0m with effectiveness \u001b[32m85.15%\u001b[39m.\n",
      "\t\tMake \u001b[1m\u001b[31marea = Urban\u001b[39m, \u001b[31mreligion = Other\u001b[39m\u001b[0m with effectiveness \u001b[32m85.15%\u001b[39m.\n",
      "\t\tMake \u001b[1m\u001b[31marea = Rural\u001b[39m, \u001b[31mreligion = Other\u001b[39m\u001b[0m with effectiveness \u001b[32m90.29%\u001b[39m.\n",
      "\t\tMake \u001b[1m\u001b[31marea = Rural\u001b[39m, \u001b[31mreligion = Christianity\u001b[39m\u001b[0m with effectiveness \u001b[32m90.29%\u001b[39m.\n",
      "\t\t\u001b[1mAggregate cost\u001b[0m of the above recourses = \u001b[35m-7.00\u001b[39m\n",
      "\tProtected Subgroup '\u001b[1mFemale\u001b[0m', \u001b[34m47.69%\u001b[39m covered out of 160992\n",
      "\t\tMake \u001b[1m\u001b[31mhomeowner = 0\u001b[39m\u001b[0m with effectiveness \u001b[32m90.10%\u001b[39m.\n",
      "\t\tMake \u001b[1m\u001b[31mhomeowner = 0\u001b[39m, \u001b[31mreligion = Christianity\u001b[39m\u001b[0m with effectiveness \u001b[32m90.61%\u001b[39m.\n",
      "\t\tMake \u001b[1m\u001b[31mhomeowner = 0\u001b[39m, \u001b[31mreligion = Other\u001b[39m\u001b[0m with effectiveness \u001b[32m90.61%\u001b[39m.\n",
      "\t\t\u001b[1mAggregate cost\u001b[0m of the above recourses = \u001b[35m-3.00\u001b[39m\n",
      "\t\u001b[35mBias against Female due to Equal Effectiveness. Unfairness score = 4.\u001b[39m\n",
      "If \u001b[1marea = Unknown, income = Unknown, religion = Unknown\u001b[0m:\n",
      "\tProtected Subgroup '\u001b[1mMale\u001b[0m', \u001b[34m50.65%\u001b[39m covered out of 76769\n",
      "\t\tMake \u001b[1m\u001b[31marea = Urban\u001b[39m, \u001b[31mreligion = Christianity\u001b[39m\u001b[0m with effectiveness \u001b[32m86.44%\u001b[39m.\n",
      "\t\tMake \u001b[1m\u001b[31marea = Urban\u001b[39m, \u001b[31mreligion = Other\u001b[39m\u001b[0m with effectiveness \u001b[32m86.44%\u001b[39m.\n",
      "\t\tMake \u001b[1m\u001b[31marea = Rural\u001b[39m, \u001b[31mreligion = Christianity\u001b[39m\u001b[0m with effectiveness \u001b[32m91.62%\u001b[39m.\n",
      "\t\tMake \u001b[1m\u001b[31marea = Rural\u001b[39m, \u001b[31mreligion = Other\u001b[39m\u001b[0m with effectiveness \u001b[32m91.62%\u001b[39m.\n",
      "\t\t\u001b[1mAggregate cost\u001b[0m of the above recourses = \u001b[35m-4.00\u001b[39m\n",
      "\tProtected Subgroup '\u001b[1mFemale\u001b[0m', \u001b[34m46.53%\u001b[39m covered out of 160992\n",
      "\t\t\u001b[31mNo recourses for this subgroup!\u001b[39m\n",
      "\t\t\u001b[1mAggregate cost\u001b[0m of the above recourses = \u001b[35m0.00\u001b[39m\n",
      "\t\u001b[35mBias against Female due to Equal Effectiveness. Unfairness score = 4.\u001b[39m\n",
      "If \u001b[1marea = Unknown, college_educated = 1, religion = Unknown\u001b[0m:\n",
      "\tProtected Subgroup '\u001b[1mMale\u001b[0m', \u001b[34m50.09%\u001b[39m covered out of 76769\n",
      "\t\tMake \u001b[1m\u001b[31marea = Urban\u001b[39m, \u001b[31mreligion = Christianity\u001b[39m\u001b[0m with effectiveness \u001b[32m90.18%\u001b[39m.\n",
      "\t\tMake \u001b[1m\u001b[31marea = Urban\u001b[39m, \u001b[31mreligion = Other\u001b[39m\u001b[0m with effectiveness \u001b[32m90.18%\u001b[39m.\n",
      "\t\tMake \u001b[1m\u001b[31marea = Rural\u001b[39m, \u001b[31mreligion = Christianity\u001b[39m\u001b[0m with effectiveness \u001b[32m90.52%\u001b[39m.\n",
      "\t\tMake \u001b[1m\u001b[31marea = Rural\u001b[39m, \u001b[31mreligion = Other\u001b[39m\u001b[0m with effectiveness \u001b[32m90.52%\u001b[39m.\n",
      "\t\t\u001b[1mAggregate cost\u001b[0m of the above recourses = \u001b[35m-4.00\u001b[39m\n",
      "\tProtected Subgroup '\u001b[1mFemale\u001b[0m', \u001b[34m46.06%\u001b[39m covered out of 160992\n",
      "\t\t\u001b[31mNo recourses for this subgroup!\u001b[39m\n",
      "\t\t\u001b[1mAggregate cost\u001b[0m of the above recourses = \u001b[35m0.00\u001b[39m\n",
      "\t\u001b[35mBias against Female due to Equal Effectiveness. Unfairness score = 4.\u001b[39m\n",
      "If \u001b[1marea = Unknown, homeowner = 1, income = Unknown, religion = Unknown\u001b[0m:\n",
      "\tProtected Subgroup '\u001b[1mMale\u001b[0m', \u001b[34m49.97%\u001b[39m covered out of 76769\n",
      "\t\tMake \u001b[1m\u001b[31mhomeowner = 0\u001b[39m\u001b[0m with effectiveness \u001b[32m91.73%\u001b[39m.\n",
      "\t\tMake \u001b[1m\u001b[31mhomeowner = 0\u001b[39m, \u001b[31mreligion = Christianity\u001b[39m\u001b[0m with effectiveness \u001b[32m99.38%\u001b[39m.\n",
      "\t\tMake \u001b[1m\u001b[31mhomeowner = 0\u001b[39m, \u001b[31mreligion = Other\u001b[39m\u001b[0m with effectiveness \u001b[32m99.41%\u001b[39m.\n",
      "\t\tMake \u001b[1m\u001b[31marea = Urban\u001b[39m, \u001b[31mreligion = Christianity\u001b[39m\u001b[0m with effectiveness \u001b[32m86.29%\u001b[39m.\n",
      "\t\tMake \u001b[1m\u001b[31marea = Urban\u001b[39m, \u001b[31mreligion = Other\u001b[39m\u001b[0m with effectiveness \u001b[32m86.29%\u001b[39m.\n",
      "\t\tMake \u001b[1m\u001b[31mhomeowner = 0\u001b[39m, \u001b[31mincome = <100K\u001b[39m\u001b[0m with effectiveness \u001b[32m99.56%\u001b[39m.\n",
      "\t\tMake \u001b[1m\u001b[31marea = Rural\u001b[39m, \u001b[31mreligion = Other\u001b[39m\u001b[0m with effectiveness \u001b[32m91.52%\u001b[39m.\n",
      "\t\tMake \u001b[1m\u001b[31marea = Rural\u001b[39m, \u001b[31mreligion = Christianity\u001b[39m\u001b[0m with effectiveness \u001b[32m91.52%\u001b[39m.\n",
      "\t\tMake \u001b[1m\u001b[31mhomeowner = 0\u001b[39m, \u001b[31mincome = <100K\u001b[39m, \u001b[31mreligion = Christianity\u001b[39m\u001b[0m with effectiveness \u001b[32m99.57%\u001b[39m.\n",
      "\t\tMake \u001b[1m\u001b[31mhomeowner = 0\u001b[39m, \u001b[31mincome = <100K\u001b[39m, \u001b[31mreligion = Other\u001b[39m\u001b[0m with effectiveness \u001b[32m99.57%\u001b[39m.\n",
      "\t\t\u001b[1mAggregate cost\u001b[0m of the above recourses = \u001b[35m-10.00\u001b[39m\n",
      "\tProtected Subgroup '\u001b[1mFemale\u001b[0m', \u001b[34m45.94%\u001b[39m covered out of 160992\n",
      "\t\tMake \u001b[1m\u001b[31mhomeowner = 0\u001b[39m\u001b[0m with effectiveness \u001b[32m91.37%\u001b[39m.\n",
      "\t\tMake \u001b[1m\u001b[31mhomeowner = 0\u001b[39m, \u001b[31mreligion = Christianity\u001b[39m\u001b[0m with effectiveness \u001b[32m91.79%\u001b[39m.\n",
      "\t\tMake \u001b[1m\u001b[31mhomeowner = 0\u001b[39m, \u001b[31mreligion = Other\u001b[39m\u001b[0m with effectiveness \u001b[32m91.79%\u001b[39m.\n",
      "\t\tMake \u001b[1m\u001b[31mhomeowner = 0\u001b[39m, \u001b[31mincome = <100K\u001b[39m\u001b[0m with effectiveness \u001b[32m96.58%\u001b[39m.\n",
      "\t\tMake \u001b[1m\u001b[31mhomeowner = 0\u001b[39m, \u001b[31mincome = <100K\u001b[39m, \u001b[31mreligion = Christianity\u001b[39m\u001b[0m with effectiveness \u001b[32m99.57%\u001b[39m.\n",
      "\t\tMake \u001b[1m\u001b[31mhomeowner = 0\u001b[39m, \u001b[31mincome = <100K\u001b[39m, \u001b[31mreligion = Other\u001b[39m\u001b[0m with effectiveness \u001b[32m99.57%\u001b[39m.\n",
      "\t\t\u001b[1mAggregate cost\u001b[0m of the above recourses = \u001b[35m-6.00\u001b[39m\n",
      "\t\u001b[35mBias against Female due to Equal Effectiveness. Unfairness score = 4.\u001b[39m\n",
      "If \u001b[1marea = Unknown, college_educated = 1, homeowner = 1, religion = Unknown\u001b[0m:\n",
      "\tProtected Subgroup '\u001b[1mMale\u001b[0m', \u001b[34m48.88%\u001b[39m covered out of 76769\n",
      "\t\tMake \u001b[1m\u001b[31mhomeowner = 0\u001b[39m\u001b[0m with effectiveness \u001b[32m90.58%\u001b[39m.\n",
      "\t\tMake \u001b[1m\u001b[31mhomeowner = 0\u001b[39m, \u001b[31mreligion = Christianity\u001b[39m\u001b[0m with effectiveness \u001b[32m99.38%\u001b[39m.\n",
      "\t\tMake \u001b[1m\u001b[31mhomeowner = 0\u001b[39m, \u001b[31mreligion = Other\u001b[39m\u001b[0m with effectiveness \u001b[32m99.41%\u001b[39m.\n",
      "\t\tMake \u001b[1m\u001b[31marea = Urban\u001b[39m, \u001b[31mreligion = Christianity\u001b[39m\u001b[0m with effectiveness \u001b[32m89.96%\u001b[39m.\n",
      "\t\tMake \u001b[1m\u001b[31marea = Urban\u001b[39m, \u001b[31mreligion = Other\u001b[39m\u001b[0m with effectiveness \u001b[32m89.96%\u001b[39m.\n",
      "\t\tMake \u001b[1m\u001b[31mcollege_educated = 0\u001b[39m, \u001b[31mhomeowner = 0\u001b[39m\u001b[0m with effectiveness \u001b[32m90.35%\u001b[39m.\n",
      "\t\tMake \u001b[1m\u001b[31marea = Rural\u001b[39m, \u001b[31mreligion = Other\u001b[39m\u001b[0m with effectiveness \u001b[32m90.29%\u001b[39m.\n",
      "\t\tMake \u001b[1m\u001b[31marea = Rural\u001b[39m, \u001b[31mreligion = Christianity\u001b[39m\u001b[0m with effectiveness \u001b[32m90.29%\u001b[39m.\n",
      "\t\t\u001b[1mAggregate cost\u001b[0m of the above recourses = \u001b[35m-8.00\u001b[39m\n",
      "\tProtected Subgroup '\u001b[1mFemale\u001b[0m', \u001b[34m44.97%\u001b[39m covered out of 160992\n",
      "\t\tMake \u001b[1m\u001b[31mhomeowner = 0\u001b[39m\u001b[0m with effectiveness \u001b[32m90.11%\u001b[39m.\n",
      "\t\tMake \u001b[1m\u001b[31mhomeowner = 0\u001b[39m, \u001b[31mreligion = Christianity\u001b[39m\u001b[0m with effectiveness \u001b[32m90.62%\u001b[39m.\n",
      "\t\tMake \u001b[1m\u001b[31mhomeowner = 0\u001b[39m, \u001b[31mreligion = Other\u001b[39m\u001b[0m with effectiveness \u001b[32m90.62%\u001b[39m.\n",
      "\t\tMake \u001b[1m\u001b[31mcollege_educated = 0\u001b[39m, \u001b[31mhomeowner = 0\u001b[39m\u001b[0m with effectiveness \u001b[32m89.97%\u001b[39m.\n",
      "\t\t\u001b[1mAggregate cost\u001b[0m of the above recourses = \u001b[35m-4.00\u001b[39m\n",
      "\t\u001b[35mBias against Female due to Equal Effectiveness. Unfairness score = 4.\u001b[39m\n",
      "If \u001b[1marea = Unknown, college_educated = 1, income = Unknown, religion = Unknown\u001b[0m:\n",
      "\tProtected Subgroup '\u001b[1mMale\u001b[0m', \u001b[34m47.76%\u001b[39m covered out of 76769\n",
      "\t\tMake \u001b[1m\u001b[31marea = Urban\u001b[39m, \u001b[31mreligion = Christianity\u001b[39m\u001b[0m with effectiveness \u001b[32m91.40%\u001b[39m.\n",
      "\t\tMake \u001b[1m\u001b[31marea = Urban\u001b[39m, \u001b[31mreligion = Other\u001b[39m\u001b[0m with effectiveness \u001b[32m91.40%\u001b[39m.\n",
      "\t\tMake \u001b[1m\u001b[31marea = Rural\u001b[39m, \u001b[31mreligion = Christianity\u001b[39m\u001b[0m with effectiveness \u001b[32m91.65%\u001b[39m.\n",
      "\t\tMake \u001b[1m\u001b[31marea = Rural\u001b[39m, \u001b[31mreligion = Other\u001b[39m\u001b[0m with effectiveness \u001b[32m91.65%\u001b[39m.\n",
      "\t\t\u001b[1mAggregate cost\u001b[0m of the above recourses = \u001b[35m-4.00\u001b[39m\n",
      "\tProtected Subgroup '\u001b[1mFemale\u001b[0m', \u001b[34m43.88%\u001b[39m covered out of 160992\n",
      "\t\t\u001b[31mNo recourses for this subgroup!\u001b[39m\n",
      "\t\t\u001b[1mAggregate cost\u001b[0m of the above recourses = \u001b[35m0.00\u001b[39m\n",
      "\t\u001b[35mBias against Female due to Equal Effectiveness. Unfairness score = 4.\u001b[39m\n",
      "If \u001b[1marea = Unknown, college_educated = 1, homeowner = 1, income = Unknown, religion = Unknown\u001b[0m:\n",
      "\tProtected Subgroup '\u001b[1mMale\u001b[0m', \u001b[34m47.13%\u001b[39m covered out of 76769\n",
      "\t\tMake \u001b[1m\u001b[31mhomeowner = 0\u001b[39m\u001b[0m with effectiveness \u001b[32m91.74%\u001b[39m.\n",
      "\t\tMake \u001b[1m\u001b[31mhomeowner = 0\u001b[39m, \u001b[31mreligion = Christianity\u001b[39m\u001b[0m with effectiveness \u001b[32m99.53%\u001b[39m.\n",
      "\t\tMake \u001b[1m\u001b[31mhomeowner = 0\u001b[39m, \u001b[31mreligion = Other\u001b[39m\u001b[0m with effectiveness \u001b[32m99.56%\u001b[39m.\n",
      "\t\tMake \u001b[1m\u001b[31marea = Urban\u001b[39m, \u001b[31mreligion = Christianity\u001b[39m\u001b[0m with effectiveness \u001b[32m91.31%\u001b[39m.\n",
      "\t\tMake \u001b[1m\u001b[31marea = Urban\u001b[39m, \u001b[31mreligion = Other\u001b[39m\u001b[0m with effectiveness \u001b[32m91.31%\u001b[39m.\n",
      "\t\tMake \u001b[1m\u001b[31mhomeowner = 0\u001b[39m, \u001b[31mincome = <100K\u001b[39m\u001b[0m with effectiveness \u001b[32m99.56%\u001b[39m.\n",
      "\t\tMake \u001b[1m\u001b[31mcollege_educated = 0\u001b[39m, \u001b[31mhomeowner = 0\u001b[39m\u001b[0m with effectiveness \u001b[32m91.54%\u001b[39m.\n",
      "\t\tMake \u001b[1m\u001b[31marea = Rural\u001b[39m, \u001b[31mreligion = Other\u001b[39m\u001b[0m with effectiveness \u001b[32m91.54%\u001b[39m.\n",
      "\t\tMake \u001b[1m\u001b[31marea = Rural\u001b[39m, \u001b[31mreligion = Christianity\u001b[39m\u001b[0m with effectiveness \u001b[32m91.54%\u001b[39m.\n",
      "\t\tMake \u001b[1m\u001b[31mhomeowner = 0\u001b[39m, \u001b[31mincome = <100K\u001b[39m, \u001b[31mreligion = Christianity\u001b[39m\u001b[0m with effectiveness \u001b[32m99.56%\u001b[39m.\n",
      "\t\tMake \u001b[1m\u001b[31mhomeowner = 0\u001b[39m, \u001b[31mincome = <100K\u001b[39m, \u001b[31mreligion = Other\u001b[39m\u001b[0m with effectiveness \u001b[32m99.56%\u001b[39m.\n",
      "\t\t\u001b[1mAggregate cost\u001b[0m of the above recourses = \u001b[35m-11.00\u001b[39m\n",
      "\tProtected Subgroup '\u001b[1mFemale\u001b[0m', \u001b[34m43.32%\u001b[39m covered out of 160992\n",
      "\t\tMake \u001b[1m\u001b[31mhomeowner = 0\u001b[39m\u001b[0m with effectiveness \u001b[32m91.36%\u001b[39m.\n",
      "\t\tMake \u001b[1m\u001b[31mhomeowner = 0\u001b[39m, \u001b[31mreligion = Christianity\u001b[39m\u001b[0m with effectiveness \u001b[32m91.78%\u001b[39m.\n",
      "\t\tMake \u001b[1m\u001b[31mhomeowner = 0\u001b[39m, \u001b[31mreligion = Other\u001b[39m\u001b[0m with effectiveness \u001b[32m91.78%\u001b[39m.\n",
      "\t\tMake \u001b[1m\u001b[31mhomeowner = 0\u001b[39m, \u001b[31mincome = <100K\u001b[39m\u001b[0m with effectiveness \u001b[32m96.85%\u001b[39m.\n",
      "\t\tMake \u001b[1m\u001b[31mcollege_educated = 0\u001b[39m, \u001b[31mhomeowner = 0\u001b[39m\u001b[0m with effectiveness \u001b[32m91.34%\u001b[39m.\n",
      "\t\tMake \u001b[1m\u001b[31mhomeowner = 0\u001b[39m, \u001b[31mincome = <100K\u001b[39m, \u001b[31mreligion = Christianity\u001b[39m\u001b[0m with effectiveness \u001b[32m99.56%\u001b[39m.\n",
      "\t\tMake \u001b[1m\u001b[31mhomeowner = 0\u001b[39m, \u001b[31mincome = <100K\u001b[39m, \u001b[31mreligion = Other\u001b[39m\u001b[0m with effectiveness \u001b[32m99.56%\u001b[39m.\n",
      "\t\t\u001b[1mAggregate cost\u001b[0m of the above recourses = \u001b[35m-7.00\u001b[39m\n",
      "\t\u001b[35mBias against Female due to Equal Effectiveness. Unfairness score = 4.\u001b[39m\n"
     ]
    }
   ],
   "source": [
    "top_rules, subgroup_costs = facts.select_rules_subset(\n",
    "    rules_by_if,\n",
    "    metric=\"num-above-thr\",\n",
    "    sort_strategy=\"generic-sorting-ignore-forall-subgroups-empty\",\n",
    "    top_count=50,\n",
    "    filter_sequence = [\n",
    "        \"remove-contained\",\n",
    "        \"remove-below-thr\",\n",
    "        # \"remove-fair-rules\"\n",
    "    ],\n",
    "    cor_threshold=0.2,\n",
    "    secondary_sorting_objectives=[\n",
    "        # \"min-group-cost\",\n",
    "        # \"max-group-corr\"\n",
    "    ],\n",
    "    params=params\n",
    ")\n",
    "\n",
    "# cum_cors = facts.cum_corr_costs_all_minimal(top_rules, X_test, model, sensitive_attribute=\"sex\", params=params)\n",
    "cum_cors = dict()\n",
    "\n",
    "pop_sizes = {sg: ((X_test[\"gender\"] == sg) & (preds_Xtest == 0)).sum() for sg in X_test[\"gender\"].unique()}\n",
    "print_recourse_report(\n",
    "    top_rules,\n",
    "    population_sizes=pop_sizes,\n",
    "    subgroup_costs=subgroup_costs,\n",
    "    aggregate_cors_costs=cum_cors,\n",
    "    show_subgroup_costs=True\n",
    ")"
   ]
  }
 ],
 "metadata": {
  "kernelspec": {
   "display_name": "Python 3 (ipykernel)",
   "language": "python",
   "name": "python3"
  },
  "language_info": {
   "codemirror_mode": {
    "name": "ipython",
    "version": 3
   },
   "file_extension": ".py",
   "mimetype": "text/x-python",
   "name": "python",
   "nbconvert_exporter": "python",
   "pygments_lexer": "ipython3",
   "version": "3.8.2"
  }
 },
 "nbformat": 4,
 "nbformat_minor": 5
}
