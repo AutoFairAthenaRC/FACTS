{
 "cells": [
  {
   "attachments": {},
   "cell_type": "markdown",
   "id": "502d47bb-15f4-4e02-b414-8f01294c6697",
   "metadata": {},
   "source": [
    "Datasets used: \n",
    "- `adult (Adult)` :<br>The UCI Adult dataset contains 14 features, which can be divided into two categories: demographic and income-related.<br> The demographic features include:\n",
    "\n",
    "    age: continuous.<br>\n",
    "    fnlwgt : continuous, represents final weight, which is the number of units in the target population that the responding unit represents.<br>\n",
    "    workclass: categorical, with values 'Private', 'Local-gov', 'Self-emp-not-inc', 'Federal-gov', 'State-gov', 'Self-emp-inc', 'Without-pay'.<br>\n",
    "    education: categorical, with values '11th', 'HS-grad', 'Assoc-acdm', 'Some-college', '10th', ..., '9th', 'Doctorate', '12th', '1st-4th', 'Preschool'.<br>\n",
    "    education-num: continuous with values 1 to 16, one number assigned to each label of education feature.<br>\n",
    "    marital-status: categorical, with values 'Never-married', 'Married-civ-spouse', 'Widowed', 'Separated', 'Divorced', 'Married-spouse-absent', 'Married-AF-spouse'.<br>\n",
    "    occupation: categorical, with values such as 'Machine-op-inspct', 'Farming-fishing', 'Protective-serv'.<br>\n",
    "    relationship: categorical, with values 'Own-child', 'Husband', 'Not-in-family', 'Unmarried', 'Wife', 'Other-relative'.<br>\n",
    "    race: categorical, with values such as white, black, and Asian.<br>\n",
    "    sex: categorical, with values male and female.<br>\n",
    "    \n",
    "    The income-related features include:<br>\n",
    "\n",
    "    hours-per-week: continuous.<br>\n",
    "    native-country: categorical, with values such as United-States, Mexico, and Germany.<br>\n",
    "    capital-gain: continuous, represent the amount of money an individual has gained from the sale of investments such as stocks, bonds, or real estate.<br>\n",
    "    capital-loss: continuous, represent the amount of money an individual has lost from the sale of investments such as stocks, bonds, or real estate..<br>\n",
    "    The target feature is the income, which is binary:<br>\n",
    "    income: categorical, with values less than or equal to 50K and greater than 50K.<br>\n",
    "\n",
    "Reference Links: https://archive.ics.uci.edu/ml/datasets/adult"
   ]
  },
  {
   "cell_type": "code",
   "execution_count": 1,
   "id": "8071c256-54ef-4260-87e8-1aaef23c5010",
   "metadata": {
    "tags": []
   },
   "outputs": [
    {
     "name": "stderr",
     "output_type": "stream",
     "text": [
      "2023-08-07 00:57:29.491664: I tensorflow/tsl/cuda/cudart_stub.cc:28] Could not find cuda drivers on your machine, GPU will not be used.\n",
      "2023-08-07 00:57:29.555111: I tensorflow/tsl/cuda/cudart_stub.cc:28] Could not find cuda drivers on your machine, GPU will not be used.\n",
      "2023-08-07 00:57:29.555931: I tensorflow/core/platform/cpu_feature_guard.cc:182] This TensorFlow binary is optimized to use available CPU instructions in performance-critical operations.\n",
      "To enable the following instructions: AVX2 FMA, in other operations, rebuild TensorFlow with the appropriate compiler flags.\n",
      "2023-08-07 00:57:30.698787: W tensorflow/compiler/tf2tensorrt/utils/py_utils.cc:38] TF-TRT Warning: Could not find TensorRT\n"
     ]
    }
   ],
   "source": [
    "import pandas as pd\n",
    "import numpy as np\n",
    "\n",
    "import os\n",
    "import sys\n",
    "module_path = os.path.abspath(os.path.join('..'))\n",
    "if module_path not in sys.path:\n",
    "    sys.path.append(module_path)\n",
    "import warnings\n",
    "warnings.filterwarnings('ignore')\n",
    "import facts\n",
    "from facts.models import customXGB\n",
    "from facts.clean import clean_dataset\n",
    "from facts import valid_ifthens_with_coverage_correctness, rules2rulesbyif, valid_ifthens_with_coverage_correctness_NN\n",
    "from facts.models import customLogisticRegression\n",
    "from facts.parameters import ParameterProxy\n",
    "from facts.formatting import recourse_report_reverse, print_recourse_report, print_recourse_report_cumulative, print_recourse_report_KStest_cumulative\n",
    "from facts.utils import load_rules_by_if, save_rules_by_if\n",
    "from facts.fairness_metrics_aggr import get_diff_table, get_comb_df, get_analysis_dfs, get_diff_real_diff_drop,get_other_ranks_divided,get_map_metric_to_max_rank\n",
    "from sklearn.model_selection import train_test_split\n",
    "from sklearn.metrics import classification_report, confusion_matrix, ConfusionMatrixDisplay\n",
    "import matplotlib.pyplot as plt\n",
    "from tensorflow import keras\n",
    "from sklearn.preprocessing import OneHotEncoder, StandardScaler, LabelEncoder\n",
    "from keras.models import Sequential\n",
    "from keras.layers import Dense\n",
    "from keras.utils import to_categorical\n",
    "from sklearn.pipeline import Pipeline\n",
    "from sklearn.compose import ColumnTransformer\n",
    "from tensorflow.keras import metrics, optimizers\n",
    "import tensorflow as tf\n",
    "from collections import defaultdict"
   ]
  },
  {
   "cell_type": "code",
   "execution_count": 2,
   "id": "166a2d91-1ddc-4236-a497-fa20520d1057",
   "metadata": {},
   "outputs": [],
   "source": [
    "cost_budget = 10\n",
    "top_count = 20\n",
    "c_inf = 5"
   ]
  },
  {
   "attachments": {},
   "cell_type": "markdown",
   "id": "c3dd2b22-5b50-4997-b484-c934d615c3e0",
   "metadata": {},
   "source": [
    "# Dataset"
   ]
  },
  {
   "cell_type": "code",
   "execution_count": 3,
   "id": "c152f556-8250-4d43-b62e-3331aa937200",
   "metadata": {
    "tags": []
   },
   "outputs": [
    {
     "data": {
      "text/html": [
       "<div>\n",
       "<style scoped>\n",
       "    .dataframe tbody tr th:only-of-type {\n",
       "        vertical-align: middle;\n",
       "    }\n",
       "\n",
       "    .dataframe tbody tr th {\n",
       "        vertical-align: top;\n",
       "    }\n",
       "\n",
       "    .dataframe thead th {\n",
       "        text-align: right;\n",
       "    }\n",
       "</style>\n",
       "<table border=\"1\" class=\"dataframe\">\n",
       "  <thead>\n",
       "    <tr style=\"text-align: right;\">\n",
       "      <th></th>\n",
       "      <th>age</th>\n",
       "      <th>Workclass</th>\n",
       "      <th>education-num</th>\n",
       "      <th>marital-status</th>\n",
       "      <th>occupation</th>\n",
       "      <th>relationship</th>\n",
       "      <th>race</th>\n",
       "      <th>sex</th>\n",
       "      <th>capital-gain</th>\n",
       "      <th>capital-loss</th>\n",
       "      <th>hours-per-week</th>\n",
       "      <th>native-country</th>\n",
       "      <th>income</th>\n",
       "    </tr>\n",
       "  </thead>\n",
       "  <tbody>\n",
       "    <tr>\n",
       "      <th>0</th>\n",
       "      <td>(34.0, 41.0]</td>\n",
       "      <td>State-gov</td>\n",
       "      <td>13</td>\n",
       "      <td>Never-married</td>\n",
       "      <td>Adm-clerical</td>\n",
       "      <td>Not-in-family</td>\n",
       "      <td>White</td>\n",
       "      <td>Male</td>\n",
       "      <td>2174</td>\n",
       "      <td>0</td>\n",
       "      <td>FullTime</td>\n",
       "      <td>United-States</td>\n",
       "      <td>0</td>\n",
       "    </tr>\n",
       "    <tr>\n",
       "      <th>1</th>\n",
       "      <td>(41.0, 50.0]</td>\n",
       "      <td>Self-emp-not-inc</td>\n",
       "      <td>13</td>\n",
       "      <td>Married-civ-spouse</td>\n",
       "      <td>Exec-managerial</td>\n",
       "      <td>Married</td>\n",
       "      <td>White</td>\n",
       "      <td>Male</td>\n",
       "      <td>0</td>\n",
       "      <td>0</td>\n",
       "      <td>PartTime</td>\n",
       "      <td>United-States</td>\n",
       "      <td>0</td>\n",
       "    </tr>\n",
       "    <tr>\n",
       "      <th>2</th>\n",
       "      <td>(34.0, 41.0]</td>\n",
       "      <td>Private</td>\n",
       "      <td>9</td>\n",
       "      <td>Divorced</td>\n",
       "      <td>Handlers-cleaners</td>\n",
       "      <td>Not-in-family</td>\n",
       "      <td>White</td>\n",
       "      <td>Male</td>\n",
       "      <td>0</td>\n",
       "      <td>0</td>\n",
       "      <td>FullTime</td>\n",
       "      <td>United-States</td>\n",
       "      <td>0</td>\n",
       "    </tr>\n",
       "    <tr>\n",
       "      <th>3</th>\n",
       "      <td>(50.0, 90.0]</td>\n",
       "      <td>Private</td>\n",
       "      <td>7</td>\n",
       "      <td>Married-civ-spouse</td>\n",
       "      <td>Handlers-cleaners</td>\n",
       "      <td>Married</td>\n",
       "      <td>Black</td>\n",
       "      <td>Male</td>\n",
       "      <td>0</td>\n",
       "      <td>0</td>\n",
       "      <td>FullTime</td>\n",
       "      <td>United-States</td>\n",
       "      <td>0</td>\n",
       "    </tr>\n",
       "    <tr>\n",
       "      <th>4</th>\n",
       "      <td>(26.0, 34.0]</td>\n",
       "      <td>Private</td>\n",
       "      <td>13</td>\n",
       "      <td>Married-civ-spouse</td>\n",
       "      <td>Prof-specialty</td>\n",
       "      <td>Married</td>\n",
       "      <td>Black</td>\n",
       "      <td>Female</td>\n",
       "      <td>0</td>\n",
       "      <td>0</td>\n",
       "      <td>FullTime</td>\n",
       "      <td>Cuba</td>\n",
       "      <td>0</td>\n",
       "    </tr>\n",
       "  </tbody>\n",
       "</table>\n",
       "</div>"
      ],
      "text/plain": [
       "            age          Workclass  education-num       marital-status  \\\n",
       "0  (34.0, 41.0]          State-gov             13        Never-married   \n",
       "1  (41.0, 50.0]   Self-emp-not-inc             13   Married-civ-spouse   \n",
       "2  (34.0, 41.0]            Private              9             Divorced   \n",
       "3  (50.0, 90.0]            Private              7   Married-civ-spouse   \n",
       "4  (26.0, 34.0]            Private             13   Married-civ-spouse   \n",
       "\n",
       "           occupation    relationship    race      sex  capital-gain  \\\n",
       "0        Adm-clerical   Not-in-family   White     Male          2174   \n",
       "1     Exec-managerial         Married   White     Male             0   \n",
       "2   Handlers-cleaners   Not-in-family   White     Male             0   \n",
       "3   Handlers-cleaners         Married   Black     Male             0   \n",
       "4      Prof-specialty         Married   Black   Female             0   \n",
       "\n",
       "   capital-loss hours-per-week  native-country  income  \n",
       "0             0       FullTime   United-States       0  \n",
       "1             0       PartTime   United-States       0  \n",
       "2             0       FullTime   United-States       0  \n",
       "3             0       FullTime   United-States       0  \n",
       "4             0       FullTime            Cuba       0  "
      ]
     },
     "execution_count": 3,
     "metadata": {},
     "output_type": "execute_result"
    }
   ],
   "source": [
    "urlfile= \"https://raw.githubusercontent.com/columbia/fairtest/master/data/adult/adult.csv\"\n",
    "\n",
    "X = pd.read_csv(urlfile)\n",
    "df = clean_dataset(X, \"adult\")\n",
    "\n",
    "age = [val.left for val in df.age.unique()]\n",
    "age.sort()\n",
    "\n",
    "df.head()"
   ]
  },
  {
   "cell_type": "code",
   "execution_count": 4,
   "id": "31e8d05f-0136-4535-91bd-b8df86813187",
   "metadata": {
    "tags": []
   },
   "outputs": [],
   "source": [
    "y = df['income']\n",
    "X = df.drop('income', axis=1)\n",
    "\n",
    "num_features = X._get_numeric_data().columns.to_list()\n",
    "cate_features = X.select_dtypes(include=['object','category']).columns.to_list()\n",
    "ord_features = ['hours-per-week']"
   ]
  },
  {
   "cell_type": "code",
   "execution_count": 5,
   "id": "11f7404e",
   "metadata": {},
   "outputs": [
    {
     "data": {
      "text/html": [
       "<div>\n",
       "<style scoped>\n",
       "    .dataframe tbody tr th:only-of-type {\n",
       "        vertical-align: middle;\n",
       "    }\n",
       "\n",
       "    .dataframe tbody tr th {\n",
       "        vertical-align: top;\n",
       "    }\n",
       "\n",
       "    .dataframe thead th {\n",
       "        text-align: right;\n",
       "    }\n",
       "</style>\n",
       "<table border=\"1\" class=\"dataframe\">\n",
       "  <thead>\n",
       "    <tr style=\"text-align: right;\">\n",
       "      <th></th>\n",
       "      <th>age</th>\n",
       "      <th>Workclass</th>\n",
       "      <th>education-num</th>\n",
       "      <th>marital-status</th>\n",
       "      <th>occupation</th>\n",
       "      <th>relationship</th>\n",
       "      <th>race</th>\n",
       "      <th>sex</th>\n",
       "      <th>capital-gain</th>\n",
       "      <th>capital-loss</th>\n",
       "      <th>hours-per-week</th>\n",
       "      <th>native-country</th>\n",
       "    </tr>\n",
       "  </thead>\n",
       "  <tbody>\n",
       "    <tr>\n",
       "      <th>0</th>\n",
       "      <td>(34.0, 41.0]</td>\n",
       "      <td>State-gov</td>\n",
       "      <td>13</td>\n",
       "      <td>Never-married</td>\n",
       "      <td>Adm-clerical</td>\n",
       "      <td>Not-in-family</td>\n",
       "      <td>White</td>\n",
       "      <td>Male</td>\n",
       "      <td>2174</td>\n",
       "      <td>0</td>\n",
       "      <td>FullTime</td>\n",
       "      <td>United-States</td>\n",
       "    </tr>\n",
       "    <tr>\n",
       "      <th>1</th>\n",
       "      <td>(41.0, 50.0]</td>\n",
       "      <td>Self-emp-not-inc</td>\n",
       "      <td>13</td>\n",
       "      <td>Married-civ-spouse</td>\n",
       "      <td>Exec-managerial</td>\n",
       "      <td>Married</td>\n",
       "      <td>White</td>\n",
       "      <td>Male</td>\n",
       "      <td>0</td>\n",
       "      <td>0</td>\n",
       "      <td>PartTime</td>\n",
       "      <td>United-States</td>\n",
       "    </tr>\n",
       "    <tr>\n",
       "      <th>2</th>\n",
       "      <td>(34.0, 41.0]</td>\n",
       "      <td>Private</td>\n",
       "      <td>9</td>\n",
       "      <td>Divorced</td>\n",
       "      <td>Handlers-cleaners</td>\n",
       "      <td>Not-in-family</td>\n",
       "      <td>White</td>\n",
       "      <td>Male</td>\n",
       "      <td>0</td>\n",
       "      <td>0</td>\n",
       "      <td>FullTime</td>\n",
       "      <td>United-States</td>\n",
       "    </tr>\n",
       "    <tr>\n",
       "      <th>3</th>\n",
       "      <td>(50.0, 90.0]</td>\n",
       "      <td>Private</td>\n",
       "      <td>7</td>\n",
       "      <td>Married-civ-spouse</td>\n",
       "      <td>Handlers-cleaners</td>\n",
       "      <td>Married</td>\n",
       "      <td>Black</td>\n",
       "      <td>Male</td>\n",
       "      <td>0</td>\n",
       "      <td>0</td>\n",
       "      <td>FullTime</td>\n",
       "      <td>United-States</td>\n",
       "    </tr>\n",
       "    <tr>\n",
       "      <th>4</th>\n",
       "      <td>(26.0, 34.0]</td>\n",
       "      <td>Private</td>\n",
       "      <td>13</td>\n",
       "      <td>Married-civ-spouse</td>\n",
       "      <td>Prof-specialty</td>\n",
       "      <td>Married</td>\n",
       "      <td>Black</td>\n",
       "      <td>Female</td>\n",
       "      <td>0</td>\n",
       "      <td>0</td>\n",
       "      <td>FullTime</td>\n",
       "      <td>Cuba</td>\n",
       "    </tr>\n",
       "    <tr>\n",
       "      <th>...</th>\n",
       "      <td>...</td>\n",
       "      <td>...</td>\n",
       "      <td>...</td>\n",
       "      <td>...</td>\n",
       "      <td>...</td>\n",
       "      <td>...</td>\n",
       "      <td>...</td>\n",
       "      <td>...</td>\n",
       "      <td>...</td>\n",
       "      <td>...</td>\n",
       "      <td>...</td>\n",
       "      <td>...</td>\n",
       "    </tr>\n",
       "    <tr>\n",
       "      <th>48836</th>\n",
       "      <td>(26.0, 34.0]</td>\n",
       "      <td>Private</td>\n",
       "      <td>13</td>\n",
       "      <td>Never-married</td>\n",
       "      <td>Prof-specialty</td>\n",
       "      <td>Own-child</td>\n",
       "      <td>White</td>\n",
       "      <td>Male</td>\n",
       "      <td>0</td>\n",
       "      <td>0</td>\n",
       "      <td>FullTime</td>\n",
       "      <td>United-States</td>\n",
       "    </tr>\n",
       "    <tr>\n",
       "      <th>48837</th>\n",
       "      <td>(34.0, 41.0]</td>\n",
       "      <td>Private</td>\n",
       "      <td>13</td>\n",
       "      <td>Divorced</td>\n",
       "      <td>Prof-specialty</td>\n",
       "      <td>Not-in-family</td>\n",
       "      <td>White</td>\n",
       "      <td>Female</td>\n",
       "      <td>0</td>\n",
       "      <td>0</td>\n",
       "      <td>MidTime</td>\n",
       "      <td>United-States</td>\n",
       "    </tr>\n",
       "    <tr>\n",
       "      <th>48839</th>\n",
       "      <td>(34.0, 41.0]</td>\n",
       "      <td>Private</td>\n",
       "      <td>13</td>\n",
       "      <td>Married-civ-spouse</td>\n",
       "      <td>Prof-specialty</td>\n",
       "      <td>Married</td>\n",
       "      <td>White</td>\n",
       "      <td>Male</td>\n",
       "      <td>0</td>\n",
       "      <td>0</td>\n",
       "      <td>OverTime</td>\n",
       "      <td>United-States</td>\n",
       "    </tr>\n",
       "    <tr>\n",
       "      <th>48840</th>\n",
       "      <td>(41.0, 50.0]</td>\n",
       "      <td>Private</td>\n",
       "      <td>13</td>\n",
       "      <td>Divorced</td>\n",
       "      <td>Adm-clerical</td>\n",
       "      <td>Own-child</td>\n",
       "      <td>Asian-Pac-Islander</td>\n",
       "      <td>Male</td>\n",
       "      <td>5455</td>\n",
       "      <td>0</td>\n",
       "      <td>FullTime</td>\n",
       "      <td>United-States</td>\n",
       "    </tr>\n",
       "    <tr>\n",
       "      <th>48841</th>\n",
       "      <td>(34.0, 41.0]</td>\n",
       "      <td>Self-emp-inc</td>\n",
       "      <td>13</td>\n",
       "      <td>Married-civ-spouse</td>\n",
       "      <td>Exec-managerial</td>\n",
       "      <td>Married</td>\n",
       "      <td>White</td>\n",
       "      <td>Male</td>\n",
       "      <td>0</td>\n",
       "      <td>0</td>\n",
       "      <td>BrainDrain</td>\n",
       "      <td>United-States</td>\n",
       "    </tr>\n",
       "  </tbody>\n",
       "</table>\n",
       "<p>45222 rows × 12 columns</p>\n",
       "</div>"
      ],
      "text/plain": [
       "                age          Workclass  education-num       marital-status  \\\n",
       "0      (34.0, 41.0]          State-gov             13        Never-married   \n",
       "1      (41.0, 50.0]   Self-emp-not-inc             13   Married-civ-spouse   \n",
       "2      (34.0, 41.0]            Private              9             Divorced   \n",
       "3      (50.0, 90.0]            Private              7   Married-civ-spouse   \n",
       "4      (26.0, 34.0]            Private             13   Married-civ-spouse   \n",
       "...             ...                ...            ...                  ...   \n",
       "48836  (26.0, 34.0]            Private             13        Never-married   \n",
       "48837  (34.0, 41.0]            Private             13             Divorced   \n",
       "48839  (34.0, 41.0]            Private             13   Married-civ-spouse   \n",
       "48840  (41.0, 50.0]            Private             13             Divorced   \n",
       "48841  (34.0, 41.0]       Self-emp-inc             13   Married-civ-spouse   \n",
       "\n",
       "               occupation    relationship                 race      sex  \\\n",
       "0            Adm-clerical   Not-in-family                White     Male   \n",
       "1         Exec-managerial         Married                White     Male   \n",
       "2       Handlers-cleaners   Not-in-family                White     Male   \n",
       "3       Handlers-cleaners         Married                Black     Male   \n",
       "4          Prof-specialty         Married                Black   Female   \n",
       "...                   ...             ...                  ...      ...   \n",
       "48836      Prof-specialty       Own-child                White     Male   \n",
       "48837      Prof-specialty   Not-in-family                White   Female   \n",
       "48839      Prof-specialty         Married                White     Male   \n",
       "48840        Adm-clerical       Own-child   Asian-Pac-Islander     Male   \n",
       "48841     Exec-managerial         Married                White     Male   \n",
       "\n",
       "       capital-gain  capital-loss hours-per-week  native-country  \n",
       "0              2174             0       FullTime   United-States  \n",
       "1                 0             0       PartTime   United-States  \n",
       "2                 0             0       FullTime   United-States  \n",
       "3                 0             0       FullTime   United-States  \n",
       "4                 0             0       FullTime            Cuba  \n",
       "...             ...           ...            ...             ...  \n",
       "48836             0             0       FullTime   United-States  \n",
       "48837             0             0        MidTime   United-States  \n",
       "48839             0             0       OverTime   United-States  \n",
       "48840          5455             0       FullTime   United-States  \n",
       "48841             0             0     BrainDrain   United-States  \n",
       "\n",
       "[45222 rows x 12 columns]"
      ]
     },
     "execution_count": 5,
     "metadata": {},
     "output_type": "execute_result"
    }
   ],
   "source": [
    "label_encoder_dict = defaultdict(LabelEncoder)\n",
    "fit = X.apply(lambda x: label_encoder_dict[x.name].fit_transform(x))\n",
    "fit.apply(lambda x: label_encoder_dict[x.name].inverse_transform(x))"
   ]
  },
  {
   "cell_type": "code",
   "execution_count": 6,
   "id": "419f322c",
   "metadata": {},
   "outputs": [],
   "source": [
    "X_train, X_test, y_train, y_test = train_test_split(X, y, train_size=0.7, random_state=None, stratify=y)\n",
    "X_test, X_val, y_test, y_val = train_test_split(X_test, y_test, \n",
    "                                                  train_size=0.5,\n",
    "                                                  random_state=None, \n",
    "                                                  stratify=y_test)\n",
    "X_train = X_train.reset_index(drop=True)\n",
    "X_test = X_test.reset_index(drop=True)\n",
    "y_train = y_train.reset_index(drop=True)\n",
    "y_test = y_test.reset_index(drop=True)\n",
    "X_val = X_val.reset_index(drop=True)\n",
    "y_val = y_val.reset_index(drop=True)"
   ]
  },
  {
   "cell_type": "code",
   "execution_count": 7,
   "id": "09f06fea",
   "metadata": {},
   "outputs": [],
   "source": [
    "model = keras.Sequential(\n",
    "    [\n",
    "        keras.layers.Dense(units=9, activation=\"relu\", input_shape=(X_train.shape[-1],) ),\n",
    "        keras.layers.Dropout(0.3),\n",
    "        keras.layers.Dense(units=9, activation=\"relu\"),\n",
    "        keras.layers.Dense(units=1, activation=\"sigmoid\"),\n",
    "    ]\n",
    ")"
   ]
  },
  {
   "cell_type": "code",
   "execution_count": 8,
   "id": "f6a2bb4f",
   "metadata": {},
   "outputs": [],
   "source": [
    "learning_rate = 0.001\n",
    "\n",
    "model.compile(optimizer=keras.optimizers.Adam(learning_rate=learning_rate), \n",
    "              loss=\"binary_crossentropy\", \n",
    "              metrics=keras.metrics.AUC()\n",
    "             )"
   ]
  },
  {
   "cell_type": "code",
   "execution_count": 9,
   "id": "a7939e62",
   "metadata": {},
   "outputs": [],
   "source": [
    "history = model.fit(X_train.apply(lambda x: label_encoder_dict[x.name].transform(x)).values, y_train, \n",
    "          epochs=175, \n",
    "          batch_size=1000, \n",
    "          validation_data=(X_val.apply(lambda x: label_encoder_dict[x.name].transform(x)).values, y_val),\n",
    "          verbose=0)"
   ]
  },
  {
   "cell_type": "code",
   "execution_count": 10,
   "id": "0765b4d9",
   "metadata": {},
   "outputs": [],
   "source": [
    "rounded_model = keras.Sequential([\n",
    "    model,\n",
    "    keras.layers.Lambda(lambda x: tf.cast(tf.round(x), tf.int32))\n",
    "])"
   ]
  },
  {
   "cell_type": "code",
   "execution_count": 11,
   "id": "0c652b44",
   "metadata": {},
   "outputs": [
    {
     "data": {
      "text/plain": [
       "<Figure size 640x480 with 0 Axes>"
      ]
     },
     "metadata": {},
     "output_type": "display_data"
    },
    {
     "data": {
      "image/png": "[encoded data removed]",
      "text/plain": [
       "<Figure size 1400x400 with 2 Axes>"
      ]
     },
     "metadata": {},
     "output_type": "display_data"
    }
   ],
   "source": [
    "logs = pd.DataFrame(history.history)\n",
    "\n",
    "plt.clf()\n",
    "plt.figure(figsize=(14, 4))\n",
    "plt.subplot(1, 2, 1)\n",
    "plt.plot(logs.loc[5:,\"loss\"], lw=2, label='training loss')\n",
    "plt.plot(logs.loc[5:,\"val_loss\"], lw=2, label='validation loss')\n",
    "plt.xlabel(\"Epoch\")\n",
    "plt.ylabel(\"Loss\")\n",
    "plt.legend()\n",
    "plt.subplot(1, 2, 2)\n",
    "plt.plot(logs.loc[5:,\"auc\"], lw=2, label='training ROC AUC score')\n",
    "plt.plot(logs.loc[5:,\"val_auc\"], lw=2, label='validation ROC AUC score')\n",
    "plt.xlabel(\"Epoch\")\n",
    "plt.ylabel(\"ROC AUC\")\n",
    "plt.legend(loc='lower right')\n",
    "plt.show()"
   ]
  },
  {
   "cell_type": "code",
   "execution_count": 12,
   "id": "4a726d02",
   "metadata": {},
   "outputs": [
    {
     "name": "stdout",
     "output_type": "stream",
     "text": [
      "212/212 [==============================] - 0s 1ms/step\n"
     ]
    }
   ],
   "source": [
    "positive_label = 1\n",
    "negative_label = 0\n",
    "preds_Xtest = rounded_model.predict(X_test.apply(lambda x: label_encoder_dict[x.name].transform(x)).values)"
   ]
  },
  {
   "cell_type": "code",
   "execution_count": 13,
   "id": "a2813518",
   "metadata": {},
   "outputs": [
    {
     "name": "stdout",
     "output_type": "stream",
     "text": [
      "              precision    recall  f1-score   support\n",
      "\n",
      "           0       0.86      0.94      0.90      5102\n",
      "           1       0.75      0.54      0.63      1681\n",
      "\n",
      "    accuracy                           0.84      6783\n",
      "   macro avg       0.80      0.74      0.76      6783\n",
      "weighted avg       0.83      0.84      0.83      6783\n",
      "\n"
     ]
    }
   ],
   "source": [
    "print(classification_report(y_test.map({negative_label: 0, positive_label: 1}), preds_Xtest))"
   ]
  },
  {
   "cell_type": "code",
   "execution_count": 14,
   "id": "79fb7dbd",
   "metadata": {},
   "outputs": [
    {
     "data": {
      "image/png": "[encoded data removed]",
      "text/plain": [
       "<Figure size 640x480 with 2 Axes>"
      ]
     },
     "metadata": {},
     "output_type": "display_data"
    }
   ],
   "source": [
    "conf_matrix = confusion_matrix(y_test, preds_Xtest)\n",
    "cm_disp = ConfusionMatrixDisplay(confusion_matrix=conf_matrix)\n",
    "cm_disp.plot()\n",
    "plt.show()"
   ]
  },
  {
   "attachments": {},
   "cell_type": "markdown",
   "id": "2d1a3985-25b8-4fc7-ba40-a133d9ce7bf8",
   "metadata": {},
   "source": [
    "# Rules"
   ]
  },
  {
   "cell_type": "code",
   "execution_count": 15,
   "id": "d97b33ad",
   "metadata": {},
   "outputs": [],
   "source": [
    "# ifthens_coverage_correctness = valid_ifthens_with_coverage_correctness_NN(\n",
    "#     X_test,\n",
    "#     model=rounded_model,\n",
    "#     label_encoder_dict=label_encoder_dict,\n",
    "#     sensitive_attribute='sex',\n",
    "#     freqitem_minsupp = 0.01,\n",
    "#     missing_subgroup_val=\"Unknown\",\n",
    "#     drop_infeasible = True,\n",
    "#     drop_above = True\n",
    "# )\n",
    "\n",
    "# print(f\"Number of if-thens: {len(ifthens_coverage_correctness)}\")\n",
    "# rules_by_if = rules2rulesbyif(ifthens_coverage_correctness)"
   ]
  },
  {
   "cell_type": "code",
   "execution_count": 16,
   "id": "5c7fe9da",
   "metadata": {},
   "outputs": [],
   "source": [
    "## Use this for loading rules from disk\n",
    "rules_by_if = load_rules_by_if(\"rulesAdultFairTest-NN.data\")\n",
    "## Use this for saving rules on disk\n",
    "# save_rules_by_if(\"rulesAdultFairTest-NN.data\", rules_by_if)"
   ]
  },
  {
   "cell_type": "code",
   "execution_count": 17,
   "id": "afa3a568",
   "metadata": {},
   "outputs": [],
   "source": [
    "num_features_ = ['education-num', 'capital-gain', 'capital-loss']\n",
    "cate_features_ = ['age', 'Workclass', 'marital-status', 'occupation', 'relationship', 'race', 'sex', 'native-country']\n",
    "ord_features_ = ['hours-per-week']\n",
    "\n",
    "feature_weights = {\"race\" : 100 , \"sex\": 100, \"marital-status\": 5, \"relationship\":5, \"age\": 10, \"occupation\": 4, \"Workclass\": 2, \"native-country\": 4,\n",
    "                    \"hours-per-week\":2, \"capital-gain\": 1, \"capital-loss\":1, \"education-num\": 3}\n",
    "features_with_binary_cost = cate_features\n",
    "features_with_proportional_cost = num_features\n",
    "\n",
    "\n",
    "comparators = facts.feature_change_builder(\n",
    "    X_test,\n",
    "    num_cols=features_with_proportional_cost,\n",
    "    cate_cols=features_with_binary_cost,\n",
    "    ord_cols=ord_features,\n",
    "    feature_weights=feature_weights,\n",
    "    num_normalization=True,\n",
    "    feats_to_normalize = [\"capital-gain\",\"capital-loss\"]\n",
    ")\n",
    "params = ParameterProxy(featureChanges=comparators)"
   ]
  },
  {
   "cell_type": "code",
   "execution_count": 18,
   "id": "7dc35e26",
   "metadata": {},
   "outputs": [
    {
     "data": {
      "application/vnd.jupyter.widget-view+json": {
       "model_id": "1e61cd84905b4036ac7e1a44efaf79a7",
       "version_major": 2,
       "version_minor": 0
      },
      "text/plain": [
       "  0%|          | 0/12824 [00:00<?, ?it/s]"
      ]
     },
     "metadata": {},
     "output_type": "display_data"
    },
    {
     "ename": "KeyboardInterrupt",
     "evalue": "",
     "output_type": "error",
     "traceback": [
      "\u001b[0;31m---------------------------------------------------------------------------\u001b[0m",
      "\u001b[0;31mKeyboardInterrupt\u001b[0m                         Traceback (most recent call last)",
      "Cell \u001b[0;32mIn[18], line 1\u001b[0m\n\u001b[0;32m----> 1\u001b[0m rules_with_cumulative \u001b[39m=\u001b[39m facts\u001b[39m.\u001b[39;49mcum_corr_costs_all_NN(rules_by_if, X_test, rounded_model, label_encoder_dict,sensitive_attribute\u001b[39m=\u001b[39;49m\u001b[39m\"\u001b[39;49m\u001b[39msex\u001b[39;49m\u001b[39m\"\u001b[39;49m, params\u001b[39m=\u001b[39;49mparams)\n",
      "File \u001b[0;32m~/Desktop/Athena/FACTS/facts/facts/misc.py:930\u001b[0m, in \u001b[0;36mcum_corr_costs_all_NN\u001b[0;34m(rulesbyif, X, model, label_encoder_dict, sensitive_attribute, params)\u001b[0m\n\u001b[1;32m    926\u001b[0m     \u001b[39mfor\u001b[39;00m sg, (cov, thens) \u001b[39min\u001b[39;00m all_thens\u001b[39m.\u001b[39mitems():\n\u001b[1;32m    927\u001b[0m         subgroup_affected \u001b[39m=\u001b[39m X_affected[X_affected[sensitive_attribute] \u001b[39m==\u001b[39m sg]\n\u001b[1;32m    928\u001b[0m         all_thens_new[sg] \u001b[39m=\u001b[39m (\n\u001b[1;32m    929\u001b[0m             cov,\n\u001b[0;32m--> 930\u001b[0m             cum_corr_costs_NN(\n\u001b[1;32m    931\u001b[0m                 ifclause,\n\u001b[1;32m    932\u001b[0m                 thens,\n\u001b[1;32m    933\u001b[0m                 subgroup_affected,\n\u001b[1;32m    934\u001b[0m                 model,\n\u001b[1;32m    935\u001b[0m                 label_encoder_dict,\n\u001b[1;32m    936\u001b[0m                 params\u001b[39m=\u001b[39;49mparams,\n\u001b[1;32m    937\u001b[0m             ),\n\u001b[1;32m    938\u001b[0m         )\n\u001b[1;32m    939\u001b[0m     ret[ifclause] \u001b[39m=\u001b[39m all_thens_new\n\u001b[1;32m    940\u001b[0m \u001b[39mreturn\u001b[39;00m ret\n",
      "File \u001b[0;32m~/Desktop/Athena/FACTS/facts/facts/misc.py:892\u001b[0m, in \u001b[0;36mcum_corr_costs_NN\u001b[0;34m(ifclause, thenclauses, X, model, label_encoder_dict, params)\u001b[0m\n\u001b[1;32m    890\u001b[0m X_temp \u001b[39m=\u001b[39m X_covered\u001b[39m.\u001b[39mcopy()\n\u001b[1;32m    891\u001b[0m X_temp[thenclause\u001b[39m.\u001b[39mfeatures] \u001b[39m=\u001b[39m thenclause\u001b[39m.\u001b[39mvalues\n\u001b[0;32m--> 892\u001b[0m preds \u001b[39m=\u001b[39m model\u001b[39m.\u001b[39;49mpredict(\n\u001b[1;32m    893\u001b[0m     X_temp\u001b[39m.\u001b[39;49mapply(\u001b[39mlambda\u001b[39;49;00m x: label_encoder_dict[x\u001b[39m.\u001b[39;49mname]\u001b[39m.\u001b[39;49mtransform(x))\u001b[39m.\u001b[39;49mvalues,\n\u001b[1;32m    894\u001b[0m     verbose\u001b[39m=\u001b[39;49m\u001b[39m0\u001b[39;49m,\n\u001b[1;32m    895\u001b[0m )\n\u001b[1;32m    897\u001b[0m corrected_count \u001b[39m=\u001b[39m np\u001b[39m.\u001b[39msum(preds)\n\u001b[1;32m    898\u001b[0m cumcorrs\u001b[39m.\u001b[39mappend(corrected_count)\n",
      "File \u001b[0;32m~/.local/lib/python3.10/site-packages/keras/src/utils/traceback_utils.py:65\u001b[0m, in \u001b[0;36mfilter_traceback.<locals>.error_handler\u001b[0;34m(*args, **kwargs)\u001b[0m\n\u001b[1;32m     63\u001b[0m filtered_tb \u001b[39m=\u001b[39m \u001b[39mNone\u001b[39;00m\n\u001b[1;32m     64\u001b[0m \u001b[39mtry\u001b[39;00m:\n\u001b[0;32m---> 65\u001b[0m     \u001b[39mreturn\u001b[39;00m fn(\u001b[39m*\u001b[39;49margs, \u001b[39m*\u001b[39;49m\u001b[39m*\u001b[39;49mkwargs)\n\u001b[1;32m     66\u001b[0m \u001b[39mexcept\u001b[39;00m \u001b[39mException\u001b[39;00m \u001b[39mas\u001b[39;00m e:\n\u001b[1;32m     67\u001b[0m     filtered_tb \u001b[39m=\u001b[39m _process_traceback_frames(e\u001b[39m.\u001b[39m__traceback__)\n",
      "File \u001b[0;32m~/.local/lib/python3.10/site-packages/keras/src/engine/training.py:2554\u001b[0m, in \u001b[0;36mModel.predict\u001b[0;34m(self, x, batch_size, verbose, steps, callbacks, max_queue_size, workers, use_multiprocessing)\u001b[0m\n\u001b[1;32m   2552\u001b[0m \u001b[39mfor\u001b[39;00m step \u001b[39min\u001b[39;00m data_handler\u001b[39m.\u001b[39msteps():\n\u001b[1;32m   2553\u001b[0m     callbacks\u001b[39m.\u001b[39mon_predict_batch_begin(step)\n\u001b[0;32m-> 2554\u001b[0m     tmp_batch_outputs \u001b[39m=\u001b[39m \u001b[39mself\u001b[39;49m\u001b[39m.\u001b[39;49mpredict_function(iterator)\n\u001b[1;32m   2555\u001b[0m     \u001b[39mif\u001b[39;00m data_handler\u001b[39m.\u001b[39mshould_sync:\n\u001b[1;32m   2556\u001b[0m         context\u001b[39m.\u001b[39masync_wait()\n",
      "File \u001b[0;32m~/.local/lib/python3.10/site-packages/tensorflow/python/util/traceback_utils.py:150\u001b[0m, in \u001b[0;36mfilter_traceback.<locals>.error_handler\u001b[0;34m(*args, **kwargs)\u001b[0m\n\u001b[1;32m    148\u001b[0m filtered_tb \u001b[39m=\u001b[39m \u001b[39mNone\u001b[39;00m\n\u001b[1;32m    149\u001b[0m \u001b[39mtry\u001b[39;00m:\n\u001b[0;32m--> 150\u001b[0m   \u001b[39mreturn\u001b[39;00m fn(\u001b[39m*\u001b[39;49margs, \u001b[39m*\u001b[39;49m\u001b[39m*\u001b[39;49mkwargs)\n\u001b[1;32m    151\u001b[0m \u001b[39mexcept\u001b[39;00m \u001b[39mException\u001b[39;00m \u001b[39mas\u001b[39;00m e:\n\u001b[1;32m    152\u001b[0m   filtered_tb \u001b[39m=\u001b[39m _process_traceback_frames(e\u001b[39m.\u001b[39m__traceback__)\n",
      "File \u001b[0;32m~/.local/lib/python3.10/site-packages/tensorflow/python/eager/polymorphic_function/polymorphic_function.py:825\u001b[0m, in \u001b[0;36mFunction.__call__\u001b[0;34m(self, *args, **kwds)\u001b[0m\n\u001b[1;32m    822\u001b[0m compiler \u001b[39m=\u001b[39m \u001b[39m\"\u001b[39m\u001b[39mxla\u001b[39m\u001b[39m\"\u001b[39m \u001b[39mif\u001b[39;00m \u001b[39mself\u001b[39m\u001b[39m.\u001b[39m_jit_compile \u001b[39melse\u001b[39;00m \u001b[39m\"\u001b[39m\u001b[39mnonXla\u001b[39m\u001b[39m\"\u001b[39m\n\u001b[1;32m    824\u001b[0m \u001b[39mwith\u001b[39;00m OptionalXlaContext(\u001b[39mself\u001b[39m\u001b[39m.\u001b[39m_jit_compile):\n\u001b[0;32m--> 825\u001b[0m   result \u001b[39m=\u001b[39m \u001b[39mself\u001b[39;49m\u001b[39m.\u001b[39;49m_call(\u001b[39m*\u001b[39;49margs, \u001b[39m*\u001b[39;49m\u001b[39m*\u001b[39;49mkwds)\n\u001b[1;32m    827\u001b[0m new_tracing_count \u001b[39m=\u001b[39m \u001b[39mself\u001b[39m\u001b[39m.\u001b[39mexperimental_get_tracing_count()\n\u001b[1;32m    828\u001b[0m without_tracing \u001b[39m=\u001b[39m (tracing_count \u001b[39m==\u001b[39m new_tracing_count)\n",
      "File \u001b[0;32m~/.local/lib/python3.10/site-packages/tensorflow/python/eager/polymorphic_function/polymorphic_function.py:864\u001b[0m, in \u001b[0;36mFunction._call\u001b[0;34m(self, *args, **kwds)\u001b[0m\n\u001b[1;32m    861\u001b[0m \u001b[39mself\u001b[39m\u001b[39m.\u001b[39m_lock\u001b[39m.\u001b[39mrelease()\n\u001b[1;32m    862\u001b[0m \u001b[39m# In this case we have not created variables on the first call. So we can\u001b[39;00m\n\u001b[1;32m    863\u001b[0m \u001b[39m# run the first trace but we should fail if variables are created.\u001b[39;00m\n\u001b[0;32m--> 864\u001b[0m results \u001b[39m=\u001b[39m \u001b[39mself\u001b[39;49m\u001b[39m.\u001b[39;49m_variable_creation_fn(\u001b[39m*\u001b[39;49margs, \u001b[39m*\u001b[39;49m\u001b[39m*\u001b[39;49mkwds)\n\u001b[1;32m    865\u001b[0m \u001b[39mif\u001b[39;00m \u001b[39mself\u001b[39m\u001b[39m.\u001b[39m_created_variables \u001b[39mand\u001b[39;00m \u001b[39mnot\u001b[39;00m ALLOW_DYNAMIC_VARIABLE_CREATION:\n\u001b[1;32m    866\u001b[0m   \u001b[39mraise\u001b[39;00m \u001b[39mValueError\u001b[39;00m(\u001b[39m\"\u001b[39m\u001b[39mCreating variables on a non-first call to a function\u001b[39m\u001b[39m\"\u001b[39m\n\u001b[1;32m    867\u001b[0m                    \u001b[39m\"\u001b[39m\u001b[39m decorated with tf.function.\u001b[39m\u001b[39m\"\u001b[39m)\n",
      "File \u001b[0;32m~/.local/lib/python3.10/site-packages/tensorflow/python/eager/polymorphic_function/tracing_compiler.py:147\u001b[0m, in \u001b[0;36mTracingCompiler.__call__\u001b[0;34m(self, *args, **kwargs)\u001b[0m\n\u001b[1;32m    144\u001b[0m \u001b[39m\u001b[39m\u001b[39m\"\"\"Calls a graph function specialized to the inputs.\"\"\"\u001b[39;00m\n\u001b[1;32m    145\u001b[0m \u001b[39mwith\u001b[39;00m \u001b[39mself\u001b[39m\u001b[39m.\u001b[39m_lock:\n\u001b[1;32m    146\u001b[0m   (concrete_function,\n\u001b[0;32m--> 147\u001b[0m    filtered_flat_args) \u001b[39m=\u001b[39m \u001b[39mself\u001b[39;49m\u001b[39m.\u001b[39;49m_maybe_define_function(args, kwargs)\n\u001b[1;32m    148\u001b[0m \u001b[39mreturn\u001b[39;00m concrete_function\u001b[39m.\u001b[39m_call_flat(\n\u001b[1;32m    149\u001b[0m     filtered_flat_args, captured_inputs\u001b[39m=\u001b[39mconcrete_function\u001b[39m.\u001b[39mcaptured_inputs)\n",
      "File \u001b[0;32m~/.local/lib/python3.10/site-packages/tensorflow/python/eager/polymorphic_function/tracing_compiler.py:361\u001b[0m, in \u001b[0;36mTracingCompiler._maybe_define_function\u001b[0;34m(self, args, kwargs)\u001b[0m\n\u001b[1;32m    355\u001b[0m \u001b[39m# cache_key_deletion_observer is useless here. It's based on all captures.\u001b[39;00m\n\u001b[1;32m    356\u001b[0m \u001b[39m# A new cache key will be built later when saving ConcreteFunction because\u001b[39;00m\n\u001b[1;32m    357\u001b[0m \u001b[39m# only active captures should be saved.\u001b[39;00m\n\u001b[1;32m    358\u001b[0m lookup_func_type, lookup_func_context \u001b[39m=\u001b[39m (\n\u001b[1;32m    359\u001b[0m     \u001b[39mself\u001b[39m\u001b[39m.\u001b[39m_function_spec\u001b[39m.\u001b[39mmake_canonicalized_monomorphic_type(\n\u001b[1;32m    360\u001b[0m         args, kwargs, captures))\n\u001b[0;32m--> 361\u001b[0m concrete_function \u001b[39m=\u001b[39m \u001b[39mself\u001b[39;49m\u001b[39m.\u001b[39;49m_function_cache\u001b[39m.\u001b[39;49mlookup(current_func_context,\n\u001b[1;32m    362\u001b[0m                                                 lookup_func_type)\n\u001b[1;32m    363\u001b[0m \u001b[39mif\u001b[39;00m concrete_function \u001b[39mis\u001b[39;00m \u001b[39mnot\u001b[39;00m \u001b[39mNone\u001b[39;00m:\n\u001b[1;32m    364\u001b[0m   \u001b[39mreturn\u001b[39;00m concrete_function, filtered_flat_args\n",
      "File \u001b[0;32m~/.local/lib/python3.10/site-packages/tensorflow/core/function/polymorphism/function_cache.py:48\u001b[0m, in \u001b[0;36mFunctionCache.lookup\u001b[0;34m(self, context, function_type)\u001b[0m\n\u001b[1;32m     46\u001b[0m   dispatch_type \u001b[39m=\u001b[39m \u001b[39mself\u001b[39m\u001b[39m.\u001b[39m_dispatch_dict[context]\u001b[39m.\u001b[39mdispatch(function_type)\n\u001b[1;32m     47\u001b[0m   \u001b[39mif\u001b[39;00m dispatch_type:\n\u001b[0;32m---> 48\u001b[0m     \u001b[39mreturn\u001b[39;00m \u001b[39mself\u001b[39;49m\u001b[39m.\u001b[39;49m_primary[(context, dispatch_type)]\n\u001b[1;32m     50\u001b[0m \u001b[39mreturn\u001b[39;00m \u001b[39mNone\u001b[39;00m\n",
      "File \u001b[0;32m~/.local/lib/python3.10/site-packages/tensorflow/core/function/polymorphism/function_type.py:355\u001b[0m, in \u001b[0;36mFunctionType.__hash__\u001b[0;34m(self)\u001b[0m\n\u001b[1;32m    354\u001b[0m \u001b[39mdef\u001b[39;00m \u001b[39m__hash__\u001b[39m(\u001b[39mself\u001b[39m) \u001b[39m-\u001b[39m\u001b[39m>\u001b[39m \u001b[39mint\u001b[39m:\n\u001b[0;32m--> 355\u001b[0m   \u001b[39mreturn\u001b[39;00m \u001b[39mhash\u001b[39;49m((\u001b[39mtuple\u001b[39;49m(\u001b[39mself\u001b[39;49m\u001b[39m.\u001b[39;49mparameters\u001b[39m.\u001b[39;49mitems()), \u001b[39mtuple\u001b[39;49m(\u001b[39mself\u001b[39;49m\u001b[39m.\u001b[39;49mcaptures\u001b[39m.\u001b[39;49mitems())))\n",
      "File \u001b[0;32m~/.local/lib/python3.10/site-packages/tensorflow/core/function/polymorphism/function_type.py:146\u001b[0m, in \u001b[0;36mParameter.__hash__\u001b[0;34m(self)\u001b[0m\n\u001b[1;32m    145\u001b[0m \u001b[39mdef\u001b[39;00m \u001b[39m__hash__\u001b[39m(\u001b[39mself\u001b[39m):\n\u001b[0;32m--> 146\u001b[0m   \u001b[39mreturn\u001b[39;00m \u001b[39mhash\u001b[39;49m((\u001b[39mself\u001b[39;49m\u001b[39m.\u001b[39;49mname, \u001b[39mself\u001b[39;49m\u001b[39m.\u001b[39;49mkind, \u001b[39mself\u001b[39;49m\u001b[39m.\u001b[39;49moptional, \u001b[39mself\u001b[39;49m\u001b[39m.\u001b[39;49mtype_constraint))\n",
      "File \u001b[0;32m~/.local/lib/python3.10/site-packages/tensorflow/python/framework/type_spec.py:517\u001b[0m, in \u001b[0;36mTypeSpec.__hash__\u001b[0;34m(self)\u001b[0m\n\u001b[1;32m    516\u001b[0m \u001b[39mdef\u001b[39;00m \u001b[39m__hash__\u001b[39m(\u001b[39mself\u001b[39m) \u001b[39m-\u001b[39m\u001b[39m>\u001b[39m \u001b[39mint\u001b[39m:\n\u001b[0;32m--> 517\u001b[0m   \u001b[39mreturn\u001b[39;00m \u001b[39mhash\u001b[39;49m(\u001b[39mself\u001b[39;49m\u001b[39m.\u001b[39;49m__get_cmp_key())\n",
      "File \u001b[0;32m~/.local/lib/python3.10/site-packages/tensorflow/python/framework/tensor.py:144\u001b[0m, in \u001b[0;36mDenseSpec.__hash__\u001b[0;34m(self)\u001b[0m\n\u001b[1;32m    143\u001b[0m \u001b[39mdef\u001b[39;00m \u001b[39m__hash__\u001b[39m(\u001b[39mself\u001b[39m):\n\u001b[0;32m--> 144\u001b[0m   \u001b[39mreturn\u001b[39;00m \u001b[39mhash\u001b[39;49m((\u001b[39mself\u001b[39;49m\u001b[39m.\u001b[39;49m_shape, \u001b[39mself\u001b[39;49m\u001b[39m.\u001b[39;49mdtype))\n",
      "\u001b[0;31mKeyboardInterrupt\u001b[0m: "
     ]
    }
   ],
   "source": [
    "rules_with_cumulative = facts.cum_corr_costs_all_NN(rules_by_if, X_test, rounded_model, label_encoder_dict,sensitive_attribute=\"sex\", params=params)"
   ]
  },
  {
   "cell_type": "code",
   "execution_count": null,
   "id": "ced1d36f",
   "metadata": {},
   "outputs": [],
   "source": [
    "## Use this for loading rules from disk\n",
    "# rules_with_cumulative = load_rules_by_if(\"rulesAdultFairTest-NN_cumulative.data\")\n",
    "\n",
    "## Use this for saving rules on disk\n",
    "save_rules_by_if(\"rulesAdultFairTest-NN_cumulative.data\", rules_with_cumulative)"
   ]
  },
  {
   "cell_type": "code",
   "execution_count": null,
   "id": "a76e6850",
   "metadata": {},
   "outputs": [],
   "source": [
    "rules_with_atomic_correctness = rules_by_if\n",
    "rules_with_cumulative_correctness = rules_with_cumulative"
   ]
  },
  {
   "cell_type": "code",
   "execution_count": null,
   "id": "7ce8c71c-e23d-4bd7-9d05-519491724927",
   "metadata": {},
   "outputs": [],
   "source": [
    "feature_weights = {\"race\" : 100 , \"sex\": 100, \"marital-status\": 5, \"relationship\":5, \"age\": 10, \"occupation\": 4, \"Workclass\": 2, \"native-country\": 4,\n",
    "                    \"hours-per-week\":2, \"capital-gain\": 1, \"capital-loss\":1, \"education-num\": 3}\n",
    "features_with_binary_cost = cate_features\n",
    "features_with_proportional_cost = num_features\n",
    "\n",
    "\n",
    "comparators = facts.feature_change_builder(\n",
    "    X,\n",
    "    num_cols=features_with_proportional_cost,\n",
    "    cate_cols=features_with_binary_cost,\n",
    "    ord_cols=ord_features,\n",
    "    feature_weights=feature_weights,\n",
    "    num_normalization=True,\n",
    "    feats_to_normalize = [\"capital-gain\",\"capital-loss\"]\n",
    ")\n",
    "params = ParameterProxy(featureChanges=comparators)\n",
    "\n",
    "facts.update_costs_cumulative(rules_with_cumulative_correctness, params)"
   ]
  },
  {
   "attachments": {},
   "cell_type": "markdown",
   "id": "16f75540-1605-4fcc-80a7-d483c2f99f7c",
   "metadata": {},
   "source": [
    "# Macro Viewpoint"
   ]
  },
  {
   "attachments": {},
   "cell_type": "markdown",
   "id": "affdd8c2-2468-4366-ba6c-74e0defb0812",
   "metadata": {},
   "source": [
    "## Equal Cost of Effectiveness (Macro)"
   ]
  },
  {
   "cell_type": "code",
   "execution_count": null,
   "id": "638ae849-4c7b-4ee0-91aa-34f40191cf40",
   "metadata": {},
   "outputs": [],
   "source": [
    "top_rules, subgroup_costs = facts.select_rules_subset(\n",
    "    rules_with_atomic_correctness,\n",
    "    metric=\"min-above-thr\",\n",
    "    sort_strategy=\"generic-sorting-ignore-exists-subgroup-empty\",\n",
    "    top_count=top_count,\n",
    "    cor_threshold=0.7,\n",
    "    filter_sequence = [\n",
    "        \"remove-contained\",\n",
    "        \"remove-below-thr\",        \n",
    "        \"remove-fair-rules\",\n",
    "        \"keep-only-min-change\"\n",
    "    ],\n",
    "    params=params\n",
    ")\n",
    "\n",
    "print_recourse_report(\n",
    "    top_rules,\n",
    "    subgroup_costs=subgroup_costs,\n",
    "    show_subgroup_costs=True,\n",
    "    metric_name = 'Equal Cost of Effectiveness (Macro) (threshold = 0.7)'\n",
    ")"
   ]
  },
  {
   "attachments": {},
   "cell_type": "markdown",
   "id": "4a3d96ad-7b69-4a2d-9274-3a2a0279be7e",
   "metadata": {},
   "source": [
    "## Equal Choice for Recourse(Macro)"
   ]
  },
  {
   "cell_type": "code",
   "execution_count": null,
   "id": "37d3d6be-08f8-41ca-83fb-37a7e5f61420",
   "metadata": {},
   "outputs": [],
   "source": [
    "top_rules, subgroup_costs = facts.select_rules_subset(\n",
    "    rules_with_atomic_correctness,\n",
    "    metric=\"num-above-thr\",\n",
    "    sort_strategy=\"generic-sorting-ignore-forall-subgroups-empty\",\n",
    "    top_count=top_count,\n",
    "    cor_threshold=0.7,\n",
    "    filter_sequence = [\n",
    "        \"remove-contained\",\n",
    "        \"remove-below-thr\",\n",
    "        \"remove-fair-rules\"\n",
    "    ],\n",
    "    params=params\n",
    ")\n",
    "\n",
    "print_recourse_report(\n",
    "    top_rules,\n",
    "    subgroup_costs=subgroup_costs,\n",
    "    show_subgroup_costs=True,\n",
    "    metric_name = 'Equal Choice for Recourse(Macro) (threshold = 0.7)'\n",
    ")"
   ]
  },
  {
   "attachments": {},
   "cell_type": "markdown",
   "id": "0be2f149-b6b2-4faa-8804-7f188c0fcd9a",
   "metadata": {},
   "source": [
    "# Micro Viewpoint"
   ]
  },
  {
   "attachments": {},
   "cell_type": "markdown",
   "id": "d7b0a1f7-547b-475b-a90b-4147a7d7e396",
   "metadata": {},
   "source": [
    "##  Equal Conditional Mean Recourse"
   ]
  },
  {
   "cell_type": "code",
   "execution_count": null,
   "id": "7fdbe147-c273-47bc-836a-6a0b6d4dccab",
   "metadata": {},
   "outputs": [],
   "source": [
    "top_rules, subgroup_costs = facts.select_rules_subset_cumulative(\n",
    "    rules_with_cumulative_correctness,\n",
    "    metric=\"fairness-of-mean-recourse-conditional\",\n",
    "    sort_strategy=\"generic-sorting-ignore-exists-subgroup-empty\",\n",
    "    top_count=top_count,\n",
    "    filter_sequence = [\n",
    "        \"remove-contained\",\n",
    "        \"remove-fair-rules\"\n",
    "    ],\n",
    "    params=params\n",
    ")\n",
    "\n",
    "print_recourse_report_cumulative(\n",
    "    top_rules,\n",
    "    subgroup_costs=subgroup_costs,\n",
    "    show_subgroup_costs=True,\n",
    "    show_then_costs=True,\n",
    "    metric_name = 'Equal Conditional Mean Recourse'\n",
    ")"
   ]
  },
  {
   "attachments": {},
   "cell_type": "markdown",
   "id": "cfac3d57-0748-487d-8d88-a26016ee2000",
   "metadata": {},
   "source": [
    "## Equal Cost of Effectiveness (Micro)"
   ]
  },
  {
   "cell_type": "code",
   "execution_count": null,
   "id": "12c3c19c-65e3-4b13-9f4c-39b2a04643a3",
   "metadata": {},
   "outputs": [],
   "source": [
    "top_rules, subgroup_costs = facts.select_rules_subset_cumulative(\n",
    "    rules_with_cumulative_correctness,\n",
    "    metric=\"min-above-corr\",\n",
    "    sort_strategy=\"generic-sorting-ignore-exists-subgroup-empty\",\n",
    "    top_count=top_count,\n",
    "    cor_threshold = 0.7,\n",
    "    filter_sequence = [\n",
    "        \"remove-contained\",\n",
    "        \"remove-fair-rules\",\n",
    "        \"keep-cheap-rules-above-thr-cor\",\n",
    "        \n",
    "    ],\n",
    "    params=params\n",
    ")\n",
    "\n",
    "print_recourse_report_cumulative(\n",
    "    top_rules,\n",
    "    subgroup_costs=subgroup_costs,\n",
    "    show_subgroup_costs=True,\n",
    "    show_then_costs=True,\n",
    "    metric_name = 'Equal Cost of Effectiveness (Micro) (threshold = 0.7)'\n",
    ")"
   ]
  },
  {
   "attachments": {},
   "cell_type": "markdown",
   "id": "a2284475-0a55-4eb0-94dd-f954d5bbe8dc",
   "metadata": {},
   "source": [
    "## Equal Effectiveness"
   ]
  },
  {
   "cell_type": "code",
   "execution_count": null,
   "id": "b276d125-782a-4c6a-8be9-8e5547b3de91",
   "metadata": {},
   "outputs": [],
   "source": [
    "top_rules, subgroup_costs = facts.select_rules_subset_cumulative(\n",
    "    rules_with_cumulative_correctness,\n",
    "    metric=\"total-correctness\",\n",
    "    sort_strategy=\"generic-sorting-ignore-forall-subgroups-empty\",\n",
    "    top_count=top_count,\n",
    "    filter_sequence = [\n",
    "        \"remove-contained\",\n",
    "        \"remove-fair-rules\",\n",
    "    ],\n",
    "    params=params\n",
    ")\n",
    "\n",
    "print_recourse_report_cumulative(\n",
    "    top_rules,\n",
    "    subgroup_costs=subgroup_costs,\n",
    "    show_subgroup_costs=True,\n",
    "    show_then_costs=True,\n",
    "    correctness_metric=True,\n",
    "    metric_name = 'Equal Effectiveness'\n",
    ")"
   ]
  },
  {
   "attachments": {},
   "cell_type": "markdown",
   "id": "7211301d-5c70-4bb7-80c2-38a79377d591",
   "metadata": {},
   "source": [
    "## Fair Effectiveness-Cost Trade-Off"
   ]
  },
  {
   "cell_type": "code",
   "execution_count": null,
   "id": "ac354cf3-ca10-4d6a-bcd1-85c3e212778f",
   "metadata": {},
   "outputs": [],
   "source": [
    "# taken from the other notebooks\n",
    "affected_pop_sizes = {\" Male\": 6732, \" Female\": 4106}\n",
    "\n",
    "top_rules,unfairness = facts.select_rules_subset_KStest(\n",
    "    rules_with_cumulative_correctness,\n",
    "    affected_pop_sizes,\n",
    "    top_count=top_count\n",
    ")\n",
    "\n",
    "print_recourse_report_KStest_cumulative(\n",
    "    top_rules,\n",
    "    population_sizes=affected_pop_sizes,\n",
    "    unfairness = unfairness,\n",
    "    show_then_costs=True,\n",
    "    metric_name = 'Fair Effectiveness-Cost Trade-Off'\n",
    "    # show_cumulative_plots=True\n",
    ")"
   ]
  },
  {
   "attachments": {},
   "cell_type": "markdown",
   "id": "72278d88-a53c-444f-b516-1065ea532679",
   "metadata": {},
   "source": [
    "## Equal Effectiveness within Budget (Micro)"
   ]
  },
  {
   "cell_type": "code",
   "execution_count": null,
   "id": "0adbc81d-9316-404a-9162-32cd2ecefac6",
   "metadata": {},
   "outputs": [],
   "source": [
    "top_rules, subgroup_costs = facts.select_rules_subset_cumulative(\n",
    "    rules_with_cumulative_correctness,\n",
    "    metric=\"max-upto-cost\",\n",
    "    sort_strategy=\"generic-sorting-ignore-exists-subgroup-empty\",\n",
    "    top_count=top_count,\n",
    "    cost_threshold = cost_budget,\n",
    "    filter_sequence = [\n",
    "        \"remove-contained\",\n",
    "        \"remove-fair-rules\",\n",
    "        \"remove-above-thr-cost\"\n",
    "    ],\n",
    "    params=params\n",
    ")\n",
    "\n",
    "print_recourse_report_cumulative(\n",
    "    top_rules,\n",
    "    subgroup_costs=subgroup_costs,\n",
    "    show_subgroup_costs=True,\n",
    "    show_then_costs=True,\n",
    "    correctness_metric = True,\n",
    "    metric_name = 'Equal Effectiveness within Budget (Micro)'\n",
    ")"
   ]
  },
  {
   "attachments": {},
   "cell_type": "markdown",
   "id": "2c94dccd-1c73-437b-b1f2-011e97f44987",
   "metadata": {},
   "source": [
    "## Get ranking of subgroups based on metrics"
   ]
  },
  {
   "cell_type": "code",
   "execution_count": null,
   "id": "34782aa7-a36c-46b9-9806-353c4b883b35",
   "metadata": {},
   "outputs": [],
   "source": [
    "from facts.fairness_metrics_aggr import make_table, auto_budget_calculation"
   ]
  },
  {
   "cell_type": "code",
   "execution_count": null,
   "id": "e87a6af0-d57f-4976-8d2e-08e048982d64",
   "metadata": {},
   "outputs": [],
   "source": [
    "rules_with_both = {}\n",
    "for ifc, all_thens in rules_with_cumulative_correctness.items():\n",
    "    new_all_thens = {}\n",
    "    for sg, (cov, thens_cum) in all_thens.items():\n",
    "        thens_atom = rules_with_atomic_correctness[ifc][sg][1]\n",
    "        thens_atom_dict = {then: atom_cor for then, atom_cor in thens_atom}\n",
    "        new_all_thens[sg] = (cov, [(then, thens_atom_dict[then], cumcor) for then, cumcor, _cost in thens_cum])\n",
    "    rules_with_both[ifc] = new_all_thens"
   ]
  },
  {
   "cell_type": "code",
   "execution_count": null,
   "id": "fa972b30-b619-42b0-a1b1-00b13beb2a94",
   "metadata": {},
   "outputs": [],
   "source": [
    "budgets = auto_budget_calculation(rules_with_cumulative_correctness, cor_thres=0.5, percentiles=[0.3, 0.6, 0.9])\n",
    "\n",
    "df = make_table(\n",
    "    rules_with_both,\n",
    "    sensitive_attribute_vals=[\" Male\", \" Female\"],\n",
    "    effectiveness_thresholds=[0.3, 0.7],\n",
    "    cost_budgets=budgets,\n",
    "    params=params\n",
    ")\n",
    "# dropping 'weighted-average' and 'mean-cost-cinf'\n",
    "df.drop(['weighted-average', 'mean-cost-cinf'], axis=1, inplace=True)"
   ]
  },
  {
   "cell_type": "code",
   "execution_count": null,
   "id": "f2c07bd5",
   "metadata": {},
   "outputs": [],
   "source": [
    "df[('Fair Effectiveness-Cost Trade-Off', 'bias')] = df[('Fair Effectiveness-Cost Trade-Off', 'bias')].str.replace(\" \", \"\")"
   ]
  },
  {
   "cell_type": "code",
   "execution_count": null,
   "id": "4b762128",
   "metadata": {},
   "outputs": [],
   "source": [
    "#table of differences between Male and Female for each metric\n",
    "\n",
    "diff = get_diff_table(df, sensitive_attribute_vals=[\" Male\", \" Female\"], with_abs = True)\n",
    "diff = diff.set_index('subgroup')\n",
    "ranked = diff.drop(columns=[('Fair Effectiveness-Cost Trade-Off','bias')]).mask(diff == 0).rank(ascending = False,axis=0,method='dense')\n",
    "ranked = ranked.replace(np.nan,\"Fair\")"
   ]
  },
  {
   "cell_type": "code",
   "execution_count": null,
   "id": "8eb88d41",
   "metadata": {},
   "outputs": [],
   "source": [
    "rev_bias_metrics = ['Equal Effectiveness', 'Equal Effectiveness within Budget']\n",
    "comb_df = get_comb_df(df, ranked, diff, rev_bias_metrics, sensitive_attribute_vals=[\" Male\", \" Female\"])\n",
    "diff_real_val, _, = get_diff_real_diff_drop(df, diff, sensitive_attribute_vals=[\" Male\", \" Female\"])\n",
    "analysis_df,rank_analysis_df = get_analysis_dfs(comb_df,diff_real_val, rev_bias_metrics, ranked, sensitive_attribute_vals=[\"Male\", \"Female\"], percentage=0.1)"
   ]
  },
  {
   "cell_type": "code",
   "execution_count": null,
   "id": "5004d241",
   "metadata": {},
   "outputs": [],
   "source": [
    "comb_df.head()"
   ]
  },
  {
   "cell_type": "code",
   "execution_count": null,
   "id": "55cae6a0",
   "metadata": {},
   "outputs": [],
   "source": [
    "analysis_df"
   ]
  },
  {
   "cell_type": "code",
   "execution_count": null,
   "id": "406340ea",
   "metadata": {},
   "outputs": [],
   "source": [
    "rank_analysis_df"
   ]
  },
  {
   "cell_type": "code",
   "execution_count": null,
   "id": "b3906937",
   "metadata": {},
   "outputs": [],
   "source": [
    "# ranked_indexed = top_rank.set_index([top_rank.index, \"subgroup\"])\n",
    "# ranked_fair = ranked_indexed == 'Fair'\n",
    "# ranked_more_than_2000 = ranked_indexed.mask(ranked_indexed=='Fair') >= 1000\n",
    "# new_rank = ranked_indexed[ranked_fair.apply(lambda row: row.sum() >=4 , axis=1) | ranked_more_than_2000.apply(lambda row : row.sum() >= 6,axis=1)]\n",
    "# new_rank.head()"
   ]
  },
  {
   "cell_type": "code",
   "execution_count": null,
   "id": "6e4854c9",
   "metadata": {},
   "outputs": [],
   "source": [
    "# sgs = [\n",
    "#     ranked.iloc[9841].subgroup,\n",
    "# ]\n",
    "\n",
    "# rules_sgs_atomic = {ifc: rules_with_atomic_correctness[ifc] for ifc in sgs}\n",
    "# rules_sgs_cumulative = {ifc: rules_with_cumulative_correctness[ifc] for ifc in sgs}"
   ]
  },
  {
   "cell_type": "code",
   "execution_count": null,
   "id": "098e4d42",
   "metadata": {},
   "outputs": [],
   "source": [
    "# df.iloc[4228].to_frame().T"
   ]
  },
  {
   "cell_type": "code",
   "execution_count": null,
   "id": "9e59669a",
   "metadata": {},
   "outputs": [],
   "source": [
    "# top_rules, subgroup_costs = facts.select_rules_subset(\n",
    "#     rules_sgs_atomic,\n",
    "#     metric=\"min-above-thr\",\n",
    "#     sort_strategy=\"generic-sorting-ignore-exists-subgroup-empty\",\n",
    "#     cor_threshold=0.7,\n",
    "#     filter_sequence = [\n",
    "#         # \"remove-contained\",\n",
    "#         \"remove-below-thr\",        \n",
    "#         #\"remove-fair-rules\", \n",
    "#         \"keep-only-min-change\"\n",
    "#     ],\n",
    "#     params=params\n",
    "# )\n",
    "\n",
    "# print_recourse_report(\n",
    "#     top_rules,\n",
    "#     subgroup_costs=subgroup_costs,\n",
    "#     show_subgroup_costs=True\n",
    "# )"
   ]
  },
  {
   "cell_type": "code",
   "execution_count": null,
   "id": "e05ce79a",
   "metadata": {},
   "outputs": [],
   "source": [
    "# top_rules, subgroup_costs = facts.select_rules_subset_cumulative(\n",
    "#     rules_sgs_cumulative,\n",
    "#     metric=\"max-upto-cost\",\n",
    "#     sort_strategy=\"generic-sorting-ignore-exists-subgroup-empty\",\n",
    "#     top_count=top_count,\n",
    "#     cost_threshold = 10,\n",
    "#     filter_sequence = [\n",
    "#         # \"remove-contained\",\n",
    "#         # \"remove-fair-rules\",\n",
    "#         \"keep-cheap-rules-above-thr-cor\",\n",
    "#         # \"keep-only-min-change\",\n",
    "        \n",
    "#     ],\n",
    "#     params=params\n",
    "# )\n",
    "\n",
    "# print_recourse_report_cumulative(\n",
    "#     top_rules,\n",
    "#     subgroup_costs=subgroup_costs,\n",
    "#     show_subgroup_costs=True,\n",
    "#     show_then_costs=True,\n",
    "#     correctness_metric=True\n",
    "# )"
   ]
  },
  {
   "cell_type": "code",
   "execution_count": null,
   "id": "1aa7eeab-1af6-4a09-bea5-48c16ce51b7b",
   "metadata": {},
   "outputs": [],
   "source": [
    "max_ranks = get_map_metric_to_max_rank(ranked)\n",
    "rank_divided = get_other_ranks_divided(rank_analysis_df, max_ranks)\n",
    "print(rank_divided.to_latex())"
   ]
  },
  {
   "cell_type": "code",
   "execution_count": null,
   "id": "5dc88cf6",
   "metadata": {},
   "outputs": [],
   "source": [
    "max_ranks"
   ]
  },
  {
   "cell_type": "code",
   "execution_count": null,
   "id": "f56210d4",
   "metadata": {},
   "outputs": [],
   "source": [
    "rank_divided"
   ]
  }
 ],
 "metadata": {
  "kernelspec": {
   "display_name": "Python 3 (ipykernel)",
   "language": "python",
   "name": "python3"
  },
  "language_info": {
   "codemirror_mode": {
    "name": "ipython",
    "version": 3
   },
   "file_extension": ".py",
   "mimetype": "text/x-python",
   "name": "python",
   "nbconvert_exporter": "python",
   "pygments_lexer": "ipython3",
   "version": "3.10.12"
  }
 },
 "nbformat": 4,
 "nbformat_minor": 5
}
