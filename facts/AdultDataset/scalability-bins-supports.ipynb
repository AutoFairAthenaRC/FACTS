{
 "cells": [
  {
   "cell_type": "code",
   "execution_count": 1,
   "id": "e56bb92b-af45-46af-a72d-76bf4d08f7ce",
   "metadata": {},
   "outputs": [],
   "source": [
    "import pandas as pd\n",
    "import numpy as np\n",
    "import time\n",
    "\n",
    "import os\n",
    "import sys\n",
    "module_path = os.path.abspath(os.path.join('..'))\n",
    "if module_path not in sys.path:\n",
    "    sys.path.append(module_path)\n",
    "import warnings\n",
    "warnings.filterwarnings('ignore')\n",
    "\n",
    "import facts\n",
    "from facts.models import customLogisticRegression\n",
    "from facts.clean import clean_dataset\n",
    "from facts import valid_ifthens_with_coverage_correctness, rules2rulesbyif\n",
    "from facts.models import customLogisticRegression\n",
    "from facts.parameters import ParameterProxy\n",
    "from facts.formatting import recourse_report_reverse, print_recourse_report, print_recourse_report_cumulative, print_recourse_report_KStest_cumulative\n",
    "from facts.utils import load_rules_by_if, save_rules_by_if\n",
    "\n",
    "from sklearn.model_selection import train_test_split\n",
    "from sklearn.metrics import classification_report, confusion_matrix, ConfusionMatrixDisplay\n",
    "import matplotlib.pyplot as plt"
   ]
  },
  {
   "attachments": {},
   "cell_type": "markdown",
   "id": "3e312627-cede-40c2-8240-78f2fcb40567",
   "metadata": {},
   "source": [
    "# Dataset"
   ]
  },
  {
   "cell_type": "code",
   "execution_count": 2,
   "id": "adf56137-6ceb-4a0c-ad79-6e02917e88d4",
   "metadata": {},
   "outputs": [],
   "source": [
    "def preprocess_adult(df):\n",
    "    df = df.drop(columns=[\"fnlwgt\", \"education\"])\n",
    "    cols = list(df.columns)\n",
    "    df[cols] = df[cols].replace([\" ?\"], np.nan)\n",
    "    df = df.dropna()\n",
    "    df[\"relationship\"] = df[\"relationship\"].replace([\" Husband\", \" Wife\"], \" Married\")\n",
    "    df[\"income\"] = np.where((df[\"income\"] == \" <=50K\"), 0, 1)\n",
    "    \n",
    "    return df"
   ]
  },
  {
   "cell_type": "code",
   "execution_count": 59,
   "id": "c93b84d6-5779-4e28-bef7-0c49597cbee6",
   "metadata": {},
   "outputs": [],
   "source": [
    "nbins = 10\n",
    "sup_thres = 0.01"
   ]
  },
  {
   "cell_type": "code",
   "execution_count": 60,
   "id": "bb801a07-4898-46c0-958a-201327533669",
   "metadata": {
    "tags": []
   },
   "outputs": [
    {
     "data": {
      "text/html": [
       "<div>\n",
       "<style scoped>\n",
       "    .dataframe tbody tr th:only-of-type {\n",
       "        vertical-align: middle;\n",
       "    }\n",
       "\n",
       "    .dataframe tbody tr th {\n",
       "        vertical-align: top;\n",
       "    }\n",
       "\n",
       "    .dataframe thead th {\n",
       "        text-align: right;\n",
       "    }\n",
       "</style>\n",
       "<table border=\"1\" class=\"dataframe\">\n",
       "  <thead>\n",
       "    <tr style=\"text-align: right;\">\n",
       "      <th></th>\n",
       "      <th>age</th>\n",
       "      <th>Workclass</th>\n",
       "      <th>education-num</th>\n",
       "      <th>marital-status</th>\n",
       "      <th>occupation</th>\n",
       "      <th>relationship</th>\n",
       "      <th>race</th>\n",
       "      <th>sex</th>\n",
       "      <th>capital-gain</th>\n",
       "      <th>capital-loss</th>\n",
       "      <th>hours-per-week</th>\n",
       "      <th>native-country</th>\n",
       "      <th>income</th>\n",
       "    </tr>\n",
       "  </thead>\n",
       "  <tbody>\n",
       "    <tr>\n",
       "      <th>0</th>\n",
       "      <td>39</td>\n",
       "      <td>State-gov</td>\n",
       "      <td>13</td>\n",
       "      <td>Never-married</td>\n",
       "      <td>Adm-clerical</td>\n",
       "      <td>Not-in-family</td>\n",
       "      <td>White</td>\n",
       "      <td>Male</td>\n",
       "      <td>2174</td>\n",
       "      <td>0</td>\n",
       "      <td>40</td>\n",
       "      <td>United-States</td>\n",
       "      <td>0</td>\n",
       "    </tr>\n",
       "    <tr>\n",
       "      <th>1</th>\n",
       "      <td>50</td>\n",
       "      <td>Self-emp-not-inc</td>\n",
       "      <td>13</td>\n",
       "      <td>Married-civ-spouse</td>\n",
       "      <td>Exec-managerial</td>\n",
       "      <td>Married</td>\n",
       "      <td>White</td>\n",
       "      <td>Male</td>\n",
       "      <td>0</td>\n",
       "      <td>0</td>\n",
       "      <td>13</td>\n",
       "      <td>United-States</td>\n",
       "      <td>0</td>\n",
       "    </tr>\n",
       "    <tr>\n",
       "      <th>2</th>\n",
       "      <td>38</td>\n",
       "      <td>Private</td>\n",
       "      <td>9</td>\n",
       "      <td>Divorced</td>\n",
       "      <td>Handlers-cleaners</td>\n",
       "      <td>Not-in-family</td>\n",
       "      <td>White</td>\n",
       "      <td>Male</td>\n",
       "      <td>0</td>\n",
       "      <td>0</td>\n",
       "      <td>40</td>\n",
       "      <td>United-States</td>\n",
       "      <td>0</td>\n",
       "    </tr>\n",
       "    <tr>\n",
       "      <th>3</th>\n",
       "      <td>53</td>\n",
       "      <td>Private</td>\n",
       "      <td>7</td>\n",
       "      <td>Married-civ-spouse</td>\n",
       "      <td>Handlers-cleaners</td>\n",
       "      <td>Married</td>\n",
       "      <td>Black</td>\n",
       "      <td>Male</td>\n",
       "      <td>0</td>\n",
       "      <td>0</td>\n",
       "      <td>40</td>\n",
       "      <td>United-States</td>\n",
       "      <td>0</td>\n",
       "    </tr>\n",
       "    <tr>\n",
       "      <th>4</th>\n",
       "      <td>28</td>\n",
       "      <td>Private</td>\n",
       "      <td>13</td>\n",
       "      <td>Married-civ-spouse</td>\n",
       "      <td>Prof-specialty</td>\n",
       "      <td>Married</td>\n",
       "      <td>Black</td>\n",
       "      <td>Female</td>\n",
       "      <td>0</td>\n",
       "      <td>0</td>\n",
       "      <td>40</td>\n",
       "      <td>Cuba</td>\n",
       "      <td>0</td>\n",
       "    </tr>\n",
       "  </tbody>\n",
       "</table>\n",
       "</div>"
      ],
      "text/plain": [
       "   age          Workclass  education-num       marital-status  \\\n",
       "0   39          State-gov             13        Never-married   \n",
       "1   50   Self-emp-not-inc             13   Married-civ-spouse   \n",
       "2   38            Private              9             Divorced   \n",
       "3   53            Private              7   Married-civ-spouse   \n",
       "4   28            Private             13   Married-civ-spouse   \n",
       "\n",
       "           occupation    relationship    race      sex  capital-gain  \\\n",
       "0        Adm-clerical   Not-in-family   White     Male          2174   \n",
       "1     Exec-managerial         Married   White     Male             0   \n",
       "2   Handlers-cleaners   Not-in-family   White     Male             0   \n",
       "3   Handlers-cleaners         Married   Black     Male             0   \n",
       "4      Prof-specialty         Married   Black   Female             0   \n",
       "\n",
       "   capital-loss  hours-per-week  native-country  income  \n",
       "0             0              40   United-States       0  \n",
       "1             0              13   United-States       0  \n",
       "2             0              40   United-States       0  \n",
       "3             0              40   United-States       0  \n",
       "4             0              40            Cuba       0  "
      ]
     },
     "execution_count": 60,
     "metadata": {},
     "output_type": "execute_result"
    }
   ],
   "source": [
    "urlfile= \"https://raw.githubusercontent.com/columbia/fairtest/master/data/adult/adult.csv\"\n",
    "\n",
    "df = pd.read_csv(urlfile)\n",
    "df = preprocess_adult(df)\n",
    "\n",
    "df.head()"
   ]
  },
  {
   "cell_type": "code",
   "execution_count": 61,
   "id": "a716d0f8-07d7-42a0-8bc5-47f6d86dd319",
   "metadata": {},
   "outputs": [],
   "source": [
    "# df[\"hours-per-week\"] = pd.cut(\n",
    "#     df[\"hours-per-week\"],\n",
    "#     bins=[0.9, 25, 39, 40, 55, 100],\n",
    "#     labels=[\"PartTime\", \"MidTime\", \"FullTime\", \"OverTime\", \"BrainDrain\"],\n",
    "# )\n",
    "df[\"hours-per-week\"] = pd.cut(df[\"hours-per-week\"], bins=nbins)\n",
    "df[\"age\"] = pd.qcut(df[\"age\"], q=nbins)\n",
    "df[\"capital-loss\"] = pd.cut(df[\"capital-loss\"], bins=nbins)\n",
    "df[\"capital-gain\"] = pd.cut(df[\"capital-gain\"], bins=nbins)"
   ]
  },
  {
   "cell_type": "code",
   "execution_count": 62,
   "id": "fbab1bc7-4e1a-49bd-817b-db91d536828b",
   "metadata": {},
   "outputs": [
    {
     "data": {
      "text/plain": [
       "capital-loss\n",
       "(-4.356, 435.6]     43094\n",
       "(1742.4, 2178.0]     1125\n",
       "(1306.8, 1742.4]      639\n",
       "(2178.0, 2613.6]      284\n",
       "(871.2, 1306.8]        28\n",
       "(435.6, 871.2]         23\n",
       "(2613.6, 3049.2]       18\n",
       "(3484.8, 3920.4]        8\n",
       "(3049.2, 3484.8]        2\n",
       "(3920.4, 4356.0]        1\n",
       "Name: count, dtype: int64"
      ]
     },
     "execution_count": 62,
     "metadata": {},
     "output_type": "execute_result"
    }
   ],
   "source": [
    "df[\"capital-loss\"].value_counts()"
   ]
  },
  {
   "cell_type": "code",
   "execution_count": 63,
   "id": "3a8495f9-96bf-4969-a7ff-c8c5af98f99a",
   "metadata": {
    "tags": []
   },
   "outputs": [],
   "source": [
    "y = df['income']\n",
    "X = df.drop('income', axis=1)\n",
    "\n",
    "num_features = X._get_numeric_data().columns.to_list()\n",
    "cate_features = X.select_dtypes(include=['object','category']).columns.to_list()"
   ]
  },
  {
   "cell_type": "code",
   "execution_count": 65,
   "id": "4ec0c518-905b-4c8c-8c05-c4c8123eb503",
   "metadata": {},
   "outputs": [],
   "source": [
    "X_train, X_test, y_train, y_test = train_test_split(X, y, train_size=0.7, random_state=None, stratify=y)\n",
    "\n",
    "X_train = X_train.reset_index(drop=True)\n",
    "X_test = X_test.reset_index(drop=True)\n",
    "y_train = y_train.reset_index(drop=True)\n",
    "y_test = y_test.reset_index(drop=True)"
   ]
  },
  {
   "cell_type": "code",
   "execution_count": 66,
   "id": "8c0b3197-bffd-4022-b714-14956a831cb4",
   "metadata": {},
   "outputs": [
    {
     "name": "stdout",
     "output_type": "stream",
     "text": [
      "CPU times: total: 3.38 s\n",
      "Wall time: 3.72 s\n"
     ]
    },
    {
     "data": {
      "text/plain": [
       "array([0., 0., 0., 0., 0., 0., 1., 0., 0., 0., 0., 0., 0., 1., 0., 1., 0.,\n",
       "       0., 1., 0., 0., 0., 0., 0., 1., 0., 0., 0., 0., 0., 0., 0., 0., 0.,\n",
       "       0., 0., 0., 1., 0., 0., 0., 1., 0., 0., 0., 0., 0., 0., 0., 0., 0.,\n",
       "       0., 1., 1., 1., 0., 0., 0., 0., 0., 0., 0., 0., 0., 1., 0., 0., 1.,\n",
       "       0., 0., 0., 0., 1., 0., 0., 1., 1., 0., 0., 0., 0., 0., 0., 1., 1.,\n",
       "       0., 0., 0., 0., 0., 0., 0., 0., 0., 0., 1., 0., 0., 0., 0.])"
      ]
     },
     "execution_count": 66,
     "metadata": {},
     "output_type": "execute_result"
    }
   ],
   "source": [
    "%%time\n",
    "\n",
    "model = customLogisticRegression(max_iter = 1500)\n",
    "model.fit(X_train, y_train, cate_columns=cate_features, target_column='income')\n",
    "model.predict(X_test.iloc[:100, :])"
   ]
  },
  {
   "cell_type": "code",
   "execution_count": 67,
   "id": "6b15a076-0190-47b3-8bca-d5900f91abb4",
   "metadata": {},
   "outputs": [
    {
     "name": "stdout",
     "output_type": "stream",
     "text": [
      "              precision    recall  f1-score   support\n",
      "\n",
      "           0       0.88      0.93      0.90     10205\n",
      "           1       0.73      0.61      0.67      3362\n",
      "\n",
      "    accuracy                           0.85     13567\n",
      "   macro avg       0.81      0.77      0.78     13567\n",
      "weighted avg       0.84      0.85      0.84     13567\n",
      "\n"
     ]
    }
   ],
   "source": [
    "positive_label = 1\n",
    "negative_label = 0\n",
    "preds_Xtest = model.predict(X_test)\n",
    "print(classification_report(y_test.map({negative_label: 0, positive_label: 1}), preds_Xtest))"
   ]
  },
  {
   "cell_type": "code",
   "execution_count": 68,
   "id": "85d4ad6d-7e78-4f7e-90dd-fad957109b73",
   "metadata": {},
   "outputs": [
    {
     "data": {
      "image/png": "[encoded data removed]",
      "text/plain": [
       "<Figure size 640x480 with 2 Axes>"
      ]
     },
     "metadata": {},
     "output_type": "display_data"
    }
   ],
   "source": [
    "conf_matrix = confusion_matrix(y_test, preds_Xtest)\n",
    "cm_disp = ConfusionMatrixDisplay(confusion_matrix=conf_matrix)\n",
    "cm_disp.plot()\n",
    "plt.show()"
   ]
  },
  {
   "attachments": {},
   "cell_type": "markdown",
   "id": "e412822c-ddf6-4391-96dc-90d173f95496",
   "metadata": {},
   "source": [
    "# Rules"
   ]
  },
  {
   "cell_type": "code",
   "execution_count": 69,
   "id": "d336b9b7-1518-4626-8d10-ea3f13725c1e",
   "metadata": {},
   "outputs": [
    {
     "name": "stdout",
     "output_type": "stream",
     "text": [
      "Computing frequent itemsets for each subgroup of the affected instances.\n"
     ]
    },
    {
     "name": "stderr",
     "output_type": "stream",
     "text": [
      "100%|████████████████████████████████████████████████████████████████████████████████████| 2/2 [00:01<00:00,  1.06it/s]"
     ]
    },
    {
     "name": "stdout",
     "output_type": "stream",
     "text": [
      "Number of frequent itemsets for affected: {' Female': 25803, ' Male': 25834}\n",
      "Computing the intersection between the frequent itemsets of each subgroup of the affected instances.\n"
     ]
    },
    {
     "name": "stderr",
     "output_type": "stream",
     "text": [
      "\n",
      "100%|████████████████████████████████████████████████████████████████████████| 25803/25803 [00:00<00:00, 462656.89it/s]"
     ]
    },
    {
     "name": "stdout",
     "output_type": "stream",
     "text": [
      "Number of groups from the intersection: 12601\n"
     ]
    },
    {
     "name": "stderr",
     "output_type": "stream",
     "text": [
      "\n"
     ]
    },
    {
     "name": "stdout",
     "output_type": "stream",
     "text": [
      "Number of frequent itemsets for the unaffected: 59790\n",
      "Computing all valid if-then pairs between the common frequent itemsets of each subgroup of the affected instances and the frequent itemsets of the unaffacted instances.\n"
     ]
    },
    {
     "name": "stderr",
     "output_type": "stream",
     "text": [
      "100%|██████████████████████████████████████████████████████████████████████████| 12601/12601 [00:02<00:00, 4619.02it/s]\n"
     ]
    },
    {
     "name": "stdout",
     "output_type": "stream",
     "text": [
      "Computing correctenesses for all valid if-thens.\n"
     ]
    },
    {
     "name": "stderr",
     "output_type": "stream",
     "text": [
      "100%|████████████████████████████████████████████████████████████████████████████| 93062/93062 [50:27<00:00, 30.74it/s]\n"
     ]
    },
    {
     "name": "stdout",
     "output_type": "stream",
     "text": [
      "Number of if-thens: 93062\n"
     ]
    }
   ],
   "source": [
    "start_time = time.time()\n",
    "ifthens_coverage_correctness = valid_ifthens_with_coverage_correctness(\n",
    "    X_test,\n",
    "    model=model,\n",
    "    sensitive_attribute='sex',\n",
    "    freqitem_minsupp = sup_thres,\n",
    "    missing_subgroup_val=\"Unknown\",\n",
    "    drop_infeasible = True,\n",
    "    drop_above = True\n",
    ")\n",
    "end_time = time.time()\n",
    "\n",
    "print(f\"Number of if-thens: {len(ifthens_coverage_correctness)}\")\n",
    "rules_by_if = rules2rulesbyif(ifthens_coverage_correctness)"
   ]
  },
  {
   "cell_type": "code",
   "execution_count": 73,
   "id": "044b92ed-30e0-4f5c-bb92-be06a3a5d932",
   "metadata": {},
   "outputs": [
    {
     "data": {
      "text/plain": [
       "11454"
      ]
     },
     "execution_count": 73,
     "metadata": {},
     "output_type": "execute_result"
    }
   ],
   "source": [
    "len(rules_by_if)"
   ]
  },
  {
   "cell_type": "code",
   "execution_count": 70,
   "id": "e3b0667b-99fe-4ade-ac2c-c111284a060f",
   "metadata": {},
   "outputs": [],
   "source": [
    "try:\n",
    "    runtimes\n",
    "except NameError:\n",
    "    runtimes = dict()"
   ]
  },
  {
   "cell_type": "code",
   "execution_count": 71,
   "id": "8fd2c33e-da39-4d62-ae17-6b303c565f8a",
   "metadata": {},
   "outputs": [],
   "source": [
    "runtimes[(nbins, sup_thres)] = end_time - start_time"
   ]
  },
  {
   "cell_type": "code",
   "execution_count": 72,
   "id": "ec737700-e105-472d-abe4-db02a2722322",
   "metadata": {},
   "outputs": [
    {
     "data": {
      "text/plain": [
       "{(10, 0.05): 114.3422486782074,\n",
       " (5, 0.05): 176.8317370414734,\n",
       " (20, 0.05): 97.29508805274963,\n",
       " (10, 0.1): 15.096330404281616,\n",
       " (10, 0.01): 3034.4781379699707}"
      ]
     },
     "execution_count": 72,
     "metadata": {},
     "output_type": "execute_result"
    }
   ],
   "source": [
    "runtimes"
   ]
  },
  {
   "cell_type": "code",
   "execution_count": null,
   "id": "c3e2db4c-2fb6-426f-a9e1-e4fb9317e2b5",
   "metadata": {},
   "outputs": [],
   "source": []
  }
 ],
 "metadata": {
  "kernelspec": {
   "display_name": "Python 3 (ipykernel)",
   "language": "python",
   "name": "python3"
  },
  "language_info": {
   "codemirror_mode": {
    "name": "ipython",
    "version": 3
   },
   "file_extension": ".py",
   "mimetype": "text/x-python",
   "name": "python",
   "nbconvert_exporter": "python",
   "pygments_lexer": "ipython3",
   "version": "3.11.4"
  }
 },
 "nbformat": 4,
 "nbformat_minor": 5
}
