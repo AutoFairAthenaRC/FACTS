{
 "cells": [
  {
   "cell_type": "code",
   "execution_count": 1,
   "id": "123c800e-890e-4955-a91e-27158c474754",
   "metadata": {},
   "outputs": [],
   "source": [
    "import pandas as pd\n",
    "import numpy as np\n",
    "\n",
    "import os\n",
    "import sys\n",
    "module_path = os.path.abspath(os.path.join('..'))\n",
    "if module_path not in sys.path:\n",
    "    sys.path.append(module_path)\n",
    "import warnings\n",
    "warnings.filterwarnings('ignore')\n",
    "import facts\n",
    "from facts.models import customXGB\n",
    "from facts.clean import clean_dataset\n",
    "from facts import valid_ifthens_with_coverage_correctness, rules2rulesbyif\n",
    "from facts.models import customLogisticRegression\n",
    "from facts.parameters import ParameterProxy\n",
    "from facts.formatting import recourse_report_reverse, print_recourse_report, print_recourse_report_cumulative, print_recourse_report_KStest_cumulative\n",
    "from facts.utils import load_rules_by_if, save_rules_by_if\n",
    "from sklearn.model_selection import train_test_split\n",
    "from sklearn.metrics import classification_report, confusion_matrix, ConfusionMatrixDisplay\n",
    "import matplotlib.pyplot as plt"
   ]
  },
  {
   "attachments": {},
   "cell_type": "markdown",
   "id": "b361ef0e-37c9-43a5-a9ce-5d431a15c9a8",
   "metadata": {},
   "source": [
    "# Dataset"
   ]
  },
  {
   "cell_type": "code",
   "execution_count": 2,
   "id": "8544d2e7-d811-4a5e-a6bc-6ebb1c1cacf9",
   "metadata": {
    "tags": []
   },
   "outputs": [
    {
     "data": {
      "text/html": [
       "<div>\n",
       "<style scoped>\n",
       "    .dataframe tbody tr th:only-of-type {\n",
       "        vertical-align: middle;\n",
       "    }\n",
       "\n",
       "    .dataframe tbody tr th {\n",
       "        vertical-align: top;\n",
       "    }\n",
       "\n",
       "    .dataframe thead th {\n",
       "        text-align: right;\n",
       "    }\n",
       "</style>\n",
       "<table border=\"1\" class=\"dataframe\">\n",
       "  <thead>\n",
       "    <tr style=\"text-align: right;\">\n",
       "      <th></th>\n",
       "      <th>age</th>\n",
       "      <th>Workclass</th>\n",
       "      <th>education-num</th>\n",
       "      <th>marital-status</th>\n",
       "      <th>occupation</th>\n",
       "      <th>relationship</th>\n",
       "      <th>race</th>\n",
       "      <th>sex</th>\n",
       "      <th>capital-gain</th>\n",
       "      <th>capital-loss</th>\n",
       "      <th>hours-per-week</th>\n",
       "      <th>native-country</th>\n",
       "      <th>income</th>\n",
       "    </tr>\n",
       "  </thead>\n",
       "  <tbody>\n",
       "    <tr>\n",
       "      <th>0</th>\n",
       "      <td>(34.0, 41.0]</td>\n",
       "      <td>State-gov</td>\n",
       "      <td>13</td>\n",
       "      <td>Never-married</td>\n",
       "      <td>Adm-clerical</td>\n",
       "      <td>Not-in-family</td>\n",
       "      <td>White</td>\n",
       "      <td>Male</td>\n",
       "      <td>2174</td>\n",
       "      <td>0</td>\n",
       "      <td>FullTime</td>\n",
       "      <td>United-States</td>\n",
       "      <td>0</td>\n",
       "    </tr>\n",
       "    <tr>\n",
       "      <th>1</th>\n",
       "      <td>(41.0, 50.0]</td>\n",
       "      <td>Self-emp-not-inc</td>\n",
       "      <td>13</td>\n",
       "      <td>Married-civ-spouse</td>\n",
       "      <td>Exec-managerial</td>\n",
       "      <td>Married</td>\n",
       "      <td>White</td>\n",
       "      <td>Male</td>\n",
       "      <td>0</td>\n",
       "      <td>0</td>\n",
       "      <td>PartTime</td>\n",
       "      <td>United-States</td>\n",
       "      <td>0</td>\n",
       "    </tr>\n",
       "    <tr>\n",
       "      <th>2</th>\n",
       "      <td>(34.0, 41.0]</td>\n",
       "      <td>Private</td>\n",
       "      <td>9</td>\n",
       "      <td>Divorced</td>\n",
       "      <td>Handlers-cleaners</td>\n",
       "      <td>Not-in-family</td>\n",
       "      <td>White</td>\n",
       "      <td>Male</td>\n",
       "      <td>0</td>\n",
       "      <td>0</td>\n",
       "      <td>FullTime</td>\n",
       "      <td>United-States</td>\n",
       "      <td>0</td>\n",
       "    </tr>\n",
       "    <tr>\n",
       "      <th>3</th>\n",
       "      <td>(50.0, 90.0]</td>\n",
       "      <td>Private</td>\n",
       "      <td>7</td>\n",
       "      <td>Married-civ-spouse</td>\n",
       "      <td>Handlers-cleaners</td>\n",
       "      <td>Married</td>\n",
       "      <td>Black</td>\n",
       "      <td>Male</td>\n",
       "      <td>0</td>\n",
       "      <td>0</td>\n",
       "      <td>FullTime</td>\n",
       "      <td>United-States</td>\n",
       "      <td>0</td>\n",
       "    </tr>\n",
       "    <tr>\n",
       "      <th>4</th>\n",
       "      <td>(26.0, 34.0]</td>\n",
       "      <td>Private</td>\n",
       "      <td>13</td>\n",
       "      <td>Married-civ-spouse</td>\n",
       "      <td>Prof-specialty</td>\n",
       "      <td>Married</td>\n",
       "      <td>Black</td>\n",
       "      <td>Female</td>\n",
       "      <td>0</td>\n",
       "      <td>0</td>\n",
       "      <td>FullTime</td>\n",
       "      <td>Cuba</td>\n",
       "      <td>0</td>\n",
       "    </tr>\n",
       "  </tbody>\n",
       "</table>\n",
       "</div>"
      ],
      "text/plain": [
       "            age          Workclass  education-num       marital-status  \\\n",
       "0  (34.0, 41.0]          State-gov             13        Never-married   \n",
       "1  (41.0, 50.0]   Self-emp-not-inc             13   Married-civ-spouse   \n",
       "2  (34.0, 41.0]            Private              9             Divorced   \n",
       "3  (50.0, 90.0]            Private              7   Married-civ-spouse   \n",
       "4  (26.0, 34.0]            Private             13   Married-civ-spouse   \n",
       "\n",
       "           occupation    relationship    race      sex  capital-gain  \\\n",
       "0        Adm-clerical   Not-in-family   White     Male          2174   \n",
       "1     Exec-managerial         Married   White     Male             0   \n",
       "2   Handlers-cleaners   Not-in-family   White     Male             0   \n",
       "3   Handlers-cleaners         Married   Black     Male             0   \n",
       "4      Prof-specialty         Married   Black   Female             0   \n",
       "\n",
       "   capital-loss hours-per-week  native-country  income  \n",
       "0             0       FullTime   United-States       0  \n",
       "1             0       PartTime   United-States       0  \n",
       "2             0       FullTime   United-States       0  \n",
       "3             0       FullTime   United-States       0  \n",
       "4             0       FullTime            Cuba       0  "
      ]
     },
     "execution_count": 2,
     "metadata": {},
     "output_type": "execute_result"
    }
   ],
   "source": [
    "urlfile= \"https://raw.githubusercontent.com/columbia/fairtest/master/data/adult/adult.csv\"\n",
    "\n",
    "X = pd.read_csv(urlfile)\n",
    "df = clean_dataset(X, \"adult\")\n",
    "\n",
    "age = [val.left for val in df.age.unique()]\n",
    "age.sort()\n",
    "\n",
    "df.head()"
   ]
  },
  {
   "cell_type": "code",
   "execution_count": 3,
   "id": "d66f9621-6f9c-4abb-b2d9-4543368f77e3",
   "metadata": {
    "tags": []
   },
   "outputs": [],
   "source": [
    "y = df['income']\n",
    "X = df.drop('income', axis=1)\n",
    "\n",
    "num_features = X._get_numeric_data().columns.to_list()\n",
    "cate_features = X.select_dtypes(include=['object','category']).columns.to_list()\n",
    "ord_features = ['hours-per-week']"
   ]
  },
  {
   "cell_type": "code",
   "execution_count": 4,
   "id": "25cbb740-0320-4e14-8e88-2f896b64cbe6",
   "metadata": {},
   "outputs": [],
   "source": [
    "X_train, X_test, y_train, y_test = train_test_split(X, y, train_size=0.7, random_state=None, stratify=y)\n",
    "\n",
    "X_train = X_train.reset_index(drop=True)\n",
    "X_test = X_test.reset_index(drop=True)\n",
    "y_train = y_train.reset_index(drop=True)\n",
    "y_test = y_test.reset_index(drop=True)"
   ]
  },
  {
   "cell_type": "markdown",
   "id": "b363f42e-dbe3-41e0-86de-b85fc1598968",
   "metadata": {},
   "source": [
    "## Load rules"
   ]
  },
  {
   "cell_type": "code",
   "execution_count": 5,
   "id": "aca52adf-5012-4695-ac4d-4938e15251ae",
   "metadata": {},
   "outputs": [],
   "source": [
    "rules_by_if_xgboost = load_rules_by_if(\"rulesAdultFairTest-xgboost.data\")\n",
    "rules_with_cumulative_xgboost = load_rules_by_if(\"rulesAdultFairTest-xgboost_cumulative.data\")\n",
    "rules_by_if_nn = load_rules_by_if(\"rulesAdultFairTest-NN.data\")\n",
    "rules_with_cumulative_nn = load_rules_by_if(\"rulesAdultFairTest-NN_cumulative.data\")"
   ]
  },
  {
   "cell_type": "markdown",
   "id": "cc3ecc7c-0d89-47a9-bb3e-29ea1af5b93f",
   "metadata": {},
   "source": [
    "## Params"
   ]
  },
  {
   "cell_type": "code",
   "execution_count": 6,
   "id": "df4c6133-0e1b-464e-9f7f-170078343fa8",
   "metadata": {},
   "outputs": [],
   "source": [
    "feature_weights = {\"race\" : 100 , \"sex\": 100, \"marital-status\": 5, \"relationship\":5, \"age\": 10, \"occupation\": 4, \"Workclass\": 2, \"native-country\": 4,\n",
    "                    \"hours-per-week\":2, \"capital-gain\": 1, \"capital-loss\":1, \"education-num\": 3}\n",
    "features_with_binary_cost = cate_features\n",
    "features_with_proportional_cost = num_features\n",
    "\n",
    "\n",
    "comparators = facts.feature_change_builder(\n",
    "    X,\n",
    "    num_cols=features_with_proportional_cost,\n",
    "    cate_cols=features_with_binary_cost,\n",
    "    ord_cols=ord_features,\n",
    "    feature_weights=feature_weights,\n",
    "    num_normalization=True,\n",
    "    feats_to_normalize = [\"capital-gain\",\"capital-loss\"]\n",
    ")\n",
    "params = ParameterProxy(featureChanges=comparators)\n",
    "\n",
    "# facts.update_costs_cumulative(rules_with_cumulative_correctness, params)"
   ]
  },
  {
   "cell_type": "markdown",
   "id": "fa24b69c-83b9-46c0-9ad6-5342e5c7f1d0",
   "metadata": {},
   "source": [
    "## Subgroup from Figure 2 of paper"
   ]
  },
  {
   "cell_type": "code",
   "execution_count": 7,
   "id": "fbb3424d-ad78-4034-a005-bef98dd2b190",
   "metadata": {},
   "outputs": [],
   "source": [
    "sg = facts.Predicate.from_dict({\n",
    "    \"hours-per-week\": \"FullTime\",\n",
    "    \"marital-status\": \" Married-civ-spouse\",\n",
    "    \"occupation\": \" Adm-clerical\"\n",
    "})"
   ]
  },
  {
   "cell_type": "code",
   "execution_count": 8,
   "id": "40cb7357-98d4-4667-bbe4-168e32ee30a6",
   "metadata": {},
   "outputs": [
    {
     "data": {
      "text/plain": [
       "(True, True, True, True)"
      ]
     },
     "execution_count": 8,
     "metadata": {},
     "output_type": "execute_result"
    }
   ],
   "source": [
    "sg in rules_by_if_xgboost, \\\n",
    "sg in rules_with_cumulative_xgboost, \\\n",
    "sg in rules_by_if_nn, \\\n",
    "sg in rules_with_cumulative_nn"
   ]
  },
  {
   "cell_type": "markdown",
   "id": "632172c5-91c9-4639-bc31-490a5dc5f502",
   "metadata": {},
   "source": [
    "Rule with cumulatives"
   ]
  },
  {
   "cell_type": "code",
   "execution_count": 9,
   "id": "8ebe13ca-d843-42b9-90c5-64fad28f6829",
   "metadata": {},
   "outputs": [
    {
     "name": "stdout",
     "output_type": "stream",
     "text": [
      "If \u001b[1mhours-per-week = FullTime, marital-status =  Married-civ-spouse, occupation =  Adm-clerical\u001b[0m:\n",
      "\tProtected Subgroup '\u001b[1m Male\u001b[0m', \u001b[34m1.45%\u001b[39m covered\n",
      "\t\tMake \u001b[1m\u001b[31mhours-per-week = OverTime\u001b[39m\u001b[0m with effectiveness \u001b[32m21.88%\u001b[39m and counterfactual cost = 2.0.\n",
      "\t\tMake \u001b[1m\u001b[31moccupation =  Craft-repair\u001b[39m\u001b[0m with effectiveness \u001b[32m21.88%\u001b[39m and counterfactual cost = 4.0.\n",
      "\t\tMake \u001b[1m\u001b[31moccupation =  Protective-serv\u001b[39m\u001b[0m with effectiveness \u001b[32m27.08%\u001b[39m and counterfactual cost = 4.0.\n",
      "\t\tMake \u001b[1m\u001b[31moccupation =  Sales\u001b[39m\u001b[0m with effectiveness \u001b[32m27.08%\u001b[39m and counterfactual cost = 4.0.\n",
      "\t\tMake \u001b[1m\u001b[31moccupation =  Tech-support\u001b[39m\u001b[0m with effectiveness \u001b[32m36.46%\u001b[39m and counterfactual cost = 4.0.\n",
      "\t\tMake \u001b[1m\u001b[31moccupation =  Prof-specialty\u001b[39m\u001b[0m with effectiveness \u001b[32m38.54%\u001b[39m and counterfactual cost = 4.0.\n",
      "\t\tMake \u001b[1m\u001b[31moccupation =  Exec-managerial\u001b[39m\u001b[0m with effectiveness \u001b[32m39.58%\u001b[39m and counterfactual cost = 4.0.\n",
      "\t\tMake \u001b[1m\u001b[31mhours-per-week = MidTime\u001b[39m, \u001b[31moccupation =  Prof-specialty\u001b[39m\u001b[0m with effectiveness \u001b[32m40.62%\u001b[39m and counterfactual cost = 6.0.\n",
      "\t\tMake \u001b[1m\u001b[31mhours-per-week = OverTime\u001b[39m, \u001b[31moccupation =  Craft-repair\u001b[39m\u001b[0m with effectiveness \u001b[32m40.62%\u001b[39m and counterfactual cost = 6.0.\n",
      "\t\tMake \u001b[1m\u001b[31mhours-per-week = OverTime\u001b[39m, \u001b[31moccupation =  Sales\u001b[39m\u001b[0m with effectiveness \u001b[32m40.62%\u001b[39m and counterfactual cost = 6.0.\n",
      "\t\tMake \u001b[1m\u001b[31mhours-per-week = OverTime\u001b[39m, \u001b[31moccupation =  Prof-specialty\u001b[39m\u001b[0m with effectiveness \u001b[32m40.62%\u001b[39m and counterfactual cost = 6.0.\n",
      "\t\tMake \u001b[1m\u001b[31mhours-per-week = OverTime\u001b[39m, \u001b[31moccupation =  Tech-support\u001b[39m\u001b[0m with effectiveness \u001b[32m40.62%\u001b[39m and counterfactual cost = 6.0.\n",
      "\t\tMake \u001b[1m\u001b[31mhours-per-week = OverTime\u001b[39m, \u001b[31moccupation =  Exec-managerial\u001b[39m\u001b[0m with effectiveness \u001b[32m58.33%\u001b[39m and counterfactual cost = 6.0.\n",
      "\t\tMake \u001b[1m\u001b[31mhours-per-week = BrainDrain\u001b[39m, \u001b[31moccupation =  Prof-specialty\u001b[39m\u001b[0m with effectiveness \u001b[32m58.33%\u001b[39m and counterfactual cost = 8.0.\n",
      "\t\tMake \u001b[1m\u001b[31mhours-per-week = BrainDrain\u001b[39m, \u001b[31moccupation =  Sales\u001b[39m\u001b[0m with effectiveness \u001b[32m58.33%\u001b[39m and counterfactual cost = 8.0.\n",
      "\t\tMake \u001b[1m\u001b[31mhours-per-week = BrainDrain\u001b[39m, \u001b[31moccupation =  Exec-managerial\u001b[39m\u001b[0m with effectiveness \u001b[32m63.54%\u001b[39m and counterfactual cost = 8.0.\n",
      "\t\t\u001b[1mAggregate cost\u001b[0m of the above recourses = \u001b[35minf\u001b[39m\n",
      "\tProtected Subgroup '\u001b[1m Female\u001b[0m', \u001b[34m1.42%\u001b[39m covered\n",
      "\t\tMake \u001b[1m\u001b[31mhours-per-week = OverTime\u001b[39m\u001b[0m with effectiveness \u001b[32m19.30%\u001b[39m and counterfactual cost = 2.0.\n",
      "\t\tMake \u001b[1m\u001b[31moccupation =  Sales\u001b[39m\u001b[0m with effectiveness \u001b[32m19.30%\u001b[39m and counterfactual cost = 4.0.\n",
      "\t\tMake \u001b[1m\u001b[31moccupation =  Craft-repair\u001b[39m\u001b[0m with effectiveness \u001b[32m19.30%\u001b[39m and counterfactual cost = 4.0.\n",
      "\t\tMake \u001b[1m\u001b[31moccupation =  Protective-serv\u001b[39m\u001b[0m with effectiveness \u001b[32m24.56%\u001b[39m and counterfactual cost = 4.0.\n",
      "\t\tMake \u001b[1m\u001b[31moccupation =  Tech-support\u001b[39m\u001b[0m with effectiveness \u001b[32m42.11%\u001b[39m and counterfactual cost = 4.0.\n",
      "\t\tMake \u001b[1m\u001b[31moccupation =  Prof-specialty\u001b[39m\u001b[0m with effectiveness \u001b[32m42.11%\u001b[39m and counterfactual cost = 4.0.\n",
      "\t\tMake \u001b[1m\u001b[31moccupation =  Exec-managerial\u001b[39m\u001b[0m with effectiveness \u001b[32m42.11%\u001b[39m and counterfactual cost = 4.0.\n",
      "\t\tMake \u001b[1m\u001b[31mhours-per-week = OverTime\u001b[39m, \u001b[31moccupation =  Sales\u001b[39m\u001b[0m with effectiveness \u001b[32m42.11%\u001b[39m and counterfactual cost = 6.0.\n",
      "\t\tMake \u001b[1m\u001b[31mhours-per-week = MidTime\u001b[39m, \u001b[31moccupation =  Prof-specialty\u001b[39m\u001b[0m with effectiveness \u001b[32m42.11%\u001b[39m and counterfactual cost = 6.0.\n",
      "\t\tMake \u001b[1m\u001b[31mhours-per-week = OverTime\u001b[39m, \u001b[31moccupation =  Craft-repair\u001b[39m\u001b[0m with effectiveness \u001b[32m42.11%\u001b[39m and counterfactual cost = 6.0.\n",
      "\t\tMake \u001b[1m\u001b[31mhours-per-week = OverTime\u001b[39m, \u001b[31moccupation =  Prof-specialty\u001b[39m\u001b[0m with effectiveness \u001b[32m42.11%\u001b[39m and counterfactual cost = 6.0.\n",
      "\t\tMake \u001b[1m\u001b[31mhours-per-week = OverTime\u001b[39m, \u001b[31moccupation =  Tech-support\u001b[39m\u001b[0m with effectiveness \u001b[32m43.86%\u001b[39m and counterfactual cost = 6.0.\n",
      "\t\tMake \u001b[1m\u001b[31mhours-per-week = OverTime\u001b[39m, \u001b[31moccupation =  Exec-managerial\u001b[39m\u001b[0m with effectiveness \u001b[32m50.88%\u001b[39m and counterfactual cost = 6.0.\n",
      "\t\tMake \u001b[1m\u001b[31mhours-per-week = BrainDrain\u001b[39m, \u001b[31moccupation =  Sales\u001b[39m\u001b[0m with effectiveness \u001b[32m50.88%\u001b[39m and counterfactual cost = 8.0.\n",
      "\t\tMake \u001b[1m\u001b[31mhours-per-week = BrainDrain\u001b[39m, \u001b[31moccupation =  Prof-specialty\u001b[39m\u001b[0m with effectiveness \u001b[32m50.88%\u001b[39m and counterfactual cost = 8.0.\n",
      "\t\tMake \u001b[1m\u001b[31mhours-per-week = BrainDrain\u001b[39m, \u001b[31moccupation =  Exec-managerial\u001b[39m\u001b[0m with effectiveness \u001b[32m57.89%\u001b[39m and counterfactual cost = 8.0.\n",
      "\t\t\u001b[1mAggregate cost\u001b[0m of the above recourses = \u001b[35minf\u001b[39m\n",
      "\t\u001b[35mNo bias!\u001b[39m\n"
     ]
    }
   ],
   "source": [
    "top_rules, subgroup_costs = facts.select_rules_subset_cumulative(\n",
    "    {sg: rules_with_cumulative_xgboost[sg]},\n",
    "    metric=\"min-above-corr\",\n",
    "    sort_strategy=\"generic-sorting-ignore-exists-subgroup-empty\",\n",
    "    top_count=1,\n",
    "    cor_threshold = 0.7,\n",
    "    filter_sequence = [\n",
    "        \"remove-contained\",\n",
    "        # \"remove-fair-rules\",\n",
    "        \"keep-cheap-rules-above-thr-cor\",\n",
    "    ],\n",
    "    params=params\n",
    ")\n",
    "\n",
    "print_recourse_report_cumulative(\n",
    "    top_rules,\n",
    "    subgroup_costs=subgroup_costs,\n",
    "    show_subgroup_costs=True,\n",
    "    show_then_costs=True,\n",
    "    metric_name = 'Equal Cost of Effectiveness (Micro) (threshold = 0.7)'\n",
    ")"
   ]
  },
  {
   "cell_type": "code",
   "execution_count": 10,
   "id": "e8dd83d5-9ff8-4d24-812f-2c2b15b5ae52",
   "metadata": {},
   "outputs": [
    {
     "name": "stdout",
     "output_type": "stream",
     "text": [
      "If \u001b[1mhours-per-week = FullTime, marital-status =  Married-civ-spouse, occupation =  Adm-clerical\u001b[0m:\n",
      "\tProtected Subgroup '\u001b[1m Male\u001b[0m', \u001b[34m1.20%\u001b[39m covered\n",
      "\t\tMake \u001b[1m\u001b[31mhours-per-week = OverTime\u001b[39m\u001b[0m with effectiveness \u001b[32m0.00%\u001b[39m and counterfactual cost = 2.0.\n",
      "\t\tMake \u001b[1m\u001b[31moccupation =  Exec-managerial\u001b[39m\u001b[0m with effectiveness \u001b[32m0.00%\u001b[39m and counterfactual cost = 4.0.\n",
      "\t\tMake \u001b[1m\u001b[31moccupation =  Prof-specialty\u001b[39m\u001b[0m with effectiveness \u001b[32m0.00%\u001b[39m and counterfactual cost = 4.0.\n",
      "\t\tMake \u001b[1m\u001b[31moccupation =  Craft-repair\u001b[39m\u001b[0m with effectiveness \u001b[32m0.00%\u001b[39m and counterfactual cost = 4.0.\n",
      "\t\tMake \u001b[1m\u001b[31moccupation =  Sales\u001b[39m\u001b[0m with effectiveness \u001b[32m0.00%\u001b[39m and counterfactual cost = 4.0.\n",
      "\t\tMake \u001b[1m\u001b[31moccupation =  Machine-op-inspct\u001b[39m\u001b[0m with effectiveness \u001b[32m0.00%\u001b[39m and counterfactual cost = 4.0.\n",
      "\t\tMake \u001b[1m\u001b[31moccupation =  Other-service\u001b[39m\u001b[0m with effectiveness \u001b[32m0.00%\u001b[39m and counterfactual cost = 4.0.\n",
      "\t\tMake \u001b[1m\u001b[31moccupation =  Tech-support\u001b[39m\u001b[0m with effectiveness \u001b[32m0.00%\u001b[39m and counterfactual cost = 4.0.\n",
      "\t\tMake \u001b[1m\u001b[31moccupation =  Protective-serv\u001b[39m\u001b[0m with effectiveness \u001b[32m0.00%\u001b[39m and counterfactual cost = 4.0.\n",
      "\t\tMake \u001b[1m\u001b[31moccupation =  Handlers-cleaners\u001b[39m\u001b[0m with effectiveness \u001b[32m0.00%\u001b[39m and counterfactual cost = 4.0.\n",
      "\t\tMake \u001b[1m\u001b[31moccupation =  Transport-moving\u001b[39m\u001b[0m with effectiveness \u001b[32m1.47%\u001b[39m and counterfactual cost = 4.0.\n",
      "\t\tMake \u001b[1m\u001b[31mhours-per-week = MidTime\u001b[39m, \u001b[31moccupation =  Prof-specialty\u001b[39m\u001b[0m with effectiveness \u001b[32m1.47%\u001b[39m and counterfactual cost = 6.0.\n",
      "\t\tMake \u001b[1m\u001b[31mhours-per-week = OverTime\u001b[39m, \u001b[31moccupation =  Prof-specialty\u001b[39m\u001b[0m with effectiveness \u001b[32m1.47%\u001b[39m and counterfactual cost = 6.0.\n",
      "\t\tMake \u001b[1m\u001b[31mhours-per-week = OverTime\u001b[39m, \u001b[31moccupation =  Sales\u001b[39m\u001b[0m with effectiveness \u001b[32m1.47%\u001b[39m and counterfactual cost = 6.0.\n",
      "\t\tMake \u001b[1m\u001b[31mhours-per-week = OverTime\u001b[39m, \u001b[31moccupation =  Exec-managerial\u001b[39m\u001b[0m with effectiveness \u001b[32m1.47%\u001b[39m and counterfactual cost = 6.0.\n",
      "\t\tMake \u001b[1m\u001b[31mhours-per-week = OverTime\u001b[39m, \u001b[31moccupation =  Craft-repair\u001b[39m\u001b[0m with effectiveness \u001b[32m1.47%\u001b[39m and counterfactual cost = 6.0.\n",
      "\t\tMake \u001b[1m\u001b[31mhours-per-week = BrainDrain\u001b[39m, \u001b[31moccupation =  Exec-managerial\u001b[39m\u001b[0m with effectiveness \u001b[32m1.47%\u001b[39m and counterfactual cost = 8.0.\n",
      "\t\tMake \u001b[1m\u001b[31mhours-per-week = BrainDrain\u001b[39m, \u001b[31moccupation =  Prof-specialty\u001b[39m\u001b[0m with effectiveness \u001b[32m1.47%\u001b[39m and counterfactual cost = 8.0.\n",
      "\t\tMake \u001b[1m\u001b[31mhours-per-week = BrainDrain\u001b[39m, \u001b[31moccupation =  Sales\u001b[39m\u001b[0m with effectiveness \u001b[32m1.47%\u001b[39m and counterfactual cost = 8.0.\n",
      "\t\tMake \u001b[1m\u001b[31mhours-per-week = PartTime\u001b[39m, \u001b[31moccupation =  Prof-specialty\u001b[39m\u001b[0m with effectiveness \u001b[32m1.47%\u001b[39m and counterfactual cost = 8.0.\n",
      "\t\tMake \u001b[1m\u001b[31mhours-per-week = PartTime\u001b[39m, \u001b[31moccupation =  Sales\u001b[39m\u001b[0m with effectiveness \u001b[32m1.47%\u001b[39m and counterfactual cost = 8.0.\n",
      "\t\t\u001b[1mAggregate cost\u001b[0m of the above recourses = \u001b[35minf\u001b[39m\n",
      "\tProtected Subgroup '\u001b[1m Female\u001b[0m', \u001b[34m1.34%\u001b[39m covered\n",
      "\t\tMake \u001b[1m\u001b[31mhours-per-week = OverTime\u001b[39m\u001b[0m with effectiveness \u001b[32m0.00%\u001b[39m and counterfactual cost = 2.0.\n",
      "\t\tMake \u001b[1m\u001b[31moccupation =  Sales\u001b[39m\u001b[0m with effectiveness \u001b[32m3.92%\u001b[39m and counterfactual cost = 4.0.\n",
      "\t\tMake \u001b[1m\u001b[31moccupation =  Tech-support\u001b[39m\u001b[0m with effectiveness \u001b[32m3.92%\u001b[39m and counterfactual cost = 4.0.\n",
      "\t\tMake \u001b[1m\u001b[31moccupation =  Protective-serv\u001b[39m\u001b[0m with effectiveness \u001b[32m3.92%\u001b[39m and counterfactual cost = 4.0.\n",
      "\t\tMake \u001b[1m\u001b[31moccupation =  Transport-moving\u001b[39m\u001b[0m with effectiveness \u001b[32m3.92%\u001b[39m and counterfactual cost = 4.0.\n",
      "\t\tMake \u001b[1m\u001b[31moccupation =  Exec-managerial\u001b[39m\u001b[0m with effectiveness \u001b[32m3.92%\u001b[39m and counterfactual cost = 4.0.\n",
      "\t\tMake \u001b[1m\u001b[31moccupation =  Prof-specialty\u001b[39m\u001b[0m with effectiveness \u001b[32m3.92%\u001b[39m and counterfactual cost = 4.0.\n",
      "\t\tMake \u001b[1m\u001b[31moccupation =  Craft-repair\u001b[39m\u001b[0m with effectiveness \u001b[32m3.92%\u001b[39m and counterfactual cost = 4.0.\n",
      "\t\tMake \u001b[1m\u001b[31moccupation =  Machine-op-inspct\u001b[39m\u001b[0m with effectiveness \u001b[32m3.92%\u001b[39m and counterfactual cost = 4.0.\n",
      "\t\tMake \u001b[1m\u001b[31moccupation =  Other-service\u001b[39m\u001b[0m with effectiveness \u001b[32m3.92%\u001b[39m and counterfactual cost = 4.0.\n",
      "\t\tMake \u001b[1m\u001b[31moccupation =  Handlers-cleaners\u001b[39m\u001b[0m with effectiveness \u001b[32m3.92%\u001b[39m and counterfactual cost = 4.0.\n",
      "\t\tMake \u001b[1m\u001b[31mhours-per-week = OverTime\u001b[39m, \u001b[31moccupation =  Exec-managerial\u001b[39m\u001b[0m with effectiveness \u001b[32m3.92%\u001b[39m and counterfactual cost = 6.0.\n",
      "\t\tMake \u001b[1m\u001b[31mhours-per-week = OverTime\u001b[39m, \u001b[31moccupation =  Prof-specialty\u001b[39m\u001b[0m with effectiveness \u001b[32m3.92%\u001b[39m and counterfactual cost = 6.0.\n",
      "\t\tMake \u001b[1m\u001b[31mhours-per-week = OverTime\u001b[39m, \u001b[31moccupation =  Sales\u001b[39m\u001b[0m with effectiveness \u001b[32m3.92%\u001b[39m and counterfactual cost = 6.0.\n",
      "\t\tMake \u001b[1m\u001b[31mhours-per-week = OverTime\u001b[39m, \u001b[31moccupation =  Craft-repair\u001b[39m\u001b[0m with effectiveness \u001b[32m3.92%\u001b[39m and counterfactual cost = 6.0.\n",
      "\t\tMake \u001b[1m\u001b[31mhours-per-week = MidTime\u001b[39m, \u001b[31moccupation =  Prof-specialty\u001b[39m\u001b[0m with effectiveness \u001b[32m3.92%\u001b[39m and counterfactual cost = 6.0.\n",
      "\t\tMake \u001b[1m\u001b[31mhours-per-week = BrainDrain\u001b[39m, \u001b[31moccupation =  Exec-managerial\u001b[39m\u001b[0m with effectiveness \u001b[32m3.92%\u001b[39m and counterfactual cost = 8.0.\n",
      "\t\tMake \u001b[1m\u001b[31mhours-per-week = BrainDrain\u001b[39m, \u001b[31moccupation =  Prof-specialty\u001b[39m\u001b[0m with effectiveness \u001b[32m3.92%\u001b[39m and counterfactual cost = 8.0.\n",
      "\t\tMake \u001b[1m\u001b[31mhours-per-week = BrainDrain\u001b[39m, \u001b[31moccupation =  Sales\u001b[39m\u001b[0m with effectiveness \u001b[32m3.92%\u001b[39m and counterfactual cost = 8.0.\n",
      "\t\tMake \u001b[1m\u001b[31mhours-per-week = PartTime\u001b[39m, \u001b[31moccupation =  Prof-specialty\u001b[39m\u001b[0m with effectiveness \u001b[32m3.92%\u001b[39m and counterfactual cost = 8.0.\n",
      "\t\tMake \u001b[1m\u001b[31mhours-per-week = PartTime\u001b[39m, \u001b[31moccupation =  Sales\u001b[39m\u001b[0m with effectiveness \u001b[32m3.92%\u001b[39m and counterfactual cost = 8.0.\n",
      "\t\t\u001b[1mAggregate cost\u001b[0m of the above recourses = \u001b[35minf\u001b[39m\n",
      "\t\u001b[35mNo bias!\u001b[39m\n"
     ]
    }
   ],
   "source": [
    "top_rules, subgroup_costs = facts.select_rules_subset_cumulative(\n",
    "    {sg: rules_with_cumulative_nn[sg]},\n",
    "    metric=\"min-above-corr\",\n",
    "    sort_strategy=\"generic-sorting-ignore-exists-subgroup-empty\",\n",
    "    top_count=1,\n",
    "    cor_threshold = 0.7,\n",
    "    filter_sequence = [\n",
    "        \"remove-contained\",\n",
    "        # \"remove-fair-rules\",\n",
    "        \"keep-cheap-rules-above-thr-cor\",\n",
    "    ],\n",
    "    params=params\n",
    ")\n",
    "\n",
    "print_recourse_report_cumulative(\n",
    "    top_rules,\n",
    "    subgroup_costs=subgroup_costs,\n",
    "    show_subgroup_costs=True,\n",
    "    show_then_costs=True,\n",
    "    metric_name = 'Equal Cost of Effectiveness (Micro) (threshold = 0.7)'\n",
    ")"
   ]
  },
  {
   "cell_type": "code",
   "execution_count": null,
   "id": "3e0212e1-e65d-4232-a661-dd0eaf417d73",
   "metadata": {},
   "outputs": [],
   "source": []
  }
 ],
 "metadata": {
  "kernelspec": {
   "display_name": "Python 3 (ipykernel)",
   "language": "python",
   "name": "python3"
  },
  "language_info": {
   "codemirror_mode": {
    "name": "ipython",
    "version": 3
   },
   "file_extension": ".py",
   "mimetype": "text/x-python",
   "name": "python",
   "nbconvert_exporter": "python",
   "pygments_lexer": "ipython3",
   "version": "3.11.4"
  }
 },
 "nbformat": 4,
 "nbformat_minor": 5
}
