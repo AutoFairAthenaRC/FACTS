{
 "cells": [
  {
   "cell_type": "code",
   "execution_count": 40,
   "id": "c9f1a3b5-e8f1-485a-9745-f7e15e7f9fa0",
   "metadata": {},
   "outputs": [],
   "source": [
    "import numpy as np\n",
    "import pandas as pd\n",
    "\n",
    "from sklearn.model_selection import train_test_split\n",
    "from sklearn.metrics import classification_report\n",
    "\n",
    "import matplotlib.pyplot as plt"
   ]
  },
  {
   "cell_type": "code",
   "execution_count": 41,
   "id": "787980d1-36a1-4478-b116-5056a22c5bc7",
   "metadata": {},
   "outputs": [],
   "source": [
    "from frequent_itemsets import runApriori, aprioriout2predicateList, preprocessDataset\n",
    "from models import customXGB\n",
    "from predicate import Predicate, recIsValid\n",
    "from recourse_sets import TwoLevelRecourseSet\n",
    "from metrics import incorrectRecoursesSingle, coverSingle"
   ]
  },
  {
   "cell_type": "code",
   "execution_count": 42,
   "id": "1edbaeb0-2464-43d5-ada3-04f66ca69c32",
   "metadata": {},
   "outputs": [],
   "source": [
    "DATAFILE = '../adult.data' # location of dataset\n",
    "random_state = None # change to something for exactly reproducible results\n",
    "sensitive_attribute = \"Sex\"\n",
    "target_name = \"label\"\n",
    "positive_label = \">50K\"\n",
    "negative_label = \"<=50K\"\n",
    "model_train_fraction = 0.7"
   ]
  },
  {
   "cell_type": "code",
   "execution_count": 43,
   "id": "62bb9abe-db53-4305-8294-7b131d9ec53d",
   "metadata": {},
   "outputs": [],
   "source": [
    "# specify feature names\n",
    "feature_names = [\n",
    "   \"Age\", \"Workclass\", \"fnlwgt\", \"Education\",\n",
    "   \"Education-Num\", \"Marital Status\", \"Occupation\",\n",
    "   \"Relationship\", \"Race\", \"Sex\", \"Capital Gain\",\n",
    "   \"Capital Loss\", \"Hours per week\", \"Country\", \"label\"\n",
    "]\n",
    "# specify categorical columns\n",
    "cate_columns = ['Workclass', 'Education', 'Marital Status', 'Occupation', 'Relationship', 'Race', 'Sex', 'Country']"
   ]
  },
  {
   "cell_type": "code",
   "execution_count": 44,
   "id": "eb79dcb8-f6d7-4d4e-8b36-470507b461f4",
   "metadata": {},
   "outputs": [],
   "source": [
    "data = pd.DataFrame(\n",
    "  np.genfromtxt(DATAFILE, delimiter=', ', dtype=str),\n",
    "  columns=feature_names\n",
    ")"
   ]
  },
  {
   "cell_type": "code",
   "execution_count": 45,
   "id": "a5ce002d-d613-4074-9ac1-2a6dacf7d6af",
   "metadata": {},
   "outputs": [],
   "source": [
    "X = data.drop(target_name, axis=1)\n",
    "y = data[target_name]\n",
    "\n",
    "X_train, X_test, y_train, y_test = train_test_split(X, y, train_size=model_train_fraction, random_state=random_state)\n",
    "\n",
    "X_train = X_train.reset_index(drop=True)\n",
    "X_test = X_test.reset_index(drop=True)\n",
    "y_train = y_train.reset_index(drop=True)\n",
    "y_test = y_test.reset_index(drop=True)"
   ]
  },
  {
   "cell_type": "code",
   "execution_count": 46,
   "id": "c76b8c6b-9bb4-4afd-82a9-7b271acf4ccc",
   "metadata": {},
   "outputs": [
    {
     "data": {
      "text/plain": [
       "<models.customXGB at 0x20223688880>"
      ]
     },
     "execution_count": 46,
     "metadata": {},
     "output_type": "execute_result"
    }
   ],
   "source": [
    "model = customXGB(n_estimators=300, max_depth=5)\n",
    "model.fit(X_train, y_train, cate_columns=cate_columns)"
   ]
  },
  {
   "cell_type": "code",
   "execution_count": 47,
   "id": "f924b6d3-ecbf-4de7-91e8-b0d6a272b37e",
   "metadata": {},
   "outputs": [
    {
     "name": "stdout",
     "output_type": "stream",
     "text": [
      "Test data shape: (9769, 14)\n",
      "Affected shape: (7704, 14)\n"
     ]
    }
   ],
   "source": [
    "X_aff_idxs = np.where(model.predict(X_test) == 0)[0]\n",
    "print(f\"Test data shape: {X_test.shape}\")\n",
    "X_aff = X_test.iloc[X_aff_idxs, :]\n",
    "print(f\"Affected shape: {X_aff.shape}\")\n",
    "# X_aff.reset_index(inplace=True, drop=True)"
   ]
  },
  {
   "cell_type": "code",
   "execution_count": 48,
   "id": "f1b75686-16cd-49fc-aea2-2e2f87acf091",
   "metadata": {},
   "outputs": [
    {
     "name": "stdout",
     "output_type": "stream",
     "text": [
      "Unaffected shape: (2065, 14)\n"
     ]
    }
   ],
   "source": [
    "X_unaff_idxs = np.where(model.predict(X_test) == 1)[0]\n",
    "X_unaff = X_test.iloc[X_unaff_idxs, :]\n",
    "print(f\"Unaffected shape: {X_unaff.shape}\")\n",
    "# X_aff.reset_index(inplace=True, drop=True)"
   ]
  },
  {
   "cell_type": "code",
   "execution_count": 49,
   "id": "ac53d4f8-ebdb-41a4-bf6d-c67fd30ce440",
   "metadata": {},
   "outputs": [],
   "source": [
    "males_affected = X_aff[X_aff[\"Sex\"] == \"Male\"].drop([sensitive_attribute], axis=1)\n",
    "females_affected = X_aff[X_aff[\"Sex\"] == \"Female\"].drop([sensitive_attribute], axis=1)"
   ]
  },
  {
   "cell_type": "code",
   "execution_count": 50,
   "id": "4c433019-8c2a-4ef7-8ad4-0b792229bd1a",
   "metadata": {},
   "outputs": [],
   "source": [
    "freq_ma = runApriori(preprocessDataset(males_affected), min_support=0.03)\n",
    "freq_fa = runApriori(preprocessDataset(females_affected), min_support=0.03)"
   ]
  },
  {
   "cell_type": "code",
   "execution_count": 51,
   "id": "ce73810d-6bc3-442d-8a0c-f3234ec865d2",
   "metadata": {},
   "outputs": [],
   "source": [
    "RL_ma, RL_ma_supports = aprioriout2predicateList(freq_ma)\n",
    "RL_fa, RL_fa_supports = aprioriout2predicateList(freq_fa)"
   ]
  },
  {
   "cell_type": "code",
   "execution_count": 52,
   "id": "96079de9-9480-456e-ad98-63333ac99c7f",
   "metadata": {},
   "outputs": [],
   "source": [
    "RL_ma_dict = [dict(zip(p.features, p.values)) for p in RL_ma]\n",
    "RL_fa_dict = [dict(zip(p.features, p.values)) for p in RL_fa]"
   ]
  },
  {
   "cell_type": "markdown",
   "id": "af5e767c-71d9-4b44-b13c-9180bae3e2f8",
   "metadata": {},
   "source": [
    "# Intersection of frequent itemsets for male and female uffected (to be used in the if clauses)"
   ]
  },
  {
   "cell_type": "code",
   "execution_count": 53,
   "id": "89c0dee9-472d-48c2-8196-f94f86f72d50",
   "metadata": {},
   "outputs": [],
   "source": [
    "aff_intersection = []\n",
    "supports_male = []\n",
    "supports_female = []\n",
    "for i, pred1 in enumerate(RL_ma_dict):\n",
    "    for j, pred2 in enumerate(RL_fa_dict):\n",
    "        if pred1 == pred2:\n",
    "            aff_intersection.append(Predicate.from_dict(pred1))\n",
    "            supports_male.append(RL_ma_supports[i])\n",
    "            supports_female.append(RL_fa_supports[j])"
   ]
  },
  {
   "cell_type": "markdown",
   "id": "4d03c63f-79cc-43fc-b456-02511be56230",
   "metadata": {},
   "source": [
    "# Frequent itemsets for the unaffacted (to be used in the then clauses)"
   ]
  },
  {
   "cell_type": "code",
   "execution_count": 54,
   "id": "ae08a094-5ae6-44f6-b900-96039220d727",
   "metadata": {},
   "outputs": [],
   "source": [
    "freq_unaffected, _ = aprioriout2predicateList(runApriori(preprocessDataset(X_unaff), min_support=0.03))\n",
    "freq_unaffected_dict = [dict(zip(p.features, p.values)) for p in freq_unaffected]"
   ]
  },
  {
   "cell_type": "code",
   "execution_count": 55,
   "id": "233d769f-2ac7-4eba-b7b2-cff24ab37b1c",
   "metadata": {},
   "outputs": [],
   "source": [
    "SD = list(map(Predicate.from_dict, [\n",
    "    {sensitive_attribute: val} for val in data[sensitive_attribute].unique()\n",
    "]))"
   ]
  },
  {
   "cell_type": "markdown",
   "id": "761a6737-b223-44e3-8896-810db8a7c596",
   "metadata": {},
   "source": [
    "# Filter all if-then pairs to keep only valid"
   ]
  },
  {
   "cell_type": "code",
   "execution_count": 56,
   "id": "bc9ab15c-1a3d-418d-8a4a-7571685fa13f",
   "metadata": {},
   "outputs": [],
   "source": [
    "ifthens = [(h, s, sm, sf) for h, sm, sf in zip(aff_intersection, supports_male, supports_female) for s in freq_unaffected if recIsValid(h, s)]"
   ]
  },
  {
   "cell_type": "code",
   "execution_count": 57,
   "id": "c3178f57-4bad-435f-8f1c-9437ff2abe15",
   "metadata": {},
   "outputs": [
    {
     "data": {
      "text/plain": [
       "2746"
      ]
     },
     "execution_count": 57,
     "metadata": {},
     "output_type": "execute_result"
    }
   ],
   "source": [
    "len(ifthens) "
   ]
  },
  {
   "cell_type": "markdown",
   "id": "65858328-dd27-4d73-b19d-b048696ccfca",
   "metadata": {},
   "source": [
    "# Keep triples whose incorrect recourse percentage is at most a given threshold"
   ]
  },
  {
   "cell_type": "code",
   "execution_count": 58,
   "id": "1ff403f3-af31-43d0-af64-617b1e19547d",
   "metadata": {},
   "outputs": [],
   "source": [
    "from tqdm import tqdm"
   ]
  },
  {
   "cell_type": "code",
   "execution_count": 20,
   "id": "f8e6b515-5358-4bfa-b615-9e9c220512b3",
   "metadata": {},
   "outputs": [
    {
     "name": "stderr",
     "output_type": "stream",
     "text": [
      "100%|██████████████████████████████████████████████████████████████████████████████| 2496/2496 [09:16<00:00,  4.49it/s]\n"
     ]
    }
   ],
   "source": [
    "ifthens_inc = []\n",
    "for h, s, sm, sf in tqdm(ifthens):\n",
    "    incorrect_recourses_for_males = incorrectRecoursesSingle(SD[0], h, s, X_aff, model)\n",
    "    covered_males = sm * males_affected.shape[0]\n",
    "    inc_male = incorrect_recourses_for_males / covered_males\n",
    "    incorrect_recourses_for_females = incorrectRecoursesSingle(SD[1], h, s, X_aff, model)\n",
    "    covered_females = sf * females_affected.shape[0]\n",
    "    inc_female = incorrect_recourses_for_females / covered_females\n",
    "    ifthens_inc.append((h, s, sm, sf, inc_male, inc_female))"
   ]
  },
  {
   "cell_type": "code",
   "execution_count": 59,
   "id": "1408f720-5c3d-4803-8c50-f359a4aef9c8",
   "metadata": {},
   "outputs": [],
   "source": [
    "threshold_incorrect = 0.20\n",
    "threshold_coverage = 0.70\n",
    "\n",
    "ifthens_filtered_male = []\n",
    "ifthens_filtered_female = []\n",
    "for h, s, sm, sf, inc_male, inc_female in ifthens_inc:\n",
    "    if inc_male <= threshold_incorrect and sm >= threshold_coverage:\n",
    "        ifthens_filtered_male.append((h, s, sm, inc_male))\n",
    "    if inc_female <= threshold_incorrect and sf >= threshold_coverage:\n",
    "        ifthens_filtered_female.append((h, s, sf, inc_female))"
   ]
  },
  {
   "cell_type": "code",
   "execution_count": 60,
   "id": "cbf1b0c2-a19c-4cd1-a774-030f34157769",
   "metadata": {},
   "outputs": [
    {
     "name": "stdout",
     "output_type": "stream",
     "text": [
      "6\n",
      "7\n"
     ]
    }
   ],
   "source": [
    "print(len(ifthens_filtered_male))\n",
    "print(len(ifthens_filtered_female))"
   ]
  },
  {
   "cell_type": "code",
   "execution_count": 61,
   "id": "c05a4c3b-d355-4b37-9904-7ea81843f765",
   "metadata": {},
   "outputs": [
    {
     "name": "stdout",
     "output_type": "stream",
     "text": [
      "For subgroup 'Male':\n",
      "\tIf Capital Gain = 0,\n",
      "\tThen Capital Gain = 15024.\n",
      "\t\tCoverage: 95.739% of those in the subgroup that are affected.\n",
      "\t\tIncorrect recourses: 4.623% over all individuals covered by this rule.\n",
      "\tIf Capital Loss = 0, Capital Gain = 0,\n",
      "\tThen Capital Loss = 0, Capital Gain = 15024.\n",
      "\t\tCoverage: 92.885% of those in the subgroup that are affected.\n",
      "\t\tIncorrect recourses: 4.542% over all individuals covered by this rule.\n",
      "\tIf Capital Gain = 0, Country = United-States,\n",
      "\tThen Capital Gain = 15024, Country = United-States.\n",
      "\t\tCoverage: 84.571% of those in the subgroup that are affected.\n",
      "\t\tIncorrect recourses: 4.696% over all individuals covered by this rule.\n",
      "\tIf Capital Gain = 0, Race = White,\n",
      "\tThen Capital Gain = 15024, Race = White.\n",
      "\t\tCoverage: 83.764% of those in the subgroup that are affected.\n",
      "\t\tIncorrect recourses: 4.790% over all individuals covered by this rule.\n",
      "\tIf Capital Loss = 0, Capital Gain = 0, Country = United-States,\n",
      "\tThen Capital Loss = 0, Capital Gain = 15024, Country = United-States.\n",
      "\t\tCoverage: 81.944% of those in the subgroup that are affected.\n",
      "\t\tIncorrect recourses: 4.594% over all individuals covered by this rule.\n",
      "\tIf Capital Loss = 0, Capital Gain = 0, Race = White,\n",
      "\tThen Capital Loss = 0, Capital Gain = 15024, Race = White.\n",
      "\t\tCoverage: 81.282% of those in the subgroup that are affected.\n",
      "\t\tIncorrect recourses: 4.707% over all individuals covered by this rule.\n",
      "For subgroup 'Female':\n",
      "\tIf Capital Gain = 0,\n",
      "\tThen Capital Gain = 15024.\n",
      "\t\tCoverage: 96.726% of those in the subgroup that are affected.\n",
      "\t\tIncorrect recourses: 9.097% over all individuals covered by this rule.\n",
      "\tIf Capital Loss = 0, Capital Gain = 0,\n",
      "\tThen Capital Loss = 0, Capital Gain = 15024.\n",
      "\t\tCoverage: 94.202% of those in the subgroup that are affected.\n",
      "\t\tIncorrect recourses: 8.907% over all individuals covered by this rule.\n",
      "\tIf Capital Gain = 0, Country = United-States,\n",
      "\tThen Capital Gain = 15024, Country = United-States.\n",
      "\t\tCoverage: 86.323% of those in the subgroup that are affected.\n",
      "\t\tIncorrect recourses: 9.127% over all individuals covered by this rule.\n",
      "\tIf Capital Gain = 0, Race = White,\n",
      "\tThen Capital Gain = 15024, Race = White.\n",
      "\t\tCoverage: 75.409% of those in the subgroup that are affected.\n",
      "\t\tIncorrect recourses: 9.453% over all individuals covered by this rule.\n",
      "\tIf Capital Loss = 0, Capital Gain = 0, Country = United-States,\n",
      "\tThen Capital Loss = 0, Capital Gain = 15024, Country = United-States.\n",
      "\t\tCoverage: 84.004% of those in the subgroup that are affected.\n",
      "\t\tIncorrect recourses: 8.932% over all individuals covered by this rule.\n",
      "\tIf Capital Loss = 0, Capital Gain = 0, Race = White,\n",
      "\tThen Capital Loss = 0, Capital Gain = 15024, Race = White.\n",
      "\t\tCoverage: 73.431% of those in the subgroup that are affected.\n",
      "\t\tIncorrect recourses: 9.382% over all individuals covered by this rule.\n",
      "\tIf Workclass = Private, Capital Gain = 0,\n",
      "\tThen Workclass = Private, Capital Gain = 15024.\n",
      "\t\tCoverage: 70.975% of those in the subgroup that are affected.\n",
      "\t\tIncorrect recourses: 8.746% over all individuals covered by this rule.\n",
      "\n"
     ]
    }
   ],
   "source": [
    "from lib2 import recourse_report_preprocessed\n",
    "\n",
    "print(recourse_report_preprocessed([\"Male\", \"Female\"], {\"Male\": ifthens_filtered_male, \"Female\": ifthens_filtered_female}))"
   ]
  },
  {
   "cell_type": "code",
   "execution_count": null,
   "id": "8a13da8a-e2a3-481f-9b1b-bc1803f4eccf",
   "metadata": {},
   "outputs": [],
   "source": []
  }
 ],
 "metadata": {
  "kernelspec": {
   "display_name": "Python 3 (ipykernel)",
   "language": "python",
   "name": "python3"
  },
  "language_info": {
   "codemirror_mode": {
    "name": "ipython",
    "version": 3
   },
   "file_extension": ".py",
   "mimetype": "text/x-python",
   "name": "python",
   "nbconvert_exporter": "python",
   "pygments_lexer": "ipython3",
   "version": "3.9.15"
  }
 },
 "nbformat": 4,
 "nbformat_minor": 5
}
