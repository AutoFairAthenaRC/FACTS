{
 "cells": [
  {
   "cell_type": "code",
   "execution_count": 1,
   "id": "d9ad0eb4-af28-40fa-809f-b594911a2eed",
   "metadata": {},
   "outputs": [],
   "source": [
    "import numpy as np\n",
    "import pandas as pd\n",
    "from pprint import pprint\n",
    "\n",
    "from sklearn.model_selection import train_test_split\n",
    "from sklearn.metrics import classification_report\n",
    "\n",
    "# place all *.py files in the same folder\n",
    "import lib2\n",
    "from lib2 import Predicate, optimize\n",
    "from models import customXGB\n",
    "from apriori import preprocessDataset, runApriori, aprioriout2predicateList\n",
    "from parameters import ParameterProxy\n",
    "\n",
    "import matplotlib.pyplot as plt"
   ]
  },
  {
   "cell_type": "code",
   "execution_count": 2,
   "id": "a14f58b7-a232-44a3-baa8-bcb490b4c891",
   "metadata": {},
   "outputs": [],
   "source": [
    "DATAFILE = '../adult.data' # location of dataset\n",
    "random_state = None # change to something for exactly reproducible results\n",
    "sensitive_attribute = \"Sex\"\n",
    "target_name = \"label\"\n",
    "positive_label = \">50K\"\n",
    "negative_label = \"<=50K\"\n",
    "model_train_fraction = 0.7"
   ]
  },
  {
   "cell_type": "code",
   "execution_count": 3,
   "id": "7f9e7715-a1de-4228-a36b-2fa66f0499a0",
   "metadata": {},
   "outputs": [],
   "source": [
    "# specify feature names\n",
    "feature_names = [\n",
    "   \"Age\", \"Workclass\", \"fnlwgt\", \"Education\",\n",
    "   \"Education-Num\", \"Marital Status\", \"Occupation\",\n",
    "   \"Relationship\", \"Race\", \"Sex\", \"Capital Gain\",\n",
    "   \"Capital Loss\", \"Hours per week\", \"Country\", \"label\"\n",
    "]\n",
    "# specify categorical columns\n",
    "cate_columns = ['Workclass', 'Education', 'Marital Status', 'Occupation', 'Relationship', 'Race', 'Sex', 'Country']"
   ]
  },
  {
   "cell_type": "code",
   "execution_count": 4,
   "id": "443fb73f-7fbb-43c2-a26f-d695c34d2e3e",
   "metadata": {},
   "outputs": [],
   "source": [
    "# WARNING: after changing any of the values, restart the notebook\n",
    "\n",
    "# define featureCost as a mapping holding, for each feature name, the respective cost of not keeping that feature constant\n",
    "# Any feature not specified will have its cost set to 1\n",
    "featureCosts = {\"Sex\": 100}\n",
    "\n",
    "# define featureChange as a mapping from str to function, holding, for each feature name, the respective \n",
    "# function that calculates the cost of change from one value to another.\n",
    "# Any feature change not specified will be set to 1 if there is change, and 0 otherwise.\n",
    "def age_cost(age1: str, age2: str) -> int:\n",
    "    return abs(int(age1) - int(age2))\n",
    "featureChange = {\"Age\": age_cost}\n",
    "\n",
    "# set the weights that manage the relative influence of coverage, correctness, feature cost and feature change\n",
    "# in the objective function of the algorithm\n",
    "l_cover = 1\n",
    "l_correct = 3\n",
    "l_cost = 1\n",
    "l_change = 1"
   ]
  },
  {
   "cell_type": "code",
   "execution_count": 6,
   "id": "84bf50ed-a251-4b18-a644-76ae3fe9d8ec",
   "metadata": {},
   "outputs": [],
   "source": [
    "params = ParameterProxy(\n",
    "    featureCosts=featureCosts,\n",
    "    featureChanges=featureChange,\n",
    "    lambda_correctness=l_correct,\n",
    "    lambda_cover=l_cover,\n",
    "    lambda_featureChange=l_change,\n",
    "    lambda_featureCost=l_cost\n",
    ")"
   ]
  },
  {
   "cell_type": "markdown",
   "id": "dbbbed12-ca00-4fa2-9848-2071e551fc71",
   "metadata": {},
   "source": [
    "# Data loading\n",
    "\n",
    "Loads the dataset into variable `data`. Just run it."
   ]
  },
  {
   "cell_type": "code",
   "execution_count": 7,
   "id": "ad3a184d-9480-45da-8fb3-7aa9d90e50d6",
   "metadata": {},
   "outputs": [],
   "source": [
    "data = pd.DataFrame(\n",
    "  np.genfromtxt(DATAFILE, delimiter=', ', dtype=str),\n",
    "  columns=feature_names\n",
    ")"
   ]
  },
  {
   "cell_type": "markdown",
   "id": "5365ab95-0fae-4096-8386-ec59403d0f13",
   "metadata": {},
   "source": [
    "# Train test split\n",
    "\n",
    "Split into train-test. The train set is used specifically for training the model, and nothing further."
   ]
  },
  {
   "cell_type": "code",
   "execution_count": 8,
   "id": "53770132-fd7a-4078-adfb-84ec6554bfbe",
   "metadata": {},
   "outputs": [],
   "source": [
    "X = data.drop(target_name, axis=1)\n",
    "y = data[target_name]\n",
    "\n",
    "X_train, X_test, y_train, y_test = train_test_split(X, y, train_size=model_train_fraction, random_state=random_state)\n",
    "\n",
    "X_train = X_train.reset_index(drop=True)\n",
    "X_test = X_test.reset_index(drop=True)\n",
    "y_train = y_train.reset_index(drop=True)\n",
    "y_test = y_test.reset_index(drop=True)"
   ]
  },
  {
   "cell_type": "markdown",
   "id": "d966d8d8-6729-4c56-8fdf-2161cbc3b2c5",
   "metadata": {},
   "source": [
    "# Definition and Training of a black-box model\n",
    "\n",
    "We use a black box model based on gradient boosted decision trees."
   ]
  },
  {
   "cell_type": "code",
   "execution_count": 9,
   "id": "029a2893-6a54-4809-a999-a6638c8a3df9",
   "metadata": {},
   "outputs": [
    {
     "data": {
      "text/plain": [
       "<models.customXGB at 0x23360f19d90>"
      ]
     },
     "execution_count": 9,
     "metadata": {},
     "output_type": "execute_result"
    }
   ],
   "source": [
    "model = customXGB(n_estimators=300, max_depth=5)\n",
    "model.fit(X_train, y_train, cate_columns=cate_columns)"
   ]
  },
  {
   "cell_type": "markdown",
   "id": "25d0b6a0-54b6-44ad-b5d4-83e3ef621fe4",
   "metadata": {},
   "source": [
    "0 denotes the negative and 1 the positive class."
   ]
  },
  {
   "cell_type": "code",
   "execution_count": 10,
   "id": "0d781fbd-9211-4717-a17c-23de82e751fe",
   "metadata": {},
   "outputs": [
    {
     "data": {
      "text/plain": [
       "array([0, 0, 0, 0, 0, 0, 1, 0, 0, 0, 0, 1, 0, 1, 0, 0, 0, 0, 0, 0, 0, 0,\n",
       "       0, 0, 0, 1, 0, 0, 0, 1, 1, 0, 0, 0, 0, 0, 1, 0, 0, 0, 0, 0, 0, 0,\n",
       "       0, 0, 0, 0, 0, 0, 1, 0, 0, 1, 0, 1, 0, 0, 0, 0, 0, 0, 0, 0, 1, 0,\n",
       "       0, 1, 0, 0, 0, 1, 0, 0, 0, 0, 0, 1, 0, 1, 0, 0, 1, 0, 1, 1, 0, 0,\n",
       "       1, 0, 0, 0, 0, 1, 1, 0, 1, 0, 0, 1])"
      ]
     },
     "execution_count": 10,
     "metadata": {},
     "output_type": "execute_result"
    }
   ],
   "source": [
    "model.predict(X_test.iloc[:100, :])"
   ]
  },
  {
   "cell_type": "markdown",
   "id": "bb10a762-760d-467c-9488-d5265ef7f15c",
   "metadata": {},
   "source": [
    "# Testing the model\n",
    "\n",
    "We check if the model is satisfactory."
   ]
  },
  {
   "cell_type": "code",
   "execution_count": 11,
   "id": "9b500ea5-c9e4-4523-a150-f21e6373c9f2",
   "metadata": {},
   "outputs": [
    {
     "name": "stdout",
     "output_type": "stream",
     "text": [
      "              precision    recall  f1-score   support\n",
      "\n",
      "           0       0.89      0.94      0.92      7409\n",
      "           1       0.77      0.65      0.71      2360\n",
      "\n",
      "    accuracy                           0.87      9769\n",
      "   macro avg       0.83      0.80      0.81      9769\n",
      "weighted avg       0.86      0.87      0.87      9769\n",
      "\n"
     ]
    }
   ],
   "source": [
    "preds = model.predict(X_test)\n",
    "print(classification_report(y_test.map({negative_label: 0, positive_label: 1}), preds))"
   ]
  },
  {
   "cell_type": "markdown",
   "id": "55f9b210-4391-445a-8261-d0c137845597",
   "metadata": {},
   "source": [
    "# Finding the affected\n",
    "\n",
    "We check the predictions of the model on the test data, i.e. our population. The ones that get a 0 (negative outcome) are called the affected individuals."
   ]
  },
  {
   "cell_type": "code",
   "execution_count": 12,
   "id": "10e4ea97-b018-4bef-9166-31f3d1289fb3",
   "metadata": {},
   "outputs": [
    {
     "name": "stdout",
     "output_type": "stream",
     "text": [
      "Test data shape: (9769, 14)\n",
      "Affected shape: (7768, 14)\n"
     ]
    }
   ],
   "source": [
    "X_aff_idxs = np.where(model.predict(X_test) == 0)[0]\n",
    "print(f\"Test data shape: {X_test.shape}\")\n",
    "X_aff = X_test.iloc[X_aff_idxs, :]\n",
    "print(f\"Affected shape: {X_aff.shape}\")\n",
    "# X_aff.reset_index(inplace=True, drop=True)"
   ]
  },
  {
   "cell_type": "code",
   "execution_count": 20,
   "id": "2d3d81ca-8fe2-48b6-85c6-87ae35d4f056",
   "metadata": {},
   "outputs": [
    {
     "name": "stdout",
     "output_type": "stream",
     "text": [
      "0        7451\n",
      "5013       22\n",
      "3325       21\n",
      "3137       16\n",
      "2174       15\n",
      "4064       15\n",
      "594        12\n",
      "4650       11\n",
      "4386       10\n",
      "2597        9\n",
      "3908        8\n",
      "2414        8\n",
      "2885        8\n",
      "3411        8\n",
      "2829        7\n",
      "2407        7\n",
      "4416        7\n",
      "2176        6\n",
      "6849        6\n",
      "1055        6\n",
      "2635        5\n",
      "4865        5\n",
      "2354        5\n",
      "5455        4\n",
      "4101        4\n",
      "1848        4\n",
      "3674        4\n",
      "2202        4\n",
      "2580        4\n",
      "1797        3\n",
      "4508        3\n",
      "3464        3\n",
      "2228        3\n",
      "3273        3\n",
      "2964        3\n",
      "3471        2\n",
      "1151        2\n",
      "1424        2\n",
      "2907        2\n",
      "1831        2\n",
      "401         2\n",
      "3887        2\n",
      "2463        2\n",
      "2961        2\n",
      "3418        2\n",
      "4934        2\n",
      "3942        2\n",
      "914         2\n",
      "2105        2\n",
      "6360        2\n",
      "114         2\n",
      "2329        2\n",
      "1455        1\n",
      "2653        1\n",
      "1086        1\n",
      "1506        1\n",
      "3432        1\n",
      "2538        1\n",
      "20051       1\n",
      "1471        1\n",
      "2290        1\n",
      "991         1\n",
      "1409        1\n",
      "6723        1\n",
      "3781        1\n",
      "7896        1\n",
      "2062        1\n",
      "3818        1\n",
      "6497        1\n",
      "1173        1\n",
      "2346        1\n",
      "7443        1\n",
      "34095       1\n",
      "5060        1\n",
      "2050        1\n",
      "2036        1\n"
     ]
    },
    {
     "data": {
      "text/plain": [
       "7048"
      ]
     },
     "execution_count": 20,
     "metadata": {},
     "output_type": "execute_result"
    }
   ],
   "source": [
    "x = X_aff.copy()\n",
    "x[\"Capital Gain\"] = '15000'\n",
    "print(X_aff[\"Capital Gain\"].value_counts().to_string())\n",
    "model.predict(x).sum()"
   ]
  },
  {
   "cell_type": "markdown",
   "id": "64ecfc54-9059-4320-8d98-d5c8e390795d",
   "metadata": {},
   "source": [
    "This means that the model classifies into the negative class about 7000 out of the 10000 total (test set) individuals."
   ]
  },
  {
   "cell_type": "markdown",
   "id": "75804d75-805c-48e1-93f3-4e52fdac6253",
   "metadata": {},
   "source": [
    "## and the unaffected"
   ]
  },
  {
   "cell_type": "code",
   "execution_count": 44,
   "id": "a1ed89dd-ece1-4bfe-913e-6bccb50cff95",
   "metadata": {},
   "outputs": [
    {
     "name": "stdout",
     "output_type": "stream",
     "text": [
      "Unaffected shape: (2001, 14)\n"
     ]
    }
   ],
   "source": [
    "X_unaff_idxs = np.where(model.predict(X_test) == 1)[0]\n",
    "X_unaff = X_test.iloc[X_unaff_idxs, :]\n",
    "print(f\"Unaffected shape: {X_unaff.shape}\")\n",
    "# X_aff.reset_index(inplace=True, drop=True)"
   ]
  },
  {
   "cell_type": "code",
   "execution_count": 45,
   "id": "019fdf55-714d-4254-9664-766bd79a7949",
   "metadata": {},
   "outputs": [
    {
     "data": {
      "text/plain": [
       "0        1501\n",
       "15024      99\n",
       "7688       84\n",
       "7298       68\n",
       "99999      49\n",
       "5178       31\n",
       "3103       25\n",
       "4386       17\n",
       "8614       16\n",
       "14084      16\n",
       "20051      14\n",
       "10520      13\n",
       "27828      11\n",
       "9386        9\n",
       "14344       9\n",
       "13550       7\n",
       "15831       5\n",
       "4787        4\n",
       "7430        3\n",
       "25236       2\n",
       "15020       2\n",
       "10605       2\n",
       "4687        2\n",
       "6767        2\n",
       "10566       2\n",
       "4934        1\n",
       "7896        1\n",
       "6514        1\n",
       "11678       1\n",
       "5556        1\n",
       "22040       1\n",
       "6418        1\n",
       "34095       1\n",
       "Name: Capital Gain, dtype: int64"
      ]
     },
     "execution_count": 45,
     "metadata": {},
     "output_type": "execute_result"
    }
   ],
   "source": [
    "X_unaff[\"Capital Gain\"].value_counts()"
   ]
  },
  {
   "cell_type": "markdown",
   "id": "bd8da668-1729-47a1-8e36-64dfd71d811c",
   "metadata": {},
   "source": [
    "# Running apriori adaptation\n",
    "\n",
    "We now generate the frequent itemsets of the datasets. These are used by the global counterfactual generating algorithm, in order to try and cover as many affected individuals as possible.\n",
    "\n",
    "Here, we have implemented a simple `runApriori` wrapper function, which basically runs the fpgrowth algorithm for frequent itemset mining of the library mlxtend. It returns a dataframe with two columns, an $itemset$ column which contains the itemsets, in the form value tuples, and a $support$ column, which contains the relative frequency with which the itemset is contained in the dataset. Meaning, the fraction of individuals which have this specific combination of feature values.\n",
    "\n",
    "Notice that we can give a minimum support as an argument to the function. This means that it returns only those itemsets whose support are above this value.\n",
    "\n",
    "*Note*: You can ignore the \"+feature_name\" part. It has been appended to every value for implementation reasons, so that we know the \"type\" of each value, i.e. the feature it corresponds to. For example, whether a 0 is a value for \"Capital Loss\" or for \"Capital Gain\"."
   ]
  },
  {
   "cell_type": "code",
   "execution_count": 46,
   "id": "d9817599-a327-4414-a9bb-974582365742",
   "metadata": {},
   "outputs": [],
   "source": [
    "males_affected = X_aff[X_aff[\"Sex\"] == \"Male\"].drop([sensitive_attribute], axis=1)\n",
    "males_unaffected = X_unaff[X_unaff[\"Sex\"] == \"Male\"].drop([sensitive_attribute], axis=1)\n",
    "females_affected = X_aff[X_aff[\"Sex\"] == \"Female\"].drop([sensitive_attribute], axis=1)\n",
    "females_unaffected = X_unaff[X_unaff[\"Sex\"] == \"Female\"].drop([sensitive_attribute], axis=1)"
   ]
  },
  {
   "cell_type": "code",
   "execution_count": 47,
   "id": "41f910ec-dbd7-404f-93d7-e8067a5dda5b",
   "metadata": {},
   "outputs": [],
   "source": [
    "freq_ma = runApriori(preprocessDataset(males_affected), min_support=0.03)\n",
    "freq_mu = runApriori(preprocessDataset(males_unaffected), min_support=0.03)\n",
    "freq_fa = runApriori(preprocessDataset(females_affected), min_support=0.03)\n",
    "freq_fu = runApriori(preprocessDataset(females_unaffected), min_support=0.03)"
   ]
  },
  {
   "cell_type": "code",
   "execution_count": 48,
   "id": "f5cc59b1-3246-41cb-bf45-cef3407a3f9e",
   "metadata": {},
   "outputs": [],
   "source": [
    "RL_ma = aprioriout2predicateList(freq_ma)\n",
    "RL_mu = aprioriout2predicateList(freq_mu)\n",
    "RL_fa = aprioriout2predicateList(freq_fa)\n",
    "RL_fu = aprioriout2predicateList(freq_fu)"
   ]
  },
  {
   "cell_type": "code",
   "execution_count": 49,
   "id": "4db4cc4f-bea3-479c-94f0-df7c3b2e9492",
   "metadata": {},
   "outputs": [
    {
     "name": "stdout",
     "output_type": "stream",
     "text": [
      "     support                                 itemsets\n",
      "0   0.954141                         (0+Capital Loss)\n",
      "1   0.916368                         (0+Capital Gain)\n",
      "2   0.895179                  (United-States+Country)\n",
      "55  0.870509         (0+Capital Gain, 0+Capital Loss)\n",
      "56  0.854028  (0+Capital Loss, United-States+Country)\n"
     ]
    }
   ],
   "source": [
    "d = X_test.drop([sensitive_attribute], axis=1)\n",
    "freq_itemsets = runApriori(preprocessDataset(d), min_support=0.03)\n",
    "freq_itemsets.reset_index()\n",
    "print(freq_itemsets.head())"
   ]
  },
  {
   "cell_type": "code",
   "execution_count": 50,
   "id": "65094b14-a0b0-4289-8e83-c5c24ada8b28",
   "metadata": {},
   "outputs": [
    {
     "name": "stdout",
     "output_type": "stream",
     "text": [
      "       support                                                                                                      itemsets\n",
      "0     0.954141                                                                                              (0+Capital Loss)\n",
      "1     0.916368                                                                                              (0+Capital Gain)\n",
      "2     0.895179                                                                                       (United-States+Country)\n",
      "55    0.870509                                                                              (0+Capital Gain, 0+Capital Loss)\n",
      "56    0.854028                                                                       (0+Capital Loss, United-States+Country)\n",
      "3     0.853823                                                                                                  (White+Race)\n",
      "57    0.819941                                                                       (0+Capital Gain, United-States+Country)\n",
      "59    0.812161                                                                                  (0+Capital Loss, White+Race)\n",
      "60    0.784011                                                                           (White+Race, United-States+Country)\n",
      "61    0.780018                                                                                  (0+Capital Gain, White+Race)\n",
      "58    0.778790                                                       (0+Capital Gain, 0+Capital Loss, United-States+Country)\n",
      "62    0.745624                                                           (0+Capital Loss, White+Race, United-States+Country)\n",
      "63    0.738356                                                                  (0+Capital Gain, 0+Capital Loss, White+Race)\n",
      "64    0.716245                                                           (0+Capital Gain, White+Race, United-States+Country)\n",
      "10    0.692190                                                                                           (Private+Workclass)\n",
      "65    0.677859                                           (0+Capital Gain, 0+Capital Loss, White+Race, United-States+Country)\n",
      "615   0.663835                                                                           (0+Capital Loss, Private+Workclass)\n",
      "616   0.637425                                                                           (0+Capital Gain, Private+Workclass)\n",
      "617   0.613266                                                                    (Private+Workclass, United-States+Country)\n",
      "619   0.609070                                                           (0+Capital Gain, 0+Capital Loss, Private+Workclass)\n",
      "618   0.590337                                                                               (White+Race, Private+Workclass)\n",
      "620   0.587778                                                    (0+Capital Loss, Private+Workclass, United-States+Country)\n",
      "621   0.564541                                                    (0+Capital Gain, Private+Workclass, United-States+Country)\n",
      "623   0.564131                                                               (0+Capital Loss, White+Race, Private+Workclass)\n",
      "624   0.542533                                                               (0+Capital Gain, White+Race, Private+Workclass)\n",
      "622   0.539052                                    (0+Capital Gain, 0+Capital Loss, Private+Workclass, United-States+Country)\n",
      "625   0.537210                                                        (White+Race, Private+Workclass, United-States+Country)\n",
      "626   0.516327                                               (0+Capital Gain, 0+Capital Loss, White+Race, Private+Workclass)\n",
      "627   0.513051                                        (0+Capital Loss, White+Race, Private+Workclass, United-States+Country)\n",
      "628   0.494012                                        (0+Capital Gain, White+Race, Private+Workclass, United-States+Country)\n",
      "629   0.469854                        (0+Capital Loss, White+Race, 0+Capital Gain, United-States+Country, Private+Workclass)\n",
      "12    0.466578                                                                                           (40+Hours per week)\n",
      "23    0.456034                                                                           (Married-civ-spouse+Marital Status)\n",
      "764   0.447026                                                                           (0+Capital Loss, 40+Hours per week)\n",
      "765   0.434128                                                                           (0+Capital Gain, 40+Hours per week)\n",
      "3219  0.426451                                                           (0+Capital Loss, Married-civ-spouse+Marital Status)\n",
      "769   0.414577                                                           (0+Capital Gain, 0+Capital Loss, 40+Hours per week)\n",
      "766   0.412222                                                                    (40+Hours per week, United-States+Country)\n",
      "3220  0.406797                                                               (White+Race, Married-civ-spouse+Marital Status)\n",
      "3221  0.406592                                                    (Married-civ-spouse+Marital Status, United-States+Country)\n",
      "27    0.405671                                                                                        (Husband+Relationship)\n",
      "4064  0.405159                                                     (Husband+Relationship, Married-civ-spouse+Marital Status)\n",
      "3222  0.399939                                                           (0+Capital Gain, Married-civ-spouse+Marital Status)\n",
      "770   0.394513                                                    (0+Capital Loss, 40+Hours per week, United-States+Country)\n",
      "767   0.385300                                                                               (White+Race, 40+Hours per week)\n",
      "771   0.383048                                                    (0+Capital Gain, 40+Hours per week, United-States+Country)\n",
      "3226  0.379875                                    (0+Capital Loss, Married-civ-spouse+Marital Status, United-States+Country)\n",
      "3225  0.379261                                               (0+Capital Loss, White+Race, Married-civ-spouse+Marital Status)\n",
      "4065  0.378954                                                                        (0+Capital Loss, Husband+Relationship)\n",
      "4071  0.378442                                     (0+Capital Loss, Husband+Relationship, Married-civ-spouse+Marital Status)\n",
      "3227  0.374143                                        (Married-civ-spouse+Marital Status, White+Race, United-States+Country)\n",
      "3229  0.370355                                           (0+Capital Gain, 0+Capital Loss, Married-civ-spouse+Marital Status)\n",
      "773   0.368206                                                               (0+Capital Loss, White+Race, 40+Hours per week)\n",
      "772   0.365339                                    (0+Capital Gain, 0+Capital Loss, 40+Hours per week, United-States+Country)\n",
      "4066  0.364828                                                                            (Husband+Relationship, White+Race)\n",
      "4072  0.364316                                         (White+Race, Husband+Relationship, Married-civ-spouse+Marital Status)\n",
      "4067  0.363087                                                                 (Husband+Relationship, United-States+Country)\n",
      "4075  0.362575                              (Married-civ-spouse+Marital Status, Husband+Relationship, United-States+Country)\n",
      "774   0.356741                                                               (0+Capital Gain, White+Race, 40+Hours per week)\n",
      "4068  0.356536                                                                        (0+Capital Gain, Husband+Relationship)\n",
      "3230  0.356434                                    (0+Capital Gain, Married-civ-spouse+Marital Status, United-States+Country)\n",
      "3231  0.356229                                               (0+Capital Gain, White+Race, Married-civ-spouse+Marital Status)\n",
      "4082  0.356024                                     (0+Capital Gain, Husband+Relationship, Married-civ-spouse+Marital Status)\n",
      "775   0.349473                                                        (White+Race, 40+Hours per week, United-States+Country)\n",
      "3228  0.348449                        (0+Capital Loss, Married-civ-spouse+Marital Status, White+Race, United-States+Country)\n",
      "768   0.341181                                                                        (40+Hours per week, Private+Workclass)\n",
      "4073  0.339851                                                            (0+Capital Loss, Husband+Relationship, White+Race)\n",
      "776   0.339646                                               (0+Capital Gain, 0+Capital Loss, White+Race, 40+Hours per week)\n",
      "4074  0.339339                         (White+Race, 0+Capital Loss, Husband+Relationship, Married-civ-spouse+Marital Status)\n",
      "4076  0.339032                                                 (0+Capital Loss, Husband+Relationship, United-States+Country)\n",
      "4078  0.338520              (0+Capital Loss, Married-civ-spouse+Marital Status, Husband+Relationship, United-States+Country)\n",
      "4077  0.336165                                                     (White+Race, Husband+Relationship, United-States+Country)\n",
      "4079  0.335654                  (White+Race, Married-civ-spouse+Marital Status, Husband+Relationship, United-States+Country)\n",
      "777   0.333504                                        (0+Capital Loss, White+Race, 40+Hours per week, United-States+Country)\n",
      "4     0.331457                                                                                (Never-married+Marital Status)\n",
      "4083  0.329819                                                        (0+Capital Gain, 0+Capital Loss, Husband+Relationship)\n",
      "3232  0.329716                    (0+Capital Gain, 0+Capital Loss, Married-civ-spouse+Marital Status, United-States+Country)\n",
      "4086  0.329307                     (0+Capital Gain, 0+Capital Loss, Husband+Relationship, Married-civ-spouse+Marital Status)\n",
      "780   0.329000                                                        (0+Capital Loss, 40+Hours per week, Private+Workclass)\n",
      "3233  0.328693                               (0+Capital Gain, 0+Capital Loss, White+Race, Married-civ-spouse+Marital Status)\n",
      "3234  0.327464                        (0+Capital Gain, Married-civ-spouse+Marital Status, White+Race, United-States+Country)\n",
      "18    0.325110                                                                                             (9+Education-Num)\n",
      "2274  0.325110                                                                          (9+Education-Num, HS-grad+Education)\n",
      "19    0.325110                                                                                           (HS-grad+Education)\n",
      "778   0.323165                                        (0+Capital Gain, White+Race, 40+Hours per week, United-States+Country)\n",
      "66    0.322039                                                                (Never-married+Marital Status, 0+Capital Loss)\n",
      "4084  0.320197                                                            (0+Capital Gain, Husband+Relationship, White+Race)\n",
      "4087  0.319685                         (0+Capital Gain, White+Race, Husband+Relationship, Married-civ-spouse+Marital Status)\n",
      "4085  0.319173                                                 (0+Capital Gain, Husband+Relationship, United-States+Country)\n",
      "4090  0.318661              (0+Capital Gain, Married-civ-spouse+Marital Status, Husband+Relationship, United-States+Country)\n",
      "781   0.318149                                                        (0+Capital Gain, 40+Hours per week, Private+Workclass)\n",
      "67    0.317535                                                                (Never-married+Marital Status, 0+Capital Gain)\n",
      "1956  0.313952                                                                             (9+Education-Num, 0+Capital Loss)\n",
      "2284  0.313952                                                          (9+Education-Num, 0+Capital Loss, HS-grad+Education)\n",
      "2275  0.313952                                                                           (0+Capital Loss, HS-grad+Education)\n",
      "4080  0.312929                                     (White+Race, 0+Capital Loss, Husband+Relationship, United-States+Country)\n",
      "4081  0.312417  (0+Capital Loss, White+Race, United-States+Country, Husband+Relationship, Married-civ-spouse+Marital Status)\n",
      "72    0.308118                                                (Never-married+Marital Status, 0+Capital Gain, 0+Capital Loss)\n",
      "779   0.307196                        (0+Capital Loss, White+Race, 0+Capital Gain, United-States+Country, 40+Hours per week)\n",
      "784   0.305968                                        (0+Capital Gain, 0+Capital Loss, 40+Hours per week, Private+Workclass)\n"
     ]
    }
   ],
   "source": [
    "print(freq_itemsets.head(100).to_string())"
   ]
  },
  {
   "cell_type": "code",
   "execution_count": 51,
   "id": "f5a1ba0c-4bd8-4487-83bb-86d636966b39",
   "metadata": {},
   "outputs": [
    {
     "name": "stdout",
     "output_type": "stream",
     "text": [
      "       support                                           itemsets\n",
      "3463  0.030505  (Some-college+Education, White+Race, Husband+R...\n",
      "5481  0.030505  (9+Education-Num, Other-service+Occupation, Pr...\n",
      "5039  0.030505  (White+Race, 0+Capital Gain, 9+Education-Num, ...\n",
      "368   0.030402  (Own-child+Relationship, Never-married+Marital...\n",
      "5296  0.030402  (0+Capital Loss, White+Race, 0+Capital Gain, A...\n",
      "...        ...                                                ...\n",
      "5543  0.030095  (Married-civ-spouse+Marital Status, Husband+Re...\n",
      "3928  0.030095  (0+Capital Loss, Never-married+Marital Status,...\n",
      "3927  0.030095  (0+Capital Loss, Never-married+Marital Status,...\n",
      "5706  0.030095  (Married-civ-spouse+Marital Status, Masters+Ed...\n",
      "5733  0.030095  (14+Education-Num, Married-civ-spouse+Marital ...\n",
      "\n",
      "[100 rows x 2 columns]\n"
     ]
    }
   ],
   "source": [
    "print(freq_itemsets.tail(100))\n",
    "# print(freq_itemsets.tail(100).to_string()) # uncomment for more details"
   ]
  },
  {
   "cell_type": "markdown",
   "id": "b851a61e-9847-45c6-a427-b1b977d2420a",
   "metadata": {},
   "source": [
    "Next, we use the function `aprioriout2predicateList`, which \"casts\" the output of the frequent itemset mining algorithm to our internal representation of a \"triple\" (as in the ares paper). This representation is the class `Predicate`.\n",
    "\n",
    "RL is the initial set of candidate predicates (taken as the output of the itemset algo), from which we will then pick pairs to represent our rules (as in ares paper)."
   ]
  },
  {
   "cell_type": "code",
   "execution_count": 52,
   "id": "73c82b06-f6db-499d-baed-3414a1d1f692",
   "metadata": {},
   "outputs": [
    {
     "name": "stdout",
     "output_type": "stream",
     "text": [
      "[Predicate(features=['Capital Loss'], values=['0']),\n",
      " Predicate(features=['Capital Gain'], values=['0']),\n",
      " Predicate(features=['Country'], values=['United-States']),\n",
      " Predicate(features=['Capital Gain', 'Capital Loss'], values=['0', '0']),\n",
      " Predicate(features=['Capital Loss', 'Country'], values=['0', 'United-States']),\n",
      " Predicate(features=['Race'], values=['White']),\n",
      " Predicate(features=['Capital Gain', 'Country'], values=['0', 'United-States']),\n",
      " Predicate(features=['Capital Loss', 'Race'], values=['0', 'White']),\n",
      " Predicate(features=['Race', 'Country'], values=['White', 'United-States']),\n",
      " Predicate(features=['Capital Gain', 'Race'], values=['0', 'White'])]\n",
      "5734\n"
     ]
    }
   ],
   "source": [
    "RL = aprioriout2predicateList(freq_itemsets)\n",
    "pprint(RL[:10])\n",
    "print(len(RL))"
   ]
  },
  {
   "cell_type": "markdown",
   "id": "46ab014e-def8-486c-8aca-fc0f0a992508",
   "metadata": {},
   "source": [
    "# Running the optimization procedure"
   ]
  },
  {
   "cell_type": "markdown",
   "id": "8a34a42f-8863-4ed3-95ba-f043e10bd0af",
   "metadata": {},
   "source": [
    "First, just turn the user-defined SD (subgroup descriptors) to predicates."
   ]
  },
  {
   "cell_type": "code",
   "execution_count": 53,
   "id": "f0ea54c6-e650-43f7-a5a4-62d0cbeb1ed3",
   "metadata": {},
   "outputs": [
    {
     "name": "stdout",
     "output_type": "stream",
     "text": [
      "[Predicate(features=['Sex'], values=['Male']), Predicate(features=['Sex'], values=['Female'])]\n"
     ]
    }
   ],
   "source": [
    "SD = list(map(Predicate.from_dict, [\n",
    "    {sensitive_attribute: val} for val in data[sensitive_attribute].unique()\n",
    "]))\n",
    "print(SD)"
   ]
  },
  {
   "cell_type": "code",
   "execution_count": 54,
   "id": "c6f9206c-84ed-4c45-bc30-582ad0208d15",
   "metadata": {},
   "outputs": [],
   "source": [
    "rules = [(Predicate(features=['Sex'], values=['Male']),\n",
    "   Predicate(features=['Education', 'Capital Gain', 'Relationship'], values=['Bachelors', '0', 'Husband']),\n",
    "   Predicate(features=['Education', 'Capital Gain', 'Relationship'], values=['Some-college', '0', 'Husband'])),\n",
    "  (Predicate(features=['Sex'], values=['Female']),\n",
    "   Predicate(features=['Workclass', 'Marital Status', 'Relationship'], values=['Private', 'Divorced', 'Not-in-family']),\n",
    "   Predicate(features=['Workclass', 'Marital Status', 'Relationship'], values=['Private', 'Married-civ-spouse', 'Wife'])),\n",
    "  (Predicate(features=['Sex'], values=['Male']),\n",
    "   Predicate(features=['Education-Num'], values=['9']),\n",
    "   Predicate(features=['Education-Num'], values=['14'])),\n",
    "  (Predicate(features=['Sex'], values=['Male']),\n",
    "   Predicate(features=['Education-Num'], values=['10']),\n",
    "   Predicate(features=['Education-Num'], values=['14'])),\n",
    "  (Predicate(features=['Sex'], values=['Male']),\n",
    "   Predicate(features=['Education', 'Marital Status'], values=['Bachelors', 'Never-married']),\n",
    "   Predicate(features=['Education', 'Marital Status'], values=['Some-college', 'Married-civ-spouse'])),\n",
    "  (Predicate(features=['Sex'], values=['Female']),\n",
    "   Predicate(features=['Marital Status', 'Education-Num'], values=['Married-civ-spouse', '10']),\n",
    "   Predicate(features=['Marital Status', 'Education-Num'], values=['Married-civ-spouse', '13'])),\n",
    "  (Predicate(features=['Sex'], values=['Female']),\n",
    "   Predicate(features=['Marital Status'], values=['Never-married']),\n",
    "   Predicate(features=['Marital Status'], values=['Married-civ-spouse'])),\n",
    "  (Predicate(features=['Sex'], values=['Male']),\n",
    "   Predicate(features=['Education-Num'], values=['11']),\n",
    "   Predicate(features=['Education-Num'], values=['14'])),\n",
    "  (Predicate(features=['Sex'], values=['Male']),\n",
    "   Predicate(features=['Education-Num'], values=['7']),\n",
    "   Predicate(features=['Education-Num'], values=['14'])),\n",
    "  (Predicate(features=['Sex'], values=['Female']),\n",
    "   Predicate(features=['Marital Status', 'Education'], values=['Married-civ-spouse', 'Bachelors']),\n",
    "   Predicate(features=['Marital Status', 'Education'], values=['Married-civ-spouse', 'HS-grad'])),\n",
    "  (Predicate(features=['Sex'], values=['Female']),\n",
    "   Predicate(features=['Marital Status', 'Relationship'], values=['Divorced', 'Unmarried']),\n",
    "   Predicate(features=['Marital Status', 'Relationship'], values=['Married-civ-spouse', 'Wife'])),\n",
    "  (Predicate(features=['Sex'], values=['Male']),\n",
    "   Predicate(features=['Education', 'Capital Loss', 'Race'], values=['Masters', '0', 'White']),\n",
    "   Predicate(features=['Education', 'Capital Loss', 'Race'], values=['Some-college', '0', 'White'])),\n",
    "  (Predicate(features=['Sex'], values=['Male']),\n",
    "   Predicate(features=['Education', 'Education-Num'], values=['Assoc-acdm', '12']),\n",
    "   Predicate(features=['Education', 'Education-Num'], values=['Masters', '14'])),\n",
    "  (Predicate(features=['Sex'], values=['Female']),\n",
    "   Predicate(features=['Capital Loss', 'Education-Num', 'Capital Gain', 'Marital Status'], values=['0', '9', '0', 'Married-civ-spouse']),\n",
    "   Predicate(features=['Capital Loss', 'Education-Num', 'Capital Gain', 'Marital Status'], values=['0', '13', '0', 'Married-civ-spouse']))]"
   ]
  },
  {
   "cell_type": "code",
   "execution_count": 55,
   "id": "6745c943-3bf1-4f54-935f-490e0cb52c50",
   "metadata": {},
   "outputs": [],
   "source": [
    "from recourse_sets import TwoLevelRecourseSet"
   ]
  },
  {
   "cell_type": "code",
   "execution_count": 56,
   "id": "bd3d51c9-9e3a-4a93-880c-34791ac28046",
   "metadata": {},
   "outputs": [],
   "source": [
    "rules = TwoLevelRecourseSet.from_triples(rules)"
   ]
  },
  {
   "cell_type": "code",
   "execution_count": 57,
   "id": "74d95737-c97f-4d59-a466-f1e56c239056",
   "metadata": {},
   "outputs": [
    {
     "name": "stdout",
     "output_type": "stream",
     "text": [
      "If Sex = Female:\n",
      "\tIf Workclass = Private, Marital Status = Divorced, Relationship = Not-in-family,\n",
      "\tThen Workclass = Private, Marital Status = Married-civ-spouse, Relationship = Wife.\n",
      "\tIf Marital Status = Married-civ-spouse, Education-Num = 10,\n",
      "\tThen Marital Status = Married-civ-spouse, Education-Num = 13.\n",
      "\tIf Marital Status = Never-married,\n",
      "\tThen Marital Status = Married-civ-spouse.\n",
      "\tIf Marital Status = Married-civ-spouse, Education = Bachelors,\n",
      "\tThen Marital Status = Married-civ-spouse, Education = HS-grad.\n",
      "\tIf Marital Status = Divorced, Relationship = Unmarried,\n",
      "\tThen Marital Status = Married-civ-spouse, Relationship = Wife.\n",
      "\tIf Capital Loss = 0, Education-Num = 9, Capital Gain = 0, Marital Status = Married-civ-spouse,\n",
      "\tThen Capital Loss = 0, Education-Num = 13, Capital Gain = 0, Marital Status = Married-civ-spouse.\n",
      "If Sex = Male:\n",
      "\tIf Education = Bachelors, Capital Gain = 0, Relationship = Husband,\n",
      "\tThen Education = Some-college, Capital Gain = 0, Relationship = Husband.\n",
      "\tIf Education-Num = 9,\n",
      "\tThen Education-Num = 14.\n",
      "\tIf Education-Num = 10,\n",
      "\tThen Education-Num = 14.\n",
      "\tIf Education = Bachelors, Marital Status = Never-married,\n",
      "\tThen Education = Some-college, Marital Status = Married-civ-spouse.\n",
      "\tIf Education-Num = 11,\n",
      "\tThen Education-Num = 14.\n",
      "\tIf Education-Num = 7,\n",
      "\tThen Education-Num = 14.\n",
      "\tIf Education = Masters, Capital Loss = 0, Race = White,\n",
      "\tThen Education = Some-college, Capital Loss = 0, Race = White.\n",
      "\tIf Education = Assoc-acdm, Education-Num = 12,\n",
      "\tThen Education = Masters, Education-Num = 14.\n",
      "\n"
     ]
    }
   ],
   "source": [
    "print(rules)"
   ]
  },
  {
   "cell_type": "code",
   "execution_count": 58,
   "id": "f2f8d424-d705-4db2-b098-699e3a3a0322",
   "metadata": {},
   "outputs": [
    {
     "data": {
      "text/plain": [
       "array([0, 0, 0, ..., 0, 0, 0])"
      ]
     },
     "execution_count": 58,
     "metadata": {},
     "output_type": "execute_result"
    }
   ],
   "source": [
    "model.predict(X_test)"
   ]
  },
  {
   "cell_type": "code",
   "execution_count": 59,
   "id": "a8dbd9e8-028c-419e-aab9-3d1f3e7ac9b0",
   "metadata": {},
   "outputs": [],
   "source": [
    "from metrics import incorrectRecoursesSubmodular, incorrectRecourses, cover, featureCost, featureChange"
   ]
  },
  {
   "cell_type": "code",
   "execution_count": 60,
   "id": "ee4225c9-bd52-484c-8035-bcbb8df9b9b2",
   "metadata": {},
   "outputs": [
    {
     "name": "stdout",
     "output_type": "stream",
     "text": [
      "(7768, 14)\n"
     ]
    }
   ],
   "source": [
    "print(X_aff.shape)"
   ]
  },
  {
   "cell_type": "code",
   "execution_count": 61,
   "id": "e6b7381d-a2c3-4b1f-a9aa-59b5b2d83d43",
   "metadata": {},
   "outputs": [
    {
     "name": "stdout",
     "output_type": "stream",
     "text": [
      "4814\n",
      "CPU times: total: 14.1 s\n",
      "Wall time: 2.96 s\n"
     ]
    }
   ],
   "source": [
    "%%time\n",
    "print(incorrectRecoursesSubmodular(rules, X_aff, model))"
   ]
  },
  {
   "cell_type": "code",
   "execution_count": 62,
   "id": "1af2b2bf-24dc-4325-aad6-bcf1bb231294",
   "metadata": {},
   "outputs": [
    {
     "name": "stdout",
     "output_type": "stream",
     "text": [
      "4814\n",
      "CPU times: total: 3.83 s\n",
      "Wall time: 5.56 s\n"
     ]
    }
   ],
   "source": [
    "%%time\n",
    "print(incorrectRecourses(rules, X_aff, model))"
   ]
  },
  {
   "cell_type": "code",
   "execution_count": 63,
   "id": "5d07d493-392f-47d6-b4cd-c6f71b701da8",
   "metadata": {},
   "outputs": [
    {
     "name": "stdout",
     "output_type": "stream",
     "text": [
      "6213\n",
      "CPU times: total: 859 ms\n",
      "Wall time: 783 ms\n"
     ]
    }
   ],
   "source": [
    "%%time\n",
    "print(cover(rules, X_aff))"
   ]
  },
  {
   "cell_type": "code",
   "execution_count": 64,
   "id": "7f754b8d-7bc7-442a-8843-4154c17b3460",
   "metadata": {},
   "outputs": [
    {
     "name": "stdout",
     "output_type": "stream",
     "text": [
      "If Sex = Female:\n",
      "\tIf Workclass = Private, Marital Status = Divorced, Relationship = Not-in-family,\n",
      "\tThen Workclass = Private, Marital Status = Married-civ-spouse, Relationship = Wife.\n",
      "\t\tCoverage: 2.896% over all affected.\n",
      "\t\tIncorrect recourses additive: 63.556% over all individuals covered by this rule.\n",
      "\t\tIncorrect recourses at-least-one: 63.556% over all individuals covered by this rule.\n",
      "\tIf Marital Status = Married-civ-spouse, Education-Num = 10,\n",
      "\tThen Marital Status = Married-civ-spouse, Education-Num = 13.\n",
      "\t\tCoverage: 0.554% over all affected.\n",
      "\t\tIncorrect recourses additive: 88.372% over all individuals covered by this rule.\n",
      "\t\tIncorrect recourses at-least-one: 88.372% over all individuals covered by this rule.\n",
      "\tIf Marital Status = Never-married,\n",
      "\tThen Marital Status = Married-civ-spouse.\n",
      "\t\tCoverage: 18.409% over all affected.\n",
      "\t\tIncorrect recourses additive: 92.448% over all individuals covered by this rule.\n",
      "\t\tIncorrect recourses at-least-one: 92.448% over all individuals covered by this rule.\n",
      "\tIf Marital Status = Married-civ-spouse, Education = Bachelors,\n",
      "\tThen Marital Status = Married-civ-spouse, Education = HS-grad.\n",
      "\t\tCoverage: 0.232% over all affected.\n",
      "\t\tIncorrect recourses additive: 83.333% over all individuals covered by this rule.\n",
      "\t\tIncorrect recourses at-least-one: 83.333% over all individuals covered by this rule.\n",
      "\tIf Marital Status = Divorced, Relationship = Unmarried,\n",
      "\tThen Marital Status = Married-civ-spouse, Relationship = Wife.\n",
      "\t\tCoverage: 4.943% over all affected.\n",
      "\t\tIncorrect recourses additive: 58.854% over all individuals covered by this rule.\n",
      "\t\tIncorrect recourses at-least-one: 58.854% over all individuals covered by this rule.\n",
      "\tIf Capital Loss = 0, Education-Num = 9, Capital Gain = 0, Marital Status = Married-civ-spouse,\n",
      "\tThen Capital Loss = 0, Education-Num = 13, Capital Gain = 0, Marital Status = Married-civ-spouse.\n",
      "\t\tCoverage: 1.390% over all affected.\n",
      "\t\tIncorrect recourses additive: 59.259% over all individuals covered by this rule.\n",
      "\t\tIncorrect recourses at-least-one: 59.259% over all individuals covered by this rule.\n",
      "If Sex = Male:\n",
      "\tIf Education = Bachelors, Capital Gain = 0, Relationship = Husband,\n",
      "\tThen Education = Some-college, Capital Gain = 0, Relationship = Husband.\n",
      "\t\tCoverage: 2.188% over all affected.\n",
      "\t\tIncorrect recourses additive: 91.765% over all individuals covered by this rule.\n",
      "\t\tIncorrect recourses at-least-one: 91.765% over all individuals covered by this rule.\n",
      "\tIf Education-Num = 9,\n",
      "\tThen Education-Num = 14.\n",
      "\t\tCoverage: 24.485% over all affected.\n",
      "\t\tIncorrect recourses additive: 72.345% over all individuals covered by this rule.\n",
      "\t\tIncorrect recourses at-least-one: 72.345% over all individuals covered by this rule.\n",
      "\tIf Education-Num = 10,\n",
      "\tThen Education-Num = 14.\n",
      "\t\tCoverage: 13.131% over all affected.\n",
      "\t\tIncorrect recourses additive: 76.961% over all individuals covered by this rule.\n",
      "\t\tIncorrect recourses at-least-one: 76.961% over all individuals covered by this rule.\n",
      "\tIf Education = Bachelors, Marital Status = Never-married,\n",
      "\tThen Education = Some-college, Marital Status = Married-civ-spouse.\n",
      "\t\tCoverage: 3.308% over all affected.\n",
      "\t\tIncorrect recourses additive: 71.595% over all individuals covered by this rule.\n",
      "\t\tIncorrect recourses at-least-one: 71.595% over all individuals covered by this rule.\n",
      "\tIf Education-Num = 11,\n",
      "\tThen Education-Num = 14.\n",
      "\t\tCoverage: 2.485% over all affected.\n",
      "\t\tIncorrect recourses additive: 71.503% over all individuals covered by this rule.\n",
      "\t\tIncorrect recourses at-least-one: 71.503% over all individuals covered by this rule.\n",
      "\tIf Education-Num = 7,\n",
      "\tThen Education-Num = 14.\n",
      "\t\tCoverage: 2.794% over all affected.\n",
      "\t\tIncorrect recourses additive: 84.793% over all individuals covered by this rule.\n",
      "\t\tIncorrect recourses at-least-one: 84.793% over all individuals covered by this rule.\n",
      "\tIf Education = Masters, Capital Loss = 0, Race = White,\n",
      "\tThen Education = Some-college, Capital Loss = 0, Race = White.\n",
      "\t\tCoverage: 1.210% over all affected.\n",
      "\t\tIncorrect recourses additive: 88.298% over all individuals covered by this rule.\n",
      "\t\tIncorrect recourses at-least-one: 88.298% over all individuals covered by this rule.\n",
      "\tIf Education = Assoc-acdm, Education-Num = 12,\n",
      "\tThen Education = Masters, Education-Num = 14.\n",
      "\t\tCoverage: 1.957% over all affected.\n",
      "\t\tIncorrect recourses additive: 65.789% over all individuals covered by this rule.\n",
      "\t\tIncorrect recourses at-least-one: 65.789% over all individuals covered by this rule.\n",
      "\n"
     ]
    }
   ],
   "source": [
    "print(lib2.recourse_report(rules, X_aff, model))"
   ]
  },
  {
   "cell_type": "markdown",
   "id": "e2b5d8d5-0ec3-4d30-89e2-540b15c5ebe7",
   "metadata": {},
   "source": [
    "Now, we run the submodular optimization."
   ]
  },
  {
   "cell_type": "code",
   "execution_count": 28,
   "id": "ad20d992-c4a0-4cd6-829d-8f100a492602",
   "metadata": {},
   "outputs": [
    {
     "name": "stdout",
     "output_type": "stream",
     "text": [
      "Total triples = 52\n",
      "Calculated incorrect recourse for each triple\n",
      "Calculated feature costs for each triple\n",
      "Calculated feature changes for each feature\n",
      "Calculated covers for each triple\n",
      "CPU times: total: 8.2 s\n",
      "Wall time: 987 ms\n"
     ]
    }
   ],
   "source": [
    "%%time\n",
    "\n",
    "ifthen_triples = np.random.choice(RL, 400, replace=False)\n",
    "affected_sample = X_aff.iloc[np.random.choice(X_aff.shape[0], size=400, replace=False), :]\n",
    "final_rules = optimize(SD, ifthen_triples, affected_sample, model)"
   ]
  },
  {
   "cell_type": "code",
   "execution_count": 29,
   "id": "772e423c-bf86-4227-ac37-c8985730be98",
   "metadata": {},
   "outputs": [
    {
     "data": {
      "text/plain": [
       "([(Predicate(features=['Sex'], values=['Male']),\n",
       "   Predicate(features=['Occupation', 'Marital Status', 'Race'], values=['Craft-repair', 'Married-civ-spouse', 'White']),\n",
       "   Predicate(features=['Occupation', 'Marital Status', 'Race'], values=['Exec-managerial', 'Married-civ-spouse', 'White'])),\n",
       "  (Predicate(features=['Sex'], values=['Female']),\n",
       "   Predicate(features=['Marital Status', 'Country', 'Hours per week', 'Capital Gain', 'Capital Loss'], values=['Never-married', 'United-States', '40', '0', '0']),\n",
       "   Predicate(features=['Marital Status', 'Country', 'Hours per week', 'Capital Gain', 'Capital Loss'], values=['Married-civ-spouse', 'United-States', '50', '0', '0']))],\n",
       " -43,\n",
       " 59,\n",
       " -3,\n",
       " -3)"
      ]
     },
     "execution_count": 29,
     "metadata": {},
     "output_type": "execute_result"
    }
   ],
   "source": [
    "final_rules"
   ]
  },
  {
   "cell_type": "code",
   "execution_count": 33,
   "id": "07a1102e-30f3-4117-8f3d-a081fd470cfe",
   "metadata": {},
   "outputs": [
    {
     "name": "stdout",
     "output_type": "stream",
     "text": [
      "If Sex = Female:\n",
      "\tIf Marital Status = Never-married, Country = United-States, Hours per week = 40, Capital Gain = 0, Capital Loss = 0,\n",
      "\tThen Marital Status = Married-civ-spouse, Country = United-States, Hours per week = 50, Capital Gain = 0, Capital Loss = 0\n",
      "If Sex = Male:\n",
      "\tIf Occupation = Craft-repair, Marital Status = Married-civ-spouse, Race = White,\n",
      "\tThen Occupation = Exec-managerial, Marital Status = Married-civ-spouse, Race = White\n",
      "\n"
     ]
    }
   ],
   "source": [
    "print(two_level_recourses)"
   ]
  },
  {
   "cell_type": "code",
   "execution_count": 35,
   "id": "4ca2e394-f336-460d-876c-453df9a73057",
   "metadata": {},
   "outputs": [
    {
     "name": "stdout",
     "output_type": "stream",
     "text": [
      "832\n",
      "832\n",
      "1073\n",
      "3\n",
      "3\n"
     ]
    }
   ],
   "source": [
    "two_level_recourses = TwoLevelRecourseSet.from_triples(final_rules[0])\n",
    "\n",
    "print(incorrectRecourses(two_level_recourses, X_aff, model))\n",
    "print(incorrectRecoursesSubmodular(two_level_recourses, X_aff, model))\n",
    "print(cover(two_level_recourses, X_aff))\n",
    "print(featureCost(two_level_recourses))\n",
    "print(featureChange(two_level_recourses))"
   ]
  },
  {
   "cell_type": "code",
   "execution_count": 29,
   "id": "b01f3a28-0120-4947-80f6-80a88b52aa5c",
   "metadata": {},
   "outputs": [
    {
     "name": "stdout",
     "output_type": "stream",
     "text": [
      "TwoLevelRecourseSet(feature='Sex', values=['Female', 'Male'], rules={'Female': RecourseSet(hypotheses=[Predicate(features=['Marital Status', 'Workclass'], values=['Divorced', 'Private'])], suggestions=[Predicate(features=['Marital Status', 'Workclass'], values=['Married-civ-spouse', 'Private'])]), 'Male': RecourseSet(hypotheses=[Predicate(features=['Marital Status', 'Workclass'], values=['Divorced', 'Private']), Predicate(features=['Capital Gain', 'Marital Status', 'Country', 'Education'], values=['0', 'Never-married', 'United-States', 'Bachelors'])], suggestions=[Predicate(features=['Marital Status', 'Workclass'], values=['Married-civ-spouse', 'Private']), Predicate(features=['Capital Gain', 'Marital Status', 'Country', 'Education'], values=['0', 'Married-civ-spouse', 'United-States', 'Bachelors'])])})\n"
     ]
    }
   ],
   "source": [
    "pprint(TwoLevelRecourseSet.from_triples(final_rules[0]))"
   ]
  },
  {
   "cell_type": "code",
   "execution_count": 65,
   "id": "a5073d7c-4c29-4d2f-a7ab-627f6996aa03",
   "metadata": {},
   "outputs": [],
   "source": [
    "from optimization import _optimize"
   ]
  },
  {
   "cell_type": "code",
   "execution_count": 66,
   "id": "a41b506c-7219-4c19-a3bc-eefd216eb8ee",
   "metadata": {},
   "outputs": [
    {
     "name": "stdout",
     "output_type": "stream",
     "text": [
      "6535\n",
      "8680\n",
      "6492\n",
      "7890\n"
     ]
    }
   ],
   "source": [
    "len(RL)\n",
    "print(len(RL_ma))\n",
    "print(len(RL_mu))\n",
    "print(len(RL_fa))\n",
    "print(len(RL_fu))"
   ]
  },
  {
   "cell_type": "code",
   "execution_count": 69,
   "id": "da7bb75d-2121-4363-9720-ecfe11b73cee",
   "metadata": {},
   "outputs": [
    {
     "name": "stdout",
     "output_type": "stream",
     "text": [
      "Total triples = 294\n",
      "Calculated incorrect recourse for each triple\n",
      "Calculated feature costs for each triple\n",
      "Calculated feature changes for each feature\n",
      "Calculated covers for each triple\n",
      "CPU times: total: 4min 52s\n",
      "Wall time: 1min 17s\n"
     ]
    }
   ],
   "source": [
    "%%time\n",
    "\n",
    "final_rules_separate = _optimize(\n",
    "    SD,\n",
    "    ifs={\"Male\": RL_ma[:500], \"Female\": RL_fa[:500]},\n",
    "    thens={\"Male\": RL_mu[:500], \"Female\": RL_fu[:500]},\n",
    "    X_aff=X_aff,\n",
    "    model=model,\n",
    "    params=params\n",
    ")"
   ]
  },
  {
   "cell_type": "code",
   "execution_count": 70,
   "id": "d02a1ee3-9488-4172-a6bb-4dd109e9f423",
   "metadata": {},
   "outputs": [
    {
     "name": "stdout",
     "output_type": "stream",
     "text": [
      "([], 0, 0, 0, 0)\n"
     ]
    }
   ],
   "source": [
    "pprint(final_rules_separate)"
   ]
  },
  {
   "cell_type": "code",
   "execution_count": 38,
   "id": "7b9d3c22-382f-4069-b5f5-0fcf3eabcdea",
   "metadata": {},
   "outputs": [
    {
     "ename": "IndexError",
     "evalue": "list index out of range",
     "output_type": "error",
     "traceback": [
      "\u001b[1;31m---------------------------------------------------------------------------\u001b[0m",
      "\u001b[1;31mIndexError\u001b[0m                                Traceback (most recent call last)",
      "File \u001b[1;32m<timed exec>:1\u001b[0m\n",
      "File \u001b[1;32m~\\Documents\\Εργασία\\Counterfactuals\\ares\\recourse_sets.py:55\u001b[0m, in \u001b[0;36mTwoLevelRecourseSet.from_triples\u001b[1;34m(l)\u001b[0m\n\u001b[0;32m     53\u001b[0m \u001b[38;5;129m@staticmethod\u001b[39m\n\u001b[0;32m     54\u001b[0m \u001b[38;5;28;01mdef\u001b[39;00m \u001b[38;5;21mfrom_triples\u001b[39m(l: List[Tuple[Predicate, Predicate, Predicate]]):\n\u001b[1;32m---> 55\u001b[0m     feat \u001b[38;5;241m=\u001b[39m \u001b[43ml\u001b[49m\u001b[43m[\u001b[49m\u001b[38;5;241;43m0\u001b[39;49m\u001b[43m]\u001b[49m[\u001b[38;5;241m0\u001b[39m]\u001b[38;5;241m.\u001b[39mfeatures[\u001b[38;5;241m0\u001b[39m]\n\u001b[0;32m     56\u001b[0m     values \u001b[38;5;241m=\u001b[39m np\u001b[38;5;241m.\u001b[39munique([t[\u001b[38;5;241m0\u001b[39m]\u001b[38;5;241m.\u001b[39mvalues[\u001b[38;5;241m0\u001b[39m] \u001b[38;5;28;01mfor\u001b[39;00m t \u001b[38;5;129;01min\u001b[39;00m l])\u001b[38;5;241m.\u001b[39mtolist()\n\u001b[0;32m     57\u001b[0m     rules \u001b[38;5;241m=\u001b[39m {val: RecourseSet() \u001b[38;5;28;01mfor\u001b[39;00m val \u001b[38;5;129;01min\u001b[39;00m values}\n",
      "\u001b[1;31mIndexError\u001b[0m: list index out of range"
     ]
    }
   ],
   "source": [
    "%%time\n",
    "\n",
    "rules_separate = TwoLevelRecourseSet.from_triples(final_rules_separate[0])\n",
    "print(f\"X_aff shape: {X_aff.shape}\")\n",
    "print(f\"Incorrect recourses as in AReS: {incorrectRecourses(rules_separate, X_aff, model)}\")\n",
    "print(f\"Incorrect recourses at-least-one: {incorrectRecoursesSubmodular(rules_separate, X_aff, model)}\")\n",
    "print(f\"Individuals covered: {cover(rules_separate, X_aff)}\")"
   ]
  },
  {
   "cell_type": "code",
   "execution_count": 39,
   "id": "4767983e-6d52-47ef-b15e-ccf73b9e0300",
   "metadata": {},
   "outputs": [
    {
     "ename": "NameError",
     "evalue": "name 'rules_separate' is not defined",
     "output_type": "error",
     "traceback": [
      "\u001b[1;31m---------------------------------------------------------------------------\u001b[0m",
      "\u001b[1;31mNameError\u001b[0m                                 Traceback (most recent call last)",
      "Cell \u001b[1;32mIn [39], line 1\u001b[0m\n\u001b[1;32m----> 1\u001b[0m \u001b[38;5;28mprint\u001b[39m(lib2\u001b[38;5;241m.\u001b[39mrecourse_report(\u001b[43mrules_separate\u001b[49m, X_aff, model))\n",
      "\u001b[1;31mNameError\u001b[0m: name 'rules_separate' is not defined"
     ]
    }
   ],
   "source": [
    "print(lib2.recourse_report(rules_separate, X_aff, model))"
   ]
  },
  {
   "cell_type": "code",
   "execution_count": 59,
   "id": "5e5f6273-b32d-4e42-8b1c-02206a6cbe01",
   "metadata": {},
   "outputs": [
    {
     "name": "stdout",
     "output_type": "stream",
     "text": [
      "([(Predicate(features=['Sex'], values=['Male']),\n",
      "   Predicate(features=['Capital Gain'], values=['0']),\n",
      "   Predicate(features=['Capital Gain'], values=['15024'])),\n",
      "  (Predicate(features=['Sex'], values=['Female']),\n",
      "   Predicate(features=['Capital Gain'], values=['0']),\n",
      "   Predicate(features=['Capital Gain'], values=['15024']))],\n",
      " -42,\n",
      " 386,\n",
      " -2,\n",
      " -2)\n"
     ]
    }
   ],
   "source": [
    "pprint(final_rules_separate)"
   ]
  },
  {
   "cell_type": "code",
   "execution_count": 26,
   "id": "d09922bb-2571-49e0-b05f-9ec11d845831",
   "metadata": {},
   "outputs": [
    {
     "name": "stdout",
     "output_type": "stream",
     "text": [
      "Total triples = 12836\n",
      "X_aff shape before: (7754, 14)\n",
      "Calculated incorrect recourse for each triple\n",
      "Calculated feature costs for each triple\n",
      "Calculated feature changes for each feature\n",
      "X_aff shape after: (7754, 14)\n",
      "Calculated covers for each triple\n",
      "141\n",
      "CPU times: total: 3h 57min 21s\n",
      "Wall time: 46min 35s\n"
     ]
    }
   ],
   "source": [
    "%%time\n",
    "\n",
    "final_rules = optimize(SD, RL, X_aff, model)"
   ]
  },
  {
   "cell_type": "code",
   "execution_count": 27,
   "id": "d2c0059b-1425-4f9a-8a60-8d78584fb60f",
   "metadata": {},
   "outputs": [
    {
     "name": "stdout",
     "output_type": "stream",
     "text": [
      "([(Predicate(features=['Sex'], values=['Male']),\n",
      "   Predicate(features=['Education', 'Capital Gain', 'Relationship'], values=['Bachelors', '0', 'Husband']),\n",
      "   Predicate(features=['Education', 'Capital Gain', 'Relationship'], values=['Some-college', '0', 'Husband'])),\n",
      "  (Predicate(features=['Sex'], values=['Female']),\n",
      "   Predicate(features=['Workclass', 'Marital Status', 'Relationship'], values=['Private', 'Divorced', 'Not-in-family']),\n",
      "   Predicate(features=['Workclass', 'Marital Status', 'Relationship'], values=['Private', 'Married-civ-spouse', 'Wife'])),\n",
      "  (Predicate(features=['Sex'], values=['Male']),\n",
      "   Predicate(features=['Education-Num'], values=['9']),\n",
      "   Predicate(features=['Education-Num'], values=['14'])),\n",
      "  (Predicate(features=['Sex'], values=['Male']),\n",
      "   Predicate(features=['Education-Num'], values=['10']),\n",
      "   Predicate(features=['Education-Num'], values=['14'])),\n",
      "  (Predicate(features=['Sex'], values=['Male']),\n",
      "   Predicate(features=['Education', 'Marital Status'], values=['Bachelors', 'Never-married']),\n",
      "   Predicate(features=['Education', 'Marital Status'], values=['Some-college', 'Married-civ-spouse'])),\n",
      "  (Predicate(features=['Sex'], values=['Female']),\n",
      "   Predicate(features=['Marital Status', 'Education-Num'], values=['Married-civ-spouse', '10']),\n",
      "   Predicate(features=['Marital Status', 'Education-Num'], values=['Married-civ-spouse', '13'])),\n",
      "  (Predicate(features=['Sex'], values=['Female']),\n",
      "   Predicate(features=['Marital Status'], values=['Never-married']),\n",
      "   Predicate(features=['Marital Status'], values=['Married-civ-spouse'])),\n",
      "  (Predicate(features=['Sex'], values=['Male']),\n",
      "   Predicate(features=['Education-Num'], values=['11']),\n",
      "   Predicate(features=['Education-Num'], values=['14'])),\n",
      "  (Predicate(features=['Sex'], values=['Male']),\n",
      "   Predicate(features=['Education-Num'], values=['7']),\n",
      "   Predicate(features=['Education-Num'], values=['14'])),\n",
      "  (Predicate(features=['Sex'], values=['Female']),\n",
      "   Predicate(features=['Marital Status', 'Education'], values=['Married-civ-spouse', 'Bachelors']),\n",
      "   Predicate(features=['Marital Status', 'Education'], values=['Married-civ-spouse', 'HS-grad'])),\n",
      "  (Predicate(features=['Sex'], values=['Female']),\n",
      "   Predicate(features=['Marital Status', 'Relationship'], values=['Divorced', 'Unmarried']),\n",
      "   Predicate(features=['Marital Status', 'Relationship'], values=['Married-civ-spouse', 'Wife'])),\n",
      "  (Predicate(features=['Sex'], values=['Male']),\n",
      "   Predicate(features=['Education', 'Capital Loss', 'Race'], values=['Masters', '0', 'White']),\n",
      "   Predicate(features=['Education', 'Capital Loss', 'Race'], values=['Some-college', '0', 'White'])),\n",
      "  (Predicate(features=['Sex'], values=['Male']),\n",
      "   Predicate(features=['Education', 'Education-Num'], values=['Assoc-acdm', '12']),\n",
      "   Predicate(features=['Education', 'Education-Num'], values=['Masters', '14'])),\n",
      "  (Predicate(features=['Sex'], values=['Female']),\n",
      "   Predicate(features=['Capital Loss', 'Education-Num', 'Capital Gain', 'Marital Status'], values=['0', '9', '0', 'Married-civ-spouse']),\n",
      "   Predicate(features=['Capital Loss', 'Education-Num', 'Capital Gain', 'Marital Status'], values=['0', '13', '0', 'Married-civ-spouse']))],\n",
      " -4736,\n",
      " 6238,\n",
      " -18,\n",
      " -18)\n"
     ]
    }
   ],
   "source": [
    "pprint(final_rules)"
   ]
  },
  {
   "cell_type": "code",
   "execution_count": 20,
   "id": "f9e17395-fdeb-47c5-be13-953112cfd710",
   "metadata": {},
   "outputs": [
    {
     "name": "stdout",
     "output_type": "stream",
     "text": [
      "(7754, 14)\n"
     ]
    }
   ],
   "source": [
    "print(X_aff.shape)"
   ]
  },
  {
   "cell_type": "code",
   "execution_count": 19,
   "id": "6bfcb64f-9b70-4cc7-b200-1b533797b950",
   "metadata": {},
   "outputs": [
    {
     "name": "stdout",
     "output_type": "stream",
     "text": [
      "Total triples = 364\n",
      "X_aff shape before: (400, 14)\n",
      "Calculated incorrect recourse for each triple\n",
      "Calculated feature costs for each triple\n",
      "Calculated feature changes for each feature\n",
      "X_aff shape after: (400, 14)\n",
      "Calculated covers for each triple\n",
      "24\n",
      "CPU times: total: 50.1 s\n",
      "Wall time: 6.28 s\n"
     ]
    }
   ],
   "source": [
    "%%time\n",
    "\n",
    "final_rules = optimize(SD, RL[:400], X_aff[:400], model)"
   ]
  },
  {
   "cell_type": "code",
   "execution_count": 20,
   "id": "dc6528fb-0306-4167-a7d3-50c9214569b2",
   "metadata": {},
   "outputs": [
    {
     "name": "stdout",
     "output_type": "stream",
     "text": [
      "([(Predicate(features=['Sex'], values=['Male']),\n",
      "   Predicate(features=['Education-Num'], values=['10']),\n",
      "   Predicate(features=['Education-Num'], values=['13'])),\n",
      "  (Predicate(features=['Sex'], values=['Female']),\n",
      "   Predicate(features=['Marital Status'], values=['Never-married']),\n",
      "   Predicate(features=['Marital Status'], values=['Married-civ-spouse'])),\n",
      "  (Predicate(features=['Sex'], values=['Male']),\n",
      "   Predicate(features=['Education', 'Education-Num'], values=['HS-grad', '9']),\n",
      "   Predicate(features=['Education', 'Education-Num'], values=['Bachelors', '13']))],\n",
      " -176,\n",
      " 222,\n",
      " -4,\n",
      " -4)\n"
     ]
    }
   ],
   "source": [
    "pprint(final_rules)"
   ]
  },
  {
   "cell_type": "code",
   "execution_count": 19,
   "id": "ee919b95-0d0b-444d-bf88-d276ab506a62",
   "metadata": {},
   "outputs": [
    {
     "name": "stdout",
     "output_type": "stream",
     "text": [
      "([(Predicate(features=['Sex'], values=['Male']),\n",
      "   Predicate(features=['Marital Status'], values=['Never-married']),\n",
      "   Predicate(features=['Marital Status'], values=['Married-civ-spouse'])),\n",
      "  (Predicate(features=['Sex'], values=['Male']),\n",
      "   Predicate(features=['Relationship'], values=['Husband']),\n",
      "   Predicate(features=['Relationship'], values=['Not-in-family'])),\n",
      "  (Predicate(features=['Sex'], values=['Female']),\n",
      "   Predicate(features=['Marital Status'], values=['Never-married']),\n",
      "   Predicate(features=['Marital Status'], values=['Married-civ-spouse']))],\n",
      " -5121,\n",
      " 5464,\n",
      " -3,\n",
      " -3)\n"
     ]
    }
   ],
   "source": [
    "pprint(final_rules)"
   ]
  },
  {
   "cell_type": "code",
   "execution_count": 30,
   "id": "3225903c-1b73-416e-a507-998c96908b2b",
   "metadata": {},
   "outputs": [
    {
     "name": "stdout",
     "output_type": "stream",
     "text": [
      "([(Predicate(features=['Sex'], values=['Male']),\n",
      "   Predicate(features=['Education-Num'], values=['10']),\n",
      "   Predicate(features=['Education-Num'], values=['13'])),\n",
      "  (Predicate(features=['Sex'], values=['Female']),\n",
      "   Predicate(features=['Marital Status'], values=['Never-married']),\n",
      "   Predicate(features=['Marital Status'], values=['Married-civ-spouse'])),\n",
      "  (Predicate(features=['Sex'], values=['Male']),\n",
      "   Predicate(features=['Education-Num'], values=['9']),\n",
      "   Predicate(features=['Education-Num'], values=['13'])),\n",
      "  (Predicate(features=['Sex'], values=['Male']),\n",
      "   Predicate(features=['Education'], values=['Bachelors']),\n",
      "   Predicate(features=['Education'], values=['Some-college']))],\n",
      " -4085,\n",
      " 4845,\n",
      " -4,\n",
      " -4)\n"
     ]
    }
   ],
   "source": [
    "pprint(final_rules)"
   ]
  },
  {
   "cell_type": "code",
   "execution_count": 30,
   "id": "c69f23da-d2e4-4e43-bba4-29bf4b6ef53d",
   "metadata": {},
   "outputs": [
    {
     "name": "stdout",
     "output_type": "stream",
     "text": [
      "([(Predicate(features=['Sex'], values=['Male']),\n",
      "   Predicate(features=['Education-Num'], values=['10']),\n",
      "   Predicate(features=['Education-Num'], values=['13'])),\n",
      "  (Predicate(features=['Sex'], values=['Female']),\n",
      "   Predicate(features=['Marital Status'], values=['Never-married']),\n",
      "   Predicate(features=['Marital Status'], values=['Married-civ-spouse'])),\n",
      "  (Predicate(features=['Sex'], values=['Male']),\n",
      "   Predicate(features=['Education-Num'], values=['9']),\n",
      "   Predicate(features=['Education-Num'], values=['13'])),\n",
      "  (Predicate(features=['Sex'], values=['Male']),\n",
      "   Predicate(features=['Education'], values=['Bachelors']),\n",
      "   Predicate(features=['Education'], values=['Some-college']))],\n",
      " -4085,\n",
      " 4845,\n",
      " -4,\n",
      " -4)\n"
     ]
    }
   ],
   "source": [
    "pprint(final_rules)"
   ]
  },
  {
   "cell_type": "code",
   "execution_count": 19,
   "id": "ac7ec3b4-c006-4dfb-b584-96fbbe479c27",
   "metadata": {},
   "outputs": [
    {
     "name": "stdout",
     "output_type": "stream",
     "text": [
      "([(Predicate(features=['Sex'], values=['Female']),\n",
      "   Predicate(features=['Marital Status'], values=['Never-married']),\n",
      "   Predicate(features=['Marital Status'], values=['Married-civ-spouse']))],\n",
      " -1248,\n",
      " 1362,\n",
      " -1,\n",
      " -1)\n"
     ]
    }
   ],
   "source": [
    "pprint(final_rules)"
   ]
  },
  {
   "cell_type": "code",
   "execution_count": 38,
   "id": "7adcc281-b63a-4068-9a43-9ae9bfcbd34f",
   "metadata": {},
   "outputs": [
    {
     "name": "stdout",
     "output_type": "stream",
     "text": [
      "([(Predicate(features=['Sex'], values=['Female']),\n",
      "   Predicate(features=['Marital Status'], values=['Never-married']),\n",
      "   Predicate(features=['Marital Status'], values=['Married-civ-spouse']))],\n",
      " -67,\n",
      " 72,\n",
      " -1,\n",
      " -1)\n"
     ]
    }
   ],
   "source": [
    "pprint(final_rules)"
   ]
  },
  {
   "cell_type": "code",
   "execution_count": 19,
   "id": "04b69c8e-f34d-4d4a-bef7-08f8e28099be",
   "metadata": {},
   "outputs": [
    {
     "name": "stdout",
     "output_type": "stream",
     "text": [
      "([(Predicate(features=['Sex'], values=['Female']),\n",
      "   Predicate(features=['Marital Status'], values=['Never-married']),\n",
      "   Predicate(features=['Marital Status'], values=['Married-civ-spouse']))],\n",
      " -70,\n",
      " 75,\n",
      " -1,\n",
      " -1)\n"
     ]
    }
   ],
   "source": [
    "pprint(final_rules)"
   ]
  },
  {
   "cell_type": "code",
   "execution_count": 29,
   "id": "1a45b5eb-a88a-4987-a5fe-f6174b25900a",
   "metadata": {},
   "outputs": [
    {
     "name": "stdout",
     "output_type": "stream",
     "text": [
      "([(Predicate(features=['Sex'], values=['Female']),\n",
      "   Predicate(features=['Education-Num'], values=['9']),\n",
      "   Predicate(features=['Education-Num'], values=['13'])),\n",
      "  (Predicate(features=['Sex'], values=['Male']),\n",
      "   Predicate(features=['Education-Num'], values=['9']),\n",
      "   Predicate(features=['Education-Num'], values=['13'])),\n",
      "  (Predicate(features=['Sex'], values=['Male']),\n",
      "   Predicate(features=['Education-Num'], values=['10']),\n",
      "   Predicate(features=['Education-Num'], values=['13']))],\n",
      " -159,\n",
      " 206,\n",
      " -3,\n",
      " -3)\n"
     ]
    }
   ],
   "source": [
    "pprint(final_rules)"
   ]
  },
  {
   "cell_type": "code",
   "execution_count": null,
   "id": "41479477-99d4-4691-b119-4b8c7c6c1eae",
   "metadata": {},
   "outputs": [],
   "source": []
  }
 ],
 "metadata": {
  "kernelspec": {
   "display_name": "Python 3 (ipykernel)",
   "language": "python",
   "name": "python3"
  },
  "language_info": {
   "codemirror_mode": {
    "name": "ipython",
    "version": 3
   },
   "file_extension": ".py",
   "mimetype": "text/x-python",
   "name": "python",
   "nbconvert_exporter": "python",
   "pygments_lexer": "ipython3",
   "version": "3.9.15"
  }
 },
 "nbformat": 4,
 "nbformat_minor": 5
}
