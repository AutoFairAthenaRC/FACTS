{
 "cells": [
  {
   "cell_type": "code",
   "execution_count": 1,
   "id": "d9ad0eb4-af28-40fa-809f-b594911a2eed",
   "metadata": {},
   "outputs": [],
   "source": [
    "import numpy as np\n",
    "import pandas as pd\n",
    "from pprint import pprint\n",
    "\n",
    "from sklearn.model_selection import train_test_split\n",
    "from sklearn.metrics import classification_report\n",
    "\n",
    "# place all *.py files in the same folder\n",
    "import lib2\n",
    "from lib2 import Predicate, optimize\n",
    "from models import customXGB\n",
    "from apriori import preprocessDataset, runApriori, aprioriout2predicateList\n",
    "\n",
    "import matplotlib.pyplot as plt"
   ]
  },
  {
   "cell_type": "code",
   "execution_count": 2,
   "id": "a14f58b7-a232-44a3-baa8-bcb490b4c891",
   "metadata": {},
   "outputs": [],
   "source": [
    "DATAFILE = '../adult.data' # location of dataset\n",
    "random_state = None # change to something for exactly reproducible results\n",
    "sensitive_attribute = \"Sex\"\n",
    "target_name = \"label\"\n",
    "positive_label = \">50K\"\n",
    "negative_label = \"<=50K\"\n",
    "model_train_fraction = 0.7"
   ]
  },
  {
   "cell_type": "code",
   "execution_count": 3,
   "id": "7f9e7715-a1de-4228-a36b-2fa66f0499a0",
   "metadata": {},
   "outputs": [],
   "source": [
    "# specify feature names\n",
    "feature_names = [\n",
    "   \"Age\", \"Workclass\", \"fnlwgt\", \"Education\",\n",
    "   \"Education-Num\", \"Marital Status\", \"Occupation\",\n",
    "   \"Relationship\", \"Race\", \"Sex\", \"Capital Gain\",\n",
    "   \"Capital Loss\", \"Hours per week\", \"Country\", \"label\"\n",
    "]\n",
    "# specify categorical columns\n",
    "cate_columns = ['Workclass', 'Education', 'Marital Status', 'Occupation', 'Relationship', 'Race', 'Sex', 'Country']"
   ]
  },
  {
   "cell_type": "code",
   "execution_count": 4,
   "id": "443fb73f-7fbb-43c2-a26f-d695c34d2e3e",
   "metadata": {},
   "outputs": [],
   "source": [
    "# define featureCost as a mapping holding, for each feature name, the respective cost of not keeping that feature constant\n",
    "# Any feature not specified will have its cost set to 1\n",
    "featureCosts = {\"Sex\": 100}\n",
    "\n",
    "# define featureChange as a mapping from str to function, holding, for each feature name, the respective \n",
    "# function that calculates the cost of change from one value to another.\n",
    "# Any feature change not specified will be set to 1 if there is change, and 0 otherwise.\n",
    "def age_cost(age1: str, age2: str) -> int:\n",
    "    return abs(int(age1) - int(age2))\n",
    "featureChange = {\"Age\": age_cost}\n",
    "\n",
    "# set the weights that manage the relative influence of coverage, correctness, feature cost and feature change\n",
    "# in the objective function of the algorithm\n",
    "l_cover = 1\n",
    "l_correct = 1\n",
    "l_cost = 1\n",
    "l_change = 1"
   ]
  },
  {
   "cell_type": "code",
   "execution_count": 5,
   "id": "84bf50ed-a251-4b18-a644-76ae3fe9d8ec",
   "metadata": {},
   "outputs": [],
   "source": [
    "lib2.setFeatureCost(featureCosts)\n",
    "lib2.setFeatureChange(featureChange)\n",
    "lib2.set_lambdas(l_cover, l_correct, l_cost, l_change)"
   ]
  },
  {
   "cell_type": "markdown",
   "id": "dbbbed12-ca00-4fa2-9848-2071e551fc71",
   "metadata": {},
   "source": [
    "# Data loading\n",
    "\n",
    "Loads the dataset into variable `data`. Just run it."
   ]
  },
  {
   "cell_type": "code",
   "execution_count": 6,
   "id": "ad3a184d-9480-45da-8fb3-7aa9d90e50d6",
   "metadata": {},
   "outputs": [],
   "source": [
    "data = pd.DataFrame(\n",
    "  np.genfromtxt(DATAFILE, delimiter=', ', dtype=str),\n",
    "  columns=feature_names\n",
    ")"
   ]
  },
  {
   "cell_type": "markdown",
   "id": "5365ab95-0fae-4096-8386-ec59403d0f13",
   "metadata": {},
   "source": [
    "# Train test split\n",
    "\n",
    "Split into train-test. The train set is used specifically for training the model, and nothing further."
   ]
  },
  {
   "cell_type": "code",
   "execution_count": 7,
   "id": "53770132-fd7a-4078-adfb-84ec6554bfbe",
   "metadata": {},
   "outputs": [],
   "source": [
    "X = data.drop(target_name, axis=1)\n",
    "y = data[target_name]\n",
    "\n",
    "X_train, X_test, y_train, y_test = train_test_split(X, y, train_size=model_train_fraction, random_state=random_state)\n",
    "\n",
    "X_train = X_train.reset_index(drop=True)\n",
    "X_test = X_test.reset_index(drop=True)\n",
    "y_train = y_train.reset_index(drop=True)\n",
    "y_test = y_test.reset_index(drop=True)"
   ]
  },
  {
   "cell_type": "markdown",
   "id": "d966d8d8-6729-4c56-8fdf-2161cbc3b2c5",
   "metadata": {},
   "source": [
    "# Definition and Training of a black-box model\n",
    "\n",
    "We use a black box model based on gradient boosted decision trees."
   ]
  },
  {
   "cell_type": "code",
   "execution_count": 8,
   "id": "029a2893-6a54-4809-a999-a6638c8a3df9",
   "metadata": {},
   "outputs": [
    {
     "data": {
      "text/plain": [
       "<models.customXGB at 0x213be3d0a00>"
      ]
     },
     "execution_count": 8,
     "metadata": {},
     "output_type": "execute_result"
    }
   ],
   "source": [
    "model = customXGB(n_estimators=300, max_depth=5)\n",
    "model.fit(X_train, y_train, cate_columns=cate_columns)"
   ]
  },
  {
   "cell_type": "markdown",
   "id": "25d0b6a0-54b6-44ad-b5d4-83e3ef621fe4",
   "metadata": {},
   "source": [
    "0 denotes the negative and 1 the positive class."
   ]
  },
  {
   "cell_type": "code",
   "execution_count": 9,
   "id": "0d781fbd-9211-4717-a17c-23de82e751fe",
   "metadata": {},
   "outputs": [
    {
     "data": {
      "text/plain": [
       "array([0, 1, 0, 0, 0, 0, 0, 0, 0, 0, 0, 0, 0, 0, 0, 1, 0, 0, 0, 0, 0, 0,\n",
       "       0, 1, 0, 0, 1, 0, 0, 1, 0, 0, 0, 1, 0, 1, 0, 0, 0, 0, 0, 1, 0, 0,\n",
       "       0, 0, 0, 0, 0, 0, 0, 0, 1, 0, 0, 0, 0, 0, 0, 0, 1, 0, 0, 0, 0, 0,\n",
       "       1, 0, 0, 0, 0, 0, 0, 0, 0, 0, 0, 0, 0, 0, 0, 0, 1, 1, 0, 1, 0, 0,\n",
       "       0, 1, 0, 0, 0, 0, 0, 0, 0, 0, 0, 0])"
      ]
     },
     "execution_count": 9,
     "metadata": {},
     "output_type": "execute_result"
    }
   ],
   "source": [
    "model.predict(X_test.iloc[:100, :])"
   ]
  },
  {
   "cell_type": "markdown",
   "id": "bb10a762-760d-467c-9488-d5265ef7f15c",
   "metadata": {},
   "source": [
    "# Testing the model\n",
    "\n",
    "We check if the model is satisfactory."
   ]
  },
  {
   "cell_type": "code",
   "execution_count": 10,
   "id": "9b500ea5-c9e4-4523-a150-f21e6373c9f2",
   "metadata": {},
   "outputs": [
    {
     "name": "stdout",
     "output_type": "stream",
     "text": [
      "              precision    recall  f1-score   support\n",
      "\n",
      "           0       0.89      0.93      0.91      7407\n",
      "           1       0.75      0.65      0.70      2362\n",
      "\n",
      "    accuracy                           0.86      9769\n",
      "   macro avg       0.82      0.79      0.80      9769\n",
      "weighted avg       0.86      0.86      0.86      9769\n",
      "\n"
     ]
    }
   ],
   "source": [
    "preds = model.predict(X_test)\n",
    "print(classification_report(y_test.map({negative_label: 0, positive_label: 1}), preds))"
   ]
  },
  {
   "cell_type": "markdown",
   "id": "55f9b210-4391-445a-8261-d0c137845597",
   "metadata": {},
   "source": [
    "# Finding the affected\n",
    "\n",
    "We check the predictions of the model on the test data, i.e. our population. The ones that get a 0 (negative outcome) are called the affected individuals."
   ]
  },
  {
   "cell_type": "code",
   "execution_count": 11,
   "id": "10e4ea97-b018-4bef-9166-31f3d1289fb3",
   "metadata": {},
   "outputs": [
    {
     "name": "stdout",
     "output_type": "stream",
     "text": [
      "Test data shape: (9769, 14)\n",
      "Affected shape: (7706, 14)\n"
     ]
    }
   ],
   "source": [
    "X_aff_idxs = np.where(model.predict(X_test) == 0)[0]\n",
    "print(f\"Test data shape: {X_test.shape}\")\n",
    "X_aff = X_test.iloc[X_aff_idxs, :]\n",
    "print(f\"Affected shape: {X_aff.shape}\")\n",
    "# X_aff.reset_index(inplace=True, drop=True)"
   ]
  },
  {
   "cell_type": "markdown",
   "id": "64ecfc54-9059-4320-8d98-d5c8e390795d",
   "metadata": {},
   "source": [
    "This means that the model classifies into the negative class about 7000 out of the 10000 total (test set) individuals."
   ]
  },
  {
   "cell_type": "markdown",
   "id": "bd8da668-1729-47a1-8e36-64dfd71d811c",
   "metadata": {},
   "source": [
    "# Running apriori adaptation\n",
    "\n",
    "We now generate the frequent itemsets of the datasets. These are used by the global counterfactual generating algorithm, in order to try and cover as many affected individuals as possible.\n",
    "\n",
    "Here, we have implemented a simple `runApriori` wrapper function, which basically runs the fpgrowth algorithm for frequent itemset mining of the library mlxtend. It returns a dataframe with two columns, an $itemset$ column which contains the itemsets, in the form value tuples, and a $support$ column, which contains the relative frequency with which the itemset is contained in the dataset. Meaning, the fraction of individuals which have this specific combination of feature values.\n",
    "\n",
    "Notice that we can give a minimum support as an argument to the function. This means that it returns only those itemsets whose support are above this value.\n",
    "\n",
    "*Note*: You can ignore the \"+feature_name\" part. It has been appended to every value for implementation reasons, so that we know the \"type\" of each value, i.e. the feature it corresponds to. For example, whether a 0 is a value for \"Capital Loss\" or for \"Capital Gain\"."
   ]
  },
  {
   "cell_type": "code",
   "execution_count": 12,
   "id": "4db4cc4f-bea3-479c-94f0-df7c3b2e9492",
   "metadata": {},
   "outputs": [
    {
     "name": "stdout",
     "output_type": "stream",
     "text": [
      "     support                          itemsets\n",
      "0   0.951377                  (0+Capital Loss)\n",
      "1   0.917699                  (0+Capital Gain)\n",
      "2   0.898147           (United-States+Country)\n",
      "55  0.869076  (0+Capital Loss, 0+Capital Gain)\n",
      "8   0.860477                      (White+Race)\n"
     ]
    }
   ],
   "source": [
    "d = X_test.drop([sensitive_attribute], axis=1)\n",
    "freq_itemsets = runApriori(preprocessDataset(d), min_support=0.03)\n",
    "freq_itemsets.reset_index()\n",
    "print(freq_itemsets.head())"
   ]
  },
  {
   "cell_type": "code",
   "execution_count": 13,
   "id": "65094b14-a0b0-4289-8e83-c5c24ada8b28",
   "metadata": {},
   "outputs": [
    {
     "name": "stdout",
     "output_type": "stream",
     "text": [
      "       support                                                                                                      itemsets\n",
      "0     0.951377                                                                                              (0+Capital Loss)\n",
      "1     0.917699                                                                                              (0+Capital Gain)\n",
      "2     0.898147                                                                                       (United-States+Country)\n",
      "55    0.869076                                                                              (0+Capital Loss, 0+Capital Gain)\n",
      "8     0.860477                                                                                                  (White+Race)\n",
      "56    0.854130                                                                       (0+Capital Loss, United-States+Country)\n",
      "57    0.822193                                                                       (0+Capital Gain, United-States+Country)\n",
      "805   0.817382                                                                                  (0+Capital Loss, White+Race)\n",
      "806   0.793326                                                                           (United-States+Country, White+Race)\n",
      "807   0.785956                                                                                  (0+Capital Gain, White+Race)\n",
      "58    0.778176                                                       (0+Capital Loss, 0+Capital Gain, United-States+Country)\n",
      "808   0.752687                                                           (0+Capital Loss, United-States+Country, White+Race)\n",
      "809   0.742860                                                                  (0+Capital Loss, 0+Capital Gain, White+Race)\n",
      "810   0.723001                                                           (0+Capital Gain, United-States+Country, White+Race)\n",
      "3     0.701095                                                                                           (Private+Workclass)\n",
      "811   0.682363                                           (0+Capital Loss, 0+Capital Gain, United-States+Country, White+Race)\n",
      "59    0.670795                                                                           (0+Capital Loss, Private+Workclass)\n",
      "60    0.649708                                                                           (0+Capital Gain, Private+Workclass)\n",
      "61    0.623298                                                                    (Private+Workclass, United-States+Country)\n",
      "63    0.619408                                                           (0+Capital Loss, 0+Capital Gain, Private+Workclass)\n",
      "62    0.602313                                                                               (Private+Workclass, White+Race)\n",
      "64    0.596069                                                    (0+Capital Loss, Private+Workclass, United-States+Country)\n",
      "65    0.575801                                                    (0+Capital Gain, Private+Workclass, United-States+Country)\n",
      "67    0.574982                                                               (0+Capital Loss, Private+Workclass, White+Race)\n",
      "68    0.555840                                                               (0+Capital Gain, Private+Workclass, White+Race)\n",
      "69    0.550926                                                        (Private+Workclass, United-States+Country, White+Race)\n",
      "66    0.548572                                    (0+Capital Loss, 0+Capital Gain, Private+Workclass, United-States+Country)\n",
      "70    0.528509                                               (0+Capital Loss, 0+Capital Gain, Private+Workclass, White+Race)\n",
      "71    0.525233                                        (0+Capital Loss, Private+Workclass, United-States+Country, White+Race)\n",
      "72    0.507217                                        (0+Capital Gain, Private+Workclass, United-States+Country, White+Race)\n",
      "73    0.481523                        (0+Capital Loss, United-States+Country, 0+Capital Gain, White+Race, Private+Workclass)\n",
      "9     0.465861                                                                                           (40+Hours per week)\n",
      "4     0.461562                                                                           (Married-civ-spouse+Marital Status)\n",
      "812   0.444365                                                                           (40+Hours per week, 0+Capital Loss)\n",
      "813   0.433412                                                                           (40+Hours per week, 0+Capital Gain)\n",
      "74    0.430853                                                           (0+Capital Loss, Married-civ-spouse+Marital Status)\n",
      "78    0.414679                                                               (Married-civ-spouse+Marital Status, White+Race)\n",
      "75    0.413758                                                    (Married-civ-spouse+Marital Status, United-States+Country)\n",
      "817   0.411915                                                           (40+Hours per week, 0+Capital Loss, 0+Capital Gain)\n",
      "814   0.410482                                                                    (40+Hours per week, United-States+Country)\n",
      "76    0.407616                                                           (0+Capital Gain, Married-civ-spouse+Marital Status)\n",
      "5     0.406797                                                                                        (Husband+Relationship)\n",
      "137   0.406388                                                     (Husband+Relationship, Married-civ-spouse+Marital Status)\n",
      "818   0.391340                                                    (40+Hours per week, 0+Capital Loss, United-States+Country)\n",
      "105   0.387143                                               (0+Capital Loss, Married-civ-spouse+Marital Status, White+Race)\n",
      "815   0.386836                                                                               (40+Hours per week, White+Race)\n",
      "80    0.386119                                    (0+Capital Loss, Married-civ-spouse+Marital Status, United-States+Country)\n",
      "81    0.384277                                        (Married-civ-spouse+Marital Status, United-States+Country, White+Race)\n",
      "819   0.381206                                                    (40+Hours per week, 0+Capital Gain, United-States+Country)\n",
      "138   0.379773                                                                        (Husband+Relationship, 0+Capital Loss)\n",
      "144   0.379363                                     (Husband+Relationship, 0+Capital Loss, Married-civ-spouse+Marital Status)\n",
      "83    0.376907                                           (0+Capital Loss, 0+Capital Gain, Married-civ-spouse+Marital Status)\n",
      "821   0.369229                                                               (40+Hours per week, 0+Capital Loss, White+Race)\n",
      "142   0.369127                                                                            (Husband+Relationship, White+Race)\n",
      "198   0.368717                                         (Husband+Relationship, Married-civ-spouse+Marital Status, White+Race)\n",
      "139   0.368615                                                                 (Husband+Relationship, United-States+Country)\n",
      "145   0.368206                              (Husband+Relationship, Married-civ-spouse+Marital Status, United-States+Country)\n",
      "85    0.364828                                               (0+Capital Gain, Married-civ-spouse+Marital Status, White+Race)\n",
      "84    0.363702                                    (0+Capital Gain, Married-civ-spouse+Marital Status, United-States+Country)\n",
      "820   0.362064                                    (40+Hours per week, 0+Capital Loss, 0+Capital Gain, United-States+Country)\n",
      "140   0.359197                                                                        (Husband+Relationship, 0+Capital Gain)\n",
      "152   0.358890                                     (Husband+Relationship, 0+Capital Gain, Married-civ-spouse+Marital Status)\n",
      "822   0.358583                                                               (40+Hours per week, 0+Capital Gain, White+Race)\n",
      "82    0.358276                        (0+Capital Loss, Married-civ-spouse+Marital Status, United-States+Country, White+Race)\n",
      "823   0.352339                                                        (40+Hours per week, United-States+Country, White+Race)\n",
      "199   0.345071                                                            (Husband+Relationship, 0+Capital Loss, White+Race)\n",
      "200   0.344662                         (Husband+Relationship, 0+Capital Loss, Married-civ-spouse+Marital Status, White+Race)\n",
      "816   0.344457                                                                        (40+Hours per week, Private+Workclass)\n",
      "146   0.344457                                                 (Husband+Relationship, 0+Capital Loss, United-States+Country)\n",
      "148   0.344047              (Husband+Relationship, 0+Capital Loss, Married-civ-spouse+Marital Status, United-States+Country)\n",
      "147   0.343945                                                     (Husband+Relationship, United-States+Country, White+Race)\n",
      "149   0.343536                  (Husband+Relationship, Married-civ-spouse+Marital Status, United-States+Country, White+Race)\n",
      "824   0.340977                                               (40+Hours per week, 0+Capital Loss, 0+Capital Gain, White+Race)\n",
      "89    0.337291                               (0+Capital Loss, 0+Capital Gain, Married-civ-spouse+Marital Status, White+Race)\n",
      "87    0.336882                        (0+Capital Gain, Married-civ-spouse+Marital Status, United-States+Country, White+Race)\n",
      "86    0.336063                    (0+Capital Loss, 0+Capital Gain, Married-civ-spouse+Marital Status, United-States+Country)\n",
      "825   0.335449                                        (40+Hours per week, 0+Capital Loss, United-States+Country, White+Race)\n",
      "153   0.332173                                                        (Husband+Relationship, 0+Capital Loss, 0+Capital Gain)\n",
      "156   0.331866                     (Husband+Relationship, 0+Capital Loss, 0+Capital Gain, Married-civ-spouse+Marital Status)\n",
      "828   0.331047                                                        (40+Hours per week, 0+Capital Loss, Private+Workclass)\n",
      "826   0.326031                                        (40+Hours per week, 0+Capital Gain, United-States+Country, White+Race)\n",
      "17    0.325622                                                                                             (9+Education-Num)\n",
      "1804  0.325622                                                                          (HS-grad+Education, 9+Education-Num)\n",
      "18    0.325622                                                                                           (HS-grad+Education)\n",
      "12    0.325008                                                                                (Never-married+Marital Status)\n",
      "155   0.324905                                                            (Husband+Relationship, 0+Capital Gain, White+Race)\n",
      "164   0.324598                         (Husband+Relationship, 0+Capital Gain, Married-civ-spouse+Marital Status, White+Race)\n",
      "154   0.323882                                                 (Husband+Relationship, 0+Capital Gain, United-States+Country)\n",
      "157   0.323575              (Husband+Relationship, 0+Capital Gain, Married-civ-spouse+Marital Status, United-States+Country)\n",
      "829   0.322244                                                        (40+Hours per week, 0+Capital Gain, Private+Workclass)\n",
      "150   0.321220                                     (Husband+Relationship, 0+Capital Loss, United-States+Country, White+Race)\n",
      "151   0.320811  (Husband+Relationship, 0+Capital Loss, United-States+Country, White+Race, Married-civ-spouse+Marital Status)\n",
      "889   0.315795                                                                (0+Capital Loss, Never-married+Marital Status)\n",
      "1805  0.312417                                                                           (HS-grad+Education, 0+Capital Loss)\n",
      "1813  0.312417                                                          (HS-grad+Education, 0+Capital Loss, 9+Education-Num)\n",
      "1549  0.312417                                                                             (0+Capital Loss, 9+Education-Num)\n",
      "88    0.310881        (0+Capital Loss, United-States+Country, 0+Capital Gain, White+Race, Married-civ-spouse+Marital Status)\n",
      "890   0.310472                                                                (Never-married+Marital Status, 0+Capital Gain)\n",
      "827   0.309141                        (40+Hours per week, 0+Capital Loss, United-States+Country, 0+Capital Gain, White+Race)\n",
      "832   0.308834                                        (40+Hours per week, 0+Capital Loss, 0+Capital Gain, Private+Workclass)\n"
     ]
    }
   ],
   "source": [
    "print(freq_itemsets.head(100).to_string())"
   ]
  },
  {
   "cell_type": "code",
   "execution_count": 14,
   "id": "f5a1ba0c-4bd8-4487-83bb-86d636966b39",
   "metadata": {},
   "outputs": [
    {
     "name": "stdout",
     "output_type": "stream",
     "text": [
      "       support                                           itemsets\n",
      "1368  0.030402  (HS-grad+Education, 0+Capital Gain, 9+Educatio...\n",
      "1365  0.030402  (0+Capital Loss, 9+Education-Num, Never-marrie...\n",
      "1367  0.030402  (0+Capital Loss, HS-grad+Education, 9+Educatio...\n",
      "4394  0.030402  (12+Education-Num, Assoc-acdm+Education, White...\n",
      "4390  0.030402                     (12+Education-Num, White+Race)\n",
      "...        ...                                                ...\n",
      "3510  0.030095  (Husband+Relationship, 40+Hours per week, 0+Ca...\n",
      "4095  0.030095  (0+Capital Loss, United-States+Country, Adm-cl...\n",
      "4061  0.030095  (Married-civ-spouse+Marital Status, Adm-cleric...\n",
      "790   0.030095  (40+Hours per week, Black+Race, United-States+...\n",
      "5688  0.030095  (13+Education-Num, Exec-managerial+Occupation,...\n",
      "\n",
      "[100 rows x 2 columns]\n"
     ]
    }
   ],
   "source": [
    "print(freq_itemsets.tail(100))\n",
    "# print(freq_itemsets.tail(100).to_string()) # uncomment for more details"
   ]
  },
  {
   "cell_type": "markdown",
   "id": "b851a61e-9847-45c6-a427-b1b977d2420a",
   "metadata": {},
   "source": [
    "Next, we use the function `aprioriout2predicateList`, which \"casts\" the output of the frequent itemset mining algorithm to our internal representation of a \"triple\" (as in the ares paper). This representation is the class `Predicate`.\n",
    "\n",
    "RL is the initial set of candidate predicates (taken as the output of the itemset algo), from which we will then pick pairs to represent our rules (as in ares paper)."
   ]
  },
  {
   "cell_type": "code",
   "execution_count": 15,
   "id": "73c82b06-f6db-499d-baed-3414a1d1f692",
   "metadata": {},
   "outputs": [
    {
     "name": "stdout",
     "output_type": "stream",
     "text": [
      "[Predicate(features=['Capital Loss'], values=['0']),\n",
      " Predicate(features=['Capital Gain'], values=['0']),\n",
      " Predicate(features=['Country'], values=['United-States']),\n",
      " Predicate(features=['Capital Loss', 'Capital Gain'], values=['0', '0']),\n",
      " Predicate(features=['Race'], values=['White']),\n",
      " Predicate(features=['Capital Loss', 'Country'], values=['0', 'United-States']),\n",
      " Predicate(features=['Capital Gain', 'Country'], values=['0', 'United-States']),\n",
      " Predicate(features=['Capital Loss', 'Race'], values=['0', 'White']),\n",
      " Predicate(features=['Country', 'Race'], values=['United-States', 'White']),\n",
      " Predicate(features=['Capital Gain', 'Race'], values=['0', 'White'])]\n",
      "5771\n"
     ]
    }
   ],
   "source": [
    "RL = aprioriout2predicateList(freq_itemsets)\n",
    "pprint(RL[:10])\n",
    "print(len(RL))"
   ]
  },
  {
   "cell_type": "markdown",
   "id": "46ab014e-def8-486c-8aca-fc0f0a992508",
   "metadata": {},
   "source": [
    "# Running the optimization procedure"
   ]
  },
  {
   "cell_type": "markdown",
   "id": "8a34a42f-8863-4ed3-95ba-f043e10bd0af",
   "metadata": {},
   "source": [
    "First, just turn the user-defined SD (subgroup descriptors) to predicates."
   ]
  },
  {
   "cell_type": "code",
   "execution_count": 16,
   "id": "f0ea54c6-e650-43f7-a5a4-62d0cbeb1ed3",
   "metadata": {},
   "outputs": [
    {
     "name": "stdout",
     "output_type": "stream",
     "text": [
      "[Predicate(features=['Sex'], values=['Male']), Predicate(features=['Sex'], values=['Female'])]\n"
     ]
    }
   ],
   "source": [
    "SD = list(map(Predicate.from_dict, [\n",
    "    {sensitive_attribute: val} for val in data[sensitive_attribute].unique()\n",
    "]))\n",
    "print(SD)"
   ]
  },
  {
   "cell_type": "code",
   "execution_count": 17,
   "id": "c6f9206c-84ed-4c45-bc30-582ad0208d15",
   "metadata": {},
   "outputs": [],
   "source": [
    "rules = [(Predicate(features=['Sex'], values=['Male']),\n",
    "   Predicate(features=['Education', 'Capital Gain', 'Relationship'], values=['Bachelors', '0', 'Husband']),\n",
    "   Predicate(features=['Education', 'Capital Gain', 'Relationship'], values=['Some-college', '0', 'Husband'])),\n",
    "  (Predicate(features=['Sex'], values=['Female']),\n",
    "   Predicate(features=['Workclass', 'Marital Status', 'Relationship'], values=['Private', 'Divorced', 'Not-in-family']),\n",
    "   Predicate(features=['Workclass', 'Marital Status', 'Relationship'], values=['Private', 'Married-civ-spouse', 'Wife'])),\n",
    "  (Predicate(features=['Sex'], values=['Male']),\n",
    "   Predicate(features=['Education-Num'], values=['9']),\n",
    "   Predicate(features=['Education-Num'], values=['14'])),\n",
    "  (Predicate(features=['Sex'], values=['Male']),\n",
    "   Predicate(features=['Education-Num'], values=['10']),\n",
    "   Predicate(features=['Education-Num'], values=['14'])),\n",
    "  (Predicate(features=['Sex'], values=['Male']),\n",
    "   Predicate(features=['Education', 'Marital Status'], values=['Bachelors', 'Never-married']),\n",
    "   Predicate(features=['Education', 'Marital Status'], values=['Some-college', 'Married-civ-spouse'])),\n",
    "  (Predicate(features=['Sex'], values=['Female']),\n",
    "   Predicate(features=['Marital Status', 'Education-Num'], values=['Married-civ-spouse', '10']),\n",
    "   Predicate(features=['Marital Status', 'Education-Num'], values=['Married-civ-spouse', '13'])),\n",
    "  (Predicate(features=['Sex'], values=['Female']),\n",
    "   Predicate(features=['Marital Status'], values=['Never-married']),\n",
    "   Predicate(features=['Marital Status'], values=['Married-civ-spouse'])),\n",
    "  (Predicate(features=['Sex'], values=['Male']),\n",
    "   Predicate(features=['Education-Num'], values=['11']),\n",
    "   Predicate(features=['Education-Num'], values=['14'])),\n",
    "  (Predicate(features=['Sex'], values=['Male']),\n",
    "   Predicate(features=['Education-Num'], values=['7']),\n",
    "   Predicate(features=['Education-Num'], values=['14'])),\n",
    "  (Predicate(features=['Sex'], values=['Female']),\n",
    "   Predicate(features=['Marital Status', 'Education'], values=['Married-civ-spouse', 'Bachelors']),\n",
    "   Predicate(features=['Marital Status', 'Education'], values=['Married-civ-spouse', 'HS-grad'])),\n",
    "  (Predicate(features=['Sex'], values=['Female']),\n",
    "   Predicate(features=['Marital Status', 'Relationship'], values=['Divorced', 'Unmarried']),\n",
    "   Predicate(features=['Marital Status', 'Relationship'], values=['Married-civ-spouse', 'Wife'])),\n",
    "  (Predicate(features=['Sex'], values=['Male']),\n",
    "   Predicate(features=['Education', 'Capital Loss', 'Race'], values=['Masters', '0', 'White']),\n",
    "   Predicate(features=['Education', 'Capital Loss', 'Race'], values=['Some-college', '0', 'White'])),\n",
    "  (Predicate(features=['Sex'], values=['Male']),\n",
    "   Predicate(features=['Education', 'Education-Num'], values=['Assoc-acdm', '12']),\n",
    "   Predicate(features=['Education', 'Education-Num'], values=['Masters', '14'])),\n",
    "  (Predicate(features=['Sex'], values=['Female']),\n",
    "   Predicate(features=['Capital Loss', 'Education-Num', 'Capital Gain', 'Marital Status'], values=['0', '9', '0', 'Married-civ-spouse']),\n",
    "   Predicate(features=['Capital Loss', 'Education-Num', 'Capital Gain', 'Marital Status'], values=['0', '13', '0', 'Married-civ-spouse']))]"
   ]
  },
  {
   "cell_type": "code",
   "execution_count": 18,
   "id": "6745c943-3bf1-4f54-935f-490e0cb52c50",
   "metadata": {},
   "outputs": [],
   "source": [
    "from recourse_sets import TwoLevelRecourseSet"
   ]
  },
  {
   "cell_type": "code",
   "execution_count": 19,
   "id": "bd3d51c9-9e3a-4a93-880c-34791ac28046",
   "metadata": {},
   "outputs": [],
   "source": [
    "rules = TwoLevelRecourseSet.from_triples(rules)"
   ]
  },
  {
   "cell_type": "code",
   "execution_count": 20,
   "id": "f2f8d424-d705-4db2-b098-699e3a3a0322",
   "metadata": {},
   "outputs": [
    {
     "data": {
      "text/plain": [
       "array([0, 1, 0, ..., 0, 1, 0])"
      ]
     },
     "execution_count": 20,
     "metadata": {},
     "output_type": "execute_result"
    }
   ],
   "source": [
    "model.predict(X_test)"
   ]
  },
  {
   "cell_type": "code",
   "execution_count": 21,
   "id": "a8dbd9e8-028c-419e-aab9-3d1f3e7ac9b0",
   "metadata": {},
   "outputs": [],
   "source": [
    "from metrics import incorrectRecoursesSubmodular, incorrectRecourses, cover"
   ]
  },
  {
   "cell_type": "code",
   "execution_count": 22,
   "id": "e6b7381d-a2c3-4b1f-a9aa-59b5b2d83d43",
   "metadata": {},
   "outputs": [
    {
     "name": "stdout",
     "output_type": "stream",
     "text": [
      "set()\n",
      "set()\n",
      "set()\n",
      "set()\n",
      "set()\n",
      "set()\n",
      "set()\n",
      "set()\n",
      "set()\n",
      "set()\n",
      "set()\n",
      "set()\n",
      "set()\n",
      "set()\n",
      "set()\n",
      "set()\n",
      "set()\n",
      "set()\n",
      "set()\n",
      "set()\n",
      "set()\n",
      "set()\n",
      "set()\n",
      "set()\n",
      "set()\n",
      "set()\n",
      "set()\n",
      "set()\n",
      "4839\n",
      "CPU times: total: 16 s\n",
      "Wall time: 1.97 s\n"
     ]
    }
   ],
   "source": [
    "%%time\n",
    "print(incorrectRecoursesSubmodular(rules, X_aff, model))"
   ]
  },
  {
   "cell_type": "code",
   "execution_count": 23,
   "id": "1af2b2bf-24dc-4325-aad6-bcf1bb231294",
   "metadata": {},
   "outputs": [
    {
     "name": "stdout",
     "output_type": "stream",
     "text": [
      "4839\n",
      "CPU times: total: 3.95 s\n",
      "Wall time: 3.51 s\n"
     ]
    }
   ],
   "source": [
    "%%time\n",
    "print(incorrectRecourses(rules, X_aff, model, percentage=False))"
   ]
  },
  {
   "cell_type": "code",
   "execution_count": 25,
   "id": "5d07d493-392f-47d6-b4cd-c6f71b701da8",
   "metadata": {},
   "outputs": [
    {
     "name": "stdout",
     "output_type": "stream",
     "text": [
      "6194\n",
      "CPU times: total: 1.17 s\n",
      "Wall time: 585 ms\n"
     ]
    }
   ],
   "source": [
    "%%time\n",
    "print(cover(rules, X_aff))"
   ]
  },
  {
   "cell_type": "markdown",
   "id": "e2b5d8d5-0ec3-4d30-89e2-540b15c5ebe7",
   "metadata": {},
   "source": [
    "Now, we run the submodular optimization."
   ]
  },
  {
   "cell_type": "code",
   "execution_count": 26,
   "id": "ad20d992-c4a0-4cd6-829d-8f100a492602",
   "metadata": {},
   "outputs": [
    {
     "name": "stdout",
     "output_type": "stream",
     "text": [
      "Total triples = 12836\n",
      "X_aff shape before: (7754, 14)\n",
      "Calculated incorrect recourse for each triple\n",
      "Calculated feature costs for each triple\n",
      "Calculated feature changes for each feature\n",
      "X_aff shape after: (7754, 14)\n",
      "Calculated covers for each triple\n",
      "141\n",
      "CPU times: total: 3h 57min 21s\n",
      "Wall time: 46min 35s\n"
     ]
    }
   ],
   "source": [
    "%%time\n",
    "\n",
    "final_rules = optimize(SD, RL, X_aff, model)"
   ]
  },
  {
   "cell_type": "code",
   "execution_count": 27,
   "id": "d2c0059b-1425-4f9a-8a60-8d78584fb60f",
   "metadata": {},
   "outputs": [
    {
     "name": "stdout",
     "output_type": "stream",
     "text": [
      "([(Predicate(features=['Sex'], values=['Male']),\n",
      "   Predicate(features=['Education', 'Capital Gain', 'Relationship'], values=['Bachelors', '0', 'Husband']),\n",
      "   Predicate(features=['Education', 'Capital Gain', 'Relationship'], values=['Some-college', '0', 'Husband'])),\n",
      "  (Predicate(features=['Sex'], values=['Female']),\n",
      "   Predicate(features=['Workclass', 'Marital Status', 'Relationship'], values=['Private', 'Divorced', 'Not-in-family']),\n",
      "   Predicate(features=['Workclass', 'Marital Status', 'Relationship'], values=['Private', 'Married-civ-spouse', 'Wife'])),\n",
      "  (Predicate(features=['Sex'], values=['Male']),\n",
      "   Predicate(features=['Education-Num'], values=['9']),\n",
      "   Predicate(features=['Education-Num'], values=['14'])),\n",
      "  (Predicate(features=['Sex'], values=['Male']),\n",
      "   Predicate(features=['Education-Num'], values=['10']),\n",
      "   Predicate(features=['Education-Num'], values=['14'])),\n",
      "  (Predicate(features=['Sex'], values=['Male']),\n",
      "   Predicate(features=['Education', 'Marital Status'], values=['Bachelors', 'Never-married']),\n",
      "   Predicate(features=['Education', 'Marital Status'], values=['Some-college', 'Married-civ-spouse'])),\n",
      "  (Predicate(features=['Sex'], values=['Female']),\n",
      "   Predicate(features=['Marital Status', 'Education-Num'], values=['Married-civ-spouse', '10']),\n",
      "   Predicate(features=['Marital Status', 'Education-Num'], values=['Married-civ-spouse', '13'])),\n",
      "  (Predicate(features=['Sex'], values=['Female']),\n",
      "   Predicate(features=['Marital Status'], values=['Never-married']),\n",
      "   Predicate(features=['Marital Status'], values=['Married-civ-spouse'])),\n",
      "  (Predicate(features=['Sex'], values=['Male']),\n",
      "   Predicate(features=['Education-Num'], values=['11']),\n",
      "   Predicate(features=['Education-Num'], values=['14'])),\n",
      "  (Predicate(features=['Sex'], values=['Male']),\n",
      "   Predicate(features=['Education-Num'], values=['7']),\n",
      "   Predicate(features=['Education-Num'], values=['14'])),\n",
      "  (Predicate(features=['Sex'], values=['Female']),\n",
      "   Predicate(features=['Marital Status', 'Education'], values=['Married-civ-spouse', 'Bachelors']),\n",
      "   Predicate(features=['Marital Status', 'Education'], values=['Married-civ-spouse', 'HS-grad'])),\n",
      "  (Predicate(features=['Sex'], values=['Female']),\n",
      "   Predicate(features=['Marital Status', 'Relationship'], values=['Divorced', 'Unmarried']),\n",
      "   Predicate(features=['Marital Status', 'Relationship'], values=['Married-civ-spouse', 'Wife'])),\n",
      "  (Predicate(features=['Sex'], values=['Male']),\n",
      "   Predicate(features=['Education', 'Capital Loss', 'Race'], values=['Masters', '0', 'White']),\n",
      "   Predicate(features=['Education', 'Capital Loss', 'Race'], values=['Some-college', '0', 'White'])),\n",
      "  (Predicate(features=['Sex'], values=['Male']),\n",
      "   Predicate(features=['Education', 'Education-Num'], values=['Assoc-acdm', '12']),\n",
      "   Predicate(features=['Education', 'Education-Num'], values=['Masters', '14'])),\n",
      "  (Predicate(features=['Sex'], values=['Female']),\n",
      "   Predicate(features=['Capital Loss', 'Education-Num', 'Capital Gain', 'Marital Status'], values=['0', '9', '0', 'Married-civ-spouse']),\n",
      "   Predicate(features=['Capital Loss', 'Education-Num', 'Capital Gain', 'Marital Status'], values=['0', '13', '0', 'Married-civ-spouse']))],\n",
      " -4736,\n",
      " 6238,\n",
      " -18,\n",
      " -18)\n"
     ]
    }
   ],
   "source": [
    "pprint(final_rules)"
   ]
  },
  {
   "cell_type": "code",
   "execution_count": 20,
   "id": "f9e17395-fdeb-47c5-be13-953112cfd710",
   "metadata": {},
   "outputs": [
    {
     "name": "stdout",
     "output_type": "stream",
     "text": [
      "(7754, 14)\n"
     ]
    }
   ],
   "source": [
    "print(X_aff.shape)"
   ]
  },
  {
   "cell_type": "code",
   "execution_count": 19,
   "id": "6bfcb64f-9b70-4cc7-b200-1b533797b950",
   "metadata": {},
   "outputs": [
    {
     "name": "stdout",
     "output_type": "stream",
     "text": [
      "Total triples = 364\n",
      "X_aff shape before: (400, 14)\n",
      "Calculated incorrect recourse for each triple\n",
      "Calculated feature costs for each triple\n",
      "Calculated feature changes for each feature\n",
      "X_aff shape after: (400, 14)\n",
      "Calculated covers for each triple\n",
      "24\n",
      "CPU times: total: 50.1 s\n",
      "Wall time: 6.28 s\n"
     ]
    }
   ],
   "source": [
    "%%time\n",
    "\n",
    "final_rules = optimize(SD, RL[:400], X_aff[:400], model)"
   ]
  },
  {
   "cell_type": "code",
   "execution_count": 20,
   "id": "dc6528fb-0306-4167-a7d3-50c9214569b2",
   "metadata": {},
   "outputs": [
    {
     "name": "stdout",
     "output_type": "stream",
     "text": [
      "([(Predicate(features=['Sex'], values=['Male']),\n",
      "   Predicate(features=['Education-Num'], values=['10']),\n",
      "   Predicate(features=['Education-Num'], values=['13'])),\n",
      "  (Predicate(features=['Sex'], values=['Female']),\n",
      "   Predicate(features=['Marital Status'], values=['Never-married']),\n",
      "   Predicate(features=['Marital Status'], values=['Married-civ-spouse'])),\n",
      "  (Predicate(features=['Sex'], values=['Male']),\n",
      "   Predicate(features=['Education', 'Education-Num'], values=['HS-grad', '9']),\n",
      "   Predicate(features=['Education', 'Education-Num'], values=['Bachelors', '13']))],\n",
      " -176,\n",
      " 222,\n",
      " -4,\n",
      " -4)\n"
     ]
    }
   ],
   "source": [
    "pprint(final_rules)"
   ]
  },
  {
   "cell_type": "code",
   "execution_count": 19,
   "id": "ee919b95-0d0b-444d-bf88-d276ab506a62",
   "metadata": {},
   "outputs": [
    {
     "name": "stdout",
     "output_type": "stream",
     "text": [
      "([(Predicate(features=['Sex'], values=['Male']),\n",
      "   Predicate(features=['Marital Status'], values=['Never-married']),\n",
      "   Predicate(features=['Marital Status'], values=['Married-civ-spouse'])),\n",
      "  (Predicate(features=['Sex'], values=['Male']),\n",
      "   Predicate(features=['Relationship'], values=['Husband']),\n",
      "   Predicate(features=['Relationship'], values=['Not-in-family'])),\n",
      "  (Predicate(features=['Sex'], values=['Female']),\n",
      "   Predicate(features=['Marital Status'], values=['Never-married']),\n",
      "   Predicate(features=['Marital Status'], values=['Married-civ-spouse']))],\n",
      " -5121,\n",
      " 5464,\n",
      " -3,\n",
      " -3)\n"
     ]
    }
   ],
   "source": [
    "pprint(final_rules)"
   ]
  },
  {
   "cell_type": "code",
   "execution_count": 30,
   "id": "3225903c-1b73-416e-a507-998c96908b2b",
   "metadata": {},
   "outputs": [
    {
     "name": "stdout",
     "output_type": "stream",
     "text": [
      "([(Predicate(features=['Sex'], values=['Male']),\n",
      "   Predicate(features=['Education-Num'], values=['10']),\n",
      "   Predicate(features=['Education-Num'], values=['13'])),\n",
      "  (Predicate(features=['Sex'], values=['Female']),\n",
      "   Predicate(features=['Marital Status'], values=['Never-married']),\n",
      "   Predicate(features=['Marital Status'], values=['Married-civ-spouse'])),\n",
      "  (Predicate(features=['Sex'], values=['Male']),\n",
      "   Predicate(features=['Education-Num'], values=['9']),\n",
      "   Predicate(features=['Education-Num'], values=['13'])),\n",
      "  (Predicate(features=['Sex'], values=['Male']),\n",
      "   Predicate(features=['Education'], values=['Bachelors']),\n",
      "   Predicate(features=['Education'], values=['Some-college']))],\n",
      " -4085,\n",
      " 4845,\n",
      " -4,\n",
      " -4)\n"
     ]
    }
   ],
   "source": [
    "pprint(final_rules)"
   ]
  },
  {
   "cell_type": "code",
   "execution_count": 30,
   "id": "c69f23da-d2e4-4e43-bba4-29bf4b6ef53d",
   "metadata": {},
   "outputs": [
    {
     "name": "stdout",
     "output_type": "stream",
     "text": [
      "([(Predicate(features=['Sex'], values=['Male']),\n",
      "   Predicate(features=['Education-Num'], values=['10']),\n",
      "   Predicate(features=['Education-Num'], values=['13'])),\n",
      "  (Predicate(features=['Sex'], values=['Female']),\n",
      "   Predicate(features=['Marital Status'], values=['Never-married']),\n",
      "   Predicate(features=['Marital Status'], values=['Married-civ-spouse'])),\n",
      "  (Predicate(features=['Sex'], values=['Male']),\n",
      "   Predicate(features=['Education-Num'], values=['9']),\n",
      "   Predicate(features=['Education-Num'], values=['13'])),\n",
      "  (Predicate(features=['Sex'], values=['Male']),\n",
      "   Predicate(features=['Education'], values=['Bachelors']),\n",
      "   Predicate(features=['Education'], values=['Some-college']))],\n",
      " -4085,\n",
      " 4845,\n",
      " -4,\n",
      " -4)\n"
     ]
    }
   ],
   "source": [
    "pprint(final_rules)"
   ]
  },
  {
   "cell_type": "code",
   "execution_count": 19,
   "id": "ac7ec3b4-c006-4dfb-b584-96fbbe479c27",
   "metadata": {},
   "outputs": [
    {
     "name": "stdout",
     "output_type": "stream",
     "text": [
      "([(Predicate(features=['Sex'], values=['Female']),\n",
      "   Predicate(features=['Marital Status'], values=['Never-married']),\n",
      "   Predicate(features=['Marital Status'], values=['Married-civ-spouse']))],\n",
      " -1248,\n",
      " 1362,\n",
      " -1,\n",
      " -1)\n"
     ]
    }
   ],
   "source": [
    "pprint(final_rules)"
   ]
  },
  {
   "cell_type": "code",
   "execution_count": 38,
   "id": "7adcc281-b63a-4068-9a43-9ae9bfcbd34f",
   "metadata": {},
   "outputs": [
    {
     "name": "stdout",
     "output_type": "stream",
     "text": [
      "([(Predicate(features=['Sex'], values=['Female']),\n",
      "   Predicate(features=['Marital Status'], values=['Never-married']),\n",
      "   Predicate(features=['Marital Status'], values=['Married-civ-spouse']))],\n",
      " -67,\n",
      " 72,\n",
      " -1,\n",
      " -1)\n"
     ]
    }
   ],
   "source": [
    "pprint(final_rules)"
   ]
  },
  {
   "cell_type": "code",
   "execution_count": 19,
   "id": "04b69c8e-f34d-4d4a-bef7-08f8e28099be",
   "metadata": {},
   "outputs": [
    {
     "name": "stdout",
     "output_type": "stream",
     "text": [
      "([(Predicate(features=['Sex'], values=['Female']),\n",
      "   Predicate(features=['Marital Status'], values=['Never-married']),\n",
      "   Predicate(features=['Marital Status'], values=['Married-civ-spouse']))],\n",
      " -70,\n",
      " 75,\n",
      " -1,\n",
      " -1)\n"
     ]
    }
   ],
   "source": [
    "pprint(final_rules)"
   ]
  },
  {
   "cell_type": "code",
   "execution_count": 29,
   "id": "1a45b5eb-a88a-4987-a5fe-f6174b25900a",
   "metadata": {},
   "outputs": [
    {
     "name": "stdout",
     "output_type": "stream",
     "text": [
      "([(Predicate(features=['Sex'], values=['Female']),\n",
      "   Predicate(features=['Education-Num'], values=['9']),\n",
      "   Predicate(features=['Education-Num'], values=['13'])),\n",
      "  (Predicate(features=['Sex'], values=['Male']),\n",
      "   Predicate(features=['Education-Num'], values=['9']),\n",
      "   Predicate(features=['Education-Num'], values=['13'])),\n",
      "  (Predicate(features=['Sex'], values=['Male']),\n",
      "   Predicate(features=['Education-Num'], values=['10']),\n",
      "   Predicate(features=['Education-Num'], values=['13']))],\n",
      " -159,\n",
      " 206,\n",
      " -3,\n",
      " -3)\n"
     ]
    }
   ],
   "source": [
    "pprint(final_rules)"
   ]
  },
  {
   "cell_type": "code",
   "execution_count": null,
   "id": "41479477-99d4-4691-b119-4b8c7c6c1eae",
   "metadata": {},
   "outputs": [],
   "source": []
  }
 ],
 "metadata": {
  "kernelspec": {
   "display_name": "Python 3 (ipykernel)",
   "language": "python",
   "name": "python3"
  },
  "language_info": {
   "codemirror_mode": {
    "name": "ipython",
    "version": 3
   },
   "file_extension": ".py",
   "mimetype": "text/x-python",
   "name": "python",
   "nbconvert_exporter": "python",
   "pygments_lexer": "ipython3",
   "version": "3.9.15"
  }
 },
 "nbformat": 4,
 "nbformat_minor": 5
}
