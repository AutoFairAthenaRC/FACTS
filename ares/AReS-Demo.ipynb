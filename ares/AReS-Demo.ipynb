{
 "cells": [
  {
   "cell_type": "code",
   "execution_count": 1,
   "id": "d9ad0eb4-af28-40fa-809f-b594911a2eed",
   "metadata": {},
   "outputs": [],
   "source": [
    "import numpy as np\n",
    "import pandas as pd\n",
    "from pprint import pprint\n",
    "\n",
    "from sklearn.model_selection import train_test_split\n",
    "from sklearn.metrics import classification_report\n",
    "\n",
    "# place lib2.py, models.py and apriori.py in the same folder\n",
    "import lib2\n",
    "from lib2 import Predicate, optimize\n",
    "from models import customXGB\n",
    "from apriori import preprocessDataset, runApriori, aprioriout2predicateList"
   ]
  },
  {
   "cell_type": "code",
   "execution_count": 2,
   "id": "a14f58b7-a232-44a3-baa8-bcb490b4c891",
   "metadata": {},
   "outputs": [],
   "source": [
    "DATAFILE = '../adult.data' # location of dataset\n",
    "random_state = None # change to something for exactly reproducible results\n",
    "sensitive_attribute = \"Sex\"\n",
    "target_name = \"label\"\n",
    "positive_label = \">50K\"\n",
    "negative_label = \"<=50K\"\n",
    "model_train_fraction = 0.7"
   ]
  },
  {
   "cell_type": "code",
   "execution_count": 3,
   "id": "7f9e7715-a1de-4228-a36b-2fa66f0499a0",
   "metadata": {},
   "outputs": [],
   "source": [
    "feature_names = [\n",
    "   \"Age\", \"Workclass\", \"fnlwgt\", \"Education\",\n",
    "   \"Education-Num\", \"Marital Status\", \"Occupation\",\n",
    "   \"Relationship\", \"Race\", \"Sex\", \"Capital Gain\",\n",
    "   \"Capital Loss\", \"Hours per week\", \"Country\", \"label\"\n",
    "]\n",
    "cate_columns = ['Workclass', 'Education', 'Marital Status', 'Occupation', 'Relationship', 'Race', 'Sex', 'Country']"
   ]
  },
  {
   "cell_type": "code",
   "execution_count": 4,
   "id": "443fb73f-7fbb-43c2-a26f-d695c34d2e3e",
   "metadata": {},
   "outputs": [],
   "source": [
    "# define featureCost as a mapping holding, for each feature name, the respective cost of not keeping that feature constant\n",
    "# Any feature not specified will have its cost set to 1\n",
    "featureCosts = {\"Sex\": 100}\n",
    "\n",
    "# define featureChange as a mapping from str to function, holding, for each feature name, the respective \n",
    "# function that calculates the cost of change from one value to another.\n",
    "# Any feature change not specified will be set to 1 if there is change, and 0 otherwise.\n",
    "def age_cost(age1: str, age2: str) -> int:\n",
    "    return abs(int(age1) - int(age2))\n",
    "featureChange = {\"Age\": age_cost}"
   ]
  },
  {
   "cell_type": "code",
   "execution_count": 5,
   "id": "84bf50ed-a251-4b18-a644-76ae3fe9d8ec",
   "metadata": {},
   "outputs": [],
   "source": [
    "lib2.setFeatureCost(featureCosts)\n",
    "lib2.setFeatureChange(featureChange)"
   ]
  },
  {
   "cell_type": "markdown",
   "id": "dbbbed12-ca00-4fa2-9848-2071e551fc71",
   "metadata": {},
   "source": [
    "# Data loading"
   ]
  },
  {
   "cell_type": "code",
   "execution_count": 6,
   "id": "ad3a184d-9480-45da-8fb3-7aa9d90e50d6",
   "metadata": {},
   "outputs": [],
   "source": [
    "data = pd.DataFrame(\n",
    "  np.genfromtxt(DATAFILE, delimiter=', ', dtype=str),\n",
    "  columns=feature_names\n",
    ")"
   ]
  },
  {
   "cell_type": "markdown",
   "id": "5365ab95-0fae-4096-8386-ec59403d0f13",
   "metadata": {},
   "source": [
    "# Train test split"
   ]
  },
  {
   "cell_type": "code",
   "execution_count": 7,
   "id": "53770132-fd7a-4078-adfb-84ec6554bfbe",
   "metadata": {},
   "outputs": [],
   "source": [
    "X = data.drop(target_name, axis=1)\n",
    "y = data[target_name]\n",
    "\n",
    "X_train, X_test, y_train, y_test = train_test_split(X, y, train_size=model_train_fraction, random_state=random_state)\n",
    "\n",
    "X_train = X_train.reset_index(drop=True)\n",
    "X_test = X_test.reset_index(drop=True)\n",
    "y_train = y_train.reset_index(drop=True)\n",
    "y_test = y_test.reset_index(drop=True)"
   ]
  },
  {
   "cell_type": "markdown",
   "id": "d966d8d8-6729-4c56-8fdf-2161cbc3b2c5",
   "metadata": {},
   "source": [
    "# Definition and Training of a black-box model"
   ]
  },
  {
   "cell_type": "code",
   "execution_count": 8,
   "id": "029a2893-6a54-4809-a999-a6638c8a3df9",
   "metadata": {},
   "outputs": [
    {
     "data": {
      "text/plain": [
       "<models.customXGB at 0x1f204d93250>"
      ]
     },
     "execution_count": 8,
     "metadata": {},
     "output_type": "execute_result"
    }
   ],
   "source": [
    "model = customXGB(n_estimators=300, max_depth=5)\n",
    "model.fit(X_train, y_train, cate_columns=cate_columns)"
   ]
  },
  {
   "cell_type": "code",
   "execution_count": 9,
   "id": "0d781fbd-9211-4717-a17c-23de82e751fe",
   "metadata": {},
   "outputs": [
    {
     "data": {
      "text/plain": [
       "array([0, 0, 1, 0, 1, 0, 0, 0, 0, 0, 0, 0, 1, 0, 0, 0, 0, 1, 1, 0, 0, 0,\n",
       "       0, 0, 0, 1, 1, 0, 0, 0, 0, 0, 0, 0, 0, 0, 0, 0, 1, 0, 0, 0, 0, 0,\n",
       "       0, 0, 0, 0, 0, 0, 1, 0, 0, 0, 1, 0, 1, 0, 0, 1, 0, 0, 0, 0, 0, 0,\n",
       "       0, 0, 0, 1, 0, 0, 1, 0, 1, 0, 0, 0, 0, 1, 0, 0, 0, 0, 0, 0, 0, 0,\n",
       "       0, 1, 1, 0, 1, 0, 0, 0, 0, 0, 0, 0])"
      ]
     },
     "execution_count": 9,
     "metadata": {},
     "output_type": "execute_result"
    }
   ],
   "source": [
    "model.predict(X_test.iloc[:100, :])"
   ]
  },
  {
   "cell_type": "markdown",
   "id": "bb10a762-760d-467c-9488-d5265ef7f15c",
   "metadata": {},
   "source": [
    "# Testing the model"
   ]
  },
  {
   "cell_type": "code",
   "execution_count": 10,
   "id": "9b500ea5-c9e4-4523-a150-f21e6373c9f2",
   "metadata": {},
   "outputs": [
    {
     "name": "stdout",
     "output_type": "stream",
     "text": [
      "              precision    recall  f1-score   support\n",
      "\n",
      "           0       0.90      0.93      0.91      7448\n",
      "           1       0.75      0.66      0.70      2321\n",
      "\n",
      "    accuracy                           0.87      9769\n",
      "   macro avg       0.82      0.79      0.81      9769\n",
      "weighted avg       0.86      0.87      0.86      9769\n",
      "\n"
     ]
    }
   ],
   "source": [
    "preds = model.predict(X_test)\n",
    "print(classification_report(y_test.map({negative_label: 0, positive_label: 1}), preds))"
   ]
  },
  {
   "cell_type": "markdown",
   "id": "55f9b210-4391-445a-8261-d0c137845597",
   "metadata": {},
   "source": [
    "# Finding the affected"
   ]
  },
  {
   "cell_type": "code",
   "execution_count": 11,
   "id": "10e4ea97-b018-4bef-9166-31f3d1289fb3",
   "metadata": {},
   "outputs": [
    {
     "name": "stdout",
     "output_type": "stream",
     "text": [
      "(32561, 15)\n",
      "(7742,)\n",
      "(7742, 14)\n"
     ]
    }
   ],
   "source": [
    "X_aff_idxs = np.where(model.predict(X_test) == 0)[0]\n",
    "print(data.shape)\n",
    "print(X_aff_idxs.shape)\n",
    "X_aff = X_test.iloc[X_aff_idxs, :]\n",
    "print(X_aff.shape)\n",
    "# X_aff.reset_index(inplace=True, drop=True)"
   ]
  },
  {
   "cell_type": "markdown",
   "id": "bd8da668-1729-47a1-8e36-64dfd71d811c",
   "metadata": {},
   "source": [
    "# Running apriori adaptation"
   ]
  },
  {
   "cell_type": "code",
   "execution_count": 12,
   "id": "4db4cc4f-bea3-479c-94f0-df7c3b2e9492",
   "metadata": {},
   "outputs": [
    {
     "name": "stdout",
     "output_type": "stream",
     "text": [
      "       support                                           itemsets\n",
      "0     0.954652                                   (0+Capital Loss)\n",
      "1     0.915037                                   (0+Capital Gain)\n",
      "2     0.895383                            (United-States+Country)\n",
      "55    0.869690                   (0+Capital Loss, 0+Capital Gain)\n",
      "56    0.853619            (0+Capital Loss, United-States+Country)\n",
      "...        ...                                                ...\n",
      "5386  0.030095  (White+Race, 7+Education-Num, 0+Capital Loss, ...\n",
      "1473  0.030095  (Private+Workclass, 0+Capital Loss, Husband+Re...\n",
      "1476  0.030095  (Husband+Relationship, Private+Workclass, Marr...\n",
      "1200  0.030095  (Never-married+Marital Status, 40+Hours per we...\n",
      "4248  0.030095  (Never-married+Marital Status, HS-grad+Educati...\n",
      "\n",
      "[5664 rows x 2 columns]\n"
     ]
    }
   ],
   "source": [
    "d = X_test.drop([sensitive_attribute], axis=1)\n",
    "freq_itemsets = runApriori(preprocessDataset(d), min_support=0.03)\n",
    "print(freq_itemsets)"
   ]
  },
  {
   "cell_type": "code",
   "execution_count": 13,
   "id": "f5a1ba0c-4bd8-4487-83bb-86d636966b39",
   "metadata": {},
   "outputs": [
    {
     "name": "stdout",
     "output_type": "stream",
     "text": [
      "       support                                           itemsets\n",
      "4399  0.030505  (HS-grad+Education, United-States+Country, Div...\n",
      "5533  0.030505  (Married-civ-spouse+Marital Status, 0+Capital ...\n",
      "5366  0.030505  (Married-civ-spouse+Marital Status, Husband+Re...\n",
      "1318  0.030402  (Never-married+Marital Status, 9+Education-Num...\n",
      "5592  0.030402  (0+Capital Loss, 0+Capital Gain, United-States...\n",
      "...        ...                                                ...\n",
      "5386  0.030095  (White+Race, 7+Education-Num, 0+Capital Loss, ...\n",
      "1473  0.030095  (Private+Workclass, 0+Capital Loss, Husband+Re...\n",
      "1476  0.030095  (Husband+Relationship, Private+Workclass, Marr...\n",
      "1200  0.030095  (Never-married+Marital Status, 40+Hours per we...\n",
      "4248  0.030095  (Never-married+Marital Status, HS-grad+Educati...\n",
      "\n",
      "[100 rows x 2 columns]\n"
     ]
    }
   ],
   "source": [
    "print(freq_itemsets.tail(100))\n",
    "# print(freq_itemsets.tail(100).to_string()) # uncomment for more details"
   ]
  },
  {
   "cell_type": "code",
   "execution_count": 14,
   "id": "73c82b06-f6db-499d-baed-3414a1d1f692",
   "metadata": {},
   "outputs": [
    {
     "name": "stdout",
     "output_type": "stream",
     "text": [
      "[Predicate(features=['Capital Loss'], values=['0']),\n",
      " Predicate(features=['Capital Gain'], values=['0']),\n",
      " Predicate(features=['Country'], values=['United-States']),\n",
      " Predicate(features=['Capital Loss', 'Capital Gain'], values=['0', '0']),\n",
      " Predicate(features=['Capital Loss', 'Country'], values=['0', 'United-States']),\n",
      " Predicate(features=['Race'], values=['White']),\n",
      " Predicate(features=['Capital Gain', 'Country'], values=['0', 'United-States']),\n",
      " Predicate(features=['Capital Loss', 'Race'], values=['0', 'White']),\n",
      " Predicate(features=['Race', 'Country'], values=['White', 'United-States']),\n",
      " Predicate(features=['Capital Loss', 'Capital Gain', 'Country'], values=['0', '0', 'United-States'])]\n",
      "5664\n"
     ]
    }
   ],
   "source": [
    "RL = aprioriout2predicateList(freq_itemsets)\n",
    "pprint(RL[:10])\n",
    "print(len(RL))"
   ]
  },
  {
   "cell_type": "markdown",
   "id": "46ab014e-def8-486c-8aca-fc0f0a992508",
   "metadata": {},
   "source": [
    "# Running the optimization procedure"
   ]
  },
  {
   "cell_type": "markdown",
   "id": "8a34a42f-8863-4ed3-95ba-f043e10bd0af",
   "metadata": {},
   "source": [
    "First, get the user-defined SD (subgroup descriptors)"
   ]
  },
  {
   "cell_type": "code",
   "execution_count": 28,
   "id": "f0ea54c6-e650-43f7-a5a4-62d0cbeb1ed3",
   "metadata": {},
   "outputs": [
    {
     "name": "stdout",
     "output_type": "stream",
     "text": [
      "[Predicate(features=['Sex'], values=['Male']), Predicate(features=['Sex'], values=['Female'])]\n"
     ]
    }
   ],
   "source": [
    "SD = list(map(Predicate.from_dict, [\n",
    "    {sensitive_attribute: val} for val in data[sensitive_attribute].unique()\n",
    "]))\n",
    "print(SD)"
   ]
  },
  {
   "cell_type": "markdown",
   "id": "e2b5d8d5-0ec3-4d30-89e2-540b15c5ebe7",
   "metadata": {},
   "source": [
    "Now, we run the submodular optimization"
   ]
  },
  {
   "cell_type": "code",
   "execution_count": 29,
   "id": "ad20d992-c4a0-4cd6-829d-8f100a492602",
   "metadata": {},
   "outputs": [
    {
     "name": "stdout",
     "output_type": "stream",
     "text": [
      "Total triples = 180\n",
      "X_aff shape before: (7742, 14)\n",
      "Calculated incorrect recourse for each triple\n",
      "Calculated feature costs for each triple\n",
      "Calculated feature changes for each feature\n",
      "X_aff shape after: (7742, 14)\n",
      "set()\n",
      "Calculated covers for each triple\n",
      "21\n",
      "CPU times: total: 2min 56s\n",
      "Wall time: 1min 17s\n"
     ]
    }
   ],
   "source": [
    "%%time\n",
    "\n",
    "final_rules = optimize(SD, RL[:400], X_aff, model)"
   ]
  },
  {
   "cell_type": "code",
   "execution_count": 30,
   "id": "dc6528fb-0306-4167-a7d3-50c9214569b2",
   "metadata": {},
   "outputs": [
    {
     "name": "stdout",
     "output_type": "stream",
     "text": [
      "([(Predicate(features=['Sex'], values=['Male']),\n",
      "   Predicate(features=['Education-Num'], values=['10']),\n",
      "   Predicate(features=['Education-Num'], values=['13'])),\n",
      "  (Predicate(features=['Sex'], values=['Female']),\n",
      "   Predicate(features=['Marital Status'], values=['Never-married']),\n",
      "   Predicate(features=['Marital Status'], values=['Married-civ-spouse'])),\n",
      "  (Predicate(features=['Sex'], values=['Male']),\n",
      "   Predicate(features=['Education-Num'], values=['9']),\n",
      "   Predicate(features=['Education-Num'], values=['13'])),\n",
      "  (Predicate(features=['Sex'], values=['Male']),\n",
      "   Predicate(features=['Education'], values=['Bachelors']),\n",
      "   Predicate(features=['Education'], values=['Some-college']))],\n",
      " -4085,\n",
      " 4845,\n",
      " -4,\n",
      " -4)\n"
     ]
    }
   ],
   "source": [
    "pprint(final_rules)"
   ]
  },
  {
   "cell_type": "code",
   "execution_count": 19,
   "id": "ac7ec3b4-c006-4dfb-b584-96fbbe479c27",
   "metadata": {},
   "outputs": [
    {
     "name": "stdout",
     "output_type": "stream",
     "text": [
      "([(Predicate(features=['Sex'], values=['Female']),\n",
      "   Predicate(features=['Marital Status'], values=['Never-married']),\n",
      "   Predicate(features=['Marital Status'], values=['Married-civ-spouse']))],\n",
      " -1248,\n",
      " 1362,\n",
      " -1,\n",
      " -1)\n"
     ]
    }
   ],
   "source": [
    "pprint(final_rules)"
   ]
  },
  {
   "cell_type": "code",
   "execution_count": 38,
   "id": "7adcc281-b63a-4068-9a43-9ae9bfcbd34f",
   "metadata": {},
   "outputs": [
    {
     "name": "stdout",
     "output_type": "stream",
     "text": [
      "([(Predicate(features=['Sex'], values=['Female']),\n",
      "   Predicate(features=['Marital Status'], values=['Never-married']),\n",
      "   Predicate(features=['Marital Status'], values=['Married-civ-spouse']))],\n",
      " -67,\n",
      " 72,\n",
      " -1,\n",
      " -1)\n"
     ]
    }
   ],
   "source": [
    "pprint(final_rules)"
   ]
  },
  {
   "cell_type": "code",
   "execution_count": 19,
   "id": "04b69c8e-f34d-4d4a-bef7-08f8e28099be",
   "metadata": {},
   "outputs": [
    {
     "name": "stdout",
     "output_type": "stream",
     "text": [
      "([(Predicate(features=['Sex'], values=['Female']),\n",
      "   Predicate(features=['Marital Status'], values=['Never-married']),\n",
      "   Predicate(features=['Marital Status'], values=['Married-civ-spouse']))],\n",
      " -70,\n",
      " 75,\n",
      " -1,\n",
      " -1)\n"
     ]
    }
   ],
   "source": [
    "pprint(final_rules)"
   ]
  },
  {
   "cell_type": "code",
   "execution_count": 29,
   "id": "1a45b5eb-a88a-4987-a5fe-f6174b25900a",
   "metadata": {},
   "outputs": [
    {
     "name": "stdout",
     "output_type": "stream",
     "text": [
      "([(Predicate(features=['Sex'], values=['Female']),\n",
      "   Predicate(features=['Education-Num'], values=['9']),\n",
      "   Predicate(features=['Education-Num'], values=['13'])),\n",
      "  (Predicate(features=['Sex'], values=['Male']),\n",
      "   Predicate(features=['Education-Num'], values=['9']),\n",
      "   Predicate(features=['Education-Num'], values=['13'])),\n",
      "  (Predicate(features=['Sex'], values=['Male']),\n",
      "   Predicate(features=['Education-Num'], values=['10']),\n",
      "   Predicate(features=['Education-Num'], values=['13']))],\n",
      " -159,\n",
      " 206,\n",
      " -3,\n",
      " -3)\n"
     ]
    }
   ],
   "source": [
    "pprint(final_rules)"
   ]
  },
  {
   "cell_type": "code",
   "execution_count": null,
   "id": "41479477-99d4-4691-b119-4b8c7c6c1eae",
   "metadata": {},
   "outputs": [],
   "source": []
  }
 ],
 "metadata": {
  "kernelspec": {
   "display_name": "Python 3 (ipykernel)",
   "language": "python",
   "name": "python3"
  },
  "language_info": {
   "codemirror_mode": {
    "name": "ipython",
    "version": 3
   },
   "file_extension": ".py",
   "mimetype": "text/x-python",
   "name": "python",
   "nbconvert_exporter": "python",
   "pygments_lexer": "ipython3",
   "version": "3.9.15"
  }
 },
 "nbformat": 4,
 "nbformat_minor": 5
}
