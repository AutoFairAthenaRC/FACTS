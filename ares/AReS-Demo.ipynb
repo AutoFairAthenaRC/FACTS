{
 "cells": [
  {
   "cell_type": "code",
   "execution_count": 1,
   "id": "d9ad0eb4-af28-40fa-809f-b594911a2eed",
   "metadata": {},
   "outputs": [],
   "source": [
    "import numpy as np\n",
    "import pandas as pd\n",
    "from pprint import pprint\n",
    "\n",
    "from sklearn.model_selection import train_test_split\n",
    "from sklearn.metrics import classification_report\n",
    "\n",
    "# place all *.py files in the same folder\n",
    "import lib2\n",
    "from lib2 import Predicate\n",
    "from models import customXGB\n",
    "from frequent_itemsets import preprocessDataset, runApriori, aprioriout2predicateList\n",
    "from parameters import ParameterProxy\n",
    "\n",
    "import matplotlib.pyplot as plt"
   ]
  },
  {
   "cell_type": "code",
   "execution_count": 2,
   "id": "a14f58b7-a232-44a3-baa8-bcb490b4c891",
   "metadata": {},
   "outputs": [],
   "source": [
    "DATAFILE = '../adult.data' # location of dataset\n",
    "random_state = None # change to something for exactly reproducible results\n",
    "sensitive_attribute = \"Sex\"\n",
    "target_name = \"label\"\n",
    "positive_label = \">50K\"\n",
    "negative_label = \"<=50K\"\n",
    "model_train_fraction = 0.7"
   ]
  },
  {
   "cell_type": "code",
   "execution_count": 3,
   "id": "7f9e7715-a1de-4228-a36b-2fa66f0499a0",
   "metadata": {},
   "outputs": [],
   "source": [
    "# specify feature names\n",
    "feature_names = [\n",
    "   \"Age\", \"Workclass\", \"fnlwgt\", \"Education\",\n",
    "   \"Education-Num\", \"Marital Status\", \"Occupation\",\n",
    "   \"Relationship\", \"Race\", \"Sex\", \"Capital Gain\",\n",
    "   \"Capital Loss\", \"Hours per week\", \"Country\", \"label\"\n",
    "]\n",
    "# specify categorical columns\n",
    "cate_columns = ['Workclass', 'Education', 'Marital Status', 'Occupation', 'Relationship', 'Race', 'Sex', 'Country']"
   ]
  },
  {
   "cell_type": "code",
   "execution_count": 4,
   "id": "443fb73f-7fbb-43c2-a26f-d695c34d2e3e",
   "metadata": {},
   "outputs": [],
   "source": [
    "# WARNING: after changing any of the values, restart the notebook\n",
    "\n",
    "# define featureCost as a mapping holding, for each feature name, the respective cost of not keeping that feature constant\n",
    "# Any feature not specified will have its cost set to 1\n",
    "featureCosts = {\"Sex\": 100}\n",
    "\n",
    "# define featureChange as a mapping from str to function, holding, for each feature name, the respective \n",
    "# function that calculates the cost of change from one value to another.\n",
    "# Any feature change not specified will be set to 1 if there is change, and 0 otherwise.\n",
    "def age_cost(age1: str, age2: str) -> int:\n",
    "    return abs(int(age1) - int(age2))\n",
    "featureChange = {\"Age\": age_cost}\n",
    "\n",
    "# set the weights that manage the relative influence of coverage, correctness, feature cost and feature change\n",
    "# in the objective function of the algorithm\n",
    "l_cover = 1\n",
    "l_correct = 2\n",
    "l_cost = 1\n",
    "l_change = 1"
   ]
  },
  {
   "cell_type": "code",
   "execution_count": 5,
   "id": "84bf50ed-a251-4b18-a644-76ae3fe9d8ec",
   "metadata": {},
   "outputs": [],
   "source": [
    "params = ParameterProxy(\n",
    "    featureCosts=featureCosts,\n",
    "    featureChanges=featureChange,\n",
    "    lambda_correctness=l_correct,\n",
    "    lambda_cover=l_cover,\n",
    "    lambda_featureChange=l_change,\n",
    "    lambda_featureCost=l_cost\n",
    ")"
   ]
  },
  {
   "cell_type": "markdown",
   "id": "dbbbed12-ca00-4fa2-9848-2071e551fc71",
   "metadata": {},
   "source": [
    "# Data loading\n",
    "\n",
    "Loads the dataset into variable `data`. Just run it."
   ]
  },
  {
   "cell_type": "code",
   "execution_count": 6,
   "id": "ad3a184d-9480-45da-8fb3-7aa9d90e50d6",
   "metadata": {},
   "outputs": [],
   "source": [
    "data = pd.DataFrame(\n",
    "  np.genfromtxt(DATAFILE, delimiter=', ', dtype=str),\n",
    "  columns=feature_names\n",
    ")"
   ]
  },
  {
   "cell_type": "markdown",
   "id": "5365ab95-0fae-4096-8386-ec59403d0f13",
   "metadata": {},
   "source": [
    "# Train test split\n",
    "\n",
    "Split into train-test. The train set is used specifically for training the model, and nothing further."
   ]
  },
  {
   "cell_type": "code",
   "execution_count": 7,
   "id": "53770132-fd7a-4078-adfb-84ec6554bfbe",
   "metadata": {},
   "outputs": [],
   "source": [
    "X = data.drop(target_name, axis=1)\n",
    "y = data[target_name]\n",
    "\n",
    "X_train, X_test, y_train, y_test = train_test_split(X, y, train_size=model_train_fraction, random_state=random_state)\n",
    "\n",
    "X_train = X_train.reset_index(drop=True)\n",
    "X_test = X_test.reset_index(drop=True)\n",
    "y_train = y_train.reset_index(drop=True)\n",
    "y_test = y_test.reset_index(drop=True)"
   ]
  },
  {
   "cell_type": "markdown",
   "id": "d966d8d8-6729-4c56-8fdf-2161cbc3b2c5",
   "metadata": {},
   "source": [
    "# Definition and Training of a black-box model\n",
    "\n",
    "We use a black box model based on gradient boosted decision trees."
   ]
  },
  {
   "cell_type": "code",
   "execution_count": 8,
   "id": "029a2893-6a54-4809-a999-a6638c8a3df9",
   "metadata": {},
   "outputs": [
    {
     "data": {
      "text/plain": [
       "array([0, 0, 0, 0, 0, 1, 0, 0, 0, 1, 1, 0, 0, 0, 0, 1, 0, 0, 0, 0, 0, 0,\n",
       "       0, 1, 0, 0, 1, 0, 0, 0, 0, 0, 0, 1, 0, 0, 0, 0, 1, 0, 0, 1, 0, 0,\n",
       "       1, 0, 0, 0, 0, 1, 0, 0, 0, 0, 0, 0, 0, 1, 0, 0, 0, 0, 0, 0, 1, 1,\n",
       "       0, 0, 0, 1, 0, 0, 0, 0, 0, 0, 0, 0, 0, 0, 0, 0, 0, 0, 0, 1, 0, 0,\n",
       "       0, 1, 0, 0, 0, 0, 0, 0, 0, 0, 0, 0])"
      ]
     },
     "execution_count": 8,
     "metadata": {},
     "output_type": "execute_result"
    }
   ],
   "source": [
    "model = customXGB(n_estimators=300, max_depth=5)\n",
    "model.fit(X_train, y_train, cate_columns=cate_columns)\n",
    "model.predict(X_test.iloc[:100, :])"
   ]
  },
  {
   "cell_type": "markdown",
   "id": "25d0b6a0-54b6-44ad-b5d4-83e3ef621fe4",
   "metadata": {},
   "source": [
    "0 denotes the negative and 1 the positive class."
   ]
  },
  {
   "cell_type": "markdown",
   "id": "bb10a762-760d-467c-9488-d5265ef7f15c",
   "metadata": {},
   "source": [
    "# Testing the model\n",
    "\n",
    "We check if the model is satisfactory."
   ]
  },
  {
   "cell_type": "code",
   "execution_count": 9,
   "id": "9b500ea5-c9e4-4523-a150-f21e6373c9f2",
   "metadata": {},
   "outputs": [
    {
     "name": "stdout",
     "output_type": "stream",
     "text": [
      "              precision    recall  f1-score   support\n",
      "\n",
      "           0       0.90      0.93      0.91      7420\n",
      "           1       0.75      0.66      0.70      2349\n",
      "\n",
      "    accuracy                           0.86      9769\n",
      "   macro avg       0.82      0.79      0.81      9769\n",
      "weighted avg       0.86      0.86      0.86      9769\n",
      "\n"
     ]
    }
   ],
   "source": [
    "preds = model.predict(X_test)\n",
    "print(classification_report(y_test.map({negative_label: 0, positive_label: 1}), preds))"
   ]
  },
  {
   "cell_type": "markdown",
   "id": "55f9b210-4391-445a-8261-d0c137845597",
   "metadata": {},
   "source": [
    "# Finding the affected\n",
    "\n",
    "We check the predictions of the model on the test data, i.e. our population. The ones that get a 0 (negative outcome) are called the affected individuals."
   ]
  },
  {
   "cell_type": "code",
   "execution_count": 10,
   "id": "10e4ea97-b018-4bef-9166-31f3d1289fb3",
   "metadata": {},
   "outputs": [
    {
     "name": "stdout",
     "output_type": "stream",
     "text": [
      "Test data shape: (9769, 14)\n",
      "Affected shape: (7704, 14)\n"
     ]
    }
   ],
   "source": [
    "X_aff_idxs = np.where(model.predict(X_test) == 0)[0]\n",
    "print(f\"Test data shape: {X_test.shape}\")\n",
    "X_aff = X_test.iloc[X_aff_idxs, :]\n",
    "print(f\"Affected shape: {X_aff.shape}\")\n",
    "# X_aff.reset_index(inplace=True, drop=True)"
   ]
  },
  {
   "cell_type": "markdown",
   "id": "64ecfc54-9059-4320-8d98-d5c8e390795d",
   "metadata": {},
   "source": [
    "This means that the model classifies into the negative class about 7000 out of the 10000 total (test set) individuals."
   ]
  },
  {
   "cell_type": "markdown",
   "id": "75804d75-805c-48e1-93f3-4e52fdac6253",
   "metadata": {},
   "source": [
    "## and the unaffected"
   ]
  },
  {
   "cell_type": "code",
   "execution_count": 11,
   "id": "a1ed89dd-ece1-4bfe-913e-6bccb50cff95",
   "metadata": {},
   "outputs": [
    {
     "name": "stdout",
     "output_type": "stream",
     "text": [
      "Unaffected shape: (2065, 14)\n"
     ]
    }
   ],
   "source": [
    "X_unaff_idxs = np.where(model.predict(X_test) == 1)[0]\n",
    "X_unaff = X_test.iloc[X_unaff_idxs, :]\n",
    "print(f\"Unaffected shape: {X_unaff.shape}\")\n",
    "# X_aff.reset_index(inplace=True, drop=True)"
   ]
  },
  {
   "cell_type": "code",
   "execution_count": 12,
   "id": "019fdf55-714d-4254-9664-766bd79a7949",
   "metadata": {},
   "outputs": [
    {
     "data": {
      "text/plain": [
       "0        1557\n",
       "15024      96\n",
       "7688       90\n",
       "7298       75\n",
       "99999      51\n",
       "3103       35\n",
       "5178       24\n",
       "4386       23\n",
       "8614       17\n",
       "27828      16\n",
       "20051      14\n",
       "10520      10\n",
       "14344      10\n",
       "4787       10\n",
       "9386        8\n",
       "13550       7\n",
       "14084       6\n",
       "25236       4\n",
       "7430        2\n",
       "10566       2\n",
       "15831       2\n",
       "4931        1\n",
       "25124       1\n",
       "41310       1\n",
       "15020       1\n",
       "10605       1\n",
       "4508        1\n",
       "Name: Capital Gain, dtype: int64"
      ]
     },
     "execution_count": 12,
     "metadata": {},
     "output_type": "execute_result"
    }
   ],
   "source": [
    "X_unaff[\"Capital Gain\"].value_counts()"
   ]
  },
  {
   "cell_type": "markdown",
   "id": "bd8da668-1729-47a1-8e36-64dfd71d811c",
   "metadata": {},
   "source": [
    "# Running apriori adaptation\n",
    "\n",
    "We now generate the frequent itemsets of the datasets. These are used by the global counterfactual generating algorithm, in order to try and cover as many affected individuals as possible.\n",
    "\n",
    "Here, we have implemented a simple `runApriori` wrapper function, which basically runs the fpgrowth algorithm for frequent itemset mining of the library mlxtend. It returns a dataframe with two columns, an $itemset$ column which contains the itemsets, in the form value tuples, and a $support$ column, which contains the relative frequency with which the itemset is contained in the dataset. Meaning, the fraction of individuals which have this specific combination of feature values.\n",
    "\n",
    "Notice that we can give a minimum support as an argument to the function. This means that it returns only those itemsets whose support are above this value.\n",
    "\n",
    "*Note*: You can ignore the \"+feature_name\" part. It has been appended to every value for implementation reasons, so that we know the \"type\" of each value, i.e. the feature it corresponds to. For example, whether a 0 is a value for \"Capital Loss\" or for \"Capital Gain\"."
   ]
  },
  {
   "cell_type": "code",
   "execution_count": 13,
   "id": "d9817599-a327-4414-a9bb-974582365742",
   "metadata": {},
   "outputs": [],
   "source": [
    "males_affected = X_aff[X_aff[\"Sex\"] == \"Male\"].drop([sensitive_attribute], axis=1)\n",
    "males_unaffected = X_unaff[X_unaff[\"Sex\"] == \"Male\"].drop([sensitive_attribute], axis=1)\n",
    "females_affected = X_aff[X_aff[\"Sex\"] == \"Female\"].drop([sensitive_attribute], axis=1)\n",
    "females_unaffected = X_unaff[X_unaff[\"Sex\"] == \"Female\"].drop([sensitive_attribute], axis=1)"
   ]
  },
  {
   "cell_type": "code",
   "execution_count": 14,
   "id": "41f910ec-dbd7-404f-93d7-e8067a5dda5b",
   "metadata": {},
   "outputs": [],
   "source": [
    "freq_ma = runApriori(preprocessDataset(males_affected), min_support=0.03)\n",
    "freq_mu = runApriori(preprocessDataset(males_unaffected), min_support=0.03)\n",
    "freq_fa = runApriori(preprocessDataset(females_affected), min_support=0.03)\n",
    "freq_fu = runApriori(preprocessDataset(females_unaffected), min_support=0.03)"
   ]
  },
  {
   "cell_type": "code",
   "execution_count": 15,
   "id": "f5cc59b1-3246-41cb-bf45-cef3407a3f9e",
   "metadata": {},
   "outputs": [],
   "source": [
    "RL_ma, _ = aprioriout2predicateList(freq_ma)\n",
    "RL_mu, _ = aprioriout2predicateList(freq_mu)\n",
    "RL_fa, _ = aprioriout2predicateList(freq_fa)\n",
    "RL_fu, _ = aprioriout2predicateList(freq_fu)"
   ]
  },
  {
   "cell_type": "code",
   "execution_count": 16,
   "id": "4db4cc4f-bea3-479c-94f0-df7c3b2e9492",
   "metadata": {},
   "outputs": [],
   "source": [
    "d = X_test.drop([sensitive_attribute], axis=1)\n",
    "freq_itemsets = runApriori(preprocessDataset(d), min_support=0.03)\n",
    "freq_itemsets.reset_index()\n",
    "# print(freq_itemsets.head())\n",
    "# print(freq_itemsets.head(100).to_string())\n",
    "RL, _ = aprioriout2predicateList(freq_itemsets)\n",
    "# pprint(RL[:10])\n",
    "# print(len(RL))"
   ]
  },
  {
   "cell_type": "markdown",
   "id": "b851a61e-9847-45c6-a427-b1b977d2420a",
   "metadata": {},
   "source": [
    "Next, we use the function `aprioriout2predicateList`, which \"casts\" the output of the frequent itemset mining algorithm to our internal representation of a \"triple\" (as in the ares paper). This representation is the class `Predicate`.\n",
    "\n",
    "RL is the initial set of candidate predicates (taken as the output of the itemset algo), from which we will then pick pairs to represent our rules (as in ares paper)."
   ]
  },
  {
   "cell_type": "markdown",
   "id": "46ab014e-def8-486c-8aca-fc0f0a992508",
   "metadata": {},
   "source": [
    "# Running the optimization procedure"
   ]
  },
  {
   "cell_type": "markdown",
   "id": "8a34a42f-8863-4ed3-95ba-f043e10bd0af",
   "metadata": {},
   "source": [
    "First, just turn the user-defined SD (subgroup descriptors) to predicates."
   ]
  },
  {
   "cell_type": "code",
   "execution_count": 17,
   "id": "a8dbd9e8-028c-419e-aab9-3d1f3e7ac9b0",
   "metadata": {},
   "outputs": [],
   "source": [
    "from metrics import incorrectRecoursesSubmodular, incorrectRecourses, cover, featureCost, featureChange\n",
    "from optimization import optimize_vanilla\n",
    "from lib2 import recourse_report\n",
    "from recourse_sets import TwoLevelRecourseSet"
   ]
  },
  {
   "cell_type": "code",
   "execution_count": 18,
   "id": "f0ea54c6-e650-43f7-a5a4-62d0cbeb1ed3",
   "metadata": {},
   "outputs": [],
   "source": [
    "SD = list(map(Predicate.from_dict, [\n",
    "    {sensitive_attribute: val} for val in data[sensitive_attribute].unique()\n",
    "]))"
   ]
  },
  {
   "cell_type": "code",
   "execution_count": 19,
   "id": "ee4225c9-bd52-484c-8035-bcbb8df9b9b2",
   "metadata": {},
   "outputs": [
    {
     "name": "stdout",
     "output_type": "stream",
     "text": [
      "(7704, 14)\n"
     ]
    }
   ],
   "source": [
    "print(X_aff.shape)"
   ]
  },
  {
   "cell_type": "markdown",
   "id": "e2b5d8d5-0ec3-4d30-89e2-540b15c5ebe7",
   "metadata": {},
   "source": [
    "Now, we run the submodular optimization."
   ]
  },
  {
   "cell_type": "code",
   "execution_count": 21,
   "id": "ad20d992-c4a0-4cd6-829d-8f100a492602",
   "metadata": {},
   "outputs": [
    {
     "name": "stdout",
     "output_type": "stream",
     "text": [
      "Total triples = 144\n",
      "Calculated incorrect recourse for each triple\n",
      "Calculated feature costs for each triple\n",
      "Calculated feature changes for each feature\n",
      "Calculated covers for each triple\n",
      "CPU times: total: 18.4 s\n",
      "Wall time: 2.21 s\n"
     ]
    }
   ],
   "source": [
    "%%time\n",
    "\n",
    "final_rules = optimize_vanilla(SD, RL[:400], X_aff[:400], model)"
   ]
  },
  {
   "cell_type": "code",
   "execution_count": 22,
   "id": "07a1102e-30f3-4117-8f3d-a081fd470cfe",
   "metadata": {},
   "outputs": [
    {
     "name": "stdout",
     "output_type": "stream",
     "text": [
      "Total coverage: 56.140% (over all affected).\n",
      "Total incorrect recourses: 85.341% (over all those covered).\n",
      "Total feature cost: 3.\n",
      "Total feature change: 3.\n",
      "If Sex = Female:\n",
      "\tIf Marital Status = Never-married,\n",
      "\tThen Marital Status = Married-civ-spouse.\n",
      "\t\tCoverage: 17.601% over all affected.\n",
      "\t\tIncorrect recourses additive: 92.404% over all individuals covered by this rule.\n",
      "\t\tIncorrect recourses at-least-one: 92.404% over all individuals covered by this rule.\n",
      "If Sex = Male:\n",
      "\tIf Education-Num = 10,\n",
      "\tThen Education-Num = 13.\n",
      "\t\tCoverage: 13.318% over all affected.\n",
      "\t\tIncorrect recourses additive: 85.965% over all individuals covered by this rule.\n",
      "\t\tIncorrect recourses at-least-one: 85.965% over all individuals covered by this rule.\n",
      "\tIf Education-Num = 9,\n",
      "\tThen Education-Num = 13.\n",
      "\t\tCoverage: 25.221% over all affected.\n",
      "\t\tIncorrect recourses additive: 80.082% over all individuals covered by this rule.\n",
      "\t\tIncorrect recourses at-least-one: 80.082% over all individuals covered by this rule.\n",
      "\n"
     ]
    }
   ],
   "source": [
    "two_level_recourses = TwoLevelRecourseSet.from_triples(final_rules[0])\n",
    "print(recourse_report(two_level_recourses, X_aff, model))"
   ]
  },
  {
   "cell_type": "code",
   "execution_count": 23,
   "id": "a5073d7c-4c29-4d2f-a7ab-627f6996aa03",
   "metadata": {},
   "outputs": [],
   "source": [
    "from optimization import optimize"
   ]
  },
  {
   "cell_type": "code",
   "execution_count": 24,
   "id": "a41b506c-7219-4c19-a3bc-eefd216eb8ee",
   "metadata": {},
   "outputs": [
    {
     "name": "stdout",
     "output_type": "stream",
     "text": [
      "6395\n",
      "8739\n",
      "6605\n",
      "9894\n"
     ]
    }
   ],
   "source": [
    "print(len(RL_ma))\n",
    "print(len(RL_mu))\n",
    "print(len(RL_fa))\n",
    "print(len(RL_fu))"
   ]
  },
  {
   "cell_type": "code",
   "execution_count": 28,
   "id": "da7bb75d-2121-4363-9720-ecfe11b73cee",
   "metadata": {},
   "outputs": [
    {
     "name": "stdout",
     "output_type": "stream",
     "text": [
      "Total triples = 218\n",
      "Calculated incorrect recourse for each triple\n",
      "Calculated feature costs for each triple\n",
      "Calculated feature changes for each feature\n",
      "Calculated covers for each triple\n",
      "CPU times: total: 2min 53s\n",
      "Wall time: 1min 35s\n"
     ]
    }
   ],
   "source": [
    "%%time\n",
    "\n",
    "final_rules_separate = optimize(\n",
    "    SD,\n",
    "    ifs={\"Male\": RL_ma[:500], \"Female\": RL_fa[:500]},\n",
    "    thens={\"Male\": RL_mu[:500], \"Female\": RL_fu[:500]},\n",
    "    X_aff=X_aff,\n",
    "    model=model\n",
    ")"
   ]
  },
  {
   "cell_type": "code",
   "execution_count": 29,
   "id": "d02a1ee3-9488-4172-a6bb-4dd109e9f423",
   "metadata": {},
   "outputs": [
    {
     "name": "stdout",
     "output_type": "stream",
     "text": [
      "If Sex = Female:\n",
      "\tIf Marital Status = Never-married,\n",
      "\tThen Marital Status = Married-civ-spouse.\n",
      "\t\tCoverage: 18.446% over all affected.\n",
      "\t\tIncorrect recourses additive: 92.862% over all individuals covered by this rule.\n",
      "\t\tIncorrect recourses at-least-one: 92.862% over all individuals covered by this rule.\n",
      "\tIf Marital Status = Divorced,\n",
      "\tThen Marital Status = Married-civ-spouse.\n",
      "\t\tCoverage: 10.249% over all affected.\n",
      "\t\tIncorrect recourses additive: 87.280% over all individuals covered by this rule.\n",
      "\t\tIncorrect recourses at-least-one: 87.280% over all individuals covered by this rule.\n",
      "If Sex = Male:\n",
      "\tIf Education-Num = 9,\n",
      "\tThen Education-Num = 13.\n",
      "\t\tCoverage: 23.816% over all affected.\n",
      "\t\tIncorrect recourses additive: 76.152% over all individuals covered by this rule.\n",
      "\t\tIncorrect recourses at-least-one: 76.152% over all individuals covered by this rule.\n",
      "\tIf Education-Num = 10,\n",
      "\tThen Education-Num = 13.\n",
      "\t\tCoverage: 13.605% over all affected.\n",
      "\t\tIncorrect recourses additive: 84.630% over all individuals covered by this rule.\n",
      "\t\tIncorrect recourses at-least-one: 84.630% over all individuals covered by this rule.\n",
      "\n"
     ]
    }
   ],
   "source": [
    "two_level_recourses = TwoLevelRecourseSet.from_triples(final_rules_separate[0])\n",
    "print(recourse_report(two_level_recourses, X_aff, model))"
   ]
  },
  {
   "cell_type": "code",
   "execution_count": null,
   "id": "89a852d9-17db-4cc8-907e-2d4cd7722bbe",
   "metadata": {},
   "outputs": [],
   "source": []
  }
 ],
 "metadata": {
  "kernelspec": {
   "display_name": "Python 3 (ipykernel)",
   "language": "python",
   "name": "python3"
  },
  "language_info": {
   "codemirror_mode": {
    "name": "ipython",
    "version": 3
   },
   "file_extension": ".py",
   "mimetype": "text/x-python",
   "name": "python",
   "nbconvert_exporter": "python",
   "pygments_lexer": "ipython3",
   "version": "3.9.15"
  }
 },
 "nbformat": 4,
 "nbformat_minor": 5
}
