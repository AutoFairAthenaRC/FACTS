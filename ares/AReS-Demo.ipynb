{
 "cells": [
  {
   "cell_type": "code",
   "execution_count": 1,
   "id": "d9ad0eb4-af28-40fa-809f-b594911a2eed",
   "metadata": {},
   "outputs": [],
   "source": [
    "import numpy as np\n",
    "import pandas as pd\n",
    "from pprint import pprint\n",
    "\n",
    "from sklearn.model_selection import train_test_split\n",
    "from sklearn.metrics import classification_report\n",
    "\n",
    "# place all *.py files in the same folder\n",
    "import lib2\n",
    "from lib2 import Predicate, optimize\n",
    "from models import customXGB\n",
    "from apriori import preprocessDataset, runApriori, aprioriout2predicateList\n",
    "\n",
    "import matplotlib.pyplot as plt"
   ]
  },
  {
   "cell_type": "code",
   "execution_count": 2,
   "id": "a14f58b7-a232-44a3-baa8-bcb490b4c891",
   "metadata": {},
   "outputs": [],
   "source": [
    "DATAFILE = '../adult.data' # location of dataset\n",
    "random_state = None # change to something for exactly reproducible results\n",
    "sensitive_attribute = \"Sex\"\n",
    "target_name = \"label\"\n",
    "positive_label = \">50K\"\n",
    "negative_label = \"<=50K\"\n",
    "model_train_fraction = 0.7"
   ]
  },
  {
   "cell_type": "code",
   "execution_count": 3,
   "id": "7f9e7715-a1de-4228-a36b-2fa66f0499a0",
   "metadata": {},
   "outputs": [],
   "source": [
    "# specify feature names\n",
    "feature_names = [\n",
    "   \"Age\", \"Workclass\", \"fnlwgt\", \"Education\",\n",
    "   \"Education-Num\", \"Marital Status\", \"Occupation\",\n",
    "   \"Relationship\", \"Race\", \"Sex\", \"Capital Gain\",\n",
    "   \"Capital Loss\", \"Hours per week\", \"Country\", \"label\"\n",
    "]\n",
    "# specify categorical columns\n",
    "cate_columns = ['Workclass', 'Education', 'Marital Status', 'Occupation', 'Relationship', 'Race', 'Sex', 'Country']"
   ]
  },
  {
   "cell_type": "code",
   "execution_count": 4,
   "id": "443fb73f-7fbb-43c2-a26f-d695c34d2e3e",
   "metadata": {},
   "outputs": [],
   "source": [
    "# define featureCost as a mapping holding, for each feature name, the respective cost of not keeping that feature constant\n",
    "# Any feature not specified will have its cost set to 1\n",
    "featureCosts = {\"Sex\": 100}\n",
    "\n",
    "# define featureChange as a mapping from str to function, holding, for each feature name, the respective \n",
    "# function that calculates the cost of change from one value to another.\n",
    "# Any feature change not specified will be set to 1 if there is change, and 0 otherwise.\n",
    "def age_cost(age1: str, age2: str) -> int:\n",
    "    return abs(int(age1) - int(age2))\n",
    "featureChange = {\"Age\": age_cost}\n",
    "\n",
    "# set the weights that manage the relative influence of coverage, correctness, feature cost and feature change\n",
    "# in the objective function of the algorithm\n",
    "l_cover = 1\n",
    "l_correct = 1\n",
    "l_cost = 1\n",
    "l_change = 1"
   ]
  },
  {
   "cell_type": "code",
   "execution_count": 5,
   "id": "84bf50ed-a251-4b18-a644-76ae3fe9d8ec",
   "metadata": {},
   "outputs": [],
   "source": [
    "lib2.setFeatureCost(featureCosts)\n",
    "lib2.setFeatureChange(featureChange)\n",
    "lib2.set_lambdas(l_cover, l_correct, l_cost, l_change)"
   ]
  },
  {
   "cell_type": "markdown",
   "id": "dbbbed12-ca00-4fa2-9848-2071e551fc71",
   "metadata": {},
   "source": [
    "# Data loading\n",
    "\n",
    "Loads the dataset into variable `data`. Just run it."
   ]
  },
  {
   "cell_type": "code",
   "execution_count": 6,
   "id": "ad3a184d-9480-45da-8fb3-7aa9d90e50d6",
   "metadata": {},
   "outputs": [],
   "source": [
    "data = pd.DataFrame(\n",
    "  np.genfromtxt(DATAFILE, delimiter=', ', dtype=str),\n",
    "  columns=feature_names\n",
    ")"
   ]
  },
  {
   "cell_type": "markdown",
   "id": "5365ab95-0fae-4096-8386-ec59403d0f13",
   "metadata": {},
   "source": [
    "# Train test split\n",
    "\n",
    "Split into train-test. The train set is used specifically for training the model, and nothing further."
   ]
  },
  {
   "cell_type": "code",
   "execution_count": 7,
   "id": "53770132-fd7a-4078-adfb-84ec6554bfbe",
   "metadata": {},
   "outputs": [],
   "source": [
    "X = data.drop(target_name, axis=1)\n",
    "y = data[target_name]\n",
    "\n",
    "X_train, X_test, y_train, y_test = train_test_split(X, y, train_size=model_train_fraction, random_state=random_state)\n",
    "\n",
    "X_train = X_train.reset_index(drop=True)\n",
    "X_test = X_test.reset_index(drop=True)\n",
    "y_train = y_train.reset_index(drop=True)\n",
    "y_test = y_test.reset_index(drop=True)"
   ]
  },
  {
   "cell_type": "markdown",
   "id": "d966d8d8-6729-4c56-8fdf-2161cbc3b2c5",
   "metadata": {},
   "source": [
    "# Definition and Training of a black-box model\n",
    "\n",
    "We use a black box model based on gradient boosted decision trees."
   ]
  },
  {
   "cell_type": "code",
   "execution_count": 8,
   "id": "029a2893-6a54-4809-a999-a6638c8a3df9",
   "metadata": {},
   "outputs": [
    {
     "data": {
      "text/plain": [
       "<models.customXGB at 0x1480c93d7f0>"
      ]
     },
     "execution_count": 8,
     "metadata": {},
     "output_type": "execute_result"
    }
   ],
   "source": [
    "model = customXGB(n_estimators=300, max_depth=5)\n",
    "model.fit(X_train, y_train, cate_columns=cate_columns)"
   ]
  },
  {
   "cell_type": "markdown",
   "id": "25d0b6a0-54b6-44ad-b5d4-83e3ef621fe4",
   "metadata": {},
   "source": [
    "0 denotes the negative and 1 the positive class."
   ]
  },
  {
   "cell_type": "code",
   "execution_count": 9,
   "id": "0d781fbd-9211-4717-a17c-23de82e751fe",
   "metadata": {},
   "outputs": [
    {
     "data": {
      "text/plain": [
       "array([0, 0, 1, 0, 0, 0, 0, 0, 0, 0, 0, 0, 0, 0, 0, 1, 0, 0, 0, 0, 0, 0,\n",
       "       0, 0, 0, 0, 1, 1, 0, 1, 0, 0, 0, 0, 0, 0, 0, 0, 1, 0, 0, 0, 0, 0,\n",
       "       0, 0, 1, 0, 0, 0, 1, 1, 0, 1, 0, 0, 0, 0, 0, 0, 0, 0, 0, 0, 0, 1,\n",
       "       0, 1, 1, 1, 0, 0, 0, 0, 1, 0, 0, 0, 1, 0, 0, 0, 0, 1, 0, 0, 0, 0,\n",
       "       0, 1, 0, 1, 0, 0, 0, 0, 0, 0, 0, 0])"
      ]
     },
     "execution_count": 9,
     "metadata": {},
     "output_type": "execute_result"
    }
   ],
   "source": [
    "model.predict(X_test.iloc[:100, :])"
   ]
  },
  {
   "cell_type": "markdown",
   "id": "bb10a762-760d-467c-9488-d5265ef7f15c",
   "metadata": {},
   "source": [
    "# Testing the model\n",
    "\n",
    "We check if the model is satisfactory."
   ]
  },
  {
   "cell_type": "code",
   "execution_count": 10,
   "id": "9b500ea5-c9e4-4523-a150-f21e6373c9f2",
   "metadata": {},
   "outputs": [
    {
     "name": "stdout",
     "output_type": "stream",
     "text": [
      "              precision    recall  f1-score   support\n",
      "\n",
      "           0       0.89      0.94      0.92      7411\n",
      "           1       0.77      0.65      0.71      2358\n",
      "\n",
      "    accuracy                           0.87      9769\n",
      "   macro avg       0.83      0.80      0.81      9769\n",
      "weighted avg       0.87      0.87      0.87      9769\n",
      "\n"
     ]
    }
   ],
   "source": [
    "preds = model.predict(X_test)\n",
    "print(classification_report(y_test.map({negative_label: 0, positive_label: 1}), preds))"
   ]
  },
  {
   "cell_type": "markdown",
   "id": "55f9b210-4391-445a-8261-d0c137845597",
   "metadata": {},
   "source": [
    "# Finding the affected\n",
    "\n",
    "We check the predictions of the model on the test data, i.e. our population. The ones that get a 0 (negative outcome) are called the affected individuals."
   ]
  },
  {
   "cell_type": "code",
   "execution_count": 11,
   "id": "10e4ea97-b018-4bef-9166-31f3d1289fb3",
   "metadata": {},
   "outputs": [
    {
     "name": "stdout",
     "output_type": "stream",
     "text": [
      "Test data shape: (9769, 14)\n",
      "Affected shape: (7783, 14)\n"
     ]
    }
   ],
   "source": [
    "X_aff_idxs = np.where(model.predict(X_test) == 0)[0]\n",
    "print(f\"Test data shape: {X_test.shape}\")\n",
    "X_aff = X_test.iloc[X_aff_idxs, :]\n",
    "print(f\"Affected shape: {X_aff.shape}\")\n",
    "# X_aff.reset_index(inplace=True, drop=True)"
   ]
  },
  {
   "cell_type": "markdown",
   "id": "64ecfc54-9059-4320-8d98-d5c8e390795d",
   "metadata": {},
   "source": [
    "This means that the model classifies into the negative class about 7000 out of the 10000 total (test set) individuals."
   ]
  },
  {
   "cell_type": "markdown",
   "id": "bd8da668-1729-47a1-8e36-64dfd71d811c",
   "metadata": {},
   "source": [
    "# Running apriori adaptation\n",
    "\n",
    "We now generate the frequent itemsets of the datasets. These are used by the global counterfactual generating algorithm, in order to try and cover as many affected individuals as possible.\n",
    "\n",
    "Here, we have implemented a simple `runApriori` wrapper function, which basically runs the fpgrowth algorithm for frequent itemset mining of the library mlxtend. It returns a dataframe with two columns, an $itemset$ column which contains the itemsets, in the form value tuples, and a $support$ column, which contains the relative frequency with which the itemset is contained in the dataset. Meaning, the fraction of individuals which have this specific combination of feature values.\n",
    "\n",
    "Notice that we can give a minimum support as an argument to the function. This means that it returns only those itemsets whose support are above this value.\n",
    "\n",
    "*Note*: You can ignore the \"+feature_name\" part. It has been appended to every value for implementation reasons, so that we know the \"type\" of each value, i.e. the feature it corresponds to. For example, whether a 0 is a value for \"Capital Loss\" or for \"Capital Gain\"."
   ]
  },
  {
   "cell_type": "code",
   "execution_count": 12,
   "id": "4db4cc4f-bea3-479c-94f0-df7c3b2e9492",
   "metadata": {},
   "outputs": [
    {
     "name": "stdout",
     "output_type": "stream",
     "text": [
      "     support                          itemsets\n",
      "0   0.954755                  (0+Capital Loss)\n",
      "1   0.914423                  (0+Capital Gain)\n",
      "2   0.894462           (United-States+Country)\n",
      "55  0.869178  (0+Capital Loss, 0+Capital Gain)\n",
      "3   0.854438                      (White+Race)\n"
     ]
    }
   ],
   "source": [
    "d = X_test.drop([sensitive_attribute], axis=1)\n",
    "freq_itemsets = runApriori(preprocessDataset(d), min_support=0.03)\n",
    "freq_itemsets.reset_index()\n",
    "print(freq_itemsets.head())"
   ]
  },
  {
   "cell_type": "code",
   "execution_count": 13,
   "id": "65094b14-a0b0-4289-8e83-c5c24ada8b28",
   "metadata": {},
   "outputs": [
    {
     "name": "stdout",
     "output_type": "stream",
     "text": [
      "       support                                                                                                      itemsets\n",
      "0     0.954755                                                                                              (0+Capital Loss)\n",
      "1     0.914423                                                                                              (0+Capital Gain)\n",
      "2     0.894462                                                                                       (United-States+Country)\n",
      "55    0.869178                                                                              (0+Capital Loss, 0+Capital Gain)\n",
      "3     0.854438                                                                                                  (White+Race)\n",
      "56    0.854028                                                                       (0+Capital Loss, United-States+Country)\n",
      "57    0.816358                                                                       (0+Capital Gain, United-States+Country)\n",
      "59    0.815232                                                                                  (0+Capital Loss, White+Race)\n",
      "60    0.787593                                                                           (White+Race, United-States+Country)\n",
      "61    0.779302                                                                                  (0+Capital Gain, White+Race)\n",
      "58    0.775924                                                       (0+Capital Loss, 0+Capital Gain, United-States+Country)\n",
      "62    0.750537                                                           (0+Capital Loss, White+Race, United-States+Country)\n",
      "63    0.740096                                                                  (0+Capital Loss, 0+Capital Gain, White+Race)\n",
      "64    0.717167                                                           (0+Capital Gain, White+Race, United-States+Country)\n",
      "4     0.700788                                                                                           (Private+Workclass)\n",
      "65    0.680111                                           (0+Capital Loss, 0+Capital Gain, White+Race, United-States+Country)\n",
      "66    0.672945                                                                           (0+Capital Loss, Private+Workclass)\n",
      "67    0.644590                                                                           (0+Capital Gain, Private+Workclass)\n",
      "68    0.622070                                                                    (United-States+Country, Private+Workclass)\n",
      "70    0.616747                                                           (0+Capital Loss, 0+Capital Gain, Private+Workclass)\n",
      "69    0.598116                                                                               (White+Race, Private+Workclass)\n",
      "71    0.597400                                                    (0+Capital Loss, United-States+Country, Private+Workclass)\n",
      "74    0.573754                                                               (0+Capital Loss, White+Race, Private+Workclass)\n",
      "72    0.570580                                                    (0+Capital Gain, United-States+Country, Private+Workclass)\n",
      "75    0.549186                                                               (0+Capital Gain, White+Race, Private+Workclass)\n",
      "76    0.548163                                                        (White+Race, United-States+Country, Private+Workclass)\n",
      "73    0.545911                                    (0+Capital Loss, 0+Capital Gain, United-States+Country, Private+Workclass)\n",
      "78    0.525335                                        (0+Capital Loss, White+Race, United-States+Country, Private+Workclass)\n",
      "77    0.524823                                               (0+Capital Loss, 0+Capital Gain, White+Race, Private+Workclass)\n",
      "79    0.502201                                        (0+Capital Gain, White+Race, United-States+Country, Private+Workclass)\n",
      "80    0.479374                        (United-States+Country, Private+Workclass, 0+Capital Gain, 0+Capital Loss, White+Race)\n",
      "5     0.466783                                                                                           (40+Hours per week)\n",
      "15    0.453066                                                                           (Married-civ-spouse+Marital Status)\n",
      "81    0.448562                                                                           (0+Capital Loss, 40+Hours per week)\n",
      "82    0.430443                                                                           (0+Capital Gain, 40+Hours per week)\n",
      "2706  0.424301                                                           (0+Capital Loss, Married-civ-spouse+Marital Status)\n",
      "83    0.412427                                                                    (40+Hours per week, United-States+Country)\n",
      "86    0.412222                                                           (0+Capital Loss, 0+Capital Gain, 40+Hours per week)\n",
      "2707  0.406695                                                               (White+Race, Married-civ-spouse+Marital Status)\n",
      "2708  0.401679                                                    (Married-civ-spouse+Marital Status, United-States+Country)\n",
      "16    0.399427                                                                                        (Husband+Relationship)\n",
      "2769  0.399222                                                     (Married-civ-spouse+Marital Status, Husband+Relationship)\n",
      "2709  0.397277                                                           (0+Capital Gain, Married-civ-spouse+Marital Status)\n",
      "87    0.396356                                                    (40+Hours per week, United-States+Country, 0+Capital Loss)\n",
      "84    0.386222                                                                               (White+Race, 40+Hours per week)\n",
      "2712  0.380592                                               (0+Capital Loss, White+Race, Married-civ-spouse+Marital Status)\n",
      "88    0.379363                                                    (40+Hours per week, 0+Capital Gain, United-States+Country)\n",
      "2713  0.376190                                    (0+Capital Loss, Married-civ-spouse+Marital Status, United-States+Country)\n",
      "2770  0.374040                                                                        (0+Capital Loss, Husband+Relationship)\n",
      "2776  0.373836                                     (0+Capital Loss, Married-civ-spouse+Marital Status, Husband+Relationship)\n",
      "2714  0.373631                                        (White+Race, Married-civ-spouse+Marital Status, United-States+Country)\n",
      "90    0.370969                                                               (0+Capital Loss, White+Race, 40+Hours per week)\n",
      "2716  0.368513                                           (0+Capital Loss, 0+Capital Gain, Married-civ-spouse+Marital Status)\n",
      "89    0.363292                                    (40+Hours per week, 0+Capital Gain, United-States+Country, 0+Capital Loss)\n",
      "2771  0.362268                                                                            (White+Race, Husband+Relationship)\n",
      "2777  0.362064                                         (White+Race, Married-civ-spouse+Marital Status, Husband+Relationship)\n",
      "2717  0.356331                                               (0+Capital Gain, White+Race, Married-civ-spouse+Marital Status)\n",
      "2772  0.356127                                                                 (United-States+Country, Husband+Relationship)\n",
      "2780  0.355922                              (Married-civ-spouse+Marital Status, United-States+Country, Husband+Relationship)\n",
      "91    0.355308                                                               (0+Capital Gain, White+Race, 40+Hours per week)\n",
      "92    0.352134                                                        (40+Hours per week, White+Race, United-States+Country)\n",
      "2718  0.351622                                    (0+Capital Gain, Married-civ-spouse+Marital Status, United-States+Country)\n",
      "2773  0.350394                                                                        (0+Capital Gain, Husband+Relationship)\n",
      "2787  0.350189                                     (0+Capital Gain, Married-civ-spouse+Marital Status, Husband+Relationship)\n",
      "2715  0.348961                        (0+Capital Loss, White+Race, Married-civ-spouse+Marital Status, United-States+Country)\n",
      "85    0.346504                                                                        (40+Hours per week, Private+Workclass)\n",
      "93    0.340055                                               (0+Capital Loss, 0+Capital Gain, White+Race, 40+Hours per week)\n",
      "2778  0.339441                                                            (0+Capital Loss, White+Race, Husband+Relationship)\n",
      "2779  0.339236                         (0+Capital Loss, White+Race, Married-civ-spouse+Marital Status, Husband+Relationship)\n",
      "94    0.337701                                        (40+Hours per week, White+Race, United-States+Country, 0+Capital Loss)\n",
      "97    0.334937                                                        (0+Capital Loss, 40+Hours per week, Private+Workclass)\n",
      "2781  0.333913                                                     (White+Race, United-States+Country, Husband+Relationship)\n",
      "2783  0.333709                  (White+Race, Married-civ-spouse+Marital Status, United-States+Country, Husband+Relationship)\n",
      "2782  0.333709                                                 (0+Capital Loss, United-States+Country, Husband+Relationship)\n",
      "2784  0.333504              (0+Capital Loss, Married-civ-spouse+Marital Status, United-States+Country, Husband+Relationship)\n",
      "21    0.331764                                                                                (Never-married+Marital Status)\n",
      "2719  0.330228                               (0+Capital Loss, 0+Capital Gain, White+Race, Married-civ-spouse+Marital Status)\n",
      "2720  0.326646                        (0+Capital Gain, White+Race, United-States+Country, Married-civ-spouse+Marital Status)\n",
      "2721  0.326134                    (0+Capital Loss, 0+Capital Gain, Married-civ-spouse+Marital Status, United-States+Country)\n",
      "2788  0.325008                                                        (0+Capital Loss, 0+Capital Gain, Husband+Relationship)\n",
      "2791  0.324803                     (0+Capital Loss, 0+Capital Gain, Married-civ-spouse+Marital Status, Husband+Relationship)\n",
      "3750  0.323370                                                                (0+Capital Loss, Never-married+Marital Status)\n",
      "95    0.323063                                        (40+Hours per week, 0+Capital Gain, White+Race, United-States+Country)\n",
      "98    0.320708                                                        (0+Capital Gain, 40+Hours per week, Private+Workclass)\n",
      "2789  0.317535                                                            (0+Capital Gain, White+Race, Husband+Relationship)\n",
      "2792  0.317330                         (0+Capital Gain, White+Race, Married-civ-spouse+Marital Status, Husband+Relationship)\n",
      "3751  0.316921                                                                (0+Capital Gain, Never-married+Marital Status)\n",
      "7     0.316409                                                                                           (HS-grad+Education)\n",
      "430   0.316409                                                                          (HS-grad+Education, 9+Education-Num)\n",
      "6     0.316409                                                                                             (9+Education-Num)\n",
      "2790  0.312314                                                 (0+Capital Gain, United-States+Country, Husband+Relationship)\n",
      "2785  0.312212                                     (0+Capital Loss, White+Race, United-States+Country, Husband+Relationship)\n",
      "2795  0.312110              (0+Capital Gain, Married-civ-spouse+Marital Status, United-States+Country, Husband+Relationship)\n",
      "2786  0.312007  (United-States+Country, Husband+Relationship, 0+Capital Loss, White+Race, Married-civ-spouse+Marital Status)\n",
      "101   0.309141                                        (0+Capital Loss, 0+Capital Gain, 40+Hours per week, Private+Workclass)\n",
      "96    0.308629                        (United-States+Country, 0+Capital Gain, 40+Hours per week, 0+Capital Loss, White+Race)\n",
      "3756  0.308527                                                (0+Capital Loss, 0+Capital Gain, Never-married+Marital Status)\n",
      "431   0.305865                                                                           (0+Capital Loss, HS-grad+Education)\n",
      "112   0.305865                                                                             (0+Capital Loss, 9+Education-Num)\n",
      "440   0.305865                                                          (0+Capital Loss, 9+Education-Num, HS-grad+Education)\n"
     ]
    }
   ],
   "source": [
    "print(freq_itemsets.head(100).to_string())"
   ]
  },
  {
   "cell_type": "code",
   "execution_count": 14,
   "id": "f5a1ba0c-4bd8-4487-83bb-86d636966b39",
   "metadata": {},
   "outputs": [
    {
     "name": "stdout",
     "output_type": "stream",
     "text": [
      "       support                                           itemsets\n",
      "4033  0.030300  (9+Education-Num, United-States+Country, Priva...\n",
      "3111  0.030300  (13+Education-Num, Not-in-family+Relationship,...\n",
      "5422  0.030300  (United-States+Country, Private+Workclass, 0+C...\n",
      "4568  0.030300  (HS-grad+Education, United-States+Country, 0+C...\n",
      "4004  0.030300  (HS-grad+Education, 9+Education-Num, United-St...\n",
      "...        ...                                                ...\n",
      "5544  0.030095  (Prof-specialty+Occupation, Husband+Relationsh...\n",
      "1618  0.030095  (HS-grad+Education, 9+Education-Num, Divorced+...\n",
      "4687  0.030095  (HS-grad+Education, 9+Education-Num, Husband+R...\n",
      "4686  0.030095  (9+Education-Num, Husband+Relationship, 0+Capi...\n",
      "4036  0.030095  (9+Education-Num, United-States+Country, Priva...\n",
      "\n",
      "[100 rows x 2 columns]\n"
     ]
    }
   ],
   "source": [
    "print(freq_itemsets.tail(100))\n",
    "# print(freq_itemsets.tail(100).to_string()) # uncomment for more details"
   ]
  },
  {
   "cell_type": "markdown",
   "id": "b851a61e-9847-45c6-a427-b1b977d2420a",
   "metadata": {},
   "source": [
    "Next, we use the function `aprioriout2predicateList`, which \"casts\" the output of the frequent itemset mining algorithm to our internal representation of a \"triple\" (as in the ares paper). This representation is the class `Predicate`.\n",
    "\n",
    "RL is the initial set of candidate predicates (taken as the output of the itemset algo), from which we will then pick pairs to represent our rules (as in ares paper)."
   ]
  },
  {
   "cell_type": "code",
   "execution_count": 15,
   "id": "73c82b06-f6db-499d-baed-3414a1d1f692",
   "metadata": {},
   "outputs": [
    {
     "name": "stdout",
     "output_type": "stream",
     "text": [
      "[Predicate(features=['Capital Loss'], values=['0']),\n",
      " Predicate(features=['Capital Gain'], values=['0']),\n",
      " Predicate(features=['Country'], values=['United-States']),\n",
      " Predicate(features=['Capital Loss', 'Capital Gain'], values=['0', '0']),\n",
      " Predicate(features=['Race'], values=['White']),\n",
      " Predicate(features=['Capital Loss', 'Country'], values=['0', 'United-States']),\n",
      " Predicate(features=['Capital Gain', 'Country'], values=['0', 'United-States']),\n",
      " Predicate(features=['Capital Loss', 'Race'], values=['0', 'White']),\n",
      " Predicate(features=['Race', 'Country'], values=['White', 'United-States']),\n",
      " Predicate(features=['Capital Gain', 'Race'], values=['0', 'White'])]\n",
      "5835\n"
     ]
    }
   ],
   "source": [
    "RL = aprioriout2predicateList(freq_itemsets)\n",
    "pprint(RL[:10])\n",
    "print(len(RL))"
   ]
  },
  {
   "cell_type": "markdown",
   "id": "46ab014e-def8-486c-8aca-fc0f0a992508",
   "metadata": {},
   "source": [
    "# Running the optimization procedure"
   ]
  },
  {
   "cell_type": "markdown",
   "id": "8a34a42f-8863-4ed3-95ba-f043e10bd0af",
   "metadata": {},
   "source": [
    "First, just turn the user-defined SD (subgroup descriptors) to predicates."
   ]
  },
  {
   "cell_type": "code",
   "execution_count": 16,
   "id": "f0ea54c6-e650-43f7-a5a4-62d0cbeb1ed3",
   "metadata": {},
   "outputs": [
    {
     "name": "stdout",
     "output_type": "stream",
     "text": [
      "[Predicate(features=['Sex'], values=['Male']), Predicate(features=['Sex'], values=['Female'])]\n"
     ]
    }
   ],
   "source": [
    "SD = list(map(Predicate.from_dict, [\n",
    "    {sensitive_attribute: val} for val in data[sensitive_attribute].unique()\n",
    "]))\n",
    "print(SD)"
   ]
  },
  {
   "cell_type": "code",
   "execution_count": 17,
   "id": "c6f9206c-84ed-4c45-bc30-582ad0208d15",
   "metadata": {},
   "outputs": [],
   "source": [
    "rules = [(Predicate(features=['Sex'], values=['Male']),\n",
    "   Predicate(features=['Education', 'Capital Gain', 'Relationship'], values=['Bachelors', '0', 'Husband']),\n",
    "   Predicate(features=['Education', 'Capital Gain', 'Relationship'], values=['Some-college', '0', 'Husband'])),\n",
    "  (Predicate(features=['Sex'], values=['Female']),\n",
    "   Predicate(features=['Workclass', 'Marital Status', 'Relationship'], values=['Private', 'Divorced', 'Not-in-family']),\n",
    "   Predicate(features=['Workclass', 'Marital Status', 'Relationship'], values=['Private', 'Married-civ-spouse', 'Wife'])),\n",
    "  (Predicate(features=['Sex'], values=['Male']),\n",
    "   Predicate(features=['Education-Num'], values=['9']),\n",
    "   Predicate(features=['Education-Num'], values=['14'])),\n",
    "  (Predicate(features=['Sex'], values=['Male']),\n",
    "   Predicate(features=['Education-Num'], values=['10']),\n",
    "   Predicate(features=['Education-Num'], values=['14'])),\n",
    "  (Predicate(features=['Sex'], values=['Male']),\n",
    "   Predicate(features=['Education', 'Marital Status'], values=['Bachelors', 'Never-married']),\n",
    "   Predicate(features=['Education', 'Marital Status'], values=['Some-college', 'Married-civ-spouse'])),\n",
    "  (Predicate(features=['Sex'], values=['Female']),\n",
    "   Predicate(features=['Marital Status', 'Education-Num'], values=['Married-civ-spouse', '10']),\n",
    "   Predicate(features=['Marital Status', 'Education-Num'], values=['Married-civ-spouse', '13'])),\n",
    "  (Predicate(features=['Sex'], values=['Female']),\n",
    "   Predicate(features=['Marital Status'], values=['Never-married']),\n",
    "   Predicate(features=['Marital Status'], values=['Married-civ-spouse'])),\n",
    "  (Predicate(features=['Sex'], values=['Male']),\n",
    "   Predicate(features=['Education-Num'], values=['11']),\n",
    "   Predicate(features=['Education-Num'], values=['14'])),\n",
    "  (Predicate(features=['Sex'], values=['Male']),\n",
    "   Predicate(features=['Education-Num'], values=['7']),\n",
    "   Predicate(features=['Education-Num'], values=['14'])),\n",
    "  (Predicate(features=['Sex'], values=['Female']),\n",
    "   Predicate(features=['Marital Status', 'Education'], values=['Married-civ-spouse', 'Bachelors']),\n",
    "   Predicate(features=['Marital Status', 'Education'], values=['Married-civ-spouse', 'HS-grad'])),\n",
    "  (Predicate(features=['Sex'], values=['Female']),\n",
    "   Predicate(features=['Marital Status', 'Relationship'], values=['Divorced', 'Unmarried']),\n",
    "   Predicate(features=['Marital Status', 'Relationship'], values=['Married-civ-spouse', 'Wife'])),\n",
    "  (Predicate(features=['Sex'], values=['Male']),\n",
    "   Predicate(features=['Education', 'Capital Loss', 'Race'], values=['Masters', '0', 'White']),\n",
    "   Predicate(features=['Education', 'Capital Loss', 'Race'], values=['Some-college', '0', 'White'])),\n",
    "  (Predicate(features=['Sex'], values=['Male']),\n",
    "   Predicate(features=['Education', 'Education-Num'], values=['Assoc-acdm', '12']),\n",
    "   Predicate(features=['Education', 'Education-Num'], values=['Masters', '14'])),\n",
    "  (Predicate(features=['Sex'], values=['Female']),\n",
    "   Predicate(features=['Capital Loss', 'Education-Num', 'Capital Gain', 'Marital Status'], values=['0', '9', '0', 'Married-civ-spouse']),\n",
    "   Predicate(features=['Capital Loss', 'Education-Num', 'Capital Gain', 'Marital Status'], values=['0', '13', '0', 'Married-civ-spouse']))]"
   ]
  },
  {
   "cell_type": "code",
   "execution_count": 18,
   "id": "6745c943-3bf1-4f54-935f-490e0cb52c50",
   "metadata": {},
   "outputs": [],
   "source": [
    "from recourse_sets import TwoLevelRecourseSet"
   ]
  },
  {
   "cell_type": "code",
   "execution_count": 19,
   "id": "bd3d51c9-9e3a-4a93-880c-34791ac28046",
   "metadata": {},
   "outputs": [],
   "source": [
    "rules = TwoLevelRecourseSet.from_triples(rules)"
   ]
  },
  {
   "cell_type": "code",
   "execution_count": 20,
   "id": "f2f8d424-d705-4db2-b098-699e3a3a0322",
   "metadata": {},
   "outputs": [
    {
     "data": {
      "text/plain": [
       "array([0, 0, 1, ..., 1, 0, 0])"
      ]
     },
     "execution_count": 20,
     "metadata": {},
     "output_type": "execute_result"
    }
   ],
   "source": [
    "model.predict(X_test)"
   ]
  },
  {
   "cell_type": "code",
   "execution_count": 21,
   "id": "a8dbd9e8-028c-419e-aab9-3d1f3e7ac9b0",
   "metadata": {},
   "outputs": [],
   "source": [
    "from metrics import incorrectRecoursesSubmodular, incorrectRecourses, cover"
   ]
  },
  {
   "cell_type": "code",
   "execution_count": 22,
   "id": "e6b7381d-a2c3-4b1f-a9aa-59b5b2d83d43",
   "metadata": {},
   "outputs": [
    {
     "name": "stdout",
     "output_type": "stream",
     "text": [
      "4921\n",
      "CPU times: total: 15.6 s\n",
      "Wall time: 1.89 s\n"
     ]
    }
   ],
   "source": [
    "%%time\n",
    "print(incorrectRecoursesSubmodular(rules, X_aff, model))"
   ]
  },
  {
   "cell_type": "code",
   "execution_count": 23,
   "id": "1af2b2bf-24dc-4325-aad6-bcf1bb231294",
   "metadata": {},
   "outputs": [
    {
     "name": "stdout",
     "output_type": "stream",
     "text": [
      "4921\n",
      "CPU times: total: 4.81 s\n",
      "Wall time: 3.78 s\n"
     ]
    }
   ],
   "source": [
    "%%time\n",
    "print(incorrectRecourses(rules, X_aff, model, percentage=False))"
   ]
  },
  {
   "cell_type": "code",
   "execution_count": 24,
   "id": "5d07d493-392f-47d6-b4cd-c6f71b701da8",
   "metadata": {},
   "outputs": [
    {
     "name": "stdout",
     "output_type": "stream",
     "text": [
      "6230\n",
      "CPU times: total: 1.27 s\n",
      "Wall time: 594 ms\n"
     ]
    }
   ],
   "source": [
    "%%time\n",
    "print(cover(rules, X_aff))"
   ]
  },
  {
   "cell_type": "markdown",
   "id": "e2b5d8d5-0ec3-4d30-89e2-540b15c5ebe7",
   "metadata": {},
   "source": [
    "Now, we run the submodular optimization."
   ]
  },
  {
   "cell_type": "code",
   "execution_count": 25,
   "id": "ad20d992-c4a0-4cd6-829d-8f100a492602",
   "metadata": {},
   "outputs": [
    {
     "name": "stdout",
     "output_type": "stream",
     "text": [
      "Total triples = 68\n",
      "Calculated incorrect recourse for each triple\n",
      "Calculated feature costs for each triple\n",
      "Calculated feature changes for each feature\n",
      "Calculated covers for each triple\n",
      "CPU times: total: 8.94 s\n",
      "Wall time: 1.07 s\n"
     ]
    }
   ],
   "source": [
    "%%time\n",
    "\n",
    "ifthen_triples = np.random.choice(RL, 400, replace=False)\n",
    "affected_sample = X_aff.iloc[np.random.choice(X_aff.shape[0], size=400, replace=False), :]\n",
    "final_rules = optimize(SD, ifthen_triples, affected_sample, model)"
   ]
  },
  {
   "cell_type": "code",
   "execution_count": 26,
   "id": "b01f3a28-0120-4947-80f6-80a88b52aa5c",
   "metadata": {},
   "outputs": [
    {
     "name": "stdout",
     "output_type": "stream",
     "text": [
      "([(Predicate(features=['Sex'], values=['Male']),\n",
      "   Predicate(features=['Marital Status', 'Workclass'], values=['Divorced', 'Private']),\n",
      "   Predicate(features=['Marital Status', 'Workclass'], values=['Married-civ-spouse', 'Private'])),\n",
      "  (Predicate(features=['Sex'], values=['Female']),\n",
      "   Predicate(features=['Marital Status', 'Workclass'], values=['Divorced', 'Private']),\n",
      "   Predicate(features=['Marital Status', 'Workclass'], values=['Married-civ-spouse', 'Private'])),\n",
      "  (Predicate(features=['Sex'], values=['Male']),\n",
      "   Predicate(features=['Capital Gain', 'Marital Status', 'Country', 'Education'], values=['0', 'Never-married', 'United-States', 'Bachelors']),\n",
      "   Predicate(features=['Capital Gain', 'Marital Status', 'Country', 'Education'], values=['0', 'Married-civ-spouse', 'United-States', 'Bachelors']))],\n",
      " -50,\n",
      " 64,\n",
      " -3,\n",
      " -3)\n"
     ]
    }
   ],
   "source": [
    "pprint(final_rules)"
   ]
  },
  {
   "cell_type": "code",
   "execution_count": 26,
   "id": "d09922bb-2571-49e0-b05f-9ec11d845831",
   "metadata": {},
   "outputs": [
    {
     "name": "stdout",
     "output_type": "stream",
     "text": [
      "Total triples = 12836\n",
      "X_aff shape before: (7754, 14)\n",
      "Calculated incorrect recourse for each triple\n",
      "Calculated feature costs for each triple\n",
      "Calculated feature changes for each feature\n",
      "X_aff shape after: (7754, 14)\n",
      "Calculated covers for each triple\n",
      "141\n",
      "CPU times: total: 3h 57min 21s\n",
      "Wall time: 46min 35s\n"
     ]
    }
   ],
   "source": [
    "%%time\n",
    "\n",
    "final_rules = optimize(SD, RL, X_aff, model)"
   ]
  },
  {
   "cell_type": "code",
   "execution_count": 27,
   "id": "d2c0059b-1425-4f9a-8a60-8d78584fb60f",
   "metadata": {},
   "outputs": [
    {
     "name": "stdout",
     "output_type": "stream",
     "text": [
      "([(Predicate(features=['Sex'], values=['Male']),\n",
      "   Predicate(features=['Education', 'Capital Gain', 'Relationship'], values=['Bachelors', '0', 'Husband']),\n",
      "   Predicate(features=['Education', 'Capital Gain', 'Relationship'], values=['Some-college', '0', 'Husband'])),\n",
      "  (Predicate(features=['Sex'], values=['Female']),\n",
      "   Predicate(features=['Workclass', 'Marital Status', 'Relationship'], values=['Private', 'Divorced', 'Not-in-family']),\n",
      "   Predicate(features=['Workclass', 'Marital Status', 'Relationship'], values=['Private', 'Married-civ-spouse', 'Wife'])),\n",
      "  (Predicate(features=['Sex'], values=['Male']),\n",
      "   Predicate(features=['Education-Num'], values=['9']),\n",
      "   Predicate(features=['Education-Num'], values=['14'])),\n",
      "  (Predicate(features=['Sex'], values=['Male']),\n",
      "   Predicate(features=['Education-Num'], values=['10']),\n",
      "   Predicate(features=['Education-Num'], values=['14'])),\n",
      "  (Predicate(features=['Sex'], values=['Male']),\n",
      "   Predicate(features=['Education', 'Marital Status'], values=['Bachelors', 'Never-married']),\n",
      "   Predicate(features=['Education', 'Marital Status'], values=['Some-college', 'Married-civ-spouse'])),\n",
      "  (Predicate(features=['Sex'], values=['Female']),\n",
      "   Predicate(features=['Marital Status', 'Education-Num'], values=['Married-civ-spouse', '10']),\n",
      "   Predicate(features=['Marital Status', 'Education-Num'], values=['Married-civ-spouse', '13'])),\n",
      "  (Predicate(features=['Sex'], values=['Female']),\n",
      "   Predicate(features=['Marital Status'], values=['Never-married']),\n",
      "   Predicate(features=['Marital Status'], values=['Married-civ-spouse'])),\n",
      "  (Predicate(features=['Sex'], values=['Male']),\n",
      "   Predicate(features=['Education-Num'], values=['11']),\n",
      "   Predicate(features=['Education-Num'], values=['14'])),\n",
      "  (Predicate(features=['Sex'], values=['Male']),\n",
      "   Predicate(features=['Education-Num'], values=['7']),\n",
      "   Predicate(features=['Education-Num'], values=['14'])),\n",
      "  (Predicate(features=['Sex'], values=['Female']),\n",
      "   Predicate(features=['Marital Status', 'Education'], values=['Married-civ-spouse', 'Bachelors']),\n",
      "   Predicate(features=['Marital Status', 'Education'], values=['Married-civ-spouse', 'HS-grad'])),\n",
      "  (Predicate(features=['Sex'], values=['Female']),\n",
      "   Predicate(features=['Marital Status', 'Relationship'], values=['Divorced', 'Unmarried']),\n",
      "   Predicate(features=['Marital Status', 'Relationship'], values=['Married-civ-spouse', 'Wife'])),\n",
      "  (Predicate(features=['Sex'], values=['Male']),\n",
      "   Predicate(features=['Education', 'Capital Loss', 'Race'], values=['Masters', '0', 'White']),\n",
      "   Predicate(features=['Education', 'Capital Loss', 'Race'], values=['Some-college', '0', 'White'])),\n",
      "  (Predicate(features=['Sex'], values=['Male']),\n",
      "   Predicate(features=['Education', 'Education-Num'], values=['Assoc-acdm', '12']),\n",
      "   Predicate(features=['Education', 'Education-Num'], values=['Masters', '14'])),\n",
      "  (Predicate(features=['Sex'], values=['Female']),\n",
      "   Predicate(features=['Capital Loss', 'Education-Num', 'Capital Gain', 'Marital Status'], values=['0', '9', '0', 'Married-civ-spouse']),\n",
      "   Predicate(features=['Capital Loss', 'Education-Num', 'Capital Gain', 'Marital Status'], values=['0', '13', '0', 'Married-civ-spouse']))],\n",
      " -4736,\n",
      " 6238,\n",
      " -18,\n",
      " -18)\n"
     ]
    }
   ],
   "source": [
    "pprint(final_rules)"
   ]
  },
  {
   "cell_type": "code",
   "execution_count": 20,
   "id": "f9e17395-fdeb-47c5-be13-953112cfd710",
   "metadata": {},
   "outputs": [
    {
     "name": "stdout",
     "output_type": "stream",
     "text": [
      "(7754, 14)\n"
     ]
    }
   ],
   "source": [
    "print(X_aff.shape)"
   ]
  },
  {
   "cell_type": "code",
   "execution_count": 19,
   "id": "6bfcb64f-9b70-4cc7-b200-1b533797b950",
   "metadata": {},
   "outputs": [
    {
     "name": "stdout",
     "output_type": "stream",
     "text": [
      "Total triples = 364\n",
      "X_aff shape before: (400, 14)\n",
      "Calculated incorrect recourse for each triple\n",
      "Calculated feature costs for each triple\n",
      "Calculated feature changes for each feature\n",
      "X_aff shape after: (400, 14)\n",
      "Calculated covers for each triple\n",
      "24\n",
      "CPU times: total: 50.1 s\n",
      "Wall time: 6.28 s\n"
     ]
    }
   ],
   "source": [
    "%%time\n",
    "\n",
    "final_rules = optimize(SD, RL[:400], X_aff[:400], model)"
   ]
  },
  {
   "cell_type": "code",
   "execution_count": 20,
   "id": "dc6528fb-0306-4167-a7d3-50c9214569b2",
   "metadata": {},
   "outputs": [
    {
     "name": "stdout",
     "output_type": "stream",
     "text": [
      "([(Predicate(features=['Sex'], values=['Male']),\n",
      "   Predicate(features=['Education-Num'], values=['10']),\n",
      "   Predicate(features=['Education-Num'], values=['13'])),\n",
      "  (Predicate(features=['Sex'], values=['Female']),\n",
      "   Predicate(features=['Marital Status'], values=['Never-married']),\n",
      "   Predicate(features=['Marital Status'], values=['Married-civ-spouse'])),\n",
      "  (Predicate(features=['Sex'], values=['Male']),\n",
      "   Predicate(features=['Education', 'Education-Num'], values=['HS-grad', '9']),\n",
      "   Predicate(features=['Education', 'Education-Num'], values=['Bachelors', '13']))],\n",
      " -176,\n",
      " 222,\n",
      " -4,\n",
      " -4)\n"
     ]
    }
   ],
   "source": [
    "pprint(final_rules)"
   ]
  },
  {
   "cell_type": "code",
   "execution_count": 19,
   "id": "ee919b95-0d0b-444d-bf88-d276ab506a62",
   "metadata": {},
   "outputs": [
    {
     "name": "stdout",
     "output_type": "stream",
     "text": [
      "([(Predicate(features=['Sex'], values=['Male']),\n",
      "   Predicate(features=['Marital Status'], values=['Never-married']),\n",
      "   Predicate(features=['Marital Status'], values=['Married-civ-spouse'])),\n",
      "  (Predicate(features=['Sex'], values=['Male']),\n",
      "   Predicate(features=['Relationship'], values=['Husband']),\n",
      "   Predicate(features=['Relationship'], values=['Not-in-family'])),\n",
      "  (Predicate(features=['Sex'], values=['Female']),\n",
      "   Predicate(features=['Marital Status'], values=['Never-married']),\n",
      "   Predicate(features=['Marital Status'], values=['Married-civ-spouse']))],\n",
      " -5121,\n",
      " 5464,\n",
      " -3,\n",
      " -3)\n"
     ]
    }
   ],
   "source": [
    "pprint(final_rules)"
   ]
  },
  {
   "cell_type": "code",
   "execution_count": 30,
   "id": "3225903c-1b73-416e-a507-998c96908b2b",
   "metadata": {},
   "outputs": [
    {
     "name": "stdout",
     "output_type": "stream",
     "text": [
      "([(Predicate(features=['Sex'], values=['Male']),\n",
      "   Predicate(features=['Education-Num'], values=['10']),\n",
      "   Predicate(features=['Education-Num'], values=['13'])),\n",
      "  (Predicate(features=['Sex'], values=['Female']),\n",
      "   Predicate(features=['Marital Status'], values=['Never-married']),\n",
      "   Predicate(features=['Marital Status'], values=['Married-civ-spouse'])),\n",
      "  (Predicate(features=['Sex'], values=['Male']),\n",
      "   Predicate(features=['Education-Num'], values=['9']),\n",
      "   Predicate(features=['Education-Num'], values=['13'])),\n",
      "  (Predicate(features=['Sex'], values=['Male']),\n",
      "   Predicate(features=['Education'], values=['Bachelors']),\n",
      "   Predicate(features=['Education'], values=['Some-college']))],\n",
      " -4085,\n",
      " 4845,\n",
      " -4,\n",
      " -4)\n"
     ]
    }
   ],
   "source": [
    "pprint(final_rules)"
   ]
  },
  {
   "cell_type": "code",
   "execution_count": 30,
   "id": "c69f23da-d2e4-4e43-bba4-29bf4b6ef53d",
   "metadata": {},
   "outputs": [
    {
     "name": "stdout",
     "output_type": "stream",
     "text": [
      "([(Predicate(features=['Sex'], values=['Male']),\n",
      "   Predicate(features=['Education-Num'], values=['10']),\n",
      "   Predicate(features=['Education-Num'], values=['13'])),\n",
      "  (Predicate(features=['Sex'], values=['Female']),\n",
      "   Predicate(features=['Marital Status'], values=['Never-married']),\n",
      "   Predicate(features=['Marital Status'], values=['Married-civ-spouse'])),\n",
      "  (Predicate(features=['Sex'], values=['Male']),\n",
      "   Predicate(features=['Education-Num'], values=['9']),\n",
      "   Predicate(features=['Education-Num'], values=['13'])),\n",
      "  (Predicate(features=['Sex'], values=['Male']),\n",
      "   Predicate(features=['Education'], values=['Bachelors']),\n",
      "   Predicate(features=['Education'], values=['Some-college']))],\n",
      " -4085,\n",
      " 4845,\n",
      " -4,\n",
      " -4)\n"
     ]
    }
   ],
   "source": [
    "pprint(final_rules)"
   ]
  },
  {
   "cell_type": "code",
   "execution_count": 19,
   "id": "ac7ec3b4-c006-4dfb-b584-96fbbe479c27",
   "metadata": {},
   "outputs": [
    {
     "name": "stdout",
     "output_type": "stream",
     "text": [
      "([(Predicate(features=['Sex'], values=['Female']),\n",
      "   Predicate(features=['Marital Status'], values=['Never-married']),\n",
      "   Predicate(features=['Marital Status'], values=['Married-civ-spouse']))],\n",
      " -1248,\n",
      " 1362,\n",
      " -1,\n",
      " -1)\n"
     ]
    }
   ],
   "source": [
    "pprint(final_rules)"
   ]
  },
  {
   "cell_type": "code",
   "execution_count": 38,
   "id": "7adcc281-b63a-4068-9a43-9ae9bfcbd34f",
   "metadata": {},
   "outputs": [
    {
     "name": "stdout",
     "output_type": "stream",
     "text": [
      "([(Predicate(features=['Sex'], values=['Female']),\n",
      "   Predicate(features=['Marital Status'], values=['Never-married']),\n",
      "   Predicate(features=['Marital Status'], values=['Married-civ-spouse']))],\n",
      " -67,\n",
      " 72,\n",
      " -1,\n",
      " -1)\n"
     ]
    }
   ],
   "source": [
    "pprint(final_rules)"
   ]
  },
  {
   "cell_type": "code",
   "execution_count": 19,
   "id": "04b69c8e-f34d-4d4a-bef7-08f8e28099be",
   "metadata": {},
   "outputs": [
    {
     "name": "stdout",
     "output_type": "stream",
     "text": [
      "([(Predicate(features=['Sex'], values=['Female']),\n",
      "   Predicate(features=['Marital Status'], values=['Never-married']),\n",
      "   Predicate(features=['Marital Status'], values=['Married-civ-spouse']))],\n",
      " -70,\n",
      " 75,\n",
      " -1,\n",
      " -1)\n"
     ]
    }
   ],
   "source": [
    "pprint(final_rules)"
   ]
  },
  {
   "cell_type": "code",
   "execution_count": 29,
   "id": "1a45b5eb-a88a-4987-a5fe-f6174b25900a",
   "metadata": {},
   "outputs": [
    {
     "name": "stdout",
     "output_type": "stream",
     "text": [
      "([(Predicate(features=['Sex'], values=['Female']),\n",
      "   Predicate(features=['Education-Num'], values=['9']),\n",
      "   Predicate(features=['Education-Num'], values=['13'])),\n",
      "  (Predicate(features=['Sex'], values=['Male']),\n",
      "   Predicate(features=['Education-Num'], values=['9']),\n",
      "   Predicate(features=['Education-Num'], values=['13'])),\n",
      "  (Predicate(features=['Sex'], values=['Male']),\n",
      "   Predicate(features=['Education-Num'], values=['10']),\n",
      "   Predicate(features=['Education-Num'], values=['13']))],\n",
      " -159,\n",
      " 206,\n",
      " -3,\n",
      " -3)\n"
     ]
    }
   ],
   "source": [
    "pprint(final_rules)"
   ]
  },
  {
   "cell_type": "code",
   "execution_count": null,
   "id": "41479477-99d4-4691-b119-4b8c7c6c1eae",
   "metadata": {},
   "outputs": [],
   "source": []
  }
 ],
 "metadata": {
  "kernelspec": {
   "display_name": "Python 3 (ipykernel)",
   "language": "python",
   "name": "python3"
  },
  "language_info": {
   "codemirror_mode": {
    "name": "ipython",
    "version": 3
   },
   "file_extension": ".py",
   "mimetype": "text/x-python",
   "name": "python",
   "nbconvert_exporter": "python",
   "pygments_lexer": "ipython3",
   "version": "3.9.15"
  }
 },
 "nbformat": 4,
 "nbformat_minor": 5
}
