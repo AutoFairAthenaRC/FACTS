{
 "cells": [
  {
   "cell_type": "code",
   "execution_count": 1,
   "id": "2680d6a2",
   "metadata": {},
   "outputs": [],
   "source": [
    "import numpy as np\n",
    "import pandas as pd\n",
    "# from apriori_python import apriori\n",
    "from pprint import pprint\n",
    "\n",
    "import lib\n",
    "from lib import Predicate, optimize\n",
    "from models import customXGB\n",
    "from apriori import runApriori, aprioriout2predicateList"
   ]
  },
  {
   "cell_type": "code",
   "execution_count": 2,
   "id": "b988ac0f",
   "metadata": {},
   "outputs": [],
   "source": [
    "feature_names = [\n",
    "   \"Age\", \"Workclass\", \"fnlwgt\", \"Education\",\n",
    "   \"Education-Num\", \"Marital Status\", \"Occupation\",\n",
    "   \"Relationship\", \"Race\", \"Sex\", \"Capital Gain\",\n",
    "   \"Capital Loss\", \"Hours per week\", \"Country\", \"label\"\n",
    "]\n",
    "data = pd.DataFrame(\n",
    "  np.genfromtxt('adult.data', delimiter=', ', dtype=str),\n",
    "  columns=feature_names\n",
    ")\n",
    "cate_columns = ['Workclass', 'Education', 'Marital Status', 'Occupation', 'Relationship', 'Race', 'Sex', 'Country']"
   ]
  },
  {
   "cell_type": "markdown",
   "id": "1db0cdca",
   "metadata": {},
   "source": [
    "# Definition and Training of a black-box model"
   ]
  },
  {
   "cell_type": "code",
   "execution_count": 3,
   "id": "2c1842fb",
   "metadata": {},
   "outputs": [
    {
     "data": {
      "text/plain": [
       "<models.customXGB at 0x2393fe08700>"
      ]
     },
     "execution_count": 3,
     "metadata": {},
     "output_type": "execute_result"
    }
   ],
   "source": [
    "model = customXGB(n_estimators=300, max_depth=5)\n",
    "model.fit(data, cate_columns=cate_columns)"
   ]
  },
  {
   "cell_type": "code",
   "execution_count": 4,
   "id": "17042664",
   "metadata": {},
   "outputs": [
    {
     "data": {
      "text/plain": [
       "numpy.ndarray"
      ]
     },
     "execution_count": 4,
     "metadata": {},
     "output_type": "execute_result"
    }
   ],
   "source": [
    "type(model.predict(data.iloc[:100, :]))"
   ]
  },
  {
   "cell_type": "code",
   "execution_count": null,
   "id": "7eec3bcd",
   "metadata": {},
   "outputs": [],
   "source": [
    "model.predict"
   ]
  },
  {
   "cell_type": "code",
   "execution_count": 5,
   "id": "b11315da",
   "metadata": {},
   "outputs": [
    {
     "name": "stdout",
     "output_type": "stream",
     "text": [
      "(32561, 15)\n",
      "(25637,)\n",
      "(25637, 15)\n",
      "<class 'pandas.core.frame.DataFrame'>\n"
     ]
    }
   ],
   "source": [
    "X_aff_idxs = np.where(model.predict(data) == 0)[0]\n",
    "print(data.shape)\n",
    "print(X_aff_idxs.shape)\n",
    "X_aff = data.iloc[X_aff_idxs, :]\n",
    "print(X_aff.shape)\n",
    "print(type(X_aff))\n",
    "# X_aff.reset_index(inplace=True, drop=True)\n",
    "# print(X_aff.shape)\n",
    "# print(type(X_aff))"
   ]
  },
  {
   "cell_type": "markdown",
   "id": "12c42255",
   "metadata": {},
   "source": [
    "# Testing of Rules Implementation\n",
    "\n",
    "Plus valuation functions."
   ]
  },
  {
   "cell_type": "code",
   "execution_count": 6,
   "id": "a1d74946",
   "metadata": {},
   "outputs": [],
   "source": [
    "d = data[[\"Education\", \"Race\", \"Age\", \"Sex\", \"Country\"]]\n",
    "y = data[\"label\"]\n",
    "\n",
    "RecourseRulesMale = [\n",
    "    ({\"Education\":\"Bachelors\", \"Race\":\"White\", \"Country\":\"Greece\"},\n",
    "     {\"Education\":\"Bachelors\", \"Race\":\"White\", \"Country\":\"United-States\"}),\n",
    "    ({\"Race\":\"White\", \"Country\":\"Greece\"}, {\"Race\":\"Black\", \"Country\":\"Greece\"}),\n",
    "    ({\"Sex\":\"Male\", \"Country\":\"Greece\"}, {\"Sex\":\"Female\", \"Country\":\"Greece\"})\n",
    "]\n",
    "\n",
    "RecourseRulesFemale = [\n",
    "    ({\"Education\":\"Bachelors\", \"Race\":\"White\", \"Country\":\"Greece\"},\n",
    "     {\"Education\":\"Bachelors\", \"Race\":\"White\", \"Country\":\"United-States\"}),\n",
    "    ({\"Race\":\"White\", \"Country\":\"Greece\"}, {\"Race\":\"Black\", \"Country\":\"Greece\"})\n",
    "]\n",
    "\n",
    "sex = lib.TwoLevelRecourseSet(\"Sex\", [\"Male\", \"Female\"])\n",
    "sex.addRules(\"Male\", RecourseRulesMale)\n",
    "sex.addRules(\"Female\", RecourseRulesFemale)"
   ]
  },
  {
   "cell_type": "code",
   "execution_count": 7,
   "id": "cd362eb2",
   "metadata": {},
   "outputs": [
    {
     "data": {
      "text/plain": [
       "[Predicate(features=['Education', 'Race', 'Country'], values=['Bachelors', 'White', 'United-States']),\n",
       " Predicate(features=['Race', 'Country'], values=['Black', 'Greece']),\n",
       " Predicate(features=['Sex', 'Country'], values=['Female', 'Greece'])]"
      ]
     },
     "execution_count": 7,
     "metadata": {},
     "output_type": "execute_result"
    }
   ],
   "source": [
    "list(sex.suggest(d.iloc[5839]))"
   ]
  },
  {
   "cell_type": "code",
   "execution_count": 8,
   "id": "91d0dd54",
   "metadata": {},
   "outputs": [
    {
     "name": "stdout",
     "output_type": "stream",
     "text": [
      "Number of suggested actions (recourses) that have no effect: 36\n",
      "Number of individuals for which there is a suggestion: 20\n",
      "Total cost of changed features, based on change / no change, over all rules: 104\n",
      "Total cost of changed features, based on magnitude of changed, over all rules: 5\n",
      "Total number of triples / rules in our set: 5\n",
      "Maximum number of predicates in a triple / rule: 3\n",
      "512704\n",
      "20\n",
      "13896\n",
      "135\n"
     ]
    }
   ],
   "source": [
    "print(f\"Number of suggested actions (recourses) that have no effect: {lib.incorrectRecourses(sex, X_aff, model)}\")\n",
    "print(f\"Number of individuals for which there is a suggestion: {lib.cover(sex, X_aff)}\")\n",
    "print(f\"Total cost of changed features, based on change / no change, over all rules: {lib.featureCost(sex)}\")\n",
    "print(f\"Total cost of changed features, based on magnitude of changed, over all rules: {lib.featureChange(sex)}\")\n",
    "print(f\"Total number of triples / rules in our set: {lib.size(sex)}\")\n",
    "print(f\"Maximum number of predicates in a triple / rule: {lib.maxwidth(sex)}\")\n",
    "\n",
    "print(lib.reward1(sex, X_aff, model))\n",
    "print(lib.reward2(sex, X_aff))\n",
    "print(lib.reward3(sex))\n",
    "print(lib.reward4(sex))"
   ]
  },
  {
   "cell_type": "code",
   "execution_count": 9,
   "id": "cd0b037b",
   "metadata": {},
   "outputs": [
    {
     "data": {
      "text/plain": [
       "15828"
      ]
     },
     "execution_count": 9,
     "metadata": {},
     "output_type": "execute_result"
    }
   ],
   "source": [
    "len(X_aff[X_aff[\"Sex\"] == \"Male\"])"
   ]
  },
  {
   "cell_type": "code",
   "execution_count": 10,
   "id": "de74cda9",
   "metadata": {},
   "outputs": [
    {
     "data": {
      "text/plain": [
       "(10771, 15)"
      ]
     },
     "execution_count": 10,
     "metadata": {},
     "output_type": "execute_result"
    }
   ],
   "source": [
    "data[data.Sex == \"Female\"].shape"
   ]
  },
  {
   "cell_type": "code",
   "execution_count": 11,
   "id": "88ea66d9",
   "metadata": {},
   "outputs": [
    {
     "name": "stdout",
     "output_type": "stream",
     "text": [
      "      Age         Workclass  fnlwgt   Education Education-Num  \\\n",
      "0      39         State-gov   77516   Bachelors            13   \n",
      "1      50  Self-emp-not-inc   83311   Bachelors            13   \n",
      "2      38           Private  215646     HS-grad             9   \n",
      "3      53           Private  234721        11th             7   \n",
      "4      28           Private  338409   Bachelors            13   \n",
      "...    ..               ...     ...         ...           ...   \n",
      "32556  27           Private  257302  Assoc-acdm            12   \n",
      "32557  40           Private  154374     HS-grad             9   \n",
      "32558  58           Private  151910     HS-grad             9   \n",
      "32559  22           Private  201490     HS-grad             9   \n",
      "32560  52      Self-emp-inc  287927     HS-grad             9   \n",
      "\n",
      "           Marital Status         Occupation   Relationship   Race     Sex  \\\n",
      "0           Never-married       Adm-clerical  Not-in-family  White    Male   \n",
      "1      Married-civ-spouse    Exec-managerial        Husband  White    Male   \n",
      "2                Divorced  Handlers-cleaners  Not-in-family  White    Male   \n",
      "3      Married-civ-spouse  Handlers-cleaners        Husband  Black    Male   \n",
      "4      Married-civ-spouse     Prof-specialty           Wife  Black  Female   \n",
      "...                   ...                ...            ...    ...     ...   \n",
      "32556  Married-civ-spouse       Tech-support           Wife  White  Female   \n",
      "32557  Married-civ-spouse  Machine-op-inspct        Husband  White    Male   \n",
      "32558             Widowed       Adm-clerical      Unmarried  White  Female   \n",
      "32559       Never-married       Adm-clerical      Own-child  White    Male   \n",
      "32560  Married-civ-spouse    Exec-managerial           Wife  White  Female   \n",
      "\n",
      "      Capital Gain Capital Loss Hours per week        Country  label  \n",
      "0             2174            0             40  United-States  <=50K  \n",
      "1                0            0             13  United-States  <=50K  \n",
      "2                0            0             40  United-States  <=50K  \n",
      "3                0            0             40  United-States  <=50K  \n",
      "4                0            0             40           Cuba  <=50K  \n",
      "...            ...          ...            ...            ...    ...  \n",
      "32556            0            0             38  United-States  <=50K  \n",
      "32557            0            0             40  United-States   >50K  \n",
      "32558            0            0             40  United-States  <=50K  \n",
      "32559            0            0             20  United-States  <=50K  \n",
      "32560        15024            0             40  United-States   >50K  \n",
      "\n",
      "[32561 rows x 15 columns]\n"
     ]
    }
   ],
   "source": [
    "print(data)"
   ]
  },
  {
   "cell_type": "markdown",
   "id": "43d1349b",
   "metadata": {},
   "source": [
    "# Testing apriori adaptation and  implementation"
   ]
  },
  {
   "cell_type": "code",
   "execution_count": 12,
   "id": "0dc55eb1",
   "metadata": {},
   "outputs": [
    {
     "name": "stdout",
     "output_type": "stream",
     "text": [
      "Index(['Age', 'Workclass', 'fnlwgt', 'Education', 'Education-Num',\n",
      "       'Marital Status', 'Occupation', 'Relationship', 'Race', 'Capital Gain',\n",
      "       'Capital Loss', 'Hours per week', 'Country'],\n",
      "      dtype='object')\n",
      "       support                                           itemsets\n",
      "0     1.000000                                                (0)\n",
      "64    0.895857                                 (0, United-States)\n",
      "1     0.895857                                    (United-States)\n",
      "2     0.854274                                            (White)\n",
      "65    0.854274                                         (0, White)\n",
      "...        ...                                                ...\n",
      "2526  0.030005  (United-States, HS-grad, 9, White, Never-marri...\n",
      "1748  0.030005                                (7, 0, 11th, White)\n",
      "1747  0.030005                                   (7, 11th, White)\n",
      "1746  0.030005                                   (0, 11th, White)\n",
      "1741  0.030005                                      (11th, White)\n",
      "\n",
      "[3325 rows x 2 columns]\n",
      "[Predicate(features=['Capital Loss'], values=['0']),\n",
      " Predicate(features=['Capital Loss', 'Country'], values=['0', 'United-States']),\n",
      " Predicate(features=['Country'], values=['United-States']),\n",
      " Predicate(features=['Race'], values=['White']),\n",
      " Predicate(features=['Capital Loss', 'Race'], values=['0', 'White']),\n",
      " Predicate(features=['Capital Loss', 'Country', 'Race'], values=['0', 'United-States', 'White']),\n",
      " Predicate(features=['Country', 'Race'], values=['United-States', 'White']),\n",
      " Predicate(features=['Workclass'], values=['Private']),\n",
      " Predicate(features=['Workclass', 'Capital Loss'], values=['Private', '0']),\n",
      " Predicate(features=['Workclass', 'Country'], values=['Private', 'United-States'])]\n",
      "3325\n"
     ]
    }
   ],
   "source": [
    "# y = data[\"label\"]\n",
    "data = data.drop([\"label\", \"Sex\"], axis=1)\n",
    "print(data.keys())\n",
    "freq_itemsets = runApriori(data, min_support=0.03)\n",
    "print(freq_itemsets)\n",
    "RL = aprioriout2predicateList(freq_itemsets, data)\n",
    "pprint(RL[:10])\n",
    "print(len(RL))"
   ]
  },
  {
   "cell_type": "code",
   "execution_count": 13,
   "id": "cd07bf8f",
   "metadata": {},
   "outputs": [
    {
     "name": "stdout",
     "output_type": "stream",
     "text": [
      "       support                                                                itemsets\n",
      "2640  0.030435                (Some-college, United-States, White, Private, Own-child)\n",
      "2642  0.030435            (Some-college, United-States, 10, White, Private, Own-child)\n",
      "985   0.030435                                     (Exec-managerial, 0, Not-in-family)\n",
      "2644  0.030435         (Some-college, United-States, 10, White, Private, 0, Own-child)\n",
      "2734  0.030435                 (Married-civ-spouse, Husband, Sales, White, Private, 0)\n",
      "2733  0.030435                    (Married-civ-spouse, Husband, Sales, White, Private)\n",
      "3318  0.030435                                        (Self-emp-inc, 0, United-States)\n",
      "886   0.030435                                        (Exec-managerial, Not-in-family)\n",
      "1856  0.030435                                  (Wife, Private, 0, Married-civ-spouse)\n",
      "1855  0.030435                                     (Wife, Private, Married-civ-spouse)\n",
      "3316  0.030435                                           (Self-emp-inc, United-States)\n",
      "2643  0.030435             (Some-college, United-States, White, Private, 0, Own-child)\n",
      "3200  0.030435                                 (Machine-op-inspct, Married-civ-spouse)\n",
      "3233  0.030435                              (Machine-op-inspct, 0, Married-civ-spouse)\n",
      "2493  0.030404                (United-States, 9, Private, Never-married, 0, Own-child)\n",
      "2492  0.030404                   (United-States, 9, Private, Never-married, Own-child)\n",
      "2735  0.030404                             (United-States, Husband, Sales, Private, 0)\n",
      "2730  0.030404                                (Private, Sales, United-States, Husband)\n",
      "3224  0.030374                                   (Private, Machine-op-inspct, HS-grad)\n",
      "2752  0.030374                                  (United-States, Sales, 40, Private, 0)\n",
      "2751  0.030374                                     (Private, Sales, 40, United-States)\n",
      "2737  0.030374         (United-States, Married-civ-spouse, Husband, Sales, Private, 0)\n",
      "2736  0.030374            (United-States, Married-civ-spouse, Husband, Sales, Private)\n",
      "3228  0.030374                                         (Private, Machine-op-inspct, 9)\n",
      "3230  0.030374                                (Private, Machine-op-inspct, 9, HS-grad)\n",
      "3231  0.030374                                      (Private, 0, Machine-op-inspct, 9)\n",
      "3232  0.030374                             (Machine-op-inspct, HS-grad, 9, Private, 0)\n",
      "359   0.030374             (Not-in-family, United-States, 13, White, Never-married, 0)\n",
      "358   0.030374                (Not-in-family, United-States, 13, White, Never-married)\n",
      "3225  0.030374                                (Private, 0, Machine-op-inspct, HS-grad)\n",
      "213   0.030343                 (Not-in-family, United-States, 9, White, Never-married)\n",
      "214   0.030343              (Not-in-family, United-States, 9, White, Never-married, 0)\n",
      "552   0.030312  (Not-in-family, United-States, 13, Bachelors, White, Never-married, 0)\n",
      "551   0.030312     (Not-in-family, United-States, 13, Bachelors, White, Never-married)\n",
      "550   0.030312      (Not-in-family, United-States, Bachelors, White, Never-married, 0)\n",
      "548   0.030312         (Not-in-family, United-States, Bachelors, White, Never-married)\n",
      "3321  0.030282                                                  (36, 0, United-States)\n",
      "3320  0.030282                                                     (36, United-States)\n",
      "1827  0.030282                   (Never-married, Prof-specialty, United-States, White)\n",
      "1828  0.030282                (United-States, Prof-specialty, White, Never-married, 0)\n",
      "287   0.030282     (Not-in-family, United-States, HS-grad, 9, White, Never-married, 0)\n",
      "283   0.030282           (Not-in-family, United-States, HS-grad, White, Never-married)\n",
      "747   0.030282                                   (0, Adm-clerical, Married-civ-spouse)\n",
      "285   0.030282        (Not-in-family, United-States, HS-grad, 9, White, Never-married)\n",
      "682   0.030282                                      (Adm-clerical, Married-civ-spouse)\n",
      "286   0.030282        (Not-in-family, United-States, HS-grad, White, Never-married, 0)\n",
      "2928  0.030251                                    (Private, 40, HS-grad, Craft-repair)\n",
      "3008  0.030251                              (HS-grad, 40, 9, Private, 0, Craft-repair)\n",
      "2933  0.030251                                 (HS-grad, 40, Private, 0, Craft-repair)\n",
      "482   0.030251               (United-States, Married-civ-spouse, 13, Bachelors, 40, 0)\n",
      "3007  0.030251                                       (40, 9, Private, 0, Craft-repair)\n",
      "3006  0.030251                                 (HS-grad, 40, 9, Private, Craft-repair)\n",
      "2994  0.030251                                          (Private, 40, 9, Craft-repair)\n",
      "480   0.030251                   (United-States, Married-civ-spouse, Bachelors, 40, 0)\n",
      "475   0.030251                      (Bachelors, 40, United-States, Married-civ-spouse)\n",
      "325   0.030251                          (United-States, Married-civ-spouse, 13, 40, 0)\n",
      "481   0.030251                  (United-States, Married-civ-spouse, 13, Bachelors, 40)\n",
      "323   0.030251                             (40, United-States, Married-civ-spouse, 13)\n",
      "2485  0.030220                  (United-States, 9, White, Never-married, 0, Own-child)\n",
      "2484  0.030220                     (United-States, 9, White, Never-married, Own-child)\n",
      "3059  0.030189                                                              (?, 40, 0)\n",
      "3056  0.030189                                                                 (?, 40)\n",
      "2773  0.030159                                             (Assoc-acdm, United-States)\n",
      "2540  0.030159             (United-States, HS-grad, Private, Never-married, Own-child)\n",
      "2542  0.030159          (United-States, HS-grad, 9, Private, Never-married, Own-child)\n",
      "2775  0.030159                                         (Assoc-acdm, United-States, 12)\n",
      "2777  0.030159                                      (0, Assoc-acdm, United-States, 12)\n",
      "2544  0.030159       (United-States, HS-grad, 9, Private, Never-married, 0, Own-child)\n",
      "2543  0.030159          (United-States, HS-grad, Private, Never-married, 0, Own-child)\n",
      "2776  0.030159                                          (0, Assoc-acdm, United-States)\n",
      "61    0.030128                                                        (Other-relative)\n",
      "3322  0.030128                                                     (0, Other-relative)\n",
      "271   0.030067              (Not-in-family, United-States, HS-grad, 40, 9, Private, 0)\n",
      "205   0.030067                          (Not-in-family, United-States, 40, 9, Private)\n",
      "3306  0.030067                                                                 (0, 15)\n",
      "270   0.030067                 (Not-in-family, United-States, HS-grad, 40, Private, 0)\n",
      "206   0.030067                       (Not-in-family, United-States, 40, 9, Private, 0)\n",
      "269   0.030067                 (Not-in-family, United-States, HS-grad, 40, 9, Private)\n",
      "964   0.030067                            (13, Bachelors, Private, Exec-managerial, 0)\n",
      "963   0.030067                               (Private, Exec-managerial, Bachelors, 13)\n",
      "3263  0.030067                                  (United-States, Husband, 60, White, 0)\n",
      "962   0.030067                                       (Private, Exec-managerial, 0, 13)\n",
      "950   0.030067                                          (Private, Exec-managerial, 13)\n",
      "940   0.030067                                   (Private, Exec-managerial, Bachelors)\n",
      "267   0.030067                    (Not-in-family, United-States, HS-grad, 40, Private)\n",
      "55    0.030067                                                                    (15)\n",
      "945   0.030067                                (Private, Exec-managerial, 0, Bachelors)\n",
      "3261  0.030067                                     (60, White, United-States, Husband)\n",
      "3265  0.030036              (United-States, Married-civ-spouse, Husband, 60, White, 0)\n",
      "1722  0.030036                                      (Private, Never-married, 0, Black)\n",
      "1720  0.030036                                         (Private, Never-married, Black)\n",
      "3264  0.030036                 (United-States, Married-civ-spouse, Husband, 60, White)\n",
      "2522  0.030005               (United-States, HS-grad, White, Never-married, Own-child)\n",
      "2524  0.030005            (United-States, HS-grad, 9, White, Never-married, Own-child)\n",
      "2525  0.030005            (United-States, HS-grad, White, Never-married, 0, Own-child)\n",
      "2526  0.030005         (United-States, HS-grad, 9, White, Never-married, 0, Own-child)\n",
      "1748  0.030005                                                     (7, 0, 11th, White)\n",
      "1747  0.030005                                                        (7, 11th, White)\n",
      "1746  0.030005                                                        (0, 11th, White)\n",
      "1741  0.030005                                                           (11th, White)\n"
     ]
    }
   ],
   "source": [
    "print(freq_itemsets.tail(100).to_string())"
   ]
  },
  {
   "cell_type": "code",
   "execution_count": 14,
   "id": "3aa9ae1d",
   "metadata": {},
   "outputs": [
    {
     "name": "stdout",
     "output_type": "stream",
     "text": [
      "[Predicate(features=['Capital Loss'], values=['0']), Predicate(features=['Capital Loss', 'Country'], values=['0', 'United-States']), Predicate(features=['Country'], values=['United-States']), Predicate(features=['Race'], values=['White']), Predicate(features=['Capital Loss', 'Race'], values=['0', 'White']), Predicate(features=['Capital Loss', 'Country', 'Race'], values=['0', 'United-States', 'White']), Predicate(features=['Country', 'Race'], values=['United-States', 'White']), Predicate(features=['Workclass'], values=['Private']), Predicate(features=['Workclass', 'Capital Loss'], values=['Private', '0']), Predicate(features=['Workclass', 'Country'], values=['Private', 'United-States'])]\n"
     ]
    }
   ],
   "source": [
    "print(RL[:10])"
   ]
  },
  {
   "cell_type": "markdown",
   "id": "a20e966a",
   "metadata": {},
   "source": [
    "# Testing optimization procedure with hand-picked SD and RL"
   ]
  },
  {
   "cell_type": "code",
   "execution_count": 15,
   "id": "a03e4bf4",
   "metadata": {},
   "outputs": [
    {
     "name": "stdout",
     "output_type": "stream",
     "text": [
      "[Predicate(features=['Sex'], values=['Male']), Predicate(features=['Sex'], values=['Female'])]\n",
      "\n",
      "[Predicate(features=['Education', 'Race', 'Country'], values=['Bachelors', 'White', 'Greece']),\n",
      " Predicate(features=['Education', 'Race', 'Country'], values=['Bachelors', 'White', 'United-States']),\n",
      " Predicate(features=['Race', 'Country'], values=['White', 'Greece']),\n",
      " Predicate(features=['Race', 'Country'], values=['Black', 'Greece']),\n",
      " Predicate(features=['Sex', 'Country'], values=['Male', 'Greece']),\n",
      " Predicate(features=['Sex', 'Country'], values=['Female', 'Greece']),\n",
      " Predicate(features=['Education', 'Race', 'Country'], values=['Bachelors', 'White', 'Greece']),\n",
      " Predicate(features=['Education', 'Race', 'Country'], values=['Bachelors', 'White', 'United-States']),\n",
      " Predicate(features=['Race', 'Country'], values=['White', 'Greece']),\n",
      " Predicate(features=['Race', 'Country'], values=['Black', 'Greece'])]\n"
     ]
    }
   ],
   "source": [
    "SD = list(map(Predicate.from_dict_categorical, [\n",
    "    {\"Sex\": \"Male\"},\n",
    "    {\"Sex\": \"Female\"}\n",
    "]))\n",
    "\n",
    "RL_byhand = list(map(Predicate.from_dict_categorical, [\n",
    "    {\"Education\":\"Bachelors\", \"Race\":\"White\", \"Country\":\"Greece\"},\n",
    "    {\"Education\":\"Bachelors\", \"Race\":\"White\", \"Country\":\"United-States\"},\n",
    "    {\"Race\":\"White\", \"Country\":\"Greece\"},\n",
    "    {\"Race\":\"Black\", \"Country\":\"Greece\"},\n",
    "    {\"Sex\":\"Male\", \"Country\":\"Greece\"},\n",
    "    {\"Sex\":\"Female\", \"Country\":\"Greece\"},\n",
    "    {\"Education\":\"Bachelors\", \"Race\":\"White\", \"Country\":\"Greece\"},\n",
    "    {\"Education\":\"Bachelors\", \"Race\":\"White\", \"Country\":\"United-States\"},\n",
    "    {\"Race\":\"White\", \"Country\":\"Greece\"},\n",
    "    {\"Race\":\"Black\", \"Country\":\"Greece\"}\n",
    "]))\n",
    "\n",
    "print(SD)\n",
    "print()\n",
    "pprint(RL_byhand)"
   ]
  },
  {
   "cell_type": "code",
   "execution_count": 16,
   "id": "ad5c7826",
   "metadata": {},
   "outputs": [
    {
     "name": "stdout",
     "output_type": "stream",
     "text": [
      "(25637, 15)\n",
      "(32561, 13)\n"
     ]
    }
   ],
   "source": [
    "print(X_aff.shape)\n",
    "print(data.shape)"
   ]
  },
  {
   "cell_type": "code",
   "execution_count": 26,
   "id": "a254c186",
   "metadata": {},
   "outputs": [
    {
     "name": "stdout",
     "output_type": "stream",
     "text": [
      "CPU times: total: 3min 54s\n",
      "Wall time: 30.1 s\n"
     ]
    }
   ],
   "source": [
    "%%time\n",
    "\n",
    "final_rules = optimize(SD, RL[:400], X_aff[:400], model)"
   ]
  },
  {
   "cell_type": "code",
   "execution_count": 27,
   "id": "c7e86783",
   "metadata": {},
   "outputs": [
    {
     "name": "stdout",
     "output_type": "stream",
     "text": [
      "([(Predicate(features=['Sex'], values=['Male']),\n",
      "   Predicate(features=['Marital Status'], values=['Never-married']),\n",
      "   Predicate(features=['Marital Status'], values=['Married-civ-spouse'])),\n",
      "  (Predicate(features=['Sex'], values=['Female']),\n",
      "   Predicate(features=['Marital Status'], values=['Divorced']),\n",
      "   Predicate(features=['Marital Status'], values=['Married-civ-spouse']))],\n",
      " -127,\n",
      " 149,\n",
      " -10,\n",
      " -10)\n"
     ]
    }
   ],
   "source": [
    "pprint(final_rules)"
   ]
  },
  {
   "cell_type": "code",
   "execution_count": 19,
   "id": "8925078c",
   "metadata": {
    "scrolled": false
   },
   "outputs": [
    {
     "name": "stdout",
     "output_type": "stream",
     "text": [
      "([], 0, 0, 0, 0)\n"
     ]
    }
   ],
   "source": [
    "pprint(final_rules)"
   ]
  },
  {
   "cell_type": "code",
   "execution_count": 20,
   "id": "eab43b8c",
   "metadata": {},
   "outputs": [
    {
     "name": "stdout",
     "output_type": "stream",
     "text": [
      "(25637, 15)\n"
     ]
    }
   ],
   "source": [
    "print(X_aff.shape)"
   ]
  },
  {
   "cell_type": "code",
   "execution_count": 21,
   "id": "bdf0e34e",
   "metadata": {},
   "outputs": [
    {
     "name": "stdout",
     "output_type": "stream",
     "text": [
      "      Age     Workclass  fnlwgt  Education Education-Num      Marital Status  \\\n",
      "159    42       Private  228456  Bachelors            13           Separated   \n",
      "192    41     Local-gov  523910  Bachelors            13  Married-civ-spouse   \n",
      "505    24       Private  388093  Bachelors            13       Never-married   \n",
      "907    24       Private  202570  Bachelors            13       Never-married   \n",
      "1883   27   Federal-gov  508336  Bachelors            13       Never-married   \n",
      "...    ..           ...     ...        ...           ...                 ...   \n",
      "30849  42     State-gov  212027  Bachelors            13            Divorced   \n",
      "31366  25       Private  173062  Bachelors            13       Never-married   \n",
      "31407  24       Private  493034  Bachelors            13       Never-married   \n",
      "31495  41       Private  197093  Bachelors            13            Divorced   \n",
      "32040  42  Self-emp-inc  161532  Bachelors            13  Married-civ-spouse   \n",
      "\n",
      "              Occupation    Relationship   Race   Sex Capital Gain  \\\n",
      "159        Other-service  Other-relative  Black  Male            0   \n",
      "192         Craft-repair         Husband  Black  Male            0   \n",
      "505      Exec-managerial   Not-in-family  Black  Male            0   \n",
      "907       Prof-specialty       Own-child  Black  Male            0   \n",
      "1883     Exec-managerial   Not-in-family  Black  Male            0   \n",
      "...                  ...             ...    ...   ...          ...   \n",
      "30849     Prof-specialty   Not-in-family  Black  Male            0   \n",
      "31366  Handlers-cleaners       Unmarried  Black  Male            0   \n",
      "31407     Prof-specialty   Not-in-family  Black  Male            0   \n",
      "31495     Prof-specialty   Not-in-family  Black  Male            0   \n",
      "32040       Craft-repair         Husband  Black  Male            0   \n",
      "\n",
      "      Capital Loss Hours per week        Country  label  \n",
      "159              0             50  United-States  <=50K  \n",
      "192              0             40  United-States  <=50K  \n",
      "505              0             40  United-States  <=50K  \n",
      "907              0             15  United-States  <=50K  \n",
      "1883             0             48  United-States  <=50K  \n",
      "...            ...            ...            ...    ...  \n",
      "30849            0             40  United-States  <=50K  \n",
      "31366            0             40  United-States  <=50K  \n",
      "31407            0             40  United-States  <=50K  \n",
      "31495            0             40  United-States  <=50K  \n",
      "32040            0             60  United-States  <=50K  \n",
      "\n",
      "[77 rows x 15 columns]\n"
     ]
    }
   ],
   "source": [
    "t = X_aff[X_aff.Sex == \"Male\"]\n",
    "t = t[t.Education == \"Bachelors\"]\n",
    "t = t[t.Race == \"Black\"]\n",
    "t = t[t.Country == \"United-States\"]\n",
    "print(t)"
   ]
  }
 ],
 "metadata": {
  "kernelspec": {
   "display_name": "Python 3 (ipykernel)",
   "language": "python",
   "name": "python3"
  },
  "language_info": {
   "codemirror_mode": {
    "name": "ipython",
    "version": 3
   },
   "file_extension": ".py",
   "mimetype": "text/x-python",
   "name": "python",
   "nbconvert_exporter": "python",
   "pygments_lexer": "ipython3",
   "version": "3.9.15"
  }
 },
 "nbformat": 4,
 "nbformat_minor": 5
}
