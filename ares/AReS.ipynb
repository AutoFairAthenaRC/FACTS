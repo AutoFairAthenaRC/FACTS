{
 "cells": [
  {
   "cell_type": "code",
   "execution_count": 1,
   "id": "0430d5eb",
   "metadata": {},
   "outputs": [],
   "source": [
    "# Location of adult dataset\n",
    "ADULT_DATAFILE = '../adult.data'"
   ]
  },
  {
   "cell_type": "code",
   "execution_count": 2,
   "id": "2680d6a2",
   "metadata": {},
   "outputs": [],
   "source": [
    "import numpy as np\n",
    "import pandas as pd\n",
    "from pprint import pprint\n",
    "\n",
    "import lib\n",
    "from lib import Predicate, optimize\n",
    "from models import customXGB\n",
    "from apriori import preprocessDataset, runApriori, aprioriout2predicateList"
   ]
  },
  {
   "cell_type": "code",
   "execution_count": 3,
   "id": "b988ac0f",
   "metadata": {},
   "outputs": [],
   "source": [
    "feature_names = [\n",
    "   \"Age\", \"Workclass\", \"fnlwgt\", \"Education\",\n",
    "   \"Education-Num\", \"Marital Status\", \"Occupation\",\n",
    "   \"Relationship\", \"Race\", \"Sex\", \"Capital Gain\",\n",
    "   \"Capital Loss\", \"Hours per week\", \"Country\", \"label\"\n",
    "]\n",
    "data = pd.DataFrame(\n",
    "  np.genfromtxt(ADULT_DATAFILE, delimiter=', ', dtype=str),\n",
    "  columns=feature_names\n",
    ")\n",
    "cate_columns = ['Workclass', 'Education', 'Marital Status', 'Occupation', 'Relationship', 'Race', 'Sex', 'Country']"
   ]
  },
  {
   "cell_type": "markdown",
   "id": "1db0cdca",
   "metadata": {},
   "source": [
    "# Definition and Training of a black-box model"
   ]
  },
  {
   "cell_type": "code",
   "execution_count": 4,
   "id": "2c1842fb",
   "metadata": {},
   "outputs": [
    {
     "data": {
      "text/plain": [
       "<models.customXGB at 0x2519ce3a460>"
      ]
     },
     "execution_count": 4,
     "metadata": {},
     "output_type": "execute_result"
    }
   ],
   "source": [
    "model = customXGB(n_estimators=300, max_depth=5)\n",
    "model.fit(data, cate_columns=cate_columns)"
   ]
  },
  {
   "cell_type": "code",
   "execution_count": 5,
   "id": "17042664",
   "metadata": {},
   "outputs": [
    {
     "data": {
      "text/plain": [
       "numpy.ndarray"
      ]
     },
     "execution_count": 5,
     "metadata": {},
     "output_type": "execute_result"
    }
   ],
   "source": [
    "type(model.predict(data.iloc[:100, :]))"
   ]
  },
  {
   "cell_type": "code",
   "execution_count": 6,
   "id": "b11315da",
   "metadata": {},
   "outputs": [
    {
     "name": "stdout",
     "output_type": "stream",
     "text": [
      "(32561, 15)\n",
      "(25604,)\n",
      "(25604, 15)\n",
      "<class 'pandas.core.frame.DataFrame'>\n"
     ]
    }
   ],
   "source": [
    "X_aff_idxs = np.where(model.predict(data) == 0)[0]\n",
    "print(data.shape)\n",
    "print(X_aff_idxs.shape)\n",
    "X_aff = data.iloc[X_aff_idxs, :]\n",
    "print(X_aff.shape)\n",
    "print(type(X_aff))\n",
    "# X_aff.reset_index(inplace=True, drop=True)\n",
    "# print(X_aff.shape)\n",
    "# print(type(X_aff))"
   ]
  },
  {
   "cell_type": "markdown",
   "id": "12c42255",
   "metadata": {},
   "source": [
    "# Testing of Rules Implementation\n",
    "\n",
    "Plus valuation functions."
   ]
  },
  {
   "cell_type": "code",
   "execution_count": 6,
   "id": "a1d74946",
   "metadata": {},
   "outputs": [],
   "source": [
    "d = data[[\"Education\", \"Race\", \"Age\", \"Sex\", \"Country\"]]\n",
    "y = data[\"label\"]\n",
    "\n",
    "RecourseRulesMale = [\n",
    "    ({\"Education\":\"Bachelors\", \"Race\":\"White\", \"Country\":\"Greece\"},\n",
    "     {\"Education\":\"Bachelors\", \"Race\":\"White\", \"Country\":\"United-States\"}),\n",
    "    ({\"Race\":\"White\", \"Country\":\"Greece\"}, {\"Race\":\"Black\", \"Country\":\"Greece\"}),\n",
    "    ({\"Sex\":\"Male\", \"Country\":\"Greece\"}, {\"Sex\":\"Female\", \"Country\":\"Greece\"})\n",
    "]\n",
    "\n",
    "RecourseRulesFemale = [\n",
    "    ({\"Education\":\"Bachelors\", \"Race\":\"White\", \"Country\":\"Greece\"},\n",
    "     {\"Education\":\"Bachelors\", \"Race\":\"White\", \"Country\":\"United-States\"}),\n",
    "    ({\"Race\":\"White\", \"Country\":\"Greece\"}, {\"Race\":\"Black\", \"Country\":\"Greece\"})\n",
    "]\n",
    "\n",
    "sex = lib.TwoLevelRecourseSet(\"Sex\", [\"Male\", \"Female\"])\n",
    "sex.addRules(\"Male\", RecourseRulesMale)\n",
    "sex.addRules(\"Female\", RecourseRulesFemale)"
   ]
  },
  {
   "cell_type": "code",
   "execution_count": 7,
   "id": "cd362eb2",
   "metadata": {},
   "outputs": [
    {
     "data": {
      "text/plain": [
       "[Predicate(features=['Education', 'Race', 'Country'], values=['Bachelors', 'White', 'United-States']),\n",
       " Predicate(features=['Race', 'Country'], values=['Black', 'Greece']),\n",
       " Predicate(features=['Sex', 'Country'], values=['Female', 'Greece'])]"
      ]
     },
     "execution_count": 7,
     "metadata": {},
     "output_type": "execute_result"
    }
   ],
   "source": [
    "list(sex.suggest(d.iloc[5839]))"
   ]
  },
  {
   "cell_type": "code",
   "execution_count": 8,
   "id": "91d0dd54",
   "metadata": {},
   "outputs": [
    {
     "name": "stdout",
     "output_type": "stream",
     "text": [
      "Number of suggested actions (recourses) that have no effect: 36\n",
      "Number of individuals for which there is a suggestion: 20\n",
      "Total cost of changed features, based on change / no change, over all rules: 104\n",
      "Total cost of changed features, based on magnitude of changed, over all rules: 5\n",
      "Total number of triples / rules in our set: 5\n",
      "Maximum number of predicates in a triple / rule: 3\n",
      "512704\n",
      "20\n",
      "13896\n",
      "135\n"
     ]
    }
   ],
   "source": [
    "print(f\"Number of suggested actions (recourses) that have no effect: {lib.incorrectRecourses(sex, X_aff, model)}\")\n",
    "print(f\"Number of individuals for which there is a suggestion: {lib.cover(sex, X_aff)}\")\n",
    "print(f\"Total cost of changed features, based on change / no change, over all rules: {lib.featureCost(sex)}\")\n",
    "print(f\"Total cost of changed features, based on magnitude of changed, over all rules: {lib.featureChange(sex)}\")\n",
    "print(f\"Total number of triples / rules in our set: {lib.size(sex)}\")\n",
    "print(f\"Maximum number of predicates in a triple / rule: {lib.maxwidth(sex)}\")\n",
    "\n",
    "print(lib.reward1(sex, X_aff, model))\n",
    "print(lib.reward2(sex, X_aff))\n",
    "print(lib.reward3(sex))\n",
    "print(lib.reward4(sex))"
   ]
  },
  {
   "cell_type": "code",
   "execution_count": 9,
   "id": "cd0b037b",
   "metadata": {},
   "outputs": [
    {
     "data": {
      "text/plain": [
       "15828"
      ]
     },
     "execution_count": 9,
     "metadata": {},
     "output_type": "execute_result"
    }
   ],
   "source": [
    "len(X_aff[X_aff[\"Sex\"] == \"Male\"])"
   ]
  },
  {
   "cell_type": "code",
   "execution_count": 10,
   "id": "de74cda9",
   "metadata": {},
   "outputs": [
    {
     "data": {
      "text/plain": [
       "(10771, 15)"
      ]
     },
     "execution_count": 10,
     "metadata": {},
     "output_type": "execute_result"
    }
   ],
   "source": [
    "data[data.Sex == \"Female\"].shape"
   ]
  },
  {
   "cell_type": "code",
   "execution_count": 11,
   "id": "88ea66d9",
   "metadata": {},
   "outputs": [
    {
     "name": "stdout",
     "output_type": "stream",
     "text": [
      "      Age         Workclass  fnlwgt   Education Education-Num  \\\n",
      "0      39         State-gov   77516   Bachelors            13   \n",
      "1      50  Self-emp-not-inc   83311   Bachelors            13   \n",
      "2      38           Private  215646     HS-grad             9   \n",
      "3      53           Private  234721        11th             7   \n",
      "4      28           Private  338409   Bachelors            13   \n",
      "...    ..               ...     ...         ...           ...   \n",
      "32556  27           Private  257302  Assoc-acdm            12   \n",
      "32557  40           Private  154374     HS-grad             9   \n",
      "32558  58           Private  151910     HS-grad             9   \n",
      "32559  22           Private  201490     HS-grad             9   \n",
      "32560  52      Self-emp-inc  287927     HS-grad             9   \n",
      "\n",
      "           Marital Status         Occupation   Relationship   Race     Sex  \\\n",
      "0           Never-married       Adm-clerical  Not-in-family  White    Male   \n",
      "1      Married-civ-spouse    Exec-managerial        Husband  White    Male   \n",
      "2                Divorced  Handlers-cleaners  Not-in-family  White    Male   \n",
      "3      Married-civ-spouse  Handlers-cleaners        Husband  Black    Male   \n",
      "4      Married-civ-spouse     Prof-specialty           Wife  Black  Female   \n",
      "...                   ...                ...            ...    ...     ...   \n",
      "32556  Married-civ-spouse       Tech-support           Wife  White  Female   \n",
      "32557  Married-civ-spouse  Machine-op-inspct        Husband  White    Male   \n",
      "32558             Widowed       Adm-clerical      Unmarried  White  Female   \n",
      "32559       Never-married       Adm-clerical      Own-child  White    Male   \n",
      "32560  Married-civ-spouse    Exec-managerial           Wife  White  Female   \n",
      "\n",
      "      Capital Gain Capital Loss Hours per week        Country  label  \n",
      "0             2174            0             40  United-States  <=50K  \n",
      "1                0            0             13  United-States  <=50K  \n",
      "2                0            0             40  United-States  <=50K  \n",
      "3                0            0             40  United-States  <=50K  \n",
      "4                0            0             40           Cuba  <=50K  \n",
      "...            ...          ...            ...            ...    ...  \n",
      "32556            0            0             38  United-States  <=50K  \n",
      "32557            0            0             40  United-States   >50K  \n",
      "32558            0            0             40  United-States  <=50K  \n",
      "32559            0            0             20  United-States  <=50K  \n",
      "32560        15024            0             40  United-States   >50K  \n",
      "\n",
      "[32561 rows x 15 columns]\n"
     ]
    }
   ],
   "source": [
    "print(data)"
   ]
  },
  {
   "cell_type": "markdown",
   "id": "43d1349b",
   "metadata": {},
   "source": [
    "# Testing apriori adaptation and  implementation"
   ]
  },
  {
   "cell_type": "code",
   "execution_count": 7,
   "id": "3c271888",
   "metadata": {},
   "outputs": [
    {
     "name": "stdout",
     "output_type": "stream",
     "text": [
      "       support                                           itemsets\n",
      "0     0.953349                                   (0+Capital Loss)\n",
      "10    0.916710                                   (0+Capital Gain)\n",
      "1     0.895857                            (United-States+Country)\n",
      "1345  0.870059                   (0+Capital Loss, 0+Capital Gain)\n",
      "2     0.854274                                       (White+Race)\n",
      "...        ...                                                ...\n",
      "4453  0.030005  (HS-grad+Education, United-States+Country, Nev...\n",
      "4527  0.030005  (HS-grad+Education, United-States+Country, 9+E...\n",
      "4783  0.030005  (United-States+Country, 30+Hours per week, 0+C...\n",
      "5501  0.030005    (White+Race, 35+Hours per week, 0+Capital Gain)\n",
      "4522  0.030005  (United-States+Country, 9+Education-Num, Never...\n",
      "\n",
      "[5766 rows x 2 columns]\n",
      "[Predicate(features=['Capital Loss'], values=['0']),\n",
      " Predicate(features=['Capital Gain'], values=['0']),\n",
      " Predicate(features=['Country'], values=['United-States']),\n",
      " Predicate(features=['Capital Loss', 'Capital Gain'], values=['0', '0']),\n",
      " Predicate(features=['Race'], values=['White']),\n",
      " Predicate(features=['Country', 'Capital Loss'], values=['United-States', '0']),\n",
      " Predicate(features=['Country', 'Capital Gain'], values=['United-States', '0']),\n",
      " Predicate(features=['Race', 'Capital Loss'], values=['White', '0']),\n",
      " Predicate(features=['Race', 'Country'], values=['White', 'United-States']),\n",
      " Predicate(features=['Race', 'Capital Gain'], values=['White', '0'])]\n",
      "5766\n"
     ]
    }
   ],
   "source": [
    "# y_male = data.loc[data.Sex == \"Male\", \"label\"]\n",
    "# Χ_male = data.loc[data.Sex == \"Male\"].drop([\"label\", \"Sex\"], axis=1)\n",
    "# y_female = data.loc[data.Sex == \"Female\", \"label\"]\n",
    "# Χ_female = data.loc[data.Sex == \"Female\"].drop([\"label\", \"Sex\"], axis=1)\n",
    "\n",
    "d = data.drop([\"label\", \"Sex\"], axis=1)\n",
    "freq_itemsets = runApriori(preprocessDataset(d), min_support=0.03)\n",
    "print(freq_itemsets)\n",
    "RL = aprioriout2predicateList(freq_itemsets)\n",
    "pprint(RL[:10])\n",
    "print(len(RL))"
   ]
  },
  {
   "cell_type": "code",
   "execution_count": 16,
   "id": "cd07bf8f",
   "metadata": {},
   "outputs": [
    {
     "name": "stdout",
     "output_type": "stream",
     "text": [
      "       support                                           itemsets\n",
      "3718  0.030312  (Husband+Relationship, White+Race, 40+Hours pe...\n",
      "3526  0.030312  (White+Race, 0+Capital Loss, Private+Workclass...\n",
      "5606  0.030312  (Divorced+Marital Status, Private+Workclass, U...\n",
      "899   0.030312  (White+Race, 13+Education-Num, Never-married+M...\n",
      "3436  0.030312  (0+Capital Loss, 40+Hours per week, Private+Wo...\n",
      "...        ...                                                ...\n",
      "4453  0.030005  (White+Race, Never-married+Marital Status, HS-...\n",
      "4527  0.030005  (White+Race, 9+Education-Num, Never-married+Ma...\n",
      "4783  0.030005  (30+Hours per week, United-States+Country, 0+C...\n",
      "5501  0.030005    (White+Race, 35+Hours per week, 0+Capital Gain)\n",
      "4522  0.030005  (White+Race, 9+Education-Num, Never-married+Ma...\n",
      "\n",
      "[100 rows x 2 columns]\n",
      "       support                                                                                                                                                                                itemsets\n",
      "3718  0.030312                                                 (Husband+Relationship, White+Race, 40+Hours per week, Some-college+Education, United-States+Country, Married-civ-spouse+Marital Status)\n",
      "3526  0.030312                                                                                   (White+Race, 0+Capital Loss, Private+Workclass, 50+Hours per week, Married-civ-spouse+Marital Status)\n",
      "5606  0.030312                                                                             (Divorced+Marital Status, Private+Workclass, United-States+Country, Unmarried+Relationship, 0+Capital Gain)\n",
      "899   0.030312                                                    (White+Race, 13+Education-Num, Never-married+Marital Status, Bachelors+Education, United-States+Country, Not-in-family+Relationship)\n",
      "3436  0.030312                                                                                        (0+Capital Loss, 40+Hours per week, Private+Workclass, Other-service+Occupation, 0+Capital Gain)\n",
      "4130  0.030312                                                       (10+Education-Num, Husband+Relationship, White+Race, 40+Hours per week, United-States+Country, Married-civ-spouse+Marital Status)\n",
      "576   0.030312                                                                         (White+Race, 13+Education-Num, Never-married+Marital Status, United-States+Country, Not-in-family+Relationship)\n",
      "3213  0.030282                                                                                            (White+Race, Never-married+Marital Status, United-States+Country, Prof-specialty+Occupation)\n",
      "346   0.030282                                                                        (White+Race, Never-married+Marital Status, HS-grad+Education, United-States+Country, Not-in-family+Relationship)\n",
      "463   0.030282                                                                          (White+Race, 9+Education-Num, Never-married+Marital Status, United-States+Country, Not-in-family+Relationship)\n",
      "466   0.030282                                                       (White+Race, 9+Education-Num, Never-married+Marital Status, HS-grad+Education, United-States+Country, Not-in-family+Relationship)\n",
      "1155  0.030282                                                                                                                            (Adm-clerical+Occupation, Married-civ-spouse+Marital Status)\n",
      "3562  0.030282                                                                                                            (Private+Workclass, Husband+Relationship, 50+Hours per week, 0+Capital Loss)\n",
      "3565  0.030282                                                                         (Husband+Relationship, 0+Capital Loss, Private+Workclass, 50+Hours per week, Married-civ-spouse+Marital Status)\n",
      "4938  0.030251                                                                                                                                (12+Education-Num, Assoc-acdm+Education, 0+Capital Gain)\n",
      "4356  0.030251                                                                                                                                               (Asian-Pac-Islander+Race, 0+Capital Loss)\n",
      "4935  0.030251                                                                                                                                                      (12+Education-Num, 0+Capital Gain)\n",
      "4931  0.030251                                                                                                                                                  (0+Capital Gain, Assoc-acdm+Education)\n",
      "3211  0.030251                                                                        (Never-married+Marital Status, 0+Capital Loss, United-States+Country, Prof-specialty+Occupation, 0+Capital Gain)\n",
      "5662  0.030251                                                                                        (White+Race, Machine-op-inspct+Occupation, 40+Hours per week, Private+Workclass, 0+Capital Gain)\n",
      "4620  0.030220                         (White+Race, Never-married+Marital Status, 0+Capital Loss, 40+Hours per week, Private+Workclass, United-States+Country, Own-child+Relationship, 0+Capital Gain)\n",
      "3639  0.030189                                                       (White+Race, 0+Capital Gain, 40+Hours per week, Some-college+Education, United-States+Country, Married-civ-spouse+Marital Status)\n",
      "2959  0.030189                                                                                                (Some-college+Education, Divorced+Marital Status, United-States+Country, 0+Capital Loss)\n",
      "679   0.030189                                                          (Husband+Relationship, White+Race, 13+Education-Num, 0+Capital Loss, Private+Workclass, United-States+Country, 0+Capital Gain)\n",
      "2960  0.030189                                                                              (10+Education-Num, Divorced+Marital Status, 0+Capital Loss, Some-college+Education, United-States+Country)\n",
      "3971  0.030189                                                             (10+Education-Num, White+Race, 0+Capital Gain, 40+Hours per week, United-States+Country, Married-civ-spouse+Marital Status)\n",
      "3972  0.030189                                     (10+Education-Num, White+Race, 0+Capital Gain, 40+Hours per week, Some-college+Education, United-States+Country, Married-civ-spouse+Marital Status)\n",
      "680   0.030189                       (Husband+Relationship, White+Race, 13+Education-Num, 0+Capital Loss, Private+Workclass, Married-civ-spouse+Marital Status, United-States+Country, 0+Capital Gain)\n",
      "2949  0.030189                                                                                                      (10+Education-Num, Divorced+Marital Status, United-States+Country, 0+Capital Loss)\n",
      "5663  0.030189                                                                                           (White+Race, Machine-op-inspct+Occupation, 0+Capital Loss, 40+Hours per week, 0+Capital Gain)\n",
      "1109  0.030189                                                       (Husband+Relationship, White+Race, Bachelors+Education, 0+Capital Loss, Private+Workclass, United-States+Country, 0+Capital Gain)\n",
      "1111  0.030189                                     (Husband+Relationship, White+Race, 13+Education-Num, Bachelors+Education, 0+Capital Loss, Private+Workclass, United-States+Country, 0+Capital Gain)\n",
      "1112  0.030189                    (Husband+Relationship, White+Race, Bachelors+Education, 0+Capital Loss, Private+Workclass, Married-civ-spouse+Marital Status, United-States+Country, 0+Capital Gain)\n",
      "1113  0.030189  (Husband+Relationship, White+Race, 13+Education-Num, Bachelors+Education, 0+Capital Loss, Private+Workclass, Married-civ-spouse+Marital Status, United-States+Country, 0+Capital Gain)\n",
      "4939  0.030159                                                                                                                         (12+Education-Num, United-States+Country, Assoc-acdm+Education)\n",
      "5657  0.030159                                                             (Machine-op-inspct+Occupation, 0+Capital Loss, 40+Hours per week, Private+Workclass, United-States+Country, 0+Capital Gain)\n",
      "4526  0.030159                                                  (White+Race, 9+Education-Num, Never-married+Marital Status, HS-grad+Education, 0+Capital Loss, Own-child+Relationship, 0+Capital Gain)\n",
      "4557  0.030159                                                    (Never-married+Marital Status, 9+Education-Num, HS-grad+Education, Private+Workclass, United-States+Country, Own-child+Relationship)\n",
      "3129  0.030159                                                                                                                       (Private+Workclass, Prof-specialty+Occupation, 40+Hours per week)\n",
      "4936  0.030159                                                                                                                                               (12+Education-Num, United-States+Country)\n",
      "4525  0.030159                                                                     (White+Race, 9+Education-Num, Never-married+Marital Status, 0+Capital Loss, Own-child+Relationship, 0+Capital Gain)\n",
      "4467  0.030159                                                                     (Never-married+Marital Status, HS-grad+Education, Private+Workclass, United-States+Country, Own-child+Relationship)\n",
      "4454  0.030159                                                                   (White+Race, Never-married+Marital Status, HS-grad+Education, 0+Capital Loss, Own-child+Relationship, 0+Capital Gain)\n",
      "5675  0.030159                                                                                                                                  (60+Hours per week, Married-civ-spouse+Marital Status)\n",
      "4932  0.030159                                                                                                                                           (United-States+Country, Assoc-acdm+Education)\n",
      "4552  0.030159                                                                       (Never-married+Marital Status, 9+Education-Num, Private+Workclass, United-States+Country, Own-child+Relationship)\n",
      "3439  0.030159                                                                                    (0+Capital Loss, 40+Hours per week, United-States+Country, Other-service+Occupation, 0+Capital Gain)\n",
      "5130  0.030128                                                                       (Husband+Relationship, White+Race, Craft-repair+Occupation, 40+Hours per week, Private+Workclass, 0+Capital Gain)\n",
      "468   0.030128                                                                          (9+Education-Num, Never-married+Marital Status, 0+Capital Loss, Private+Workclass, Not-in-family+Relationship)\n",
      "470   0.030128                                                       (9+Education-Num, Never-married+Marital Status, HS-grad+Education, 0+Capital Loss, Private+Workclass, Not-in-family+Relationship)\n",
      "2853  0.030128                                                         (Divorced+Marital Status, 0+Capital Loss, 40+Hours per week, United-States+Country, Not-in-family+Relationship, 0+Capital Gain)\n",
      "347   0.030128                                                                        (Never-married+Marital Status, HS-grad+Education, 0+Capital Loss, Private+Workclass, Not-in-family+Relationship)\n",
      "1588  0.030128                                   (White+Race, 0+Capital Gain, 0+Capital Loss, Exec-managerial+Occupation, Private+Workclass, United-States+Country, Married-civ-spouse+Marital Status)\n",
      "53    0.030128                                                                                                                                                           (Other-relative+Relationship)\n",
      "1260  0.030128                                                                                                                 (White+Race, Adm-clerical+Occupation, 10+Education-Num, 0+Capital Loss)\n",
      "1278  0.030128                                                                                                           (White+Race, Adm-clerical+Occupation, Some-college+Education, 0+Capital Loss)\n",
      "1279  0.030128                                                                                         (Adm-clerical+Occupation, 10+Education-Num, White+Race, 0+Capital Loss, Some-college+Education)\n",
      "5695  0.030128                                                                                                                                         (White+Race, 20+Hours per week, 0+Capital Loss)\n",
      "913   0.030097                                                                                    (Bachelors+Education, 0+Capital Loss, Private+Workclass, Not-in-family+Relationship, 0+Capital Gain)\n",
      "914   0.030097                                                                  (13+Education-Num, Bachelors+Education, 0+Capital Loss, Private+Workclass, Not-in-family+Relationship, 0+Capital Gain)\n",
      "583   0.030097                                                                                       (13+Education-Num, 0+Capital Loss, Private+Workclass, Not-in-family+Relationship, 0+Capital Gain)\n",
      "5135  0.030097                                                                (Husband+Relationship, White+Race, Craft-repair+Occupation, 40+Hours per week, Private+Workclass, United-States+Country)\n",
      "3714  0.030097                                                                                       (Husband+Relationship, 0+Capital Loss, Some-college+Education, 40+Hours per week, 0+Capital Gain)\n",
      "1642  0.030097                                                (Husband+Relationship, 0+Capital Gain, 0+Capital Loss, Exec-managerial+Occupation, Private+Workclass, Married-civ-spouse+Marital Status)\n",
      "1639  0.030097                                                                                   (Husband+Relationship, 0+Capital Loss, Exec-managerial+Occupation, Private+Workclass, 0+Capital Gain)\n",
      "3204  0.030097                                                                          (0+Capital Loss, United-States+Country, Prof-specialty+Occupation, Not-in-family+Relationship, 0+Capital Gain)\n",
      "4122  0.030097                                                                     (10+Education-Num, Husband+Relationship, 0+Capital Loss, Some-college+Education, 40+Hours per week, 0+Capital Gain)\n",
      "1715  0.030097                                                                                                          (White+Race, Exec-managerial+Occupation, Private+Workclass, 40+Hours per week)\n",
      "5132  0.030097                                    (Husband+Relationship, White+Race, Craft-repair+Occupation, 40+Hours per week, Private+Workclass, Married-civ-spouse+Marital Status, 0+Capital Gain)\n",
      "4120  0.030097                                                                                             (10+Education-Num, Husband+Relationship, 0+Capital Loss, 40+Hours per week, 0+Capital Gain)\n",
      "5137  0.030067                             (Husband+Relationship, White+Race, Craft-repair+Occupation, 40+Hours per week, Private+Workclass, United-States+Country, Married-civ-spouse+Marital Status)\n",
      "4123  0.030067                                                          (10+Education-Num, Husband+Relationship, 0+Capital Loss, 40+Hours per week, Married-civ-spouse+Marital Status, 0+Capital Gain)\n",
      "4124  0.030067                                  (10+Education-Num, Husband+Relationship, 0+Capital Loss, Some-college+Education, 40+Hours per week, Married-civ-spouse+Marital Status, 0+Capital Gain)\n",
      "3715  0.030067                                                    (Husband+Relationship, 0+Capital Loss, Some-college+Education, 40+Hours per week, Married-civ-spouse+Marital Status, 0+Capital Gain)\n",
      "1680  0.030067                                                                                                  (Exec-managerial+Occupation, Private+Workclass, 13+Education-Num, Bachelors+Education)\n",
      "1661  0.030067                                                                                                                       (Exec-managerial+Occupation, Private+Workclass, 13+Education-Num)\n",
      "1648  0.030067                                                                                                                    (Exec-managerial+Occupation, Private+Workclass, Bachelors+Education)\n",
      "4917  0.030067                                                                                                                (Private+Workclass, Sales+Occupation, 40+Hours per week, 0+Capital Loss)\n",
      "5342  0.030036                                                                                               (White+Race, 9+Education-Num, Craft-repair+Occupation, 40+Hours per week, 0+Capital Gain)\n",
      "5368  0.030036                                                        (White+Race, 0+Capital Gain, 9+Education-Num, Craft-repair+Occupation, United-States+Country, Married-civ-spouse+Marital Status)\n",
      "5369  0.030036                                     (White+Race, 0+Capital Gain, 9+Education-Num, Craft-repair+Occupation, HS-grad+Education, United-States+Country, Married-civ-spouse+Marital Status)\n",
      "5235  0.030036                                                      (White+Race, 0+Capital Gain, Craft-repair+Occupation, HS-grad+Education, United-States+Country, Married-civ-spouse+Marital Status)\n",
      "5345  0.030036                                                                            (White+Race, 9+Education-Num, Craft-repair+Occupation, HS-grad+Education, 40+Hours per week, 0+Capital Gain)\n",
      "5223  0.030036                                                                                             (White+Race, Craft-repair+Occupation, HS-grad+Education, 40+Hours per week, 0+Capital Gain)\n",
      "5098  0.030036                                               (0+Capital Gain, Craft-repair+Occupation, 40+Hours per week, Private+Workclass, United-States+Country, Married-civ-spouse+Marital Status)\n",
      "3022  0.030036                                                                                                                           (Black+Race, Private+Workclass, Never-married+Marital Status)\n",
      "471   0.030005                                                       (9+Education-Num, Never-married+Marital Status, HS-grad+Education, Private+Workclass, Not-in-family+Relationship, 0+Capital Gain)\n",
      "469   0.030005                                                                          (9+Education-Num, Never-married+Marital Status, Private+Workclass, Not-in-family+Relationship, 0+Capital Gain)\n",
      "3073  0.030005                                                                                                                                           (11th+Education, 7+Education-Num, White+Race)\n",
      "3061  0.030005                                                                                                                                                            (11th+Education, White+Race)\n",
      "3052  0.030005                                                                                                                                                           (White+Race, 7+Education-Num)\n",
      "2745  0.030005                             (White+Race, Never-married+Marital Status, 9+Education-Num, HS-grad+Education, 40+Hours per week, 0+Capital Loss, Private+Workclass, United-States+Country)\n",
      "2744  0.030005                                              (White+Race, Never-married+Marital Status, HS-grad+Education, 40+Hours per week, 0+Capital Loss, Private+Workclass, United-States+Country)\n",
      "2110  0.030005                                                (White+Race, Never-married+Marital Status, 9+Education-Num, 40+Hours per week, 0+Capital Loss, Private+Workclass, United-States+Country)\n",
      "348   0.030005                                                                        (Never-married+Marital Status, HS-grad+Education, Private+Workclass, Not-in-family+Relationship, 0+Capital Gain)\n",
      "4453  0.030005                                                                            (White+Race, Never-married+Marital Status, HS-grad+Education, United-States+Country, Own-child+Relationship)\n",
      "4527  0.030005                                                           (White+Race, 9+Education-Num, Never-married+Marital Status, HS-grad+Education, United-States+Country, Own-child+Relationship)\n",
      "4783  0.030005                                                                                                                              (30+Hours per week, United-States+Country, 0+Capital Gain)\n",
      "5501  0.030005                                                                                                                                         (White+Race, 35+Hours per week, 0+Capital Gain)\n",
      "4522  0.030005                                                                              (White+Race, 9+Education-Num, Never-married+Marital Status, United-States+Country, Own-child+Relationship)\n"
     ]
    }
   ],
   "source": [
    "print(freq_itemsets.tail(100))\n",
    "print(freq_itemsets.tail(100).to_string())"
   ]
  },
  {
   "cell_type": "code",
   "execution_count": 17,
   "id": "3aa9ae1d",
   "metadata": {},
   "outputs": [
    {
     "name": "stdout",
     "output_type": "stream",
     "text": [
      "[Predicate(features=['Capital Loss'], values=['0']), Predicate(features=['Capital Gain'], values=['0']), Predicate(features=['Country'], values=['United-States']), Predicate(features=['Capital Loss', 'Capital Gain'], values=['0', '0']), Predicate(features=['Race'], values=['White']), Predicate(features=['Country', 'Capital Loss'], values=['United-States', '0']), Predicate(features=['Country', 'Capital Gain'], values=['United-States', '0']), Predicate(features=['Race', 'Capital Loss'], values=['White', '0']), Predicate(features=['Race', 'Country'], values=['White', 'United-States']), Predicate(features=['Race', 'Capital Gain'], values=['White', '0'])]\n"
     ]
    }
   ],
   "source": [
    "print(RL[:10])"
   ]
  },
  {
   "cell_type": "markdown",
   "id": "a20e966a",
   "metadata": {},
   "source": [
    "# Testing optimization procedure"
   ]
  },
  {
   "cell_type": "markdown",
   "id": "1a0c0501",
   "metadata": {},
   "source": [
    "## Start with hand-picked SD and RL"
   ]
  },
  {
   "cell_type": "code",
   "execution_count": 8,
   "id": "a03e4bf4",
   "metadata": {},
   "outputs": [
    {
     "name": "stdout",
     "output_type": "stream",
     "text": [
      "[Predicate(features=['Sex'], values=['Male']), Predicate(features=['Sex'], values=['Female'])]\n",
      "\n",
      "[Predicate(features=['Education', 'Race', 'Country'], values=['Bachelors', 'White', 'Greece']),\n",
      " Predicate(features=['Education', 'Race', 'Country'], values=['Bachelors', 'White', 'United-States']),\n",
      " Predicate(features=['Race', 'Country'], values=['White', 'Greece']),\n",
      " Predicate(features=['Race', 'Country'], values=['Black', 'Greece']),\n",
      " Predicate(features=['Sex', 'Country'], values=['Male', 'Greece']),\n",
      " Predicate(features=['Sex', 'Country'], values=['Female', 'Greece']),\n",
      " Predicate(features=['Education', 'Race', 'Country'], values=['Bachelors', 'White', 'Greece']),\n",
      " Predicate(features=['Education', 'Race', 'Country'], values=['Bachelors', 'White', 'United-States']),\n",
      " Predicate(features=['Race', 'Country'], values=['White', 'Greece']),\n",
      " Predicate(features=['Race', 'Country'], values=['Black', 'Greece'])]\n"
     ]
    }
   ],
   "source": [
    "SD = list(map(Predicate.from_dict_categorical, [\n",
    "    {\"Sex\": \"Male\"},\n",
    "    {\"Sex\": \"Female\"}\n",
    "]))\n",
    "\n",
    "RL_byhand = list(map(Predicate.from_dict_categorical, [\n",
    "    {\"Education\":\"Bachelors\", \"Race\":\"White\", \"Country\":\"Greece\"},\n",
    "    {\"Education\":\"Bachelors\", \"Race\":\"White\", \"Country\":\"United-States\"},\n",
    "    {\"Race\":\"White\", \"Country\":\"Greece\"},\n",
    "    {\"Race\":\"Black\", \"Country\":\"Greece\"},\n",
    "    {\"Sex\":\"Male\", \"Country\":\"Greece\"},\n",
    "    {\"Sex\":\"Female\", \"Country\":\"Greece\"},\n",
    "    {\"Education\":\"Bachelors\", \"Race\":\"White\", \"Country\":\"Greece\"},\n",
    "    {\"Education\":\"Bachelors\", \"Race\":\"White\", \"Country\":\"United-States\"},\n",
    "    {\"Race\":\"White\", \"Country\":\"Greece\"},\n",
    "    {\"Race\":\"Black\", \"Country\":\"Greece\"}\n",
    "]))\n",
    "\n",
    "print(SD)\n",
    "print()\n",
    "pprint(RL_byhand)"
   ]
  },
  {
   "cell_type": "markdown",
   "id": "3b8aba8d",
   "metadata": {},
   "source": [
    "## Now using the output of frequent itemsets"
   ]
  },
  {
   "cell_type": "code",
   "execution_count": 18,
   "id": "ad5c7826",
   "metadata": {},
   "outputs": [
    {
     "name": "stdout",
     "output_type": "stream",
     "text": [
      "(25625, 15)\n",
      "(32561, 15)\n"
     ]
    }
   ],
   "source": [
    "print(X_aff.shape)\n",
    "print(data.shape)"
   ]
  },
  {
   "cell_type": "code",
   "execution_count": 26,
   "id": "a254c186",
   "metadata": {},
   "outputs": [
    {
     "name": "stdout",
     "output_type": "stream",
     "text": [
      "CPU times: total: 3min 54s\n",
      "Wall time: 30.1 s\n"
     ]
    }
   ],
   "source": [
    "%%time\n",
    "\n",
    "final_rules = optimize(SD, RL[:400], X_aff[:400], model)"
   ]
  },
  {
   "cell_type": "code",
   "execution_count": 27,
   "id": "c7e86783",
   "metadata": {},
   "outputs": [
    {
     "name": "stdout",
     "output_type": "stream",
     "text": [
      "([(Predicate(features=['Sex'], values=['Male']),\n",
      "   Predicate(features=['Marital Status'], values=['Never-married']),\n",
      "   Predicate(features=['Marital Status'], values=['Married-civ-spouse'])),\n",
      "  (Predicate(features=['Sex'], values=['Female']),\n",
      "   Predicate(features=['Marital Status'], values=['Divorced']),\n",
      "   Predicate(features=['Marital Status'], values=['Married-civ-spouse']))],\n",
      " -127,\n",
      " 149,\n",
      " -10,\n",
      " -10)\n"
     ]
    }
   ],
   "source": [
    "pprint(final_rules)"
   ]
  },
  {
   "cell_type": "code",
   "execution_count": 19,
   "id": "8925078c",
   "metadata": {
    "scrolled": false
   },
   "outputs": [
    {
     "name": "stdout",
     "output_type": "stream",
     "text": [
      "([], 0, 0, 0, 0)\n"
     ]
    }
   ],
   "source": [
    "pprint(final_rules)"
   ]
  },
  {
   "cell_type": "code",
   "execution_count": 20,
   "id": "eab43b8c",
   "metadata": {},
   "outputs": [
    {
     "name": "stdout",
     "output_type": "stream",
     "text": [
      "(25637, 15)\n"
     ]
    }
   ],
   "source": [
    "print(X_aff.shape)"
   ]
  },
  {
   "cell_type": "code",
   "execution_count": 21,
   "id": "bdf0e34e",
   "metadata": {},
   "outputs": [
    {
     "name": "stdout",
     "output_type": "stream",
     "text": [
      "      Age     Workclass  fnlwgt  Education Education-Num      Marital Status  \\\n",
      "159    42       Private  228456  Bachelors            13           Separated   \n",
      "192    41     Local-gov  523910  Bachelors            13  Married-civ-spouse   \n",
      "505    24       Private  388093  Bachelors            13       Never-married   \n",
      "907    24       Private  202570  Bachelors            13       Never-married   \n",
      "1883   27   Federal-gov  508336  Bachelors            13       Never-married   \n",
      "...    ..           ...     ...        ...           ...                 ...   \n",
      "30849  42     State-gov  212027  Bachelors            13            Divorced   \n",
      "31366  25       Private  173062  Bachelors            13       Never-married   \n",
      "31407  24       Private  493034  Bachelors            13       Never-married   \n",
      "31495  41       Private  197093  Bachelors            13            Divorced   \n",
      "32040  42  Self-emp-inc  161532  Bachelors            13  Married-civ-spouse   \n",
      "\n",
      "              Occupation    Relationship   Race   Sex Capital Gain  \\\n",
      "159        Other-service  Other-relative  Black  Male            0   \n",
      "192         Craft-repair         Husband  Black  Male            0   \n",
      "505      Exec-managerial   Not-in-family  Black  Male            0   \n",
      "907       Prof-specialty       Own-child  Black  Male            0   \n",
      "1883     Exec-managerial   Not-in-family  Black  Male            0   \n",
      "...                  ...             ...    ...   ...          ...   \n",
      "30849     Prof-specialty   Not-in-family  Black  Male            0   \n",
      "31366  Handlers-cleaners       Unmarried  Black  Male            0   \n",
      "31407     Prof-specialty   Not-in-family  Black  Male            0   \n",
      "31495     Prof-specialty   Not-in-family  Black  Male            0   \n",
      "32040       Craft-repair         Husband  Black  Male            0   \n",
      "\n",
      "      Capital Loss Hours per week        Country  label  \n",
      "159              0             50  United-States  <=50K  \n",
      "192              0             40  United-States  <=50K  \n",
      "505              0             40  United-States  <=50K  \n",
      "907              0             15  United-States  <=50K  \n",
      "1883             0             48  United-States  <=50K  \n",
      "...            ...            ...            ...    ...  \n",
      "30849            0             40  United-States  <=50K  \n",
      "31366            0             40  United-States  <=50K  \n",
      "31407            0             40  United-States  <=50K  \n",
      "31495            0             40  United-States  <=50K  \n",
      "32040            0             60  United-States  <=50K  \n",
      "\n",
      "[77 rows x 15 columns]\n"
     ]
    }
   ],
   "source": [
    "t = X_aff[X_aff.Sex == \"Male\"]\n",
    "t = t[t.Education == \"Bachelors\"]\n",
    "t = t[t.Race == \"Black\"]\n",
    "t = t[t.Country == \"United-States\"]\n",
    "print(t)"
   ]
  },
  {
   "cell_type": "markdown",
   "id": "e6e65ff1",
   "metadata": {},
   "source": [
    "## Testing new implementation"
   ]
  },
  {
   "cell_type": "code",
   "execution_count": 9,
   "id": "86484727",
   "metadata": {},
   "outputs": [],
   "source": [
    "from lib2 import optimize as opt"
   ]
  },
  {
   "cell_type": "code",
   "execution_count": 10,
   "id": "58570156",
   "metadata": {},
   "outputs": [
    {
     "name": "stdout",
     "output_type": "stream",
     "text": [
      "Total triples = 216\n",
      "X_aff shape before: (400, 15)\n",
      "Calculated incorrect recourse for each triple\n",
      "Calculated feature costs for each triple\n",
      "Calculated feature changes for each feature\n",
      "X_aff shape after: (400, 15)\n",
      "set()\n",
      "Calculated covers for each triple\n",
      "9\n",
      "CPU times: total: 30.7 s\n",
      "Wall time: 3.62 s\n"
     ]
    }
   ],
   "source": [
    "%%time\n",
    "\n",
    "final_rules = opt(SD, RL[:400], X_aff[:400], model)"
   ]
  },
  {
   "cell_type": "code",
   "execution_count": 11,
   "id": "7967712a",
   "metadata": {},
   "outputs": [
    {
     "name": "stdout",
     "output_type": "stream",
     "text": [
      "([(Predicate(features=['Sex'], values=['Male']),\n",
      "   Predicate(features=['Education-Num'], values=['9']),\n",
      "   Predicate(features=['Education-Num'], values=['13'])),\n",
      "  (Predicate(features=['Sex'], values=['Male']),\n",
      "   Predicate(features=['Education-Num'], values=['10']),\n",
      "   Predicate(features=['Education-Num'], values=['13'])),\n",
      "  (Predicate(features=['Sex'], values=['Female']),\n",
      "   Predicate(features=['Marital Status'], values=['Never-married']),\n",
      "   Predicate(features=['Marital Status'], values=['Married-civ-spouse']))],\n",
      " -184,\n",
      " 215,\n",
      " -3,\n",
      " -3)\n"
     ]
    }
   ],
   "source": [
    "pprint(final_rules)"
   ]
  }
 ],
 "metadata": {
  "kernelspec": {
   "display_name": "Python 3 (ipykernel)",
   "language": "python",
   "name": "python3"
  },
  "language_info": {
   "codemirror_mode": {
    "name": "ipython",
    "version": 3
   },
   "file_extension": ".py",
   "mimetype": "text/x-python",
   "name": "python",
   "nbconvert_exporter": "python",
   "pygments_lexer": "ipython3",
   "version": "3.9.15"
  }
 },
 "nbformat": 4,
 "nbformat_minor": 5
}
