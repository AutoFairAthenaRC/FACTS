{
 "cells": [
  {
   "cell_type": "code",
   "execution_count": 2,
   "id": "c9f1a3b5-e8f1-485a-9745-f7e15e7f9fa0",
   "metadata": {},
   "outputs": [],
   "source": [
    "import numpy as np\n",
    "import pandas as pd\n",
    "\n",
    "from sklearn.model_selection import train_test_split\n",
    "from sklearn.metrics import classification_report\n",
    "\n",
    "import matplotlib.pyplot as plt"
   ]
  },
  {
   "cell_type": "code",
   "execution_count": 3,
   "id": "787980d1-36a1-4478-b116-5056a22c5bc7",
   "metadata": {},
   "outputs": [],
   "source": [
    "from models import customXGB\n",
    "from lib2 import valid_triples_with_coverage_correctness, rules2rulesbyif"
   ]
  },
  {
   "cell_type": "code",
   "execution_count": 4,
   "id": "1edbaeb0-2464-43d5-ada3-04f66ca69c32",
   "metadata": {},
   "outputs": [],
   "source": [
    "DATAFILE = '../adult.data' # location of dataset\n",
    "random_state = None # change to something for exactly reproducible results\n",
    "sensitive_attribute = \"Sex\"\n",
    "target_name = \"label\"\n",
    "positive_label = \">50K\"\n",
    "negative_label = \"<=50K\"\n",
    "model_train_fraction = 0.7"
   ]
  },
  {
   "cell_type": "code",
   "execution_count": 5,
   "id": "62bb9abe-db53-4305-8294-7b131d9ec53d",
   "metadata": {},
   "outputs": [],
   "source": [
    "# specify feature names\n",
    "feature_names = [\n",
    "   \"Age\", \"Workclass\", \"fnlwgt\", \"Education\",\n",
    "   \"Education-Num\", \"Marital Status\", \"Occupation\",\n",
    "   \"Relationship\", \"Race\", \"Sex\", \"Capital Gain\",\n",
    "   \"Capital Loss\", \"Hours per week\", \"Country\", \"label\"\n",
    "]\n",
    "# specify categorical columns\n",
    "cate_columns = ['Workclass', 'Education', 'Marital Status', 'Occupation', 'Relationship', 'Race', 'Sex', 'Country']"
   ]
  },
  {
   "cell_type": "code",
   "execution_count": 6,
   "id": "eb79dcb8-f6d7-4d4e-8b36-470507b461f4",
   "metadata": {},
   "outputs": [],
   "source": [
    "data = pd.DataFrame(\n",
    "  np.genfromtxt(DATAFILE, delimiter=', ', dtype=str),\n",
    "  columns=feature_names\n",
    ")"
   ]
  },
  {
   "cell_type": "code",
   "execution_count": 7,
   "id": "a5ce002d-d613-4074-9ac1-2a6dacf7d6af",
   "metadata": {},
   "outputs": [],
   "source": [
    "X = data.drop(target_name, axis=1)\n",
    "y = data[target_name]\n",
    "\n",
    "X_train, X_test, y_train, y_test = train_test_split(X, y, train_size=model_train_fraction, random_state=random_state)\n",
    "\n",
    "X_train = X_train.reset_index(drop=True)\n",
    "X_test = X_test.reset_index(drop=True)\n",
    "y_train = y_train.reset_index(drop=True)\n",
    "y_test = y_test.reset_index(drop=True)"
   ]
  },
  {
   "cell_type": "code",
   "execution_count": 8,
   "id": "c76b8c6b-9bb4-4afd-82a9-7b271acf4ccc",
   "metadata": {},
   "outputs": [
    {
     "data": {
      "text/plain": [
       "<models.customXGB at 0x1d335cac670>"
      ]
     },
     "execution_count": 8,
     "metadata": {},
     "output_type": "execute_result"
    }
   ],
   "source": [
    "model = customXGB(n_estimators=300, max_depth=5)\n",
    "model.fit(X_train, y_train, cate_columns=cate_columns)"
   ]
  },
  {
   "cell_type": "markdown",
   "id": "66bafa9b-95db-49c6-b116-9ebb65c13fc8",
   "metadata": {},
   "source": [
    "# Find all valid if-thens with all respective coverages and correctness, for all subgroups.\n",
    "\n",
    "**Caution!** This step takes time."
   ]
  },
  {
   "cell_type": "code",
   "execution_count": 8,
   "id": "a5d564d4-394b-4e2a-a23f-9ee4cedea2dd",
   "metadata": {},
   "outputs": [
    {
     "name": "stderr",
     "output_type": "stream",
     "text": [
      "100%|██████████████████████████████████████████████████████████████████████████████| 4294/4294 [17:52<00:00,  4.00it/s]"
     ]
    },
    {
     "name": "stdout",
     "output_type": "stream",
     "text": [
      "Number of if-thens: 4294\n"
     ]
    },
    {
     "name": "stderr",
     "output_type": "stream",
     "text": [
      "\n"
     ]
    }
   ],
   "source": [
    "ifthens_coverage_correctness = valid_triples_with_coverage_correctness(\n",
    "    X_test,\n",
    "    model,\n",
    "    sensitive_attribute\n",
    ")\n",
    "\n",
    "print(f\"Number of if-thens: {len(ifthens_coverage_correctness)}\")"
   ]
  },
  {
   "cell_type": "code",
   "execution_count": 9,
   "id": "8a13da8a-e2a3-481f-9b1b-bc1803f4eccf",
   "metadata": {},
   "outputs": [],
   "source": [
    "rules_by_if = rules2rulesbyif(ifthens_coverage_correctness)"
   ]
  },
  {
   "cell_type": "code",
   "execution_count": 11,
   "id": "3cfb3df8-63f5-4c23-b841-b3bdd1e7443a",
   "metadata": {},
   "outputs": [],
   "source": [
    "K = 10\n",
    "\n",
    "# keep K ifs with maximum coverage on Females\n",
    "rules_by_if = sorted(rules_by_if.items(), key=lambda e: e[1][\"Female\"][0][1], reverse=True)[:K]\n",
    "rules_by_if = dict(rules_by_if)"
   ]
  },
  {
   "cell_type": "code",
   "execution_count": 1,
   "id": "c3d9345a-d3f6-4db1-9fa2-887cf76c0149",
   "metadata": {},
   "outputs": [],
   "source": [
    "##### Uncomment if you wish to save rules object on disk\n",
    "\n",
    "# import dill\n",
    "\n",
    "# with open(\"rules.data\", \"wb\") as outf:\n",
    "#     dill.dump(rules_by_if, outf)"
   ]
  },
  {
   "cell_type": "code",
   "execution_count": 9,
   "id": "c22dbaba-1ccb-4db3-84de-21227328e07c",
   "metadata": {},
   "outputs": [],
   "source": [
    "##### Uncomment if you wish to load rules object from disk\n",
    "\n",
    "# import dill\n",
    "\n",
    "# with open(\"rules.data\", \"rb\") as inf:\n",
    "#     rules_by_if = dill.load(inf)"
   ]
  },
  {
   "cell_type": "code",
   "execution_count": 10,
   "id": "97972fa6-6d45-4f00-bb66-ec37613117ff",
   "metadata": {},
   "outputs": [],
   "source": [
    "from formatting import recourse_report_reverse"
   ]
  },
  {
   "cell_type": "code",
   "execution_count": 11,
   "id": "a6770bac-b999-4985-8213-b1c87ba0cf1f",
   "metadata": {},
   "outputs": [
    {
     "name": "stdout",
     "output_type": "stream",
     "text": [
      "If Capital Gain = 0:\n",
      "\tSubgroup 'Female'\n",
      "\t\tMake Capital Gain = 15024 with coverage 0.9617726657645467 and correctness 0.8800562785789658.\n",
      "\t\tMake Capital Gain = 7688 with coverage 0.9617726657645467 and correctness 0.544143510376363.\n",
      "\t\tMake Capital Gain = 7298 with coverage 0.9617726657645467 and correctness 0.46676046429827645.\n",
      "\tSubgroup 'Male'\n",
      "\t\tMake Capital Gain = 15024 with coverage 0.9566315789473684 and correctness 0.9335387323943662.\n",
      "\t\tMake Capital Gain = 7688 with coverage 0.9566315789473684 and correctness 0.7742077464788732.\n",
      "\t\tMake Capital Gain = 7298 with coverage 0.9566315789473684 and correctness 0.7277728873239437.\n",
      "If Capital Loss = 0, Capital Gain = 0:\n",
      "\tSubgroup 'Female'\n",
      "\t\tMake Capital Loss = 0, Capital Gain = 15024 with coverage 0.9336941813261164 and correctness 0.8815217391304347.\n",
      "\t\tMake Capital Loss = 0, Capital Gain = 7688 with coverage 0.9336941813261164 and correctness 0.5442028985507246.\n",
      "\t\tMake Capital Loss = 0, Capital Gain = 7298 with coverage 0.9336941813261164 and correctness 0.4659420289855073.\n",
      "\tSubgroup 'Male'\n",
      "\t\tMake Capital Loss = 0, Capital Gain = 15024 with coverage 0.9269473684210526 and correctness 0.9348171701112877.\n",
      "\t\tMake Capital Loss = 0, Capital Gain = 7688 with coverage 0.9269473684210526 and correctness 0.7769702475584829.\n",
      "\t\tMake Capital Loss = 0, Capital Gain = 7298 with coverage 0.9269473684210526 and correctness 0.7304110833522599.\n",
      "If Capital Gain = 0, Country = United-States:\n",
      "\tSubgroup 'Female'\n",
      "\t\tMake Capital Gain = 15024, Country = United-States with coverage 0.8602841677943166 and correctness 0.8777034998033818.\n",
      "\t\tMake Capital Gain = 7688, Country = United-States with coverage 0.8602841677943166 and correctness 0.5426661423515533.\n",
      "\tSubgroup 'Male'\n",
      "\t\tMake Capital Gain = 15024, Country = United-States with coverage 0.8498947368421053 and correctness 0.9311369829081001.\n",
      "\t\tMake Capital Gain = 7688, Country = United-States with coverage 0.8498947368421053 and correctness 0.7763190487986128.\n",
      "If Capital Loss = 0, Capital Gain = 0, Country = United-States:\n",
      "\tSubgroup 'Female'\n",
      "\t\tMake Capital Loss = 0, Capital Gain = 15024, Country = United-States with coverage 0.8355886332882273 and correctness 0.8793522267206477.\n",
      "\tSubgroup 'Male'\n",
      "\t\tMake Capital Loss = 0, Capital Gain = 15024, Country = United-States with coverage 0.8229473684210526 and correctness 0.9324635456638526.\n",
      "If Race = White:\n",
      "\tSubgroup 'Female'\n",
      "\t\tMake Race = Black with coverage 0.7889039242219216 and correctness 0.002572898799313883.\n",
      "\t\tMake Race = Asian-Pac-Islander with coverage 0.7889039242219216 and correctness 0.0038593481989708245.\n",
      "\tSubgroup 'Male'\n",
      "\t\tMake Race = Black with coverage 0.868421052631579 and correctness 0.023272727272727223.\n",
      "\t\tMake Race = Asian-Pac-Islander with coverage 0.868421052631579 and correctness 0.04193939393939394.\n",
      "If Capital Loss = 0, Race = White:\n",
      "\tSubgroup 'Female'\n",
      "\t\tMake Capital Loss = 0, Race = Black with coverage 0.7658998646820027 and correctness 0.0026501766784452485.\n",
      "\tSubgroup 'Male'\n",
      "\t\tMake Capital Loss = 0, Race = Black with coverage 0.844 and correctness 0.023946121227238715.\n",
      "If Capital Gain = 0, Race = White:\n",
      "\tSubgroup 'Female'\n",
      "\t\tMake Capital Gain = 15024, Race = White with coverage 0.7577807848443843 and correctness 0.8767857142857143.\n",
      "\t\tMake Capital Gain = 7688, Race = White with coverage 0.7577807848443843 and correctness 0.5705357142857144.\n",
      "\t\tMake Capital Gain = 0, Race = Black with coverage 0.7577807848443843 and correctness 0.002678571428571419.\n",
      "\t\tMake Capital Gain = 7298, Race = White with coverage 0.7577807848443843 and correctness 0.49196428571428574.\n",
      "\tSubgroup 'Male'\n",
      "\t\tMake Capital Gain = 15024, Race = White with coverage 0.8296842105263158 and correctness 0.9332656686120274.\n",
      "\t\tMake Capital Gain = 7688, Race = White with coverage 0.8296842105263158 and correctness 0.786602385181426.\n",
      "\t\tMake Capital Gain = 0, Race = Black with coverage 0.8296842105263158 and correctness 0.024105556965237196.\n",
      "\t\tMake Capital Gain = 7298, Race = White with coverage 0.8296842105263158 and correctness 0.7427048972342045.\n",
      "If Capital Loss = 0, Capital Gain = 0, Race = White:\n",
      "\tSubgroup 'Female'\n",
      "\t\tMake Capital Loss = 0, Capital Gain = 15024, Race = White with coverage 0.7347767253044655 and correctness 0.8775322283609577.\n",
      "\t\tMake Capital Loss = 0, Capital Gain = 7298, Race = White with coverage 0.7347767253044655 and correctness 0.4917127071823204.\n",
      "\tSubgroup 'Male'\n",
      "\t\tMake Capital Loss = 0, Capital Gain = 15024, Race = White with coverage 0.8052631578947368 and correctness 0.9341176470588235.\n",
      "\t\tMake Capital Loss = 0, Capital Gain = 7298, Race = White with coverage 0.8052631578947368 and correctness 0.7450980392156863.\n",
      "If Workclass = Private:\n",
      "\tSubgroup 'Female'\n",
      "\t\tMake Workclass = Self-emp-inc with coverage 0.7232746955345061 and correctness 0.009354536950420989.\n",
      "\t\tMake Workclass = Self-emp-not-inc with coverage 0.7232746955345061 and correctness 0.005144995322731494.\n",
      "\t\tMake Workclass = Local-gov with coverage 0.7232746955345061 and correctness 0.006548175865294659.\n",
      "\t\tMake Workclass = Federal-gov with coverage 0.7232746955345061 and correctness 0.024321796071094526.\n",
      "\t\tMake Workclass = State-gov with coverage 0.7232746955345061 and correctness 0.002338634237605275.\n",
      "\tSubgroup 'Male'\n",
      "\t\tMake Workclass = Self-emp-inc with coverage 0.7075789473684211 and correctness 0.04998512347515616.\n",
      "\t\tMake Workclass = Self-emp-not-inc with coverage 0.7075789473684211 and correctness 0.0038678964593871212.\n",
      "\t\tMake Workclass = Local-gov with coverage 0.7075789473684211 and correctness 0.009223445403153785.\n",
      "\t\tMake Workclass = Federal-gov with coverage 0.7075789473684211 and correctness 0.11157393632847368.\n",
      "\t\tMake Workclass = State-gov with coverage 0.7075789473684211 and correctness 0.01725676881880389.\n",
      "If Capital Loss = 0, Workclass = Private:\n",
      "\tSubgroup 'Female'\n",
      "\t\tMake Capital Loss = 0, Workclass = Self-emp-inc with coverage 0.7043301759133965 and correctness 0.009606147934678178.\n",
      "\t\tMake Capital Loss = 0, Workclass = Self-emp-not-inc with coverage 0.7043301759133965 and correctness 0.005283381364073025.\n",
      "\t\tMake Capital Loss = 0, Workclass = Local-gov with coverage 0.7043301759133965 and correctness 0.00672430355427478.\n",
      "\t\tMake Capital Loss = 0, Workclass = Federal-gov with coverage 0.7043301759133965 and correctness 0.02497598463016326.\n",
      "\t\tMake Capital Loss = 0, Workclass = State-gov with coverage 0.7043301759133965 and correctness 0.0024015369836695166.\n",
      "\tSubgroup 'Male'\n",
      "\t\tMake Capital Loss = 0, Workclass = Self-emp-inc with coverage 0.6892631578947368 and correctness 0.051007941356139286.\n",
      "\t\tMake Capital Loss = 0, Workclass = Self-emp-not-inc with coverage 0.6892631578947368 and correctness 0.003970678069639577.\n",
      "\t\tMake Capital Loss = 0, Workclass = Local-gov with coverage 0.6892631578947368 and correctness 0.009468540012217419.\n",
      "\t\tMake Capital Loss = 0, Workclass = Federal-gov with coverage 0.6892631578947368 and correctness 0.11453879047037263.\n",
      "\t\tMake Capital Loss = 0, Workclass = State-gov with coverage 0.6892631578947368 and correctness 0.017715332926084293.\n",
      "\n"
     ]
    }
   ],
   "source": [
    "print(recourse_report_reverse(list(rules_by_if.items())))"
   ]
  }
 ],
 "metadata": {
  "kernelspec": {
   "display_name": "Python 3 (ipykernel)",
   "language": "python",
   "name": "python3"
  },
  "language_info": {
   "codemirror_mode": {
    "name": "ipython",
    "version": 3
   },
   "file_extension": ".py",
   "mimetype": "text/x-python",
   "name": "python",
   "nbconvert_exporter": "python",
   "pygments_lexer": "ipython3",
   "version": "3.9.15"
  }
 },
 "nbformat": 4,
 "nbformat_minor": 5
}
