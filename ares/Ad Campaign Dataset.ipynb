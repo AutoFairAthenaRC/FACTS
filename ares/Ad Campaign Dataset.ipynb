{
 "cells": [
  {
   "cell_type": "markdown",
   "id": "a4164f0d",
   "metadata": {},
   "source": [
    "## Import libraries"
   ]
  },
  {
   "cell_type": "code",
   "execution_count": 1,
   "id": "50536eb3",
   "metadata": {
    "tags": []
   },
   "outputs": [],
   "source": [
    "import pandas as pd\n",
    "import numpy as np\n",
    "from pprint import pprint\n",
    "\n",
    "from sklearn.model_selection import train_test_split\n",
    "from sklearn.metrics import classification_report, confusion_matrix, ConfusionMatrixDisplay\n",
    "\n",
    "from models import customLogisticRegression\n",
    "from parameters import ParameterProxy\n",
    "from lib2 import valid_ifthens_with_coverage_correctness, rules2rulesbyif\n",
    "import lib2\n",
    "from formatting import recourse_report_reverse\n",
    "\n",
    "import matplotlib.pyplot as plt\n",
    "\n",
    "from IPython.display import Markdown, display"
   ]
  },
  {
   "cell_type": "code",
   "execution_count": 2,
   "id": "99fb977c",
   "metadata": {
    "tags": []
   },
   "outputs": [],
   "source": [
    "DATAFILE = '../ad_campaign_data.csv' # location of dataset\n",
    "random_state = None # change to something for exactly reproducible results\n",
    "\n",
    "# as selected in \"tutorial_bias_advertising\" notebook\n",
    "selected_features = ['gender', 'parents', 'age', 'income', 'area', 'college_educated', 'homeowner']\n",
    "cate_features = ['gender', 'parents', 'age', 'income', 'area', 'college_educated']\n",
    "num_features = ['homeowner']\n",
    "\n",
    "# if not specified, set to 1\n",
    "feature_weights = {\"gender\": 1, \"parents\": 1, \"age\": 1}\n",
    "\n",
    "target_name = \"true_conversion\"\n",
    "positive_label = 1\n",
    "negative_label = 0\n",
    "\n",
    "model_train_fraction = 0.7\n",
    "learning_class_weights = {0: 0.5, 1: 265}\n",
    "\n",
    "sensitive_attribute = \"gender\""
   ]
  },
  {
   "cell_type": "markdown",
   "id": "7f50c922",
   "metadata": {},
   "source": [
    "## Load Dataset"
   ]
  },
  {
   "cell_type": "code",
   "execution_count": 3,
   "id": "7ec3f668",
   "metadata": {
    "tags": []
   },
   "outputs": [
    {
     "data": {
      "text/html": [
       "<div>\n",
       "<style scoped>\n",
       "    .dataframe tbody tr th:only-of-type {\n",
       "        vertical-align: middle;\n",
       "    }\n",
       "\n",
       "    .dataframe tbody tr th {\n",
       "        vertical-align: top;\n",
       "    }\n",
       "\n",
       "    .dataframe thead th {\n",
       "        text-align: right;\n",
       "    }\n",
       "</style>\n",
       "<table border=\"1\" class=\"dataframe\">\n",
       "  <thead>\n",
       "    <tr style=\"text-align: right;\">\n",
       "      <th></th>\n",
       "      <th>religion</th>\n",
       "      <th>politics</th>\n",
       "      <th>college_educated</th>\n",
       "      <th>parents</th>\n",
       "      <th>homeowner</th>\n",
       "      <th>gender</th>\n",
       "      <th>age</th>\n",
       "      <th>income</th>\n",
       "      <th>area</th>\n",
       "      <th>true_conversion</th>\n",
       "      <th>predicted_conversion</th>\n",
       "      <th>predicted_probability</th>\n",
       "    </tr>\n",
       "  </thead>\n",
       "  <tbody>\n",
       "    <tr>\n",
       "      <th>0</th>\n",
       "      <td>Unknown</td>\n",
       "      <td>Unknown</td>\n",
       "      <td>1</td>\n",
       "      <td>1</td>\n",
       "      <td>1</td>\n",
       "      <td>Unknown</td>\n",
       "      <td>55-64</td>\n",
       "      <td>Unknown</td>\n",
       "      <td>Unknown</td>\n",
       "      <td>0</td>\n",
       "      <td>0</td>\n",
       "      <td>0.001351</td>\n",
       "    </tr>\n",
       "    <tr>\n",
       "      <th>1</th>\n",
       "      <td>Other</td>\n",
       "      <td>Unknown</td>\n",
       "      <td>1</td>\n",
       "      <td>1</td>\n",
       "      <td>1</td>\n",
       "      <td>Unknown</td>\n",
       "      <td>55-64</td>\n",
       "      <td>Unknown</td>\n",
       "      <td>Urban</td>\n",
       "      <td>0</td>\n",
       "      <td>0</td>\n",
       "      <td>0.002238</td>\n",
       "    </tr>\n",
       "    <tr>\n",
       "      <th>2</th>\n",
       "      <td>Unknown</td>\n",
       "      <td>Unknown</td>\n",
       "      <td>1</td>\n",
       "      <td>1</td>\n",
       "      <td>1</td>\n",
       "      <td>F</td>\n",
       "      <td>55-64</td>\n",
       "      <td>Unknown</td>\n",
       "      <td>Unknown</td>\n",
       "      <td>0</td>\n",
       "      <td>0</td>\n",
       "      <td>0.002704</td>\n",
       "    </tr>\n",
       "    <tr>\n",
       "      <th>3</th>\n",
       "      <td>Unknown</td>\n",
       "      <td>Unknown</td>\n",
       "      <td>1</td>\n",
       "      <td>1</td>\n",
       "      <td>1</td>\n",
       "      <td>F</td>\n",
       "      <td>55-64</td>\n",
       "      <td>Unknown</td>\n",
       "      <td>Unknown</td>\n",
       "      <td>0</td>\n",
       "      <td>0</td>\n",
       "      <td>0.001967</td>\n",
       "    </tr>\n",
       "    <tr>\n",
       "      <th>4</th>\n",
       "      <td>Unknown</td>\n",
       "      <td>Unknown</td>\n",
       "      <td>1</td>\n",
       "      <td>1</td>\n",
       "      <td>1</td>\n",
       "      <td>F</td>\n",
       "      <td>55-64</td>\n",
       "      <td>Unknown</td>\n",
       "      <td>Urban</td>\n",
       "      <td>0</td>\n",
       "      <td>0</td>\n",
       "      <td>0.001681</td>\n",
       "    </tr>\n",
       "  </tbody>\n",
       "</table>\n",
       "</div>"
      ],
      "text/plain": [
       "  religion politics  college_educated  parents  homeowner   gender    age  \\\n",
       "0  Unknown  Unknown                 1        1          1  Unknown  55-64   \n",
       "1    Other  Unknown                 1        1          1  Unknown  55-64   \n",
       "2  Unknown  Unknown                 1        1          1        F  55-64   \n",
       "3  Unknown  Unknown                 1        1          1        F  55-64   \n",
       "4  Unknown  Unknown                 1        1          1        F  55-64   \n",
       "\n",
       "    income     area  true_conversion  predicted_conversion  \\\n",
       "0  Unknown  Unknown                0                     0   \n",
       "1  Unknown    Urban                0                     0   \n",
       "2  Unknown  Unknown                0                     0   \n",
       "3  Unknown  Unknown                0                     0   \n",
       "4  Unknown    Urban                0                     0   \n",
       "\n",
       "   predicted_probability  \n",
       "0               0.001351  \n",
       "1               0.002238  \n",
       "2               0.002704  \n",
       "3               0.001967  \n",
       "4               0.001681  "
      ]
     },
     "execution_count": 3,
     "metadata": {},
     "output_type": "execute_result"
    }
   ],
   "source": [
    "ad_conversion_dataset = pd.read_csv(DATAFILE)\n",
    "ad_conversion_dataset.head()"
   ]
  },
  {
   "cell_type": "markdown",
   "id": "c01544c3",
   "metadata": {},
   "source": [
    "### Print some statistics for the dataset"
   ]
  },
  {
   "cell_type": "code",
   "execution_count": 4,
   "id": "3710bcf3",
   "metadata": {
    "tags": []
   },
   "outputs": [
    {
     "name": "stdout",
     "output_type": "stream",
     "text": [
      "Number of (instances, attributes) in the dataset = (1443140, 12)\n",
      "\n",
      "Statistics of true conversions (0=no, 1=yes)\n",
      "0    1440766\n",
      "1       2374\n",
      "Name: true_conversion, dtype: int64\n",
      "\n",
      "Statistics of predicted conversions (0=no, 1=yes)\n",
      "0    1440773\n",
      "1       2367\n",
      "Name: predicted_conversion, dtype: int64\n"
     ]
    }
   ],
   "source": [
    "print(f\"Number of (instances, attributes) in the dataset = {ad_conversion_dataset.shape}\")\n",
    "print()\n",
    "\n",
    "print(f\"Statistics of true conversions (0=no, 1=yes)\")\n",
    "print(ad_conversion_dataset.true_conversion.value_counts())\n",
    "print()\n",
    "\n",
    "print(f\"Statistics of predicted conversions (0=no, 1=yes)\")\n",
    "print(ad_conversion_dataset.predicted_conversion.value_counts())"
   ]
  },
  {
   "cell_type": "markdown",
   "id": "6774262f",
   "metadata": {},
   "source": [
    "### Warning!\n",
    "\n",
    "There is no model!\n",
    "\n",
    "Predictions (from whatever model has been used) have been incorporated into the dataset, in the columns \"predicted_conversion\" (which is the predicted label) and \"predicted_probability\" (which is the predicted probability of belonging to the positive class).\n",
    "\n",
    "Moreover, the dataset is highly unbalanced, and this is also evident in the poor efficiency of the model, as demonstrated in the confusion matrix below."
   ]
  },
  {
   "cell_type": "code",
   "execution_count": 5,
   "id": "03eb55a7-2240-4244-8c9e-c005e36e8f0f",
   "metadata": {
    "tags": []
   },
   "outputs": [
    {
     "data": {
      "image/png": "[encoded data removed]",
      "text/plain": [
       "<Figure size 640x480 with 2 Axes>"
      ]
     },
     "metadata": {},
     "output_type": "display_data"
    }
   ],
   "source": [
    "conf_matrix = confusion_matrix(ad_conversion_dataset.true_conversion, ad_conversion_dataset.predicted_conversion)\n",
    "cm_disp = ConfusionMatrixDisplay(confusion_matrix=conf_matrix)\n",
    "cm_disp.plot()\n",
    "plt.show()"
   ]
  },
  {
   "cell_type": "markdown",
   "id": "5f1b33fa-c6c9-4770-8123-0f69f918e265",
   "metadata": {},
   "source": [
    "# Preprocessing"
   ]
  },
  {
   "cell_type": "code",
   "execution_count": 6,
   "id": "8ee07f88",
   "metadata": {
    "tags": []
   },
   "outputs": [
    {
     "data": {
      "text/html": [
       "<div>\n",
       "<style scoped>\n",
       "    .dataframe tbody tr th:only-of-type {\n",
       "        vertical-align: middle;\n",
       "    }\n",
       "\n",
       "    .dataframe tbody tr th {\n",
       "        vertical-align: top;\n",
       "    }\n",
       "\n",
       "    .dataframe thead th {\n",
       "        text-align: right;\n",
       "    }\n",
       "</style>\n",
       "<table border=\"1\" class=\"dataframe\">\n",
       "  <thead>\n",
       "    <tr style=\"text-align: right;\">\n",
       "      <th></th>\n",
       "      <th>gender</th>\n",
       "      <th>parents</th>\n",
       "      <th>age</th>\n",
       "      <th>income</th>\n",
       "      <th>area</th>\n",
       "      <th>college_educated</th>\n",
       "      <th>homeowner</th>\n",
       "      <th>true_conversion</th>\n",
       "    </tr>\n",
       "  </thead>\n",
       "  <tbody>\n",
       "    <tr>\n",
       "      <th>0</th>\n",
       "      <td>Unknown</td>\n",
       "      <td>1</td>\n",
       "      <td>55-64</td>\n",
       "      <td>Unknown</td>\n",
       "      <td>Unknown</td>\n",
       "      <td>1</td>\n",
       "      <td>1</td>\n",
       "      <td>0</td>\n",
       "    </tr>\n",
       "    <tr>\n",
       "      <th>1</th>\n",
       "      <td>Unknown</td>\n",
       "      <td>1</td>\n",
       "      <td>55-64</td>\n",
       "      <td>Unknown</td>\n",
       "      <td>Urban</td>\n",
       "      <td>1</td>\n",
       "      <td>1</td>\n",
       "      <td>0</td>\n",
       "    </tr>\n",
       "    <tr>\n",
       "      <th>2</th>\n",
       "      <td>F</td>\n",
       "      <td>1</td>\n",
       "      <td>55-64</td>\n",
       "      <td>Unknown</td>\n",
       "      <td>Unknown</td>\n",
       "      <td>1</td>\n",
       "      <td>1</td>\n",
       "      <td>0</td>\n",
       "    </tr>\n",
       "    <tr>\n",
       "      <th>3</th>\n",
       "      <td>F</td>\n",
       "      <td>1</td>\n",
       "      <td>55-64</td>\n",
       "      <td>Unknown</td>\n",
       "      <td>Unknown</td>\n",
       "      <td>1</td>\n",
       "      <td>1</td>\n",
       "      <td>0</td>\n",
       "    </tr>\n",
       "    <tr>\n",
       "      <th>4</th>\n",
       "      <td>F</td>\n",
       "      <td>1</td>\n",
       "      <td>55-64</td>\n",
       "      <td>Unknown</td>\n",
       "      <td>Urban</td>\n",
       "      <td>1</td>\n",
       "      <td>1</td>\n",
       "      <td>0</td>\n",
       "    </tr>\n",
       "    <tr>\n",
       "      <th>...</th>\n",
       "      <td>...</td>\n",
       "      <td>...</td>\n",
       "      <td>...</td>\n",
       "      <td>...</td>\n",
       "      <td>...</td>\n",
       "      <td>...</td>\n",
       "      <td>...</td>\n",
       "      <td>...</td>\n",
       "    </tr>\n",
       "    <tr>\n",
       "      <th>1443135</th>\n",
       "      <td>F</td>\n",
       "      <td>1</td>\n",
       "      <td>25-34</td>\n",
       "      <td>Unknown</td>\n",
       "      <td>Unknown</td>\n",
       "      <td>1</td>\n",
       "      <td>1</td>\n",
       "      <td>0</td>\n",
       "    </tr>\n",
       "    <tr>\n",
       "      <th>1443136</th>\n",
       "      <td>F</td>\n",
       "      <td>1</td>\n",
       "      <td>55-64</td>\n",
       "      <td>Unknown</td>\n",
       "      <td>Unknown</td>\n",
       "      <td>1</td>\n",
       "      <td>0</td>\n",
       "      <td>0</td>\n",
       "    </tr>\n",
       "    <tr>\n",
       "      <th>1443137</th>\n",
       "      <td>Unknown</td>\n",
       "      <td>1</td>\n",
       "      <td>55-64</td>\n",
       "      <td>Unknown</td>\n",
       "      <td>Unknown</td>\n",
       "      <td>1</td>\n",
       "      <td>1</td>\n",
       "      <td>0</td>\n",
       "    </tr>\n",
       "    <tr>\n",
       "      <th>1443138</th>\n",
       "      <td>F</td>\n",
       "      <td>1</td>\n",
       "      <td>55-64</td>\n",
       "      <td>Unknown</td>\n",
       "      <td>Unknown</td>\n",
       "      <td>1</td>\n",
       "      <td>1</td>\n",
       "      <td>0</td>\n",
       "    </tr>\n",
       "    <tr>\n",
       "      <th>1443139</th>\n",
       "      <td>F</td>\n",
       "      <td>1</td>\n",
       "      <td>55-64</td>\n",
       "      <td>Unknown</td>\n",
       "      <td>Unknown</td>\n",
       "      <td>1</td>\n",
       "      <td>1</td>\n",
       "      <td>0</td>\n",
       "    </tr>\n",
       "  </tbody>\n",
       "</table>\n",
       "<p>1443140 rows × 8 columns</p>\n",
       "</div>"
      ],
      "text/plain": [
       "          gender  parents    age   income     area  college_educated  \\\n",
       "0        Unknown        1  55-64  Unknown  Unknown                 1   \n",
       "1        Unknown        1  55-64  Unknown    Urban                 1   \n",
       "2              F        1  55-64  Unknown  Unknown                 1   \n",
       "3              F        1  55-64  Unknown  Unknown                 1   \n",
       "4              F        1  55-64  Unknown    Urban                 1   \n",
       "...          ...      ...    ...      ...      ...               ...   \n",
       "1443135        F        1  25-34  Unknown  Unknown                 1   \n",
       "1443136        F        1  55-64  Unknown  Unknown                 1   \n",
       "1443137  Unknown        1  55-64  Unknown  Unknown                 1   \n",
       "1443138        F        1  55-64  Unknown  Unknown                 1   \n",
       "1443139        F        1  55-64  Unknown  Unknown                 1   \n",
       "\n",
       "         homeowner  true_conversion  \n",
       "0                1                0  \n",
       "1                1                0  \n",
       "2                1                0  \n",
       "3                1                0  \n",
       "4                1                0  \n",
       "...            ...              ...  \n",
       "1443135          1                0  \n",
       "1443136          0                0  \n",
       "1443137          1                0  \n",
       "1443138          1                0  \n",
       "1443139          1                0  \n",
       "\n",
       "[1443140 rows x 8 columns]"
      ]
     },
     "execution_count": 6,
     "metadata": {},
     "output_type": "execute_result"
    }
   ],
   "source": [
    "## keep only the columns in selected_features, plus the label column\n",
    "ad_conversion_dataset = ad_conversion_dataset[selected_features + [target_name]]\n",
    "ad_conversion_dataset"
   ]
  },
  {
   "cell_type": "code",
   "execution_count": 7,
   "id": "e2d5162d",
   "metadata": {
    "tags": []
   },
   "outputs": [],
   "source": [
    "## train-test split\n",
    "\n",
    "X = ad_conversion_dataset.drop(target_name, axis=1)\n",
    "y = ad_conversion_dataset[target_name]\n",
    "\n",
    "X_train, X_test, y_train, y_test = train_test_split(X, y, train_size=model_train_fraction, random_state=random_state, stratify=y)\n",
    "\n",
    "X_train = X_train.reset_index(drop=True)\n",
    "X_test = X_test.reset_index(drop=True)\n",
    "y_train = y_train.reset_index(drop=True)\n",
    "y_test = y_test.reset_index(drop=True)"
   ]
  },
  {
   "cell_type": "markdown",
   "id": "17c32fa1-337a-45e0-ae5c-914575a2cbb6",
   "metadata": {},
   "source": [
    "# Model training"
   ]
  },
  {
   "cell_type": "code",
   "execution_count": 8,
   "id": "d613bdf8",
   "metadata": {
    "tags": []
   },
   "outputs": [
    {
     "name": "stdout",
     "output_type": "stream",
     "text": [
      "CPU times: total: 19.2 s\n",
      "Wall time: 7.89 s\n"
     ]
    },
    {
     "data": {
      "text/plain": [
       "array([0., 1., 0., 1., 0., 0., 0., 0., 0., 0., 0., 0., 1., 0., 0., 0., 0.,\n",
       "       0., 1., 0., 0., 0., 0., 0., 0., 0., 0., 0., 0., 0., 0., 0., 0., 0.,\n",
       "       0., 0., 0., 0., 1., 0., 0., 0., 0., 0., 0., 0., 0., 0., 0., 0., 0.,\n",
       "       0., 0., 0., 0., 0., 0., 1., 0., 0., 0., 0., 0., 1., 0., 0., 0., 0.,\n",
       "       0., 0., 0., 0., 0., 0., 0., 0., 0., 0., 0., 0., 0., 1., 0., 1., 0.,\n",
       "       0., 0., 0., 0., 0., 0., 0., 1., 0., 0., 0., 0., 1., 1., 0.])"
      ]
     },
     "execution_count": 8,
     "metadata": {},
     "output_type": "execute_result"
    }
   ],
   "source": [
    "%%time\n",
    "\n",
    "model = customLogisticRegression(class_weight=learning_class_weights)\n",
    "model.fit(X_train, y_train, cate_columns=cate_features, target_column=target_name)\n",
    "model.predict(X_test.iloc[:100, :])"
   ]
  },
  {
   "cell_type": "markdown",
   "id": "13d583ac",
   "metadata": {},
   "source": [
    "# Testing the model\n",
    "\n",
    "We check if the model is satisfactory."
   ]
  },
  {
   "cell_type": "code",
   "execution_count": 9,
   "id": "2fbd7b2e",
   "metadata": {
    "tags": []
   },
   "outputs": [
    {
     "name": "stdout",
     "output_type": "stream",
     "text": [
      "              precision    recall  f1-score   support\n",
      "\n",
      "           0       1.00      0.87      0.93    432231\n",
      "           1       0.00      0.12      0.00       712\n",
      "\n",
      "    accuracy                           0.87    432943\n",
      "   macro avg       0.50      0.50      0.47    432943\n",
      "weighted avg       1.00      0.87      0.93    432943\n",
      "\n"
     ]
    }
   ],
   "source": [
    "preds = model.predict(X_test)\n",
    "print(classification_report(y_test.map({negative_label: 0, positive_label: 1}), preds))"
   ]
  },
  {
   "cell_type": "code",
   "execution_count": 10,
   "id": "a82b48f8-408b-43a0-99fc-c21ff8a63718",
   "metadata": {
    "tags": []
   },
   "outputs": [
    {
     "data": {
      "image/png": "[encoded data removed]",
      "text/plain": [
       "<Figure size 640x480 with 2 Axes>"
      ]
     },
     "metadata": {},
     "output_type": "display_data"
    }
   ],
   "source": [
    "conf_matrix = confusion_matrix(y_test, preds)\n",
    "cm_disp = ConfusionMatrixDisplay(confusion_matrix=conf_matrix)\n",
    "cm_disp.plot()\n",
    "plt.show()"
   ]
  },
  {
   "cell_type": "markdown",
   "id": "11452631",
   "metadata": {},
   "source": [
    "Given the high imbalance of the dataset, we consider that the above results, for a simple logistic regression, are good enough."
   ]
  },
  {
   "cell_type": "markdown",
   "id": "66bafa9b-95db-49c6-b116-9ebb65c13fc8",
   "metadata": {},
   "source": [
    "# Find all valid if-thens with all respective coverages and correctness, for all subgroups.\n",
    "\n",
    "**Caution!** This step takes time. Uncomment the following block if you wish to run."
   ]
  },
  {
   "cell_type": "code",
   "execution_count": 11,
   "id": "297d9256",
   "metadata": {
    "tags": []
   },
   "outputs": [],
   "source": [
    "# ifthens_coverage_correctness = valid_ifthens_with_coverage_correctness(\n",
    "#     X_test,\n",
    "#     model,\n",
    "#     sensitive_attribute\n",
    "# )\n",
    "\n",
    "# print(f\"Number of if-thens: {len(ifthens_coverage_correctness)}\")\n",
    "# rules_by_if = rules2rulesbyif(ifthens_coverage_correctness)"
   ]
  },
  {
   "cell_type": "markdown",
   "id": "d17cb30e-0a36-43cb-9f95-2b2e93634e5a",
   "metadata": {},
   "source": [
    "Uncomment the following block if you wish to load rules object from disk."
   ]
  },
  {
   "cell_type": "code",
   "execution_count": 12,
   "id": "c22dbaba-1ccb-4db3-84de-21227328e07c",
   "metadata": {
    "tags": []
   },
   "outputs": [],
   "source": [
    "import dill\n",
    "\n",
    "with open(\"rules.data\", \"rb\") as inf:\n",
    "    rules_by_if = dill.load(inf)"
   ]
  },
  {
   "cell_type": "code",
   "execution_count": 13,
   "id": "8a13da8a-e2a3-481f-9b1b-bc1803f4eccf",
   "metadata": {
    "tags": []
   },
   "outputs": [
    {
     "name": "stdout",
     "output_type": "stream",
     "text": [
      "If \u001b[1mcollege_educated = 1, parents = 1, homeowner = 1, area = Unknown, age = 55-64, income = Unknown\u001b[0m:\n",
      "\tSubgroup '\u001b[1mF\u001b[0m', \u001b[0;34m51.0554%\u001b[0m covered\n",
      "\t\tMake \u001b[1mcollege_educated = 1, parents = 1, homeowner = 0, area = Unknown, age = 55-64, income = Unknown\u001b[0m with correctness \u001b[0;32m0.0000%\u001b[0m.\n",
      "\t\tMake \u001b[1mcollege_educated = 1, parents = 1, homeowner = 0, area = Unknown, age = 55-64, income = <100K\u001b[0m with correctness \u001b[0;32m0.0000%\u001b[0m.\n",
      "\tSubgroup '\u001b[1mM\u001b[0m', \u001b[0;34m57.4873%\u001b[0m covered\n",
      "\t\tMake \u001b[1mcollege_educated = 1, parents = 1, homeowner = 0, area = Unknown, age = 55-64, income = Unknown\u001b[0m with correctness \u001b[0;32m100.0000%\u001b[0m.\n",
      "\t\tMake \u001b[1mcollege_educated = 1, parents = 1, homeowner = 0, area = Unknown, age = 55-64, income = <100K\u001b[0m with correctness \u001b[0;32m100.0000%\u001b[0m.\n",
      "If \u001b[1mcollege_educated = 1, parents = 1, homeowner = 1, age = 55-64, area = Rural, income = Unknown\u001b[0m:\n",
      "\tSubgroup '\u001b[1mF\u001b[0m', \u001b[0;34m3.9471%\u001b[0m covered\n",
      "\t\tMake \u001b[1mcollege_educated = 1, parents = 1, homeowner = 1, age = 45-54, area = Urban, income = Unknown\u001b[0m with correctness \u001b[0;32m0.0000%\u001b[0m.\n",
      "\t\tMake \u001b[1mcollege_educated = 1, parents = 1, homeowner = 0, age = 45-54, area = Unknown, income = Unknown\u001b[0m with correctness \u001b[0;32m100.0000%\u001b[0m.\n",
      "\tSubgroup '\u001b[1mM\u001b[0m', \u001b[0;34m4.2954%\u001b[0m covered\n",
      "\t\tMake \u001b[1mcollege_educated = 1, parents = 1, homeowner = 1, age = 45-54, area = Urban, income = Unknown\u001b[0m with correctness \u001b[0;32m100.0000%\u001b[0m.\n",
      "\t\tMake \u001b[1mcollege_educated = 1, parents = 1, homeowner = 0, age = 45-54, area = Unknown, income = Unknown\u001b[0m with correctness \u001b[0;32m100.0000%\u001b[0m.\n",
      "If \u001b[1mcollege_educated = 1, parents = 1, homeowner = 1, area = Unknown, age = Unknown, income = Unknown\u001b[0m:\n",
      "\tSubgroup '\u001b[1mF\u001b[0m', \u001b[0;34m1.5458%\u001b[0m covered\n",
      "\t\tMake \u001b[1mcollege_educated = 1, parents = 1, homeowner = 0, area = Unknown, age = 55-64, income = Unknown\u001b[0m with correctness \u001b[0;32m0.0000%\u001b[0m.\n",
      "\t\tMake \u001b[1mcollege_educated = 1, parents = 1, homeowner = 0, area = Unknown, age = 55-64, income = <100K\u001b[0m with correctness \u001b[0;32m0.0000%\u001b[0m.\n",
      "\tSubgroup '\u001b[1mM\u001b[0m', \u001b[0;34m1.7042%\u001b[0m covered\n",
      "\t\tMake \u001b[1mcollege_educated = 1, parents = 1, homeowner = 0, area = Unknown, age = 55-64, income = Unknown\u001b[0m with correctness \u001b[0;32m100.0000%\u001b[0m.\n",
      "\t\tMake \u001b[1mcollege_educated = 1, parents = 1, homeowner = 0, area = Unknown, age = 55-64, income = <100K\u001b[0m with correctness \u001b[0;32m100.0000%\u001b[0m.\n",
      "If \u001b[1mcollege_educated = 1, parents = 1, income = Unknown, age = 55-64, area = Urban\u001b[0m:\n",
      "\tSubgroup '\u001b[1mF\u001b[0m', \u001b[0;34m18.2520%\u001b[0m covered\n",
      "\t\tMake \u001b[1mcollege_educated = 1, parents = 1, income = Unknown, age = 45-54, area = Urban\u001b[0m with correctness \u001b[0;32m0.0000%\u001b[0m.\n",
      "\tSubgroup '\u001b[1mM\u001b[0m', \u001b[0;34m20.6098%\u001b[0m covered\n",
      "\t\tMake \u001b[1mcollege_educated = 1, parents = 1, income = Unknown, age = 45-54, area = Urban\u001b[0m with correctness \u001b[0;32m100.0000%\u001b[0m.\n",
      "If \u001b[1mcollege_educated = 1, parents = 1, homeowner = 1, area = Unknown, age = 55-64, income = <100K\u001b[0m:\n",
      "\tSubgroup '\u001b[1mF\u001b[0m', \u001b[0;34m1.1243%\u001b[0m covered\n",
      "\t\tMake \u001b[1mcollege_educated = 1, parents = 1, homeowner = 0, area = Unknown, age = 55-64, income = Unknown\u001b[0m with correctness \u001b[0;32m0.0000%\u001b[0m.\n",
      "\t\tMake \u001b[1mcollege_educated = 1, parents = 1, homeowner = 0, area = Unknown, age = 55-64, income = <100K\u001b[0m with correctness \u001b[0;32m0.0000%\u001b[0m.\n",
      "\tSubgroup '\u001b[1mM\u001b[0m', \u001b[0;34m1.3188%\u001b[0m covered\n",
      "\t\tMake \u001b[1mcollege_educated = 1, parents = 1, homeowner = 0, area = Unknown, age = 55-64, income = Unknown\u001b[0m with correctness \u001b[0;32m100.0000%\u001b[0m.\n",
      "\t\tMake \u001b[1mcollege_educated = 1, parents = 1, homeowner = 0, area = Unknown, age = 55-64, income = <100K\u001b[0m with correctness \u001b[0;32m100.0000%\u001b[0m.\n",
      "If \u001b[1mcollege_educated = 1, parents = 1, homeowner = 1, age = 55-64, area = Rural\u001b[0m:\n",
      "\tSubgroup '\u001b[1mF\u001b[0m', \u001b[0;34m3.9774%\u001b[0m covered\n",
      "\t\tMake \u001b[1mcollege_educated = 1, parents = 1, homeowner = 1, age = 45-54, area = Urban\u001b[0m with correctness \u001b[0;32m0.0000%\u001b[0m.\n",
      "\t\tMake \u001b[1mcollege_educated = 1, parents = 1, homeowner = 0, age = 45-54, area = Unknown\u001b[0m with correctness \u001b[0;32m99.5974%\u001b[0m.\n",
      "\t\tMake \u001b[1mcollege_educated = 1, parents = 1, homeowner = 0, age = 55-64, area = Urban\u001b[0m with correctness \u001b[0;32m99.5974%\u001b[0m.\n",
      "\tSubgroup '\u001b[1mM\u001b[0m', \u001b[0;34m4.3309%\u001b[0m covered\n",
      "\t\tMake \u001b[1mcollege_educated = 1, parents = 1, homeowner = 1, age = 45-54, area = Urban\u001b[0m with correctness \u001b[0;32m99.5198%\u001b[0m.\n",
      "\t\tMake \u001b[1mcollege_educated = 1, parents = 1, homeowner = 0, age = 45-54, area = Unknown\u001b[0m with correctness \u001b[0;32m99.5198%\u001b[0m.\n",
      "\t\tMake \u001b[1mcollege_educated = 1, parents = 1, homeowner = 0, age = 55-64, area = Urban\u001b[0m with correctness \u001b[0;32m100.0000%\u001b[0m.\n",
      "If \u001b[1mcollege_educated = 1, parents = 1, homeowner = 1, age = 55-64, area = Urban\u001b[0m:\n",
      "\tSubgroup '\u001b[1mF\u001b[0m', \u001b[0;34m18.4853%\u001b[0m covered\n",
      "\t\tMake \u001b[1mcollege_educated = 1, parents = 1, homeowner = 1, age = 45-54, area = Urban\u001b[0m with correctness \u001b[0;32m0.0000%\u001b[0m.\n",
      "\t\tMake \u001b[1mcollege_educated = 1, parents = 1, homeowner = 0, age = 45-54, area = Unknown\u001b[0m with correctness \u001b[0;32m99.3689%\u001b[0m.\n",
      "\t\tMake \u001b[1mcollege_educated = 1, parents = 1, homeowner = 0, age = 55-64, area = Urban\u001b[0m with correctness \u001b[0;32m99.3689%\u001b[0m.\n",
      "\tSubgroup '\u001b[1mM\u001b[0m', \u001b[0;34m20.8606%\u001b[0m covered\n",
      "\t\tMake \u001b[1mcollege_educated = 1, parents = 1, homeowner = 1, age = 45-54, area = Urban\u001b[0m with correctness \u001b[0;32m99.4722%\u001b[0m.\n",
      "\t\tMake \u001b[1mcollege_educated = 1, parents = 1, homeowner = 0, age = 45-54, area = Unknown\u001b[0m with correctness \u001b[0;32m99.4722%\u001b[0m.\n",
      "\t\tMake \u001b[1mcollege_educated = 1, parents = 1, homeowner = 0, age = 55-64, area = Urban\u001b[0m with correctness \u001b[0;32m100.0000%\u001b[0m.\n",
      "If \u001b[1mparents = 1, college_educated = 1, age = 55-64, area = Urban\u001b[0m:\n",
      "\tSubgroup '\u001b[1mF\u001b[0m', \u001b[0;34m18.5025%\u001b[0m covered\n",
      "\t\tMake \u001b[1mparents = 1, college_educated = 1, age = 45-54, area = Urban\u001b[0m with correctness \u001b[0;32m0.0927%\u001b[0m.\n",
      "\tSubgroup '\u001b[1mM\u001b[0m', \u001b[0;34m20.8606%\u001b[0m covered\n",
      "\t\tMake \u001b[1mparents = 1, college_educated = 1, age = 45-54, area = Urban\u001b[0m with correctness \u001b[0;32m99.4722%\u001b[0m.\n",
      "If \u001b[1mcollege_educated = 1, parents = 0, income = Unknown, age = 55-64, area = Urban\u001b[0m:\n",
      "\tSubgroup '\u001b[1mF\u001b[0m', \u001b[0;34m1.0665%\u001b[0m covered\n",
      "\t\tMake \u001b[1mcollege_educated = 1, parents = 1, income = Unknown, age = 45-54, area = Urban\u001b[0m with correctness \u001b[0;32m0.7507%\u001b[0m.\n",
      "\t\tMake \u001b[1mcollege_educated = 1, parents = 1, income = Unknown, age = 55-64, area = Urban\u001b[0m with correctness \u001b[0;32m0.7507%\u001b[0m.\n",
      "\tSubgroup '\u001b[1mM\u001b[0m', \u001b[0;34m1.2063%\u001b[0m covered\n",
      "\t\tMake \u001b[1mcollege_educated = 1, parents = 1, income = Unknown, age = 45-54, area = Urban\u001b[0m with correctness \u001b[0;32m100.0000%\u001b[0m.\n",
      "\t\tMake \u001b[1mcollege_educated = 1, parents = 1, income = Unknown, age = 55-64, area = Urban\u001b[0m with correctness \u001b[0;32m0.0000%\u001b[0m.\n",
      "If \u001b[1mparents = 1, area = Rural, college_educated = 1, age = 55-64\u001b[0m:\n",
      "\tSubgroup '\u001b[1mF\u001b[0m', \u001b[0;34m3.9883%\u001b[0m covered\n",
      "\t\tMake \u001b[1mparents = 1, area = Urban, college_educated = 0, age = 55-64\u001b[0m with correctness \u001b[0;32m0.2724%\u001b[0m.\n",
      "\t\tMake \u001b[1mparents = 1, area = Urban, college_educated = 1, age = 55-64\u001b[0m with correctness \u001b[0;32m0.0860%\u001b[0m.\n",
      "\tSubgroup '\u001b[1mM\u001b[0m', \u001b[0;34m4.3370%\u001b[0m covered\n",
      "\t\tMake \u001b[1mparents = 1, area = Urban, college_educated = 0, age = 55-64\u001b[0m with correctness \u001b[0;32m99.5205%\u001b[0m.\n",
      "\t\tMake \u001b[1mparents = 1, area = Urban, college_educated = 1, age = 55-64\u001b[0m with correctness \u001b[0;32m0.1410%\u001b[0m.\n",
      "\n"
     ]
    }
   ],
   "source": [
    "K = 10\n",
    "\n",
    "# keep K ifs with maximum coverage on Females\n",
    "# TODO: the below is currently dataset dependent\n",
    "# rules_by_if_filtered = sorted(rules_by_if.items(), key=lambda e: e[1][\"F\"][0][1], reverse=True)[:K]\n",
    "\n",
    "# keep K ifs with maximum absolute difference in correctness between Males and Females.\n",
    "# TODO: the below is currently dataset dependent\n",
    "rules_by_if_filtered = sorted(rules_by_if.items(), key=lambda e: abs(e[1][\"M\"][1][0][1]-e[1][\"F\"][1][0][1]), reverse=True)[:K]\n",
    "\n",
    "rules_by_if_filtered = dict(rules_by_if_filtered)\n",
    "\n",
    "print(recourse_report_reverse(list(rules_by_if_filtered.items()), missing_subgroup_val=\"Unknown\"))"
   ]
  },
  {
   "cell_type": "code",
   "execution_count": 14,
   "id": "c3d9345a-d3f6-4db1-9fa2-887cf76c0149",
   "metadata": {},
   "outputs": [],
   "source": [
    "##### Uncomment if you wish to save rules object on disk\n",
    "\n",
    "# import dill\n",
    "\n",
    "# with open(\"rules.data\", \"wb\") as outf:\n",
    "#     dill.dump(rules_by_if, outf)"
   ]
  },
  {
   "cell_type": "markdown",
   "id": "680049be-1176-44d9-ba37-61b194dfb97f",
   "metadata": {},
   "source": [
    "# Filter rules by different scoring functions"
   ]
  },
  {
   "cell_type": "markdown",
   "id": "07e10fea-1fb4-4028-813a-e21b0767983f",
   "metadata": {},
   "source": [
    "Here, we explore more sophisticated ways of picking the \"top\" K rules and showing only those.\n",
    "\n",
    "We start ranking the rule \"groups\" (all recourses for a single \"if\") by averaging out the costs of all suggested recourses, weighted by the respective correctness. For now, the \"cost\" of a recourse is simply the number of features whose value changes (and the magnitude of the change for numerical features, but here there are none)."
   ]
  },
  {
   "cell_type": "code",
   "execution_count": 15,
   "id": "30e1fd26-1371-4fd1-8357-0221728a97b1",
   "metadata": {},
   "outputs": [
    {
     "name": "stdout",
     "output_type": "stream",
     "text": [
      "If \u001b[1mincome = Unknown, homeowner = 1, area = Unknown, age = Unknown\u001b[0m:\n",
      "\tSubgroup '\u001b[1mF\u001b[0m', \u001b[0;34m1.7305%\u001b[0m covered out of 600135\n",
      "\t\tMake \u001b[1mincome = <100K, homeowner = 0, area = Unknown, age = 55-64\u001b[0m with correctness \u001b[0;32m-0.0000%\u001b[0m.\n",
      "\tSubgroup '\u001b[1mM\u001b[0m', \u001b[0;34m1.9012%\u001b[0m covered out of 314181\n",
      "\t\tMake \u001b[1mincome = <100K, homeowner = 0, area = Unknown, age = 55-64\u001b[0m with correctness \u001b[0;32m94.8520%\u001b[0m.\n",
      "If \u001b[1mincome = Unknown, homeowner = 1, area = Urban\u001b[0m:\n",
      "\tSubgroup '\u001b[1mF\u001b[0m', \u001b[0;34m21.4659%\u001b[0m covered out of 600135\n",
      "\t\tMake \u001b[1mincome = <100K, homeowner = 0, area = Unknown\u001b[0m with correctness \u001b[0;32m1.6171%\u001b[0m.\n",
      "\tSubgroup '\u001b[1mM\u001b[0m', \u001b[0;34m22.6137%\u001b[0m covered out of 314181\n",
      "\t\tMake \u001b[1mincome = <100K, homeowner = 0, area = Unknown\u001b[0m with correctness \u001b[0;32m91.1491%\u001b[0m.\n",
      "If \u001b[1mcollege_educated = 1, parents = 1, homeowner = 1, area = Unknown, age = Unknown, income = Unknown\u001b[0m:\n",
      "\tSubgroup '\u001b[1mF\u001b[0m', \u001b[0;34m1.5458%\u001b[0m covered out of 600135\n",
      "\t\tMake \u001b[1mcollege_educated = 1, parents = 1, homeowner = 0, area = Unknown, age = 55-64, income = Unknown\u001b[0m with correctness \u001b[0;32m0.0000%\u001b[0m.\n",
      "\t\tMake \u001b[1mcollege_educated = 1, parents = 1, homeowner = 0, area = Unknown, age = 55-64, income = <100K\u001b[0m with correctness \u001b[0;32m0.0000%\u001b[0m.\n",
      "\tSubgroup '\u001b[1mM\u001b[0m', \u001b[0;34m1.7042%\u001b[0m covered out of 314181\n",
      "\t\tMake \u001b[1mcollege_educated = 1, parents = 1, homeowner = 0, area = Unknown, age = 55-64, income = Unknown\u001b[0m with correctness \u001b[0;32m100.0000%\u001b[0m.\n",
      "\t\tMake \u001b[1mcollege_educated = 1, parents = 1, homeowner = 0, area = Unknown, age = 55-64, income = <100K\u001b[0m with correctness \u001b[0;32m100.0000%\u001b[0m.\n",
      "If \u001b[1mparents = 1, homeowner = 1, area = Unknown, age = Unknown, income = Unknown\u001b[0m:\n",
      "\tSubgroup '\u001b[1mF\u001b[0m', \u001b[0;34m1.6316%\u001b[0m covered out of 600135\n",
      "\t\tMake \u001b[1mparents = 1, homeowner = 0, area = Unknown, age = 55-64, income = Unknown\u001b[0m with correctness \u001b[0;32m5.2576%\u001b[0m.\n",
      "\t\tMake \u001b[1mparents = 1, homeowner = 0, area = Unknown, age = 55-64, income = <100K\u001b[0m with correctness \u001b[0;32m0.0000%\u001b[0m.\n",
      "\tSubgroup '\u001b[1mM\u001b[0m', \u001b[0;34m1.8033%\u001b[0m covered out of 314181\n",
      "\t\tMake \u001b[1mparents = 1, homeowner = 0, area = Unknown, age = 55-64, income = Unknown\u001b[0m with correctness \u001b[0;32m100.0000%\u001b[0m.\n",
      "\t\tMake \u001b[1mparents = 1, homeowner = 0, area = Unknown, age = 55-64, income = <100K\u001b[0m with correctness \u001b[0;32m100.0000%\u001b[0m.\n",
      "If \u001b[1mincome = Unknown, homeowner = 1, age = Unknown\u001b[0m:\n",
      "\tSubgroup '\u001b[1mF\u001b[0m', \u001b[0;34m2.4711%\u001b[0m covered out of 600135\n",
      "\t\tMake \u001b[1mincome = <100K, homeowner = 0, age = 55-64\u001b[0m with correctness \u001b[0;32m23.1891%\u001b[0m.\n",
      "\tSubgroup '\u001b[1mM\u001b[0m', \u001b[0;34m2.7380%\u001b[0m covered out of 314181\n",
      "\t\tMake \u001b[1mincome = <100K, homeowner = 0, age = 55-64\u001b[0m with correctness \u001b[0;32m96.1573%\u001b[0m.\n",
      "If \u001b[1mincome = Unknown, homeowner = 1, college_educated = 0, age = 55-64\u001b[0m:\n",
      "\tSubgroup '\u001b[1mF\u001b[0m', \u001b[0;34m4.6585%\u001b[0m covered out of 600135\n",
      "\t\tMake \u001b[1mincome = <100K, homeowner = 0, college_educated = 1, age = 55-64\u001b[0m with correctness \u001b[0;32m23.6681%\u001b[0m.\n",
      "\tSubgroup '\u001b[1mM\u001b[0m', \u001b[0;34m3.9174%\u001b[0m covered out of 314181\n",
      "\t\tMake \u001b[1mincome = <100K, homeowner = 0, college_educated = 1, age = 55-64\u001b[0m with correctness \u001b[0;32m95.0344%\u001b[0m.\n",
      "If \u001b[1mparents = 0, college_educated = 1, age = 55-64, area = Urban\u001b[0m:\n",
      "\tSubgroup '\u001b[1mF\u001b[0m', \u001b[0;34m1.0820%\u001b[0m covered out of 600135\n",
      "\t\tMake \u001b[1mparents = 1, college_educated = 1, age = 45-54, area = Urban\u001b[0m with correctness \u001b[0;32m0.9514%\u001b[0m.\n",
      "\tSubgroup '\u001b[1mM\u001b[0m', \u001b[0;34m1.2210%\u001b[0m covered out of 314181\n",
      "\t\tMake \u001b[1mparents = 1, college_educated = 1, age = 45-54, area = Urban\u001b[0m with correctness \u001b[0;32m99.4990%\u001b[0m.\n",
      "If \u001b[1mcollege_educated = 1, parents = 1, homeowner = 1, area = Unknown, age = Unknown\u001b[0m:\n",
      "\tSubgroup '\u001b[1mF\u001b[0m', \u001b[0;34m1.6035%\u001b[0m covered out of 600135\n",
      "\t\tMake \u001b[1mcollege_educated = 1, parents = 1, homeowner = 0, area = Unknown, age = 55-64\u001b[0m with correctness \u001b[0;32m0.0000%\u001b[0m.\n",
      "\tSubgroup '\u001b[1mM\u001b[0m', \u001b[0;34m1.7666%\u001b[0m covered out of 314181\n",
      "\t\tMake \u001b[1mcollege_educated = 1, parents = 1, homeowner = 0, area = Unknown, age = 55-64\u001b[0m with correctness \u001b[0;32m98.4072%\u001b[0m.\n",
      "If \u001b[1mincome = Unknown, homeowner = 1, area = Unknown, age = 55-64\u001b[0m:\n",
      "\tSubgroup '\u001b[1mF\u001b[0m', \u001b[0;34m57.1619%\u001b[0m covered out of 600135\n",
      "\t\tMake \u001b[1mincome = <100K, homeowner = 0, area = Unknown, age = 55-64\u001b[0m with correctness \u001b[0;32m0.0000%\u001b[0m.\n",
      "\tSubgroup '\u001b[1mM\u001b[0m', \u001b[0;34m64.3373%\u001b[0m covered out of 314181\n",
      "\t\tMake \u001b[1mincome = <100K, homeowner = 0, area = Unknown, age = 55-64\u001b[0m with correctness \u001b[0;32m94.6547%\u001b[0m.\n",
      "If \u001b[1mparents = 1, homeowner = 1, area = Unknown, age = Unknown\u001b[0m:\n",
      "\tSubgroup '\u001b[1mF\u001b[0m', \u001b[0;34m1.6905%\u001b[0m covered out of 600135\n",
      "\t\tMake \u001b[1mparents = 1, homeowner = 0, area = Unknown, age = 55-64\u001b[0m with correctness \u001b[0;32m5.0744%\u001b[0m.\n",
      "\tSubgroup '\u001b[1mM\u001b[0m', \u001b[0;34m1.8669%\u001b[0m covered out of 314181\n",
      "\t\tMake \u001b[1mparents = 1, homeowner = 0, area = Unknown, age = 55-64\u001b[0m with correctness \u001b[0;32m98.4273%\u001b[0m.\n",
      "\n"
     ]
    }
   ],
   "source": [
    "K = 10\n",
    "\n",
    "rules_max_costdiff_2groups = lib2.sort_triples_by_costdiff_2groups(rules_by_if, \"M\", \"F\")[:K]\n",
    "rules_max_costdiff_2groups = dict(rules_max_costdiff_2groups)\n",
    "\n",
    "print(recourse_report_reverse(\n",
    "    list(rules_max_costdiff_2groups.items()),\n",
    "    population_sizes = {\"M\": (ad_conversion_dataset.gender == \"M\").sum(), \"F\": (ad_conversion_dataset.gender == \"F\").sum()},\n",
    "    missing_subgroup_val=\"Unknown\"\n",
    "))"
   ]
  },
  {
   "cell_type": "markdown",
   "id": "cd23bade-c1fe-45b6-b3ba-92bad14ff7b6",
   "metadata": {},
   "source": [
    "# Generalize to arbitrary number of subgroups\n",
    "\n"
   ]
  },
  {
   "cell_type": "code",
   "execution_count": 16,
   "id": "5e4f7d34-e056-4f9a-89ec-dc6c61103623",
   "metadata": {
    "tags": []
   },
   "outputs": [],
   "source": [
    "rules_by_if_no_unknown = {ifc: {sg: thens for sg, thens in sg_thens.items() if sg != \"Unknown\"} for ifc, sg_thens in rules_by_if.items()}"
   ]
  },
  {
   "cell_type": "code",
   "execution_count": 17,
   "id": "897fbfbd-1667-46e5-8015-fa43a1709905",
   "metadata": {
    "tags": []
   },
   "outputs": [],
   "source": [
    "comparators = lib2.naive_feature_change_builder(num_cols=num_features, cate_cols=cate_features, feature_weights=feature_weights)\n",
    "params = ParameterProxy(featureChanges=comparators)"
   ]
  },
  {
   "cell_type": "code",
   "execution_count": 18,
   "id": "401938ea-8579-4808-86a4-360994295330",
   "metadata": {
    "tags": []
   },
   "outputs": [
    {
     "name": "stdout",
     "output_type": "stream",
     "text": [
      "If \u001b[1mincome = Unknown, homeowner = 1, area = Unknown, age = Unknown\u001b[0m:\n",
      "\tSubgroup '\u001b[1mF\u001b[0m', \u001b[0;34m1.7305%\u001b[0m covered out of 600135\n",
      "\t\tMake \u001b[1mincome = <100K, homeowner = 0, area = Unknown, age = 55-64\u001b[0m with correctness \u001b[0;32m-0.0000%\u001b[0m.\n",
      "\tSubgroup '\u001b[1mM\u001b[0m', \u001b[0;34m1.9012%\u001b[0m covered out of 314181\n",
      "\t\tMake \u001b[1mincome = <100K, homeowner = 0, area = Unknown, age = 55-64\u001b[0m with correctness \u001b[0;32m94.8520%\u001b[0m.\n",
      "If \u001b[1mincome = Unknown, homeowner = 1, area = Urban\u001b[0m:\n",
      "\tSubgroup '\u001b[1mF\u001b[0m', \u001b[0;34m21.4659%\u001b[0m covered out of 600135\n",
      "\t\tMake \u001b[1mincome = <100K, homeowner = 0, area = Unknown\u001b[0m with correctness \u001b[0;32m1.6171%\u001b[0m.\n",
      "\tSubgroup '\u001b[1mM\u001b[0m', \u001b[0;34m22.6137%\u001b[0m covered out of 314181\n",
      "\t\tMake \u001b[1mincome = <100K, homeowner = 0, area = Unknown\u001b[0m with correctness \u001b[0;32m91.1491%\u001b[0m.\n",
      "If \u001b[1mcollege_educated = 1, parents = 1, homeowner = 1, area = Unknown, age = Unknown, income = Unknown\u001b[0m:\n",
      "\tSubgroup '\u001b[1mF\u001b[0m', \u001b[0;34m1.5458%\u001b[0m covered out of 600135\n",
      "\t\tMake \u001b[1mcollege_educated = 1, parents = 1, homeowner = 0, area = Unknown, age = 55-64, income = Unknown\u001b[0m with correctness \u001b[0;32m0.0000%\u001b[0m.\n",
      "\t\tMake \u001b[1mcollege_educated = 1, parents = 1, homeowner = 0, area = Unknown, age = 55-64, income = <100K\u001b[0m with correctness \u001b[0;32m0.0000%\u001b[0m.\n",
      "\tSubgroup '\u001b[1mM\u001b[0m', \u001b[0;34m1.7042%\u001b[0m covered out of 314181\n",
      "\t\tMake \u001b[1mcollege_educated = 1, parents = 1, homeowner = 0, area = Unknown, age = 55-64, income = Unknown\u001b[0m with correctness \u001b[0;32m100.0000%\u001b[0m.\n",
      "\t\tMake \u001b[1mcollege_educated = 1, parents = 1, homeowner = 0, area = Unknown, age = 55-64, income = <100K\u001b[0m with correctness \u001b[0;32m100.0000%\u001b[0m.\n",
      "If \u001b[1mparents = 1, homeowner = 1, area = Unknown, age = Unknown, income = Unknown\u001b[0m:\n",
      "\tSubgroup '\u001b[1mF\u001b[0m', \u001b[0;34m1.6316%\u001b[0m covered out of 600135\n",
      "\t\tMake \u001b[1mparents = 1, homeowner = 0, area = Unknown, age = 55-64, income = Unknown\u001b[0m with correctness \u001b[0;32m5.2576%\u001b[0m.\n",
      "\t\tMake \u001b[1mparents = 1, homeowner = 0, area = Unknown, age = 55-64, income = <100K\u001b[0m with correctness \u001b[0;32m0.0000%\u001b[0m.\n",
      "\tSubgroup '\u001b[1mM\u001b[0m', \u001b[0;34m1.8033%\u001b[0m covered out of 314181\n",
      "\t\tMake \u001b[1mparents = 1, homeowner = 0, area = Unknown, age = 55-64, income = Unknown\u001b[0m with correctness \u001b[0;32m100.0000%\u001b[0m.\n",
      "\t\tMake \u001b[1mparents = 1, homeowner = 0, area = Unknown, age = 55-64, income = <100K\u001b[0m with correctness \u001b[0;32m100.0000%\u001b[0m.\n",
      "If \u001b[1mincome = Unknown, homeowner = 1, age = Unknown\u001b[0m:\n",
      "\tSubgroup '\u001b[1mF\u001b[0m', \u001b[0;34m2.4711%\u001b[0m covered out of 600135\n",
      "\t\tMake \u001b[1mincome = <100K, homeowner = 0, age = 55-64\u001b[0m with correctness \u001b[0;32m23.1891%\u001b[0m.\n",
      "\tSubgroup '\u001b[1mM\u001b[0m', \u001b[0;34m2.7380%\u001b[0m covered out of 314181\n",
      "\t\tMake \u001b[1mincome = <100K, homeowner = 0, age = 55-64\u001b[0m with correctness \u001b[0;32m96.1573%\u001b[0m.\n",
      "If \u001b[1mincome = Unknown, homeowner = 1, college_educated = 0, age = 55-64\u001b[0m:\n",
      "\tSubgroup '\u001b[1mF\u001b[0m', \u001b[0;34m4.6585%\u001b[0m covered out of 600135\n",
      "\t\tMake \u001b[1mincome = <100K, homeowner = 0, college_educated = 1, age = 55-64\u001b[0m with correctness \u001b[0;32m23.6681%\u001b[0m.\n",
      "\tSubgroup '\u001b[1mM\u001b[0m', \u001b[0;34m3.9174%\u001b[0m covered out of 314181\n",
      "\t\tMake \u001b[1mincome = <100K, homeowner = 0, college_educated = 1, age = 55-64\u001b[0m with correctness \u001b[0;32m95.0344%\u001b[0m.\n",
      "If \u001b[1mparents = 0, college_educated = 1, age = 55-64, area = Urban\u001b[0m:\n",
      "\tSubgroup '\u001b[1mF\u001b[0m', \u001b[0;34m1.0820%\u001b[0m covered out of 600135\n",
      "\t\tMake \u001b[1mparents = 1, college_educated = 1, age = 45-54, area = Urban\u001b[0m with correctness \u001b[0;32m0.9514%\u001b[0m.\n",
      "\tSubgroup '\u001b[1mM\u001b[0m', \u001b[0;34m1.2210%\u001b[0m covered out of 314181\n",
      "\t\tMake \u001b[1mparents = 1, college_educated = 1, age = 45-54, area = Urban\u001b[0m with correctness \u001b[0;32m99.4990%\u001b[0m.\n",
      "If \u001b[1mcollege_educated = 1, parents = 1, homeowner = 1, area = Unknown, age = Unknown\u001b[0m:\n",
      "\tSubgroup '\u001b[1mF\u001b[0m', \u001b[0;34m1.6035%\u001b[0m covered out of 600135\n",
      "\t\tMake \u001b[1mcollege_educated = 1, parents = 1, homeowner = 0, area = Unknown, age = 55-64\u001b[0m with correctness \u001b[0;32m0.0000%\u001b[0m.\n",
      "\tSubgroup '\u001b[1mM\u001b[0m', \u001b[0;34m1.7666%\u001b[0m covered out of 314181\n",
      "\t\tMake \u001b[1mcollege_educated = 1, parents = 1, homeowner = 0, area = Unknown, age = 55-64\u001b[0m with correctness \u001b[0;32m98.4072%\u001b[0m.\n",
      "If \u001b[1mincome = Unknown, homeowner = 1, area = Unknown, age = 55-64\u001b[0m:\n",
      "\tSubgroup '\u001b[1mF\u001b[0m', \u001b[0;34m57.1619%\u001b[0m covered out of 600135\n",
      "\t\tMake \u001b[1mincome = <100K, homeowner = 0, area = Unknown, age = 55-64\u001b[0m with correctness \u001b[0;32m0.0000%\u001b[0m.\n",
      "\tSubgroup '\u001b[1mM\u001b[0m', \u001b[0;34m64.3373%\u001b[0m covered out of 314181\n",
      "\t\tMake \u001b[1mincome = <100K, homeowner = 0, area = Unknown, age = 55-64\u001b[0m with correctness \u001b[0;32m94.6547%\u001b[0m.\n",
      "If \u001b[1mparents = 1, homeowner = 1, area = Unknown, age = Unknown\u001b[0m:\n",
      "\tSubgroup '\u001b[1mF\u001b[0m', \u001b[0;34m1.6905%\u001b[0m covered out of 600135\n",
      "\t\tMake \u001b[1mparents = 1, homeowner = 0, area = Unknown, age = 55-64\u001b[0m with correctness \u001b[0;32m5.0744%\u001b[0m.\n",
      "\tSubgroup '\u001b[1mM\u001b[0m', \u001b[0;34m1.8669%\u001b[0m covered out of 314181\n",
      "\t\tMake \u001b[1mparents = 1, homeowner = 0, area = Unknown, age = 55-64\u001b[0m with correctness \u001b[0;32m98.4273%\u001b[0m.\n",
      "\n"
     ]
    }
   ],
   "source": [
    "rules_max_costdiff_sorted = lib2.sort_triples_by_max_costdiff(rules_by_if_no_unknown, params=params)\n",
    "\n",
    "print(recourse_report_reverse(\n",
    "    rules_max_costdiff_sorted[:K],\n",
    "    population_sizes = {\"M\": (ad_conversion_dataset.gender == \"M\").sum(), \"F\": (ad_conversion_dataset.gender == \"F\").sum()},\n",
    "    missing_subgroup_val=\"Unknown\"\n",
    "))"
   ]
  },
  {
   "cell_type": "markdown",
   "id": "eb1c78c7-2323-40fa-b1c4-5273245bc0c2",
   "metadata": {},
   "source": [
    "# Filter rules by different scoring functions (again)"
   ]
  },
  {
   "cell_type": "markdown",
   "id": "3083f9ee-9126-4cd4-a84a-5816e32e1cb8",
   "metadata": {},
   "source": [
    "## For each if-group, inner product of then costs and correctness-es, divided by the number of terms"
   ]
  },
  {
   "cell_type": "code",
   "execution_count": 19,
   "id": "c89773ff-5f64-405e-8cda-6d1b6eff557c",
   "metadata": {
    "tags": []
   },
   "outputs": [
    {
     "name": "stdout",
     "output_type": "stream",
     "text": [
      "If \u001b[1mincome = Unknown, homeowner = 1, area = Unknown, age = Unknown\u001b[0m:\n",
      "\tSubgroup '\u001b[1mF\u001b[0m', \u001b[0;34m1.7305%\u001b[0m covered out of 600135\n",
      "\t\tMake \u001b[1mincome = <100K, homeowner = 0, area = Unknown, age = 55-64\u001b[0m with correctness \u001b[0;32m-0.0000%\u001b[0m.\n",
      "\tSubgroup '\u001b[1mM\u001b[0m', \u001b[0;34m1.9012%\u001b[0m covered out of 314181\n",
      "\t\tMake \u001b[1mincome = <100K, homeowner = 0, area = Unknown, age = 55-64\u001b[0m with correctness \u001b[0;32m94.8520%\u001b[0m.\n",
      "If \u001b[1mincome = Unknown, homeowner = 1, area = Urban\u001b[0m:\n",
      "\tSubgroup '\u001b[1mF\u001b[0m', \u001b[0;34m21.4659%\u001b[0m covered out of 600135\n",
      "\t\tMake \u001b[1mincome = <100K, homeowner = 0, area = Unknown\u001b[0m with correctness \u001b[0;32m1.6171%\u001b[0m.\n",
      "\tSubgroup '\u001b[1mM\u001b[0m', \u001b[0;34m22.6137%\u001b[0m covered out of 314181\n",
      "\t\tMake \u001b[1mincome = <100K, homeowner = 0, area = Unknown\u001b[0m with correctness \u001b[0;32m91.1491%\u001b[0m.\n",
      "If \u001b[1mcollege_educated = 1, parents = 1, homeowner = 1, area = Unknown, age = Unknown, income = Unknown\u001b[0m:\n",
      "\tSubgroup '\u001b[1mF\u001b[0m', \u001b[0;34m1.5458%\u001b[0m covered out of 600135\n",
      "\t\tMake \u001b[1mcollege_educated = 1, parents = 1, homeowner = 0, area = Unknown, age = 55-64, income = Unknown\u001b[0m with correctness \u001b[0;32m0.0000%\u001b[0m.\n",
      "\t\tMake \u001b[1mcollege_educated = 1, parents = 1, homeowner = 0, area = Unknown, age = 55-64, income = <100K\u001b[0m with correctness \u001b[0;32m0.0000%\u001b[0m.\n",
      "\tSubgroup '\u001b[1mM\u001b[0m', \u001b[0;34m1.7042%\u001b[0m covered out of 314181\n",
      "\t\tMake \u001b[1mcollege_educated = 1, parents = 1, homeowner = 0, area = Unknown, age = 55-64, income = Unknown\u001b[0m with correctness \u001b[0;32m100.0000%\u001b[0m.\n",
      "\t\tMake \u001b[1mcollege_educated = 1, parents = 1, homeowner = 0, area = Unknown, age = 55-64, income = <100K\u001b[0m with correctness \u001b[0;32m100.0000%\u001b[0m.\n",
      "If \u001b[1mparents = 1, homeowner = 1, area = Unknown, age = Unknown, income = Unknown\u001b[0m:\n",
      "\tSubgroup '\u001b[1mF\u001b[0m', \u001b[0;34m1.6316%\u001b[0m covered out of 600135\n",
      "\t\tMake \u001b[1mparents = 1, homeowner = 0, area = Unknown, age = 55-64, income = Unknown\u001b[0m with correctness \u001b[0;32m5.2576%\u001b[0m.\n",
      "\t\tMake \u001b[1mparents = 1, homeowner = 0, area = Unknown, age = 55-64, income = <100K\u001b[0m with correctness \u001b[0;32m0.0000%\u001b[0m.\n",
      "\tSubgroup '\u001b[1mM\u001b[0m', \u001b[0;34m1.8033%\u001b[0m covered out of 314181\n",
      "\t\tMake \u001b[1mparents = 1, homeowner = 0, area = Unknown, age = 55-64, income = Unknown\u001b[0m with correctness \u001b[0;32m100.0000%\u001b[0m.\n",
      "\t\tMake \u001b[1mparents = 1, homeowner = 0, area = Unknown, age = 55-64, income = <100K\u001b[0m with correctness \u001b[0;32m100.0000%\u001b[0m.\n",
      "If \u001b[1mincome = Unknown, homeowner = 1, age = Unknown\u001b[0m:\n",
      "\tSubgroup '\u001b[1mF\u001b[0m', \u001b[0;34m2.4711%\u001b[0m covered out of 600135\n",
      "\t\tMake \u001b[1mincome = <100K, homeowner = 0, age = 55-64\u001b[0m with correctness \u001b[0;32m23.1891%\u001b[0m.\n",
      "\tSubgroup '\u001b[1mM\u001b[0m', \u001b[0;34m2.7380%\u001b[0m covered out of 314181\n",
      "\t\tMake \u001b[1mincome = <100K, homeowner = 0, age = 55-64\u001b[0m with correctness \u001b[0;32m96.1573%\u001b[0m.\n",
      "If \u001b[1mincome = Unknown, homeowner = 1, college_educated = 0, age = 55-64\u001b[0m:\n",
      "\tSubgroup '\u001b[1mF\u001b[0m', \u001b[0;34m4.6585%\u001b[0m covered out of 600135\n",
      "\t\tMake \u001b[1mincome = <100K, homeowner = 0, college_educated = 1, age = 55-64\u001b[0m with correctness \u001b[0;32m23.6681%\u001b[0m.\n",
      "\tSubgroup '\u001b[1mM\u001b[0m', \u001b[0;34m3.9174%\u001b[0m covered out of 314181\n",
      "\t\tMake \u001b[1mincome = <100K, homeowner = 0, college_educated = 1, age = 55-64\u001b[0m with correctness \u001b[0;32m95.0344%\u001b[0m.\n",
      "If \u001b[1mparents = 0, college_educated = 1, age = 55-64, area = Urban\u001b[0m:\n",
      "\tSubgroup '\u001b[1mF\u001b[0m', \u001b[0;34m1.0820%\u001b[0m covered out of 600135\n",
      "\t\tMake \u001b[1mparents = 1, college_educated = 1, age = 45-54, area = Urban\u001b[0m with correctness \u001b[0;32m0.9514%\u001b[0m.\n",
      "\tSubgroup '\u001b[1mM\u001b[0m', \u001b[0;34m1.2210%\u001b[0m covered out of 314181\n",
      "\t\tMake \u001b[1mparents = 1, college_educated = 1, age = 45-54, area = Urban\u001b[0m with correctness \u001b[0;32m99.4990%\u001b[0m.\n",
      "If \u001b[1mcollege_educated = 1, parents = 1, homeowner = 1, area = Unknown, age = Unknown\u001b[0m:\n",
      "\tSubgroup '\u001b[1mF\u001b[0m', \u001b[0;34m1.6035%\u001b[0m covered out of 600135\n",
      "\t\tMake \u001b[1mcollege_educated = 1, parents = 1, homeowner = 0, area = Unknown, age = 55-64\u001b[0m with correctness \u001b[0;32m0.0000%\u001b[0m.\n",
      "\tSubgroup '\u001b[1mM\u001b[0m', \u001b[0;34m1.7666%\u001b[0m covered out of 314181\n",
      "\t\tMake \u001b[1mcollege_educated = 1, parents = 1, homeowner = 0, area = Unknown, age = 55-64\u001b[0m with correctness \u001b[0;32m98.4072%\u001b[0m.\n",
      "If \u001b[1mincome = Unknown, homeowner = 1, area = Unknown, age = 55-64\u001b[0m:\n",
      "\tSubgroup '\u001b[1mF\u001b[0m', \u001b[0;34m57.1619%\u001b[0m covered out of 600135\n",
      "\t\tMake \u001b[1mincome = <100K, homeowner = 0, area = Unknown, age = 55-64\u001b[0m with correctness \u001b[0;32m0.0000%\u001b[0m.\n",
      "\tSubgroup '\u001b[1mM\u001b[0m', \u001b[0;34m64.3373%\u001b[0m covered out of 314181\n",
      "\t\tMake \u001b[1mincome = <100K, homeowner = 0, area = Unknown, age = 55-64\u001b[0m with correctness \u001b[0;32m94.6547%\u001b[0m.\n",
      "If \u001b[1mparents = 1, homeowner = 1, area = Unknown, age = Unknown\u001b[0m:\n",
      "\tSubgroup '\u001b[1mF\u001b[0m', \u001b[0;34m1.6905%\u001b[0m covered out of 600135\n",
      "\t\tMake \u001b[1mparents = 1, homeowner = 0, area = Unknown, age = 55-64\u001b[0m with correctness \u001b[0;32m5.0744%\u001b[0m.\n",
      "\tSubgroup '\u001b[1mM\u001b[0m', \u001b[0;34m1.8669%\u001b[0m covered out of 314181\n",
      "\t\tMake \u001b[1mparents = 1, homeowner = 0, area = Unknown, age = 55-64\u001b[0m with correctness \u001b[0;32m98.4273%\u001b[0m.\n",
      "\n"
     ]
    }
   ],
   "source": [
    "K = 10\n",
    "\n",
    "rules_max_costdiff_sorted_gender = lib2.sort_triples_by_max_costdiff(rules_by_if, params=params)\n",
    "\n",
    "pop_sizes = {sg: (ad_conversion_dataset[\"gender\"] == sg).sum() for sg in ad_conversion_dataset[\"gender\"].unique()}\n",
    "print(recourse_report_reverse(\n",
    "    rules_max_costdiff_sorted_gender[:K],\n",
    "    population_sizes = pop_sizes,\n",
    "    missing_subgroup_val=\"Unknown\"\n",
    "))"
   ]
  },
  {
   "cell_type": "markdown",
   "id": "b68eb89f-39e1-4143-93aa-5367b5356b40",
   "metadata": {},
   "source": [
    "## For each if-group, minimum cost of change among thens that surpass a correctness threshold"
   ]
  },
  {
   "cell_type": "code",
   "execution_count": 20,
   "id": "c8394162-937a-417b-a2a0-5d2f0281afd2",
   "metadata": {
    "tags": []
   },
   "outputs": [],
   "source": [
    "rules_gender_no_unknown = {ifclause: {sg: val for sg, val in thenclauses.items() if sg != \"Unknown\"} for ifclause, thenclauses in rules_by_if.items()}"
   ]
  },
  {
   "cell_type": "code",
   "execution_count": 21,
   "id": "23015685-bd59-4909-a253-1b07c75b547e",
   "metadata": {
    "tags": []
   },
   "outputs": [
    {
     "name": "stdout",
     "output_type": "stream",
     "text": [
      "If \u001b[1mhomeowner = 1\u001b[0m:\n",
      "\tSubgroup '\u001b[1mF\u001b[0m', \u001b[0;34m88.7907%\u001b[0m covered out of 600135\n",
      "\t\tMake \u001b[1mhomeowner = 0\u001b[0m with correctness \u001b[0;32m31.9660%\u001b[0m.\n",
      "\tSubgroup '\u001b[1mM\u001b[0m', \u001b[0;34m98.0217%\u001b[0m covered out of 314181\n",
      "\t\tMake \u001b[1mhomeowner = 0\u001b[0m with correctness \u001b[0;32m92.7248%\u001b[0m.\n",
      "If \u001b[1mhomeowner = 1, income = Unknown\u001b[0m:\n",
      "\tSubgroup '\u001b[1mF\u001b[0m', \u001b[0;34m86.1680%\u001b[0m covered out of 600135\n",
      "\t\tMake \u001b[1mhomeowner = 0, income = Unknown\u001b[0m with correctness \u001b[0;32m32.7059%\u001b[0m.\n",
      "\tSubgroup '\u001b[1mM\u001b[0m', \u001b[0;34m95.0733%\u001b[0m covered out of 314181\n",
      "\t\tMake \u001b[1mhomeowner = 0, income = Unknown\u001b[0m with correctness \u001b[0;32m93.7872%\u001b[0m.\n",
      "If \u001b[1mparents = 1, homeowner = 1\u001b[0m:\n",
      "\tSubgroup '\u001b[1mF\u001b[0m', \u001b[0;34m83.9566%\u001b[0m covered out of 600135\n",
      "\t\tMake \u001b[1mparents = 1, homeowner = 0\u001b[0m with correctness \u001b[0;32m33.6151%\u001b[0m.\n",
      "\tSubgroup '\u001b[1mM\u001b[0m', \u001b[0;34m92.6020%\u001b[0m covered out of 314181\n",
      "\t\tMake \u001b[1mparents = 1, homeowner = 0\u001b[0m with correctness \u001b[0;32m96.6324%\u001b[0m.\n",
      "If \u001b[1mincome = Unknown, homeowner = 1, age = 55-64\u001b[0m:\n",
      "\tSubgroup '\u001b[1mF\u001b[0m', \u001b[0;34m82.0545%\u001b[0m covered out of 600135\n",
      "\t\tMake \u001b[1mincome = <100K, homeowner = 0, age = 55-64\u001b[0m with correctness \u001b[0;32m23.8906%\u001b[0m.\n",
      "\tSubgroup '\u001b[1mM\u001b[0m', \u001b[0;34m91.0091%\u001b[0m covered out of 314181\n",
      "\t\tMake \u001b[1mincome = <100K, homeowner = 0, age = 55-64\u001b[0m with correctness \u001b[0;32m95.9483%\u001b[0m.\n",
      "If \u001b[1mparents = 1, homeowner = 1, income = Unknown\u001b[0m:\n",
      "\tSubgroup '\u001b[1mF\u001b[0m', \u001b[0;34m81.4849%\u001b[0m covered out of 600135\n",
      "\t\tMake \u001b[1mparents = 1, homeowner = 0, income = Unknown\u001b[0m with correctness \u001b[0;32m34.3912%\u001b[0m.\n",
      "\tSubgroup '\u001b[1mM\u001b[0m', \u001b[0;34m89.8162%\u001b[0m covered out of 314181\n",
      "\t\tMake \u001b[1mparents = 1, homeowner = 0, income = Unknown\u001b[0m with correctness \u001b[0;32m97.7211%\u001b[0m.\n",
      "If \u001b[1mincome = Unknown, homeowner = 1, college_educated = 1\u001b[0m:\n",
      "\tSubgroup '\u001b[1mF\u001b[0m', \u001b[0;34m81.2968%\u001b[0m covered out of 600135\n",
      "\t\tMake \u001b[1mincome = <100K, homeowner = 0, college_educated = 1\u001b[0m with correctness \u001b[0;32m24.2097%\u001b[0m.\n",
      "\tSubgroup '\u001b[1mM\u001b[0m', \u001b[0;34m90.9883%\u001b[0m covered out of 314181\n",
      "\t\tMake \u001b[1mincome = <100K, homeowner = 0, college_educated = 1\u001b[0m with correctness \u001b[0;32m93.1506%\u001b[0m.\n",
      "If \u001b[1mhomeowner = 1, area = Unknown, income = Unknown\u001b[0m:\n",
      "\tSubgroup '\u001b[1mF\u001b[0m', \u001b[0;34m60.0573%\u001b[0m covered out of 600135\n",
      "\t\tMake \u001b[1mhomeowner = 0, area = Unknown, income = Unknown\u001b[0m with correctness \u001b[0;32m6.8712%\u001b[0m.\n",
      "\tSubgroup '\u001b[1mM\u001b[0m', \u001b[0;34m67.5010%\u001b[0m covered out of 314181\n",
      "\t\tMake \u001b[1mhomeowner = 0, area = Unknown, income = Unknown\u001b[0m with correctness \u001b[0;32m91.8965%\u001b[0m.\n",
      "If \u001b[1mhomeowner = 1, area = Unknown, age = 55-64\u001b[0m:\n",
      "\tSubgroup '\u001b[1mF\u001b[0m', \u001b[0;34m59.3253%\u001b[0m covered out of 600135\n",
      "\t\tMake \u001b[1mhomeowner = 0, area = Unknown, age = 55-64\u001b[0m with correctness \u001b[0;32m5.1852%\u001b[0m.\n",
      "\tSubgroup '\u001b[1mM\u001b[0m', \u001b[0;34m66.8196%\u001b[0m covered out of 314181\n",
      "\t\tMake \u001b[1mhomeowner = 0, area = Unknown, age = 55-64\u001b[0m with correctness \u001b[0;32m93.2201%\u001b[0m.\n",
      "If \u001b[1mhomeowner = 1, area = Unknown, college_educated = 1\u001b[0m:\n",
      "\tSubgroup '\u001b[1mF\u001b[0m', \u001b[0;34m58.8535%\u001b[0m covered out of 600135\n",
      "\t\tMake \u001b[1mhomeowner = 0, area = Unknown, college_educated = 1\u001b[0m with correctness \u001b[0;32m1.7918%\u001b[0m.\n",
      "\tSubgroup '\u001b[1mM\u001b[0m', \u001b[0;34m66.2801%\u001b[0m covered out of 314181\n",
      "\t\tMake \u001b[1mhomeowner = 0, area = Unknown, college_educated = 1\u001b[0m with correctness \u001b[0;32m90.4681%\u001b[0m.\n",
      "If \u001b[1mincome = Unknown, homeowner = 1, area = Unknown, age = 55-64\u001b[0m:\n",
      "\tSubgroup '\u001b[1mF\u001b[0m', \u001b[0;34m57.1619%\u001b[0m covered out of 600135\n",
      "\t\tMake \u001b[1mincome = <100K, homeowner = 0, area = Unknown, age = 55-64\u001b[0m with correctness \u001b[0;32m0.0000%\u001b[0m.\n",
      "\tSubgroup '\u001b[1mM\u001b[0m', \u001b[0;34m64.3373%\u001b[0m covered out of 314181\n",
      "\t\tMake \u001b[1mincome = <100K, homeowner = 0, area = Unknown, age = 55-64\u001b[0m with correctness \u001b[0;32m94.6547%\u001b[0m.\n",
      "\n"
     ]
    }
   ],
   "source": [
    "rules_max_costdiff_sorted_gender = lib2.sort_triples_by_max_costdiff_ignore_nans(\n",
    "    rules_gender_no_unknown,\n",
    "    params=params,\n",
    "    group_calculator=lib2.if_group_cost_max_change_correctness_threshold,\n",
    "    cor_thres=0.5\n",
    ")\n",
    "\n",
    "pop_sizes = {sg: (ad_conversion_dataset[\"gender\"] == sg).sum() for sg in ad_conversion_dataset[\"gender\"].unique()}\n",
    "print(recourse_report_reverse(\n",
    "    rules_max_costdiff_sorted_gender[:K],\n",
    "    population_sizes = pop_sizes\n",
    "))"
   ]
  },
  {
   "cell_type": "markdown",
   "id": "1a53fd71-ae5b-4d51-8276-7ffe71f42e07",
   "metadata": {},
   "source": [
    "## For each if-group, minimum cost of change among thens that surpass a correctness threshold\n",
    "\n",
    "Before, when, for a subgroup, there were no thens that surpassed the threshold, the minimum cost of change was valued as infinity, and thus, as it is evident in the results, the algorithm finds many rules for which some groups surpass the threshold and some groups do not (because for those rules the difference between maximum and minimum cost of the subgroups evaluates to infinity).\n",
    "\n",
    "Here, the difference is that we will ignore altogether rules for which the correctness drops below the threshold for all recourses (for some subgroup), considering them as \"empty\"."
   ]
  },
  {
   "cell_type": "code",
   "execution_count": 22,
   "id": "c9013521-7af1-4980-8af0-a9b49871b69c",
   "metadata": {},
   "outputs": [
    {
     "name": "stdout",
     "output_type": "stream",
     "text": [
      "If \u001b[1mhomeowner = 1, age = 55-64, area = Urban\u001b[0m:\n",
      "\tSubgroup '\u001b[1mF\u001b[0m', \u001b[0;34m20.7294%\u001b[0m covered out of 600135\n",
      "\t\tMake \u001b[1mhomeowner = 1, age = 45-54, area = Urban\u001b[0m with correctness \u001b[0;32m5.3465%\u001b[0m.\n",
      "\t\tMake \u001b[1mhomeowner = 0, age = 45-54, area = Unknown\u001b[0m with correctness \u001b[0;32m93.9583%\u001b[0m.\n",
      "\tSubgroup '\u001b[1mM\u001b[0m', \u001b[0;34m22.1562%\u001b[0m covered out of 314181\n",
      "\t\tMake \u001b[1mhomeowner = 1, age = 45-54, area = Urban\u001b[0m with correctness \u001b[0;32m93.6554%\u001b[0m.\n",
      "\t\tMake \u001b[1mhomeowner = 0, age = 45-54, area = Unknown\u001b[0m with correctness \u001b[0;32m93.9923%\u001b[0m.\n",
      "\tSubgroup '\u001b[1mUnknown\u001b[0m', \u001b[0;34m21.9784%\u001b[0m covered out of 528824\n",
      "\t\tMake \u001b[1mhomeowner = 1, age = 45-54, area = Urban\u001b[0m with correctness \u001b[0;32m93.7781%\u001b[0m.\n",
      "\t\tMake \u001b[1mhomeowner = 0, age = 45-54, area = Unknown\u001b[0m with correctness \u001b[0;32m94.1451%\u001b[0m.\n",
      "If \u001b[1mparents = 1, homeowner = 1, age = 55-64, area = Urban\u001b[0m:\n",
      "\tSubgroup '\u001b[1mF\u001b[0m', \u001b[0;34m19.5988%\u001b[0m covered out of 600135\n",
      "\t\tMake \u001b[1mparents = 1, homeowner = 1, age = 45-54, area = Urban\u001b[0m with correctness \u001b[0;32m5.6549%\u001b[0m.\n",
      "\t\tMake \u001b[1mparents = 1, homeowner = 0, age = 45-54, area = Unknown\u001b[0m with correctness \u001b[0;32m99.3785%\u001b[0m.\n",
      "\tSubgroup '\u001b[1mM\u001b[0m', \u001b[0;34m20.8728%\u001b[0m covered out of 314181\n",
      "\t\tMake \u001b[1mparents = 1, homeowner = 1, age = 45-54, area = Urban\u001b[0m with correctness \u001b[0;32m99.4139%\u001b[0m.\n",
      "\t\tMake \u001b[1mparents = 1, homeowner = 0, age = 45-54, area = Unknown\u001b[0m with correctness \u001b[0;32m99.4725%\u001b[0m.\n",
      "\tSubgroup '\u001b[1mUnknown\u001b[0m', \u001b[0;34m20.7454%\u001b[0m covered out of 528824\n",
      "\t\tMake \u001b[1mparents = 1, homeowner = 1, age = 45-54, area = Urban\u001b[0m with correctness \u001b[0;32m99.3520%\u001b[0m.\n",
      "\t\tMake \u001b[1mparents = 1, homeowner = 0, age = 45-54, area = Unknown\u001b[0m with correctness \u001b[0;32m99.3871%\u001b[0m.\n",
      "If \u001b[1mcollege_educated = 1, parents = 1, homeowner = 1, age = 55-64, income = <100K\u001b[0m:\n",
      "\tSubgroup '\u001b[1mF\u001b[0m', \u001b[0;34m1.2553%\u001b[0m covered out of 600135\n",
      "\t\tMake \u001b[1mcollege_educated = 1, parents = 1, homeowner = 0, age = 55-64, income = Unknown\u001b[0m with correctness \u001b[0;32m10.4328%\u001b[0m.\n",
      "\t\tMake \u001b[1mcollege_educated = 1, parents = 1, homeowner = 0, age = 55-64, income = <100K\u001b[0m with correctness \u001b[0;32m9.2938%\u001b[0m.\n",
      "\t\tMake \u001b[1mcollege_educated = 1, parents = 1, homeowner = 1, age = 45-54, income = Unknown\u001b[0m with correctness \u001b[0;32m0.0000%\u001b[0m.\n",
      "\t\tMake \u001b[1mcollege_educated = 1, parents = 1, homeowner = 0, age = 45-54, income = Unknown\u001b[0m with correctness \u001b[0;32m100.0000%\u001b[0m.\n",
      "\tSubgroup '\u001b[1mM\u001b[0m', \u001b[0;34m1.4742%\u001b[0m covered out of 314181\n",
      "\t\tMake \u001b[1mcollege_educated = 1, parents = 1, homeowner = 0, age = 55-64, income = Unknown\u001b[0m with correctness \u001b[0;32m100.0000%\u001b[0m.\n",
      "\t\tMake \u001b[1mcollege_educated = 1, parents = 1, homeowner = 0, age = 55-64, income = <100K\u001b[0m with correctness \u001b[0;32m100.0000%\u001b[0m.\n",
      "\t\tMake \u001b[1mcollege_educated = 1, parents = 1, homeowner = 1, age = 45-54, income = Unknown\u001b[0m with correctness \u001b[0;32m10.5394%\u001b[0m.\n",
      "\t\tMake \u001b[1mcollege_educated = 1, parents = 1, homeowner = 0, age = 45-54, income = Unknown\u001b[0m with correctness \u001b[0;32m100.0000%\u001b[0m.\n",
      "\tSubgroup '\u001b[1mUnknown\u001b[0m', \u001b[0;34m1.4598%\u001b[0m covered out of 528824\n",
      "\t\tMake \u001b[1mcollege_educated = 1, parents = 1, homeowner = 0, age = 55-64, income = Unknown\u001b[0m with correctness \u001b[0;32m100.0000%\u001b[0m.\n",
      "\t\tMake \u001b[1mcollege_educated = 1, parents = 1, homeowner = 0, age = 55-64, income = <100K\u001b[0m with correctness \u001b[0;32m100.0000%\u001b[0m.\n",
      "\t\tMake \u001b[1mcollege_educated = 1, parents = 1, homeowner = 1, age = 45-54, income = Unknown\u001b[0m with correctness \u001b[0;32m8.6112%\u001b[0m.\n",
      "\t\tMake \u001b[1mcollege_educated = 1, parents = 1, homeowner = 0, age = 45-54, income = Unknown\u001b[0m with correctness \u001b[0;32m100.0000%\u001b[0m.\n",
      "If \u001b[1mcollege_educated = 1, homeowner = 1, area = Unknown, age = 55-64, income = <100K\u001b[0m:\n",
      "\tSubgroup '\u001b[1mF\u001b[0m', \u001b[0;34m1.1906%\u001b[0m covered out of 600135\n",
      "\t\tMake \u001b[1mcollege_educated = 1, homeowner = 0, area = Unknown, age = 55-64, income = Unknown\u001b[0m with correctness \u001b[0;32m0.0000%\u001b[0m.\n",
      "\t\tMake \u001b[1mcollege_educated = 1, homeowner = 0, area = Unknown, age = 55-64, income = <100K\u001b[0m with correctness \u001b[0;32m0.0000%\u001b[0m.\n",
      "\t\tMake \u001b[1mcollege_educated = 0, homeowner = 0, area = Unknown, age = 55-64, income = Unknown\u001b[0m with correctness \u001b[0;32m94.4284%\u001b[0m.\n",
      "\tSubgroup '\u001b[1mM\u001b[0m', \u001b[0;34m1.4033%\u001b[0m covered out of 314181\n",
      "\t\tMake \u001b[1mcollege_educated = 1, homeowner = 0, area = Unknown, age = 55-64, income = Unknown\u001b[0m with correctness \u001b[0;32m93.9843%\u001b[0m.\n",
      "\t\tMake \u001b[1mcollege_educated = 1, homeowner = 0, area = Unknown, age = 55-64, income = <100K\u001b[0m with correctness \u001b[0;32m93.9843%\u001b[0m.\n",
      "\t\tMake \u001b[1mcollege_educated = 0, homeowner = 0, area = Unknown, age = 55-64, income = Unknown\u001b[0m with correctness \u001b[0;32m93.9843%\u001b[0m.\n",
      "\tSubgroup '\u001b[1mUnknown\u001b[0m', \u001b[0;34m1.3864%\u001b[0m covered out of 528824\n",
      "\t\tMake \u001b[1mcollege_educated = 1, homeowner = 0, area = Unknown, age = 55-64, income = Unknown\u001b[0m with correctness \u001b[0;32m95.0734%\u001b[0m.\n",
      "\t\tMake \u001b[1mcollege_educated = 1, homeowner = 0, area = Unknown, age = 55-64, income = <100K\u001b[0m with correctness \u001b[0;32m95.0734%\u001b[0m.\n",
      "\t\tMake \u001b[1mcollege_educated = 0, homeowner = 0, area = Unknown, age = 55-64, income = Unknown\u001b[0m with correctness \u001b[0;32m95.0734%\u001b[0m.\n",
      "If \u001b[1mparents = 0, homeowner = 1, age = 55-64, area = Urban\u001b[0m:\n",
      "\tSubgroup '\u001b[1mF\u001b[0m', \u001b[0;34m1.1306%\u001b[0m covered out of 600135\n",
      "\t\tMake \u001b[1mparents = 1, homeowner = 1, age = 45-54, area = Urban\u001b[0m with correctness \u001b[0;32m5.1593%\u001b[0m.\n",
      "\t\tMake \u001b[1mparents = 1, homeowner = 0, age = 45-54, area = Unknown\u001b[0m with correctness \u001b[0;32m99.6459%\u001b[0m.\n",
      "\tSubgroup '\u001b[1mM\u001b[0m', \u001b[0;34m1.2834%\u001b[0m covered out of 314181\n",
      "\t\tMake \u001b[1mparents = 1, homeowner = 1, age = 45-54, area = Urban\u001b[0m with correctness \u001b[0;32m99.5234%\u001b[0m.\n",
      "\t\tMake \u001b[1mparents = 1, homeowner = 0, age = 45-54, area = Unknown\u001b[0m with correctness \u001b[0;32m99.5234%\u001b[0m.\n",
      "\tSubgroup '\u001b[1mUnknown\u001b[0m', \u001b[0;34m1.2331%\u001b[0m covered out of 528824\n",
      "\t\tMake \u001b[1mparents = 1, homeowner = 1, age = 45-54, area = Urban\u001b[0m with correctness \u001b[0;32m99.4697%\u001b[0m.\n",
      "\t\tMake \u001b[1mparents = 1, homeowner = 0, age = 45-54, area = Unknown\u001b[0m with correctness \u001b[0;32m99.5286%\u001b[0m.\n",
      "If \u001b[1mhomeowner = 1, age = 55-64\u001b[0m:\n",
      "\tSubgroup '\u001b[1mF\u001b[0m', \u001b[0;34m84.5096%\u001b[0m covered out of 600135\n",
      "\t\tMake \u001b[1mhomeowner = 0, age = 55-64\u001b[0m with correctness \u001b[0;32m31.7264%\u001b[0m.\n",
      "\t\tMake \u001b[1mhomeowner = 1, age = 45-54\u001b[0m with correctness \u001b[0;32m1.3114%\u001b[0m.\n",
      "\t\tMake \u001b[1mhomeowner = 0, age = 45-54\u001b[0m with correctness \u001b[0;32m94.9863%\u001b[0m.\n",
      "\tSubgroup '\u001b[1mM\u001b[0m', \u001b[0;34m93.8070%\u001b[0m covered out of 314181\n",
      "\t\tMake \u001b[1mhomeowner = 0, age = 55-64\u001b[0m with correctness \u001b[0;32m94.8941%\u001b[0m.\n",
      "\t\tMake \u001b[1mhomeowner = 1, age = 45-54\u001b[0m with correctness \u001b[0;32m30.6015%\u001b[0m.\n",
      "\t\tMake \u001b[1mhomeowner = 0, age = 45-54\u001b[0m with correctness \u001b[0;32m95.4053%\u001b[0m.\n",
      "\tSubgroup '\u001b[1mUnknown\u001b[0m', \u001b[0;34m93.7374%\u001b[0m covered out of 528824\n",
      "\t\tMake \u001b[1mhomeowner = 0, age = 55-64\u001b[0m with correctness \u001b[0;32m94.8972%\u001b[0m.\n",
      "\t\tMake \u001b[1mhomeowner = 1, age = 45-54\u001b[0m with correctness \u001b[0;32m22.2802%\u001b[0m.\n",
      "\t\tMake \u001b[1mhomeowner = 0, age = 45-54\u001b[0m with correctness \u001b[0;32m95.4778%\u001b[0m.\n",
      "If \u001b[1mhomeowner = 1, college_educated = 1\u001b[0m:\n",
      "\tSubgroup '\u001b[1mF\u001b[0m', \u001b[0;34m83.7839%\u001b[0m covered out of 600135\n",
      "\t\tMake \u001b[1mhomeowner = 0, college_educated = 1\u001b[0m with correctness \u001b[0;32m28.4259%\u001b[0m.\n",
      "\t\tMake \u001b[1mhomeowner = 1, college_educated = 0\u001b[0m with correctness \u001b[0;32m0.4464%\u001b[0m.\n",
      "\t\tMake \u001b[1mhomeowner = 0, college_educated = 0\u001b[0m with correctness \u001b[0;32m90.7847%\u001b[0m.\n",
      "\tSubgroup '\u001b[1mM\u001b[0m', \u001b[0;34m93.7911%\u001b[0m covered out of 314181\n",
      "\t\tMake \u001b[1mhomeowner = 0, college_educated = 1\u001b[0m with correctness \u001b[0;32m92.7618%\u001b[0m.\n",
      "\t\tMake \u001b[1mhomeowner = 1, college_educated = 0\u001b[0m with correctness \u001b[0;32m23.2563%\u001b[0m.\n",
      "\t\tMake \u001b[1mhomeowner = 0, college_educated = 0\u001b[0m with correctness \u001b[0;32m93.2745%\u001b[0m.\n",
      "\tSubgroup '\u001b[1mUnknown\u001b[0m', \u001b[0;34m93.7149%\u001b[0m covered out of 528824\n",
      "\t\tMake \u001b[1mhomeowner = 0, college_educated = 1\u001b[0m with correctness \u001b[0;32m92.7738%\u001b[0m.\n",
      "\t\tMake \u001b[1mhomeowner = 1, college_educated = 0\u001b[0m with correctness \u001b[0;32m21.9506%\u001b[0m.\n",
      "\t\tMake \u001b[1mhomeowner = 0, college_educated = 0\u001b[0m with correctness \u001b[0;32m93.1553%\u001b[0m.\n",
      "If \u001b[1mparents = 1, homeowner = 1, age = 55-64\u001b[0m:\n",
      "\tSubgroup '\u001b[1mF\u001b[0m', \u001b[0;34m79.9963%\u001b[0m covered out of 600135\n",
      "\t\tMake \u001b[1mparents = 1, homeowner = 0, age = 55-64\u001b[0m with correctness \u001b[0;32m33.4441%\u001b[0m.\n",
      "\t\tMake \u001b[1mparents = 1, homeowner = 1, age = 45-54\u001b[0m with correctness \u001b[0;32m1.3854%\u001b[0m.\n",
      "\t\tMake \u001b[1mparents = 1, homeowner = 0, age = 45-54\u001b[0m with correctness \u001b[0;32m98.9234%\u001b[0m.\n",
      "\tSubgroup '\u001b[1mM\u001b[0m', \u001b[0;34m88.6931%\u001b[0m covered out of 314181\n",
      "\t\tMake \u001b[1mparents = 1, homeowner = 0, age = 55-64\u001b[0m with correctness \u001b[0;32m98.9075%\u001b[0m.\n",
      "\t\tMake \u001b[1mparents = 1, homeowner = 1, age = 45-54\u001b[0m with correctness \u001b[0;32m32.3659%\u001b[0m.\n",
      "\t\tMake \u001b[1mparents = 1, homeowner = 0, age = 45-54\u001b[0m with correctness \u001b[0;32m98.9793%\u001b[0m.\n",
      "\tSubgroup '\u001b[1mUnknown\u001b[0m', \u001b[0;34m88.7318%\u001b[0m covered out of 528824\n",
      "\t\tMake \u001b[1mparents = 1, homeowner = 0, age = 55-64\u001b[0m with correctness \u001b[0;32m98.8626%\u001b[0m.\n",
      "\t\tMake \u001b[1mparents = 1, homeowner = 1, age = 45-54\u001b[0m with correctness \u001b[0;32m23.5371%\u001b[0m.\n",
      "\t\tMake \u001b[1mparents = 1, homeowner = 0, age = 45-54\u001b[0m with correctness \u001b[0;32m98.9445%\u001b[0m.\n",
      "If \u001b[1mhomeowner = 1, college_educated = 1, age = 55-64\u001b[0m:\n",
      "\tSubgroup '\u001b[1mF\u001b[0m', \u001b[0;34m79.7207%\u001b[0m covered out of 600135\n",
      "\t\tMake \u001b[1mhomeowner = 0, college_educated = 1, age = 55-64\u001b[0m with correctness \u001b[0;32m27.9924%\u001b[0m.\n",
      "\t\tMake \u001b[1mhomeowner = 1, college_educated = 0, age = 55-64\u001b[0m with correctness \u001b[0;32m0.0000%\u001b[0m.\n",
      "\t\tMake \u001b[1mhomeowner = 0, college_educated = 0, age = 55-64\u001b[0m with correctness \u001b[0;32m93.5274%\u001b[0m.\n",
      "\tSubgroup '\u001b[1mM\u001b[0m', \u001b[0;34m89.7538%\u001b[0m covered out of 314181\n",
      "\t\tMake \u001b[1mhomeowner = 0, college_educated = 1, age = 55-64\u001b[0m with correctness \u001b[0;32m94.9171%\u001b[0m.\n",
      "\t\tMake \u001b[1mhomeowner = 1, college_educated = 0, age = 55-64\u001b[0m with correctness \u001b[0;32m23.1193%\u001b[0m.\n",
      "\t\tMake \u001b[1mhomeowner = 0, college_educated = 0, age = 55-64\u001b[0m with correctness \u001b[0;32m95.1992%\u001b[0m.\n",
      "\tSubgroup '\u001b[1mUnknown\u001b[0m', \u001b[0;34m89.5870%\u001b[0m covered out of 528824\n",
      "\t\tMake \u001b[1mhomeowner = 0, college_educated = 1, age = 55-64\u001b[0m with correctness \u001b[0;32m94.9528%\u001b[0m.\n",
      "\t\tMake \u001b[1mhomeowner = 1, college_educated = 0, age = 55-64\u001b[0m with correctness \u001b[0;32m22.8574%\u001b[0m.\n",
      "\t\tMake \u001b[1mhomeowner = 0, college_educated = 0, age = 55-64\u001b[0m with correctness \u001b[0;32m95.2723%\u001b[0m.\n",
      "If \u001b[1mparents = 1, homeowner = 1, college_educated = 1\u001b[0m:\n",
      "\tSubgroup '\u001b[1mF\u001b[0m', \u001b[0;34m79.2083%\u001b[0m covered out of 600135\n",
      "\t\tMake \u001b[1mparents = 1, homeowner = 0, college_educated = 1\u001b[0m with correctness \u001b[0;32m29.9446%\u001b[0m.\n",
      "\t\tMake \u001b[1mparents = 1, homeowner = 1, college_educated = 0\u001b[0m with correctness \u001b[0;32m0.4440%\u001b[0m.\n",
      "\t\tMake \u001b[1mparents = 1, homeowner = 0, college_educated = 0\u001b[0m with correctness \u001b[0;32m94.5670%\u001b[0m.\n",
      "\tSubgroup '\u001b[1mM\u001b[0m', \u001b[0;34m88.6540%\u001b[0m covered out of 314181\n",
      "\t\tMake \u001b[1mparents = 1, homeowner = 0, college_educated = 1\u001b[0m with correctness \u001b[0;32m96.6521%\u001b[0m.\n",
      "\t\tMake \u001b[1mparents = 1, homeowner = 1, college_educated = 0\u001b[0m with correctness \u001b[0;32m24.5998%\u001b[0m.\n",
      "\t\tMake \u001b[1mparents = 1, homeowner = 0, college_educated = 0\u001b[0m with correctness \u001b[0;32m96.8729%\u001b[0m.\n",
      "\tSubgroup '\u001b[1mUnknown\u001b[0m', \u001b[0;34m88.7071%\u001b[0m covered out of 528824\n",
      "\t\tMake \u001b[1mparents = 1, homeowner = 0, college_educated = 1\u001b[0m with correctness \u001b[0;32m96.6187%\u001b[0m.\n",
      "\t\tMake \u001b[1mparents = 1, homeowner = 1, college_educated = 0\u001b[0m with correctness \u001b[0;32m23.1881%\u001b[0m.\n",
      "\t\tMake \u001b[1mparents = 1, homeowner = 0, college_educated = 0\u001b[0m with correctness \u001b[0;32m96.6548%\u001b[0m.\n",
      "\n"
     ]
    }
   ],
   "source": [
    "rules_max_costdiff_sorted_gender = lib2.sort_triples_by_max_costdiff_ignore_nans_infs(\n",
    "    rules_by_if,\n",
    "    params=params,\n",
    "    group_calculator=lib2.if_group_cost_max_change_correctness_threshold,\n",
    "    cor_thres=0.5\n",
    ")\n",
    "\n",
    "pop_sizes = {sg: (ad_conversion_dataset[\"gender\"] == sg).sum() for sg in ad_conversion_dataset[\"gender\"].unique()}\n",
    "print(recourse_report_reverse(\n",
    "    rules_max_costdiff_sorted_gender[:K],\n",
    "    population_sizes = pop_sizes\n",
    "))"
   ]
  },
  {
   "cell_type": "code",
   "execution_count": null,
   "id": "fa5c7884-24e1-4956-9eab-2e300f905467",
   "metadata": {},
   "outputs": [],
   "source": []
  }
 ],
 "metadata": {
  "kernelspec": {
   "display_name": "Python 3 (ipykernel)",
   "language": "python",
   "name": "python3"
  },
  "language_info": {
   "codemirror_mode": {
    "name": "ipython",
    "version": 3
   },
   "file_extension": ".py",
   "mimetype": "text/x-python",
   "name": "python",
   "nbconvert_exporter": "python",
   "pygments_lexer": "ipython3",
   "version": "3.9.15"
  }
 },
 "nbformat": 4,
 "nbformat_minor": 5
}
