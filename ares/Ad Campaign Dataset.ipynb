{
 "cells": [
  {
   "cell_type": "markdown",
   "id": "a4164f0d",
   "metadata": {},
   "source": [
    "## Import libraries"
   ]
  },
  {
   "cell_type": "code",
   "execution_count": 1,
   "id": "50536eb3",
   "metadata": {
    "tags": []
   },
   "outputs": [],
   "source": [
    "import pandas as pd\n",
    "import numpy as np\n",
    "from pprint import pprint\n",
    "\n",
    "from sklearn.model_selection import train_test_split\n",
    "from sklearn.metrics import classification_report, confusion_matrix, ConfusionMatrixDisplay\n",
    "\n",
    "from models import customLogisticRegression\n",
    "from parameters import ParameterProxy\n",
    "from lib2 import valid_ifthens_with_coverage_correctness, rules2rulesbyif\n",
    "import lib2\n",
    "from formatting import recourse_report_reverse\n",
    "\n",
    "import matplotlib.pyplot as plt\n",
    "\n",
    "from IPython.display import Markdown, display"
   ]
  },
  {
   "cell_type": "code",
   "execution_count": 2,
   "id": "99fb977c",
   "metadata": {
    "tags": []
   },
   "outputs": [],
   "source": [
    "DATAFILE = '../ad_campaign_data.csv' # location of dataset\n",
    "random_state = None # change to something for exactly reproducible results\n",
    "\n",
    "# as selected in \"tutorial_bias_advertising\" notebook\n",
    "selected_features = ['gender', 'parents', 'age', 'income', 'area', 'college_educated', 'homeowner']\n",
    "cate_features = ['gender', 'parents', 'age', 'income', 'area', 'college_educated']\n",
    "num_features = ['homeowner']\n",
    "\n",
    "# if not specified, set to 1\n",
    "feature_weights = {\"gender\": 1, \"parents\": 1, \"age\": 1}\n",
    "\n",
    "target_name = \"true_conversion\"\n",
    "positive_label = 1\n",
    "negative_label = 0\n",
    "\n",
    "model_train_fraction = 0.7\n",
    "learning_class_weights = {0: 0.5, 1: 265}\n",
    "\n",
    "sensitive_attribute = \"gender\""
   ]
  },
  {
   "cell_type": "markdown",
   "id": "7f50c922",
   "metadata": {},
   "source": [
    "## Load Dataset"
   ]
  },
  {
   "cell_type": "code",
   "execution_count": 3,
   "id": "7ec3f668",
   "metadata": {
    "tags": []
   },
   "outputs": [
    {
     "data": {
      "text/html": [
       "<div>\n",
       "<style scoped>\n",
       "    .dataframe tbody tr th:only-of-type {\n",
       "        vertical-align: middle;\n",
       "    }\n",
       "\n",
       "    .dataframe tbody tr th {\n",
       "        vertical-align: top;\n",
       "    }\n",
       "\n",
       "    .dataframe thead th {\n",
       "        text-align: right;\n",
       "    }\n",
       "</style>\n",
       "<table border=\"1\" class=\"dataframe\">\n",
       "  <thead>\n",
       "    <tr style=\"text-align: right;\">\n",
       "      <th></th>\n",
       "      <th>religion</th>\n",
       "      <th>politics</th>\n",
       "      <th>college_educated</th>\n",
       "      <th>parents</th>\n",
       "      <th>homeowner</th>\n",
       "      <th>gender</th>\n",
       "      <th>age</th>\n",
       "      <th>income</th>\n",
       "      <th>area</th>\n",
       "      <th>true_conversion</th>\n",
       "      <th>predicted_conversion</th>\n",
       "      <th>predicted_probability</th>\n",
       "    </tr>\n",
       "  </thead>\n",
       "  <tbody>\n",
       "    <tr>\n",
       "      <th>0</th>\n",
       "      <td>Unknown</td>\n",
       "      <td>Unknown</td>\n",
       "      <td>1</td>\n",
       "      <td>1</td>\n",
       "      <td>1</td>\n",
       "      <td>Unknown</td>\n",
       "      <td>55-64</td>\n",
       "      <td>Unknown</td>\n",
       "      <td>Unknown</td>\n",
       "      <td>0</td>\n",
       "      <td>0</td>\n",
       "      <td>0.001351</td>\n",
       "    </tr>\n",
       "    <tr>\n",
       "      <th>1</th>\n",
       "      <td>Other</td>\n",
       "      <td>Unknown</td>\n",
       "      <td>1</td>\n",
       "      <td>1</td>\n",
       "      <td>1</td>\n",
       "      <td>Unknown</td>\n",
       "      <td>55-64</td>\n",
       "      <td>Unknown</td>\n",
       "      <td>Urban</td>\n",
       "      <td>0</td>\n",
       "      <td>0</td>\n",
       "      <td>0.002238</td>\n",
       "    </tr>\n",
       "    <tr>\n",
       "      <th>2</th>\n",
       "      <td>Unknown</td>\n",
       "      <td>Unknown</td>\n",
       "      <td>1</td>\n",
       "      <td>1</td>\n",
       "      <td>1</td>\n",
       "      <td>F</td>\n",
       "      <td>55-64</td>\n",
       "      <td>Unknown</td>\n",
       "      <td>Unknown</td>\n",
       "      <td>0</td>\n",
       "      <td>0</td>\n",
       "      <td>0.002704</td>\n",
       "    </tr>\n",
       "    <tr>\n",
       "      <th>3</th>\n",
       "      <td>Unknown</td>\n",
       "      <td>Unknown</td>\n",
       "      <td>1</td>\n",
       "      <td>1</td>\n",
       "      <td>1</td>\n",
       "      <td>F</td>\n",
       "      <td>55-64</td>\n",
       "      <td>Unknown</td>\n",
       "      <td>Unknown</td>\n",
       "      <td>0</td>\n",
       "      <td>0</td>\n",
       "      <td>0.001967</td>\n",
       "    </tr>\n",
       "    <tr>\n",
       "      <th>4</th>\n",
       "      <td>Unknown</td>\n",
       "      <td>Unknown</td>\n",
       "      <td>1</td>\n",
       "      <td>1</td>\n",
       "      <td>1</td>\n",
       "      <td>F</td>\n",
       "      <td>55-64</td>\n",
       "      <td>Unknown</td>\n",
       "      <td>Urban</td>\n",
       "      <td>0</td>\n",
       "      <td>0</td>\n",
       "      <td>0.001681</td>\n",
       "    </tr>\n",
       "  </tbody>\n",
       "</table>\n",
       "</div>"
      ],
      "text/plain": [
       "  religion politics  college_educated  parents  homeowner   gender    age  \\\n",
       "0  Unknown  Unknown                 1        1          1  Unknown  55-64   \n",
       "1    Other  Unknown                 1        1          1  Unknown  55-64   \n",
       "2  Unknown  Unknown                 1        1          1        F  55-64   \n",
       "3  Unknown  Unknown                 1        1          1        F  55-64   \n",
       "4  Unknown  Unknown                 1        1          1        F  55-64   \n",
       "\n",
       "    income     area  true_conversion  predicted_conversion  \\\n",
       "0  Unknown  Unknown                0                     0   \n",
       "1  Unknown    Urban                0                     0   \n",
       "2  Unknown  Unknown                0                     0   \n",
       "3  Unknown  Unknown                0                     0   \n",
       "4  Unknown    Urban                0                     0   \n",
       "\n",
       "   predicted_probability  \n",
       "0               0.001351  \n",
       "1               0.002238  \n",
       "2               0.002704  \n",
       "3               0.001967  \n",
       "4               0.001681  "
      ]
     },
     "execution_count": 3,
     "metadata": {},
     "output_type": "execute_result"
    }
   ],
   "source": [
    "ad_conversion_dataset = pd.read_csv(DATAFILE)\n",
    "ad_conversion_dataset.head()"
   ]
  },
  {
   "cell_type": "markdown",
   "id": "c01544c3",
   "metadata": {},
   "source": [
    "### Print some statistics for the dataset"
   ]
  },
  {
   "cell_type": "code",
   "execution_count": 4,
   "id": "3710bcf3",
   "metadata": {
    "tags": []
   },
   "outputs": [
    {
     "name": "stdout",
     "output_type": "stream",
     "text": [
      "Number of (instances, attributes) in the dataset = (1443140, 12)\n",
      "\n",
      "Statistics of true conversions (0=no, 1=yes)\n",
      "0    1440766\n",
      "1       2374\n",
      "Name: true_conversion, dtype: int64\n",
      "\n",
      "Statistics of predicted conversions (0=no, 1=yes)\n",
      "0    1440773\n",
      "1       2367\n",
      "Name: predicted_conversion, dtype: int64\n"
     ]
    }
   ],
   "source": [
    "print(f\"Number of (instances, attributes) in the dataset = {ad_conversion_dataset.shape}\")\n",
    "print()\n",
    "\n",
    "print(f\"Statistics of true conversions (0=no, 1=yes)\")\n",
    "print(ad_conversion_dataset.true_conversion.value_counts())\n",
    "print()\n",
    "\n",
    "print(f\"Statistics of predicted conversions (0=no, 1=yes)\")\n",
    "print(ad_conversion_dataset.predicted_conversion.value_counts())"
   ]
  },
  {
   "cell_type": "markdown",
   "id": "6774262f",
   "metadata": {},
   "source": [
    "### Warning!\n",
    "\n",
    "There is no model!\n",
    "\n",
    "Predictions (from whatever model has been used) have been incorporated into the dataset, in the columns \"predicted_conversion\" (which is the predicted label) and \"predicted_probability\" (which is the predicted probability of belonging to the positive class).\n",
    "\n",
    "Moreover, the dataset is highly unbalanced, and this is also evident in the poor efficiency of the model, as demonstrated in the confusion matrix below."
   ]
  },
  {
   "cell_type": "code",
   "execution_count": 5,
   "id": "03eb55a7-2240-4244-8c9e-c005e36e8f0f",
   "metadata": {
    "tags": []
   },
   "outputs": [
    {
     "data": {
      "image/png": "[encoded data removed]",
      "text/plain": [
       "<Figure size 640x480 with 2 Axes>"
      ]
     },
     "metadata": {},
     "output_type": "display_data"
    }
   ],
   "source": [
    "conf_matrix = confusion_matrix(ad_conversion_dataset.true_conversion, ad_conversion_dataset.predicted_conversion)\n",
    "cm_disp = ConfusionMatrixDisplay(confusion_matrix=conf_matrix)\n",
    "cm_disp.plot()\n",
    "plt.show()"
   ]
  },
  {
   "cell_type": "markdown",
   "id": "5f1b33fa-c6c9-4770-8123-0f69f918e265",
   "metadata": {},
   "source": [
    "# Preprocessing"
   ]
  },
  {
   "cell_type": "code",
   "execution_count": 6,
   "id": "8ee07f88",
   "metadata": {
    "tags": []
   },
   "outputs": [
    {
     "data": {
      "text/html": [
       "<div>\n",
       "<style scoped>\n",
       "    .dataframe tbody tr th:only-of-type {\n",
       "        vertical-align: middle;\n",
       "    }\n",
       "\n",
       "    .dataframe tbody tr th {\n",
       "        vertical-align: top;\n",
       "    }\n",
       "\n",
       "    .dataframe thead th {\n",
       "        text-align: right;\n",
       "    }\n",
       "</style>\n",
       "<table border=\"1\" class=\"dataframe\">\n",
       "  <thead>\n",
       "    <tr style=\"text-align: right;\">\n",
       "      <th></th>\n",
       "      <th>gender</th>\n",
       "      <th>parents</th>\n",
       "      <th>age</th>\n",
       "      <th>income</th>\n",
       "      <th>area</th>\n",
       "      <th>college_educated</th>\n",
       "      <th>homeowner</th>\n",
       "      <th>true_conversion</th>\n",
       "    </tr>\n",
       "  </thead>\n",
       "  <tbody>\n",
       "    <tr>\n",
       "      <th>0</th>\n",
       "      <td>Unknown</td>\n",
       "      <td>1</td>\n",
       "      <td>55-64</td>\n",
       "      <td>Unknown</td>\n",
       "      <td>Unknown</td>\n",
       "      <td>1</td>\n",
       "      <td>1</td>\n",
       "      <td>0</td>\n",
       "    </tr>\n",
       "    <tr>\n",
       "      <th>1</th>\n",
       "      <td>Unknown</td>\n",
       "      <td>1</td>\n",
       "      <td>55-64</td>\n",
       "      <td>Unknown</td>\n",
       "      <td>Urban</td>\n",
       "      <td>1</td>\n",
       "      <td>1</td>\n",
       "      <td>0</td>\n",
       "    </tr>\n",
       "    <tr>\n",
       "      <th>2</th>\n",
       "      <td>F</td>\n",
       "      <td>1</td>\n",
       "      <td>55-64</td>\n",
       "      <td>Unknown</td>\n",
       "      <td>Unknown</td>\n",
       "      <td>1</td>\n",
       "      <td>1</td>\n",
       "      <td>0</td>\n",
       "    </tr>\n",
       "    <tr>\n",
       "      <th>3</th>\n",
       "      <td>F</td>\n",
       "      <td>1</td>\n",
       "      <td>55-64</td>\n",
       "      <td>Unknown</td>\n",
       "      <td>Unknown</td>\n",
       "      <td>1</td>\n",
       "      <td>1</td>\n",
       "      <td>0</td>\n",
       "    </tr>\n",
       "    <tr>\n",
       "      <th>4</th>\n",
       "      <td>F</td>\n",
       "      <td>1</td>\n",
       "      <td>55-64</td>\n",
       "      <td>Unknown</td>\n",
       "      <td>Urban</td>\n",
       "      <td>1</td>\n",
       "      <td>1</td>\n",
       "      <td>0</td>\n",
       "    </tr>\n",
       "    <tr>\n",
       "      <th>...</th>\n",
       "      <td>...</td>\n",
       "      <td>...</td>\n",
       "      <td>...</td>\n",
       "      <td>...</td>\n",
       "      <td>...</td>\n",
       "      <td>...</td>\n",
       "      <td>...</td>\n",
       "      <td>...</td>\n",
       "    </tr>\n",
       "    <tr>\n",
       "      <th>1443135</th>\n",
       "      <td>F</td>\n",
       "      <td>1</td>\n",
       "      <td>25-34</td>\n",
       "      <td>Unknown</td>\n",
       "      <td>Unknown</td>\n",
       "      <td>1</td>\n",
       "      <td>1</td>\n",
       "      <td>0</td>\n",
       "    </tr>\n",
       "    <tr>\n",
       "      <th>1443136</th>\n",
       "      <td>F</td>\n",
       "      <td>1</td>\n",
       "      <td>55-64</td>\n",
       "      <td>Unknown</td>\n",
       "      <td>Unknown</td>\n",
       "      <td>1</td>\n",
       "      <td>0</td>\n",
       "      <td>0</td>\n",
       "    </tr>\n",
       "    <tr>\n",
       "      <th>1443137</th>\n",
       "      <td>Unknown</td>\n",
       "      <td>1</td>\n",
       "      <td>55-64</td>\n",
       "      <td>Unknown</td>\n",
       "      <td>Unknown</td>\n",
       "      <td>1</td>\n",
       "      <td>1</td>\n",
       "      <td>0</td>\n",
       "    </tr>\n",
       "    <tr>\n",
       "      <th>1443138</th>\n",
       "      <td>F</td>\n",
       "      <td>1</td>\n",
       "      <td>55-64</td>\n",
       "      <td>Unknown</td>\n",
       "      <td>Unknown</td>\n",
       "      <td>1</td>\n",
       "      <td>1</td>\n",
       "      <td>0</td>\n",
       "    </tr>\n",
       "    <tr>\n",
       "      <th>1443139</th>\n",
       "      <td>F</td>\n",
       "      <td>1</td>\n",
       "      <td>55-64</td>\n",
       "      <td>Unknown</td>\n",
       "      <td>Unknown</td>\n",
       "      <td>1</td>\n",
       "      <td>1</td>\n",
       "      <td>0</td>\n",
       "    </tr>\n",
       "  </tbody>\n",
       "</table>\n",
       "<p>1443140 rows × 8 columns</p>\n",
       "</div>"
      ],
      "text/plain": [
       "          gender  parents    age   income     area  college_educated  \\\n",
       "0        Unknown        1  55-64  Unknown  Unknown                 1   \n",
       "1        Unknown        1  55-64  Unknown    Urban                 1   \n",
       "2              F        1  55-64  Unknown  Unknown                 1   \n",
       "3              F        1  55-64  Unknown  Unknown                 1   \n",
       "4              F        1  55-64  Unknown    Urban                 1   \n",
       "...          ...      ...    ...      ...      ...               ...   \n",
       "1443135        F        1  25-34  Unknown  Unknown                 1   \n",
       "1443136        F        1  55-64  Unknown  Unknown                 1   \n",
       "1443137  Unknown        1  55-64  Unknown  Unknown                 1   \n",
       "1443138        F        1  55-64  Unknown  Unknown                 1   \n",
       "1443139        F        1  55-64  Unknown  Unknown                 1   \n",
       "\n",
       "         homeowner  true_conversion  \n",
       "0                1                0  \n",
       "1                1                0  \n",
       "2                1                0  \n",
       "3                1                0  \n",
       "4                1                0  \n",
       "...            ...              ...  \n",
       "1443135          1                0  \n",
       "1443136          0                0  \n",
       "1443137          1                0  \n",
       "1443138          1                0  \n",
       "1443139          1                0  \n",
       "\n",
       "[1443140 rows x 8 columns]"
      ]
     },
     "execution_count": 6,
     "metadata": {},
     "output_type": "execute_result"
    }
   ],
   "source": [
    "## keep only the columns in selected_features, plus the label column\n",
    "ad_conversion_dataset = ad_conversion_dataset[selected_features + [target_name]]\n",
    "ad_conversion_dataset"
   ]
  },
  {
   "cell_type": "code",
   "execution_count": 7,
   "id": "e2d5162d",
   "metadata": {
    "tags": []
   },
   "outputs": [],
   "source": [
    "## train-test split\n",
    "\n",
    "X = ad_conversion_dataset.drop(target_name, axis=1)\n",
    "y = ad_conversion_dataset[target_name]\n",
    "\n",
    "X_train, X_test, y_train, y_test = train_test_split(X, y, train_size=model_train_fraction, random_state=random_state, stratify=y)\n",
    "\n",
    "X_train = X_train.reset_index(drop=True)\n",
    "X_test = X_test.reset_index(drop=True)\n",
    "y_train = y_train.reset_index(drop=True)\n",
    "y_test = y_test.reset_index(drop=True)"
   ]
  },
  {
   "cell_type": "markdown",
   "id": "17c32fa1-337a-45e0-ae5c-914575a2cbb6",
   "metadata": {},
   "source": [
    "# Model training"
   ]
  },
  {
   "cell_type": "code",
   "execution_count": 8,
   "id": "d613bdf8",
   "metadata": {
    "tags": []
   },
   "outputs": [
    {
     "name": "stdout",
     "output_type": "stream",
     "text": [
      "CPU times: total: 5.36 s\n",
      "Wall time: 5.87 s\n"
     ]
    },
    {
     "data": {
      "text/plain": [
       "array([0., 0., 0., 0., 0., 0., 0., 0., 1., 0., 1., 0., 0., 0., 0., 0., 0.,\n",
       "       0., 0., 0., 0., 0., 1., 0., 0., 0., 0., 0., 0., 1., 0., 0., 0., 0.,\n",
       "       0., 0., 0., 1., 1., 0., 0., 0., 1., 0., 0., 1., 0., 0., 0., 0., 0.,\n",
       "       1., 1., 0., 0., 0., 0., 0., 0., 0., 0., 0., 0., 0., 0., 1., 0., 0.,\n",
       "       0., 1., 1., 0., 0., 0., 0., 0., 0., 1., 0., 0., 0., 0., 0., 0., 0.,\n",
       "       0., 0., 1., 0., 0., 1., 0., 0., 0., 1., 0., 0., 1., 0., 1.])"
      ]
     },
     "execution_count": 8,
     "metadata": {},
     "output_type": "execute_result"
    }
   ],
   "source": [
    "%%time\n",
    "\n",
    "model = customLogisticRegression(class_weight=learning_class_weights)\n",
    "model.fit(X_train, y_train, cate_columns=cate_features, target_column=target_name)\n",
    "model.predict(X_test.iloc[:100, :])"
   ]
  },
  {
   "cell_type": "markdown",
   "id": "13d583ac",
   "metadata": {},
   "source": [
    "# Testing the model\n",
    "\n",
    "We check if the model is satisfactory."
   ]
  },
  {
   "cell_type": "code",
   "execution_count": 9,
   "id": "2fbd7b2e",
   "metadata": {
    "tags": []
   },
   "outputs": [
    {
     "name": "stdout",
     "output_type": "stream",
     "text": [
      "              precision    recall  f1-score   support\n",
      "\n",
      "           0       1.00      0.83      0.91    432231\n",
      "           1       0.00      0.17      0.00       712\n",
      "\n",
      "    accuracy                           0.83    432943\n",
      "   macro avg       0.50      0.50      0.46    432943\n",
      "weighted avg       1.00      0.83      0.91    432943\n",
      "\n"
     ]
    }
   ],
   "source": [
    "preds = model.predict(X_test)\n",
    "print(classification_report(y_test.map({negative_label: 0, positive_label: 1}), preds))"
   ]
  },
  {
   "cell_type": "code",
   "execution_count": 10,
   "id": "a82b48f8-408b-43a0-99fc-c21ff8a63718",
   "metadata": {
    "tags": []
   },
   "outputs": [
    {
     "data": {
      "image/png": "[encoded data removed]",
      "text/plain": [
       "<Figure size 640x480 with 2 Axes>"
      ]
     },
     "metadata": {},
     "output_type": "display_data"
    }
   ],
   "source": [
    "conf_matrix = confusion_matrix(y_test, preds)\n",
    "cm_disp = ConfusionMatrixDisplay(confusion_matrix=conf_matrix)\n",
    "cm_disp.plot()\n",
    "plt.show()"
   ]
  },
  {
   "cell_type": "markdown",
   "id": "11452631",
   "metadata": {},
   "source": [
    "Given the high imbalance of the dataset, we consider that the above results, for a simple logistic regression, are good enough."
   ]
  },
  {
   "cell_type": "markdown",
   "id": "66bafa9b-95db-49c6-b116-9ebb65c13fc8",
   "metadata": {},
   "source": [
    "# Find all valid if-thens with all respective coverages and correctness, for all subgroups.\n",
    "\n",
    "**Caution!** This step takes time. Uncomment the following block if you wish to run."
   ]
  },
  {
   "cell_type": "code",
   "execution_count": 11,
   "id": "297d9256",
   "metadata": {
    "tags": []
   },
   "outputs": [
    {
     "name": "stderr",
     "output_type": "stream",
     "text": [
      "100%|████████████████████████████████████████████████████████████████████████████████| 299/299 [00:35<00:00,  8.51it/s]"
     ]
    },
    {
     "name": "stdout",
     "output_type": "stream",
     "text": [
      "Number of if-thens: 299\n"
     ]
    },
    {
     "name": "stderr",
     "output_type": "stream",
     "text": [
      "\n"
     ]
    }
   ],
   "source": [
    "ifthens_coverage_correctness = valid_ifthens_with_coverage_correctness(\n",
    "    X_test,\n",
    "    model,\n",
    "    sensitive_attribute,\n",
    "    missing_subgroup_val=\"Unknown\"\n",
    ")\n",
    "\n",
    "print(f\"Number of if-thens: {len(ifthens_coverage_correctness)}\")\n",
    "rules_by_if = rules2rulesbyif(ifthens_coverage_correctness)"
   ]
  },
  {
   "cell_type": "markdown",
   "id": "d17cb30e-0a36-43cb-9f95-2b2e93634e5a",
   "metadata": {},
   "source": [
    "Uncomment the following block if you wish to load rules object from disk."
   ]
  },
  {
   "cell_type": "code",
   "execution_count": 12,
   "id": "c22dbaba-1ccb-4db3-84de-21227328e07c",
   "metadata": {
    "tags": []
   },
   "outputs": [],
   "source": [
    "# import dill\n",
    "\n",
    "# with open(\"rules.data\", \"rb\") as inf:\n",
    "#     rules_by_if = dill.load(inf)"
   ]
  },
  {
   "cell_type": "code",
   "execution_count": 14,
   "id": "8a13da8a-e2a3-481f-9b1b-bc1803f4eccf",
   "metadata": {
    "tags": []
   },
   "outputs": [
    {
     "name": "stdout",
     "output_type": "stream",
     "text": [
      "If \u001b[1mcollege_educated = 1, income = Unknown, parents = 1, area = Unknown, age = 55-64\u001b[0m:\n",
      "\tSubgroup '\u001b[1mF\u001b[0m', \u001b[0;34m57.6912%\u001b[0m covered\n",
      "\t\tMake \u001b[1mcollege_educated = 1, income = Unknown, parents = 1, area = Urban, age = 55-64\u001b[0m with correctness \u001b[0;32m0.0000%\u001b[0m.\n",
      "\tSubgroup '\u001b[1mM\u001b[0m', \u001b[0;34m75.5021%\u001b[0m covered\n",
      "\t\tMake \u001b[1mcollege_educated = 1, income = Unknown, parents = 1, area = Urban, age = 55-64\u001b[0m with correctness \u001b[0;32m100.0000%\u001b[0m.\n",
      "If \u001b[1mparents = 1, age = 55-64, college_educated = 1, area = Unknown\u001b[0m:\n",
      "\tSubgroup '\u001b[1mF\u001b[0m', \u001b[0;34m60.5319%\u001b[0m covered\n",
      "\t\tMake \u001b[1mparents = 1, age = 55-64, college_educated = 1, area = Urban\u001b[0m with correctness \u001b[0;32m1.1058%\u001b[0m.\n",
      "\t\tMake \u001b[1mparents = 1, age = 55-64, college_educated = 1, area = Rural\u001b[0m with correctness \u001b[0;32m98.5437%\u001b[0m.\n",
      "\t\tMake \u001b[1mparents = 1, age = 55-64, college_educated = 0, area = Unknown\u001b[0m with correctness \u001b[0;32m0.0000%\u001b[0m.\n",
      "\tSubgroup '\u001b[1mM\u001b[0m', \u001b[0;34m78.4042%\u001b[0m covered\n",
      "\t\tMake \u001b[1mparents = 1, age = 55-64, college_educated = 1, area = Urban\u001b[0m with correctness \u001b[0;32m98.4569%\u001b[0m.\n",
      "\t\tMake \u001b[1mparents = 1, age = 55-64, college_educated = 1, area = Rural\u001b[0m with correctness \u001b[0;32m98.4569%\u001b[0m.\n",
      "\t\tMake \u001b[1mparents = 1, age = 55-64, college_educated = 0, area = Unknown\u001b[0m with correctness \u001b[0;32m0.0000%\u001b[0m.\n",
      "If \u001b[1mparents = 1, homeowner = 1, college_educated = 0, area = Unknown, age = 55-64\u001b[0m:\n",
      "\tSubgroup '\u001b[1mF\u001b[0m', \u001b[0;34m3.6036%\u001b[0m covered\n",
      "\t\tMake \u001b[1mparents = 1, homeowner = 0, college_educated = 0, area = Unknown, age = 55-64\u001b[0m with correctness \u001b[0;32m2.0580%\u001b[0m.\n",
      "\tSubgroup '\u001b[1mM\u001b[0m', \u001b[0;34m4.6089%\u001b[0m covered\n",
      "\t\tMake \u001b[1mparents = 1, homeowner = 0, college_educated = 0, area = Unknown, age = 55-64\u001b[0m with correctness \u001b[0;32m98.6349%\u001b[0m.\n",
      "If \u001b[1mparents = 0, college_educated = 1, homeowner = 1, area = Unknown, age = 55-64\u001b[0m:\n",
      "\tSubgroup '\u001b[1mF\u001b[0m', \u001b[0;34m3.4392%\u001b[0m covered\n",
      "\t\tMake \u001b[1mparents = 0, college_educated = 1, homeowner = 0, area = Unknown, age = 55-64\u001b[0m with correctness \u001b[0;32m2.3626%\u001b[0m.\n",
      "\tSubgroup '\u001b[1mM\u001b[0m', \u001b[0;34m4.4363%\u001b[0m covered\n",
      "\t\tMake \u001b[1mparents = 0, college_educated = 1, homeowner = 0, area = Unknown, age = 55-64\u001b[0m with correctness \u001b[0;32m98.2909%\u001b[0m.\n",
      "If \u001b[1mparents = 1, area = Urban, income = Unknown, college_educated = 0\u001b[0m:\n",
      "\tSubgroup '\u001b[1mF\u001b[0m', \u001b[0;34m1.3652%\u001b[0m covered\n",
      "\t\tMake \u001b[1mparents = 1, area = Urban, income = Unknown, college_educated = 1\u001b[0m with correctness \u001b[0;32m0.0000%\u001b[0m.\n",
      "\tSubgroup '\u001b[1mM\u001b[0m', \u001b[0;34m1.8068%\u001b[0m covered\n",
      "\t\tMake \u001b[1mparents = 1, area = Urban, income = Unknown, college_educated = 1\u001b[0m with correctness \u001b[0;32m95.4464%\u001b[0m.\n",
      "If \u001b[1mparents = 1, area = Urban, college_educated = 0\u001b[0m:\n",
      "\tSubgroup '\u001b[1mF\u001b[0m', \u001b[0;34m1.3820%\u001b[0m covered\n",
      "\t\tMake \u001b[1mparents = 1, area = Urban, college_educated = 1\u001b[0m with correctness \u001b[0;32m0.0000%\u001b[0m.\n",
      "\tSubgroup '\u001b[1mM\u001b[0m', \u001b[0;34m1.8423%\u001b[0m covered\n",
      "\t\tMake \u001b[1mparents = 1, area = Urban, college_educated = 1\u001b[0m with correctness \u001b[0;32m94.8336%\u001b[0m.\n",
      "If \u001b[1mparents = 1, area = Urban, homeowner = 1, college_educated = 0\u001b[0m:\n",
      "\tSubgroup '\u001b[1mF\u001b[0m', \u001b[0;34m1.3813%\u001b[0m covered\n",
      "\t\tMake \u001b[1mparents = 1, area = Urban, homeowner = 1, college_educated = 1\u001b[0m with correctness \u001b[0;32m0.0000%\u001b[0m.\n",
      "\tSubgroup '\u001b[1mM\u001b[0m', \u001b[0;34m1.8423%\u001b[0m covered\n",
      "\t\tMake \u001b[1mparents = 1, area = Urban, homeowner = 1, college_educated = 1\u001b[0m with correctness \u001b[0;32m94.8336%\u001b[0m.\n",
      "If \u001b[1mage = 55-64, income = Unknown, college_educated = 1, area = Unknown\u001b[0m:\n",
      "\tSubgroup '\u001b[1mF\u001b[0m', \u001b[0;34m61.5218%\u001b[0m covered\n",
      "\t\tMake \u001b[1mage = 55-64, income = Unknown, college_educated = 1, area = Urban\u001b[0m with correctness \u001b[0;32m0.8564%\u001b[0m.\n",
      "\t\tMake \u001b[1mage = 55-64, income = Unknown, college_educated = 1, area = Rural\u001b[0m with correctness \u001b[0;32m94.6300%\u001b[0m.\n",
      "\t\tMake \u001b[1mage = 55-64, income = <100K, college_educated = 1, area = Unknown\u001b[0m with correctness \u001b[0;32m0.8564%\u001b[0m.\n",
      "\tSubgroup '\u001b[1mM\u001b[0m', \u001b[0;34m79.7529%\u001b[0m covered\n",
      "\t\tMake \u001b[1mage = 55-64, income = Unknown, college_educated = 1, area = Urban\u001b[0m with correctness \u001b[0;32m94.6701%\u001b[0m.\n",
      "\t\tMake \u001b[1mage = 55-64, income = Unknown, college_educated = 1, area = Rural\u001b[0m with correctness \u001b[0;32m100.0000%\u001b[0m.\n",
      "\t\tMake \u001b[1mage = 55-64, income = <100K, college_educated = 1, area = Unknown\u001b[0m with correctness \u001b[0;32m0.0000%\u001b[0m.\n",
      "If \u001b[1mparents = 1, age = 55-64, income = Unknown, area = Unknown\u001b[0m:\n",
      "\tSubgroup '\u001b[1mF\u001b[0m', \u001b[0;34m61.7333%\u001b[0m covered\n",
      "\t\tMake \u001b[1mparents = 1, age = 55-64, income = Unknown, area = Urban\u001b[0m with correctness \u001b[0;32m0.9140%\u001b[0m.\n",
      "\t\tMake \u001b[1mparents = 1, age = 55-64, income = Unknown, area = Rural\u001b[0m with correctness \u001b[0;32m94.3663%\u001b[0m.\n",
      "\t\tMake \u001b[1mparents = 1, age = 55-64, income = <100K, area = Unknown\u001b[0m with correctness \u001b[0;32m0.9140%\u001b[0m.\n",
      "\tSubgroup '\u001b[1mM\u001b[0m', \u001b[0;34m79.9497%\u001b[0m covered\n",
      "\t\tMake \u001b[1mparents = 1, age = 55-64, income = Unknown, area = Urban\u001b[0m with correctness \u001b[0;32m94.4370%\u001b[0m.\n",
      "\t\tMake \u001b[1mparents = 1, age = 55-64, income = Unknown, area = Rural\u001b[0m with correctness \u001b[0;32m100.0000%\u001b[0m.\n",
      "\t\tMake \u001b[1mparents = 1, age = 55-64, income = <100K, area = Unknown\u001b[0m with correctness \u001b[0;32m0.0000%\u001b[0m.\n",
      "If \u001b[1mparents = 1, homeowner = 1, college_educated = 0, area = Unknown\u001b[0m:\n",
      "\tSubgroup '\u001b[1mF\u001b[0m', \u001b[0;34m3.8377%\u001b[0m covered\n",
      "\t\tMake \u001b[1mparents = 1, homeowner = 0, college_educated = 0, area = Unknown\u001b[0m with correctness \u001b[0;32m3.4112%\u001b[0m.\n",
      "\tSubgroup '\u001b[1mM\u001b[0m', \u001b[0;34m4.9202%\u001b[0m covered\n",
      "\t\tMake \u001b[1mparents = 1, homeowner = 0, college_educated = 0, area = Unknown\u001b[0m with correctness \u001b[0;32m95.6721%\u001b[0m.\n",
      "\n"
     ]
    }
   ],
   "source": [
    "K = 10\n",
    "\n",
    "# keep K ifs with maximum coverage on Females\n",
    "# TODO: the below is currently dataset dependent\n",
    "# rules_by_if_filtered = sorted(rules_by_if.items(), key=lambda e: e[1][\"F\"][0][1], reverse=True)[:K]\n",
    "\n",
    "# keep K ifs with maximum absolute difference in correctness between Males and Females.\n",
    "# TODO: the below is currently dataset dependent\n",
    "rules_by_if_filtered = sorted(rules_by_if.items(), key=lambda e: abs(e[1][\"M\"][1][0][1]-e[1][\"F\"][1][0][1]), reverse=True)[:K]\n",
    "\n",
    "rules_by_if_filtered = dict(rules_by_if_filtered)\n",
    "\n",
    "print(recourse_report_reverse(rules_by_if_filtered))"
   ]
  },
  {
   "cell_type": "code",
   "execution_count": 15,
   "id": "c3d9345a-d3f6-4db1-9fa2-887cf76c0149",
   "metadata": {},
   "outputs": [],
   "source": [
    "##### Uncomment if you wish to save rules object on disk\n",
    "\n",
    "# import dill\n",
    "\n",
    "# with open(\"rules.data\", \"wb\") as outf:\n",
    "#     dill.dump(rules_by_if, outf)"
   ]
  },
  {
   "cell_type": "markdown",
   "id": "680049be-1176-44d9-ba37-61b194dfb97f",
   "metadata": {},
   "source": [
    "# Filter rules by different scoring functions"
   ]
  },
  {
   "cell_type": "markdown",
   "id": "07e10fea-1fb4-4028-813a-e21b0767983f",
   "metadata": {},
   "source": [
    "Here, we explore more sophisticated ways of picking the \"top\" K rules and showing only those.\n",
    "\n",
    "We start ranking the rule \"groups\" (all recourses for a single \"if\") by averaging out the costs of all suggested recourses, weighted by the respective correctness. For now, the \"cost\" of a recourse is simply the number of features whose value changes (and the magnitude of the change for numerical features, but here there are none)."
   ]
  },
  {
   "cell_type": "code",
   "execution_count": 16,
   "id": "897fbfbd-1667-46e5-8015-fa43a1709905",
   "metadata": {
    "tags": []
   },
   "outputs": [],
   "source": [
    "comparators = lib2.naive_feature_change_builder(num_cols=num_features, cate_cols=cate_features, feature_weights=feature_weights)\n",
    "params = ParameterProxy(featureChanges=comparators)"
   ]
  },
  {
   "cell_type": "markdown",
   "id": "3083f9ee-9126-4cd4-a84a-5816e32e1cb8",
   "metadata": {},
   "source": [
    "## For each if-group, inner product of then costs and correctness-es, divided by the number of terms"
   ]
  },
  {
   "cell_type": "code",
   "execution_count": 17,
   "id": "401938ea-8579-4808-86a4-360994295330",
   "metadata": {
    "tags": []
   },
   "outputs": [
    {
     "name": "stdout",
     "output_type": "stream",
     "text": [
      "If \u001b[1mincome = Unknown, age = 25-34, homeowner = 1, area = Unknown\u001b[0m:\n",
      "\tSubgroup '\u001b[1mF\u001b[0m', \u001b[0;34m1.2762%\u001b[0m covered out of 600135\n",
      "\t\tMake \u001b[1mincome = Unknown, age = 55-64, homeowner = 1, area = Urban\u001b[0m with correctness \u001b[0;32m0.0000%\u001b[0m.\n",
      "\tSubgroup '\u001b[1mM\u001b[0m', \u001b[0;34m1.6535%\u001b[0m covered out of 314181\n",
      "\t\tMake \u001b[1mincome = Unknown, age = 55-64, homeowner = 1, area = Urban\u001b[0m with correctness \u001b[0;32m88.3902%\u001b[0m.\n",
      "If \u001b[1mparents = 1, college_educated = 1, homeowner = 1, income = Unknown\u001b[0m:\n",
      "\tSubgroup '\u001b[1mF\u001b[0m', \u001b[0;34m84.0050%\u001b[0m covered out of 600135\n",
      "\t\tMake \u001b[1mparents = 1, college_educated = 1, homeowner = 0, income = >100K\u001b[0m with correctness \u001b[0;32m25.6218%\u001b[0m.\n",
      "\tSubgroup '\u001b[1mM\u001b[0m', \u001b[0;34m82.2146%\u001b[0m covered out of 314181\n",
      "\t\tMake \u001b[1mparents = 1, college_educated = 1, homeowner = 0, income = >100K\u001b[0m with correctness \u001b[0;32m94.0173%\u001b[0m.\n",
      "If \u001b[1mparents = 1, age = 55-64, homeowner = 1, income = Unknown\u001b[0m:\n",
      "\tSubgroup '\u001b[1mF\u001b[0m', \u001b[0;34m83.3807%\u001b[0m covered out of 600135\n",
      "\t\tMake \u001b[1mparents = 1, age = 55-64, homeowner = 0, income = >100K\u001b[0m with correctness \u001b[0;32m26.6389%\u001b[0m.\n",
      "\tSubgroup '\u001b[1mM\u001b[0m', \u001b[0;34m81.6419%\u001b[0m covered out of 314181\n",
      "\t\tMake \u001b[1mparents = 1, age = 55-64, homeowner = 0, income = >100K\u001b[0m with correctness \u001b[0;32m94.5524%\u001b[0m.\n",
      "If \u001b[1mparents = 1, homeowner = 1, income = Unknown\u001b[0m:\n",
      "\tSubgroup '\u001b[1mF\u001b[0m', \u001b[0;34m89.3594%\u001b[0m covered out of 600135\n",
      "\t\tMake \u001b[1mparents = 1, homeowner = 0, income = >100K\u001b[0m with correctness \u001b[0;32m25.8568%\u001b[0m.\n",
      "\tSubgroup '\u001b[1mM\u001b[0m', \u001b[0;34m88.7980%\u001b[0m covered out of 314181\n",
      "\t\tMake \u001b[1mparents = 1, homeowner = 0, income = >100K\u001b[0m with correctness \u001b[0;32m89.1198%\u001b[0m.\n",
      "If \u001b[1mcollege_educated = 1, income = Unknown, parents = 1, area = Unknown, age = 55-64\u001b[0m:\n",
      "\tSubgroup '\u001b[1mF\u001b[0m', \u001b[0;34m57.6912%\u001b[0m covered out of 600135\n",
      "\t\tMake \u001b[1mcollege_educated = 1, income = Unknown, parents = 1, area = Urban, age = 55-64\u001b[0m with correctness \u001b[0;32m0.0000%\u001b[0m.\n",
      "\tSubgroup '\u001b[1mM\u001b[0m', \u001b[0;34m75.5021%\u001b[0m covered out of 314181\n",
      "\t\tMake \u001b[1mcollege_educated = 1, income = Unknown, parents = 1, area = Urban, age = 55-64\u001b[0m with correctness \u001b[0;32m100.0000%\u001b[0m.\n",
      "If \u001b[1mparents = 1, homeowner = 1, college_educated = 0, area = Unknown, age = 55-64\u001b[0m:\n",
      "\tSubgroup '\u001b[1mF\u001b[0m', \u001b[0;34m3.6036%\u001b[0m covered out of 600135\n",
      "\t\tMake \u001b[1mparents = 1, homeowner = 0, college_educated = 0, area = Unknown, age = 55-64\u001b[0m with correctness \u001b[0;32m2.0580%\u001b[0m.\n",
      "\tSubgroup '\u001b[1mM\u001b[0m', \u001b[0;34m4.6089%\u001b[0m covered out of 314181\n",
      "\t\tMake \u001b[1mparents = 1, homeowner = 0, college_educated = 0, area = Unknown, age = 55-64\u001b[0m with correctness \u001b[0;32m98.6349%\u001b[0m.\n",
      "If \u001b[1mparents = 1, area = Unknown, income = >100K\u001b[0m:\n",
      "\tSubgroup '\u001b[1mF\u001b[0m', \u001b[0;34m1.7754%\u001b[0m covered out of 600135\n",
      "\t\tMake \u001b[1mparents = 1, area = Urban, income = Unknown\u001b[0m with correctness \u001b[0;32m41.6273%\u001b[0m.\n",
      "\tSubgroup '\u001b[1mM\u001b[0m', \u001b[0;34m1.4696%\u001b[0m covered out of 314181\n",
      "\t\tMake \u001b[1mparents = 1, area = Urban, income = Unknown\u001b[0m with correctness \u001b[0;32m89.7914%\u001b[0m.\n",
      "If \u001b[1mparents = 0, college_educated = 1, homeowner = 1, area = Unknown, age = 55-64\u001b[0m:\n",
      "\tSubgroup '\u001b[1mF\u001b[0m', \u001b[0;34m3.4392%\u001b[0m covered out of 600135\n",
      "\t\tMake \u001b[1mparents = 0, college_educated = 1, homeowner = 0, area = Unknown, age = 55-64\u001b[0m with correctness \u001b[0;32m2.3626%\u001b[0m.\n",
      "\tSubgroup '\u001b[1mM\u001b[0m', \u001b[0;34m4.4363%\u001b[0m covered out of 314181\n",
      "\t\tMake \u001b[1mparents = 0, college_educated = 1, homeowner = 0, area = Unknown, age = 55-64\u001b[0m with correctness \u001b[0;32m98.2909%\u001b[0m.\n",
      "If \u001b[1mparents = 1, area = Urban, income = Unknown, college_educated = 0\u001b[0m:\n",
      "\tSubgroup '\u001b[1mF\u001b[0m', \u001b[0;34m1.3652%\u001b[0m covered out of 600135\n",
      "\t\tMake \u001b[1mparents = 1, area = Urban, income = Unknown, college_educated = 1\u001b[0m with correctness \u001b[0;32m0.0000%\u001b[0m.\n",
      "\tSubgroup '\u001b[1mM\u001b[0m', \u001b[0;34m1.8068%\u001b[0m covered out of 314181\n",
      "\t\tMake \u001b[1mparents = 1, area = Urban, income = Unknown, college_educated = 1\u001b[0m with correctness \u001b[0;32m95.4464%\u001b[0m.\n",
      "If \u001b[1mparents = 1, area = Urban, college_educated = 0\u001b[0m:\n",
      "\tSubgroup '\u001b[1mF\u001b[0m', \u001b[0;34m1.3820%\u001b[0m covered out of 600135\n",
      "\t\tMake \u001b[1mparents = 1, area = Urban, college_educated = 1\u001b[0m with correctness \u001b[0;32m0.0000%\u001b[0m.\n",
      "\tSubgroup '\u001b[1mM\u001b[0m', \u001b[0;34m1.8423%\u001b[0m covered out of 314181\n",
      "\t\tMake \u001b[1mparents = 1, area = Urban, college_educated = 1\u001b[0m with correctness \u001b[0;32m94.8336%\u001b[0m.\n",
      "\n"
     ]
    }
   ],
   "source": [
    "rules_max_costdiff_sorted = lib2.sort_triples_by_max_costdiff(rules_by_if, params=params)\n",
    "\n",
    "print(recourse_report_reverse(\n",
    "    dict(rules_max_costdiff_sorted[:K]),\n",
    "    population_sizes = {\"M\": (ad_conversion_dataset.gender == \"M\").sum(), \"F\": (ad_conversion_dataset.gender == \"F\").sum()},\n",
    "    missing_subgroup_val=\"Unknown\"\n",
    "))"
   ]
  },
  {
   "cell_type": "markdown",
   "id": "b68eb89f-39e1-4143-93aa-5367b5356b40",
   "metadata": {},
   "source": [
    "## For each if-group, minimum cost of change among thens that surpass a correctness threshold"
   ]
  },
  {
   "cell_type": "code",
   "execution_count": 19,
   "id": "23015685-bd59-4909-a253-1b07c75b547e",
   "metadata": {
    "tags": []
   },
   "outputs": [
    {
     "name": "stdout",
     "output_type": "stream",
     "text": [
      "If \u001b[1mparents = 1, homeowner = 1, income = Unknown\u001b[0m:\n",
      "\tSubgroup '\u001b[1mF\u001b[0m', \u001b[0;34m89.3594%\u001b[0m covered out of 600135\n",
      "\t\tMake \u001b[1mparents = 1, homeowner = 0, income = >100K\u001b[0m with correctness \u001b[0;32m25.8568%\u001b[0m.\n",
      "\tSubgroup '\u001b[1mM\u001b[0m', \u001b[0;34m88.7980%\u001b[0m covered out of 314181\n",
      "\t\tMake \u001b[1mparents = 1, homeowner = 0, income = >100K\u001b[0m with correctness \u001b[0;32m89.1198%\u001b[0m.\n",
      "If \u001b[1mparents = 1, college_educated = 1, homeowner = 1, income = Unknown\u001b[0m:\n",
      "\tSubgroup '\u001b[1mF\u001b[0m', \u001b[0;34m84.0050%\u001b[0m covered out of 600135\n",
      "\t\tMake \u001b[1mparents = 1, college_educated = 1, homeowner = 0, income = >100K\u001b[0m with correctness \u001b[0;32m25.6218%\u001b[0m.\n",
      "\tSubgroup '\u001b[1mM\u001b[0m', \u001b[0;34m82.2146%\u001b[0m covered out of 314181\n",
      "\t\tMake \u001b[1mparents = 1, college_educated = 1, homeowner = 0, income = >100K\u001b[0m with correctness \u001b[0;32m94.0173%\u001b[0m.\n",
      "If \u001b[1mparents = 1, age = 55-64, homeowner = 1, income = Unknown\u001b[0m:\n",
      "\tSubgroup '\u001b[1mF\u001b[0m', \u001b[0;34m83.3807%\u001b[0m covered out of 600135\n",
      "\t\tMake \u001b[1mparents = 1, age = 55-64, homeowner = 0, income = >100K\u001b[0m with correctness \u001b[0;32m26.6389%\u001b[0m.\n",
      "\tSubgroup '\u001b[1mM\u001b[0m', \u001b[0;34m81.6419%\u001b[0m covered out of 314181\n",
      "\t\tMake \u001b[1mparents = 1, age = 55-64, homeowner = 0, income = >100K\u001b[0m with correctness \u001b[0;32m94.5524%\u001b[0m.\n",
      "If \u001b[1mincome = Unknown, age = 55-64, homeowner = 1, area = Unknown\u001b[0m:\n",
      "\tSubgroup '\u001b[1mF\u001b[0m', \u001b[0;34m64.6746%\u001b[0m covered out of 600135\n",
      "\t\tMake \u001b[1mincome = Unknown, age = 55-64, homeowner = 1, area = Urban\u001b[0m with correctness \u001b[0;32m-0.0000%\u001b[0m.\n",
      "\tSubgroup '\u001b[1mM\u001b[0m', \u001b[0;34m84.5021%\u001b[0m covered out of 314181\n",
      "\t\tMake \u001b[1mincome = Unknown, age = 55-64, homeowner = 1, area = Urban\u001b[0m with correctness \u001b[0;32m89.3494%\u001b[0m.\n",
      "If \u001b[1mcollege_educated = 1, income = Unknown, parents = 1, area = Unknown, age = 55-64\u001b[0m:\n",
      "\tSubgroup '\u001b[1mF\u001b[0m', \u001b[0;34m57.6912%\u001b[0m covered out of 600135\n",
      "\t\tMake \u001b[1mcollege_educated = 1, income = Unknown, parents = 1, area = Urban, age = 55-64\u001b[0m with correctness \u001b[0;32m0.0000%\u001b[0m.\n",
      "\tSubgroup '\u001b[1mM\u001b[0m', \u001b[0;34m75.5021%\u001b[0m covered out of 314181\n",
      "\t\tMake \u001b[1mcollege_educated = 1, income = Unknown, parents = 1, area = Urban, age = 55-64\u001b[0m with correctness \u001b[0;32m100.0000%\u001b[0m.\n",
      "If \u001b[1mhomeowner = 1, college_educated = 0\u001b[0m:\n",
      "\tSubgroup '\u001b[1mF\u001b[0m', \u001b[0;34m5.8110%\u001b[0m covered out of 600135\n",
      "\t\tMake \u001b[1mhomeowner = 0, college_educated = 0\u001b[0m with correctness \u001b[0;32m31.4615%\u001b[0m.\n",
      "\tSubgroup '\u001b[1mM\u001b[0m', \u001b[0;34m7.2610%\u001b[0m covered out of 314181\n",
      "\t\tMake \u001b[1mhomeowner = 0, college_educated = 0\u001b[0m with correctness \u001b[0;32m91.9351%\u001b[0m.\n",
      "If \u001b[1mparents = 1, homeowner = 1, college_educated = 0\u001b[0m:\n",
      "\tSubgroup '\u001b[1mF\u001b[0m', \u001b[0;34m5.5079%\u001b[0m covered out of 600135\n",
      "\t\tMake \u001b[1mparents = 1, homeowner = 0, college_educated = 0\u001b[0m with correctness \u001b[0;32m31.8932%\u001b[0m.\n",
      "\tSubgroup '\u001b[1mM\u001b[0m', \u001b[0;34m6.7867%\u001b[0m covered out of 314181\n",
      "\t\tMake \u001b[1mparents = 1, homeowner = 0, college_educated = 0\u001b[0m with correctness \u001b[0;32m96.1493%\u001b[0m.\n",
      "If \u001b[1mhomeowner = 1, parents = 0\u001b[0m:\n",
      "\tSubgroup '\u001b[1mF\u001b[0m', \u001b[0;34m5.4976%\u001b[0m covered out of 600135\n",
      "\t\tMake \u001b[1mhomeowner = 0, parents = 0\u001b[0m with correctness \u001b[0;32m30.9326%\u001b[0m.\n",
      "\tSubgroup '\u001b[1mM\u001b[0m', \u001b[0;34m6.9190%\u001b[0m covered out of 314181\n",
      "\t\tMake \u001b[1mhomeowner = 0, parents = 0\u001b[0m with correctness \u001b[0;32m91.4665%\u001b[0m.\n",
      "If \u001b[1mcollege_educated = 1, homeowner = 1, parents = 0\u001b[0m:\n",
      "\tSubgroup '\u001b[1mF\u001b[0m', \u001b[0;34m5.1945%\u001b[0m covered out of 600135\n",
      "\t\tMake \u001b[1mcollege_educated = 1, homeowner = 0, parents = 0\u001b[0m with correctness \u001b[0;32m31.3594%\u001b[0m.\n",
      "\tSubgroup '\u001b[1mM\u001b[0m', \u001b[0;34m6.4447%\u001b[0m covered out of 314181\n",
      "\t\tMake \u001b[1mcollege_educated = 1, homeowner = 0, parents = 0\u001b[0m with correctness \u001b[0;32m95.8698%\u001b[0m.\n",
      "If \u001b[1mage = 55-64, homeowner = 1, parents = 0\u001b[0m:\n",
      "\tSubgroup '\u001b[1mF\u001b[0m', \u001b[0;34m5.1558%\u001b[0m covered out of 600135\n",
      "\t\tMake \u001b[1mage = 55-64, homeowner = 0, parents = 0\u001b[0m with correctness \u001b[0;32m30.7442%\u001b[0m.\n",
      "\tSubgroup '\u001b[1mM\u001b[0m', \u001b[0;34m6.4737%\u001b[0m covered out of 314181\n",
      "\t\tMake \u001b[1mage = 55-64, homeowner = 0, parents = 0\u001b[0m with correctness \u001b[0;32m94.0693%\u001b[0m.\n",
      "\n"
     ]
    }
   ],
   "source": [
    "rules_max_costdiff_sorted = lib2.sort_triples_by_max_costdiff_ignore_nans(\n",
    "    rules_by_if,\n",
    "    params=params,\n",
    "    group_calculator=lib2.if_group_cost_max_change_correctness_threshold,\n",
    "    cor_thres=0.5\n",
    ")\n",
    "\n",
    "pop_sizes = {sg: (ad_conversion_dataset[\"gender\"] == sg).sum() for sg in ad_conversion_dataset[\"gender\"].unique()}\n",
    "print(recourse_report_reverse(\n",
    "    dict(rules_max_costdiff_sorted[:K]),\n",
    "    population_sizes = pop_sizes\n",
    "))"
   ]
  },
  {
   "cell_type": "markdown",
   "id": "1a53fd71-ae5b-4d51-8276-7ffe71f42e07",
   "metadata": {},
   "source": [
    "## For each if-group, minimum cost of change among thens that surpass a correctness threshold\n",
    "\n",
    "Before, when, for a subgroup, there were no thens that surpassed the threshold, the minimum cost of change was valued as infinity, and thus, as it is evident in the results, the algorithm finds many rules for which some groups surpass the threshold and some groups do not (because for those rules the difference between maximum and minimum cost of the subgroups evaluates to infinity).\n",
    "\n",
    "Here, the difference is that we will ignore altogether rules for which the correctness drops below the threshold for all recourses (for some subgroup), considering them as \"empty\"."
   ]
  },
  {
   "cell_type": "code",
   "execution_count": 23,
   "id": "c9013521-7af1-4980-8af0-a9b49871b69c",
   "metadata": {},
   "outputs": [
    {
     "name": "stdout",
     "output_type": "stream",
     "text": [
      "If \u001b[1mage = 55-64, homeowner = 1, college_educated = 0\u001b[0m:\n",
      "\tSubgroup '\u001b[1mF\u001b[0m', \u001b[0;34m5.4544%\u001b[0m covered out of 600135\n",
      "\t\tMake \u001b[1mage = 55-64, homeowner = 0, college_educated = 1\u001b[0m with correctness \u001b[0;32m95.2826%\u001b[0m.\n",
      "\tSubgroup '\u001b[1mM\u001b[0m', \u001b[0;34m6.7818%\u001b[0m covered out of 314181\n",
      "\t\tMake \u001b[1mage = 55-64, homeowner = 0, college_educated = 1\u001b[0m with correctness \u001b[0;32m99.9049%\u001b[0m.\n",
      "\t\tMake \u001b[1mage = 55-64, homeowner = 0, college_educated = 0\u001b[0m with correctness \u001b[0;32m94.5290%\u001b[0m.\n",
      "If \u001b[1mparents = 1, age = 55-64, homeowner = 1, college_educated = 0\u001b[0m:\n",
      "\tSubgroup '\u001b[1mF\u001b[0m', \u001b[0;34m5.1758%\u001b[0m covered out of 600135\n",
      "\t\tMake \u001b[1mparents = 1, age = 55-64, homeowner = 0, college_educated = 1\u001b[0m with correctness \u001b[0;32m99.0032%\u001b[0m.\n",
      "\tSubgroup '\u001b[1mM\u001b[0m', \u001b[0;34m6.3382%\u001b[0m covered out of 314181\n",
      "\t\tMake \u001b[1mparents = 1, age = 55-64, homeowner = 0, college_educated = 1\u001b[0m with correctness \u001b[0;32m100.0000%\u001b[0m.\n",
      "\t\tMake \u001b[1mparents = 1, age = 55-64, homeowner = 0, college_educated = 0\u001b[0m with correctness \u001b[0;32m99.0074%\u001b[0m.\n",
      "If \u001b[1mage = 55-64, homeowner = 1, college_educated = 0, area = Unknown\u001b[0m:\n",
      "\tSubgroup '\u001b[1mF\u001b[0m', \u001b[0;34m3.8100%\u001b[0m covered out of 600135\n",
      "\t\tMake \u001b[1mage = 55-64, homeowner = 0, college_educated = 1, area = Unknown\u001b[0m with correctness \u001b[0;32m93.2972%\u001b[0m.\n",
      "\t\tMake \u001b[1mage = 55-64, homeowner = 1, college_educated = 1, area = Rural\u001b[0m with correctness \u001b[0;32m93.2295%\u001b[0m.\n",
      "\tSubgroup '\u001b[1mM\u001b[0m', \u001b[0;34m4.9235%\u001b[0m covered out of 314181\n",
      "\t\tMake \u001b[1mage = 55-64, homeowner = 0, college_educated = 1, area = Unknown\u001b[0m with correctness \u001b[0;32m99.8689%\u001b[0m.\n",
      "\t\tMake \u001b[1mage = 55-64, homeowner = 1, college_educated = 1, area = Urban\u001b[0m with correctness \u001b[0;32m92.3329%\u001b[0m.\n",
      "\t\tMake \u001b[1mage = 55-64, homeowner = 1, college_educated = 1, area = Rural\u001b[0m with correctness \u001b[0;32m98.5911%\u001b[0m.\n",
      "\t\tMake \u001b[1mage = 55-64, homeowner = 0, college_educated = 0, area = Unknown\u001b[0m with correctness \u001b[0;32m92.4640%\u001b[0m.\n",
      "If \u001b[1mhomeowner = 1\u001b[0m:\n",
      "\tSubgroup '\u001b[1mF\u001b[0m', \u001b[0;34m97.6604%\u001b[0m covered out of 600135\n",
      "\t\tMake \u001b[1mhomeowner = 0\u001b[0m with correctness \u001b[0;32m88.5980%\u001b[0m.\n",
      "\tSubgroup '\u001b[1mM\u001b[0m', \u001b[0;34m99.2353%\u001b[0m covered out of 314181\n",
      "\t\tMake \u001b[1mhomeowner = 0\u001b[0m with correctness \u001b[0;32m95.7588%\u001b[0m.\n",
      "If \u001b[1mincome = Unknown, homeowner = 1\u001b[0m:\n",
      "\tSubgroup '\u001b[1mF\u001b[0m', \u001b[0;34m94.6791%\u001b[0m covered out of 600135\n",
      "\t\tMake \u001b[1mincome = Unknown, homeowner = 0\u001b[0m with correctness \u001b[0;32m89.4419%\u001b[0m.\n",
      "\t\tMake \u001b[1mincome = <100K, homeowner = 0\u001b[0m with correctness \u001b[0;32m96.7510%\u001b[0m.\n",
      "\tSubgroup '\u001b[1mM\u001b[0m', \u001b[0;34m95.4879%\u001b[0m covered out of 314181\n",
      "\t\tMake \u001b[1mincome = Unknown, homeowner = 0\u001b[0m with correctness \u001b[0;32m95.8677%\u001b[0m.\n",
      "\t\tMake \u001b[1mincome = <100K, homeowner = 0\u001b[0m with correctness \u001b[0;32m97.0587%\u001b[0m.\n",
      "If \u001b[1mparents = 1, homeowner = 1\u001b[0m:\n",
      "\tSubgroup '\u001b[1mF\u001b[0m', \u001b[0;34m92.1627%\u001b[0m covered out of 600135\n",
      "\t\tMake \u001b[1mparents = 1, homeowner = 0\u001b[0m with correctness \u001b[0;32m92.0379%\u001b[0m.\n",
      "\tSubgroup '\u001b[1mM\u001b[0m', \u001b[0;34m92.3164%\u001b[0m covered out of 314181\n",
      "\t\tMake \u001b[1mparents = 1, homeowner = 0\u001b[0m with correctness \u001b[0;32m96.0805%\u001b[0m.\n",
      "If \u001b[1mcollege_educated = 1, homeowner = 1\u001b[0m:\n",
      "\tSubgroup '\u001b[1mF\u001b[0m', \u001b[0;34m91.8493%\u001b[0m covered out of 600135\n",
      "\t\tMake \u001b[1mcollege_educated = 1, homeowner = 0\u001b[0m with correctness \u001b[0;32m92.2129%\u001b[0m.\n",
      "\tSubgroup '\u001b[1mM\u001b[0m', \u001b[0;34m91.9744%\u001b[0m covered out of 314181\n",
      "\t\tMake \u001b[1mcollege_educated = 1, homeowner = 0\u001b[0m with correctness \u001b[0;32m96.0606%\u001b[0m.\n",
      "If \u001b[1mage = 55-64, homeowner = 1\u001b[0m:\n",
      "\tSubgroup '\u001b[1mF\u001b[0m', \u001b[0;34m91.1554%\u001b[0m covered out of 600135\n",
      "\t\tMake \u001b[1mage = 55-64, homeowner = 0\u001b[0m with correctness \u001b[0;32m91.2438%\u001b[0m.\n",
      "\tSubgroup '\u001b[1mM\u001b[0m', \u001b[0;34m91.4098%\u001b[0m covered out of 314181\n",
      "\t\tMake \u001b[1mage = 55-64, homeowner = 0\u001b[0m with correctness \u001b[0;32m99.5112%\u001b[0m.\n",
      "If \u001b[1mparents = 1, college_educated = 1, homeowner = 1\u001b[0m:\n",
      "\tSubgroup '\u001b[1mF\u001b[0m', \u001b[0;34m86.6548%\u001b[0m covered out of 600135\n",
      "\t\tMake \u001b[1mparents = 1, college_educated = 1, homeowner = 0\u001b[0m with correctness \u001b[0;32m95.8608%\u001b[0m.\n",
      "\tSubgroup '\u001b[1mM\u001b[0m', \u001b[0;34m85.5297%\u001b[0m covered out of 314181\n",
      "\t\tMake \u001b[1mparents = 1, college_educated = 1, homeowner = 0\u001b[0m with correctness \u001b[0;32m96.0750%\u001b[0m.\n",
      "If \u001b[1mparents = 1, age = 55-64, homeowner = 1\u001b[0m:\n",
      "\tSubgroup '\u001b[1mF\u001b[0m', \u001b[0;34m85.9996%\u001b[0m covered out of 600135\n",
      "\t\tMake \u001b[1mparents = 1, age = 55-64, homeowner = 0\u001b[0m with correctness \u001b[0;32m94.8709%\u001b[0m.\n",
      "\tSubgroup '\u001b[1mM\u001b[0m', \u001b[0;34m84.9360%\u001b[0m covered out of 314181\n",
      "\t\tMake \u001b[1mparents = 1, age = 55-64, homeowner = 0\u001b[0m with correctness \u001b[0;32m99.9259%\u001b[0m.\n",
      "\n"
     ]
    }
   ],
   "source": [
    "rules_max_costdiff_sorted_gender = lib2.sort_triples_by_max_costdiff_ignore_nans_infs(\n",
    "    rules_by_if,\n",
    "    params=params,\n",
    "    group_calculator=lib2.if_group_cost_max_change_correctness_threshold,\n",
    "    cor_thres=0.5\n",
    ")\n",
    "\n",
    "pop_sizes = {sg: (ad_conversion_dataset[\"gender\"] == sg).sum() for sg in ad_conversion_dataset[\"gender\"].unique()}\n",
    "print(recourse_report_reverse(\n",
    "    lib2.filter_by_correctness(dict(rules_max_costdiff_sorted_gender[:K]), threshold=0.5),\n",
    "    population_sizes = pop_sizes\n",
    "))"
   ]
  },
  {
   "cell_type": "code",
   "execution_count": null,
   "id": "fa5c7884-24e1-4956-9eab-2e300f905467",
   "metadata": {},
   "outputs": [],
   "source": []
  }
 ],
 "metadata": {
  "kernelspec": {
   "display_name": "Python 3 (ipykernel)",
   "language": "python",
   "name": "python3"
  },
  "language_info": {
   "codemirror_mode": {
    "name": "ipython",
    "version": 3
   },
   "file_extension": ".py",
   "mimetype": "text/x-python",
   "name": "python",
   "nbconvert_exporter": "python",
   "pygments_lexer": "ipython3",
   "version": "3.9.15"
  }
 },
 "nbformat": 4,
 "nbformat_minor": 5
}
