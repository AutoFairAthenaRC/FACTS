{
 "cells": [
  {
   "cell_type": "markdown",
   "id": "a4164f0d",
   "metadata": {},
   "source": [
    "## Import libraries"
   ]
  },
  {
   "cell_type": "code",
   "execution_count": 1,
   "id": "50536eb3",
   "metadata": {
    "tags": []
   },
   "outputs": [],
   "source": [
    "import pandas as pd\n",
    "import numpy as np\n",
    "from pprint import pprint\n",
    "\n",
    "from sklearn.model_selection import train_test_split\n",
    "from sklearn.metrics import classification_report, confusion_matrix, ConfusionMatrixDisplay\n",
    "from sklearn.linear_model import LogisticRegression\n",
    "\n",
    "from models import customLogisticRegression\n",
    "from lib2 import valid_triples_with_coverage_correctness, rules2rulesbyif\n",
    "import lib2\n",
    "\n",
    "import matplotlib.pyplot as plt\n",
    "\n",
    "from IPython.display import Markdown, display"
   ]
  },
  {
   "cell_type": "code",
   "execution_count": 2,
   "id": "fd56032c",
   "metadata": {
    "tags": []
   },
   "outputs": [],
   "source": [
    "### do we need these?\n",
    "\n",
    "# from aif360.datasets import StandardDataset\n",
    "# from aif360.metrics import ClassificationMetric, BinaryLabelDatasetMetric\n",
    "# from aif360.algorithms.postprocessing import RejectOptionClassification\n",
    "# from aif360.detectors.mdss.ScoringFunctions import Bernoulli\n",
    "# from aif360.detectors.mdss.MDSS import MDSS\n",
    "# from aif360.detectors.mdss.generator import get_random_subset"
   ]
  },
  {
   "cell_type": "code",
   "execution_count": 3,
   "id": "99fb977c",
   "metadata": {
    "tags": []
   },
   "outputs": [],
   "source": [
    "DATAFILE = '../ad_campaign_data.csv' # location of dataset\n",
    "random_state = None # change to something for exactly reproducible results\n",
    "\n",
    "# as selected in \"tutorial_bias_advertising\" notebook\n",
    "selected_features = ['gender', 'parents', 'age', 'income', 'area', 'college_educated', 'homeowner']\n",
    "cate_features = ['gender', 'parents', 'age', 'income', 'area', 'college_educated']\n",
    "\n",
    "target_name = \"true_conversion\"\n",
    "positive_label = 1\n",
    "negative_label = 0\n",
    "\n",
    "model_train_fraction = 0.7\n",
    "learning_class_weights = {0: 0.5, 1: 265}\n",
    "\n",
    "sensitive_attribute = \"gender\""
   ]
  },
  {
   "cell_type": "markdown",
   "id": "7f50c922",
   "metadata": {},
   "source": [
    "## Load Dataset"
   ]
  },
  {
   "cell_type": "code",
   "execution_count": 4,
   "id": "7ec3f668",
   "metadata": {
    "tags": []
   },
   "outputs": [
    {
     "data": {
      "text/html": [
       "<div>\n",
       "<style scoped>\n",
       "    .dataframe tbody tr th:only-of-type {\n",
       "        vertical-align: middle;\n",
       "    }\n",
       "\n",
       "    .dataframe tbody tr th {\n",
       "        vertical-align: top;\n",
       "    }\n",
       "\n",
       "    .dataframe thead th {\n",
       "        text-align: right;\n",
       "    }\n",
       "</style>\n",
       "<table border=\"1\" class=\"dataframe\">\n",
       "  <thead>\n",
       "    <tr style=\"text-align: right;\">\n",
       "      <th></th>\n",
       "      <th>religion</th>\n",
       "      <th>politics</th>\n",
       "      <th>college_educated</th>\n",
       "      <th>parents</th>\n",
       "      <th>homeowner</th>\n",
       "      <th>gender</th>\n",
       "      <th>age</th>\n",
       "      <th>income</th>\n",
       "      <th>area</th>\n",
       "      <th>true_conversion</th>\n",
       "      <th>predicted_conversion</th>\n",
       "      <th>predicted_probability</th>\n",
       "    </tr>\n",
       "  </thead>\n",
       "  <tbody>\n",
       "    <tr>\n",
       "      <th>0</th>\n",
       "      <td>Unknown</td>\n",
       "      <td>Unknown</td>\n",
       "      <td>1</td>\n",
       "      <td>1</td>\n",
       "      <td>1</td>\n",
       "      <td>Unknown</td>\n",
       "      <td>55-64</td>\n",
       "      <td>Unknown</td>\n",
       "      <td>Unknown</td>\n",
       "      <td>0</td>\n",
       "      <td>0</td>\n",
       "      <td>0.001351</td>\n",
       "    </tr>\n",
       "    <tr>\n",
       "      <th>1</th>\n",
       "      <td>Other</td>\n",
       "      <td>Unknown</td>\n",
       "      <td>1</td>\n",
       "      <td>1</td>\n",
       "      <td>1</td>\n",
       "      <td>Unknown</td>\n",
       "      <td>55-64</td>\n",
       "      <td>Unknown</td>\n",
       "      <td>Urban</td>\n",
       "      <td>0</td>\n",
       "      <td>0</td>\n",
       "      <td>0.002238</td>\n",
       "    </tr>\n",
       "    <tr>\n",
       "      <th>2</th>\n",
       "      <td>Unknown</td>\n",
       "      <td>Unknown</td>\n",
       "      <td>1</td>\n",
       "      <td>1</td>\n",
       "      <td>1</td>\n",
       "      <td>F</td>\n",
       "      <td>55-64</td>\n",
       "      <td>Unknown</td>\n",
       "      <td>Unknown</td>\n",
       "      <td>0</td>\n",
       "      <td>0</td>\n",
       "      <td>0.002704</td>\n",
       "    </tr>\n",
       "    <tr>\n",
       "      <th>3</th>\n",
       "      <td>Unknown</td>\n",
       "      <td>Unknown</td>\n",
       "      <td>1</td>\n",
       "      <td>1</td>\n",
       "      <td>1</td>\n",
       "      <td>F</td>\n",
       "      <td>55-64</td>\n",
       "      <td>Unknown</td>\n",
       "      <td>Unknown</td>\n",
       "      <td>0</td>\n",
       "      <td>0</td>\n",
       "      <td>0.001967</td>\n",
       "    </tr>\n",
       "    <tr>\n",
       "      <th>4</th>\n",
       "      <td>Unknown</td>\n",
       "      <td>Unknown</td>\n",
       "      <td>1</td>\n",
       "      <td>1</td>\n",
       "      <td>1</td>\n",
       "      <td>F</td>\n",
       "      <td>55-64</td>\n",
       "      <td>Unknown</td>\n",
       "      <td>Urban</td>\n",
       "      <td>0</td>\n",
       "      <td>0</td>\n",
       "      <td>0.001681</td>\n",
       "    </tr>\n",
       "  </tbody>\n",
       "</table>\n",
       "</div>"
      ],
      "text/plain": [
       "  religion politics  college_educated  parents  homeowner   gender    age  \\\n",
       "0  Unknown  Unknown                 1        1          1  Unknown  55-64   \n",
       "1    Other  Unknown                 1        1          1  Unknown  55-64   \n",
       "2  Unknown  Unknown                 1        1          1        F  55-64   \n",
       "3  Unknown  Unknown                 1        1          1        F  55-64   \n",
       "4  Unknown  Unknown                 1        1          1        F  55-64   \n",
       "\n",
       "    income     area  true_conversion  predicted_conversion  \\\n",
       "0  Unknown  Unknown                0                     0   \n",
       "1  Unknown    Urban                0                     0   \n",
       "2  Unknown  Unknown                0                     0   \n",
       "3  Unknown  Unknown                0                     0   \n",
       "4  Unknown    Urban                0                     0   \n",
       "\n",
       "   predicted_probability  \n",
       "0               0.001351  \n",
       "1               0.002238  \n",
       "2               0.002704  \n",
       "3               0.001967  \n",
       "4               0.001681  "
      ]
     },
     "execution_count": 4,
     "metadata": {},
     "output_type": "execute_result"
    }
   ],
   "source": [
    "ad_conversion_dataset = pd.read_csv(DATAFILE)\n",
    "ad_conversion_dataset.head()"
   ]
  },
  {
   "cell_type": "markdown",
   "id": "c01544c3",
   "metadata": {},
   "source": [
    "### Print some statistics for the dataset"
   ]
  },
  {
   "cell_type": "code",
   "execution_count": 5,
   "id": "3710bcf3",
   "metadata": {
    "tags": []
   },
   "outputs": [
    {
     "name": "stdout",
     "output_type": "stream",
     "text": [
      "Number of (instances, attributes) in the dataset = (1443140, 12)\n",
      "\n",
      "Statistics of true conversions (0=no, 1=yes)\n",
      "0    1440766\n",
      "1       2374\n",
      "Name: true_conversion, dtype: int64\n",
      "\n",
      "Statistics of predicted conversions (0=no, 1=yes)\n",
      "0    1440773\n",
      "1       2367\n",
      "Name: predicted_conversion, dtype: int64\n"
     ]
    }
   ],
   "source": [
    "print(f\"Number of (instances, attributes) in the dataset = {ad_conversion_dataset.shape}\")\n",
    "print()\n",
    "\n",
    "print(f\"Statistics of true conversions (0=no, 1=yes)\")\n",
    "print(ad_conversion_dataset.true_conversion.value_counts())\n",
    "print()\n",
    "\n",
    "print(f\"Statistics of predicted conversions (0=no, 1=yes)\")\n",
    "print(ad_conversion_dataset.predicted_conversion.value_counts())"
   ]
  },
  {
   "cell_type": "markdown",
   "id": "6774262f",
   "metadata": {},
   "source": [
    "### Warning!\n",
    "\n",
    "There is no model!\n",
    "\n",
    "Predictions (from whatever model has been used) have been incorporated into the dataset, in the columns \"predicted_conversion\" (which is the predicted label) and \"predicted_probability\" (which is the predicted probability of belonging to the positive class).\n",
    "\n",
    "Moreover, the dataset is highly unbalanced, and this is also evident in the poor efficiency of the model, as demonstrated in the confusion matrix below."
   ]
  },
  {
   "cell_type": "code",
   "execution_count": 6,
   "id": "03eb55a7-2240-4244-8c9e-c005e36e8f0f",
   "metadata": {
    "tags": []
   },
   "outputs": [
    {
     "data": {
      "image/png": "[encoded data removed]",
      "text/plain": [
       "<Figure size 640x480 with 2 Axes>"
      ]
     },
     "metadata": {},
     "output_type": "display_data"
    }
   ],
   "source": [
    "conf_matrix = confusion_matrix(ad_conversion_dataset.true_conversion, ad_conversion_dataset.predicted_conversion)\n",
    "cm_disp = ConfusionMatrixDisplay(confusion_matrix=conf_matrix)\n",
    "cm_disp.plot()\n",
    "plt.show()"
   ]
  },
  {
   "cell_type": "markdown",
   "id": "5f1b33fa-c6c9-4770-8123-0f69f918e265",
   "metadata": {},
   "source": [
    "# Preprocessing"
   ]
  },
  {
   "cell_type": "code",
   "execution_count": 7,
   "id": "8ee07f88",
   "metadata": {
    "tags": []
   },
   "outputs": [
    {
     "data": {
      "text/html": [
       "<div>\n",
       "<style scoped>\n",
       "    .dataframe tbody tr th:only-of-type {\n",
       "        vertical-align: middle;\n",
       "    }\n",
       "\n",
       "    .dataframe tbody tr th {\n",
       "        vertical-align: top;\n",
       "    }\n",
       "\n",
       "    .dataframe thead th {\n",
       "        text-align: right;\n",
       "    }\n",
       "</style>\n",
       "<table border=\"1\" class=\"dataframe\">\n",
       "  <thead>\n",
       "    <tr style=\"text-align: right;\">\n",
       "      <th></th>\n",
       "      <th>gender</th>\n",
       "      <th>parents</th>\n",
       "      <th>age</th>\n",
       "      <th>income</th>\n",
       "      <th>area</th>\n",
       "      <th>college_educated</th>\n",
       "      <th>homeowner</th>\n",
       "      <th>true_conversion</th>\n",
       "    </tr>\n",
       "  </thead>\n",
       "  <tbody>\n",
       "    <tr>\n",
       "      <th>0</th>\n",
       "      <td>Unknown</td>\n",
       "      <td>1</td>\n",
       "      <td>55-64</td>\n",
       "      <td>Unknown</td>\n",
       "      <td>Unknown</td>\n",
       "      <td>1</td>\n",
       "      <td>1</td>\n",
       "      <td>0</td>\n",
       "    </tr>\n",
       "    <tr>\n",
       "      <th>1</th>\n",
       "      <td>Unknown</td>\n",
       "      <td>1</td>\n",
       "      <td>55-64</td>\n",
       "      <td>Unknown</td>\n",
       "      <td>Urban</td>\n",
       "      <td>1</td>\n",
       "      <td>1</td>\n",
       "      <td>0</td>\n",
       "    </tr>\n",
       "    <tr>\n",
       "      <th>2</th>\n",
       "      <td>F</td>\n",
       "      <td>1</td>\n",
       "      <td>55-64</td>\n",
       "      <td>Unknown</td>\n",
       "      <td>Unknown</td>\n",
       "      <td>1</td>\n",
       "      <td>1</td>\n",
       "      <td>0</td>\n",
       "    </tr>\n",
       "    <tr>\n",
       "      <th>3</th>\n",
       "      <td>F</td>\n",
       "      <td>1</td>\n",
       "      <td>55-64</td>\n",
       "      <td>Unknown</td>\n",
       "      <td>Unknown</td>\n",
       "      <td>1</td>\n",
       "      <td>1</td>\n",
       "      <td>0</td>\n",
       "    </tr>\n",
       "    <tr>\n",
       "      <th>4</th>\n",
       "      <td>F</td>\n",
       "      <td>1</td>\n",
       "      <td>55-64</td>\n",
       "      <td>Unknown</td>\n",
       "      <td>Urban</td>\n",
       "      <td>1</td>\n",
       "      <td>1</td>\n",
       "      <td>0</td>\n",
       "    </tr>\n",
       "    <tr>\n",
       "      <th>...</th>\n",
       "      <td>...</td>\n",
       "      <td>...</td>\n",
       "      <td>...</td>\n",
       "      <td>...</td>\n",
       "      <td>...</td>\n",
       "      <td>...</td>\n",
       "      <td>...</td>\n",
       "      <td>...</td>\n",
       "    </tr>\n",
       "    <tr>\n",
       "      <th>1443135</th>\n",
       "      <td>F</td>\n",
       "      <td>1</td>\n",
       "      <td>25-34</td>\n",
       "      <td>Unknown</td>\n",
       "      <td>Unknown</td>\n",
       "      <td>1</td>\n",
       "      <td>1</td>\n",
       "      <td>0</td>\n",
       "    </tr>\n",
       "    <tr>\n",
       "      <th>1443136</th>\n",
       "      <td>F</td>\n",
       "      <td>1</td>\n",
       "      <td>55-64</td>\n",
       "      <td>Unknown</td>\n",
       "      <td>Unknown</td>\n",
       "      <td>1</td>\n",
       "      <td>0</td>\n",
       "      <td>0</td>\n",
       "    </tr>\n",
       "    <tr>\n",
       "      <th>1443137</th>\n",
       "      <td>Unknown</td>\n",
       "      <td>1</td>\n",
       "      <td>55-64</td>\n",
       "      <td>Unknown</td>\n",
       "      <td>Unknown</td>\n",
       "      <td>1</td>\n",
       "      <td>1</td>\n",
       "      <td>0</td>\n",
       "    </tr>\n",
       "    <tr>\n",
       "      <th>1443138</th>\n",
       "      <td>F</td>\n",
       "      <td>1</td>\n",
       "      <td>55-64</td>\n",
       "      <td>Unknown</td>\n",
       "      <td>Unknown</td>\n",
       "      <td>1</td>\n",
       "      <td>1</td>\n",
       "      <td>0</td>\n",
       "    </tr>\n",
       "    <tr>\n",
       "      <th>1443139</th>\n",
       "      <td>F</td>\n",
       "      <td>1</td>\n",
       "      <td>55-64</td>\n",
       "      <td>Unknown</td>\n",
       "      <td>Unknown</td>\n",
       "      <td>1</td>\n",
       "      <td>1</td>\n",
       "      <td>0</td>\n",
       "    </tr>\n",
       "  </tbody>\n",
       "</table>\n",
       "<p>1443140 rows × 8 columns</p>\n",
       "</div>"
      ],
      "text/plain": [
       "          gender  parents    age   income     area  college_educated  \\\n",
       "0        Unknown        1  55-64  Unknown  Unknown                 1   \n",
       "1        Unknown        1  55-64  Unknown    Urban                 1   \n",
       "2              F        1  55-64  Unknown  Unknown                 1   \n",
       "3              F        1  55-64  Unknown  Unknown                 1   \n",
       "4              F        1  55-64  Unknown    Urban                 1   \n",
       "...          ...      ...    ...      ...      ...               ...   \n",
       "1443135        F        1  25-34  Unknown  Unknown                 1   \n",
       "1443136        F        1  55-64  Unknown  Unknown                 1   \n",
       "1443137  Unknown        1  55-64  Unknown  Unknown                 1   \n",
       "1443138        F        1  55-64  Unknown  Unknown                 1   \n",
       "1443139        F        1  55-64  Unknown  Unknown                 1   \n",
       "\n",
       "         homeowner  true_conversion  \n",
       "0                1                0  \n",
       "1                1                0  \n",
       "2                1                0  \n",
       "3                1                0  \n",
       "4                1                0  \n",
       "...            ...              ...  \n",
       "1443135          1                0  \n",
       "1443136          0                0  \n",
       "1443137          1                0  \n",
       "1443138          1                0  \n",
       "1443139          1                0  \n",
       "\n",
       "[1443140 rows x 8 columns]"
      ]
     },
     "execution_count": 7,
     "metadata": {},
     "output_type": "execute_result"
    }
   ],
   "source": [
    "## keep only the columns in selected_features, plus the label column\n",
    "ad_conversion_dataset = ad_conversion_dataset[selected_features + [target_name]]\n",
    "ad_conversion_dataset"
   ]
  },
  {
   "cell_type": "code",
   "execution_count": 8,
   "id": "e2d5162d",
   "metadata": {
    "tags": []
   },
   "outputs": [],
   "source": [
    "## train-test split\n",
    "\n",
    "X = ad_conversion_dataset.drop(target_name, axis=1)\n",
    "y = ad_conversion_dataset[target_name]\n",
    "\n",
    "X_train, X_test, y_train, y_test = train_test_split(X, y, train_size=model_train_fraction, random_state=random_state, stratify=y)\n",
    "\n",
    "X_train = X_train.reset_index(drop=True)\n",
    "X_test = X_test.reset_index(drop=True)\n",
    "y_train = y_train.reset_index(drop=True)\n",
    "y_test = y_test.reset_index(drop=True)"
   ]
  },
  {
   "cell_type": "markdown",
   "id": "17c32fa1-337a-45e0-ae5c-914575a2cbb6",
   "metadata": {},
   "source": [
    "# Model training"
   ]
  },
  {
   "cell_type": "code",
   "execution_count": 9,
   "id": "d613bdf8",
   "metadata": {
    "tags": []
   },
   "outputs": [
    {
     "name": "stdout",
     "output_type": "stream",
     "text": [
      "CPU times: total: 16.4 s\n",
      "Wall time: 7.28 s\n"
     ]
    },
    {
     "data": {
      "text/plain": [
       "array([0., 0., 0., 0., 0., 0., 0., 0., 0., 1., 0., 0., 0., 0., 0., 0., 1.,\n",
       "       0., 0., 0., 1., 0., 0., 0., 1., 0., 0., 0., 1., 0., 0., 1., 0., 1.,\n",
       "       1., 0., 0., 0., 1., 0., 0., 0., 0., 0., 0., 0., 0., 0., 0., 0., 1.,\n",
       "       1., 0., 0., 0., 0., 0., 0., 0., 0., 1., 0., 0., 0., 0., 0., 1., 0.,\n",
       "       0., 0., 0., 0., 0., 0., 1., 0., 0., 0., 0., 0., 0., 0., 0., 0., 1.,\n",
       "       0., 0., 0., 0., 0., 0., 0., 0., 0., 0., 0., 0., 0., 0., 0.])"
      ]
     },
     "execution_count": 9,
     "metadata": {},
     "output_type": "execute_result"
    }
   ],
   "source": [
    "%%time\n",
    "\n",
    "model = customLogisticRegression(class_weight=learning_class_weights)\n",
    "model.fit(X_train, y_train, cate_columns=cate_features, target_column=target_name)\n",
    "model.predict(X_test.iloc[:100, :])"
   ]
  },
  {
   "cell_type": "markdown",
   "id": "13d583ac",
   "metadata": {},
   "source": [
    "# Testing the model\n",
    "\n",
    "We check if the model is satisfactory."
   ]
  },
  {
   "cell_type": "code",
   "execution_count": 10,
   "id": "2fbd7b2e",
   "metadata": {
    "tags": []
   },
   "outputs": [
    {
     "name": "stdout",
     "output_type": "stream",
     "text": [
      "              precision    recall  f1-score   support\n",
      "\n",
      "           0       1.00      0.89      0.94    432231\n",
      "           1       0.00      0.12      0.00       712\n",
      "\n",
      "    accuracy                           0.89    432943\n",
      "   macro avg       0.50      0.50      0.47    432943\n",
      "weighted avg       1.00      0.89      0.94    432943\n",
      "\n"
     ]
    }
   ],
   "source": [
    "preds = model.predict(X_test)\n",
    "print(classification_report(y_test.map({negative_label: 0, positive_label: 1}), preds))"
   ]
  },
  {
   "cell_type": "code",
   "execution_count": 11,
   "id": "a82b48f8-408b-43a0-99fc-c21ff8a63718",
   "metadata": {
    "tags": []
   },
   "outputs": [
    {
     "data": {
      "image/png": "[encoded data removed]",
      "text/plain": [
       "<Figure size 640x480 with 2 Axes>"
      ]
     },
     "metadata": {},
     "output_type": "display_data"
    }
   ],
   "source": [
    "conf_matrix = confusion_matrix(y_test, preds)\n",
    "cm_disp = ConfusionMatrixDisplay(confusion_matrix=conf_matrix)\n",
    "cm_disp.plot()\n",
    "plt.show()"
   ]
  },
  {
   "cell_type": "markdown",
   "id": "11452631",
   "metadata": {},
   "source": [
    "Given the high imbalance of the dataset, we consider that the above results, for a simple logistic regression, are good enough."
   ]
  },
  {
   "cell_type": "markdown",
   "id": "66bafa9b-95db-49c6-b116-9ebb65c13fc8",
   "metadata": {},
   "source": [
    "# Find all valid if-thens with all respective coverages and correctness, for all subgroups.\n",
    "\n",
    "**Caution!** This step takes time. Uncomment the following block if you wish to run."
   ]
  },
  {
   "cell_type": "code",
   "execution_count": 12,
   "id": "297d9256",
   "metadata": {
    "tags": []
   },
   "outputs": [],
   "source": [
    "# X_subset = X_test\n",
    "\n",
    "# ifthens_coverage_correctness = valid_triples_with_coverage_correctness(\n",
    "#     X_subset,\n",
    "#     model,\n",
    "#     sensitive_attribute\n",
    "# )\n",
    "\n",
    "# print(f\"Number of if-thens: {len(ifthens_coverage_correctness)}\")\n",
    "# rules_by_if = rules2rulesbyif(ifthens_coverage_correctness)"
   ]
  },
  {
   "cell_type": "markdown",
   "id": "d17cb30e-0a36-43cb-9f95-2b2e93634e5a",
   "metadata": {},
   "source": [
    "Uncomment the following block if you wish to load rules object from disk."
   ]
  },
  {
   "cell_type": "code",
   "execution_count": 14,
   "id": "c22dbaba-1ccb-4db3-84de-21227328e07c",
   "metadata": {
    "tags": []
   },
   "outputs": [],
   "source": [
    "import dill\n",
    "\n",
    "with open(\"rules.data\", \"rb\") as inf:\n",
    "    rules_by_if = dill.load(inf)"
   ]
  },
  {
   "cell_type": "code",
   "execution_count": 15,
   "id": "8a13da8a-e2a3-481f-9b1b-bc1803f4eccf",
   "metadata": {
    "tags": []
   },
   "outputs": [
    {
     "name": "stdout",
     "output_type": "stream",
     "text": [
      "If \u001b[1mcollege_educated = 1, parents = 1, homeowner = 1, area = Unknown, age = 55-64, income = Unknown\u001b[0m:\n",
      "\tSubgroup '\u001b[1mF\u001b[0m'\n",
      "\t\tMake \u001b[1mcollege_educated = 1, parents = 1, homeowner = 0, area = Unknown, age = 55-64, income = Unknown\u001b[0m with coverage \u001b[0;34m51.0554%\u001b[0m and correctness \u001b[0;32m0.0000%\u001b[0m.\n",
      "\t\tMake \u001b[1mcollege_educated = 1, parents = 1, homeowner = 0, area = Unknown, age = 55-64, income = <100K\u001b[0m with coverage \u001b[0;34m51.0554%\u001b[0m and correctness \u001b[0;32m0.0000%\u001b[0m.\n",
      "\tSubgroup '\u001b[1mM\u001b[0m'\n",
      "\t\tMake \u001b[1mcollege_educated = 1, parents = 1, homeowner = 0, area = Unknown, age = 55-64, income = Unknown\u001b[0m with coverage \u001b[0;34m57.4873%\u001b[0m and correctness \u001b[0;32m100.0000%\u001b[0m.\n",
      "\t\tMake \u001b[1mcollege_educated = 1, parents = 1, homeowner = 0, area = Unknown, age = 55-64, income = <100K\u001b[0m with coverage \u001b[0;34m57.4873%\u001b[0m and correctness \u001b[0;32m100.0000%\u001b[0m.\n",
      "If \u001b[1mcollege_educated = 1, parents = 1, homeowner = 1, age = 55-64, area = Rural, income = Unknown\u001b[0m:\n",
      "\tSubgroup '\u001b[1mF\u001b[0m'\n",
      "\t\tMake \u001b[1mcollege_educated = 1, parents = 1, homeowner = 1, age = 45-54, area = Urban, income = Unknown\u001b[0m with coverage \u001b[0;34m3.9471%\u001b[0m and correctness \u001b[0;32m0.0000%\u001b[0m.\n",
      "\t\tMake \u001b[1mcollege_educated = 1, parents = 1, homeowner = 0, age = 45-54, area = Unknown, income = Unknown\u001b[0m with coverage \u001b[0;34m3.9471%\u001b[0m and correctness \u001b[0;32m100.0000%\u001b[0m.\n",
      "\tSubgroup '\u001b[1mM\u001b[0m'\n",
      "\t\tMake \u001b[1mcollege_educated = 1, parents = 1, homeowner = 1, age = 45-54, area = Urban, income = Unknown\u001b[0m with coverage \u001b[0;34m4.2954%\u001b[0m and correctness \u001b[0;32m100.0000%\u001b[0m.\n",
      "\t\tMake \u001b[1mcollege_educated = 1, parents = 1, homeowner = 0, age = 45-54, area = Unknown, income = Unknown\u001b[0m with coverage \u001b[0;34m4.2954%\u001b[0m and correctness \u001b[0;32m100.0000%\u001b[0m.\n",
      "If \u001b[1mcollege_educated = 1, parents = 1, homeowner = 1, area = Unknown, age = Unknown, income = Unknown\u001b[0m:\n",
      "\tSubgroup '\u001b[1mF\u001b[0m'\n",
      "\t\tMake \u001b[1mcollege_educated = 1, parents = 1, homeowner = 0, area = Unknown, age = 55-64, income = Unknown\u001b[0m with coverage \u001b[0;34m1.5458%\u001b[0m and correctness \u001b[0;32m0.0000%\u001b[0m.\n",
      "\t\tMake \u001b[1mcollege_educated = 1, parents = 1, homeowner = 0, area = Unknown, age = 55-64, income = <100K\u001b[0m with coverage \u001b[0;34m1.5458%\u001b[0m and correctness \u001b[0;32m0.0000%\u001b[0m.\n",
      "\tSubgroup '\u001b[1mM\u001b[0m'\n",
      "\t\tMake \u001b[1mcollege_educated = 1, parents = 1, homeowner = 0, area = Unknown, age = 55-64, income = Unknown\u001b[0m with coverage \u001b[0;34m1.7042%\u001b[0m and correctness \u001b[0;32m100.0000%\u001b[0m.\n",
      "\t\tMake \u001b[1mcollege_educated = 1, parents = 1, homeowner = 0, area = Unknown, age = 55-64, income = <100K\u001b[0m with coverage \u001b[0;34m1.7042%\u001b[0m and correctness \u001b[0;32m100.0000%\u001b[0m.\n",
      "If \u001b[1mcollege_educated = 1, parents = 1, income = Unknown, age = 55-64, area = Urban\u001b[0m:\n",
      "\tSubgroup '\u001b[1mF\u001b[0m'\n",
      "\t\tMake \u001b[1mcollege_educated = 1, parents = 1, income = Unknown, age = 45-54, area = Urban\u001b[0m with coverage \u001b[0;34m18.2520%\u001b[0m and correctness \u001b[0;32m0.0000%\u001b[0m.\n",
      "\tSubgroup '\u001b[1mM\u001b[0m'\n",
      "\t\tMake \u001b[1mcollege_educated = 1, parents = 1, income = Unknown, age = 45-54, area = Urban\u001b[0m with coverage \u001b[0;34m20.6098%\u001b[0m and correctness \u001b[0;32m100.0000%\u001b[0m.\n",
      "If \u001b[1mcollege_educated = 1, parents = 1, homeowner = 1, area = Unknown, age = 55-64, income = <100K\u001b[0m:\n",
      "\tSubgroup '\u001b[1mF\u001b[0m'\n",
      "\t\tMake \u001b[1mcollege_educated = 1, parents = 1, homeowner = 0, area = Unknown, age = 55-64, income = Unknown\u001b[0m with coverage \u001b[0;34m1.1243%\u001b[0m and correctness \u001b[0;32m0.0000%\u001b[0m.\n",
      "\t\tMake \u001b[1mcollege_educated = 1, parents = 1, homeowner = 0, area = Unknown, age = 55-64, income = <100K\u001b[0m with coverage \u001b[0;34m1.1243%\u001b[0m and correctness \u001b[0;32m0.0000%\u001b[0m.\n",
      "\tSubgroup '\u001b[1mM\u001b[0m'\n",
      "\t\tMake \u001b[1mcollege_educated = 1, parents = 1, homeowner = 0, area = Unknown, age = 55-64, income = Unknown\u001b[0m with coverage \u001b[0;34m1.3188%\u001b[0m and correctness \u001b[0;32m100.0000%\u001b[0m.\n",
      "\t\tMake \u001b[1mcollege_educated = 1, parents = 1, homeowner = 0, area = Unknown, age = 55-64, income = <100K\u001b[0m with coverage \u001b[0;34m1.3188%\u001b[0m and correctness \u001b[0;32m100.0000%\u001b[0m.\n",
      "If \u001b[1mcollege_educated = 1, parents = 1, homeowner = 1, age = 55-64, area = Rural\u001b[0m:\n",
      "\tSubgroup '\u001b[1mF\u001b[0m'\n",
      "\t\tMake \u001b[1mcollege_educated = 1, parents = 1, homeowner = 1, age = 45-54, area = Urban\u001b[0m with coverage \u001b[0;34m3.9774%\u001b[0m and correctness \u001b[0;32m0.0000%\u001b[0m.\n",
      "\t\tMake \u001b[1mcollege_educated = 1, parents = 1, homeowner = 0, age = 45-54, area = Unknown\u001b[0m with coverage \u001b[0;34m3.9774%\u001b[0m and correctness \u001b[0;32m99.5974%\u001b[0m.\n",
      "\t\tMake \u001b[1mcollege_educated = 1, parents = 1, homeowner = 0, age = 55-64, area = Urban\u001b[0m with coverage \u001b[0;34m3.9774%\u001b[0m and correctness \u001b[0;32m99.5974%\u001b[0m.\n",
      "\tSubgroup '\u001b[1mM\u001b[0m'\n",
      "\t\tMake \u001b[1mcollege_educated = 1, parents = 1, homeowner = 1, age = 45-54, area = Urban\u001b[0m with coverage \u001b[0;34m4.3309%\u001b[0m and correctness \u001b[0;32m99.5198%\u001b[0m.\n",
      "\t\tMake \u001b[1mcollege_educated = 1, parents = 1, homeowner = 0, age = 45-54, area = Unknown\u001b[0m with coverage \u001b[0;34m4.3309%\u001b[0m and correctness \u001b[0;32m99.5198%\u001b[0m.\n",
      "\t\tMake \u001b[1mcollege_educated = 1, parents = 1, homeowner = 0, age = 55-64, area = Urban\u001b[0m with coverage \u001b[0;34m4.3309%\u001b[0m and correctness \u001b[0;32m100.0000%\u001b[0m.\n",
      "If \u001b[1mcollege_educated = 1, parents = 1, homeowner = 1, age = 55-64, area = Urban\u001b[0m:\n",
      "\tSubgroup '\u001b[1mF\u001b[0m'\n",
      "\t\tMake \u001b[1mcollege_educated = 1, parents = 1, homeowner = 1, age = 45-54, area = Urban\u001b[0m with coverage \u001b[0;34m18.4853%\u001b[0m and correctness \u001b[0;32m0.0000%\u001b[0m.\n",
      "\t\tMake \u001b[1mcollege_educated = 1, parents = 1, homeowner = 0, age = 45-54, area = Unknown\u001b[0m with coverage \u001b[0;34m18.4853%\u001b[0m and correctness \u001b[0;32m99.3689%\u001b[0m.\n",
      "\t\tMake \u001b[1mcollege_educated = 1, parents = 1, homeowner = 0, age = 55-64, area = Urban\u001b[0m with coverage \u001b[0;34m18.4853%\u001b[0m and correctness \u001b[0;32m99.3689%\u001b[0m.\n",
      "\tSubgroup '\u001b[1mM\u001b[0m'\n",
      "\t\tMake \u001b[1mcollege_educated = 1, parents = 1, homeowner = 1, age = 45-54, area = Urban\u001b[0m with coverage \u001b[0;34m20.8606%\u001b[0m and correctness \u001b[0;32m99.4722%\u001b[0m.\n",
      "\t\tMake \u001b[1mcollege_educated = 1, parents = 1, homeowner = 0, age = 45-54, area = Unknown\u001b[0m with coverage \u001b[0;34m20.8606%\u001b[0m and correctness \u001b[0;32m99.4722%\u001b[0m.\n",
      "\t\tMake \u001b[1mcollege_educated = 1, parents = 1, homeowner = 0, age = 55-64, area = Urban\u001b[0m with coverage \u001b[0;34m20.8606%\u001b[0m and correctness \u001b[0;32m100.0000%\u001b[0m.\n",
      "If \u001b[1mparents = 1, college_educated = 1, age = 55-64, area = Urban\u001b[0m:\n",
      "\tSubgroup '\u001b[1mF\u001b[0m'\n",
      "\t\tMake \u001b[1mparents = 1, college_educated = 1, age = 45-54, area = Urban\u001b[0m with coverage \u001b[0;34m18.5025%\u001b[0m and correctness \u001b[0;32m0.0927%\u001b[0m.\n",
      "\tSubgroup '\u001b[1mM\u001b[0m'\n",
      "\t\tMake \u001b[1mparents = 1, college_educated = 1, age = 45-54, area = Urban\u001b[0m with coverage \u001b[0;34m20.8606%\u001b[0m and correctness \u001b[0;32m99.4722%\u001b[0m.\n",
      "If \u001b[1mcollege_educated = 1, parents = 0, income = Unknown, age = 55-64, area = Urban\u001b[0m:\n",
      "\tSubgroup '\u001b[1mF\u001b[0m'\n",
      "\t\tMake \u001b[1mcollege_educated = 1, parents = 1, income = Unknown, age = 45-54, area = Urban\u001b[0m with coverage \u001b[0;34m1.0665%\u001b[0m and correctness \u001b[0;32m0.7507%\u001b[0m.\n",
      "\t\tMake \u001b[1mcollege_educated = 1, parents = 1, income = Unknown, age = 55-64, area = Urban\u001b[0m with coverage \u001b[0;34m1.0665%\u001b[0m and correctness \u001b[0;32m0.7507%\u001b[0m.\n",
      "\tSubgroup '\u001b[1mM\u001b[0m'\n",
      "\t\tMake \u001b[1mcollege_educated = 1, parents = 1, income = Unknown, age = 45-54, area = Urban\u001b[0m with coverage \u001b[0;34m1.2063%\u001b[0m and correctness \u001b[0;32m100.0000%\u001b[0m.\n",
      "\t\tMake \u001b[1mcollege_educated = 1, parents = 1, income = Unknown, age = 55-64, area = Urban\u001b[0m with coverage \u001b[0;34m1.2063%\u001b[0m and correctness \u001b[0;32m0.0000%\u001b[0m.\n",
      "If \u001b[1mparents = 1, area = Rural, college_educated = 1, age = 55-64\u001b[0m:\n",
      "\tSubgroup '\u001b[1mF\u001b[0m'\n",
      "\t\tMake \u001b[1mparents = 1, area = Urban, college_educated = 0, age = 55-64\u001b[0m with coverage \u001b[0;34m3.9883%\u001b[0m and correctness \u001b[0;32m0.2724%\u001b[0m.\n",
      "\t\tMake \u001b[1mparents = 1, area = Urban, college_educated = 1, age = 55-64\u001b[0m with coverage \u001b[0;34m3.9883%\u001b[0m and correctness \u001b[0;32m0.0860%\u001b[0m.\n",
      "\tSubgroup '\u001b[1mM\u001b[0m'\n",
      "\t\tMake \u001b[1mparents = 1, area = Urban, college_educated = 0, age = 55-64\u001b[0m with coverage \u001b[0;34m4.3370%\u001b[0m and correctness \u001b[0;32m99.5205%\u001b[0m.\n",
      "\t\tMake \u001b[1mparents = 1, area = Urban, college_educated = 1, age = 55-64\u001b[0m with coverage \u001b[0;34m4.3370%\u001b[0m and correctness \u001b[0;32m0.1410%\u001b[0m.\n",
      "\n"
     ]
    }
   ],
   "source": [
    "from formatting import recourse_report_reverse\n",
    "\n",
    "K = 10\n",
    "\n",
    "# keep K ifs with maximum coverage on Females\n",
    "# TODO: the below is currently dataset dependent\n",
    "# rules_by_if_filtered = sorted(rules_by_if.items(), key=lambda e: e[1][\"F\"][0][1], reverse=True)[:K]\n",
    "\n",
    "# keep K ifs with maximum absolute difference in correctness between Males and Females.\n",
    "# TODO: the below is currently dataset dependent\n",
    "rules_by_if_filtered = sorted(rules_by_if.items(), key=lambda e: abs(e[1][\"M\"][0][2]-e[1][\"F\"][0][2]), reverse=True)[:K]\n",
    "\n",
    "rules_by_if_filtered = dict(rules_by_if_filtered)\n",
    "\n",
    "print(recourse_report_reverse(list(rules_by_if_filtered.items()), missing_subgroup_val=\"Unknown\"))"
   ]
  },
  {
   "cell_type": "code",
   "execution_count": 16,
   "id": "c3d9345a-d3f6-4db1-9fa2-887cf76c0149",
   "metadata": {},
   "outputs": [],
   "source": [
    "##### Uncomment if you wish to save rules object on disk\n",
    "\n",
    "# import dill\n",
    "\n",
    "# with open(\"rules.data\", \"wb\") as outf:\n",
    "#     dill.dump(rules_by_if, outf)"
   ]
  },
  {
   "cell_type": "markdown",
   "id": "680049be-1176-44d9-ba37-61b194dfb97f",
   "metadata": {},
   "source": [
    "# Filter rules by different scoring functions"
   ]
  },
  {
   "cell_type": "code",
   "execution_count": 17,
   "id": "30e1fd26-1371-4fd1-8357-0221728a97b1",
   "metadata": {},
   "outputs": [
    {
     "name": "stdout",
     "output_type": "stream",
     "text": [
      "If \u001b[1mcollege_educated = 1, parents = 1, homeowner = 1, area = Unknown, age = 55-64, income = Unknown\u001b[0m:\n",
      "\tSubgroup '\u001b[1mF\u001b[0m'\n",
      "\t\tMake \u001b[1mcollege_educated = 1, parents = 1, homeowner = 0, area = Unknown, age = 55-64, income = Unknown\u001b[0m with coverage \u001b[0;34m51.0554%\u001b[0m and correctness \u001b[0;32m0.0000%\u001b[0m.\n",
      "\t\tMake \u001b[1mcollege_educated = 1, parents = 1, homeowner = 0, area = Unknown, age = 55-64, income = <100K\u001b[0m with coverage \u001b[0;34m51.0554%\u001b[0m and correctness \u001b[0;32m0.0000%\u001b[0m.\n",
      "\tSubgroup '\u001b[1mM\u001b[0m'\n",
      "\t\tMake \u001b[1mcollege_educated = 1, parents = 1, homeowner = 0, area = Unknown, age = 55-64, income = Unknown\u001b[0m with coverage \u001b[0;34m57.4873%\u001b[0m and correctness \u001b[0;32m100.0000%\u001b[0m.\n",
      "\t\tMake \u001b[1mcollege_educated = 1, parents = 1, homeowner = 0, area = Unknown, age = 55-64, income = <100K\u001b[0m with coverage \u001b[0;34m57.4873%\u001b[0m and correctness \u001b[0;32m100.0000%\u001b[0m.\n",
      "If \u001b[1mcollege_educated = 1, parents = 1, homeowner = 1, age = 55-64, area = Rural, income = Unknown\u001b[0m:\n",
      "\tSubgroup '\u001b[1mF\u001b[0m'\n",
      "\t\tMake \u001b[1mcollege_educated = 1, parents = 1, homeowner = 1, age = 45-54, area = Urban, income = Unknown\u001b[0m with coverage \u001b[0;34m3.9471%\u001b[0m and correctness \u001b[0;32m0.0000%\u001b[0m.\n",
      "\t\tMake \u001b[1mcollege_educated = 1, parents = 1, homeowner = 0, age = 45-54, area = Unknown, income = Unknown\u001b[0m with coverage \u001b[0;34m3.9471%\u001b[0m and correctness \u001b[0;32m100.0000%\u001b[0m.\n",
      "\tSubgroup '\u001b[1mM\u001b[0m'\n",
      "\t\tMake \u001b[1mcollege_educated = 1, parents = 1, homeowner = 1, age = 45-54, area = Urban, income = Unknown\u001b[0m with coverage \u001b[0;34m4.2954%\u001b[0m and correctness \u001b[0;32m100.0000%\u001b[0m.\n",
      "\t\tMake \u001b[1mcollege_educated = 1, parents = 1, homeowner = 0, age = 45-54, area = Unknown, income = Unknown\u001b[0m with coverage \u001b[0;34m4.2954%\u001b[0m and correctness \u001b[0;32m100.0000%\u001b[0m.\n",
      "If \u001b[1mcollege_educated = 1, parents = 1, homeowner = 1, area = Unknown, age = Unknown, income = Unknown\u001b[0m:\n",
      "\tSubgroup '\u001b[1mF\u001b[0m'\n",
      "\t\tMake \u001b[1mcollege_educated = 1, parents = 1, homeowner = 0, area = Unknown, age = 55-64, income = Unknown\u001b[0m with coverage \u001b[0;34m1.5458%\u001b[0m and correctness \u001b[0;32m0.0000%\u001b[0m.\n",
      "\t\tMake \u001b[1mcollege_educated = 1, parents = 1, homeowner = 0, area = Unknown, age = 55-64, income = <100K\u001b[0m with coverage \u001b[0;34m1.5458%\u001b[0m and correctness \u001b[0;32m0.0000%\u001b[0m.\n",
      "\tSubgroup '\u001b[1mM\u001b[0m'\n",
      "\t\tMake \u001b[1mcollege_educated = 1, parents = 1, homeowner = 0, area = Unknown, age = 55-64, income = Unknown\u001b[0m with coverage \u001b[0;34m1.7042%\u001b[0m and correctness \u001b[0;32m100.0000%\u001b[0m.\n",
      "\t\tMake \u001b[1mcollege_educated = 1, parents = 1, homeowner = 0, area = Unknown, age = 55-64, income = <100K\u001b[0m with coverage \u001b[0;34m1.7042%\u001b[0m and correctness \u001b[0;32m100.0000%\u001b[0m.\n",
      "If \u001b[1mcollege_educated = 1, parents = 1, income = Unknown, age = 55-64, area = Urban\u001b[0m:\n",
      "\tSubgroup '\u001b[1mF\u001b[0m'\n",
      "\t\tMake \u001b[1mcollege_educated = 1, parents = 1, income = Unknown, age = 45-54, area = Urban\u001b[0m with coverage \u001b[0;34m18.2520%\u001b[0m and correctness \u001b[0;32m0.0000%\u001b[0m.\n",
      "\tSubgroup '\u001b[1mM\u001b[0m'\n",
      "\t\tMake \u001b[1mcollege_educated = 1, parents = 1, income = Unknown, age = 45-54, area = Urban\u001b[0m with coverage \u001b[0;34m20.6098%\u001b[0m and correctness \u001b[0;32m100.0000%\u001b[0m.\n",
      "If \u001b[1mcollege_educated = 1, parents = 1, homeowner = 1, area = Unknown, age = 55-64, income = <100K\u001b[0m:\n",
      "\tSubgroup '\u001b[1mF\u001b[0m'\n",
      "\t\tMake \u001b[1mcollege_educated = 1, parents = 1, homeowner = 0, area = Unknown, age = 55-64, income = Unknown\u001b[0m with coverage \u001b[0;34m1.1243%\u001b[0m and correctness \u001b[0;32m0.0000%\u001b[0m.\n",
      "\t\tMake \u001b[1mcollege_educated = 1, parents = 1, homeowner = 0, area = Unknown, age = 55-64, income = <100K\u001b[0m with coverage \u001b[0;34m1.1243%\u001b[0m and correctness \u001b[0;32m0.0000%\u001b[0m.\n",
      "\tSubgroup '\u001b[1mM\u001b[0m'\n",
      "\t\tMake \u001b[1mcollege_educated = 1, parents = 1, homeowner = 0, area = Unknown, age = 55-64, income = Unknown\u001b[0m with coverage \u001b[0;34m1.3188%\u001b[0m and correctness \u001b[0;32m100.0000%\u001b[0m.\n",
      "\t\tMake \u001b[1mcollege_educated = 1, parents = 1, homeowner = 0, area = Unknown, age = 55-64, income = <100K\u001b[0m with coverage \u001b[0;34m1.3188%\u001b[0m and correctness \u001b[0;32m100.0000%\u001b[0m.\n",
      "If \u001b[1mcollege_educated = 1, parents = 1, homeowner = 1, age = 55-64, area = Rural\u001b[0m:\n",
      "\tSubgroup '\u001b[1mF\u001b[0m'\n",
      "\t\tMake \u001b[1mcollege_educated = 1, parents = 1, homeowner = 1, age = 45-54, area = Urban\u001b[0m with coverage \u001b[0;34m3.9774%\u001b[0m and correctness \u001b[0;32m0.0000%\u001b[0m.\n",
      "\t\tMake \u001b[1mcollege_educated = 1, parents = 1, homeowner = 0, age = 45-54, area = Unknown\u001b[0m with coverage \u001b[0;34m3.9774%\u001b[0m and correctness \u001b[0;32m99.5974%\u001b[0m.\n",
      "\t\tMake \u001b[1mcollege_educated = 1, parents = 1, homeowner = 0, age = 55-64, area = Urban\u001b[0m with coverage \u001b[0;34m3.9774%\u001b[0m and correctness \u001b[0;32m99.5974%\u001b[0m.\n",
      "\tSubgroup '\u001b[1mM\u001b[0m'\n",
      "\t\tMake \u001b[1mcollege_educated = 1, parents = 1, homeowner = 1, age = 45-54, area = Urban\u001b[0m with coverage \u001b[0;34m4.3309%\u001b[0m and correctness \u001b[0;32m99.5198%\u001b[0m.\n",
      "\t\tMake \u001b[1mcollege_educated = 1, parents = 1, homeowner = 0, age = 45-54, area = Unknown\u001b[0m with coverage \u001b[0;34m4.3309%\u001b[0m and correctness \u001b[0;32m99.5198%\u001b[0m.\n",
      "\t\tMake \u001b[1mcollege_educated = 1, parents = 1, homeowner = 0, age = 55-64, area = Urban\u001b[0m with coverage \u001b[0;34m4.3309%\u001b[0m and correctness \u001b[0;32m100.0000%\u001b[0m.\n",
      "If \u001b[1mcollege_educated = 1, parents = 1, homeowner = 1, age = 55-64, area = Urban\u001b[0m:\n",
      "\tSubgroup '\u001b[1mF\u001b[0m'\n",
      "\t\tMake \u001b[1mcollege_educated = 1, parents = 1, homeowner = 1, age = 45-54, area = Urban\u001b[0m with coverage \u001b[0;34m18.4853%\u001b[0m and correctness \u001b[0;32m0.0000%\u001b[0m.\n",
      "\t\tMake \u001b[1mcollege_educated = 1, parents = 1, homeowner = 0, age = 45-54, area = Unknown\u001b[0m with coverage \u001b[0;34m18.4853%\u001b[0m and correctness \u001b[0;32m99.3689%\u001b[0m.\n",
      "\t\tMake \u001b[1mcollege_educated = 1, parents = 1, homeowner = 0, age = 55-64, area = Urban\u001b[0m with coverage \u001b[0;34m18.4853%\u001b[0m and correctness \u001b[0;32m99.3689%\u001b[0m.\n",
      "\tSubgroup '\u001b[1mM\u001b[0m'\n",
      "\t\tMake \u001b[1mcollege_educated = 1, parents = 1, homeowner = 1, age = 45-54, area = Urban\u001b[0m with coverage \u001b[0;34m20.8606%\u001b[0m and correctness \u001b[0;32m99.4722%\u001b[0m.\n",
      "\t\tMake \u001b[1mcollege_educated = 1, parents = 1, homeowner = 0, age = 45-54, area = Unknown\u001b[0m with coverage \u001b[0;34m20.8606%\u001b[0m and correctness \u001b[0;32m99.4722%\u001b[0m.\n",
      "\t\tMake \u001b[1mcollege_educated = 1, parents = 1, homeowner = 0, age = 55-64, area = Urban\u001b[0m with coverage \u001b[0;34m20.8606%\u001b[0m and correctness \u001b[0;32m100.0000%\u001b[0m.\n",
      "If \u001b[1mparents = 1, college_educated = 1, age = 55-64, area = Urban\u001b[0m:\n",
      "\tSubgroup '\u001b[1mF\u001b[0m'\n",
      "\t\tMake \u001b[1mparents = 1, college_educated = 1, age = 45-54, area = Urban\u001b[0m with coverage \u001b[0;34m18.5025%\u001b[0m and correctness \u001b[0;32m0.0927%\u001b[0m.\n",
      "\tSubgroup '\u001b[1mM\u001b[0m'\n",
      "\t\tMake \u001b[1mparents = 1, college_educated = 1, age = 45-54, area = Urban\u001b[0m with coverage \u001b[0;34m20.8606%\u001b[0m and correctness \u001b[0;32m99.4722%\u001b[0m.\n",
      "If \u001b[1mcollege_educated = 1, parents = 0, income = Unknown, age = 55-64, area = Urban\u001b[0m:\n",
      "\tSubgroup '\u001b[1mF\u001b[0m'\n",
      "\t\tMake \u001b[1mcollege_educated = 1, parents = 1, income = Unknown, age = 45-54, area = Urban\u001b[0m with coverage \u001b[0;34m1.0665%\u001b[0m and correctness \u001b[0;32m0.7507%\u001b[0m.\n",
      "\t\tMake \u001b[1mcollege_educated = 1, parents = 1, income = Unknown, age = 55-64, area = Urban\u001b[0m with coverage \u001b[0;34m1.0665%\u001b[0m and correctness \u001b[0;32m0.7507%\u001b[0m.\n",
      "\tSubgroup '\u001b[1mM\u001b[0m'\n",
      "\t\tMake \u001b[1mcollege_educated = 1, parents = 1, income = Unknown, age = 45-54, area = Urban\u001b[0m with coverage \u001b[0;34m1.2063%\u001b[0m and correctness \u001b[0;32m100.0000%\u001b[0m.\n",
      "\t\tMake \u001b[1mcollege_educated = 1, parents = 1, income = Unknown, age = 55-64, area = Urban\u001b[0m with coverage \u001b[0;34m1.2063%\u001b[0m and correctness \u001b[0;32m0.0000%\u001b[0m.\n",
      "If \u001b[1mparents = 1, area = Rural, college_educated = 1, age = 55-64\u001b[0m:\n",
      "\tSubgroup '\u001b[1mF\u001b[0m'\n",
      "\t\tMake \u001b[1mparents = 1, area = Urban, college_educated = 0, age = 55-64\u001b[0m with coverage \u001b[0;34m3.9883%\u001b[0m and correctness \u001b[0;32m0.2724%\u001b[0m.\n",
      "\t\tMake \u001b[1mparents = 1, area = Urban, college_educated = 1, age = 55-64\u001b[0m with coverage \u001b[0;34m3.9883%\u001b[0m and correctness \u001b[0;32m0.0860%\u001b[0m.\n",
      "\tSubgroup '\u001b[1mM\u001b[0m'\n",
      "\t\tMake \u001b[1mparents = 1, area = Urban, college_educated = 0, age = 55-64\u001b[0m with coverage \u001b[0;34m4.3370%\u001b[0m and correctness \u001b[0;32m99.5205%\u001b[0m.\n",
      "\t\tMake \u001b[1mparents = 1, area = Urban, college_educated = 1, age = 55-64\u001b[0m with coverage \u001b[0;34m4.3370%\u001b[0m and correctness \u001b[0;32m0.1410%\u001b[0m.\n",
      "\n"
     ]
    }
   ],
   "source": [
    "K = 10\n",
    "\n",
    "rules_max_costdiff_2groups = lib2.sort_triples_by_costdiff_2groups(rules_by_if)[:K]\n",
    "rules_max_costdiff_2groups = dict(rules_max_costdiff_2groups)\n",
    "\n",
    "print(recourse_report_reverse(list(rules_by_if_filtered.items()), missing_subgroup_val=\"Unknown\"))"
   ]
  }
 ],
 "metadata": {
  "kernelspec": {
   "display_name": "Python 3 (ipykernel)",
   "language": "python",
   "name": "python3"
  },
  "language_info": {
   "codemirror_mode": {
    "name": "ipython",
    "version": 3
   },
   "file_extension": ".py",
   "mimetype": "text/x-python",
   "name": "python",
   "nbconvert_exporter": "python",
   "pygments_lexer": "ipython3",
   "version": "3.9.15"
  }
 },
 "nbformat": 4,
 "nbformat_minor": 5
}
