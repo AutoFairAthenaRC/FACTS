{
 "cells": [
  {
   "cell_type": "markdown",
   "id": "a4164f0d",
   "metadata": {},
   "source": [
    "## Import libraries"
   ]
  },
  {
   "cell_type": "code",
   "execution_count": 1,
   "id": "50536eb3",
   "metadata": {
    "tags": []
   },
   "outputs": [],
   "source": [
    "import pandas as pd\n",
    "import numpy as np\n",
    "from pprint import pprint\n",
    "\n",
    "from sklearn.model_selection import train_test_split\n",
    "from sklearn.metrics import classification_report, confusion_matrix, ConfusionMatrixDisplay\n",
    "\n",
    "from models import customLogisticRegression\n",
    "from parameters import ParameterProxy\n",
    "from lib2 import valid_ifthens_with_coverage_correctness, rules2rulesbyif\n",
    "import lib2\n",
    "from formatting import recourse_report_reverse\n",
    "\n",
    "import matplotlib.pyplot as plt\n",
    "\n",
    "from IPython.display import Markdown, display"
   ]
  },
  {
   "cell_type": "code",
   "execution_count": 2,
   "id": "fd56032c",
   "metadata": {
    "tags": []
   },
   "outputs": [],
   "source": [
    "### do we need these?\n",
    "\n",
    "# from aif360.datasets import StandardDataset\n",
    "# from aif360.metrics import ClassificationMetric, BinaryLabelDatasetMetric\n",
    "# from aif360.algorithms.postprocessing import RejectOptionClassification\n",
    "# from aif360.detectors.mdss.ScoringFunctions import Bernoulli\n",
    "# from aif360.detectors.mdss.MDSS import MDSS\n",
    "# from aif360.detectors.mdss.generator import get_random_subset"
   ]
  },
  {
   "cell_type": "code",
   "execution_count": 3,
   "id": "99fb977c",
   "metadata": {
    "tags": []
   },
   "outputs": [],
   "source": [
    "DATAFILE = '../ad_campaign_data.csv' # location of dataset\n",
    "random_state = None # change to something for exactly reproducible results\n",
    "\n",
    "# as selected in \"tutorial_bias_advertising\" notebook\n",
    "selected_features = ['gender', 'parents', 'age', 'income', 'area', 'college_educated', 'homeowner']\n",
    "cate_features = ['gender', 'parents', 'age', 'income', 'area', 'college_educated']\n",
    "num_features = ['homeowner']\n",
    "\n",
    "# if not specified, set to 1\n",
    "feature_weights = {\"gender\": 1, \"parents\": 1, \"age\": 1}\n",
    "\n",
    "target_name = \"true_conversion\"\n",
    "positive_label = 1\n",
    "negative_label = 0\n",
    "\n",
    "model_train_fraction = 0.7\n",
    "learning_class_weights = {0: 0.5, 1: 265}\n",
    "\n",
    "sensitive_attribute = \"gender\""
   ]
  },
  {
   "cell_type": "markdown",
   "id": "7f50c922",
   "metadata": {},
   "source": [
    "## Load Dataset"
   ]
  },
  {
   "cell_type": "code",
   "execution_count": 4,
   "id": "7ec3f668",
   "metadata": {
    "tags": []
   },
   "outputs": [
    {
     "data": {
      "text/html": [
       "<div>\n",
       "<style scoped>\n",
       "    .dataframe tbody tr th:only-of-type {\n",
       "        vertical-align: middle;\n",
       "    }\n",
       "\n",
       "    .dataframe tbody tr th {\n",
       "        vertical-align: top;\n",
       "    }\n",
       "\n",
       "    .dataframe thead th {\n",
       "        text-align: right;\n",
       "    }\n",
       "</style>\n",
       "<table border=\"1\" class=\"dataframe\">\n",
       "  <thead>\n",
       "    <tr style=\"text-align: right;\">\n",
       "      <th></th>\n",
       "      <th>religion</th>\n",
       "      <th>politics</th>\n",
       "      <th>college_educated</th>\n",
       "      <th>parents</th>\n",
       "      <th>homeowner</th>\n",
       "      <th>gender</th>\n",
       "      <th>age</th>\n",
       "      <th>income</th>\n",
       "      <th>area</th>\n",
       "      <th>true_conversion</th>\n",
       "      <th>predicted_conversion</th>\n",
       "      <th>predicted_probability</th>\n",
       "    </tr>\n",
       "  </thead>\n",
       "  <tbody>\n",
       "    <tr>\n",
       "      <th>0</th>\n",
       "      <td>Unknown</td>\n",
       "      <td>Unknown</td>\n",
       "      <td>1</td>\n",
       "      <td>1</td>\n",
       "      <td>1</td>\n",
       "      <td>Unknown</td>\n",
       "      <td>55-64</td>\n",
       "      <td>Unknown</td>\n",
       "      <td>Unknown</td>\n",
       "      <td>0</td>\n",
       "      <td>0</td>\n",
       "      <td>0.001351</td>\n",
       "    </tr>\n",
       "    <tr>\n",
       "      <th>1</th>\n",
       "      <td>Other</td>\n",
       "      <td>Unknown</td>\n",
       "      <td>1</td>\n",
       "      <td>1</td>\n",
       "      <td>1</td>\n",
       "      <td>Unknown</td>\n",
       "      <td>55-64</td>\n",
       "      <td>Unknown</td>\n",
       "      <td>Urban</td>\n",
       "      <td>0</td>\n",
       "      <td>0</td>\n",
       "      <td>0.002238</td>\n",
       "    </tr>\n",
       "    <tr>\n",
       "      <th>2</th>\n",
       "      <td>Unknown</td>\n",
       "      <td>Unknown</td>\n",
       "      <td>1</td>\n",
       "      <td>1</td>\n",
       "      <td>1</td>\n",
       "      <td>F</td>\n",
       "      <td>55-64</td>\n",
       "      <td>Unknown</td>\n",
       "      <td>Unknown</td>\n",
       "      <td>0</td>\n",
       "      <td>0</td>\n",
       "      <td>0.002704</td>\n",
       "    </tr>\n",
       "    <tr>\n",
       "      <th>3</th>\n",
       "      <td>Unknown</td>\n",
       "      <td>Unknown</td>\n",
       "      <td>1</td>\n",
       "      <td>1</td>\n",
       "      <td>1</td>\n",
       "      <td>F</td>\n",
       "      <td>55-64</td>\n",
       "      <td>Unknown</td>\n",
       "      <td>Unknown</td>\n",
       "      <td>0</td>\n",
       "      <td>0</td>\n",
       "      <td>0.001967</td>\n",
       "    </tr>\n",
       "    <tr>\n",
       "      <th>4</th>\n",
       "      <td>Unknown</td>\n",
       "      <td>Unknown</td>\n",
       "      <td>1</td>\n",
       "      <td>1</td>\n",
       "      <td>1</td>\n",
       "      <td>F</td>\n",
       "      <td>55-64</td>\n",
       "      <td>Unknown</td>\n",
       "      <td>Urban</td>\n",
       "      <td>0</td>\n",
       "      <td>0</td>\n",
       "      <td>0.001681</td>\n",
       "    </tr>\n",
       "  </tbody>\n",
       "</table>\n",
       "</div>"
      ],
      "text/plain": [
       "  religion politics  college_educated  parents  homeowner   gender    age  \\\n",
       "0  Unknown  Unknown                 1        1          1  Unknown  55-64   \n",
       "1    Other  Unknown                 1        1          1  Unknown  55-64   \n",
       "2  Unknown  Unknown                 1        1          1        F  55-64   \n",
       "3  Unknown  Unknown                 1        1          1        F  55-64   \n",
       "4  Unknown  Unknown                 1        1          1        F  55-64   \n",
       "\n",
       "    income     area  true_conversion  predicted_conversion  \\\n",
       "0  Unknown  Unknown                0                     0   \n",
       "1  Unknown    Urban                0                     0   \n",
       "2  Unknown  Unknown                0                     0   \n",
       "3  Unknown  Unknown                0                     0   \n",
       "4  Unknown    Urban                0                     0   \n",
       "\n",
       "   predicted_probability  \n",
       "0               0.001351  \n",
       "1               0.002238  \n",
       "2               0.002704  \n",
       "3               0.001967  \n",
       "4               0.001681  "
      ]
     },
     "execution_count": 4,
     "metadata": {},
     "output_type": "execute_result"
    }
   ],
   "source": [
    "ad_conversion_dataset = pd.read_csv(DATAFILE)\n",
    "ad_conversion_dataset.head()"
   ]
  },
  {
   "cell_type": "markdown",
   "id": "c01544c3",
   "metadata": {},
   "source": [
    "### Print some statistics for the dataset"
   ]
  },
  {
   "cell_type": "code",
   "execution_count": 5,
   "id": "3710bcf3",
   "metadata": {
    "tags": []
   },
   "outputs": [
    {
     "name": "stdout",
     "output_type": "stream",
     "text": [
      "Number of (instances, attributes) in the dataset = (1443140, 12)\n",
      "\n",
      "Statistics of true conversions (0=no, 1=yes)\n",
      "0    1440766\n",
      "1       2374\n",
      "Name: true_conversion, dtype: int64\n",
      "\n",
      "Statistics of predicted conversions (0=no, 1=yes)\n",
      "0    1440773\n",
      "1       2367\n",
      "Name: predicted_conversion, dtype: int64\n"
     ]
    }
   ],
   "source": [
    "print(f\"Number of (instances, attributes) in the dataset = {ad_conversion_dataset.shape}\")\n",
    "print()\n",
    "\n",
    "print(f\"Statistics of true conversions (0=no, 1=yes)\")\n",
    "print(ad_conversion_dataset.true_conversion.value_counts())\n",
    "print()\n",
    "\n",
    "print(f\"Statistics of predicted conversions (0=no, 1=yes)\")\n",
    "print(ad_conversion_dataset.predicted_conversion.value_counts())"
   ]
  },
  {
   "cell_type": "markdown",
   "id": "6774262f",
   "metadata": {},
   "source": [
    "### Warning!\n",
    "\n",
    "There is no model!\n",
    "\n",
    "Predictions (from whatever model has been used) have been incorporated into the dataset, in the columns \"predicted_conversion\" (which is the predicted label) and \"predicted_probability\" (which is the predicted probability of belonging to the positive class).\n",
    "\n",
    "Moreover, the dataset is highly unbalanced, and this is also evident in the poor efficiency of the model, as demonstrated in the confusion matrix below."
   ]
  },
  {
   "cell_type": "code",
   "execution_count": 6,
   "id": "03eb55a7-2240-4244-8c9e-c005e36e8f0f",
   "metadata": {
    "tags": []
   },
   "outputs": [
    {
     "data": {
      "image/png": "[encoded data removed]",
      "text/plain": [
       "<Figure size 640x480 with 2 Axes>"
      ]
     },
     "metadata": {},
     "output_type": "display_data"
    }
   ],
   "source": [
    "conf_matrix = confusion_matrix(ad_conversion_dataset.true_conversion, ad_conversion_dataset.predicted_conversion)\n",
    "cm_disp = ConfusionMatrixDisplay(confusion_matrix=conf_matrix)\n",
    "cm_disp.plot()\n",
    "plt.show()"
   ]
  },
  {
   "cell_type": "markdown",
   "id": "5f1b33fa-c6c9-4770-8123-0f69f918e265",
   "metadata": {},
   "source": [
    "# Preprocessing"
   ]
  },
  {
   "cell_type": "code",
   "execution_count": 7,
   "id": "8ee07f88",
   "metadata": {
    "tags": []
   },
   "outputs": [
    {
     "data": {
      "text/html": [
       "<div>\n",
       "<style scoped>\n",
       "    .dataframe tbody tr th:only-of-type {\n",
       "        vertical-align: middle;\n",
       "    }\n",
       "\n",
       "    .dataframe tbody tr th {\n",
       "        vertical-align: top;\n",
       "    }\n",
       "\n",
       "    .dataframe thead th {\n",
       "        text-align: right;\n",
       "    }\n",
       "</style>\n",
       "<table border=\"1\" class=\"dataframe\">\n",
       "  <thead>\n",
       "    <tr style=\"text-align: right;\">\n",
       "      <th></th>\n",
       "      <th>gender</th>\n",
       "      <th>parents</th>\n",
       "      <th>age</th>\n",
       "      <th>income</th>\n",
       "      <th>area</th>\n",
       "      <th>college_educated</th>\n",
       "      <th>homeowner</th>\n",
       "      <th>true_conversion</th>\n",
       "    </tr>\n",
       "  </thead>\n",
       "  <tbody>\n",
       "    <tr>\n",
       "      <th>0</th>\n",
       "      <td>Unknown</td>\n",
       "      <td>1</td>\n",
       "      <td>55-64</td>\n",
       "      <td>Unknown</td>\n",
       "      <td>Unknown</td>\n",
       "      <td>1</td>\n",
       "      <td>1</td>\n",
       "      <td>0</td>\n",
       "    </tr>\n",
       "    <tr>\n",
       "      <th>1</th>\n",
       "      <td>Unknown</td>\n",
       "      <td>1</td>\n",
       "      <td>55-64</td>\n",
       "      <td>Unknown</td>\n",
       "      <td>Urban</td>\n",
       "      <td>1</td>\n",
       "      <td>1</td>\n",
       "      <td>0</td>\n",
       "    </tr>\n",
       "    <tr>\n",
       "      <th>2</th>\n",
       "      <td>F</td>\n",
       "      <td>1</td>\n",
       "      <td>55-64</td>\n",
       "      <td>Unknown</td>\n",
       "      <td>Unknown</td>\n",
       "      <td>1</td>\n",
       "      <td>1</td>\n",
       "      <td>0</td>\n",
       "    </tr>\n",
       "    <tr>\n",
       "      <th>3</th>\n",
       "      <td>F</td>\n",
       "      <td>1</td>\n",
       "      <td>55-64</td>\n",
       "      <td>Unknown</td>\n",
       "      <td>Unknown</td>\n",
       "      <td>1</td>\n",
       "      <td>1</td>\n",
       "      <td>0</td>\n",
       "    </tr>\n",
       "    <tr>\n",
       "      <th>4</th>\n",
       "      <td>F</td>\n",
       "      <td>1</td>\n",
       "      <td>55-64</td>\n",
       "      <td>Unknown</td>\n",
       "      <td>Urban</td>\n",
       "      <td>1</td>\n",
       "      <td>1</td>\n",
       "      <td>0</td>\n",
       "    </tr>\n",
       "    <tr>\n",
       "      <th>...</th>\n",
       "      <td>...</td>\n",
       "      <td>...</td>\n",
       "      <td>...</td>\n",
       "      <td>...</td>\n",
       "      <td>...</td>\n",
       "      <td>...</td>\n",
       "      <td>...</td>\n",
       "      <td>...</td>\n",
       "    </tr>\n",
       "    <tr>\n",
       "      <th>1443135</th>\n",
       "      <td>F</td>\n",
       "      <td>1</td>\n",
       "      <td>25-34</td>\n",
       "      <td>Unknown</td>\n",
       "      <td>Unknown</td>\n",
       "      <td>1</td>\n",
       "      <td>1</td>\n",
       "      <td>0</td>\n",
       "    </tr>\n",
       "    <tr>\n",
       "      <th>1443136</th>\n",
       "      <td>F</td>\n",
       "      <td>1</td>\n",
       "      <td>55-64</td>\n",
       "      <td>Unknown</td>\n",
       "      <td>Unknown</td>\n",
       "      <td>1</td>\n",
       "      <td>0</td>\n",
       "      <td>0</td>\n",
       "    </tr>\n",
       "    <tr>\n",
       "      <th>1443137</th>\n",
       "      <td>Unknown</td>\n",
       "      <td>1</td>\n",
       "      <td>55-64</td>\n",
       "      <td>Unknown</td>\n",
       "      <td>Unknown</td>\n",
       "      <td>1</td>\n",
       "      <td>1</td>\n",
       "      <td>0</td>\n",
       "    </tr>\n",
       "    <tr>\n",
       "      <th>1443138</th>\n",
       "      <td>F</td>\n",
       "      <td>1</td>\n",
       "      <td>55-64</td>\n",
       "      <td>Unknown</td>\n",
       "      <td>Unknown</td>\n",
       "      <td>1</td>\n",
       "      <td>1</td>\n",
       "      <td>0</td>\n",
       "    </tr>\n",
       "    <tr>\n",
       "      <th>1443139</th>\n",
       "      <td>F</td>\n",
       "      <td>1</td>\n",
       "      <td>55-64</td>\n",
       "      <td>Unknown</td>\n",
       "      <td>Unknown</td>\n",
       "      <td>1</td>\n",
       "      <td>1</td>\n",
       "      <td>0</td>\n",
       "    </tr>\n",
       "  </tbody>\n",
       "</table>\n",
       "<p>1443140 rows × 8 columns</p>\n",
       "</div>"
      ],
      "text/plain": [
       "          gender  parents    age   income     area  college_educated  \\\n",
       "0        Unknown        1  55-64  Unknown  Unknown                 1   \n",
       "1        Unknown        1  55-64  Unknown    Urban                 1   \n",
       "2              F        1  55-64  Unknown  Unknown                 1   \n",
       "3              F        1  55-64  Unknown  Unknown                 1   \n",
       "4              F        1  55-64  Unknown    Urban                 1   \n",
       "...          ...      ...    ...      ...      ...               ...   \n",
       "1443135        F        1  25-34  Unknown  Unknown                 1   \n",
       "1443136        F        1  55-64  Unknown  Unknown                 1   \n",
       "1443137  Unknown        1  55-64  Unknown  Unknown                 1   \n",
       "1443138        F        1  55-64  Unknown  Unknown                 1   \n",
       "1443139        F        1  55-64  Unknown  Unknown                 1   \n",
       "\n",
       "         homeowner  true_conversion  \n",
       "0                1                0  \n",
       "1                1                0  \n",
       "2                1                0  \n",
       "3                1                0  \n",
       "4                1                0  \n",
       "...            ...              ...  \n",
       "1443135          1                0  \n",
       "1443136          0                0  \n",
       "1443137          1                0  \n",
       "1443138          1                0  \n",
       "1443139          1                0  \n",
       "\n",
       "[1443140 rows x 8 columns]"
      ]
     },
     "execution_count": 7,
     "metadata": {},
     "output_type": "execute_result"
    }
   ],
   "source": [
    "## keep only the columns in selected_features, plus the label column\n",
    "ad_conversion_dataset = ad_conversion_dataset[selected_features + [target_name]]\n",
    "ad_conversion_dataset"
   ]
  },
  {
   "cell_type": "code",
   "execution_count": 8,
   "id": "e2d5162d",
   "metadata": {
    "tags": []
   },
   "outputs": [],
   "source": [
    "## train-test split\n",
    "\n",
    "X = ad_conversion_dataset.drop(target_name, axis=1)\n",
    "y = ad_conversion_dataset[target_name]\n",
    "\n",
    "X_train, X_test, y_train, y_test = train_test_split(X, y, train_size=model_train_fraction, random_state=random_state, stratify=y)\n",
    "\n",
    "X_train = X_train.reset_index(drop=True)\n",
    "X_test = X_test.reset_index(drop=True)\n",
    "y_train = y_train.reset_index(drop=True)\n",
    "y_test = y_test.reset_index(drop=True)"
   ]
  },
  {
   "cell_type": "markdown",
   "id": "17c32fa1-337a-45e0-ae5c-914575a2cbb6",
   "metadata": {},
   "source": [
    "# Model training"
   ]
  },
  {
   "cell_type": "code",
   "execution_count": 9,
   "id": "d613bdf8",
   "metadata": {
    "tags": []
   },
   "outputs": [
    {
     "name": "stdout",
     "output_type": "stream",
     "text": [
      "CPU times: total: 15.2 s\n",
      "Wall time: 7.83 s\n"
     ]
    },
    {
     "data": {
      "text/plain": [
       "array([1., 0., 0., 0., 0., 1., 0., 0., 0., 0., 0., 0., 0., 0., 0., 0., 0.,\n",
       "       0., 0., 0., 0., 0., 0., 0., 0., 0., 0., 0., 0., 1., 0., 1., 0., 0.,\n",
       "       0., 0., 1., 0., 1., 0., 0., 1., 0., 0., 0., 0., 0., 0., 0., 0., 0.,\n",
       "       0., 0., 0., 0., 0., 0., 1., 0., 0., 0., 0., 1., 0., 0., 0., 0., 1.,\n",
       "       0., 0., 1., 1., 0., 1., 0., 0., 0., 0., 0., 0., 0., 0., 1., 0., 0.,\n",
       "       0., 0., 0., 0., 1., 0., 0., 0., 0., 0., 0., 1., 0., 0., 0.])"
      ]
     },
     "execution_count": 9,
     "metadata": {},
     "output_type": "execute_result"
    }
   ],
   "source": [
    "%%time\n",
    "\n",
    "model = customLogisticRegression(class_weight=learning_class_weights)\n",
    "model.fit(X_train, y_train, cate_columns=cate_features, target_column=target_name)\n",
    "model.predict(X_test.iloc[:100, :])"
   ]
  },
  {
   "cell_type": "markdown",
   "id": "13d583ac",
   "metadata": {},
   "source": [
    "# Testing the model\n",
    "\n",
    "We check if the model is satisfactory."
   ]
  },
  {
   "cell_type": "code",
   "execution_count": 10,
   "id": "2fbd7b2e",
   "metadata": {
    "tags": []
   },
   "outputs": [
    {
     "name": "stdout",
     "output_type": "stream",
     "text": [
      "              precision    recall  f1-score   support\n",
      "\n",
      "           0       1.00      0.89      0.94    432231\n",
      "           1       0.00      0.12      0.00       712\n",
      "\n",
      "    accuracy                           0.89    432943\n",
      "   macro avg       0.50      0.50      0.47    432943\n",
      "weighted avg       1.00      0.89      0.94    432943\n",
      "\n"
     ]
    }
   ],
   "source": [
    "preds = model.predict(X_test)\n",
    "print(classification_report(y_test.map({negative_label: 0, positive_label: 1}), preds))"
   ]
  },
  {
   "cell_type": "code",
   "execution_count": 11,
   "id": "a82b48f8-408b-43a0-99fc-c21ff8a63718",
   "metadata": {
    "tags": []
   },
   "outputs": [
    {
     "data": {
      "image/png": "[encoded data removed]",
      "text/plain": [
       "<Figure size 640x480 with 2 Axes>"
      ]
     },
     "metadata": {},
     "output_type": "display_data"
    }
   ],
   "source": [
    "conf_matrix = confusion_matrix(y_test, preds)\n",
    "cm_disp = ConfusionMatrixDisplay(confusion_matrix=conf_matrix)\n",
    "cm_disp.plot()\n",
    "plt.show()"
   ]
  },
  {
   "cell_type": "markdown",
   "id": "11452631",
   "metadata": {},
   "source": [
    "Given the high imbalance of the dataset, we consider that the above results, for a simple logistic regression, are good enough."
   ]
  },
  {
   "cell_type": "markdown",
   "id": "35e7a25a-d206-483e-9504-def8ee990e3b",
   "metadata": {},
   "source": [
    "# !!!!Testing Area Start!!!!"
   ]
  },
  {
   "cell_type": "code",
   "execution_count": 13,
   "id": "e08d505d-f1d4-4ac1-bf14-514057488b46",
   "metadata": {
    "tags": []
   },
   "outputs": [],
   "source": [
    "from frequent_itemsets import runApriori, preprocessDataset, aprioriout2predicateList\n",
    "from predicate import recIsValid, Predicate\n",
    "\n",
    "preds = model.predict(X_test)\n",
    "affected = X_test[preds == 0]\n",
    "unaffected = X_test[preds == 1]\n",
    "\n",
    "male_affected = affected[affected.gender == \"M\"].drop([\"gender\"], axis=1)\n",
    "female_affected = affected[affected.gender == \"F\"].drop([\"gender\"], axis=1)\n",
    "unknown_affected = affected[affected.gender == \"Unknown\"].drop([\"gender\"], axis=1)\n",
    "\n",
    "males_aff_preds, male_supps = aprioriout2predicateList(runApriori(preprocessDataset(male_affected)))\n",
    "females_aff_preds, female_supps = aprioriout2predicateList(runApriori(preprocessDataset(female_affected)))\n",
    "unknown_aff_preds, unknown_supps = aprioriout2predicateList(runApriori(preprocessDataset(unknown_affected)))\n",
    "\n",
    "inter = []\n",
    "for candidate_if in males_aff_preds:\n",
    "    if candidate_if in females_aff_preds and candidate_if in unknown_aff_preds:\n",
    "        inter.append(candidate_if)\n",
    "\n",
    "unaff_preds, _ = aprioriout2predicateList(runApriori(preprocessDataset(unaffected)))\n",
    "\n",
    "ifthens = [(h, s) for h in inter for s in unaff_preds if recIsValid(h, s)]"
   ]
  },
  {
   "cell_type": "code",
   "execution_count": 17,
   "id": "db7c67b0-b8bf-4b1c-bbf0-4df2e6c722ea",
   "metadata": {
    "tags": []
   },
   "outputs": [],
   "source": [
    "from metrics import incorrectRecoursesIfThen, incorrectRecoursesSingle"
   ]
  },
  {
   "cell_type": "code",
   "execution_count": 22,
   "id": "e0d3c6da-a200-457b-8b7f-0e25dd9318f2",
   "metadata": {
    "tags": []
   },
   "outputs": [],
   "source": [
    "males_sd = Predicate.from_dict({\"gender\": \"M\"})\n",
    "females_sd = Predicate.from_dict({\"gender\": \"F\"})\n",
    "\n",
    "if1 = ifthens[0][0]\n",
    "then1 = ifthens[0][1]"
   ]
  },
  {
   "cell_type": "code",
   "execution_count": 29,
   "id": "bd154754-a4a4-4782-8dc6-4c57975e2c10",
   "metadata": {
    "tags": []
   },
   "outputs": [
    {
     "name": "stdout",
     "output_type": "stream",
     "text": [
      "5959.0\n",
      "13695.0\n",
      "CPU times: total: 2.41 s\n",
      "Wall time: 7.12 s\n"
     ]
    }
   ],
   "source": [
    "%%time\n",
    "\n",
    "print(incorrectRecoursesSingle(males_sd, if1, then1, male_affected.assign(gender=\"M\"), model))\n",
    "print(incorrectRecoursesSingle(females_sd, if1, then1, female_affected.assign(gender=\"F\"), model))"
   ]
  },
  {
   "cell_type": "code",
   "execution_count": 28,
   "id": "dd084a7a-1ca2-431b-807f-1560a2e064a0",
   "metadata": {
    "tags": []
   },
   "outputs": [
    {
     "name": "stdout",
     "output_type": "stream",
     "text": [
      "5959.0\n",
      "13695.0\n",
      "CPU times: total: 219 ms\n",
      "Wall time: 625 ms\n"
     ]
    }
   ],
   "source": [
    "%%time\n",
    "\n",
    "print(incorrectRecoursesIfThen(if1, then1, male_affected.assign(gender=\"M\"), model))\n",
    "print(incorrectRecoursesIfThen(if1, then1, female_affected.assign(gender=\"F\"), model))"
   ]
  },
  {
   "cell_type": "markdown",
   "id": "cadcecb9-f94e-44df-b5c6-7437d5d86692",
   "metadata": {},
   "source": [
    "# !!!!Testing Area End!!!!"
   ]
  },
  {
   "cell_type": "markdown",
   "id": "66bafa9b-95db-49c6-b116-9ebb65c13fc8",
   "metadata": {},
   "source": [
    "# Find all valid if-thens with all respective coverages and correctness, for all subgroups.\n",
    "\n",
    "**Caution!** This step takes time. Uncomment the following block if you wish to run."
   ]
  },
  {
   "cell_type": "code",
   "execution_count": 13,
   "id": "297d9256",
   "metadata": {
    "tags": []
   },
   "outputs": [
    {
     "name": "stderr",
     "output_type": "stream",
     "text": [
      "100%|████████████████████████████████████████████████████████████████████████████████| 317/317 [00:52<00:00,  6.09it/s]"
     ]
    },
    {
     "name": "stdout",
     "output_type": "stream",
     "text": [
      "Number of if-thens: 317\n"
     ]
    },
    {
     "name": "stderr",
     "output_type": "stream",
     "text": [
      "\n"
     ]
    }
   ],
   "source": [
    "ifthens_coverage_correctness = valid_ifthens_with_coverage_correctness(\n",
    "    X_test,\n",
    "    model,\n",
    "    sensitive_attribute\n",
    ")\n",
    "\n",
    "print(f\"Number of if-thens: {len(ifthens_coverage_correctness)}\")\n",
    "rules_by_if = rules2rulesbyif(ifthens_coverage_correctness)"
   ]
  },
  {
   "cell_type": "markdown",
   "id": "d17cb30e-0a36-43cb-9f95-2b2e93634e5a",
   "metadata": {},
   "source": [
    "Uncomment the following block if you wish to load rules object from disk."
   ]
  },
  {
   "cell_type": "code",
   "execution_count": 28,
   "id": "c22dbaba-1ccb-4db3-84de-21227328e07c",
   "metadata": {
    "tags": []
   },
   "outputs": [],
   "source": [
    "# import dill\n",
    "\n",
    "# with open(\"rules.data\", \"rb\") as inf:\n",
    "#     rules_by_if = dill.load(inf)"
   ]
  },
  {
   "cell_type": "code",
   "execution_count": 38,
   "id": "8a13da8a-e2a3-481f-9b1b-bc1803f4eccf",
   "metadata": {
    "tags": []
   },
   "outputs": [
    {
     "name": "stdout",
     "output_type": "stream",
     "text": [
      "If \u001b[1mhomeowner = 0, area = Unknown, college_educated = 1, income = Unknown, age = 45-54, parents = 1\u001b[0m:\n",
      "\tSubgroup '\u001b[1mF\u001b[0m', \u001b[0;34m0.1789%\u001b[0m covered\n",
      "\t\tMake \u001b[1mhomeowner = 0, area = Unknown, college_educated = 1, income = <100K, age = 25-34, parents = 1\u001b[0m with correctness \u001b[0;32m0.0000%\u001b[0m.\n",
      "\tSubgroup '\u001b[1mM\u001b[0m', \u001b[0;34m0.1856%\u001b[0m covered\n",
      "\t\tMake \u001b[1mhomeowner = 0, area = Unknown, college_educated = 1, income = <100K, age = 25-34, parents = 1\u001b[0m with correctness \u001b[0;32m100.0000%\u001b[0m.\n",
      "If \u001b[1mhomeowner = 0, area = Unknown, college_educated = 1, age = 55-64, income = Unknown\u001b[0m:\n",
      "\tSubgroup '\u001b[1mF\u001b[0m', \u001b[0;34m0.5244%\u001b[0m covered\n",
      "\t\tMake \u001b[1mhomeowner = 0, area = Unknown, college_educated = 0, age = 55-64, income = Unknown\u001b[0m with correctness \u001b[0;32m0.0000%\u001b[0m.\n",
      "\t\tMake \u001b[1mhomeowner = 0, area = Unknown, college_educated = 1, age = 25-34, income = Unknown\u001b[0m with correctness \u001b[0;32m100.0000%\u001b[0m.\n",
      "\tSubgroup '\u001b[1mM\u001b[0m', \u001b[0;34m0.4929%\u001b[0m covered\n",
      "\t\tMake \u001b[1mhomeowner = 0, area = Unknown, college_educated = 0, age = 55-64, income = Unknown\u001b[0m with correctness \u001b[0;32m100.0000%\u001b[0m.\n",
      "\t\tMake \u001b[1mhomeowner = 0, area = Unknown, college_educated = 1, age = 25-34, income = Unknown\u001b[0m with correctness \u001b[0;32m100.0000%\u001b[0m.\n",
      "If \u001b[1mhomeowner = 0, college_educated = 1, income = Unknown, age = 45-54, parents = 1\u001b[0m:\n",
      "\tSubgroup '\u001b[1mF\u001b[0m', \u001b[0;34m0.1826%\u001b[0m covered\n",
      "\t\tMake \u001b[1mhomeowner = 0, college_educated = 1, income = <100K, age = 25-34, parents = 1\u001b[0m with correctness \u001b[0;32m2.0339%\u001b[0m.\n",
      "\tSubgroup '\u001b[1mM\u001b[0m', \u001b[0;34m0.1879%\u001b[0m covered\n",
      "\t\tMake \u001b[1mhomeowner = 0, college_educated = 1, income = <100K, age = 25-34, parents = 1\u001b[0m with correctness \u001b[0;32m100.0000%\u001b[0m.\n",
      "If \u001b[1mparents = 1, college_educated = 1, homeowner = 0, age = 55-64\u001b[0m:\n",
      "\tSubgroup '\u001b[1mF\u001b[0m', \u001b[0;34m1.2147%\u001b[0m covered\n",
      "\t\tMake \u001b[1mparents = 1, college_educated = 1, homeowner = 0, age = 25-34\u001b[0m with correctness \u001b[0;32m2.0387%\u001b[0m.\n",
      "\t\tMake \u001b[1mparents = 0, college_educated = 1, homeowner = 0, age = 55-64\u001b[0m with correctness \u001b[0;32m0.0000%\u001b[0m.\n",
      "\t\tMake \u001b[1mparents = 0, college_educated = 1, homeowner = 0, age = 25-34\u001b[0m with correctness \u001b[0;32m1.4781%\u001b[0m.\n",
      "\tSubgroup '\u001b[1mM\u001b[0m', \u001b[0;34m1.2967%\u001b[0m covered\n",
      "\t\tMake \u001b[1mparents = 1, college_educated = 1, homeowner = 0, age = 25-34\u001b[0m with correctness \u001b[0;32m100.0000%\u001b[0m.\n",
      "\t\tMake \u001b[1mparents = 0, college_educated = 1, homeowner = 0, age = 55-64\u001b[0m with correctness \u001b[0;32m0.0000%\u001b[0m.\n",
      "\t\tMake \u001b[1mparents = 0, college_educated = 1, homeowner = 0, age = 25-34\u001b[0m with correctness \u001b[0;32m1.8232%\u001b[0m.\n",
      "If \u001b[1mhomeowner = 0, area = Unknown, college_educated = 1, income = Unknown, age = 45-54\u001b[0m:\n",
      "\tSubgroup '\u001b[1mF\u001b[0m', \u001b[0;34m0.1888%\u001b[0m covered\n",
      "\t\tMake \u001b[1mhomeowner = 0, area = Unknown, college_educated = 1, income = <100K, age = 25-34\u001b[0m with correctness \u001b[0;32m0.0000%\u001b[0m.\n",
      "\tSubgroup '\u001b[1mM\u001b[0m', \u001b[0;34m0.1962%\u001b[0m covered\n",
      "\t\tMake \u001b[1mhomeowner = 0, area = Unknown, college_educated = 1, income = <100K, age = 25-34\u001b[0m with correctness \u001b[0;32m94.5783%\u001b[0m.\n",
      "If \u001b[1mhomeowner = 0, area = Unknown, income = Unknown, age = 45-54, parents = 1\u001b[0m:\n",
      "\tSubgroup '\u001b[1mF\u001b[0m', \u001b[0;34m0.1895%\u001b[0m covered\n",
      "\t\tMake \u001b[1mhomeowner = 0, area = Unknown, income = <100K, age = 25-34, parents = 1\u001b[0m with correctness \u001b[0;32m5.5556%\u001b[0m.\n",
      "\tSubgroup '\u001b[1mM\u001b[0m', \u001b[0;34m0.1986%\u001b[0m covered\n",
      "\t\tMake \u001b[1mhomeowner = 0, area = Unknown, income = <100K, age = 25-34, parents = 1\u001b[0m with correctness \u001b[0;32m100.0000%\u001b[0m.\n",
      "If \u001b[1mcollege_educated = 1, homeowner = 0, age = 55-64\u001b[0m:\n",
      "\tSubgroup '\u001b[1mF\u001b[0m', \u001b[0;34m1.8766%\u001b[0m covered\n",
      "\t\tMake \u001b[1mcollege_educated = 1, homeowner = 0, age = 25-34\u001b[0m with correctness \u001b[0;32m32.3326%\u001b[0m.\n",
      "\tSubgroup '\u001b[1mM\u001b[0m', \u001b[0;34m1.9031%\u001b[0m covered\n",
      "\t\tMake \u001b[1mcollege_educated = 1, homeowner = 0, age = 25-34\u001b[0m with correctness \u001b[0;32m96.4596%\u001b[0m.\n",
      "If \u001b[1marea = Unknown, college_educated = 1, income = Unknown, age = 45-54, parents = 1\u001b[0m:\n",
      "\tSubgroup '\u001b[1mF\u001b[0m', \u001b[0;34m1.2129%\u001b[0m covered\n",
      "\t\tMake \u001b[1marea = Unknown, college_educated = 1, income = <100K, age = 25-34, parents = 1\u001b[0m with correctness \u001b[0;32m0.0000%\u001b[0m.\n",
      "\tSubgroup '\u001b[1mM\u001b[0m', \u001b[0;34m1.1832%\u001b[0m covered\n",
      "\t\tMake \u001b[1marea = Unknown, college_educated = 1, income = <100K, age = 25-34, parents = 1\u001b[0m with correctness \u001b[0;32m15.6843%\u001b[0m.\n",
      "If \u001b[1mparents = 0, age = 55-64, area = Unknown, college_educated = 0\u001b[0m:\n",
      "\tSubgroup '\u001b[1mF\u001b[0m', \u001b[0;34m0.2210%\u001b[0m covered\n",
      "\t\tMake \u001b[1mparents = 1, age = 55-64, area = Unknown, college_educated = 0\u001b[0m with correctness \u001b[0;32m14.8459%\u001b[0m.\n",
      "\tSubgroup '\u001b[1mM\u001b[0m', \u001b[0;34m0.2069%\u001b[0m covered\n",
      "\t\tMake \u001b[1mparents = 1, age = 55-64, area = Unknown, college_educated = 0\u001b[0m with correctness \u001b[0;32m0.0000%\u001b[0m.\n",
      "If \u001b[1mparents = 1, homeowner = 0, age = 45-54\u001b[0m:\n",
      "\tSubgroup '\u001b[1mF\u001b[0m', \u001b[0;34m0.2328%\u001b[0m covered\n",
      "\t\tMake \u001b[1mparents = 1, homeowner = 0, age = 25-34\u001b[0m with correctness \u001b[0;32m86.9681%\u001b[0m.\n",
      "\t\tMake \u001b[1mparents = 0, homeowner = 0, age = 25-34\u001b[0m with correctness \u001b[0;32m86.7021%\u001b[0m.\n",
      "\tSubgroup '\u001b[1mM\u001b[0m', \u001b[0;34m0.2399%\u001b[0m covered\n",
      "\t\tMake \u001b[1mparents = 1, homeowner = 0, age = 25-34\u001b[0m with correctness \u001b[0;32m100.0000%\u001b[0m.\n",
      "\t\tMake \u001b[1mparents = 0, homeowner = 0, age = 25-34\u001b[0m with correctness \u001b[0;32m90.1478%\u001b[0m.\n",
      "\n"
     ]
    }
   ],
   "source": [
    "K = 10\n",
    "\n",
    "# keep K ifs with maximum coverage on Females\n",
    "# TODO: the below is currently dataset dependent\n",
    "# rules_by_if_filtered = sorted(rules_by_if.items(), key=lambda e: e[1][\"F\"][0][1], reverse=True)[:K]\n",
    "\n",
    "# keep K ifs with maximum absolute difference in correctness between Males and Females.\n",
    "# TODO: the below is currently dataset dependent\n",
    "rules_by_if_filtered = sorted(rules_by_if.items(), key=lambda e: abs(e[1][\"M\"][1][0][1]-e[1][\"F\"][1][0][1]), reverse=True)[:K]\n",
    "\n",
    "rules_by_if_filtered = dict(rules_by_if_filtered)\n",
    "\n",
    "print(recourse_report_reverse(list(rules_by_if_filtered.items()), missing_subgroup_val=\"Unknown\"))"
   ]
  },
  {
   "cell_type": "code",
   "execution_count": 24,
   "id": "c3d9345a-d3f6-4db1-9fa2-887cf76c0149",
   "metadata": {},
   "outputs": [],
   "source": [
    "##### Uncomment if you wish to save rules object on disk\n",
    "\n",
    "# import dill\n",
    "\n",
    "# with open(\"rules.data\", \"wb\") as outf:\n",
    "#     dill.dump(rules_by_if, outf)"
   ]
  },
  {
   "cell_type": "markdown",
   "id": "680049be-1176-44d9-ba37-61b194dfb97f",
   "metadata": {},
   "source": [
    "# Filter rules by different scoring functions"
   ]
  },
  {
   "cell_type": "markdown",
   "id": "07e10fea-1fb4-4028-813a-e21b0767983f",
   "metadata": {},
   "source": [
    "Here, we explore more sophisticated ways of picking the \"top\" K rules and showing only those.\n",
    "\n",
    "We start ranking the rule \"groups\" (all recourses for a single \"if\") by averaging out the costs of all suggested recourses, weighted by the respective correctness. For now, the \"cost\" of a recourse is simply the number of features whose value changes (and the magnitude of the change for numerical features, but here there are none)."
   ]
  },
  {
   "cell_type": "code",
   "execution_count": 26,
   "id": "30e1fd26-1371-4fd1-8357-0221728a97b1",
   "metadata": {},
   "outputs": [
    {
     "name": "stdout",
     "output_type": "stream",
     "text": [
      "If \u001b[1mincome = Unknown, homeowner = 1, area = Unknown, age = Unknown\u001b[0m:\n",
      "\tSubgroup '\u001b[1mF\u001b[0m', \u001b[0;34m1.7305%\u001b[0m covered out of 600135\n",
      "\t\tMake \u001b[1mincome = <100K, homeowner = 0, area = Unknown, age = 55-64\u001b[0m with correctness \u001b[0;32m-0.0000%\u001b[0m.\n",
      "\tSubgroup '\u001b[1mM\u001b[0m', \u001b[0;34m1.9012%\u001b[0m covered out of 314181\n",
      "\t\tMake \u001b[1mincome = <100K, homeowner = 0, area = Unknown, age = 55-64\u001b[0m with correctness \u001b[0;32m94.8520%\u001b[0m.\n",
      "If \u001b[1mincome = Unknown, homeowner = 1, area = Urban\u001b[0m:\n",
      "\tSubgroup '\u001b[1mF\u001b[0m', \u001b[0;34m21.4659%\u001b[0m covered out of 600135\n",
      "\t\tMake \u001b[1mincome = <100K, homeowner = 0, area = Unknown\u001b[0m with correctness \u001b[0;32m1.6171%\u001b[0m.\n",
      "\tSubgroup '\u001b[1mM\u001b[0m', \u001b[0;34m22.6137%\u001b[0m covered out of 314181\n",
      "\t\tMake \u001b[1mincome = <100K, homeowner = 0, area = Unknown\u001b[0m with correctness \u001b[0;32m91.1491%\u001b[0m.\n",
      "If \u001b[1mcollege_educated = 1, parents = 1, homeowner = 1, area = Unknown, age = Unknown, income = Unknown\u001b[0m:\n",
      "\tSubgroup '\u001b[1mF\u001b[0m', \u001b[0;34m1.5458%\u001b[0m covered out of 600135\n",
      "\t\tMake \u001b[1mcollege_educated = 1, parents = 1, homeowner = 0, area = Unknown, age = 55-64, income = Unknown\u001b[0m with correctness \u001b[0;32m0.0000%\u001b[0m.\n",
      "\t\tMake \u001b[1mcollege_educated = 1, parents = 1, homeowner = 0, area = Unknown, age = 55-64, income = <100K\u001b[0m with correctness \u001b[0;32m0.0000%\u001b[0m.\n",
      "\tSubgroup '\u001b[1mM\u001b[0m', \u001b[0;34m1.7042%\u001b[0m covered out of 314181\n",
      "\t\tMake \u001b[1mcollege_educated = 1, parents = 1, homeowner = 0, area = Unknown, age = 55-64, income = Unknown\u001b[0m with correctness \u001b[0;32m100.0000%\u001b[0m.\n",
      "\t\tMake \u001b[1mcollege_educated = 1, parents = 1, homeowner = 0, area = Unknown, age = 55-64, income = <100K\u001b[0m with correctness \u001b[0;32m100.0000%\u001b[0m.\n",
      "If \u001b[1mparents = 1, homeowner = 1, area = Unknown, age = Unknown, income = Unknown\u001b[0m:\n",
      "\tSubgroup '\u001b[1mF\u001b[0m', \u001b[0;34m1.6316%\u001b[0m covered out of 600135\n",
      "\t\tMake \u001b[1mparents = 1, homeowner = 0, area = Unknown, age = 55-64, income = Unknown\u001b[0m with correctness \u001b[0;32m5.2576%\u001b[0m.\n",
      "\t\tMake \u001b[1mparents = 1, homeowner = 0, area = Unknown, age = 55-64, income = <100K\u001b[0m with correctness \u001b[0;32m0.0000%\u001b[0m.\n",
      "\tSubgroup '\u001b[1mM\u001b[0m', \u001b[0;34m1.8033%\u001b[0m covered out of 314181\n",
      "\t\tMake \u001b[1mparents = 1, homeowner = 0, area = Unknown, age = 55-64, income = Unknown\u001b[0m with correctness \u001b[0;32m100.0000%\u001b[0m.\n",
      "\t\tMake \u001b[1mparents = 1, homeowner = 0, area = Unknown, age = 55-64, income = <100K\u001b[0m with correctness \u001b[0;32m100.0000%\u001b[0m.\n",
      "If \u001b[1mincome = Unknown, homeowner = 1, age = Unknown\u001b[0m:\n",
      "\tSubgroup '\u001b[1mF\u001b[0m', \u001b[0;34m2.4711%\u001b[0m covered out of 600135\n",
      "\t\tMake \u001b[1mincome = <100K, homeowner = 0, age = 55-64\u001b[0m with correctness \u001b[0;32m23.1891%\u001b[0m.\n",
      "\tSubgroup '\u001b[1mM\u001b[0m', \u001b[0;34m2.7380%\u001b[0m covered out of 314181\n",
      "\t\tMake \u001b[1mincome = <100K, homeowner = 0, age = 55-64\u001b[0m with correctness \u001b[0;32m96.1573%\u001b[0m.\n",
      "If \u001b[1mincome = Unknown, homeowner = 1, college_educated = 0, age = 55-64\u001b[0m:\n",
      "\tSubgroup '\u001b[1mF\u001b[0m', \u001b[0;34m4.6585%\u001b[0m covered out of 600135\n",
      "\t\tMake \u001b[1mincome = <100K, homeowner = 0, college_educated = 1, age = 55-64\u001b[0m with correctness \u001b[0;32m23.6681%\u001b[0m.\n",
      "\tSubgroup '\u001b[1mM\u001b[0m', \u001b[0;34m3.9174%\u001b[0m covered out of 314181\n",
      "\t\tMake \u001b[1mincome = <100K, homeowner = 0, college_educated = 1, age = 55-64\u001b[0m with correctness \u001b[0;32m95.0344%\u001b[0m.\n",
      "If \u001b[1mparents = 0, college_educated = 1, age = 55-64, area = Urban\u001b[0m:\n",
      "\tSubgroup '\u001b[1mF\u001b[0m', \u001b[0;34m1.0820%\u001b[0m covered out of 600135\n",
      "\t\tMake \u001b[1mparents = 1, college_educated = 1, age = 45-54, area = Urban\u001b[0m with correctness \u001b[0;32m0.9514%\u001b[0m.\n",
      "\tSubgroup '\u001b[1mM\u001b[0m', \u001b[0;34m1.2210%\u001b[0m covered out of 314181\n",
      "\t\tMake \u001b[1mparents = 1, college_educated = 1, age = 45-54, area = Urban\u001b[0m with correctness \u001b[0;32m99.4990%\u001b[0m.\n",
      "If \u001b[1mcollege_educated = 1, parents = 1, homeowner = 1, area = Unknown, age = Unknown\u001b[0m:\n",
      "\tSubgroup '\u001b[1mF\u001b[0m', \u001b[0;34m1.6035%\u001b[0m covered out of 600135\n",
      "\t\tMake \u001b[1mcollege_educated = 1, parents = 1, homeowner = 0, area = Unknown, age = 55-64\u001b[0m with correctness \u001b[0;32m0.0000%\u001b[0m.\n",
      "\tSubgroup '\u001b[1mM\u001b[0m', \u001b[0;34m1.7666%\u001b[0m covered out of 314181\n",
      "\t\tMake \u001b[1mcollege_educated = 1, parents = 1, homeowner = 0, area = Unknown, age = 55-64\u001b[0m with correctness \u001b[0;32m98.4072%\u001b[0m.\n",
      "If \u001b[1mincome = Unknown, homeowner = 1, area = Unknown, age = 55-64\u001b[0m:\n",
      "\tSubgroup '\u001b[1mF\u001b[0m', \u001b[0;34m57.1619%\u001b[0m covered out of 600135\n",
      "\t\tMake \u001b[1mincome = <100K, homeowner = 0, area = Unknown, age = 55-64\u001b[0m with correctness \u001b[0;32m0.0000%\u001b[0m.\n",
      "\tSubgroup '\u001b[1mM\u001b[0m', \u001b[0;34m64.3373%\u001b[0m covered out of 314181\n",
      "\t\tMake \u001b[1mincome = <100K, homeowner = 0, area = Unknown, age = 55-64\u001b[0m with correctness \u001b[0;32m94.6547%\u001b[0m.\n",
      "If \u001b[1mparents = 1, homeowner = 1, area = Unknown, age = Unknown\u001b[0m:\n",
      "\tSubgroup '\u001b[1mF\u001b[0m', \u001b[0;34m1.6905%\u001b[0m covered out of 600135\n",
      "\t\tMake \u001b[1mparents = 1, homeowner = 0, area = Unknown, age = 55-64\u001b[0m with correctness \u001b[0;32m5.0744%\u001b[0m.\n",
      "\tSubgroup '\u001b[1mM\u001b[0m', \u001b[0;34m1.8669%\u001b[0m covered out of 314181\n",
      "\t\tMake \u001b[1mparents = 1, homeowner = 0, area = Unknown, age = 55-64\u001b[0m with correctness \u001b[0;32m98.4273%\u001b[0m.\n",
      "\n"
     ]
    }
   ],
   "source": [
    "K = 10\n",
    "\n",
    "rules_max_costdiff_2groups = lib2.sort_triples_by_costdiff_2groups(rules_by_if, \"M\", \"F\")[:K]\n",
    "rules_max_costdiff_2groups = dict(rules_max_costdiff_2groups)\n",
    "\n",
    "print(recourse_report_reverse(\n",
    "    list(rules_max_costdiff_2groups.items()),\n",
    "    population_sizes = {\"M\": (ad_conversion_dataset.gender == \"M\").sum(), \"F\": (ad_conversion_dataset.gender == \"F\").sum()},\n",
    "    missing_subgroup_val=\"Unknown\"\n",
    "))"
   ]
  },
  {
   "cell_type": "markdown",
   "id": "cd23bade-c1fe-45b6-b3ba-92bad14ff7b6",
   "metadata": {},
   "source": [
    "# Generalize to arbitrary number of subgroups\n",
    "\n"
   ]
  },
  {
   "cell_type": "code",
   "execution_count": 25,
   "id": "897fbfbd-1667-46e5-8015-fa43a1709905",
   "metadata": {
    "tags": []
   },
   "outputs": [],
   "source": [
    "comparators = lib2.naive_feature_change_builder(num_cols=num_features, cate_cols=cate_features, feature_weights=feature_weights)\n",
    "params = ParameterProxy(featureChanges=comparators)"
   ]
  },
  {
   "cell_type": "code",
   "execution_count": 36,
   "id": "401938ea-8579-4808-86a4-360994295330",
   "metadata": {
    "tags": []
   },
   "outputs": [
    {
     "name": "stdout",
     "output_type": "stream",
     "text": [
      "If \u001b[1mincome = Unknown, homeowner = 1, area = Unknown, age = Unknown\u001b[0m:\n",
      "\tSubgroup '\u001b[1mF\u001b[0m', \u001b[0;34m1.7305%\u001b[0m covered out of 600135\n",
      "\t\tMake \u001b[1mincome = <100K, homeowner = 0, area = Unknown, age = 55-64\u001b[0m with correctness \u001b[0;32m-0.0000%\u001b[0m.\n",
      "\tSubgroup '\u001b[1mM\u001b[0m', \u001b[0;34m1.9012%\u001b[0m covered out of 314181\n",
      "\t\tMake \u001b[1mincome = <100K, homeowner = 0, area = Unknown, age = 55-64\u001b[0m with correctness \u001b[0;32m94.8520%\u001b[0m.\n",
      "If \u001b[1mincome = Unknown, homeowner = 1, area = Urban\u001b[0m:\n",
      "\tSubgroup '\u001b[1mF\u001b[0m', \u001b[0;34m21.4659%\u001b[0m covered out of 600135\n",
      "\t\tMake \u001b[1mincome = <100K, homeowner = 0, area = Unknown\u001b[0m with correctness \u001b[0;32m1.6171%\u001b[0m.\n",
      "\tSubgroup '\u001b[1mM\u001b[0m', \u001b[0;34m22.6137%\u001b[0m covered out of 314181\n",
      "\t\tMake \u001b[1mincome = <100K, homeowner = 0, area = Unknown\u001b[0m with correctness \u001b[0;32m91.1491%\u001b[0m.\n",
      "If \u001b[1mcollege_educated = 1, parents = 1, homeowner = 1, area = Unknown, age = Unknown, income = Unknown\u001b[0m:\n",
      "\tSubgroup '\u001b[1mF\u001b[0m', \u001b[0;34m1.5458%\u001b[0m covered out of 600135\n",
      "\t\tMake \u001b[1mcollege_educated = 1, parents = 1, homeowner = 0, area = Unknown, age = 55-64, income = Unknown\u001b[0m with correctness \u001b[0;32m0.0000%\u001b[0m.\n",
      "\t\tMake \u001b[1mcollege_educated = 1, parents = 1, homeowner = 0, area = Unknown, age = 55-64, income = <100K\u001b[0m with correctness \u001b[0;32m0.0000%\u001b[0m.\n",
      "\tSubgroup '\u001b[1mM\u001b[0m', \u001b[0;34m1.7042%\u001b[0m covered out of 314181\n",
      "\t\tMake \u001b[1mcollege_educated = 1, parents = 1, homeowner = 0, area = Unknown, age = 55-64, income = Unknown\u001b[0m with correctness \u001b[0;32m100.0000%\u001b[0m.\n",
      "\t\tMake \u001b[1mcollege_educated = 1, parents = 1, homeowner = 0, area = Unknown, age = 55-64, income = <100K\u001b[0m with correctness \u001b[0;32m100.0000%\u001b[0m.\n",
      "If \u001b[1mparents = 1, homeowner = 1, area = Unknown, age = Unknown, income = Unknown\u001b[0m:\n",
      "\tSubgroup '\u001b[1mF\u001b[0m', \u001b[0;34m1.6316%\u001b[0m covered out of 600135\n",
      "\t\tMake \u001b[1mparents = 1, homeowner = 0, area = Unknown, age = 55-64, income = Unknown\u001b[0m with correctness \u001b[0;32m5.2576%\u001b[0m.\n",
      "\t\tMake \u001b[1mparents = 1, homeowner = 0, area = Unknown, age = 55-64, income = <100K\u001b[0m with correctness \u001b[0;32m0.0000%\u001b[0m.\n",
      "\tSubgroup '\u001b[1mM\u001b[0m', \u001b[0;34m1.8033%\u001b[0m covered out of 314181\n",
      "\t\tMake \u001b[1mparents = 1, homeowner = 0, area = Unknown, age = 55-64, income = Unknown\u001b[0m with correctness \u001b[0;32m100.0000%\u001b[0m.\n",
      "\t\tMake \u001b[1mparents = 1, homeowner = 0, area = Unknown, age = 55-64, income = <100K\u001b[0m with correctness \u001b[0;32m100.0000%\u001b[0m.\n",
      "If \u001b[1mincome = Unknown, homeowner = 1, age = Unknown\u001b[0m:\n",
      "\tSubgroup '\u001b[1mF\u001b[0m', \u001b[0;34m2.4711%\u001b[0m covered out of 600135\n",
      "\t\tMake \u001b[1mincome = <100K, homeowner = 0, age = 55-64\u001b[0m with correctness \u001b[0;32m23.1891%\u001b[0m.\n",
      "\tSubgroup '\u001b[1mM\u001b[0m', \u001b[0;34m2.7380%\u001b[0m covered out of 314181\n",
      "\t\tMake \u001b[1mincome = <100K, homeowner = 0, age = 55-64\u001b[0m with correctness \u001b[0;32m96.1573%\u001b[0m.\n",
      "If \u001b[1mincome = Unknown, homeowner = 1, college_educated = 0, age = 55-64\u001b[0m:\n",
      "\tSubgroup '\u001b[1mF\u001b[0m', \u001b[0;34m4.6585%\u001b[0m covered out of 600135\n",
      "\t\tMake \u001b[1mincome = <100K, homeowner = 0, college_educated = 1, age = 55-64\u001b[0m with correctness \u001b[0;32m23.6681%\u001b[0m.\n",
      "\tSubgroup '\u001b[1mM\u001b[0m', \u001b[0;34m3.9174%\u001b[0m covered out of 314181\n",
      "\t\tMake \u001b[1mincome = <100K, homeowner = 0, college_educated = 1, age = 55-64\u001b[0m with correctness \u001b[0;32m95.0344%\u001b[0m.\n",
      "If \u001b[1mparents = 0, college_educated = 1, age = 55-64, area = Urban\u001b[0m:\n",
      "\tSubgroup '\u001b[1mF\u001b[0m', \u001b[0;34m1.0820%\u001b[0m covered out of 600135\n",
      "\t\tMake \u001b[1mparents = 1, college_educated = 1, age = 45-54, area = Urban\u001b[0m with correctness \u001b[0;32m0.9514%\u001b[0m.\n",
      "\tSubgroup '\u001b[1mM\u001b[0m', \u001b[0;34m1.2210%\u001b[0m covered out of 314181\n",
      "\t\tMake \u001b[1mparents = 1, college_educated = 1, age = 45-54, area = Urban\u001b[0m with correctness \u001b[0;32m99.4990%\u001b[0m.\n",
      "If \u001b[1mcollege_educated = 1, parents = 1, homeowner = 1, area = Unknown, age = Unknown\u001b[0m:\n",
      "\tSubgroup '\u001b[1mF\u001b[0m', \u001b[0;34m1.6035%\u001b[0m covered out of 600135\n",
      "\t\tMake \u001b[1mcollege_educated = 1, parents = 1, homeowner = 0, area = Unknown, age = 55-64\u001b[0m with correctness \u001b[0;32m0.0000%\u001b[0m.\n",
      "\tSubgroup '\u001b[1mM\u001b[0m', \u001b[0;34m1.7666%\u001b[0m covered out of 314181\n",
      "\t\tMake \u001b[1mcollege_educated = 1, parents = 1, homeowner = 0, area = Unknown, age = 55-64\u001b[0m with correctness \u001b[0;32m98.4072%\u001b[0m.\n",
      "If \u001b[1mincome = Unknown, homeowner = 1, area = Unknown, age = 55-64\u001b[0m:\n",
      "\tSubgroup '\u001b[1mF\u001b[0m', \u001b[0;34m57.1619%\u001b[0m covered out of 600135\n",
      "\t\tMake \u001b[1mincome = <100K, homeowner = 0, area = Unknown, age = 55-64\u001b[0m with correctness \u001b[0;32m0.0000%\u001b[0m.\n",
      "\tSubgroup '\u001b[1mM\u001b[0m', \u001b[0;34m64.3373%\u001b[0m covered out of 314181\n",
      "\t\tMake \u001b[1mincome = <100K, homeowner = 0, area = Unknown, age = 55-64\u001b[0m with correctness \u001b[0;32m94.6547%\u001b[0m.\n",
      "If \u001b[1mparents = 1, homeowner = 1, area = Unknown, age = Unknown\u001b[0m:\n",
      "\tSubgroup '\u001b[1mF\u001b[0m', \u001b[0;34m1.6905%\u001b[0m covered out of 600135\n",
      "\t\tMake \u001b[1mparents = 1, homeowner = 0, area = Unknown, age = 55-64\u001b[0m with correctness \u001b[0;32m5.0744%\u001b[0m.\n",
      "\tSubgroup '\u001b[1mM\u001b[0m', \u001b[0;34m1.8669%\u001b[0m covered out of 314181\n",
      "\t\tMake \u001b[1mparents = 1, homeowner = 0, area = Unknown, age = 55-64\u001b[0m with correctness \u001b[0;32m98.4273%\u001b[0m.\n",
      "\n"
     ]
    }
   ],
   "source": [
    "rules_max_costdiff_sorted = lib2.sort_triples_by_max_costdiff(rules_by_if)\n",
    "\n",
    "print(recourse_report_reverse(\n",
    "    rules_max_costdiff_sorted[:K],\n",
    "    population_sizes = {\"M\": (ad_conversion_dataset.gender == \"M\").sum(), \"F\": (ad_conversion_dataset.gender == \"F\").sum()},\n",
    "    missing_subgroup_val=\"Unknown\"\n",
    "))"
   ]
  },
  {
   "cell_type": "markdown",
   "id": "d6fcb6dc-3ecc-499a-a1b8-cdeee8149b71",
   "metadata": {},
   "source": [
    "# Find fairness-oriented counterfactuals (the same as above) for all features as sensitive!"
   ]
  },
  {
   "cell_type": "code",
   "execution_count": 14,
   "id": "fd397e06-a85b-487d-94da-f70cfbff7ec3",
   "metadata": {
    "tags": []
   },
   "outputs": [
    {
     "name": "stderr",
     "output_type": "stream",
     "text": [
      " 14%|███████████▍                                                                     | 45/317 [00:19<02:00,  2.25it/s]\n"
     ]
    },
    {
     "ename": "KeyboardInterrupt",
     "evalue": "",
     "output_type": "error",
     "traceback": [
      "\u001b[1;31m---------------------------------------------------------------------------\u001b[0m",
      "\u001b[1;31mKeyboardInterrupt\u001b[0m                         Traceback (most recent call last)",
      "Cell \u001b[1;32mIn[14], line 5\u001b[0m\n\u001b[0;32m      2\u001b[0m rules \u001b[38;5;241m=\u001b[39m {attr: [] \u001b[38;5;28;01mfor\u001b[39;00m attr \u001b[38;5;129;01min\u001b[39;00m all_attributes}\n\u001b[0;32m      4\u001b[0m \u001b[38;5;28;01mfor\u001b[39;00m attr \u001b[38;5;129;01min\u001b[39;00m all_attributes:\n\u001b[1;32m----> 5\u001b[0m     rules[attr] \u001b[38;5;241m=\u001b[39m \u001b[43mvalid_ifthens_with_coverage_correctness\u001b[49m\u001b[43m(\u001b[49m\n\u001b[0;32m      6\u001b[0m \u001b[43m        \u001b[49m\u001b[43mX_test\u001b[49m\u001b[43m,\u001b[49m\n\u001b[0;32m      7\u001b[0m \u001b[43m        \u001b[49m\u001b[43mmodel\u001b[49m\u001b[43m,\u001b[49m\n\u001b[0;32m      8\u001b[0m \u001b[43m        \u001b[49m\u001b[43msensitive_attribute\u001b[49m\u001b[38;5;241;43m=\u001b[39;49m\u001b[43mattr\u001b[49m\n\u001b[0;32m      9\u001b[0m \u001b[43m    \u001b[49m\u001b[43m)\u001b[49m\n\u001b[0;32m     10\u001b[0m     rules[attr] \u001b[38;5;241m=\u001b[39m lib2\u001b[38;5;241m.\u001b[39msort_triples_by_max_costdiff(rules[attr])\n",
      "File \u001b[1;32m~\\Documents\\Εργασία\\Counterfactuals\\ares\\lib2.py:131\u001b[0m, in \u001b[0;36mvalid_ifthens_with_coverage_correctness\u001b[1;34m(X, model, sensitive_attribute, freqitem_minsupp)\u001b[0m\n\u001b[0;32m    129\u001b[0m \u001b[38;5;28;01mfor\u001b[39;00m sg \u001b[38;5;129;01min\u001b[39;00m subgroups:\n\u001b[0;32m    130\u001b[0m     sd \u001b[38;5;241m=\u001b[39m Predicate\u001b[38;5;241m.\u001b[39mfrom_dict({sensitive_attribute: sg})\n\u001b[1;32m--> 131\u001b[0m     incorrect_recourses_for_sg \u001b[38;5;241m=\u001b[39m \u001b[43mincorrectRecoursesIfThen\u001b[49m\u001b[43m(\u001b[49m\u001b[43mh\u001b[49m\u001b[43m,\u001b[49m\u001b[43m \u001b[49m\u001b[43ms\u001b[49m\u001b[43m,\u001b[49m\u001b[43m \u001b[49m\u001b[43maffected_subgroups\u001b[49m\u001b[43m[\u001b[49m\u001b[43msg\u001b[49m\u001b[43m]\u001b[49m\u001b[38;5;241;43m.\u001b[39;49m\u001b[43massign\u001b[49m\u001b[43m(\u001b[49m\u001b[38;5;241;43m*\u001b[39;49m\u001b[38;5;241;43m*\u001b[39;49m\u001b[43m{\u001b[49m\u001b[43msensitive_attribute\u001b[49m\u001b[43m:\u001b[49m\u001b[43m \u001b[49m\u001b[43msg\u001b[49m\u001b[43m}\u001b[49m\u001b[43m)\u001b[49m\u001b[43m,\u001b[49m\u001b[43m \u001b[49m\u001b[43mmodel\u001b[49m\u001b[43m)\u001b[49m\n\u001b[0;32m    132\u001b[0m     covered_sg \u001b[38;5;241m=\u001b[39m ifsupps[sg] \u001b[38;5;241m*\u001b[39m affected_subgroups[sg]\u001b[38;5;241m.\u001b[39mshape[\u001b[38;5;241m0\u001b[39m]\n\u001b[0;32m    133\u001b[0m     inc_sg \u001b[38;5;241m=\u001b[39m incorrect_recourses_for_sg \u001b[38;5;241m/\u001b[39m covered_sg\n",
      "File \u001b[1;32m~\\Documents\\Εργασία\\Counterfactuals\\ares\\metrics.py:15\u001b[0m, in \u001b[0;36mincorrectRecoursesIfThen\u001b[1;34m(ifclause, thenclause, X_aff, model)\u001b[0m\n\u001b[0;32m     14\u001b[0m \u001b[38;5;28;01mdef\u001b[39;00m \u001b[38;5;21mincorrectRecoursesIfThen\u001b[39m(ifclause: Predicate, thenclause: Predicate, X_aff: DataFrame, model: ModelAPI) \u001b[38;5;241m-\u001b[39m\u001b[38;5;241m>\u001b[39m \u001b[38;5;28mint\u001b[39m:\n\u001b[1;32m---> 15\u001b[0m     X_aff_covered_bool \u001b[38;5;241m=\u001b[39m (\u001b[43mX_aff\u001b[49m\u001b[43m[\u001b[49m\u001b[43mifclause\u001b[49m\u001b[38;5;241;43m.\u001b[39;49m\u001b[43mfeatures\u001b[49m\u001b[43m]\u001b[49m\u001b[43m \u001b[49m\u001b[38;5;241;43m==\u001b[39;49m\u001b[43m \u001b[49m\u001b[43mifclause\u001b[49m\u001b[38;5;241;43m.\u001b[39;49m\u001b[43mvalues\u001b[49m)\u001b[38;5;241m.\u001b[39mall(axis\u001b[38;5;241m=\u001b[39m\u001b[38;5;241m1\u001b[39m)\n\u001b[0;32m     16\u001b[0m     X_aff_covered \u001b[38;5;241m=\u001b[39m X_aff[X_aff_covered_bool]\u001b[38;5;241m.\u001b[39mcopy()\n\u001b[0;32m     17\u001b[0m     \u001b[38;5;28;01mif\u001b[39;00m X_aff_covered\u001b[38;5;241m.\u001b[39mshape[\u001b[38;5;241m0\u001b[39m] \u001b[38;5;241m==\u001b[39m \u001b[38;5;241m0\u001b[39m:\n",
      "File \u001b[1;32m~\\anaconda3\\envs\\aif360\\lib\\site-packages\\pandas\\core\\ops\\common.py:72\u001b[0m, in \u001b[0;36m_unpack_zerodim_and_defer.<locals>.new_method\u001b[1;34m(self, other)\u001b[0m\n\u001b[0;32m     68\u001b[0m             \u001b[38;5;28;01mreturn\u001b[39;00m \u001b[38;5;28mNotImplemented\u001b[39m\n\u001b[0;32m     70\u001b[0m other \u001b[38;5;241m=\u001b[39m item_from_zerodim(other)\n\u001b[1;32m---> 72\u001b[0m \u001b[38;5;28;01mreturn\u001b[39;00m \u001b[43mmethod\u001b[49m\u001b[43m(\u001b[49m\u001b[38;5;28;43mself\u001b[39;49m\u001b[43m,\u001b[49m\u001b[43m \u001b[49m\u001b[43mother\u001b[49m\u001b[43m)\u001b[49m\n",
      "File \u001b[1;32m~\\anaconda3\\envs\\aif360\\lib\\site-packages\\pandas\\core\\arraylike.py:42\u001b[0m, in \u001b[0;36mOpsMixin.__eq__\u001b[1;34m(self, other)\u001b[0m\n\u001b[0;32m     40\u001b[0m \u001b[38;5;129m@unpack_zerodim_and_defer\u001b[39m(\u001b[38;5;124m\"\u001b[39m\u001b[38;5;124m__eq__\u001b[39m\u001b[38;5;124m\"\u001b[39m)\n\u001b[0;32m     41\u001b[0m \u001b[38;5;28;01mdef\u001b[39;00m \u001b[38;5;21m__eq__\u001b[39m(\u001b[38;5;28mself\u001b[39m, other):\n\u001b[1;32m---> 42\u001b[0m     \u001b[38;5;28;01mreturn\u001b[39;00m \u001b[38;5;28;43mself\u001b[39;49m\u001b[38;5;241;43m.\u001b[39;49m\u001b[43m_cmp_method\u001b[49m\u001b[43m(\u001b[49m\u001b[43mother\u001b[49m\u001b[43m,\u001b[49m\u001b[43m \u001b[49m\u001b[43moperator\u001b[49m\u001b[38;5;241;43m.\u001b[39;49m\u001b[43meq\u001b[49m\u001b[43m)\u001b[49m\n",
      "File \u001b[1;32m~\\anaconda3\\envs\\aif360\\lib\\site-packages\\pandas\\core\\frame.py:7582\u001b[0m, in \u001b[0;36mDataFrame._cmp_method\u001b[1;34m(self, other, op)\u001b[0m\n\u001b[0;32m   7579\u001b[0m \u001b[38;5;28mself\u001b[39m, other \u001b[38;5;241m=\u001b[39m ops\u001b[38;5;241m.\u001b[39malign_method_FRAME(\u001b[38;5;28mself\u001b[39m, other, axis, flex\u001b[38;5;241m=\u001b[39m\u001b[38;5;28;01mFalse\u001b[39;00m, level\u001b[38;5;241m=\u001b[39m\u001b[38;5;28;01mNone\u001b[39;00m)\n\u001b[0;32m   7581\u001b[0m \u001b[38;5;66;03m# See GH#4537 for discussion of scalar op behavior\u001b[39;00m\n\u001b[1;32m-> 7582\u001b[0m new_data \u001b[38;5;241m=\u001b[39m \u001b[38;5;28;43mself\u001b[39;49m\u001b[38;5;241;43m.\u001b[39;49m\u001b[43m_dispatch_frame_op\u001b[49m\u001b[43m(\u001b[49m\u001b[43mother\u001b[49m\u001b[43m,\u001b[49m\u001b[43m \u001b[49m\u001b[43mop\u001b[49m\u001b[43m,\u001b[49m\u001b[43m \u001b[49m\u001b[43maxis\u001b[49m\u001b[38;5;241;43m=\u001b[39;49m\u001b[43maxis\u001b[49m\u001b[43m)\u001b[49m\n\u001b[0;32m   7583\u001b[0m \u001b[38;5;28;01mreturn\u001b[39;00m \u001b[38;5;28mself\u001b[39m\u001b[38;5;241m.\u001b[39m_construct_result(new_data)\n",
      "File \u001b[1;32m~\\anaconda3\\envs\\aif360\\lib\\site-packages\\pandas\\core\\frame.py:7633\u001b[0m, in \u001b[0;36mDataFrame._dispatch_frame_op\u001b[1;34m(self, right, func, axis)\u001b[0m\n\u001b[0;32m   7627\u001b[0m     \u001b[38;5;66;03m# TODO: The previous assertion `assert right._indexed_same(self)`\u001b[39;00m\n\u001b[0;32m   7628\u001b[0m     \u001b[38;5;66;03m#  fails in cases with empty columns reached via\u001b[39;00m\n\u001b[0;32m   7629\u001b[0m     \u001b[38;5;66;03m#  _frame_arith_method_with_reindex\u001b[39;00m\n\u001b[0;32m   7630\u001b[0m \n\u001b[0;32m   7631\u001b[0m     \u001b[38;5;66;03m# TODO operate_blockwise expects a manager of the same type\u001b[39;00m\n\u001b[0;32m   7632\u001b[0m     \u001b[38;5;28;01mwith\u001b[39;00m np\u001b[38;5;241m.\u001b[39merrstate(\u001b[38;5;28mall\u001b[39m\u001b[38;5;241m=\u001b[39m\u001b[38;5;124m\"\u001b[39m\u001b[38;5;124mignore\u001b[39m\u001b[38;5;124m\"\u001b[39m):\n\u001b[1;32m-> 7633\u001b[0m         bm \u001b[38;5;241m=\u001b[39m \u001b[38;5;28;43mself\u001b[39;49m\u001b[38;5;241;43m.\u001b[39;49m\u001b[43m_mgr\u001b[49m\u001b[38;5;241;43m.\u001b[39;49m\u001b[43moperate_blockwise\u001b[49m\u001b[43m(\u001b[49m\n\u001b[0;32m   7634\u001b[0m \u001b[43m            \u001b[49m\u001b[38;5;66;43;03m# error: Argument 1 to \"operate_blockwise\" of \"ArrayManager\" has\u001b[39;49;00m\n\u001b[0;32m   7635\u001b[0m \u001b[43m            \u001b[49m\u001b[38;5;66;43;03m# incompatible type \"Union[ArrayManager, BlockManager]\"; expected\u001b[39;49;00m\n\u001b[0;32m   7636\u001b[0m \u001b[43m            \u001b[49m\u001b[38;5;66;43;03m# \"ArrayManager\"\u001b[39;49;00m\n\u001b[0;32m   7637\u001b[0m \u001b[43m            \u001b[49m\u001b[38;5;66;43;03m# error: Argument 1 to \"operate_blockwise\" of \"BlockManager\" has\u001b[39;49;00m\n\u001b[0;32m   7638\u001b[0m \u001b[43m            \u001b[49m\u001b[38;5;66;43;03m# incompatible type \"Union[ArrayManager, BlockManager]\"; expected\u001b[39;49;00m\n\u001b[0;32m   7639\u001b[0m \u001b[43m            \u001b[49m\u001b[38;5;66;43;03m# \"BlockManager\"\u001b[39;49;00m\n\u001b[0;32m   7640\u001b[0m \u001b[43m            \u001b[49m\u001b[43mright\u001b[49m\u001b[38;5;241;43m.\u001b[39;49m\u001b[43m_mgr\u001b[49m\u001b[43m,\u001b[49m\u001b[43m  \u001b[49m\u001b[38;5;66;43;03m# type: ignore[arg-type]\u001b[39;49;00m\n\u001b[0;32m   7641\u001b[0m \u001b[43m            \u001b[49m\u001b[43marray_op\u001b[49m\u001b[43m,\u001b[49m\n\u001b[0;32m   7642\u001b[0m \u001b[43m        \u001b[49m\u001b[43m)\u001b[49m\n\u001b[0;32m   7643\u001b[0m     \u001b[38;5;28;01mreturn\u001b[39;00m \u001b[38;5;28mself\u001b[39m\u001b[38;5;241m.\u001b[39m_constructor(bm)\n\u001b[0;32m   7645\u001b[0m \u001b[38;5;28;01melif\u001b[39;00m \u001b[38;5;28misinstance\u001b[39m(right, Series) \u001b[38;5;129;01mand\u001b[39;00m axis \u001b[38;5;241m==\u001b[39m \u001b[38;5;241m1\u001b[39m:\n\u001b[0;32m   7646\u001b[0m     \u001b[38;5;66;03m# axis=1 means we want to operate row-by-row\u001b[39;00m\n",
      "File \u001b[1;32m~\\anaconda3\\envs\\aif360\\lib\\site-packages\\pandas\\core\\internals\\managers.py:1589\u001b[0m, in \u001b[0;36mBlockManager.operate_blockwise\u001b[1;34m(self, other, array_op)\u001b[0m\n\u001b[0;32m   1585\u001b[0m \u001b[38;5;28;01mdef\u001b[39;00m \u001b[38;5;21moperate_blockwise\u001b[39m(\u001b[38;5;28mself\u001b[39m, other: BlockManager, array_op) \u001b[38;5;241m-\u001b[39m\u001b[38;5;241m>\u001b[39m BlockManager:\n\u001b[0;32m   1586\u001b[0m \u001b[38;5;250m    \u001b[39m\u001b[38;5;124;03m\"\"\"\u001b[39;00m\n\u001b[0;32m   1587\u001b[0m \u001b[38;5;124;03m    Apply array_op blockwise with another (aligned) BlockManager.\u001b[39;00m\n\u001b[0;32m   1588\u001b[0m \u001b[38;5;124;03m    \"\"\"\u001b[39;00m\n\u001b[1;32m-> 1589\u001b[0m     \u001b[38;5;28;01mreturn\u001b[39;00m \u001b[43moperate_blockwise\u001b[49m\u001b[43m(\u001b[49m\u001b[38;5;28;43mself\u001b[39;49m\u001b[43m,\u001b[49m\u001b[43m \u001b[49m\u001b[43mother\u001b[49m\u001b[43m,\u001b[49m\u001b[43m \u001b[49m\u001b[43marray_op\u001b[49m\u001b[43m)\u001b[49m\n",
      "File \u001b[1;32m~\\anaconda3\\envs\\aif360\\lib\\site-packages\\pandas\\core\\internals\\ops.py:63\u001b[0m, in \u001b[0;36moperate_blockwise\u001b[1;34m(left, right, array_op)\u001b[0m\n\u001b[0;32m     61\u001b[0m res_blks: \u001b[38;5;28mlist\u001b[39m[Block] \u001b[38;5;241m=\u001b[39m []\n\u001b[0;32m     62\u001b[0m \u001b[38;5;28;01mfor\u001b[39;00m lvals, rvals, locs, left_ea, right_ea, rblk \u001b[38;5;129;01min\u001b[39;00m _iter_block_pairs(left, right):\n\u001b[1;32m---> 63\u001b[0m     res_values \u001b[38;5;241m=\u001b[39m \u001b[43marray_op\u001b[49m\u001b[43m(\u001b[49m\u001b[43mlvals\u001b[49m\u001b[43m,\u001b[49m\u001b[43m \u001b[49m\u001b[43mrvals\u001b[49m\u001b[43m)\u001b[49m\n\u001b[0;32m     64\u001b[0m     \u001b[38;5;28;01mif\u001b[39;00m left_ea \u001b[38;5;129;01mand\u001b[39;00m \u001b[38;5;129;01mnot\u001b[39;00m right_ea \u001b[38;5;129;01mand\u001b[39;00m \u001b[38;5;28mhasattr\u001b[39m(res_values, \u001b[38;5;124m\"\u001b[39m\u001b[38;5;124mreshape\u001b[39m\u001b[38;5;124m\"\u001b[39m):\n\u001b[0;32m     65\u001b[0m         res_values \u001b[38;5;241m=\u001b[39m res_values\u001b[38;5;241m.\u001b[39mreshape(\u001b[38;5;241m1\u001b[39m, \u001b[38;5;241m-\u001b[39m\u001b[38;5;241m1\u001b[39m)\n",
      "File \u001b[1;32m~\\anaconda3\\envs\\aif360\\lib\\site-packages\\pandas\\core\\ops\\array_ops.py:287\u001b[0m, in \u001b[0;36mcomparison_op\u001b[1;34m(left, right, op)\u001b[0m\n\u001b[0;32m    284\u001b[0m     \u001b[38;5;28;01mreturn\u001b[39;00m invalid_comparison(lvalues, rvalues, op)\n\u001b[0;32m    286\u001b[0m \u001b[38;5;28;01melif\u001b[39;00m is_object_dtype(lvalues\u001b[38;5;241m.\u001b[39mdtype) \u001b[38;5;129;01mor\u001b[39;00m \u001b[38;5;28misinstance\u001b[39m(rvalues, \u001b[38;5;28mstr\u001b[39m):\n\u001b[1;32m--> 287\u001b[0m     res_values \u001b[38;5;241m=\u001b[39m \u001b[43mcomp_method_OBJECT_ARRAY\u001b[49m\u001b[43m(\u001b[49m\u001b[43mop\u001b[49m\u001b[43m,\u001b[49m\u001b[43m \u001b[49m\u001b[43mlvalues\u001b[49m\u001b[43m,\u001b[49m\u001b[43m \u001b[49m\u001b[43mrvalues\u001b[49m\u001b[43m)\u001b[49m\n\u001b[0;32m    289\u001b[0m \u001b[38;5;28;01melse\u001b[39;00m:\n\u001b[0;32m    290\u001b[0m     res_values \u001b[38;5;241m=\u001b[39m _na_arithmetic_op(lvalues, rvalues, op, is_cmp\u001b[38;5;241m=\u001b[39m\u001b[38;5;28;01mTrue\u001b[39;00m)\n",
      "File \u001b[1;32m~\\anaconda3\\envs\\aif360\\lib\\site-packages\\pandas\\core\\ops\\array_ops.py:73\u001b[0m, in \u001b[0;36mcomp_method_OBJECT_ARRAY\u001b[1;34m(op, x, y)\u001b[0m\n\u001b[0;32m     71\u001b[0m     \u001b[38;5;28;01mif\u001b[39;00m x\u001b[38;5;241m.\u001b[39mshape \u001b[38;5;241m!=\u001b[39m y\u001b[38;5;241m.\u001b[39mshape:\n\u001b[0;32m     72\u001b[0m         \u001b[38;5;28;01mraise\u001b[39;00m \u001b[38;5;167;01mValueError\u001b[39;00m(\u001b[38;5;124m\"\u001b[39m\u001b[38;5;124mShapes must match\u001b[39m\u001b[38;5;124m\"\u001b[39m, x\u001b[38;5;241m.\u001b[39mshape, y\u001b[38;5;241m.\u001b[39mshape)\n\u001b[1;32m---> 73\u001b[0m     result \u001b[38;5;241m=\u001b[39m libops\u001b[38;5;241m.\u001b[39mvec_compare(x\u001b[38;5;241m.\u001b[39mravel(), \u001b[43my\u001b[49m\u001b[38;5;241;43m.\u001b[39;49m\u001b[43mravel\u001b[49m\u001b[43m(\u001b[49m\u001b[43m)\u001b[49m, op)\n\u001b[0;32m     74\u001b[0m \u001b[38;5;28;01melse\u001b[39;00m:\n\u001b[0;32m     75\u001b[0m     result \u001b[38;5;241m=\u001b[39m libops\u001b[38;5;241m.\u001b[39mscalar_compare(x\u001b[38;5;241m.\u001b[39mravel(), y, op)\n",
      "\u001b[1;31mKeyboardInterrupt\u001b[0m: "
     ]
    }
   ],
   "source": [
    "all_attributes = ['gender', 'parents', 'age', 'income', 'area', 'college_educated', 'homeowner']\n",
    "rules = {attr: [] for attr in all_attributes}\n",
    "\n",
    "for attr in all_attributes:\n",
    "    rules[attr] = valid_ifthens_with_coverage_correctness(\n",
    "        X_test,\n",
    "        model,\n",
    "        sensitive_attribute=attr\n",
    "    )\n",
    "    rules[attr] = lib2.sort_triples_by_max_costdiff(rules[attr])"
   ]
  },
  {
   "cell_type": "code",
   "execution_count": null,
   "id": "0be14602-bcc9-4bc8-9377-0ca8e46332f2",
   "metadata": {},
   "outputs": [],
   "source": []
  }
 ],
 "metadata": {
  "kernelspec": {
   "display_name": "Python 3 (ipykernel)",
   "language": "python",
   "name": "python3"
  },
  "language_info": {
   "codemirror_mode": {
    "name": "ipython",
    "version": 3
   },
   "file_extension": ".py",
   "mimetype": "text/x-python",
   "name": "python",
   "nbconvert_exporter": "python",
   "pygments_lexer": "ipython3",
   "version": "3.9.15"
  }
 },
 "nbformat": 4,
 "nbformat_minor": 5
}
