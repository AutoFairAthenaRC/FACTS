{
 "cells": [
  {
   "cell_type": "markdown",
   "id": "a4164f0d",
   "metadata": {},
   "source": [
    "## Import libraries"
   ]
  },
  {
   "cell_type": "code",
   "execution_count": 1,
   "id": "50536eb3",
   "metadata": {
    "tags": []
   },
   "outputs": [],
   "source": [
    "import pandas as pd\n",
    "import numpy as np\n",
    "from pprint import pprint\n",
    "\n",
    "from sklearn.model_selection import train_test_split\n",
    "from sklearn.metrics import classification_report, confusion_matrix, ConfusionMatrixDisplay\n",
    "\n",
    "from models import customLogisticRegression\n",
    "from parameters import ParameterProxy\n",
    "from lib2 import valid_ifthens_with_coverage_correctness, rules2rulesbyif\n",
    "import lib2\n",
    "from formatting import recourse_report_reverse\n",
    "\n",
    "import matplotlib.pyplot as plt\n",
    "\n",
    "from IPython.display import Markdown, display"
   ]
  },
  {
   "cell_type": "code",
   "execution_count": 2,
   "id": "fd56032c",
   "metadata": {
    "tags": []
   },
   "outputs": [],
   "source": [
    "### do we need these?\n",
    "\n",
    "# from aif360.datasets import StandardDataset\n",
    "# from aif360.metrics import ClassificationMetric, BinaryLabelDatasetMetric\n",
    "# from aif360.algorithms.postprocessing import RejectOptionClassification\n",
    "# from aif360.detectors.mdss.ScoringFunctions import Bernoulli\n",
    "# from aif360.detectors.mdss.MDSS import MDSS\n",
    "# from aif360.detectors.mdss.generator import get_random_subset"
   ]
  },
  {
   "cell_type": "code",
   "execution_count": 3,
   "id": "99fb977c",
   "metadata": {
    "tags": []
   },
   "outputs": [],
   "source": [
    "DATAFILE = '../ad_campaign_data.csv' # location of dataset\n",
    "random_state = None # change to something for exactly reproducible results\n",
    "\n",
    "# as selected in \"tutorial_bias_advertising\" notebook\n",
    "selected_features = ['gender', 'parents', 'age', 'income', 'area', 'college_educated', 'homeowner']\n",
    "cate_features = ['gender', 'parents', 'age', 'income', 'area', 'college_educated']\n",
    "num_features = ['homeowner']\n",
    "\n",
    "# if not specified, set to 1\n",
    "feature_weights = {\"gender\": 1, \"parents\": 1, \"age\": 1}\n",
    "\n",
    "target_name = \"true_conversion\"\n",
    "positive_label = 1\n",
    "negative_label = 0\n",
    "\n",
    "model_train_fraction = 0.7\n",
    "learning_class_weights = {0: 0.5, 1: 265}\n",
    "\n",
    "sensitive_attribute = \"gender\""
   ]
  },
  {
   "cell_type": "markdown",
   "id": "7f50c922",
   "metadata": {},
   "source": [
    "## Load Dataset"
   ]
  },
  {
   "cell_type": "code",
   "execution_count": 4,
   "id": "7ec3f668",
   "metadata": {
    "tags": []
   },
   "outputs": [
    {
     "data": {
      "text/html": [
       "<div>\n",
       "<style scoped>\n",
       "    .dataframe tbody tr th:only-of-type {\n",
       "        vertical-align: middle;\n",
       "    }\n",
       "\n",
       "    .dataframe tbody tr th {\n",
       "        vertical-align: top;\n",
       "    }\n",
       "\n",
       "    .dataframe thead th {\n",
       "        text-align: right;\n",
       "    }\n",
       "</style>\n",
       "<table border=\"1\" class=\"dataframe\">\n",
       "  <thead>\n",
       "    <tr style=\"text-align: right;\">\n",
       "      <th></th>\n",
       "      <th>religion</th>\n",
       "      <th>politics</th>\n",
       "      <th>college_educated</th>\n",
       "      <th>parents</th>\n",
       "      <th>homeowner</th>\n",
       "      <th>gender</th>\n",
       "      <th>age</th>\n",
       "      <th>income</th>\n",
       "      <th>area</th>\n",
       "      <th>true_conversion</th>\n",
       "      <th>predicted_conversion</th>\n",
       "      <th>predicted_probability</th>\n",
       "    </tr>\n",
       "  </thead>\n",
       "  <tbody>\n",
       "    <tr>\n",
       "      <th>0</th>\n",
       "      <td>Unknown</td>\n",
       "      <td>Unknown</td>\n",
       "      <td>1</td>\n",
       "      <td>1</td>\n",
       "      <td>1</td>\n",
       "      <td>Unknown</td>\n",
       "      <td>55-64</td>\n",
       "      <td>Unknown</td>\n",
       "      <td>Unknown</td>\n",
       "      <td>0</td>\n",
       "      <td>0</td>\n",
       "      <td>0.001351</td>\n",
       "    </tr>\n",
       "    <tr>\n",
       "      <th>1</th>\n",
       "      <td>Other</td>\n",
       "      <td>Unknown</td>\n",
       "      <td>1</td>\n",
       "      <td>1</td>\n",
       "      <td>1</td>\n",
       "      <td>Unknown</td>\n",
       "      <td>55-64</td>\n",
       "      <td>Unknown</td>\n",
       "      <td>Urban</td>\n",
       "      <td>0</td>\n",
       "      <td>0</td>\n",
       "      <td>0.002238</td>\n",
       "    </tr>\n",
       "    <tr>\n",
       "      <th>2</th>\n",
       "      <td>Unknown</td>\n",
       "      <td>Unknown</td>\n",
       "      <td>1</td>\n",
       "      <td>1</td>\n",
       "      <td>1</td>\n",
       "      <td>F</td>\n",
       "      <td>55-64</td>\n",
       "      <td>Unknown</td>\n",
       "      <td>Unknown</td>\n",
       "      <td>0</td>\n",
       "      <td>0</td>\n",
       "      <td>0.002704</td>\n",
       "    </tr>\n",
       "    <tr>\n",
       "      <th>3</th>\n",
       "      <td>Unknown</td>\n",
       "      <td>Unknown</td>\n",
       "      <td>1</td>\n",
       "      <td>1</td>\n",
       "      <td>1</td>\n",
       "      <td>F</td>\n",
       "      <td>55-64</td>\n",
       "      <td>Unknown</td>\n",
       "      <td>Unknown</td>\n",
       "      <td>0</td>\n",
       "      <td>0</td>\n",
       "      <td>0.001967</td>\n",
       "    </tr>\n",
       "    <tr>\n",
       "      <th>4</th>\n",
       "      <td>Unknown</td>\n",
       "      <td>Unknown</td>\n",
       "      <td>1</td>\n",
       "      <td>1</td>\n",
       "      <td>1</td>\n",
       "      <td>F</td>\n",
       "      <td>55-64</td>\n",
       "      <td>Unknown</td>\n",
       "      <td>Urban</td>\n",
       "      <td>0</td>\n",
       "      <td>0</td>\n",
       "      <td>0.001681</td>\n",
       "    </tr>\n",
       "  </tbody>\n",
       "</table>\n",
       "</div>"
      ],
      "text/plain": [
       "  religion politics  college_educated  parents  homeowner   gender    age  \\\n",
       "0  Unknown  Unknown                 1        1          1  Unknown  55-64   \n",
       "1    Other  Unknown                 1        1          1  Unknown  55-64   \n",
       "2  Unknown  Unknown                 1        1          1        F  55-64   \n",
       "3  Unknown  Unknown                 1        1          1        F  55-64   \n",
       "4  Unknown  Unknown                 1        1          1        F  55-64   \n",
       "\n",
       "    income     area  true_conversion  predicted_conversion  \\\n",
       "0  Unknown  Unknown                0                     0   \n",
       "1  Unknown    Urban                0                     0   \n",
       "2  Unknown  Unknown                0                     0   \n",
       "3  Unknown  Unknown                0                     0   \n",
       "4  Unknown    Urban                0                     0   \n",
       "\n",
       "   predicted_probability  \n",
       "0               0.001351  \n",
       "1               0.002238  \n",
       "2               0.002704  \n",
       "3               0.001967  \n",
       "4               0.001681  "
      ]
     },
     "execution_count": 4,
     "metadata": {},
     "output_type": "execute_result"
    }
   ],
   "source": [
    "ad_conversion_dataset = pd.read_csv(DATAFILE)\n",
    "ad_conversion_dataset.head()"
   ]
  },
  {
   "cell_type": "markdown",
   "id": "c01544c3",
   "metadata": {},
   "source": [
    "### Print some statistics for the dataset"
   ]
  },
  {
   "cell_type": "code",
   "execution_count": 5,
   "id": "3710bcf3",
   "metadata": {
    "tags": []
   },
   "outputs": [
    {
     "name": "stdout",
     "output_type": "stream",
     "text": [
      "Number of (instances, attributes) in the dataset = (1443140, 12)\n",
      "\n",
      "Statistics of true conversions (0=no, 1=yes)\n",
      "0    1440766\n",
      "1       2374\n",
      "Name: true_conversion, dtype: int64\n",
      "\n",
      "Statistics of predicted conversions (0=no, 1=yes)\n",
      "0    1440773\n",
      "1       2367\n",
      "Name: predicted_conversion, dtype: int64\n"
     ]
    }
   ],
   "source": [
    "print(f\"Number of (instances, attributes) in the dataset = {ad_conversion_dataset.shape}\")\n",
    "print()\n",
    "\n",
    "print(f\"Statistics of true conversions (0=no, 1=yes)\")\n",
    "print(ad_conversion_dataset.true_conversion.value_counts())\n",
    "print()\n",
    "\n",
    "print(f\"Statistics of predicted conversions (0=no, 1=yes)\")\n",
    "print(ad_conversion_dataset.predicted_conversion.value_counts())"
   ]
  },
  {
   "cell_type": "markdown",
   "id": "6774262f",
   "metadata": {},
   "source": [
    "### Warning!\n",
    "\n",
    "There is no model!\n",
    "\n",
    "Predictions (from whatever model has been used) have been incorporated into the dataset, in the columns \"predicted_conversion\" (which is the predicted label) and \"predicted_probability\" (which is the predicted probability of belonging to the positive class).\n",
    "\n",
    "Moreover, the dataset is highly unbalanced, and this is also evident in the poor efficiency of the model, as demonstrated in the confusion matrix below."
   ]
  },
  {
   "cell_type": "code",
   "execution_count": 6,
   "id": "03eb55a7-2240-4244-8c9e-c005e36e8f0f",
   "metadata": {
    "tags": []
   },
   "outputs": [
    {
     "data": {
      "image/png": "[encoded data removed]",
      "text/plain": [
       "<Figure size 640x480 with 2 Axes>"
      ]
     },
     "metadata": {},
     "output_type": "display_data"
    }
   ],
   "source": [
    "conf_matrix = confusion_matrix(ad_conversion_dataset.true_conversion, ad_conversion_dataset.predicted_conversion)\n",
    "cm_disp = ConfusionMatrixDisplay(confusion_matrix=conf_matrix)\n",
    "cm_disp.plot()\n",
    "plt.show()"
   ]
  },
  {
   "cell_type": "markdown",
   "id": "5f1b33fa-c6c9-4770-8123-0f69f918e265",
   "metadata": {},
   "source": [
    "# Preprocessing"
   ]
  },
  {
   "cell_type": "code",
   "execution_count": 7,
   "id": "8ee07f88",
   "metadata": {
    "tags": []
   },
   "outputs": [
    {
     "data": {
      "text/html": [
       "<div>\n",
       "<style scoped>\n",
       "    .dataframe tbody tr th:only-of-type {\n",
       "        vertical-align: middle;\n",
       "    }\n",
       "\n",
       "    .dataframe tbody tr th {\n",
       "        vertical-align: top;\n",
       "    }\n",
       "\n",
       "    .dataframe thead th {\n",
       "        text-align: right;\n",
       "    }\n",
       "</style>\n",
       "<table border=\"1\" class=\"dataframe\">\n",
       "  <thead>\n",
       "    <tr style=\"text-align: right;\">\n",
       "      <th></th>\n",
       "      <th>gender</th>\n",
       "      <th>parents</th>\n",
       "      <th>age</th>\n",
       "      <th>income</th>\n",
       "      <th>area</th>\n",
       "      <th>college_educated</th>\n",
       "      <th>homeowner</th>\n",
       "      <th>true_conversion</th>\n",
       "    </tr>\n",
       "  </thead>\n",
       "  <tbody>\n",
       "    <tr>\n",
       "      <th>0</th>\n",
       "      <td>Unknown</td>\n",
       "      <td>1</td>\n",
       "      <td>55-64</td>\n",
       "      <td>Unknown</td>\n",
       "      <td>Unknown</td>\n",
       "      <td>1</td>\n",
       "      <td>1</td>\n",
       "      <td>0</td>\n",
       "    </tr>\n",
       "    <tr>\n",
       "      <th>1</th>\n",
       "      <td>Unknown</td>\n",
       "      <td>1</td>\n",
       "      <td>55-64</td>\n",
       "      <td>Unknown</td>\n",
       "      <td>Urban</td>\n",
       "      <td>1</td>\n",
       "      <td>1</td>\n",
       "      <td>0</td>\n",
       "    </tr>\n",
       "    <tr>\n",
       "      <th>2</th>\n",
       "      <td>F</td>\n",
       "      <td>1</td>\n",
       "      <td>55-64</td>\n",
       "      <td>Unknown</td>\n",
       "      <td>Unknown</td>\n",
       "      <td>1</td>\n",
       "      <td>1</td>\n",
       "      <td>0</td>\n",
       "    </tr>\n",
       "    <tr>\n",
       "      <th>3</th>\n",
       "      <td>F</td>\n",
       "      <td>1</td>\n",
       "      <td>55-64</td>\n",
       "      <td>Unknown</td>\n",
       "      <td>Unknown</td>\n",
       "      <td>1</td>\n",
       "      <td>1</td>\n",
       "      <td>0</td>\n",
       "    </tr>\n",
       "    <tr>\n",
       "      <th>4</th>\n",
       "      <td>F</td>\n",
       "      <td>1</td>\n",
       "      <td>55-64</td>\n",
       "      <td>Unknown</td>\n",
       "      <td>Urban</td>\n",
       "      <td>1</td>\n",
       "      <td>1</td>\n",
       "      <td>0</td>\n",
       "    </tr>\n",
       "    <tr>\n",
       "      <th>...</th>\n",
       "      <td>...</td>\n",
       "      <td>...</td>\n",
       "      <td>...</td>\n",
       "      <td>...</td>\n",
       "      <td>...</td>\n",
       "      <td>...</td>\n",
       "      <td>...</td>\n",
       "      <td>...</td>\n",
       "    </tr>\n",
       "    <tr>\n",
       "      <th>1443135</th>\n",
       "      <td>F</td>\n",
       "      <td>1</td>\n",
       "      <td>25-34</td>\n",
       "      <td>Unknown</td>\n",
       "      <td>Unknown</td>\n",
       "      <td>1</td>\n",
       "      <td>1</td>\n",
       "      <td>0</td>\n",
       "    </tr>\n",
       "    <tr>\n",
       "      <th>1443136</th>\n",
       "      <td>F</td>\n",
       "      <td>1</td>\n",
       "      <td>55-64</td>\n",
       "      <td>Unknown</td>\n",
       "      <td>Unknown</td>\n",
       "      <td>1</td>\n",
       "      <td>0</td>\n",
       "      <td>0</td>\n",
       "    </tr>\n",
       "    <tr>\n",
       "      <th>1443137</th>\n",
       "      <td>Unknown</td>\n",
       "      <td>1</td>\n",
       "      <td>55-64</td>\n",
       "      <td>Unknown</td>\n",
       "      <td>Unknown</td>\n",
       "      <td>1</td>\n",
       "      <td>1</td>\n",
       "      <td>0</td>\n",
       "    </tr>\n",
       "    <tr>\n",
       "      <th>1443138</th>\n",
       "      <td>F</td>\n",
       "      <td>1</td>\n",
       "      <td>55-64</td>\n",
       "      <td>Unknown</td>\n",
       "      <td>Unknown</td>\n",
       "      <td>1</td>\n",
       "      <td>1</td>\n",
       "      <td>0</td>\n",
       "    </tr>\n",
       "    <tr>\n",
       "      <th>1443139</th>\n",
       "      <td>F</td>\n",
       "      <td>1</td>\n",
       "      <td>55-64</td>\n",
       "      <td>Unknown</td>\n",
       "      <td>Unknown</td>\n",
       "      <td>1</td>\n",
       "      <td>1</td>\n",
       "      <td>0</td>\n",
       "    </tr>\n",
       "  </tbody>\n",
       "</table>\n",
       "<p>1443140 rows × 8 columns</p>\n",
       "</div>"
      ],
      "text/plain": [
       "          gender  parents    age   income     area  college_educated  \\\n",
       "0        Unknown        1  55-64  Unknown  Unknown                 1   \n",
       "1        Unknown        1  55-64  Unknown    Urban                 1   \n",
       "2              F        1  55-64  Unknown  Unknown                 1   \n",
       "3              F        1  55-64  Unknown  Unknown                 1   \n",
       "4              F        1  55-64  Unknown    Urban                 1   \n",
       "...          ...      ...    ...      ...      ...               ...   \n",
       "1443135        F        1  25-34  Unknown  Unknown                 1   \n",
       "1443136        F        1  55-64  Unknown  Unknown                 1   \n",
       "1443137  Unknown        1  55-64  Unknown  Unknown                 1   \n",
       "1443138        F        1  55-64  Unknown  Unknown                 1   \n",
       "1443139        F        1  55-64  Unknown  Unknown                 1   \n",
       "\n",
       "         homeowner  true_conversion  \n",
       "0                1                0  \n",
       "1                1                0  \n",
       "2                1                0  \n",
       "3                1                0  \n",
       "4                1                0  \n",
       "...            ...              ...  \n",
       "1443135          1                0  \n",
       "1443136          0                0  \n",
       "1443137          1                0  \n",
       "1443138          1                0  \n",
       "1443139          1                0  \n",
       "\n",
       "[1443140 rows x 8 columns]"
      ]
     },
     "execution_count": 7,
     "metadata": {},
     "output_type": "execute_result"
    }
   ],
   "source": [
    "## keep only the columns in selected_features, plus the label column\n",
    "ad_conversion_dataset = ad_conversion_dataset[selected_features + [target_name]]\n",
    "ad_conversion_dataset"
   ]
  },
  {
   "cell_type": "code",
   "execution_count": 8,
   "id": "e2d5162d",
   "metadata": {
    "tags": []
   },
   "outputs": [],
   "source": [
    "## train-test split\n",
    "\n",
    "X = ad_conversion_dataset.drop(target_name, axis=1)\n",
    "y = ad_conversion_dataset[target_name]\n",
    "\n",
    "X_train, X_test, y_train, y_test = train_test_split(X, y, train_size=model_train_fraction, random_state=random_state, stratify=y)\n",
    "\n",
    "X_train = X_train.reset_index(drop=True)\n",
    "X_test = X_test.reset_index(drop=True)\n",
    "y_train = y_train.reset_index(drop=True)\n",
    "y_test = y_test.reset_index(drop=True)"
   ]
  },
  {
   "cell_type": "markdown",
   "id": "17c32fa1-337a-45e0-ae5c-914575a2cbb6",
   "metadata": {},
   "source": [
    "# Model training"
   ]
  },
  {
   "cell_type": "code",
   "execution_count": 9,
   "id": "d613bdf8",
   "metadata": {
    "tags": []
   },
   "outputs": [
    {
     "name": "stdout",
     "output_type": "stream",
     "text": [
      "CPU times: total: 7.86 s\n",
      "Wall time: 6.87 s\n"
     ]
    },
    {
     "data": {
      "text/plain": [
       "array([0., 0., 0., 0., 0., 0., 0., 0., 0., 0., 0., 0., 0., 0., 0., 0., 1.,\n",
       "       0., 0., 0., 0., 0., 0., 0., 0., 0., 0., 0., 0., 0., 0., 0., 0., 0.,\n",
       "       0., 0., 0., 0., 0., 0., 0., 0., 0., 0., 0., 0., 0., 0., 0., 0., 0.,\n",
       "       0., 0., 0., 0., 0., 0., 0., 0., 0., 0., 0., 0., 0., 0., 0., 0., 0.,\n",
       "       0., 0., 0., 0., 0., 0., 0., 0., 0., 0., 0., 0., 0., 0., 0., 0., 0.,\n",
       "       0., 0., 0., 0., 0., 0., 0., 0., 0., 0., 0., 0., 0., 0., 0.])"
      ]
     },
     "execution_count": 9,
     "metadata": {},
     "output_type": "execute_result"
    }
   ],
   "source": [
    "%%time\n",
    "\n",
    "model = customLogisticRegression(class_weight=learning_class_weights)\n",
    "model.fit(X_train, y_train, cate_columns=cate_features, target_column=target_name)\n",
    "model.predict(X_test.iloc[:100, :])"
   ]
  },
  {
   "cell_type": "markdown",
   "id": "13d583ac",
   "metadata": {},
   "source": [
    "# Testing the model\n",
    "\n",
    "We check if the model is satisfactory."
   ]
  },
  {
   "cell_type": "code",
   "execution_count": 10,
   "id": "2fbd7b2e",
   "metadata": {
    "tags": []
   },
   "outputs": [
    {
     "name": "stdout",
     "output_type": "stream",
     "text": [
      "              precision    recall  f1-score   support\n",
      "\n",
      "           0       1.00      0.99      1.00    432231\n",
      "           1       0.00      0.01      0.00       712\n",
      "\n",
      "    accuracy                           0.99    432943\n",
      "   macro avg       0.50      0.50      0.50    432943\n",
      "weighted avg       1.00      0.99      0.99    432943\n",
      "\n"
     ]
    }
   ],
   "source": [
    "preds = model.predict(X_test)\n",
    "print(classification_report(y_test.map({negative_label: 0, positive_label: 1}), preds))"
   ]
  },
  {
   "cell_type": "code",
   "execution_count": 11,
   "id": "a82b48f8-408b-43a0-99fc-c21ff8a63718",
   "metadata": {
    "tags": []
   },
   "outputs": [
    {
     "data": {
      "image/png": "[encoded data removed]",
      "text/plain": [
       "<Figure size 640x480 with 2 Axes>"
      ]
     },
     "metadata": {},
     "output_type": "display_data"
    }
   ],
   "source": [
    "conf_matrix = confusion_matrix(y_test, preds)\n",
    "cm_disp = ConfusionMatrixDisplay(confusion_matrix=conf_matrix)\n",
    "cm_disp.plot()\n",
    "plt.show()"
   ]
  },
  {
   "cell_type": "markdown",
   "id": "11452631",
   "metadata": {},
   "source": [
    "Given the high imbalance of the dataset, we consider that the above results, for a simple logistic regression, are good enough."
   ]
  },
  {
   "cell_type": "markdown",
   "id": "66bafa9b-95db-49c6-b116-9ebb65c13fc8",
   "metadata": {},
   "source": [
    "# Find all valid if-thens with all respective coverages and correctness, for all subgroups.\n",
    "\n",
    "**Caution!** This step takes time. Uncomment the following block if you wish to run."
   ]
  },
  {
   "cell_type": "code",
   "execution_count": 12,
   "id": "297d9256",
   "metadata": {
    "tags": []
   },
   "outputs": [
    {
     "name": "stderr",
     "output_type": "stream",
     "text": [
      "100%|████████████████████████████████████████████████████████████████████████████████| 429/429 [01:23<00:00,  5.12it/s]"
     ]
    },
    {
     "name": "stdout",
     "output_type": "stream",
     "text": [
      "Number of if-thens: 429\n"
     ]
    },
    {
     "name": "stderr",
     "output_type": "stream",
     "text": [
      "\n"
     ]
    }
   ],
   "source": [
    "ifthens_coverage_correctness = valid_ifthens_with_coverage_correctness(\n",
    "    X_test,\n",
    "    model,\n",
    "    sensitive_attribute\n",
    ")\n",
    "\n",
    "print(f\"Number of if-thens: {len(ifthens_coverage_correctness)}\")\n",
    "rules_by_if = rules2rulesbyif(ifthens_coverage_correctness)"
   ]
  },
  {
   "cell_type": "markdown",
   "id": "d17cb30e-0a36-43cb-9f95-2b2e93634e5a",
   "metadata": {},
   "source": [
    "Uncomment the following block if you wish to load rules object from disk."
   ]
  },
  {
   "cell_type": "code",
   "execution_count": 13,
   "id": "c22dbaba-1ccb-4db3-84de-21227328e07c",
   "metadata": {
    "tags": []
   },
   "outputs": [],
   "source": [
    "# import dill\n",
    "\n",
    "# with open(\"rules.data\", \"rb\") as inf:\n",
    "#     rules_by_if = dill.load(inf)"
   ]
  },
  {
   "cell_type": "code",
   "execution_count": 14,
   "id": "8a13da8a-e2a3-481f-9b1b-bc1803f4eccf",
   "metadata": {
    "tags": []
   },
   "outputs": [
    {
     "name": "stdout",
     "output_type": "stream",
     "text": [
      "If \u001b[1marea = Unknown, homeowner = 1, college_educated = 1, age = Unknown\u001b[0m:\n",
      "\tSubgroup '\u001b[1mF\u001b[0m', \u001b[0;34m1.7603%\u001b[0m covered\n",
      "\t\tMake \u001b[1marea = Rural, homeowner = 1, college_educated = 1, age = Unknown\u001b[0m with correctness \u001b[0;32m1.6972%\u001b[0m.\n",
      "\tSubgroup '\u001b[1mM\u001b[0m', \u001b[0;34m1.6811%\u001b[0m covered\n",
      "\t\tMake \u001b[1marea = Rural, homeowner = 1, college_educated = 1, age = Unknown\u001b[0m with correctness \u001b[0;32m91.2725%\u001b[0m.\n",
      "If \u001b[1marea = Unknown, income = Unknown, college_educated = 1, age = Unknown\u001b[0m:\n",
      "\tSubgroup '\u001b[1mF\u001b[0m', \u001b[0;34m1.9735%\u001b[0m covered\n",
      "\t\tMake \u001b[1marea = Rural, income = Unknown, college_educated = 1, age = Unknown\u001b[0m with correctness \u001b[0;32m13.6836%\u001b[0m.\n",
      "\tSubgroup '\u001b[1mM\u001b[0m', \u001b[0;34m1.9006%\u001b[0m covered\n",
      "\t\tMake \u001b[1marea = Rural, income = Unknown, college_educated = 1, age = Unknown\u001b[0m with correctness \u001b[0;32m94.4019%\u001b[0m.\n",
      "If \u001b[1marea = Unknown, parents = 1, college_educated = 1, age = Unknown\u001b[0m:\n",
      "\tSubgroup '\u001b[1mF\u001b[0m', \u001b[0;34m1.9823%\u001b[0m covered\n",
      "\t\tMake \u001b[1marea = Rural, parents = 1, college_educated = 1, age = Unknown\u001b[0m with correctness \u001b[0;32m15.9279%\u001b[0m.\n",
      "\tSubgroup '\u001b[1mM\u001b[0m', \u001b[0;34m1.9107%\u001b[0m covered\n",
      "\t\tMake \u001b[1marea = Rural, parents = 1, college_educated = 1, age = Unknown\u001b[0m with correctness \u001b[0;32m95.9555%\u001b[0m.\n",
      "If \u001b[1marea = Unknown, college_educated = 1, age = Unknown\u001b[0m:\n",
      "\tSubgroup '\u001b[1mF\u001b[0m', \u001b[0;34m2.0983%\u001b[0m covered\n",
      "\t\tMake \u001b[1marea = Rural, college_educated = 1, age = Unknown\u001b[0m with correctness \u001b[0;32m15.1591%\u001b[0m.\n",
      "\tSubgroup '\u001b[1mM\u001b[0m', \u001b[0;34m2.0249%\u001b[0m covered\n",
      "\t\tMake \u001b[1marea = Rural, college_educated = 1, age = Unknown\u001b[0m with correctness \u001b[0;32m90.6527%\u001b[0m.\n",
      "If \u001b[1mhomeowner = 1, income = Unknown, parents = 1, college_educated = 1, age = Unknown\u001b[0m:\n",
      "\tSubgroup '\u001b[1mF\u001b[0m', \u001b[0;34m2.2740%\u001b[0m covered\n",
      "\t\tMake \u001b[1mhomeowner = 1, income = Unknown, parents = 1, college_educated = 0, age = 55-64\u001b[0m with correctness \u001b[0;32m5.8475%\u001b[0m.\n",
      "\tSubgroup '\u001b[1mM\u001b[0m', \u001b[0;34m2.1022%\u001b[0m covered\n",
      "\t\tMake \u001b[1mhomeowner = 1, income = Unknown, parents = 1, college_educated = 0, age = 55-64\u001b[0m with correctness \u001b[0;32m0.0000%\u001b[0m.\n",
      "If \u001b[1mhomeowner = 1, parents = 1, age = Unknown\u001b[0m:\n",
      "\tSubgroup '\u001b[1mF\u001b[0m', \u001b[0;34m2.4960%\u001b[0m covered\n",
      "\t\tMake \u001b[1mhomeowner = 1, parents = 1, age = 55-64\u001b[0m with correctness \u001b[0;32m5.6794%\u001b[0m.\n",
      "\t\tMake \u001b[1mhomeowner = 0, parents = 1, age = 55-64\u001b[0m with correctness \u001b[0;32m30.1572%\u001b[0m.\n",
      "\t\tMake \u001b[1mhomeowner = 1, parents = 1, age = 45-54\u001b[0m with correctness \u001b[0;32m5.6794%\u001b[0m.\n",
      "\t\tMake \u001b[1mhomeowner = 1, parents = 1, age = 25-34\u001b[0m with correctness \u001b[0;32m5.5855%\u001b[0m.\n",
      "\t\tMake \u001b[1mhomeowner = 0, parents = 1, age = 45-54\u001b[0m with correctness \u001b[0;32m30.1572%\u001b[0m.\n",
      "\tSubgroup '\u001b[1mM\u001b[0m', \u001b[0;34m2.3060%\u001b[0m covered\n",
      "\t\tMake \u001b[1mhomeowner = 1, parents = 1, age = 55-64\u001b[0m with correctness \u001b[0;32m0.5828%\u001b[0m.\n",
      "\t\tMake \u001b[1mhomeowner = 0, parents = 1, age = 55-64\u001b[0m with correctness \u001b[0;32m28.1690%\u001b[0m.\n",
      "\t\tMake \u001b[1mhomeowner = 1, parents = 1, age = 45-54\u001b[0m with correctness \u001b[0;32m0.5828%\u001b[0m.\n",
      "\t\tMake \u001b[1mhomeowner = 1, parents = 1, age = 25-34\u001b[0m with correctness \u001b[0;32m0.3885%\u001b[0m.\n",
      "\t\tMake \u001b[1mhomeowner = 0, parents = 1, age = 45-54\u001b[0m with correctness \u001b[0;32m28.1690%\u001b[0m.\n",
      "If \u001b[1mincome = Unknown, parents = 1, age = Unknown\u001b[0m:\n",
      "\tSubgroup '\u001b[1mF\u001b[0m', \u001b[0;34m2.7040%\u001b[0m covered\n",
      "\t\tMake \u001b[1mincome = Unknown, parents = 1, age = 55-64\u001b[0m with correctness \u001b[0;32m5.3076%\u001b[0m.\n",
      "\t\tMake \u001b[1mincome = Unknown, parents = 1, age = 45-54\u001b[0m with correctness \u001b[0;32m5.3076%\u001b[0m.\n",
      "\t\tMake \u001b[1mincome = Unknown, parents = 1, age = 25-34\u001b[0m with correctness \u001b[0;32m5.3076%\u001b[0m.\n",
      "\tSubgroup '\u001b[1mM\u001b[0m', \u001b[0;34m2.5312%\u001b[0m covered\n",
      "\t\tMake \u001b[1mincome = Unknown, parents = 1, age = 55-64\u001b[0m with correctness \u001b[0;32m0.4425%\u001b[0m.\n",
      "\t\tMake \u001b[1mincome = Unknown, parents = 1, age = 45-54\u001b[0m with correctness \u001b[0;32m0.4425%\u001b[0m.\n",
      "\t\tMake \u001b[1mincome = Unknown, parents = 1, age = 25-34\u001b[0m with correctness \u001b[0;32m0.4425%\u001b[0m.\n",
      "If \u001b[1mhomeowner = 1, age = Unknown\u001b[0m:\n",
      "\tSubgroup '\u001b[1mF\u001b[0m', \u001b[0;34m2.6519%\u001b[0m covered\n",
      "\t\tMake \u001b[1mhomeowner = 1, age = 55-64\u001b[0m with correctness \u001b[0;32m5.3457%\u001b[0m.\n",
      "\t\tMake \u001b[1mhomeowner = 0, age = 55-64\u001b[0m with correctness \u001b[0;32m28.7166%\u001b[0m.\n",
      "\t\tMake \u001b[1mhomeowner = 1, age = 45-54\u001b[0m with correctness \u001b[0;32m5.3457%\u001b[0m.\n",
      "\t\tMake \u001b[1mhomeowner = 1, age = 25-34\u001b[0m with correctness \u001b[0;32m5.2573%\u001b[0m.\n",
      "\t\tMake \u001b[1mhomeowner = 0, age = 45-54\u001b[0m with correctness \u001b[0;32m28.7166%\u001b[0m.\n",
      "\tSubgroup '\u001b[1mM\u001b[0m', \u001b[0;34m2.4494%\u001b[0m covered\n",
      "\t\tMake \u001b[1mhomeowner = 1, age = 55-64\u001b[0m with correctness \u001b[0;32m0.5487%\u001b[0m.\n",
      "\t\tMake \u001b[1mhomeowner = 0, age = 55-64\u001b[0m with correctness \u001b[0;32m26.6575%\u001b[0m.\n",
      "\t\tMake \u001b[1mhomeowner = 1, age = 45-54\u001b[0m with correctness \u001b[0;32m0.5487%\u001b[0m.\n",
      "\t\tMake \u001b[1mhomeowner = 1, age = 25-34\u001b[0m with correctness \u001b[0;32m0.3658%\u001b[0m.\n",
      "\t\tMake \u001b[1mhomeowner = 0, age = 45-54\u001b[0m with correctness \u001b[0;32m26.6575%\u001b[0m.\n",
      "If \u001b[1mincome = Unknown, age = Unknown\u001b[0m:\n",
      "\tSubgroup '\u001b[1mF\u001b[0m', \u001b[0;34m2.8698%\u001b[0m covered\n",
      "\t\tMake \u001b[1mincome = Unknown, age = 55-64\u001b[0m with correctness \u001b[0;32m5.0010%\u001b[0m.\n",
      "\t\tMake \u001b[1mincome = >100K, age = 55-64\u001b[0m with correctness \u001b[0;32m34.0274%\u001b[0m.\n",
      "\t\tMake \u001b[1mincome = Unknown, age = 45-54\u001b[0m with correctness \u001b[0;32m5.0010%\u001b[0m.\n",
      "\t\tMake \u001b[1mincome = Unknown, age = 25-34\u001b[0m with correctness \u001b[0;32m5.0010%\u001b[0m.\n",
      "\tSubgroup '\u001b[1mM\u001b[0m', \u001b[0;34m2.6801%\u001b[0m covered\n",
      "\t\tMake \u001b[1mincome = Unknown, age = 55-64\u001b[0m with correctness \u001b[0;32m0.4179%\u001b[0m.\n",
      "\t\tMake \u001b[1mincome = >100K, age = 55-64\u001b[0m with correctness \u001b[0;32m33.8069%\u001b[0m.\n",
      "\t\tMake \u001b[1mincome = Unknown, age = 45-54\u001b[0m with correctness \u001b[0;32m0.4179%\u001b[0m.\n",
      "\t\tMake \u001b[1mincome = Unknown, age = 25-34\u001b[0m with correctness \u001b[0;32m0.4179%\u001b[0m.\n",
      "If \u001b[1mcollege_educated = 1, age = Unknown\u001b[0m:\n",
      "\tSubgroup '\u001b[1mF\u001b[0m', \u001b[0;34m2.8340%\u001b[0m covered\n",
      "\t\tMake \u001b[1mcollege_educated = 1, age = 55-64\u001b[0m with correctness \u001b[0;32m5.4981%\u001b[0m.\n",
      "\t\tMake \u001b[1mcollege_educated = 0, age = 55-64\u001b[0m with correctness \u001b[0;32m5.4155%\u001b[0m.\n",
      "\tSubgroup '\u001b[1mM\u001b[0m', \u001b[0;34m2.6622%\u001b[0m covered\n",
      "\t\tMake \u001b[1mcollege_educated = 1, age = 55-64\u001b[0m with correctness \u001b[0;32m1.0097%\u001b[0m.\n",
      "\t\tMake \u001b[1mcollege_educated = 0, age = 55-64\u001b[0m with correctness \u001b[0;32m0.8414%\u001b[0m.\n",
      "\n"
     ]
    }
   ],
   "source": [
    "K = 10\n",
    "\n",
    "# keep K ifs with maximum coverage on Females\n",
    "# TODO: the below is currently dataset dependent\n",
    "# rules_by_if_filtered = sorted(rules_by_if.items(), key=lambda e: e[1][\"F\"][0][1], reverse=True)[:K]\n",
    "\n",
    "# keep K ifs with maximum absolute difference in correctness between Males and Females.\n",
    "# TODO: the below is currently dataset dependent\n",
    "rules_by_if_filtered = sorted(rules_by_if.items(), key=lambda e: abs(e[1][\"M\"][1][0][1]-e[1][\"F\"][1][0][1]), reverse=True)[:K]\n",
    "\n",
    "rules_by_if_filtered = dict(rules_by_if_filtered)\n",
    "\n",
    "print(recourse_report_reverse(list(rules_by_if_filtered.items()), missing_subgroup_val=\"Unknown\"))"
   ]
  },
  {
   "cell_type": "code",
   "execution_count": 15,
   "id": "c3d9345a-d3f6-4db1-9fa2-887cf76c0149",
   "metadata": {},
   "outputs": [],
   "source": [
    "##### Uncomment if you wish to save rules object on disk\n",
    "\n",
    "# import dill\n",
    "\n",
    "# with open(\"rules.data\", \"wb\") as outf:\n",
    "#     dill.dump(rules_by_if, outf)"
   ]
  },
  {
   "cell_type": "markdown",
   "id": "680049be-1176-44d9-ba37-61b194dfb97f",
   "metadata": {},
   "source": [
    "# Filter rules by different scoring functions"
   ]
  },
  {
   "cell_type": "markdown",
   "id": "07e10fea-1fb4-4028-813a-e21b0767983f",
   "metadata": {},
   "source": [
    "Here, we explore more sophisticated ways of picking the \"top\" K rules and showing only those.\n",
    "\n",
    "We start ranking the rule \"groups\" (all recourses for a single \"if\") by averaging out the costs of all suggested recourses, weighted by the respective correctness. For now, the \"cost\" of a recourse is simply the number of features whose value changes (and the magnitude of the change for numerical features, but here there are none)."
   ]
  },
  {
   "cell_type": "code",
   "execution_count": 26,
   "id": "30e1fd26-1371-4fd1-8357-0221728a97b1",
   "metadata": {},
   "outputs": [
    {
     "name": "stdout",
     "output_type": "stream",
     "text": [
      "If \u001b[1mhomeowner = 1, income = Unknown, area = Urban, college_educated = 0, age = 55-64\u001b[0m:\n",
      "\tSubgroup '\u001b[1mF\u001b[0m', \u001b[0;34m1.2366%\u001b[0m covered out of 600135\n",
      "\t\tMake \u001b[1mhomeowner = 1, income = Unknown, area = Rural, college_educated = 0, age = 55-64\u001b[0m with correctness \u001b[0;32m95.0734%\u001b[0m.\n",
      "\t\tMake \u001b[1mhomeowner = 1, income = Unknown, area = Rural, college_educated = 1, age = Unknown\u001b[0m with correctness \u001b[0;32m0.0000%\u001b[0m.\n",
      "\tSubgroup '\u001b[1mM\u001b[0m', \u001b[0;34m1.1525%\u001b[0m covered out of 314181\n",
      "\t\tMake \u001b[1mhomeowner = 1, income = Unknown, area = Rural, college_educated = 0, age = 55-64\u001b[0m with correctness \u001b[0;32m94.8494%\u001b[0m.\n",
      "\t\tMake \u001b[1mhomeowner = 1, income = Unknown, area = Rural, college_educated = 1, age = Unknown\u001b[0m with correctness \u001b[0;32m94.8494%\u001b[0m.\n",
      "If \u001b[1marea = Unknown, homeowner = 1, college_educated = 1, age = Unknown\u001b[0m:\n",
      "\tSubgroup '\u001b[1mF\u001b[0m', \u001b[0;34m1.7603%\u001b[0m covered out of 600135\n",
      "\t\tMake \u001b[1marea = Rural, homeowner = 1, college_educated = 1, age = Unknown\u001b[0m with correctness \u001b[0;32m1.6972%\u001b[0m.\n",
      "\tSubgroup '\u001b[1mM\u001b[0m', \u001b[0;34m1.6811%\u001b[0m covered out of 314181\n",
      "\t\tMake \u001b[1marea = Rural, homeowner = 1, college_educated = 1, age = Unknown\u001b[0m with correctness \u001b[0;32m91.2725%\u001b[0m.\n",
      "If \u001b[1marea = Unknown, income = Unknown, college_educated = 1, age = Unknown\u001b[0m:\n",
      "\tSubgroup '\u001b[1mF\u001b[0m', \u001b[0;34m1.9735%\u001b[0m covered out of 600135\n",
      "\t\tMake \u001b[1marea = Rural, income = Unknown, college_educated = 1, age = Unknown\u001b[0m with correctness \u001b[0;32m13.6836%\u001b[0m.\n",
      "\tSubgroup '\u001b[1mM\u001b[0m', \u001b[0;34m1.9006%\u001b[0m covered out of 314181\n",
      "\t\tMake \u001b[1marea = Rural, income = Unknown, college_educated = 1, age = Unknown\u001b[0m with correctness \u001b[0;32m94.4019%\u001b[0m.\n",
      "If \u001b[1marea = Unknown, parents = 1, college_educated = 1, age = Unknown\u001b[0m:\n",
      "\tSubgroup '\u001b[1mF\u001b[0m', \u001b[0;34m1.9823%\u001b[0m covered out of 600135\n",
      "\t\tMake \u001b[1marea = Rural, parents = 1, college_educated = 1, age = Unknown\u001b[0m with correctness \u001b[0;32m15.9279%\u001b[0m.\n",
      "\tSubgroup '\u001b[1mM\u001b[0m', \u001b[0;34m1.9107%\u001b[0m covered out of 314181\n",
      "\t\tMake \u001b[1marea = Rural, parents = 1, college_educated = 1, age = Unknown\u001b[0m with correctness \u001b[0;32m95.9555%\u001b[0m.\n",
      "If \u001b[1marea = Unknown, college_educated = 1, age = Unknown\u001b[0m:\n",
      "\tSubgroup '\u001b[1mF\u001b[0m', \u001b[0;34m2.0983%\u001b[0m covered out of 600135\n",
      "\t\tMake \u001b[1marea = Rural, college_educated = 1, age = Unknown\u001b[0m with correctness \u001b[0;32m15.1591%\u001b[0m.\n",
      "\tSubgroup '\u001b[1mM\u001b[0m', \u001b[0;34m2.0249%\u001b[0m covered out of 314181\n",
      "\t\tMake \u001b[1marea = Rural, college_educated = 1, age = Unknown\u001b[0m with correctness \u001b[0;32m90.6527%\u001b[0m.\n",
      "If \u001b[1marea = Urban, parents = 1, age = 55-64\u001b[0m:\n",
      "\tSubgroup '\u001b[1mF\u001b[0m', \u001b[0;34m20.1088%\u001b[0m covered out of 600135\n",
      "\t\tMake \u001b[1marea = Rural, parents = 1, age = 55-64\u001b[0m with correctness \u001b[0;32m99.3300%\u001b[0m.\n",
      "\t\tMake \u001b[1marea = Rural, parents = 1, age = 25-34\u001b[0m with correctness \u001b[0;32m99.3300%\u001b[0m.\n",
      "\t\tMake \u001b[1marea = Rural, parents = 1, age = 45-54\u001b[0m with correctness \u001b[0;32m99.3300%\u001b[0m.\n",
      "\t\tMake \u001b[1marea = Rural, parents = 1, age = Unknown\u001b[0m with correctness \u001b[0;32m0.0350%\u001b[0m.\n",
      "\tSubgroup '\u001b[1mM\u001b[0m', \u001b[0;34m20.0880%\u001b[0m covered out of 314181\n",
      "\t\tMake \u001b[1marea = Rural, parents = 1, age = 55-64\u001b[0m with correctness \u001b[0;32m99.2473%\u001b[0m.\n",
      "\t\tMake \u001b[1marea = Rural, parents = 1, age = 25-34\u001b[0m with correctness \u001b[0;32m99.2473%\u001b[0m.\n",
      "\t\tMake \u001b[1marea = Rural, parents = 1, age = 45-54\u001b[0m with correctness \u001b[0;32m99.2473%\u001b[0m.\n",
      "\t\tMake \u001b[1marea = Rural, parents = 1, age = Unknown\u001b[0m with correctness \u001b[0;32m93.7221%\u001b[0m.\n",
      "If \u001b[1marea = Urban, age = 55-64\u001b[0m:\n",
      "\tSubgroup '\u001b[1mF\u001b[0m', \u001b[0;34m21.2564%\u001b[0m covered out of 600135\n",
      "\t\tMake \u001b[1marea = Rural, age = 55-64\u001b[0m with correctness \u001b[0;32m94.0475%\u001b[0m.\n",
      "\t\tMake \u001b[1marea = Rural, age = 45-54\u001b[0m with correctness \u001b[0;32m94.0475%\u001b[0m.\n",
      "\t\tMake \u001b[1marea = Rural, age = 25-34\u001b[0m with correctness \u001b[0;32m94.0475%\u001b[0m.\n",
      "\t\tMake \u001b[1marea = Rural, age = Unknown\u001b[0m with correctness \u001b[0;32m0.0413%\u001b[0m.\n",
      "\tSubgroup '\u001b[1mM\u001b[0m', \u001b[0;34m21.2539%\u001b[0m covered out of 314181\n",
      "\t\tMake \u001b[1marea = Rural, age = 55-64\u001b[0m with correctness \u001b[0;32m93.9137%\u001b[0m.\n",
      "\t\tMake \u001b[1marea = Rural, age = 45-54\u001b[0m with correctness \u001b[0;32m93.9137%\u001b[0m.\n",
      "\t\tMake \u001b[1marea = Rural, age = 25-34\u001b[0m with correctness \u001b[0;32m93.9137%\u001b[0m.\n",
      "\t\tMake \u001b[1marea = Rural, age = Unknown\u001b[0m with correctness \u001b[0;32m88.5809%\u001b[0m.\n",
      "If \u001b[1marea = Urban, income = Unknown, age = 55-64\u001b[0m:\n",
      "\tSubgroup '\u001b[1mF\u001b[0m', \u001b[0;34m21.0783%\u001b[0m covered out of 600135\n",
      "\t\tMake \u001b[1marea = Rural, income = Unknown, age = 55-64\u001b[0m with correctness \u001b[0;32m94.6836%\u001b[0m.\n",
      "\t\tMake \u001b[1marea = Urban, income = >100K, age = 55-64\u001b[0m with correctness \u001b[0;32m89.0559%\u001b[0m.\n",
      "\t\tMake \u001b[1marea = Rural, income = Unknown, age = 45-54\u001b[0m with correctness \u001b[0;32m94.6836%\u001b[0m.\n",
      "\t\tMake \u001b[1marea = Rural, income = Unknown, age = 25-34\u001b[0m with correctness \u001b[0;32m94.6836%\u001b[0m.\n",
      "\t\tMake \u001b[1marea = Rural, income = Unknown, age = Unknown\u001b[0m with correctness \u001b[0;32m0.0000%\u001b[0m.\n",
      "\tSubgroup '\u001b[1mM\u001b[0m', \u001b[0;34m21.0613%\u001b[0m covered out of 314181\n",
      "\t\tMake \u001b[1marea = Rural, income = Unknown, age = 55-64\u001b[0m with correctness \u001b[0;32m94.6185%\u001b[0m.\n",
      "\t\tMake \u001b[1marea = Urban, income = >100K, age = 55-64\u001b[0m with correctness \u001b[0;32m89.3645%\u001b[0m.\n",
      "\t\tMake \u001b[1marea = Rural, income = Unknown, age = 45-54\u001b[0m with correctness \u001b[0;32m94.6185%\u001b[0m.\n",
      "\t\tMake \u001b[1marea = Rural, income = Unknown, age = 25-34\u001b[0m with correctness \u001b[0;32m94.6185%\u001b[0m.\n",
      "\t\tMake \u001b[1marea = Rural, income = Unknown, age = Unknown\u001b[0m with correctness \u001b[0;32m89.3645%\u001b[0m.\n",
      "If \u001b[1marea = Urban, homeowner = 1, age = 55-64\u001b[0m:\n",
      "\tSubgroup '\u001b[1mF\u001b[0m', \u001b[0;34m21.2230%\u001b[0m covered out of 600135\n",
      "\t\tMake \u001b[1marea = Rural, homeowner = 1, age = 55-64\u001b[0m with correctness \u001b[0;32m94.0436%\u001b[0m.\n",
      "\t\tMake \u001b[1marea = Rural, homeowner = 0, age = 55-64\u001b[0m with correctness \u001b[0;32m99.9586%\u001b[0m.\n",
      "\t\tMake \u001b[1marea = Rural, homeowner = 1, age = 45-54\u001b[0m with correctness \u001b[0;32m94.0436%\u001b[0m.\n",
      "\t\tMake \u001b[1marea = Rural, homeowner = 1, age = 25-34\u001b[0m with correctness \u001b[0;32m94.0436%\u001b[0m.\n",
      "\t\tMake \u001b[1marea = Rural, homeowner = 1, age = Unknown\u001b[0m with correctness \u001b[0;32m0.0331%\u001b[0m.\n",
      "\tSubgroup '\u001b[1mM\u001b[0m', \u001b[0;34m21.2226%\u001b[0m covered out of 314181\n",
      "\t\tMake \u001b[1marea = Rural, homeowner = 1, age = 55-64\u001b[0m with correctness \u001b[0;32m93.9100%\u001b[0m.\n",
      "\t\tMake \u001b[1marea = Rural, homeowner = 0, age = 55-64\u001b[0m with correctness \u001b[0;32m99.9631%\u001b[0m.\n",
      "\t\tMake \u001b[1marea = Rural, homeowner = 1, age = 45-54\u001b[0m with correctness \u001b[0;32m93.9100%\u001b[0m.\n",
      "\t\tMake \u001b[1marea = Rural, homeowner = 1, age = 25-34\u001b[0m with correctness \u001b[0;32m93.9100%\u001b[0m.\n",
      "\t\tMake \u001b[1marea = Rural, homeowner = 1, age = Unknown\u001b[0m with correctness \u001b[0;32m88.7118%\u001b[0m.\n",
      "If \u001b[1mhomeowner = 1, income = Unknown, parents = 1, college_educated = 1, age = Unknown\u001b[0m:\n",
      "\tSubgroup '\u001b[1mF\u001b[0m', \u001b[0;34m2.2740%\u001b[0m covered out of 600135\n",
      "\t\tMake \u001b[1mhomeowner = 1, income = Unknown, parents = 1, college_educated = 0, age = 55-64\u001b[0m with correctness \u001b[0;32m5.8475%\u001b[0m.\n",
      "\tSubgroup '\u001b[1mM\u001b[0m', \u001b[0;34m2.1022%\u001b[0m covered out of 314181\n",
      "\t\tMake \u001b[1mhomeowner = 1, income = Unknown, parents = 1, college_educated = 0, age = 55-64\u001b[0m with correctness \u001b[0;32m0.0000%\u001b[0m.\n",
      "\n"
     ]
    }
   ],
   "source": [
    "K = 10\n",
    "\n",
    "rules_max_costdiff_2groups = lib2.sort_triples_by_costdiff_2groups(rules_by_if, \"M\", \"F\")[:K]\n",
    "rules_max_costdiff_2groups = dict(rules_max_costdiff_2groups)\n",
    "\n",
    "print(recourse_report_reverse(\n",
    "    list(rules_max_costdiff_2groups.items()),\n",
    "    population_sizes = {\"M\": (ad_conversion_dataset.gender == \"M\").sum(), \"F\": (ad_conversion_dataset.gender == \"F\").sum()},\n",
    "    missing_subgroup_val=\"Unknown\"\n",
    "))"
   ]
  },
  {
   "cell_type": "markdown",
   "id": "cd23bade-c1fe-45b6-b3ba-92bad14ff7b6",
   "metadata": {},
   "source": [
    "# Generalize to arbitrary number of subgroups\n",
    "\n"
   ]
  },
  {
   "cell_type": "code",
   "execution_count": 40,
   "id": "5e4f7d34-e056-4f9a-89ec-dc6c61103623",
   "metadata": {
    "tags": []
   },
   "outputs": [],
   "source": [
    "rules_by_if_no_unknown = {ifc: {sg: thens for sg, thens in sg_thens.items() if sg != \"Unknown\"} for ifc, sg_thens in rules_by_if.items()}"
   ]
  },
  {
   "cell_type": "code",
   "execution_count": 12,
   "id": "897fbfbd-1667-46e5-8015-fa43a1709905",
   "metadata": {
    "tags": []
   },
   "outputs": [],
   "source": [
    "comparators = lib2.naive_feature_change_builder(num_cols=num_features, cate_cols=cate_features, feature_weights=feature_weights)\n",
    "params = ParameterProxy(featureChanges=comparators)"
   ]
  },
  {
   "cell_type": "code",
   "execution_count": 42,
   "id": "401938ea-8579-4808-86a4-360994295330",
   "metadata": {
    "tags": []
   },
   "outputs": [
    {
     "name": "stdout",
     "output_type": "stream",
     "text": [
      "If \u001b[1mhomeowner = 1, income = Unknown, area = Urban, college_educated = 0, age = 55-64\u001b[0m:\n",
      "\tSubgroup '\u001b[1mF\u001b[0m', \u001b[0;34m1.2366%\u001b[0m covered out of 600135\n",
      "\t\tMake \u001b[1mhomeowner = 1, income = Unknown, area = Rural, college_educated = 0, age = 55-64\u001b[0m with correctness \u001b[0;32m95.0734%\u001b[0m.\n",
      "\t\tMake \u001b[1mhomeowner = 1, income = Unknown, area = Rural, college_educated = 1, age = Unknown\u001b[0m with correctness \u001b[0;32m0.0000%\u001b[0m.\n",
      "\tSubgroup '\u001b[1mM\u001b[0m', \u001b[0;34m1.1525%\u001b[0m covered out of 314181\n",
      "\t\tMake \u001b[1mhomeowner = 1, income = Unknown, area = Rural, college_educated = 0, age = 55-64\u001b[0m with correctness \u001b[0;32m94.8494%\u001b[0m.\n",
      "\t\tMake \u001b[1mhomeowner = 1, income = Unknown, area = Rural, college_educated = 1, age = Unknown\u001b[0m with correctness \u001b[0;32m94.8494%\u001b[0m.\n",
      "If \u001b[1marea = Unknown, homeowner = 1, college_educated = 1, age = Unknown\u001b[0m:\n",
      "\tSubgroup '\u001b[1mF\u001b[0m', \u001b[0;34m1.7603%\u001b[0m covered out of 600135\n",
      "\t\tMake \u001b[1marea = Rural, homeowner = 1, college_educated = 1, age = Unknown\u001b[0m with correctness \u001b[0;32m1.6972%\u001b[0m.\n",
      "\tSubgroup '\u001b[1mM\u001b[0m', \u001b[0;34m1.6811%\u001b[0m covered out of 314181\n",
      "\t\tMake \u001b[1marea = Rural, homeowner = 1, college_educated = 1, age = Unknown\u001b[0m with correctness \u001b[0;32m91.2725%\u001b[0m.\n",
      "If \u001b[1marea = Unknown, income = Unknown, college_educated = 1, age = Unknown\u001b[0m:\n",
      "\tSubgroup '\u001b[1mF\u001b[0m', \u001b[0;34m1.9735%\u001b[0m covered out of 600135\n",
      "\t\tMake \u001b[1marea = Rural, income = Unknown, college_educated = 1, age = Unknown\u001b[0m with correctness \u001b[0;32m13.6836%\u001b[0m.\n",
      "\tSubgroup '\u001b[1mM\u001b[0m', \u001b[0;34m1.9006%\u001b[0m covered out of 314181\n",
      "\t\tMake \u001b[1marea = Rural, income = Unknown, college_educated = 1, age = Unknown\u001b[0m with correctness \u001b[0;32m94.4019%\u001b[0m.\n",
      "If \u001b[1marea = Unknown, parents = 1, college_educated = 1, age = Unknown\u001b[0m:\n",
      "\tSubgroup '\u001b[1mF\u001b[0m', \u001b[0;34m1.9823%\u001b[0m covered out of 600135\n",
      "\t\tMake \u001b[1marea = Rural, parents = 1, college_educated = 1, age = Unknown\u001b[0m with correctness \u001b[0;32m15.9279%\u001b[0m.\n",
      "\tSubgroup '\u001b[1mM\u001b[0m', \u001b[0;34m1.9107%\u001b[0m covered out of 314181\n",
      "\t\tMake \u001b[1marea = Rural, parents = 1, college_educated = 1, age = Unknown\u001b[0m with correctness \u001b[0;32m95.9555%\u001b[0m.\n",
      "If \u001b[1marea = Unknown, college_educated = 1, age = Unknown\u001b[0m:\n",
      "\tSubgroup '\u001b[1mF\u001b[0m', \u001b[0;34m2.0983%\u001b[0m covered out of 600135\n",
      "\t\tMake \u001b[1marea = Rural, college_educated = 1, age = Unknown\u001b[0m with correctness \u001b[0;32m15.1591%\u001b[0m.\n",
      "\tSubgroup '\u001b[1mM\u001b[0m', \u001b[0;34m2.0249%\u001b[0m covered out of 314181\n",
      "\t\tMake \u001b[1marea = Rural, college_educated = 1, age = Unknown\u001b[0m with correctness \u001b[0;32m90.6527%\u001b[0m.\n",
      "If \u001b[1marea = Urban, parents = 1, age = 55-64\u001b[0m:\n",
      "\tSubgroup '\u001b[1mF\u001b[0m', \u001b[0;34m20.1088%\u001b[0m covered out of 600135\n",
      "\t\tMake \u001b[1marea = Rural, parents = 1, age = 55-64\u001b[0m with correctness \u001b[0;32m99.3300%\u001b[0m.\n",
      "\t\tMake \u001b[1marea = Rural, parents = 1, age = 25-34\u001b[0m with correctness \u001b[0;32m99.3300%\u001b[0m.\n",
      "\t\tMake \u001b[1marea = Rural, parents = 1, age = 45-54\u001b[0m with correctness \u001b[0;32m99.3300%\u001b[0m.\n",
      "\t\tMake \u001b[1marea = Rural, parents = 1, age = Unknown\u001b[0m with correctness \u001b[0;32m0.0350%\u001b[0m.\n",
      "\tSubgroup '\u001b[1mM\u001b[0m', \u001b[0;34m20.0880%\u001b[0m covered out of 314181\n",
      "\t\tMake \u001b[1marea = Rural, parents = 1, age = 55-64\u001b[0m with correctness \u001b[0;32m99.2473%\u001b[0m.\n",
      "\t\tMake \u001b[1marea = Rural, parents = 1, age = 25-34\u001b[0m with correctness \u001b[0;32m99.2473%\u001b[0m.\n",
      "\t\tMake \u001b[1marea = Rural, parents = 1, age = 45-54\u001b[0m with correctness \u001b[0;32m99.2473%\u001b[0m.\n",
      "\t\tMake \u001b[1marea = Rural, parents = 1, age = Unknown\u001b[0m with correctness \u001b[0;32m93.7221%\u001b[0m.\n",
      "If \u001b[1marea = Urban, age = 55-64\u001b[0m:\n",
      "\tSubgroup '\u001b[1mF\u001b[0m', \u001b[0;34m21.2564%\u001b[0m covered out of 600135\n",
      "\t\tMake \u001b[1marea = Rural, age = 55-64\u001b[0m with correctness \u001b[0;32m94.0475%\u001b[0m.\n",
      "\t\tMake \u001b[1marea = Rural, age = 45-54\u001b[0m with correctness \u001b[0;32m94.0475%\u001b[0m.\n",
      "\t\tMake \u001b[1marea = Rural, age = 25-34\u001b[0m with correctness \u001b[0;32m94.0475%\u001b[0m.\n",
      "\t\tMake \u001b[1marea = Rural, age = Unknown\u001b[0m with correctness \u001b[0;32m0.0413%\u001b[0m.\n",
      "\tSubgroup '\u001b[1mM\u001b[0m', \u001b[0;34m21.2539%\u001b[0m covered out of 314181\n",
      "\t\tMake \u001b[1marea = Rural, age = 55-64\u001b[0m with correctness \u001b[0;32m93.9137%\u001b[0m.\n",
      "\t\tMake \u001b[1marea = Rural, age = 45-54\u001b[0m with correctness \u001b[0;32m93.9137%\u001b[0m.\n",
      "\t\tMake \u001b[1marea = Rural, age = 25-34\u001b[0m with correctness \u001b[0;32m93.9137%\u001b[0m.\n",
      "\t\tMake \u001b[1marea = Rural, age = Unknown\u001b[0m with correctness \u001b[0;32m88.5809%\u001b[0m.\n",
      "If \u001b[1marea = Urban, income = Unknown, age = 55-64\u001b[0m:\n",
      "\tSubgroup '\u001b[1mF\u001b[0m', \u001b[0;34m21.0783%\u001b[0m covered out of 600135\n",
      "\t\tMake \u001b[1marea = Rural, income = Unknown, age = 55-64\u001b[0m with correctness \u001b[0;32m94.6836%\u001b[0m.\n",
      "\t\tMake \u001b[1marea = Urban, income = >100K, age = 55-64\u001b[0m with correctness \u001b[0;32m89.0559%\u001b[0m.\n",
      "\t\tMake \u001b[1marea = Rural, income = Unknown, age = 45-54\u001b[0m with correctness \u001b[0;32m94.6836%\u001b[0m.\n",
      "\t\tMake \u001b[1marea = Rural, income = Unknown, age = 25-34\u001b[0m with correctness \u001b[0;32m94.6836%\u001b[0m.\n",
      "\t\tMake \u001b[1marea = Rural, income = Unknown, age = Unknown\u001b[0m with correctness \u001b[0;32m0.0000%\u001b[0m.\n",
      "\tSubgroup '\u001b[1mM\u001b[0m', \u001b[0;34m21.0613%\u001b[0m covered out of 314181\n",
      "\t\tMake \u001b[1marea = Rural, income = Unknown, age = 55-64\u001b[0m with correctness \u001b[0;32m94.6185%\u001b[0m.\n",
      "\t\tMake \u001b[1marea = Urban, income = >100K, age = 55-64\u001b[0m with correctness \u001b[0;32m89.3645%\u001b[0m.\n",
      "\t\tMake \u001b[1marea = Rural, income = Unknown, age = 45-54\u001b[0m with correctness \u001b[0;32m94.6185%\u001b[0m.\n",
      "\t\tMake \u001b[1marea = Rural, income = Unknown, age = 25-34\u001b[0m with correctness \u001b[0;32m94.6185%\u001b[0m.\n",
      "\t\tMake \u001b[1marea = Rural, income = Unknown, age = Unknown\u001b[0m with correctness \u001b[0;32m89.3645%\u001b[0m.\n",
      "If \u001b[1marea = Urban, homeowner = 1, age = 55-64\u001b[0m:\n",
      "\tSubgroup '\u001b[1mF\u001b[0m', \u001b[0;34m21.2230%\u001b[0m covered out of 600135\n",
      "\t\tMake \u001b[1marea = Rural, homeowner = 1, age = 55-64\u001b[0m with correctness \u001b[0;32m94.0436%\u001b[0m.\n",
      "\t\tMake \u001b[1marea = Rural, homeowner = 0, age = 55-64\u001b[0m with correctness \u001b[0;32m99.9586%\u001b[0m.\n",
      "\t\tMake \u001b[1marea = Rural, homeowner = 1, age = 45-54\u001b[0m with correctness \u001b[0;32m94.0436%\u001b[0m.\n",
      "\t\tMake \u001b[1marea = Rural, homeowner = 1, age = 25-34\u001b[0m with correctness \u001b[0;32m94.0436%\u001b[0m.\n",
      "\t\tMake \u001b[1marea = Rural, homeowner = 1, age = Unknown\u001b[0m with correctness \u001b[0;32m0.0331%\u001b[0m.\n",
      "\tSubgroup '\u001b[1mM\u001b[0m', \u001b[0;34m21.2226%\u001b[0m covered out of 314181\n",
      "\t\tMake \u001b[1marea = Rural, homeowner = 1, age = 55-64\u001b[0m with correctness \u001b[0;32m93.9100%\u001b[0m.\n",
      "\t\tMake \u001b[1marea = Rural, homeowner = 0, age = 55-64\u001b[0m with correctness \u001b[0;32m99.9631%\u001b[0m.\n",
      "\t\tMake \u001b[1marea = Rural, homeowner = 1, age = 45-54\u001b[0m with correctness \u001b[0;32m93.9100%\u001b[0m.\n",
      "\t\tMake \u001b[1marea = Rural, homeowner = 1, age = 25-34\u001b[0m with correctness \u001b[0;32m93.9100%\u001b[0m.\n",
      "\t\tMake \u001b[1marea = Rural, homeowner = 1, age = Unknown\u001b[0m with correctness \u001b[0;32m88.7118%\u001b[0m.\n",
      "If \u001b[1mhomeowner = 1, income = Unknown, parents = 1, college_educated = 1, age = Unknown\u001b[0m:\n",
      "\tSubgroup '\u001b[1mF\u001b[0m', \u001b[0;34m2.2740%\u001b[0m covered out of 600135\n",
      "\t\tMake \u001b[1mhomeowner = 1, income = Unknown, parents = 1, college_educated = 0, age = 55-64\u001b[0m with correctness \u001b[0;32m5.8475%\u001b[0m.\n",
      "\tSubgroup '\u001b[1mM\u001b[0m', \u001b[0;34m2.1022%\u001b[0m covered out of 314181\n",
      "\t\tMake \u001b[1mhomeowner = 1, income = Unknown, parents = 1, college_educated = 0, age = 55-64\u001b[0m with correctness \u001b[0;32m0.0000%\u001b[0m.\n",
      "\n"
     ]
    }
   ],
   "source": [
    "rules_max_costdiff_sorted = lib2.sort_triples_by_max_costdiff(rules_by_if_no_unknown, params)\n",
    "\n",
    "print(recourse_report_reverse(\n",
    "    rules_max_costdiff_sorted[:K],\n",
    "    population_sizes = {\"M\": (ad_conversion_dataset.gender == \"M\").sum(), \"F\": (ad_conversion_dataset.gender == \"F\").sum()},\n",
    "    missing_subgroup_val=\"Unknown\"\n",
    "))"
   ]
  },
  {
   "cell_type": "markdown",
   "id": "d6fcb6dc-3ecc-499a-a1b8-cdeee8149b71",
   "metadata": {},
   "source": [
    "# Find fairness-oriented counterfactuals (the same as above) for all features as sensitive!"
   ]
  },
  {
   "cell_type": "code",
   "execution_count": 13,
   "id": "fd397e06-a85b-487d-94da-f70cfbff7ec3",
   "metadata": {
    "tags": []
   },
   "outputs": [
    {
     "name": "stdout",
     "output_type": "stream",
     "text": [
      "Starting with attribute gender as sensitive\n"
     ]
    },
    {
     "name": "stderr",
     "output_type": "stream",
     "text": [
      "  1%|█▏                                                                                | 8/548 [00:04<05:19,  1.69it/s]\n"
     ]
    },
    {
     "ename": "KeyboardInterrupt",
     "evalue": "",
     "output_type": "error",
     "traceback": [
      "\u001b[1;31m---------------------------------------------------------------------------\u001b[0m",
      "\u001b[1;31mKeyboardInterrupt\u001b[0m                         Traceback (most recent call last)",
      "Cell \u001b[1;32mIn[13], line 6\u001b[0m\n\u001b[0;32m      4\u001b[0m \u001b[38;5;28;01mfor\u001b[39;00m attr \u001b[38;5;129;01min\u001b[39;00m all_attributes:\n\u001b[0;32m      5\u001b[0m     \u001b[38;5;28mprint\u001b[39m(\u001b[38;5;124mf\u001b[39m\u001b[38;5;124m\"\u001b[39m\u001b[38;5;124mStarting with attribute \u001b[39m\u001b[38;5;132;01m{\u001b[39;00mattr\u001b[38;5;132;01m}\u001b[39;00m\u001b[38;5;124m as sensitive\u001b[39m\u001b[38;5;124m\"\u001b[39m)\n\u001b[1;32m----> 6\u001b[0m     rules[attr] \u001b[38;5;241m=\u001b[39m \u001b[43mvalid_ifthens_with_coverage_correctness\u001b[49m\u001b[43m(\u001b[49m\n\u001b[0;32m      7\u001b[0m \u001b[43m        \u001b[49m\u001b[43mX_test\u001b[49m\u001b[43m,\u001b[49m\n\u001b[0;32m      8\u001b[0m \u001b[43m        \u001b[49m\u001b[43mmodel\u001b[49m\u001b[43m,\u001b[49m\n\u001b[0;32m      9\u001b[0m \u001b[43m        \u001b[49m\u001b[43msensitive_attribute\u001b[49m\u001b[38;5;241;43m=\u001b[39;49m\u001b[43mattr\u001b[49m\n\u001b[0;32m     10\u001b[0m \u001b[43m    \u001b[49m\u001b[43m)\u001b[49m\n\u001b[0;32m     11\u001b[0m     prompt \u001b[38;5;241m=\u001b[39m \u001b[38;5;28minput\u001b[39m(\u001b[38;5;124m\"\u001b[39m\u001b[38;5;124mContinue? (y/n) [y] \u001b[39m\u001b[38;5;124m\"\u001b[39m)\n\u001b[0;32m     12\u001b[0m     \u001b[38;5;28;01mif\u001b[39;00m prompt\u001b[38;5;241m.\u001b[39mstartswith(\u001b[38;5;124m\"\u001b[39m\u001b[38;5;124mn\u001b[39m\u001b[38;5;124m\"\u001b[39m):\n",
      "File \u001b[1;32m~\\Documents\\Εργασία\\Counterfactuals\\ares\\lib2.py:131\u001b[0m, in \u001b[0;36mvalid_ifthens_with_coverage_correctness\u001b[1;34m(X, model, sensitive_attribute, freqitem_minsupp)\u001b[0m\n\u001b[0;32m    129\u001b[0m \u001b[38;5;28;01mfor\u001b[39;00m sg \u001b[38;5;129;01min\u001b[39;00m subgroups:\n\u001b[0;32m    130\u001b[0m     sd \u001b[38;5;241m=\u001b[39m Predicate\u001b[38;5;241m.\u001b[39mfrom_dict({sensitive_attribute: sg})\n\u001b[1;32m--> 131\u001b[0m     incorrect_recourses_for_sg \u001b[38;5;241m=\u001b[39m \u001b[43mincorrectRecoursesIfThen\u001b[49m\u001b[43m(\u001b[49m\u001b[43mh\u001b[49m\u001b[43m,\u001b[49m\u001b[43m \u001b[49m\u001b[43ms\u001b[49m\u001b[43m,\u001b[49m\u001b[43m \u001b[49m\u001b[43maffected_subgroups\u001b[49m\u001b[43m[\u001b[49m\u001b[43msg\u001b[49m\u001b[43m]\u001b[49m\u001b[38;5;241;43m.\u001b[39;49m\u001b[43massign\u001b[49m\u001b[43m(\u001b[49m\u001b[38;5;241;43m*\u001b[39;49m\u001b[38;5;241;43m*\u001b[39;49m\u001b[43m{\u001b[49m\u001b[43msensitive_attribute\u001b[49m\u001b[43m:\u001b[49m\u001b[43m \u001b[49m\u001b[43msg\u001b[49m\u001b[43m}\u001b[49m\u001b[43m)\u001b[49m\u001b[43m,\u001b[49m\u001b[43m \u001b[49m\u001b[43mmodel\u001b[49m\u001b[43m)\u001b[49m\n\u001b[0;32m    132\u001b[0m     covered_sg \u001b[38;5;241m=\u001b[39m ifsupps[sg] \u001b[38;5;241m*\u001b[39m affected_subgroups[sg]\u001b[38;5;241m.\u001b[39mshape[\u001b[38;5;241m0\u001b[39m]\n\u001b[0;32m    133\u001b[0m     inc_sg \u001b[38;5;241m=\u001b[39m incorrect_recourses_for_sg \u001b[38;5;241m/\u001b[39m covered_sg\n",
      "File \u001b[1;32m~\\Documents\\Εργασία\\Counterfactuals\\ares\\metrics.py:22\u001b[0m, in \u001b[0;36mincorrectRecoursesIfThen\u001b[1;34m(ifclause, thenclause, X_aff, model)\u001b[0m\n\u001b[0;32m     18\u001b[0m     \u001b[38;5;28;01mreturn\u001b[39;00m \u001b[38;5;241m0\u001b[39m\n\u001b[0;32m     20\u001b[0m X_aff_covered[thenclause\u001b[38;5;241m.\u001b[39mfeatures] \u001b[38;5;241m=\u001b[39m thenclause\u001b[38;5;241m.\u001b[39mvalues\n\u001b[1;32m---> 22\u001b[0m preds \u001b[38;5;241m=\u001b[39m \u001b[43mmodel\u001b[49m\u001b[38;5;241;43m.\u001b[39;49m\u001b[43mpredict\u001b[49m\u001b[43m(\u001b[49m\u001b[43mX_aff_covered\u001b[49m\u001b[43m)\u001b[49m\n\u001b[0;32m     23\u001b[0m \u001b[38;5;28;01mreturn\u001b[39;00m np\u001b[38;5;241m.\u001b[39mshape(preds)[\u001b[38;5;241m0\u001b[39m] \u001b[38;5;241m-\u001b[39m np\u001b[38;5;241m.\u001b[39msum(preds)\n",
      "File \u001b[1;32m~\\Documents\\Εργασία\\Counterfactuals\\ares\\models.py:83\u001b[0m, in \u001b[0;36mcustomLogisticRegression.predict\u001b[1;34m(self, X)\u001b[0m\n\u001b[0;32m     81\u001b[0m \u001b[38;5;28;01mdef\u001b[39;00m \u001b[38;5;21mpredict\u001b[39m(\u001b[38;5;28mself\u001b[39m, X: pd\u001b[38;5;241m.\u001b[39mDataFrame):\n\u001b[0;32m     82\u001b[0m     tabular_data \u001b[38;5;241m=\u001b[39m _instances_2tab(X, cate_columns\u001b[38;5;241m=\u001b[39m\u001b[38;5;28mself\u001b[39m\u001b[38;5;241m.\u001b[39mcate_columns)\n\u001b[1;32m---> 83\u001b[0m     x \u001b[38;5;241m=\u001b[39m \u001b[38;5;28;43mself\u001b[39;49m\u001b[38;5;241;43m.\u001b[39;49m\u001b[43mtransformer\u001b[49m\u001b[38;5;241;43m.\u001b[39;49m\u001b[43mtransform\u001b[49m\u001b[43m(\u001b[49m\u001b[43mtabular_data\u001b[49m\u001b[43m)\u001b[49m\n\u001b[0;32m     84\u001b[0m     \u001b[38;5;28;01mreturn\u001b[39;00m \u001b[38;5;28mself\u001b[39m\u001b[38;5;241m.\u001b[39mclf\u001b[38;5;241m.\u001b[39mpredict(x)\n",
      "File \u001b[1;32m~\\anaconda3\\envs\\aif360\\lib\\site-packages\\omnixai\\preprocessing\\tabular.py:107\u001b[0m, in \u001b[0;36mTabularTransform.transform\u001b[1;34m(self, x)\u001b[0m\n\u001b[0;32m    105\u001b[0m cate_df, cont_df, targ_df \u001b[38;5;241m=\u001b[39m \u001b[38;5;28mself\u001b[39m\u001b[38;5;241m.\u001b[39m_split(x)\n\u001b[0;32m    106\u001b[0m \u001b[38;5;28;01mif\u001b[39;00m cate_df \u001b[38;5;129;01mis\u001b[39;00m \u001b[38;5;129;01mnot\u001b[39;00m \u001b[38;5;28;01mNone\u001b[39;00m:\n\u001b[1;32m--> 107\u001b[0m     values\u001b[38;5;241m.\u001b[39mappend(\u001b[38;5;28;43mself\u001b[39;49m\u001b[38;5;241;43m.\u001b[39;49m\u001b[43mcate_transform\u001b[49m\u001b[38;5;241;43m.\u001b[39;49m\u001b[43mtransform\u001b[49m\u001b[43m(\u001b[49m\u001b[43mcate_df\u001b[49m\u001b[43m)\u001b[49m)\n\u001b[0;32m    108\u001b[0m \u001b[38;5;28;01mif\u001b[39;00m cont_df \u001b[38;5;129;01mis\u001b[39;00m \u001b[38;5;129;01mnot\u001b[39;00m \u001b[38;5;28;01mNone\u001b[39;00m:\n\u001b[0;32m    109\u001b[0m     values\u001b[38;5;241m.\u001b[39mappend(\u001b[38;5;28mself\u001b[39m\u001b[38;5;241m.\u001b[39mcont_transform\u001b[38;5;241m.\u001b[39mtransform(cont_df)\u001b[38;5;241m.\u001b[39mastype(\u001b[38;5;28mfloat\u001b[39m))\n",
      "File \u001b[1;32m~\\anaconda3\\envs\\aif360\\lib\\site-packages\\omnixai\\preprocessing\\encode.py:63\u001b[0m, in \u001b[0;36mOneHot.transform\u001b[1;34m(self, x)\u001b[0m\n\u001b[0;32m     61\u001b[0m \u001b[38;5;28;01mdef\u001b[39;00m \u001b[38;5;21mtransform\u001b[39m(\u001b[38;5;28mself\u001b[39m, x):\n\u001b[0;32m     62\u001b[0m     \u001b[38;5;28;01mif\u001b[39;00m \u001b[38;5;28misinstance\u001b[39m(x, pd\u001b[38;5;241m.\u001b[39mDataFrame):\n\u001b[1;32m---> 63\u001b[0m         x \u001b[38;5;241m=\u001b[39m \u001b[43mx\u001b[49m\u001b[38;5;241;43m.\u001b[39;49m\u001b[43mvalues\u001b[49m\n\u001b[0;32m     64\u001b[0m     \u001b[38;5;28;01mreturn\u001b[39;00m \u001b[38;5;28mself\u001b[39m\u001b[38;5;241m.\u001b[39mencoder\u001b[38;5;241m.\u001b[39mtransform(x)\u001b[38;5;241m.\u001b[39mtoarray()\n",
      "File \u001b[1;32m~\\anaconda3\\envs\\aif360\\lib\\site-packages\\pandas\\core\\frame.py:11739\u001b[0m, in \u001b[0;36mDataFrame.values\u001b[1;34m(self)\u001b[0m\n\u001b[0;32m  11666\u001b[0m \u001b[38;5;250m\u001b[39m\u001b[38;5;124;03m\"\"\"\u001b[39;00m\n\u001b[0;32m  11667\u001b[0m \u001b[38;5;124;03mReturn a Numpy representation of the DataFrame.\u001b[39;00m\n\u001b[0;32m  11668\u001b[0m \n\u001b[1;32m   (...)\u001b[0m\n\u001b[0;32m  11736\u001b[0m \u001b[38;5;124;03m       ['monkey', nan, None]], dtype=object)\u001b[39;00m\n\u001b[0;32m  11737\u001b[0m \u001b[38;5;124;03m\"\"\"\u001b[39;00m\n\u001b[0;32m  11738\u001b[0m \u001b[38;5;28mself\u001b[39m\u001b[38;5;241m.\u001b[39m_consolidate_inplace()\n\u001b[1;32m> 11739\u001b[0m \u001b[38;5;28;01mreturn\u001b[39;00m \u001b[38;5;28;43mself\u001b[39;49m\u001b[38;5;241;43m.\u001b[39;49m\u001b[43m_mgr\u001b[49m\u001b[38;5;241;43m.\u001b[39;49m\u001b[43mas_array\u001b[49m\u001b[43m(\u001b[49m\u001b[43m)\u001b[49m\n",
      "File \u001b[1;32m~\\anaconda3\\envs\\aif360\\lib\\site-packages\\pandas\\core\\internals\\managers.py:1770\u001b[0m, in \u001b[0;36mBlockManager.as_array\u001b[1;34m(self, dtype, copy, na_value)\u001b[0m\n\u001b[0;32m   1768\u001b[0m             arr \u001b[38;5;241m=\u001b[39m arr\u001b[38;5;241m.\u001b[39mastype(dtype, copy\u001b[38;5;241m=\u001b[39m\u001b[38;5;28;01mFalse\u001b[39;00m)\n\u001b[0;32m   1769\u001b[0m \u001b[38;5;28;01melse\u001b[39;00m:\n\u001b[1;32m-> 1770\u001b[0m     arr \u001b[38;5;241m=\u001b[39m \u001b[38;5;28;43mself\u001b[39;49m\u001b[38;5;241;43m.\u001b[39;49m\u001b[43m_interleave\u001b[49m\u001b[43m(\u001b[49m\u001b[43mdtype\u001b[49m\u001b[38;5;241;43m=\u001b[39;49m\u001b[43mdtype\u001b[49m\u001b[43m,\u001b[49m\u001b[43m \u001b[49m\u001b[43mna_value\u001b[49m\u001b[38;5;241;43m=\u001b[39;49m\u001b[43mna_value\u001b[49m\u001b[43m)\u001b[49m\n\u001b[0;32m   1771\u001b[0m     \u001b[38;5;66;03m# The underlying data was copied within _interleave\u001b[39;00m\n\u001b[0;32m   1772\u001b[0m     copy \u001b[38;5;241m=\u001b[39m \u001b[38;5;28;01mFalse\u001b[39;00m\n",
      "File \u001b[1;32m~\\anaconda3\\envs\\aif360\\lib\\site-packages\\pandas\\core\\internals\\managers.py:1809\u001b[0m, in \u001b[0;36mBlockManager._interleave\u001b[1;34m(self, dtype, na_value)\u001b[0m\n\u001b[0;32m   1806\u001b[0m \u001b[38;5;28;01melif\u001b[39;00m is_dtype_equal(dtype, \u001b[38;5;28mstr\u001b[39m):\n\u001b[0;32m   1807\u001b[0m     dtype \u001b[38;5;241m=\u001b[39m np\u001b[38;5;241m.\u001b[39mdtype(\u001b[38;5;124m\"\u001b[39m\u001b[38;5;124mobject\u001b[39m\u001b[38;5;124m\"\u001b[39m)\n\u001b[1;32m-> 1809\u001b[0m result \u001b[38;5;241m=\u001b[39m \u001b[43mnp\u001b[49m\u001b[38;5;241;43m.\u001b[39;49m\u001b[43mempty\u001b[49m\u001b[43m(\u001b[49m\u001b[38;5;28;43mself\u001b[39;49m\u001b[38;5;241;43m.\u001b[39;49m\u001b[43mshape\u001b[49m\u001b[43m,\u001b[49m\u001b[43m \u001b[49m\u001b[43mdtype\u001b[49m\u001b[38;5;241;43m=\u001b[39;49m\u001b[43mdtype\u001b[49m\u001b[43m)\u001b[49m\n\u001b[0;32m   1811\u001b[0m itemmask \u001b[38;5;241m=\u001b[39m np\u001b[38;5;241m.\u001b[39mzeros(\u001b[38;5;28mself\u001b[39m\u001b[38;5;241m.\u001b[39mshape[\u001b[38;5;241m0\u001b[39m])\n\u001b[0;32m   1813\u001b[0m \u001b[38;5;28;01mif\u001b[39;00m dtype \u001b[38;5;241m==\u001b[39m np\u001b[38;5;241m.\u001b[39mdtype(\u001b[38;5;124m\"\u001b[39m\u001b[38;5;124mobject\u001b[39m\u001b[38;5;124m\"\u001b[39m) \u001b[38;5;129;01mand\u001b[39;00m na_value \u001b[38;5;129;01mis\u001b[39;00m lib\u001b[38;5;241m.\u001b[39mno_default:\n\u001b[0;32m   1814\u001b[0m     \u001b[38;5;66;03m# much more performant than using to_numpy below\u001b[39;00m\n",
      "\u001b[1;31mKeyboardInterrupt\u001b[0m: "
     ]
    }
   ],
   "source": [
    "all_attributes = ['gender', 'parents', 'age', 'income', 'area', 'college_educated', 'homeowner']\n",
    "rules = {attr: [] for attr in all_attributes}\n",
    "\n",
    "for attr in all_attributes:\n",
    "    print(f\"Starting with attribute {attr} as sensitive\")\n",
    "    rules[attr] = valid_ifthens_with_coverage_correctness(\n",
    "        X_test,\n",
    "        model,\n",
    "        sensitive_attribute=attr\n",
    "    )\n",
    "    prompt = input(\"Continue? (y/n) [y] \")\n",
    "    if prompt.startswith(\"n\"):\n",
    "        break"
   ]
  },
  {
   "cell_type": "code",
   "execution_count": 45,
   "id": "0be14602-bcc9-4bc8-9377-0ca8e46332f2",
   "metadata": {},
   "outputs": [],
   "source": [
    "for attr in rules.keys():\n",
    "    rules[attr] = rules2rulesbyif(rules[attr])"
   ]
  },
  {
   "cell_type": "markdown",
   "id": "83e44786-09c4-41e3-a77f-bd096961e8b6",
   "metadata": {},
   "source": [
    "Uncomment the following block if you wish to load rules object from disk."
   ]
  },
  {
   "cell_type": "code",
   "execution_count": 14,
   "id": "2c87d5a9-33a5-446d-acb0-07ff11509f6b",
   "metadata": {
    "tags": []
   },
   "outputs": [],
   "source": [
    "# import dill\n",
    "\n",
    "# with open(\"rules_all_attributes.data\", \"rb\") as inf:\n",
    "#     rules = dill.load(inf)"
   ]
  },
  {
   "cell_type": "markdown",
   "id": "c91b5d18-b788-433a-8e0a-49767087bf02",
   "metadata": {},
   "source": [
    "Uncomment the following block if you wish to save rules object on disk."
   ]
  },
  {
   "cell_type": "code",
   "execution_count": 50,
   "id": "f7aa40ab-1a8d-4136-bec9-920c8ff1180b",
   "metadata": {},
   "outputs": [],
   "source": [
    "# import dill\n",
    "\n",
    "# with open(\"rules_all_attributes.data\", \"wb\") as outf:\n",
    "#     dill.dump(rules, outf)"
   ]
  },
  {
   "cell_type": "markdown",
   "id": "eb1c78c7-2323-40fa-b1c4-5273245bc0c2",
   "metadata": {},
   "source": [
    "# Filter rules by different scoring functions (again)\n",
    "\n",
    "For now, for the attribute \"age\""
   ]
  },
  {
   "cell_type": "markdown",
   "id": "3083f9ee-9126-4cd4-a84a-5816e32e1cb8",
   "metadata": {},
   "source": [
    "## For each if-group, inner product of then costs and correctness-es, divided by the number of terms"
   ]
  },
  {
   "cell_type": "code",
   "execution_count": 15,
   "id": "c89773ff-5f64-405e-8cda-6d1b6eff557c",
   "metadata": {
    "tags": []
   },
   "outputs": [
    {
     "name": "stdout",
     "output_type": "stream",
     "text": [
      "If \u001b[1mparents = 0, homeowner = 1, income = Unknown, area = Urban\u001b[0m:\n",
      "\tSubgroup '\u001b[1m18-24\u001b[0m', \u001b[0;34m1.3245%\u001b[0m covered out of 1456\n",
      "\t\tMake \u001b[1mparents = 1, homeowner = 0, income = >100K, area = Unknown\u001b[0m with correctness \u001b[0;32m0.0000%\u001b[0m.\n",
      "\tSubgroup '\u001b[1m25-34\u001b[0m', \u001b[0;34m1.2676%\u001b[0m covered out of 25849\n",
      "\t\tMake \u001b[1mparents = 1, homeowner = 0, income = >100K, area = Unknown\u001b[0m with correctness \u001b[0;32m92.3913%\u001b[0m.\n",
      "\tSubgroup '\u001b[1m45-54\u001b[0m', \u001b[0;34m1.2727%\u001b[0m covered out of 24711\n",
      "\t\tMake \u001b[1mparents = 1, homeowner = 0, income = >100K, area = Unknown\u001b[0m with correctness \u001b[0;32m100.0000%\u001b[0m.\n",
      "\tSubgroup '\u001b[1m55-64\u001b[0m', \u001b[0;34m1.1842%\u001b[0m covered out of 1350500\n",
      "\t\tMake \u001b[1mparents = 1, homeowner = 0, income = >100K, area = Unknown\u001b[0m with correctness \u001b[0;32m100.0000%\u001b[0m.\n",
      "\tSubgroup '\u001b[1mUnknown\u001b[0m', \u001b[0;34m1.3009%\u001b[0m covered out of 40624\n",
      "\t\tMake \u001b[1mparents = 1, homeowner = 0, income = >100K, area = Unknown\u001b[0m with correctness \u001b[0;32m0.0000%\u001b[0m.\n",
      "If \u001b[1mhomeowner = 1, income = Unknown, parents = 0, gender = F, college_educated = 1, area = Unknown\u001b[0m:\n",
      "\tSubgroup '\u001b[1m18-24\u001b[0m', \u001b[0;34m1.5453%\u001b[0m covered out of 1456\n",
      "\t\tMake \u001b[1mhomeowner = 0, income = >100K, parents = 1, gender = F, college_educated = 1, area = Unknown\u001b[0m with correctness \u001b[0;32m0.0000%\u001b[0m.\n",
      "\t\tMake \u001b[1mhomeowner = 0, income = >100K, parents = 1, gender = M, college_educated = 1, area = Unknown\u001b[0m with correctness \u001b[0;32m0.0000%\u001b[0m.\n",
      "\tSubgroup '\u001b[1m25-34\u001b[0m', \u001b[0;34m1.2676%\u001b[0m covered out of 25849\n",
      "\t\tMake \u001b[1mhomeowner = 0, income = >100K, parents = 1, gender = F, college_educated = 1, area = Unknown\u001b[0m with correctness \u001b[0;32m100.0000%\u001b[0m.\n",
      "\t\tMake \u001b[1mhomeowner = 0, income = >100K, parents = 1, gender = M, college_educated = 1, area = Unknown\u001b[0m with correctness \u001b[0;32m100.0000%\u001b[0m.\n",
      "\tSubgroup '\u001b[1m45-54\u001b[0m', \u001b[0;34m1.1703%\u001b[0m covered out of 24711\n",
      "\t\tMake \u001b[1mhomeowner = 0, income = >100K, parents = 1, gender = F, college_educated = 1, area = Unknown\u001b[0m with correctness \u001b[0;32m100.0000%\u001b[0m.\n",
      "\t\tMake \u001b[1mhomeowner = 0, income = >100K, parents = 1, gender = M, college_educated = 1, area = Unknown\u001b[0m with correctness \u001b[0;32m100.0000%\u001b[0m.\n",
      "\tSubgroup '\u001b[1m55-64\u001b[0m', \u001b[0;34m1.3206%\u001b[0m covered out of 1350500\n",
      "\t\tMake \u001b[1mhomeowner = 0, income = >100K, parents = 1, gender = F, college_educated = 1, area = Unknown\u001b[0m with correctness \u001b[0;32m100.0000%\u001b[0m.\n",
      "\t\tMake \u001b[1mhomeowner = 0, income = >100K, parents = 1, gender = M, college_educated = 1, area = Unknown\u001b[0m with correctness \u001b[0;32m100.0000%\u001b[0m.\n",
      "\tSubgroup '\u001b[1mUnknown\u001b[0m', \u001b[0;34m1.3177%\u001b[0m covered out of 40624\n",
      "\t\tMake \u001b[1mhomeowner = 0, income = >100K, parents = 1, gender = F, college_educated = 1, area = Unknown\u001b[0m with correctness \u001b[0;32m0.0000%\u001b[0m.\n",
      "\t\tMake \u001b[1mhomeowner = 0, income = >100K, parents = 1, gender = M, college_educated = 1, area = Unknown\u001b[0m with correctness \u001b[0;32m0.0000%\u001b[0m.\n",
      "If \u001b[1mhomeowner = 1, income = Unknown, parents = 0, gender = F, area = Unknown\u001b[0m:\n",
      "\tSubgroup '\u001b[1m18-24\u001b[0m', \u001b[0;34m1.5453%\u001b[0m covered out of 1456\n",
      "\t\tMake \u001b[1mhomeowner = 0, income = >100K, parents = 1, gender = F, area = Unknown\u001b[0m with correctness \u001b[0;32m0.0000%\u001b[0m.\n",
      "\t\tMake \u001b[1mhomeowner = 0, income = >100K, parents = 1, gender = Unknown, area = Unknown\u001b[0m with correctness \u001b[0;32m0.0000%\u001b[0m.\n",
      "\t\tMake \u001b[1mhomeowner = 0, income = >100K, parents = 1, gender = M, area = Unknown\u001b[0m with correctness \u001b[0;32m0.0000%\u001b[0m.\n",
      "\t\tMake \u001b[1mhomeowner = 0, income = Unknown, parents = 1, gender = Unknown, area = Unknown\u001b[0m with correctness \u001b[0;32m0.0000%\u001b[0m.\n",
      "\tSubgroup '\u001b[1m25-34\u001b[0m', \u001b[0;34m1.4191%\u001b[0m covered out of 25849\n",
      "\t\tMake \u001b[1mhomeowner = 0, income = >100K, parents = 1, gender = F, area = Unknown\u001b[0m with correctness \u001b[0;32m89.3204%\u001b[0m.\n",
      "\t\tMake \u001b[1mhomeowner = 0, income = >100K, parents = 1, gender = Unknown, area = Unknown\u001b[0m with correctness \u001b[0;32m100.0000%\u001b[0m.\n",
      "\t\tMake \u001b[1mhomeowner = 0, income = >100K, parents = 1, gender = M, area = Unknown\u001b[0m with correctness \u001b[0;32m89.3204%\u001b[0m.\n",
      "\t\tMake \u001b[1mhomeowner = 0, income = Unknown, parents = 1, gender = Unknown, area = Unknown\u001b[0m with correctness \u001b[0;32m0.0000%\u001b[0m.\n",
      "\tSubgroup '\u001b[1m45-54\u001b[0m', \u001b[0;34m1.2580%\u001b[0m covered out of 24711\n",
      "\t\tMake \u001b[1mhomeowner = 0, income = >100K, parents = 1, gender = F, area = Unknown\u001b[0m with correctness \u001b[0;32m100.0000%\u001b[0m.\n",
      "\t\tMake \u001b[1mhomeowner = 0, income = >100K, parents = 1, gender = Unknown, area = Unknown\u001b[0m with correctness \u001b[0;32m100.0000%\u001b[0m.\n",
      "\t\tMake \u001b[1mhomeowner = 0, income = >100K, parents = 1, gender = M, area = Unknown\u001b[0m with correctness \u001b[0;32m100.0000%\u001b[0m.\n",
      "\t\tMake \u001b[1mhomeowner = 0, income = Unknown, parents = 1, gender = Unknown, area = Unknown\u001b[0m with correctness \u001b[0;32m93.0233%\u001b[0m.\n",
      "\tSubgroup '\u001b[1m55-64\u001b[0m', \u001b[0;34m1.3962%\u001b[0m covered out of 1350500\n",
      "\t\tMake \u001b[1mhomeowner = 0, income = >100K, parents = 1, gender = F, area = Unknown\u001b[0m with correctness \u001b[0;32m100.0000%\u001b[0m.\n",
      "\t\tMake \u001b[1mhomeowner = 0, income = >100K, parents = 1, gender = Unknown, area = Unknown\u001b[0m with correctness \u001b[0;32m100.0000%\u001b[0m.\n",
      "\t\tMake \u001b[1mhomeowner = 0, income = >100K, parents = 1, gender = M, area = Unknown\u001b[0m with correctness \u001b[0;32m100.0000%\u001b[0m.\n",
      "\t\tMake \u001b[1mhomeowner = 0, income = Unknown, parents = 1, gender = Unknown, area = Unknown\u001b[0m with correctness \u001b[0;32m0.0000%\u001b[0m.\n",
      "\tSubgroup '\u001b[1mUnknown\u001b[0m', \u001b[0;34m1.4436%\u001b[0m covered out of 40624\n",
      "\t\tMake \u001b[1mhomeowner = 0, income = >100K, parents = 1, gender = F, area = Unknown\u001b[0m with correctness \u001b[0;32m0.0000%\u001b[0m.\n",
      "\t\tMake \u001b[1mhomeowner = 0, income = >100K, parents = 1, gender = Unknown, area = Unknown\u001b[0m with correctness \u001b[0;32m0.0000%\u001b[0m.\n",
      "\t\tMake \u001b[1mhomeowner = 0, income = >100K, parents = 1, gender = M, area = Unknown\u001b[0m with correctness \u001b[0;32m0.0000%\u001b[0m.\n",
      "\t\tMake \u001b[1mhomeowner = 0, income = Unknown, parents = 1, gender = Unknown, area = Unknown\u001b[0m with correctness \u001b[0;32m0.0000%\u001b[0m.\n",
      "If \u001b[1mgender = M, homeowner = 1, income = Unknown, area = Urban\u001b[0m:\n",
      "\tSubgroup '\u001b[1m18-24\u001b[0m', \u001b[0;34m2.4283%\u001b[0m covered out of 1456\n",
      "\t\tMake \u001b[1mgender = F, homeowner = 0, income = >100K, area = Unknown\u001b[0m with correctness \u001b[0;32m0.0000%\u001b[0m.\n",
      "\t\tMake \u001b[1mgender = M, homeowner = 0, income = >100K, area = Unknown\u001b[0m with correctness \u001b[0;32m0.0000%\u001b[0m.\n",
      "\tSubgroup '\u001b[1m25-34\u001b[0m', \u001b[0;34m4.9600%\u001b[0m covered out of 25849\n",
      "\t\tMake \u001b[1mgender = F, homeowner = 0, income = >100K, area = Unknown\u001b[0m with correctness \u001b[0;32m87.5000%\u001b[0m.\n",
      "\t\tMake \u001b[1mgender = M, homeowner = 0, income = >100K, area = Unknown\u001b[0m with correctness \u001b[0;32m87.5000%\u001b[0m.\n",
      "\tSubgroup '\u001b[1m45-54\u001b[0m', \u001b[0;34m5.3833%\u001b[0m covered out of 24711\n",
      "\t\tMake \u001b[1mgender = F, homeowner = 0, income = >100K, area = Unknown\u001b[0m with correctness \u001b[0;32m94.5652%\u001b[0m.\n",
      "\t\tMake \u001b[1mgender = M, homeowner = 0, income = >100K, area = Unknown\u001b[0m with correctness \u001b[0;32m94.5652%\u001b[0m.\n",
      "\tSubgroup '\u001b[1m55-64\u001b[0m', \u001b[0;34m4.9010%\u001b[0m covered out of 1350500\n",
      "\t\tMake \u001b[1mgender = F, homeowner = 0, income = >100K, area = Unknown\u001b[0m with correctness \u001b[0;32m94.6150%\u001b[0m.\n",
      "\t\tMake \u001b[1mgender = M, homeowner = 0, income = >100K, area = Unknown\u001b[0m with correctness \u001b[0;32m94.6150%\u001b[0m.\n",
      "\tSubgroup '\u001b[1mUnknown\u001b[0m', \u001b[0;34m4.8678%\u001b[0m covered out of 40624\n",
      "\t\tMake \u001b[1mgender = F, homeowner = 0, income = >100K, area = Unknown\u001b[0m with correctness \u001b[0;32m0.0000%\u001b[0m.\n",
      "\t\tMake \u001b[1mgender = M, homeowner = 0, income = >100K, area = Unknown\u001b[0m with correctness \u001b[0;32m0.0000%\u001b[0m.\n",
      "If \u001b[1mparents = 0, homeowner = 1, income = Unknown, area = Unknown\u001b[0m:\n",
      "\tSubgroup '\u001b[1m18-24\u001b[0m', \u001b[0;34m2.8698%\u001b[0m covered out of 1456\n",
      "\t\tMake \u001b[1mparents = 1, homeowner = 0, income = >100K, area = Unknown\u001b[0m with correctness \u001b[0;32m0.0000%\u001b[0m.\n",
      "\tSubgroup '\u001b[1m25-34\u001b[0m', \u001b[0;34m3.3894%\u001b[0m covered out of 25849\n",
      "\t\tMake \u001b[1mparents = 1, homeowner = 0, income = >100K, area = Unknown\u001b[0m with correctness \u001b[0;32m94.3089%\u001b[0m.\n",
      "\tSubgroup '\u001b[1m45-54\u001b[0m', \u001b[0;34m3.3645%\u001b[0m covered out of 24711\n",
      "\t\tMake \u001b[1mparents = 1, homeowner = 0, income = >100K, area = Unknown\u001b[0m with correctness \u001b[0;32m100.0000%\u001b[0m.\n",
      "\tSubgroup '\u001b[1m55-64\u001b[0m', \u001b[0;34m3.3553%\u001b[0m covered out of 1350500\n",
      "\t\tMake \u001b[1mparents = 1, homeowner = 0, income = >100K, area = Unknown\u001b[0m with correctness \u001b[0;32m100.0000%\u001b[0m.\n",
      "\tSubgroup '\u001b[1mUnknown\u001b[0m', \u001b[0;34m3.1893%\u001b[0m covered out of 40624\n",
      "\t\tMake \u001b[1mparents = 1, homeowner = 0, income = >100K, area = Unknown\u001b[0m with correctness \u001b[0;32m0.0000%\u001b[0m.\n",
      "If \u001b[1mparents = 0, homeowner = 1, income = Unknown, gender = Unknown\u001b[0m:\n",
      "\tSubgroup '\u001b[1m18-24\u001b[0m', \u001b[0;34m1.1038%\u001b[0m covered out of 1456\n",
      "\t\tMake \u001b[1mparents = 1, homeowner = 0, income = >100K, gender = Unknown\u001b[0m with correctness \u001b[0;32m0.0000%\u001b[0m.\n",
      "\tSubgroup '\u001b[1m25-34\u001b[0m', \u001b[0;34m1.5156%\u001b[0m covered out of 25849\n",
      "\t\tMake \u001b[1mparents = 1, homeowner = 0, income = >100K, gender = Unknown\u001b[0m with correctness \u001b[0;32m100.0000%\u001b[0m.\n",
      "\tSubgroup '\u001b[1m45-54\u001b[0m', \u001b[0;34m1.7115%\u001b[0m covered out of 24711\n",
      "\t\tMake \u001b[1mparents = 1, homeowner = 0, income = >100K, gender = Unknown\u001b[0m with correctness \u001b[0;32m100.0000%\u001b[0m.\n",
      "\tSubgroup '\u001b[1m55-64\u001b[0m', \u001b[0;34m1.7394%\u001b[0m covered out of 1350500\n",
      "\t\tMake \u001b[1mparents = 1, homeowner = 0, income = >100K, gender = Unknown\u001b[0m with correctness \u001b[0;32m100.0000%\u001b[0m.\n",
      "\tSubgroup '\u001b[1mUnknown\u001b[0m', \u001b[0;34m1.5023%\u001b[0m covered out of 40624\n",
      "\t\tMake \u001b[1mparents = 1, homeowner = 0, income = >100K, gender = Unknown\u001b[0m with correctness \u001b[0;32m32.9609%\u001b[0m.\n",
      "If \u001b[1mhomeowner = 1, income = Unknown, area = Urban\u001b[0m:\n",
      "\tSubgroup '\u001b[1m18-24\u001b[0m', \u001b[0;34m19.8675%\u001b[0m covered out of 1456\n",
      "\t\tMake \u001b[1mhomeowner = 0, income = >100K, area = Unknown\u001b[0m with correctness \u001b[0;32m0.0000%\u001b[0m.\n",
      "\tSubgroup '\u001b[1m25-34\u001b[0m', \u001b[0;34m22.1824%\u001b[0m covered out of 25849\n",
      "\t\tMake \u001b[1mhomeowner = 0, income = >100K, area = Unknown\u001b[0m with correctness \u001b[0;32m91.7391%\u001b[0m.\n",
      "\tSubgroup '\u001b[1m45-54\u001b[0m', \u001b[0;34m23.7712%\u001b[0m covered out of 24711\n",
      "\t\tMake \u001b[1mhomeowner = 0, income = >100K, area = Unknown\u001b[0m with correctness \u001b[0;32m94.6462%\u001b[0m.\n",
      "\tSubgroup '\u001b[1m55-64\u001b[0m', \u001b[0;34m22.4506%\u001b[0m covered out of 1350500\n",
      "\t\tMake \u001b[1mhomeowner = 0, income = >100K, area = Unknown\u001b[0m with correctness \u001b[0;32m94.7252%\u001b[0m.\n",
      "\tSubgroup '\u001b[1mUnknown\u001b[0m', \u001b[0;34m21.8044%\u001b[0m covered out of 40624\n",
      "\t\tMake \u001b[1mhomeowner = 0, income = >100K, area = Unknown\u001b[0m with correctness \u001b[0;32m0.0000%\u001b[0m.\n",
      "If \u001b[1mhomeowner = 1, income = Unknown, parents = 1, gender = F, college_educated = 1, area = Unknown\u001b[0m:\n",
      "\tSubgroup '\u001b[1m18-24\u001b[0m', \u001b[0;34m22.2958%\u001b[0m covered out of 1456\n",
      "\t\tMake \u001b[1mhomeowner = 0, income = >100K, parents = 1, gender = F, college_educated = 1, area = Unknown\u001b[0m with correctness \u001b[0;32m0.0000%\u001b[0m.\n",
      "\t\tMake \u001b[1mhomeowner = 0, income = >100K, parents = 1, gender = M, college_educated = 1, area = Unknown\u001b[0m with correctness \u001b[0;32m0.0000%\u001b[0m.\n",
      "\tSubgroup '\u001b[1m25-34\u001b[0m', \u001b[0;34m23.6153%\u001b[0m covered out of 25849\n",
      "\t\tMake \u001b[1mhomeowner = 0, income = >100K, parents = 1, gender = F, college_educated = 1, area = Unknown\u001b[0m with correctness \u001b[0;32m100.0000%\u001b[0m.\n",
      "\t\tMake \u001b[1mhomeowner = 0, income = >100K, parents = 1, gender = M, college_educated = 1, area = Unknown\u001b[0m with correctness \u001b[0;32m100.0000%\u001b[0m.\n",
      "\tSubgroup '\u001b[1m45-54\u001b[0m', \u001b[0;34m23.5518%\u001b[0m covered out of 24711\n",
      "\t\tMake \u001b[1mhomeowner = 0, income = >100K, parents = 1, gender = F, college_educated = 1, area = Unknown\u001b[0m with correctness \u001b[0;32m100.0000%\u001b[0m.\n",
      "\t\tMake \u001b[1mhomeowner = 0, income = >100K, parents = 1, gender = M, college_educated = 1, area = Unknown\u001b[0m with correctness \u001b[0;32m100.0000%\u001b[0m.\n",
      "\tSubgroup '\u001b[1m55-64\u001b[0m', \u001b[0;34m23.3617%\u001b[0m covered out of 1350500\n",
      "\t\tMake \u001b[1mhomeowner = 0, income = >100K, parents = 1, gender = F, college_educated = 1, area = Unknown\u001b[0m with correctness \u001b[0;32m100.0000%\u001b[0m.\n",
      "\t\tMake \u001b[1mhomeowner = 0, income = >100K, parents = 1, gender = M, college_educated = 1, area = Unknown\u001b[0m with correctness \u001b[0;32m100.0000%\u001b[0m.\n",
      "\tSubgroup '\u001b[1mUnknown\u001b[0m', \u001b[0;34m22.8787%\u001b[0m covered out of 40624\n",
      "\t\tMake \u001b[1mhomeowner = 0, income = >100K, parents = 1, gender = F, college_educated = 1, area = Unknown\u001b[0m with correctness \u001b[0;32m0.0000%\u001b[0m.\n",
      "\t\tMake \u001b[1mhomeowner = 0, income = >100K, parents = 1, gender = M, college_educated = 1, area = Unknown\u001b[0m with correctness \u001b[0;32m0.0000%\u001b[0m.\n",
      "If \u001b[1mhomeowner = 1, income = Unknown, parents = 1, gender = M, college_educated = 1, area = Unknown\u001b[0m:\n",
      "\tSubgroup '\u001b[1m18-24\u001b[0m', \u001b[0;34m11.6998%\u001b[0m covered out of 1456\n",
      "\t\tMake \u001b[1mhomeowner = 0, income = >100K, parents = 1, gender = F, college_educated = 1, area = Unknown\u001b[0m with correctness \u001b[0;32m0.0000%\u001b[0m.\n",
      "\t\tMake \u001b[1mhomeowner = 0, income = >100K, parents = 1, gender = M, college_educated = 1, area = Unknown\u001b[0m with correctness \u001b[0;32m0.0000%\u001b[0m.\n",
      "\tSubgroup '\u001b[1m25-34\u001b[0m', \u001b[0;34m11.9592%\u001b[0m covered out of 25849\n",
      "\t\tMake \u001b[1mhomeowner = 0, income = >100K, parents = 1, gender = F, college_educated = 1, area = Unknown\u001b[0m with correctness \u001b[0;32m100.0000%\u001b[0m.\n",
      "\t\tMake \u001b[1mhomeowner = 0, income = >100K, parents = 1, gender = M, college_educated = 1, area = Unknown\u001b[0m with correctness \u001b[0;32m100.0000%\u001b[0m.\n",
      "\tSubgroup '\u001b[1m45-54\u001b[0m', \u001b[0;34m12.6536%\u001b[0m covered out of 24711\n",
      "\t\tMake \u001b[1mhomeowner = 0, income = >100K, parents = 1, gender = F, college_educated = 1, area = Unknown\u001b[0m with correctness \u001b[0;32m100.0000%\u001b[0m.\n",
      "\t\tMake \u001b[1mhomeowner = 0, income = >100K, parents = 1, gender = M, college_educated = 1, area = Unknown\u001b[0m with correctness \u001b[0;32m100.0000%\u001b[0m.\n",
      "\tSubgroup '\u001b[1m55-64\u001b[0m', \u001b[0;34m12.2502%\u001b[0m covered out of 1350500\n",
      "\t\tMake \u001b[1mhomeowner = 0, income = >100K, parents = 1, gender = F, college_educated = 1, area = Unknown\u001b[0m with correctness \u001b[0;32m100.0000%\u001b[0m.\n",
      "\t\tMake \u001b[1mhomeowner = 0, income = >100K, parents = 1, gender = M, college_educated = 1, area = Unknown\u001b[0m with correctness \u001b[0;32m100.0000%\u001b[0m.\n",
      "\tSubgroup '\u001b[1mUnknown\u001b[0m', \u001b[0;34m11.3554%\u001b[0m covered out of 40624\n",
      "\t\tMake \u001b[1mhomeowner = 0, income = >100K, parents = 1, gender = F, college_educated = 1, area = Unknown\u001b[0m with correctness \u001b[0;32m0.0000%\u001b[0m.\n",
      "\t\tMake \u001b[1mhomeowner = 0, income = >100K, parents = 1, gender = M, college_educated = 1, area = Unknown\u001b[0m with correctness \u001b[0;32m0.0000%\u001b[0m.\n",
      "If \u001b[1mhomeowner = 1, income = Unknown, parents = 1, gender = F, area = Unknown\u001b[0m:\n",
      "\tSubgroup '\u001b[1m18-24\u001b[0m', \u001b[0;34m22.9581%\u001b[0m covered out of 1456\n",
      "\t\tMake \u001b[1mhomeowner = 0, income = >100K, parents = 1, gender = F, area = Unknown\u001b[0m with correctness \u001b[0;32m0.0000%\u001b[0m.\n",
      "\t\tMake \u001b[1mhomeowner = 0, income = >100K, parents = 1, gender = Unknown, area = Unknown\u001b[0m with correctness \u001b[0;32m0.0000%\u001b[0m.\n",
      "\t\tMake \u001b[1mhomeowner = 0, income = >100K, parents = 1, gender = M, area = Unknown\u001b[0m with correctness \u001b[0;32m0.0000%\u001b[0m.\n",
      "\t\tMake \u001b[1mhomeowner = 0, income = Unknown, parents = 1, gender = Unknown, area = Unknown\u001b[0m with correctness \u001b[0;32m0.0000%\u001b[0m.\n",
      "\tSubgroup '\u001b[1m25-34\u001b[0m', \u001b[0;34m25.1171%\u001b[0m covered out of 25849\n",
      "\t\tMake \u001b[1mhomeowner = 0, income = >100K, parents = 1, gender = F, area = Unknown\u001b[0m with correctness \u001b[0;32m94.0208%\u001b[0m.\n",
      "\t\tMake \u001b[1mhomeowner = 0, income = >100K, parents = 1, gender = Unknown, area = Unknown\u001b[0m with correctness \u001b[0;32m100.0000%\u001b[0m.\n",
      "\t\tMake \u001b[1mhomeowner = 0, income = >100K, parents = 1, gender = M, area = Unknown\u001b[0m with correctness \u001b[0;32m94.0208%\u001b[0m.\n",
      "\t\tMake \u001b[1mhomeowner = 0, income = Unknown, parents = 1, gender = Unknown, area = Unknown\u001b[0m with correctness \u001b[0;32m0.0000%\u001b[0m.\n",
      "\tSubgroup '\u001b[1m45-54\u001b[0m', \u001b[0;34m24.9415%\u001b[0m covered out of 24711\n",
      "\t\tMake \u001b[1mhomeowner = 0, income = >100K, parents = 1, gender = F, area = Unknown\u001b[0m with correctness \u001b[0;32m100.0000%\u001b[0m.\n",
      "\t\tMake \u001b[1mhomeowner = 0, income = >100K, parents = 1, gender = Unknown, area = Unknown\u001b[0m with correctness \u001b[0;32m100.0000%\u001b[0m.\n",
      "\t\tMake \u001b[1mhomeowner = 0, income = >100K, parents = 1, gender = M, area = Unknown\u001b[0m with correctness \u001b[0;32m100.0000%\u001b[0m.\n",
      "\t\tMake \u001b[1mhomeowner = 0, income = Unknown, parents = 1, gender = Unknown, area = Unknown\u001b[0m with correctness \u001b[0;32m94.4282%\u001b[0m.\n",
      "\tSubgroup '\u001b[1m55-64\u001b[0m', \u001b[0;34m24.7476%\u001b[0m covered out of 1350500\n",
      "\t\tMake \u001b[1mhomeowner = 0, income = >100K, parents = 1, gender = F, area = Unknown\u001b[0m with correctness \u001b[0;32m100.0000%\u001b[0m.\n",
      "\t\tMake \u001b[1mhomeowner = 0, income = >100K, parents = 1, gender = Unknown, area = Unknown\u001b[0m with correctness \u001b[0;32m100.0000%\u001b[0m.\n",
      "\t\tMake \u001b[1mhomeowner = 0, income = >100K, parents = 1, gender = M, area = Unknown\u001b[0m with correctness \u001b[0;32m100.0000%\u001b[0m.\n",
      "\t\tMake \u001b[1mhomeowner = 0, income = Unknown, parents = 1, gender = Unknown, area = Unknown\u001b[0m with correctness \u001b[0;32m0.0000%\u001b[0m.\n",
      "\tSubgroup '\u001b[1mUnknown\u001b[0m', \u001b[0;34m24.3810%\u001b[0m covered out of 40624\n",
      "\t\tMake \u001b[1mhomeowner = 0, income = >100K, parents = 1, gender = F, area = Unknown\u001b[0m with correctness \u001b[0;32m0.0000%\u001b[0m.\n",
      "\t\tMake \u001b[1mhomeowner = 0, income = >100K, parents = 1, gender = Unknown, area = Unknown\u001b[0m with correctness \u001b[0;32m0.0000%\u001b[0m.\n",
      "\t\tMake \u001b[1mhomeowner = 0, income = >100K, parents = 1, gender = M, area = Unknown\u001b[0m with correctness \u001b[0;32m0.0000%\u001b[0m.\n",
      "\t\tMake \u001b[1mhomeowner = 0, income = Unknown, parents = 1, gender = Unknown, area = Unknown\u001b[0m with correctness \u001b[0;32m0.0000%\u001b[0m.\n",
      "\n"
     ]
    }
   ],
   "source": [
    "K = 10\n",
    "\n",
    "rules_max_costdiff_sorted_age = lib2.sort_triples_by_max_costdiff(rules[\"age\"], params=params)\n",
    "\n",
    "pop_sizes = {sg: (ad_conversion_dataset[\"age\"] == sg).sum() for sg in ad_conversion_dataset[\"age\"].unique()}\n",
    "print(recourse_report_reverse(\n",
    "    rules_max_costdiff_sorted_age[:K],\n",
    "    population_sizes = pop_sizes\n",
    "))"
   ]
  },
  {
   "cell_type": "markdown",
   "id": "71687cd1-3535-4f32-9a4e-fbb7292e6e9d",
   "metadata": {},
   "source": [
    "## For each if-group, weighted average of then costs with correctness as weights"
   ]
  },
  {
   "cell_type": "code",
   "execution_count": 16,
   "id": "68be1919-cdd3-4f26-a62c-ed098f6334ae",
   "metadata": {
    "tags": []
   },
   "outputs": [
    {
     "ename": "ZeroDivisionError",
     "evalue": "Weights sum to zero, can't be normalized",
     "output_type": "error",
     "traceback": [
      "\u001b[1;31m---------------------------------------------------------------------------\u001b[0m",
      "\u001b[1;31mZeroDivisionError\u001b[0m                         Traceback (most recent call last)",
      "Cell \u001b[1;32mIn[16], line 1\u001b[0m\n\u001b[1;32m----> 1\u001b[0m rules_max_costdiff_sorted_age \u001b[38;5;241m=\u001b[39m \u001b[43mlib2\u001b[49m\u001b[38;5;241;43m.\u001b[39;49m\u001b[43msort_triples_by_max_costdiff\u001b[49m\u001b[43m(\u001b[49m\n\u001b[0;32m      2\u001b[0m \u001b[43m    \u001b[49m\u001b[43mrules\u001b[49m\u001b[43m[\u001b[49m\u001b[38;5;124;43m\"\u001b[39;49m\u001b[38;5;124;43mage\u001b[39;49m\u001b[38;5;124;43m\"\u001b[39;49m\u001b[43m]\u001b[49m\u001b[43m,\u001b[49m\n\u001b[0;32m      3\u001b[0m \u001b[43m    \u001b[49m\u001b[43mparams\u001b[49m\u001b[38;5;241;43m=\u001b[39;49m\u001b[43mparams\u001b[49m\u001b[43m,\u001b[49m\n\u001b[0;32m      4\u001b[0m \u001b[43m    \u001b[49m\u001b[43mgroup_calculator\u001b[49m\u001b[38;5;241;43m=\u001b[39;49m\u001b[43mlib2\u001b[49m\u001b[38;5;241;43m.\u001b[39;49m\u001b[43mif_group_cost_mean_correctness_weighted\u001b[49m\n\u001b[0;32m      5\u001b[0m \u001b[43m)\u001b[49m\n\u001b[0;32m      7\u001b[0m pop_sizes \u001b[38;5;241m=\u001b[39m {sg: (ad_conversion_dataset[\u001b[38;5;124m\"\u001b[39m\u001b[38;5;124mage\u001b[39m\u001b[38;5;124m\"\u001b[39m] \u001b[38;5;241m==\u001b[39m sg)\u001b[38;5;241m.\u001b[39msum() \u001b[38;5;28;01mfor\u001b[39;00m sg \u001b[38;5;129;01min\u001b[39;00m ad_conversion_dataset[\u001b[38;5;124m\"\u001b[39m\u001b[38;5;124mage\u001b[39m\u001b[38;5;124m\"\u001b[39m]\u001b[38;5;241m.\u001b[39munique()}\n\u001b[0;32m      8\u001b[0m \u001b[38;5;28mprint\u001b[39m(recourse_report_reverse(\n\u001b[0;32m      9\u001b[0m     rules_max_costdiff_sorted_age[:K],\n\u001b[0;32m     10\u001b[0m     population_sizes \u001b[38;5;241m=\u001b[39m pop_sizes\n\u001b[0;32m     11\u001b[0m ))\n",
      "File \u001b[1;32m~\\Documents\\Εργασία\\Counterfactuals\\ares\\lib2.py:250\u001b[0m, in \u001b[0;36msort_triples_by_max_costdiff\u001b[1;34m(rulesbyif, **kwargs)\u001b[0m\n\u001b[0;32m    248\u001b[0m     thenclauses \u001b[38;5;241m=\u001b[39m ifthens[\u001b[38;5;241m1\u001b[39m]\n\u001b[0;32m    249\u001b[0m     \u001b[38;5;28;01mreturn\u001b[39;00m max_intergroup_cost_diff(ifclause, thenclauses, \u001b[38;5;241m*\u001b[39m\u001b[38;5;241m*\u001b[39mkwargs)\n\u001b[1;32m--> 250\u001b[0m ret \u001b[38;5;241m=\u001b[39m \u001b[38;5;28;43msorted\u001b[39;49m\u001b[43m(\u001b[49m\u001b[43mrulesbyif\u001b[49m\u001b[38;5;241;43m.\u001b[39;49m\u001b[43mitems\u001b[49m\u001b[43m(\u001b[49m\u001b[43m)\u001b[49m\u001b[43m,\u001b[49m\u001b[43m \u001b[49m\u001b[43mkey\u001b[49m\u001b[38;5;241;43m=\u001b[39;49m\u001b[43mapply_calc\u001b[49m\u001b[43m,\u001b[49m\u001b[43m \u001b[49m\u001b[43mreverse\u001b[49m\u001b[38;5;241;43m=\u001b[39;49m\u001b[38;5;28;43;01mTrue\u001b[39;49;00m\u001b[43m)\u001b[49m\n\u001b[0;32m    251\u001b[0m \u001b[38;5;28;01mreturn\u001b[39;00m ret\n",
      "File \u001b[1;32m~\\Documents\\Εργασία\\Counterfactuals\\ares\\lib2.py:249\u001b[0m, in \u001b[0;36msort_triples_by_max_costdiff.<locals>.apply_calc\u001b[1;34m(ifthens)\u001b[0m\n\u001b[0;32m    247\u001b[0m ifclause \u001b[38;5;241m=\u001b[39m ifthens[\u001b[38;5;241m0\u001b[39m]\n\u001b[0;32m    248\u001b[0m thenclauses \u001b[38;5;241m=\u001b[39m ifthens[\u001b[38;5;241m1\u001b[39m]\n\u001b[1;32m--> 249\u001b[0m \u001b[38;5;28;01mreturn\u001b[39;00m max_intergroup_cost_diff(ifclause, thenclauses, \u001b[38;5;241m*\u001b[39m\u001b[38;5;241m*\u001b[39mkwargs)\n",
      "File \u001b[1;32m~\\Documents\\Εργασία\\Counterfactuals\\ares\\lib2.py:239\u001b[0m, in \u001b[0;36mmax_intergroup_cost_diff\u001b[1;34m(ifclause, thenclauses, **kwargs)\u001b[0m\n\u001b[0;32m    234\u001b[0m \u001b[38;5;28;01mdef\u001b[39;00m \u001b[38;5;21mmax_intergroup_cost_diff\u001b[39m(\n\u001b[0;32m    235\u001b[0m     ifclause: Predicate,\n\u001b[0;32m    236\u001b[0m     thenclauses: Dict[\u001b[38;5;28mstr\u001b[39m, Tuple[\u001b[38;5;28mfloat\u001b[39m, List[Tuple[Predicate, \u001b[38;5;28mfloat\u001b[39m]]]],\n\u001b[0;32m    237\u001b[0m     \u001b[38;5;241m*\u001b[39m\u001b[38;5;241m*\u001b[39mkwargs\n\u001b[0;32m    238\u001b[0m ) \u001b[38;5;241m-\u001b[39m\u001b[38;5;241m>\u001b[39m \u001b[38;5;28mfloat\u001b[39m:\n\u001b[1;32m--> 239\u001b[0m     group_costs \u001b[38;5;241m=\u001b[39m \u001b[38;5;28mlist\u001b[39m(calculate_if_group_costs(ifclause, thenclauses, \u001b[38;5;241m*\u001b[39m\u001b[38;5;241m*\u001b[39mkwargs)\u001b[38;5;241m.\u001b[39mvalues())\n\u001b[0;32m    240\u001b[0m     \u001b[38;5;28;01mreturn\u001b[39;00m \u001b[38;5;28mmax\u001b[39m(group_costs) \u001b[38;5;241m-\u001b[39m \u001b[38;5;28mmin\u001b[39m(group_costs)\n",
      "File \u001b[1;32m~\\Documents\\Εργασία\\Counterfactuals\\ares\\lib2.py:197\u001b[0m, in \u001b[0;36mcalculate_if_group_costs\u001b[1;34m(ifclause, thenclauses, group_calculator, **kwargs)\u001b[0m\n\u001b[0;32m    191\u001b[0m \u001b[38;5;28;01mdef\u001b[39;00m \u001b[38;5;21mcalculate_if_group_costs\u001b[39m(\n\u001b[0;32m    192\u001b[0m     ifclause: Predicate,\n\u001b[0;32m    193\u001b[0m     thenclauses: Dict[\u001b[38;5;28mstr\u001b[39m, Tuple[\u001b[38;5;28mfloat\u001b[39m, List[Tuple[Predicate, \u001b[38;5;28mfloat\u001b[39m]]]],\n\u001b[0;32m    194\u001b[0m     group_calculator: if_group_cost_f_t \u001b[38;5;241m=\u001b[39m if_group_cost_mean_with_correctness,\n\u001b[0;32m    195\u001b[0m     \u001b[38;5;241m*\u001b[39m\u001b[38;5;241m*\u001b[39mkwargs\n\u001b[0;32m    196\u001b[0m ) \u001b[38;5;241m-\u001b[39m\u001b[38;5;241m>\u001b[39m Dict[\u001b[38;5;28mstr\u001b[39m, \u001b[38;5;28mfloat\u001b[39m]:\n\u001b[1;32m--> 197\u001b[0m     \u001b[38;5;28;01mreturn\u001b[39;00m {sg: group_calculator(ifclause, thens, \u001b[38;5;241m*\u001b[39m\u001b[38;5;241m*\u001b[39mkwargs) \u001b[38;5;28;01mfor\u001b[39;00m sg, (_cov, thens) \u001b[38;5;129;01min\u001b[39;00m thenclauses\u001b[38;5;241m.\u001b[39mitems()}\n",
      "File \u001b[1;32m~\\Documents\\Εργασία\\Counterfactuals\\ares\\lib2.py:197\u001b[0m, in \u001b[0;36m<dictcomp>\u001b[1;34m(.0)\u001b[0m\n\u001b[0;32m    191\u001b[0m \u001b[38;5;28;01mdef\u001b[39;00m \u001b[38;5;21mcalculate_if_group_costs\u001b[39m(\n\u001b[0;32m    192\u001b[0m     ifclause: Predicate,\n\u001b[0;32m    193\u001b[0m     thenclauses: Dict[\u001b[38;5;28mstr\u001b[39m, Tuple[\u001b[38;5;28mfloat\u001b[39m, List[Tuple[Predicate, \u001b[38;5;28mfloat\u001b[39m]]]],\n\u001b[0;32m    194\u001b[0m     group_calculator: if_group_cost_f_t \u001b[38;5;241m=\u001b[39m if_group_cost_mean_with_correctness,\n\u001b[0;32m    195\u001b[0m     \u001b[38;5;241m*\u001b[39m\u001b[38;5;241m*\u001b[39mkwargs\n\u001b[0;32m    196\u001b[0m ) \u001b[38;5;241m-\u001b[39m\u001b[38;5;241m>\u001b[39m Dict[\u001b[38;5;28mstr\u001b[39m, \u001b[38;5;28mfloat\u001b[39m]:\n\u001b[1;32m--> 197\u001b[0m     \u001b[38;5;28;01mreturn\u001b[39;00m {sg: group_calculator(ifclause, thens, \u001b[38;5;241m*\u001b[39m\u001b[38;5;241m*\u001b[39mkwargs) \u001b[38;5;28;01mfor\u001b[39;00m sg, (_cov, thens) \u001b[38;5;129;01min\u001b[39;00m thenclauses\u001b[38;5;241m.\u001b[39mitems()}\n",
      "File \u001b[1;32m~\\Documents\\Εργασία\\Counterfactuals\\ares\\lib2.py:172\u001b[0m, in \u001b[0;36mif_group_cost_mean_correctness_weighted\u001b[1;34m(ifclause, thenclauses, params)\u001b[0m\n\u001b[0;32m    170\u001b[0m feature_changes \u001b[38;5;241m=\u001b[39m np\u001b[38;5;241m.\u001b[39marray([featureChangePred(ifclause, thenclause, params\u001b[38;5;241m=\u001b[39mparams) \u001b[38;5;28;01mfor\u001b[39;00m thenclause, _ \u001b[38;5;129;01min\u001b[39;00m thenclauses])\n\u001b[0;32m    171\u001b[0m corrs \u001b[38;5;241m=\u001b[39m np\u001b[38;5;241m.\u001b[39marray([cor \u001b[38;5;28;01mfor\u001b[39;00m _, cor \u001b[38;5;129;01min\u001b[39;00m thenclauses])\n\u001b[1;32m--> 172\u001b[0m \u001b[38;5;28;01mreturn\u001b[39;00m \u001b[43mnp\u001b[49m\u001b[38;5;241;43m.\u001b[39;49m\u001b[43maverage\u001b[49m\u001b[43m(\u001b[49m\u001b[43mfeature_changes\u001b[49m\u001b[43m,\u001b[49m\u001b[43m \u001b[49m\u001b[43mweights\u001b[49m\u001b[38;5;241;43m=\u001b[39;49m\u001b[43mcorrs\u001b[49m\u001b[43m)\u001b[49m\u001b[38;5;241m.\u001b[39mastype(\u001b[38;5;28mfloat\u001b[39m)\n",
      "File \u001b[1;32m<__array_function__ internals>:180\u001b[0m, in \u001b[0;36maverage\u001b[1;34m(*args, **kwargs)\u001b[0m\n",
      "File \u001b[1;32m~\\anaconda3\\envs\\aif360\\lib\\site-packages\\numpy\\lib\\function_base.py:547\u001b[0m, in \u001b[0;36maverage\u001b[1;34m(a, axis, weights, returned, keepdims)\u001b[0m\n\u001b[0;32m    545\u001b[0m     scl \u001b[38;5;241m=\u001b[39m wgt\u001b[38;5;241m.\u001b[39msum(axis\u001b[38;5;241m=\u001b[39maxis, dtype\u001b[38;5;241m=\u001b[39mresult_dtype, \u001b[38;5;241m*\u001b[39m\u001b[38;5;241m*\u001b[39mkeepdims_kw)\n\u001b[0;32m    546\u001b[0m     \u001b[38;5;28;01mif\u001b[39;00m np\u001b[38;5;241m.\u001b[39many(scl \u001b[38;5;241m==\u001b[39m \u001b[38;5;241m0.0\u001b[39m):\n\u001b[1;32m--> 547\u001b[0m         \u001b[38;5;28;01mraise\u001b[39;00m \u001b[38;5;167;01mZeroDivisionError\u001b[39;00m(\n\u001b[0;32m    548\u001b[0m             \u001b[38;5;124m\"\u001b[39m\u001b[38;5;124mWeights sum to zero, can\u001b[39m\u001b[38;5;124m'\u001b[39m\u001b[38;5;124mt be normalized\u001b[39m\u001b[38;5;124m\"\u001b[39m)\n\u001b[0;32m    550\u001b[0m     avg \u001b[38;5;241m=\u001b[39m np\u001b[38;5;241m.\u001b[39mmultiply(a, wgt,\n\u001b[0;32m    551\u001b[0m                       dtype\u001b[38;5;241m=\u001b[39mresult_dtype)\u001b[38;5;241m.\u001b[39msum(axis, \u001b[38;5;241m*\u001b[39m\u001b[38;5;241m*\u001b[39mkeepdims_kw) \u001b[38;5;241m/\u001b[39m scl\n\u001b[0;32m    553\u001b[0m \u001b[38;5;28;01mif\u001b[39;00m returned:\n",
      "\u001b[1;31mZeroDivisionError\u001b[0m: Weights sum to zero, can't be normalized"
     ]
    }
   ],
   "source": [
    "rules_max_costdiff_sorted_age = lib2.sort_triples_by_max_costdiff(\n",
    "    rules[\"age\"],\n",
    "    params=params,\n",
    "    group_calculator=lib2.if_group_cost_mean_correctness_weighted\n",
    ")\n",
    "\n",
    "pop_sizes = {sg: (ad_conversion_dataset[\"age\"] == sg).sum() for sg in ad_conversion_dataset[\"age\"].unique()}\n",
    "print(recourse_report_reverse(\n",
    "    rules_max_costdiff_sorted_age[:K],\n",
    "    population_sizes = pop_sizes\n",
    "))"
   ]
  },
  {
   "cell_type": "markdown",
   "id": "b68eb89f-39e1-4143-93aa-5367b5356b40",
   "metadata": {},
   "source": [
    "## For each if-group, minimum cost of change among thens that surpass a correctness threshold"
   ]
  },
  {
   "cell_type": "code",
   "execution_count": 17,
   "id": "23015685-bd59-4909-a253-1b07c75b547e",
   "metadata": {
    "tags": []
   },
   "outputs": [
    {
     "name": "stdout",
     "output_type": "stream",
     "text": [
      "If \u001b[1mcollege_educated = 1\u001b[0m:\n",
      "\tSubgroup '\u001b[1m18-24\u001b[0m', \u001b[0;34m95.8057%\u001b[0m covered out of 1456\n",
      "\t\tMake \u001b[1mcollege_educated = 0\u001b[0m with correctness \u001b[0;32m0.0000%\u001b[0m.\n",
      "\tSubgroup '\u001b[1m25-34\u001b[0m', \u001b[0;34m94.4200%\u001b[0m covered out of 25849\n",
      "\t\tMake \u001b[1mcollege_educated = 0\u001b[0m with correctness \u001b[0;32m0.0000%\u001b[0m.\n",
      "\tSubgroup '\u001b[1m45-54\u001b[0m', \u001b[0;34m93.7537%\u001b[0m covered out of 24711\n",
      "\t\tMake \u001b[1mcollege_educated = 0\u001b[0m with correctness \u001b[0;32m0.0000%\u001b[0m.\n",
      "\tSubgroup '\u001b[1m55-64\u001b[0m', \u001b[0;34m94.3824%\u001b[0m covered out of 1350500\n",
      "\t\tMake \u001b[1mcollege_educated = 0\u001b[0m with correctness \u001b[0;32m0.0000%\u001b[0m.\n",
      "\tSubgroup '\u001b[1mUnknown\u001b[0m', \u001b[0;34m94.0747%\u001b[0m covered out of 40624\n",
      "\t\tMake \u001b[1mcollege_educated = 0\u001b[0m with correctness \u001b[0;32m0.0000%\u001b[0m.\n",
      "If \u001b[1mincome = Unknown\u001b[0m:\n",
      "\tSubgroup '\u001b[1m18-24\u001b[0m', \u001b[0;34m94.9227%\u001b[0m covered out of 1456\n",
      "\t\tMake \u001b[1mincome = >100K\u001b[0m with correctness \u001b[0;32m0.0000%\u001b[0m.\n",
      "\tSubgroup '\u001b[1m25-34\u001b[0m', \u001b[0;34m95.7840%\u001b[0m covered out of 25849\n",
      "\t\tMake \u001b[1mincome = >100K\u001b[0m with correctness \u001b[0;32m17.8654%\u001b[0m.\n",
      "\tSubgroup '\u001b[1m45-54\u001b[0m', \u001b[0;34m95.8163%\u001b[0m covered out of 24711\n",
      "\t\tMake \u001b[1mincome = >100K\u001b[0m with correctness \u001b[0;32m30.0000%\u001b[0m.\n",
      "\tSubgroup '\u001b[1m55-64\u001b[0m', \u001b[0;34m95.9620%\u001b[0m covered out of 1350500\n",
      "\t\tMake \u001b[1mincome = >100K\u001b[0m with correctness \u001b[0;32m31.3499%\u001b[0m.\n",
      "\tSubgroup '\u001b[1mUnknown\u001b[0m', \u001b[0;34m95.0567%\u001b[0m covered out of 40624\n",
      "\t\tMake \u001b[1mincome = >100K\u001b[0m with correctness \u001b[0;32m2.3574%\u001b[0m.\n",
      "If \u001b[1mincome = Unknown, college_educated = 1\u001b[0m:\n",
      "\tSubgroup '\u001b[1m18-24\u001b[0m', \u001b[0;34m90.9492%\u001b[0m covered out of 1456\n",
      "\t\tMake \u001b[1mincome = >100K, college_educated = 1\u001b[0m with correctness \u001b[0;32m0.0000%\u001b[0m.\n",
      "\tSubgroup '\u001b[1m25-34\u001b[0m', \u001b[0;34m90.4795%\u001b[0m covered out of 25849\n",
      "\t\tMake \u001b[1mincome = >100K, college_educated = 1\u001b[0m with correctness \u001b[0;32m18.6539%\u001b[0m.\n",
      "\tSubgroup '\u001b[1m45-54\u001b[0m', \u001b[0;34m89.8771%\u001b[0m covered out of 24711\n",
      "\t\tMake \u001b[1mincome = >100K, college_educated = 1\u001b[0m with correctness \u001b[0;32m30.2734%\u001b[0m.\n",
      "\tSubgroup '\u001b[1m55-64\u001b[0m', \u001b[0;34m90.5799%\u001b[0m covered out of 1350500\n",
      "\t\tMake \u001b[1mincome = >100K, college_educated = 1\u001b[0m with correctness \u001b[0;32m32.5871%\u001b[0m.\n",
      "\tSubgroup '\u001b[1mUnknown\u001b[0m', \u001b[0;34m89.3747%\u001b[0m covered out of 40624\n",
      "\t\tMake \u001b[1mincome = >100K, college_educated = 1\u001b[0m with correctness \u001b[0;32m2.2913%\u001b[0m.\n",
      "If \u001b[1mhomeowner = 1\u001b[0m:\n",
      "\tSubgroup '\u001b[1m18-24\u001b[0m', \u001b[0;34m87.8587%\u001b[0m covered out of 1456\n",
      "\t\tMake \u001b[1mhomeowner = 0\u001b[0m with correctness \u001b[0;32m0.0000%\u001b[0m.\n",
      "\tSubgroup '\u001b[1m25-34\u001b[0m', \u001b[0;34m87.8203%\u001b[0m covered out of 25849\n",
      "\t\tMake \u001b[1mhomeowner = 0\u001b[0m with correctness \u001b[0;32m24.6470%\u001b[0m.\n",
      "\tSubgroup '\u001b[1m45-54\u001b[0m', \u001b[0;34m91.1937%\u001b[0m covered out of 24711\n",
      "\t\tMake \u001b[1mhomeowner = 0\u001b[0m with correctness \u001b[0;32m49.4706%\u001b[0m.\n",
      "\tSubgroup '\u001b[1m55-64\u001b[0m', \u001b[0;34m88.2409%\u001b[0m covered out of 1350500\n",
      "\t\tMake \u001b[1mhomeowner = 0\u001b[0m with correctness \u001b[0;32m25.4740%\u001b[0m.\n",
      "\tSubgroup '\u001b[1mUnknown\u001b[0m', \u001b[0;34m87.4612%\u001b[0m covered out of 40624\n",
      "\t\tMake \u001b[1mhomeowner = 0\u001b[0m with correctness \u001b[0;32m2.5429%\u001b[0m.\n",
      "If \u001b[1mhomeowner = 1, income = Unknown\u001b[0m:\n",
      "\tSubgroup '\u001b[1m18-24\u001b[0m', \u001b[0;34m85.2097%\u001b[0m covered out of 1456\n",
      "\t\tMake \u001b[1mhomeowner = 0, income = >100K\u001b[0m with correctness \u001b[0;32m0.0000%\u001b[0m.\n",
      "\t\tMake \u001b[1mhomeowner = 0, income = Unknown\u001b[0m with correctness \u001b[0;32m0.0000%\u001b[0m.\n",
      "\t\tMake \u001b[1mhomeowner = 1, income = >100K\u001b[0m with correctness \u001b[0;32m0.0000%\u001b[0m.\n",
      "\tSubgroup '\u001b[1m25-34\u001b[0m', \u001b[0;34m84.9821%\u001b[0m covered out of 25849\n",
      "\t\tMake \u001b[1mhomeowner = 0, income = >100K\u001b[0m with correctness \u001b[0;32m92.0071%\u001b[0m.\n",
      "\t\tMake \u001b[1mhomeowner = 0, income = Unknown\u001b[0m with correctness \u001b[0;32m24.2218%\u001b[0m.\n",
      "\t\tMake \u001b[1mhomeowner = 1, income = >100K\u001b[0m with correctness \u001b[0;32m8.7224%\u001b[0m.\n",
      "\tSubgroup '\u001b[1m45-54\u001b[0m', \u001b[0;34m88.4435%\u001b[0m covered out of 24711\n",
      "\t\tMake \u001b[1mhomeowner = 0, income = >100K\u001b[0m with correctness \u001b[0;32m96.1131%\u001b[0m.\n",
      "\t\tMake \u001b[1mhomeowner = 0, income = Unknown\u001b[0m with correctness \u001b[0;32m49.8842%\u001b[0m.\n",
      "\t\tMake \u001b[1mhomeowner = 1, income = >100K\u001b[0m with correctness \u001b[0;32m24.8760%\u001b[0m.\n",
      "\tSubgroup '\u001b[1m55-64\u001b[0m', \u001b[0;34m85.6508%\u001b[0m covered out of 1350500\n",
      "\t\tMake \u001b[1mhomeowner = 0, income = >100K\u001b[0m with correctness \u001b[0;32m95.1631%\u001b[0m.\n",
      "\t\tMake \u001b[1mhomeowner = 0, income = Unknown\u001b[0m with correctness \u001b[0;32m25.1366%\u001b[0m.\n",
      "\t\tMake \u001b[1mhomeowner = 1, income = >100K\u001b[0m with correctness \u001b[0;32m23.7187%\u001b[0m.\n",
      "\tSubgroup '\u001b[1mUnknown\u001b[0m', \u001b[0;34m84.5489%\u001b[0m covered out of 40624\n",
      "\t\tMake \u001b[1mhomeowner = 0, income = >100K\u001b[0m with correctness \u001b[0;32m26.1564%\u001b[0m.\n",
      "\t\tMake \u001b[1mhomeowner = 0, income = Unknown\u001b[0m with correctness \u001b[0;32m2.4816%\u001b[0m.\n",
      "\t\tMake \u001b[1mhomeowner = 1, income = >100K\u001b[0m with correctness \u001b[0;32m2.4816%\u001b[0m.\n",
      "If \u001b[1mhomeowner = 1, college_educated = 1\u001b[0m:\n",
      "\tSubgroup '\u001b[1m18-24\u001b[0m', \u001b[0;34m84.3267%\u001b[0m covered out of 1456\n",
      "\t\tMake \u001b[1mhomeowner = 0, college_educated = 1\u001b[0m with correctness \u001b[0;32m0.0000%\u001b[0m.\n",
      "\tSubgroup '\u001b[1m25-34\u001b[0m', \u001b[0;34m82.9981%\u001b[0m covered out of 25849\n",
      "\t\tMake \u001b[1mhomeowner = 0, college_educated = 1\u001b[0m with correctness \u001b[0;32m25.4482%\u001b[0m.\n",
      "\tSubgroup '\u001b[1m45-54\u001b[0m', \u001b[0;34m85.8543%\u001b[0m covered out of 24711\n",
      "\t\tMake \u001b[1mhomeowner = 0, college_educated = 1\u001b[0m with correctness \u001b[0;32m50.9286%\u001b[0m.\n",
      "\tSubgroup '\u001b[1m55-64\u001b[0m', \u001b[0;34m83.2925%\u001b[0m covered out of 1350500\n",
      "\t\tMake \u001b[1mhomeowner = 0, college_educated = 1\u001b[0m with correctness \u001b[0;32m25.4385%\u001b[0m.\n",
      "\tSubgroup '\u001b[1mUnknown\u001b[0m', \u001b[0;34m82.2493%\u001b[0m covered out of 40624\n",
      "\t\tMake \u001b[1mhomeowner = 0, college_educated = 1\u001b[0m with correctness \u001b[0;32m2.4694%\u001b[0m.\n",
      "If \u001b[1mhomeowner = 1, parents = 1\u001b[0m:\n",
      "\tSubgroup '\u001b[1m18-24\u001b[0m', \u001b[0;34m83.2230%\u001b[0m covered out of 1456\n",
      "\t\tMake \u001b[1mhomeowner = 0, parents = 1\u001b[0m with correctness \u001b[0;32m0.0000%\u001b[0m.\n",
      "\tSubgroup '\u001b[1m25-34\u001b[0m', \u001b[0;34m82.7087%\u001b[0m covered out of 25849\n",
      "\t\tMake \u001b[1mhomeowner = 0, parents = 1\u001b[0m with correctness \u001b[0;32m25.8871%\u001b[0m.\n",
      "\tSubgroup '\u001b[1m45-54\u001b[0m', \u001b[0;34m86.3517%\u001b[0m covered out of 24711\n",
      "\t\tMake \u001b[1mhomeowner = 0, parents = 1\u001b[0m with correctness \u001b[0;32m52.1430%\u001b[0m.\n",
      "\tSubgroup '\u001b[1m55-64\u001b[0m', \u001b[0;34m83.2904%\u001b[0m covered out of 1350500\n",
      "\t\tMake \u001b[1mhomeowner = 0, parents = 1\u001b[0m with correctness \u001b[0;32m26.6678%\u001b[0m.\n",
      "\tSubgroup '\u001b[1mUnknown\u001b[0m', \u001b[0;34m82.5766%\u001b[0m covered out of 40624\n",
      "\t\tMake \u001b[1mhomeowner = 0, parents = 1\u001b[0m with correctness \u001b[0;32m2.6934%\u001b[0m.\n",
      "If \u001b[1mhomeowner = 1, income = Unknown, college_educated = 1\u001b[0m:\n",
      "\tSubgroup '\u001b[1m18-24\u001b[0m', \u001b[0;34m81.8985%\u001b[0m covered out of 1456\n",
      "\t\tMake \u001b[1mhomeowner = 0, income = >100K, college_educated = 1\u001b[0m with correctness \u001b[0;32m0.0000%\u001b[0m.\n",
      "\t\tMake \u001b[1mhomeowner = 0, income = Unknown, college_educated = 1\u001b[0m with correctness \u001b[0;32m0.0000%\u001b[0m.\n",
      "\t\tMake \u001b[1mhomeowner = 1, income = >100K, college_educated = 1\u001b[0m with correctness \u001b[0;32m0.0000%\u001b[0m.\n",
      "\tSubgroup '\u001b[1m25-34\u001b[0m', \u001b[0;34m80.3114%\u001b[0m covered out of 25849\n",
      "\t\tMake \u001b[1mhomeowner = 0, income = >100K, college_educated = 1\u001b[0m with correctness \u001b[0;32m94.7161%\u001b[0m.\n",
      "\t\tMake \u001b[1mhomeowner = 0, income = Unknown, college_educated = 1\u001b[0m with correctness \u001b[0;32m25.0129%\u001b[0m.\n",
      "\t\tMake \u001b[1mhomeowner = 1, income = >100K, college_educated = 1\u001b[0m with correctness \u001b[0;32m9.1954%\u001b[0m.\n",
      "\tSubgroup '\u001b[1m45-54\u001b[0m', \u001b[0;34m83.3382%\u001b[0m covered out of 24711\n",
      "\t\tMake \u001b[1mhomeowner = 0, income = >100K, college_educated = 1\u001b[0m with correctness \u001b[0;32m96.1910%\u001b[0m.\n",
      "\t\tMake \u001b[1mhomeowner = 0, income = Unknown, college_educated = 1\u001b[0m with correctness \u001b[0;32m51.3077%\u001b[0m.\n",
      "\t\tMake \u001b[1mhomeowner = 1, income = >100K, college_educated = 1\u001b[0m with correctness \u001b[0;32m25.4695%\u001b[0m.\n",
      "\tSubgroup '\u001b[1m55-64\u001b[0m', \u001b[0;34m80.8549%\u001b[0m covered out of 1350500\n",
      "\t\tMake \u001b[1mhomeowner = 0, income = >100K, college_educated = 1\u001b[0m with correctness \u001b[0;32m95.1913%\u001b[0m.\n",
      "\t\tMake \u001b[1mhomeowner = 0, income = Unknown, college_educated = 1\u001b[0m with correctness \u001b[0;32m25.1072%\u001b[0m.\n",
      "\t\tMake \u001b[1mhomeowner = 1, income = >100K, college_educated = 1\u001b[0m with correctness \u001b[0;32m25.1072%\u001b[0m.\n",
      "\tSubgroup '\u001b[1mUnknown\u001b[0m', \u001b[0;34m79.4713%\u001b[0m covered out of 40624\n",
      "\t\tMake \u001b[1mhomeowner = 0, income = >100K, college_educated = 1\u001b[0m with correctness \u001b[0;32m27.0778%\u001b[0m.\n",
      "\t\tMake \u001b[1mhomeowner = 0, income = Unknown, college_educated = 1\u001b[0m with correctness \u001b[0;32m2.3973%\u001b[0m.\n",
      "\t\tMake \u001b[1mhomeowner = 1, income = >100K, college_educated = 1\u001b[0m with correctness \u001b[0;32m2.3973%\u001b[0m.\n",
      "If \u001b[1mhomeowner = 1, parents = 1, college_educated = 1\u001b[0m:\n",
      "\tSubgroup '\u001b[1m18-24\u001b[0m', \u001b[0;34m79.6909%\u001b[0m covered out of 1456\n",
      "\t\tMake \u001b[1mhomeowner = 0, parents = 1, college_educated = 1\u001b[0m with correctness \u001b[0;32m0.0000%\u001b[0m.\n",
      "\tSubgroup '\u001b[1m25-34\u001b[0m', \u001b[0;34m78.3411%\u001b[0m covered out of 25849\n",
      "\t\tMake \u001b[1mhomeowner = 0, parents = 1, college_educated = 1\u001b[0m with correctness \u001b[0;32m26.6972%\u001b[0m.\n",
      "\tSubgroup '\u001b[1m45-54\u001b[0m', \u001b[0;34m81.2902%\u001b[0m covered out of 24711\n",
      "\t\tMake \u001b[1mhomeowner = 0, parents = 1, college_educated = 1\u001b[0m with correctness \u001b[0;32m53.6800%\u001b[0m.\n",
      "\tSubgroup '\u001b[1m55-64\u001b[0m', \u001b[0;34m78.6195%\u001b[0m covered out of 1350500\n",
      "\t\tMake \u001b[1mhomeowner = 0, parents = 1, college_educated = 1\u001b[0m with correctness \u001b[0;32m26.6301%\u001b[0m.\n",
      "\tSubgroup '\u001b[1mUnknown\u001b[0m', \u001b[0;34m77.6416%\u001b[0m covered out of 40624\n",
      "\t\tMake \u001b[1mhomeowner = 0, parents = 1, college_educated = 1\u001b[0m with correctness \u001b[0;32m2.6159%\u001b[0m.\n",
      "If \u001b[1marea = Unknown\u001b[0m:\n",
      "\tSubgroup '\u001b[1m18-24\u001b[0m', \u001b[0;34m74.6137%\u001b[0m covered out of 1456\n",
      "\t\tMake \u001b[1marea = Rural\u001b[0m with correctness \u001b[0;32m0.0000%\u001b[0m.\n",
      "\t\tMake \u001b[1marea = Urban\u001b[0m with correctness \u001b[0;32m0.0000%\u001b[0m.\n",
      "\tSubgroup '\u001b[1m25-34\u001b[0m', \u001b[0;34m77.2665%\u001b[0m covered out of 25849\n",
      "\t\tMake \u001b[1marea = Rural\u001b[0m with correctness \u001b[0;32m93.4914%\u001b[0m.\n",
      "\t\tMake \u001b[1marea = Urban\u001b[0m with correctness \u001b[0;32m13.0350%\u001b[0m.\n",
      "\tSubgroup '\u001b[1m45-54\u001b[0m', \u001b[0;34m75.8484%\u001b[0m covered out of 24711\n",
      "\t\tMake \u001b[1marea = Rural\u001b[0m with correctness \u001b[0;32m95.8920%\u001b[0m.\n",
      "\t\tMake \u001b[1marea = Urban\u001b[0m with correctness \u001b[0;32m10.1832%\u001b[0m.\n",
      "\tSubgroup '\u001b[1m55-64\u001b[0m', \u001b[0;34m77.0675%\u001b[0m covered out of 1350500\n",
      "\t\tMake \u001b[1marea = Rural\u001b[0m with correctness \u001b[0;32m93.7070%\u001b[0m.\n",
      "\t\tMake \u001b[1marea = Urban\u001b[0m with correctness \u001b[0;32m13.8231%\u001b[0m.\n",
      "\tSubgroup '\u001b[1mUnknown\u001b[0m', \u001b[0;34m75.4259%\u001b[0m covered out of 40624\n",
      "\t\tMake \u001b[1marea = Rural\u001b[0m with correctness \u001b[0;32m56.2034%\u001b[0m.\n",
      "\t\tMake \u001b[1marea = Urban\u001b[0m with correctness \u001b[0;32m0.7678%\u001b[0m.\n",
      "\n"
     ]
    }
   ],
   "source": [
    "rules_max_costdiff_sorted_age = lib2.sort_triples_by_max_costdiff(\n",
    "    rules[\"age\"],\n",
    "    params=params,\n",
    "    group_calculator=lib2.if_group_cost_max_change_correctness_threshold,\n",
    "    cor_thres=0.5\n",
    ")\n",
    "\n",
    "pop_sizes = {sg: (ad_conversion_dataset[\"age\"] == sg).sum() for sg in ad_conversion_dataset[\"age\"].unique()}\n",
    "print(recourse_report_reverse(\n",
    "    rules_max_costdiff_sorted_age[:K],\n",
    "    population_sizes = pop_sizes\n",
    "))"
   ]
  },
  {
   "cell_type": "code",
   "execution_count": null,
   "id": "c9013521-7af1-4980-8af0-a9b49871b69c",
   "metadata": {},
   "outputs": [],
   "source": []
  }
 ],
 "metadata": {
  "kernelspec": {
   "display_name": "Python 3 (ipykernel)",
   "language": "python",
   "name": "python3"
  },
  "language_info": {
   "codemirror_mode": {
    "name": "ipython",
    "version": 3
   },
   "file_extension": ".py",
   "mimetype": "text/x-python",
   "name": "python",
   "nbconvert_exporter": "python",
   "pygments_lexer": "ipython3",
   "version": "3.9.15"
  }
 },
 "nbformat": 4,
 "nbformat_minor": 5
}
