{
 "cells": [
  {
   "cell_type": "code",
   "execution_count": 1,
   "id": "2680d6a2",
   "metadata": {},
   "outputs": [],
   "source": [
    "import numpy as np\n",
    "import pandas as pd\n",
    "from pprint import pprint\n",
    "\n",
    "from sklearn.model_selection import train_test_split\n",
    "from sklearn.metrics import classification_report\n",
    "\n",
    "import lib\n",
    "from lib import Predicate, optimize\n",
    "from models import customXGB\n",
    "from apriori import preprocessDataset, runApriori, aprioriout2predicateList"
   ]
  },
  {
   "cell_type": "code",
   "execution_count": 2,
   "id": "0430d5eb",
   "metadata": {},
   "outputs": [],
   "source": [
    "# Location of adult dataset\n",
    "ADULT_DATAFILE = '../adult.data'\n",
    "random_state = None"
   ]
  },
  {
   "cell_type": "code",
   "execution_count": 3,
   "id": "b988ac0f",
   "metadata": {},
   "outputs": [],
   "source": [
    "feature_names = [\n",
    "   \"Age\", \"Workclass\", \"fnlwgt\", \"Education\",\n",
    "   \"Education-Num\", \"Marital Status\", \"Occupation\",\n",
    "   \"Relationship\", \"Race\", \"Sex\", \"Capital Gain\",\n",
    "   \"Capital Loss\", \"Hours per week\", \"Country\", \"label\"\n",
    "]\n",
    "data = pd.DataFrame(\n",
    "  np.genfromtxt(ADULT_DATAFILE, delimiter=', ', dtype=str),\n",
    "  columns=feature_names\n",
    ")\n",
    "cate_columns = ['Workclass', 'Education', 'Marital Status', 'Occupation', 'Relationship', 'Race', 'Sex', 'Country']"
   ]
  },
  {
   "cell_type": "markdown",
   "id": "68b9633d",
   "metadata": {},
   "source": [
    "# Train test split"
   ]
  },
  {
   "cell_type": "code",
   "execution_count": 4,
   "id": "4b15838f",
   "metadata": {},
   "outputs": [],
   "source": [
    "X = data.drop(\"label\", axis=1)\n",
    "y = data[\"label\"]\n",
    "\n",
    "X_train, X_test, y_train, y_test = train_test_split(X, y, test_size=0.3, random_state=random_state)\n",
    "\n",
    "X_train = X_train.reset_index(drop=True)\n",
    "X_test = X_test.reset_index(drop=True)\n",
    "y_train = y_train.reset_index(drop=True)\n",
    "y_test = y_test.reset_index(drop=True)"
   ]
  },
  {
   "cell_type": "markdown",
   "id": "1db0cdca",
   "metadata": {},
   "source": [
    "# Definition and Training of a black-box model"
   ]
  },
  {
   "cell_type": "code",
   "execution_count": 5,
   "id": "2c1842fb",
   "metadata": {},
   "outputs": [
    {
     "data": {
      "text/plain": [
       "<models.customXGB at 0x25eeb8f8bb0>"
      ]
     },
     "execution_count": 5,
     "metadata": {},
     "output_type": "execute_result"
    }
   ],
   "source": [
    "model = customXGB(n_estimators=300, max_depth=5)\n",
    "model.fit(X_train, y_train, cate_columns=cate_columns)"
   ]
  },
  {
   "cell_type": "code",
   "execution_count": 6,
   "id": "17042664",
   "metadata": {},
   "outputs": [
    {
     "data": {
      "text/plain": [
       "array([0, 0, 0, 0, 0, 1, 0, 0, 1, 0, 0, 0, 0, 0, 0, 1, 1, 0, 0, 0, 0, 1,\n",
       "       1, 0, 0, 0, 1, 1, 0, 0, 0, 0, 1, 0, 1, 0, 1, 1, 0, 0, 0, 0, 0, 1,\n",
       "       1, 0, 0, 0, 1, 0, 1, 0, 0, 0, 0, 0, 0, 1, 1, 0, 0, 0, 1, 0, 0, 0,\n",
       "       0, 0, 0, 0, 0, 0, 0, 0, 0, 0, 0, 0, 0, 1, 0, 0, 1, 0, 0, 0, 0, 0,\n",
       "       0, 0, 1, 0, 1, 1, 0, 0, 0, 0, 0, 0])"
      ]
     },
     "execution_count": 6,
     "metadata": {},
     "output_type": "execute_result"
    }
   ],
   "source": [
    "model.predict(X_test.iloc[:100, :])"
   ]
  },
  {
   "cell_type": "markdown",
   "id": "d49bf648",
   "metadata": {},
   "source": [
    "# Testing the model"
   ]
  },
  {
   "cell_type": "code",
   "execution_count": 7,
   "id": "2de403da",
   "metadata": {},
   "outputs": [
    {
     "name": "stdout",
     "output_type": "stream",
     "text": [
      "              precision    recall  f1-score   support\n",
      "\n",
      "           0       0.89      0.93      0.91      7430\n",
      "           1       0.75      0.65      0.70      2339\n",
      "\n",
      "    accuracy                           0.86      9769\n",
      "   macro avg       0.82      0.79      0.80      9769\n",
      "weighted avg       0.86      0.86      0.86      9769\n",
      "\n"
     ]
    }
   ],
   "source": [
    "preds = model.predict(X_test)\n",
    "print(classification_report(y_test.map({'<=50K': 0, '>50K': 1}), preds))"
   ]
  },
  {
   "cell_type": "markdown",
   "id": "06e06534",
   "metadata": {},
   "source": [
    "# Finding the affected"
   ]
  },
  {
   "cell_type": "code",
   "execution_count": 8,
   "id": "b11315da",
   "metadata": {},
   "outputs": [
    {
     "name": "stdout",
     "output_type": "stream",
     "text": [
      "(32561, 15)\n",
      "(7736,)\n",
      "(7736, 14)\n",
      "<class 'pandas.core.frame.DataFrame'>\n"
     ]
    }
   ],
   "source": [
    "X_aff_idxs = np.where(model.predict(X_test) == 0)[0]\n",
    "print(data.shape)\n",
    "print(X_aff_idxs.shape)\n",
    "X_aff = X_test.iloc[X_aff_idxs, :]\n",
    "print(X_aff.shape)\n",
    "print(type(X_aff))\n",
    "# X_aff.reset_index(inplace=True, drop=True)\n",
    "# print(X_aff.shape)\n",
    "# print(type(X_aff))"
   ]
  },
  {
   "cell_type": "markdown",
   "id": "12c42255",
   "metadata": {},
   "source": [
    "# Testing of Rules Implementation (OBSOLETE)\n",
    "\n",
    "Plus valuation functions."
   ]
  },
  {
   "cell_type": "code",
   "execution_count": 6,
   "id": "a1d74946",
   "metadata": {},
   "outputs": [],
   "source": [
    "d = data[[\"Education\", \"Race\", \"Age\", \"Sex\", \"Country\"]]\n",
    "y = data[\"label\"]\n",
    "\n",
    "RecourseRulesMale = [\n",
    "    ({\"Education\":\"Bachelors\", \"Race\":\"White\", \"Country\":\"Greece\"},\n",
    "     {\"Education\":\"Bachelors\", \"Race\":\"White\", \"Country\":\"United-States\"}),\n",
    "    ({\"Race\":\"White\", \"Country\":\"Greece\"}, {\"Race\":\"Black\", \"Country\":\"Greece\"}),\n",
    "    ({\"Sex\":\"Male\", \"Country\":\"Greece\"}, {\"Sex\":\"Female\", \"Country\":\"Greece\"})\n",
    "]\n",
    "\n",
    "RecourseRulesFemale = [\n",
    "    ({\"Education\":\"Bachelors\", \"Race\":\"White\", \"Country\":\"Greece\"},\n",
    "     {\"Education\":\"Bachelors\", \"Race\":\"White\", \"Country\":\"United-States\"}),\n",
    "    ({\"Race\":\"White\", \"Country\":\"Greece\"}, {\"Race\":\"Black\", \"Country\":\"Greece\"})\n",
    "]\n",
    "\n",
    "sex = lib.TwoLevelRecourseSet(\"Sex\", [\"Male\", \"Female\"])\n",
    "sex.addRules(\"Male\", RecourseRulesMale)\n",
    "sex.addRules(\"Female\", RecourseRulesFemale)"
   ]
  },
  {
   "cell_type": "code",
   "execution_count": 7,
   "id": "cd362eb2",
   "metadata": {},
   "outputs": [
    {
     "data": {
      "text/plain": [
       "[Predicate(features=['Education', 'Race', 'Country'], values=['Bachelors', 'White', 'United-States']),\n",
       " Predicate(features=['Race', 'Country'], values=['Black', 'Greece']),\n",
       " Predicate(features=['Sex', 'Country'], values=['Female', 'Greece'])]"
      ]
     },
     "execution_count": 7,
     "metadata": {},
     "output_type": "execute_result"
    }
   ],
   "source": [
    "list(sex.suggest(d.iloc[5839]))"
   ]
  },
  {
   "cell_type": "code",
   "execution_count": 8,
   "id": "91d0dd54",
   "metadata": {},
   "outputs": [
    {
     "name": "stdout",
     "output_type": "stream",
     "text": [
      "Number of suggested actions (recourses) that have no effect: 36\n",
      "Number of individuals for which there is a suggestion: 20\n",
      "Total cost of changed features, based on change / no change, over all rules: 104\n",
      "Total cost of changed features, based on magnitude of changed, over all rules: 5\n",
      "Total number of triples / rules in our set: 5\n",
      "Maximum number of predicates in a triple / rule: 3\n",
      "512704\n",
      "20\n",
      "13896\n",
      "135\n"
     ]
    }
   ],
   "source": [
    "print(f\"Number of suggested actions (recourses) that have no effect: {lib.incorrectRecourses(sex, X_aff, model)}\")\n",
    "print(f\"Number of individuals for which there is a suggestion: {lib.cover(sex, X_aff)}\")\n",
    "print(f\"Total cost of changed features, based on change / no change, over all rules: {lib.featureCost(sex)}\")\n",
    "print(f\"Total cost of changed features, based on magnitude of changed, over all rules: {lib.featureChange(sex)}\")\n",
    "print(f\"Total number of triples / rules in our set: {lib.size(sex)}\")\n",
    "print(f\"Maximum number of predicates in a triple / rule: {lib.maxwidth(sex)}\")\n",
    "\n",
    "print(lib.reward1(sex, X_aff, model))\n",
    "print(lib.reward2(sex, X_aff))\n",
    "print(lib.reward3(sex))\n",
    "print(lib.reward4(sex))"
   ]
  },
  {
   "cell_type": "code",
   "execution_count": 9,
   "id": "cd0b037b",
   "metadata": {},
   "outputs": [
    {
     "data": {
      "text/plain": [
       "15828"
      ]
     },
     "execution_count": 9,
     "metadata": {},
     "output_type": "execute_result"
    }
   ],
   "source": [
    "len(X_aff[X_aff[\"Sex\"] == \"Male\"])"
   ]
  },
  {
   "cell_type": "code",
   "execution_count": 10,
   "id": "de74cda9",
   "metadata": {},
   "outputs": [
    {
     "data": {
      "text/plain": [
       "(10771, 15)"
      ]
     },
     "execution_count": 10,
     "metadata": {},
     "output_type": "execute_result"
    }
   ],
   "source": [
    "data[data.Sex == \"Female\"].shape"
   ]
  },
  {
   "cell_type": "code",
   "execution_count": 11,
   "id": "88ea66d9",
   "metadata": {},
   "outputs": [
    {
     "name": "stdout",
     "output_type": "stream",
     "text": [
      "      Age         Workclass  fnlwgt   Education Education-Num  \\\n",
      "0      39         State-gov   77516   Bachelors            13   \n",
      "1      50  Self-emp-not-inc   83311   Bachelors            13   \n",
      "2      38           Private  215646     HS-grad             9   \n",
      "3      53           Private  234721        11th             7   \n",
      "4      28           Private  338409   Bachelors            13   \n",
      "...    ..               ...     ...         ...           ...   \n",
      "32556  27           Private  257302  Assoc-acdm            12   \n",
      "32557  40           Private  154374     HS-grad             9   \n",
      "32558  58           Private  151910     HS-grad             9   \n",
      "32559  22           Private  201490     HS-grad             9   \n",
      "32560  52      Self-emp-inc  287927     HS-grad             9   \n",
      "\n",
      "           Marital Status         Occupation   Relationship   Race     Sex  \\\n",
      "0           Never-married       Adm-clerical  Not-in-family  White    Male   \n",
      "1      Married-civ-spouse    Exec-managerial        Husband  White    Male   \n",
      "2                Divorced  Handlers-cleaners  Not-in-family  White    Male   \n",
      "3      Married-civ-spouse  Handlers-cleaners        Husband  Black    Male   \n",
      "4      Married-civ-spouse     Prof-specialty           Wife  Black  Female   \n",
      "...                   ...                ...            ...    ...     ...   \n",
      "32556  Married-civ-spouse       Tech-support           Wife  White  Female   \n",
      "32557  Married-civ-spouse  Machine-op-inspct        Husband  White    Male   \n",
      "32558             Widowed       Adm-clerical      Unmarried  White  Female   \n",
      "32559       Never-married       Adm-clerical      Own-child  White    Male   \n",
      "32560  Married-civ-spouse    Exec-managerial           Wife  White  Female   \n",
      "\n",
      "      Capital Gain Capital Loss Hours per week        Country  label  \n",
      "0             2174            0             40  United-States  <=50K  \n",
      "1                0            0             13  United-States  <=50K  \n",
      "2                0            0             40  United-States  <=50K  \n",
      "3                0            0             40  United-States  <=50K  \n",
      "4                0            0             40           Cuba  <=50K  \n",
      "...            ...          ...            ...            ...    ...  \n",
      "32556            0            0             38  United-States  <=50K  \n",
      "32557            0            0             40  United-States   >50K  \n",
      "32558            0            0             40  United-States  <=50K  \n",
      "32559            0            0             20  United-States  <=50K  \n",
      "32560        15024            0             40  United-States   >50K  \n",
      "\n",
      "[32561 rows x 15 columns]\n"
     ]
    }
   ],
   "source": [
    "print(data)"
   ]
  },
  {
   "cell_type": "markdown",
   "id": "43d1349b",
   "metadata": {},
   "source": [
    "# Testing apriori adaptation and  implementation"
   ]
  },
  {
   "cell_type": "code",
   "execution_count": 13,
   "id": "3c271888",
   "metadata": {},
   "outputs": [
    {
     "name": "stdout",
     "output_type": "stream",
     "text": [
      "       support                                           itemsets\n",
      "0     0.953526                                   (0+Capital Loss)\n",
      "1     0.918108                                   (0+Capital Gain)\n",
      "2     0.899068                            (United-States+Country)\n",
      "53    0.871635                   (0+Capital Gain, 0+Capital Loss)\n",
      "54    0.856382            (United-States+Country, 0+Capital Loss)\n",
      "...        ...                                                ...\n",
      "4752  0.030095  (Bachelors+Education, Not-in-family+Relationsh...\n",
      "5431  0.030095  (HS-grad+Education, Husband+Relationship, 0+Ca...\n",
      "5430  0.030095  (Husband+Relationship, 0+Capital Gain, Married...\n",
      "5742  0.030095    (0+Capital Loss, White+Race, 35+Hours per week)\n",
      "4768  0.030095  (13+Education-Num, Bachelors+Education, United...\n",
      "\n",
      "[5794 rows x 2 columns]\n",
      "[Predicate(features=['Capital Loss'], values=['0']),\n",
      " Predicate(features=['Capital Gain'], values=['0']),\n",
      " Predicate(features=['Country'], values=['United-States']),\n",
      " Predicate(features=['Capital Gain', 'Capital Loss'], values=['0', '0']),\n",
      " Predicate(features=['Country', 'Capital Loss'], values=['United-States', '0']),\n",
      " Predicate(features=['Race'], values=['White']),\n",
      " Predicate(features=['Capital Gain', 'Country'], values=['0', 'United-States']),\n",
      " Predicate(features=['Race', 'Capital Loss'], values=['White', '0']),\n",
      " Predicate(features=['Race', 'Country'], values=['White', 'United-States']),\n",
      " Predicate(features=['Capital Gain', 'Country', 'Capital Loss'], values=['0', 'United-States', '0'])]\n",
      "5794\n"
     ]
    }
   ],
   "source": [
    "d = X_test.drop([\"Sex\"], axis=1)\n",
    "freq_itemsets = runApriori(preprocessDataset(d), min_support=0.03)\n",
    "print(freq_itemsets)\n",
    "RL = aprioriout2predicateList(freq_itemsets)\n",
    "pprint(RL[:10])\n",
    "print(len(RL))"
   ]
  },
  {
   "cell_type": "code",
   "execution_count": 14,
   "id": "cd07bf8f",
   "metadata": {},
   "outputs": [
    {
     "name": "stdout",
     "output_type": "stream",
     "text": [
      "       support                                           itemsets\n",
      "5370  0.030402  (0+Capital Gain, Married-civ-spouse+Marital St...\n",
      "4084  0.030402  (United-States+Country, 0+Capital Gain, Privat...\n",
      "5277  0.030402  (HS-grad+Education, United-States+Country, Cra...\n",
      "5449  0.030402  (United-States+Country, 9+Education-Num, Craft...\n",
      "3923  0.030402  (Adm-clerical+Occupation, United-States+Countr...\n",
      "...        ...                                                ...\n",
      "4752  0.030095  (Bachelors+Education, Not-in-family+Relationsh...\n",
      "5431  0.030095  (HS-grad+Education, Husband+Relationship, 0+Ca...\n",
      "5430  0.030095  (Husband+Relationship, 0+Capital Gain, Married...\n",
      "5742  0.030095    (0+Capital Loss, White+Race, 35+Hours per week)\n",
      "4768  0.030095  (13+Education-Num, Bachelors+Education, United...\n",
      "\n",
      "[100 rows x 2 columns]\n",
      "       support                                                                                                                                                            itemsets\n",
      "5370  0.030402                                           (0+Capital Gain, Married-civ-spouse+Marital Status, Craft-repair+Occupation, 9+Education-Num, White+Race, 0+Capital Loss)\n",
      "4084  0.030402                                                                (United-States+Country, 0+Capital Gain, Private+Workclass, White+Race, Handlers-cleaners+Occupation)\n",
      "5277  0.030402                                                                  (HS-grad+Education, United-States+Country, Craft-repair+Occupation, White+Race, 40+Hours per week)\n",
      "5449  0.030402                                                                    (United-States+Country, 9+Education-Num, Craft-repair+Occupation, White+Race, 40+Hours per week)\n",
      "3923  0.030402                                                        (Adm-clerical+Occupation, United-States+Country, 0+Capital Gain, Not-in-family+Relationship, 0+Capital Loss)\n",
      "5450  0.030402                                                 (HS-grad+Education, United-States+Country, 9+Education-Num, Craft-repair+Occupation, White+Race, 40+Hours per week)\n",
      "5372  0.030402                        (HS-grad+Education, 0+Capital Gain, Married-civ-spouse+Marital Status, Craft-repair+Occupation, 9+Education-Num, White+Race, 0+Capital Loss)\n",
      "4021  0.030402                                                           (Black+Race, 0+Capital Loss, 0+Capital Gain, United-States+Country, Private+Workclass, 40+Hours per week)\n",
      "4083  0.030402                                                                (United-States+Country, Private+Workclass, White+Race, Handlers-cleaners+Occupation, 0+Capital Loss)\n",
      "779   0.030402                                                     (United-States+Country, 0+Capital Loss, Not-in-family+Relationship, Divorced+Marital Status, 40+Hours per week)\n",
      "672   0.030402                                                                                                                          (Separated+Marital Status, 0+Capital Loss)\n",
      "4847  0.030402                                                                                    (Private+Workclass, White+Race, Unmarried+Relationship, Divorced+Marital Status)\n",
      "1209  0.030300                                            (United-States+Country, 9+Education-Num, Never-married+Marital Status, Private+Workclass, White+Race, 40+Hours per week)\n",
      "3919  0.030300                                                                                                   (White+Race, Adm-clerical+Occupation, Not-in-family+Relationship)\n",
      "5602  0.030300                                                                            (Assoc-voc+Education, United-States+Country, 0+Capital Gain, White+Race, 0+Capital Loss)\n",
      "1635  0.030300                         (HS-grad+Education, United-States+Country, 9+Education-Num, Never-married+Marital Status, Private+Workclass, White+Race, 40+Hours per week)\n",
      "1630  0.030300                                          (HS-grad+Education, United-States+Country, Never-married+Marital Status, Private+Workclass, White+Race, 40+Hours per week)\n",
      "5040  0.030300           (United-States+Country, 0+Capital Loss, 0+Capital Gain, Married-civ-spouse+Marital Status, Craft-repair+Occupation, Private+Workclass, 40+Hours per week)\n",
      "5044  0.030300               (United-States+Country, 0+Capital Loss, Married-civ-spouse+Marital Status, Craft-repair+Occupation, Private+Workclass, White+Race, 40+Hours per week)\n",
      "3336  0.030300                                                                                            (0+Capital Gain, 12+Education-Num, Assoc-acdm+Education, 0+Capital Loss)\n",
      "2098  0.030300                                                            (United-States+Country, 0+Capital Loss, 0+Capital Gain, Machine-op-inspct+Occupation, 40+Hours per week)\n",
      "3334  0.030300                                                                                                                  (0+Capital Gain, 12+Education-Num, 0+Capital Loss)\n",
      "3322  0.030300                                                                                                              (0+Capital Gain, Assoc-acdm+Education, 0+Capital Loss)\n",
      "4303  0.030300                                                                   (13+Education-Num, 0+Capital Gain, Not-in-family+Relationship, Private+Workclass, 0+Capital Loss)\n",
      "4703  0.030300                                                  (Bachelors+Education, 0+Capital Gain, Never-married+Marital Status, Private+Workclass, White+Race, 0+Capital Loss)\n",
      "5646  0.030300                                                                                                                           (0+Capital Gain, Asian-Pac-Islander+Race)\n",
      "4704  0.030300                                (13+Education-Num, Bachelors+Education, 0+Capital Gain, Never-married+Marital Status, Private+Workclass, White+Race, 0+Capital Loss)\n",
      "3861  0.030300                                                                                                      (Private+Workclass, 10+Education-Num, Adm-clerical+Occupation)\n",
      "4748  0.030300                                                                (Bachelors+Education, 0+Capital Gain, Not-in-family+Relationship, Private+Workclass, 0+Capital Loss)\n",
      "2475  0.030300                                   (United-States+Country, 0+Capital Gain, White+Race, Married-civ-spouse+Marital Status, Some-college+Education, 40+Hours per week)\n",
      "3871  0.030300                                                                                                (Private+Workclass, Some-college+Education, Adm-clerical+Occupation)\n",
      "4749  0.030300                                              (13+Education-Num, Bachelors+Education, 0+Capital Gain, Not-in-family+Relationship, Private+Workclass, 0+Capital Loss)\n",
      "5632  0.030300                                                          (Assoc-voc+Education, United-States+Country, 0+Capital Gain, 11+Education-Num, White+Race, 0+Capital Loss)\n",
      "5631  0.030300                                                                               (United-States+Country, 0+Capital Gain, 11+Education-Num, White+Race, 0+Capital Loss)\n",
      "3275  0.030300                                   (Husband+Relationship, United-States+Country, Married-civ-spouse+Marital Status, Sales+Occupation, Private+Workclass, White+Race)\n",
      "3884  0.030300                                                                              (Some-college+Education, Private+Workclass, 10+Education-Num, Adm-clerical+Occupation)\n",
      "3274  0.030300                                                                      (Husband+Relationship, United-States+Country, Sales+Occupation, Private+Workclass, White+Race)\n",
      "2394  0.030300                                                                                        (Private+Workclass, White+Race, 0+Capital Gain, Transport-moving+Occupation)\n",
      "968   0.030300                                                      (United-States+Country, 0+Capital Gain, Prof-specialty+Occupation, Not-in-family+Relationship, 0+Capital Loss)\n",
      "2811  0.030300                                         (10+Education-Num, United-States+Country, 0+Capital Gain, Married-civ-spouse+Marital Status, White+Race, 40+Hours per week)\n",
      "2812  0.030300                 (10+Education-Num, United-States+Country, 0+Capital Gain, White+Race, Married-civ-spouse+Marital Status, Some-college+Education, 40+Hours per week)\n",
      "4280  0.030300                                                     (13+Education-Num, 0+Capital Gain, Never-married+Marital Status, Private+Workclass, White+Race, 0+Capital Loss)\n",
      "3337  0.030198                                                                                     (0+Capital Gain, 12+Education-Num, Assoc-acdm+Education, United-States+Country)\n",
      "5424  0.030198                                                        (Husband+Relationship, 0+Capital Gain, Craft-repair+Occupation, 9+Education-Num, White+Race, 0+Capital Loss)\n",
      "5758  0.030198                                                                              (60+Hours per week, United-States+Country, 0+Capital Gain, White+Race, 0+Capital Loss)\n",
      "5429  0.030198                                     (HS-grad+Education, Husband+Relationship, 0+Capital Gain, Craft-repair+Occupation, 9+Education-Num, White+Race, 0+Capital Loss)\n",
      "1634  0.030198                (HS-grad+Education, 0+Capital Loss, 0+Capital Gain, 9+Education-Num, Never-married+Marital Status, Private+Workclass, White+Race, 40+Hours per week)\n",
      "5556  0.030198                                                                (Other-service+Occupation, United-States+Country, 0+Capital Loss, 0+Capital Gain, 40+Hours per week)\n",
      "3316  0.030198                                                                        (0+Capital Gain, Sales+Occupation, Never-married+Marital Status, White+Race, 0+Capital Loss)\n",
      "4644  0.030198                                                                                    (13+Education-Num, Husband+Relationship, 40+Hours per week, Bachelors+Education)\n",
      "4642  0.030198                                                (13+Education-Num, Bachelors+Education, United-States+Country, Married-civ-spouse+Marital Status, 40+Hours per week)\n",
      "4645  0.030198                                                 (13+Education-Num, Bachelors+Education, Husband+Relationship, Married-civ-spouse+Marital Status, 40+Hours per week)\n",
      "4639  0.030198                                                                  (40+Hours per week, Married-civ-spouse+Marital Status, United-States+Country, Bachelors+Education)\n",
      "4251  0.030198                                                                      (13+Education-Num, Married-civ-spouse+Marital Status, 40+Hours per week, Husband+Relationship)\n",
      "4250  0.030198                                                                     (13+Education-Num, Married-civ-spouse+Marital Status, 40+Hours per week, United-States+Country)\n",
      "4221  0.030198                                                                                                         (13+Education-Num, Husband+Relationship, 40+Hours per week)\n",
      "5266  0.030198                                                      (HS-grad+Education, Husband+Relationship, 0+Capital Gain, Craft-repair+Occupation, White+Race, 0+Capital Loss)\n",
      "3323  0.030198                                                                                                       (0+Capital Gain, Assoc-acdm+Education, United-States+Country)\n",
      "4643  0.030198                                                                   (Husband+Relationship, Married-civ-spouse+Marital Status, 40+Hours per week, Bachelors+Education)\n",
      "4578  0.030198                                                                                                      (Husband+Relationship, 40+Hours per week, Bachelors+Education)\n",
      "1210  0.030198                                   (0+Capital Loss, 0+Capital Gain, 9+Education-Num, Never-married+Marital Status, Private+Workclass, White+Race, 40+Hours per week)\n",
      "1099  0.030198                                                                                            (0+Capital Gain, White+Race, State-gov+Workclass, United-States+Country)\n",
      "1633  0.030198                                 (HS-grad+Education, 0+Capital Loss, 0+Capital Gain, Never-married+Marital Status, Private+Workclass, White+Race, 40+Hours per week)\n",
      "3335  0.030198                                                                                                           (0+Capital Gain, 12+Education-Num, United-States+Country)\n",
      "596   0.030198                                                                                                              (45+Hours per week, Married-civ-spouse+Marital Status)\n",
      "1098  0.030198                                                                                            (White+Race, State-gov+Workclass, United-States+Country, 0+Capital Loss)\n",
      "2114  0.030095                                                                                   (Machine-op-inspct+Occupation, Married-civ-spouse+Marital Status, 0+Capital Loss)\n",
      "3291  0.030095                                                                                                   (0+Capital Gain, White+Race, Sales+Occupation, 40+Hours per week)\n",
      "3172  0.030095        (10+Education-Num, United-States+Country, 0+Capital Gain, White+Race, Not-in-family+Relationship, Private+Workclass, Some-college+Education, 0+Capital Loss)\n",
      "840   0.030095                                  (HS-grad+Education, United-States+Country, 0+Capital Gain, Private+Workclass, White+Race, Divorced+Marital Status, 0+Capital Loss)\n",
      "5560  0.030095                                                                                              (Not-in-family+Relationship, Other-service+Occupation, 0+Capital Loss)\n",
      "3171  0.030095                                (10+Education-Num, United-States+Country, 0+Capital Gain, Not-in-family+Relationship, Private+Workclass, White+Race, 0+Capital Loss)\n",
      "2113  0.030095                                                               (HS-grad+Education, Machine-op-inspct+Occupation, 9+Education-Num, Private+Workclass, 0+Capital Loss)\n",
      "2112  0.030095                                                                                  (Private+Workclass, Machine-op-inspct+Occupation, 9+Education-Num, 0+Capital Loss)\n",
      "2106  0.030095                                                                                (Private+Workclass, Machine-op-inspct+Occupation, HS-grad+Education, 0+Capital Loss)\n",
      "4312  0.030095                                                 (13+Education-Num, United-States+Country, 0+Capital Gain, Not-in-family+Relationship, Never-married+Marital Status)\n",
      "5559  0.030095                                                                                              (Not-in-family+Relationship, 0+Capital Gain, Other-service+Occupation)\n",
      "5045  0.030095                      (0+Capital Loss, 0+Capital Gain, Married-civ-spouse+Marital Status, Craft-repair+Occupation, Private+Workclass, White+Race, 40+Hours per week)\n",
      "4305  0.030095                                                                       (13+Education-Num, Not-in-family+Relationship, Private+Workclass, White+Race, 0+Capital Loss)\n",
      "3856  0.030095                       (Adm-clerical+Occupation, United-States+Country, 0+Capital Gain, Never-married+Marital Status, Private+Workclass, White+Race, 0+Capital Loss)\n",
      "972   0.030095                                                          (United-States+Country, Prof-specialty+Occupation, Not-in-family+Relationship, White+Race, 0+Capital Loss)\n",
      "902   0.030095                                    (United-States+Country, 0+Capital Gain, 9+Education-Num, Private+Workclass, White+Race, Divorced+Marital Status, 0+Capital Loss)\n",
      "903   0.030095                 (HS-grad+Education, United-States+Country, 0+Capital Gain, 9+Education-Num, Private+Workclass, White+Race, Divorced+Marital Status, 0+Capital Loss)\n",
      "4900  0.030095                                                                                     (Local-gov+Workclass, Married-civ-spouse+Marital Status, United-States+Country)\n",
      "408   0.030095                              (HS-grad+Education, 0+Capital Loss, 0+Capital Gain, Not-in-family+Relationship, 9+Education-Num, Private+Workclass, 40+Hours per week)\n",
      "407   0.030095                                                 (0+Capital Loss, 0+Capital Gain, Not-in-family+Relationship, 9+Education-Num, Private+Workclass, 40+Hours per week)\n",
      "4879  0.030095                                                                     (HS-grad+Education, Unmarried+Relationship, 9+Education-Num, Private+Workclass, 0+Capital Loss)\n",
      "4878  0.030095                                                                                        (Private+Workclass, Unmarried+Relationship, 9+Education-Num, 0+Capital Loss)\n",
      "4860  0.030095                                                                                      (Private+Workclass, Unmarried+Relationship, HS-grad+Education, 0+Capital Loss)\n",
      "2653  0.030095                          (United-States+Country, 0+Capital Gain, White+Race, Not-in-family+Relationship, Private+Workclass, Some-college+Education, 0+Capital Loss)\n",
      "3343  0.030095                                                                                                         (Self-emp-inc+Workclass, White+Race, United-States+Country)\n",
      "273   0.030095                                               (HS-grad+Education, 0+Capital Loss, 0+Capital Gain, Not-in-family+Relationship, Private+Workclass, 40+Hours per week)\n",
      "5268  0.030095                   (HS-grad+Education, Husband+Relationship, 0+Capital Gain, Married-civ-spouse+Marital Status, Craft-repair+Occupation, White+Race, 0+Capital Loss)\n",
      "4766  0.030095                                              (Bachelors+Education, United-States+Country, 0+Capital Gain, Not-in-family+Relationship, Never-married+Marital Status)\n",
      "4754  0.030095                                                  (13+Education-Num, Bachelors+Education, Not-in-family+Relationship, Private+Workclass, White+Race, 0+Capital Loss)\n",
      "4752  0.030095                                                                    (Bachelors+Education, Not-in-family+Relationship, Private+Workclass, White+Race, 0+Capital Loss)\n",
      "5431  0.030095  (HS-grad+Education, Husband+Relationship, 0+Capital Gain, Married-civ-spouse+Marital Status, Craft-repair+Occupation, 9+Education-Num, White+Race, 0+Capital Loss)\n",
      "5430  0.030095                     (Husband+Relationship, 0+Capital Gain, Married-civ-spouse+Marital Status, Craft-repair+Occupation, 9+Education-Num, White+Race, 0+Capital Loss)\n",
      "5742  0.030095                                                                                                                     (0+Capital Loss, White+Race, 35+Hours per week)\n",
      "4768  0.030095                            (13+Education-Num, Bachelors+Education, United-States+Country, 0+Capital Gain, Not-in-family+Relationship, Never-married+Marital Status)\n"
     ]
    }
   ],
   "source": [
    "print(freq_itemsets.tail(100))\n",
    "print(freq_itemsets.tail(100).to_string())"
   ]
  },
  {
   "cell_type": "code",
   "execution_count": 15,
   "id": "3aa9ae1d",
   "metadata": {},
   "outputs": [
    {
     "name": "stdout",
     "output_type": "stream",
     "text": [
      "[Predicate(features=['Capital Loss'], values=['0']), Predicate(features=['Capital Gain'], values=['0']), Predicate(features=['Country'], values=['United-States']), Predicate(features=['Capital Gain', 'Capital Loss'], values=['0', '0']), Predicate(features=['Country', 'Capital Loss'], values=['United-States', '0']), Predicate(features=['Race'], values=['White']), Predicate(features=['Capital Gain', 'Country'], values=['0', 'United-States']), Predicate(features=['Race', 'Capital Loss'], values=['White', '0']), Predicate(features=['Race', 'Country'], values=['White', 'United-States']), Predicate(features=['Capital Gain', 'Country', 'Capital Loss'], values=['0', 'United-States', '0'])]\n"
     ]
    }
   ],
   "source": [
    "print(RL[:10])"
   ]
  },
  {
   "cell_type": "markdown",
   "id": "1c3afda6",
   "metadata": {},
   "source": [
    "## Now with different itemsets for each group"
   ]
  },
  {
   "cell_type": "code",
   "execution_count": 16,
   "id": "afa4b51a",
   "metadata": {},
   "outputs": [
    {
     "name": "stdout",
     "output_type": "stream",
     "text": [
      "       support                                           itemsets\n",
      "0     0.949615                                   (0+Capital Loss)\n",
      "1     0.906626                                   (0+Capital Gain)\n",
      "2     0.899692                            (United-States+Country)\n",
      "3     0.879507                                       (White+Race)\n",
      "51    0.856240                   (0+Capital Gain, 0+Capital Loss)\n",
      "...        ...                                                ...\n",
      "4184  0.030046  (13+Education-Num, Husband+Relationship, Unite...\n",
      "2227  0.030046  (HS-grad+Education, Self-emp-not-inc+Workclass...\n",
      "2226  0.030046  (0+Capital Loss, HS-grad+Education, Self-emp-n...\n",
      "222   0.030046  (10+Education-Num, United-States+Country, 0+Ca...\n",
      "621   0.030046  (13+Education-Num, Bachelors+Education, 0+Capi...\n",
      "\n",
      "[6183 rows x 2 columns]\n",
      "       support                                           itemsets\n",
      "0     0.961269                                   (0+Capital Loss)\n",
      "1     0.940836                                   (0+Capital Gain)\n",
      "56    0.902104                   (0+Capital Gain, 0+Capital Loss)\n",
      "2     0.897835                            (United-States+Country)\n",
      "57    0.862153            (United-States+Country, 0+Capital Loss)\n",
      "...        ...                                                ...\n",
      "1109  0.030192  (United-States+Country, White+Race, Not-in-fam...\n",
      "4092  0.030192  (Some-college+Education, 10+Education-Num, Whi...\n",
      "4073  0.030192  (Some-college+Education, White+Race, Sales+Occ...\n",
      "4060  0.030192   (10+Education-Num, White+Race, Sales+Occupation)\n",
      "3537  0.030192  (HS-grad+Education, Own-child+Relationship, Un...\n",
      "\n",
      "[5983 rows x 2 columns]\n",
      "[Predicate(features=['Capital Loss'], values=['0']),\n",
      " Predicate(features=['Capital Gain'], values=['0']),\n",
      " Predicate(features=['Country'], values=['United-States']),\n",
      " Predicate(features=['Race'], values=['White']),\n",
      " Predicate(features=['Capital Gain', 'Capital Loss'], values=['0', '0']),\n",
      " Predicate(features=['Capital Loss', 'Country'], values=['0', 'United-States']),\n",
      " Predicate(features=['Race', 'Capital Loss'], values=['White', '0']),\n",
      " Predicate(features=['Capital Gain', 'Country'], values=['0', 'United-States']),\n",
      " Predicate(features=['Race', 'Country'], values=['White', 'United-States']),\n",
      " Predicate(features=['Capital Gain', 'Race'], values=['0', 'White'])]\n",
      "[Predicate(features=['Capital Loss'], values=['0']),\n",
      " Predicate(features=['Capital Gain'], values=['0']),\n",
      " Predicate(features=['Capital Gain', 'Capital Loss'], values=['0', '0']),\n",
      " Predicate(features=['Country'], values=['United-States']),\n",
      " Predicate(features=['Country', 'Capital Loss'], values=['United-States', '0']),\n",
      " Predicate(features=['Capital Gain', 'Country'], values=['0', 'United-States']),\n",
      " Predicate(features=['Capital Gain', 'Country', 'Capital Loss'], values=['0', 'United-States', '0']),\n",
      " Predicate(features=['Race'], values=['White']),\n",
      " Predicate(features=['Race', 'Capital Loss'], values=['White', '0']),\n",
      " Predicate(features=['Capital Gain', 'Race'], values=['0', 'White'])]\n",
      "6183\n",
      "5983\n"
     ]
    }
   ],
   "source": [
    "y_male = y_test[X_test.Sex == \"Male\"]\n",
    "X_male = X_test.loc[X_test.Sex == \"Male\"].drop([\"Sex\"], axis=1)\n",
    "y_female = y_test.loc[X_test.Sex == \"Female\"]\n",
    "X_female = X_test.loc[X_test.Sex == \"Female\"].drop([\"Sex\"], axis=1)\n",
    "\n",
    "# d = X_test.drop([\"label\", \"Sex\"], axis=1)\n",
    "\n",
    "freq_itemsets_male = runApriori(preprocessDataset(X_male), min_support=0.03)\n",
    "freq_itemsets_female = runApriori(preprocessDataset(X_female), min_support=0.03)\n",
    "print(freq_itemsets_male)\n",
    "print(freq_itemsets_female)\n",
    "\n",
    "RL_male = aprioriout2predicateList(freq_itemsets_male)\n",
    "RL_female = aprioriout2predicateList(freq_itemsets_female)\n",
    "pprint(RL_male[:10])\n",
    "pprint(RL_female[:10])\n",
    "print(len(RL_male))\n",
    "print(len(RL_female))"
   ]
  },
  {
   "cell_type": "code",
   "execution_count": 17,
   "id": "a9e87a6f",
   "metadata": {},
   "outputs": [
    {
     "name": "stdout",
     "output_type": "stream",
     "text": [
      "       support                                           itemsets\n",
      "251   0.030354  (10+Education-Num, 0+Capital Gain, White+Race,...\n",
      "3820  0.030354  (Own-child+Relationship, United-States+Country...\n",
      "3156  0.030354  (10+Education-Num, Husband+Relationship, Unite...\n",
      "592   0.030354  (0+Capital Loss, Private+Workclass, Exec-manag...\n",
      "48    0.030354                            (Federal-gov+Workclass)\n",
      "...        ...                                                ...\n",
      "4184  0.030046  (13+Education-Num, Husband+Relationship, Unite...\n",
      "2227  0.030046  (HS-grad+Education, Self-emp-not-inc+Workclass...\n",
      "2226  0.030046  (0+Capital Loss, HS-grad+Education, Self-emp-n...\n",
      "222   0.030046  (10+Education-Num, United-States+Country, 0+Ca...\n",
      "621   0.030046  (13+Education-Num, Bachelors+Education, 0+Capi...\n",
      "\n",
      "[100 rows x 2 columns]\n",
      "       support                                                                                                                                                                                          itemsets\n",
      "251   0.030354                                                                                (10+Education-Num, 0+Capital Gain, White+Race, Not-in-family+Relationship, Some-college+Education, 0+Capital Loss)\n",
      "3820  0.030354                                                                                    (Own-child+Relationship, United-States+Country, 9+Education-Num, Never-married+Marital Status, 0+Capital Loss)\n",
      "3156  0.030354                                     (10+Education-Num, Husband+Relationship, United-States+Country, 0+Capital Gain, Private+Workclass, Some-college+Education, 40+Hours per week, 0+Capital Loss)\n",
      "592   0.030354                                                                                                              (0+Capital Loss, Private+Workclass, Exec-managerial+Occupation, Bachelors+Education)\n",
      "48    0.030354                                                                                                                                                                           (Federal-gov+Workclass)\n",
      "6178  0.030354                                                                                                                                                              (Unmarried+Relationship, White+Race)\n",
      "3881  0.030354                                                                                                           (HS-grad+Education, Own-child+Relationship, 0+Capital Gain, White+Race, 0+Capital Loss)\n",
      "3882  0.030354                                                                                          (HS-grad+Education, Own-child+Relationship, 0+Capital Gain, 9+Education-Num, White+Race, 0+Capital Loss)\n",
      "654   0.030354                                                                                                                 (Private+Workclass, 13+Education-Num, Exec-managerial+Occupation, 0+Capital Loss)\n",
      "5971  0.030354                                                                                                                                                 (White+Race, State-gov+Workclass, 0+Capital Loss)\n",
      "656   0.030354                                                                                            (13+Education-Num, Bachelors+Education, Exec-managerial+Occupation, Private+Workclass, 0+Capital Loss)\n",
      "3158  0.030354  (10+Education-Num, Husband+Relationship, United-States+Country, 0+Capital Gain, Married-civ-spouse+Marital Status, Private+Workclass, Some-college+Education, 40+Hours per week, 0+Capital Loss)\n",
      "5106  0.030354                                                                                                                             (0+Capital Gain, Craft-repair+Occupation, Not-in-family+Relationship)\n",
      "1870  0.030354                                                       (United-States+Country, 0+Capital Gain, Not-in-family+Relationship, Private+Workclass, White+Race, Divorced+Marital Status, 0+Capital Loss)\n",
      "542   0.030354                                                                         (United-States+Country, Married-civ-spouse+Marital Status, Exec-managerial+Occupation, 40+Hours per week, 0+Capital Loss)\n",
      "4769  0.030354                                                           (Husband+Relationship, 0+Capital Gain, Married-civ-spouse+Marital Status, Prof-specialty+Occupation, Private+Workclass, 0+Capital Loss)\n",
      "4766  0.030354                                                                                              (Husband+Relationship, 0+Capital Gain, Prof-specialty+Occupation, Private+Workclass, 0+Capital Loss)\n",
      "3825  0.030354                                                                                                             (Own-child+Relationship, 0+Capital Gain, 9+Education-Num, White+Race, 0+Capital Loss)\n",
      "3870  0.030354                                                                                  (HS-grad+Education, Own-child+Relationship, United-States+Country, Never-married+Marital Status, 0+Capital Loss)\n",
      "221   0.030354                                                                                                        (10+Education-Num, 0+Capital Gain, Not-in-family+Relationship, White+Race, 0+Capital Loss)\n",
      "3872  0.030354                                                                 (HS-grad+Education, Own-child+Relationship, United-States+Country, 9+Education-Num, Never-married+Marital Status, 0+Capital Loss)\n",
      "6153  0.030354                                                                                                             (60+Hours per week, Husband+Relationship, 0+Capital Gain, White+Race, 0+Capital Loss)\n",
      "6154  0.030354                                                                          (60+Hours per week, Husband+Relationship, 0+Capital Gain, Married-civ-spouse+Marital Status, White+Race, 0+Capital Loss)\n",
      "5921  0.030354                                                                                                                                          (Local-gov+Workclass, 0+Capital Gain, 40+Hours per week)\n",
      "2610  0.030354                                                       (Husband+Relationship, United-States+Country, 0+Capital Gain, Private+Workclass, Some-college+Education, 40+Hours per week, 0+Capital Loss)\n",
      "1973  0.030354                                                                                                (HS-grad+Education, 0+Capital Gain, Machine-op-inspct+Occupation, 9+Education-Num, 0+Capital Loss)\n",
      "1970  0.030354                                                                                                                 (0+Capital Gain, Machine-op-inspct+Occupation, HS-grad+Education, 0+Capital Loss)\n",
      "2611  0.030354                    (Husband+Relationship, United-States+Country, 0+Capital Gain, Married-civ-spouse+Marital Status, Private+Workclass, Some-college+Education, 40+Hours per week, 0+Capital Loss)\n",
      "1948  0.030354                                                                                                                   (0+Capital Gain, Machine-op-inspct+Occupation, 9+Education-Num, 0+Capital Loss)\n",
      "3883  0.030200                                                                                                   (HS-grad+Education, Own-child+Relationship, United-States+Country, 9+Education-Num, White+Race)\n",
      "3874  0.030200                                                 (HS-grad+Education, Own-child+Relationship, United-States+Country, 0+Capital Gain, 9+Education-Num, Never-married+Marital Status, 0+Capital Loss)\n",
      "3878  0.030200                                                                                                                    (White+Race, HS-grad+Education, Own-child+Relationship, United-States+Country)\n",
      "3873  0.030200                                                                  (HS-grad+Education, Own-child+Relationship, United-States+Country, 0+Capital Gain, Never-married+Marital Status, 0+Capital Loss)\n",
      "6182  0.030200                                                                                                                                   (0+Capital Gain, Unmarried+Relationship, United-States+Country)\n",
      "3824  0.030200                                                                                                                      (White+Race, Own-child+Relationship, 9+Education-Num, United-States+Country)\n",
      "3316  0.030200                                                                                                          (United-States+Country, Sales+Occupation, White+Race, 40+Hours per week, 0+Capital Loss)\n",
      "557   0.030200                                                       (Husband+Relationship, United-States+Country, Married-civ-spouse+Marital Status, Exec-managerial+Occupation, White+Race, 40+Hours per week)\n",
      "556   0.030200                                                                                          (Husband+Relationship, United-States+Country, Exec-managerial+Occupation, White+Race, 40+Hours per week)\n",
      "544   0.030200                                                                                    (Married-civ-spouse+Marital Status, Exec-managerial+Occupation, White+Race, 40+Hours per week, 0+Capital Loss)\n",
      "2218  0.030200                                                                                                                         (Self-emp-not-inc+Workclass, White+Race, 9+Education-Num, 0+Capital Loss)\n",
      "2229  0.030200                                                                                                                       (Self-emp-not-inc+Workclass, White+Race, HS-grad+Education, 0+Capital Loss)\n",
      "5802  0.030200                                                                                                                                                     (Other-service+Occupation, 40+Hours per week)\n",
      "2326  0.030200                                                                                                                                  (0+Capital Gain, Transport-moving+Occupation, 40+Hours per week)\n",
      "5972  0.030200                                                                                                                                                 (0+Capital Gain, White+Race, State-gov+Workclass)\n",
      "3185  0.030200                                                                                                                                                              (10+Education-Num, Sales+Occupation)\n",
      "3186  0.030200                                                                                                                                                        (Some-college+Education, Sales+Occupation)\n",
      "3308  0.030200                                                                                                                                      (Some-college+Education, 10+Education-Num, Sales+Occupation)\n",
      "2230  0.030200                                                                                                      (HS-grad+Education, Self-emp-not-inc+Workclass, 9+Education-Num, White+Race, 0+Capital Loss)\n",
      "3332  0.030200                                                                                                (Self-emp-inc+Workclass, 0+Capital Loss, Married-civ-spouse+Marital Status, United-States+Country)\n",
      "3821  0.030200                                                                    (Own-child+Relationship, United-States+Country, 0+Capital Gain, 9+Education-Num, Never-married+Marital Status, 0+Capital Loss)\n",
      "6132  0.030046                                                                                     (60+Hours per week, United-States+Country, 0+Capital Gain, Married-civ-spouse+Marital Status, 0+Capital Loss)\n",
      "552   0.030046                                                   (Husband+Relationship, United-States+Country, Married-civ-spouse+Marital Status, Exec-managerial+Occupation, 40+Hours per week, 0+Capital Loss)\n",
      "3742  0.030046                                                               (Own-child+Relationship, 10+Education-Num, United-States+Country, White+Race, Never-married+Marital Status, Some-college+Education)\n",
      "6161  0.030046                                                                                                                                                                          (35+Age, 0+Capital Loss)\n",
      "754   0.030046                                                                                   (Husband+Relationship, 0+Capital Gain, 45+Hours per week, Married-civ-spouse+Marital Status, Private+Workclass)\n",
      "576   0.030046                                                                                                     (Bachelors+Education, 0+Capital Gain, Exec-managerial+Occupation, White+Race, 0+Capital Loss)\n",
      "748   0.030046                                                                                                                      (0+Capital Gain, Private+Workclass, 45+Hours per week, Husband+Relationship)\n",
      "580   0.030046                                                                                  (Bachelors+Education, Married-civ-spouse+Marital Status, Exec-managerial+Occupation, White+Race, 0+Capital Loss)\n",
      "3884  0.030046                                                                                                    (HS-grad+Education, Own-child+Relationship, United-States+Country, 0+Capital Gain, White+Race)\n",
      "3885  0.030046                                                                                   (HS-grad+Education, Own-child+Relationship, United-States+Country, 0+Capital Gain, 9+Education-Num, White+Race)\n",
      "588   0.030046                                                                                        (Bachelors+Education, Husband+Relationship, United-States+Country, Exec-managerial+Occupation, White+Race)\n",
      "589   0.030046                                                     (Bachelors+Education, Husband+Relationship, United-States+Country, Married-civ-spouse+Marital Status, Exec-managerial+Occupation, White+Race)\n",
      "591   0.030046                                                                                                                  (Private+Workclass, White+Race, Exec-managerial+Occupation, Bachelors+Education)\n",
      "710   0.030046                                                                                                         (Private+Workclass, 0+Capital Gain, 45+Hours per week, Married-civ-spouse+Marital Status)\n",
      "620   0.030046                                                                                                        (13+Education-Num, 0+Capital Gain, Exec-managerial+Occupation, White+Race, 0+Capital Loss)\n",
      "655   0.030046                                                                                                (13+Education-Num, Bachelors+Education, Exec-managerial+Occupation, Private+Workclass, White+Race)\n",
      "653   0.030046                                                                                                                     (Private+Workclass, 13+Education-Num, White+Race, Exec-managerial+Occupation)\n",
      "648   0.030046                                   (13+Education-Num, Bachelors+Education, Husband+Relationship, United-States+Country, Married-civ-spouse+Marital Status, Exec-managerial+Occupation, White+Race)\n",
      "647   0.030046                                                        (13+Education-Num, Husband+Relationship, United-States+Country, Married-civ-spouse+Marital Status, Exec-managerial+Occupation, White+Race)\n",
      "646   0.030046                                                                      (13+Education-Num, Bachelors+Education, Husband+Relationship, United-States+Country, Exec-managerial+Occupation, White+Race)\n",
      "644   0.030046                                                                                           (13+Education-Num, Husband+Relationship, United-States+Country, Exec-managerial+Occupation, White+Race)\n",
      "628   0.030046                                                                (13+Education-Num, Bachelors+Education, Married-civ-spouse+Marital Status, Exec-managerial+Occupation, White+Race, 0+Capital Loss)\n",
      "627   0.030046                                                                                     (13+Education-Num, Married-civ-spouse+Marital Status, Exec-managerial+Occupation, White+Race, 0+Capital Loss)\n",
      "551   0.030046                                                                                      (Husband+Relationship, United-States+Country, Exec-managerial+Occupation, 40+Hours per week, 0+Capital Loss)\n",
      "3740  0.030046                                                                                 (Own-child+Relationship, United-States+Country, White+Race, Never-married+Marital Status, Some-college+Education)\n",
      "2000  0.030046                                                           (United-States+Country, Machine-op-inspct+Occupation, Married-civ-spouse+Marital Status, Private+Workclass, White+Race, 0+Capital Loss)\n",
      "4675  0.030046                                                                                          (13+Education-Num, Bachelors+Education, 0+Capital Gain, Never-married+Marital Status, Private+Workclass)\n",
      "253   0.030046                                                         (10+Education-Num, United-States+Country, 0+Capital Gain, White+Race, Not-in-family+Relationship, Some-college+Education, 0+Capital Loss)\n",
      "252   0.030046                                                                           (United-States+Country, 0+Capital Gain, White+Race, Not-in-family+Relationship, Some-college+Education, 0+Capital Loss)\n",
      "3689  0.030046                                                                                       (Own-child+Relationship, 10+Education-Num, United-States+Country, Never-married+Marital Status, White+Race)\n",
      "4210  0.030046                                                                                                                      (13+Education-Num, Not-in-family+Relationship, Never-married+Marital Status)\n",
      "5969  0.030046                                                                                                                      (0+Capital Loss, 0+Capital Gain, State-gov+Workclass, United-States+Country)\n",
      "4628  0.030046                                                                             (Bachelors+Education, Husband+Relationship, United-States+Country, 0+Capital Gain, 40+Hours per week, 0+Capital Loss)\n",
      "4633  0.030046                                                           (13+Education-Num, Bachelors+Education, Husband+Relationship, United-States+Country, 0+Capital Gain, 40+Hours per week, 0+Capital Loss)\n",
      "4634  0.030046                                          (Bachelors+Education, Husband+Relationship, United-States+Country, 0+Capital Gain, Married-civ-spouse+Marital Status, 40+Hours per week, 0+Capital Loss)\n",
      "4635  0.030046                        (13+Education-Num, Bachelors+Education, Husband+Relationship, United-States+Country, 0+Capital Gain, Married-civ-spouse+Marital Status, 40+Hours per week, 0+Capital Loss)\n",
      "4673  0.030046                                                                                                            (Never-married+Marital Status, 0+Capital Gain, Private+Workclass, Bachelors+Education)\n",
      "4681  0.030046                                                                                                                   (Never-married+Marital Status, Not-in-family+Relationship, Bachelors+Education)\n",
      "2217  0.030046                                                                                                              (0+Capital Loss, Self-emp-not-inc+Workclass, 9+Education-Num, United-States+Country)\n",
      "4708  0.030046                                                                                                 (Never-married+Marital Status, 13+Education-Num, Not-in-family+Relationship, Bachelors+Education)\n",
      "5832  0.030046                                                                                                                                     (0+Capital Gain, Other-service+Occupation, 40+Hours per week)\n",
      "4205  0.030046                                                                                                               (Private+Workclass, 0+Capital Gain, 13+Education-Num, Never-married+Marital Status)\n",
      "4186  0.030046                                             (13+Education-Num, Husband+Relationship, United-States+Country, 0+Capital Gain, Married-civ-spouse+Marital Status, 40+Hours per week, 0+Capital Loss)\n",
      "2271  0.030046                                                                                               (0+Capital Gain, Private+Workclass, Married-civ-spouse+Marital Status, Transport-moving+Occupation)\n",
      "3826  0.030046                                                                                                      (Own-child+Relationship, United-States+Country, 0+Capital Gain, 9+Education-Num, White+Race)\n",
      "4184  0.030046                                                                                (13+Education-Num, Husband+Relationship, United-States+Country, 0+Capital Gain, 40+Hours per week, 0+Capital Loss)\n",
      "2227  0.030046                                                                                           (HS-grad+Education, Self-emp-not-inc+Workclass, United-States+Country, 9+Education-Num, 0+Capital Loss)\n",
      "2226  0.030046                                                                                                            (0+Capital Loss, HS-grad+Education, Self-emp-not-inc+Workclass, United-States+Country)\n",
      "222   0.030046                                                                                 (10+Education-Num, United-States+Country, 0+Capital Gain, Not-in-family+Relationship, White+Race, 0+Capital Loss)\n",
      "621   0.030046                                                                                   (13+Education-Num, Bachelors+Education, 0+Capital Gain, Exec-managerial+Occupation, White+Race, 0+Capital Loss)\n",
      "\n",
      "       support                                           itemsets\n",
      "5690  0.030497  (Own-child+Relationship, Other-service+Occupat...\n",
      "4393  0.030497  (Married-civ-spouse+Marital Status, Adm-cleric...\n",
      "4394  0.030497  (Married-civ-spouse+Marital Status, Adm-cleric...\n",
      "4536  0.030497  (Private+Workclass, Wife+Relationship, Married...\n",
      "4587  0.030497  (Wife+Relationship, HS-grad+Education, Married...\n",
      "...        ...                                                ...\n",
      "1109  0.030192  (United-States+Country, White+Race, Not-in-fam...\n",
      "4092  0.030192  (Some-college+Education, 10+Education-Num, Whi...\n",
      "4073  0.030192  (Some-college+Education, White+Race, Sales+Occ...\n",
      "4060  0.030192   (10+Education-Num, White+Race, Sales+Occupation)\n",
      "3537  0.030192  (HS-grad+Education, Own-child+Relationship, Un...\n",
      "\n",
      "[100 rows x 2 columns]\n",
      "       support                                                                                                                                                                   itemsets\n",
      "5690  0.030497                                            (Own-child+Relationship, Other-service+Occupation, 0+Capital Gain, Never-married+Marital Status, Private+Workclass, White+Race)\n",
      "4393  0.030497                                                                                               (Married-civ-spouse+Marital Status, Adm-clerical+Occupation, 0+Capital Loss)\n",
      "4394  0.030497                                                                                        (Married-civ-spouse+Marital Status, Adm-clerical+Occupation, United-States+Country)\n",
      "4536  0.030497                                                                               (Private+Workclass, Wife+Relationship, Married-civ-spouse+Marital Status, HS-grad+Education)\n",
      "4587  0.030497                                                              (Wife+Relationship, HS-grad+Education, Married-civ-spouse+Marital Status, 9+Education-Num, Private+Workclass)\n",
      "3535  0.030497                                                        (Own-child+Relationship, HS-grad+Education, United-States+Country, Never-married+Marital Status, Private+Workclass)\n",
      "3680  0.030497                                                (Adm-clerical+Occupation, Own-child+Relationship, 0+Capital Gain, Never-married+Marital Status, White+Race, 0+Capital Loss)\n",
      "3367  0.030497  (HS-grad+Education, United-States+Country, 0+Capital Loss, 0+Capital Gain, 9+Education-Num, Not-in-family+Relationship, Private+Workclass, White+Race, 40+Hours per week)\n",
      "2609  0.030497                  (HS-grad+Education, Unmarried+Relationship, United-States+Country, 0+Capital Loss, 0+Capital Gain, 9+Education-Num, Private+Workclass, 40+Hours per week)\n",
      "2309  0.030497                                                                                                  (Unmarried+Relationship, Some-college+Education, Divorced+Marital Status)\n",
      "2282  0.030497                                                                                              (Unmarried+Relationship, 10+Education-Num, 40+Hours per week, 0+Capital Loss)\n",
      "2324  0.030497                                                                                        (Unmarried+Relationship, Some-college+Education, 40+Hours per week, 0+Capital Loss)\n",
      "2326  0.030497                                                                      (Unmarried+Relationship, 10+Education-Num, 0+Capital Loss, Some-college+Education, 40+Hours per week)\n",
      "2349  0.030497                                                     (Unmarried+Relationship, United-States+Country, White+Race, Private+Workclass, Some-college+Education, 0+Capital Loss)\n",
      "3366  0.030497                   (HS-grad+Education, United-States+Country, 0+Capital Loss, 0+Capital Gain, Not-in-family+Relationship, Private+Workclass, White+Race, 40+Hours per week)\n",
      "5446  0.030497                                                                                                                                   (0+Capital Gain, 22+Age, 0+Capital Loss)\n",
      "2350  0.030497                                   (10+Education-Num, Unmarried+Relationship, United-States+Country, White+Race, Private+Workclass, Some-college+Education, 0+Capital Loss)\n",
      "2354  0.030497                                                                                (Some-college+Education, Unmarried+Relationship, 10+Education-Num, Divorced+Marital Status)\n",
      "2502  0.030497                                   (HS-grad+Education, Unmarried+Relationship, United-States+Country, 0+Capital Loss, 0+Capital Gain, Private+Workclass, 40+Hours per week)\n",
      "2513  0.030497                                                           (HS-grad+Education, Unmarried+Relationship, 0+Capital Gain, White+Race, Divorced+Marital Status, 0+Capital Loss)\n",
      "2608  0.030497                                     (Unmarried+Relationship, United-States+Country, 0+Capital Loss, 0+Capital Gain, 9+Education-Num, Private+Workclass, 40+Hours per week)\n",
      "2294  0.030497                                                           (10+Education-Num, Unmarried+Relationship, United-States+Country, Private+Workclass, White+Race, 0+Capital Loss)\n",
      "2275  0.030497                                                                                                        (Unmarried+Relationship, 10+Education-Num, Divorced+Marital Status)\n",
      "5496  0.030497                                                                                                    (0+Capital Gain, 11th+Education, United-States+Country, 0+Capital Loss)\n",
      "2924  0.030497                     (United-States+Country, 0+Capital Loss, 0+Capital Gain, 9+Education-Num, Not-in-family+Relationship, Private+Workclass, White+Race, 40+Hours per week)\n",
      "2631  0.030497                                                             (Unmarried+Relationship, 0+Capital Gain, 9+Education-Num, White+Race, Divorced+Marital Status, 0+Capital Loss)\n",
      "5445  0.030497                                                                                                                                                   (0+Capital Gain, 22+Age)\n",
      "2198  0.030497                                   (Adm-clerical+Occupation, United-States+Country, 0+Capital Loss, 0+Capital Gain, White+Race, Divorced+Marital Status, 40+Hours per week)\n",
      "2632  0.030497                                          (HS-grad+Education, Unmarried+Relationship, 0+Capital Gain, 9+Education-Num, White+Race, Divorced+Marital Status, 0+Capital Loss)\n",
      "2207  0.030497                                                                     (Adm-clerical+Occupation, Unmarried+Relationship, White+Race, Divorced+Marital Status, 0+Capital Loss)\n",
      "4586  0.030192                                                                                                    (Private+Workclass, Wife+Relationship, 9+Education-Num, 0+Capital Loss)\n",
      "4672  0.030192                                                                                                                (13+Education-Num, Divorced+Marital Status, 0+Capital Loss)\n",
      "730   0.030192                                                                                                       (0+Capital Gain, Prof-specialty+Occupation, Divorced+Marital Status)\n",
      "4876  0.030192                                                                     (Bachelors+Education, 0+Capital Loss, 0+Capital Gain, Never-married+Marital Status, 40+Hours per week)\n",
      "5471  0.030192                                                                                                         (35+Hours per week, Private+Workclass, White+Race, 0+Capital Loss)\n",
      "711   0.030192                                                              (United-States+Country, Prof-specialty+Occupation, Not-in-family+Relationship, Private+Workclass, White+Race)\n",
      "821   0.030192                                   (United-States+Country, Prof-specialty+Occupation, Not-in-family+Relationship, Never-married+Marital Status, White+Race, 0+Capital Loss)\n",
      "4588  0.030192                                                                                 (Wife+Relationship, HS-grad+Education, 9+Education-Num, Private+Workclass, 0+Capital Loss)\n",
      "731   0.030192                                                                                (Divorced+Marital Status, Prof-specialty+Occupation, United-States+Country, 0+Capital Loss)\n",
      "4671  0.030192                                                                        (13+Education-Num, 0+Capital Loss, 0+Capital Gain, Never-married+Marital Status, 40+Hours per week)\n",
      "410   0.030192                                                             (HS-grad+Education, 0+Capital Gain, Private+Workclass, White+Race, Divorced+Marital Status, 40+Hours per week)\n",
      "4877  0.030192                                                   (13+Education-Num, Bachelors+Education, 0+Capital Loss, 0+Capital Gain, Never-married+Marital Status, 40+Hours per week)\n",
      "4879  0.030192                                                                                                             (Bachelors+Education, Divorced+Marital Status, 0+Capital Loss)\n",
      "4880  0.030192                                                                                           (0+Capital Loss, 13+Education-Num, Divorced+Marital Status, Bachelors+Education)\n",
      "532   0.030192                                            (HS-grad+Education, 0+Capital Gain, 9+Education-Num, Private+Workclass, White+Race, Divorced+Marital Status, 40+Hours per week)\n",
      "531   0.030192                                                            (HS-grad+Education, 9+Education-Num, Private+Workclass, White+Race, Divorced+Marital Status, 40+Hours per week)\n",
      "530   0.030192                                                               (0+Capital Gain, 9+Education-Num, Private+Workclass, White+Race, Divorced+Marital Status, 40+Hours per week)\n",
      "5210  0.030192                                                                                                                                                   (0+Capital Gain, 28+Age)\n",
      "5282  0.030192                                                                  (United-States+Country, 20+Hours per week, 0+Capital Gain, Private+Workclass, White+Race, 0+Capital Loss)\n",
      "5313  0.030192                                                                        (?+Occupation, United-States+Country, 0+Capital Gain, Never-married+Marital Status, 0+Capital Loss)\n",
      "5977  0.030192                                                                                                           (0+Capital Gain, Unmarried+Relationship, Widowed+Marital Status)\n",
      "5314  0.030192                                                                                                                          (0+Capital Gain, ?+Occupation, 40+Hours per week)\n",
      "5354  0.030192                                                                                                                           (0+Capital Gain, ?+Workclass, 40+Hours per week)\n",
      "518   0.030192                                                                               (9+Education-Num, Private+Workclass, White+Race, Divorced+Marital Status, 40+Hours per week)\n",
      "5355  0.030192                                                                                                             (0+Capital Gain, ?+Workclass, ?+Occupation, 40+Hours per week)\n",
      "5975  0.030192                                                                                                               (9+Education-Num, HS-grad+Education, Widowed+Marital Status)\n",
      "825   0.030192                                                                   (Prof-specialty+Occupation, Never-married+Marital Status, Private+Workclass, White+Race, 0+Capital Loss)\n",
      "4154  0.030192                                                                                                                         (Black+Race, HS-grad+Education, 40+Hours per week)\n",
      "4537  0.030192                                                                                                  (Private+Workclass, Wife+Relationship, HS-grad+Education, 0+Capital Loss)\n",
      "3627  0.030192                                          (Own-child+Relationship, United-States+Country, 9+Education-Num, Never-married+Marital Status, Private+Workclass, 0+Capital Loss)\n",
      "4052  0.030192                                         (Own-child+Relationship, United-States+Country, 0+Capital Gain, Sales+Occupation, Never-married+Marital Status, Private+Workclass)\n",
      "4051  0.030192                                                                (Own-child+Relationship, Sales+Occupation, Never-married+Marital Status, Private+Workclass, 0+Capital Loss)\n",
      "3992  0.030192                                                                                         (HS-grad+Education, 9+Education-Num, Sales+Occupation, White+Race, 0+Capital Loss)\n",
      "3990  0.030192                                                                                                            (White+Race, 9+Education-Num, Sales+Occupation, 0+Capital Loss)\n",
      "3955  0.030192                                                                                                          (White+Race, HS-grad+Education, Sales+Occupation, 0+Capital Loss)\n",
      "3937  0.030192                                                                                   (United-States+Country, 0+Capital Gain, Sales+Occupation, White+Race, 40+Hours per week)\n",
      "3936  0.030192                                                                                       (0+Capital Loss, Sales+Occupation, Private+Workclass, White+Race, 40+Hours per week)\n",
      "3628  0.030192                       (HS-grad+Education, Own-child+Relationship, United-States+Country, 9+Education-Num, Never-married+Marital Status, Private+Workclass, 0+Capital Loss)\n",
      "1409  0.030192                                                                       (10+Education-Num, United-States+Country, Not-in-family+Relationship, White+Race, 40+Hours per week)\n",
      "5939  0.030192                                                                                                                                (Widowed+Marital Status, 40+Hours per week)\n",
      "1410  0.030192                                               (10+Education-Num, United-States+Country, White+Race, Not-in-family+Relationship, Some-college+Education, 40+Hours per week)\n",
      "1620  0.030192           (Adm-clerical+Occupation, United-States+Country, 0+Capital Loss, 0+Capital Gain, Never-married+Marital Status, Private+Workclass, White+Race, 40+Hours per week)\n",
      "2676  0.030192                                                                                        (Local-gov+Workclass, White+Race, Prof-specialty+Occupation, United-States+Country)\n",
      "1670  0.030192                                                                                 (Adm-clerical+Occupation, 10+Education-Num, 0+Capital Gain, White+Race, 40+Hours per week)\n",
      "1769  0.030192                                                                           (Adm-clerical+Occupation, 0+Capital Gain, White+Race, Some-college+Education, 40+Hours per week)\n",
      "1770  0.030192                                                         (Adm-clerical+Occupation, 10+Education-Num, 0+Capital Gain, White+Race, Some-college+Education, 40+Hours per week)\n",
      "1835  0.030192                         (Adm-clerical+Occupation, 0+Capital Gain, Not-in-family+Relationship, Never-married+Marital Status, Private+Workclass, White+Race, 0+Capital Loss)\n",
      "2222  0.030192                                                                                                                                                   (31+Age, 0+Capital Gain)\n",
      "4053  0.030192                                                                                              (White+Race, Own-child+Relationship, Sales+Occupation, United-States+Country)\n",
      "4054  0.030192                                                                                                     (0+Capital Gain, White+Race, Own-child+Relationship, Sales+Occupation)\n",
      "322   0.030192                                    (0+Capital Loss, 0+Capital Gain, Not-in-family+Relationship, Private+Workclass, White+Race, Divorced+Marital Status, 40+Hours per week)\n",
      "4055  0.030192                                                                                                     (White+Race, Own-child+Relationship, Sales+Occupation, 0+Capital Loss)\n",
      "5938  0.030192                                                                                                                                  (9+Education-Num, Widowed+Marital Status)\n",
      "5937  0.030192                                                                                                                                (HS-grad+Education, Widowed+Marital Status)\n",
      "4325  0.030192                                                      (0+Capital Loss, 0+Capital Gain, Married-civ-spouse+Marital Status, Private+Workclass, White+Race, 40+Hours per week)\n",
      "4276  0.030192                                                                                                                 (0+Capital Loss, 25+Hours per week, United-States+Country)\n",
      "4275  0.030192                                                                                                                 (0+Capital Gain, 25+Hours per week, United-States+Country)\n",
      "5930  0.030192                                                                                              (Never-married+Marital Status, 19+Age, United-States+Country, 0+Capital Loss)\n",
      "4269  0.030192                                                                                                              (United-States+Country, Other-service+Occupation, Black+Race)\n",
      "4257  0.030192                                                                                                                      (Black+Race, Adm-clerical+Occupation, 0+Capital Loss)\n",
      "405   0.030192                                                                             (HS-grad+Education, Private+Workclass, White+Race, Divorced+Marital Status, 40+Hours per week)\n",
      "5691  0.030192                            (Own-child+Relationship, Other-service+Occupation, 0+Capital Gain, Never-married+Marital Status, Private+Workclass, White+Race, 0+Capital Loss)\n",
      "4198  0.030192                                                                                                        (Black+Race, HS-grad+Education, 9+Education-Num, 40+Hours per week)\n",
      "4171  0.030192                                                                                                                           (Black+Race, 9+Education-Num, 40+Hours per week)\n",
      "4101  0.030192                                                                                   (Sales+Occupation, Private+Workclass, Not-in-family+Relationship, United-States+Country)\n",
      "1109  0.030192                                                                 (United-States+Country, White+Race, Not-in-family+Relationship, Some-college+Education, 40+Hours per week)\n",
      "4092  0.030192                                                                                                   (Some-college+Education, 10+Education-Num, White+Race, Sales+Occupation)\n",
      "4073  0.030192                                                                                                                     (Some-college+Education, White+Race, Sales+Occupation)\n",
      "4060  0.030192                                                                                                                           (10+Education-Num, White+Race, Sales+Occupation)\n",
      "3537  0.030192                                        (HS-grad+Education, Own-child+Relationship, United-States+Country, Never-married+Marital Status, Private+Workclass, 0+Capital Loss)\n"
     ]
    }
   ],
   "source": [
    "print(freq_itemsets_male.tail(100))\n",
    "print(freq_itemsets_male.tail(100).to_string())\n",
    "print()\n",
    "print(freq_itemsets_female.tail(100))\n",
    "print(freq_itemsets_female.tail(100).to_string())"
   ]
  },
  {
   "cell_type": "markdown",
   "id": "a20e966a",
   "metadata": {},
   "source": [
    "# Testing optimization procedure"
   ]
  },
  {
   "cell_type": "markdown",
   "id": "1a0c0501",
   "metadata": {},
   "source": [
    "## Start with hand-picked SD and RL"
   ]
  },
  {
   "cell_type": "code",
   "execution_count": 18,
   "id": "a03e4bf4",
   "metadata": {},
   "outputs": [
    {
     "name": "stdout",
     "output_type": "stream",
     "text": [
      "[Predicate(features=['Sex'], values=['Male']), Predicate(features=['Sex'], values=['Female'])]\n",
      "\n",
      "[Predicate(features=['Education', 'Race', 'Country'], values=['Bachelors', 'White', 'Greece']),\n",
      " Predicate(features=['Education', 'Race', 'Country'], values=['Bachelors', 'White', 'United-States']),\n",
      " Predicate(features=['Race', 'Country'], values=['White', 'Greece']),\n",
      " Predicate(features=['Race', 'Country'], values=['Black', 'Greece']),\n",
      " Predicate(features=['Sex', 'Country'], values=['Male', 'Greece']),\n",
      " Predicate(features=['Sex', 'Country'], values=['Female', 'Greece']),\n",
      " Predicate(features=['Education', 'Race', 'Country'], values=['Bachelors', 'White', 'Greece']),\n",
      " Predicate(features=['Education', 'Race', 'Country'], values=['Bachelors', 'White', 'United-States']),\n",
      " Predicate(features=['Race', 'Country'], values=['White', 'Greece']),\n",
      " Predicate(features=['Race', 'Country'], values=['Black', 'Greece'])]\n"
     ]
    }
   ],
   "source": [
    "SD = list(map(Predicate.from_dict_categorical, [\n",
    "    {\"Sex\": \"Male\"},\n",
    "    {\"Sex\": \"Female\"}\n",
    "]))\n",
    "\n",
    "RL_byhand = list(map(Predicate.from_dict_categorical, [\n",
    "    {\"Education\":\"Bachelors\", \"Race\":\"White\", \"Country\":\"Greece\"},\n",
    "    {\"Education\":\"Bachelors\", \"Race\":\"White\", \"Country\":\"United-States\"},\n",
    "    {\"Race\":\"White\", \"Country\":\"Greece\"},\n",
    "    {\"Race\":\"Black\", \"Country\":\"Greece\"},\n",
    "    {\"Sex\":\"Male\", \"Country\":\"Greece\"},\n",
    "    {\"Sex\":\"Female\", \"Country\":\"Greece\"},\n",
    "    {\"Education\":\"Bachelors\", \"Race\":\"White\", \"Country\":\"Greece\"},\n",
    "    {\"Education\":\"Bachelors\", \"Race\":\"White\", \"Country\":\"United-States\"},\n",
    "    {\"Race\":\"White\", \"Country\":\"Greece\"},\n",
    "    {\"Race\":\"Black\", \"Country\":\"Greece\"}\n",
    "]))\n",
    "\n",
    "print(SD)\n",
    "print()\n",
    "pprint(RL_byhand)"
   ]
  },
  {
   "cell_type": "markdown",
   "id": "3b8aba8d",
   "metadata": {},
   "source": [
    "## Now using the output of frequent itemsets"
   ]
  },
  {
   "cell_type": "code",
   "execution_count": 19,
   "id": "ad5c7826",
   "metadata": {},
   "outputs": [
    {
     "name": "stdout",
     "output_type": "stream",
     "text": [
      "(7736, 14)\n",
      "(32561, 15)\n"
     ]
    }
   ],
   "source": [
    "print(X_aff.shape)\n",
    "print(data.shape)"
   ]
  },
  {
   "cell_type": "code",
   "execution_count": 26,
   "id": "a254c186",
   "metadata": {},
   "outputs": [
    {
     "name": "stdout",
     "output_type": "stream",
     "text": [
      "CPU times: total: 3min 54s\n",
      "Wall time: 30.1 s\n"
     ]
    }
   ],
   "source": [
    "%%time\n",
    "\n",
    "final_rules = optimize(SD, RL[:400], X_aff[:400], model)"
   ]
  },
  {
   "cell_type": "code",
   "execution_count": 27,
   "id": "c7e86783",
   "metadata": {},
   "outputs": [
    {
     "name": "stdout",
     "output_type": "stream",
     "text": [
      "([(Predicate(features=['Sex'], values=['Male']),\n",
      "   Predicate(features=['Marital Status'], values=['Never-married']),\n",
      "   Predicate(features=['Marital Status'], values=['Married-civ-spouse'])),\n",
      "  (Predicate(features=['Sex'], values=['Female']),\n",
      "   Predicate(features=['Marital Status'], values=['Divorced']),\n",
      "   Predicate(features=['Marital Status'], values=['Married-civ-spouse']))],\n",
      " -127,\n",
      " 149,\n",
      " -10,\n",
      " -10)\n"
     ]
    }
   ],
   "source": [
    "pprint(final_rules)"
   ]
  },
  {
   "cell_type": "code",
   "execution_count": 19,
   "id": "8925078c",
   "metadata": {
    "scrolled": false
   },
   "outputs": [
    {
     "name": "stdout",
     "output_type": "stream",
     "text": [
      "([], 0, 0, 0, 0)\n"
     ]
    }
   ],
   "source": [
    "pprint(final_rules)"
   ]
  },
  {
   "cell_type": "code",
   "execution_count": 20,
   "id": "eab43b8c",
   "metadata": {},
   "outputs": [
    {
     "name": "stdout",
     "output_type": "stream",
     "text": [
      "(25637, 15)\n"
     ]
    }
   ],
   "source": [
    "print(X_aff.shape)"
   ]
  },
  {
   "cell_type": "code",
   "execution_count": 21,
   "id": "bdf0e34e",
   "metadata": {},
   "outputs": [
    {
     "name": "stdout",
     "output_type": "stream",
     "text": [
      "      Age     Workclass  fnlwgt  Education Education-Num      Marital Status  \\\n",
      "159    42       Private  228456  Bachelors            13           Separated   \n",
      "192    41     Local-gov  523910  Bachelors            13  Married-civ-spouse   \n",
      "505    24       Private  388093  Bachelors            13       Never-married   \n",
      "907    24       Private  202570  Bachelors            13       Never-married   \n",
      "1883   27   Federal-gov  508336  Bachelors            13       Never-married   \n",
      "...    ..           ...     ...        ...           ...                 ...   \n",
      "30849  42     State-gov  212027  Bachelors            13            Divorced   \n",
      "31366  25       Private  173062  Bachelors            13       Never-married   \n",
      "31407  24       Private  493034  Bachelors            13       Never-married   \n",
      "31495  41       Private  197093  Bachelors            13            Divorced   \n",
      "32040  42  Self-emp-inc  161532  Bachelors            13  Married-civ-spouse   \n",
      "\n",
      "              Occupation    Relationship   Race   Sex Capital Gain  \\\n",
      "159        Other-service  Other-relative  Black  Male            0   \n",
      "192         Craft-repair         Husband  Black  Male            0   \n",
      "505      Exec-managerial   Not-in-family  Black  Male            0   \n",
      "907       Prof-specialty       Own-child  Black  Male            0   \n",
      "1883     Exec-managerial   Not-in-family  Black  Male            0   \n",
      "...                  ...             ...    ...   ...          ...   \n",
      "30849     Prof-specialty   Not-in-family  Black  Male            0   \n",
      "31366  Handlers-cleaners       Unmarried  Black  Male            0   \n",
      "31407     Prof-specialty   Not-in-family  Black  Male            0   \n",
      "31495     Prof-specialty   Not-in-family  Black  Male            0   \n",
      "32040       Craft-repair         Husband  Black  Male            0   \n",
      "\n",
      "      Capital Loss Hours per week        Country  label  \n",
      "159              0             50  United-States  <=50K  \n",
      "192              0             40  United-States  <=50K  \n",
      "505              0             40  United-States  <=50K  \n",
      "907              0             15  United-States  <=50K  \n",
      "1883             0             48  United-States  <=50K  \n",
      "...            ...            ...            ...    ...  \n",
      "30849            0             40  United-States  <=50K  \n",
      "31366            0             40  United-States  <=50K  \n",
      "31407            0             40  United-States  <=50K  \n",
      "31495            0             40  United-States  <=50K  \n",
      "32040            0             60  United-States  <=50K  \n",
      "\n",
      "[77 rows x 15 columns]\n"
     ]
    }
   ],
   "source": [
    "t = X_aff[X_aff.Sex == \"Male\"]\n",
    "t = t[t.Education == \"Bachelors\"]\n",
    "t = t[t.Race == \"Black\"]\n",
    "t = t[t.Country == \"United-States\"]\n",
    "print(t)"
   ]
  },
  {
   "cell_type": "markdown",
   "id": "e6e65ff1",
   "metadata": {},
   "source": [
    "## Testing new implementation"
   ]
  },
  {
   "cell_type": "code",
   "execution_count": 20,
   "id": "86484727",
   "metadata": {},
   "outputs": [],
   "source": [
    "from lib2 import optimize as opt"
   ]
  },
  {
   "cell_type": "code",
   "execution_count": 23,
   "id": "58570156",
   "metadata": {},
   "outputs": [
    {
     "name": "stdout",
     "output_type": "stream",
     "text": [
      "Total triples = 264\n",
      "X_aff shape before: (7736, 14)\n",
      "Calculated incorrect recourse for each triple\n",
      "Calculated feature costs for each triple\n",
      "Calculated feature changes for each feature\n",
      "X_aff shape after: (7736, 14)\n",
      "set()\n",
      "Calculated covers for each triple\n",
      "17\n",
      "CPU times: total: 4min 22s\n",
      "Wall time: 1min 11s\n"
     ]
    }
   ],
   "source": [
    "%%time\n",
    "\n",
    "final_rules = opt(SD, RL[:400], X_aff, model)"
   ]
  },
  {
   "cell_type": "code",
   "execution_count": 22,
   "id": "7967712a",
   "metadata": {},
   "outputs": [
    {
     "name": "stdout",
     "output_type": "stream",
     "text": [
      "([(Predicate(features=['Sex'], values=['Male']),\n",
      "   Predicate(features=['Education-Num'], values=['9']),\n",
      "   Predicate(features=['Education-Num'], values=['13'])),\n",
      "  (Predicate(features=['Sex'], values=['Male']),\n",
      "   Predicate(features=['Education-Num'], values=['10']),\n",
      "   Predicate(features=['Education-Num'], values=['13'])),\n",
      "  (Predicate(features=['Sex'], values=['Female']),\n",
      "   Predicate(features=['Marital Status'], values=['Never-married']),\n",
      "   Predicate(features=['Marital Status'], values=['Married-civ-spouse']))],\n",
      " -218,\n",
      " 245,\n",
      " -3,\n",
      " -3)\n"
     ]
    }
   ],
   "source": [
    "pprint(final_rules)"
   ]
  }
 ],
 "metadata": {
  "kernelspec": {
   "display_name": "Python 3 (ipykernel)",
   "language": "python",
   "name": "python3"
  },
  "language_info": {
   "codemirror_mode": {
    "name": "ipython",
    "version": 3
   },
   "file_extension": ".py",
   "mimetype": "text/x-python",
   "name": "python",
   "nbconvert_exporter": "python",
   "pygments_lexer": "ipython3",
   "version": "3.9.15"
  }
 },
 "nbformat": 4,
 "nbformat_minor": 5
}
