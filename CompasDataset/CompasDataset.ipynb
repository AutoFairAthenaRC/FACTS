{
 "cells": [
  {
   "attachments": {},
   "cell_type": "markdown",
   "metadata": {},
   "source": [
    "`ProPublica Recidivism/COMPAS` :<br>\n",
    "    The COMPAS dataset (Correctional Offender Management Profiling for Alternative Sanctions) is a dataset used for binary classification tasks in the field of criminal justice. The goal is to predict whether a defendant will re-offend within two years of release, based on various demographic and criminal history features.<br>\n",
    "    Reference Link: https://www.propublica.org/datastore/dataset/compas-recidivism-risk-score-data-and-analysis"
   ]
  },
  {
   "cell_type": "code",
   "execution_count": 2,
   "metadata": {
    "tags": []
   },
   "outputs": [],
   "source": [
    "import pandas as pd\n",
    "import numpy as np\n",
    "from pprint import pprint\n",
    "\n",
    "from sklearn.model_selection import train_test_split\n",
    "from sklearn.metrics import classification_report, confusion_matrix, ConfusionMatrixDisplay\n",
    "\n",
    "import os\n",
    "import sys\n",
    "module_path = os.path.abspath(os.path.join('..'))\n",
    "if module_path not in sys.path:\n",
    "    sys.path.append(module_path)\n",
    "\n",
    "import facts\n",
    "from facts.clean import clean_dataset\n",
    "from facts import valid_ifthens_with_coverage_correctness, rules2rulesbyif\n",
    "from facts.models import customLogisticRegression\n",
    "from facts.parameters import ParameterProxy\n",
    "from facts.formatting import recourse_report_reverse, print_recourse_report, print_recourse_report_cumulative\n",
    "import matplotlib.pyplot as plt\n",
    "from aif360.sklearn.datasets import fetch_compas\n",
    "\n",
    "from IPython.display import Markdown, display"
   ]
  },
  {
   "attachments": {},
   "cell_type": "markdown",
   "metadata": {},
   "source": [
    "## Load Dataset"
   ]
  },
  {
   "cell_type": "code",
   "execution_count": 3,
   "metadata": {
    "tags": []
   },
   "outputs": [
    {
     "data": {
      "text/html": [
       "<div>\n",
       "<style scoped>\n",
       "    .dataframe tbody tr th:only-of-type {\n",
       "        vertical-align: middle;\n",
       "    }\n",
       "\n",
       "    .dataframe tbody tr th {\n",
       "        vertical-align: top;\n",
       "    }\n",
       "\n",
       "    .dataframe thead th {\n",
       "        text-align: right;\n",
       "    }\n",
       "</style>\n",
       "<table border=\"1\" class=\"dataframe\">\n",
       "  <thead>\n",
       "    <tr style=\"text-align: right;\">\n",
       "      <th></th>\n",
       "      <th>sex</th>\n",
       "      <th>age_cat</th>\n",
       "      <th>race</th>\n",
       "      <th>juv_fel_count</th>\n",
       "      <th>juv_misd_count</th>\n",
       "      <th>juv_other_count</th>\n",
       "      <th>priors_count</th>\n",
       "      <th>c_charge_degree</th>\n",
       "    </tr>\n",
       "  </thead>\n",
       "  <tbody>\n",
       "    <tr>\n",
       "      <th>0</th>\n",
       "      <td>Male</td>\n",
       "      <td>25 - 45</td>\n",
       "      <td>African-American</td>\n",
       "      <td>0</td>\n",
       "      <td>0</td>\n",
       "      <td>0</td>\n",
       "      <td>(-0.1, 1.0]</td>\n",
       "      <td>F</td>\n",
       "    </tr>\n",
       "    <tr>\n",
       "      <th>1</th>\n",
       "      <td>Male</td>\n",
       "      <td>10-25</td>\n",
       "      <td>African-American</td>\n",
       "      <td>0</td>\n",
       "      <td>0</td>\n",
       "      <td>1</td>\n",
       "      <td>(1.0, 5.0]</td>\n",
       "      <td>F</td>\n",
       "    </tr>\n",
       "    <tr>\n",
       "      <th>2</th>\n",
       "      <td>Male</td>\n",
       "      <td>25 - 45</td>\n",
       "      <td>Caucasian</td>\n",
       "      <td>0</td>\n",
       "      <td>0</td>\n",
       "      <td>0</td>\n",
       "      <td>(10.0, 15.0]</td>\n",
       "      <td>F</td>\n",
       "    </tr>\n",
       "    <tr>\n",
       "      <th>3</th>\n",
       "      <td>Female</td>\n",
       "      <td>25 - 45</td>\n",
       "      <td>Caucasian</td>\n",
       "      <td>0</td>\n",
       "      <td>0</td>\n",
       "      <td>0</td>\n",
       "      <td>(-0.1, 1.0]</td>\n",
       "      <td>M</td>\n",
       "    </tr>\n",
       "    <tr>\n",
       "      <th>4</th>\n",
       "      <td>Male</td>\n",
       "      <td>25 - 45</td>\n",
       "      <td>Caucasian</td>\n",
       "      <td>0</td>\n",
       "      <td>0</td>\n",
       "      <td>0</td>\n",
       "      <td>(-0.1, 1.0]</td>\n",
       "      <td>F</td>\n",
       "    </tr>\n",
       "  </tbody>\n",
       "</table>\n",
       "</div>"
      ],
      "text/plain": [
       "      sex  age_cat              race  juv_fel_count  juv_misd_count  \\\n",
       "0    Male  25 - 45  African-American              0               0   \n",
       "1    Male    10-25  African-American              0               0   \n",
       "2    Male  25 - 45         Caucasian              0               0   \n",
       "3  Female  25 - 45         Caucasian              0               0   \n",
       "4    Male  25 - 45         Caucasian              0               0   \n",
       "\n",
       "   juv_other_count  priors_count c_charge_degree  \n",
       "0                0   (-0.1, 1.0]               F  \n",
       "1                1    (1.0, 5.0]               F  \n",
       "2                0  (10.0, 15.0]               F  \n",
       "3                0   (-0.1, 1.0]               M  \n",
       "4                0   (-0.1, 1.0]               F  "
      ]
     },
     "execution_count": 3,
     "metadata": {},
     "output_type": "execute_result"
    }
   ],
   "source": [
    "X, y = fetch_compas()\n",
    "X['target'] = y.values\n",
    "\n",
    "sensitive_attribute = \"race\"\n",
    "df = clean_dataset(X,'compas')\n",
    "y = df['target']\n",
    "X = df.drop('target', axis=1)\n",
    "\n",
    "X.head()"
   ]
  },
  {
   "attachments": {},
   "cell_type": "markdown",
   "metadata": {},
   "source": [
    "## Model training and test"
   ]
  },
  {
   "cell_type": "code",
   "execution_count": 4,
   "metadata": {
    "tags": []
   },
   "outputs": [],
   "source": [
    "num_features = X._get_numeric_data().columns.to_list()\n",
    "cate_features = X.select_dtypes(include=['object','category']).columns.to_list()\n",
    "\n",
    "X_train, X_test, y_train, y_test = train_test_split(X, y, train_size=0.7, random_state=None, stratify=y)\n",
    "\n",
    "X_train = X_train.reset_index(drop=True)\n",
    "X_test = X_test.reset_index(drop=True)\n",
    "y_train = y_train.reset_index(drop=True)\n",
    "y_test = y_test.reset_index(drop=True)"
   ]
  },
  {
   "cell_type": "code",
   "execution_count": 5,
   "metadata": {
    "tags": []
   },
   "outputs": [
    {
     "name": "stdout",
     "output_type": "stream",
     "text": [
      "Wall time: 109 ms\n"
     ]
    },
    {
     "data": {
      "text/plain": [
       "array([1., 0., 1., 1., 0., 1., 0., 1., 1., 1., 0., 0., 0., 0., 1., 0., 0.,\n",
       "       0., 1., 1., 1., 0., 1., 0., 1., 1., 0., 1., 1., 1., 0., 1., 1., 1.,\n",
       "       1., 1., 0., 0., 0., 1., 1., 0., 1., 1., 1., 0., 1., 1., 0., 0., 1.,\n",
       "       1., 1., 1., 1., 0., 1., 1., 1., 1., 1., 0., 0., 0., 1., 1., 1., 0.,\n",
       "       0., 1., 0., 0., 1., 1., 0., 1., 1., 1., 1., 0., 0., 1., 1., 0., 0.,\n",
       "       1., 1., 1., 0., 1., 1., 0., 0., 1., 1., 0., 0., 1., 0., 1.])"
      ]
     },
     "execution_count": 5,
     "metadata": {},
     "output_type": "execute_result"
    }
   ],
   "source": [
    "%%time\n",
    "\n",
    "model = customLogisticRegression(max_iter = 1500)\n",
    "model.fit(X_train, y_train, cate_columns=cate_features, target_column='target')\n",
    "model.predict(X_test.iloc[:100, :])"
   ]
  },
  {
   "cell_type": "code",
   "execution_count": 6,
   "metadata": {
    "tags": []
   },
   "outputs": [
    {
     "name": "stdout",
     "output_type": "stream",
     "text": [
      "              precision    recall  f1-score   support\n",
      "\n",
      "           0       0.63      0.63      0.63       745\n",
      "           1       0.67      0.68      0.67       837\n",
      "\n",
      "    accuracy                           0.65      1582\n",
      "   macro avg       0.65      0.65      0.65      1582\n",
      "weighted avg       0.65      0.65      0.65      1582\n",
      "\n"
     ]
    }
   ],
   "source": [
    "positive_label = 1\n",
    "negative_label = 0\n",
    "preds = model.predict(X_test)\n",
    "print(classification_report(y_test.map({negative_label: 0, positive_label: 1}), preds))"
   ]
  },
  {
   "cell_type": "code",
   "execution_count": 7,
   "metadata": {
    "tags": []
   },
   "outputs": [
    {
     "data": {
      "image/png": "[encoded data removed]",
      "text/plain": [
       "<Figure size 640x480 with 2 Axes>"
      ]
     },
     "metadata": {},
     "output_type": "display_data"
    }
   ],
   "source": [
    "conf_matrix = confusion_matrix(y_test, preds)\n",
    "cm_disp = ConfusionMatrixDisplay(confusion_matrix=conf_matrix)\n",
    "cm_disp.plot()\n",
    "plt.show()"
   ]
  },
  {
   "attachments": {},
   "cell_type": "markdown",
   "metadata": {},
   "source": [
    "## Find all valid if-thens with all respective coverages and correctness, for all subgroups.\n",
    "\n",
    "**Caution!** This step takes time. Uncomment the following block if you wish to run."
   ]
  },
  {
   "cell_type": "code",
   "execution_count": 8,
   "metadata": {},
   "outputs": [
    {
     "name": "stdout",
     "output_type": "stream",
     "text": [
      "Computing frequent itemsets for each subgroup of the affected instances.\n"
     ]
    },
    {
     "name": "stderr",
     "output_type": "stream",
     "text": [
      "100%|██████████| 2/2 [00:00<00:00, 12.08it/s]"
     ]
    },
    {
     "name": "stdout",
     "output_type": "stream",
     "text": [
      "Computing the intersection between the frequent itemsets of each subgroup of the affected instances.\n"
     ]
    },
    {
     "name": "stderr",
     "output_type": "stream",
     "text": [
      "\n",
      "100%|██████████| 1392/1392 [00:00<00:00, 199469.46it/s]\n"
     ]
    },
    {
     "name": "stdout",
     "output_type": "stream",
     "text": [
      "Computing all valid if-then pairs between the common frequent itemsets of each subgroup of the affected instances and the frequent itemsets of the unaffacted instances.\n"
     ]
    },
    {
     "name": "stderr",
     "output_type": "stream",
     "text": [
      "100%|██████████| 1050/1050 [00:00<00:00, 9817.21it/s]"
     ]
    },
    {
     "name": "stdout",
     "output_type": "stream",
     "text": [
      "Computing correctenesses for all valid if-thens.\n"
     ]
    },
    {
     "name": "stderr",
     "output_type": "stream",
     "text": [
      "\n",
      "100%|██████████| 3831/3831 [00:57<00:00, 66.78it/s]"
     ]
    },
    {
     "name": "stdout",
     "output_type": "stream",
     "text": [
      "Number of if-thens: 3831\n"
     ]
    },
    {
     "name": "stderr",
     "output_type": "stream",
     "text": [
      "\n"
     ]
    }
   ],
   "source": [
    "#Uncomment if you want to find new rules with different support\n",
    "\n",
    "ifthens_coverage_correctness = valid_ifthens_with_coverage_correctness(\n",
    "    X_test,\n",
    "    model=model,\n",
    "    sensitive_attribute='race',\n",
    "    freqitem_minsupp = 0.01,\n",
    "    missing_subgroup_val=\"Unknown\",\n",
    "    drop_infeasible = True,\n",
    "    drop_above = False\n",
    ")\n",
    "\n",
    "print(f\"Number of if-thens: {len(ifthens_coverage_correctness)}\")\n",
    "rules_by_if = rules2rulesbyif(ifthens_coverage_correctness)"
   ]
  },
  {
   "cell_type": "code",
   "execution_count": 16,
   "metadata": {},
   "outputs": [],
   "source": [
    "\n",
    "# from facts.utils import load_rules_by_if,save_rules_by_if\n",
    "# save_rules_by_if(\"rulesCompas_atomic.data\", rules_by_if)"
   ]
  },
  {
   "cell_type": "code",
   "execution_count": 8,
   "metadata": {
    "tags": []
   },
   "outputs": [],
   "source": [
    "# #### Uncomment if you wish to load rules object from disk\n",
    "\n",
    "# import dill\n",
    "\n",
    "# with open(\"rulesCompas_atomic.data\", \"rb\") as inf:\n",
    "#     rules_by_if = dill.load(inf)"
   ]
  },
  {
   "cell_type": "code",
   "execution_count": 11,
   "metadata": {
    "tags": []
   },
   "outputs": [
    {
     "name": "stdout",
     "output_type": "stream",
     "text": [
      "If \u001b[1mjuv_other_count = 3\u001b[0m:\n",
      "\tProtected Subgroup '\u001b[1mAfrican-American\u001b[0m', \u001b[34m1.23%\u001b[39m covered\n",
      "\t\tMake \u001b[1m\u001b[31mjuv_other_count = 0\u001b[39m\u001b[0m with correctness \u001b[32m0.00%\u001b[39m.\n",
      "\tProtected Subgroup '\u001b[1mCaucasian\u001b[0m', \u001b[34m2.38%\u001b[39m covered\n",
      "\t\tMake \u001b[1m\u001b[31mjuv_other_count = 0\u001b[39m\u001b[0m with correctness \u001b[32m100.00%\u001b[39m.\n",
      "If \u001b[1mjuv_fel_count = 0, juv_other_count = 3\u001b[0m:\n",
      "\tProtected Subgroup '\u001b[1mAfrican-American\u001b[0m', \u001b[34m1.23%\u001b[39m covered\n",
      "\t\tMake \u001b[1m\u001b[31mjuv_other_count = 0\u001b[39m\u001b[0m with correctness \u001b[32m0.00%\u001b[39m.\n",
      "\tProtected Subgroup '\u001b[1mCaucasian\u001b[0m', \u001b[34m2.38%\u001b[39m covered\n",
      "\t\tMake \u001b[1m\u001b[31mjuv_other_count = 0\u001b[39m\u001b[0m with correctness \u001b[32m100.00%\u001b[39m.\n",
      "If \u001b[1mc_charge_degree = F, juv_misd_count = 0, juv_other_count = 1, priors_count = (-0.1, 1.0], sex = Male\u001b[0m:\n",
      "\tProtected Subgroup '\u001b[1mAfrican-American\u001b[0m', \u001b[34m1.94%\u001b[39m covered\n",
      "\t\tMake \u001b[1m\u001b[31mjuv_other_count = 0\u001b[39m\u001b[0m with correctness \u001b[32m0.00%\u001b[39m.\n",
      "\t\tMake \u001b[1m\u001b[31mc_charge_degree = M\u001b[39m, \u001b[31mjuv_other_count = 0\u001b[39m\u001b[0m with correctness \u001b[32m100.00%\u001b[39m.\n",
      "\t\tMake \u001b[1m\u001b[31mc_charge_degree = M\u001b[39m, \u001b[31mjuv_other_count = 0\u001b[39m, \u001b[31mpriors_count = (1.0, 5.0]\u001b[39m\u001b[0m with correctness \u001b[32m0.00%\u001b[39m.\n",
      "\t\tMake \u001b[1m\u001b[31mjuv_other_count = 0\u001b[39m, \u001b[31mpriors_count = (1.0, 5.0]\u001b[39m\u001b[0m with correctness \u001b[32m0.00%\u001b[39m.\n",
      "\tProtected Subgroup '\u001b[1mCaucasian\u001b[0m', \u001b[34m2.38%\u001b[39m covered\n",
      "\t\tMake \u001b[1m\u001b[31mjuv_other_count = 0\u001b[39m\u001b[0m with correctness \u001b[32m100.00%\u001b[39m.\n",
      "\t\tMake \u001b[1m\u001b[31mc_charge_degree = M\u001b[39m, \u001b[31mjuv_other_count = 0\u001b[39m\u001b[0m with correctness \u001b[32m100.00%\u001b[39m.\n",
      "\t\tMake \u001b[1m\u001b[31mc_charge_degree = M\u001b[39m, \u001b[31mjuv_other_count = 0\u001b[39m, \u001b[31mpriors_count = (1.0, 5.0]\u001b[39m\u001b[0m with correctness \u001b[32m0.00%\u001b[39m.\n",
      "\t\tMake \u001b[1m\u001b[31mjuv_other_count = 0\u001b[39m, \u001b[31mpriors_count = (1.0, 5.0]\u001b[39m\u001b[0m with correctness \u001b[32m0.00%\u001b[39m.\n",
      "If \u001b[1mc_charge_degree = F, juv_other_count = 1, priors_count = (-0.1, 1.0], sex = Male\u001b[0m:\n",
      "\tProtected Subgroup '\u001b[1mAfrican-American\u001b[0m', \u001b[34m1.94%\u001b[39m covered\n",
      "\t\tMake \u001b[1m\u001b[31mjuv_other_count = 0\u001b[39m\u001b[0m with correctness \u001b[32m0.00%\u001b[39m.\n",
      "\t\tMake \u001b[1m\u001b[31mc_charge_degree = M\u001b[39m, \u001b[31mjuv_other_count = 0\u001b[39m\u001b[0m with correctness \u001b[32m100.00%\u001b[39m.\n",
      "\t\tMake \u001b[1m\u001b[31mc_charge_degree = M\u001b[39m, \u001b[31mjuv_other_count = 0\u001b[39m, \u001b[31mpriors_count = (1.0, 5.0]\u001b[39m\u001b[0m with correctness \u001b[32m0.00%\u001b[39m.\n",
      "\t\tMake \u001b[1m\u001b[31mjuv_other_count = 0\u001b[39m, \u001b[31mpriors_count = (1.0, 5.0]\u001b[39m\u001b[0m with correctness \u001b[32m0.00%\u001b[39m.\n",
      "\tProtected Subgroup '\u001b[1mCaucasian\u001b[0m', \u001b[34m2.38%\u001b[39m covered\n",
      "\t\tMake \u001b[1m\u001b[31mjuv_other_count = 0\u001b[39m\u001b[0m with correctness \u001b[32m100.00%\u001b[39m.\n",
      "\t\tMake \u001b[1m\u001b[31mc_charge_degree = M\u001b[39m, \u001b[31mjuv_other_count = 0\u001b[39m\u001b[0m with correctness \u001b[32m100.00%\u001b[39m.\n",
      "\t\tMake \u001b[1m\u001b[31mc_charge_degree = M\u001b[39m, \u001b[31mjuv_other_count = 0\u001b[39m, \u001b[31mpriors_count = (1.0, 5.0]\u001b[39m\u001b[0m with correctness \u001b[32m0.00%\u001b[39m.\n",
      "\t\tMake \u001b[1m\u001b[31mjuv_other_count = 0\u001b[39m, \u001b[31mpriors_count = (1.0, 5.0]\u001b[39m\u001b[0m with correctness \u001b[32m0.00%\u001b[39m.\n",
      "If \u001b[1mc_charge_degree = F, juv_fel_count = 0, juv_misd_count = 0, juv_other_count = 1, priors_count = (-0.1, 1.0], sex = Male\u001b[0m:\n",
      "\tProtected Subgroup '\u001b[1mAfrican-American\u001b[0m', \u001b[34m1.76%\u001b[39m covered\n",
      "\t\tMake \u001b[1m\u001b[31mjuv_other_count = 0\u001b[39m\u001b[0m with correctness \u001b[32m0.00%\u001b[39m.\n",
      "\t\tMake \u001b[1m\u001b[31mc_charge_degree = M\u001b[39m, \u001b[31mjuv_other_count = 0\u001b[39m\u001b[0m with correctness \u001b[32m100.00%\u001b[39m.\n",
      "\t\tMake \u001b[1m\u001b[31mc_charge_degree = M\u001b[39m, \u001b[31mjuv_other_count = 0\u001b[39m, \u001b[31mpriors_count = (1.0, 5.0]\u001b[39m\u001b[0m with correctness \u001b[32m0.00%\u001b[39m.\n",
      "\t\tMake \u001b[1m\u001b[31mjuv_other_count = 0\u001b[39m, \u001b[31mpriors_count = (1.0, 5.0]\u001b[39m\u001b[0m with correctness \u001b[32m0.00%\u001b[39m.\n",
      "\tProtected Subgroup '\u001b[1mCaucasian\u001b[0m', \u001b[34m2.38%\u001b[39m covered\n",
      "\t\tMake \u001b[1m\u001b[31mjuv_other_count = 0\u001b[39m\u001b[0m with correctness \u001b[32m100.00%\u001b[39m.\n",
      "\t\tMake \u001b[1m\u001b[31mc_charge_degree = M\u001b[39m, \u001b[31mjuv_other_count = 0\u001b[39m\u001b[0m with correctness \u001b[32m100.00%\u001b[39m.\n",
      "\t\tMake \u001b[1m\u001b[31mc_charge_degree = M\u001b[39m, \u001b[31mjuv_other_count = 0\u001b[39m, \u001b[31mpriors_count = (1.0, 5.0]\u001b[39m\u001b[0m with correctness \u001b[32m0.00%\u001b[39m.\n",
      "\t\tMake \u001b[1m\u001b[31mjuv_other_count = 0\u001b[39m, \u001b[31mpriors_count = (1.0, 5.0]\u001b[39m\u001b[0m with correctness \u001b[32m0.00%\u001b[39m.\n",
      "If \u001b[1mc_charge_degree = F, juv_fel_count = 0, juv_other_count = 1, priors_count = (-0.1, 1.0], sex = Male\u001b[0m:\n",
      "\tProtected Subgroup '\u001b[1mAfrican-American\u001b[0m', \u001b[34m1.76%\u001b[39m covered\n",
      "\t\tMake \u001b[1m\u001b[31mjuv_other_count = 0\u001b[39m\u001b[0m with correctness \u001b[32m0.00%\u001b[39m.\n",
      "\t\tMake \u001b[1m\u001b[31mc_charge_degree = M\u001b[39m, \u001b[31mjuv_other_count = 0\u001b[39m\u001b[0m with correctness \u001b[32m100.00%\u001b[39m.\n",
      "\t\tMake \u001b[1m\u001b[31mc_charge_degree = M\u001b[39m, \u001b[31mjuv_other_count = 0\u001b[39m, \u001b[31mpriors_count = (1.0, 5.0]\u001b[39m\u001b[0m with correctness \u001b[32m0.00%\u001b[39m.\n",
      "\t\tMake \u001b[1m\u001b[31mjuv_other_count = 0\u001b[39m, \u001b[31mpriors_count = (1.0, 5.0]\u001b[39m\u001b[0m with correctness \u001b[32m0.00%\u001b[39m.\n",
      "\tProtected Subgroup '\u001b[1mCaucasian\u001b[0m', \u001b[34m2.38%\u001b[39m covered\n",
      "\t\tMake \u001b[1m\u001b[31mjuv_other_count = 0\u001b[39m\u001b[0m with correctness \u001b[32m100.00%\u001b[39m.\n",
      "\t\tMake \u001b[1m\u001b[31mc_charge_degree = M\u001b[39m, \u001b[31mjuv_other_count = 0\u001b[39m\u001b[0m with correctness \u001b[32m100.00%\u001b[39m.\n",
      "\t\tMake \u001b[1m\u001b[31mc_charge_degree = M\u001b[39m, \u001b[31mjuv_other_count = 0\u001b[39m, \u001b[31mpriors_count = (1.0, 5.0]\u001b[39m\u001b[0m with correctness \u001b[32m0.00%\u001b[39m.\n",
      "\t\tMake \u001b[1m\u001b[31mjuv_other_count = 0\u001b[39m, \u001b[31mpriors_count = (1.0, 5.0]\u001b[39m\u001b[0m with correctness \u001b[32m0.00%\u001b[39m.\n",
      "If \u001b[1mc_charge_degree = F, juv_other_count = 1, priors_count = (-0.1, 1.0]\u001b[0m:\n",
      "\tProtected Subgroup '\u001b[1mAfrican-American\u001b[0m', \u001b[34m2.11%\u001b[39m covered\n",
      "\t\tMake \u001b[1m\u001b[31mjuv_other_count = 0\u001b[39m\u001b[0m with correctness \u001b[32m8.33%\u001b[39m.\n",
      "\t\tMake \u001b[1m\u001b[31mc_charge_degree = M\u001b[39m, \u001b[31mjuv_other_count = 0\u001b[39m\u001b[0m with correctness \u001b[32m100.00%\u001b[39m.\n",
      "\t\tMake \u001b[1m\u001b[31mjuv_other_count = 0\u001b[39m, \u001b[31mpriors_count = (1.0, 5.0]\u001b[39m\u001b[0m with correctness \u001b[32m0.00%\u001b[39m.\n",
      "\t\tMake \u001b[1m\u001b[31mc_charge_degree = M\u001b[39m, \u001b[31mjuv_other_count = 0\u001b[39m, \u001b[31mpriors_count = (1.0, 5.0]\u001b[39m\u001b[0m with correctness \u001b[32m0.00%\u001b[39m.\n",
      "\tProtected Subgroup '\u001b[1mCaucasian\u001b[0m', \u001b[34m2.38%\u001b[39m covered\n",
      "\t\tMake \u001b[1m\u001b[31mjuv_other_count = 0\u001b[39m\u001b[0m with correctness \u001b[32m100.00%\u001b[39m.\n",
      "\t\tMake \u001b[1m\u001b[31mc_charge_degree = M\u001b[39m, \u001b[31mjuv_other_count = 0\u001b[39m\u001b[0m with correctness \u001b[32m100.00%\u001b[39m.\n",
      "\t\tMake \u001b[1m\u001b[31mjuv_other_count = 0\u001b[39m, \u001b[31mpriors_count = (1.0, 5.0]\u001b[39m\u001b[0m with correctness \u001b[32m0.00%\u001b[39m.\n",
      "\t\tMake \u001b[1m\u001b[31mc_charge_degree = M\u001b[39m, \u001b[31mjuv_other_count = 0\u001b[39m, \u001b[31mpriors_count = (1.0, 5.0]\u001b[39m\u001b[0m with correctness \u001b[32m0.00%\u001b[39m.\n",
      "If \u001b[1mc_charge_degree = F, juv_misd_count = 0, juv_other_count = 1, priors_count = (-0.1, 1.0]\u001b[0m:\n",
      "\tProtected Subgroup '\u001b[1mAfrican-American\u001b[0m', \u001b[34m2.11%\u001b[39m covered\n",
      "\t\tMake \u001b[1m\u001b[31mjuv_other_count = 0\u001b[39m\u001b[0m with correctness \u001b[32m8.33%\u001b[39m.\n",
      "\t\tMake \u001b[1m\u001b[31mc_charge_degree = M\u001b[39m, \u001b[31mjuv_other_count = 0\u001b[39m\u001b[0m with correctness \u001b[32m100.00%\u001b[39m.\n",
      "\t\tMake \u001b[1m\u001b[31mjuv_other_count = 0\u001b[39m, \u001b[31mpriors_count = (1.0, 5.0]\u001b[39m\u001b[0m with correctness \u001b[32m0.00%\u001b[39m.\n",
      "\t\tMake \u001b[1m\u001b[31mc_charge_degree = M\u001b[39m, \u001b[31mjuv_other_count = 0\u001b[39m, \u001b[31mpriors_count = (1.0, 5.0]\u001b[39m\u001b[0m with correctness \u001b[32m0.00%\u001b[39m.\n",
      "\tProtected Subgroup '\u001b[1mCaucasian\u001b[0m', \u001b[34m2.38%\u001b[39m covered\n",
      "\t\tMake \u001b[1m\u001b[31mjuv_other_count = 0\u001b[39m\u001b[0m with correctness \u001b[32m100.00%\u001b[39m.\n",
      "\t\tMake \u001b[1m\u001b[31mc_charge_degree = M\u001b[39m, \u001b[31mjuv_other_count = 0\u001b[39m\u001b[0m with correctness \u001b[32m100.00%\u001b[39m.\n",
      "\t\tMake \u001b[1m\u001b[31mjuv_other_count = 0\u001b[39m, \u001b[31mpriors_count = (1.0, 5.0]\u001b[39m\u001b[0m with correctness \u001b[32m0.00%\u001b[39m.\n",
      "\t\tMake \u001b[1m\u001b[31mc_charge_degree = M\u001b[39m, \u001b[31mjuv_other_count = 0\u001b[39m, \u001b[31mpriors_count = (1.0, 5.0]\u001b[39m\u001b[0m with correctness \u001b[32m0.00%\u001b[39m.\n",
      "If \u001b[1mc_charge_degree = F, juv_fel_count = 0, juv_misd_count = 0, juv_other_count = 1, priors_count = (-0.1, 1.0]\u001b[0m:\n",
      "\tProtected Subgroup '\u001b[1mAfrican-American\u001b[0m', \u001b[34m1.94%\u001b[39m covered\n",
      "\t\tMake \u001b[1m\u001b[31mjuv_other_count = 0\u001b[39m\u001b[0m with correctness \u001b[32m9.09%\u001b[39m.\n",
      "\t\tMake \u001b[1m\u001b[31mc_charge_degree = M\u001b[39m, \u001b[31mjuv_other_count = 0\u001b[39m\u001b[0m with correctness \u001b[32m100.00%\u001b[39m.\n",
      "\t\tMake \u001b[1m\u001b[31mjuv_other_count = 0\u001b[39m, \u001b[31mpriors_count = (1.0, 5.0]\u001b[39m\u001b[0m with correctness \u001b[32m0.00%\u001b[39m.\n",
      "\t\tMake \u001b[1m\u001b[31mc_charge_degree = M\u001b[39m, \u001b[31mjuv_other_count = 0\u001b[39m, \u001b[31mpriors_count = (1.0, 5.0]\u001b[39m\u001b[0m with correctness \u001b[32m0.00%\u001b[39m.\n",
      "\tProtected Subgroup '\u001b[1mCaucasian\u001b[0m', \u001b[34m2.38%\u001b[39m covered\n",
      "\t\tMake \u001b[1m\u001b[31mjuv_other_count = 0\u001b[39m\u001b[0m with correctness \u001b[32m100.00%\u001b[39m.\n",
      "\t\tMake \u001b[1m\u001b[31mc_charge_degree = M\u001b[39m, \u001b[31mjuv_other_count = 0\u001b[39m\u001b[0m with correctness \u001b[32m100.00%\u001b[39m.\n",
      "\t\tMake \u001b[1m\u001b[31mjuv_other_count = 0\u001b[39m, \u001b[31mpriors_count = (1.0, 5.0]\u001b[39m\u001b[0m with correctness \u001b[32m0.00%\u001b[39m.\n",
      "\t\tMake \u001b[1m\u001b[31mc_charge_degree = M\u001b[39m, \u001b[31mjuv_other_count = 0\u001b[39m, \u001b[31mpriors_count = (1.0, 5.0]\u001b[39m\u001b[0m with correctness \u001b[32m0.00%\u001b[39m.\n",
      "If \u001b[1mc_charge_degree = F, juv_fel_count = 0, juv_other_count = 1, priors_count = (-0.1, 1.0]\u001b[0m:\n",
      "\tProtected Subgroup '\u001b[1mAfrican-American\u001b[0m', \u001b[34m1.94%\u001b[39m covered\n",
      "\t\tMake \u001b[1m\u001b[31mjuv_other_count = 0\u001b[39m\u001b[0m with correctness \u001b[32m9.09%\u001b[39m.\n",
      "\t\tMake \u001b[1m\u001b[31mc_charge_degree = M\u001b[39m, \u001b[31mjuv_other_count = 0\u001b[39m\u001b[0m with correctness \u001b[32m100.00%\u001b[39m.\n",
      "\t\tMake \u001b[1m\u001b[31mjuv_other_count = 0\u001b[39m, \u001b[31mpriors_count = (1.0, 5.0]\u001b[39m\u001b[0m with correctness \u001b[32m0.00%\u001b[39m.\n",
      "\t\tMake \u001b[1m\u001b[31mc_charge_degree = M\u001b[39m, \u001b[31mjuv_other_count = 0\u001b[39m, \u001b[31mpriors_count = (1.0, 5.0]\u001b[39m\u001b[0m with correctness \u001b[32m0.00%\u001b[39m.\n",
      "\tProtected Subgroup '\u001b[1mCaucasian\u001b[0m', \u001b[34m2.38%\u001b[39m covered\n",
      "\t\tMake \u001b[1m\u001b[31mjuv_other_count = 0\u001b[39m\u001b[0m with correctness \u001b[32m100.00%\u001b[39m.\n",
      "\t\tMake \u001b[1m\u001b[31mc_charge_degree = M\u001b[39m, \u001b[31mjuv_other_count = 0\u001b[39m\u001b[0m with correctness \u001b[32m100.00%\u001b[39m.\n",
      "\t\tMake \u001b[1m\u001b[31mjuv_other_count = 0\u001b[39m, \u001b[31mpriors_count = (1.0, 5.0]\u001b[39m\u001b[0m with correctness \u001b[32m0.00%\u001b[39m.\n",
      "\t\tMake \u001b[1m\u001b[31mc_charge_degree = M\u001b[39m, \u001b[31mjuv_other_count = 0\u001b[39m, \u001b[31mpriors_count = (1.0, 5.0]\u001b[39m\u001b[0m with correctness \u001b[32m0.00%\u001b[39m.\n",
      "\n"
     ]
    }
   ],
   "source": [
    "K = 10\n",
    "\n",
    "# keep K ifs with maximum coverage on Females\n",
    "# TODO: the below is currently dataset dependent\n",
    "# rules_by_if_filtered = sorted(rules_by_if.items(), key=lambda e: e[1][\"F\"][0][1], reverse=True)[:K]\n",
    "\n",
    "# keep K ifs with maximum absolute difference in correctness between Males and Females.\n",
    "# TODO: the below is currently dataset dependent\n",
    "rules_by_if_filtered = sorted(rules_by_if.items(), key=lambda e: abs(e[1][\"Caucasian\"][1][0][1]-e[1][\"African-American\"][1][0][1]), reverse=True)[:K]\n",
    "\n",
    "rules_by_if_filtered = dict(rules_by_if_filtered)\n",
    "\n",
    "print(recourse_report_reverse(rules_by_if_filtered))"
   ]
  },
  {
   "attachments": {},
   "cell_type": "markdown",
   "metadata": {},
   "source": [
    "# Filter rules by different fairness definitions\n",
    "\n",
    "Here, we explore more sophisticated ways of picking the \"top\" K rules and showing only those.\n",
    "\n",
    "We start ranking the rule \"groups\" (all recourses for a single \"if\") by averaging out the costs of all suggested recourses, weighted by the respective correctness. For now, the \"cost\" of a recourse is simply the number of features whose value changes (and the magnitude of the change for numerical features, but here there are none)."
   ]
  },
  {
   "cell_type": "code",
   "execution_count": 13,
   "metadata": {
    "tags": []
   },
   "outputs": [],
   "source": [
    "num_features = X._get_numeric_data().columns.to_list()\n",
    "cate_features = X.select_dtypes(include=['object','category']).columns.to_list()\n",
    "ord_features = []\n",
    "feature_weights = {'sex':100,\t'age_cat':10,\t'race':100,\t'juv_fel_count':1,\t'juv_fel_count':1,\t'juv_other_count':1,\t'priors_count':1,\t'c_charge_degree':1}\n",
    "\n",
    "features_with_binary_cost = cate_features\n",
    "features_with_proportional_cost = num_features\n",
    "\n",
    "\n",
    "comparators = facts.feature_change_builder(\n",
    "    X,\n",
    "    num_cols=features_with_proportional_cost,\n",
    "    cate_cols=features_with_binary_cost,\n",
    "    ord_cols=ord_features,\n",
    "    feature_weights=feature_weights,\n",
    "    num_normalization=False,\n",
    "    #feats_to_normalize = [\"capital-gain\",\"capital-loss\"]\n",
    ")\n",
    "params = ParameterProxy(featureChanges=comparators)"
   ]
  },
  {
   "attachments": {},
   "cell_type": "markdown",
   "metadata": {},
   "source": [
    "## Weighted Average Score"
   ]
  },
  {
   "cell_type": "code",
   "execution_count": 14,
   "metadata": {
    "tags": []
   },
   "outputs": [
    {
     "name": "stdout",
     "output_type": "stream",
     "text": [
      "If \u001b[1mjuv_other_count = 3\u001b[0m:\n",
      "\tProtected Subgroup '\u001b[1mAfrican-American\u001b[0m', \u001b[34m1.23%\u001b[39m covered out of 3173\n",
      "\t\tMake \u001b[1m\u001b[31mjuv_other_count = 0\u001b[39m\u001b[0m with correctness \u001b[32m0.00%\u001b[39m.\n",
      "\t\t\u001b[1mAggregate cost\u001b[0m of the above recourses = \u001b[35m0.00\u001b[39m\n",
      "\tProtected Subgroup '\u001b[1mCaucasian\u001b[0m', \u001b[34m2.38%\u001b[39m covered out of 2100\n",
      "\t\tMake \u001b[1m\u001b[31mjuv_other_count = 0\u001b[39m\u001b[0m with correctness \u001b[32m100.00%\u001b[39m.\n",
      "\t\t\u001b[1mAggregate cost\u001b[0m of the above recourses = \u001b[35m-1.00\u001b[39m\n",
      "\t\u001b[35mBias against African-American. Unfairness score = 1.0.\u001b[39m\n",
      "If \u001b[1mjuv_fel_count = 0, juv_other_count = 3\u001b[0m:\n",
      "\tProtected Subgroup '\u001b[1mAfrican-American\u001b[0m', \u001b[34m1.23%\u001b[39m covered out of 3173\n",
      "\t\tMake \u001b[1m\u001b[31mjuv_other_count = 0\u001b[39m\u001b[0m with correctness \u001b[32m0.00%\u001b[39m.\n",
      "\t\t\u001b[1mAggregate cost\u001b[0m of the above recourses = \u001b[35m0.00\u001b[39m\n",
      "\tProtected Subgroup '\u001b[1mCaucasian\u001b[0m', \u001b[34m2.38%\u001b[39m covered out of 2100\n",
      "\t\tMake \u001b[1m\u001b[31mjuv_other_count = 0\u001b[39m\u001b[0m with correctness \u001b[32m100.00%\u001b[39m.\n",
      "\t\t\u001b[1mAggregate cost\u001b[0m of the above recourses = \u001b[35m-1.00\u001b[39m\n",
      "\t\u001b[35mBias against African-American. Unfairness score = 1.0.\u001b[39m\n",
      "If \u001b[1mage_cat = 25 - 45, juv_fel_count = 0, juv_other_count = 0, sex = Female\u001b[0m:\n",
      "\tProtected Subgroup '\u001b[1mAfrican-American\u001b[0m', \u001b[34m3.35%\u001b[39m covered out of 3173\n",
      "\t\tMake \u001b[1m\u001b[31mage_cat = Greater than 45\u001b[39m\u001b[0m with correctness \u001b[32m0.00%\u001b[39m.\n",
      "\t\t\u001b[1mAggregate cost\u001b[0m of the above recourses = \u001b[35m0.00\u001b[39m\n",
      "\tProtected Subgroup '\u001b[1mCaucasian\u001b[0m', \u001b[34m3.57%\u001b[39m covered out of 2100\n",
      "\t\tMake \u001b[1m\u001b[31mage_cat = Greater than 45\u001b[39m\u001b[0m with correctness \u001b[32m66.67%\u001b[39m.\n",
      "\t\t\u001b[1mAggregate cost\u001b[0m of the above recourses = \u001b[35m-0.67\u001b[39m\n",
      "\t\u001b[35mBias against African-American. Unfairness score = 0.67.\u001b[39m\n",
      "If \u001b[1mage_cat = 25 - 45, juv_other_count = 0, sex = Female\u001b[0m:\n",
      "\tProtected Subgroup '\u001b[1mAfrican-American\u001b[0m', \u001b[34m3.35%\u001b[39m covered out of 3173\n",
      "\t\tMake \u001b[1m\u001b[31mage_cat = Greater than 45\u001b[39m\u001b[0m with correctness \u001b[32m0.00%\u001b[39m.\n",
      "\t\t\u001b[1mAggregate cost\u001b[0m of the above recourses = \u001b[35m0.00\u001b[39m\n",
      "\tProtected Subgroup '\u001b[1mCaucasian\u001b[0m', \u001b[34m3.57%\u001b[39m covered out of 2100\n",
      "\t\tMake \u001b[1m\u001b[31mage_cat = Greater than 45\u001b[39m\u001b[0m with correctness \u001b[32m66.67%\u001b[39m.\n",
      "\t\t\u001b[1mAggregate cost\u001b[0m of the above recourses = \u001b[35m-0.67\u001b[39m\n",
      "\t\u001b[35mBias against African-American. Unfairness score = 0.67.\u001b[39m\n",
      "If \u001b[1mage_cat = 25 - 45, juv_fel_count = 0, juv_misd_count = 0, juv_other_count = 0, sex = Female\u001b[0m:\n",
      "\tProtected Subgroup '\u001b[1mAfrican-American\u001b[0m', \u001b[34m2.64%\u001b[39m covered out of 3173\n",
      "\t\tMake \u001b[1m\u001b[31mage_cat = Greater than 45\u001b[39m\u001b[0m with correctness \u001b[32m0.00%\u001b[39m.\n",
      "\t\t\u001b[1mAggregate cost\u001b[0m of the above recourses = \u001b[35m0.00\u001b[39m\n",
      "\tProtected Subgroup '\u001b[1mCaucasian\u001b[0m', \u001b[34m3.57%\u001b[39m covered out of 2100\n",
      "\t\tMake \u001b[1m\u001b[31mage_cat = Greater than 45\u001b[39m\u001b[0m with correctness \u001b[32m66.67%\u001b[39m.\n",
      "\t\t\u001b[1mAggregate cost\u001b[0m of the above recourses = \u001b[35m-0.67\u001b[39m\n",
      "\t\u001b[35mBias against African-American. Unfairness score = 0.67.\u001b[39m\n",
      "If \u001b[1mage_cat = 25 - 45, juv_misd_count = 0, juv_other_count = 0, sex = Female\u001b[0m:\n",
      "\tProtected Subgroup '\u001b[1mAfrican-American\u001b[0m', \u001b[34m2.64%\u001b[39m covered out of 3173\n",
      "\t\tMake \u001b[1m\u001b[31mage_cat = Greater than 45\u001b[39m\u001b[0m with correctness \u001b[32m0.00%\u001b[39m.\n",
      "\t\t\u001b[1mAggregate cost\u001b[0m of the above recourses = \u001b[35m0.00\u001b[39m\n",
      "\tProtected Subgroup '\u001b[1mCaucasian\u001b[0m', \u001b[34m3.57%\u001b[39m covered out of 2100\n",
      "\t\tMake \u001b[1m\u001b[31mage_cat = Greater than 45\u001b[39m\u001b[0m with correctness \u001b[32m66.67%\u001b[39m.\n",
      "\t\t\u001b[1mAggregate cost\u001b[0m of the above recourses = \u001b[35m-0.67\u001b[39m\n",
      "\t\u001b[35mBias against African-American. Unfairness score = 0.67.\u001b[39m\n",
      "If \u001b[1mage_cat = 25 - 45, sex = Female\u001b[0m:\n",
      "\tProtected Subgroup '\u001b[1mAfrican-American\u001b[0m', \u001b[34m3.70%\u001b[39m covered out of 3173\n",
      "\t\tMake \u001b[1m\u001b[31mage_cat = Greater than 45\u001b[39m\u001b[0m with correctness \u001b[32m4.76%\u001b[39m.\n",
      "\t\t\u001b[1mAggregate cost\u001b[0m of the above recourses = \u001b[35m-0.05\u001b[39m\n",
      "\tProtected Subgroup '\u001b[1mCaucasian\u001b[0m', \u001b[34m4.17%\u001b[39m covered out of 2100\n",
      "\t\tMake \u001b[1m\u001b[31mage_cat = Greater than 45\u001b[39m\u001b[0m with correctness \u001b[32m57.14%\u001b[39m.\n",
      "\t\t\u001b[1mAggregate cost\u001b[0m of the above recourses = \u001b[35m-0.57\u001b[39m\n",
      "\t\u001b[35mBias against African-American. Unfairness score = 0.52.\u001b[39m\n",
      "If \u001b[1mage_cat = 25 - 45, juv_fel_count = 0, sex = Female\u001b[0m:\n",
      "\tProtected Subgroup '\u001b[1mAfrican-American\u001b[0m', \u001b[34m3.70%\u001b[39m covered out of 3173\n",
      "\t\tMake \u001b[1m\u001b[31mage_cat = Greater than 45\u001b[39m\u001b[0m with correctness \u001b[32m4.76%\u001b[39m.\n",
      "\t\t\u001b[1mAggregate cost\u001b[0m of the above recourses = \u001b[35m-0.05\u001b[39m\n",
      "\tProtected Subgroup '\u001b[1mCaucasian\u001b[0m', \u001b[34m4.17%\u001b[39m covered out of 2100\n",
      "\t\tMake \u001b[1m\u001b[31mage_cat = Greater than 45\u001b[39m\u001b[0m with correctness \u001b[32m57.14%\u001b[39m.\n",
      "\t\t\u001b[1mAggregate cost\u001b[0m of the above recourses = \u001b[35m-0.57\u001b[39m\n",
      "\t\u001b[35mBias against African-American. Unfairness score = 0.52.\u001b[39m\n",
      "If \u001b[1mage_cat = 25 - 45, juv_misd_count = 0, sex = Female\u001b[0m:\n",
      "\tProtected Subgroup '\u001b[1mAfrican-American\u001b[0m', \u001b[34m2.99%\u001b[39m covered out of 3173\n",
      "\t\tMake \u001b[1m\u001b[31mage_cat = Greater than 45\u001b[39m\u001b[0m with correctness \u001b[32m5.88%\u001b[39m.\n",
      "\t\t\u001b[1mAggregate cost\u001b[0m of the above recourses = \u001b[35m-0.06\u001b[39m\n",
      "\tProtected Subgroup '\u001b[1mCaucasian\u001b[0m', \u001b[34m4.17%\u001b[39m covered out of 2100\n",
      "\t\tMake \u001b[1m\u001b[31mage_cat = Greater than 45\u001b[39m\u001b[0m with correctness \u001b[32m57.14%\u001b[39m.\n",
      "\t\t\u001b[1mAggregate cost\u001b[0m of the above recourses = \u001b[35m-0.57\u001b[39m\n",
      "\t\u001b[35mBias against African-American. Unfairness score = 0.51.\u001b[39m\n",
      "If \u001b[1mage_cat = 25 - 45, juv_fel_count = 0, juv_misd_count = 0, sex = Female\u001b[0m:\n",
      "\tProtected Subgroup '\u001b[1mAfrican-American\u001b[0m', \u001b[34m2.99%\u001b[39m covered out of 3173\n",
      "\t\tMake \u001b[1m\u001b[31mage_cat = Greater than 45\u001b[39m\u001b[0m with correctness \u001b[32m5.88%\u001b[39m.\n",
      "\t\t\u001b[1mAggregate cost\u001b[0m of the above recourses = \u001b[35m-0.06\u001b[39m\n",
      "\tProtected Subgroup '\u001b[1mCaucasian\u001b[0m', \u001b[34m4.17%\u001b[39m covered out of 2100\n",
      "\t\tMake \u001b[1m\u001b[31mage_cat = Greater than 45\u001b[39m\u001b[0m with correctness \u001b[32m57.14%\u001b[39m.\n",
      "\t\t\u001b[1mAggregate cost\u001b[0m of the above recourses = \u001b[35m-0.57\u001b[39m\n",
      "\t\u001b[35mBias against African-American. Unfairness score = 0.51.\u001b[39m\n",
      "\n"
     ]
    }
   ],
   "source": [
    "top_rules, subgroup_costs = facts.select_rules_subset(\n",
    "    rules_by_if,\n",
    "    metric = \"weighted-average\",\n",
    "    sort_strategy = \"abs-diff-decr\",\n",
    "    top_count = 10\n",
    ")\n",
    "\n",
    "pop_sizes = {sg: (X[\"race\"] == sg).sum() for sg in X[\"race\"].unique()}\n",
    "print(recourse_report_reverse(\n",
    "    top_rules,\n",
    "    population_sizes=pop_sizes,\n",
    "    subgroup_costs=subgroup_costs,\n",
    "    show_subgroup_costs=True\n",
    "))"
   ]
  },
  {
   "attachments": {},
   "cell_type": "markdown",
   "metadata": {},
   "source": [
    "## Minimum cost above threshold"
   ]
  },
  {
   "cell_type": "code",
   "execution_count": 15,
   "metadata": {
    "tags": []
   },
   "outputs": [
    {
     "name": "stdout",
     "output_type": "stream",
     "text": [
      "If \u001b[1mage_cat = 25 - 45\u001b[0m:\n",
      "\tProtected Subgroup '\u001b[1mAfrican-American\u001b[0m', \u001b[34m61.44%\u001b[39m covered out of 3173\n",
      "\t\t\u001b[31mNo recourses for this subgroup!\n",
      "\u001b[39m\t\t\u001b[1mAggregate cost\u001b[0m of the above recourses = \u001b[35minf\u001b[39m\n",
      "\tProtected Subgroup '\u001b[1mCaucasian\u001b[0m', \u001b[34m61.31%\u001b[39m covered out of 2100\n",
      "\t\tMake \u001b[1m\u001b[31mage_cat = Greater than 45\u001b[39m\u001b[0m with correctness \u001b[32m58.25%\u001b[39m.\n",
      "\t\t\u001b[1mAggregate cost\u001b[0m of the above recourses = \u001b[35m1.00\u001b[39m\n",
      "\t\u001b[35mBias against African-American. Unfairness score = inf.\u001b[39m\n",
      "If \u001b[1mage_cat = 25 - 45, sex = Male\u001b[0m:\n",
      "\tProtected Subgroup '\u001b[1mAfrican-American\u001b[0m', \u001b[34m57.75%\u001b[39m covered out of 3173\n",
      "\t\t\u001b[31mNo recourses for this subgroup!\n",
      "\u001b[39m\t\t\u001b[1mAggregate cost\u001b[0m of the above recourses = \u001b[35minf\u001b[39m\n",
      "\tProtected Subgroup '\u001b[1mCaucasian\u001b[0m', \u001b[34m57.14%\u001b[39m covered out of 2100\n",
      "\t\tMake \u001b[1m\u001b[31mage_cat = Greater than 45\u001b[39m\u001b[0m with correctness \u001b[32m58.33%\u001b[39m.\n",
      "\t\t\u001b[1mAggregate cost\u001b[0m of the above recourses = \u001b[35m1.00\u001b[39m\n",
      "\t\u001b[35mBias against African-American. Unfairness score = inf.\u001b[39m\n",
      "If \u001b[1mage_cat = 25 - 45, juv_fel_count = 0\u001b[0m:\n",
      "\tProtected Subgroup '\u001b[1mAfrican-American\u001b[0m', \u001b[34m56.69%\u001b[39m covered out of 3173\n",
      "\t\t\u001b[31mNo recourses for this subgroup!\n",
      "\u001b[39m\t\t\u001b[1mAggregate cost\u001b[0m of the above recourses = \u001b[35minf\u001b[39m\n",
      "\tProtected Subgroup '\u001b[1mCaucasian\u001b[0m', \u001b[34m60.12%\u001b[39m covered out of 2100\n",
      "\t\tMake \u001b[1m\u001b[31mage_cat = Greater than 45\u001b[39m\u001b[0m with correctness \u001b[32m59.41%\u001b[39m.\n",
      "\t\t\u001b[1mAggregate cost\u001b[0m of the above recourses = \u001b[35m1.00\u001b[39m\n",
      "\t\u001b[35mBias against African-American. Unfairness score = inf.\u001b[39m\n",
      "If \u001b[1mc_charge_degree = F, juv_misd_count = 0, juv_other_count = 0, sex = Male\u001b[0m:\n",
      "\tProtected Subgroup '\u001b[1mAfrican-American\u001b[0m', \u001b[34m55.99%\u001b[39m covered out of 3173\n",
      "\t\t\u001b[31mNo recourses for this subgroup!\n",
      "\u001b[39m\t\t\u001b[1mAggregate cost\u001b[0m of the above recourses = \u001b[35minf\u001b[39m\n",
      "\tProtected Subgroup '\u001b[1mCaucasian\u001b[0m', \u001b[34m60.12%\u001b[39m covered out of 2100\n",
      "\t\tMake \u001b[1m\u001b[31mc_charge_degree = M\u001b[39m\u001b[0m with correctness \u001b[32m50.50%\u001b[39m.\n",
      "\t\t\u001b[1mAggregate cost\u001b[0m of the above recourses = \u001b[35m1.00\u001b[39m\n",
      "\t\u001b[35mBias against African-American. Unfairness score = inf.\u001b[39m\n",
      "If \u001b[1mage_cat = 25 - 45, juv_other_count = 0\u001b[0m:\n",
      "\tProtected Subgroup '\u001b[1mAfrican-American\u001b[0m', \u001b[34m54.23%\u001b[39m covered out of 3173\n",
      "\t\t\u001b[31mNo recourses for this subgroup!\n",
      "\u001b[39m\t\t\u001b[1mAggregate cost\u001b[0m of the above recourses = \u001b[35minf\u001b[39m\n",
      "\tProtected Subgroup '\u001b[1mCaucasian\u001b[0m', \u001b[34m55.95%\u001b[39m covered out of 2100\n",
      "\t\tMake \u001b[1m\u001b[31mage_cat = Greater than 45\u001b[39m\u001b[0m with correctness \u001b[32m58.51%\u001b[39m.\n",
      "\t\t\u001b[1mAggregate cost\u001b[0m of the above recourses = \u001b[35m1.00\u001b[39m\n",
      "\t\u001b[35mBias against African-American. Unfairness score = inf.\u001b[39m\n",
      "If \u001b[1mage_cat = 25 - 45, juv_fel_count = 0, sex = Male\u001b[0m:\n",
      "\tProtected Subgroup '\u001b[1mAfrican-American\u001b[0m', \u001b[34m52.99%\u001b[39m covered out of 3173\n",
      "\t\t\u001b[31mNo recourses for this subgroup!\n",
      "\u001b[39m\t\t\u001b[1mAggregate cost\u001b[0m of the above recourses = \u001b[35minf\u001b[39m\n",
      "\tProtected Subgroup '\u001b[1mCaucasian\u001b[0m', \u001b[34m55.95%\u001b[39m covered out of 2100\n",
      "\t\tMake \u001b[1m\u001b[31mage_cat = Greater than 45\u001b[39m\u001b[0m with correctness \u001b[32m59.57%\u001b[39m.\n",
      "\t\t\u001b[1mAggregate cost\u001b[0m of the above recourses = \u001b[35m1.00\u001b[39m\n",
      "\t\u001b[35mBias against African-American. Unfairness score = inf.\u001b[39m\n",
      "If \u001b[1mc_charge_degree = F, juv_fel_count = 0, juv_misd_count = 0, juv_other_count = 0, sex = Male\u001b[0m:\n",
      "\tProtected Subgroup '\u001b[1mAfrican-American\u001b[0m', \u001b[34m52.46%\u001b[39m covered out of 3173\n",
      "\t\t\u001b[31mNo recourses for this subgroup!\n",
      "\u001b[39m\t\t\u001b[1mAggregate cost\u001b[0m of the above recourses = \u001b[35minf\u001b[39m\n",
      "\tProtected Subgroup '\u001b[1mCaucasian\u001b[0m', \u001b[34m60.12%\u001b[39m covered out of 2100\n",
      "\t\tMake \u001b[1m\u001b[31mc_charge_degree = M\u001b[39m\u001b[0m with correctness \u001b[32m50.50%\u001b[39m.\n",
      "\t\t\u001b[1mAggregate cost\u001b[0m of the above recourses = \u001b[35m1.00\u001b[39m\n",
      "\t\u001b[35mBias against African-American. Unfairness score = inf.\u001b[39m\n",
      "If \u001b[1mage_cat = 25 - 45, juv_other_count = 0, sex = Male\u001b[0m:\n",
      "\tProtected Subgroup '\u001b[1mAfrican-American\u001b[0m', \u001b[34m50.88%\u001b[39m covered out of 3173\n",
      "\t\t\u001b[31mNo recourses for this subgroup!\n",
      "\u001b[39m\t\t\u001b[1mAggregate cost\u001b[0m of the above recourses = \u001b[35minf\u001b[39m\n",
      "\tProtected Subgroup '\u001b[1mCaucasian\u001b[0m', \u001b[34m52.38%\u001b[39m covered out of 2100\n",
      "\t\tMake \u001b[1m\u001b[31mage_cat = Greater than 45\u001b[39m\u001b[0m with correctness \u001b[32m57.95%\u001b[39m.\n",
      "\t\t\u001b[1mAggregate cost\u001b[0m of the above recourses = \u001b[35m1.00\u001b[39m\n",
      "\t\u001b[35mBias against African-American. Unfairness score = inf.\u001b[39m\n",
      "If \u001b[1mage_cat = 25 - 45, juv_fel_count = 0, juv_other_count = 0\u001b[0m:\n",
      "\tProtected Subgroup '\u001b[1mAfrican-American\u001b[0m', \u001b[34m50.35%\u001b[39m covered out of 3173\n",
      "\t\t\u001b[31mNo recourses for this subgroup!\n",
      "\u001b[39m\t\t\u001b[1mAggregate cost\u001b[0m of the above recourses = \u001b[35minf\u001b[39m\n",
      "\tProtected Subgroup '\u001b[1mCaucasian\u001b[0m', \u001b[34m54.76%\u001b[39m covered out of 2100\n",
      "\t\tMake \u001b[1m\u001b[31mage_cat = Greater than 45\u001b[39m\u001b[0m with correctness \u001b[32m59.78%\u001b[39m.\n",
      "\t\t\u001b[1mAggregate cost\u001b[0m of the above recourses = \u001b[35m1.00\u001b[39m\n",
      "\t\u001b[35mBias against African-American. Unfairness score = inf.\u001b[39m\n",
      "If \u001b[1mage_cat = 25 - 45, c_charge_degree = F\u001b[0m:\n",
      "\tProtected Subgroup '\u001b[1mAfrican-American\u001b[0m', \u001b[34m46.13%\u001b[39m covered out of 3173\n",
      "\t\t\u001b[31mNo recourses for this subgroup!\n",
      "\u001b[39m\t\t\u001b[1mAggregate cost\u001b[0m of the above recourses = \u001b[35minf\u001b[39m\n",
      "\tProtected Subgroup '\u001b[1mCaucasian\u001b[0m', \u001b[34m51.79%\u001b[39m covered out of 2100\n",
      "\t\tMake \u001b[1m\u001b[31mc_charge_degree = M\u001b[39m\u001b[0m with correctness \u001b[32m58.62%\u001b[39m.\n",
      "\t\tMake \u001b[1m\u001b[31mage_cat = Greater than 45\u001b[39m\u001b[0m with correctness \u001b[32m63.22%\u001b[39m.\n",
      "\t\tMake \u001b[1m\u001b[31mage_cat = Greater than 45\u001b[39m, \u001b[31mc_charge_degree = M\u001b[39m\u001b[0m with correctness \u001b[32m64.37%\u001b[39m.\n",
      "\t\t\u001b[1mAggregate cost\u001b[0m of the above recourses = \u001b[35m1.00\u001b[39m\n",
      "\t\u001b[35mBias against African-American. Unfairness score = inf.\u001b[39m\n",
      "\n"
     ]
    }
   ],
   "source": [
    "top_rules, subgroup_costs = facts.select_rules_subset(\n",
    "    rules_by_if,\n",
    "    metric=\"min-above-thr\",\n",
    "    sort_strategy=\"abs-diff-decr-ignore-forall-subgroups-empty\",\n",
    "    top_count=10,\n",
    "    cor_threshold=0.5,\n",
    "    filter_sequence=[\"remove-below-thr\", \"remove-fair-rules\"],\n",
    ")\n",
    "\n",
    "pop_sizes = {sg: (X[\"race\"] == sg).sum() for sg in X[\"race\"].unique()}\n",
    "print(recourse_report_reverse(\n",
    "    top_rules,\n",
    "    population_sizes = pop_sizes,\n",
    "    subgroup_costs=subgroup_costs,\n",
    "    show_subgroup_costs=True\n",
    "))"
   ]
  },
  {
   "attachments": {},
   "cell_type": "markdown",
   "metadata": {},
   "source": [
    "## Mean cost above threshold"
   ]
  },
  {
   "cell_type": "code",
   "execution_count": 16,
   "metadata": {
    "tags": []
   },
   "outputs": [
    {
     "name": "stdout",
     "output_type": "stream",
     "text": [
      "If \u001b[1mage_cat = 25 - 45\u001b[0m:\n",
      "\tProtected Subgroup '\u001b[1mAfrican-American\u001b[0m', \u001b[34m61.44%\u001b[39m covered out of 3173\n",
      "\t\t\u001b[31mNo recourses for this subgroup!\n",
      "\u001b[39m\tProtected Subgroup '\u001b[1mCaucasian\u001b[0m', \u001b[34m61.31%\u001b[39m covered out of 2100\n",
      "\t\tMake \u001b[1m\u001b[31mage_cat = Greater than 45\u001b[39m\u001b[0m with correctness \u001b[32m58.25%\u001b[39m.\n",
      "\t\u001b[35mBias against African-American. Unfairness score = inf.\u001b[39m\n",
      "If \u001b[1mage_cat = 25 - 45, sex = Male\u001b[0m:\n",
      "\tProtected Subgroup '\u001b[1mAfrican-American\u001b[0m', \u001b[34m57.75%\u001b[39m covered out of 3173\n",
      "\t\t\u001b[31mNo recourses for this subgroup!\n",
      "\u001b[39m\tProtected Subgroup '\u001b[1mCaucasian\u001b[0m', \u001b[34m57.14%\u001b[39m covered out of 2100\n",
      "\t\tMake \u001b[1m\u001b[31mage_cat = Greater than 45\u001b[39m\u001b[0m with correctness \u001b[32m58.33%\u001b[39m.\n",
      "\t\u001b[35mBias against African-American. Unfairness score = inf.\u001b[39m\n",
      "If \u001b[1mage_cat = 25 - 45, juv_fel_count = 0\u001b[0m:\n",
      "\tProtected Subgroup '\u001b[1mAfrican-American\u001b[0m', \u001b[34m56.69%\u001b[39m covered out of 3173\n",
      "\t\t\u001b[31mNo recourses for this subgroup!\n",
      "\u001b[39m\tProtected Subgroup '\u001b[1mCaucasian\u001b[0m', \u001b[34m60.12%\u001b[39m covered out of 2100\n",
      "\t\tMake \u001b[1m\u001b[31mage_cat = Greater than 45\u001b[39m\u001b[0m with correctness \u001b[32m59.41%\u001b[39m.\n",
      "\t\u001b[35mBias against African-American. Unfairness score = inf.\u001b[39m\n",
      "If \u001b[1mc_charge_degree = F, juv_misd_count = 0, juv_other_count = 0, sex = Male\u001b[0m:\n",
      "\tProtected Subgroup '\u001b[1mAfrican-American\u001b[0m', \u001b[34m55.99%\u001b[39m covered out of 3173\n",
      "\t\t\u001b[31mNo recourses for this subgroup!\n",
      "\u001b[39m\tProtected Subgroup '\u001b[1mCaucasian\u001b[0m', \u001b[34m60.12%\u001b[39m covered out of 2100\n",
      "\t\tMake \u001b[1m\u001b[31mc_charge_degree = M\u001b[39m\u001b[0m with correctness \u001b[32m50.50%\u001b[39m.\n",
      "\t\u001b[35mBias against African-American. Unfairness score = inf.\u001b[39m\n",
      "If \u001b[1mage_cat = 25 - 45, juv_other_count = 0\u001b[0m:\n",
      "\tProtected Subgroup '\u001b[1mAfrican-American\u001b[0m', \u001b[34m54.23%\u001b[39m covered out of 3173\n",
      "\t\t\u001b[31mNo recourses for this subgroup!\n",
      "\u001b[39m\tProtected Subgroup '\u001b[1mCaucasian\u001b[0m', \u001b[34m55.95%\u001b[39m covered out of 2100\n",
      "\t\tMake \u001b[1m\u001b[31mage_cat = Greater than 45\u001b[39m\u001b[0m with correctness \u001b[32m58.51%\u001b[39m.\n",
      "\t\u001b[35mBias against African-American. Unfairness score = inf.\u001b[39m\n",
      "If \u001b[1mage_cat = 25 - 45, juv_fel_count = 0, sex = Male\u001b[0m:\n",
      "\tProtected Subgroup '\u001b[1mAfrican-American\u001b[0m', \u001b[34m52.99%\u001b[39m covered out of 3173\n",
      "\t\t\u001b[31mNo recourses for this subgroup!\n",
      "\u001b[39m\tProtected Subgroup '\u001b[1mCaucasian\u001b[0m', \u001b[34m55.95%\u001b[39m covered out of 2100\n",
      "\t\tMake \u001b[1m\u001b[31mage_cat = Greater than 45\u001b[39m\u001b[0m with correctness \u001b[32m59.57%\u001b[39m.\n",
      "\t\u001b[35mBias against African-American. Unfairness score = inf.\u001b[39m\n",
      "If \u001b[1mc_charge_degree = F, juv_fel_count = 0, juv_misd_count = 0, juv_other_count = 0, sex = Male\u001b[0m:\n",
      "\tProtected Subgroup '\u001b[1mAfrican-American\u001b[0m', \u001b[34m52.46%\u001b[39m covered out of 3173\n",
      "\t\t\u001b[31mNo recourses for this subgroup!\n",
      "\u001b[39m\tProtected Subgroup '\u001b[1mCaucasian\u001b[0m', \u001b[34m60.12%\u001b[39m covered out of 2100\n",
      "\t\tMake \u001b[1m\u001b[31mc_charge_degree = M\u001b[39m\u001b[0m with correctness \u001b[32m50.50%\u001b[39m.\n",
      "\t\u001b[35mBias against African-American. Unfairness score = inf.\u001b[39m\n",
      "If \u001b[1mage_cat = 25 - 45, juv_other_count = 0, sex = Male\u001b[0m:\n",
      "\tProtected Subgroup '\u001b[1mAfrican-American\u001b[0m', \u001b[34m50.88%\u001b[39m covered out of 3173\n",
      "\t\t\u001b[31mNo recourses for this subgroup!\n",
      "\u001b[39m\tProtected Subgroup '\u001b[1mCaucasian\u001b[0m', \u001b[34m52.38%\u001b[39m covered out of 2100\n",
      "\t\tMake \u001b[1m\u001b[31mage_cat = Greater than 45\u001b[39m\u001b[0m with correctness \u001b[32m57.95%\u001b[39m.\n",
      "\t\u001b[35mBias against African-American. Unfairness score = inf.\u001b[39m\n",
      "If \u001b[1mage_cat = 25 - 45, juv_fel_count = 0, juv_other_count = 0\u001b[0m:\n",
      "\tProtected Subgroup '\u001b[1mAfrican-American\u001b[0m', \u001b[34m50.35%\u001b[39m covered out of 3173\n",
      "\t\t\u001b[31mNo recourses for this subgroup!\n",
      "\u001b[39m\tProtected Subgroup '\u001b[1mCaucasian\u001b[0m', \u001b[34m54.76%\u001b[39m covered out of 2100\n",
      "\t\tMake \u001b[1m\u001b[31mage_cat = Greater than 45\u001b[39m\u001b[0m with correctness \u001b[32m59.78%\u001b[39m.\n",
      "\t\u001b[35mBias against African-American. Unfairness score = inf.\u001b[39m\n",
      "If \u001b[1mage_cat = 25 - 45, c_charge_degree = F\u001b[0m:\n",
      "\tProtected Subgroup '\u001b[1mAfrican-American\u001b[0m', \u001b[34m46.13%\u001b[39m covered out of 3173\n",
      "\t\t\u001b[31mNo recourses for this subgroup!\n",
      "\u001b[39m\tProtected Subgroup '\u001b[1mCaucasian\u001b[0m', \u001b[34m51.79%\u001b[39m covered out of 2100\n",
      "\t\tMake \u001b[1m\u001b[31mc_charge_degree = M\u001b[39m\u001b[0m with correctness \u001b[32m58.62%\u001b[39m.\n",
      "\t\tMake \u001b[1m\u001b[31mage_cat = Greater than 45\u001b[39m\u001b[0m with correctness \u001b[32m63.22%\u001b[39m.\n",
      "\t\tMake \u001b[1m\u001b[31mage_cat = Greater than 45\u001b[39m, \u001b[31mc_charge_degree = M\u001b[39m\u001b[0m with correctness \u001b[32m64.37%\u001b[39m.\n",
      "\t\u001b[35mBias against African-American. Unfairness score = inf.\u001b[39m\n",
      "\n"
     ]
    }
   ],
   "source": [
    "top_rules, subgroup_costs = facts.select_rules_subset(\n",
    "    rules_by_if,\n",
    "    metric=\"mean-above-thr\",\n",
    "    sort_strategy=\"abs-diff-decr-ignore-forall-subgroups-empty\",\n",
    "    top_count=10,\n",
    "    cor_threshold=0.5,\n",
    "    filter_sequence=[\"remove-below-thr\", \"remove-fair-rules\"]\n",
    ")\n",
    "\n",
    "pop_sizes = {sg: (X[\"race\"] == sg).sum() for sg in X[\"race\"].unique()}\n",
    "print(recourse_report_reverse(\n",
    "    top_rules,\n",
    "    population_sizes = pop_sizes,\n",
    "    subgroup_costs=subgroup_costs\n",
    "))"
   ]
  },
  {
   "attachments": {},
   "cell_type": "markdown",
   "metadata": {},
   "source": [
    "## Number above threshold"
   ]
  },
  {
   "cell_type": "code",
   "execution_count": 17,
   "metadata": {
    "tags": []
   },
   "outputs": [
    {
     "name": "stdout",
     "output_type": "stream",
     "text": [
      "If \u001b[1mage_cat = 10-25, c_charge_degree = F, juv_other_count = 1, sex = Male\u001b[0m:\n",
      "\tProtected Subgroup '\u001b[1mAfrican-American\u001b[0m', \u001b[34m4.05%\u001b[39m covered out of 3173\n",
      "\t\tMake \u001b[1m\u001b[31mage_cat = Greater than 45\u001b[39m, \u001b[31mjuv_other_count = 0\u001b[39m\u001b[0m with correctness \u001b[32m86.96%\u001b[39m.\n",
      "\t\tMake \u001b[1m\u001b[31mage_cat = Greater than 45\u001b[39m, \u001b[31mc_charge_degree = M\u001b[39m, \u001b[31mjuv_other_count = 0\u001b[39m\u001b[0m with correctness \u001b[32m86.96%\u001b[39m.\n",
      "\t\t\u001b[1mAggregate cost\u001b[0m of the above recourses = \u001b[35m-2.00\u001b[39m\n",
      "\tProtected Subgroup '\u001b[1mCaucasian\u001b[0m', \u001b[34m4.76%\u001b[39m covered out of 2100\n",
      "\t\tMake \u001b[1m\u001b[31mage_cat = 25 - 45\u001b[39m, \u001b[31mjuv_other_count = 0\u001b[39m\u001b[0m with correctness \u001b[32m50.00%\u001b[39m.\n",
      "\t\tMake \u001b[1m\u001b[31mage_cat = 25 - 45\u001b[39m, \u001b[31mc_charge_degree = M\u001b[39m, \u001b[31mjuv_other_count = 0\u001b[39m\u001b[0m with correctness \u001b[32m87.50%\u001b[39m.\n",
      "\t\tMake \u001b[1m\u001b[31mage_cat = Greater than 45\u001b[39m, \u001b[31mjuv_other_count = 0\u001b[39m\u001b[0m with correctness \u001b[32m87.50%\u001b[39m.\n",
      "\t\tMake \u001b[1m\u001b[31mage_cat = Greater than 45\u001b[39m, \u001b[31mc_charge_degree = M\u001b[39m, \u001b[31mjuv_other_count = 0\u001b[39m\u001b[0m with correctness \u001b[32m87.50%\u001b[39m.\n",
      "\t\tMake \u001b[1m\u001b[31mc_charge_degree = M\u001b[39m, \u001b[31mjuv_other_count = 0\u001b[39m\u001b[0m with correctness \u001b[32m50.00%\u001b[39m.\n",
      "\t\tMake \u001b[1m\u001b[31mjuv_other_count = 0\u001b[39m\u001b[0m with correctness \u001b[32m50.00%\u001b[39m.\n",
      "\t\t\u001b[1mAggregate cost\u001b[0m of the above recourses = \u001b[35m-6.00\u001b[39m\n",
      "\t\u001b[35mBias against African-American. Unfairness score = 4.\u001b[39m\n",
      "If \u001b[1mage_cat = 25 - 45, c_charge_degree = F\u001b[0m:\n",
      "\tProtected Subgroup '\u001b[1mAfrican-American\u001b[0m', \u001b[34m46.13%\u001b[39m covered out of 3173\n",
      "\t\t\u001b[31mNo recourses for this subgroup!\n",
      "\u001b[39m\t\t\u001b[1mAggregate cost\u001b[0m of the above recourses = \u001b[35m0.00\u001b[39m\n",
      "\tProtected Subgroup '\u001b[1mCaucasian\u001b[0m', \u001b[34m51.79%\u001b[39m covered out of 2100\n",
      "\t\tMake \u001b[1m\u001b[31mc_charge_degree = M\u001b[39m\u001b[0m with correctness \u001b[32m58.62%\u001b[39m.\n",
      "\t\tMake \u001b[1m\u001b[31mage_cat = Greater than 45\u001b[39m\u001b[0m with correctness \u001b[32m63.22%\u001b[39m.\n",
      "\t\tMake \u001b[1m\u001b[31mage_cat = Greater than 45\u001b[39m, \u001b[31mc_charge_degree = M\u001b[39m\u001b[0m with correctness \u001b[32m64.37%\u001b[39m.\n",
      "\t\t\u001b[1mAggregate cost\u001b[0m of the above recourses = \u001b[35m-3.00\u001b[39m\n",
      "\t\u001b[35mBias against African-American. Unfairness score = 3.\u001b[39m\n",
      "If \u001b[1mage_cat = 25 - 45, c_charge_degree = F, sex = Male\u001b[0m:\n",
      "\tProtected Subgroup '\u001b[1mAfrican-American\u001b[0m', \u001b[34m42.96%\u001b[39m covered out of 3173\n",
      "\t\t\u001b[31mNo recourses for this subgroup!\n",
      "\u001b[39m\t\t\u001b[1mAggregate cost\u001b[0m of the above recourses = \u001b[35m0.00\u001b[39m\n",
      "\tProtected Subgroup '\u001b[1mCaucasian\u001b[0m', \u001b[34m48.81%\u001b[39m covered out of 2100\n",
      "\t\tMake \u001b[1m\u001b[31mc_charge_degree = M\u001b[39m\u001b[0m with correctness \u001b[32m62.20%\u001b[39m.\n",
      "\t\tMake \u001b[1m\u001b[31mage_cat = Greater than 45\u001b[39m\u001b[0m with correctness \u001b[32m64.63%\u001b[39m.\n",
      "\t\tMake \u001b[1m\u001b[31mage_cat = Greater than 45\u001b[39m, \u001b[31mc_charge_degree = M\u001b[39m\u001b[0m with correctness \u001b[32m64.63%\u001b[39m.\n",
      "\t\t\u001b[1mAggregate cost\u001b[0m of the above recourses = \u001b[35m-3.00\u001b[39m\n",
      "\t\u001b[35mBias against African-American. Unfairness score = 3.\u001b[39m\n",
      "If \u001b[1mage_cat = 25 - 45, c_charge_degree = F, juv_fel_count = 0\u001b[0m:\n",
      "\tProtected Subgroup '\u001b[1mAfrican-American\u001b[0m', \u001b[34m41.90%\u001b[39m covered out of 3173\n",
      "\t\t\u001b[31mNo recourses for this subgroup!\n",
      "\u001b[39m\t\t\u001b[1mAggregate cost\u001b[0m of the above recourses = \u001b[35m0.00\u001b[39m\n",
      "\tProtected Subgroup '\u001b[1mCaucasian\u001b[0m', \u001b[34m51.19%\u001b[39m covered out of 2100\n",
      "\t\tMake \u001b[1m\u001b[31mc_charge_degree = M\u001b[39m\u001b[0m with correctness \u001b[32m59.30%\u001b[39m.\n",
      "\t\tMake \u001b[1m\u001b[31mage_cat = Greater than 45\u001b[39m\u001b[0m with correctness \u001b[32m63.95%\u001b[39m.\n",
      "\t\tMake \u001b[1m\u001b[31mage_cat = Greater than 45\u001b[39m, \u001b[31mc_charge_degree = M\u001b[39m\u001b[0m with correctness \u001b[32m65.12%\u001b[39m.\n",
      "\t\t\u001b[1mAggregate cost\u001b[0m of the above recourses = \u001b[35m-3.00\u001b[39m\n",
      "\t\u001b[35mBias against African-American. Unfairness score = 3.\u001b[39m\n",
      "If \u001b[1mage_cat = 25 - 45, c_charge_degree = F, juv_other_count = 0\u001b[0m:\n",
      "\tProtected Subgroup '\u001b[1mAfrican-American\u001b[0m', \u001b[34m41.73%\u001b[39m covered out of 3173\n",
      "\t\t\u001b[31mNo recourses for this subgroup!\n",
      "\u001b[39m\t\t\u001b[1mAggregate cost\u001b[0m of the above recourses = \u001b[35m0.00\u001b[39m\n",
      "\tProtected Subgroup '\u001b[1mCaucasian\u001b[0m', \u001b[34m49.40%\u001b[39m covered out of 2100\n",
      "\t\tMake \u001b[1m\u001b[31mc_charge_degree = M\u001b[39m\u001b[0m with correctness \u001b[32m61.45%\u001b[39m.\n",
      "\t\tMake \u001b[1m\u001b[31mage_cat = Greater than 45\u001b[39m\u001b[0m with correctness \u001b[32m63.86%\u001b[39m.\n",
      "\t\tMake \u001b[1m\u001b[31mage_cat = Greater than 45\u001b[39m, \u001b[31mc_charge_degree = M\u001b[39m\u001b[0m with correctness \u001b[32m65.06%\u001b[39m.\n",
      "\t\t\u001b[1mAggregate cost\u001b[0m of the above recourses = \u001b[35m-3.00\u001b[39m\n",
      "\t\u001b[35mBias against African-American. Unfairness score = 3.\u001b[39m\n",
      "If \u001b[1mage_cat = 25 - 45, c_charge_degree = F, juv_other_count = 0, sex = Male\u001b[0m:\n",
      "\tProtected Subgroup '\u001b[1mAfrican-American\u001b[0m', \u001b[34m38.73%\u001b[39m covered out of 3173\n",
      "\t\t\u001b[31mNo recourses for this subgroup!\n",
      "\u001b[39m\t\t\u001b[1mAggregate cost\u001b[0m of the above recourses = \u001b[35m0.00\u001b[39m\n",
      "\tProtected Subgroup '\u001b[1mCaucasian\u001b[0m', \u001b[34m47.02%\u001b[39m covered out of 2100\n",
      "\t\tMake \u001b[1m\u001b[31mc_charge_degree = M\u001b[39m\u001b[0m with correctness \u001b[32m64.56%\u001b[39m.\n",
      "\t\tMake \u001b[1m\u001b[31mage_cat = Greater than 45\u001b[39m\u001b[0m with correctness \u001b[32m64.56%\u001b[39m.\n",
      "\t\tMake \u001b[1m\u001b[31mage_cat = Greater than 45\u001b[39m, \u001b[31mc_charge_degree = M\u001b[39m\u001b[0m with correctness \u001b[32m64.56%\u001b[39m.\n",
      "\t\t\u001b[1mAggregate cost\u001b[0m of the above recourses = \u001b[35m-3.00\u001b[39m\n",
      "\t\u001b[35mBias against African-American. Unfairness score = 3.\u001b[39m\n",
      "If \u001b[1mage_cat = 25 - 45, c_charge_degree = F, juv_fel_count = 0, sex = Male\u001b[0m:\n",
      "\tProtected Subgroup '\u001b[1mAfrican-American\u001b[0m', \u001b[34m38.73%\u001b[39m covered out of 3173\n",
      "\t\t\u001b[31mNo recourses for this subgroup!\n",
      "\u001b[39m\t\t\u001b[1mAggregate cost\u001b[0m of the above recourses = \u001b[35m0.00\u001b[39m\n",
      "\tProtected Subgroup '\u001b[1mCaucasian\u001b[0m', \u001b[34m48.21%\u001b[39m covered out of 2100\n",
      "\t\tMake \u001b[1m\u001b[31mc_charge_degree = M\u001b[39m\u001b[0m with correctness \u001b[32m62.96%\u001b[39m.\n",
      "\t\tMake \u001b[1m\u001b[31mage_cat = Greater than 45\u001b[39m\u001b[0m with correctness \u001b[32m65.43%\u001b[39m.\n",
      "\t\tMake \u001b[1m\u001b[31mage_cat = Greater than 45\u001b[39m, \u001b[31mc_charge_degree = M\u001b[39m\u001b[0m with correctness \u001b[32m65.43%\u001b[39m.\n",
      "\t\t\u001b[1mAggregate cost\u001b[0m of the above recourses = \u001b[35m-3.00\u001b[39m\n",
      "\t\u001b[35mBias against African-American. Unfairness score = 3.\u001b[39m\n",
      "If \u001b[1mage_cat = 25 - 45, c_charge_degree = F, juv_fel_count = 0, juv_other_count = 0\u001b[0m:\n",
      "\tProtected Subgroup '\u001b[1mAfrican-American\u001b[0m', \u001b[34m38.20%\u001b[39m covered out of 3173\n",
      "\t\t\u001b[31mNo recourses for this subgroup!\n",
      "\u001b[39m\t\t\u001b[1mAggregate cost\u001b[0m of the above recourses = \u001b[35m0.00\u001b[39m\n",
      "\tProtected Subgroup '\u001b[1mCaucasian\u001b[0m', \u001b[34m48.81%\u001b[39m covered out of 2100\n",
      "\t\tMake \u001b[1m\u001b[31mc_charge_degree = M\u001b[39m\u001b[0m with correctness \u001b[32m62.20%\u001b[39m.\n",
      "\t\tMake \u001b[1m\u001b[31mage_cat = Greater than 45\u001b[39m\u001b[0m with correctness \u001b[32m64.63%\u001b[39m.\n",
      "\t\tMake \u001b[1m\u001b[31mage_cat = Greater than 45\u001b[39m, \u001b[31mc_charge_degree = M\u001b[39m\u001b[0m with correctness \u001b[32m65.85%\u001b[39m.\n",
      "\t\t\u001b[1mAggregate cost\u001b[0m of the above recourses = \u001b[35m-3.00\u001b[39m\n",
      "\t\u001b[35mBias against African-American. Unfairness score = 3.\u001b[39m\n",
      "If \u001b[1mage_cat = 25 - 45, c_charge_degree = F, juv_fel_count = 0, juv_other_count = 0, sex = Male\u001b[0m:\n",
      "\tProtected Subgroup '\u001b[1mAfrican-American\u001b[0m', \u001b[34m35.21%\u001b[39m covered out of 3173\n",
      "\t\t\u001b[31mNo recourses for this subgroup!\n",
      "\u001b[39m\t\t\u001b[1mAggregate cost\u001b[0m of the above recourses = \u001b[35m0.00\u001b[39m\n",
      "\tProtected Subgroup '\u001b[1mCaucasian\u001b[0m', \u001b[34m46.43%\u001b[39m covered out of 2100\n",
      "\t\tMake \u001b[1m\u001b[31mc_charge_degree = M\u001b[39m\u001b[0m with correctness \u001b[32m65.38%\u001b[39m.\n",
      "\t\tMake \u001b[1m\u001b[31mage_cat = Greater than 45\u001b[39m\u001b[0m with correctness \u001b[32m65.38%\u001b[39m.\n",
      "\t\tMake \u001b[1m\u001b[31mage_cat = Greater than 45\u001b[39m, \u001b[31mc_charge_degree = M\u001b[39m\u001b[0m with correctness \u001b[32m65.38%\u001b[39m.\n",
      "\t\t\u001b[1mAggregate cost\u001b[0m of the above recourses = \u001b[35m-3.00\u001b[39m\n",
      "\t\u001b[35mBias against African-American. Unfairness score = 3.\u001b[39m\n",
      "If \u001b[1mage_cat = 25 - 45, c_charge_degree = F, juv_other_count = 1\u001b[0m:\n",
      "\tProtected Subgroup '\u001b[1mAfrican-American\u001b[0m', \u001b[34m3.35%\u001b[39m covered out of 3173\n",
      "\t\t\u001b[31mNo recourses for this subgroup!\n",
      "\u001b[39m\t\t\u001b[1mAggregate cost\u001b[0m of the above recourses = \u001b[35m0.00\u001b[39m\n",
      "\tProtected Subgroup '\u001b[1mCaucasian\u001b[0m', \u001b[34m1.79%\u001b[39m covered out of 2100\n",
      "\t\tMake \u001b[1m\u001b[31mc_charge_degree = M\u001b[39m, \u001b[31mjuv_other_count = 0\u001b[39m\u001b[0m with correctness \u001b[32m66.67%\u001b[39m.\n",
      "\t\tMake \u001b[1m\u001b[31mage_cat = Greater than 45\u001b[39m, \u001b[31mjuv_other_count = 0\u001b[39m\u001b[0m with correctness \u001b[32m66.67%\u001b[39m.\n",
      "\t\tMake \u001b[1m\u001b[31mage_cat = Greater than 45\u001b[39m, \u001b[31mc_charge_degree = M\u001b[39m, \u001b[31mjuv_other_count = 0\u001b[39m\u001b[0m with correctness \u001b[32m66.67%\u001b[39m.\n",
      "\t\t\u001b[1mAggregate cost\u001b[0m of the above recourses = \u001b[35m-3.00\u001b[39m\n",
      "\t\u001b[35mBias against African-American. Unfairness score = 3.\u001b[39m\n",
      "\n"
     ]
    }
   ],
   "source": [
    "top_rules, subgroup_costs = facts.select_rules_subset(\n",
    "    rules_by_if,\n",
    "    metric=\"num-above-thr\",\n",
    "    sort_strategy=\"abs-diff-decr-ignore-forall-subgroups-empty\",\n",
    "    top_count=10,\n",
    "    cor_threshold=0.5,\n",
    "    filter_sequence=[\"remove-below-thr\"]\n",
    ")\n",
    "\n",
    "pop_sizes = {sg: (X[\"race\"] == sg).sum() for sg in X[\"race\"].unique()}\n",
    "print(recourse_report_reverse(\n",
    "    top_rules,\n",
    "    population_sizes = pop_sizes,\n",
    "    subgroup_costs=subgroup_costs,\n",
    "    show_subgroup_costs=True\n",
    "))"
   ]
  },
  {
   "cell_type": "code",
   "execution_count": 19,
   "metadata": {},
   "outputs": [
    {
     "name": "stderr",
     "output_type": "stream",
     "text": [
      "100%|██████████| 1011/1011 [00:23<00:00, 42.49it/s]\n"
     ]
    }
   ],
   "source": [
    "rules_with_cumulative = facts.cum_corr_costs_all(rules_by_if, X_test, model, sensitive_attribute=\"race\", params=params)"
   ]
  },
  {
   "cell_type": "code",
   "execution_count": null,
   "metadata": {},
   "outputs": [],
   "source": [
    "save_rules_by_if(\"rulesCompas_cumulative.data\", rules_with_cumulative)"
   ]
  }
 ],
 "metadata": {
  "kernelspec": {
   "display_name": "Python 3 (ipykernel)",
   "language": "python",
   "name": "python3"
  },
  "language_info": {
   "codemirror_mode": {
    "name": "ipython",
    "version": 3
   },
   "file_extension": ".py",
   "mimetype": "text/x-python",
   "name": "python",
   "nbconvert_exporter": "python",
   "pygments_lexer": "ipython3",
   "version": "3.8.2"
  },
  "vscode": {
   "interpreter": {
    "hash": "362842c44ed7d38e9c92d488ead4445e1c745f35479a5810177dacafb6456c39"
   }
  }
 },
 "nbformat": 4,
 "nbformat_minor": 4
}
