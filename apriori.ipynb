{
 "cells": [
  {
   "cell_type": "code",
   "execution_count": 3,
   "id": "610c4b1c",
   "metadata": {},
   "outputs": [],
   "source": [
    "# Location of adult dataset\n",
    "ADULT_DATAFILE = './adult.data'"
   ]
  },
  {
   "cell_type": "code",
   "execution_count": 4,
   "id": "42ba2b30",
   "metadata": {},
   "outputs": [],
   "source": [
    "##### DEPENDENCIES. Uncomment to install\n",
    "\n",
    "# !{sys.executable} -m pip install mlxtend\n",
    "# !{sys.executable} -m pip install apyori\n",
    "# %pip install mlxtend --upgrade"
   ]
  },
  {
   "cell_type": "code",
   "execution_count": 6,
   "id": "2e175f1c-e840-45f4-89d9-af8475d41121",
   "metadata": {
    "colab": {
     "base_uri": "https://localhost:8080/"
    },
    "executionInfo": {
     "elapsed": 32910,
     "status": "ok",
     "timestamp": 1671053003400,
     "user": {
      "displayName": "Nikolas Theologitis",
      "userId": "15840516047734806702"
     },
     "user_tz": -120
    },
    "id": "2e175f1c-e840-45f4-89d9-af8475d41121",
    "outputId": "bba55692-d2ee-4878-d43b-12ad83f47cec"
   },
   "outputs": [],
   "source": [
    "import sys\n",
    "import numpy as np\n",
    "import pandas as pd\n",
    "from mlxtend.preprocessing import TransactionEncoder\n",
    "from mlxtend.frequent_patterns import apriori,fpgrowth, association_rules"
   ]
  },
  {
   "cell_type": "code",
   "execution_count": 7,
   "id": "d6c41ca4-0762-4a8e-bb36-32aeaa60ab53",
   "metadata": {
    "colab": {
     "base_uri": "https://localhost:8080/",
     "height": 380
    },
    "executionInfo": {
     "elapsed": 300,
     "status": "error",
     "timestamp": 1671053011884,
     "user": {
      "displayName": "Nikolas Theologitis",
      "userId": "15840516047734806702"
     },
     "user_tz": -120
    },
    "id": "d6c41ca4-0762-4a8e-bb36-32aeaa60ab53",
    "outputId": "5a495859-e8dd-4b6c-c2de-a0099e026e03"
   },
   "outputs": [
    {
     "data": {
      "text/html": [
       "<div>\n",
       "<style scoped>\n",
       "    .dataframe tbody tr th:only-of-type {\n",
       "        vertical-align: middle;\n",
       "    }\n",
       "\n",
       "    .dataframe tbody tr th {\n",
       "        vertical-align: top;\n",
       "    }\n",
       "\n",
       "    .dataframe thead th {\n",
       "        text-align: right;\n",
       "    }\n",
       "</style>\n",
       "<table border=\"1\" class=\"dataframe\">\n",
       "  <thead>\n",
       "    <tr style=\"text-align: right;\">\n",
       "      <th></th>\n",
       "      <th>Age</th>\n",
       "      <th>Education</th>\n",
       "      <th>Race</th>\n",
       "      <th>Sex</th>\n",
       "      <th>Country</th>\n",
       "      <th>label</th>\n",
       "    </tr>\n",
       "  </thead>\n",
       "  <tbody>\n",
       "    <tr>\n",
       "      <th>0</th>\n",
       "      <td>39</td>\n",
       "      <td>Bachelors</td>\n",
       "      <td>White</td>\n",
       "      <td>Male</td>\n",
       "      <td>United-States</td>\n",
       "      <td>&lt;=50K</td>\n",
       "    </tr>\n",
       "    <tr>\n",
       "      <th>1</th>\n",
       "      <td>50</td>\n",
       "      <td>Bachelors</td>\n",
       "      <td>White</td>\n",
       "      <td>Male</td>\n",
       "      <td>United-States</td>\n",
       "      <td>&lt;=50K</td>\n",
       "    </tr>\n",
       "    <tr>\n",
       "      <th>2</th>\n",
       "      <td>38</td>\n",
       "      <td>HS-grad</td>\n",
       "      <td>White</td>\n",
       "      <td>Male</td>\n",
       "      <td>United-States</td>\n",
       "      <td>&lt;=50K</td>\n",
       "    </tr>\n",
       "    <tr>\n",
       "      <th>3</th>\n",
       "      <td>53</td>\n",
       "      <td>11th</td>\n",
       "      <td>Black</td>\n",
       "      <td>Male</td>\n",
       "      <td>United-States</td>\n",
       "      <td>&lt;=50K</td>\n",
       "    </tr>\n",
       "    <tr>\n",
       "      <th>4</th>\n",
       "      <td>28</td>\n",
       "      <td>Bachelors</td>\n",
       "      <td>Black</td>\n",
       "      <td>Female</td>\n",
       "      <td>Cuba</td>\n",
       "      <td>&lt;=50K</td>\n",
       "    </tr>\n",
       "  </tbody>\n",
       "</table>\n",
       "</div>"
      ],
      "text/plain": [
       "  Age  Education   Race     Sex        Country  label\n",
       "0  39  Bachelors  White    Male  United-States  <=50K\n",
       "1  50  Bachelors  White    Male  United-States  <=50K\n",
       "2  38    HS-grad  White    Male  United-States  <=50K\n",
       "3  53       11th  Black    Male  United-States  <=50K\n",
       "4  28  Bachelors  Black  Female           Cuba  <=50K"
      ]
     },
     "execution_count": 7,
     "metadata": {},
     "output_type": "execute_result"
    }
   ],
   "source": [
    "feature_names = [\n",
    "   \"Age\", \"Workclass\", \"fnlwgt\", \"Education\",\n",
    "   \"Education-Num\", \"Marital Status\", \"Occupation\",\n",
    "   \"Relationship\", \"Race\", \"Sex\", \"Capital Gain\",\n",
    "   \"Capital Loss\", \"Hours per week\", \"Country\", \"label\"\n",
    "]\n",
    "data = pd.DataFrame(\n",
    "  np.genfromtxt(ADULT_DATAFILE, delimiter=', ', dtype=str),\n",
    "  columns=feature_names\n",
    ")\n",
    "\n",
    "#Leave Education,Race,Age,Sex,Country and label\n",
    "new_data=data.drop([ \"Workclass\", \"fnlwgt\",\n",
    "   \"Education-Num\", \"Marital Status\", \"Occupation\",\n",
    "   \"Relationship\", \"Capital Gain\",\"Hours per week\",\n",
    "   \"Capital Loss\",], axis=1)\n",
    "\n",
    "new_data.head()\n",
    "# new_data.loc[new_data['Sex'] == 'Male']\n",
    "# affected_data=new_data.loc[new_data['label'] == '<=50K']\n",
    "# affected_data"
   ]
  },
  {
   "cell_type": "code",
   "execution_count": null,
   "id": "210cab4b-d067-419c-8559-dc614978d43f",
   "metadata": {
    "id": "210cab4b-d067-419c-8559-dc614978d43f",
    "outputId": "548bd6b3-7f9f-479f-9a2d-514d50e370ed"
   },
   "outputs": [
    {
     "data": {
      "text/plain": [
       "[['39', 'Bachelors', 'White', 'Male', 'United-States'],\n",
       " ['50', 'Bachelors', 'White', 'Male', 'United-States'],\n",
       " ['38', 'HS-grad', 'White', 'Male', 'United-States'],\n",
       " ['53', '11th', 'Black', 'Male', 'United-States'],\n",
       " ['28', 'Bachelors', 'Black', 'Female', 'Cuba']]"
      ]
     },
     "execution_count": 141,
     "metadata": {},
     "output_type": "execute_result"
    }
   ],
   "source": [
    "#Transform to sets of objects \n",
    "sets = []\n",
    "for i in range(0, len(new_data)): \n",
    "  sets.append([str(new_data.values[i,j]) for j in range(0, len(new_data.columns))])\n",
    "sets[0:5]\n"
   ]
  },
  {
   "cell_type": "code",
   "execution_count": null,
   "id": "1f29e017-2868-4faa-839f-5befd1000c78",
   "metadata": {
    "id": "1f29e017-2868-4faa-839f-5befd1000c78",
    "outputId": "765c2467-f276-4abd-d45f-cbe4fabf3900"
   },
   "outputs": [
    {
     "data": {
      "text/html": [
       "<div>\n",
       "<style scoped>\n",
       "    .dataframe tbody tr th:only-of-type {\n",
       "        vertical-align: middle;\n",
       "    }\n",
       "\n",
       "    .dataframe tbody tr th {\n",
       "        vertical-align: top;\n",
       "    }\n",
       "\n",
       "    .dataframe thead th {\n",
       "        text-align: right;\n",
       "    }\n",
       "</style>\n",
       "<table border=\"1\" class=\"dataframe\">\n",
       "  <thead>\n",
       "    <tr style=\"text-align: right;\">\n",
       "      <th></th>\n",
       "      <th>10th</th>\n",
       "      <th>11th</th>\n",
       "      <th>12th</th>\n",
       "      <th>17</th>\n",
       "      <th>18</th>\n",
       "      <th>19</th>\n",
       "      <th>1st-4th</th>\n",
       "      <th>20</th>\n",
       "      <th>21</th>\n",
       "      <th>22</th>\n",
       "      <th>...</th>\n",
       "      <th>Scotland</th>\n",
       "      <th>Some-college</th>\n",
       "      <th>South</th>\n",
       "      <th>Taiwan</th>\n",
       "      <th>Thailand</th>\n",
       "      <th>Trinadad&amp;Tobago</th>\n",
       "      <th>United-States</th>\n",
       "      <th>Vietnam</th>\n",
       "      <th>White</th>\n",
       "      <th>Yugoslavia</th>\n",
       "    </tr>\n",
       "  </thead>\n",
       "  <tbody>\n",
       "    <tr>\n",
       "      <th>0</th>\n",
       "      <td>False</td>\n",
       "      <td>False</td>\n",
       "      <td>False</td>\n",
       "      <td>False</td>\n",
       "      <td>False</td>\n",
       "      <td>False</td>\n",
       "      <td>False</td>\n",
       "      <td>False</td>\n",
       "      <td>False</td>\n",
       "      <td>False</td>\n",
       "      <td>...</td>\n",
       "      <td>False</td>\n",
       "      <td>False</td>\n",
       "      <td>False</td>\n",
       "      <td>False</td>\n",
       "      <td>False</td>\n",
       "      <td>False</td>\n",
       "      <td>True</td>\n",
       "      <td>False</td>\n",
       "      <td>True</td>\n",
       "      <td>False</td>\n",
       "    </tr>\n",
       "    <tr>\n",
       "      <th>1</th>\n",
       "      <td>False</td>\n",
       "      <td>False</td>\n",
       "      <td>False</td>\n",
       "      <td>False</td>\n",
       "      <td>False</td>\n",
       "      <td>False</td>\n",
       "      <td>False</td>\n",
       "      <td>False</td>\n",
       "      <td>False</td>\n",
       "      <td>False</td>\n",
       "      <td>...</td>\n",
       "      <td>False</td>\n",
       "      <td>False</td>\n",
       "      <td>False</td>\n",
       "      <td>False</td>\n",
       "      <td>False</td>\n",
       "      <td>False</td>\n",
       "      <td>True</td>\n",
       "      <td>False</td>\n",
       "      <td>True</td>\n",
       "      <td>False</td>\n",
       "    </tr>\n",
       "    <tr>\n",
       "      <th>2</th>\n",
       "      <td>False</td>\n",
       "      <td>False</td>\n",
       "      <td>False</td>\n",
       "      <td>False</td>\n",
       "      <td>False</td>\n",
       "      <td>False</td>\n",
       "      <td>False</td>\n",
       "      <td>False</td>\n",
       "      <td>False</td>\n",
       "      <td>False</td>\n",
       "      <td>...</td>\n",
       "      <td>False</td>\n",
       "      <td>False</td>\n",
       "      <td>False</td>\n",
       "      <td>False</td>\n",
       "      <td>False</td>\n",
       "      <td>False</td>\n",
       "      <td>True</td>\n",
       "      <td>False</td>\n",
       "      <td>True</td>\n",
       "      <td>False</td>\n",
       "    </tr>\n",
       "    <tr>\n",
       "      <th>3</th>\n",
       "      <td>False</td>\n",
       "      <td>True</td>\n",
       "      <td>False</td>\n",
       "      <td>False</td>\n",
       "      <td>False</td>\n",
       "      <td>False</td>\n",
       "      <td>False</td>\n",
       "      <td>False</td>\n",
       "      <td>False</td>\n",
       "      <td>False</td>\n",
       "      <td>...</td>\n",
       "      <td>False</td>\n",
       "      <td>False</td>\n",
       "      <td>False</td>\n",
       "      <td>False</td>\n",
       "      <td>False</td>\n",
       "      <td>False</td>\n",
       "      <td>True</td>\n",
       "      <td>False</td>\n",
       "      <td>False</td>\n",
       "      <td>False</td>\n",
       "    </tr>\n",
       "    <tr>\n",
       "      <th>4</th>\n",
       "      <td>False</td>\n",
       "      <td>False</td>\n",
       "      <td>False</td>\n",
       "      <td>False</td>\n",
       "      <td>False</td>\n",
       "      <td>False</td>\n",
       "      <td>False</td>\n",
       "      <td>False</td>\n",
       "      <td>False</td>\n",
       "      <td>False</td>\n",
       "      <td>...</td>\n",
       "      <td>False</td>\n",
       "      <td>False</td>\n",
       "      <td>False</td>\n",
       "      <td>False</td>\n",
       "      <td>False</td>\n",
       "      <td>False</td>\n",
       "      <td>False</td>\n",
       "      <td>False</td>\n",
       "      <td>False</td>\n",
       "      <td>False</td>\n",
       "    </tr>\n",
       "  </tbody>\n",
       "</table>\n",
       "<p>5 rows × 138 columns</p>\n",
       "</div>"
      ],
      "text/plain": [
       "    10th   11th   12th     17     18     19  1st-4th     20     21     22  \\\n",
       "0  False  False  False  False  False  False    False  False  False  False   \n",
       "1  False  False  False  False  False  False    False  False  False  False   \n",
       "2  False  False  False  False  False  False    False  False  False  False   \n",
       "3  False   True  False  False  False  False    False  False  False  False   \n",
       "4  False  False  False  False  False  False    False  False  False  False   \n",
       "\n",
       "   ...  Scotland  Some-college  South  Taiwan  Thailand  Trinadad&Tobago  \\\n",
       "0  ...     False         False  False   False     False            False   \n",
       "1  ...     False         False  False   False     False            False   \n",
       "2  ...     False         False  False   False     False            False   \n",
       "3  ...     False         False  False   False     False            False   \n",
       "4  ...     False         False  False   False     False            False   \n",
       "\n",
       "   United-States  Vietnam  White  Yugoslavia  \n",
       "0           True    False   True       False  \n",
       "1           True    False   True       False  \n",
       "2           True    False   True       False  \n",
       "3           True    False  False       False  \n",
       "4          False    False  False       False  \n",
       "\n",
       "[5 rows x 138 columns]"
      ]
     },
     "execution_count": 142,
     "metadata": {},
     "output_type": "execute_result"
    }
   ],
   "source": [
    "#Transform to input needed for frequent itemsets\n",
    "te = TransactionEncoder()\n",
    "te_ary = te.fit(sets).transform(sets)\n",
    "df = pd.DataFrame(te_ary, columns=te.columns_)\n",
    "df.head()\n"
   ]
  },
  {
   "cell_type": "code",
   "execution_count": null,
   "id": "33f0de92-510c-4391-b8f1-3bbcf763c750",
   "metadata": {
    "id": "33f0de92-510c-4391-b8f1-3bbcf763c750",
    "outputId": "3e1bae4b-d1f6-476b-975b-8dec4164aa67"
   },
   "outputs": [
    {
     "data": {
      "text/html": [
       "<div>\n",
       "<style scoped>\n",
       "    .dataframe tbody tr th:only-of-type {\n",
       "        vertical-align: middle;\n",
       "    }\n",
       "\n",
       "    .dataframe tbody tr th {\n",
       "        vertical-align: top;\n",
       "    }\n",
       "\n",
       "    .dataframe thead th {\n",
       "        text-align: right;\n",
       "    }\n",
       "</style>\n",
       "<table border=\"1\" class=\"dataframe\">\n",
       "  <thead>\n",
       "    <tr style=\"text-align: right;\">\n",
       "      <th></th>\n",
       "      <th>support</th>\n",
       "      <th>itemsets</th>\n",
       "    </tr>\n",
       "  </thead>\n",
       "  <tbody>\n",
       "    <tr>\n",
       "      <th>0</th>\n",
       "      <td>0.895857</td>\n",
       "      <td>(United-States)</td>\n",
       "    </tr>\n",
       "    <tr>\n",
       "      <th>1</th>\n",
       "      <td>0.854274</td>\n",
       "      <td>(White)</td>\n",
       "    </tr>\n",
       "    <tr>\n",
       "      <th>138</th>\n",
       "      <td>0.786862</td>\n",
       "      <td>(United-States, White)</td>\n",
       "    </tr>\n",
       "    <tr>\n",
       "      <th>2</th>\n",
       "      <td>0.669205</td>\n",
       "      <td>(Male)</td>\n",
       "    </tr>\n",
       "    <tr>\n",
       "      <th>139</th>\n",
       "      <td>0.598507</td>\n",
       "      <td>(United-States, Male)</td>\n",
       "    </tr>\n",
       "  </tbody>\n",
       "</table>\n",
       "</div>"
      ],
      "text/plain": [
       "      support                itemsets\n",
       "0    0.895857         (United-States)\n",
       "1    0.854274                 (White)\n",
       "138  0.786862  (United-States, White)\n",
       "2    0.669205                  (Male)\n",
       "139  0.598507   (United-States, Male)"
      ]
     },
     "execution_count": 165,
     "metadata": {},
     "output_type": "execute_result"
    }
   ],
   "source": [
    "items1=fpgrowth(df, min_support=0.000005, use_colnames=True)\n",
    "items1=items1.sort_values(['support'],ascending =[False])\n",
    "items1.head()"
   ]
  },
  {
   "cell_type": "code",
   "execution_count": null,
   "id": "2bfeb909-f7af-4ce8-b162-ef63b8d0ce9e",
   "metadata": {
    "colab": {
     "base_uri": "https://localhost:8080/",
     "height": 239
    },
    "executionInfo": {
     "elapsed": 961,
     "status": "error",
     "timestamp": 1670942826724,
     "user": {
      "displayName": "Loukas Kavouras",
      "userId": "13341671914165354010"
     },
     "user_tz": -120
    },
    "id": "2bfeb909-f7af-4ce8-b162-ef63b8d0ce9e",
    "outputId": "98b14453-3eeb-4e0e-e42f-699ad3bc6b00"
   },
   "outputs": [
    {
     "ename": "NameError",
     "evalue": "ignored",
     "output_type": "error",
     "traceback": [
      "\u001b[0;31m---------------------------------------------------------------------------\u001b[0m",
      "\u001b[0;31mNameError\u001b[0m                                 Traceback (most recent call last)",
      "\u001b[0;32m<ipython-input-1-0083fef1f73a>\u001b[0m in \u001b[0;36m<module>\u001b[0;34m\u001b[0m\n\u001b[0;32m----> 1\u001b[0;31m \u001b[0mitems2\u001b[0m \u001b[0;34m=\u001b[0m \u001b[0mapriori\u001b[0m\u001b[0;34m(\u001b[0m\u001b[0mdf\u001b[0m\u001b[0;34m,\u001b[0m \u001b[0mmin_support\u001b[0m \u001b[0;34m=\u001b[0m \u001b[0;36m0.01\u001b[0m\u001b[0;34m,\u001b[0m \u001b[0muse_colnames\u001b[0m \u001b[0;34m=\u001b[0m \u001b[0;32mTrue\u001b[0m\u001b[0;34m)\u001b[0m\u001b[0;34m\u001b[0m\u001b[0;34m\u001b[0m\u001b[0m\n\u001b[0m\u001b[1;32m      2\u001b[0m \u001b[0mitems1\u001b[0m\u001b[0;34m=\u001b[0m\u001b[0mitems1\u001b[0m\u001b[0;34m.\u001b[0m\u001b[0msort_values\u001b[0m\u001b[0;34m(\u001b[0m\u001b[0;34m[\u001b[0m\u001b[0;34m'support'\u001b[0m\u001b[0;34m]\u001b[0m\u001b[0;34m,\u001b[0m\u001b[0mascending\u001b[0m \u001b[0;34m=\u001b[0m\u001b[0;34m[\u001b[0m\u001b[0;32mFalse\u001b[0m\u001b[0;34m]\u001b[0m\u001b[0;34m)\u001b[0m\u001b[0;34m\u001b[0m\u001b[0;34m\u001b[0m\u001b[0m\n\u001b[1;32m      3\u001b[0m \u001b[0mitems1\u001b[0m\u001b[0;34m.\u001b[0m\u001b[0mhead\u001b[0m\u001b[0;34m(\u001b[0m\u001b[0;34m)\u001b[0m\u001b[0;34m\u001b[0m\u001b[0;34m\u001b[0m\u001b[0m\n\u001b[1;32m      4\u001b[0m \u001b[0;34m\u001b[0m\u001b[0m\n\u001b[1;32m      5\u001b[0m \u001b[0;31m# rules = association_rules(items2, metric =\"lift\", min_threshold = 1)\u001b[0m\u001b[0;34m\u001b[0m\u001b[0;34m\u001b[0m\u001b[0;34m\u001b[0m\u001b[0m\n",
      "\u001b[0;31mNameError\u001b[0m: name 'apriori' is not defined"
     ]
    }
   ],
   "source": [
    "items2 = apriori(df, min_support = 0.01, use_colnames = True)\n",
    "items1=items1.sort_values(['support'],ascending =[False])\n",
    "items1.head()\n",
    "\n",
    "# rules = association_rules(items2, metric =\"lift\", min_threshold = 1)\n",
    "# rules = rules.sort_values(['confidence', 'lift'], ascending =[False, False])\n",
    "# print(rules.head())"
   ]
  },
  {
   "cell_type": "code",
   "execution_count": null,
   "id": "ec3a7ab2-f45d-4810-b739-81a5f37ec799",
   "metadata": {
    "id": "ec3a7ab2-f45d-4810-b739-81a5f37ec799"
   },
   "outputs": [],
   "source": []
  }
 ],
 "metadata": {
  "colab": {
   "provenance": []
  },
  "kernelspec": {
   "display_name": "Python 3 (ipykernel)",
   "language": "python",
   "name": "python3"
  },
  "language_info": {
   "codemirror_mode": {
    "name": "ipython",
    "version": 3
   },
   "file_extension": ".py",
   "mimetype": "text/x-python",
   "name": "python",
   "nbconvert_exporter": "python",
   "pygments_lexer": "ipython3",
   "version": "3.9.15"
  }
 },
 "nbformat": 4,
 "nbformat_minor": 5
}
